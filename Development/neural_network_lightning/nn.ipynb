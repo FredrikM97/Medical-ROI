{
 "cells": [
  {
   "cell_type": "code",
   "execution_count": 1,
   "id": "digital-coast",
   "metadata": {},
   "outputs": [],
   "source": [
    "%load_ext autoreload\n",
    "%autoreload 2"
   ]
  },
  {
   "cell_type": "code",
   "execution_count": 2,
   "id": "embedded-bradley",
   "metadata": {},
   "outputs": [],
   "source": [
    "from ml_lightning import Agent\n",
    "# Note: Assume the following: (batch_size, channel, height, width, depth)"
   ]
  },
  {
   "cell_type": "code",
   "execution_count": 3,
   "id": "impressive-checkout",
   "metadata": {},
   "outputs": [
    {
     "name": "stdout",
     "output_type": "stream",
     "text": [
      "Setup configurations...\n",
      "model [LightningModel] was created\n"
     ]
    },
    {
     "name": "stderr",
     "output_type": "stream",
     "text": [
      "GPU available: True, used: True\n",
      "TPU available: None, using: 0 TPU cores\n",
      "LOCAL_RANK: 0 - CUDA_VISIBLE_DEVICES: [0]\n"
     ]
    },
    {
     "name": "stdout",
     "output_type": "stream",
     "text": [
      "asdas 2\n",
      "Size of:\n",
      "\tTrainset: 121\n",
      "\tValset: 14\n"
     ]
    }
   ],
   "source": [
    "agent = Agent('ligtning')"
   ]
  },
  {
   "cell_type": "code",
   "execution_count": null,
   "id": "bright-prize",
   "metadata": {},
   "outputs": [
    {
     "name": "stderr",
     "output_type": "stream",
     "text": [
      "\n",
      "  | Name        | Type             | Params\n",
      "-------------------------------------------------\n",
      "0 | conv_layer1 | Sequential       | 896   \n",
      "1 | conv_layer2 | Sequential       | 55.4 K\n",
      "2 | fc1         | Linear           | 58.4 M\n",
      "3 | fc2         | Linear           | 387   \n",
      "4 | relu        | LeakyReLU        | 0     \n",
      "5 | batch       | BatchNorm1d      | 256   \n",
      "6 | drop        | Dropout          | 0     \n",
      "7 | loss        | CrossEntropyLoss | 0     \n",
      "-------------------------------------------------\n",
      "58.4 M    Trainable params\n",
      "0         Non-trainable params\n",
      "58.4 M    Total params\n"
     ]
    },
    {
     "name": "stdout",
     "output_type": "stream",
     "text": [
      "Epoch 24 [12/121] 'loss': '0.737', 'v_num': 22\r"
     ]
    }
   ],
   "source": [
    "agent.fit()"
   ]
  },
  {
   "cell_type": "code",
   "execution_count": null,
   "id": "vanilla-spread",
   "metadata": {},
   "outputs": [],
   "source": []
  }
 ],
 "metadata": {
  "kernelspec": {
   "display_name": "Master-thesis",
   "language": "python",
   "name": "master-thesis"
  },
  "language_info": {
   "codemirror_mode": {
    "name": "ipython",
    "version": 3
   },
   "file_extension": ".py",
   "mimetype": "text/x-python",
   "name": "python",
   "nbconvert_exporter": "python",
   "pygments_lexer": "ipython3",
   "version": "3.9.1"
  }
 },
 "nbformat": 4,
 "nbformat_minor": 5
}
