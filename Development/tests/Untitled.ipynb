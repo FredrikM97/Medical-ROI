{
 "cells": [
  {
   "cell_type": "code",
   "execution_count": 1,
   "id": "criminal-honolulu",
   "metadata": {},
   "outputs": [],
   "source": [
    "import test_adni"
   ]
  },
  {
   "cell_type": "code",
   "execution_count": 2,
   "id": "fallen-converter",
   "metadata": {},
   "outputs": [],
   "source": [
    "import sys\n",
    "sys.path.append('..')"
   ]
  },
  {
   "cell_type": "code",
   "execution_count": 3,
   "id": "economic-backing",
   "metadata": {},
   "outputs": [],
   "source": [
    "from utils import Adni"
   ]
  },
  {
   "cell_type": "code",
   "execution_count": 4,
   "id": "confused-penetration",
   "metadata": {},
   "outputs": [],
   "source": [
    "adni = Adni()"
   ]
  },
  {
   "cell_type": "code",
   "execution_count": 5,
   "id": "elementary-cattle",
   "metadata": {},
   "outputs": [
    {
     "data": {
      "text/plain": [
       "dict_keys(['root', 'AD', 'CN', 'MCI'])"
      ]
     },
     "execution_count": 5,
     "metadata": {},
     "output_type": "execute_result"
    }
   ],
   "source": [
    "adni.path.disorders.get().keys()"
   ]
  },
  {
   "cell_type": "code",
   "execution_count": 11,
   "id": "absent-review",
   "metadata": {},
   "outputs": [
    {
     "data": {
      "text/plain": [
       "\"Copy files: \\n\\troot: <class 'str'>\\n\\tAD: <class 'str'>\\n\\tCN: <class 'str'>\\n\\tMCI: <class 'str'>\""
      ]
     },
     "execution_count": 11,
     "metadata": {},
     "output_type": "execute_result"
    }
   ],
   "source": [
    "path = adni.path.disorders\n",
    "f\"Copy files: \\n\\t\"+ \"\\n\\t\".join([f'{key}: {path.get(key)}' for key in path.get().keys()])"
   ]
  },
  {
   "cell_type": "code",
   "execution_count": 18,
   "id": "ideal-safety",
   "metadata": {},
   "outputs": [
    {
     "data": {
      "text/plain": [
       "{'root': '/home/fredrik/Documents/School/Master-thesis/Development/data/SPM_categorised',\n",
       " 'AD': '/home/fredrik/Documents/School/Master-thesis/Development/data/SPM_categorised/AD',\n",
       " 'CN': '/home/fredrik/Documents/School/Master-thesis/Development/data/SPM_categorised/CN',\n",
       " 'MCI': '/home/fredrik/Documents/School/Master-thesis/Development/data/SPM_categorised/MCI'}"
      ]
     },
     "execution_count": 18,
     "metadata": {},
     "output_type": "execute_result"
    }
   ],
   "source": [
    "path.__dict__"
   ]
  },
  {
   "cell_type": "code",
   "execution_count": 6,
   "id": "guilty-orlando",
   "metadata": {},
   "outputs": [
    {
     "data": {
      "text/plain": [
       "str"
      ]
     },
     "execution_count": 6,
     "metadata": {},
     "output_type": "execute_result"
    }
   ],
   "source": [
    "adni.path.disorders.get('AD')"
   ]
  },
  {
   "cell_type": "code",
   "execution_count": 7,
   "id": "capable-guyana",
   "metadata": {},
   "outputs": [
    {
     "data": {
      "text/plain": [
       "'/home/fredrik/Documents/School/Master-thesis/Development/data/SPM_categorised/AD'"
      ]
     },
     "execution_count": 7,
     "metadata": {},
     "output_type": "execute_result"
    }
   ],
   "source": [
    "adni.path.disorders.AD"
   ]
  },
  {
   "cell_type": "code",
   "execution_count": 8,
   "id": "every-comedy",
   "metadata": {},
   "outputs": [
    {
     "data": {
      "text/plain": [
       "'/home/fredrik/Documents/School/Master-thesis/Development/data/meta'"
      ]
     },
     "execution_count": 8,
     "metadata": {},
     "output_type": "execute_result"
    }
   ],
   "source": [
    "adni.path.meta"
   ]
  },
  {
   "cell_type": "code",
   "execution_count": null,
   "id": "serious-scroll",
   "metadata": {},
   "outputs": [],
   "source": []
  }
 ],
 "metadata": {
  "kernelspec": {
   "display_name": "Master-thesis",
   "language": "python",
   "name": "master-thesis"
  },
  "language_info": {
   "codemirror_mode": {
    "name": "ipython",
    "version": 3
   },
   "file_extension": ".py",
   "mimetype": "text/x-python",
   "name": "python",
   "nbconvert_exporter": "python",
   "pygments_lexer": "ipython3",
   "version": "3.8.6"
  }
 },
 "nbformat": 4,
 "nbformat_minor": 5
}
