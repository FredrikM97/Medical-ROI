{
 "cells": [
  {
   "cell_type": "code",
   "execution_count": 1,
   "id": "individual-writing",
   "metadata": {},
   "outputs": [],
   "source": [
    "#%matplotlib widget"
   ]
  },
  {
   "cell_type": "code",
   "execution_count": 2,
   "id": "compound-dover",
   "metadata": {},
   "outputs": [],
   "source": [
    "%load_ext autoreload\n",
    "%autoreload 2"
   ]
  },
  {
   "cell_type": "code",
   "execution_count": 3,
   "id": "renewable-employer",
   "metadata": {},
   "outputs": [],
   "source": [
    "import torch\n",
    "import torch.nn as nn\n",
    "#from neural_network.cam.cams import SmoothGradCAMpp, SSCAM, ScoreCAM\n",
    "from neural_network.trainer import Agent\n",
    "from neural_network.utils.utils import interactive_slices,interactive_slices_masked\n",
    "from skimage.transform import resize"
   ]
  },
  {
   "cell_type": "code",
   "execution_count": 4,
   "id": "rental-season",
   "metadata": {},
   "outputs": [
    {
     "name": "stdout",
     "output_type": "stream",
     "text": [
      "Setup configurations...\n",
      "Dataset sizes - Training: 421 Validation: 47 Test: 0\n",
      "Architecture [ResNet] was created\n",
      "Model [LightningModel] was created\n"
     ]
    },
    {
     "name": "stderr",
     "output_type": "stream",
     "text": [
      "GPU available: True, used: True\n",
      "TPU available: None, using: 0 TPU cores\n",
      "Using native 16bit precision.\n"
     ]
    }
   ],
   "source": [
    "agent = Agent('resnet50');"
   ]
  },
  {
   "cell_type": "code",
   "execution_count": null,
   "id": "saving-information",
   "metadata": {},
   "outputs": [
    {
     "name": "stderr",
     "output_type": "stream",
     "text": [
      "initializing ddp: GLOBAL_RANK: 0, MEMBER: 1/1\n",
      "\n",
      "  | Name  | Type   | Params\n",
      "---------------------------------\n",
      "0 | model | ResNet | 46.2 M\n",
      "---------------------------------\n",
      "46.2 M    Trainable params\n",
      "0         Non-trainable params\n",
      "46.2 M    Total params\n",
      "184.645   Total estimated model params size (MB)\n"
     ]
    },
    {
     "name": "stdout",
     "output_type": "stream",
     "text": [
      "\n",
      "Epoch 1 [16/71] {'loss': '1.39'}\r"
     ]
    }
   ],
   "source": [
    "agent.fit()"
   ]
  },
  {
   "cell_type": "code",
   "execution_count": null,
   "id": "careful-formula",
   "metadata": {},
   "outputs": [],
   "source": [
    "agent.model;"
   ]
  },
  {
   "cell_type": "code",
   "execution_count": null,
   "id": "unknown-mouth",
   "metadata": {},
   "outputs": [],
   "source": [
    "val_iter = iter(agent.dataset.val_dataloader())"
   ]
  },
  {
   "cell_type": "code",
   "execution_count": null,
   "id": "demanding-obligation",
   "metadata": {},
   "outputs": [],
   "source": [
    "first_image, first_label = next(val_iter)"
   ]
  },
  {
   "cell_type": "code",
   "execution_count": null,
   "id": "touched-recorder",
   "metadata": {},
   "outputs": [],
   "source": [
    "# Import M3d-CAM\n",
    "from medcam import medcam\n",
    "\n",
    "# Init your model and dataloader\n",
    "model = agent.model\n",
    "data_loader = agent.dataset.val_dataloader()\n",
    "\n",
    "# Inject model with M3d-CAM\n",
    "model = medcam.inject(model, backend='gcampp',output_dir=\"attention_maps\", label=0,layer='model.layer4',save_maps=True,data_shape=(79,224,224))\n",
    "\n",
    "model.eval()\n",
    "output = model(first_image[0].unsqueeze(0))"
   ]
  },
  {
   "cell_type": "code",
   "execution_count": null,
   "id": "animal-causing",
   "metadata": {},
   "outputs": [],
   "source": [
    "darp = medcam.medcam_utils.normalize(model.medcam_dict['current_attention_map'])\n",
    "darp = resize(darp.squeeze(0).squeeze(0),(79,224,224))"
   ]
  },
  {
   "cell_type": "code",
   "execution_count": null,
   "id": "modified-apollo",
   "metadata": {},
   "outputs": [],
   "source": [
    "%matplotlib widget"
   ]
  },
  {
   "cell_type": "code",
   "execution_count": null,
   "id": "popular-classics",
   "metadata": {},
   "outputs": [],
   "source": [
    "model.eval()\n",
    "plt.close()\n",
    "#for first_image, first_label in agent.dataset.val_dataloader():\n",
    "\n",
    "output = model(first_image[0].unsqueeze(0))\n",
    "\n",
    "asd = interactive_slices_masked()\n",
    "asd.multi_slice_viewer(first_image[0],darp)\n",
    "#asd.cycle(0.3)"
   ]
  },
  {
   "cell_type": "code",
   "execution_count": null,
   "id": "honest-malpractice",
   "metadata": {},
   "outputs": [],
   "source": []
  },
  {
   "cell_type": "code",
   "execution_count": null,
   "id": "sealed-administrator",
   "metadata": {},
   "outputs": [],
   "source": [
    "import numpy as np\n",
    "import matplotlib.pyplot as plt\n",
    "fig = plt.figure()\n",
    "plt.imshow((first_image[0].squeeze(0)[50] * 255).numpy().astype(np.uint8), cmap='gray')\n",
    "plt.imshow((darp[50] * 255).astype(np.uint8), cmap='jet', alpha=0.3)\n",
    "\n",
    "plt.show()"
   ]
  },
  {
   "cell_type": "code",
   "execution_count": null,
   "id": "greatest-roulette",
   "metadata": {},
   "outputs": [],
   "source": [
    "from neural_network.utils.utils import interactive_slices\n",
    "testplot = interactive_slices()\n",
    "testplot.multi_slice_viewer(darp)"
   ]
  },
  {
   "cell_type": "code",
   "execution_count": null,
   "id": "environmental-portable",
   "metadata": {},
   "outputs": [],
   "source": [
    "from neural_network.cam.cam import SmoothGradCAMpp"
   ]
  },
  {
   "cell_type": "code",
   "execution_count": null,
   "id": "accompanied-november",
   "metadata": {},
   "outputs": [],
   "source": [
    "wrapped_model = SmoothGradCAMpp(model,target_layer=model.model.layer4[1].conv2)"
   ]
  },
  {
   "cell_type": "code",
   "execution_count": null,
   "id": "surprised-equality",
   "metadata": {},
   "outputs": [],
   "source": [
    "first_image[0].unsqueeze(0).shape"
   ]
  },
  {
   "cell_type": "code",
   "execution_count": null,
   "id": "metropolitan-traveler",
   "metadata": {},
   "outputs": [],
   "source": [
    "model.eval()\n",
    "cam, idx = wrapped_model(first_image[0].unsqueeze(0))"
   ]
  },
  {
   "cell_type": "code",
   "execution_count": null,
   "id": "sitting-brother",
   "metadata": {},
   "outputs": [],
   "source": []
  }
 ],
 "metadata": {
  "kernelspec": {
   "display_name": "Master-thesis",
   "language": "python",
   "name": "master-thesis"
  },
  "language_info": {
   "codemirror_mode": {
    "name": "ipython",
    "version": 3
   },
   "file_extension": ".py",
   "mimetype": "text/x-python",
   "name": "python",
   "nbconvert_exporter": "python",
   "pygments_lexer": "ipython3",
   "version": "3.9.2"
  }
 },
 "nbformat": 4,
 "nbformat_minor": 5
}
