{
 "cells": [
  {
   "cell_type": "code",
   "execution_count": null,
   "id": "sonic-restoration",
   "metadata": {},
   "outputs": [],
   "source": [
    "#%matplotlib widget"
   ]
  },
  {
   "cell_type": "code",
   "execution_count": 2,
   "id": "proved-peninsula",
   "metadata": {},
   "outputs": [],
   "source": [
    "%load_ext autoreload\n",
    "%autoreload 2"
   ]
  },
  {
   "cell_type": "code",
   "execution_count": 3,
   "id": "secure-queue",
   "metadata": {},
   "outputs": [],
   "source": [
    "import torch\n",
    "import torch.nn as nn\n",
    "from neural_network.cam.cams import SmoothGradCAMpp, SSCAM, ScoreCAM\n",
    "from neural_network.trainer import Agent\n",
    "from neural_network.utils.utils import interactive_slices,interactive_slices_masked\n",
    "from skimage.transform import resize"
   ]
  },
  {
   "cell_type": "code",
   "execution_count": 4,
   "id": "empirical-headset",
   "metadata": {},
   "outputs": [
    {
     "name": "stdout",
     "output_type": "stream",
     "text": [
      "Setup configurations...\n",
      "Dataset sizes - Training: 421 Validation: 47 Test: 0\n",
      "architecture [ResNet] was created\n",
      "model [LightningModel] was created\n"
     ]
    },
    {
     "name": "stderr",
     "output_type": "stream",
     "text": [
      "GPU available: True, used: True\n",
      "TPU available: None, using: 0 TPU cores\n",
      "Using native 16bit precision.\n"
     ]
    }
   ],
   "source": [
    "agent = Agent('resnet50');"
   ]
  },
  {
   "cell_type": "code",
   "execution_count": null,
   "id": "continent-aggregate",
   "metadata": {},
   "outputs": [
    {
     "name": "stderr",
     "output_type": "stream",
     "text": [
      "initializing ddp: GLOBAL_RANK: 0, MEMBER: 1/1\n",
      "\n",
      "  | Name  | Type   | Params\n",
      "---------------------------------\n",
      "0 | model | ResNet | 46.2 M\n",
      "---------------------------------\n",
      "46.2 M    Trainable params\n",
      "0         Non-trainable params\n",
      "46.2 M    Total params\n",
      "184.645   Total estimated model params size (MB)\n"
     ]
    },
    {
     "name": "stdout",
     "output_type": "stream",
     "text": [
      "\n",
      "Epoch 1 [71/71] {'loss': '1.16'}\n",
      "Epoch 2 [71/71] {'loss': '1.14'}\n",
      "Epoch 3 [71/71] {'loss': '1.07'}}\n",
      "Epoch 4 [71/71] {'loss': '1.21'}}\n",
      "Epoch 5 [71/71] {'loss': '1.02'}}\n",
      "Epoch 6 [71/71] {'loss': '0.973'}\n",
      "Epoch 7 [71/71] {'loss': '0.856'}\n",
      "Epoch 8 [71/71] {'loss': '0.826'}\n",
      "Epoch 9 [71/71] {'loss': '0.837'}\n",
      "Epoch 10 [71/71] {'loss': '0.792'}\n",
      "Epoch 11 [63/71] {'loss': '0.749'}\r"
     ]
    }
   ],
   "source": [
    "agent.fit()"
   ]
  },
  {
   "cell_type": "code",
   "execution_count": null,
   "id": "preceding-infrared",
   "metadata": {},
   "outputs": [],
   "source": [
    "agent.model;"
   ]
  },
  {
   "cell_type": "code",
   "execution_count": null,
   "id": "generic-boutique",
   "metadata": {},
   "outputs": [],
   "source": [
    "val_iter = iter(agent.dataset.val_dataloader())"
   ]
  },
  {
   "cell_type": "code",
   "execution_count": null,
   "id": "statistical-delivery",
   "metadata": {},
   "outputs": [],
   "source": [
    "first_image, first_label = next(val_iter)"
   ]
  },
  {
   "cell_type": "code",
   "execution_count": null,
   "id": "armed-financing",
   "metadata": {},
   "outputs": [],
   "source": [
    "# Import M3d-CAM\n",
    "from medcam import medcam\n",
    "\n",
    "# Init your model and dataloader\n",
    "model = agent.model\n",
    "data_loader = agent.dataset.val_dataloader()\n",
    "\n",
    "# Inject model with M3d-CAM\n",
    "model = medcam.inject(model, backend='gcampp',output_dir=\"attention_maps\", layer='model.layer4',save_maps=True,data_shape=(79,224,224))\n",
    "\n",
    "model.eval()\n",
    "output = model(first_image[0].unsqueeze(0))"
   ]
  },
  {
   "cell_type": "code",
   "execution_count": null,
   "id": "effective-conservation",
   "metadata": {},
   "outputs": [],
   "source": [
    "darp = medcam.medcam_utils.normalize(model.medcam_dict['current_attention_map'])\n",
    "darp = resize(darp.squeeze(0).squeeze(0),(79,224,224))"
   ]
  },
  {
   "cell_type": "code",
   "execution_count": null,
   "id": "internal-request",
   "metadata": {},
   "outputs": [],
   "source": [
    "import numpy as np\n",
    "fig = plt.figure()\n",
    "plt.imshow((first_image[0].squeeze(0)[50] * 255).numpy().astype(np.uint8), cmap='gray')\n",
    "plt.imshow((darp[50] * 255).astype(np.uint8), cmap='jet', alpha=0.3)\n",
    "\n",
    "plt.show()"
   ]
  },
  {
   "cell_type": "code",
   "execution_count": null,
   "id": "foreign-scheme",
   "metadata": {},
   "outputs": [],
   "source": [
    "from neural_network.utils.utils import interactive_slices\n",
    "testplot = interactive_slices()\n",
    "testplot.multi_slice_viewer(darp)"
   ]
  },
  {
   "cell_type": "code",
   "execution_count": null,
   "id": "varied-information",
   "metadata": {},
   "outputs": [],
   "source": [
    "asd = interactive_slices_masked()\n",
    "asd.multi_slice_viewer(first_image[5],darp)"
   ]
  },
  {
   "cell_type": "code",
   "execution_count": null,
   "id": "ranking-immigration",
   "metadata": {},
   "outputs": [],
   "source": [
    "asd.cycle(0.1)"
   ]
  },
  {
   "cell_type": "code",
   "execution_count": null,
   "id": "stunning-syndicate",
   "metadata": {},
   "outputs": [],
   "source": []
  }
 ],
 "metadata": {
  "kernelspec": {
   "display_name": "Master-thesis",
   "language": "python",
   "name": "master-thesis"
  },
  "language_info": {
   "codemirror_mode": {
    "name": "ipython",
    "version": 3
   },
   "file_extension": ".py",
   "mimetype": "text/x-python",
   "name": "python",
   "nbconvert_exporter": "python",
   "pygments_lexer": "ipython3",
   "version": "3.9.2"
  }
 },
 "nbformat": 4,
 "nbformat_minor": 5
}
