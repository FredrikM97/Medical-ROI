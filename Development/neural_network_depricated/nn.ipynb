{
 "cells": [
  {
   "cell_type": "code",
   "execution_count": 1,
   "id": "effective-norwegian",
   "metadata": {},
   "outputs": [],
   "source": [
    "%load_ext autoreload\n",
    "%autoreload 2"
   ]
  },
  {
   "cell_type": "code",
   "execution_count": 2,
   "id": "gorgeous-isolation",
   "metadata": {},
   "outputs": [],
   "source": [
    "from ml_agent import Agent\n",
    "# Note: Assume the following: (batch_size, channel, height, width, depth)"
   ]
  },
  {
   "cell_type": "code",
   "execution_count": 3,
   "id": "coated-thomas",
   "metadata": {},
   "outputs": [
    {
     "name": "stdout",
     "output_type": "stream",
     "text": [
      "Setup configurations...\n",
      "model [SegmentationVGG163DModel] was created\n",
      "dataset [Segmentation3DDataset] was created\n",
      "dataset [Segmentation3DDataset] was created\n"
     ]
    }
   ],
   "source": [
    "agent = Agent('segmentation_vgg16_3d_model_1')"
   ]
  },
  {
   "cell_type": "code",
   "execution_count": 4,
   "id": "inner-limit",
   "metadata": {},
   "outputs": [
    {
     "name": "stdout",
     "output_type": "stream",
     "text": [
      "use_cuda: True            \n",
      "device: cuda:0            \n",
      "save_dir:             \n",
      "optimizers: [Adam (\n",
      "Parameter Group 0\n",
      "    amsgrad: False\n",
      "    betas: (0.9, 0.999)\n",
      "    eps: 1e-08\n",
      "    initial_lr: 0.01\n",
      "    lr: 0.01\n",
      "    weight_decay: 0\n",
      ")]            \n",
      "metrics: {}            \n",
      "loss: CrossEntropyLoss()            \n"
     ]
    }
   ],
   "source": [
    "agent.model.print_info()"
   ]
  },
  {
   "cell_type": "code",
   "execution_count": 5,
   "id": "average-newman",
   "metadata": {},
   "outputs": [
    {
     "name": "stdout",
     "output_type": "stream",
     "text": [
      "Start training...\n",
      "[0/40] Loss: 1.088261365890503 Metrics dict_items([]): \n",
      "[1/40] Loss: 0.0584564208984375 Metrics dict_items([]): \n",
      "[2/40] Loss: 0.02267158031463623 Metrics dict_items([]): \n",
      "[3/40] Loss: 0.013226747512817383 Metrics dict_items([]): \n",
      "[4/40] Loss: 0.011987686157226562 Metrics dict_items([]): \n",
      "[5/40] Loss: 0.0046041011810302734 Metrics dict_items([]): \n",
      "[6/40] Loss: 0.0020322799682617188 Metrics dict_items([]): \n",
      "[7/40] Loss: 0.0011489391326904297 Metrics dict_items([]): \n",
      "[8/40] Loss: 0.0007157325744628906 Metrics dict_items([]): \n",
      "[9/40] Loss: 0.0005443096160888672 Metrics dict_items([]): \n",
      "[10/40] Loss: 0.0002582073211669922 Metrics dict_items([]): \n",
      "[11/40] Loss: 0.00027942657470703125 Metrics dict_items([]): \n",
      "[12/40] Loss: 0.00026988983154296875 Metrics dict_items([]): \n",
      "[13/40] Loss: 0.00016880035400390625 Metrics dict_items([]): \n",
      "[14/40] Loss: 0.0001685619354248047 Metrics dict_items([]): \n",
      "[15/40] Loss: 0.00014543533325195312 Metrics dict_items([]): \n",
      "[16/40] Loss: 0.00028824806213378906 Metrics dict_items([]): \n",
      "[17/40] Loss: 0.0002770423889160156 Metrics dict_items([]): \n",
      "[18/40] Loss: 0.00036454200744628906 Metrics dict_items([]): \n",
      "[19/40] Loss: 0.00014781951904296875 Metrics dict_items([]): \n",
      "[20/40] Loss: 0.0002617835998535156 Metrics dict_items([]): \n",
      "[21/40] Loss: 0.00022673606872558594 Metrics dict_items([]): \n",
      "[22/40] Loss: 0.0001735687255859375 Metrics dict_items([]): \n",
      "[23/40] Loss: 0.00018739700317382812 Metrics dict_items([]): \n",
      "[24/40] Loss: 0.0003771781921386719 Metrics dict_items([]): \n",
      "[25/40] Loss: 0.00017213821411132812 Metrics dict_items([]): \n",
      "[26/40] Loss: 0.0002589225769042969 Metrics dict_items([]): \n",
      "[27/40] Loss: 9.965896606445312e-05 Metrics dict_items([]): \n",
      "[28/40] Loss: 9.393692016601562e-05 Metrics dict_items([]): \n",
      "[29/40] Loss: 8.082389831542969e-05 Metrics dict_items([]): \n",
      "[30/40] Loss: 0.00011110305786132812 Metrics dict_items([]): \n",
      "[31/40] Loss: 0.0001621246337890625 Metrics dict_items([]): \n",
      "[32/40] Loss: 0.00012683868408203125 Metrics dict_items([]): \n",
      "[33/40] Loss: 0.00013256072998046875 Metrics dict_items([]): \n",
      "[34/40] Loss: 0.00013971328735351562 Metrics dict_items([]): \n",
      "[35/40] Loss: 0.00024890899658203125 Metrics dict_items([]): \n",
      "[36/40] Loss: 0.00010538101196289062 Metrics dict_items([]): \n",
      "[37/40] Loss: 0.00015997886657714844 Metrics dict_items([]): \n",
      "[38/40] Loss: 0.00012159347534179688 Metrics dict_items([]): \n",
      "[39/40] Loss: 0.00013256072998046875 Metrics dict_items([]): \n"
     ]
    }
   ],
   "source": [
    "agent.fit()"
   ]
  },
  {
   "cell_type": "code",
   "execution_count": null,
   "id": "available-consortium",
   "metadata": {},
   "outputs": [],
   "source": []
  }
 ],
 "metadata": {
  "kernelspec": {
   "display_name": "master-thesis",
   "language": "python",
   "name": "master-thesis"
  },
  "language_info": {
   "codemirror_mode": {
    "name": "ipython",
    "version": 3
   },
   "file_extension": ".py",
   "mimetype": "text/x-python",
   "name": "python",
   "nbconvert_exporter": "python",
   "pygments_lexer": "ipython3",
   "version": "3.8.6"
  }
 },
 "nbformat": 4,
 "nbformat_minor": 5
}
