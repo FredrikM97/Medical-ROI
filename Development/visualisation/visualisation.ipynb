{
 "cells": [
  {
   "cell_type": "code",
   "execution_count": null,
   "metadata": {},
   "outputs": [],
   "source": [
    "# How to visualise?\n",
    "# https://pypi.org/project/nipet/\n",
    "# https://www.frontiersin.org/articles/10.3389/fninf.2018.00064/full\n",
    "# https://github.com/marcomusy/vedo\n",
    "# https://stackoverflow.com/questions/56035562/3d-dicom-visualisation-in-python\n",
    "# https://www.youtube.com/watch?v=Tc9ONZLBHP0\n",
    "\n",
    "# Saliency map?\n",
    "# https://medium.com/@zeh.henrique92/basic-exploration-and-visualization-of-lung-ct-scans-with-python-e86b8d665bb6"
   ]
  },
  {
   "cell_type": "markdown",
   "metadata": {},
   "source": [
    "TODO:\n",
    "    * https://towardsdatascience.com/deep-learning-with-magnetic-resonance-and-computed-tomography-images-e9f32273dcb5\n",
    "    * https://nilearn.github.io/manipulating_images/input_output.html\n",
    "    * https://nilearn.github.io/auto_examples/plot_nilearn_101.html\n",
    "    * https://vincentblog.xyz/posts/medical-images-in-python-computed-tomography?fbclid=IwAR33Nmfoq_u0RcdaXUSEWaJ4PlCOedqHafZnKTnQOQQk5mUuLC9LPvTaziU\n",
    "    * https://nilearn.github.io/building_blocks/manual_pipeline.html\n",
    "    * https://pandas.pydata.org/pandas-docs/version/0.13.1/visualization.html#targeting-different-subplots"
   ]
  },
  {
   "cell_type": "code",
   "execution_count": 15,
   "metadata": {},
   "outputs": [],
   "source": [
    "# Fix relative import for utils\n",
    "import sys\n",
    "sys.path.append('..')"
   ]
  },
  {
   "cell_type": "code",
   "execution_count": 17,
   "metadata": {},
   "outputs": [],
   "source": [
    "from utils import dataloader\n",
    "from utils import display as dplay\n",
    "from utils.adni import ADNI\n",
    "\n",
    "import os\n",
    "import numpy as np\n",
    "import pandas as pd\n",
    "from IPython.display import display \n",
    "import matplotlib.pyplot as plt\n",
    "\n",
    "base_dir = '../data'"
   ]
  },
  {
   "cell_type": "code",
   "execution_count": null,
   "metadata": {},
   "outputs": [],
   "source": [
    "%load_ext autoreload\n",
    "%autoreload 2"
   ]
  },
  {
   "cell_type": "code",
   "execution_count": null,
   "metadata": {},
   "outputs": [],
   "source": [
    "adni = ADNI(base_dir)"
   ]
  },
  {
   "cell_type": "markdown",
   "metadata": {},
   "source": [
    "# Load data"
   ]
  },
  {
   "cell_type": "code",
   "execution_count": null,
   "metadata": {},
   "outputs": [],
   "source": [
    "adni.load(show_output=False)"
   ]
  },
  {
   "cell_type": "markdown",
   "metadata": {},
   "source": [
    "## Display MetaData"
   ]
  },
  {
   "cell_type": "code",
   "execution_count": null,
   "metadata": {},
   "outputs": [],
   "source": [
    "meta_df = adni.meta_to_df()"
   ]
  },
  {
   "cell_type": "code",
   "execution_count": null,
   "metadata": {},
   "outputs": [],
   "source": [
    "dplay.display_all_pd_cols(meta_df)"
   ]
  },
  {
   "cell_type": "markdown",
   "metadata": {},
   "source": [
    "# Display ImageFiles"
   ]
  },
  {
   "cell_type": "code",
   "execution_count": null,
   "metadata": {},
   "outputs": [],
   "source": [
    "files_df = adni.files_to_df()"
   ]
  },
  {
   "cell_type": "code",
   "execution_count": null,
   "metadata": {},
   "outputs": [],
   "source": [
    "dplay.display_all_pd_cols(files_df)"
   ]
  },
  {
   "cell_type": "markdown",
   "metadata": {},
   "source": [
    "# Save Images to adni folder as categorised data"
   ]
  },
  {
   "cell_type": "code",
   "execution_count": null,
   "metadata": {},
   "outputs": [],
   "source": [
    "df = adni.to_df(show_output=False)\n",
    "adni.save_to_category(df)"
   ]
  },
  {
   "cell_type": "markdown",
   "metadata": {},
   "source": [
    "# Analysis"
   ]
  },
  {
   "cell_type": "markdown",
   "metadata": {},
   "source": [
    "## MetaData distribution"
   ]
  },
  {
   "cell_type": "code",
   "execution_count": null,
   "metadata": {},
   "outputs": [],
   "source": [
    "def plot_meta_settings(rows=1, cols=2, figsize=(16,16)):\n",
    "    plt.rcParams.update({'font.size': 15})\n",
    "    fig, axes = plt.subplots(nrows=rows, ncols=cols, figsize=figsize)\n",
    "    #fig.tight_layout() #pad=8.0\n",
    "    fig.set_tight_layout(True)\n",
    "    #ax.autoscale(enable=True) \n",
    "    return fig, axes"
   ]
  },
  {
   "cell_type": "markdown",
   "metadata": {},
   "source": [
    "### Overview"
   ]
  },
  {
   "cell_type": "code",
   "execution_count": null,
   "metadata": {},
   "outputs": [],
   "source": [
    "fig, axes = plot_meta_settings(rows=3)\n",
    "\n",
    "#.plot(); axes[0,0].set_title('A')\n",
    "df['subject.researchGroup'].value_counts().plot(kind='bar',\n",
    "                                    ax=axes[0,0],\n",
    "                                    title=\"subject.researchGroup\", xlabel=\"Disorder\", ylabel=\"Frequency\")\n",
    "\n",
    "df['subject.subjectIdentifier'].value_counts().plot(kind='bar',\n",
    "                                    ax=axes[0,1],\n",
    "                                    title=\"subject.subjectIdentifier\", xlabel=\"subjectIdentifier\", ylabel=\"Frequency\")\n",
    "\n",
    "df['subject.subjectSex'].value_counts().plot(kind='bar',\n",
    "                                    ax=axes[1,0],\n",
    "                                    title=\"subject.subjectSex\", xlabel=\"subjectSex\", ylabel=\"Frequency\")\n",
    "\n",
    "df.groupby('subject.subjectSex')['subject.study.subjectAge'].plot(kind='kde',\n",
    "                                    ax=axes[1,1],\n",
    "                                    title=\"subject.study.subjectAge\", xlabel=\"subjectAge\", ylabel=\"Frequency\",legend=True)\n",
    "\n",
    "df['subject.study.series.dateAcquired'].value_counts().plot(\n",
    "                                    ax=axes[2,0],\n",
    "                                    title=\"subject.study.series.dateAcquired\", xlabel=\"dateAcquired\", ylabel=\"Frequency\")\n",
    "\n",
    "df.groupby('subject.subjectSex')['subject.study.weightKg'].plot(kind='kde',\n",
    "                                    ax=axes[2,1],\n",
    "                                    title=\"subject.study.weightKg\", xlabel=\"weightKg\", ylabel=\"Frequency\",legend=True)\n",
    "\n",
    "\n",
    "\n",
    "plt.show()"
   ]
  },
  {
   "cell_type": "markdown",
   "metadata": {},
   "source": [
    "### Data sizes"
   ]
  },
  {
   "cell_type": "code",
   "execution_count": null,
   "metadata": {},
   "outputs": [],
   "source": [
    "fig, axes = plot_meta_settings(rows=2)\n",
    "df['subject.study.imagingProtocol.protocolTerm.protocol_Number of Slices'].value_counts().plot(kind=\"bar\",\n",
    "                                    ax=axes[0,0],\n",
    "                                    title=\"subject.study.imagingProtocol.protocolTerm.protocol_Number of Slices\", xlabel=\"Slices\", ylabel=\"Frequency\")\n",
    "\n",
    "df['subject.study.imagingProtocol.protocolTerm.protocol_Number of Columns'].value_counts().plot(kind=\"bar\",\n",
    "                                    ax=axes[0,1],\n",
    "                                    title=\"subject.study.imagingProtocol.protocolTerm.protocol_Number of Columns\", xlabel=\"Slices\", ylabel=\"Frequency\")\n",
    "\n",
    "df['subject.study.imagingProtocol.protocolTerm.protocol_Number of Rows'].value_counts().plot(kind=\"bar\",\n",
    "                                    ax=axes[1,0],\n",
    "                                    title=\"subject.study.imagingProtocol.protocolTerm.protocol_Number of Rows\", xlabel=\"Slices\", ylabel=\"Frequency\")\n",
    "plt.show()"
   ]
  },
  {
   "cell_type": "markdown",
   "metadata": {},
   "source": [
    "### Scoring"
   ]
  },
  {
   "cell_type": "code",
   "execution_count": null,
   "metadata": {},
   "outputs": [],
   "source": [
    "fig, axes = plot_meta_settings(rows=3)\n",
    "df['subject.visit.assessment.component.assessmentScore_FAQTOTAL'].value_counts().sort_index().plot(\n",
    "                                    ax=axes[0,0],\n",
    "                                    title=\"Functional Activities Questionnaires (FAQTOTAL)\", xlabel=\"Score\", ylabel=\"Frequency\")\n",
    "\n",
    "df['subject.visit.assessment.component.assessmentScore_NPISCORE'].value_counts().sort_index().plot(\n",
    "                                    ax=axes[0,1],\n",
    "                                    title=\"assessmentScore_NPISCORE\", xlabel=\"Score\", ylabel=\"Frequency\")\n",
    "\n",
    "df['subject.visit.assessment.component.assessmentScore_CDGLOBAL'].value_counts().sort_index().plot(\n",
    "                                    ax=axes[1,0],\n",
    "                                    title=\"Clinical Dementia Rating Scale (CDGLOBAL)\", xlabel=\"Score\", ylabel=\"Frequency\")\n",
    "\n",
    "df['subject.visit.assessment.component.assessmentScore_GDTOTAL'].value_counts().sort_index().plot(\n",
    "                                    ax=axes[1,1],\n",
    "                                    title=\"assessmentScore_GDTOTAL\", xlabel=\"Score\", ylabel=\"Frequency\")\n",
    "\n",
    "df['subject.visit.assessment.component.assessmentScore_MMSCORE'].value_counts().sort_index().plot(\n",
    "                                    ax=axes[2,0],\n",
    "                                    title=\"Mini-Mental State Examination (MMSCORE)\", xlabel=\"Score\", ylabel=\"Frequency\")\n",
    "\n",
    "for condition in ['MCI', 'CN', 'AD']:\n",
    "    values = df[df['subject.researchGroup'] == condition]['subject.visit.assessment.component.assessmentScore_MMSCORE'].value_counts()\n",
    "    (values / values.sum()).sort_index().plot(\n",
    "                                    ax=axes[2,1],\n",
    "                                    title=\"MMSE Score per Condition\", xlabel=\"Score\", ylabel=\"Density\", label=condition)\n",
    "\n",
    "plt.legend()\n",
    "plt.show()"
   ]
  },
  {
   "cell_type": "markdown",
   "metadata": {},
   "source": [
    "## Visualise brain slices"
   ]
  },
  {
   "cell_type": "markdown",
   "metadata": {},
   "source": [
    "### Create Image generator"
   ]
  },
  {
   "cell_type": "code",
   "execution_count": null,
   "metadata": {},
   "outputs": [],
   "source": [
    "SKIP_LAYERS = 10\n",
    "LIMIT_LAYERS = 70"
   ]
  },
  {
   "cell_type": "code",
   "execution_count": null,
   "metadata": {},
   "outputs": [],
   "source": [
    "image_AD_generator = adni.get_images(list(adni.get_files(adni.path.category['AD'], adni.category_cols)))\n",
    "image_CN_generator = adni.get_images(list(adni.load_files(adni.path.category['CN'], adni.category_cols)))\n",
    "image_MCI_generator = adni.get_images(list(adni.load_files(adni.path.category['MCI'], adni.category_cols)))"
   ]
  },
  {
   "cell_type": "code",
   "execution_count": null,
   "metadata": {},
   "outputs": [],
   "source": [
    "### Testing functions\n",
    "from nilearn.plotting import view_img, plot_glass_brain, plot_anat, plot_epi"
   ]
  },
  {
   "cell_type": "code",
   "execution_count": null,
   "metadata": {},
   "outputs": [],
   "source": [
    "all_image = adni.get_images()"
   ]
  },
  {
   "cell_type": "code",
   "execution_count": null,
   "metadata": {},
   "outputs": [],
   "source": [
    "test_image = next(all_image)"
   ]
  },
  {
   "cell_type": "code",
   "execution_count": null,
   "metadata": {},
   "outputs": [],
   "source": [
    "test_image.shape"
   ]
  },
  {
   "cell_type": "code",
   "execution_count": null,
   "metadata": {},
   "outputs": [],
   "source": [
    "plot_anat(test_image, draw_cross=False, display_mode='z',cut_coords=20,annotate=False)"
   ]
  },
  {
   "cell_type": "code",
   "execution_count": null,
   "metadata": {},
   "outputs": [],
   "source": [
    "images_AD_array = adni.to_array(list(image_AD_generator))\n",
    "images_CN_array = adni.to_array(list(image_CN_generator))\n",
    "images_MCI_array = adni.to_array(list(image_MCI_generator))"
   ]
  },
  {
   "cell_type": "code",
   "execution_count": null,
   "metadata": {},
   "outputs": [],
   "source": [
    "images_AD = next(images_AD_array)[0]\n",
    "images_CN = next(images_CN_array)[0]\n",
    "images_MCI = next(images_CN_array)[0]"
   ]
  },
  {
   "cell_type": "markdown",
   "metadata": {},
   "source": [
    "### Coronal plane (From top)"
   ]
  },
  {
   "cell_type": "code",
   "execution_count": null,
   "metadata": {},
   "outputs": [],
   "source": [
    "\n",
    "image_AD_slices = [images_AD[layer,:,:] for layer in range(0,images_AD.shape[0],SKIP_LAYERS)]\n",
    "dplay.display_advanced_plot(image_AD_slices)\n",
    "plt.suptitle(\"Coronal plane - AD\")  "
   ]
  },
  {
   "cell_type": "code",
   "execution_count": null,
   "metadata": {},
   "outputs": [],
   "source": [
    "\n",
    "image_CN_slices = [images_CN[layer,:,:] for layer in range(0,images_CN.shape[0],SKIP_LAYERS)]\n",
    "dplay.display_advanced_plot(image_CN_slices)\n",
    "plt.suptitle(\"Coronal plane - CN\")  "
   ]
  },
  {
   "cell_type": "code",
   "execution_count": null,
   "metadata": {},
   "outputs": [],
   "source": [
    "image_MCI_slices = [images_MCI[layer,:,:] for layer in range(0,images_MCI.shape[0],SKIP_LAYERS)]\n",
    "dplay.display_advanced_plot(image_MCI_slices)\n",
    "plt.suptitle(\"Coronal plane - MCI\")  "
   ]
  },
  {
   "cell_type": "markdown",
   "metadata": {},
   "source": [
    "### Sagittal plane (From front)"
   ]
  },
  {
   "cell_type": "code",
   "execution_count": null,
   "metadata": {},
   "outputs": [],
   "source": [
    "image_slices = [images_AD[:,layer,:] for layer in range(0,images_AD.shape[1], SKIP_LAYERS)]\n",
    "dplay.display_advanced_plot(image_slices)\n",
    "plt.suptitle(\"Sagittal plane\")  "
   ]
  },
  {
   "cell_type": "markdown",
   "metadata": {},
   "source": [
    "### Horisontal plane (from side)"
   ]
  },
  {
   "cell_type": "code",
   "execution_count": null,
   "metadata": {},
   "outputs": [],
   "source": [
    "image_slices = [images_AD[:,:,layer] for layer in range(0,images_AD.shape[2], SKIP_LAYERS)]\n",
    "dplay.display_advanced_plot(image_slices)\n",
    "plt.suptitle(\"Horisonal plane\")  "
   ]
  },
  {
   "cell_type": "markdown",
   "metadata": {},
   "source": [
    "# Notes\n",
    "* Dont take 60 min dynamic - Iter(Brain Mod"
   ]
  },
  {
   "cell_type": "code",
   "execution_count": null,
   "metadata": {},
   "outputs": [],
   "source": [
    "# Can we see a difference between MCI, CN and AD?"
   ]
  },
  {
   "cell_type": "code",
   "execution_count": null,
   "metadata": {},
   "outputs": [],
   "source": [
    "# How is the images before preprocess?"
   ]
  },
  {
   "cell_type": "code",
   "execution_count": null,
   "metadata": {},
   "outputs": [],
   "source": [
    "# How is the images after preprocess?"
   ]
  },
  {
   "cell_type": "code",
   "execution_count": null,
   "metadata": {},
   "outputs": [],
   "source": [
    "# Distribution? (Can be text as well)"
   ]
  }
 ],
 "metadata": {
  "kernelspec": {
   "display_name": "Python 3",
   "language": "python",
   "name": "python3"
  },
  "language_info": {
   "codemirror_mode": {
    "name": "ipython",
    "version": 3
   },
   "file_extension": ".py",
   "mimetype": "text/x-python",
   "name": "python",
   "nbconvert_exporter": "python",
   "pygments_lexer": "ipython3",
   "version": "3.8.6"
  },
  "toc-autonumbering": true,
  "toc-showcode": false,
  "toc-showmarkdowntxt": false,
  "toc-showtags": false
 },
 "nbformat": 4,
 "nbformat_minor": 4
}
