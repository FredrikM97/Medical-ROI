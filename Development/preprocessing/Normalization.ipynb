{
 "cells": [
  {
   "cell_type": "markdown",
   "metadata": {},
   "source": [
    "# Feature-wise normalization of .nii images"
   ]
  },
  {
   "cell_type": "code",
   "execution_count": 1,
   "metadata": {},
   "outputs": [],
   "source": [
    "import os\n",
    "import nibabel as nib\n",
    "import matplotlib.pyplot as plt\n",
    "import numpy as np\n",
    "import tensorflow.keras\n",
    "from keras.preprocessing.image import ImageDataGenerator"
   ]
  },
  {
   "cell_type": "code",
   "execution_count": 2,
   "metadata": {},
   "outputs": [],
   "source": [
    "input_dir = '../data/SPM-preprocessed/'\n",
    "output_dir = '../data/SPM-preprocessed-normalized/'\n",
    "\n",
    "if not os.path.exists(output_dir):\n",
    "    os.makedirs(output_dir)"
   ]
  },
  {
   "cell_type": "markdown",
   "metadata": {},
   "source": [
    "### Utility"
   ]
  },
  {
   "cell_type": "code",
   "execution_count": 3,
   "metadata": {},
   "outputs": [],
   "source": [
    "def get_nii_data_in_directory(directory):\n",
    "    files = os.listdir(directory)\n",
    "    for file in files:\n",
    "        if file[-4:] == '.nii':\n",
    "            nii_data = nib.load(directory + file)\n",
    "            yield nii_data, file"
   ]
  },
  {
   "cell_type": "code",
   "execution_count": 4,
   "metadata": {},
   "outputs": [],
   "source": [
    "def get_all_nii_data_in_directory(directory):\n",
    "    generator = get_nii_data_in_directory(directory)\n",
    "    nii_data = []\n",
    "    file_names = []\n",
    "    for i_nii_data, file_name in generator:\n",
    "        nii_data.append(i_nii_data)\n",
    "        file_names.append(file_name)\n",
    "    return nii_data, file_names"
   ]
  },
  {
   "cell_type": "code",
   "execution_count": 5,
   "metadata": {},
   "outputs": [],
   "source": [
    "def save_normalized_data_to_directory(nii_data, file_name, directory):\n",
    "    nib.save(nii_data, directory + file_name)"
   ]
  },
  {
   "cell_type": "code",
   "execution_count": 6,
   "metadata": {},
   "outputs": [],
   "source": [
    "def feature_wise_normalize(images):\n",
    "    \n",
    "    length = len(images)\n",
    "    dim_x = images[0].shape[0]\n",
    "    dim_y = images[0].shape[1]\n",
    "    dim_z = images[0].shape[2]\n",
    "    \n",
    "    x_transformed = np.zeros((length, dim_x, dim_y, dim_z))\n",
    "    \n",
    "    for image_index in range(length):\n",
    "        \n",
    "        x_train_one = np.zeros((dim_z, dim_x, dim_y, 1))\n",
    "        x_transformed_one = np.zeros((dim_z, dim_x, dim_y, 1))\n",
    "        \n",
    "        for slice_index in range(dim_z):\n",
    "            x_train_one[slice_index, :, :, 0] = images[image_index][:, :, slice_index]    # Why?\n",
    "            \n",
    "        datagen_featurewise_mean = ImageDataGenerator(featurewise_center = True, featurewise_std_normalization = True)\n",
    "        datagen_featurewise_mean.fit(x_train_one)\n",
    "        \n",
    "        batches = 0\n",
    "        count = 0\n",
    "        for x_batch in datagen_featurewise_mean.flow(x_train_one, shuffle = False):\n",
    "            \n",
    "            for i_inb in range(x_batch.shape[0]):\n",
    "                x_transformed_one[count + i_inb, :, :, :] = (x_batch[i_inb] + 3) / 12\n",
    "            \n",
    "            count += x_batch.shape[0]\n",
    "            batches += 1\n",
    "            if batches >= len(x_train_one) / 32:\n",
    "                break\n",
    "                \n",
    "        for slice_index in range(dim_z):\n",
    "            x_transformed[image_index, :, :, slice_index] = x_transformed_one[slice_index, :, :, 0]\n",
    "            \n",
    "    return x_transformed"
   ]
  },
  {
   "cell_type": "markdown",
   "metadata": {},
   "source": [
    "#### Read, normalize, and save"
   ]
  },
  {
   "cell_type": "code",
   "execution_count": 7,
   "metadata": {},
   "outputs": [],
   "source": [
    "nii_data, file_names = get_all_nii_data_in_directory(input_dir)"
   ]
  },
  {
   "cell_type": "code",
   "execution_count": 8,
   "metadata": {},
   "outputs": [],
   "source": [
    "images = []\n",
    "for i_nii_data in nii_data:\n",
    "    images.append(i_nii_data.get_fdata())"
   ]
  },
  {
   "cell_type": "code",
   "execution_count": 9,
   "metadata": {},
   "outputs": [],
   "source": [
    "normalized_images = feature_wise_normalize(images)"
   ]
  },
  {
   "cell_type": "code",
   "execution_count": 10,
   "metadata": {},
   "outputs": [],
   "source": [
    "for normalized_image, i_nii_data, file_name in zip(normalized_images, nii_data, file_names):\n",
    "    new_nii_data = nib.Nifti1Image(normalized_image, i_nii_data.affine, i_nii_data.header)\n",
    "    save_normalized_data_to_directory(new_nii_data, file_name, output_dir)"
   ]
  },
  {
   "cell_type": "markdown",
   "metadata": {},
   "source": [
    "# Plot distributions etc"
   ]
  },
  {
   "cell_type": "code",
   "execution_count": 11,
   "metadata": {},
   "outputs": [],
   "source": [
    "plot_img_nr = 0"
   ]
  },
  {
   "cell_type": "markdown",
   "metadata": {},
   "source": [
    "## Distribution before normalization:"
   ]
  },
  {
   "cell_type": "code",
   "execution_count": 12,
   "metadata": {},
   "outputs": [
    {
     "data": {
      "image/png": "[encoded data removed]",
      "text/plain": [
       "<Figure size 432x288 with 1 Axes>"
      ]
     },
     "metadata": {
      "needs_background": "light"
     },
     "output_type": "display_data"
    }
   ],
   "source": [
    "plt.hist(images[plot_img_nr].flatten(), bins = 30)\n",
    "plt.show()"
   ]
  },
  {
   "cell_type": "code",
   "execution_count": null,
   "metadata": {},
   "outputs": [],
   "source": [
    "plt.imshow(images[plot_img_nr][:, 30, :], cmap = 'gray')"
   ]
  },
  {
   "cell_type": "markdown",
   "metadata": {},
   "source": [
    "## Distribution after normalization:"
   ]
  },
  {
   "cell_type": "code",
   "execution_count": null,
   "metadata": {},
   "outputs": [],
   "source": [
    "plt.hist(normalized_images[plot_img_nr].flatten(), range = [0, 1], bins = 30)\n",
    "plt.show()"
   ]
  },
  {
   "cell_type": "code",
   "execution_count": null,
   "metadata": {},
   "outputs": [],
   "source": [
    "plt.imshow(normalized_images[plot_img_nr, :, 30, :], cmap = 'gray')"
   ]
  }
 ],
 "metadata": {
  "kernelspec": {
   "display_name": "Python 3",
   "language": "python",
   "name": "python3"
  },
  "language_info": {
   "codemirror_mode": {
    "name": "ipython",
    "version": 3
   },
   "file_extension": ".py",
   "mimetype": "text/x-python",
   "name": "python",
   "nbconvert_exporter": "python",
   "pygments_lexer": "ipython3",
   "version": "3.8.6"
  }
 },
 "nbformat": 4,
 "nbformat_minor": 4
}
