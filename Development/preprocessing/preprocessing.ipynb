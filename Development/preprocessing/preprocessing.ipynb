{
 "cells": [
  {
   "cell_type": "markdown",
   "metadata": {},
   "source": [
    "Normalize DICOM file from different sources using SPM12 (https://www.fil.ion.ucl.ac.uk/spm/)\n",
    "\n",
    "1. Convert dcm file(s) to nifti file using DICOM import\n",
    "\n",
    "2. Display \n",
    "\t- Choose the nifti file \n",
    "\t- set origin \n",
    "\t- reorient to same filename\n",
    "\n",
    "3. Normalise (est & wri)\n",
    "\t- Under Data set image to align and image to write to the nifti filename\n",
    "\n",
    "4. Segment\n",
    "\t- Under Data -> Channel -> Volumes set the nifti filename\n",
    "\n",
    "5 ImCalc\n",
    "\t- Under Input Images set the nifti filename beginning with w then c1, c2, c3\n",
    "\t- Under Expression type i1.*((i2+i3+i4)>0.5)\n",
    "\t- Under Output Filename make the field empty (remove 'output')\n",
    "\n",
    "As some of you wanted to get more data from ADNI. I asked our team member who was responsible for downloading data from ADNI and pre-process them about the details for data preprocessing. He was very kind to share with me the steps and MATLAB scripts he used; you can find them attached.   The data preprocessing was done using Matlab and SPM12 (https://www.fil.ion.ucl.ac.uk/spm/)"
   ]
  }
 ],
 "metadata": {
  "kernelspec": {
   "display_name": "Master-thesis",
   "language": "python",
   "name": "master-thesis"
  },
  "language_info": {
   "codemirror_mode": {
    "name": "ipython",
    "version": 3
   },
   "file_extension": ".py",
   "mimetype": "text/x-python",
   "name": "python",
   "nbconvert_exporter": "python",
   "pygments_lexer": "ipython3",
   "version": "3.8.5"
  }
 },
 "nbformat": 4,
 "nbformat_minor": 4
}
