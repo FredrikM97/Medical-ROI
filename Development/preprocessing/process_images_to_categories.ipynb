{
 "cells": [
  {
   "cell_type": "code",
   "execution_count": 2,
   "id": "noticed-designation",
   "metadata": {},
   "outputs": [],
   "source": [
    "# Fix relative import for utils\n",
    "import sys\n",
    "if '..' not in sys.path: sys.path.append('..')"
   ]
  },
  {
   "cell_type": "code",
   "execution_count": 7,
   "id": "attached-combining",
   "metadata": {},
   "outputs": [],
   "source": [
    "from utils import Adni, misc_util"
   ]
  },
  {
   "cell_type": "code",
   "execution_count": 8,
   "id": "comprehensive-calculator",
   "metadata": {},
   "outputs": [],
   "source": [
    "base_dir = '../data'\n",
    "adni = Adni(misc_util.absolute_path(base_dir))"
   ]
  },
  {
   "cell_type": "markdown",
   "id": "alone-surgery",
   "metadata": {},
   "source": [
    "# Save Images to adni folder as categorised data"
   ]
  },
  {
   "cell_type": "code",
   "execution_count": 11,
   "id": "spiritual-disaster",
   "metadata": {},
   "outputs": [
    {
     "name": "stdout",
     "output_type": "stream",
     "text": [
      "Copy files: \n",
      "\troot: /home/fredrik/Documents/School/Master-thesis/Development/data/SPM_categorised\n",
      "\tAD: /home/fredrik/Documents/School/Master-thesis/Development/data/SPM_categorised/AD\n",
      "\tCN: /home/fredrik/Documents/School/Master-thesis/Development/data/SPM_categorised/CN\n",
      "\tMCI: /home/fredrik/Documents/School/Master-thesis/Development/data/SPM_categorised/MCI\n",
      "Statistics:\n",
      "    AD:\n",
      "        Skip: 60\n",
      "        Transfer: 0\n",
      "    CN:\n",
      "        Skip: 60\n",
      "        Transfer: 0\n",
      "    MCI:\n",
      "        Skip: 139\n",
      "        Transfer: 0\n"
     ]
    }
   ],
   "source": [
    "adni.load(show_output=False)\n",
    "df = adni.to_df(show_output=False)\n",
    "adni.save_to_category(df)"
   ]
  }
 ],
 "metadata": {
  "kernelspec": {
   "display_name": "Master-thesis",
   "language": "python",
   "name": "master-thesis"
  },
  "language_info": {
   "codemirror_mode": {
    "name": "ipython",
    "version": 3
   },
   "file_extension": ".py",
   "mimetype": "text/x-python",
   "name": "python",
   "nbconvert_exporter": "python",
   "pygments_lexer": "ipython3",
   "version": "3.8.6"
  }
 },
 "nbformat": 4,
 "nbformat_minor": 5
}
