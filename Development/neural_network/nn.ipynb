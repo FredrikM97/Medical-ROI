{
 "cells": [
  {
   "cell_type": "code",
   "execution_count": 1,
   "id": "incomplete-negative",
   "metadata": {},
   "outputs": [],
   "source": [
    "%load_ext autoreload\n",
    "%autoreload 2"
   ]
  },
  {
   "cell_type": "code",
   "execution_count": 2,
   "id": "dominant-commons",
   "metadata": {},
   "outputs": [],
   "source": [
    "from ml_lightning import Agent\n",
    "# Note: Assume the following: (batch_size, channel, height, width, depth)"
   ]
  },
  {
   "cell_type": "code",
   "execution_count": 3,
   "id": "personalized-guess",
   "metadata": {},
   "outputs": [
    {
     "name": "stdout",
     "output_type": "stream",
     "text": [
      "Setup configurations...\n",
      "architecture [testModel] was created\n",
      "model [LightningModel] was created\n"
     ]
    }
   ],
   "source": [
    "agent = Agent('vgg16')"
   ]
  },
  {
   "cell_type": "code",
   "execution_count": null,
   "id": "pursuant-limit",
   "metadata": {},
   "outputs": [
    {
     "name": "stderr",
     "output_type": "stream",
     "text": [
      "GPU available: True, used: True\n",
      "TPU available: None, using: 0 TPU cores\n",
      "LOCAL_RANK: 0 - CUDA_VISIBLE_DEVICES: [0]\n",
      "GPU available: True, used: True\n",
      "TPU available: None, using: 0 TPU cores\n",
      "LOCAL_RANK: 0 - CUDA_VISIBLE_DEVICES: [0]\n",
      "\n",
      "  | Name         | Type            | Params\n",
      "-------------------------------------------------\n",
      "0 | model        | testModel       | 58.4 M\n",
      "1 | train_metric | Accuracy        | 0     \n",
      "2 | val_metric   | Accuracy        | 0     \n",
      "3 | train_cm     | ConfusionMatrix | 0     \n",
      "-------------------------------------------------\n",
      "58.4 M    Trainable params\n",
      "0         Non-trainable params\n",
      "58.4 M    Total params\n"
     ]
    },
    {
     "name": "stdout",
     "output_type": "stream",
     "text": [
      "Fitting with cv\n",
      "Validation on fold: 1\n",
      "\n",
      "Epoch 1 [56/56] {'loss': '1.1'}}\n",
      "Epoch 2 [56/56] {'loss': '0.939'}\n",
      "Epoch 3 [56/56] {'loss': '0.778'}\n",
      "Epoch 4 [56/56] {'loss': '0.693'}\n",
      "Epoch 5 [56/56] {'loss': '0.452'}\n",
      "Epoch 6 [56/56] {'loss': '0.423'}\n",
      "Epoch 7 [56/56] {'loss': '0.265'}\n",
      "Epoch 8 [56/56] {'loss': '0.219'}\n",
      "Epoch 9 [56/56] {'loss': '0.294'}\n",
      "Epoch 10 [56/56] {'loss': '0.237'}\n",
      "Epoch 11 [56/56] {'loss': '0.237'}\n",
      "Epoch 12 [56/56] {'loss': '0.141'}}\n",
      "Epoch 13 [56/56] {'loss': '0.175'}}\n",
      "Epoch 14 [56/56] {'loss': '0.157'}}\n",
      "Epoch 15 [56/56] {'loss': '0.0595'}\n",
      "Epoch 16 [56/56] {'loss': '0.0774'}\n",
      "Epoch 17 [56/56] {'loss': '0.0853'}\n",
      "Epoch 18 [56/56] {'loss': '0.13'}}}\n",
      "Epoch 19 [56/56] {'loss': '0.0848'}\n",
      "Epoch 20 [56/56] {'loss': '0.0724'}\n",
      "Epoch 21 [56/56] {'loss': '0.165'}\n",
      "Epoch 22 [56/56] {'loss': '0.0825'}\n",
      "Epoch 23 [56/56] {'loss': '0.0727'}\n",
      "Epoch 24 [56/56] {'loss': '0.078'}}\n",
      "Epoch 25 [56/56] {'loss': '0.0486'}\n",
      "Epoch 26 [56/56] {'loss': '0.167'}}\n",
      "Epoch 27 [56/56] {'loss': '0.0495'}\n",
      "Epoch 28 [56/56] {'loss': '0.135'}}\n",
      "Epoch 29 [56/56] {'loss': '0.0702'}\n",
      "Epoch 30 [56/56] {'loss': '0.083'}}\n",
      "Epoch 31 [56/56] {'loss': '0.0243'}\n",
      "Epoch 32 [56/56] {'loss': '0.0863'}\n",
      "Epoch 33 [56/56] {'loss': '0.0231'}\n",
      "Epoch 34 [56/56] {'loss': '0.148'}}\n",
      "Epoch 35 [56/56] {'loss': '0.0425'}\n",
      "Epoch 36 [56/56] {'loss': '0.0753'}\n",
      "Epoch 37 [56/56] {'loss': '0.0711'}\n",
      "Epoch 38 [56/56] {'loss': '0.122'}}\n",
      "Epoch 39 [56/56] {'loss': '0.0142'}\n",
      "Epoch 40 [56/56] {'loss': '0.102'}}\r"
     ]
    },
    {
     "name": "stderr",
     "output_type": "stream",
     "text": [
      "GPU available: True, used: True\n",
      "TPU available: None, using: 0 TPU cores\n",
      "LOCAL_RANK: 0 - CUDA_VISIBLE_DEVICES: [0]\n",
      "\n",
      "  | Name         | Type            | Params\n",
      "-------------------------------------------------\n",
      "0 | model        | testModel       | 58.4 M\n",
      "1 | train_metric | Accuracy        | 0     \n",
      "2 | val_metric   | Accuracy        | 0     \n",
      "3 | train_cm     | ConfusionMatrix | 0     \n",
      "-------------------------------------------------\n",
      "58.4 M    Trainable params\n",
      "0         Non-trainable params\n",
      "58.4 M    Total params\n"
     ]
    },
    {
     "name": "stdout",
     "output_type": "stream",
     "text": [
      "Validation on fold: 2\n",
      "\n",
      "Epoch 1 [56/56] {'loss': '0.273'}}\n",
      "Epoch 2 [56/56] {'loss': '0.132'}\n",
      "Epoch 3 [56/56] {'loss': '0.116'}}\n",
      "Epoch 4 [56/56] {'loss': '0.0735'}\n",
      "Epoch 5 [56/56] {'loss': '0.0596'}\n",
      "Epoch 6 [56/56] {'loss': '0.0556'}\n",
      "Epoch 7 [56/56] {'loss': '0.113'}}\n",
      "Epoch 8 [56/56] {'loss': '0.14'}}\r"
     ]
    }
   ],
   "source": [
    "agent.fit()"
   ]
  },
  {
   "cell_type": "code",
   "execution_count": null,
   "id": "distinguished-adams",
   "metadata": {},
   "outputs": [],
   "source": [
    "#agent.trainer.tune(agent.model,datamodule=agent.dataset)"
   ]
  },
  {
   "cell_type": "code",
   "execution_count": null,
   "id": "threatened-primary",
   "metadata": {},
   "outputs": [],
   "source": [
    "import numpy as np\n",
    "np.unique([l[1] for l in agent.dataset.train_set], return_counts=True)"
   ]
  },
  {
   "cell_type": "code",
   "execution_count": null,
   "id": "surprising-recruitment",
   "metadata": {},
   "outputs": [],
   "source": [
    "from utils import label_encoder\n",
    "import sklearn"
   ]
  },
  {
   "cell_type": "code",
   "execution_count": null,
   "id": "significant-tradition",
   "metadata": {},
   "outputs": [],
   "source": [
    "labels =label_encoder([img_path.rsplit(\"/\",1)[1].split(\"#\",1)[0] for img_path in agent.dataset.img_files])"
   ]
  },
  {
   "cell_type": "code",
   "execution_count": null,
   "id": "constant-brown",
   "metadata": {},
   "outputs": [],
   "source": [
    "agent.model.loss_fn"
   ]
  },
  {
   "cell_type": "code",
   "execution_count": null,
   "id": "demographic-asbestos",
   "metadata": {},
   "outputs": [],
   "source": []
  }
 ],
 "metadata": {
  "kernelspec": {
   "display_name": "Master-thesis",
   "language": "python",
   "name": "master-thesis"
  },
  "language_info": {
   "codemirror_mode": {
    "name": "ipython",
    "version": 3
   },
   "file_extension": ".py",
   "mimetype": "text/x-python",
   "name": "python",
   "nbconvert_exporter": "python",
   "pygments_lexer": "ipython3",
   "version": "3.9.1"
  }
 },
 "nbformat": 4,
 "nbformat_minor": 5
}
