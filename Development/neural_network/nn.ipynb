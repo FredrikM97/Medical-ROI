{
 "cells": [
  {
   "cell_type": "code",
   "execution_count": 1,
   "id": "chronic-designer",
   "metadata": {},
   "outputs": [],
   "source": [
    "%load_ext autoreload\n",
    "%autoreload 2"
   ]
  },
  {
   "cell_type": "code",
   "execution_count": 2,
   "id": "better-humidity",
   "metadata": {},
   "outputs": [],
   "source": [
    "from ml_lightning import Agent\n",
    "# Note: Assume the following: (batch_size, channel, height, width, depth)"
   ]
  },
  {
   "cell_type": "code",
   "execution_count": 3,
   "id": "binary-screening",
   "metadata": {},
   "outputs": [
    {
     "name": "stdout",
     "output_type": "stream",
     "text": [
      "Setup configurations...\n"
     ]
    },
    {
     "name": "stderr",
     "output_type": "stream",
     "text": [
      "GPU available: True, used: True\n",
      "TPU available: None, using: 0 TPU cores\n",
      "LOCAL_RANK: 0 - CUDA_VISIBLE_DEVICES: [0]\n"
     ]
    },
    {
     "name": "stdout",
     "output_type": "stream",
     "text": [
      "architecture [VGG16] was created\n",
      "model [LightningModel] was created\n"
     ]
    }
   ],
   "source": [
    "agent = Agent('vgg16')"
   ]
  },
  {
   "cell_type": "code",
   "execution_count": null,
   "id": "bronze-print",
   "metadata": {},
   "outputs": [
    {
     "name": "stderr",
     "output_type": "stream",
     "text": [
      "GPU available: True, used: True\n",
      "TPU available: None, using: 0 TPU cores\n",
      "LOCAL_RANK: 0 - CUDA_VISIBLE_DEVICES: [0]\n",
      "\n",
      "  | Name         | Type            | Params\n",
      "-------------------------------------------------\n",
      "0 | model        | VGG16           | 77.7 M\n",
      "1 | train_metric | Accuracy        | 0     \n",
      "2 | val_metric   | Accuracy        | 0     \n",
      "3 | train_cm     | ConfusionMatrix | 0     \n",
      "-------------------------------------------------\n",
      "77.7 M    Trainable params\n",
      "0         Non-trainable params\n",
      "77.7 M    Total params\n"
     ]
    },
    {
     "name": "stdout",
     "output_type": "stream",
     "text": [
      "Fitting with cv\n",
      "Validation on fold: 1\n",
      "\n",
      "Epoch 1 [56/56] {'loss': '1.29'}\n",
      "Epoch 2 [56/56] {'loss': '1.26'}\n",
      "Epoch 3 [56/56] {'loss': '1.25'}\n",
      "Epoch 4 [56/56] {'loss': '1.23'}\n",
      "Epoch 5 [56/56] {'loss': '1.24'}\n",
      "Epoch 6 [56/56] {'loss': '1.23'}\n",
      "Epoch 7 [53/56] {'loss': '1.24'}\r"
     ]
    }
   ],
   "source": [
    "agent.fit()"
   ]
  },
  {
   "cell_type": "code",
   "execution_count": null,
   "id": "sunset-drinking",
   "metadata": {},
   "outputs": [],
   "source": [
    "#agent.trainer.tune(agent.model,datamodule=agent.dataset)"
   ]
  },
  {
   "cell_type": "code",
   "execution_count": null,
   "id": "hundred-shore",
   "metadata": {},
   "outputs": [],
   "source": [
    "agent.trainer.model"
   ]
  },
  {
   "cell_type": "code",
   "execution_count": null,
   "id": "apparent-cargo",
   "metadata": {},
   "outputs": [],
   "source": [
    "import numpy as np\n",
    "np.unique([l[1] for l in agent.dataset.train_set], return_counts=True)"
   ]
  }
 ],
 "metadata": {
  "kernelspec": {
   "display_name": "Master-thesis",
   "language": "python",
   "name": "master-thesis"
  },
  "language_info": {
   "codemirror_mode": {
    "name": "ipython",
    "version": 3
   },
   "file_extension": ".py",
   "mimetype": "text/x-python",
   "name": "python",
   "nbconvert_exporter": "python",
   "pygments_lexer": "ipython3",
   "version": "3.9.1"
  }
 },
 "nbformat": 4,
 "nbformat_minor": 5
}
