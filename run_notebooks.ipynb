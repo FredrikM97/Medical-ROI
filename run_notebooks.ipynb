{
 "cells": [
  {
   "cell_type": "code",
   "execution_count": 1,
   "id": "guilty-harbor",
   "metadata": {},
   "outputs": [],
   "source": [
    "#%run ./notebooks/visualisation.ipynb"
   ]
  },
  {
   "cell_type": "code",
   "execution_count": null,
   "id": "surface-washer",
   "metadata": {},
   "outputs": [
    {
     "name": "stdout",
     "output_type": "stream",
     "text": [
      "Setup configurations...\n",
      "Architecture [ResNet] was created\n"
     ]
    },
    {
     "name": "stderr",
     "output_type": "stream",
     "text": [
      "GPU available: True, used: True\n",
      "TPU available: None, using: 0 TPU cores\n",
      "Using native 16bit precision.\n",
      "Missing logger folder: logs/tb/resnet50\n",
      "initializing ddp: GLOBAL_RANK: 0, MEMBER: 1/1\n",
      "\n",
      "  | Name  | Type   | Params\n",
      "---------------------------------\n",
      "0 | model | ResNet | 46.2 M\n",
      "---------------------------------\n",
      "46.2 M    Trainable params\n",
      "0         Non-trainable params\n",
      "46.2 M    Total params\n",
      "184.645   Total estimated model params size (MB)\n",
      "INFO:lightning:\n",
      "  | Name  | Type   | Params\n",
      "---------------------------------\n",
      "0 | model | ResNet | 46.2 M\n",
      "---------------------------------\n",
      "46.2 M    Trainable params\n",
      "0         Non-trainable params\n",
      "46.2 M    Total params\n",
      "184.645   Total estimated model params size (MB)\n"
     ]
    },
    {
     "name": "stdout",
     "output_type": "stream",
     "text": [
      "\n",
      "Epoch 1 [71/71] {'loss': '1.11'}\n",
      "Epoch 2 [71/71] {'loss': '1.19'}}\n",
      "Epoch 3 [71/71] {'loss': '1.2'}}\n",
      "Epoch 4 [71/71] {'loss': '1.02'}}\n",
      "Epoch 5 [71/71] {'loss': '0.977'}\n",
      "Epoch 6 [71/71] {'loss': '0.993'}\n",
      "Epoch 7 [71/71] {'loss': '0.791'}\n",
      "Epoch 8 [71/71] {'loss': '0.846'}\n",
      "Epoch 9 [71/71] {'loss': '0.915'}\n",
      "Epoch 10 [71/71] {'loss': '0.808'}\n",
      "Epoch 11 [71/71] {'loss': '0.545'}\n",
      "Epoch 12 [71/71] {'loss': '0.749'}\n",
      "Epoch 13 [71/71] {'loss': '0.992'}\n",
      "Epoch 14 [71/71] {'loss': '0.67'}}\n",
      "Epoch 15 [71/71] {'loss': '0.528'}\n",
      "Epoch 16 [71/71] {'loss': '0.575'}\n",
      "Epoch 17 [71/71] {'loss': '0.698'}\n",
      "Epoch 18 [71/71] {'loss': '0.715'}\n",
      "Epoch 19 [71/71] {'loss': '0.482'}\n",
      "Epoch 20 [71/71] {'loss': '0.644'}\n",
      "Epoch 21 [71/71] {'loss': '0.279'}\n",
      "Epoch 22 [71/71] {'loss': '0.662'}\n",
      "Epoch 23 [71/71] {'loss': '0.534'}\n",
      "Epoch 24 [71/71] {'loss': '0.398'}\n",
      "Epoch 25 [71/71] {'loss': '0.262'}\n",
      "Epoch 26 [71/71] {'loss': '0.214'}}\r"
     ]
    }
   ],
   "source": [
    "%run ./notebooks/nn.ipynb"
   ]
  }
 ],
 "metadata": {
  "kernelspec": {
   "display_name": "Master-thesis",
   "language": "python",
   "name": "master-thesis"
  },
  "language_info": {
   "codemirror_mode": {
    "name": "ipython",
    "version": 3
   },
   "file_extension": ".py",
   "mimetype": "text/x-python",
   "name": "python",
   "nbconvert_exporter": "python",
   "pygments_lexer": "ipython3",
   "version": "3.9.2"
  }
 },
 "nbformat": 4,
 "nbformat_minor": 5
}
