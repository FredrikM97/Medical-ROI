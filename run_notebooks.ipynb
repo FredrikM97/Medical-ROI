{
 "cells": [
  {
   "cell_type": "code",
   "execution_count": 1,
<<<<<<< HEAD
   "id": "guilty-harbor",
=======
   "id": "derived-tribute",
>>>>>>> Minor bugfixes to run trainer
   "metadata": {},
   "outputs": [],
   "source": [
    "#%run ./notebooks/visualisation.ipynb"
   ]
  },
  {
   "cell_type": "code",
   "execution_count": null,
<<<<<<< HEAD
   "id": "surface-washer",
=======
   "id": "directed-category",
>>>>>>> Minor bugfixes to run trainer
   "metadata": {},
   "outputs": [
    {
     "name": "stdout",
     "output_type": "stream",
     "text": [
      "Dataset sizes - Training: 421 Validation: 47\n",
      "Architecture [ResNet] was created\n",
      "***Defined hyperparameters:***\n",
      "\"arch\":                {'name': 'resnet50', 'args': {}}\n",
      "\"callbacks\":           ['litprogressbar', 'modelcheckpoints', 'metriccallback']\n",
      "\"checkpoint_path\":     None\n",
      "\"class_weights\":       None\n",
      "\"hp_metrics\":          ['loss', 'loss', 'accuracy', 'auc', 'specificity', 'sensitivity']\n",
      "\"kfold\":               {'enable': False, 'folds': 10}\n",
      "\"loss\":                CrossEntropyLoss\n",
      "\"loss_weight_balance\": None\n",
      "\"optimizer\":           {'type': 'Adam', 'args': {'lr': 0.0002, 'weight_decay': 1e-05, 'amsgrad': True}}\n"
     ]
    },
    {
     "name": "stderr",
     "output_type": "stream",
     "text": [
      "GPU available: True, used: True\n",
      "TPU available: None, using: 0 TPU cores\n",
      "Using native 16bit precision.\n",
      "initializing ddp: GLOBAL_RANK: 0, MEMBER: 1/1\n",
      "\n",
      "  | Name  | Type   | Params\n",
      "---------------------------------\n",
      "0 | model | ResNet | 46.2 M\n",
      "---------------------------------\n",
      "46.2 M    Trainable params\n",
      "0         Non-trainable params\n",
      "46.2 M    Total params\n",
      "184.645   Total estimated model params size (MB)\n",
      "INFO:lightning:\n",
      "  | Name  | Type   | Params\n",
      "---------------------------------\n",
      "0 | model | ResNet | 46.2 M\n",
      "---------------------------------\n",
      "46.2 M    Trainable params\n",
      "0         Non-trainable params\n",
      "46.2 M    Total params\n",
      "184.645   Total estimated model params size (MB)\n"
     ]
    },
    {
     "name": "stdout",
     "output_type": "stream",
     "text": [
      "\n",
<<<<<<< HEAD
      "Epoch 1 [71/71] {'loss': '1.11'}\n",
      "Epoch 2 [71/71] {'loss': '1.19'}}\n",
      "Epoch 3 [71/71] {'loss': '1.2'}}\n",
      "Epoch 4 [71/71] {'loss': '1.02'}}\n",
      "Epoch 5 [71/71] {'loss': '0.977'}\n",
      "Epoch 6 [71/71] {'loss': '0.993'}\n",
      "Epoch 7 [71/71] {'loss': '0.791'}\n",
      "Epoch 8 [71/71] {'loss': '0.846'}\n",
      "Epoch 9 [71/71] {'loss': '0.915'}\n",
      "Epoch 10 [71/71] {'loss': '0.808'}\n",
      "Epoch 11 [71/71] {'loss': '0.545'}\n",
      "Epoch 12 [71/71] {'loss': '0.749'}\n",
      "Epoch 13 [71/71] {'loss': '0.992'}\n",
      "Epoch 14 [71/71] {'loss': '0.67'}}\n",
      "Epoch 15 [71/71] {'loss': '0.528'}\n",
      "Epoch 16 [71/71] {'loss': '0.575'}\n",
      "Epoch 17 [71/71] {'loss': '0.698'}\n",
      "Epoch 18 [71/71] {'loss': '0.715'}\n",
      "Epoch 19 [71/71] {'loss': '0.482'}\n",
      "Epoch 20 [71/71] {'loss': '0.644'}\n",
      "Epoch 21 [71/71] {'loss': '0.279'}\n",
      "Epoch 22 [71/71] {'loss': '0.662'}\n",
      "Epoch 23 [71/71] {'loss': '0.534'}\n",
      "Epoch 24 [71/71] {'loss': '0.398'}\n",
      "Epoch 25 [71/71] {'loss': '0.262'}\n",
      "Epoch 26 [71/71] {'loss': '0.214'}}\r"
=======
      "Epoch 1 [71/71] {'loss': '1.14'}\n",
      "Epoch 2 [53/71] {'loss': '1.16'}\r"
>>>>>>> Minor bugfixes to run trainer
     ]
    }
   ],
   "source": [
    "%run ./notebooks/nn.ipynb"
   ]
  }
 ],
 "metadata": {
  "kernelspec": {
   "display_name": "Master-thesis",
   "language": "python",
   "name": "master-thesis"
  },
  "language_info": {
   "codemirror_mode": {
    "name": "ipython",
    "version": 3
   },
   "file_extension": ".py",
   "mimetype": "text/x-python",
   "name": "python",
   "nbconvert_exporter": "python",
   "pygments_lexer": "ipython3",
   "version": "3.9.2"
  }
 },
 "nbformat": 4,
 "nbformat_minor": 5
}
