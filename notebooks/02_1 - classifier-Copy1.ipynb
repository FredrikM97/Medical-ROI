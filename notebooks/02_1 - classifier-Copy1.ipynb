{
 "cells": [
  {
   "cell_type": "code",
   "execution_count": 1,
   "id": "sunset-syndicate",
   "metadata": {},
   "outputs": [],
   "source": [
    "%load_ext autoreload\n",
    "%autoreload 2\n",
    "import sys\n",
    "if '..' not in sys.path: sys.path.append(\"..\")"
   ]
  },
  {
   "cell_type": "code",
   "execution_count": 2,
   "id": "1b3cd567-e1b1-4c8d-976f-3e08e7c67483",
   "metadata": {},
   "outputs": [],
   "source": [
    "import time\n",
    "from src.classifier import agent"
   ]
  },
  {
   "cell_type": "code",
   "execution_count": 4,
   "id": "70ebd9e9-f85e-404c-a38a-a1b7b602cfcd",
   "metadata": {},
   "outputs": [],
   "source": [
    "import torch\n",
    "def run_me(name,i_limit=5,base_config='base'):\n",
    "    torch.cuda.empty_cache()\n",
    "    trainer = agent.Agent(name, base_config=base_config)\n",
    "    \n",
    "    try:\n",
    "        i = 0\n",
    "        while True:\n",
    "            try:\n",
    "                tr = trainer.run()\n",
    "                time.sleep(10)\n",
    "                i += 1\n",
    "                del tr\n",
    "\n",
    "            except:\n",
    "                pass\n",
    "            finally:\n",
    "                if not trainer.dataloader.next_fold() or i == i_limit and i_limit != -1: break\n",
    "                torch.cuda.empty_cache()\n",
    "    except Exception as e:\n",
    "        torch.cuda.empty_cache()\n",
    "        raise e"
   ]
  },
  {
   "cell_type": "code",
   "execution_count": null,
   "id": "b14a154f-07d1-4875-aa8b-7ee6c12be57a",
   "metadata": {
    "collapsed": true,
    "jupyter": {
     "outputs_hidden": true
    },
    "tags": []
   },
   "outputs": [
    {
     "name": "stdout",
     "output_type": "stream",
     "text": [
      "***Defined dataloader:***\n",
      "Data directory: data/SPM_categorised/Amira/\n",
      "Dataset sizes - Training: 500 Validation: 56\n",
      "Seed: 420\n",
      "Augmentation: Enabled\n",
      "KFold: Enabled - Fold: 1/10\n",
      "\n",
      "Architecture [ResNet] was created\n",
      "***Defined hyperparameters:***\n",
      "\"arch\":                {'name': 'resnet50', 'args': {'num_channels': 1, 'num_classes': 3}}\n",
      "\"checkpoint_path\":     None\n",
      "\"class_weights\":       tensor([1.1905, 0.9259, 0.9259], device='cuda:0')\n",
      "\"hp_metrics\":          ['loss/train', 'loss/val', 'Accuracy/val', 'AUROC/val', 'Precision/val', 'Recall/val', 'Specificity/val']\n",
      "\"loss\":                {'type': 'CrossEntropyLoss', 'args': {'weight': True}}\n",
      "\"optimizer\":           {'type': 'Adam', 'args': {'lr': 0.0001, 'weight_decay': 0, 'amsgrad': True}}\n",
      "\"roi_hparams\":         {'enable': False, 'output_shape': [3, 3, 3], 'boundary_boxes': []}\n",
      "\"weight_distribution\": normal\n"
     ]
    },
    {
     "name": "stderr",
     "output_type": "stream",
     "text": [
      "/home/stud/f/fremar16/miniconda3/envs/Master-thesis/lib/python3.9/site-packages/torchmetrics/utilities/prints.py:36: UserWarning: Metric `AUROC` will save all targets and predictions in buffer. For large datasets this may lead to large memory footprint.\n",
      "  warnings.warn(*args, **kwargs)\n",
      "GPU available: True, used: True\n",
      "TPU available: False, using: 0 TPU cores\n",
      "Missing logger folder: /var/metrics/codetests/logs/tb/resnet50/20210506180540\n",
      "LOCAL_RANK: 0 - CUDA_VISIBLE_DEVICES: [0]\n",
      "\n",
      "  | Name          | Type             | Params\n",
      "---------------------------------------------------\n",
      "0 | model         | ResNet           | 46.2 M\n",
      "1 | criteria      | CrossEntropyLoss | 0     \n",
      "2 | train_metrics | MetricCollection | 0     \n",
      "3 | valid_metrics | MetricCollection | 0     \n",
      "---------------------------------------------------\n",
      "46.2 M    Trainable params\n",
      "0         Non-trainable params\n",
      "46.2 M    Total params\n",
      "184.645   Total estimated model params size (MB)\n"
     ]
    },
    {
     "name": "stdout",
     "output_type": "stream",
     "text": [
      "Enabled callbacks:  ['LitProgressBar', 'EarlyStopping']\n",
      "Dataloader fold: 1\n",
      "Epoch 1 [63/63] {'loss': '1.2'}}\r"
     ]
    },
    {
     "name": "stderr",
     "output_type": "stream",
     "text": [
      "Metric loss/val improved. New best score: 1.307\n"
     ]
    },
    {
     "name": "stdout",
     "output_type": "stream",
     "text": [
      "Epoch 2 [63/63] {'loss': '1.16'}\r"
     ]
    },
    {
     "name": "stderr",
     "output_type": "stream",
     "text": [
      "Metric loss/val improved by 0.085 >= min_delta = 0. New best score: 1.222\n"
     ]
    },
    {
     "name": "stdout",
     "output_type": "stream",
     "text": [
      "Epoch 5 [63/63] {'loss': '1.13'}\r"
     ]
    },
    {
     "name": "stderr",
     "output_type": "stream",
     "text": [
      "Metric loss/val improved by 0.114 >= min_delta = 0. New best score: 1.108\n"
     ]
    },
    {
     "name": "stdout",
     "output_type": "stream",
     "text": [
      "Epoch 11 [63/63] {'loss': '1.04'}}\r"
     ]
    },
    {
     "name": "stderr",
     "output_type": "stream",
     "text": [
      "Metric loss/val improved by 0.027 >= min_delta = 0. New best score: 1.081\n"
     ]
    },
    {
     "name": "stdout",
     "output_type": "stream",
     "text": [
      "Epoch 15 [63/63] {'loss': '1.06'}}\r"
     ]
    },
    {
     "name": "stderr",
     "output_type": "stream",
     "text": [
      "Metric loss/val improved by 0.195 >= min_delta = 0. New best score: 0.886\n"
     ]
    },
    {
     "name": "stdout",
     "output_type": "stream",
     "text": [
      "Epoch 27 [63/63] {'loss': '0.952'}\r"
     ]
    },
    {
     "name": "stderr",
     "output_type": "stream",
     "text": [
      "Metric loss/val improved by 0.067 >= min_delta = 0. New best score: 0.820\n"
     ]
    },
    {
     "name": "stdout",
     "output_type": "stream",
     "text": [
      "Epoch 47 [63/63] {'loss': '0.881'}\r"
     ]
    },
    {
     "name": "stderr",
     "output_type": "stream",
     "text": [
      "Monitored metric loss/val did not improve in the last 20 records. Best score: 0.820. Signaling Trainer to stop.\n"
     ]
    },
    {
     "name": "stdout",
     "output_type": "stream",
     "text": [
      "Architecture [ResNet] was created\n",
      "***Defined hyperparameters:***\n",
      "\"arch\":                {'name': 'resnet50', 'args': {'num_channels': 1, 'num_classes': 3}}\n",
      "\"checkpoint_path\":     None\n",
      "\"class_weights\":       tensor([1.1905, 0.9259, 0.9259], device='cuda:0')\n",
      "\"hp_metrics\":          ['loss/train', 'loss/val', 'Accuracy/val', 'AUROC/val', 'Precision/val', 'Recall/val', 'Specificity/val']\n",
      "\"loss\":                {'type': 'CrossEntropyLoss', 'args': {'weight': True}}\n",
      "\"optimizer\":           {'type': 'Adam', 'args': {'lr': 0.0001, 'weight_decay': 0, 'amsgrad': True}}\n",
      "\"roi_hparams\":         {'enable': False, 'output_shape': [3, 3, 3], 'boundary_boxes': []}\n",
      "\"weight_distribution\": normal\n"
     ]
    },
    {
     "name": "stderr",
     "output_type": "stream",
     "text": [
      "GPU available: True, used: True\n",
      "TPU available: False, using: 0 TPU cores\n",
      "LOCAL_RANK: 0 - CUDA_VISIBLE_DEVICES: [0]\n",
      "\n",
      "  | Name          | Type             | Params\n",
      "---------------------------------------------------\n",
      "0 | model         | ResNet           | 46.2 M\n",
      "1 | criteria      | CrossEntropyLoss | 0     \n",
      "2 | train_metrics | MetricCollection | 0     \n",
      "3 | valid_metrics | MetricCollection | 0     \n",
      "---------------------------------------------------\n",
      "46.2 M    Trainable params\n",
      "0         Non-trainable params\n",
      "46.2 M    Total params\n",
      "184.645   Total estimated model params size (MB)\n"
     ]
    },
    {
     "name": "stdout",
     "output_type": "stream",
     "text": [
      "Enabled callbacks:  ['LitProgressBar', 'EarlyStopping']\n",
      "Dataloader fold: 2\n",
      "Epoch 1 [63/63] {'loss': '1.2'}}\r"
     ]
    },
    {
     "name": "stderr",
     "output_type": "stream",
     "text": [
      "Metric loss/val improved. New best score: 1.446\n"
     ]
    },
    {
     "name": "stdout",
     "output_type": "stream",
     "text": [
      "Epoch 2 [63/63] {'loss': '1.07'}\r"
     ]
    },
    {
     "name": "stderr",
     "output_type": "stream",
     "text": [
      "Metric loss/val improved by 0.241 >= min_delta = 0. New best score: 1.204\n"
     ]
    },
    {
     "name": "stdout",
     "output_type": "stream",
     "text": [
      "Epoch 3 [63/63] {'loss': '1.16'}\r"
     ]
    },
    {
     "name": "stderr",
     "output_type": "stream",
     "text": [
      "Metric loss/val improved by 0.121 >= min_delta = 0. New best score: 1.084\n"
     ]
    },
    {
     "name": "stdout",
     "output_type": "stream",
     "text": [
      "Epoch 7 [63/63] {'loss': '1.16'}\r"
     ]
    },
    {
     "name": "stderr",
     "output_type": "stream",
     "text": [
      "Metric loss/val improved by 0.048 >= min_delta = 0. New best score: 1.036\n"
     ]
    },
    {
     "name": "stdout",
     "output_type": "stream",
     "text": [
      "Epoch 13 [63/63] {'loss': '1.02'}}\r"
     ]
    },
    {
     "name": "stderr",
     "output_type": "stream",
     "text": [
      "Metric loss/val improved by 0.133 >= min_delta = 0. New best score: 0.903\n"
     ]
    },
    {
     "name": "stdout",
     "output_type": "stream",
     "text": [
      "Epoch 22 [63/63] {'loss': '0.907'}\r"
     ]
    },
    {
     "name": "stderr",
     "output_type": "stream",
     "text": [
      "Metric loss/val improved by 0.056 >= min_delta = 0. New best score: 0.846\n"
     ]
    },
    {
     "name": "stdout",
     "output_type": "stream",
     "text": [
      "Epoch 40 [63/63] {'loss': '0.901'}\r"
     ]
    },
    {
     "name": "stderr",
     "output_type": "stream",
     "text": [
      "Metric loss/val improved by 0.016 >= min_delta = 0. New best score: 0.830\n"
     ]
    },
    {
     "name": "stdout",
     "output_type": "stream",
     "text": [
      "Epoch 44 [63/63] {'loss': '0.792'}\r"
     ]
    },
    {
     "name": "stderr",
     "output_type": "stream",
     "text": [
      "Metric loss/val improved by 0.001 >= min_delta = 0. New best score: 0.829\n"
     ]
    },
    {
     "name": "stdout",
     "output_type": "stream",
     "text": [
      "Epoch 49 [63/63] {'loss': '0.818'}\r"
     ]
    },
    {
     "name": "stderr",
     "output_type": "stream",
     "text": [
      "Metric loss/val improved by 0.036 >= min_delta = 0. New best score: 0.794\n"
     ]
    },
    {
     "name": "stdout",
     "output_type": "stream",
     "text": [
      "Epoch 69 [63/63] {'loss': '0.709'}\r"
     ]
    },
    {
     "name": "stderr",
     "output_type": "stream",
     "text": [
      "Monitored metric loss/val did not improve in the last 20 records. Best score: 0.794. Signaling Trainer to stop.\n"
     ]
    },
    {
     "name": "stdout",
     "output_type": "stream",
     "text": [
      "Architecture [ResNet] was created\n",
      "***Defined hyperparameters:***\n",
      "\"arch\":                {'name': 'resnet50', 'args': {'num_channels': 1, 'num_classes': 3}}\n",
      "\"checkpoint_path\":     None\n",
      "\"class_weights\":       tensor([1.1905, 0.9259, 0.9259], device='cuda:0')\n",
      "\"hp_metrics\":          ['loss/train', 'loss/val', 'Accuracy/val', 'AUROC/val', 'Precision/val', 'Recall/val', 'Specificity/val']\n",
      "\"loss\":                {'type': 'CrossEntropyLoss', 'args': {'weight': True}}\n",
      "\"optimizer\":           {'type': 'Adam', 'args': {'lr': 0.0001, 'weight_decay': 0, 'amsgrad': True}}\n",
      "\"roi_hparams\":         {'enable': False, 'output_shape': [3, 3, 3], 'boundary_boxes': []}\n",
      "\"weight_distribution\": normal\n"
     ]
    },
    {
     "name": "stderr",
     "output_type": "stream",
     "text": [
      "GPU available: True, used: True\n",
      "TPU available: False, using: 0 TPU cores\n",
      "LOCAL_RANK: 0 - CUDA_VISIBLE_DEVICES: [0]\n",
      "\n",
      "  | Name          | Type             | Params\n",
      "---------------------------------------------------\n",
      "0 | model         | ResNet           | 46.2 M\n",
      "1 | criteria      | CrossEntropyLoss | 0     \n",
      "2 | train_metrics | MetricCollection | 0     \n",
      "3 | valid_metrics | MetricCollection | 0     \n",
      "---------------------------------------------------\n",
      "46.2 M    Trainable params\n",
      "0         Non-trainable params\n",
      "46.2 M    Total params\n",
      "184.645   Total estimated model params size (MB)\n"
     ]
    },
    {
     "name": "stdout",
     "output_type": "stream",
     "text": [
      "Enabled callbacks:  ['LitProgressBar', 'EarlyStopping']\n",
      "Dataloader fold: 3\n",
      "Epoch 1 [63/63] {'loss': '1.2'}}\r"
     ]
    },
    {
     "name": "stderr",
     "output_type": "stream",
     "text": [
      "Metric loss/val improved. New best score: 1.131\n"
     ]
    },
    {
     "name": "stdout",
     "output_type": "stream",
     "text": [
      "Epoch 4 [63/63] {'loss': '1.15'}\r"
     ]
    },
    {
     "name": "stderr",
     "output_type": "stream",
     "text": [
      "Metric loss/val improved by 0.013 >= min_delta = 0. New best score: 1.118\n"
     ]
    },
    {
     "name": "stdout",
     "output_type": "stream",
     "text": [
      "Epoch 6 [63/63] {'loss': '1.11'}\r"
     ]
    },
    {
     "name": "stderr",
     "output_type": "stream",
     "text": [
      "Metric loss/val improved by 0.036 >= min_delta = 0. New best score: 1.083\n"
     ]
    },
    {
     "name": "stdout",
     "output_type": "stream",
     "text": [
      "Epoch 11 [63/63] {'loss': '1.12'}\r"
     ]
    },
    {
     "name": "stderr",
     "output_type": "stream",
     "text": [
      "Metric loss/val improved by 0.029 >= min_delta = 0. New best score: 1.053\n"
     ]
    },
    {
     "name": "stdout",
     "output_type": "stream",
     "text": [
      "Epoch 13 [63/63] {'loss': '1.08'}}\r"
     ]
    },
    {
     "name": "stderr",
     "output_type": "stream",
     "text": [
      "Metric loss/val improved by 0.023 >= min_delta = 0. New best score: 1.030\n"
     ]
    },
    {
     "name": "stdout",
     "output_type": "stream",
     "text": [
      "Epoch 17 [63/63] {'loss': '1.03'}}\r"
     ]
    },
    {
     "name": "stderr",
     "output_type": "stream",
     "text": [
      "Metric loss/val improved by 0.103 >= min_delta = 0. New best score: 0.927\n"
     ]
    },
    {
     "name": "stdout",
     "output_type": "stream",
     "text": [
      "Epoch 22 [63/63] {'loss': '0.878'}\r"
     ]
    },
    {
     "name": "stderr",
     "output_type": "stream",
     "text": [
      "Metric loss/val improved by 0.010 >= min_delta = 0. New best score: 0.917\n"
     ]
    },
    {
     "name": "stdout",
     "output_type": "stream",
     "text": [
      "Epoch 30 [63/63] {'loss': '0.852'}\r"
     ]
    },
    {
     "name": "stderr",
     "output_type": "stream",
     "text": [
      "Metric loss/val improved by 0.023 >= min_delta = 0. New best score: 0.894\n"
     ]
    },
    {
     "name": "stdout",
     "output_type": "stream",
     "text": [
      "Epoch 35 [63/63] {'loss': '0.985'}\r"
     ]
    },
    {
     "name": "stderr",
     "output_type": "stream",
     "text": [
      "Metric loss/val improved by 0.014 >= min_delta = 0. New best score: 0.881\n"
     ]
    },
    {
     "name": "stdout",
     "output_type": "stream",
     "text": [
      "Epoch 37 [63/63] {'loss': '0.961'}\r"
     ]
    },
    {
     "name": "stderr",
     "output_type": "stream",
     "text": [
      "Metric loss/val improved by 0.073 >= min_delta = 0. New best score: 0.808\n"
     ]
    },
    {
     "name": "stdout",
     "output_type": "stream",
     "text": [
      "Epoch 56 [63/63] {'loss': '0.86'}}\r"
     ]
    },
    {
     "name": "stderr",
     "output_type": "stream",
     "text": [
      "Metric loss/val improved by 0.014 >= min_delta = 0. New best score: 0.794\n"
     ]
    },
    {
     "name": "stdout",
     "output_type": "stream",
     "text": [
      "Epoch 74 [63/63] {'loss': '0.831'}\r"
     ]
    },
    {
     "name": "stderr",
     "output_type": "stream",
     "text": [
      "Metric loss/val improved by 0.013 >= min_delta = 0. New best score: 0.781\n"
     ]
    },
    {
     "name": "stdout",
     "output_type": "stream",
     "text": [
      "Epoch 94 [63/63] {'loss': '0.758'}\r"
     ]
    },
    {
     "name": "stderr",
     "output_type": "stream",
     "text": [
      "Monitored metric loss/val did not improve in the last 20 records. Best score: 0.781. Signaling Trainer to stop.\n"
     ]
    },
    {
     "name": "stdout",
     "output_type": "stream",
     "text": [
      "Architecture [ResNet] was created\n",
      "***Defined hyperparameters:***\n",
      "\"arch\":                {'name': 'resnet50', 'args': {'num_channels': 1, 'num_classes': 3}}\n",
      "\"checkpoint_path\":     None\n",
      "\"class_weights\":       tensor([1.1905, 0.9259, 0.9259], device='cuda:0')\n",
      "\"hp_metrics\":          ['loss/train', 'loss/val', 'Accuracy/val', 'AUROC/val', 'Precision/val', 'Recall/val', 'Specificity/val']\n",
      "\"loss\":                {'type': 'CrossEntropyLoss', 'args': {'weight': True}}\n",
      "\"optimizer\":           {'type': 'Adam', 'args': {'lr': 0.0001, 'weight_decay': 0, 'amsgrad': True}}\n",
      "\"roi_hparams\":         {'enable': False, 'output_shape': [3, 3, 3], 'boundary_boxes': []}\n",
      "\"weight_distribution\": normal\n"
     ]
    },
    {
     "name": "stderr",
     "output_type": "stream",
     "text": [
      "GPU available: True, used: True\n",
      "TPU available: False, using: 0 TPU cores\n",
      "LOCAL_RANK: 0 - CUDA_VISIBLE_DEVICES: [0]\n",
      "\n",
      "  | Name          | Type             | Params\n",
      "---------------------------------------------------\n",
      "0 | model         | ResNet           | 46.2 M\n",
      "1 | criteria      | CrossEntropyLoss | 0     \n",
      "2 | train_metrics | MetricCollection | 0     \n",
      "3 | valid_metrics | MetricCollection | 0     \n",
      "---------------------------------------------------\n",
      "46.2 M    Trainable params\n",
      "0         Non-trainable params\n",
      "46.2 M    Total params\n",
      "184.645   Total estimated model params size (MB)\n"
     ]
    },
    {
     "name": "stdout",
     "output_type": "stream",
     "text": [
      "Enabled callbacks:  ['LitProgressBar', 'EarlyStopping']\n",
      "Dataloader fold: 4\n",
      "Epoch 1 [63/63] {'loss': '1.23'}\r"
     ]
    },
    {
     "name": "stderr",
     "output_type": "stream",
     "text": [
      "Metric loss/val improved. New best score: 1.287\n"
     ]
    },
    {
     "name": "stdout",
     "output_type": "stream",
     "text": [
      "Epoch 2 [63/63] {'loss': '1.2'}}\r"
     ]
    },
    {
     "name": "stderr",
     "output_type": "stream",
     "text": [
      "Metric loss/val improved by 0.070 >= min_delta = 0. New best score: 1.217\n"
     ]
    },
    {
     "name": "stdout",
     "output_type": "stream",
     "text": [
      "Epoch 3 [63/63] {'loss': '1.13'}\r"
     ]
    },
    {
     "name": "stderr",
     "output_type": "stream",
     "text": [
      "Metric loss/val improved by 0.160 >= min_delta = 0. New best score: 1.057\n"
     ]
    },
    {
     "name": "stdout",
     "output_type": "stream",
     "text": [
      "Epoch 10 [63/63] {'loss': '1.13'}\r"
     ]
    },
    {
     "name": "stderr",
     "output_type": "stream",
     "text": [
      "Metric loss/val improved by 0.001 >= min_delta = 0. New best score: 1.055\n"
     ]
    },
    {
     "name": "stdout",
     "output_type": "stream",
     "text": [
      "Epoch 16 [63/63] {'loss': '0.962'}\r"
     ]
    },
    {
     "name": "stderr",
     "output_type": "stream",
     "text": [
      "Metric loss/val improved by 0.010 >= min_delta = 0. New best score: 1.045\n"
     ]
    },
    {
     "name": "stdout",
     "output_type": "stream",
     "text": [
      "Epoch 20 [63/63] {'loss': '1.06'}}\r"
     ]
    },
    {
     "name": "stderr",
     "output_type": "stream",
     "text": [
      "Metric loss/val improved by 0.124 >= min_delta = 0. New best score: 0.922\n"
     ]
    },
    {
     "name": "stdout",
     "output_type": "stream",
     "text": [
      "Epoch 25 [63/63] {'loss': '0.913'}\r"
     ]
    },
    {
     "name": "stderr",
     "output_type": "stream",
     "text": [
      "Metric loss/val improved by 0.014 >= min_delta = 0. New best score: 0.907\n"
     ]
    },
    {
     "name": "stdout",
     "output_type": "stream",
     "text": [
      "Epoch 29 [63/63] {'loss': '0.951'}\r"
     ]
    },
    {
     "name": "stderr",
     "output_type": "stream",
     "text": [
      "Metric loss/val improved by 0.010 >= min_delta = 0. New best score: 0.897\n"
     ]
    },
    {
     "name": "stdout",
     "output_type": "stream",
     "text": [
      "Epoch 35 [63/63] {'loss': '0.777'}\r"
     ]
    },
    {
     "name": "stderr",
     "output_type": "stream",
     "text": [
      "Metric loss/val improved by 0.038 >= min_delta = 0. New best score: 0.860\n"
     ]
    },
    {
     "name": "stdout",
     "output_type": "stream",
     "text": [
      "Epoch 36 [63/63] {'loss': '0.843'}\r"
     ]
    },
    {
     "name": "stderr",
     "output_type": "stream",
     "text": [
      "Metric loss/val improved by 0.063 >= min_delta = 0. New best score: 0.797\n"
     ]
    },
    {
     "name": "stdout",
     "output_type": "stream",
     "text": [
      "Epoch 45 [63/63] {'loss': '0.827'}\r"
     ]
    },
    {
     "name": "stderr",
     "output_type": "stream",
     "text": [
      "Metric loss/val improved by 0.019 >= min_delta = 0. New best score: 0.778\n"
     ]
    },
    {
     "name": "stdout",
     "output_type": "stream",
     "text": [
      "Epoch 54 [63/63] {'loss': '0.688'}\r"
     ]
    },
    {
     "name": "stderr",
     "output_type": "stream",
     "text": [
      "Metric loss/val improved by 0.057 >= min_delta = 0. New best score: 0.721\n"
     ]
    },
    {
     "name": "stdout",
     "output_type": "stream",
     "text": [
      "Epoch 74 [63/63] {'loss': '0.742'}\r"
     ]
    },
    {
     "name": "stderr",
     "output_type": "stream",
     "text": [
      "Monitored metric loss/val did not improve in the last 20 records. Best score: 0.721. Signaling Trainer to stop.\n"
     ]
    },
    {
     "name": "stdout",
     "output_type": "stream",
     "text": [
      "Architecture [ResNet] was created\n",
      "***Defined hyperparameters:***\n",
      "\"arch\":                {'name': 'resnet50', 'args': {'num_channels': 1, 'num_classes': 3}}\n",
      "\"checkpoint_path\":     None\n",
      "\"class_weights\":       tensor([1.1905, 0.9259, 0.9259], device='cuda:0')\n",
      "\"hp_metrics\":          ['loss/train', 'loss/val', 'Accuracy/val', 'AUROC/val', 'Precision/val', 'Recall/val', 'Specificity/val']\n",
      "\"loss\":                {'type': 'CrossEntropyLoss', 'args': {'weight': True}}\n",
      "\"optimizer\":           {'type': 'Adam', 'args': {'lr': 0.0001, 'weight_decay': 0, 'amsgrad': True}}\n",
      "\"roi_hparams\":         {'enable': False, 'output_shape': [3, 3, 3], 'boundary_boxes': []}\n",
      "\"weight_distribution\": normal\n"
     ]
    },
    {
     "name": "stderr",
     "output_type": "stream",
     "text": [
      "GPU available: True, used: True\n",
      "TPU available: False, using: 0 TPU cores\n",
      "LOCAL_RANK: 0 - CUDA_VISIBLE_DEVICES: [0]\n",
      "\n",
      "  | Name          | Type             | Params\n",
      "---------------------------------------------------\n",
      "0 | model         | ResNet           | 46.2 M\n",
      "1 | criteria      | CrossEntropyLoss | 0     \n",
      "2 | train_metrics | MetricCollection | 0     \n",
      "3 | valid_metrics | MetricCollection | 0     \n",
      "---------------------------------------------------\n",
      "46.2 M    Trainable params\n",
      "0         Non-trainable params\n",
      "46.2 M    Total params\n",
      "184.645   Total estimated model params size (MB)\n"
     ]
    },
    {
     "name": "stdout",
     "output_type": "stream",
     "text": [
      "Enabled callbacks:  ['LitProgressBar', 'EarlyStopping']\n",
      "Dataloader fold: 5\n",
      "Epoch 1 [63/63] {'loss': '1.19'}\r"
     ]
    },
    {
     "name": "stderr",
     "output_type": "stream",
     "text": [
      "Metric loss/val improved. New best score: 1.130\n"
     ]
    },
    {
     "name": "stdout",
     "output_type": "stream",
     "text": [
      "Epoch 2 [63/63] {'loss': '1.21'}\r"
     ]
    },
    {
     "name": "stderr",
     "output_type": "stream",
     "text": [
      "Metric loss/val improved by 0.034 >= min_delta = 0. New best score: 1.096\n"
     ]
    },
    {
     "name": "stdout",
     "output_type": "stream",
     "text": [
      "Epoch 5 [63/63] {'loss': '1.15'}\r"
     ]
    },
    {
     "name": "stderr",
     "output_type": "stream",
     "text": [
      "Metric loss/val improved by 0.025 >= min_delta = 0. New best score: 1.071\n"
     ]
    },
    {
     "name": "stdout",
     "output_type": "stream",
     "text": [
      "Epoch 7 [63/63] {'loss': '1.12'}\r"
     ]
    },
    {
     "name": "stderr",
     "output_type": "stream",
     "text": [
      "Metric loss/val improved by 0.020 >= min_delta = 0. New best score: 1.052\n"
     ]
    },
    {
     "name": "stdout",
     "output_type": "stream",
     "text": [
      "Epoch 14 [63/63] {'loss': '1.07'}}\r"
     ]
    },
    {
     "name": "stderr",
     "output_type": "stream",
     "text": [
      "Metric loss/val improved by 0.176 >= min_delta = 0. New best score: 0.875\n"
     ]
    },
    {
     "name": "stdout",
     "output_type": "stream",
     "text": [
      "Epoch 22 [63/63] {'loss': '0.998'}\r"
     ]
    },
    {
     "name": "stderr",
     "output_type": "stream",
     "text": [
      "Metric loss/val improved by 0.001 >= min_delta = 0. New best score: 0.874\n"
     ]
    },
    {
     "name": "stdout",
     "output_type": "stream",
     "text": [
      "Epoch 32 [63/63] {'loss': '0.899'}\r"
     ]
    },
    {
     "name": "stderr",
     "output_type": "stream",
     "text": [
      "Metric loss/val improved by 0.071 >= min_delta = 0. New best score: 0.803\n"
     ]
    },
    {
     "name": "stdout",
     "output_type": "stream",
     "text": [
      "Epoch 52 [63/63] {'loss': '0.764'}\r"
     ]
    },
    {
     "name": "stderr",
     "output_type": "stream",
     "text": [
      "Monitored metric loss/val did not improve in the last 20 records. Best score: 0.803. Signaling Trainer to stop.\n"
     ]
    },
    {
     "name": "stdout",
     "output_type": "stream",
     "text": [
      "***Defined dataloader:***\n",
      "Data directory: data/SPM_categorised/Amira/\n",
      "Dataset sizes - Training: 500 Validation: 56\n",
      "Seed: 420\n",
      "Augmentation: Enabled\n",
      "KFold: Enabled - Fold: 1/10\n",
      "\n",
      "Architecture [VGG] was created\n",
      "***Defined hyperparameters:***\n",
      "\"arch\":                {'name': 'vgg16', 'args': {'num_channels': 1, 'num_classes': 3}}\n",
      "\"checkpoint_path\":     None\n",
      "\"class_weights\":       tensor([1.1905, 0.9259, 0.9259], device='cuda:0')\n",
      "\"hp_metrics\":          ['loss/train', 'loss/val', 'Accuracy/val', 'AUROC/val', 'Precision/val', 'Recall/val', 'Specificity/val']\n",
      "\"loss\":                {'type': 'CrossEntropyLoss', 'args': {'weight': True}}\n",
      "\"optimizer\":           {'type': 'Adam', 'args': {'lr': 0.0001, 'weight_decay': 0, 'amsgrad': True}}\n",
      "\"roi_hparams\":         {'enable': False, 'output_shape': [3, 3, 3], 'boundary_boxes': []}\n",
      "\"weight_distribution\": normal\n"
     ]
    },
    {
     "name": "stderr",
     "output_type": "stream",
     "text": [
      "/home/stud/f/fremar16/miniconda3/envs/Master-thesis/lib/python3.9/site-packages/torchmetrics/utilities/prints.py:36: UserWarning: Metric `AUROC` will save all targets and predictions in buffer. For large datasets this may lead to large memory footprint.\n",
      "  warnings.warn(*args, **kwargs)\n",
      "GPU available: True, used: True\n",
      "TPU available: False, using: 0 TPU cores\n",
      "Missing logger folder: /var/metrics/codetests/logs/tb/vgg16/20210506193327\n",
      "LOCAL_RANK: 0 - CUDA_VISIBLE_DEVICES: [0]\n",
      "\n",
      "  | Name          | Type             | Params\n",
      "---------------------------------------------------\n",
      "0 | model         | VGG              | 163 M \n",
      "1 | criteria      | CrossEntropyLoss | 0     \n",
      "2 | train_metrics | MetricCollection | 0     \n",
      "3 | valid_metrics | MetricCollection | 0     \n",
      "---------------------------------------------------\n",
      "163 M     Trainable params\n",
      "0         Non-trainable params\n",
      "163 M     Total params\n",
      "654.761   Total estimated model params size (MB)\n"
     ]
    },
    {
     "name": "stdout",
     "output_type": "stream",
     "text": [
      "Enabled callbacks:  ['LitProgressBar', 'EarlyStopping']\n",
      "Dataloader fold: 1\n",
      "Epoch 1 [63/63] {'loss': '1.1'}}\r"
     ]
    },
    {
     "name": "stderr",
     "output_type": "stream",
     "text": [
      "Metric loss/val improved. New best score: 1.099\n"
     ]
    },
    {
     "name": "stdout",
     "output_type": "stream",
     "text": [
      "Epoch 2 [63/63] {'loss': '1.1'}\r"
     ]
    },
    {
     "name": "stderr",
     "output_type": "stream",
     "text": [
      "Metric loss/val improved by 0.000 >= min_delta = 0. New best score: 1.099\n"
     ]
    },
    {
     "name": "stdout",
     "output_type": "stream",
     "text": [
      "Epoch 3 [63/63] {'loss': '1.1'}\r"
     ]
    },
    {
     "name": "stderr",
     "output_type": "stream",
     "text": [
      "Metric loss/val improved by 0.000 >= min_delta = 0. New best score: 1.098\n"
     ]
    },
    {
     "name": "stdout",
     "output_type": "stream",
     "text": [
      "Epoch 4 [63/63] {'loss': '1.1'}\r"
     ]
    },
    {
     "name": "stderr",
     "output_type": "stream",
     "text": [
      "Metric loss/val improved by 0.000 >= min_delta = 0. New best score: 1.098\n"
     ]
    },
    {
     "name": "stdout",
     "output_type": "stream",
     "text": [
      "Epoch 5 [63/63] {'loss': '1.1'}\r"
     ]
    },
    {
     "name": "stderr",
     "output_type": "stream",
     "text": [
      "Metric loss/val improved by 0.000 >= min_delta = 0. New best score: 1.098\n"
     ]
    },
    {
     "name": "stdout",
     "output_type": "stream",
     "text": [
      "Epoch 6 [63/63] {'loss': '1.1'}\r"
     ]
    },
    {
     "name": "stderr",
     "output_type": "stream",
     "text": [
      "Metric loss/val improved by 0.000 >= min_delta = 0. New best score: 1.098\n"
     ]
    },
    {
     "name": "stdout",
     "output_type": "stream",
     "text": [
      "Epoch 9 [63/63] {'loss': '1.1'}\r"
     ]
    },
    {
     "name": "stderr",
     "output_type": "stream",
     "text": [
      "Metric loss/val improved by 0.000 >= min_delta = 0. New best score: 1.098\n"
     ]
    },
    {
     "name": "stdout",
     "output_type": "stream",
     "text": [
      "Epoch 10 [63/63] {'loss': '1.1'}\r"
     ]
    },
    {
     "name": "stderr",
     "output_type": "stream",
     "text": [
      "Metric loss/val improved by 0.000 >= min_delta = 0. New best score: 1.098\n"
     ]
    },
    {
     "name": "stdout",
     "output_type": "stream",
     "text": [
      "Epoch 11 [63/63] {'loss': '1.1'}\r"
     ]
    },
    {
     "name": "stderr",
     "output_type": "stream",
     "text": [
      "Metric loss/val improved by 0.000 >= min_delta = 0. New best score: 1.098\n"
     ]
    },
    {
     "name": "stdout",
     "output_type": "stream",
     "text": [
      "Epoch 12 [63/63] {'loss': '1.1'}\r"
     ]
    },
    {
     "name": "stderr",
     "output_type": "stream",
     "text": [
      "Metric loss/val improved by 0.000 >= min_delta = 0. New best score: 1.098\n"
     ]
    },
    {
     "name": "stdout",
     "output_type": "stream",
     "text": [
      "Epoch 13 [63/63] {'loss': '1.1'}\r"
     ]
    },
    {
     "name": "stderr",
     "output_type": "stream",
     "text": [
      "Metric loss/val improved by 0.000 >= min_delta = 0. New best score: 1.098\n"
     ]
    },
    {
     "name": "stdout",
     "output_type": "stream",
     "text": [
      "Epoch 14 [63/63] {'loss': '1.1'}\r"
     ]
    },
    {
     "name": "stderr",
     "output_type": "stream",
     "text": [
      "Metric loss/val improved by 0.000 >= min_delta = 0. New best score: 1.098\n"
     ]
    },
    {
     "name": "stdout",
     "output_type": "stream",
     "text": [
      "Epoch 15 [63/63] {'loss': '1.1'}\r"
     ]
    },
    {
     "name": "stderr",
     "output_type": "stream",
     "text": [
      "Metric loss/val improved by 0.000 >= min_delta = 0. New best score: 1.097\n"
     ]
    },
    {
     "name": "stdout",
     "output_type": "stream",
     "text": [
      "Epoch 18 [63/63] {'loss': '1.1'}\r"
     ]
    },
    {
     "name": "stderr",
     "output_type": "stream",
     "text": [
      "Metric loss/val improved by 0.000 >= min_delta = 0. New best score: 1.097\n"
     ]
    },
    {
     "name": "stdout",
     "output_type": "stream",
     "text": [
      "Epoch 25 [63/63] {'loss': '1.1'}\r"
     ]
    },
    {
     "name": "stderr",
     "output_type": "stream",
     "text": [
      "Metric loss/val improved by 0.000 >= min_delta = 0. New best score: 1.097\n"
     ]
    },
    {
     "name": "stdout",
     "output_type": "stream",
     "text": [
      "Epoch 33 [63/63] {'loss': '1.1'}\r"
     ]
    },
    {
     "name": "stderr",
     "output_type": "stream",
     "text": [
      "Metric loss/val improved by 0.000 >= min_delta = 0. New best score: 1.097\n"
     ]
    },
    {
     "name": "stdout",
     "output_type": "stream",
     "text": [
      "Epoch 34 [63/63] {'loss': '1.1'}\r"
     ]
    },
    {
     "name": "stderr",
     "output_type": "stream",
     "text": [
      "Metric loss/val improved by 0.000 >= min_delta = 0. New best score: 1.097\n"
     ]
    },
    {
     "name": "stdout",
     "output_type": "stream",
     "text": [
      "Epoch 41 [63/63] {'loss': '1.1'}\r"
     ]
    },
    {
     "name": "stderr",
     "output_type": "stream",
     "text": [
      "Metric loss/val improved by 0.000 >= min_delta = 0. New best score: 1.097\n"
     ]
    },
    {
     "name": "stdout",
     "output_type": "stream",
     "text": [
      "Epoch 42 [63/63] {'loss': '1.1'}\r"
     ]
    },
    {
     "name": "stderr",
     "output_type": "stream",
     "text": [
      "Metric loss/val improved by 0.000 >= min_delta = 0. New best score: 1.097\n"
     ]
    },
    {
     "name": "stdout",
     "output_type": "stream",
     "text": [
      "Epoch 43 [63/63] {'loss': '1.1'}\r"
     ]
    },
    {
     "name": "stderr",
     "output_type": "stream",
     "text": [
      "Metric loss/val improved by 0.000 >= min_delta = 0. New best score: 1.097\n"
     ]
    },
    {
     "name": "stdout",
     "output_type": "stream",
     "text": [
      "Epoch 63 [63/63] {'loss': '1.1'}\r"
     ]
    },
    {
     "name": "stderr",
     "output_type": "stream",
     "text": [
      "Monitored metric loss/val did not improve in the last 20 records. Best score: 1.097. Signaling Trainer to stop.\n"
     ]
    },
    {
     "name": "stdout",
     "output_type": "stream",
     "text": [
      "Architecture [VGG] was created\n",
      "***Defined hyperparameters:***\n",
      "\"arch\":                {'name': 'vgg16', 'args': {'num_channels': 1, 'num_classes': 3}}\n",
      "\"checkpoint_path\":     None\n",
      "\"class_weights\":       tensor([1.1905, 0.9259, 0.9259], device='cuda:0')\n",
      "\"hp_metrics\":          ['loss/train', 'loss/val', 'Accuracy/val', 'AUROC/val', 'Precision/val', 'Recall/val', 'Specificity/val']\n",
      "\"loss\":                {'type': 'CrossEntropyLoss', 'args': {'weight': True}}\n",
      "\"optimizer\":           {'type': 'Adam', 'args': {'lr': 0.0001, 'weight_decay': 0, 'amsgrad': True}}\n",
      "\"roi_hparams\":         {'enable': False, 'output_shape': [3, 3, 3], 'boundary_boxes': []}\n",
      "\"weight_distribution\": normal\n"
     ]
    },
    {
     "name": "stderr",
     "output_type": "stream",
     "text": [
      "GPU available: True, used: True\n",
      "TPU available: False, using: 0 TPU cores\n",
      "LOCAL_RANK: 0 - CUDA_VISIBLE_DEVICES: [0]\n",
      "\n",
      "  | Name          | Type             | Params\n",
      "---------------------------------------------------\n",
      "0 | model         | VGG              | 163 M \n",
      "1 | criteria      | CrossEntropyLoss | 0     \n",
      "2 | train_metrics | MetricCollection | 0     \n",
      "3 | valid_metrics | MetricCollection | 0     \n",
      "---------------------------------------------------\n",
      "163 M     Trainable params\n",
      "0         Non-trainable params\n",
      "163 M     Total params\n",
      "654.761   Total estimated model params size (MB)\n"
     ]
    },
    {
     "name": "stdout",
     "output_type": "stream",
     "text": [
      "Enabled callbacks:  ['LitProgressBar', 'EarlyStopping']\n",
      "Dataloader fold: 2\n",
      "Epoch 1 [63/63] {'loss': '1.1'}}\r"
     ]
    },
    {
     "name": "stderr",
     "output_type": "stream",
     "text": [
      "Metric loss/val improved. New best score: 1.098\n"
     ]
    },
    {
     "name": "stdout",
     "output_type": "stream",
     "text": [
      "Epoch 3 [63/63] {'loss': '1.1'}\r"
     ]
    },
    {
     "name": "stderr",
     "output_type": "stream",
     "text": [
      "Metric loss/val improved by 0.000 >= min_delta = 0. New best score: 1.098\n"
     ]
    },
    {
     "name": "stdout",
     "output_type": "stream",
     "text": [
      "Epoch 4 [63/63] {'loss': '1.1'}\r"
     ]
    },
    {
     "name": "stderr",
     "output_type": "stream",
     "text": [
      "Metric loss/val improved by 0.000 >= min_delta = 0. New best score: 1.098\n"
     ]
    },
    {
     "name": "stdout",
     "output_type": "stream",
     "text": [
      "Epoch 6 [63/63] {'loss': '1.1'}\r"
     ]
    },
    {
     "name": "stderr",
     "output_type": "stream",
     "text": [
      "Metric loss/val improved by 0.000 >= min_delta = 0. New best score: 1.098\n"
     ]
    },
    {
     "name": "stdout",
     "output_type": "stream",
     "text": [
      "Epoch 8 [63/63] {'loss': '1.1'}\r"
     ]
    },
    {
     "name": "stderr",
     "output_type": "stream",
     "text": [
      "Metric loss/val improved by 0.000 >= min_delta = 0. New best score: 1.098\n"
     ]
    },
    {
     "name": "stdout",
     "output_type": "stream",
     "text": [
      "Epoch 9 [63/63] {'loss': '1.1'}\r"
     ]
    },
    {
     "name": "stderr",
     "output_type": "stream",
     "text": [
      "Metric loss/val improved by 0.000 >= min_delta = 0. New best score: 1.098\n"
     ]
    },
    {
     "name": "stdout",
     "output_type": "stream",
     "text": [
      "Epoch 10 [63/63] {'loss': '1.1'}\r"
     ]
    },
    {
     "name": "stderr",
     "output_type": "stream",
     "text": [
      "Metric loss/val improved by 0.000 >= min_delta = 0. New best score: 1.098\n"
     ]
    },
    {
     "name": "stdout",
     "output_type": "stream",
     "text": [
      "Epoch 12 [63/63] {'loss': '1.1'}\r"
     ]
    },
    {
     "name": "stderr",
     "output_type": "stream",
     "text": [
      "Metric loss/val improved by 0.000 >= min_delta = 0. New best score: 1.098\n"
     ]
    },
    {
     "name": "stdout",
     "output_type": "stream",
     "text": [
      "Epoch 13 [63/63] {'loss': '1.1'}\r"
     ]
    },
    {
     "name": "stderr",
     "output_type": "stream",
     "text": [
      "Metric loss/val improved by 0.000 >= min_delta = 0. New best score: 1.097\n"
     ]
    },
    {
     "name": "stdout",
     "output_type": "stream",
     "text": [
      "Epoch 15 [63/63] {'loss': '1.1'}\r"
     ]
    },
    {
     "name": "stderr",
     "output_type": "stream",
     "text": [
      "Metric loss/val improved by 0.000 >= min_delta = 0. New best score: 1.097\n"
     ]
    },
    {
     "name": "stdout",
     "output_type": "stream",
     "text": [
      "Epoch 24 [63/63] {'loss': '1.1'}\r"
     ]
    },
    {
     "name": "stderr",
     "output_type": "stream",
     "text": [
      "Metric loss/val improved by 0.000 >= min_delta = 0. New best score: 1.097\n"
     ]
    },
    {
     "name": "stdout",
     "output_type": "stream",
     "text": [
      "Epoch 25 [63/63] {'loss': '1.1'}\r"
     ]
    },
    {
     "name": "stderr",
     "output_type": "stream",
     "text": [
      "Metric loss/val improved by 0.000 >= min_delta = 0. New best score: 1.097\n"
     ]
    },
    {
     "name": "stdout",
     "output_type": "stream",
     "text": [
      "Epoch 26 [63/63] {'loss': '1.1'}\r"
     ]
    },
    {
     "name": "stderr",
     "output_type": "stream",
     "text": [
      "Metric loss/val improved by 0.000 >= min_delta = 0. New best score: 1.097\n"
     ]
    },
    {
     "name": "stdout",
     "output_type": "stream",
     "text": [
      "Epoch 28 [63/63] {'loss': '1.1'}\r"
     ]
    },
    {
     "name": "stderr",
     "output_type": "stream",
     "text": [
      "Metric loss/val improved by 0.000 >= min_delta = 0. New best score: 1.097\n"
     ]
    },
    {
     "name": "stdout",
     "output_type": "stream",
     "text": [
      "Epoch 48 [63/63] {'loss': '1.1'}\r"
     ]
    },
    {
     "name": "stderr",
     "output_type": "stream",
     "text": [
      "Monitored metric loss/val did not improve in the last 20 records. Best score: 1.097. Signaling Trainer to stop.\n"
     ]
    },
    {
     "name": "stdout",
     "output_type": "stream",
     "text": [
      "Architecture [VGG] was created\n",
      "***Defined hyperparameters:***\n",
      "\"arch\":                {'name': 'vgg16', 'args': {'num_channels': 1, 'num_classes': 3}}\n",
      "\"checkpoint_path\":     None\n",
      "\"class_weights\":       tensor([1.1905, 0.9259, 0.9259], device='cuda:0')\n",
      "\"hp_metrics\":          ['loss/train', 'loss/val', 'Accuracy/val', 'AUROC/val', 'Precision/val', 'Recall/val', 'Specificity/val']\n",
      "\"loss\":                {'type': 'CrossEntropyLoss', 'args': {'weight': True}}\n",
      "\"optimizer\":           {'type': 'Adam', 'args': {'lr': 0.0001, 'weight_decay': 0, 'amsgrad': True}}\n",
      "\"roi_hparams\":         {'enable': False, 'output_shape': [3, 3, 3], 'boundary_boxes': []}\n",
      "\"weight_distribution\": normal\n"
     ]
    },
    {
     "name": "stderr",
     "output_type": "stream",
     "text": [
      "GPU available: True, used: True\n",
      "TPU available: False, using: 0 TPU cores\n",
      "LOCAL_RANK: 0 - CUDA_VISIBLE_DEVICES: [0]\n",
      "\n",
      "  | Name          | Type             | Params\n",
      "---------------------------------------------------\n",
      "0 | model         | VGG              | 163 M \n",
      "1 | criteria      | CrossEntropyLoss | 0     \n",
      "2 | train_metrics | MetricCollection | 0     \n",
      "3 | valid_metrics | MetricCollection | 0     \n",
      "---------------------------------------------------\n",
      "163 M     Trainable params\n",
      "0         Non-trainable params\n",
      "163 M     Total params\n",
      "654.761   Total estimated model params size (MB)\n"
     ]
    },
    {
     "name": "stdout",
     "output_type": "stream",
     "text": [
      "Enabled callbacks:  ['LitProgressBar', 'EarlyStopping']\n",
      "Dataloader fold: 3\n",
      "Epoch 1 [63/63] {'loss': '1.1'}}\r"
     ]
    },
    {
     "name": "stderr",
     "output_type": "stream",
     "text": [
      "Metric loss/val improved. New best score: 1.097\n"
     ]
    },
    {
     "name": "stdout",
     "output_type": "stream",
     "text": [
      "Epoch 7 [63/63] {'loss': '1.1'}\r"
     ]
    },
    {
     "name": "stderr",
     "output_type": "stream",
     "text": [
      "Metric loss/val improved by 0.000 >= min_delta = 0. New best score: 1.097\n"
     ]
    },
    {
     "name": "stdout",
     "output_type": "stream",
     "text": [
      "Epoch 10 [63/63] {'loss': '1.1'}\r"
     ]
    },
    {
     "name": "stderr",
     "output_type": "stream",
     "text": [
      "Metric loss/val improved by 0.000 >= min_delta = 0. New best score: 1.097\n"
     ]
    },
    {
     "name": "stdout",
     "output_type": "stream",
     "text": [
      "Epoch 11 [63/63] {'loss': '1.1'}\r"
     ]
    },
    {
     "name": "stderr",
     "output_type": "stream",
     "text": [
      "Metric loss/val improved by 0.000 >= min_delta = 0. New best score: 1.097\n"
     ]
    },
    {
     "name": "stdout",
     "output_type": "stream",
     "text": [
      "Epoch 18 [63/63] {'loss': '1.1'}\r"
     ]
    },
    {
     "name": "stderr",
     "output_type": "stream",
     "text": [
      "Metric loss/val improved by 0.000 >= min_delta = 0. New best score: 1.097\n"
     ]
    },
    {
     "name": "stdout",
     "output_type": "stream",
     "text": [
      "Epoch 38 [63/63] {'loss': '1.1'}\r"
     ]
    },
    {
     "name": "stderr",
     "output_type": "stream",
     "text": [
      "Monitored metric loss/val did not improve in the last 20 records. Best score: 1.097. Signaling Trainer to stop.\n"
     ]
    },
    {
     "name": "stdout",
     "output_type": "stream",
     "text": [
      "Architecture [VGG] was created\n",
      "***Defined hyperparameters:***\n",
      "\"arch\":                {'name': 'vgg16', 'args': {'num_channels': 1, 'num_classes': 3}}\n",
      "\"checkpoint_path\":     None\n",
      "\"class_weights\":       tensor([1.1905, 0.9259, 0.9259], device='cuda:0')\n",
      "\"hp_metrics\":          ['loss/train', 'loss/val', 'Accuracy/val', 'AUROC/val', 'Precision/val', 'Recall/val', 'Specificity/val']\n",
      "\"loss\":                {'type': 'CrossEntropyLoss', 'args': {'weight': True}}\n",
      "\"optimizer\":           {'type': 'Adam', 'args': {'lr': 0.0001, 'weight_decay': 0, 'amsgrad': True}}\n",
      "\"roi_hparams\":         {'enable': False, 'output_shape': [3, 3, 3], 'boundary_boxes': []}\n",
      "\"weight_distribution\": normal\n"
     ]
    },
    {
     "name": "stderr",
     "output_type": "stream",
     "text": [
      "GPU available: True, used: True\n",
      "TPU available: False, using: 0 TPU cores\n",
      "LOCAL_RANK: 0 - CUDA_VISIBLE_DEVICES: [0]\n",
      "\n",
      "  | Name          | Type             | Params\n",
      "---------------------------------------------------\n",
      "0 | model         | VGG              | 163 M \n",
      "1 | criteria      | CrossEntropyLoss | 0     \n",
      "2 | train_metrics | MetricCollection | 0     \n",
      "3 | valid_metrics | MetricCollection | 0     \n",
      "---------------------------------------------------\n",
      "163 M     Trainable params\n",
      "0         Non-trainable params\n",
      "163 M     Total params\n",
      "654.761   Total estimated model params size (MB)\n"
     ]
    },
    {
     "name": "stdout",
     "output_type": "stream",
     "text": [
      "Enabled callbacks:  ['LitProgressBar', 'EarlyStopping']\n",
      "Dataloader fold: 4\n",
      "Epoch 1 [63/63] {'loss': '1.1'}}\r"
     ]
    },
    {
     "name": "stderr",
     "output_type": "stream",
     "text": [
      "Metric loss/val improved. New best score: 1.099\n"
     ]
    },
    {
     "name": "stdout",
     "output_type": "stream",
     "text": [
      "Epoch 2 [63/63] {'loss': '1.1'}\r"
     ]
    },
    {
     "name": "stderr",
     "output_type": "stream",
     "text": [
      "Metric loss/val improved by 0.000 >= min_delta = 0. New best score: 1.098\n"
     ]
    },
    {
     "name": "stdout",
     "output_type": "stream",
     "text": [
      "Epoch 3 [63/63] {'loss': '1.1'}\r"
     ]
    },
    {
     "name": "stderr",
     "output_type": "stream",
     "text": [
      "Metric loss/val improved by 0.000 >= min_delta = 0. New best score: 1.098\n"
     ]
    },
    {
     "name": "stdout",
     "output_type": "stream",
     "text": [
      "Epoch 4 [63/63] {'loss': '1.1'}\r"
     ]
    },
    {
     "name": "stderr",
     "output_type": "stream",
     "text": [
      "Metric loss/val improved by 0.000 >= min_delta = 0. New best score: 1.098\n"
     ]
    },
    {
     "name": "stdout",
     "output_type": "stream",
     "text": [
      "Epoch 5 [63/63] {'loss': '1.1'}\r"
     ]
    },
    {
     "name": "stderr",
     "output_type": "stream",
     "text": [
      "Metric loss/val improved by 0.000 >= min_delta = 0. New best score: 1.098\n"
     ]
    },
    {
     "name": "stdout",
     "output_type": "stream",
     "text": [
      "Epoch 7 [63/63] {'loss': '1.1'}\r"
     ]
    },
    {
     "name": "stderr",
     "output_type": "stream",
     "text": [
      "Metric loss/val improved by 0.000 >= min_delta = 0. New best score: 1.098\n"
     ]
    },
    {
     "name": "stdout",
     "output_type": "stream",
     "text": [
      "Epoch 8 [63/63] {'loss': '1.1'}\r"
     ]
    },
    {
     "name": "stderr",
     "output_type": "stream",
     "text": [
      "Metric loss/val improved by 0.000 >= min_delta = 0. New best score: 1.098\n"
     ]
    },
    {
     "name": "stdout",
     "output_type": "stream",
     "text": [
      "Epoch 9 [63/63] {'loss': '1.1'}\r"
     ]
    },
    {
     "name": "stderr",
     "output_type": "stream",
     "text": [
      "Metric loss/val improved by 0.000 >= min_delta = 0. New best score: 1.097\n"
     ]
    },
    {
     "name": "stdout",
     "output_type": "stream",
     "text": [
      "Epoch 10 [63/63] {'loss': '1.1'}\r"
     ]
    },
    {
     "name": "stderr",
     "output_type": "stream",
     "text": [
      "Metric loss/val improved by 0.000 >= min_delta = 0. New best score: 1.097\n"
     ]
    },
    {
     "name": "stdout",
     "output_type": "stream",
     "text": [
      "Epoch 13 [63/63] {'loss': '1.1'}\r"
     ]
    },
    {
     "name": "stderr",
     "output_type": "stream",
     "text": [
      "Metric loss/val improved by 0.000 >= min_delta = 0. New best score: 1.097\n"
     ]
    },
    {
     "name": "stdout",
     "output_type": "stream",
     "text": [
      "Epoch 17 [63/63] {'loss': '1.1'}\r"
     ]
    },
    {
     "name": "stderr",
     "output_type": "stream",
     "text": [
      "Metric loss/val improved by 0.000 >= min_delta = 0. New best score: 1.097\n"
     ]
    },
    {
     "name": "stdout",
     "output_type": "stream",
     "text": [
      "Epoch 22 [63/63] {'loss': '1.1'}\r"
     ]
    },
    {
     "name": "stderr",
     "output_type": "stream",
     "text": [
      "Metric loss/val improved by 0.000 >= min_delta = 0. New best score: 1.097\n"
     ]
    },
    {
     "name": "stdout",
     "output_type": "stream",
     "text": [
      "Epoch 40 [63/63] {'loss': '1.1'}}\r"
     ]
    },
    {
     "name": "stderr",
     "output_type": "stream",
     "text": [
      "Metric loss/val improved by 0.000 >= min_delta = 0. New best score: 1.097\n"
     ]
    },
    {
     "name": "stdout",
     "output_type": "stream",
     "text": [
      "Epoch 45 [63/63] {'loss': '1.1'}\r"
     ]
    },
    {
     "name": "stderr",
     "output_type": "stream",
     "text": [
      "Metric loss/val improved by 0.000 >= min_delta = 0. New best score: 1.097\n"
     ]
    },
    {
     "name": "stdout",
     "output_type": "stream",
     "text": [
      "Epoch 46 [63/63] {'loss': '1.1'}\r"
     ]
    },
    {
     "name": "stderr",
     "output_type": "stream",
     "text": [
      "Metric loss/val improved by 0.000 >= min_delta = 0. New best score: 1.097\n"
     ]
    },
    {
     "name": "stdout",
     "output_type": "stream",
     "text": [
      "Epoch 66 [63/63] {'loss': '1.1'}}\r"
     ]
    },
    {
     "name": "stderr",
     "output_type": "stream",
     "text": [
      "Monitored metric loss/val did not improve in the last 20 records. Best score: 1.097. Signaling Trainer to stop.\n"
     ]
    },
    {
     "name": "stdout",
     "output_type": "stream",
     "text": [
      "Architecture [VGG] was created\n",
      "***Defined hyperparameters:***\n",
      "\"arch\":                {'name': 'vgg16', 'args': {'num_channels': 1, 'num_classes': 3}}\n",
      "\"checkpoint_path\":     None\n",
      "\"class_weights\":       tensor([1.1905, 0.9259, 0.9259], device='cuda:0')\n",
      "\"hp_metrics\":          ['loss/train', 'loss/val', 'Accuracy/val', 'AUROC/val', 'Precision/val', 'Recall/val', 'Specificity/val']\n",
      "\"loss\":                {'type': 'CrossEntropyLoss', 'args': {'weight': True}}\n",
      "\"optimizer\":           {'type': 'Adam', 'args': {'lr': 0.0001, 'weight_decay': 0, 'amsgrad': True}}\n",
      "\"roi_hparams\":         {'enable': False, 'output_shape': [3, 3, 3], 'boundary_boxes': []}\n",
      "\"weight_distribution\": normal\n"
     ]
    },
    {
     "name": "stderr",
     "output_type": "stream",
     "text": [
      "GPU available: True, used: True\n",
      "TPU available: False, using: 0 TPU cores\n",
      "LOCAL_RANK: 0 - CUDA_VISIBLE_DEVICES: [0]\n",
      "\n",
      "  | Name          | Type             | Params\n",
      "---------------------------------------------------\n",
      "0 | model         | VGG              | 163 M \n",
      "1 | criteria      | CrossEntropyLoss | 0     \n",
      "2 | train_metrics | MetricCollection | 0     \n",
      "3 | valid_metrics | MetricCollection | 0     \n",
      "---------------------------------------------------\n",
      "163 M     Trainable params\n",
      "0         Non-trainable params\n",
      "163 M     Total params\n",
      "654.761   Total estimated model params size (MB)\n"
     ]
    },
    {
     "name": "stdout",
     "output_type": "stream",
     "text": [
      "Enabled callbacks:  ['LitProgressBar', 'EarlyStopping']\n",
      "Dataloader fold: 5\n",
      "Epoch 1 [63/63] {'loss': '1.1'}}\r"
     ]
    },
    {
     "name": "stderr",
     "output_type": "stream",
     "text": [
      "Metric loss/val improved. New best score: 1.098\n"
     ]
    },
    {
     "name": "stdout",
     "output_type": "stream",
     "text": [
      "Epoch 3 [63/63] {'loss': '1.1'}\r"
     ]
    },
    {
     "name": "stderr",
     "output_type": "stream",
     "text": [
      "Metric loss/val improved by 0.000 >= min_delta = 0. New best score: 1.098\n"
     ]
    },
    {
     "name": "stdout",
     "output_type": "stream",
     "text": [
      "Epoch 4 [63/63] {'loss': '1.1'}\r"
     ]
    },
    {
     "name": "stderr",
     "output_type": "stream",
     "text": [
      "Metric loss/val improved by 0.000 >= min_delta = 0. New best score: 1.098\n"
     ]
    },
    {
     "name": "stdout",
     "output_type": "stream",
     "text": [
      "Epoch 6 [63/63] {'loss': '1.1'}\r"
     ]
    },
    {
     "name": "stderr",
     "output_type": "stream",
     "text": [
      "Metric loss/val improved by 0.000 >= min_delta = 0. New best score: 1.098\n"
     ]
    },
    {
     "name": "stdout",
     "output_type": "stream",
     "text": [
      "Epoch 14 [63/63] {'loss': '1.1'}\r"
     ]
    },
    {
     "name": "stderr",
     "output_type": "stream",
     "text": [
      "Metric loss/val improved by 0.000 >= min_delta = 0. New best score: 1.097\n"
     ]
    },
    {
     "name": "stdout",
     "output_type": "stream",
     "text": [
      "Epoch 16 [63/63] {'loss': '1.1'}\r"
     ]
    },
    {
     "name": "stderr",
     "output_type": "stream",
     "text": [
      "Metric loss/val improved by 0.000 >= min_delta = 0. New best score: 1.097\n"
     ]
    },
    {
     "name": "stdout",
     "output_type": "stream",
     "text": [
      "Epoch 17 [63/63] {'loss': '1.1'}\r"
     ]
    },
    {
     "name": "stderr",
     "output_type": "stream",
     "text": [
      "Metric loss/val improved by 0.000 >= min_delta = 0. New best score: 1.097\n"
     ]
    },
    {
     "name": "stdout",
     "output_type": "stream",
     "text": [
      "Epoch 18 [63/63] {'loss': '1.1'}\r"
     ]
    },
    {
     "name": "stderr",
     "output_type": "stream",
     "text": [
      "Metric loss/val improved by 0.000 >= min_delta = 0. New best score: 1.097\n"
     ]
    },
    {
     "name": "stdout",
     "output_type": "stream",
     "text": [
      "Epoch 20 [63/63] {'loss': '1.1'}\r"
     ]
    },
    {
     "name": "stderr",
     "output_type": "stream",
     "text": [
      "Metric loss/val improved by 0.000 >= min_delta = 0. New best score: 1.097\n"
     ]
    },
    {
     "name": "stdout",
     "output_type": "stream",
     "text": [
      "Epoch 22 [63/63] {'loss': '1.1'}\r"
     ]
    },
    {
     "name": "stderr",
     "output_type": "stream",
     "text": [
      "Metric loss/val improved by 0.000 >= min_delta = 0. New best score: 1.097\n"
     ]
    },
    {
     "name": "stdout",
     "output_type": "stream",
     "text": [
      "Epoch 23 [63/63] {'loss': '1.1'}\r"
     ]
    },
    {
     "name": "stderr",
     "output_type": "stream",
     "text": [
      "Metric loss/val improved by 0.000 >= min_delta = 0. New best score: 1.097\n"
     ]
    },
    {
     "name": "stdout",
     "output_type": "stream",
     "text": [
      "Epoch 28 [63/63] {'loss': '1.1'}\r"
     ]
    },
    {
     "name": "stderr",
     "output_type": "stream",
     "text": [
      "Metric loss/val improved by 0.000 >= min_delta = 0. New best score: 1.097\n"
     ]
    },
    {
     "name": "stdout",
     "output_type": "stream",
     "text": [
      "Epoch 48 [63/63] {'loss': '1.1'}\r"
     ]
    },
    {
     "name": "stderr",
     "output_type": "stream",
     "text": [
      "Monitored metric loss/val did not improve in the last 20 records. Best score: 1.097. Signaling Trainer to stop.\n",
      "/home/stud/f/fremar16/miniconda3/envs/Master-thesis/lib/python3.9/site-packages/torchmetrics/utilities/prints.py:36: UserWarning: Metric `AUROC` will save all targets and predictions in buffer. For large datasets this may lead to large memory footprint.\n",
      "  warnings.warn(*args, **kwargs)\n",
      "GPU available: True, used: True\n",
      "TPU available: False, using: 0 TPU cores\n",
      "Missing logger folder: /var/metrics/codetests/logs/tb/resnet18_brew2/20210507010808\n",
      "LOCAL_RANK: 0 - CUDA_VISIBLE_DEVICES: [0]\n"
     ]
    },
    {
     "name": "stdout",
     "output_type": "stream",
     "text": [
      "***Defined dataloader:***\n",
      "Data directory: data/SPM_categorised/Amira/\n",
      "Dataset sizes - Training: 500 Validation: 56\n",
      "Seed: 420\n",
      "Augmentation: Enabled\n",
      "KFold: Enabled - Fold: 1/10\n",
      "\n",
      "Architecture [ResNet] was created\n",
      "***Defined hyperparameters:***\n",
      "\"arch\":                {'name': 'resnet18_brew2', 'args': {'num_channels': 1, 'num_classes': 3}}\n",
      "\"checkpoint_path\":     None\n",
      "\"class_weights\":       tensor([1.1905, 0.9259, 0.9259], device='cuda:0')\n",
      "\"hp_metrics\":          ['loss/train', 'loss/val', 'Accuracy/val', 'AUROC/val', 'Precision/val', 'Recall/val', 'Specificity/val']\n",
      "\"loss\":                {'type': 'CrossEntropyLoss', 'args': {'weight': True}}\n",
      "\"optimizer\":           {'type': 'Adam', 'args': {'lr': 0.0001, 'weight_decay': 0, 'amsgrad': True}}\n",
      "\"roi_hparams\":         {'enable': False, 'output_shape': [3, 3, 3], 'boundary_boxes': []}\n",
      "\"weight_distribution\": normal\n",
      "Enabled callbacks:  ['LitProgressBar', 'EarlyStopping']\n",
      "Dataloader fold: 1\n"
     ]
    },
    {
     "name": "stderr",
     "output_type": "stream",
     "text": [
      "\n",
      "  | Name          | Type             | Params\n",
      "---------------------------------------------------\n",
      "0 | model         | ResNet           | 8.3 M \n",
      "1 | criteria      | CrossEntropyLoss | 0     \n",
      "2 | train_metrics | MetricCollection | 0     \n",
      "3 | valid_metrics | MetricCollection | 0     \n",
      "---------------------------------------------------\n",
      "8.3 M     Trainable params\n",
      "0         Non-trainable params\n",
      "8.3 M     Total params\n",
      "33.154    Total estimated model params size (MB)\n"
     ]
    },
    {
     "name": "stdout",
     "output_type": "stream",
     "text": [
      "Epoch 1 [63/63] {'loss': '1.11'}\r"
     ]
    },
    {
     "name": "stderr",
     "output_type": "stream",
     "text": [
      "Metric loss/val improved. New best score: 1.058\n"
     ]
    },
    {
     "name": "stdout",
     "output_type": "stream",
     "text": [
      "Epoch 3 [63/63] {'loss': '1.09'}\r"
     ]
    },
    {
     "name": "stderr",
     "output_type": "stream",
     "text": [
      "Metric loss/val improved by 0.041 >= min_delta = 0. New best score: 1.017\n"
     ]
    },
    {
     "name": "stdout",
     "output_type": "stream",
     "text": [
      "Epoch 7 [63/63] {'loss': '1.05'}\r"
     ]
    },
    {
     "name": "stderr",
     "output_type": "stream",
     "text": [
      "Metric loss/val improved by 0.015 >= min_delta = 0. New best score: 1.002\n"
     ]
    },
    {
     "name": "stdout",
     "output_type": "stream",
     "text": [
      "Epoch 11 [63/63] {'loss': '1.08'}\r"
     ]
    },
    {
     "name": "stderr",
     "output_type": "stream",
     "text": [
      "Metric loss/val improved by 0.001 >= min_delta = 0. New best score: 1.001\n"
     ]
    },
    {
     "name": "stdout",
     "output_type": "stream",
     "text": [
      "Epoch 21 [63/63] {'loss': '1.06'}}\r"
     ]
    },
    {
     "name": "stderr",
     "output_type": "stream",
     "text": [
      "Metric loss/val improved by 0.009 >= min_delta = 0. New best score: 0.992\n"
     ]
    },
    {
     "name": "stdout",
     "output_type": "stream",
     "text": [
      "Epoch 25 [63/63] {'loss': '0.992'}\r"
     ]
    },
    {
     "name": "stderr",
     "output_type": "stream",
     "text": [
      "Metric loss/val improved by 0.054 >= min_delta = 0. New best score: 0.938\n"
     ]
    },
    {
     "name": "stdout",
     "output_type": "stream",
     "text": [
      "Epoch 30 [63/63] {'loss': '0.934'}\r"
     ]
    },
    {
     "name": "stderr",
     "output_type": "stream",
     "text": [
      "Metric loss/val improved by 0.017 >= min_delta = 0. New best score: 0.920\n"
     ]
    },
    {
     "name": "stdout",
     "output_type": "stream",
     "text": [
      "Epoch 31 [63/63] {'loss': '0.915'}\r"
     ]
    },
    {
     "name": "stderr",
     "output_type": "stream",
     "text": [
      "Metric loss/val improved by 0.014 >= min_delta = 0. New best score: 0.907\n"
     ]
    },
    {
     "name": "stdout",
     "output_type": "stream",
     "text": [
      "Epoch 34 [63/63] {'loss': '1'}55'}\r"
     ]
    },
    {
     "name": "stderr",
     "output_type": "stream",
     "text": [
      "Metric loss/val improved by 0.003 >= min_delta = 0. New best score: 0.904\n"
     ]
    },
    {
     "name": "stdout",
     "output_type": "stream",
     "text": [
      "Epoch 36 [63/63] {'loss': '0.975'}\r"
     ]
    },
    {
     "name": "stderr",
     "output_type": "stream",
     "text": [
      "Metric loss/val improved by 0.140 >= min_delta = 0. New best score: 0.764\n"
     ]
    },
    {
     "name": "stdout",
     "output_type": "stream",
     "text": [
      "Epoch 56 [63/63] {'loss': '0.876'}\r"
     ]
    },
    {
     "name": "stderr",
     "output_type": "stream",
     "text": [
      "Monitored metric loss/val did not improve in the last 20 records. Best score: 0.764. Signaling Trainer to stop.\n",
      "GPU available: True, used: True\n",
      "TPU available: False, using: 0 TPU cores\n",
      "LOCAL_RANK: 0 - CUDA_VISIBLE_DEVICES: [0]\n",
      "\n",
      "  | Name          | Type             | Params\n",
      "---------------------------------------------------\n",
      "0 | model         | ResNet           | 8.3 M \n",
      "1 | criteria      | CrossEntropyLoss | 0     \n",
      "2 | train_metrics | MetricCollection | 0     \n",
      "3 | valid_metrics | MetricCollection | 0     \n",
      "---------------------------------------------------\n",
      "8.3 M     Trainable params\n",
      "0         Non-trainable params\n",
      "8.3 M     Total params\n",
      "33.154    Total estimated model params size (MB)\n"
     ]
    },
    {
     "name": "stdout",
     "output_type": "stream",
     "text": [
      "Architecture [ResNet] was created\n",
      "***Defined hyperparameters:***\n",
      "\"arch\":                {'name': 'resnet18_brew2', 'args': {'num_channels': 1, 'num_classes': 3}}\n",
      "\"checkpoint_path\":     None\n",
      "\"class_weights\":       tensor([1.1905, 0.9259, 0.9259], device='cuda:0')\n",
      "\"hp_metrics\":          ['loss/train', 'loss/val', 'Accuracy/val', 'AUROC/val', 'Precision/val', 'Recall/val', 'Specificity/val']\n",
      "\"loss\":                {'type': 'CrossEntropyLoss', 'args': {'weight': True}}\n",
      "\"optimizer\":           {'type': 'Adam', 'args': {'lr': 0.0001, 'weight_decay': 0, 'amsgrad': True}}\n",
      "\"roi_hparams\":         {'enable': False, 'output_shape': [3, 3, 3], 'boundary_boxes': []}\n",
      "\"weight_distribution\": normal\n",
      "Enabled callbacks:  ['LitProgressBar', 'EarlyStopping']\n",
      "Dataloader fold: 2\n",
      "Epoch 1 [63/63] {'loss': '1.05'}\r"
     ]
    },
    {
     "name": "stderr",
     "output_type": "stream",
     "text": [
      "Metric loss/val improved. New best score: 1.399\n"
     ]
    },
    {
     "name": "stdout",
     "output_type": "stream",
     "text": [
      "Epoch 2 [63/63] {'loss': '1.08'}\r"
     ]
    },
    {
     "name": "stderr",
     "output_type": "stream",
     "text": [
      "Metric loss/val improved by 0.300 >= min_delta = 0. New best score: 1.100\n"
     ]
    },
    {
     "name": "stdout",
     "output_type": "stream",
     "text": [
      "Epoch 3 [63/63] {'loss': '1.08'}\r"
     ]
    },
    {
     "name": "stderr",
     "output_type": "stream",
     "text": [
      "Metric loss/val improved by 0.088 >= min_delta = 0. New best score: 1.011\n"
     ]
    },
    {
     "name": "stdout",
     "output_type": "stream",
     "text": [
      "Epoch 7 [63/63] {'loss': '1.04'}\r"
     ]
    },
    {
     "name": "stderr",
     "output_type": "stream",
     "text": [
      "Metric loss/val improved by 0.015 >= min_delta = 0. New best score: 0.996\n"
     ]
    },
    {
     "name": "stdout",
     "output_type": "stream",
     "text": [
      "Epoch 20 [63/63] {'loss': '1.01'}}\r"
     ]
    },
    {
     "name": "stderr",
     "output_type": "stream",
     "text": [
      "Metric loss/val improved by 0.019 >= min_delta = 0. New best score: 0.977\n"
     ]
    },
    {
     "name": "stdout",
     "output_type": "stream",
     "text": [
      "Epoch 21 [63/63] {'loss': '1.01'}}\r"
     ]
    },
    {
     "name": "stderr",
     "output_type": "stream",
     "text": [
      "Metric loss/val improved by 0.029 >= min_delta = 0. New best score: 0.948\n"
     ]
    },
    {
     "name": "stdout",
     "output_type": "stream",
     "text": [
      "Epoch 25 [63/63] {'loss': '0.988'}\r"
     ]
    },
    {
     "name": "stderr",
     "output_type": "stream",
     "text": [
      "Metric loss/val improved by 0.011 >= min_delta = 0. New best score: 0.937\n"
     ]
    },
    {
     "name": "stdout",
     "output_type": "stream",
     "text": [
      "Epoch 26 [63/63] {'loss': '0.899'}\r"
     ]
    },
    {
     "name": "stderr",
     "output_type": "stream",
     "text": [
      "Metric loss/val improved by 0.108 >= min_delta = 0. New best score: 0.830\n"
     ]
    },
    {
     "name": "stdout",
     "output_type": "stream",
     "text": [
      "Epoch 46 [63/63] {'loss': '0.888'}\r"
     ]
    },
    {
     "name": "stderr",
     "output_type": "stream",
     "text": [
      "Monitored metric loss/val did not improve in the last 20 records. Best score: 0.830. Signaling Trainer to stop.\n",
      "GPU available: True, used: True\n",
      "TPU available: False, using: 0 TPU cores\n",
      "LOCAL_RANK: 0 - CUDA_VISIBLE_DEVICES: [0]\n",
      "\n",
      "  | Name          | Type             | Params\n",
      "---------------------------------------------------\n",
      "0 | model         | ResNet           | 8.3 M \n",
      "1 | criteria      | CrossEntropyLoss | 0     \n",
      "2 | train_metrics | MetricCollection | 0     \n",
      "3 | valid_metrics | MetricCollection | 0     \n",
      "---------------------------------------------------\n",
      "8.3 M     Trainable params\n",
      "0         Non-trainable params\n",
      "8.3 M     Total params\n",
      "33.154    Total estimated model params size (MB)\n"
     ]
    },
    {
     "name": "stdout",
     "output_type": "stream",
     "text": [
      "Architecture [ResNet] was created\n",
      "***Defined hyperparameters:***\n",
      "\"arch\":                {'name': 'resnet18_brew2', 'args': {'num_channels': 1, 'num_classes': 3}}\n",
      "\"checkpoint_path\":     None\n",
      "\"class_weights\":       tensor([1.1905, 0.9259, 0.9259], device='cuda:0')\n",
      "\"hp_metrics\":          ['loss/train', 'loss/val', 'Accuracy/val', 'AUROC/val', 'Precision/val', 'Recall/val', 'Specificity/val']\n",
      "\"loss\":                {'type': 'CrossEntropyLoss', 'args': {'weight': True}}\n",
      "\"optimizer\":           {'type': 'Adam', 'args': {'lr': 0.0001, 'weight_decay': 0, 'amsgrad': True}}\n",
      "\"roi_hparams\":         {'enable': False, 'output_shape': [3, 3, 3], 'boundary_boxes': []}\n",
      "\"weight_distribution\": normal\n",
      "Enabled callbacks:  ['LitProgressBar', 'EarlyStopping']\n",
      "Dataloader fold: 3\n",
      "Epoch 1 [63/63] {'loss': '1.09'}\r"
     ]
    },
    {
     "name": "stderr",
     "output_type": "stream",
     "text": [
      "Metric loss/val improved. New best score: 1.160\n"
     ]
    },
    {
     "name": "stdout",
     "output_type": "stream",
     "text": [
      "Epoch 2 [63/63] {'loss': '1.13'}\r"
     ]
    },
    {
     "name": "stderr",
     "output_type": "stream",
     "text": [
      "Metric loss/val improved by 0.091 >= min_delta = 0. New best score: 1.069\n"
     ]
    },
    {
     "name": "stdout",
     "output_type": "stream",
     "text": [
      "Epoch 6 [63/63] {'loss': '1.12'}\r"
     ]
    },
    {
     "name": "stderr",
     "output_type": "stream",
     "text": [
      "Metric loss/val improved by 0.000 >= min_delta = 0. New best score: 1.069\n"
     ]
    },
    {
     "name": "stdout",
     "output_type": "stream",
     "text": [
      "Epoch 7 [63/63] {'loss': '1.05'}\r"
     ]
    },
    {
     "name": "stderr",
     "output_type": "stream",
     "text": [
      "Metric loss/val improved by 0.030 >= min_delta = 0. New best score: 1.039\n"
     ]
    },
    {
     "name": "stdout",
     "output_type": "stream",
     "text": [
      "Epoch 15 [63/63] {'loss': '1.08'}}\r"
     ]
    },
    {
     "name": "stderr",
     "output_type": "stream",
     "text": [
      "Metric loss/val improved by 0.038 >= min_delta = 0. New best score: 1.001\n"
     ]
    },
    {
     "name": "stdout",
     "output_type": "stream",
     "text": [
      "Epoch 16 [63/63] {'loss': '1.06'}\r"
     ]
    },
    {
     "name": "stderr",
     "output_type": "stream",
     "text": [
      "Metric loss/val improved by 0.016 >= min_delta = 0. New best score: 0.985\n"
     ]
    },
    {
     "name": "stdout",
     "output_type": "stream",
     "text": [
      "Epoch 22 [63/63] {'loss': '1.01'}}\r"
     ]
    },
    {
     "name": "stderr",
     "output_type": "stream",
     "text": [
      "Metric loss/val improved by 0.025 >= min_delta = 0. New best score: 0.960\n"
     ]
    },
    {
     "name": "stdout",
     "output_type": "stream",
     "text": [
      "Epoch 27 [63/63] {'loss': '0.973'}\r"
     ]
    },
    {
     "name": "stderr",
     "output_type": "stream",
     "text": [
      "Metric loss/val improved by 0.117 >= min_delta = 0. New best score: 0.843\n"
     ]
    },
    {
     "name": "stdout",
     "output_type": "stream",
     "text": [
      "Epoch 47 [63/63] {'loss': '0.799'}\r"
     ]
    },
    {
     "name": "stderr",
     "output_type": "stream",
     "text": [
      "Monitored metric loss/val did not improve in the last 20 records. Best score: 0.843. Signaling Trainer to stop.\n",
      "GPU available: True, used: True\n",
      "TPU available: False, using: 0 TPU cores\n",
      "LOCAL_RANK: 0 - CUDA_VISIBLE_DEVICES: [0]\n",
      "\n",
      "  | Name          | Type             | Params\n",
      "---------------------------------------------------\n",
      "0 | model         | ResNet           | 8.3 M \n",
      "1 | criteria      | CrossEntropyLoss | 0     \n",
      "2 | train_metrics | MetricCollection | 0     \n",
      "3 | valid_metrics | MetricCollection | 0     \n",
      "---------------------------------------------------\n",
      "8.3 M     Trainable params\n",
      "0         Non-trainable params\n",
      "8.3 M     Total params\n",
      "33.154    Total estimated model params size (MB)\n"
     ]
    },
    {
     "name": "stdout",
     "output_type": "stream",
     "text": [
      "Architecture [ResNet] was created\n",
      "***Defined hyperparameters:***\n",
      "\"arch\":                {'name': 'resnet18_brew2', 'args': {'num_channels': 1, 'num_classes': 3}}\n",
      "\"checkpoint_path\":     None\n",
      "\"class_weights\":       tensor([1.1905, 0.9259, 0.9259], device='cuda:0')\n",
      "\"hp_metrics\":          ['loss/train', 'loss/val', 'Accuracy/val', 'AUROC/val', 'Precision/val', 'Recall/val', 'Specificity/val']\n",
      "\"loss\":                {'type': 'CrossEntropyLoss', 'args': {'weight': True}}\n",
      "\"optimizer\":           {'type': 'Adam', 'args': {'lr': 0.0001, 'weight_decay': 0, 'amsgrad': True}}\n",
      "\"roi_hparams\":         {'enable': False, 'output_shape': [3, 3, 3], 'boundary_boxes': []}\n",
      "\"weight_distribution\": normal\n",
      "Enabled callbacks:  ['LitProgressBar', 'EarlyStopping']\n",
      "Dataloader fold: 4\n",
      "Epoch 1 [63/63] {'loss': '1.11'}\r"
     ]
    },
    {
     "name": "stderr",
     "output_type": "stream",
     "text": [
      "Metric loss/val improved. New best score: 1.333\n"
     ]
    },
    {
     "name": "stdout",
     "output_type": "stream",
     "text": [
      "Epoch 2 [63/63] {'loss': '1.09'}\r"
     ]
    },
    {
     "name": "stderr",
     "output_type": "stream",
     "text": [
      "Metric loss/val improved by 0.271 >= min_delta = 0. New best score: 1.062\n"
     ]
    },
    {
     "name": "stdout",
     "output_type": "stream",
     "text": [
      "Epoch 3 [63/63] {'loss': '1.08'}\r"
     ]
    },
    {
     "name": "stderr",
     "output_type": "stream",
     "text": [
      "Metric loss/val improved by 0.032 >= min_delta = 0. New best score: 1.030\n"
     ]
    },
    {
     "name": "stdout",
     "output_type": "stream",
     "text": [
      "Epoch 4 [63/63] {'loss': '1.06'}\r"
     ]
    },
    {
     "name": "stderr",
     "output_type": "stream",
     "text": [
      "Metric loss/val improved by 0.052 >= min_delta = 0. New best score: 0.978\n"
     ]
    },
    {
     "name": "stdout",
     "output_type": "stream",
     "text": [
      "Epoch 18 [63/63] {'loss': '0.969'}\r"
     ]
    },
    {
     "name": "stderr",
     "output_type": "stream",
     "text": [
      "Metric loss/val improved by 0.008 >= min_delta = 0. New best score: 0.970\n"
     ]
    },
    {
     "name": "stdout",
     "output_type": "stream",
     "text": [
      "Epoch 21 [63/63] {'loss': '0.905'}\r"
     ]
    },
    {
     "name": "stderr",
     "output_type": "stream",
     "text": [
      "Metric loss/val improved by 0.006 >= min_delta = 0. New best score: 0.964\n"
     ]
    },
    {
     "name": "stdout",
     "output_type": "stream",
     "text": [
      "Epoch 22 [63/63] {'loss': '0.935'}\r"
     ]
    },
    {
     "name": "stderr",
     "output_type": "stream",
     "text": [
      "Metric loss/val improved by 0.035 >= min_delta = 0. New best score: 0.929\n"
     ]
    },
    {
     "name": "stdout",
     "output_type": "stream",
     "text": [
      "Epoch 26 [63/63] {'loss': '0.918'}\r"
     ]
    },
    {
     "name": "stderr",
     "output_type": "stream",
     "text": [
      "Metric loss/val improved by 0.065 >= min_delta = 0. New best score: 0.864\n"
     ]
    },
    {
     "name": "stdout",
     "output_type": "stream",
     "text": [
      "Epoch 31 [63/63] {'loss': '0.907'}\r"
     ]
    },
    {
     "name": "stderr",
     "output_type": "stream",
     "text": [
      "Metric loss/val improved by 0.036 >= min_delta = 0. New best score: 0.828\n"
     ]
    },
    {
     "name": "stdout",
     "output_type": "stream",
     "text": [
      "Epoch 44 [63/63] {'loss': '0.922'}\r"
     ]
    },
    {
     "name": "stderr",
     "output_type": "stream",
     "text": [
      "Metric loss/val improved by 0.022 >= min_delta = 0. New best score: 0.806\n"
     ]
    },
    {
     "name": "stdout",
     "output_type": "stream",
     "text": [
      "Epoch 64 [63/63] {'loss': '0.757'}\r"
     ]
    },
    {
     "name": "stderr",
     "output_type": "stream",
     "text": [
      "Monitored metric loss/val did not improve in the last 20 records. Best score: 0.806. Signaling Trainer to stop.\n",
      "GPU available: True, used: True\n",
      "TPU available: False, using: 0 TPU cores\n",
      "LOCAL_RANK: 0 - CUDA_VISIBLE_DEVICES: [0]\n",
      "\n",
      "  | Name          | Type             | Params\n",
      "---------------------------------------------------\n",
      "0 | model         | ResNet           | 8.3 M \n",
      "1 | criteria      | CrossEntropyLoss | 0     \n",
      "2 | train_metrics | MetricCollection | 0     \n",
      "3 | valid_metrics | MetricCollection | 0     \n",
      "---------------------------------------------------\n",
      "8.3 M     Trainable params\n",
      "0         Non-trainable params\n",
      "8.3 M     Total params\n",
      "33.154    Total estimated model params size (MB)\n"
     ]
    },
    {
     "name": "stdout",
     "output_type": "stream",
     "text": [
      "Architecture [ResNet] was created\n",
      "***Defined hyperparameters:***\n",
      "\"arch\":                {'name': 'resnet18_brew2', 'args': {'num_channels': 1, 'num_classes': 3}}\n",
      "\"checkpoint_path\":     None\n",
      "\"class_weights\":       tensor([1.1905, 0.9259, 0.9259], device='cuda:0')\n",
      "\"hp_metrics\":          ['loss/train', 'loss/val', 'Accuracy/val', 'AUROC/val', 'Precision/val', 'Recall/val', 'Specificity/val']\n",
      "\"loss\":                {'type': 'CrossEntropyLoss', 'args': {'weight': True}}\n",
      "\"optimizer\":           {'type': 'Adam', 'args': {'lr': 0.0001, 'weight_decay': 0, 'amsgrad': True}}\n",
      "\"roi_hparams\":         {'enable': False, 'output_shape': [3, 3, 3], 'boundary_boxes': []}\n",
      "\"weight_distribution\": normal\n",
      "Enabled callbacks:  ['LitProgressBar', 'EarlyStopping']\n",
      "Dataloader fold: 5\n",
      "Epoch 1 [63/63] {'loss': '1.12'}\r"
     ]
    },
    {
     "name": "stderr",
     "output_type": "stream",
     "text": [
      "Metric loss/val improved. New best score: 1.159\n"
     ]
    },
    {
     "name": "stdout",
     "output_type": "stream",
     "text": [
      "Epoch 2 [63/63] {'loss': '1.06'}\r"
     ]
    },
    {
     "name": "stderr",
     "output_type": "stream",
     "text": [
      "Metric loss/val improved by 0.116 >= min_delta = 0. New best score: 1.043\n"
     ]
    },
    {
     "name": "stdout",
     "output_type": "stream",
     "text": [
      "Epoch 3 [63/63] {'loss': '1.05'}\r"
     ]
    },
    {
     "name": "stderr",
     "output_type": "stream",
     "text": [
      "Metric loss/val improved by 0.024 >= min_delta = 0. New best score: 1.019\n"
     ]
    },
    {
     "name": "stdout",
     "output_type": "stream",
     "text": [
      "Epoch 13 [63/63] {'loss': '1.07'}\r"
     ]
    },
    {
     "name": "stderr",
     "output_type": "stream",
     "text": [
      "Metric loss/val improved by 0.014 >= min_delta = 0. New best score: 1.005\n"
     ]
    },
    {
     "name": "stdout",
     "output_type": "stream",
     "text": [
      "Epoch 17 [63/63] {'loss': '1.01'}}\r"
     ]
    },
    {
     "name": "stderr",
     "output_type": "stream",
     "text": [
      "Metric loss/val improved by 0.044 >= min_delta = 0. New best score: 0.961\n"
     ]
    },
    {
     "name": "stdout",
     "output_type": "stream",
     "text": [
      "Epoch 19 [63/63] {'loss': '0.992'}\r"
     ]
    },
    {
     "name": "stderr",
     "output_type": "stream",
     "text": [
      "Metric loss/val improved by 0.009 >= min_delta = 0. New best score: 0.952\n"
     ]
    },
    {
     "name": "stdout",
     "output_type": "stream",
     "text": [
      "Epoch 20 [63/63] {'loss': '0.973'}\r"
     ]
    },
    {
     "name": "stderr",
     "output_type": "stream",
     "text": [
      "Metric loss/val improved by 0.001 >= min_delta = 0. New best score: 0.950\n"
     ]
    },
    {
     "name": "stdout",
     "output_type": "stream",
     "text": [
      "Epoch 22 [63/63] {'loss': '0.975'}\r"
     ]
    },
    {
     "name": "stderr",
     "output_type": "stream",
     "text": [
      "Metric loss/val improved by 0.000 >= min_delta = 0. New best score: 0.950\n"
     ]
    },
    {
     "name": "stdout",
     "output_type": "stream",
     "text": [
      "Epoch 24 [63/63] {'loss': '0.945'}\r"
     ]
    },
    {
     "name": "stderr",
     "output_type": "stream",
     "text": [
      "Metric loss/val improved by 0.063 >= min_delta = 0. New best score: 0.887\n"
     ]
    },
    {
     "name": "stdout",
     "output_type": "stream",
     "text": [
      "Epoch 33 [63/63] {'loss': '0.881'}\r"
     ]
    },
    {
     "name": "stderr",
     "output_type": "stream",
     "text": [
      "Metric loss/val improved by 0.056 >= min_delta = 0. New best score: 0.831\n"
     ]
    },
    {
     "name": "stdout",
     "output_type": "stream",
     "text": [
      "Epoch 40 [63/63] {'loss': '0.833'}\r"
     ]
    },
    {
     "name": "stderr",
     "output_type": "stream",
     "text": [
      "Metric loss/val improved by 0.031 >= min_delta = 0. New best score: 0.800\n"
     ]
    },
    {
     "name": "stdout",
     "output_type": "stream",
     "text": [
      "Epoch 50 [63/63] {'loss': '0.869'}\r"
     ]
    },
    {
     "name": "stderr",
     "output_type": "stream",
     "text": [
      "Metric loss/val improved by 0.008 >= min_delta = 0. New best score: 0.793\n"
     ]
    },
    {
     "name": "stdout",
     "output_type": "stream",
     "text": [
      "Epoch 58 [63/63] {'loss': '0.816'}\r"
     ]
    },
    {
     "name": "stderr",
     "output_type": "stream",
     "text": [
      "Metric loss/val improved by 0.005 >= min_delta = 0. New best score: 0.788\n"
     ]
    },
    {
     "name": "stdout",
     "output_type": "stream",
     "text": [
      "Epoch 74 [63/63] {'loss': '0.64'}}\r"
     ]
    },
    {
     "name": "stderr",
     "output_type": "stream",
     "text": [
      "Metric loss/val improved by 0.018 >= min_delta = 0. New best score: 0.770\n"
     ]
    },
    {
     "name": "stdout",
     "output_type": "stream",
     "text": [
      "Epoch 94 [63/63] {'loss': '0.572'}\r"
     ]
    },
    {
     "name": "stderr",
     "output_type": "stream",
     "text": [
      "Monitored metric loss/val did not improve in the last 20 records. Best score: 0.770. Signaling Trainer to stop.\n"
     ]
    },
    {
     "name": "stdout",
     "output_type": "stream",
     "text": [
      "***Defined dataloader:***\n",
      "Data directory: data/SPM_categorised/Amira/\n",
      "Dataset sizes - Training: 500 Validation: 56\n",
      "Seed: 420\n",
      "Augmentation: Enabled\n",
      "KFold: Enabled - Fold: 1/10\n",
      "\n"
     ]
    },
    {
     "name": "stderr",
     "output_type": "stream",
     "text": [
      "/home/stud/f/fremar16/miniconda3/envs/Master-thesis/lib/python3.9/site-packages/torchmetrics/utilities/prints.py:36: UserWarning: Metric `AUROC` will save all targets and predictions in buffer. For large datasets this may lead to large memory footprint.\n",
      "  warnings.warn(*args, **kwargs)\n",
      "GPU available: True, used: True\n",
      "TPU available: False, using: 0 TPU cores\n",
      "Missing logger folder: /var/metrics/codetests/logs/tb/resnet18/20210507030315\n",
      "LOCAL_RANK: 0 - CUDA_VISIBLE_DEVICES: [0]\n"
     ]
    },
    {
     "name": "stdout",
     "output_type": "stream",
     "text": [
      "Architecture [ResNet] was created\n",
      "***Defined hyperparameters:***\n",
      "\"arch\":                {'name': 'resnet18', 'args': {'num_channels': 1, 'num_classes': 3}}\n",
      "\"checkpoint_path\":     None\n",
      "\"class_weights\":       tensor([1.1905, 0.9259, 0.9259], device='cuda:0')\n",
      "\"hp_metrics\":          ['loss/train', 'loss/val', 'Accuracy/val', 'AUROC/val', 'Precision/val', 'Recall/val', 'Specificity/val']\n",
      "\"loss\":                {'type': 'CrossEntropyLoss', 'args': {'weight': True}}\n",
      "\"optimizer\":           {'type': 'Adam', 'args': {'lr': 0.0001, 'weight_decay': 0, 'amsgrad': True}}\n",
      "\"roi_hparams\":         {'enable': False, 'output_shape': [3, 3, 3], 'boundary_boxes': []}\n",
      "\"weight_distribution\": normal\n",
      "Enabled callbacks:  ['LitProgressBar', 'EarlyStopping']\n",
      "Dataloader fold: 1\n"
     ]
    },
    {
     "name": "stderr",
     "output_type": "stream",
     "text": [
      "\n",
      "  | Name          | Type             | Params\n",
      "---------------------------------------------------\n",
      "0 | model         | ResNet           | 33.2 M\n",
      "1 | criteria      | CrossEntropyLoss | 0     \n",
      "2 | train_metrics | MetricCollection | 0     \n",
      "3 | valid_metrics | MetricCollection | 0     \n",
      "---------------------------------------------------\n",
      "33.2 M    Trainable params\n",
      "0         Non-trainable params\n",
      "33.2 M    Total params\n",
      "132.646   Total estimated model params size (MB)\n"
     ]
    },
    {
     "name": "stdout",
     "output_type": "stream",
     "text": [
      "Epoch 1 [63/63] {'loss': '1.11'}\r"
     ]
    },
    {
     "name": "stderr",
     "output_type": "stream",
     "text": [
      "Metric loss/val improved. New best score: 1.149\n"
     ]
    },
    {
     "name": "stdout",
     "output_type": "stream",
     "text": [
      "Epoch 2 [63/63] {'loss': '1.12'}\r"
     ]
    },
    {
     "name": "stderr",
     "output_type": "stream",
     "text": [
      "Metric loss/val improved by 0.061 >= min_delta = 0. New best score: 1.088\n"
     ]
    },
    {
     "name": "stdout",
     "output_type": "stream",
     "text": [
      "Epoch 4 [63/63] {'loss': '1.04'}\r"
     ]
    },
    {
     "name": "stderr",
     "output_type": "stream",
     "text": [
      "Metric loss/val improved by 0.075 >= min_delta = 0. New best score: 1.013\n"
     ]
    },
    {
     "name": "stdout",
     "output_type": "stream",
     "text": [
      "Epoch 5 [63/63] {'loss': '1.05'}}\r"
     ]
    },
    {
     "name": "stderr",
     "output_type": "stream",
     "text": [
      "Metric loss/val improved by 0.002 >= min_delta = 0. New best score: 1.010\n"
     ]
    },
    {
     "name": "stdout",
     "output_type": "stream",
     "text": [
      "Epoch 7 [63/63] {'loss': '0.922'}\r"
     ]
    },
    {
     "name": "stderr",
     "output_type": "stream",
     "text": [
      "Metric loss/val improved by 0.129 >= min_delta = 0. New best score: 0.881\n"
     ]
    },
    {
     "name": "stdout",
     "output_type": "stream",
     "text": [
      "Epoch 18 [63/63] {'loss': '0.879'}\r"
     ]
    },
    {
     "name": "stderr",
     "output_type": "stream",
     "text": [
      "Metric loss/val improved by 0.008 >= min_delta = 0. New best score: 0.873\n"
     ]
    },
    {
     "name": "stdout",
     "output_type": "stream",
     "text": [
      "Epoch 22 [63/63] {'loss': '0.945'}\r"
     ]
    },
    {
     "name": "stderr",
     "output_type": "stream",
     "text": [
      "Metric loss/val improved by 0.005 >= min_delta = 0. New best score: 0.867\n"
     ]
    },
    {
     "name": "stdout",
     "output_type": "stream",
     "text": [
      "Epoch 23 [63/63] {'loss': '0.952'}\r"
     ]
    },
    {
     "name": "stderr",
     "output_type": "stream",
     "text": [
      "Metric loss/val improved by 0.012 >= min_delta = 0. New best score: 0.855\n"
     ]
    },
    {
     "name": "stdout",
     "output_type": "stream",
     "text": [
      "Epoch 24 [63/63] {'loss': '0.881'}\r"
     ]
    },
    {
     "name": "stderr",
     "output_type": "stream",
     "text": [
      "Metric loss/val improved by 0.037 >= min_delta = 0. New best score: 0.818\n"
     ]
    },
    {
     "name": "stdout",
     "output_type": "stream",
     "text": [
      "Epoch 29 [63/63] {'loss': '0.892'}\r"
     ]
    },
    {
     "name": "stderr",
     "output_type": "stream",
     "text": [
      "Metric loss/val improved by 0.031 >= min_delta = 0. New best score: 0.787\n"
     ]
    },
    {
     "name": "stdout",
     "output_type": "stream",
     "text": [
      "Epoch 49 [63/63] {'loss': '0.818'}\r"
     ]
    },
    {
     "name": "stderr",
     "output_type": "stream",
     "text": [
      "Monitored metric loss/val did not improve in the last 20 records. Best score: 0.787. Signaling Trainer to stop.\n",
      "GPU available: True, used: True\n",
      "TPU available: False, using: 0 TPU cores\n",
      "LOCAL_RANK: 0 - CUDA_VISIBLE_DEVICES: [0]\n"
     ]
    },
    {
     "name": "stdout",
     "output_type": "stream",
     "text": [
      "Architecture [ResNet] was created\n",
      "***Defined hyperparameters:***\n",
      "\"arch\":                {'name': 'resnet18', 'args': {'num_channels': 1, 'num_classes': 3}}\n",
      "\"checkpoint_path\":     None\n",
      "\"class_weights\":       tensor([1.1905, 0.9259, 0.9259], device='cuda:0')\n",
      "\"hp_metrics\":          ['loss/train', 'loss/val', 'Accuracy/val', 'AUROC/val', 'Precision/val', 'Recall/val', 'Specificity/val']\n",
      "\"loss\":                {'type': 'CrossEntropyLoss', 'args': {'weight': True}}\n",
      "\"optimizer\":           {'type': 'Adam', 'args': {'lr': 0.0001, 'weight_decay': 0, 'amsgrad': True}}\n",
      "\"roi_hparams\":         {'enable': False, 'output_shape': [3, 3, 3], 'boundary_boxes': []}\n",
      "\"weight_distribution\": normal\n",
      "Enabled callbacks:  ['LitProgressBar', 'EarlyStopping']\n",
      "Dataloader fold: 2\n"
     ]
    },
    {
     "name": "stderr",
     "output_type": "stream",
     "text": [
      "\n",
      "  | Name          | Type             | Params\n",
      "---------------------------------------------------\n",
      "0 | model         | ResNet           | 33.2 M\n",
      "1 | criteria      | CrossEntropyLoss | 0     \n",
      "2 | train_metrics | MetricCollection | 0     \n",
      "3 | valid_metrics | MetricCollection | 0     \n",
      "---------------------------------------------------\n",
      "33.2 M    Trainable params\n",
      "0         Non-trainable params\n",
      "33.2 M    Total params\n",
      "132.646   Total estimated model params size (MB)\n"
     ]
    },
    {
     "name": "stdout",
     "output_type": "stream",
     "text": [
      "Epoch 1 [63/63] {'loss': '1.1'}}\r"
     ]
    },
    {
     "name": "stderr",
     "output_type": "stream",
     "text": [
      "Metric loss/val improved. New best score: 1.056\n"
     ]
    },
    {
     "name": "stdout",
     "output_type": "stream",
     "text": [
      "Epoch 5 [63/63] {'loss': '0.994'}\r"
     ]
    },
    {
     "name": "stderr",
     "output_type": "stream",
     "text": [
      "Metric loss/val improved by 0.187 >= min_delta = 0. New best score: 0.869\n"
     ]
    },
    {
     "name": "stdout",
     "output_type": "stream",
     "text": [
      "Epoch 14 [63/63] {'loss': '1'}3'}}\r"
     ]
    },
    {
     "name": "stderr",
     "output_type": "stream",
     "text": [
      "Metric loss/val improved by 0.008 >= min_delta = 0. New best score: 0.861\n"
     ]
    },
    {
     "name": "stdout",
     "output_type": "stream",
     "text": [
      "Epoch 15 [63/63] {'loss': '0.899'}\r"
     ]
    },
    {
     "name": "stderr",
     "output_type": "stream",
     "text": [
      "Metric loss/val improved by 0.023 >= min_delta = 0. New best score: 0.838\n"
     ]
    },
    {
     "name": "stdout",
     "output_type": "stream",
     "text": [
      "Epoch 27 [63/63] {'loss': '0.829'}\r"
     ]
    },
    {
     "name": "stderr",
     "output_type": "stream",
     "text": [
      "Metric loss/val improved by 0.011 >= min_delta = 0. New best score: 0.826\n"
     ]
    },
    {
     "name": "stdout",
     "output_type": "stream",
     "text": [
      "Epoch 28 [63/63] {'loss': '0.868'}\r"
     ]
    },
    {
     "name": "stderr",
     "output_type": "stream",
     "text": [
      "Metric loss/val improved by 0.021 >= min_delta = 0. New best score: 0.805\n"
     ]
    },
    {
     "name": "stdout",
     "output_type": "stream",
     "text": [
      "Epoch 48 [63/63] {'loss': '0.8'}'}\r"
     ]
    },
    {
     "name": "stderr",
     "output_type": "stream",
     "text": [
      "Monitored metric loss/val did not improve in the last 20 records. Best score: 0.805. Signaling Trainer to stop.\n",
      "GPU available: True, used: True\n",
      "TPU available: False, using: 0 TPU cores\n",
      "LOCAL_RANK: 0 - CUDA_VISIBLE_DEVICES: [0]\n"
     ]
    },
    {
     "name": "stdout",
     "output_type": "stream",
     "text": [
      "Architecture [ResNet] was created\n",
      "***Defined hyperparameters:***\n",
      "\"arch\":                {'name': 'resnet18', 'args': {'num_channels': 1, 'num_classes': 3}}\n",
      "\"checkpoint_path\":     None\n",
      "\"class_weights\":       tensor([1.1905, 0.9259, 0.9259], device='cuda:0')\n",
      "\"hp_metrics\":          ['loss/train', 'loss/val', 'Accuracy/val', 'AUROC/val', 'Precision/val', 'Recall/val', 'Specificity/val']\n",
      "\"loss\":                {'type': 'CrossEntropyLoss', 'args': {'weight': True}}\n",
      "\"optimizer\":           {'type': 'Adam', 'args': {'lr': 0.0001, 'weight_decay': 0, 'amsgrad': True}}\n",
      "\"roi_hparams\":         {'enable': False, 'output_shape': [3, 3, 3], 'boundary_boxes': []}\n",
      "\"weight_distribution\": normal\n",
      "Enabled callbacks:  ['LitProgressBar', 'EarlyStopping']\n",
      "Dataloader fold: 3\n"
     ]
    },
    {
     "name": "stderr",
     "output_type": "stream",
     "text": [
      "\n",
      "  | Name          | Type             | Params\n",
      "---------------------------------------------------\n",
      "0 | model         | ResNet           | 33.2 M\n",
      "1 | criteria      | CrossEntropyLoss | 0     \n",
      "2 | train_metrics | MetricCollection | 0     \n",
      "3 | valid_metrics | MetricCollection | 0     \n",
      "---------------------------------------------------\n",
      "33.2 M    Trainable params\n",
      "0         Non-trainable params\n",
      "33.2 M    Total params\n",
      "132.646   Total estimated model params size (MB)\n"
     ]
    },
    {
     "name": "stdout",
     "output_type": "stream",
     "text": [
      "Epoch 1 [63/63] {'loss': '1.08'}\r"
     ]
    },
    {
     "name": "stderr",
     "output_type": "stream",
     "text": [
      "Metric loss/val improved. New best score: 1.128\n"
     ]
    },
    {
     "name": "stdout",
     "output_type": "stream",
     "text": [
      "Epoch 2 [63/63] {'loss': '1.15'}\r"
     ]
    },
    {
     "name": "stderr",
     "output_type": "stream",
     "text": [
      "Metric loss/val improved by 0.061 >= min_delta = 0. New best score: 1.067\n"
     ]
    },
    {
     "name": "stdout",
     "output_type": "stream",
     "text": [
      "Epoch 4 [63/63] {'loss': '1.07'}\r"
     ]
    },
    {
     "name": "stderr",
     "output_type": "stream",
     "text": [
      "Metric loss/val improved by 0.090 >= min_delta = 0. New best score: 0.977\n"
     ]
    },
    {
     "name": "stdout",
     "output_type": "stream",
     "text": [
      "Epoch 5 [63/63] {'loss': '1.01'}}\r"
     ]
    },
    {
     "name": "stderr",
     "output_type": "stream",
     "text": [
      "Metric loss/val improved by 0.028 >= min_delta = 0. New best score: 0.949\n"
     ]
    },
    {
     "name": "stdout",
     "output_type": "stream",
     "text": [
      "Epoch 8 [63/63] {'loss': '0.877'}\r"
     ]
    },
    {
     "name": "stderr",
     "output_type": "stream",
     "text": [
      "Metric loss/val improved by 0.042 >= min_delta = 0. New best score: 0.907\n"
     ]
    },
    {
     "name": "stdout",
     "output_type": "stream",
     "text": [
      "Epoch 12 [63/63] {'loss': '0.917'}\r"
     ]
    },
    {
     "name": "stderr",
     "output_type": "stream",
     "text": [
      "Metric loss/val improved by 0.020 >= min_delta = 0. New best score: 0.887\n"
     ]
    },
    {
     "name": "stdout",
     "output_type": "stream",
     "text": [
      "Epoch 13 [63/63] {'loss': '0.888'}\r"
     ]
    },
    {
     "name": "stderr",
     "output_type": "stream",
     "text": [
      "Metric loss/val improved by 0.046 >= min_delta = 0. New best score: 0.841\n"
     ]
    },
    {
     "name": "stdout",
     "output_type": "stream",
     "text": [
      "Epoch 19 [63/63] {'loss': '0.885'}\r"
     ]
    },
    {
     "name": "stderr",
     "output_type": "stream",
     "text": [
      "Metric loss/val improved by 0.011 >= min_delta = 0. New best score: 0.831\n"
     ]
    },
    {
     "name": "stdout",
     "output_type": "stream",
     "text": [
      "Epoch 39 [63/63] {'loss': '0.833'}\r"
     ]
    },
    {
     "name": "stderr",
     "output_type": "stream",
     "text": [
      "Monitored metric loss/val did not improve in the last 20 records. Best score: 0.831. Signaling Trainer to stop.\n",
      "GPU available: True, used: True\n",
      "TPU available: False, using: 0 TPU cores\n",
      "LOCAL_RANK: 0 - CUDA_VISIBLE_DEVICES: [0]\n"
     ]
    },
    {
     "name": "stdout",
     "output_type": "stream",
     "text": [
      "Architecture [ResNet] was created\n",
      "***Defined hyperparameters:***\n",
      "\"arch\":                {'name': 'resnet18', 'args': {'num_channels': 1, 'num_classes': 3}}\n",
      "\"checkpoint_path\":     None\n",
      "\"class_weights\":       tensor([1.1905, 0.9259, 0.9259], device='cuda:0')\n",
      "\"hp_metrics\":          ['loss/train', 'loss/val', 'Accuracy/val', 'AUROC/val', 'Precision/val', 'Recall/val', 'Specificity/val']\n",
      "\"loss\":                {'type': 'CrossEntropyLoss', 'args': {'weight': True}}\n",
      "\"optimizer\":           {'type': 'Adam', 'args': {'lr': 0.0001, 'weight_decay': 0, 'amsgrad': True}}\n",
      "\"roi_hparams\":         {'enable': False, 'output_shape': [3, 3, 3], 'boundary_boxes': []}\n",
      "\"weight_distribution\": normal\n",
      "Enabled callbacks:  ['LitProgressBar', 'EarlyStopping']\n",
      "Dataloader fold: 4\n"
     ]
    },
    {
     "name": "stderr",
     "output_type": "stream",
     "text": [
      "\n",
      "  | Name          | Type             | Params\n",
      "---------------------------------------------------\n",
      "0 | model         | ResNet           | 33.2 M\n",
      "1 | criteria      | CrossEntropyLoss | 0     \n",
      "2 | train_metrics | MetricCollection | 0     \n",
      "3 | valid_metrics | MetricCollection | 0     \n",
      "---------------------------------------------------\n",
      "33.2 M    Trainable params\n",
      "0         Non-trainable params\n",
      "33.2 M    Total params\n",
      "132.646   Total estimated model params size (MB)\n"
     ]
    },
    {
     "name": "stdout",
     "output_type": "stream",
     "text": [
      "Epoch 1 [63/63] {'loss': '1.11'}\r"
     ]
    },
    {
     "name": "stderr",
     "output_type": "stream",
     "text": [
      "Metric loss/val improved. New best score: 1.098\n"
     ]
    },
    {
     "name": "stdout",
     "output_type": "stream",
     "text": [
      "Epoch 2 [63/63] {'loss': '1.08'}\r"
     ]
    },
    {
     "name": "stderr",
     "output_type": "stream",
     "text": [
      "Metric loss/val improved by 0.039 >= min_delta = 0. New best score: 1.059\n"
     ]
    },
    {
     "name": "stdout",
     "output_type": "stream",
     "text": [
      "Epoch 4 [63/63] {'loss': '1.08'}\r"
     ]
    },
    {
     "name": "stderr",
     "output_type": "stream",
     "text": [
      "Metric loss/val improved by 0.106 >= min_delta = 0. New best score: 0.953\n"
     ]
    },
    {
     "name": "stdout",
     "output_type": "stream",
     "text": [
      "Epoch 5 [63/63] {'loss': '0.985'}\r"
     ]
    },
    {
     "name": "stderr",
     "output_type": "stream",
     "text": [
      "Metric loss/val improved by 0.027 >= min_delta = 0. New best score: 0.926\n"
     ]
    },
    {
     "name": "stdout",
     "output_type": "stream",
     "text": [
      "Epoch 11 [63/63] {'loss': '0.886'}\r"
     ]
    },
    {
     "name": "stderr",
     "output_type": "stream",
     "text": [
      "Metric loss/val improved by 0.033 >= min_delta = 0. New best score: 0.893\n"
     ]
    },
    {
     "name": "stdout",
     "output_type": "stream",
     "text": [
      "Epoch 19 [63/63] {'loss': '0.905'}\r"
     ]
    },
    {
     "name": "stderr",
     "output_type": "stream",
     "text": [
      "Metric loss/val improved by 0.002 >= min_delta = 0. New best score: 0.891\n"
     ]
    },
    {
     "name": "stdout",
     "output_type": "stream",
     "text": [
      "Epoch 23 [63/63] {'loss': '0.923'}\r"
     ]
    },
    {
     "name": "stderr",
     "output_type": "stream",
     "text": [
      "Metric loss/val improved by 0.077 >= min_delta = 0. New best score: 0.813\n"
     ]
    },
    {
     "name": "stdout",
     "output_type": "stream",
     "text": [
      "Epoch 43 [63/63] {'loss': '0.827'}\r"
     ]
    },
    {
     "name": "stderr",
     "output_type": "stream",
     "text": [
      "Monitored metric loss/val did not improve in the last 20 records. Best score: 0.813. Signaling Trainer to stop.\n",
      "GPU available: True, used: True\n",
      "TPU available: False, using: 0 TPU cores\n",
      "LOCAL_RANK: 0 - CUDA_VISIBLE_DEVICES: [0]\n"
     ]
    },
    {
     "name": "stdout",
     "output_type": "stream",
     "text": [
      "Architecture [ResNet] was created\n",
      "***Defined hyperparameters:***\n",
      "\"arch\":                {'name': 'resnet18', 'args': {'num_channels': 1, 'num_classes': 3}}\n",
      "\"checkpoint_path\":     None\n",
      "\"class_weights\":       tensor([1.1905, 0.9259, 0.9259], device='cuda:0')\n",
      "\"hp_metrics\":          ['loss/train', 'loss/val', 'Accuracy/val', 'AUROC/val', 'Precision/val', 'Recall/val', 'Specificity/val']\n",
      "\"loss\":                {'type': 'CrossEntropyLoss', 'args': {'weight': True}}\n",
      "\"optimizer\":           {'type': 'Adam', 'args': {'lr': 0.0001, 'weight_decay': 0, 'amsgrad': True}}\n",
      "\"roi_hparams\":         {'enable': False, 'output_shape': [3, 3, 3], 'boundary_boxes': []}\n",
      "\"weight_distribution\": normal\n",
      "Enabled callbacks:  ['LitProgressBar', 'EarlyStopping']\n",
      "Dataloader fold: 5\n"
     ]
    },
    {
     "name": "stderr",
     "output_type": "stream",
     "text": [
      "\n",
      "  | Name          | Type             | Params\n",
      "---------------------------------------------------\n",
      "0 | model         | ResNet           | 33.2 M\n",
      "1 | criteria      | CrossEntropyLoss | 0     \n",
      "2 | train_metrics | MetricCollection | 0     \n",
      "3 | valid_metrics | MetricCollection | 0     \n",
      "---------------------------------------------------\n",
      "33.2 M    Trainable params\n",
      "0         Non-trainable params\n",
      "33.2 M    Total params\n",
      "132.646   Total estimated model params size (MB)\n"
     ]
    },
    {
     "name": "stdout",
     "output_type": "stream",
     "text": [
      "Epoch 1 [63/63] {'loss': '1.1'}}\r"
     ]
    },
    {
     "name": "stderr",
     "output_type": "stream",
     "text": [
      "Metric loss/val improved. New best score: 1.116\n"
     ]
    },
    {
     "name": "stdout",
     "output_type": "stream",
     "text": [
      "Epoch 3 [63/63] {'loss': '1.08'}\r"
     ]
    },
    {
     "name": "stderr",
     "output_type": "stream",
     "text": [
      "Metric loss/val improved by 0.102 >= min_delta = 0. New best score: 1.014\n"
     ]
    },
    {
     "name": "stdout",
     "output_type": "stream",
     "text": [
      "Epoch 4 [63/63] {'loss': '0.971'}\r"
     ]
    },
    {
     "name": "stderr",
     "output_type": "stream",
     "text": [
      "Metric loss/val improved by 0.069 >= min_delta = 0. New best score: 0.945\n"
     ]
    },
    {
     "name": "stdout",
     "output_type": "stream",
     "text": [
      "Epoch 6 [63/63] {'loss': '0.991'}\r"
     ]
    },
    {
     "name": "stderr",
     "output_type": "stream",
     "text": [
      "Metric loss/val improved by 0.006 >= min_delta = 0. New best score: 0.939\n"
     ]
    },
    {
     "name": "stdout",
     "output_type": "stream",
     "text": [
      "Epoch 9 [63/63] {'loss': '0.93'}}\r"
     ]
    },
    {
     "name": "stderr",
     "output_type": "stream",
     "text": [
      "Metric loss/val improved by 0.055 >= min_delta = 0. New best score: 0.884\n"
     ]
    },
    {
     "name": "stdout",
     "output_type": "stream",
     "text": [
      "Epoch 21 [63/63] {'loss': '0.812'}\r"
     ]
    },
    {
     "name": "stderr",
     "output_type": "stream",
     "text": [
      "Metric loss/val improved by 0.039 >= min_delta = 0. New best score: 0.845\n"
     ]
    },
    {
     "name": "stdout",
     "output_type": "stream",
     "text": [
      "Epoch 28 [63/63] {'loss': '0.828'}\r"
     ]
    },
    {
     "name": "stderr",
     "output_type": "stream",
     "text": [
      "Metric loss/val improved by 0.001 >= min_delta = 0. New best score: 0.844\n"
     ]
    },
    {
     "name": "stdout",
     "output_type": "stream",
     "text": [
      "Epoch 37 [63/63] {'loss': '0.862'}\r"
     ]
    },
    {
     "name": "stderr",
     "output_type": "stream",
     "text": [
      "Metric loss/val improved by 0.002 >= min_delta = 0. New best score: 0.841\n"
     ]
    },
    {
     "name": "stdout",
     "output_type": "stream",
     "text": [
      "Epoch 38 [63/63] {'loss': '0.84'}}\r"
     ]
    },
    {
     "name": "stderr",
     "output_type": "stream",
     "text": [
      "Metric loss/val improved by 0.006 >= min_delta = 0. New best score: 0.835\n"
     ]
    },
    {
     "name": "stdout",
     "output_type": "stream",
     "text": [
      "Epoch 41 [63/63] {'loss': '0.776'}\r"
     ]
    },
    {
     "name": "stderr",
     "output_type": "stream",
     "text": [
      "Metric loss/val improved by 0.042 >= min_delta = 0. New best score: 0.793\n"
     ]
    },
    {
     "name": "stdout",
     "output_type": "stream",
     "text": [
      "Epoch 61 [63/63] {'loss': '0.674'}\r"
     ]
    },
    {
     "name": "stderr",
     "output_type": "stream",
     "text": [
      "Monitored metric loss/val did not improve in the last 20 records. Best score: 0.793. Signaling Trainer to stop.\n"
     ]
    },
    {
     "name": "stdout",
     "output_type": "stream",
     "text": [
      "***Defined dataloader:***\n",
      "Data directory: data/SPM_categorised/Amira/\n",
      "Dataset sizes - Training: 500 Validation: 56\n",
      "Seed: 420\n",
      "Augmentation: Enabled\n",
      "KFold: Enabled - Fold: 1/10\n",
      "\n",
      "Architecture [VGG] was created\n",
      "***Defined hyperparameters:***\n",
      "\"arch\":                {'name': 'vgg11_brew', 'args': {'num_channels': 1, 'num_classes': 3}}\n",
      "\"checkpoint_path\":     None\n",
      "\"class_weights\":       tensor([1.1905, 0.9259, 0.9259], device='cuda:0')\n",
      "\"hp_metrics\":          ['loss/train', 'loss/val', 'Accuracy/val', 'AUROC/val', 'Precision/val', 'Recall/val', 'Specificity/val']\n",
      "\"loss\":                {'type': 'CrossEntropyLoss', 'args': {'weight': True}}\n",
      "\"optimizer\":           {'type': 'Adam', 'args': {'lr': 0.0001, 'weight_decay': 0, 'amsgrad': True}}\n",
      "\"roi_hparams\":         {'enable': False, 'output_shape': [3, 3, 3], 'boundary_boxes': []}\n",
      "\"weight_distribution\": normal\n"
     ]
    },
    {
     "name": "stderr",
     "output_type": "stream",
     "text": [
      "/home/stud/f/fremar16/miniconda3/envs/Master-thesis/lib/python3.9/site-packages/torchmetrics/utilities/prints.py:36: UserWarning: Metric `AUROC` will save all targets and predictions in buffer. For large datasets this may lead to large memory footprint.\n",
      "  warnings.warn(*args, **kwargs)\n",
      "GPU available: True, used: True\n",
      "TPU available: False, using: 0 TPU cores\n",
      "Missing logger folder: /var/metrics/codetests/logs/tb/vgg11_brew/20210507035720\n",
      "LOCAL_RANK: 0 - CUDA_VISIBLE_DEVICES: [0]\n",
      "\n",
      "  | Name          | Type             | Params\n",
      "---------------------------------------------------\n",
      "0 | model         | VGG              | 103 M \n",
      "1 | criteria      | CrossEntropyLoss | 0     \n",
      "2 | train_metrics | MetricCollection | 0     \n",
      "3 | valid_metrics | MetricCollection | 0     \n",
      "---------------------------------------------------\n",
      "103 M     Trainable params\n",
      "0         Non-trainable params\n",
      "103 M     Total params\n",
      "414.175   Total estimated model params size (MB)\n"
     ]
    },
    {
     "name": "stdout",
     "output_type": "stream",
     "text": [
      "Enabled callbacks:  ['LitProgressBar', 'EarlyStopping']\n",
      "Dataloader fold: 1\n",
      "Epoch 1 [63/63] {'loss': '1.1'}\r"
     ]
    },
    {
     "name": "stderr",
     "output_type": "stream",
     "text": [
      "Metric loss/val improved. New best score: 1.099\n"
     ]
    },
    {
     "name": "stdout",
     "output_type": "stream",
     "text": [
      "Epoch 2 [63/63] {'loss': '1.1'}\r"
     ]
    },
    {
     "name": "stderr",
     "output_type": "stream",
     "text": [
      "Metric loss/val improved by 0.000 >= min_delta = 0. New best score: 1.099\n"
     ]
    },
    {
     "name": "stdout",
     "output_type": "stream",
     "text": [
      "Epoch 3 [63/63] {'loss': '1.1'}\r"
     ]
    },
    {
     "name": "stderr",
     "output_type": "stream",
     "text": [
      "Metric loss/val improved by 0.000 >= min_delta = 0. New best score: 1.099\n"
     ]
    },
    {
     "name": "stdout",
     "output_type": "stream",
     "text": [
      "Epoch 4 [63/63] {'loss': '1.1'}\r"
     ]
    },
    {
     "name": "stderr",
     "output_type": "stream",
     "text": [
      "Metric loss/val improved by 0.000 >= min_delta = 0. New best score: 1.099\n"
     ]
    },
    {
     "name": "stdout",
     "output_type": "stream",
     "text": [
      "Epoch 6 [63/63] {'loss': '1.1'}\r"
     ]
    },
    {
     "name": "stderr",
     "output_type": "stream",
     "text": [
      "Metric loss/val improved by 0.000 >= min_delta = 0. New best score: 1.098\n"
     ]
    },
    {
     "name": "stdout",
     "output_type": "stream",
     "text": [
      "Epoch 11 [63/63] {'loss': '1.1'}\r"
     ]
    },
    {
     "name": "stderr",
     "output_type": "stream",
     "text": [
      "Metric loss/val improved by 0.000 >= min_delta = 0. New best score: 1.098\n"
     ]
    },
    {
     "name": "stdout",
     "output_type": "stream",
     "text": [
      "Epoch 12 [63/63] {'loss': '1.1'}\r"
     ]
    },
    {
     "name": "stderr",
     "output_type": "stream",
     "text": [
      "Metric loss/val improved by 0.000 >= min_delta = 0. New best score: 1.098\n"
     ]
    },
    {
     "name": "stdout",
     "output_type": "stream",
     "text": [
      "Epoch 13 [63/63] {'loss': '1.1'}\r"
     ]
    },
    {
     "name": "stderr",
     "output_type": "stream",
     "text": [
      "Metric loss/val improved by 0.000 >= min_delta = 0. New best score: 1.098\n"
     ]
    },
    {
     "name": "stdout",
     "output_type": "stream",
     "text": [
      "Epoch 15 [63/63] {'loss': '1.1'}}\r"
     ]
    },
    {
     "name": "stderr",
     "output_type": "stream",
     "text": [
      "Metric loss/val improved by 0.000 >= min_delta = 0. New best score: 1.098\n"
     ]
    },
    {
     "name": "stdout",
     "output_type": "stream",
     "text": [
      "Epoch 16 [63/63] {'loss': '1.1'}\r"
     ]
    },
    {
     "name": "stderr",
     "output_type": "stream",
     "text": [
      "Metric loss/val improved by 0.000 >= min_delta = 0. New best score: 1.098\n"
     ]
    },
    {
     "name": "stdout",
     "output_type": "stream",
     "text": [
      "Epoch 17 [63/63] {'loss': '1.1'}\r"
     ]
    },
    {
     "name": "stderr",
     "output_type": "stream",
     "text": [
      "Metric loss/val improved by 0.000 >= min_delta = 0. New best score: 1.098\n"
     ]
    },
    {
     "name": "stdout",
     "output_type": "stream",
     "text": [
      "Epoch 18 [63/63] {'loss': '1.1'}\r"
     ]
    },
    {
     "name": "stderr",
     "output_type": "stream",
     "text": [
      "Metric loss/val improved by 0.000 >= min_delta = 0. New best score: 1.098\n"
     ]
    },
    {
     "name": "stdout",
     "output_type": "stream",
     "text": [
      "Epoch 20 [63/63] {'loss': '1.1'}\r"
     ]
    },
    {
     "name": "stderr",
     "output_type": "stream",
     "text": [
      "Metric loss/val improved by 0.000 >= min_delta = 0. New best score: 1.098\n"
     ]
    },
    {
     "name": "stdout",
     "output_type": "stream",
     "text": [
      "Epoch 22 [63/63] {'loss': '1.1'}\r"
     ]
    },
    {
     "name": "stderr",
     "output_type": "stream",
     "text": [
      "Metric loss/val improved by 0.000 >= min_delta = 0. New best score: 1.098\n"
     ]
    },
    {
     "name": "stdout",
     "output_type": "stream",
     "text": [
      "Epoch 23 [63/63] {'loss': '1.1'}\r"
     ]
    },
    {
     "name": "stderr",
     "output_type": "stream",
     "text": [
      "Metric loss/val improved by 0.000 >= min_delta = 0. New best score: 1.098\n"
     ]
    },
    {
     "name": "stdout",
     "output_type": "stream",
     "text": [
      "Epoch 25 [63/63] {'loss': '1.1'}\r"
     ]
    },
    {
     "name": "stderr",
     "output_type": "stream",
     "text": [
      "Metric loss/val improved by 0.000 >= min_delta = 0. New best score: 1.098\n"
     ]
    },
    {
     "name": "stdout",
     "output_type": "stream",
     "text": [
      "Epoch 26 [63/63] {'loss': '1.1'}\r"
     ]
    },
    {
     "name": "stderr",
     "output_type": "stream",
     "text": [
      "Metric loss/val improved by 0.000 >= min_delta = 0. New best score: 1.098\n"
     ]
    },
    {
     "name": "stdout",
     "output_type": "stream",
     "text": [
      "Epoch 28 [63/63] {'loss': '1.1'}\r"
     ]
    },
    {
     "name": "stderr",
     "output_type": "stream",
     "text": [
      "Metric loss/val improved by 0.000 >= min_delta = 0. New best score: 1.098\n"
     ]
    },
    {
     "name": "stdout",
     "output_type": "stream",
     "text": [
      "Epoch 30 [63/63] {'loss': '1.1'}\r"
     ]
    },
    {
     "name": "stderr",
     "output_type": "stream",
     "text": [
      "Metric loss/val improved by 0.000 >= min_delta = 0. New best score: 1.098\n"
     ]
    },
    {
     "name": "stdout",
     "output_type": "stream",
     "text": [
      "Epoch 34 [63/63] {'loss': '1.1'}\r"
     ]
    },
    {
     "name": "stderr",
     "output_type": "stream",
     "text": [
      "Metric loss/val improved by 0.000 >= min_delta = 0. New best score: 1.098\n"
     ]
    },
    {
     "name": "stdout",
     "output_type": "stream",
     "text": [
      "Epoch 35 [63/63] {'loss': '1.1'}\r"
     ]
    },
    {
     "name": "stderr",
     "output_type": "stream",
     "text": [
      "Metric loss/val improved by 0.000 >= min_delta = 0. New best score: 1.098\n"
     ]
    },
    {
     "name": "stdout",
     "output_type": "stream",
     "text": [
      "Epoch 41 [63/63] {'loss': '1.1'}\r"
     ]
    },
    {
     "name": "stderr",
     "output_type": "stream",
     "text": [
      "Metric loss/val improved by 0.000 >= min_delta = 0. New best score: 1.098\n"
     ]
    },
    {
     "name": "stdout",
     "output_type": "stream",
     "text": [
      "Epoch 44 [63/63] {'loss': '1.1'}\r"
     ]
    },
    {
     "name": "stderr",
     "output_type": "stream",
     "text": [
      "Metric loss/val improved by 0.000 >= min_delta = 0. New best score: 1.098\n"
     ]
    },
    {
     "name": "stdout",
     "output_type": "stream",
     "text": [
      "Epoch 45 [63/63] {'loss': '1.1'}\r"
     ]
    },
    {
     "name": "stderr",
     "output_type": "stream",
     "text": [
      "Metric loss/val improved by 0.000 >= min_delta = 0. New best score: 1.098\n"
     ]
    },
    {
     "name": "stdout",
     "output_type": "stream",
     "text": [
      "Epoch 47 [63/63] {'loss': '1.1'}\r"
     ]
    },
    {
     "name": "stderr",
     "output_type": "stream",
     "text": [
      "Metric loss/val improved by 0.000 >= min_delta = 0. New best score: 1.098\n"
     ]
    },
    {
     "name": "stdout",
     "output_type": "stream",
     "text": [
      "Epoch 49 [63/63] {'loss': '1.1'}\r"
     ]
    },
    {
     "name": "stderr",
     "output_type": "stream",
     "text": [
      "Metric loss/val improved by 0.000 >= min_delta = 0. New best score: 1.098\n"
     ]
    },
    {
     "name": "stdout",
     "output_type": "stream",
     "text": [
      "Epoch 50 [63/63] {'loss': '1.1'}\r"
     ]
    },
    {
     "name": "stderr",
     "output_type": "stream",
     "text": [
      "Metric loss/val improved by 0.000 >= min_delta = 0. New best score: 1.098\n"
     ]
    },
    {
     "name": "stdout",
     "output_type": "stream",
     "text": [
      "Epoch 51 [63/63] {'loss': '1.1'}\r"
     ]
    },
    {
     "name": "stderr",
     "output_type": "stream",
     "text": [
      "Metric loss/val improved by 0.000 >= min_delta = 0. New best score: 1.098\n"
     ]
    },
    {
     "name": "stdout",
     "output_type": "stream",
     "text": [
      "Epoch 53 [63/63] {'loss': '1.1'}\r"
     ]
    },
    {
     "name": "stderr",
     "output_type": "stream",
     "text": [
      "Metric loss/val improved by 0.000 >= min_delta = 0. New best score: 1.098\n"
     ]
    },
    {
     "name": "stdout",
     "output_type": "stream",
     "text": [
      "Epoch 55 [63/63] {'loss': '1.1'}\r"
     ]
    },
    {
     "name": "stderr",
     "output_type": "stream",
     "text": [
      "Metric loss/val improved by 0.000 >= min_delta = 0. New best score: 1.098\n"
     ]
    },
    {
     "name": "stdout",
     "output_type": "stream",
     "text": [
      "Epoch 56 [63/63] {'loss': '1.1'}\r"
     ]
    },
    {
     "name": "stderr",
     "output_type": "stream",
     "text": [
      "Metric loss/val improved by 0.000 >= min_delta = 0. New best score: 1.098\n"
     ]
    },
    {
     "name": "stdout",
     "output_type": "stream",
     "text": [
      "Epoch 60 [63/63] {'loss': '1.1'}\r"
     ]
    },
    {
     "name": "stderr",
     "output_type": "stream",
     "text": [
      "Metric loss/val improved by 0.000 >= min_delta = 0. New best score: 1.098\n"
     ]
    },
    {
     "name": "stdout",
     "output_type": "stream",
     "text": [
      "Epoch 62 [63/63] {'loss': '1.1'}\r"
     ]
    },
    {
     "name": "stderr",
     "output_type": "stream",
     "text": [
      "Metric loss/val improved by 0.000 >= min_delta = 0. New best score: 1.098\n"
     ]
    },
    {
     "name": "stdout",
     "output_type": "stream",
     "text": [
      "Epoch 65 [63/63] {'loss': '1.1'}\r"
     ]
    },
    {
     "name": "stderr",
     "output_type": "stream",
     "text": [
      "Metric loss/val improved by 0.000 >= min_delta = 0. New best score: 1.097\n"
     ]
    },
    {
     "name": "stdout",
     "output_type": "stream",
     "text": [
      "Epoch 67 [63/63] {'loss': '1.1'}\r"
     ]
    },
    {
     "name": "stderr",
     "output_type": "stream",
     "text": [
      "Metric loss/val improved by 0.000 >= min_delta = 0. New best score: 1.097\n"
     ]
    },
    {
     "name": "stdout",
     "output_type": "stream",
     "text": [
      "Epoch 70 [63/63] {'loss': '1.1'}\r"
     ]
    },
    {
     "name": "stderr",
     "output_type": "stream",
     "text": [
      "Metric loss/val improved by 0.000 >= min_delta = 0. New best score: 1.097\n"
     ]
    },
    {
     "name": "stdout",
     "output_type": "stream",
     "text": [
      "Epoch 75 [63/63] {'loss': '1.1'}\r"
     ]
    },
    {
     "name": "stderr",
     "output_type": "stream",
     "text": [
      "Metric loss/val improved by 0.000 >= min_delta = 0. New best score: 1.097\n"
     ]
    },
    {
     "name": "stdout",
     "output_type": "stream",
     "text": [
      "Epoch 77 [63/63] {'loss': '1.1'}}\r"
     ]
    },
    {
     "name": "stderr",
     "output_type": "stream",
     "text": [
      "Metric loss/val improved by 0.000 >= min_delta = 0. New best score: 1.097\n"
     ]
    },
    {
     "name": "stdout",
     "output_type": "stream",
     "text": [
      "Epoch 80 [63/63] {'loss': '1.1'}\r"
     ]
    },
    {
     "name": "stderr",
     "output_type": "stream",
     "text": [
      "Metric loss/val improved by 0.000 >= min_delta = 0. New best score: 1.097\n"
     ]
    },
    {
     "name": "stdout",
     "output_type": "stream",
     "text": [
      "Epoch 100 [63/63] {'loss': '1.1'}\r"
     ]
    },
    {
     "name": "stderr",
     "output_type": "stream",
     "text": [
      "Monitored metric loss/val did not improve in the last 20 records. Best score: 1.097. Signaling Trainer to stop.\n"
     ]
    },
    {
     "name": "stdout",
     "output_type": "stream",
     "text": [
      "Architecture [VGG] was created\n",
      "***Defined hyperparameters:***\n",
      "\"arch\":                {'name': 'vgg11_brew', 'args': {'num_channels': 1, 'num_classes': 3}}\n",
      "\"checkpoint_path\":     None\n",
      "\"class_weights\":       tensor([1.1905, 0.9259, 0.9259], device='cuda:0')\n",
      "\"hp_metrics\":          ['loss/train', 'loss/val', 'Accuracy/val', 'AUROC/val', 'Precision/val', 'Recall/val', 'Specificity/val']\n",
      "\"loss\":                {'type': 'CrossEntropyLoss', 'args': {'weight': True}}\n",
      "\"optimizer\":           {'type': 'Adam', 'args': {'lr': 0.0001, 'weight_decay': 0, 'amsgrad': True}}\n",
      "\"roi_hparams\":         {'enable': False, 'output_shape': [3, 3, 3], 'boundary_boxes': []}\n",
      "\"weight_distribution\": normal\n"
     ]
    },
    {
     "name": "stderr",
     "output_type": "stream",
     "text": [
      "GPU available: True, used: True\n",
      "TPU available: False, using: 0 TPU cores\n",
      "LOCAL_RANK: 0 - CUDA_VISIBLE_DEVICES: [0]\n",
      "\n",
      "  | Name          | Type             | Params\n",
      "---------------------------------------------------\n",
      "0 | model         | VGG              | 103 M \n",
      "1 | criteria      | CrossEntropyLoss | 0     \n",
      "2 | train_metrics | MetricCollection | 0     \n",
      "3 | valid_metrics | MetricCollection | 0     \n",
      "---------------------------------------------------\n",
      "103 M     Trainable params\n",
      "0         Non-trainable params\n",
      "103 M     Total params\n",
      "414.175   Total estimated model params size (MB)\n"
     ]
    },
    {
     "name": "stdout",
     "output_type": "stream",
     "text": [
      "Enabled callbacks:  ['LitProgressBar', 'EarlyStopping']\n",
      "Dataloader fold: 2\n",
      "Epoch 1 [63/63] {'loss': '1.1'}\r"
     ]
    },
    {
     "name": "stderr",
     "output_type": "stream",
     "text": [
      "Metric loss/val improved. New best score: 1.099\n"
     ]
    },
    {
     "name": "stdout",
     "output_type": "stream",
     "text": [
      "Epoch 2 [63/63] {'loss': '1.1'}\r"
     ]
    },
    {
     "name": "stderr",
     "output_type": "stream",
     "text": [
      "Metric loss/val improved by 0.000 >= min_delta = 0. New best score: 1.099\n"
     ]
    },
    {
     "name": "stdout",
     "output_type": "stream",
     "text": [
      "Epoch 3 [63/63] {'loss': '1.1'}\r"
     ]
    },
    {
     "name": "stderr",
     "output_type": "stream",
     "text": [
      "Metric loss/val improved by 0.000 >= min_delta = 0. New best score: 1.099\n"
     ]
    },
    {
     "name": "stdout",
     "output_type": "stream",
     "text": [
      "Epoch 4 [63/63] {'loss': '1.1'}\r"
     ]
    },
    {
     "name": "stderr",
     "output_type": "stream",
     "text": [
      "Metric loss/val improved by 0.000 >= min_delta = 0. New best score: 1.098\n"
     ]
    },
    {
     "name": "stdout",
     "output_type": "stream",
     "text": [
      "Epoch 7 [63/63] {'loss': '1.1'}\r"
     ]
    },
    {
     "name": "stderr",
     "output_type": "stream",
     "text": [
      "Metric loss/val improved by 0.000 >= min_delta = 0. New best score: 1.098\n"
     ]
    },
    {
     "name": "stdout",
     "output_type": "stream",
     "text": [
      "Epoch 11 [63/63] {'loss': '1.1'}\r"
     ]
    },
    {
     "name": "stderr",
     "output_type": "stream",
     "text": [
      "Metric loss/val improved by 0.000 >= min_delta = 0. New best score: 1.098\n"
     ]
    },
    {
     "name": "stdout",
     "output_type": "stream",
     "text": [
      "Epoch 14 [63/63] {'loss': '1.1'}\r"
     ]
    },
    {
     "name": "stderr",
     "output_type": "stream",
     "text": [
      "Metric loss/val improved by 0.000 >= min_delta = 0. New best score: 1.098\n"
     ]
    },
    {
     "name": "stdout",
     "output_type": "stream",
     "text": [
      "Epoch 15 [63/63] {'loss': '1.1'}\r"
     ]
    },
    {
     "name": "stderr",
     "output_type": "stream",
     "text": [
      "Metric loss/val improved by 0.000 >= min_delta = 0. New best score: 1.098\n"
     ]
    },
    {
     "name": "stdout",
     "output_type": "stream",
     "text": [
      "Epoch 16 [63/63] {'loss': '1.1'}\r"
     ]
    },
    {
     "name": "stderr",
     "output_type": "stream",
     "text": [
      "Metric loss/val improved by 0.000 >= min_delta = 0. New best score: 1.098\n"
     ]
    },
    {
     "name": "stdout",
     "output_type": "stream",
     "text": [
      "Epoch 17 [63/63] {'loss': '1.1'}\r"
     ]
    },
    {
     "name": "stderr",
     "output_type": "stream",
     "text": [
      "Metric loss/val improved by 0.000 >= min_delta = 0. New best score: 1.098\n"
     ]
    },
    {
     "name": "stdout",
     "output_type": "stream",
     "text": [
      "Epoch 18 [63/63] {'loss': '1.1'}\r"
     ]
    },
    {
     "name": "stderr",
     "output_type": "stream",
     "text": [
      "Metric loss/val improved by 0.000 >= min_delta = 0. New best score: 1.098\n"
     ]
    },
    {
     "name": "stdout",
     "output_type": "stream",
     "text": [
      "Epoch 38 [63/63] {'loss': '1.1'}}\r"
     ]
    },
    {
     "name": "stderr",
     "output_type": "stream",
     "text": [
      "Monitored metric loss/val did not improve in the last 20 records. Best score: 1.098. Signaling Trainer to stop.\n"
     ]
    },
    {
     "name": "stdout",
     "output_type": "stream",
     "text": [
      "Architecture [VGG] was created\n",
      "***Defined hyperparameters:***\n",
      "\"arch\":                {'name': 'vgg11_brew', 'args': {'num_channels': 1, 'num_classes': 3}}\n",
      "\"checkpoint_path\":     None\n",
      "\"class_weights\":       tensor([1.1905, 0.9259, 0.9259], device='cuda:0')\n",
      "\"hp_metrics\":          ['loss/train', 'loss/val', 'Accuracy/val', 'AUROC/val', 'Precision/val', 'Recall/val', 'Specificity/val']\n",
      "\"loss\":                {'type': 'CrossEntropyLoss', 'args': {'weight': True}}\n",
      "\"optimizer\":           {'type': 'Adam', 'args': {'lr': 0.0001, 'weight_decay': 0, 'amsgrad': True}}\n",
      "\"roi_hparams\":         {'enable': False, 'output_shape': [3, 3, 3], 'boundary_boxes': []}\n",
      "\"weight_distribution\": normal\n"
     ]
    },
    {
     "name": "stderr",
     "output_type": "stream",
     "text": [
      "GPU available: True, used: True\n",
      "TPU available: False, using: 0 TPU cores\n",
      "LOCAL_RANK: 0 - CUDA_VISIBLE_DEVICES: [0]\n",
      "\n",
      "  | Name          | Type             | Params\n",
      "---------------------------------------------------\n",
      "0 | model         | VGG              | 103 M \n",
      "1 | criteria      | CrossEntropyLoss | 0     \n",
      "2 | train_metrics | MetricCollection | 0     \n",
      "3 | valid_metrics | MetricCollection | 0     \n",
      "---------------------------------------------------\n",
      "103 M     Trainable params\n",
      "0         Non-trainable params\n",
      "103 M     Total params\n",
      "414.175   Total estimated model params size (MB)\n"
     ]
    },
    {
     "name": "stdout",
     "output_type": "stream",
     "text": [
      "Enabled callbacks:  ['LitProgressBar', 'EarlyStopping']\n",
      "Dataloader fold: 3\n",
      "Epoch 1 [63/63] {'loss': '1.1'}}\r"
     ]
    },
    {
     "name": "stderr",
     "output_type": "stream",
     "text": [
      "Metric loss/val improved. New best score: 1.098\n"
     ]
    },
    {
     "name": "stdout",
     "output_type": "stream",
     "text": [
      "Epoch 21 [63/63] {'loss': '1.1'}\r"
     ]
    },
    {
     "name": "stderr",
     "output_type": "stream",
     "text": [
      "Monitored metric loss/val did not improve in the last 20 records. Best score: 1.098. Signaling Trainer to stop.\n"
     ]
    },
    {
     "name": "stdout",
     "output_type": "stream",
     "text": [
      "Architecture [VGG] was created\n",
      "***Defined hyperparameters:***\n",
      "\"arch\":                {'name': 'vgg11_brew', 'args': {'num_channels': 1, 'num_classes': 3}}\n",
      "\"checkpoint_path\":     None\n",
      "\"class_weights\":       tensor([1.1905, 0.9259, 0.9259], device='cuda:0')\n",
      "\"hp_metrics\":          ['loss/train', 'loss/val', 'Accuracy/val', 'AUROC/val', 'Precision/val', 'Recall/val', 'Specificity/val']\n",
      "\"loss\":                {'type': 'CrossEntropyLoss', 'args': {'weight': True}}\n",
      "\"optimizer\":           {'type': 'Adam', 'args': {'lr': 0.0001, 'weight_decay': 0, 'amsgrad': True}}\n",
      "\"roi_hparams\":         {'enable': False, 'output_shape': [3, 3, 3], 'boundary_boxes': []}\n",
      "\"weight_distribution\": normal\n"
     ]
    },
    {
     "name": "stderr",
     "output_type": "stream",
     "text": [
      "GPU available: True, used: True\n",
      "TPU available: False, using: 0 TPU cores\n",
      "LOCAL_RANK: 0 - CUDA_VISIBLE_DEVICES: [0]\n",
      "\n",
      "  | Name          | Type             | Params\n",
      "---------------------------------------------------\n",
      "0 | model         | VGG              | 103 M \n",
      "1 | criteria      | CrossEntropyLoss | 0     \n",
      "2 | train_metrics | MetricCollection | 0     \n",
      "3 | valid_metrics | MetricCollection | 0     \n",
      "---------------------------------------------------\n",
      "103 M     Trainable params\n",
      "0         Non-trainable params\n",
      "103 M     Total params\n",
      "414.175   Total estimated model params size (MB)\n"
     ]
    },
    {
     "name": "stdout",
     "output_type": "stream",
     "text": [
      "Enabled callbacks:  ['LitProgressBar', 'EarlyStopping']\n",
      "Dataloader fold: 4\n",
      "Epoch 1 [63/63] {'loss': '1.1'}}\r"
     ]
    },
    {
     "name": "stderr",
     "output_type": "stream",
     "text": [
      "Metric loss/val improved. New best score: 1.099\n"
     ]
    },
    {
     "name": "stdout",
     "output_type": "stream",
     "text": [
      "Epoch 2 [63/63] {'loss': '1.1'}\r"
     ]
    },
    {
     "name": "stderr",
     "output_type": "stream",
     "text": [
      "Metric loss/val improved by 0.001 >= min_delta = 0. New best score: 1.098\n"
     ]
    },
    {
     "name": "stdout",
     "output_type": "stream",
     "text": [
      "Epoch 7 [63/63] {'loss': '1.1'}\r"
     ]
    },
    {
     "name": "stderr",
     "output_type": "stream",
     "text": [
      "Metric loss/val improved by 0.000 >= min_delta = 0. New best score: 1.098\n"
     ]
    },
    {
     "name": "stdout",
     "output_type": "stream",
     "text": [
      "Epoch 8 [63/63] {'loss': '1.1'}\r"
     ]
    },
    {
     "name": "stderr",
     "output_type": "stream",
     "text": [
      "Metric loss/val improved by 0.000 >= min_delta = 0. New best score: 1.098\n"
     ]
    },
    {
     "name": "stdout",
     "output_type": "stream",
     "text": [
      "Epoch 19 [63/63] {'loss': '1.1'}\r"
     ]
    },
    {
     "name": "stderr",
     "output_type": "stream",
     "text": [
      "Metric loss/val improved by 0.001 >= min_delta = 0. New best score: 1.098\n"
     ]
    },
    {
     "name": "stdout",
     "output_type": "stream",
     "text": [
      "Epoch 30 [63/63] {'loss': '1.1'}\r"
     ]
    },
    {
     "name": "stderr",
     "output_type": "stream",
     "text": [
      "Metric loss/val improved by 0.001 >= min_delta = 0. New best score: 1.097\n"
     ]
    },
    {
     "name": "stdout",
     "output_type": "stream",
     "text": [
      "Epoch 34 [63/63] {'loss': '1.1'}\r"
     ]
    },
    {
     "name": "stderr",
     "output_type": "stream",
     "text": [
      "Metric loss/val improved by 0.004 >= min_delta = 0. New best score: 1.092\n"
     ]
    },
    {
     "name": "stdout",
     "output_type": "stream",
     "text": [
      "Epoch 48 [63/63] {'loss': '1.09'}\r"
     ]
    },
    {
     "name": "stderr",
     "output_type": "stream",
     "text": [
      "Metric loss/val improved by 0.010 >= min_delta = 0. New best score: 1.082\n"
     ]
    },
    {
     "name": "stdout",
     "output_type": "stream",
     "text": [
      "Epoch 55 [63/63] {'loss': '1.09'}\r"
     ]
    },
    {
     "name": "stderr",
     "output_type": "stream",
     "text": [
      "Metric loss/val improved by 0.013 >= min_delta = 0. New best score: 1.069\n"
     ]
    },
    {
     "name": "stdout",
     "output_type": "stream",
     "text": [
      "Epoch 57 [14/63] {'loss': '1.12'}\r"
     ]
    }
   ],
   "source": [
    "models = ['resnet50','vgg16','resnet18_brew2','resnet18','vgg11_brew']\n",
    "for name in models:\n",
    "    run_me(name, base_config='base')"
   ]
  },
  {
   "cell_type": "code",
   "execution_count": null,
   "id": "17c9746a-e339-4590-93fd-467cdd191d28",
   "metadata": {
    "collapsed": true,
    "jupyter": {
     "outputs_hidden": true
    },
    "tags": []
   },
   "outputs": [
    {
     "name": "stdout",
     "output_type": "stream",
     "text": [
      "***Defined dataloader:***\n",
      "Data directory: data/SPM_categorised/Amira/\n",
      "Dataset sizes - Training: 500 Validation: 56\n",
      "Seed: 420\n",
      "Augmentation: Enabled\n",
      "KFold: Enabled - Fold: 1/10\n",
      "\n"
     ]
    },
    {
     "name": "stderr",
     "output_type": "stream",
     "text": [
      "/home/stud/f/fremar16/miniconda3/envs/Master-thesis/lib/python3.9/site-packages/torchmetrics/utilities/prints.py:36: UserWarning: Metric `AUROC` will save all targets and predictions in buffer. For large datasets this may lead to large memory footprint.\n",
      "  warnings.warn(*args, **kwargs)\n",
      "GPU available: True, used: True\n",
      "TPU available: False, using: 0 TPU cores\n",
      "Missing logger folder: /var/metrics/codetests/logs/tb/resnet18_brew2/20210517212344\n",
      "LOCAL_RANK: 0 - CUDA_VISIBLE_DEVICES: [0]\n",
      "\n",
      "  | Name               | Type             | Params\n",
      "--------------------------------------------------------\n",
      "0 | model              | ResNet           | 8.3 M \n",
      "1 | criteria           | CrossEntropyLoss | 0     \n",
      "2 | train_metrics      | MetricCollection | 0     \n",
      "3 | valid_metrics      | MetricCollection | 0     \n",
      "4 | valid_dummy_metric | AUROC            | 0     \n",
      "--------------------------------------------------------\n",
      "8.3 M     Trainable params\n",
      "0         Non-trainable params\n",
      "8.3 M     Total params\n",
      "33.154    Total estimated model params size (MB)\n"
     ]
    },
    {
     "name": "stdout",
     "output_type": "stream",
     "text": [
      "Architecture [ResNet] was created\n",
      "***Defined hyperparameters:***\n",
      "\"arch\":                {'name': 'resnet18_brew2', 'args': {'num_channels': 1, 'num_classes': 3}}\n",
      "\"checkpoint_path\":     None\n",
      "\"class_weights\":       tensor([1.1905, 0.9259, 0.9259], device='cuda:0')\n",
      "\"hp_metrics\":          ['loss/train', 'loss/val', 'Accuracy/val', 'AUROC/val', 'Precision/val', 'Recall/val', 'Specificity/val']\n",
      "\"loss\":                {'type': 'CrossEntropyLoss', 'args': {'weight': True}}\n",
      "\"optimizer\":           {'type': 'Adam', 'args': {'lr': 0.0001, 'weight_decay': 0, 'amsgrad': True}}\n",
      "\"roi_hparams\":         {'enable': False, 'output_shape': [3, 3, 3], 'boundary_boxes': []}\n",
      "\"weight_distribution\": normal\n",
      "Enabled callbacks:  ['LitProgressBar']\n",
      "Dataloader fold: 1\n",
      "Epoch 100 [63/63] {'loss': '0.931'}\r"
     ]
    },
    {
     "name": "stderr",
     "output_type": "stream",
     "text": [
      "GPU available: True, used: True\n",
      "TPU available: False, using: 0 TPU cores\n",
      "LOCAL_RANK: 0 - CUDA_VISIBLE_DEVICES: [0]\n",
      "\n",
      "  | Name               | Type             | Params\n",
      "--------------------------------------------------------\n",
      "0 | model              | ResNet           | 8.3 M \n",
      "1 | criteria           | CrossEntropyLoss | 0     \n",
      "2 | train_metrics      | MetricCollection | 0     \n",
      "3 | valid_metrics      | MetricCollection | 0     \n",
      "4 | valid_dummy_metric | AUROC            | 0     \n",
      "--------------------------------------------------------\n",
      "8.3 M     Trainable params\n",
      "0         Non-trainable params\n",
      "8.3 M     Total params\n",
      "33.154    Total estimated model params size (MB)\n"
     ]
    },
    {
     "name": "stdout",
     "output_type": "stream",
     "text": [
      "Architecture [ResNet] was created\n",
      "***Defined hyperparameters:***\n",
      "\"arch\":                {'name': 'resnet18_brew2', 'args': {'num_channels': 1, 'num_classes': 3}}\n",
      "\"checkpoint_path\":     None\n",
      "\"class_weights\":       tensor([1.1905, 0.9259, 0.9259], device='cuda:0')\n",
      "\"hp_metrics\":          ['loss/train', 'loss/val', 'Accuracy/val', 'AUROC/val', 'Precision/val', 'Recall/val', 'Specificity/val']\n",
      "\"loss\":                {'type': 'CrossEntropyLoss', 'args': {'weight': True}}\n",
      "\"optimizer\":           {'type': 'Adam', 'args': {'lr': 0.0001, 'weight_decay': 0, 'amsgrad': True}}\n",
      "\"roi_hparams\":         {'enable': False, 'output_shape': [3, 3, 3], 'boundary_boxes': []}\n",
      "\"weight_distribution\": normal\n",
      "Enabled callbacks:  ['LitProgressBar']\n",
      "Dataloader fold: 2\n",
      "Epoch 100 [63/63] {'loss': '0.893'}\r"
     ]
    },
    {
     "name": "stderr",
     "output_type": "stream",
     "text": [
      "GPU available: True, used: True\n",
      "TPU available: False, using: 0 TPU cores\n",
      "LOCAL_RANK: 0 - CUDA_VISIBLE_DEVICES: [0]\n",
      "\n",
      "  | Name               | Type             | Params\n",
      "--------------------------------------------------------\n",
      "0 | model              | ResNet           | 8.3 M \n",
      "1 | criteria           | CrossEntropyLoss | 0     \n",
      "2 | train_metrics      | MetricCollection | 0     \n",
      "3 | valid_metrics      | MetricCollection | 0     \n",
      "4 | valid_dummy_metric | AUROC            | 0     \n",
      "--------------------------------------------------------\n",
      "8.3 M     Trainable params\n",
      "0         Non-trainable params\n",
      "8.3 M     Total params\n",
      "33.154    Total estimated model params size (MB)\n"
     ]
    },
    {
     "name": "stdout",
     "output_type": "stream",
     "text": [
      "Architecture [ResNet] was created\n",
      "***Defined hyperparameters:***\n",
      "\"arch\":                {'name': 'resnet18_brew2', 'args': {'num_channels': 1, 'num_classes': 3}}\n",
      "\"checkpoint_path\":     None\n",
      "\"class_weights\":       tensor([1.1905, 0.9259, 0.9259], device='cuda:0')\n",
      "\"hp_metrics\":          ['loss/train', 'loss/val', 'Accuracy/val', 'AUROC/val', 'Precision/val', 'Recall/val', 'Specificity/val']\n",
      "\"loss\":                {'type': 'CrossEntropyLoss', 'args': {'weight': True}}\n",
      "\"optimizer\":           {'type': 'Adam', 'args': {'lr': 0.0001, 'weight_decay': 0, 'amsgrad': True}}\n",
      "\"roi_hparams\":         {'enable': False, 'output_shape': [3, 3, 3], 'boundary_boxes': []}\n",
      "\"weight_distribution\": normal\n",
      "Enabled callbacks:  ['LitProgressBar']\n",
      "Dataloader fold: 3\n",
      "Epoch 100 [63/63] {'loss': '0.906'}\r"
     ]
    },
    {
     "name": "stderr",
     "output_type": "stream",
     "text": [
      "GPU available: True, used: True\n",
      "TPU available: False, using: 0 TPU cores\n",
      "LOCAL_RANK: 0 - CUDA_VISIBLE_DEVICES: [0]\n",
      "\n",
      "  | Name               | Type             | Params\n",
      "--------------------------------------------------------\n",
      "0 | model              | ResNet           | 8.3 M \n",
      "1 | criteria           | CrossEntropyLoss | 0     \n",
      "2 | train_metrics      | MetricCollection | 0     \n",
      "3 | valid_metrics      | MetricCollection | 0     \n",
      "4 | valid_dummy_metric | AUROC            | 0     \n",
      "--------------------------------------------------------\n",
      "8.3 M     Trainable params\n",
      "0         Non-trainable params\n",
      "8.3 M     Total params\n",
      "33.154    Total estimated model params size (MB)\n"
     ]
    },
    {
     "name": "stdout",
     "output_type": "stream",
     "text": [
      "Architecture [ResNet] was created\n",
      "***Defined hyperparameters:***\n",
      "\"arch\":                {'name': 'resnet18_brew2', 'args': {'num_channels': 1, 'num_classes': 3}}\n",
      "\"checkpoint_path\":     None\n",
      "\"class_weights\":       tensor([1.1905, 0.9259, 0.9259], device='cuda:0')\n",
      "\"hp_metrics\":          ['loss/train', 'loss/val', 'Accuracy/val', 'AUROC/val', 'Precision/val', 'Recall/val', 'Specificity/val']\n",
      "\"loss\":                {'type': 'CrossEntropyLoss', 'args': {'weight': True}}\n",
      "\"optimizer\":           {'type': 'Adam', 'args': {'lr': 0.0001, 'weight_decay': 0, 'amsgrad': True}}\n",
      "\"roi_hparams\":         {'enable': False, 'output_shape': [3, 3, 3], 'boundary_boxes': []}\n",
      "\"weight_distribution\": normal\n",
      "Enabled callbacks:  ['LitProgressBar']\n",
      "Dataloader fold: 4\n",
      "Epoch 100 [63/63] {'loss': '0.861'}\r"
     ]
    },
    {
     "name": "stderr",
     "output_type": "stream",
     "text": [
      "GPU available: True, used: True\n",
      "TPU available: False, using: 0 TPU cores\n",
      "LOCAL_RANK: 0 - CUDA_VISIBLE_DEVICES: [0]\n",
      "\n",
      "  | Name               | Type             | Params\n",
      "--------------------------------------------------------\n",
      "0 | model              | ResNet           | 8.3 M \n",
      "1 | criteria           | CrossEntropyLoss | 0     \n",
      "2 | train_metrics      | MetricCollection | 0     \n",
      "3 | valid_metrics      | MetricCollection | 0     \n",
      "4 | valid_dummy_metric | AUROC            | 0     \n",
      "--------------------------------------------------------\n",
      "8.3 M     Trainable params\n",
      "0         Non-trainable params\n",
      "8.3 M     Total params\n",
      "33.154    Total estimated model params size (MB)\n"
     ]
    },
    {
     "name": "stdout",
     "output_type": "stream",
     "text": [
      "Architecture [ResNet] was created\n",
      "***Defined hyperparameters:***\n",
      "\"arch\":                {'name': 'resnet18_brew2', 'args': {'num_channels': 1, 'num_classes': 3}}\n",
      "\"checkpoint_path\":     None\n",
      "\"class_weights\":       tensor([1.1905, 0.9259, 0.9259], device='cuda:0')\n",
      "\"hp_metrics\":          ['loss/train', 'loss/val', 'Accuracy/val', 'AUROC/val', 'Precision/val', 'Recall/val', 'Specificity/val']\n",
      "\"loss\":                {'type': 'CrossEntropyLoss', 'args': {'weight': True}}\n",
      "\"optimizer\":           {'type': 'Adam', 'args': {'lr': 0.0001, 'weight_decay': 0, 'amsgrad': True}}\n",
      "\"roi_hparams\":         {'enable': False, 'output_shape': [3, 3, 3], 'boundary_boxes': []}\n",
      "\"weight_distribution\": normal\n",
      "Enabled callbacks:  ['LitProgressBar']\n",
      "Dataloader fold: 5\n",
      "Epoch 100 [63/63] {'loss': '0.849'}\r"
     ]
    },
    {
     "name": "stderr",
     "output_type": "stream",
     "text": [
      "GPU available: True, used: True\n",
      "TPU available: False, using: 0 TPU cores\n",
      "LOCAL_RANK: 0 - CUDA_VISIBLE_DEVICES: [0]\n",
      "\n",
      "  | Name               | Type             | Params\n",
      "--------------------------------------------------------\n",
      "0 | model              | ResNet           | 8.3 M \n",
      "1 | criteria           | CrossEntropyLoss | 0     \n",
      "2 | train_metrics      | MetricCollection | 0     \n",
      "3 | valid_metrics      | MetricCollection | 0     \n",
      "4 | valid_dummy_metric | AUROC            | 0     \n",
      "--------------------------------------------------------\n",
      "8.3 M     Trainable params\n",
      "0         Non-trainable params\n",
      "8.3 M     Total params\n",
      "33.154    Total estimated model params size (MB)\n"
     ]
    },
    {
     "name": "stdout",
     "output_type": "stream",
     "text": [
      "Architecture [ResNet] was created\n",
      "***Defined hyperparameters:***\n",
      "\"arch\":                {'name': 'resnet18_brew2', 'args': {'num_channels': 1, 'num_classes': 3}}\n",
      "\"checkpoint_path\":     None\n",
      "\"class_weights\":       tensor([1.1905, 0.9259, 0.9259], device='cuda:0')\n",
      "\"hp_metrics\":          ['loss/train', 'loss/val', 'Accuracy/val', 'AUROC/val', 'Precision/val', 'Recall/val', 'Specificity/val']\n",
      "\"loss\":                {'type': 'CrossEntropyLoss', 'args': {'weight': True}}\n",
      "\"optimizer\":           {'type': 'Adam', 'args': {'lr': 0.0001, 'weight_decay': 0, 'amsgrad': True}}\n",
      "\"roi_hparams\":         {'enable': False, 'output_shape': [3, 3, 3], 'boundary_boxes': []}\n",
      "\"weight_distribution\": normal\n",
      "Enabled callbacks:  ['LitProgressBar']\n",
      "Dataloader fold: 6\n",
      "***Defined dataloader:***: '0.926'}\n",
      "Data directory: data/SPM_categorised/Amira/\n",
      "Dataset sizes - Training: 500 Validation: 56\n",
      "Seed: 420\n",
      "Augmentation: Enabled\n",
      "KFold: Enabled - Fold: 1/10\n",
      "\n",
      "Architecture [ResNet] was created\n",
      "***Defined hyperparameters:***\n",
      "\"arch\":                {'name': 'resnet50', 'args': {'num_channels': 1, 'num_classes': 3}}\n",
      "\"checkpoint_path\":     None\n",
      "\"class_weights\":       tensor([1.1905, 0.9259, 0.9259], device='cuda:0')\n",
      "\"hp_metrics\":          ['loss/train', 'loss/val', 'Accuracy/val', 'AUROC/val', 'Precision/val', 'Recall/val', 'Specificity/val']\n",
      "\"loss\":                {'type': 'CrossEntropyLoss', 'args': {'weight': True}}\n",
      "\"optimizer\":           {'type': 'Adam', 'args': {'lr': 0.0001, 'weight_decay': 0, 'amsgrad': True}}\n",
      "\"roi_hparams\":         {'enable': False, 'output_shape': [3, 3, 3], 'boundary_boxes': []}\n",
      "\"weight_distribution\": normal\n"
     ]
    },
    {
     "name": "stderr",
     "output_type": "stream",
     "text": [
      "/home/stud/f/fremar16/miniconda3/envs/Master-thesis/lib/python3.9/site-packages/torchmetrics/utilities/prints.py:36: UserWarning: Metric `AUROC` will save all targets and predictions in buffer. For large datasets this may lead to large memory footprint.\n",
      "  warnings.warn(*args, **kwargs)\n",
      "GPU available: True, used: True\n",
      "TPU available: False, using: 0 TPU cores\n",
      "Missing logger folder: /var/metrics/codetests/logs/tb/resnet50/20210518011542\n",
      "LOCAL_RANK: 0 - CUDA_VISIBLE_DEVICES: [0]\n",
      "\n",
      "  | Name               | Type             | Params\n",
      "--------------------------------------------------------\n",
      "0 | model              | ResNet           | 46.2 M\n",
      "1 | criteria           | CrossEntropyLoss | 0     \n",
      "2 | train_metrics      | MetricCollection | 0     \n",
      "3 | valid_metrics      | MetricCollection | 0     \n",
      "4 | valid_dummy_metric | AUROC            | 0     \n",
      "--------------------------------------------------------\n",
      "46.2 M    Trainable params\n",
      "0         Non-trainable params\n",
      "46.2 M    Total params\n",
      "184.645   Total estimated model params size (MB)\n"
     ]
    },
    {
     "name": "stdout",
     "output_type": "stream",
     "text": [
      "Enabled callbacks:  ['LitProgressBar']\n",
      "Dataloader fold: 1\n",
      "Architecture [ResNet] was created'}\n",
      "***Defined hyperparameters:***\n",
      "\"arch\":                {'name': 'resnet50', 'args': {'num_channels': 1, 'num_classes': 3}}\n",
      "\"checkpoint_path\":     None\n",
      "\"class_weights\":       tensor([1.1905, 0.9259, 0.9259], device='cuda:0')\n",
      "\"hp_metrics\":          ['loss/train', 'loss/val', 'Accuracy/val', 'AUROC/val', 'Precision/val', 'Recall/val', 'Specificity/val']\n",
      "\"loss\":                {'type': 'CrossEntropyLoss', 'args': {'weight': True}}\n",
      "\"optimizer\":           {'type': 'Adam', 'args': {'lr': 0.0001, 'weight_decay': 0, 'amsgrad': True}}\n",
      "\"roi_hparams\":         {'enable': False, 'output_shape': [3, 3, 3], 'boundary_boxes': []}\n",
      "\"weight_distribution\": normal\n"
     ]
    },
    {
     "name": "stderr",
     "output_type": "stream",
     "text": [
      "GPU available: True, used: True\n",
      "TPU available: False, using: 0 TPU cores\n",
      "LOCAL_RANK: 0 - CUDA_VISIBLE_DEVICES: [0]\n",
      "\n",
      "  | Name               | Type             | Params\n",
      "--------------------------------------------------------\n",
      "0 | model              | ResNet           | 46.2 M\n",
      "1 | criteria           | CrossEntropyLoss | 0     \n",
      "2 | train_metrics      | MetricCollection | 0     \n",
      "3 | valid_metrics      | MetricCollection | 0     \n",
      "4 | valid_dummy_metric | AUROC            | 0     \n",
      "--------------------------------------------------------\n",
      "46.2 M    Trainable params\n",
      "0         Non-trainable params\n",
      "46.2 M    Total params\n",
      "184.645   Total estimated model params size (MB)\n"
     ]
    },
    {
     "name": "stdout",
     "output_type": "stream",
     "text": [
      "Enabled callbacks:  ['LitProgressBar']\n",
      "Dataloader fold: 2\n",
      "Architecture [ResNet] was created'}\n",
      "***Defined hyperparameters:***\n",
      "\"arch\":                {'name': 'resnet50', 'args': {'num_channels': 1, 'num_classes': 3}}\n",
      "\"checkpoint_path\":     None\n",
      "\"class_weights\":       tensor([1.1905, 0.9259, 0.9259], device='cuda:0')\n",
      "\"hp_metrics\":          ['loss/train', 'loss/val', 'Accuracy/val', 'AUROC/val', 'Precision/val', 'Recall/val', 'Specificity/val']\n",
      "\"loss\":                {'type': 'CrossEntropyLoss', 'args': {'weight': True}}\n",
      "\"optimizer\":           {'type': 'Adam', 'args': {'lr': 0.0001, 'weight_decay': 0, 'amsgrad': True}}\n",
      "\"roi_hparams\":         {'enable': False, 'output_shape': [3, 3, 3], 'boundary_boxes': []}\n",
      "\"weight_distribution\": normal\n"
     ]
    },
    {
     "name": "stderr",
     "output_type": "stream",
     "text": [
      "GPU available: True, used: True\n",
      "TPU available: False, using: 0 TPU cores\n",
      "LOCAL_RANK: 0 - CUDA_VISIBLE_DEVICES: [0]\n",
      "\n",
      "  | Name               | Type             | Params\n",
      "--------------------------------------------------------\n",
      "0 | model              | ResNet           | 46.2 M\n",
      "1 | criteria           | CrossEntropyLoss | 0     \n",
      "2 | train_metrics      | MetricCollection | 0     \n",
      "3 | valid_metrics      | MetricCollection | 0     \n",
      "4 | valid_dummy_metric | AUROC            | 0     \n",
      "--------------------------------------------------------\n",
      "46.2 M    Trainable params\n",
      "0         Non-trainable params\n",
      "46.2 M    Total params\n",
      "184.645   Total estimated model params size (MB)\n"
     ]
    },
    {
     "name": "stdout",
     "output_type": "stream",
     "text": [
      "Enabled callbacks:  ['LitProgressBar']\n",
      "Dataloader fold: 3\n",
      "Epoch 70 [26/63] {'loss': '0.847'}\r"
     ]
    }
   ],
   "source": [
    "models = ['resnet18_brew2','resnet50','vgg11_brew','vgg16','resnet18']\n",
    "for name in models:\n",
    "    run_me(name, base_config='base',i_limit=6)"
   ]
  },
  {
   "cell_type": "code",
   "execution_count": null,
   "id": "9adb6de8-85e6-4d23-91b7-4326ea3f7a83",
   "metadata": {
    "collapsed": true,
    "jupyter": {
     "outputs_hidden": true
    },
    "tags": []
   },
   "outputs": [
    {
     "name": "stdout",
     "output_type": "stream",
     "text": [
      "***Defined dataloader:***\n",
      "Data directory: data/SPM_categorised/Amira/\n",
      "Dataset sizes - Training: 500 Validation: 56\n",
      "Seed: 420\n",
      "Augmentation: Enabled\n",
      "KFold: Enabled - Fold: 1/10\n",
      "\n"
     ]
    },
    {
     "name": "stderr",
     "output_type": "stream",
     "text": [
      "/home/stud/f/fremar16/miniconda3/envs/Master-thesis/lib/python3.9/site-packages/torchmetrics/utilities/prints.py:36: UserWarning: Metric `AUROC` will save all targets and predictions in buffer. For large datasets this may lead to large memory footprint.\n",
      "  warnings.warn(*args, **kwargs)\n",
      "GPU available: True, used: True\n",
      "TPU available: False, using: 0 TPU cores\n",
      "Missing logger folder: /var/metrics/codetests/logs/tb/debug/20210517211419\n",
      "LOCAL_RANK: 0 - CUDA_VISIBLE_DEVICES: [0]\n",
      "\n",
      "  | Name               | Type             | Params\n",
      "--------------------------------------------------------\n",
      "0 | model              | ResNet           | 8.3 M \n",
      "1 | criteria           | CrossEntropyLoss | 0     \n",
      "2 | train_metrics      | MetricCollection | 0     \n",
      "3 | valid_metrics      | MetricCollection | 0     \n",
      "4 | valid_dummy_metric | AUROC            | 0     \n",
      "--------------------------------------------------------\n",
      "8.3 M     Trainable params\n",
      "0         Non-trainable params\n",
      "8.3 M     Total params\n",
      "33.358    Total estimated model params size (MB)\n"
     ]
    },
    {
     "name": "stdout",
     "output_type": "stream",
     "text": [
      "Architecture [ResNet] was created\n",
      "***Defined hyperparameters:***\n",
      "\"arch\":                {'name': 'resnet18_brew', 'args': {'num_channels': 1, 'num_classes': 3}}\n",
      "\"checkpoint_path\":     None\n",
      "\"class_weights\":       tensor([1.1905, 0.9259, 0.9259], device='cuda:0')\n",
      "\"hp_metrics\":          ['loss/train', 'loss/val', 'Accuracy/val', 'AUROC/val', 'Precision/val', 'Recall/val', 'Specificity/val']\n",
      "\"loss\":                {'type': 'CrossEntropyLoss', 'args': {'weight': True}}\n",
      "\"optimizer\":           {'type': 'Adam', 'args': {'lr': 0.0001, 'weight_decay': 0, 'amsgrad': True}}\n",
      "\"roi_hparams\":         {'enable': False, 'output_shape': [3, 3, 3], 'boundary_boxes': []}\n",
      "\"weight_distribution\": normal\n",
      "Enabled callbacks:  ['LitProgressBar']\n",
      "Dataloader fold: 1\n",
      "Epoch 28 [17/63] {'loss': '0.955'}\r"
     ]
    },
    {
     "name": "stderr",
     "output_type": "stream",
     "text": [
      "/home/stud/f/fremar16/miniconda3/envs/Master-thesis/lib/python3.9/site-packages/pytorch_lightning/utilities/distributed.py:69: UserWarning: Detected KeyboardInterrupt, attempting graceful shutdown...\n",
      "  warnings.warn(*args, **kwargs)\n",
      "GPU available: True, used: True\n",
      "TPU available: False, using: 0 TPU cores\n",
      "LOCAL_RANK: 0 - CUDA_VISIBLE_DEVICES: [0]\n",
      "\n",
      "  | Name               | Type             | Params\n",
      "--------------------------------------------------------\n",
      "0 | model              | ResNet           | 8.3 M \n",
      "1 | criteria           | CrossEntropyLoss | 0     \n",
      "2 | train_metrics      | MetricCollection | 0     \n",
      "3 | valid_metrics      | MetricCollection | 0     \n",
      "4 | valid_dummy_metric | AUROC            | 0     \n",
      "--------------------------------------------------------\n",
      "8.3 M     Trainable params\n",
      "0         Non-trainable params\n",
      "8.3 M     Total params\n",
      "33.358    Total estimated model params size (MB)\n"
     ]
    },
    {
     "name": "stdout",
     "output_type": "stream",
     "text": [
      "Architecture [ResNet] was created\n",
      "***Defined hyperparameters:***\n",
      "\"arch\":                {'name': 'resnet18_brew', 'args': {'num_channels': 1, 'num_classes': 3}}\n",
      "\"checkpoint_path\":     None\n",
      "\"class_weights\":       tensor([1.1905, 0.9259, 0.9259], device='cuda:0')\n",
      "\"hp_metrics\":          ['loss/train', 'loss/val', 'Accuracy/val', 'AUROC/val', 'Precision/val', 'Recall/val', 'Specificity/val']\n",
      "\"loss\":                {'type': 'CrossEntropyLoss', 'args': {'weight': True}}\n",
      "\"optimizer\":           {'type': 'Adam', 'args': {'lr': 0.0001, 'weight_decay': 0, 'amsgrad': True}}\n",
      "\"roi_hparams\":         {'enable': False, 'output_shape': [3, 3, 3], 'boundary_boxes': []}\n",
      "\"weight_distribution\": normal\n",
      "Enabled callbacks:  ['LitProgressBar']\n",
      "Dataloader fold: 2\n",
      "Epoch 23 [32/63] {'loss': '0.937'}\r"
     ]
    }
   ],
   "source": [
    "models = ['debug']\n",
    "for name in models:\n",
    "    run_me(name, base_config='base',i_limit=6)"
   ]
  },
  {
   "cell_type": "code",
   "execution_count": null,
   "id": "143a9b33-fc80-4fb3-b670-157867f02e55",
   "metadata": {},
   "outputs": [
    {
     "name": "stdout",
     "output_type": "stream",
     "text": [
      "***Defined dataloader:***\n",
      "Data directory: data/SPM_categorised/Amira/\n",
      "Dataset sizes - Training: 500 Validation: 56\n",
      "Seed: 420\n",
      "Augmentation: Enabled\n",
      "KFold: Enabled - Fold: 1/10\n",
      "\n",
      "Architecture [amira_vgg] was created\n",
      "***Defined hyperparameters:***\n",
      "\"arch\":                {'name': 'amira_vgg', 'args': {'num_channels': 1, 'num_classes': 3}}\n",
      "\"checkpoint_path\":     None\n",
      "\"class_weights\":       tensor([1.1905, 0.9259, 0.9259], device='cuda:0')\n",
      "\"hp_metrics\":          ['loss/train', 'loss/val', 'Accuracy/val', 'AUROC/val', 'Precision/val', 'Recall/val', 'Specificity/val']\n",
      "\"loss\":                {'type': 'CrossEntropyLoss', 'args': {'weight': True}}\n",
      "\"optimizer\":           {'type': 'Adam', 'args': {'lr': 0.0001, 'weight_decay': 0, 'amsgrad': True}}\n",
      "\"roi_hparams\":         {'enable': False, 'output_shape': [3, 3, 3], 'boundary_boxes': []}\n",
      "\"weight_distribution\": normal\n"
     ]
    },
    {
     "name": "stderr",
     "output_type": "stream",
     "text": [
      "/home/stud/f/fremar16/miniconda3/envs/Master-thesis/lib/python3.9/site-packages/torchmetrics/utilities/prints.py:36: UserWarning: Metric `AUROC` will save all targets and predictions in buffer. For large datasets this may lead to large memory footprint.\n",
      "  warnings.warn(*args, **kwargs)\n",
      "GPU available: True, used: True\n",
      "TPU available: False, using: 0 TPU cores\n",
      "Missing logger folder: /var/metrics/codetests/logs/tb/amira_vgg/20210518170258\n",
      "LOCAL_RANK: 0 - CUDA_VISIBLE_DEVICES: [0]\n",
      "\n",
      "  | Name               | Type             | Params\n",
      "--------------------------------------------------------\n",
      "0 | model              | amira_vgg        | 37.0 M\n",
      "1 | criteria           | CrossEntropyLoss | 0     \n",
      "2 | train_metrics      | MetricCollection | 0     \n",
      "3 | valid_metrics      | MetricCollection | 0     \n",
      "4 | valid_dummy_metric | AUROC            | 0     \n",
      "--------------------------------------------------------\n",
      "37.0 M    Trainable params\n",
      "0         Non-trainable params\n",
      "37.0 M    Total params\n",
      "148.174   Total estimated model params size (MB)\n"
     ]
    },
    {
     "name": "stdout",
     "output_type": "stream",
     "text": [
      "Enabled callbacks:  ['LitProgressBar']\n",
      "Dataloader fold: 1\n",
      "Architecture [amira_vgg] was created\n",
      "***Defined hyperparameters:***\n",
      "\"arch\":                {'name': 'amira_vgg', 'args': {'num_channels': 1, 'num_classes': 3}}\n",
      "\"checkpoint_path\":     None\n",
      "\"class_weights\":       tensor([1.1905, 0.9259, 0.9259], device='cuda:0')\n",
      "\"hp_metrics\":          ['loss/train', 'loss/val', 'Accuracy/val', 'AUROC/val', 'Precision/val', 'Recall/val', 'Specificity/val']\n",
      "\"loss\":                {'type': 'CrossEntropyLoss', 'args': {'weight': True}}\n",
      "\"optimizer\":           {'type': 'Adam', 'args': {'lr': 0.0001, 'weight_decay': 0, 'amsgrad': True}}\n",
      "\"roi_hparams\":         {'enable': False, 'output_shape': [3, 3, 3], 'boundary_boxes': []}\n",
      "\"weight_distribution\": normal\n"
     ]
    },
    {
     "name": "stderr",
     "output_type": "stream",
     "text": [
      "GPU available: True, used: True\n",
      "TPU available: False, using: 0 TPU cores\n",
      "LOCAL_RANK: 0 - CUDA_VISIBLE_DEVICES: [0]\n",
      "\n",
      "  | Name               | Type             | Params\n",
      "--------------------------------------------------------\n",
      "0 | model              | amira_vgg        | 37.0 M\n",
      "1 | criteria           | CrossEntropyLoss | 0     \n",
      "2 | train_metrics      | MetricCollection | 0     \n",
      "3 | valid_metrics      | MetricCollection | 0     \n",
      "4 | valid_dummy_metric | AUROC            | 0     \n",
      "--------------------------------------------------------\n",
      "37.0 M    Trainable params\n",
      "0         Non-trainable params\n",
      "37.0 M    Total params\n",
      "148.174   Total estimated model params size (MB)\n"
     ]
    },
    {
     "name": "stdout",
     "output_type": "stream",
     "text": [
      "Enabled callbacks:  ['LitProgressBar']\n",
      "Dataloader fold: 2\n",
      "Architecture [amira_vgg] was created\n",
      "***Defined hyperparameters:***\n",
      "\"arch\":                {'name': 'amira_vgg', 'args': {'num_channels': 1, 'num_classes': 3}}\n",
      "\"checkpoint_path\":     None\n",
      "\"class_weights\":       tensor([1.1905, 0.9259, 0.9259], device='cuda:0')\n",
      "\"hp_metrics\":          ['loss/train', 'loss/val', 'Accuracy/val', 'AUROC/val', 'Precision/val', 'Recall/val', 'Specificity/val']\n",
      "\"loss\":                {'type': 'CrossEntropyLoss', 'args': {'weight': True}}\n",
      "\"optimizer\":           {'type': 'Adam', 'args': {'lr': 0.0001, 'weight_decay': 0, 'amsgrad': True}}\n",
      "\"roi_hparams\":         {'enable': False, 'output_shape': [3, 3, 3], 'boundary_boxes': []}\n",
      "\"weight_distribution\": normal\n"
     ]
    },
    {
     "name": "stderr",
     "output_type": "stream",
     "text": [
      "GPU available: True, used: True\n",
      "TPU available: False, using: 0 TPU cores\n",
      "LOCAL_RANK: 0 - CUDA_VISIBLE_DEVICES: [0]\n",
      "\n",
      "  | Name               | Type             | Params\n",
      "--------------------------------------------------------\n",
      "0 | model              | amira_vgg        | 37.0 M\n",
      "1 | criteria           | CrossEntropyLoss | 0     \n",
      "2 | train_metrics      | MetricCollection | 0     \n",
      "3 | valid_metrics      | MetricCollection | 0     \n",
      "4 | valid_dummy_metric | AUROC            | 0     \n",
      "--------------------------------------------------------\n",
      "37.0 M    Trainable params\n",
      "0         Non-trainable params\n",
      "37.0 M    Total params\n",
      "148.174   Total estimated model params size (MB)\n"
     ]
    },
    {
     "name": "stdout",
     "output_type": "stream",
     "text": [
      "Enabled callbacks:  ['LitProgressBar']\n",
      "Dataloader fold: 3\n",
      "Architecture [amira_vgg] was created\n",
      "***Defined hyperparameters:***\n",
      "\"arch\":                {'name': 'amira_vgg', 'args': {'num_channels': 1, 'num_classes': 3}}\n",
      "\"checkpoint_path\":     None\n",
      "\"class_weights\":       tensor([1.1905, 0.9259, 0.9259], device='cuda:0')\n",
      "\"hp_metrics\":          ['loss/train', 'loss/val', 'Accuracy/val', 'AUROC/val', 'Precision/val', 'Recall/val', 'Specificity/val']\n",
      "\"loss\":                {'type': 'CrossEntropyLoss', 'args': {'weight': True}}\n",
      "\"optimizer\":           {'type': 'Adam', 'args': {'lr': 0.0001, 'weight_decay': 0, 'amsgrad': True}}\n",
      "\"roi_hparams\":         {'enable': False, 'output_shape': [3, 3, 3], 'boundary_boxes': []}\n",
      "\"weight_distribution\": normal\n"
     ]
    },
    {
     "name": "stderr",
     "output_type": "stream",
     "text": [
      "GPU available: True, used: True\n",
      "TPU available: False, using: 0 TPU cores\n",
      "LOCAL_RANK: 0 - CUDA_VISIBLE_DEVICES: [0]\n",
      "\n",
      "  | Name               | Type             | Params\n",
      "--------------------------------------------------------\n",
      "0 | model              | amira_vgg        | 37.0 M\n",
      "1 | criteria           | CrossEntropyLoss | 0     \n",
      "2 | train_metrics      | MetricCollection | 0     \n",
      "3 | valid_metrics      | MetricCollection | 0     \n",
      "4 | valid_dummy_metric | AUROC            | 0     \n",
      "--------------------------------------------------------\n",
      "37.0 M    Trainable params\n",
      "0         Non-trainable params\n",
      "37.0 M    Total params\n",
      "148.174   Total estimated model params size (MB)\n"
     ]
    },
    {
     "name": "stdout",
     "output_type": "stream",
     "text": [
      "Enabled callbacks:  ['LitProgressBar']\n",
      "Dataloader fold: 4\n",
      "Architecture [amira_vgg] was created\n",
      "***Defined hyperparameters:***\n",
      "\"arch\":                {'name': 'amira_vgg', 'args': {'num_channels': 1, 'num_classes': 3}}\n",
      "\"checkpoint_path\":     None\n",
      "\"class_weights\":       tensor([1.1905, 0.9259, 0.9259], device='cuda:0')\n",
      "\"hp_metrics\":          ['loss/train', 'loss/val', 'Accuracy/val', 'AUROC/val', 'Precision/val', 'Recall/val', 'Specificity/val']\n",
      "\"loss\":                {'type': 'CrossEntropyLoss', 'args': {'weight': True}}\n",
      "\"optimizer\":           {'type': 'Adam', 'args': {'lr': 0.0001, 'weight_decay': 0, 'amsgrad': True}}\n",
      "\"roi_hparams\":         {'enable': False, 'output_shape': [3, 3, 3], 'boundary_boxes': []}\n",
      "\"weight_distribution\": normal\n"
     ]
    },
    {
     "name": "stderr",
     "output_type": "stream",
     "text": [
      "GPU available: True, used: True\n",
      "TPU available: False, using: 0 TPU cores\n",
      "LOCAL_RANK: 0 - CUDA_VISIBLE_DEVICES: [0]\n",
      "\n",
      "  | Name               | Type             | Params\n",
      "--------------------------------------------------------\n",
      "0 | model              | amira_vgg        | 37.0 M\n",
      "1 | criteria           | CrossEntropyLoss | 0     \n",
      "2 | train_metrics      | MetricCollection | 0     \n",
      "3 | valid_metrics      | MetricCollection | 0     \n",
      "4 | valid_dummy_metric | AUROC            | 0     \n",
      "--------------------------------------------------------\n",
      "37.0 M    Trainable params\n",
      "0         Non-trainable params\n",
      "37.0 M    Total params\n",
      "148.174   Total estimated model params size (MB)\n"
     ]
    },
    {
     "name": "stdout",
     "output_type": "stream",
     "text": [
      "Enabled callbacks:  ['LitProgressBar']\n",
      "Dataloader fold: 5\n",
      "Epoch 10 [50/84] {'loss': '1.14'}\r"
     ]
    }
   ],
   "source": [
    "models = ['amira_vgg']\n",
    "for name in models:\n",
    "    run_me(name, base_config='base',i_limit=6)"
   ]
  },
  {
   "cell_type": "code",
   "execution_count": null,
   "id": "a37bcb6f-1af4-4962-a3e0-3c3b00699ac2",
   "metadata": {},
   "outputs": [],
   "source": []
  }
 ],
 "metadata": {
  "kernelspec": {
   "display_name": "Master-thesis",
   "language": "python",
   "name": "master-thesis"
  },
  "language_info": {
   "codemirror_mode": {
    "name": "ipython",
    "version": 3
   },
   "file_extension": ".py",
   "mimetype": "text/x-python",
   "name": "python",
   "nbconvert_exporter": "python",
   "pygments_lexer": "ipython3",
   "version": "3.9.2"
  },
  "widgets": {
   "application/vnd.jupyter.widget-state+json": {
    "state": {},
    "version_major": 2,
    "version_minor": 0
   }
  }
 },
 "nbformat": 4,
 "nbformat_minor": 5
}
