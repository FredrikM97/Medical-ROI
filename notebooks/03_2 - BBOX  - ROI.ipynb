{
 "cells": [
  {
   "cell_type": "code",
   "execution_count": 1,
   "metadata": {},
   "outputs": [],
   "source": [
    "%load_ext autoreload\n",
    "%autoreload 2\n",
    "import sys\n",
    "if '..' not in sys.path: sys.path.append(\"..\")"
   ]
  },
  {
   "cell_type": "markdown",
   "metadata": {},
   "source": [
    "# Segmentation and boundary-box regression"
   ]
  },
  {
   "cell_type": "code",
   "execution_count": 2,
   "metadata": {},
   "outputs": [],
   "source": [
    "import torch\n",
    "import time\n",
    "\n",
    "from src.utils.decorator import close_on_finish_decorator\n",
    "from src.utils.utils import create_directory\n",
    "from src.classifier.agent import Agent"
   ]
  },
  {
   "cell_type": "code",
   "execution_count": 3,
   "metadata": {},
   "outputs": [],
   "source": [
    "import torch\n",
    "def run_me(name,i_limit=5,base_config='base'):\n",
    "    torch.cuda.empty_cache()\n",
    "    agent = Agent(name, base_config=base_config)\n",
    "    logged_metrics = []\n",
    "    \n",
    "    agent.load_model() \n",
    "    agent.load_trainer()\n",
    "    print(f\"{agent.trainer.logger.log_dir.rsplit('/',1)[0]}/\")\n",
    "    create_directory(f\"{agent.trainer.logger.log_dir.rsplit('/',1)[0]}/\") \n",
    "    with open(f\"{agent.trainer.logger.log_dir.rsplit('/',1)[0]}/hparams.json\", \"w\") as write_file:\n",
    "        json.dump(agent._config, write_file, indent = 6)\n",
    "            \n",
    "    try:\n",
    "        i = 0\n",
    "        while True:\n",
    "            agent.load_model() \n",
    "            agent.load_trainer()\n",
    "            print(f\"Dataloader fold: {agent.dataloader.kfold_index}\")\n",
    "            close_on_finish_decorator(agent.trainer.fit, agent.trainer.logger.log_dir, agent.model, datamodule=agent.dataloader, message=agent._config) \n",
    "            \n",
    "            with open(agent.trainer.logger.log_dir.rsplit(\"/\",1)[0] + \"/logged_metrics\", 'a+') as f:\n",
    "                f.write(str(agent.trainer.logged_metrics))\n",
    "                \n",
    "            logged_metrics.append(agent.trainer.logged_metrics)\n",
    "            time.sleep(10)\n",
    "            i += 1\n",
    "            #del tr\n",
    "\n",
    "            \n",
    "            if not agent.dataloader.next_fold() or i == i_limit and i_limit != -1: break\n",
    "            torch.cuda.empty_cache()\n",
    "    except Exception as e:\n",
    "        torch.cuda.empty_cache()\n",
    "        raise e\n",
    "    print(f\"{name}: {logged_metrics}\")"
   ]
  },
  {
   "cell_type": "markdown",
   "metadata": {},
   "source": [
    "## Train on ROI"
   ]
  },
  {
   "cell_type": "code",
   "execution_count": null,
   "metadata": {},
   "outputs": [
    {
     "name": "stderr",
     "output_type": "stream",
     "text": [
      "GPU available: True, used: True\n",
      "TPU available: False, using: 0 TPU cores\n",
      "GPU available: True, used: True\n",
      "TPU available: False, using: 0 TPU cores\n",
      "Missing logger folder: /var/metrics/codetests/logs/tb/final/ROI5/20210610202924\n",
      "GPU available: True, used: True\n",
      "TPU available: False, using: 0 TPU cores\n",
      "LOCAL_RANK: 0 - CUDA_VISIBLE_DEVICES: [0]\n"
     ]
    },
    {
     "name": "stdout",
     "output_type": "stream",
     "text": [
      "/var/metrics/codetests/logs/tb/final/ROI5/20210610202924/\n",
      "Dataloader fold: 1\n"
     ]
    },
    {
     "name": "stderr",
     "output_type": "stream",
     "text": [
      "\n",
      "  | Name               | Type             | Params\n",
      "--------------------------------------------------------\n",
      "0 | model              | fc               | 349 K \n",
      "1 | criteria           | CrossEntropyLoss | 0     \n",
      "2 | valid_metrics      | MetricCollection | 0     \n",
      "3 | valid_dummy_metric | AUROC            | 0     \n",
      "--------------------------------------------------------\n",
      "349 K     Trainable params\n",
      "0         Non-trainable params\n",
      "349 K     Total params\n",
      "1.397     Total estimated model params size (MB)\n"
     ]
    },
    {
     "name": "stdout",
     "output_type": "stream",
     "text": [
      "Epoch 1 [35/35] {'loss': '0.946'}\r"
     ]
    },
    {
     "name": "stderr",
     "output_type": "stream",
     "text": [
      "Metric loss/val improved. New best score: 1.017\n"
     ]
    },
    {
     "name": "stdout",
     "output_type": "stream",
     "text": [
      "Epoch 2 [35/35] {'loss': '0.774'}\r"
     ]
    },
    {
     "name": "stderr",
     "output_type": "stream",
     "text": [
      "Metric loss/val improved by 0.003 >= min_delta = 0.0001. New best score: 1.015\n"
     ]
    },
    {
     "name": "stdout",
     "output_type": "stream",
     "text": [
      "Epoch 3 [35/35] {'loss': '0.668'}\r"
     ]
    },
    {
     "name": "stderr",
     "output_type": "stream",
     "text": [
      "Metric loss/val improved by 0.022 >= min_delta = 0.0001. New best score: 0.993\n"
     ]
    },
    {
     "name": "stdout",
     "output_type": "stream",
     "text": [
      "Epoch 4 [35/35] {'loss': '0.663'}\r"
     ]
    },
    {
     "name": "stderr",
     "output_type": "stream",
     "text": [
      "Metric loss/val improved by 0.310 >= min_delta = 0.0001. New best score: 0.683\n"
     ]
    },
    {
     "name": "stdout",
     "output_type": "stream",
     "text": [
      "Epoch 5 [35/35] {'loss': '0.599'}\r"
     ]
    },
    {
     "name": "stderr",
     "output_type": "stream",
     "text": [
      "Metric loss/val improved by 0.009 >= min_delta = 0.0001. New best score: 0.674\n"
     ]
    },
    {
     "name": "stdout",
     "output_type": "stream",
     "text": [
      "Epoch 6 [35/35] {'loss': '0.514'}\r"
     ]
    },
    {
     "name": "stderr",
     "output_type": "stream",
     "text": [
      "Metric loss/val improved by 0.100 >= min_delta = 0.0001. New best score: 0.574\n"
     ]
    },
    {
     "name": "stdout",
     "output_type": "stream",
     "text": [
      "Epoch 7 [35/35] {'loss': '0.544'}\r"
     ]
    },
    {
     "name": "stderr",
     "output_type": "stream",
     "text": [
      "Metric loss/val improved by 0.085 >= min_delta = 0.0001. New best score: 0.489\n"
     ]
    },
    {
     "name": "stdout",
     "output_type": "stream",
     "text": [
      "Epoch 8 [35/35] {'loss': '0.421'}\r"
     ]
    },
    {
     "name": "stderr",
     "output_type": "stream",
     "text": [
      "Metric loss/val improved by 0.034 >= min_delta = 0.0001. New best score: 0.454\n"
     ]
    },
    {
     "name": "stdout",
     "output_type": "stream",
     "text": [
      "Epoch 9 [35/35] {'loss': '0.401'}\r"
     ]
    },
    {
     "name": "stderr",
     "output_type": "stream",
     "text": [
      "Metric loss/val improved by 0.008 >= min_delta = 0.0001. New best score: 0.447\n"
     ]
    },
    {
     "name": "stdout",
     "output_type": "stream",
     "text": [
      "Epoch 10 [35/35] {'loss': '0.414'}\r"
     ]
    },
    {
     "name": "stderr",
     "output_type": "stream",
     "text": [
      "Metric loss/val improved by 0.049 >= min_delta = 0.0001. New best score: 0.397\n"
     ]
    },
    {
     "name": "stdout",
     "output_type": "stream",
     "text": [
      "Epoch 11 [35/35] {'loss': '0.414'}\r"
     ]
    },
    {
     "name": "stderr",
     "output_type": "stream",
     "text": [
      "Metric loss/val improved by 0.014 >= min_delta = 0.0001. New best score: 0.383\n"
     ]
    },
    {
     "name": "stdout",
     "output_type": "stream",
     "text": [
      "Epoch 14 [35/35] {'loss': '0.4'}'}\r"
     ]
    },
    {
     "name": "stderr",
     "output_type": "stream",
     "text": [
      "Metric loss/val improved by 0.042 >= min_delta = 0.0001. New best score: 0.341\n"
     ]
    },
    {
     "name": "stdout",
     "output_type": "stream",
     "text": [
      "Epoch 15 [35/35] {'loss': '0.374'}\r"
     ]
    },
    {
     "name": "stderr",
     "output_type": "stream",
     "text": [
      "Metric loss/val improved by 0.002 >= min_delta = 0.0001. New best score: 0.339\n"
     ]
    },
    {
     "name": "stdout",
     "output_type": "stream",
     "text": [
      "Epoch 16 [35/35] {'loss': '0.319'}\r"
     ]
    },
    {
     "name": "stderr",
     "output_type": "stream",
     "text": [
      "Metric loss/val improved by 0.033 >= min_delta = 0.0001. New best score: 0.306\n"
     ]
    },
    {
     "name": "stdout",
     "output_type": "stream",
     "text": [
      "Epoch 22 [35/35] {'loss': '0.312'}\r"
     ]
    },
    {
     "name": "stderr",
     "output_type": "stream",
     "text": [
      "Metric loss/val improved by 0.001 >= min_delta = 0.0001. New best score: 0.305\n"
     ]
    },
    {
     "name": "stdout",
     "output_type": "stream",
     "text": [
      "Epoch 23 [35/35] {'loss': '0.306'}\r"
     ]
    },
    {
     "name": "stderr",
     "output_type": "stream",
     "text": [
      "Metric loss/val improved by 0.023 >= min_delta = 0.0001. New best score: 0.282\n"
     ]
    },
    {
     "name": "stdout",
     "output_type": "stream",
     "text": [
      "Epoch 24 [35/35] {'loss': '0.385'}\r"
     ]
    },
    {
     "name": "stderr",
     "output_type": "stream",
     "text": [
      "Metric loss/val improved by 0.025 >= min_delta = 0.0001. New best score: 0.257\n"
     ]
    },
    {
     "name": "stdout",
     "output_type": "stream",
     "text": [
      "Epoch 30 [35/35] {'loss': '0.314'}\r"
     ]
    },
    {
     "name": "stderr",
     "output_type": "stream",
     "text": [
      "Metric loss/val improved by 0.002 >= min_delta = 0.0001. New best score: 0.255\n"
     ]
    },
    {
     "name": "stdout",
     "output_type": "stream",
     "text": [
      "Epoch 33 [35/35] {'loss': '0.29'}}\r"
     ]
    },
    {
     "name": "stderr",
     "output_type": "stream",
     "text": [
      "Metric loss/val improved by 0.004 >= min_delta = 0.0001. New best score: 0.250\n"
     ]
    },
    {
     "name": "stdout",
     "output_type": "stream",
     "text": [
      "Epoch 34 [35/35] {'loss': '0.321'}\r"
     ]
    },
    {
     "name": "stderr",
     "output_type": "stream",
     "text": [
      "Metric loss/val improved by 0.020 >= min_delta = 0.0001. New best score: 0.231\n"
     ]
    },
    {
     "name": "stdout",
     "output_type": "stream",
     "text": [
      "Epoch 46 [5/35] {'loss': '0.31'}}}\r"
     ]
    }
   ],
   "source": [
    "for name in ['roi5']:\n",
    "    run_me(name, i_limit=-1)"
   ]
  },
  {
   "cell_type": "code",
   "execution_count": 8,
   "metadata": {
    "collapsed": true,
    "jupyter": {
     "outputs_hidden": true
    },
    "tags": []
   },
   "outputs": [
    {
     "name": "stderr",
     "output_type": "stream",
     "text": [
      "/home/stud/f/fremar16/miniconda3/envs/Master-thesis/lib/python3.9/site-packages/torchmetrics/utilities/prints.py:36: UserWarning: Metric `AUROC` will save all targets and predictions in buffer. For large datasets this may lead to large memory footprint.\n",
      "  warnings.warn(*args, **kwargs)\n",
      "GPU available: True, used: True\n",
      "TPU available: False, using: 0 TPU cores\n",
      "Missing logger folder: /var/metrics/codetests/logs/tb/ROI3/20210522220602\n",
      "LOCAL_RANK: 0 - CUDA_VISIBLE_DEVICES: [0]\n",
      "\n",
      "  | Name               | Type             | Params\n",
      "--------------------------------------------------------\n",
      "0 | model              | fc               | 127 K \n",
      "1 | criteria           | CrossEntropyLoss | 0     \n",
      "2 | valid_metrics      | MetricCollection | 0     \n",
      "3 | valid_dummy_metric | AUROC            | 0     \n",
      "--------------------------------------------------------\n",
      "127 K     Trainable params\n",
      "0         Non-trainable params\n",
      "127 K     Total params\n",
      "0.509     Total estimated model params size (MB)\n"
     ]
    },
    {
     "name": "stdout",
     "output_type": "stream",
     "text": [
      "***Defined dataloader:***\n",
      "Data directory: data/SPM_categorised/ADNI1/\n",
      "Dataset sizes - Training: 273 Validation: 31\n",
      "Seed: 0\n",
      "Augmentation: Disabled\n",
      "KFold: Enabled - Fold: 1/10\n",
      "\n",
      "Architecture [fc] was created\n",
      "***Defined hyperparameters:***\n",
      "\"arch\":                {'name': 'fc', 'args': {'num_channels': 1, 'num_classes': 3}}\n",
      "\"checkpoint_path\":     None\n",
      "\"class_weights\":       tensor([1.2466, 0.6500, 1.5167], device='cuda:0')\n",
      "\"hp_metrics\":          ['loss/train', 'loss/val', 'Accuracy/val', 'AUROC/val', 'Precision/val', 'Recall/val', 'Specificity/val']\n",
      "\"loss\":                {'type': 'CrossEntropyLoss', 'args': {'weight': True}}\n",
      "\"optimizer\":           {'type': 'Adam', 'args': {'lr': 0.001, 'weight_decay': 0, 'amsgrad': False}}\n",
      "\"roi_hparams\":         {'enable': True, 'output_shape': [9, 9, 9], 'boundary_boxes': {2: [[23, 48, 57, 76, 34, 49], [25, 31, 55, 68, 69, 79], [25, 85, 69, 95, 30, 65], [42, 12, 79, 50, 33, 47], [22, 18, 49, 49, 16, 29], [40, 33, 79, 76, 9, 26], [70, 28, 79, 72, 19, 63], [11, 9, 63, 78, 26, 78]], 1: [[29, 19, 68, 38, 1, 18], [46, 38, 78, 61, 10, 25], [65, 25, 79, 42, 12, 59], [27, 33, 62, 69, 70, 79], [10, 10, 53, 23, 25, 61], [24, 63, 49, 86, 11, 33], [34, 32, 55, 60, 37, 55], [40, 10, 79, 77, 11, 68]], 0: [[63, 63, 79, 84, 27, 61], [26, 21, 61, 53, 31, 44], [45, 43, 73, 84, 1, 16], [11, 8, 53, 21, 20, 40], [31, 10, 60, 26, 45, 69], [27, 85, 70, 95, 28, 62], [22, 38, 73, 95, 16, 48], [19, 55, 70, 84, 71, 79], [46, 18, 79, 40, 10, 30], [11, 8, 79, 44, 10, 70]]}}\n",
      "\"weight_distribution\": None\n",
      "Enabled callbacks:  ['LitProgressBar', 'EarlyStopping']\n",
      "Dataloader fold: 1\n",
      "Epoch 1 [35/35] {'loss': '0.973'}\r"
     ]
    },
    {
     "name": "stderr",
     "output_type": "stream",
     "text": [
      "Metric loss/val improved. New best score: 0.789\n"
     ]
    },
    {
     "name": "stdout",
     "output_type": "stream",
     "text": [
      "Epoch 2 [35/35] {'loss': '0.692'}\r"
     ]
    },
    {
     "name": "stderr",
     "output_type": "stream",
     "text": [
      "Metric loss/val improved by 0.318 >= min_delta = 0.0001. New best score: 0.471\n"
     ]
    },
    {
     "name": "stdout",
     "output_type": "stream",
     "text": [
      "Epoch 3 [35/35] {'loss': '0.397'}\r"
     ]
    },
    {
     "name": "stderr",
     "output_type": "stream",
     "text": [
      "Metric loss/val improved by 0.319 >= min_delta = 0.0001. New best score: 0.152\n"
     ]
    },
    {
     "name": "stdout",
     "output_type": "stream",
     "text": [
      "Epoch 4 [35/35] {'loss': '0.186'}\r"
     ]
    },
    {
     "name": "stderr",
     "output_type": "stream",
     "text": [
      "Metric loss/val improved by 0.098 >= min_delta = 0.0001. New best score: 0.054\n"
     ]
    },
    {
     "name": "stdout",
     "output_type": "stream",
     "text": [
      "Epoch 5 [35/35] {'loss': '0.107'}\r"
     ]
    },
    {
     "name": "stderr",
     "output_type": "stream",
     "text": [
      "Metric loss/val improved by 0.030 >= min_delta = 0.0001. New best score: 0.024\n"
     ]
    },
    {
     "name": "stdout",
     "output_type": "stream",
     "text": [
      "Epoch 6 [35/35] {'loss': '0.0703'}\r"
     ]
    },
    {
     "name": "stderr",
     "output_type": "stream",
     "text": [
      "Metric loss/val improved by 0.011 >= min_delta = 0.0001. New best score: 0.013\n"
     ]
    },
    {
     "name": "stdout",
     "output_type": "stream",
     "text": [
      "Epoch 8 [35/35] {'loss': '0.0402'}\r"
     ]
    },
    {
     "name": "stderr",
     "output_type": "stream",
     "text": [
      "Metric loss/val improved by 0.006 >= min_delta = 0.0001. New best score: 0.007\n"
     ]
    },
    {
     "name": "stdout",
     "output_type": "stream",
     "text": [
      "Epoch 9 [35/35] {'loss': '0.0539'}\r"
     ]
    },
    {
     "name": "stderr",
     "output_type": "stream",
     "text": [
      "Metric loss/val improved by 0.004 >= min_delta = 0.0001. New best score: 0.003\n"
     ]
    },
    {
     "name": "stdout",
     "output_type": "stream",
     "text": [
      "Epoch 10 [35/35] {'loss': '0.0297'}\r"
     ]
    },
    {
     "name": "stderr",
     "output_type": "stream",
     "text": [
      "Metric loss/val improved by 0.001 >= min_delta = 0.0001. New best score: 0.002\n"
     ]
    },
    {
     "name": "stdout",
     "output_type": "stream",
     "text": [
      "Epoch 11 [35/35] {'loss': '0.0173'}\r"
     ]
    },
    {
     "name": "stderr",
     "output_type": "stream",
     "text": [
      "Metric loss/val improved by 0.001 >= min_delta = 0.0001. New best score: 0.001\n"
     ]
    },
    {
     "name": "stdout",
     "output_type": "stream",
     "text": [
      "Epoch 15 [35/35] {'loss': '0.0187'}\r"
     ]
    },
    {
     "name": "stderr",
     "output_type": "stream",
     "text": [
      "Metric loss/val improved by 0.000 >= min_delta = 0.0001. New best score: 0.001\n"
     ]
    },
    {
     "name": "stdout",
     "output_type": "stream",
     "text": [
      "Epoch 17 [35/35] {'loss': '0.0381'}\r"
     ]
    },
    {
     "name": "stderr",
     "output_type": "stream",
     "text": [
      "Metric loss/val improved by 0.000 >= min_delta = 0.0001. New best score: 0.001\n"
     ]
    },
    {
     "name": "stdout",
     "output_type": "stream",
     "text": [
      "Epoch 18 [35/35] {'loss': '0.0408'}\r"
     ]
    },
    {
     "name": "stderr",
     "output_type": "stream",
     "text": [
      "Metric loss/val improved by 0.000 >= min_delta = 0.0001. New best score: 0.000\n"
     ]
    },
    {
     "name": "stdout",
     "output_type": "stream",
     "text": [
      "Epoch 19 [35/35] {'loss': '0.0186'}\r"
     ]
    },
    {
     "name": "stderr",
     "output_type": "stream",
     "text": [
      "Metric loss/val improved by 0.000 >= min_delta = 0.0001. New best score: 0.000\n"
     ]
    },
    {
     "name": "stdout",
     "output_type": "stream",
     "text": [
      "Epoch 26 [35/35] {'loss': '0.00974'}\r"
     ]
    },
    {
     "name": "stderr",
     "output_type": "stream",
     "text": [
      "Metric loss/val improved by 0.000 >= min_delta = 0.0001. New best score: 0.000\n"
     ]
    },
    {
     "name": "stdout",
     "output_type": "stream",
     "text": [
      "Epoch 41 [35/35] {'loss': '0.00829'}\r"
     ]
    },
    {
     "name": "stderr",
     "output_type": "stream",
     "text": [
      "Metric loss/val improved by 0.000 >= min_delta = 0.0001. New best score: 0.000\n"
     ]
    },
    {
     "name": "stdout",
     "output_type": "stream",
     "text": [
      "Epoch 61 [35/35] {'loss': '0.0121'}}\r"
     ]
    },
    {
     "name": "stderr",
     "output_type": "stream",
     "text": [
      "Monitored metric loss/val did not improve in the last 20 records. Best score: 0.000. Signaling Trainer to stop.\n",
      "GPU available: True, used: True\n",
      "TPU available: False, using: 0 TPU cores\n",
      "LOCAL_RANK: 0 - CUDA_VISIBLE_DEVICES: [0]\n",
      "\n",
      "  | Name               | Type             | Params\n",
      "--------------------------------------------------------\n",
      "0 | model              | fc               | 127 K \n",
      "1 | criteria           | CrossEntropyLoss | 0     \n",
      "2 | valid_metrics      | MetricCollection | 0     \n",
      "3 | valid_dummy_metric | AUROC            | 0     \n",
      "--------------------------------------------------------\n",
      "127 K     Trainable params\n",
      "0         Non-trainable params\n",
      "127 K     Total params\n",
      "0.509     Total estimated model params size (MB)\n"
     ]
    },
    {
     "name": "stdout",
     "output_type": "stream",
     "text": [
      "Architecture [fc] was created\n",
      "***Defined hyperparameters:***\n",
      "\"arch\":                {'name': 'fc', 'args': {'num_channels': 1, 'num_classes': 3}}\n",
      "\"checkpoint_path\":     None\n",
      "\"class_weights\":       tensor([1.2466, 0.6500, 1.5167], device='cuda:0')\n",
      "\"hp_metrics\":          ['loss/train', 'loss/val', 'Accuracy/val', 'AUROC/val', 'Precision/val', 'Recall/val', 'Specificity/val']\n",
      "\"loss\":                {'type': 'CrossEntropyLoss', 'args': {'weight': True}}\n",
      "\"optimizer\":           {'type': 'Adam', 'args': {'lr': 0.001, 'weight_decay': 0, 'amsgrad': False}}\n",
      "\"roi_hparams\":         {'enable': True, 'output_shape': [9, 9, 9], 'boundary_boxes': {2: [[23, 48, 57, 76, 34, 49], [25, 31, 55, 68, 69, 79], [25, 85, 69, 95, 30, 65], [42, 12, 79, 50, 33, 47], [22, 18, 49, 49, 16, 29], [40, 33, 79, 76, 9, 26], [70, 28, 79, 72, 19, 63], [11, 9, 63, 78, 26, 78]], 1: [[29, 19, 68, 38, 1, 18], [46, 38, 78, 61, 10, 25], [65, 25, 79, 42, 12, 59], [27, 33, 62, 69, 70, 79], [10, 10, 53, 23, 25, 61], [24, 63, 49, 86, 11, 33], [34, 32, 55, 60, 37, 55], [40, 10, 79, 77, 11, 68]], 0: [[63, 63, 79, 84, 27, 61], [26, 21, 61, 53, 31, 44], [45, 43, 73, 84, 1, 16], [11, 8, 53, 21, 20, 40], [31, 10, 60, 26, 45, 69], [27, 85, 70, 95, 28, 62], [22, 38, 73, 95, 16, 48], [19, 55, 70, 84, 71, 79], [46, 18, 79, 40, 10, 30], [11, 8, 79, 44, 10, 70]]}}\n",
      "\"weight_distribution\": None\n",
      "Enabled callbacks:  ['LitProgressBar', 'EarlyStopping']\n",
      "Dataloader fold: 2\n",
      "Epoch 1 [35/35] {'loss': '1.02'}\r"
     ]
    },
    {
     "name": "stderr",
     "output_type": "stream",
     "text": [
      "Metric loss/val improved. New best score: 0.896\n"
     ]
    },
    {
     "name": "stdout",
     "output_type": "stream",
     "text": [
      "Epoch 2 [35/35] {'loss': '0.756'}\r"
     ]
    },
    {
     "name": "stderr",
     "output_type": "stream",
     "text": [
      "Metric loss/val improved by 0.377 >= min_delta = 0.0001. New best score: 0.520\n"
     ]
    },
    {
     "name": "stdout",
     "output_type": "stream",
     "text": [
      "Epoch 3 [35/35] {'loss': '0.417'}\r"
     ]
    },
    {
     "name": "stderr",
     "output_type": "stream",
     "text": [
      "Metric loss/val improved by 0.355 >= min_delta = 0.0001. New best score: 0.164\n"
     ]
    },
    {
     "name": "stdout",
     "output_type": "stream",
     "text": [
      "Epoch 4 [35/35] {'loss': '0.213'}\r"
     ]
    },
    {
     "name": "stderr",
     "output_type": "stream",
     "text": [
      "Metric loss/val improved by 0.122 >= min_delta = 0.0001. New best score: 0.042\n"
     ]
    },
    {
     "name": "stdout",
     "output_type": "stream",
     "text": [
      "Epoch 5 [35/35] {'loss': '0.107'}\r"
     ]
    },
    {
     "name": "stderr",
     "output_type": "stream",
     "text": [
      "Metric loss/val improved by 0.023 >= min_delta = 0.0001. New best score: 0.019\n"
     ]
    },
    {
     "name": "stdout",
     "output_type": "stream",
     "text": [
      "Epoch 6 [35/35] {'loss': '0.0768'}\r"
     ]
    },
    {
     "name": "stderr",
     "output_type": "stream",
     "text": [
      "Metric loss/val improved by 0.010 >= min_delta = 0.0001. New best score: 0.009\n"
     ]
    },
    {
     "name": "stdout",
     "output_type": "stream",
     "text": [
      "Epoch 7 [35/35] {'loss': '0.038'}}\r"
     ]
    },
    {
     "name": "stderr",
     "output_type": "stream",
     "text": [
      "Metric loss/val improved by 0.006 >= min_delta = 0.0001. New best score: 0.004\n"
     ]
    },
    {
     "name": "stdout",
     "output_type": "stream",
     "text": [
      "Epoch 8 [35/35] {'loss': '0.0399'}\r"
     ]
    },
    {
     "name": "stderr",
     "output_type": "stream",
     "text": [
      "Metric loss/val improved by 0.001 >= min_delta = 0.0001. New best score: 0.002\n"
     ]
    },
    {
     "name": "stdout",
     "output_type": "stream",
     "text": [
      "Epoch 9 [35/35] {'loss': '0.0387'}\r"
     ]
    },
    {
     "name": "stderr",
     "output_type": "stream",
     "text": [
      "Metric loss/val improved by 0.001 >= min_delta = 0.0001. New best score: 0.001\n"
     ]
    },
    {
     "name": "stdout",
     "output_type": "stream",
     "text": [
      "Epoch 12 [35/35] {'loss': '0.0219'}\r"
     ]
    },
    {
     "name": "stderr",
     "output_type": "stream",
     "text": [
      "Metric loss/val improved by 0.000 >= min_delta = 0.0001. New best score: 0.001\n"
     ]
    },
    {
     "name": "stdout",
     "output_type": "stream",
     "text": [
      "Epoch 14 [35/35] {'loss': '0.0199'}\r"
     ]
    },
    {
     "name": "stderr",
     "output_type": "stream",
     "text": [
      "Metric loss/val improved by 0.000 >= min_delta = 0.0001. New best score: 0.001\n"
     ]
    },
    {
     "name": "stdout",
     "output_type": "stream",
     "text": [
      "Epoch 16 [35/35] {'loss': '0.0359'}\r"
     ]
    },
    {
     "name": "stderr",
     "output_type": "stream",
     "text": [
      "Metric loss/val improved by 0.000 >= min_delta = 0.0001. New best score: 0.000\n"
     ]
    },
    {
     "name": "stdout",
     "output_type": "stream",
     "text": [
      "Epoch 22 [35/35] {'loss': '0.0231'}}\r"
     ]
    },
    {
     "name": "stderr",
     "output_type": "stream",
     "text": [
      "Metric loss/val improved by 0.000 >= min_delta = 0.0001. New best score: 0.000\n"
     ]
    },
    {
     "name": "stdout",
     "output_type": "stream",
     "text": [
      "Epoch 34 [35/35] {'loss': '0.0104'}}\r"
     ]
    },
    {
     "name": "stderr",
     "output_type": "stream",
     "text": [
      "Metric loss/val improved by 0.000 >= min_delta = 0.0001. New best score: 0.000\n"
     ]
    },
    {
     "name": "stdout",
     "output_type": "stream",
     "text": [
      "Epoch 54 [35/35] {'loss': '0.00882'}\r"
     ]
    },
    {
     "name": "stderr",
     "output_type": "stream",
     "text": [
      "Monitored metric loss/val did not improve in the last 20 records. Best score: 0.000. Signaling Trainer to stop.\n",
      "GPU available: True, used: True\n",
      "TPU available: False, using: 0 TPU cores\n",
      "LOCAL_RANK: 0 - CUDA_VISIBLE_DEVICES: [0]\n",
      "\n",
      "  | Name               | Type             | Params\n",
      "--------------------------------------------------------\n",
      "0 | model              | fc               | 127 K \n",
      "1 | criteria           | CrossEntropyLoss | 0     \n",
      "2 | valid_metrics      | MetricCollection | 0     \n",
      "3 | valid_dummy_metric | AUROC            | 0     \n",
      "--------------------------------------------------------\n",
      "127 K     Trainable params\n",
      "0         Non-trainable params\n",
      "127 K     Total params\n",
      "0.509     Total estimated model params size (MB)\n"
     ]
    },
    {
     "name": "stdout",
     "output_type": "stream",
     "text": [
      "Architecture [fc] was created\n",
      "***Defined hyperparameters:***\n",
      "\"arch\":                {'name': 'fc', 'args': {'num_channels': 1, 'num_classes': 3}}\n",
      "\"checkpoint_path\":     None\n",
      "\"class_weights\":       tensor([1.2466, 0.6500, 1.5167], device='cuda:0')\n",
      "\"hp_metrics\":          ['loss/train', 'loss/val', 'Accuracy/val', 'AUROC/val', 'Precision/val', 'Recall/val', 'Specificity/val']\n",
      "\"loss\":                {'type': 'CrossEntropyLoss', 'args': {'weight': True}}\n",
      "\"optimizer\":           {'type': 'Adam', 'args': {'lr': 0.001, 'weight_decay': 0, 'amsgrad': False}}\n",
      "\"roi_hparams\":         {'enable': True, 'output_shape': [9, 9, 9], 'boundary_boxes': {2: [[23, 48, 57, 76, 34, 49], [25, 31, 55, 68, 69, 79], [25, 85, 69, 95, 30, 65], [42, 12, 79, 50, 33, 47], [22, 18, 49, 49, 16, 29], [40, 33, 79, 76, 9, 26], [70, 28, 79, 72, 19, 63], [11, 9, 63, 78, 26, 78]], 1: [[29, 19, 68, 38, 1, 18], [46, 38, 78, 61, 10, 25], [65, 25, 79, 42, 12, 59], [27, 33, 62, 69, 70, 79], [10, 10, 53, 23, 25, 61], [24, 63, 49, 86, 11, 33], [34, 32, 55, 60, 37, 55], [40, 10, 79, 77, 11, 68]], 0: [[63, 63, 79, 84, 27, 61], [26, 21, 61, 53, 31, 44], [45, 43, 73, 84, 1, 16], [11, 8, 53, 21, 20, 40], [31, 10, 60, 26, 45, 69], [27, 85, 70, 95, 28, 62], [22, 38, 73, 95, 16, 48], [19, 55, 70, 84, 71, 79], [46, 18, 79, 40, 10, 30], [11, 8, 79, 44, 10, 70]]}}\n",
      "\"weight_distribution\": None\n",
      "Enabled callbacks:  ['LitProgressBar', 'EarlyStopping']\n",
      "Dataloader fold: 3\n",
      "Epoch 1 [35/35] {'loss': '1.07'}\r"
     ]
    },
    {
     "name": "stderr",
     "output_type": "stream",
     "text": [
      "Metric loss/val improved. New best score: 0.931\n"
     ]
    },
    {
     "name": "stdout",
     "output_type": "stream",
     "text": [
      "Epoch 2 [35/35] {'loss': '0.794'}\r"
     ]
    },
    {
     "name": "stderr",
     "output_type": "stream",
     "text": [
      "Metric loss/val improved by 0.344 >= min_delta = 0.0001. New best score: 0.587\n"
     ]
    },
    {
     "name": "stdout",
     "output_type": "stream",
     "text": [
      "Epoch 3 [35/35] {'loss': '0.499'}\r"
     ]
    },
    {
     "name": "stderr",
     "output_type": "stream",
     "text": [
      "Metric loss/val improved by 0.379 >= min_delta = 0.0001. New best score: 0.207\n"
     ]
    },
    {
     "name": "stdout",
     "output_type": "stream",
     "text": [
      "Epoch 4 [35/35] {'loss': '0.219'}\r"
     ]
    },
    {
     "name": "stderr",
     "output_type": "stream",
     "text": [
      "Metric loss/val improved by 0.129 >= min_delta = 0.0001. New best score: 0.078\n"
     ]
    },
    {
     "name": "stdout",
     "output_type": "stream",
     "text": [
      "Epoch 5 [35/35] {'loss': '0.166'}\r"
     ]
    },
    {
     "name": "stderr",
     "output_type": "stream",
     "text": [
      "Metric loss/val improved by 0.027 >= min_delta = 0.0001. New best score: 0.051\n"
     ]
    },
    {
     "name": "stdout",
     "output_type": "stream",
     "text": [
      "Epoch 6 [35/35] {'loss': '0.0881'}\r"
     ]
    },
    {
     "name": "stderr",
     "output_type": "stream",
     "text": [
      "Metric loss/val improved by 0.039 >= min_delta = 0.0001. New best score: 0.012\n"
     ]
    },
    {
     "name": "stdout",
     "output_type": "stream",
     "text": [
      "Epoch 7 [35/35] {'loss': '0.0769'}\r"
     ]
    },
    {
     "name": "stderr",
     "output_type": "stream",
     "text": [
      "Metric loss/val improved by 0.002 >= min_delta = 0.0001. New best score: 0.009\n"
     ]
    },
    {
     "name": "stdout",
     "output_type": "stream",
     "text": [
      "Epoch 8 [35/35] {'loss': '0.0705'}\r"
     ]
    },
    {
     "name": "stderr",
     "output_type": "stream",
     "text": [
      "Metric loss/val improved by 0.003 >= min_delta = 0.0001. New best score: 0.006\n"
     ]
    },
    {
     "name": "stdout",
     "output_type": "stream",
     "text": [
      "Epoch 9 [35/35] {'loss': '0.0623'}\r"
     ]
    },
    {
     "name": "stderr",
     "output_type": "stream",
     "text": [
      "Metric loss/val improved by 0.003 >= min_delta = 0.0001. New best score: 0.003\n"
     ]
    },
    {
     "name": "stdout",
     "output_type": "stream",
     "text": [
      "Epoch 10 [35/35] {'loss': '0.0361'}\r"
     ]
    },
    {
     "name": "stderr",
     "output_type": "stream",
     "text": [
      "Metric loss/val improved by 0.001 >= min_delta = 0.0001. New best score: 0.002\n"
     ]
    },
    {
     "name": "stdout",
     "output_type": "stream",
     "text": [
      "Epoch 11 [35/35] {'loss': '0.024'}}\r"
     ]
    },
    {
     "name": "stderr",
     "output_type": "stream",
     "text": [
      "Metric loss/val improved by 0.001 >= min_delta = 0.0001. New best score: 0.001\n"
     ]
    },
    {
     "name": "stdout",
     "output_type": "stream",
     "text": [
      "Epoch 12 [35/35] {'loss': '0.0184'}\r"
     ]
    },
    {
     "name": "stderr",
     "output_type": "stream",
     "text": [
      "Metric loss/val improved by 0.000 >= min_delta = 0.0001. New best score: 0.001\n"
     ]
    },
    {
     "name": "stdout",
     "output_type": "stream",
     "text": [
      "Epoch 15 [35/35] {'loss': '0.039'}}\r"
     ]
    },
    {
     "name": "stderr",
     "output_type": "stream",
     "text": [
      "Metric loss/val improved by 0.000 >= min_delta = 0.0001. New best score: 0.000\n"
     ]
    },
    {
     "name": "stdout",
     "output_type": "stream",
     "text": [
      "Epoch 19 [35/35] {'loss': '0.0327'}\r"
     ]
    },
    {
     "name": "stderr",
     "output_type": "stream",
     "text": [
      "Metric loss/val improved by 0.000 >= min_delta = 0.0001. New best score: 0.000\n"
     ]
    },
    {
     "name": "stdout",
     "output_type": "stream",
     "text": [
      "Epoch 20 [35/35] {'loss': '0.0185'}\r"
     ]
    },
    {
     "name": "stderr",
     "output_type": "stream",
     "text": [
      "Metric loss/val improved by 0.000 >= min_delta = 0.0001. New best score: 0.000\n"
     ]
    },
    {
     "name": "stdout",
     "output_type": "stream",
     "text": [
      "Epoch 30 [35/35] {'loss': '0.0122'}}\r"
     ]
    },
    {
     "name": "stderr",
     "output_type": "stream",
     "text": [
      "Metric loss/val improved by 0.000 >= min_delta = 0.0001. New best score: 0.000\n"
     ]
    },
    {
     "name": "stdout",
     "output_type": "stream",
     "text": [
      "Epoch 50 [35/35] {'loss': '0.0402'}}\r"
     ]
    },
    {
     "name": "stderr",
     "output_type": "stream",
     "text": [
      "Monitored metric loss/val did not improve in the last 20 records. Best score: 0.000. Signaling Trainer to stop.\n",
      "GPU available: True, used: True\n",
      "TPU available: False, using: 0 TPU cores\n",
      "LOCAL_RANK: 0 - CUDA_VISIBLE_DEVICES: [0]\n",
      "\n",
      "  | Name               | Type             | Params\n",
      "--------------------------------------------------------\n",
      "0 | model              | fc               | 127 K \n",
      "1 | criteria           | CrossEntropyLoss | 0     \n",
      "2 | valid_metrics      | MetricCollection | 0     \n",
      "3 | valid_dummy_metric | AUROC            | 0     \n",
      "--------------------------------------------------------\n",
      "127 K     Trainable params\n",
      "0         Non-trainable params\n",
      "127 K     Total params\n",
      "0.509     Total estimated model params size (MB)\n"
     ]
    },
    {
     "name": "stdout",
     "output_type": "stream",
     "text": [
      "Architecture [fc] was created\n",
      "***Defined hyperparameters:***\n",
      "\"arch\":                {'name': 'fc', 'args': {'num_channels': 1, 'num_classes': 3}}\n",
      "\"checkpoint_path\":     None\n",
      "\"class_weights\":       tensor([1.2466, 0.6500, 1.5167], device='cuda:0')\n",
      "\"hp_metrics\":          ['loss/train', 'loss/val', 'Accuracy/val', 'AUROC/val', 'Precision/val', 'Recall/val', 'Specificity/val']\n",
      "\"loss\":                {'type': 'CrossEntropyLoss', 'args': {'weight': True}}\n",
      "\"optimizer\":           {'type': 'Adam', 'args': {'lr': 0.001, 'weight_decay': 0, 'amsgrad': False}}\n",
      "\"roi_hparams\":         {'enable': True, 'output_shape': [9, 9, 9], 'boundary_boxes': {2: [[23, 48, 57, 76, 34, 49], [25, 31, 55, 68, 69, 79], [25, 85, 69, 95, 30, 65], [42, 12, 79, 50, 33, 47], [22, 18, 49, 49, 16, 29], [40, 33, 79, 76, 9, 26], [70, 28, 79, 72, 19, 63], [11, 9, 63, 78, 26, 78]], 1: [[29, 19, 68, 38, 1, 18], [46, 38, 78, 61, 10, 25], [65, 25, 79, 42, 12, 59], [27, 33, 62, 69, 70, 79], [10, 10, 53, 23, 25, 61], [24, 63, 49, 86, 11, 33], [34, 32, 55, 60, 37, 55], [40, 10, 79, 77, 11, 68]], 0: [[63, 63, 79, 84, 27, 61], [26, 21, 61, 53, 31, 44], [45, 43, 73, 84, 1, 16], [11, 8, 53, 21, 20, 40], [31, 10, 60, 26, 45, 69], [27, 85, 70, 95, 28, 62], [22, 38, 73, 95, 16, 48], [19, 55, 70, 84, 71, 79], [46, 18, 79, 40, 10, 30], [11, 8, 79, 44, 10, 70]]}}\n",
      "\"weight_distribution\": None\n",
      "Enabled callbacks:  ['LitProgressBar', 'EarlyStopping']\n",
      "Dataloader fold: 4\n",
      "Epoch 1 [35/35] {'loss': '1.02'}\r"
     ]
    },
    {
     "name": "stderr",
     "output_type": "stream",
     "text": [
      "Metric loss/val improved. New best score: 0.857\n"
     ]
    },
    {
     "name": "stdout",
     "output_type": "stream",
     "text": [
      "Epoch 2 [35/35] {'loss': '0.745'}\r"
     ]
    },
    {
     "name": "stderr",
     "output_type": "stream",
     "text": [
      "Metric loss/val improved by 0.306 >= min_delta = 0.0001. New best score: 0.551\n"
     ]
    },
    {
     "name": "stdout",
     "output_type": "stream",
     "text": [
      "Epoch 3 [35/35] {'loss': '0.442'}\r"
     ]
    },
    {
     "name": "stderr",
     "output_type": "stream",
     "text": [
      "Metric loss/val improved by 0.381 >= min_delta = 0.0001. New best score: 0.170\n"
     ]
    },
    {
     "name": "stdout",
     "output_type": "stream",
     "text": [
      "Epoch 4 [35/35] {'loss': '0.218'}\r"
     ]
    },
    {
     "name": "stderr",
     "output_type": "stream",
     "text": [
      "Metric loss/val improved by 0.119 >= min_delta = 0.0001. New best score: 0.051\n"
     ]
    },
    {
     "name": "stdout",
     "output_type": "stream",
     "text": [
      "Epoch 5 [35/35] {'loss': '0.0767'}\r"
     ]
    },
    {
     "name": "stderr",
     "output_type": "stream",
     "text": [
      "Metric loss/val improved by 0.033 >= min_delta = 0.0001. New best score: 0.018\n"
     ]
    },
    {
     "name": "stdout",
     "output_type": "stream",
     "text": [
      "Epoch 6 [35/35] {'loss': '0.0991'}\r"
     ]
    },
    {
     "name": "stderr",
     "output_type": "stream",
     "text": [
      "Metric loss/val improved by 0.009 >= min_delta = 0.0001. New best score: 0.008\n"
     ]
    },
    {
     "name": "stdout",
     "output_type": "stream",
     "text": [
      "Epoch 7 [35/35] {'loss': '0.0604'}\r"
     ]
    },
    {
     "name": "stderr",
     "output_type": "stream",
     "text": [
      "Metric loss/val improved by 0.004 >= min_delta = 0.0001. New best score: 0.005\n"
     ]
    },
    {
     "name": "stdout",
     "output_type": "stream",
     "text": [
      "Epoch 8 [35/35] {'loss': '0.0698'}\r"
     ]
    },
    {
     "name": "stderr",
     "output_type": "stream",
     "text": [
      "Metric loss/val improved by 0.002 >= min_delta = 0.0001. New best score: 0.003\n"
     ]
    },
    {
     "name": "stdout",
     "output_type": "stream",
     "text": [
      "Epoch 9 [35/35] {'loss': '0.0401'}\r"
     ]
    },
    {
     "name": "stderr",
     "output_type": "stream",
     "text": [
      "Metric loss/val improved by 0.001 >= min_delta = 0.0001. New best score: 0.002\n"
     ]
    },
    {
     "name": "stdout",
     "output_type": "stream",
     "text": [
      "Epoch 10 [35/35] {'loss': '0.0284'}\r"
     ]
    },
    {
     "name": "stderr",
     "output_type": "stream",
     "text": [
      "Metric loss/val improved by 0.001 >= min_delta = 0.0001. New best score: 0.002\n"
     ]
    },
    {
     "name": "stdout",
     "output_type": "stream",
     "text": [
      "Epoch 11 [35/35] {'loss': '0.043'}}\r"
     ]
    },
    {
     "name": "stderr",
     "output_type": "stream",
     "text": [
      "Metric loss/val improved by 0.000 >= min_delta = 0.0001. New best score: 0.001\n"
     ]
    },
    {
     "name": "stdout",
     "output_type": "stream",
     "text": [
      "Epoch 12 [35/35] {'loss': '0.0318'}\r"
     ]
    },
    {
     "name": "stderr",
     "output_type": "stream",
     "text": [
      "Metric loss/val improved by 0.000 >= min_delta = 0.0001. New best score: 0.001\n"
     ]
    },
    {
     "name": "stdout",
     "output_type": "stream",
     "text": [
      "Epoch 14 [35/35] {'loss': '0.0352'}\r"
     ]
    },
    {
     "name": "stderr",
     "output_type": "stream",
     "text": [
      "Metric loss/val improved by 0.000 >= min_delta = 0.0001. New best score: 0.001\n"
     ]
    },
    {
     "name": "stdout",
     "output_type": "stream",
     "text": [
      "Epoch 15 [35/35] {'loss': '0.0319'}\r"
     ]
    },
    {
     "name": "stderr",
     "output_type": "stream",
     "text": [
      "Metric loss/val improved by 0.000 >= min_delta = 0.0001. New best score: 0.001\n"
     ]
    },
    {
     "name": "stdout",
     "output_type": "stream",
     "text": [
      "Epoch 17 [35/35] {'loss': '0.0218'}\r"
     ]
    },
    {
     "name": "stderr",
     "output_type": "stream",
     "text": [
      "Metric loss/val improved by 0.000 >= min_delta = 0.0001. New best score: 0.000\n"
     ]
    },
    {
     "name": "stdout",
     "output_type": "stream",
     "text": [
      "Epoch 27 [35/35] {'loss': '0.035'}}}\r"
     ]
    },
    {
     "name": "stderr",
     "output_type": "stream",
     "text": [
      "Metric loss/val improved by 0.000 >= min_delta = 0.0001. New best score: 0.000\n"
     ]
    },
    {
     "name": "stdout",
     "output_type": "stream",
     "text": [
      "Epoch 47 [35/35] {'loss': '0.0177'}}\r"
     ]
    },
    {
     "name": "stderr",
     "output_type": "stream",
     "text": [
      "Monitored metric loss/val did not improve in the last 20 records. Best score: 0.000. Signaling Trainer to stop.\n",
      "GPU available: True, used: True\n",
      "TPU available: False, using: 0 TPU cores\n",
      "LOCAL_RANK: 0 - CUDA_VISIBLE_DEVICES: [0]\n",
      "\n",
      "  | Name               | Type             | Params\n",
      "--------------------------------------------------------\n",
      "0 | model              | fc               | 127 K \n",
      "1 | criteria           | CrossEntropyLoss | 0     \n",
      "2 | valid_metrics      | MetricCollection | 0     \n",
      "3 | valid_dummy_metric | AUROC            | 0     \n",
      "--------------------------------------------------------\n",
      "127 K     Trainable params\n",
      "0         Non-trainable params\n",
      "127 K     Total params\n",
      "0.509     Total estimated model params size (MB)\n"
     ]
    },
    {
     "name": "stdout",
     "output_type": "stream",
     "text": [
      "Architecture [fc] was created\n",
      "***Defined hyperparameters:***\n",
      "\"arch\":                {'name': 'fc', 'args': {'num_channels': 1, 'num_classes': 3}}\n",
      "\"checkpoint_path\":     None\n",
      "\"class_weights\":       tensor([1.2466, 0.6500, 1.5167], device='cuda:0')\n",
      "\"hp_metrics\":          ['loss/train', 'loss/val', 'Accuracy/val', 'AUROC/val', 'Precision/val', 'Recall/val', 'Specificity/val']\n",
      "\"loss\":                {'type': 'CrossEntropyLoss', 'args': {'weight': True}}\n",
      "\"optimizer\":           {'type': 'Adam', 'args': {'lr': 0.001, 'weight_decay': 0, 'amsgrad': False}}\n",
      "\"roi_hparams\":         {'enable': True, 'output_shape': [9, 9, 9], 'boundary_boxes': {2: [[23, 48, 57, 76, 34, 49], [25, 31, 55, 68, 69, 79], [25, 85, 69, 95, 30, 65], [42, 12, 79, 50, 33, 47], [22, 18, 49, 49, 16, 29], [40, 33, 79, 76, 9, 26], [70, 28, 79, 72, 19, 63], [11, 9, 63, 78, 26, 78]], 1: [[29, 19, 68, 38, 1, 18], [46, 38, 78, 61, 10, 25], [65, 25, 79, 42, 12, 59], [27, 33, 62, 69, 70, 79], [10, 10, 53, 23, 25, 61], [24, 63, 49, 86, 11, 33], [34, 32, 55, 60, 37, 55], [40, 10, 79, 77, 11, 68]], 0: [[63, 63, 79, 84, 27, 61], [26, 21, 61, 53, 31, 44], [45, 43, 73, 84, 1, 16], [11, 8, 53, 21, 20, 40], [31, 10, 60, 26, 45, 69], [27, 85, 70, 95, 28, 62], [22, 38, 73, 95, 16, 48], [19, 55, 70, 84, 71, 79], [46, 18, 79, 40, 10, 30], [11, 8, 79, 44, 10, 70]]}}\n",
      "\"weight_distribution\": None\n",
      "Enabled callbacks:  ['LitProgressBar', 'EarlyStopping']\n",
      "Dataloader fold: 5\n",
      "Epoch 1 [35/35] {'loss': '1.02'}\r"
     ]
    },
    {
     "name": "stderr",
     "output_type": "stream",
     "text": [
      "Metric loss/val improved. New best score: 0.854\n"
     ]
    },
    {
     "name": "stdout",
     "output_type": "stream",
     "text": [
      "Epoch 2 [35/35] {'loss': '0.711'}\r"
     ]
    },
    {
     "name": "stderr",
     "output_type": "stream",
     "text": [
      "Metric loss/val improved by 0.349 >= min_delta = 0.0001. New best score: 0.505\n"
     ]
    },
    {
     "name": "stdout",
     "output_type": "stream",
     "text": [
      "Epoch 3 [35/35] {'loss': '0.412'}\r"
     ]
    },
    {
     "name": "stderr",
     "output_type": "stream",
     "text": [
      "Metric loss/val improved by 0.349 >= min_delta = 0.0001. New best score: 0.156\n"
     ]
    },
    {
     "name": "stdout",
     "output_type": "stream",
     "text": [
      "Epoch 4 [35/35] {'loss': '0.196'}\r"
     ]
    },
    {
     "name": "stderr",
     "output_type": "stream",
     "text": [
      "Metric loss/val improved by 0.094 >= min_delta = 0.0001. New best score: 0.062\n"
     ]
    },
    {
     "name": "stdout",
     "output_type": "stream",
     "text": [
      "Epoch 5 [35/35] {'loss': '0.113'}\r"
     ]
    },
    {
     "name": "stderr",
     "output_type": "stream",
     "text": [
      "Metric loss/val improved by 0.044 >= min_delta = 0.0001. New best score: 0.017\n"
     ]
    },
    {
     "name": "stdout",
     "output_type": "stream",
     "text": [
      "Epoch 6 [35/35] {'loss': '0.088'}}\r"
     ]
    },
    {
     "name": "stderr",
     "output_type": "stream",
     "text": [
      "Metric loss/val improved by 0.003 >= min_delta = 0.0001. New best score: 0.015\n"
     ]
    },
    {
     "name": "stdout",
     "output_type": "stream",
     "text": [
      "Epoch 7 [35/35] {'loss': '0.076'}}\r"
     ]
    },
    {
     "name": "stderr",
     "output_type": "stream",
     "text": [
      "Metric loss/val improved by 0.011 >= min_delta = 0.0001. New best score: 0.004\n"
     ]
    },
    {
     "name": "stdout",
     "output_type": "stream",
     "text": [
      "Epoch 10 [35/35] {'loss': '0.0304'}\r"
     ]
    },
    {
     "name": "stderr",
     "output_type": "stream",
     "text": [
      "Metric loss/val improved by 0.003 >= min_delta = 0.0001. New best score: 0.001\n"
     ]
    },
    {
     "name": "stdout",
     "output_type": "stream",
     "text": [
      "Epoch 12 [35/35] {'loss': '0.022'}}\r"
     ]
    },
    {
     "name": "stderr",
     "output_type": "stream",
     "text": [
      "Metric loss/val improved by 0.001 >= min_delta = 0.0001. New best score: 0.001\n"
     ]
    },
    {
     "name": "stdout",
     "output_type": "stream",
     "text": [
      "Epoch 16 [35/35] {'loss': '0.0263'}\r"
     ]
    },
    {
     "name": "stderr",
     "output_type": "stream",
     "text": [
      "Metric loss/val improved by 0.000 >= min_delta = 0.0001. New best score: 0.001\n"
     ]
    },
    {
     "name": "stdout",
     "output_type": "stream",
     "text": [
      "Epoch 17 [35/35] {'loss': '0.0181'}\r"
     ]
    },
    {
     "name": "stderr",
     "output_type": "stream",
     "text": [
      "Metric loss/val improved by 0.000 >= min_delta = 0.0001. New best score: 0.000\n"
     ]
    },
    {
     "name": "stdout",
     "output_type": "stream",
     "text": [
      "Epoch 22 [35/35] {'loss': '0.0123'}}\r"
     ]
    },
    {
     "name": "stderr",
     "output_type": "stream",
     "text": [
      "Metric loss/val improved by 0.000 >= min_delta = 0.0001. New best score: 0.000\n"
     ]
    },
    {
     "name": "stdout",
     "output_type": "stream",
     "text": [
      "Epoch 42 [35/35] {'loss': '0.0141'}}\r"
     ]
    },
    {
     "name": "stderr",
     "output_type": "stream",
     "text": [
      "Monitored metric loss/val did not improve in the last 20 records. Best score: 0.000. Signaling Trainer to stop.\n",
      "GPU available: True, used: True\n",
      "TPU available: False, using: 0 TPU cores\n",
      "LOCAL_RANK: 0 - CUDA_VISIBLE_DEVICES: [0]\n",
      "\n",
      "  | Name               | Type             | Params\n",
      "--------------------------------------------------------\n",
      "0 | model              | fc               | 127 K \n",
      "1 | criteria           | CrossEntropyLoss | 0     \n",
      "2 | valid_metrics      | MetricCollection | 0     \n",
      "3 | valid_dummy_metric | AUROC            | 0     \n",
      "--------------------------------------------------------\n",
      "127 K     Trainable params\n",
      "0         Non-trainable params\n",
      "127 K     Total params\n",
      "0.509     Total estimated model params size (MB)\n"
     ]
    },
    {
     "name": "stdout",
     "output_type": "stream",
     "text": [
      "Architecture [fc] was created\n",
      "***Defined hyperparameters:***\n",
      "\"arch\":                {'name': 'fc', 'args': {'num_channels': 1, 'num_classes': 3}}\n",
      "\"checkpoint_path\":     None\n",
      "\"class_weights\":       tensor([1.2466, 0.6500, 1.5167], device='cuda:0')\n",
      "\"hp_metrics\":          ['loss/train', 'loss/val', 'Accuracy/val', 'AUROC/val', 'Precision/val', 'Recall/val', 'Specificity/val']\n",
      "\"loss\":                {'type': 'CrossEntropyLoss', 'args': {'weight': True}}\n",
      "\"optimizer\":           {'type': 'Adam', 'args': {'lr': 0.001, 'weight_decay': 0, 'amsgrad': False}}\n",
      "\"roi_hparams\":         {'enable': True, 'output_shape': [9, 9, 9], 'boundary_boxes': {2: [[23, 48, 57, 76, 34, 49], [25, 31, 55, 68, 69, 79], [25, 85, 69, 95, 30, 65], [42, 12, 79, 50, 33, 47], [22, 18, 49, 49, 16, 29], [40, 33, 79, 76, 9, 26], [70, 28, 79, 72, 19, 63], [11, 9, 63, 78, 26, 78]], 1: [[29, 19, 68, 38, 1, 18], [46, 38, 78, 61, 10, 25], [65, 25, 79, 42, 12, 59], [27, 33, 62, 69, 70, 79], [10, 10, 53, 23, 25, 61], [24, 63, 49, 86, 11, 33], [34, 32, 55, 60, 37, 55], [40, 10, 79, 77, 11, 68]], 0: [[63, 63, 79, 84, 27, 61], [26, 21, 61, 53, 31, 44], [45, 43, 73, 84, 1, 16], [11, 8, 53, 21, 20, 40], [31, 10, 60, 26, 45, 69], [27, 85, 70, 95, 28, 62], [22, 38, 73, 95, 16, 48], [19, 55, 70, 84, 71, 79], [46, 18, 79, 40, 10, 30], [11, 8, 79, 44, 10, 70]]}}\n",
      "\"weight_distribution\": None\n",
      "Enabled callbacks:  ['LitProgressBar', 'EarlyStopping']\n",
      "Dataloader fold: 6\n",
      "Epoch 1 [35/35] {'loss': '1.04'}\r"
     ]
    },
    {
     "name": "stderr",
     "output_type": "stream",
     "text": [
      "Metric loss/val improved. New best score: 0.843\n"
     ]
    },
    {
     "name": "stdout",
     "output_type": "stream",
     "text": [
      "Epoch 2 [35/35] {'loss': '0.743'}\r"
     ]
    },
    {
     "name": "stderr",
     "output_type": "stream",
     "text": [
      "Metric loss/val improved by 0.324 >= min_delta = 0.0001. New best score: 0.519\n"
     ]
    },
    {
     "name": "stdout",
     "output_type": "stream",
     "text": [
      "Epoch 3 [35/35] {'loss': '0.392'}\r"
     ]
    },
    {
     "name": "stderr",
     "output_type": "stream",
     "text": [
      "Metric loss/val improved by 0.365 >= min_delta = 0.0001. New best score: 0.154\n"
     ]
    },
    {
     "name": "stdout",
     "output_type": "stream",
     "text": [
      "Epoch 4 [35/35] {'loss': '0.189'}\r"
     ]
    },
    {
     "name": "stderr",
     "output_type": "stream",
     "text": [
      "Metric loss/val improved by 0.103 >= min_delta = 0.0001. New best score: 0.051\n"
     ]
    },
    {
     "name": "stdout",
     "output_type": "stream",
     "text": [
      "Epoch 5 [35/35] {'loss': '0.101'}}\r"
     ]
    },
    {
     "name": "stderr",
     "output_type": "stream",
     "text": [
      "Metric loss/val improved by 0.035 >= min_delta = 0.0001. New best score: 0.017\n"
     ]
    },
    {
     "name": "stdout",
     "output_type": "stream",
     "text": [
      "Epoch 6 [35/35] {'loss': '0.106'}}\r"
     ]
    },
    {
     "name": "stderr",
     "output_type": "stream",
     "text": [
      "Metric loss/val improved by 0.007 >= min_delta = 0.0001. New best score: 0.010\n"
     ]
    },
    {
     "name": "stdout",
     "output_type": "stream",
     "text": [
      "Epoch 7 [35/35] {'loss': '0.0448'}\r"
     ]
    },
    {
     "name": "stderr",
     "output_type": "stream",
     "text": [
      "Metric loss/val improved by 0.006 >= min_delta = 0.0001. New best score: 0.004\n"
     ]
    },
    {
     "name": "stdout",
     "output_type": "stream",
     "text": [
      "Epoch 8 [35/35] {'loss': '0.0596'}\r"
     ]
    },
    {
     "name": "stderr",
     "output_type": "stream",
     "text": [
      "Metric loss/val improved by 0.000 >= min_delta = 0.0001. New best score: 0.004\n"
     ]
    },
    {
     "name": "stdout",
     "output_type": "stream",
     "text": [
      "Epoch 10 [35/35] {'loss': '0.0447'}\r"
     ]
    },
    {
     "name": "stderr",
     "output_type": "stream",
     "text": [
      "Metric loss/val improved by 0.002 >= min_delta = 0.0001. New best score: 0.002\n"
     ]
    },
    {
     "name": "stdout",
     "output_type": "stream",
     "text": [
      "Epoch 11 [35/35] {'loss': '0.0271'}\r"
     ]
    },
    {
     "name": "stderr",
     "output_type": "stream",
     "text": [
      "Metric loss/val improved by 0.000 >= min_delta = 0.0001. New best score: 0.001\n"
     ]
    },
    {
     "name": "stdout",
     "output_type": "stream",
     "text": [
      "Epoch 12 [35/35] {'loss': '0.0318'}\r"
     ]
    },
    {
     "name": "stderr",
     "output_type": "stream",
     "text": [
      "Metric loss/val improved by 0.001 >= min_delta = 0.0001. New best score: 0.001\n"
     ]
    },
    {
     "name": "stdout",
     "output_type": "stream",
     "text": [
      "Epoch 15 [35/35] {'loss': '0.0175'}\r"
     ]
    },
    {
     "name": "stderr",
     "output_type": "stream",
     "text": [
      "Metric loss/val improved by 0.000 >= min_delta = 0.0001. New best score: 0.000\n"
     ]
    },
    {
     "name": "stdout",
     "output_type": "stream",
     "text": [
      "Epoch 19 [35/35] {'loss': '0.0155'}}\r"
     ]
    },
    {
     "name": "stderr",
     "output_type": "stream",
     "text": [
      "Metric loss/val improved by 0.000 >= min_delta = 0.0001. New best score: 0.000\n"
     ]
    },
    {
     "name": "stdout",
     "output_type": "stream",
     "text": [
      "Epoch 21 [35/35] {'loss': '0.0101'}}\r"
     ]
    },
    {
     "name": "stderr",
     "output_type": "stream",
     "text": [
      "Metric loss/val improved by 0.000 >= min_delta = 0.0001. New best score: 0.000\n"
     ]
    },
    {
     "name": "stdout",
     "output_type": "stream",
     "text": [
      "Epoch 41 [35/35] {'loss': '0.0169'}}\r"
     ]
    },
    {
     "name": "stderr",
     "output_type": "stream",
     "text": [
      "Monitored metric loss/val did not improve in the last 20 records. Best score: 0.000. Signaling Trainer to stop.\n",
      "GPU available: True, used: True\n",
      "TPU available: False, using: 0 TPU cores\n",
      "LOCAL_RANK: 0 - CUDA_VISIBLE_DEVICES: [0]\n",
      "\n",
      "  | Name               | Type             | Params\n",
      "--------------------------------------------------------\n",
      "0 | model              | fc               | 127 K \n",
      "1 | criteria           | CrossEntropyLoss | 0     \n",
      "2 | valid_metrics      | MetricCollection | 0     \n",
      "3 | valid_dummy_metric | AUROC            | 0     \n",
      "--------------------------------------------------------\n",
      "127 K     Trainable params\n",
      "0         Non-trainable params\n",
      "127 K     Total params\n",
      "0.509     Total estimated model params size (MB)\n"
     ]
    },
    {
     "name": "stdout",
     "output_type": "stream",
     "text": [
      "Architecture [fc] was created\n",
      "***Defined hyperparameters:***\n",
      "\"arch\":                {'name': 'fc', 'args': {'num_channels': 1, 'num_classes': 3}}\n",
      "\"checkpoint_path\":     None\n",
      "\"class_weights\":       tensor([1.2466, 0.6500, 1.5167], device='cuda:0')\n",
      "\"hp_metrics\":          ['loss/train', 'loss/val', 'Accuracy/val', 'AUROC/val', 'Precision/val', 'Recall/val', 'Specificity/val']\n",
      "\"loss\":                {'type': 'CrossEntropyLoss', 'args': {'weight': True}}\n",
      "\"optimizer\":           {'type': 'Adam', 'args': {'lr': 0.001, 'weight_decay': 0, 'amsgrad': False}}\n",
      "\"roi_hparams\":         {'enable': True, 'output_shape': [9, 9, 9], 'boundary_boxes': {2: [[23, 48, 57, 76, 34, 49], [25, 31, 55, 68, 69, 79], [25, 85, 69, 95, 30, 65], [42, 12, 79, 50, 33, 47], [22, 18, 49, 49, 16, 29], [40, 33, 79, 76, 9, 26], [70, 28, 79, 72, 19, 63], [11, 9, 63, 78, 26, 78]], 1: [[29, 19, 68, 38, 1, 18], [46, 38, 78, 61, 10, 25], [65, 25, 79, 42, 12, 59], [27, 33, 62, 69, 70, 79], [10, 10, 53, 23, 25, 61], [24, 63, 49, 86, 11, 33], [34, 32, 55, 60, 37, 55], [40, 10, 79, 77, 11, 68]], 0: [[63, 63, 79, 84, 27, 61], [26, 21, 61, 53, 31, 44], [45, 43, 73, 84, 1, 16], [11, 8, 53, 21, 20, 40], [31, 10, 60, 26, 45, 69], [27, 85, 70, 95, 28, 62], [22, 38, 73, 95, 16, 48], [19, 55, 70, 84, 71, 79], [46, 18, 79, 40, 10, 30], [11, 8, 79, 44, 10, 70]]}}\n",
      "\"weight_distribution\": None\n",
      "Enabled callbacks:  ['LitProgressBar', 'EarlyStopping']\n",
      "Dataloader fold: 7\n",
      "Epoch 1 [35/35] {'loss': '1.02'}\r"
     ]
    },
    {
     "name": "stderr",
     "output_type": "stream",
     "text": [
      "Metric loss/val improved. New best score: 0.862\n"
     ]
    },
    {
     "name": "stdout",
     "output_type": "stream",
     "text": [
      "Epoch 2 [35/35] {'loss': '0.742'}\r"
     ]
    },
    {
     "name": "stderr",
     "output_type": "stream",
     "text": [
      "Metric loss/val improved by 0.396 >= min_delta = 0.0001. New best score: 0.467\n"
     ]
    },
    {
     "name": "stdout",
     "output_type": "stream",
     "text": [
      "Epoch 3 [35/35] {'loss': '0.437'}\r"
     ]
    },
    {
     "name": "stderr",
     "output_type": "stream",
     "text": [
      "Metric loss/val improved by 0.276 >= min_delta = 0.0001. New best score: 0.191\n"
     ]
    },
    {
     "name": "stdout",
     "output_type": "stream",
     "text": [
      "Epoch 4 [35/35] {'loss': '0.205'}\r"
     ]
    },
    {
     "name": "stderr",
     "output_type": "stream",
     "text": [
      "Metric loss/val improved by 0.124 >= min_delta = 0.0001. New best score: 0.067\n"
     ]
    },
    {
     "name": "stdout",
     "output_type": "stream",
     "text": [
      "Epoch 5 [35/35] {'loss': '0.103'}\r"
     ]
    },
    {
     "name": "stderr",
     "output_type": "stream",
     "text": [
      "Metric loss/val improved by 0.028 >= min_delta = 0.0001. New best score: 0.039\n"
     ]
    },
    {
     "name": "stdout",
     "output_type": "stream",
     "text": [
      "Epoch 6 [35/35] {'loss': '0.125'}}\r"
     ]
    },
    {
     "name": "stderr",
     "output_type": "stream",
     "text": [
      "Metric loss/val improved by 0.026 >= min_delta = 0.0001. New best score: 0.014\n"
     ]
    },
    {
     "name": "stdout",
     "output_type": "stream",
     "text": [
      "Epoch 8 [35/35] {'loss': '0.0818'}\r"
     ]
    },
    {
     "name": "stderr",
     "output_type": "stream",
     "text": [
      "Metric loss/val improved by 0.008 >= min_delta = 0.0001. New best score: 0.006\n"
     ]
    },
    {
     "name": "stdout",
     "output_type": "stream",
     "text": [
      "Epoch 9 [35/35] {'loss': '0.0698'}\r"
     ]
    },
    {
     "name": "stderr",
     "output_type": "stream",
     "text": [
      "Metric loss/val improved by 0.000 >= min_delta = 0.0001. New best score: 0.006\n"
     ]
    },
    {
     "name": "stdout",
     "output_type": "stream",
     "text": [
      "Epoch 10 [35/35] {'loss': '0.0302'}\r"
     ]
    },
    {
     "name": "stderr",
     "output_type": "stream",
     "text": [
      "Metric loss/val improved by 0.003 >= min_delta = 0.0001. New best score: 0.003\n"
     ]
    },
    {
     "name": "stdout",
     "output_type": "stream",
     "text": [
      "Epoch 11 [35/35] {'loss': '0.0184'}\r"
     ]
    },
    {
     "name": "stderr",
     "output_type": "stream",
     "text": [
      "Metric loss/val improved by 0.001 >= min_delta = 0.0001. New best score: 0.002\n"
     ]
    },
    {
     "name": "stdout",
     "output_type": "stream",
     "text": [
      "Epoch 12 [35/35] {'loss': '0.0153'}\r"
     ]
    },
    {
     "name": "stderr",
     "output_type": "stream",
     "text": [
      "Metric loss/val improved by 0.001 >= min_delta = 0.0001. New best score: 0.001\n"
     ]
    },
    {
     "name": "stdout",
     "output_type": "stream",
     "text": [
      "Epoch 15 [35/35] {'loss': '0.025'}}\r"
     ]
    },
    {
     "name": "stderr",
     "output_type": "stream",
     "text": [
      "Metric loss/val improved by 0.000 >= min_delta = 0.0001. New best score: 0.001\n"
     ]
    },
    {
     "name": "stdout",
     "output_type": "stream",
     "text": [
      "Epoch 16 [35/35] {'loss': '0.0229'}\r"
     ]
    },
    {
     "name": "stderr",
     "output_type": "stream",
     "text": [
      "Metric loss/val improved by 0.000 >= min_delta = 0.0001. New best score: 0.001\n"
     ]
    },
    {
     "name": "stdout",
     "output_type": "stream",
     "text": [
      "Epoch 19 [35/35] {'loss': '0.0199'}\r"
     ]
    },
    {
     "name": "stderr",
     "output_type": "stream",
     "text": [
      "Metric loss/val improved by 0.000 >= min_delta = 0.0001. New best score: 0.000\n"
     ]
    },
    {
     "name": "stdout",
     "output_type": "stream",
     "text": [
      "Epoch 25 [35/35] {'loss': '0.017'}}}\r"
     ]
    },
    {
     "name": "stderr",
     "output_type": "stream",
     "text": [
      "Metric loss/val improved by 0.000 >= min_delta = 0.0001. New best score: 0.000\n"
     ]
    },
    {
     "name": "stdout",
     "output_type": "stream",
     "text": [
      "Epoch 34 [35/35] {'loss': '0.0082'}}\r"
     ]
    },
    {
     "name": "stderr",
     "output_type": "stream",
     "text": [
      "Metric loss/val improved by 0.000 >= min_delta = 0.0001. New best score: 0.000\n"
     ]
    },
    {
     "name": "stdout",
     "output_type": "stream",
     "text": [
      "Epoch 54 [35/35] {'loss': '0.0339'}}\r"
     ]
    },
    {
     "name": "stderr",
     "output_type": "stream",
     "text": [
      "Monitored metric loss/val did not improve in the last 20 records. Best score: 0.000. Signaling Trainer to stop.\n",
      "GPU available: True, used: True\n",
      "TPU available: False, using: 0 TPU cores\n",
      "LOCAL_RANK: 0 - CUDA_VISIBLE_DEVICES: [0]\n",
      "\n",
      "  | Name               | Type             | Params\n",
      "--------------------------------------------------------\n",
      "0 | model              | fc               | 127 K \n",
      "1 | criteria           | CrossEntropyLoss | 0     \n",
      "2 | valid_metrics      | MetricCollection | 0     \n",
      "3 | valid_dummy_metric | AUROC            | 0     \n",
      "--------------------------------------------------------\n",
      "127 K     Trainable params\n",
      "0         Non-trainable params\n",
      "127 K     Total params\n",
      "0.509     Total estimated model params size (MB)\n"
     ]
    },
    {
     "name": "stdout",
     "output_type": "stream",
     "text": [
      "Architecture [fc] was created\n",
      "***Defined hyperparameters:***\n",
      "\"arch\":                {'name': 'fc', 'args': {'num_channels': 1, 'num_classes': 3}}\n",
      "\"checkpoint_path\":     None\n",
      "\"class_weights\":       tensor([1.2466, 0.6500, 1.5167], device='cuda:0')\n",
      "\"hp_metrics\":          ['loss/train', 'loss/val', 'Accuracy/val', 'AUROC/val', 'Precision/val', 'Recall/val', 'Specificity/val']\n",
      "\"loss\":                {'type': 'CrossEntropyLoss', 'args': {'weight': True}}\n",
      "\"optimizer\":           {'type': 'Adam', 'args': {'lr': 0.001, 'weight_decay': 0, 'amsgrad': False}}\n",
      "\"roi_hparams\":         {'enable': True, 'output_shape': [9, 9, 9], 'boundary_boxes': {2: [[23, 48, 57, 76, 34, 49], [25, 31, 55, 68, 69, 79], [25, 85, 69, 95, 30, 65], [42, 12, 79, 50, 33, 47], [22, 18, 49, 49, 16, 29], [40, 33, 79, 76, 9, 26], [70, 28, 79, 72, 19, 63], [11, 9, 63, 78, 26, 78]], 1: [[29, 19, 68, 38, 1, 18], [46, 38, 78, 61, 10, 25], [65, 25, 79, 42, 12, 59], [27, 33, 62, 69, 70, 79], [10, 10, 53, 23, 25, 61], [24, 63, 49, 86, 11, 33], [34, 32, 55, 60, 37, 55], [40, 10, 79, 77, 11, 68]], 0: [[63, 63, 79, 84, 27, 61], [26, 21, 61, 53, 31, 44], [45, 43, 73, 84, 1, 16], [11, 8, 53, 21, 20, 40], [31, 10, 60, 26, 45, 69], [27, 85, 70, 95, 28, 62], [22, 38, 73, 95, 16, 48], [19, 55, 70, 84, 71, 79], [46, 18, 79, 40, 10, 30], [11, 8, 79, 44, 10, 70]]}}\n",
      "\"weight_distribution\": None\n",
      "Enabled callbacks:  ['LitProgressBar', 'EarlyStopping']\n",
      "Dataloader fold: 8\n",
      "Epoch 1 [35/35] {'loss': '0.989'}\r"
     ]
    },
    {
     "name": "stderr",
     "output_type": "stream",
     "text": [
      "Metric loss/val improved. New best score: 0.823\n"
     ]
    },
    {
     "name": "stdout",
     "output_type": "stream",
     "text": [
      "Epoch 2 [35/35] {'loss': '0.676'}\r"
     ]
    },
    {
     "name": "stderr",
     "output_type": "stream",
     "text": [
      "Metric loss/val improved by 0.458 >= min_delta = 0.0001. New best score: 0.364\n"
     ]
    },
    {
     "name": "stdout",
     "output_type": "stream",
     "text": [
      "Epoch 3 [35/35] {'loss': '0.336'}\r"
     ]
    },
    {
     "name": "stderr",
     "output_type": "stream",
     "text": [
      "Metric loss/val improved by 0.246 >= min_delta = 0.0001. New best score: 0.119\n"
     ]
    },
    {
     "name": "stdout",
     "output_type": "stream",
     "text": [
      "Epoch 4 [35/35] {'loss': '0.184'}\r"
     ]
    },
    {
     "name": "stderr",
     "output_type": "stream",
     "text": [
      "Metric loss/val improved by 0.073 >= min_delta = 0.0001. New best score: 0.045\n"
     ]
    },
    {
     "name": "stdout",
     "output_type": "stream",
     "text": [
      "Epoch 5 [35/35] {'loss': '0.115'}\r"
     ]
    },
    {
     "name": "stderr",
     "output_type": "stream",
     "text": [
      "Metric loss/val improved by 0.029 >= min_delta = 0.0001. New best score: 0.016\n"
     ]
    },
    {
     "name": "stdout",
     "output_type": "stream",
     "text": [
      "Epoch 6 [35/35] {'loss': '0.0663'}\r"
     ]
    },
    {
     "name": "stderr",
     "output_type": "stream",
     "text": [
      "Metric loss/val improved by 0.008 >= min_delta = 0.0001. New best score: 0.008\n"
     ]
    },
    {
     "name": "stdout",
     "output_type": "stream",
     "text": [
      "Epoch 7 [35/35] {'loss': '0.0716'}\r"
     ]
    },
    {
     "name": "stderr",
     "output_type": "stream",
     "text": [
      "Metric loss/val improved by 0.004 >= min_delta = 0.0001. New best score: 0.004\n"
     ]
    },
    {
     "name": "stdout",
     "output_type": "stream",
     "text": [
      "Epoch 9 [35/35] {'loss': '0.0385'}\r"
     ]
    },
    {
     "name": "stderr",
     "output_type": "stream",
     "text": [
      "Metric loss/val improved by 0.002 >= min_delta = 0.0001. New best score: 0.002\n"
     ]
    },
    {
     "name": "stdout",
     "output_type": "stream",
     "text": [
      "Epoch 11 [35/35] {'loss': '0.0516'}\r"
     ]
    },
    {
     "name": "stderr",
     "output_type": "stream",
     "text": [
      "Metric loss/val improved by 0.001 >= min_delta = 0.0001. New best score: 0.001\n"
     ]
    },
    {
     "name": "stdout",
     "output_type": "stream",
     "text": [
      "Epoch 12 [35/35] {'loss': '0.0312'}\r"
     ]
    },
    {
     "name": "stderr",
     "output_type": "stream",
     "text": [
      "Metric loss/val improved by 0.000 >= min_delta = 0.0001. New best score: 0.001\n"
     ]
    },
    {
     "name": "stdout",
     "output_type": "stream",
     "text": [
      "Epoch 13 [35/35] {'loss': '0.0227'}\r"
     ]
    },
    {
     "name": "stderr",
     "output_type": "stream",
     "text": [
      "Metric loss/val improved by 0.000 >= min_delta = 0.0001. New best score: 0.001\n"
     ]
    },
    {
     "name": "stdout",
     "output_type": "stream",
     "text": [
      "Epoch 16 [35/35] {'loss': '0.0116'}\r"
     ]
    },
    {
     "name": "stderr",
     "output_type": "stream",
     "text": [
      "Metric loss/val improved by 0.000 >= min_delta = 0.0001. New best score: 0.000\n"
     ]
    },
    {
     "name": "stdout",
     "output_type": "stream",
     "text": [
      "Epoch 22 [35/35] {'loss': '0.00716'}\r"
     ]
    },
    {
     "name": "stderr",
     "output_type": "stream",
     "text": [
      "Metric loss/val improved by 0.000 >= min_delta = 0.0001. New best score: 0.000\n"
     ]
    },
    {
     "name": "stdout",
     "output_type": "stream",
     "text": [
      "Epoch 42 [35/35] {'loss': '0.0257'}}\r"
     ]
    },
    {
     "name": "stderr",
     "output_type": "stream",
     "text": [
      "Monitored metric loss/val did not improve in the last 20 records. Best score: 0.000. Signaling Trainer to stop.\n",
      "GPU available: True, used: True\n",
      "TPU available: False, using: 0 TPU cores\n",
      "LOCAL_RANK: 0 - CUDA_VISIBLE_DEVICES: [0]\n",
      "\n",
      "  | Name               | Type             | Params\n",
      "--------------------------------------------------------\n",
      "0 | model              | fc               | 127 K \n",
      "1 | criteria           | CrossEntropyLoss | 0     \n",
      "2 | valid_metrics      | MetricCollection | 0     \n",
      "3 | valid_dummy_metric | AUROC            | 0     \n",
      "--------------------------------------------------------\n",
      "127 K     Trainable params\n",
      "0         Non-trainable params\n",
      "127 K     Total params\n",
      "0.509     Total estimated model params size (MB)\n"
     ]
    },
    {
     "name": "stdout",
     "output_type": "stream",
     "text": [
      "Architecture [fc] was created\n",
      "***Defined hyperparameters:***\n",
      "\"arch\":                {'name': 'fc', 'args': {'num_channels': 1, 'num_classes': 3}}\n",
      "\"checkpoint_path\":     None\n",
      "\"class_weights\":       tensor([1.2466, 0.6500, 1.5167], device='cuda:0')\n",
      "\"hp_metrics\":          ['loss/train', 'loss/val', 'Accuracy/val', 'AUROC/val', 'Precision/val', 'Recall/val', 'Specificity/val']\n",
      "\"loss\":                {'type': 'CrossEntropyLoss', 'args': {'weight': True}}\n",
      "\"optimizer\":           {'type': 'Adam', 'args': {'lr': 0.001, 'weight_decay': 0, 'amsgrad': False}}\n",
      "\"roi_hparams\":         {'enable': True, 'output_shape': [9, 9, 9], 'boundary_boxes': {2: [[23, 48, 57, 76, 34, 49], [25, 31, 55, 68, 69, 79], [25, 85, 69, 95, 30, 65], [42, 12, 79, 50, 33, 47], [22, 18, 49, 49, 16, 29], [40, 33, 79, 76, 9, 26], [70, 28, 79, 72, 19, 63], [11, 9, 63, 78, 26, 78]], 1: [[29, 19, 68, 38, 1, 18], [46, 38, 78, 61, 10, 25], [65, 25, 79, 42, 12, 59], [27, 33, 62, 69, 70, 79], [10, 10, 53, 23, 25, 61], [24, 63, 49, 86, 11, 33], [34, 32, 55, 60, 37, 55], [40, 10, 79, 77, 11, 68]], 0: [[63, 63, 79, 84, 27, 61], [26, 21, 61, 53, 31, 44], [45, 43, 73, 84, 1, 16], [11, 8, 53, 21, 20, 40], [31, 10, 60, 26, 45, 69], [27, 85, 70, 95, 28, 62], [22, 38, 73, 95, 16, 48], [19, 55, 70, 84, 71, 79], [46, 18, 79, 40, 10, 30], [11, 8, 79, 44, 10, 70]]}}\n",
      "\"weight_distribution\": None\n",
      "Enabled callbacks:  ['LitProgressBar', 'EarlyStopping']\n",
      "Dataloader fold: 9\n",
      "Epoch 1 [35/35] {'loss': '1.02'}\r"
     ]
    },
    {
     "name": "stderr",
     "output_type": "stream",
     "text": [
      "Metric loss/val improved. New best score: 0.839\n"
     ]
    },
    {
     "name": "stdout",
     "output_type": "stream",
     "text": [
      "Epoch 2 [35/35] {'loss': '0.744'}\r"
     ]
    },
    {
     "name": "stderr",
     "output_type": "stream",
     "text": [
      "Metric loss/val improved by 0.267 >= min_delta = 0.0001. New best score: 0.572\n"
     ]
    },
    {
     "name": "stdout",
     "output_type": "stream",
     "text": [
      "Epoch 3 [35/35] {'loss': '0.447'}\r"
     ]
    },
    {
     "name": "stderr",
     "output_type": "stream",
     "text": [
      "Metric loss/val improved by 0.385 >= min_delta = 0.0001. New best score: 0.187\n"
     ]
    },
    {
     "name": "stdout",
     "output_type": "stream",
     "text": [
      "Epoch 4 [35/35] {'loss': '0.216'}\r"
     ]
    },
    {
     "name": "stderr",
     "output_type": "stream",
     "text": [
      "Metric loss/val improved by 0.118 >= min_delta = 0.0001. New best score: 0.069\n"
     ]
    },
    {
     "name": "stdout",
     "output_type": "stream",
     "text": [
      "Epoch 5 [35/35] {'loss': '0.116'}\r"
     ]
    },
    {
     "name": "stderr",
     "output_type": "stream",
     "text": [
      "Metric loss/val improved by 0.046 >= min_delta = 0.0001. New best score: 0.023\n"
     ]
    },
    {
     "name": "stdout",
     "output_type": "stream",
     "text": [
      "Epoch 6 [35/35] {'loss': '0.079'}}\r"
     ]
    },
    {
     "name": "stderr",
     "output_type": "stream",
     "text": [
      "Metric loss/val improved by 0.014 >= min_delta = 0.0001. New best score: 0.009\n"
     ]
    },
    {
     "name": "stdout",
     "output_type": "stream",
     "text": [
      "Epoch 7 [35/35] {'loss': '0.0707'}\r"
     ]
    },
    {
     "name": "stderr",
     "output_type": "stream",
     "text": [
      "Metric loss/val improved by 0.004 >= min_delta = 0.0001. New best score: 0.005\n"
     ]
    },
    {
     "name": "stdout",
     "output_type": "stream",
     "text": [
      "Epoch 8 [35/35] {'loss': '0.0585'}\r"
     ]
    },
    {
     "name": "stderr",
     "output_type": "stream",
     "text": [
      "Metric loss/val improved by 0.001 >= min_delta = 0.0001. New best score: 0.004\n"
     ]
    },
    {
     "name": "stdout",
     "output_type": "stream",
     "text": [
      "Epoch 9 [35/35] {'loss': '0.0328'}\r"
     ]
    },
    {
     "name": "stderr",
     "output_type": "stream",
     "text": [
      "Metric loss/val improved by 0.001 >= min_delta = 0.0001. New best score: 0.003\n"
     ]
    },
    {
     "name": "stdout",
     "output_type": "stream",
     "text": [
      "Epoch 10 [35/35] {'loss': '0.0307'}\r"
     ]
    },
    {
     "name": "stderr",
     "output_type": "stream",
     "text": [
      "Metric loss/val improved by 0.002 >= min_delta = 0.0001. New best score: 0.001\n"
     ]
    },
    {
     "name": "stdout",
     "output_type": "stream",
     "text": [
      "Epoch 12 [35/35] {'loss': '0.0402'}\r"
     ]
    },
    {
     "name": "stderr",
     "output_type": "stream",
     "text": [
      "Metric loss/val improved by 0.000 >= min_delta = 0.0001. New best score: 0.001\n"
     ]
    },
    {
     "name": "stdout",
     "output_type": "stream",
     "text": [
      "Epoch 18 [35/35] {'loss': '0.0186'}\r"
     ]
    },
    {
     "name": "stderr",
     "output_type": "stream",
     "text": [
      "Metric loss/val improved by 0.000 >= min_delta = 0.0001. New best score: 0.000\n"
     ]
    },
    {
     "name": "stdout",
     "output_type": "stream",
     "text": [
      "Epoch 19 [35/35] {'loss': '0.0126'}\r"
     ]
    },
    {
     "name": "stderr",
     "output_type": "stream",
     "text": [
      "Metric loss/val improved by 0.000 >= min_delta = 0.0001. New best score: 0.000\n"
     ]
    },
    {
     "name": "stdout",
     "output_type": "stream",
     "text": [
      "Epoch 36 [35/35] {'loss': '0.0184'}}\r"
     ]
    },
    {
     "name": "stderr",
     "output_type": "stream",
     "text": [
      "Metric loss/val improved by 0.000 >= min_delta = 0.0001. New best score: 0.000\n"
     ]
    },
    {
     "name": "stdout",
     "output_type": "stream",
     "text": [
      "Epoch 56 [35/35] {'loss': '0.0193'}}\r"
     ]
    },
    {
     "name": "stderr",
     "output_type": "stream",
     "text": [
      "Monitored metric loss/val did not improve in the last 20 records. Best score: 0.000. Signaling Trainer to stop.\n",
      "GPU available: True, used: True\n",
      "TPU available: False, using: 0 TPU cores\n",
      "LOCAL_RANK: 0 - CUDA_VISIBLE_DEVICES: [0]\n",
      "\n",
      "  | Name               | Type             | Params\n",
      "--------------------------------------------------------\n",
      "0 | model              | fc               | 127 K \n",
      "1 | criteria           | CrossEntropyLoss | 0     \n",
      "2 | valid_metrics      | MetricCollection | 0     \n",
      "3 | valid_dummy_metric | AUROC            | 0     \n",
      "--------------------------------------------------------\n",
      "127 K     Trainable params\n",
      "0         Non-trainable params\n",
      "127 K     Total params\n",
      "0.509     Total estimated model params size (MB)\n"
     ]
    },
    {
     "name": "stdout",
     "output_type": "stream",
     "text": [
      "Architecture [fc] was created\n",
      "***Defined hyperparameters:***\n",
      "\"arch\":                {'name': 'fc', 'args': {'num_channels': 1, 'num_classes': 3}}\n",
      "\"checkpoint_path\":     None\n",
      "\"class_weights\":       tensor([1.2466, 0.6500, 1.5167], device='cuda:0')\n",
      "\"hp_metrics\":          ['loss/train', 'loss/val', 'Accuracy/val', 'AUROC/val', 'Precision/val', 'Recall/val', 'Specificity/val']\n",
      "\"loss\":                {'type': 'CrossEntropyLoss', 'args': {'weight': True}}\n",
      "\"optimizer\":           {'type': 'Adam', 'args': {'lr': 0.001, 'weight_decay': 0, 'amsgrad': False}}\n",
      "\"roi_hparams\":         {'enable': True, 'output_shape': [9, 9, 9], 'boundary_boxes': {2: [[23, 48, 57, 76, 34, 49], [25, 31, 55, 68, 69, 79], [25, 85, 69, 95, 30, 65], [42, 12, 79, 50, 33, 47], [22, 18, 49, 49, 16, 29], [40, 33, 79, 76, 9, 26], [70, 28, 79, 72, 19, 63], [11, 9, 63, 78, 26, 78]], 1: [[29, 19, 68, 38, 1, 18], [46, 38, 78, 61, 10, 25], [65, 25, 79, 42, 12, 59], [27, 33, 62, 69, 70, 79], [10, 10, 53, 23, 25, 61], [24, 63, 49, 86, 11, 33], [34, 32, 55, 60, 37, 55], [40, 10, 79, 77, 11, 68]], 0: [[63, 63, 79, 84, 27, 61], [26, 21, 61, 53, 31, 44], [45, 43, 73, 84, 1, 16], [11, 8, 53, 21, 20, 40], [31, 10, 60, 26, 45, 69], [27, 85, 70, 95, 28, 62], [22, 38, 73, 95, 16, 48], [19, 55, 70, 84, 71, 79], [46, 18, 79, 40, 10, 30], [11, 8, 79, 44, 10, 70]]}}\n",
      "\"weight_distribution\": None\n",
      "Enabled callbacks:  ['LitProgressBar', 'EarlyStopping']\n",
      "Dataloader fold: 10\n",
      "Epoch 1 [35/35] {'loss': '1.02'}\r"
     ]
    },
    {
     "name": "stderr",
     "output_type": "stream",
     "text": [
      "Metric loss/val improved. New best score: 0.852\n"
     ]
    },
    {
     "name": "stdout",
     "output_type": "stream",
     "text": [
      "Epoch 2 [35/35] {'loss': '0.74'}}\r"
     ]
    },
    {
     "name": "stderr",
     "output_type": "stream",
     "text": [
      "Metric loss/val improved by 0.386 >= min_delta = 0.0001. New best score: 0.466\n"
     ]
    },
    {
     "name": "stdout",
     "output_type": "stream",
     "text": [
      "Epoch 3 [35/35] {'loss': '0.384'}\r"
     ]
    },
    {
     "name": "stderr",
     "output_type": "stream",
     "text": [
      "Metric loss/val improved by 0.322 >= min_delta = 0.0001. New best score: 0.145\n"
     ]
    },
    {
     "name": "stdout",
     "output_type": "stream",
     "text": [
      "Epoch 4 [35/35] {'loss': '0.191'}\r"
     ]
    },
    {
     "name": "stderr",
     "output_type": "stream",
     "text": [
      "Metric loss/val improved by 0.100 >= min_delta = 0.0001. New best score: 0.044\n"
     ]
    },
    {
     "name": "stdout",
     "output_type": "stream",
     "text": [
      "Epoch 5 [35/35] {'loss': '0.0993'}\r"
     ]
    },
    {
     "name": "stderr",
     "output_type": "stream",
     "text": [
      "Metric loss/val improved by 0.023 >= min_delta = 0.0001. New best score: 0.022\n"
     ]
    },
    {
     "name": "stdout",
     "output_type": "stream",
     "text": [
      "Epoch 6 [35/35] {'loss': '0.072'}}\r"
     ]
    },
    {
     "name": "stderr",
     "output_type": "stream",
     "text": [
      "Metric loss/val improved by 0.012 >= min_delta = 0.0001. New best score: 0.009\n"
     ]
    },
    {
     "name": "stdout",
     "output_type": "stream",
     "text": [
      "Epoch 7 [35/35] {'loss': '0.059'}}\r"
     ]
    },
    {
     "name": "stderr",
     "output_type": "stream",
     "text": [
      "Metric loss/val improved by 0.003 >= min_delta = 0.0001. New best score: 0.006\n"
     ]
    },
    {
     "name": "stdout",
     "output_type": "stream",
     "text": [
      "Epoch 8 [35/35] {'loss': '0.0278'}\r"
     ]
    },
    {
     "name": "stderr",
     "output_type": "stream",
     "text": [
      "Metric loss/val improved by 0.003 >= min_delta = 0.0001. New best score: 0.003\n"
     ]
    },
    {
     "name": "stdout",
     "output_type": "stream",
     "text": [
      "Epoch 12 [35/35] {'loss': '0.022'}}\r"
     ]
    },
    {
     "name": "stderr",
     "output_type": "stream",
     "text": [
      "Metric loss/val improved by 0.002 >= min_delta = 0.0001. New best score: 0.001\n"
     ]
    },
    {
     "name": "stdout",
     "output_type": "stream",
     "text": [
      "Epoch 17 [35/35] {'loss': '0.0181'}\r"
     ]
    },
    {
     "name": "stderr",
     "output_type": "stream",
     "text": [
      "Metric loss/val improved by 0.000 >= min_delta = 0.0001. New best score: 0.000\n"
     ]
    },
    {
     "name": "stdout",
     "output_type": "stream",
     "text": [
      "Epoch 20 [35/35] {'loss': '0.0135'}\r"
     ]
    },
    {
     "name": "stderr",
     "output_type": "stream",
     "text": [
      "Metric loss/val improved by 0.000 >= min_delta = 0.0001. New best score: 0.000\n"
     ]
    },
    {
     "name": "stdout",
     "output_type": "stream",
     "text": [
      "Epoch 27 [35/35] {'loss': '0.0186'}\r"
     ]
    },
    {
     "name": "stderr",
     "output_type": "stream",
     "text": [
      "Metric loss/val improved by 0.000 >= min_delta = 0.0001. New best score: 0.000\n"
     ]
    },
    {
     "name": "stdout",
     "output_type": "stream",
     "text": [
      "Epoch 42 [35/35] {'loss': '0.00895'}\r"
     ]
    },
    {
     "name": "stderr",
     "output_type": "stream",
     "text": [
      "Metric loss/val improved by 0.000 >= min_delta = 0.0001. New best score: 0.000\n"
     ]
    },
    {
     "name": "stdout",
     "output_type": "stream",
     "text": [
      "Epoch 62 [35/35] {'loss': '0.0463'}}\r"
     ]
    },
    {
     "name": "stderr",
     "output_type": "stream",
     "text": [
      "Monitored metric loss/val did not improve in the last 20 records. Best score: 0.000. Signaling Trainer to stop.\n"
     ]
    }
   ],
   "source": [
    "for name in ['roi3']:\n",
    "    run_me(name, i_limit=-1)"
   ]
  },
  {
   "cell_type": "code",
   "execution_count": null,
   "metadata": {},
   "outputs": [],
   "source": []
  }
 ],
 "metadata": {
  "kernelspec": {
   "display_name": "Master-thesis",
   "language": "python",
   "name": "master-thesis"
  },
  "language_info": {
   "codemirror_mode": {
    "name": "ipython",
    "version": 3
   },
   "file_extension": ".py",
   "mimetype": "text/x-python",
   "name": "python",
   "nbconvert_exporter": "python",
   "pygments_lexer": "ipython3",
   "version": "3.9.2"
  }
 },
 "nbformat": 4,
 "nbformat_minor": 4
}
