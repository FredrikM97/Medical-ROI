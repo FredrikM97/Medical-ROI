{
 "cells": [
  {
   "cell_type": "code",
   "execution_count": 16,
   "metadata": {},
   "outputs": [
    {
     "name": "stdout",
     "output_type": "stream",
     "text": [
      "The autoreload extension is already loaded. To reload it, use:\n",
      "  %reload_ext autoreload\n"
     ]
    }
   ],
   "source": [
    "%load_ext autoreload\n",
    "%autoreload 2\n",
    "import sys\n",
    "if '..' not in sys.path: sys.path.append(\"..\")"
   ]
  },
  {
   "cell_type": "markdown",
   "metadata": {},
   "source": [
    "# Segmentation and boundary-box regression"
   ]
  },
  {
   "cell_type": "code",
   "execution_count": 17,
   "metadata": {},
   "outputs": [],
   "source": [
    "import torch\n",
    "import time\n",
    "\n",
    "from src.utils.decorator import close_on_finish_decorator\n",
    "from src.utils.utils import create_directory\n",
    "from src.agent import Agent"
   ]
  },
  {
   "cell_type": "code",
   "execution_count": null,
   "metadata": {},
   "outputs": [],
   "source": [
    "import logging\n",
    "# configure logging at the root level of lightning\n",
    "logging.getLogger(\"pytorch_lightning\").setLevel(logging.ERROR)"
   ]
  },
  {
   "cell_type": "code",
   "execution_count": 18,
   "metadata": {},
   "outputs": [],
   "source": [
    "def run_me(name,i_limit=5,base_config='base'):\n",
    "    torch.cuda.empty_cache()\n",
    "    agent = Agent(name, base_config=base_config)\n",
    "    logged_metrics = []\n",
    "    \n",
    "    try:\n",
    "        i = 0\n",
    "        while True:\n",
    "            agent.run()\n",
    "            agent.save_hparams()\n",
    "            with open(agent.trainer.logger.log_dir.rsplit(\"/\",1)[0] + \"/logged_metrics\", 'a+') as f:\n",
    "                f.write(str(agent.trainer.logged_metrics))\n",
    "                \n",
    "            logged_metrics.append(agent.trainer.logged_metrics)\n",
    "            \n",
    "            \n",
    "            time.sleep(10)\n",
    "            i += 1\n",
    "\n",
    "            if not agent.dataloader.next_fold() or i == i_limit and i_limit != -1: break\n",
    "            torch.cuda.empty_cache()\n",
    "    except Exception as e:\n",
    "        torch.cuda.empty_cache()\n",
    "        raise e\n",
    "    print(f\"{name}: {logged_metrics}\")"
   ]
  },
  {
   "cell_type": "markdown",
   "metadata": {},
   "source": [
    "## Train on ROI"
   ]
  },
  {
   "cell_type": "code",
   "execution_count": 10,
   "metadata": {
    "collapsed": true,
    "jupyter": {
     "outputs_hidden": true
    },
    "tags": []
   },
   "outputs": [
    {
     "name": "stderr",
     "output_type": "stream",
     "text": [
      "GPU available: True, used: True\n",
      "TPU available: False, using: 0 TPU cores\n",
      "GPU available: True, used: True\n",
      "TPU available: False, using: 0 TPU cores\n",
      "Missing logger folder: /var/metrics/codetests/logs/tb/final/ROI5/20210610220049\n",
      "GPU available: True, used: True\n",
      "TPU available: False, using: 0 TPU cores\n",
      "LOCAL_RANK: 0 - CUDA_VISIBLE_DEVICES: [0]\n"
     ]
    },
    {
     "name": "stdout",
     "output_type": "stream",
     "text": [
      "[23, 17, 20]\n",
      "[23, 17, 20]\n",
      "/var/metrics/codetests/logs/tb/final/ROI5/20210610220049/\n",
      "[23, 17, 20]\n",
      "Dataloader fold: 1\n"
     ]
    },
    {
     "name": "stderr",
     "output_type": "stream",
     "text": [
      "\n",
      "  | Name               | Type             | Params\n",
      "--------------------------------------------------------\n",
      "0 | model              | fc               | 1.0 M \n",
      "1 | criteria           | CrossEntropyLoss | 0     \n",
      "2 | valid_metrics      | MetricCollection | 0     \n",
      "3 | valid_dummy_metric | AUROC            | 0     \n",
      "--------------------------------------------------------\n",
      "1.0 M     Trainable params\n",
      "0         Non-trainable params\n",
      "1.0 M     Total params\n",
      "4.140     Total estimated model params size (MB)\n"
     ]
    },
    {
     "name": "stdout",
     "output_type": "stream",
     "text": [
      "Epoch 1 [35/35] {'loss': '0.876'}\r"
     ]
    },
    {
     "name": "stderr",
     "output_type": "stream",
     "text": [
      "Metric loss/val improved. New best score: 0.862\n"
     ]
    },
    {
     "name": "stdout",
     "output_type": "stream",
     "text": [
      "Epoch 2 [35/35] {'loss': '0.659'}\r"
     ]
    },
    {
     "name": "stderr",
     "output_type": "stream",
     "text": [
      "Metric loss/val improved by 0.108 >= min_delta = 0.0001. New best score: 0.754\n"
     ]
    },
    {
     "name": "stdout",
     "output_type": "stream",
     "text": [
      "Epoch 4 [35/35] {'loss': '0.516'}\r"
     ]
    },
    {
     "name": "stderr",
     "output_type": "stream",
     "text": [
      "Metric loss/val improved by 0.267 >= min_delta = 0.0001. New best score: 0.487\n"
     ]
    },
    {
     "name": "stdout",
     "output_type": "stream",
     "text": [
      "Epoch 6 [35/35] {'loss': '0.47'}}\r"
     ]
    },
    {
     "name": "stderr",
     "output_type": "stream",
     "text": [
      "Metric loss/val improved by 0.094 >= min_delta = 0.0001. New best score: 0.393\n"
     ]
    },
    {
     "name": "stdout",
     "output_type": "stream",
     "text": [
      "Epoch 8 [35/35] {'loss': '0.374'}\r"
     ]
    },
    {
     "name": "stderr",
     "output_type": "stream",
     "text": [
      "Metric loss/val improved by 0.009 >= min_delta = 0.0001. New best score: 0.385\n"
     ]
    },
    {
     "name": "stdout",
     "output_type": "stream",
     "text": [
      "Epoch 9 [35/35] {'loss': '0.41'}}\r"
     ]
    },
    {
     "name": "stderr",
     "output_type": "stream",
     "text": [
      "Metric loss/val improved by 0.040 >= min_delta = 0.0001. New best score: 0.345\n"
     ]
    },
    {
     "name": "stdout",
     "output_type": "stream",
     "text": [
      "Epoch 10 [35/35] {'loss': '0.431'}\r"
     ]
    },
    {
     "name": "stderr",
     "output_type": "stream",
     "text": [
      "Metric loss/val improved by 0.003 >= min_delta = 0.0001. New best score: 0.342\n"
     ]
    },
    {
     "name": "stdout",
     "output_type": "stream",
     "text": [
      "Epoch 13 [35/35] {'loss': '0.394'}\r"
     ]
    },
    {
     "name": "stderr",
     "output_type": "stream",
     "text": [
      "Metric loss/val improved by 0.040 >= min_delta = 0.0001. New best score: 0.302\n"
     ]
    },
    {
     "name": "stdout",
     "output_type": "stream",
     "text": [
      "Epoch 19 [35/35] {'loss': '0.293'}\r"
     ]
    },
    {
     "name": "stderr",
     "output_type": "stream",
     "text": [
      "Metric loss/val improved by 0.007 >= min_delta = 0.0001. New best score: 0.294\n"
     ]
    },
    {
     "name": "stdout",
     "output_type": "stream",
     "text": [
      "Epoch 24 [35/35] {'loss': '0.379'}\r"
     ]
    },
    {
     "name": "stderr",
     "output_type": "stream",
     "text": [
      "Metric loss/val improved by 0.012 >= min_delta = 0.0001. New best score: 0.282\n"
     ]
    },
    {
     "name": "stdout",
     "output_type": "stream",
     "text": [
      "Epoch 27 [35/35] {'loss': '0.378'}\r"
     ]
    },
    {
     "name": "stderr",
     "output_type": "stream",
     "text": [
      "Metric loss/val improved by 0.001 >= min_delta = 0.0001. New best score: 0.282\n"
     ]
    },
    {
     "name": "stdout",
     "output_type": "stream",
     "text": [
      "Epoch 29 [35/35] {'loss': '0.325'}\r"
     ]
    },
    {
     "name": "stderr",
     "output_type": "stream",
     "text": [
      "Metric loss/val improved by 0.018 >= min_delta = 0.0001. New best score: 0.263\n"
     ]
    },
    {
     "name": "stdout",
     "output_type": "stream",
     "text": [
      "Epoch 31 [35/35] {'loss': '0.362'}\r"
     ]
    },
    {
     "name": "stderr",
     "output_type": "stream",
     "text": [
      "Metric loss/val improved by 0.008 >= min_delta = 0.0001. New best score: 0.255\n"
     ]
    },
    {
     "name": "stdout",
     "output_type": "stream",
     "text": [
      "Epoch 43 [35/35] {'loss': '0.317'}\r"
     ]
    },
    {
     "name": "stderr",
     "output_type": "stream",
     "text": [
      "Metric loss/val improved by 0.015 >= min_delta = 0.0001. New best score: 0.239\n"
     ]
    },
    {
     "name": "stdout",
     "output_type": "stream",
     "text": [
      "Epoch 50 [35/35] {'loss': '0.354'}\r"
     ]
    },
    {
     "name": "stderr",
     "output_type": "stream",
     "text": [
      "Metric loss/val improved by 0.009 >= min_delta = 0.0001. New best score: 0.231\n"
     ]
    },
    {
     "name": "stdout",
     "output_type": "stream",
     "text": [
      "Epoch 51 [35/35] {'loss': '0.292'}\r"
     ]
    },
    {
     "name": "stderr",
     "output_type": "stream",
     "text": [
      "Metric loss/val improved by 0.012 >= min_delta = 0.0001. New best score: 0.219\n"
     ]
    },
    {
     "name": "stdout",
     "output_type": "stream",
     "text": [
      "Epoch 54 [35/35] {'loss': '0.306'}\r"
     ]
    },
    {
     "name": "stderr",
     "output_type": "stream",
     "text": [
      "Metric loss/val improved by 0.015 >= min_delta = 0.0001. New best score: 0.204\n"
     ]
    },
    {
     "name": "stdout",
     "output_type": "stream",
     "text": [
      "Epoch 74 [35/35] {'loss': '0.35'}}\r"
     ]
    },
    {
     "name": "stderr",
     "output_type": "stream",
     "text": [
      "Monitored metric loss/val did not improve in the last 20 records. Best score: 0.204. Signaling Trainer to stop.\n",
      "GPU available: True, used: True\n",
      "TPU available: False, using: 0 TPU cores\n",
      "LOCAL_RANK: 0 - CUDA_VISIBLE_DEVICES: [0]\n",
      "\n",
      "  | Name               | Type             | Params\n",
      "--------------------------------------------------------\n",
      "0 | model              | fc               | 1.0 M \n",
      "1 | criteria           | CrossEntropyLoss | 0     \n",
      "2 | valid_metrics      | MetricCollection | 0     \n",
      "3 | valid_dummy_metric | AUROC            | 0     \n",
      "--------------------------------------------------------\n",
      "1.0 M     Trainable params\n",
      "0         Non-trainable params\n",
      "1.0 M     Total params\n",
      "4.140     Total estimated model params size (MB)\n"
     ]
    },
    {
     "name": "stdout",
     "output_type": "stream",
     "text": [
      "[23, 17, 20]\n",
      "Dataloader fold: 2\n",
      "Epoch 1 [35/35] {'loss': '0.834'}\r"
     ]
    },
    {
     "name": "stderr",
     "output_type": "stream",
     "text": [
      "Metric loss/val improved. New best score: 0.920\n"
     ]
    },
    {
     "name": "stdout",
     "output_type": "stream",
     "text": [
      "Epoch 2 [35/35] {'loss': '0.775'}\r"
     ]
    },
    {
     "name": "stderr",
     "output_type": "stream",
     "text": [
      "Metric loss/val improved by 0.150 >= min_delta = 0.0001. New best score: 0.770\n"
     ]
    },
    {
     "name": "stdout",
     "output_type": "stream",
     "text": [
      "Epoch 3 [35/35] {'loss': '0.635'}\r"
     ]
    },
    {
     "name": "stderr",
     "output_type": "stream",
     "text": [
      "Metric loss/val improved by 0.097 >= min_delta = 0.0001. New best score: 0.674\n"
     ]
    },
    {
     "name": "stdout",
     "output_type": "stream",
     "text": [
      "Epoch 4 [35/35] {'loss': '0.547'}\r"
     ]
    },
    {
     "name": "stderr",
     "output_type": "stream",
     "text": [
      "Metric loss/val improved by 0.167 >= min_delta = 0.0001. New best score: 0.507\n"
     ]
    },
    {
     "name": "stdout",
     "output_type": "stream",
     "text": [
      "Epoch 6 [35/35] {'loss': '0.552'}\r"
     ]
    },
    {
     "name": "stderr",
     "output_type": "stream",
     "text": [
      "Metric loss/val improved by 0.081 >= min_delta = 0.0001. New best score: 0.426\n"
     ]
    },
    {
     "name": "stdout",
     "output_type": "stream",
     "text": [
      "Epoch 8 [35/35] {'loss': '0.424'}\r"
     ]
    },
    {
     "name": "stderr",
     "output_type": "stream",
     "text": [
      "Metric loss/val improved by 0.028 >= min_delta = 0.0001. New best score: 0.398\n"
     ]
    },
    {
     "name": "stdout",
     "output_type": "stream",
     "text": [
      "Epoch 11 [35/35] {'loss': '0.419'}\r"
     ]
    },
    {
     "name": "stderr",
     "output_type": "stream",
     "text": [
      "Metric loss/val improved by 0.004 >= min_delta = 0.0001. New best score: 0.394\n"
     ]
    },
    {
     "name": "stdout",
     "output_type": "stream",
     "text": [
      "Epoch 12 [35/35] {'loss': '0.416'}\r"
     ]
    },
    {
     "name": "stderr",
     "output_type": "stream",
     "text": [
      "Metric loss/val improved by 0.011 >= min_delta = 0.0001. New best score: 0.383\n"
     ]
    },
    {
     "name": "stdout",
     "output_type": "stream",
     "text": [
      "Epoch 13 [35/35] {'loss': '0.417'}\r"
     ]
    },
    {
     "name": "stderr",
     "output_type": "stream",
     "text": [
      "Metric loss/val improved by 0.014 >= min_delta = 0.0001. New best score: 0.368\n"
     ]
    },
    {
     "name": "stdout",
     "output_type": "stream",
     "text": [
      "Epoch 14 [35/35] {'loss': '0.423'}\r"
     ]
    },
    {
     "name": "stderr",
     "output_type": "stream",
     "text": [
      "Metric loss/val improved by 0.031 >= min_delta = 0.0001. New best score: 0.337\n"
     ]
    },
    {
     "name": "stdout",
     "output_type": "stream",
     "text": [
      "Epoch 18 [35/35] {'loss': '0.376'}\r"
     ]
    },
    {
     "name": "stderr",
     "output_type": "stream",
     "text": [
      "Metric loss/val improved by 0.021 >= min_delta = 0.0001. New best score: 0.316\n"
     ]
    },
    {
     "name": "stdout",
     "output_type": "stream",
     "text": [
      "Epoch 21 [35/35] {'loss': '0.333'}\r"
     ]
    },
    {
     "name": "stderr",
     "output_type": "stream",
     "text": [
      "Metric loss/val improved by 0.020 >= min_delta = 0.0001. New best score: 0.296\n"
     ]
    },
    {
     "name": "stdout",
     "output_type": "stream",
     "text": [
      "Epoch 25 [35/35] {'loss': '0.377'}\r"
     ]
    },
    {
     "name": "stderr",
     "output_type": "stream",
     "text": [
      "Metric loss/val improved by 0.001 >= min_delta = 0.0001. New best score: 0.295\n"
     ]
    },
    {
     "name": "stdout",
     "output_type": "stream",
     "text": [
      "Epoch 34 [35/35] {'loss': '0.312'}\r"
     ]
    },
    {
     "name": "stderr",
     "output_type": "stream",
     "text": [
      "Metric loss/val improved by 0.014 >= min_delta = 0.0001. New best score: 0.281\n"
     ]
    },
    {
     "name": "stdout",
     "output_type": "stream",
     "text": [
      "Epoch 37 [35/35] {'loss': '0.31'}}\r"
     ]
    },
    {
     "name": "stderr",
     "output_type": "stream",
     "text": [
      "Metric loss/val improved by 0.022 >= min_delta = 0.0001. New best score: 0.259\n"
     ]
    },
    {
     "name": "stdout",
     "output_type": "stream",
     "text": [
      "Epoch 57 [35/35] {'loss': '0.346'}\r"
     ]
    },
    {
     "name": "stderr",
     "output_type": "stream",
     "text": [
      "Monitored metric loss/val did not improve in the last 20 records. Best score: 0.259. Signaling Trainer to stop.\n",
      "GPU available: True, used: True\n",
      "TPU available: False, using: 0 TPU cores\n",
      "LOCAL_RANK: 0 - CUDA_VISIBLE_DEVICES: [0]\n",
      "\n",
      "  | Name               | Type             | Params\n",
      "--------------------------------------------------------\n",
      "0 | model              | fc               | 1.0 M \n",
      "1 | criteria           | CrossEntropyLoss | 0     \n",
      "2 | valid_metrics      | MetricCollection | 0     \n",
      "3 | valid_dummy_metric | AUROC            | 0     \n",
      "--------------------------------------------------------\n",
      "1.0 M     Trainable params\n",
      "0         Non-trainable params\n",
      "1.0 M     Total params\n",
      "4.140     Total estimated model params size (MB)\n"
     ]
    },
    {
     "name": "stdout",
     "output_type": "stream",
     "text": [
      "[23, 17, 20]\n",
      "Dataloader fold: 3\n",
      "Epoch 1 [35/35] {'loss': '0.837'}\r"
     ]
    },
    {
     "name": "stderr",
     "output_type": "stream",
     "text": [
      "Metric loss/val improved. New best score: 0.953\n"
     ]
    },
    {
     "name": "stdout",
     "output_type": "stream",
     "text": [
      "Epoch 2 [35/35] {'loss': '0.783'}\r"
     ]
    },
    {
     "name": "stderr",
     "output_type": "stream",
     "text": [
      "Metric loss/val improved by 0.151 >= min_delta = 0.0001. New best score: 0.803\n"
     ]
    },
    {
     "name": "stdout",
     "output_type": "stream",
     "text": [
      "Epoch 3 [35/35] {'loss': '0.744'}\r"
     ]
    },
    {
     "name": "stderr",
     "output_type": "stream",
     "text": [
      "Metric loss/val improved by 0.020 >= min_delta = 0.0001. New best score: 0.783\n"
     ]
    },
    {
     "name": "stdout",
     "output_type": "stream",
     "text": [
      "Epoch 5 [35/35] {'loss': '0.565'}\r"
     ]
    },
    {
     "name": "stderr",
     "output_type": "stream",
     "text": [
      "Metric loss/val improved by 0.086 >= min_delta = 0.0001. New best score: 0.697\n"
     ]
    },
    {
     "name": "stdout",
     "output_type": "stream",
     "text": [
      "Epoch 6 [35/35] {'loss': '0.613'}\r"
     ]
    },
    {
     "name": "stderr",
     "output_type": "stream",
     "text": [
      "Metric loss/val improved by 0.178 >= min_delta = 0.0001. New best score: 0.519\n"
     ]
    },
    {
     "name": "stdout",
     "output_type": "stream",
     "text": [
      "Epoch 9 [35/35] {'loss': '0.49'}}\r"
     ]
    },
    {
     "name": "stderr",
     "output_type": "stream",
     "text": [
      "Metric loss/val improved by 0.082 >= min_delta = 0.0001. New best score: 0.437\n"
     ]
    },
    {
     "name": "stdout",
     "output_type": "stream",
     "text": [
      "Epoch 10 [35/35] {'loss': '0.515'}\r"
     ]
    },
    {
     "name": "stderr",
     "output_type": "stream",
     "text": [
      "Metric loss/val improved by 0.021 >= min_delta = 0.0001. New best score: 0.416\n"
     ]
    },
    {
     "name": "stdout",
     "output_type": "stream",
     "text": [
      "Epoch 11 [35/35] {'loss': '0.395'}\r"
     ]
    },
    {
     "name": "stderr",
     "output_type": "stream",
     "text": [
      "Metric loss/val improved by 0.055 >= min_delta = 0.0001. New best score: 0.360\n"
     ]
    },
    {
     "name": "stdout",
     "output_type": "stream",
     "text": [
      "Epoch 15 [35/35] {'loss': '0.342'}\r"
     ]
    },
    {
     "name": "stderr",
     "output_type": "stream",
     "text": [
      "Metric loss/val improved by 0.031 >= min_delta = 0.0001. New best score: 0.329\n"
     ]
    },
    {
     "name": "stdout",
     "output_type": "stream",
     "text": [
      "Epoch 27 [35/35] {'loss': '0.379'}\r"
     ]
    },
    {
     "name": "stderr",
     "output_type": "stream",
     "text": [
      "Metric loss/val improved by 0.017 >= min_delta = 0.0001. New best score: 0.313\n"
     ]
    },
    {
     "name": "stdout",
     "output_type": "stream",
     "text": [
      "Epoch 32 [35/35] {'loss': '0.368'}\r"
     ]
    },
    {
     "name": "stderr",
     "output_type": "stream",
     "text": [
      "Metric loss/val improved by 0.002 >= min_delta = 0.0001. New best score: 0.310\n"
     ]
    },
    {
     "name": "stdout",
     "output_type": "stream",
     "text": [
      "Epoch 33 [35/35] {'loss': '0.367'}\r"
     ]
    },
    {
     "name": "stderr",
     "output_type": "stream",
     "text": [
      "Metric loss/val improved by 0.017 >= min_delta = 0.0001. New best score: 0.293\n"
     ]
    },
    {
     "name": "stdout",
     "output_type": "stream",
     "text": [
      "Epoch 36 [35/35] {'loss': '0.356'}\r"
     ]
    },
    {
     "name": "stderr",
     "output_type": "stream",
     "text": [
      "Metric loss/val improved by 0.037 >= min_delta = 0.0001. New best score: 0.255\n"
     ]
    },
    {
     "name": "stdout",
     "output_type": "stream",
     "text": [
      "Epoch 52 [35/35] {'loss': '0.343'}\r"
     ]
    },
    {
     "name": "stderr",
     "output_type": "stream",
     "text": [
      "Metric loss/val improved by 0.017 >= min_delta = 0.0001. New best score: 0.239\n"
     ]
    },
    {
     "name": "stdout",
     "output_type": "stream",
     "text": [
      "Epoch 53 [35/35] {'loss': '0.288'}\r"
     ]
    },
    {
     "name": "stderr",
     "output_type": "stream",
     "text": [
      "Metric loss/val improved by 0.020 >= min_delta = 0.0001. New best score: 0.219\n"
     ]
    },
    {
     "name": "stdout",
     "output_type": "stream",
     "text": [
      "Epoch 64 [35/35] {'loss': '0.277'}\r"
     ]
    },
    {
     "name": "stderr",
     "output_type": "stream",
     "text": [
      "Metric loss/val improved by 0.007 >= min_delta = 0.0001. New best score: 0.212\n"
     ]
    },
    {
     "name": "stdout",
     "output_type": "stream",
     "text": [
      "Epoch 84 [35/35] {'loss': '0.286'}\r"
     ]
    },
    {
     "name": "stderr",
     "output_type": "stream",
     "text": [
      "Monitored metric loss/val did not improve in the last 20 records. Best score: 0.212. Signaling Trainer to stop.\n",
      "GPU available: True, used: True\n",
      "TPU available: False, using: 0 TPU cores\n",
      "LOCAL_RANK: 0 - CUDA_VISIBLE_DEVICES: [0]\n",
      "\n",
      "  | Name               | Type             | Params\n",
      "--------------------------------------------------------\n",
      "0 | model              | fc               | 1.0 M \n",
      "1 | criteria           | CrossEntropyLoss | 0     \n",
      "2 | valid_metrics      | MetricCollection | 0     \n",
      "3 | valid_dummy_metric | AUROC            | 0     \n",
      "--------------------------------------------------------\n",
      "1.0 M     Trainable params\n",
      "0         Non-trainable params\n",
      "1.0 M     Total params\n",
      "4.140     Total estimated model params size (MB)\n"
     ]
    },
    {
     "name": "stdout",
     "output_type": "stream",
     "text": [
      "[23, 17, 20]\n",
      "Dataloader fold: 4\n",
      "Epoch 1 [35/35] {'loss': '0.843'}\r"
     ]
    },
    {
     "name": "stderr",
     "output_type": "stream",
     "text": [
      "Metric loss/val improved. New best score: 0.918\n"
     ]
    },
    {
     "name": "stdout",
     "output_type": "stream",
     "text": [
      "Epoch 2 [35/35] {'loss': '0.808'}\r"
     ]
    },
    {
     "name": "stderr",
     "output_type": "stream",
     "text": [
      "Metric loss/val improved by 0.090 >= min_delta = 0.0001. New best score: 0.827\n"
     ]
    },
    {
     "name": "stdout",
     "output_type": "stream",
     "text": [
      "Epoch 3 [35/35] {'loss': '0.724'}\r"
     ]
    },
    {
     "name": "stderr",
     "output_type": "stream",
     "text": [
      "Metric loss/val improved by 0.056 >= min_delta = 0.0001. New best score: 0.771\n"
     ]
    },
    {
     "name": "stdout",
     "output_type": "stream",
     "text": [
      "Epoch 4 [35/35] {'loss': '0.548'}\r"
     ]
    },
    {
     "name": "stderr",
     "output_type": "stream",
     "text": [
      "Metric loss/val improved by 0.200 >= min_delta = 0.0001. New best score: 0.571\n"
     ]
    },
    {
     "name": "stdout",
     "output_type": "stream",
     "text": [
      "Epoch 5 [35/35] {'loss': '0.502'}\r"
     ]
    },
    {
     "name": "stderr",
     "output_type": "stream",
     "text": [
      "Metric loss/val improved by 0.041 >= min_delta = 0.0001. New best score: 0.530\n"
     ]
    },
    {
     "name": "stdout",
     "output_type": "stream",
     "text": [
      "Epoch 6 [35/35] {'loss': '0.422'}\r"
     ]
    },
    {
     "name": "stderr",
     "output_type": "stream",
     "text": [
      "Metric loss/val improved by 0.025 >= min_delta = 0.0001. New best score: 0.505\n"
     ]
    },
    {
     "name": "stdout",
     "output_type": "stream",
     "text": [
      "Epoch 7 [35/35] {'loss': '0.418'}\r"
     ]
    },
    {
     "name": "stderr",
     "output_type": "stream",
     "text": [
      "Metric loss/val improved by 0.102 >= min_delta = 0.0001. New best score: 0.403\n"
     ]
    },
    {
     "name": "stdout",
     "output_type": "stream",
     "text": [
      "Epoch 8 [35/35] {'loss': '0.404'}\r"
     ]
    },
    {
     "name": "stderr",
     "output_type": "stream",
     "text": [
      "Metric loss/val improved by 0.029 >= min_delta = 0.0001. New best score: 0.374\n"
     ]
    },
    {
     "name": "stdout",
     "output_type": "stream",
     "text": [
      "Epoch 11 [35/35] {'loss': '0.399'}\r"
     ]
    },
    {
     "name": "stderr",
     "output_type": "stream",
     "text": [
      "Metric loss/val improved by 0.030 >= min_delta = 0.0001. New best score: 0.344\n"
     ]
    },
    {
     "name": "stdout",
     "output_type": "stream",
     "text": [
      "Epoch 12 [35/35] {'loss': '0.364'}\r"
     ]
    },
    {
     "name": "stderr",
     "output_type": "stream",
     "text": [
      "Metric loss/val improved by 0.002 >= min_delta = 0.0001. New best score: 0.342\n"
     ]
    },
    {
     "name": "stdout",
     "output_type": "stream",
     "text": [
      "Epoch 13 [35/35] {'loss': '0.371'}\r"
     ]
    },
    {
     "name": "stderr",
     "output_type": "stream",
     "text": [
      "Metric loss/val improved by 0.016 >= min_delta = 0.0001. New best score: 0.326\n"
     ]
    },
    {
     "name": "stdout",
     "output_type": "stream",
     "text": [
      "Epoch 17 [35/35] {'loss': '0.358'}\r"
     ]
    },
    {
     "name": "stderr",
     "output_type": "stream",
     "text": [
      "Metric loss/val improved by 0.003 >= min_delta = 0.0001. New best score: 0.324\n"
     ]
    },
    {
     "name": "stdout",
     "output_type": "stream",
     "text": [
      "Epoch 25 [35/35] {'loss': '0.394'}\r"
     ]
    },
    {
     "name": "stderr",
     "output_type": "stream",
     "text": [
      "Metric loss/val improved by 0.017 >= min_delta = 0.0001. New best score: 0.306\n"
     ]
    },
    {
     "name": "stdout",
     "output_type": "stream",
     "text": [
      "Epoch 34 [35/35] {'loss': '0.396'}\r"
     ]
    },
    {
     "name": "stderr",
     "output_type": "stream",
     "text": [
      "Metric loss/val improved by 0.014 >= min_delta = 0.0001. New best score: 0.293\n"
     ]
    },
    {
     "name": "stdout",
     "output_type": "stream",
     "text": [
      "Epoch 35 [35/35] {'loss': '0.375'}\r"
     ]
    },
    {
     "name": "stderr",
     "output_type": "stream",
     "text": [
      "Metric loss/val improved by 0.005 >= min_delta = 0.0001. New best score: 0.287\n"
     ]
    },
    {
     "name": "stdout",
     "output_type": "stream",
     "text": [
      "Epoch 49 [35/35] {'loss': '0.358'}\r"
     ]
    },
    {
     "name": "stderr",
     "output_type": "stream",
     "text": [
      "Metric loss/val improved by 0.015 >= min_delta = 0.0001. New best score: 0.273\n"
     ]
    },
    {
     "name": "stdout",
     "output_type": "stream",
     "text": [
      "Epoch 56 [35/35] {'loss': '0.338'}\r"
     ]
    },
    {
     "name": "stderr",
     "output_type": "stream",
     "text": [
      "Metric loss/val improved by 0.028 >= min_delta = 0.0001. New best score: 0.245\n"
     ]
    },
    {
     "name": "stdout",
     "output_type": "stream",
     "text": [
      "Epoch 62 [35/35] {'loss': '0.338'}\r"
     ]
    },
    {
     "name": "stderr",
     "output_type": "stream",
     "text": [
      "Metric loss/val improved by 0.010 >= min_delta = 0.0001. New best score: 0.235\n"
     ]
    },
    {
     "name": "stdout",
     "output_type": "stream",
     "text": [
      "Epoch 82 [35/35] {'loss': '0.421'}\r"
     ]
    },
    {
     "name": "stderr",
     "output_type": "stream",
     "text": [
      "Monitored metric loss/val did not improve in the last 20 records. Best score: 0.235. Signaling Trainer to stop.\n",
      "GPU available: True, used: True\n",
      "TPU available: False, using: 0 TPU cores\n",
      "LOCAL_RANK: 0 - CUDA_VISIBLE_DEVICES: [0]\n",
      "\n",
      "  | Name               | Type             | Params\n",
      "--------------------------------------------------------\n",
      "0 | model              | fc               | 1.0 M \n",
      "1 | criteria           | CrossEntropyLoss | 0     \n",
      "2 | valid_metrics      | MetricCollection | 0     \n",
      "3 | valid_dummy_metric | AUROC            | 0     \n",
      "--------------------------------------------------------\n",
      "1.0 M     Trainable params\n",
      "0         Non-trainable params\n",
      "1.0 M     Total params\n",
      "4.140     Total estimated model params size (MB)\n"
     ]
    },
    {
     "name": "stdout",
     "output_type": "stream",
     "text": [
      "[23, 17, 20]\n",
      "Dataloader fold: 5\n",
      "Epoch 1 [35/35] {'loss': '0.842'}\r"
     ]
    },
    {
     "name": "stderr",
     "output_type": "stream",
     "text": [
      "Metric loss/val improved. New best score: 1.071\n"
     ]
    },
    {
     "name": "stdout",
     "output_type": "stream",
     "text": [
      "Epoch 2 [35/35] {'loss': '0.737'}\r"
     ]
    },
    {
     "name": "stderr",
     "output_type": "stream",
     "text": [
      "Metric loss/val improved by 0.252 >= min_delta = 0.0001. New best score: 0.819\n"
     ]
    },
    {
     "name": "stdout",
     "output_type": "stream",
     "text": [
      "Epoch 3 [35/35] {'loss': '0.718'}\r"
     ]
    },
    {
     "name": "stderr",
     "output_type": "stream",
     "text": [
      "Metric loss/val improved by 0.119 >= min_delta = 0.0001. New best score: 0.700\n"
     ]
    },
    {
     "name": "stdout",
     "output_type": "stream",
     "text": [
      "Epoch 4 [35/35] {'loss': '0.627'}\r"
     ]
    },
    {
     "name": "stderr",
     "output_type": "stream",
     "text": [
      "Metric loss/val improved by 0.083 >= min_delta = 0.0001. New best score: 0.617\n"
     ]
    },
    {
     "name": "stdout",
     "output_type": "stream",
     "text": [
      "Epoch 5 [35/35] {'loss': '0.617'}\r"
     ]
    },
    {
     "name": "stderr",
     "output_type": "stream",
     "text": [
      "Metric loss/val improved by 0.005 >= min_delta = 0.0001. New best score: 0.612\n"
     ]
    },
    {
     "name": "stdout",
     "output_type": "stream",
     "text": [
      "Epoch 6 [35/35] {'loss': '0.563'}\r"
     ]
    },
    {
     "name": "stderr",
     "output_type": "stream",
     "text": [
      "Metric loss/val improved by 0.023 >= min_delta = 0.0001. New best score: 0.588\n"
     ]
    },
    {
     "name": "stdout",
     "output_type": "stream",
     "text": [
      "Epoch 7 [35/35] {'loss': '0.443'}\r"
     ]
    },
    {
     "name": "stderr",
     "output_type": "stream",
     "text": [
      "Metric loss/val improved by 0.156 >= min_delta = 0.0001. New best score: 0.433\n"
     ]
    },
    {
     "name": "stdout",
     "output_type": "stream",
     "text": [
      "Epoch 9 [35/35] {'loss': '0.413'}\r"
     ]
    },
    {
     "name": "stderr",
     "output_type": "stream",
     "text": [
      "Metric loss/val improved by 0.063 >= min_delta = 0.0001. New best score: 0.369\n"
     ]
    },
    {
     "name": "stdout",
     "output_type": "stream",
     "text": [
      "Epoch 10 [35/35] {'loss': '0.415'}\r"
     ]
    },
    {
     "name": "stderr",
     "output_type": "stream",
     "text": [
      "Metric loss/val improved by 0.010 >= min_delta = 0.0001. New best score: 0.359\n"
     ]
    },
    {
     "name": "stdout",
     "output_type": "stream",
     "text": [
      "Epoch 28 [35/35] {'loss': '0.393'}\r"
     ]
    },
    {
     "name": "stderr",
     "output_type": "stream",
     "text": [
      "Metric loss/val improved by 0.018 >= min_delta = 0.0001. New best score: 0.342\n"
     ]
    },
    {
     "name": "stdout",
     "output_type": "stream",
     "text": [
      "Epoch 29 [35/35] {'loss': '0.401'}\r"
     ]
    },
    {
     "name": "stderr",
     "output_type": "stream",
     "text": [
      "Metric loss/val improved by 0.012 >= min_delta = 0.0001. New best score: 0.330\n"
     ]
    },
    {
     "name": "stdout",
     "output_type": "stream",
     "text": [
      "Epoch 30 [35/35] {'loss': '0.385'}\r"
     ]
    },
    {
     "name": "stderr",
     "output_type": "stream",
     "text": [
      "Metric loss/val improved by 0.026 >= min_delta = 0.0001. New best score: 0.304\n"
     ]
    },
    {
     "name": "stdout",
     "output_type": "stream",
     "text": [
      "Epoch 37 [35/35] {'loss': '0.448'}\r"
     ]
    },
    {
     "name": "stderr",
     "output_type": "stream",
     "text": [
      "Metric loss/val improved by 0.008 >= min_delta = 0.0001. New best score: 0.296\n"
     ]
    },
    {
     "name": "stdout",
     "output_type": "stream",
     "text": [
      "Epoch 41 [35/35] {'loss': '0.353'}\r"
     ]
    },
    {
     "name": "stderr",
     "output_type": "stream",
     "text": [
      "Metric loss/val improved by 0.014 >= min_delta = 0.0001. New best score: 0.282\n"
     ]
    },
    {
     "name": "stdout",
     "output_type": "stream",
     "text": [
      "Epoch 45 [35/35] {'loss': '0.323'}\r"
     ]
    },
    {
     "name": "stderr",
     "output_type": "stream",
     "text": [
      "Metric loss/val improved by 0.014 >= min_delta = 0.0001. New best score: 0.268\n"
     ]
    },
    {
     "name": "stdout",
     "output_type": "stream",
     "text": [
      "Epoch 61 [35/35] {'loss': '0.361'}\r"
     ]
    },
    {
     "name": "stderr",
     "output_type": "stream",
     "text": [
      "Metric loss/val improved by 0.014 >= min_delta = 0.0001. New best score: 0.254\n"
     ]
    },
    {
     "name": "stdout",
     "output_type": "stream",
     "text": [
      "Epoch 67 [35/35] {'loss': '0.317'}\r"
     ]
    },
    {
     "name": "stderr",
     "output_type": "stream",
     "text": [
      "Metric loss/val improved by 0.004 >= min_delta = 0.0001. New best score: 0.250\n"
     ]
    },
    {
     "name": "stdout",
     "output_type": "stream",
     "text": [
      "Epoch 84 [35/35] {'loss': '0.319'}\r"
     ]
    },
    {
     "name": "stderr",
     "output_type": "stream",
     "text": [
      "Metric loss/val improved by 0.014 >= min_delta = 0.0001. New best score: 0.237\n"
     ]
    },
    {
     "name": "stdout",
     "output_type": "stream",
     "text": [
      "Epoch 100 [35/35] {'loss': '0.366'}\r"
     ]
    },
    {
     "name": "stderr",
     "output_type": "stream",
     "text": [
      "GPU available: True, used: True\n",
      "TPU available: False, using: 0 TPU cores\n",
      "LOCAL_RANK: 0 - CUDA_VISIBLE_DEVICES: [0]\n",
      "\n",
      "  | Name               | Type             | Params\n",
      "--------------------------------------------------------\n",
      "0 | model              | fc               | 1.0 M \n",
      "1 | criteria           | CrossEntropyLoss | 0     \n",
      "2 | valid_metrics      | MetricCollection | 0     \n",
      "3 | valid_dummy_metric | AUROC            | 0     \n",
      "--------------------------------------------------------\n",
      "1.0 M     Trainable params\n",
      "0         Non-trainable params\n",
      "1.0 M     Total params\n",
      "4.140     Total estimated model params size (MB)\n"
     ]
    },
    {
     "name": "stdout",
     "output_type": "stream",
     "text": [
      "[23, 17, 20]\n",
      "Dataloader fold: 6\n",
      "Epoch 1 [35/35] {'loss': '0.834'}\r"
     ]
    },
    {
     "name": "stderr",
     "output_type": "stream",
     "text": [
      "Metric loss/val improved. New best score: 1.037\n"
     ]
    },
    {
     "name": "stdout",
     "output_type": "stream",
     "text": [
      "Epoch 4 [35/35] {'loss': '0.567'}\r"
     ]
    },
    {
     "name": "stderr",
     "output_type": "stream",
     "text": [
      "Metric loss/val improved by 0.382 >= min_delta = 0.0001. New best score: 0.654\n"
     ]
    },
    {
     "name": "stdout",
     "output_type": "stream",
     "text": [
      "Epoch 5 [35/35] {'loss': '0.591'}\r"
     ]
    },
    {
     "name": "stderr",
     "output_type": "stream",
     "text": [
      "Metric loss/val improved by 0.057 >= min_delta = 0.0001. New best score: 0.597\n"
     ]
    },
    {
     "name": "stdout",
     "output_type": "stream",
     "text": [
      "Epoch 6 [35/35] {'loss': '0.527'}\r"
     ]
    },
    {
     "name": "stderr",
     "output_type": "stream",
     "text": [
      "Metric loss/val improved by 0.025 >= min_delta = 0.0001. New best score: 0.572\n"
     ]
    },
    {
     "name": "stdout",
     "output_type": "stream",
     "text": [
      "Epoch 7 [35/35] {'loss': '0.505'}\r"
     ]
    },
    {
     "name": "stderr",
     "output_type": "stream",
     "text": [
      "Metric loss/val improved by 0.139 >= min_delta = 0.0001. New best score: 0.433\n"
     ]
    },
    {
     "name": "stdout",
     "output_type": "stream",
     "text": [
      "Epoch 9 [35/35] {'loss': '0.447'}\r"
     ]
    },
    {
     "name": "stderr",
     "output_type": "stream",
     "text": [
      "Metric loss/val improved by 0.019 >= min_delta = 0.0001. New best score: 0.414\n"
     ]
    },
    {
     "name": "stdout",
     "output_type": "stream",
     "text": [
      "Epoch 12 [35/35] {'loss': '0.479'}\r"
     ]
    },
    {
     "name": "stderr",
     "output_type": "stream",
     "text": [
      "Metric loss/val improved by 0.054 >= min_delta = 0.0001. New best score: 0.361\n"
     ]
    },
    {
     "name": "stdout",
     "output_type": "stream",
     "text": [
      "Epoch 18 [35/35] {'loss': '0.363'}\r"
     ]
    },
    {
     "name": "stderr",
     "output_type": "stream",
     "text": [
      "Metric loss/val improved by 0.048 >= min_delta = 0.0001. New best score: 0.313\n"
     ]
    },
    {
     "name": "stdout",
     "output_type": "stream",
     "text": [
      "Epoch 23 [35/35] {'loss': '0.332'}\r"
     ]
    },
    {
     "name": "stderr",
     "output_type": "stream",
     "text": [
      "Metric loss/val improved by 0.007 >= min_delta = 0.0001. New best score: 0.306\n"
     ]
    },
    {
     "name": "stdout",
     "output_type": "stream",
     "text": [
      "Epoch 27 [35/35] {'loss': '0.369'}\r"
     ]
    },
    {
     "name": "stderr",
     "output_type": "stream",
     "text": [
      "Metric loss/val improved by 0.008 >= min_delta = 0.0001. New best score: 0.298\n"
     ]
    },
    {
     "name": "stdout",
     "output_type": "stream",
     "text": [
      "Epoch 37 [35/35] {'loss': '0.358'}\r"
     ]
    },
    {
     "name": "stderr",
     "output_type": "stream",
     "text": [
      "Metric loss/val improved by 0.032 >= min_delta = 0.0001. New best score: 0.266\n"
     ]
    },
    {
     "name": "stdout",
     "output_type": "stream",
     "text": [
      "Epoch 43 [35/35] {'loss': '0.314'}\r"
     ]
    },
    {
     "name": "stderr",
     "output_type": "stream",
     "text": [
      "Metric loss/val improved by 0.008 >= min_delta = 0.0001. New best score: 0.259\n"
     ]
    },
    {
     "name": "stdout",
     "output_type": "stream",
     "text": [
      "Epoch 48 [35/35] {'loss': '0.306'}\r"
     ]
    },
    {
     "name": "stderr",
     "output_type": "stream",
     "text": [
      "Metric loss/val improved by 0.009 >= min_delta = 0.0001. New best score: 0.249\n"
     ]
    },
    {
     "name": "stdout",
     "output_type": "stream",
     "text": [
      "Epoch 49 [35/35] {'loss': '0.34'}}\r"
     ]
    },
    {
     "name": "stderr",
     "output_type": "stream",
     "text": [
      "Metric loss/val improved by 0.010 >= min_delta = 0.0001. New best score: 0.239\n"
     ]
    },
    {
     "name": "stdout",
     "output_type": "stream",
     "text": [
      "Epoch 51 [35/35] {'loss': '0.314'}\r"
     ]
    },
    {
     "name": "stderr",
     "output_type": "stream",
     "text": [
      "Metric loss/val improved by 0.002 >= min_delta = 0.0001. New best score: 0.238\n"
     ]
    },
    {
     "name": "stdout",
     "output_type": "stream",
     "text": [
      "Epoch 70 [35/35] {'loss': '0.359'}\r"
     ]
    },
    {
     "name": "stderr",
     "output_type": "stream",
     "text": [
      "Metric loss/val improved by 0.004 >= min_delta = 0.0001. New best score: 0.234\n"
     ]
    },
    {
     "name": "stdout",
     "output_type": "stream",
     "text": [
      "Epoch 75 [35/35] {'loss': '0.316'}\r"
     ]
    },
    {
     "name": "stderr",
     "output_type": "stream",
     "text": [
      "Metric loss/val improved by 0.005 >= min_delta = 0.0001. New best score: 0.228\n"
     ]
    },
    {
     "name": "stdout",
     "output_type": "stream",
     "text": [
      "Epoch 85 [35/35] {'loss': '0.289'}\r"
     ]
    },
    {
     "name": "stderr",
     "output_type": "stream",
     "text": [
      "Metric loss/val improved by 0.014 >= min_delta = 0.0001. New best score: 0.214\n"
     ]
    },
    {
     "name": "stdout",
     "output_type": "stream",
     "text": [
      "Epoch 89 [35/35] {'loss': '0.3'}'}\r"
     ]
    },
    {
     "name": "stderr",
     "output_type": "stream",
     "text": [
      "Metric loss/val improved by 0.011 >= min_delta = 0.0001. New best score: 0.203\n"
     ]
    },
    {
     "name": "stdout",
     "output_type": "stream",
     "text": [
      "Epoch 100 [35/35] {'loss': '0.358'}\r"
     ]
    },
    {
     "name": "stderr",
     "output_type": "stream",
     "text": [
      "GPU available: True, used: True\n",
      "TPU available: False, using: 0 TPU cores\n",
      "LOCAL_RANK: 0 - CUDA_VISIBLE_DEVICES: [0]\n",
      "\n",
      "  | Name               | Type             | Params\n",
      "--------------------------------------------------------\n",
      "0 | model              | fc               | 1.0 M \n",
      "1 | criteria           | CrossEntropyLoss | 0     \n",
      "2 | valid_metrics      | MetricCollection | 0     \n",
      "3 | valid_dummy_metric | AUROC            | 0     \n",
      "--------------------------------------------------------\n",
      "1.0 M     Trainable params\n",
      "0         Non-trainable params\n",
      "1.0 M     Total params\n",
      "4.140     Total estimated model params size (MB)\n"
     ]
    },
    {
     "name": "stdout",
     "output_type": "stream",
     "text": [
      "[23, 17, 20]\n",
      "Dataloader fold: 7\n",
      "Epoch 1 [35/35] {'loss': '0.938'}\r"
     ]
    },
    {
     "name": "stderr",
     "output_type": "stream",
     "text": [
      "Metric loss/val improved. New best score: 0.955\n"
     ]
    },
    {
     "name": "stdout",
     "output_type": "stream",
     "text": [
      "Epoch 2 [35/35] {'loss': '0.794'}\r"
     ]
    },
    {
     "name": "stderr",
     "output_type": "stream",
     "text": [
      "Metric loss/val improved by 0.047 >= min_delta = 0.0001. New best score: 0.908\n"
     ]
    },
    {
     "name": "stdout",
     "output_type": "stream",
     "text": [
      "Epoch 3 [35/35] {'loss': '0.756'}\r"
     ]
    },
    {
     "name": "stderr",
     "output_type": "stream",
     "text": [
      "Metric loss/val improved by 0.067 >= min_delta = 0.0001. New best score: 0.841\n"
     ]
    },
    {
     "name": "stdout",
     "output_type": "stream",
     "text": [
      "Epoch 4 [35/35] {'loss': '0.684'}\r"
     ]
    },
    {
     "name": "stderr",
     "output_type": "stream",
     "text": [
      "Metric loss/val improved by 0.181 >= min_delta = 0.0001. New best score: 0.660\n"
     ]
    },
    {
     "name": "stdout",
     "output_type": "stream",
     "text": [
      "Epoch 5 [35/35] {'loss': '0.65'}}\r"
     ]
    },
    {
     "name": "stderr",
     "output_type": "stream",
     "text": [
      "Metric loss/val improved by 0.039 >= min_delta = 0.0001. New best score: 0.621\n"
     ]
    },
    {
     "name": "stdout",
     "output_type": "stream",
     "text": [
      "Epoch 6 [35/35] {'loss': '0.518'}\r"
     ]
    },
    {
     "name": "stderr",
     "output_type": "stream",
     "text": [
      "Metric loss/val improved by 0.099 >= min_delta = 0.0001. New best score: 0.522\n"
     ]
    },
    {
     "name": "stdout",
     "output_type": "stream",
     "text": [
      "Epoch 7 [35/35] {'loss': '0.534'}\r"
     ]
    },
    {
     "name": "stderr",
     "output_type": "stream",
     "text": [
      "Metric loss/val improved by 0.008 >= min_delta = 0.0001. New best score: 0.514\n"
     ]
    },
    {
     "name": "stdout",
     "output_type": "stream",
     "text": [
      "Epoch 8 [35/35] {'loss': '0.513'}\r"
     ]
    },
    {
     "name": "stderr",
     "output_type": "stream",
     "text": [
      "Metric loss/val improved by 0.031 >= min_delta = 0.0001. New best score: 0.483\n"
     ]
    },
    {
     "name": "stdout",
     "output_type": "stream",
     "text": [
      "Epoch 9 [35/35] {'loss': '0.507'}\r"
     ]
    },
    {
     "name": "stderr",
     "output_type": "stream",
     "text": [
      "Metric loss/val improved by 0.084 >= min_delta = 0.0001. New best score: 0.399\n"
     ]
    },
    {
     "name": "stdout",
     "output_type": "stream",
     "text": [
      "Epoch 11 [35/35] {'loss': '0.414'}\r"
     ]
    },
    {
     "name": "stderr",
     "output_type": "stream",
     "text": [
      "Metric loss/val improved by 0.012 >= min_delta = 0.0001. New best score: 0.387\n"
     ]
    },
    {
     "name": "stdout",
     "output_type": "stream",
     "text": [
      "Epoch 12 [35/35] {'loss': '0.459'}\r"
     ]
    },
    {
     "name": "stderr",
     "output_type": "stream",
     "text": [
      "Metric loss/val improved by 0.010 >= min_delta = 0.0001. New best score: 0.377\n"
     ]
    },
    {
     "name": "stdout",
     "output_type": "stream",
     "text": [
      "Epoch 15 [35/35] {'loss': '0.411'}\r"
     ]
    },
    {
     "name": "stderr",
     "output_type": "stream",
     "text": [
      "Metric loss/val improved by 0.067 >= min_delta = 0.0001. New best score: 0.310\n"
     ]
    },
    {
     "name": "stdout",
     "output_type": "stream",
     "text": [
      "Epoch 28 [35/35] {'loss': '0.44'}}\r"
     ]
    },
    {
     "name": "stderr",
     "output_type": "stream",
     "text": [
      "Metric loss/val improved by 0.008 >= min_delta = 0.0001. New best score: 0.301\n"
     ]
    },
    {
     "name": "stdout",
     "output_type": "stream",
     "text": [
      "Epoch 30 [35/35] {'loss': '0.399'}\r"
     ]
    },
    {
     "name": "stderr",
     "output_type": "stream",
     "text": [
      "Metric loss/val improved by 0.010 >= min_delta = 0.0001. New best score: 0.291\n"
     ]
    },
    {
     "name": "stdout",
     "output_type": "stream",
     "text": [
      "Epoch 37 [35/35] {'loss': '0.325'}\r"
     ]
    },
    {
     "name": "stderr",
     "output_type": "stream",
     "text": [
      "Metric loss/val improved by 0.005 >= min_delta = 0.0001. New best score: 0.286\n"
     ]
    },
    {
     "name": "stdout",
     "output_type": "stream",
     "text": [
      "Epoch 43 [35/35] {'loss': '0.315'}\r"
     ]
    },
    {
     "name": "stderr",
     "output_type": "stream",
     "text": [
      "Metric loss/val improved by 0.024 >= min_delta = 0.0001. New best score: 0.262\n"
     ]
    },
    {
     "name": "stdout",
     "output_type": "stream",
     "text": [
      "Epoch 53 [35/35] {'loss': '0.335'}\r"
     ]
    },
    {
     "name": "stderr",
     "output_type": "stream",
     "text": [
      "Metric loss/val improved by 0.014 >= min_delta = 0.0001. New best score: 0.248\n"
     ]
    },
    {
     "name": "stdout",
     "output_type": "stream",
     "text": [
      "Epoch 67 [35/35] {'loss': '0.284'}\r"
     ]
    },
    {
     "name": "stderr",
     "output_type": "stream",
     "text": [
      "Metric loss/val improved by 0.019 >= min_delta = 0.0001. New best score: 0.229\n"
     ]
    },
    {
     "name": "stdout",
     "output_type": "stream",
     "text": [
      "Epoch 87 [35/35] {'loss': '0.279'}\r"
     ]
    },
    {
     "name": "stderr",
     "output_type": "stream",
     "text": [
      "Monitored metric loss/val did not improve in the last 20 records. Best score: 0.229. Signaling Trainer to stop.\n",
      "GPU available: True, used: True\n",
      "TPU available: False, using: 0 TPU cores\n",
      "LOCAL_RANK: 0 - CUDA_VISIBLE_DEVICES: [0]\n",
      "\n",
      "  | Name               | Type             | Params\n",
      "--------------------------------------------------------\n",
      "0 | model              | fc               | 1.0 M \n",
      "1 | criteria           | CrossEntropyLoss | 0     \n",
      "2 | valid_metrics      | MetricCollection | 0     \n",
      "3 | valid_dummy_metric | AUROC            | 0     \n",
      "--------------------------------------------------------\n",
      "1.0 M     Trainable params\n",
      "0         Non-trainable params\n",
      "1.0 M     Total params\n",
      "4.140     Total estimated model params size (MB)\n"
     ]
    },
    {
     "name": "stdout",
     "output_type": "stream",
     "text": [
      "[23, 17, 20]\n",
      "Dataloader fold: 8\n",
      "Epoch 1 [35/35] {'loss': '0.792'}\r"
     ]
    },
    {
     "name": "stderr",
     "output_type": "stream",
     "text": [
      "Metric loss/val improved. New best score: 0.923\n"
     ]
    },
    {
     "name": "stdout",
     "output_type": "stream",
     "text": [
      "Epoch 2 [35/35] {'loss': '0.784'}\r"
     ]
    },
    {
     "name": "stderr",
     "output_type": "stream",
     "text": [
      "Metric loss/val improved by 0.114 >= min_delta = 0.0001. New best score: 0.808\n"
     ]
    },
    {
     "name": "stdout",
     "output_type": "stream",
     "text": [
      "Epoch 3 [35/35] {'loss': '0.696'}\r"
     ]
    },
    {
     "name": "stderr",
     "output_type": "stream",
     "text": [
      "Metric loss/val improved by 0.065 >= min_delta = 0.0001. New best score: 0.744\n"
     ]
    },
    {
     "name": "stdout",
     "output_type": "stream",
     "text": [
      "Epoch 5 [35/35] {'loss': '0.491'}\r"
     ]
    },
    {
     "name": "stderr",
     "output_type": "stream",
     "text": [
      "Metric loss/val improved by 0.076 >= min_delta = 0.0001. New best score: 0.667\n"
     ]
    },
    {
     "name": "stdout",
     "output_type": "stream",
     "text": [
      "Epoch 6 [35/35] {'loss': '0.494'}\r"
     ]
    },
    {
     "name": "stderr",
     "output_type": "stream",
     "text": [
      "Metric loss/val improved by 0.217 >= min_delta = 0.0001. New best score: 0.450\n"
     ]
    },
    {
     "name": "stdout",
     "output_type": "stream",
     "text": [
      "Epoch 8 [35/35] {'loss': '0.434'}\r"
     ]
    },
    {
     "name": "stderr",
     "output_type": "stream",
     "text": [
      "Metric loss/val improved by 0.055 >= min_delta = 0.0001. New best score: 0.395\n"
     ]
    },
    {
     "name": "stdout",
     "output_type": "stream",
     "text": [
      "Epoch 14 [35/35] {'loss': '0.399'}\r"
     ]
    },
    {
     "name": "stderr",
     "output_type": "stream",
     "text": [
      "Metric loss/val improved by 0.031 >= min_delta = 0.0001. New best score: 0.364\n"
     ]
    },
    {
     "name": "stdout",
     "output_type": "stream",
     "text": [
      "Epoch 15 [35/35] {'loss': '0.429'}\r"
     ]
    },
    {
     "name": "stderr",
     "output_type": "stream",
     "text": [
      "Metric loss/val improved by 0.012 >= min_delta = 0.0001. New best score: 0.352\n"
     ]
    },
    {
     "name": "stdout",
     "output_type": "stream",
     "text": [
      "Epoch 16 [35/35] {'loss': '0.365'}\r"
     ]
    },
    {
     "name": "stderr",
     "output_type": "stream",
     "text": [
      "Metric loss/val improved by 0.014 >= min_delta = 0.0001. New best score: 0.338\n"
     ]
    },
    {
     "name": "stdout",
     "output_type": "stream",
     "text": [
      "Epoch 20 [35/35] {'loss': '0.285'}\r"
     ]
    },
    {
     "name": "stderr",
     "output_type": "stream",
     "text": [
      "Metric loss/val improved by 0.038 >= min_delta = 0.0001. New best score: 0.300\n"
     ]
    },
    {
     "name": "stdout",
     "output_type": "stream",
     "text": [
      "Epoch 38 [35/35] {'loss': '0.401'}\r"
     ]
    },
    {
     "name": "stderr",
     "output_type": "stream",
     "text": [
      "Metric loss/val improved by 0.018 >= min_delta = 0.0001. New best score: 0.282\n"
     ]
    },
    {
     "name": "stdout",
     "output_type": "stream",
     "text": [
      "Epoch 45 [35/35] {'loss': '0.383'}\r"
     ]
    },
    {
     "name": "stderr",
     "output_type": "stream",
     "text": [
      "Metric loss/val improved by 0.001 >= min_delta = 0.0001. New best score: 0.281\n"
     ]
    },
    {
     "name": "stdout",
     "output_type": "stream",
     "text": [
      "Epoch 48 [35/35] {'loss': '0.348'}\r"
     ]
    },
    {
     "name": "stderr",
     "output_type": "stream",
     "text": [
      "Metric loss/val improved by 0.020 >= min_delta = 0.0001. New best score: 0.260\n"
     ]
    },
    {
     "name": "stdout",
     "output_type": "stream",
     "text": [
      "Epoch 52 [35/35] {'loss': '0.294'}\r"
     ]
    },
    {
     "name": "stderr",
     "output_type": "stream",
     "text": [
      "Metric loss/val improved by 0.029 >= min_delta = 0.0001. New best score: 0.231\n"
     ]
    },
    {
     "name": "stdout",
     "output_type": "stream",
     "text": [
      "Epoch 61 [35/35] {'loss': '0.324'}\r"
     ]
    },
    {
     "name": "stderr",
     "output_type": "stream",
     "text": [
      "Metric loss/val improved by 0.002 >= min_delta = 0.0001. New best score: 0.229\n"
     ]
    },
    {
     "name": "stdout",
     "output_type": "stream",
     "text": [
      "Epoch 71 [35/35] {'loss': '0.303'}\r"
     ]
    },
    {
     "name": "stderr",
     "output_type": "stream",
     "text": [
      "Metric loss/val improved by 0.001 >= min_delta = 0.0001. New best score: 0.228\n"
     ]
    },
    {
     "name": "stdout",
     "output_type": "stream",
     "text": [
      "Epoch 91 [35/35] {'loss': '0.322'}\r"
     ]
    },
    {
     "name": "stderr",
     "output_type": "stream",
     "text": [
      "Monitored metric loss/val did not improve in the last 20 records. Best score: 0.228. Signaling Trainer to stop.\n",
      "GPU available: True, used: True\n",
      "TPU available: False, using: 0 TPU cores\n",
      "LOCAL_RANK: 0 - CUDA_VISIBLE_DEVICES: [0]\n",
      "\n",
      "  | Name               | Type             | Params\n",
      "--------------------------------------------------------\n",
      "0 | model              | fc               | 1.0 M \n",
      "1 | criteria           | CrossEntropyLoss | 0     \n",
      "2 | valid_metrics      | MetricCollection | 0     \n",
      "3 | valid_dummy_metric | AUROC            | 0     \n",
      "--------------------------------------------------------\n",
      "1.0 M     Trainable params\n",
      "0         Non-trainable params\n",
      "1.0 M     Total params\n",
      "4.140     Total estimated model params size (MB)\n"
     ]
    },
    {
     "name": "stdout",
     "output_type": "stream",
     "text": [
      "[23, 17, 20]\n",
      "Dataloader fold: 9\n",
      "Epoch 1 [35/35] {'loss': '0.854'}\r"
     ]
    },
    {
     "name": "stderr",
     "output_type": "stream",
     "text": [
      "Metric loss/val improved. New best score: 1.156\n"
     ]
    },
    {
     "name": "stdout",
     "output_type": "stream",
     "text": [
      "Epoch 2 [35/35] {'loss': '0.795'}\r"
     ]
    },
    {
     "name": "stderr",
     "output_type": "stream",
     "text": [
      "Metric loss/val improved by 0.247 >= min_delta = 0.0001. New best score: 0.909\n"
     ]
    },
    {
     "name": "stdout",
     "output_type": "stream",
     "text": [
      "Epoch 3 [35/35] {'loss': '0.679'}\r"
     ]
    },
    {
     "name": "stderr",
     "output_type": "stream",
     "text": [
      "Metric loss/val improved by 0.189 >= min_delta = 0.0001. New best score: 0.720\n"
     ]
    },
    {
     "name": "stdout",
     "output_type": "stream",
     "text": [
      "Epoch 4 [35/35] {'loss': '0.641'}\r"
     ]
    },
    {
     "name": "stderr",
     "output_type": "stream",
     "text": [
      "Metric loss/val improved by 0.109 >= min_delta = 0.0001. New best score: 0.612\n"
     ]
    },
    {
     "name": "stdout",
     "output_type": "stream",
     "text": [
      "Epoch 6 [35/35] {'loss': '0.52'}}\r"
     ]
    },
    {
     "name": "stderr",
     "output_type": "stream",
     "text": [
      "Metric loss/val improved by 0.107 >= min_delta = 0.0001. New best score: 0.505\n"
     ]
    },
    {
     "name": "stdout",
     "output_type": "stream",
     "text": [
      "Epoch 10 [35/35] {'loss': '0.477'}\r"
     ]
    },
    {
     "name": "stderr",
     "output_type": "stream",
     "text": [
      "Metric loss/val improved by 0.006 >= min_delta = 0.0001. New best score: 0.499\n"
     ]
    },
    {
     "name": "stdout",
     "output_type": "stream",
     "text": [
      "Epoch 11 [35/35] {'loss': '0.435'}\r"
     ]
    },
    {
     "name": "stderr",
     "output_type": "stream",
     "text": [
      "Metric loss/val improved by 0.096 >= min_delta = 0.0001. New best score: 0.402\n"
     ]
    },
    {
     "name": "stdout",
     "output_type": "stream",
     "text": [
      "Epoch 12 [35/35] {'loss': '0.452'}\r"
     ]
    },
    {
     "name": "stderr",
     "output_type": "stream",
     "text": [
      "Metric loss/val improved by 0.006 >= min_delta = 0.0001. New best score: 0.396\n"
     ]
    },
    {
     "name": "stdout",
     "output_type": "stream",
     "text": [
      "Epoch 14 [35/35] {'loss': '0.426'}\r"
     ]
    },
    {
     "name": "stderr",
     "output_type": "stream",
     "text": [
      "Metric loss/val improved by 0.048 >= min_delta = 0.0001. New best score: 0.348\n"
     ]
    },
    {
     "name": "stdout",
     "output_type": "stream",
     "text": [
      "Epoch 20 [35/35] {'loss': '0.465'}\r"
     ]
    },
    {
     "name": "stderr",
     "output_type": "stream",
     "text": [
      "Metric loss/val improved by 0.021 >= min_delta = 0.0001. New best score: 0.326\n"
     ]
    },
    {
     "name": "stdout",
     "output_type": "stream",
     "text": [
      "Epoch 29 [35/35] {'loss': '0.407'}\r"
     ]
    },
    {
     "name": "stderr",
     "output_type": "stream",
     "text": [
      "Metric loss/val improved by 0.011 >= min_delta = 0.0001. New best score: 0.315\n"
     ]
    },
    {
     "name": "stdout",
     "output_type": "stream",
     "text": [
      "Epoch 39 [35/35] {'loss': '0.384'}\r"
     ]
    },
    {
     "name": "stderr",
     "output_type": "stream",
     "text": [
      "Metric loss/val improved by 0.005 >= min_delta = 0.0001. New best score: 0.311\n"
     ]
    },
    {
     "name": "stdout",
     "output_type": "stream",
     "text": [
      "Epoch 52 [35/35] {'loss': '0.391'}\r"
     ]
    },
    {
     "name": "stderr",
     "output_type": "stream",
     "text": [
      "Metric loss/val improved by 0.011 >= min_delta = 0.0001. New best score: 0.300\n"
     ]
    },
    {
     "name": "stdout",
     "output_type": "stream",
     "text": [
      "Epoch 55 [35/35] {'loss': '0.375'}\r"
     ]
    },
    {
     "name": "stderr",
     "output_type": "stream",
     "text": [
      "Metric loss/val improved by 0.007 >= min_delta = 0.0001. New best score: 0.293\n"
     ]
    },
    {
     "name": "stdout",
     "output_type": "stream",
     "text": [
      "Epoch 71 [35/35] {'loss': '0.394'}\r"
     ]
    },
    {
     "name": "stderr",
     "output_type": "stream",
     "text": [
      "Metric loss/val improved by 0.006 >= min_delta = 0.0001. New best score: 0.286\n"
     ]
    },
    {
     "name": "stdout",
     "output_type": "stream",
     "text": [
      "Epoch 89 [35/35] {'loss': '0.389'}\r"
     ]
    },
    {
     "name": "stderr",
     "output_type": "stream",
     "text": [
      "Metric loss/val improved by 0.003 >= min_delta = 0.0001. New best score: 0.283\n"
     ]
    },
    {
     "name": "stdout",
     "output_type": "stream",
     "text": [
      "Epoch 93 [35/35] {'loss': '0.339'}\r"
     ]
    },
    {
     "name": "stderr",
     "output_type": "stream",
     "text": [
      "Metric loss/val improved by 0.014 >= min_delta = 0.0001. New best score: 0.270\n"
     ]
    },
    {
     "name": "stdout",
     "output_type": "stream",
     "text": [
      "Epoch 100 [35/35] {'loss': '0.458'}\r"
     ]
    },
    {
     "name": "stderr",
     "output_type": "stream",
     "text": [
      "GPU available: True, used: True\n",
      "TPU available: False, using: 0 TPU cores\n",
      "LOCAL_RANK: 0 - CUDA_VISIBLE_DEVICES: [0]\n",
      "\n",
      "  | Name               | Type             | Params\n",
      "--------------------------------------------------------\n",
      "0 | model              | fc               | 1.0 M \n",
      "1 | criteria           | CrossEntropyLoss | 0     \n",
      "2 | valid_metrics      | MetricCollection | 0     \n",
      "3 | valid_dummy_metric | AUROC            | 0     \n",
      "--------------------------------------------------------\n",
      "1.0 M     Trainable params\n",
      "0         Non-trainable params\n",
      "1.0 M     Total params\n",
      "4.140     Total estimated model params size (MB)\n"
     ]
    },
    {
     "name": "stdout",
     "output_type": "stream",
     "text": [
      "[23, 17, 20]\n",
      "Dataloader fold: 10\n",
      "Epoch 1 [35/35] {'loss': '0.769'}\r"
     ]
    },
    {
     "name": "stderr",
     "output_type": "stream",
     "text": [
      "Metric loss/val improved. New best score: 1.203\n"
     ]
    },
    {
     "name": "stdout",
     "output_type": "stream",
     "text": [
      "Epoch 2 [35/35] {'loss': '0.697'}\r"
     ]
    },
    {
     "name": "stderr",
     "output_type": "stream",
     "text": [
      "Metric loss/val improved by 0.406 >= min_delta = 0.0001. New best score: 0.797\n"
     ]
    },
    {
     "name": "stdout",
     "output_type": "stream",
     "text": [
      "Epoch 3 [35/35] {'loss': '0.658'}\r"
     ]
    },
    {
     "name": "stderr",
     "output_type": "stream",
     "text": [
      "Metric loss/val improved by 0.139 >= min_delta = 0.0001. New best score: 0.658\n"
     ]
    },
    {
     "name": "stdout",
     "output_type": "stream",
     "text": [
      "Epoch 4 [35/35] {'loss': '0.682'}\r"
     ]
    },
    {
     "name": "stderr",
     "output_type": "stream",
     "text": [
      "Metric loss/val improved by 0.052 >= min_delta = 0.0001. New best score: 0.606\n"
     ]
    },
    {
     "name": "stdout",
     "output_type": "stream",
     "text": [
      "Epoch 5 [35/35] {'loss': '0.491'}\r"
     ]
    },
    {
     "name": "stderr",
     "output_type": "stream",
     "text": [
      "Metric loss/val improved by 0.027 >= min_delta = 0.0001. New best score: 0.579\n"
     ]
    },
    {
     "name": "stdout",
     "output_type": "stream",
     "text": [
      "Epoch 6 [35/35] {'loss': '0.505'}\r"
     ]
    },
    {
     "name": "stderr",
     "output_type": "stream",
     "text": [
      "Metric loss/val improved by 0.111 >= min_delta = 0.0001. New best score: 0.468\n"
     ]
    },
    {
     "name": "stdout",
     "output_type": "stream",
     "text": [
      "Epoch 7 [35/35] {'loss': '0.42'}}\r"
     ]
    },
    {
     "name": "stderr",
     "output_type": "stream",
     "text": [
      "Metric loss/val improved by 0.013 >= min_delta = 0.0001. New best score: 0.455\n"
     ]
    },
    {
     "name": "stdout",
     "output_type": "stream",
     "text": [
      "Epoch 8 [35/35] {'loss': '0.429'}\r"
     ]
    },
    {
     "name": "stderr",
     "output_type": "stream",
     "text": [
      "Metric loss/val improved by 0.064 >= min_delta = 0.0001. New best score: 0.391\n"
     ]
    },
    {
     "name": "stdout",
     "output_type": "stream",
     "text": [
      "Epoch 11 [35/35] {'loss': '0.392'}\r"
     ]
    },
    {
     "name": "stderr",
     "output_type": "stream",
     "text": [
      "Metric loss/val improved by 0.016 >= min_delta = 0.0001. New best score: 0.375\n"
     ]
    },
    {
     "name": "stdout",
     "output_type": "stream",
     "text": [
      "Epoch 12 [35/35] {'loss': '0.418'}\r"
     ]
    },
    {
     "name": "stderr",
     "output_type": "stream",
     "text": [
      "Metric loss/val improved by 0.031 >= min_delta = 0.0001. New best score: 0.344\n"
     ]
    },
    {
     "name": "stdout",
     "output_type": "stream",
     "text": [
      "Epoch 14 [35/35] {'loss': '0.399'}\r"
     ]
    },
    {
     "name": "stderr",
     "output_type": "stream",
     "text": [
      "Metric loss/val improved by 0.021 >= min_delta = 0.0001. New best score: 0.323\n"
     ]
    },
    {
     "name": "stdout",
     "output_type": "stream",
     "text": [
      "Epoch 18 [35/35] {'loss': '0.343'}\r"
     ]
    },
    {
     "name": "stderr",
     "output_type": "stream",
     "text": [
      "Metric loss/val improved by 0.017 >= min_delta = 0.0001. New best score: 0.306\n"
     ]
    },
    {
     "name": "stdout",
     "output_type": "stream",
     "text": [
      "Epoch 21 [35/35] {'loss': '0.337'}\r"
     ]
    },
    {
     "name": "stderr",
     "output_type": "stream",
     "text": [
      "Metric loss/val improved by 0.040 >= min_delta = 0.0001. New best score: 0.266\n"
     ]
    },
    {
     "name": "stdout",
     "output_type": "stream",
     "text": [
      "Epoch 31 [35/35] {'loss': '0.343'}\r"
     ]
    },
    {
     "name": "stderr",
     "output_type": "stream",
     "text": [
      "Metric loss/val improved by 0.012 >= min_delta = 0.0001. New best score: 0.254\n"
     ]
    },
    {
     "name": "stdout",
     "output_type": "stream",
     "text": [
      "Epoch 35 [35/35] {'loss': '0.361'}\r"
     ]
    },
    {
     "name": "stderr",
     "output_type": "stream",
     "text": [
      "Metric loss/val improved by 0.012 >= min_delta = 0.0001. New best score: 0.242\n"
     ]
    },
    {
     "name": "stdout",
     "output_type": "stream",
     "text": [
      "Epoch 40 [35/35] {'loss': '0.303'}\r"
     ]
    },
    {
     "name": "stderr",
     "output_type": "stream",
     "text": [
      "Metric loss/val improved by 0.007 >= min_delta = 0.0001. New best score: 0.235\n"
     ]
    },
    {
     "name": "stdout",
     "output_type": "stream",
     "text": [
      "Epoch 60 [35/35] {'loss': '0.315'}\r"
     ]
    },
    {
     "name": "stderr",
     "output_type": "stream",
     "text": [
      "Monitored metric loss/val did not improve in the last 20 records. Best score: 0.235. Signaling Trainer to stop.\n"
     ]
    },
    {
     "name": "stdout",
     "output_type": "stream",
     "text": [
      "roi5: [{'epoch': tensor(73.), 'loss/train': tensor(0.3380, device='cuda:0'), 'loss/val': tensor(0.2679), 'Accuracy/val': tensor(0.8983), 'Precision/val': tensor(0.8983), 'Recall/val': tensor(0.8983), 'AUROC/val': tensor(0.9813), 'Specificity/val': tensor(0.9492)}, {'epoch': tensor(56.), 'loss/train': tensor(0.3220, device='cuda:0'), 'loss/val': tensor(0.2717), 'Accuracy/val': tensor(0.9149), 'Precision/val': tensor(0.9149), 'Recall/val': tensor(0.9149), 'AUROC/val': tensor(0.9825), 'Specificity/val': tensor(0.9574)}, {'epoch': tensor(83.), 'loss/train': tensor(0.2772, device='cuda:0'), 'loss/val': tensor(0.2291), 'Accuracy/val': tensor(0.9338), 'Precision/val': tensor(0.9338), 'Recall/val': tensor(0.9338), 'AUROC/val': tensor(0.9876), 'Specificity/val': tensor(0.9669)}, {'epoch': tensor(81.), 'loss/train': tensor(0.3778, device='cuda:0'), 'loss/val': tensor(0.3876), 'Accuracy/val': tensor(0.9173), 'Precision/val': tensor(0.9173), 'Recall/val': tensor(0.9173), 'AUROC/val': tensor(0.9711), 'Specificity/val': tensor(0.9586)}, {'epoch': tensor(99.), 'loss/train': tensor(0.3689, device='cuda:0'), 'loss/val': tensor(0.3398), 'Accuracy/val': tensor(0.9149), 'Precision/val': tensor(0.9149), 'Recall/val': tensor(0.9149), 'AUROC/val': tensor(0.9788), 'Specificity/val': tensor(0.9574)}, {'epoch': tensor(99.), 'loss/train': tensor(0.3308, device='cuda:0'), 'loss/val': tensor(0.2343), 'Accuracy/val': tensor(0.9338), 'Precision/val': tensor(0.9338), 'Recall/val': tensor(0.9338), 'AUROC/val': tensor(0.9843), 'Specificity/val': tensor(0.9669)}, {'epoch': tensor(86.), 'loss/train': tensor(0.2900, device='cuda:0'), 'loss/val': tensor(0.2795), 'Accuracy/val': tensor(0.9173), 'Precision/val': tensor(0.9173), 'Recall/val': tensor(0.9173), 'AUROC/val': tensor(0.9785), 'Specificity/val': tensor(0.9586)}, {'epoch': tensor(90.), 'loss/train': tensor(0.3264, device='cuda:0'), 'loss/val': tensor(0.2919), 'Accuracy/val': tensor(0.9173), 'Precision/val': tensor(0.9173), 'Recall/val': tensor(0.9173), 'AUROC/val': tensor(0.9801), 'Specificity/val': tensor(0.9586)}, {'epoch': tensor(99.), 'loss/train': tensor(0.4092, device='cuda:0'), 'loss/val': tensor(0.3182), 'Accuracy/val': tensor(0.9149), 'Precision/val': tensor(0.9149), 'Recall/val': tensor(0.9149), 'AUROC/val': tensor(0.9757), 'Specificity/val': tensor(0.9574)}, {'epoch': tensor(59.), 'loss/train': tensor(0.3079, device='cuda:0'), 'loss/val': tensor(0.2838), 'Accuracy/val': tensor(0.9338), 'Precision/val': tensor(0.9338), 'Recall/val': tensor(0.9338), 'AUROC/val': tensor(0.9808), 'Specificity/val': tensor(0.9669)}]\n"
     ]
    }
   ],
   "source": [
    "for name in ['roi5']:\n",
    "    run_me(name, i_limit=-1)"
   ]
  },
  {
   "cell_type": "code",
   "execution_count": null,
   "metadata": {
    "tags": []
   },
   "outputs": [],
   "source": [
    "for name in ['roi3']:\n",
    "    run_me(name, i_limit=-1)"
   ]
  },
  {
   "cell_type": "markdown",
   "metadata": {},
   "source": [
    "# Evaluate on the test data"
   ]
  },
  {
   "cell_type": "code",
   "execution_count": null,
   "metadata": {},
   "outputs": [],
   "source": [
    "checkpoints = [\n",
    "    (\"roi5\",),\n",
    "]\n",
    "for name, path in checkpoints:\n",
    "    agent = Agent(name, base_config='base',checkpoint_path=path)\n",
    "    agent.load_model()\n",
    "    agent.load_trainer()\n",
    "    agent.trainer.test(agent.model, datamodule=agent.dataloader)"
   ]
  }
 ],
 "metadata": {
  "kernelspec": {
   "display_name": "Master-thesis",
   "language": "python",
   "name": "master-thesis"
  },
  "language_info": {
   "codemirror_mode": {
    "name": "ipython",
    "version": 3
   },
   "file_extension": ".py",
   "mimetype": "text/x-python",
   "name": "python",
   "nbconvert_exporter": "python",
   "pygments_lexer": "ipython3",
   "version": "3.9.2"
  }
 },
 "nbformat": 4,
 "nbformat_minor": 4
}
