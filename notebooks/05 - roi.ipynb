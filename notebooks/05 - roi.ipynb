{
 "cells": [
  {
   "cell_type": "code",
   "execution_count": 17,
   "metadata": {},
   "outputs": [
    {
     "name": "stdout",
     "output_type": "stream",
     "text": [
      "The autoreload extension is already loaded. To reload it, use:\n",
      "  %reload_ext autoreload\n"
     ]
    }
   ],
   "source": [
    "%load_ext autoreload\n",
    "%autoreload 2\n",
    "import sys\n",
    "if '..' not in sys.path: sys.path.append(\"..\")"
   ]
  },
  {
   "cell_type": "markdown",
   "metadata": {},
   "source": [
    "# Segmentation and boundary-box regression"
   ]
  },
  {
   "cell_type": "code",
   "execution_count": 21,
   "metadata": {},
   "outputs": [],
   "source": [
    "from src.utils.preprocess import tensor2numpy, image2axial,mask_threshold\n",
    "from src.utils.utils import split_custom_filename\n",
    "from src import cam\n",
    "from src.classifier.agent import Agent\n",
    "from src.cam import CAM_TYPES\n",
    "from src import segmentation\n",
    "import nibabel as nib\n",
    "\n",
    "\n",
    "import numpy as np\n",
    "import torchvision\n",
    "import torch\n",
    "import matplotlib.pyplot as plt\n",
    "from src.utils.decorator import close_on_finish_decorator\n",
    "from src.classifier import agent\n",
    "import time"
   ]
  },
  {
   "cell_type": "code",
   "execution_count": 22,
   "metadata": {},
   "outputs": [],
   "source": [
    "def run_me(name,i_limit=5):\n",
    "    trainer = agent.Agent(name, base_config='base')\n",
    "    try:\n",
    "        i = 0\n",
    "        while True:\n",
    "            tr = trainer.run()\n",
    "            time.sleep(10)\n",
    "            i += 1\n",
    "            del tr\n",
    "            if not trainer.dataloader.next_fold() or i == i_limit and i_limit != -1: break\n",
    "            \n",
    "    except Exception as e:\n",
    "        raise e"
   ]
  },
  {
   "cell_type": "markdown",
   "metadata": {},
   "source": [
    "## Train on ROI"
   ]
  },
  {
   "cell_type": "code",
   "execution_count": null,
   "metadata": {},
   "outputs": [
    {
     "name": "stderr",
     "output_type": "stream",
     "text": [
      "GPU available: True, used: True\n",
      "TPU available: False, using: 0 TPU cores\n",
      "Missing logger folder: /var/metrics/codetests/logs/tb/ROI/20210505014616\n",
      "LOCAL_RANK: 0 - CUDA_VISIBLE_DEVICES: [0]\n",
      "\n",
      "  | Name           | Type             | Params\n",
      "----------------------------------------------------\n",
      "0 | model          | fc               | 127 K \n",
      "1 | criteria       | CrossEntropyLoss | 0     \n",
      "2 | metricsTracker | MetricTracker    | 0     \n",
      "----------------------------------------------------\n",
      "127 K     Trainable params\n",
      "0         Non-trainable params\n",
      "127 K     Total params\n",
      "0.509     Total estimated model params size (MB)\n"
     ]
    },
    {
     "name": "stdout",
     "output_type": "stream",
     "text": [
      "***Defined dataloader:***\n",
      "Data directory: data/SPM_categorised/Amira/\n",
      "Dataset sizes - Training: 494 Validation: 62\n",
      "Seed: 420\n",
      "Augmentation: Enabled\n",
      "KFold: Enabled - Fold: 1/9\n",
      "\n",
      "Architecture [fc] was created\n",
      "***Defined hyperparameters:***\n",
      "\"arch\":                {'name': 'fc', 'args': {'num_channels': 1, 'num_classes': 3}}\n",
      "\"checkpoint_path\":     None\n",
      "\"class_weights\":       tensor([1.1847, 0.9251, 0.9303], device='cuda:0')\n",
      "\"hp_metrics\":          ['loss/train', 'loss/val', 'accuracy/val', 'auc/val', 'specificity/val', 'sensitivity/val']\n",
      "\"loss\":                {'type': 'CrossEntropyLoss', 'args': {'weight': True}}\n",
      "\"optimizer\":           {'type': 'Adam', 'args': {'lr': 0.0001, 'weight_decay': 0, 'amsgrad': True}}\n",
      "\"roi_hparams\":         {'enable': True, 'output_shape': [9, 9, 9], 'boundary_boxes': {2: [[34, 48, 55, 79, 14, 32], [0, 27, 17, 82, 15, 64], [17, 29, 54, 45, 11, 29], [42, 45, 65, 73, 49, 66], [17, 5, 59, 26, 27, 62]], 1: [[1, 33, 12, 71, 16, 52], [31, 25, 63, 45, 31, 48]], 0: [[0, 46, 25, 72, 17, 43], [34, 56, 63, 77, 10, 28], [25, 4, 56, 18, 26, 52], [17, 34, 47, 65, 52, 76]]}}\n",
      "\"weight_distribution\": normal\n",
      "Enabled callbacks:  ['LitProgressBar', 'EarlyStopping']\n",
      "Dataloader fold: 1\n",
      "Epoch 9 [54/62] {'loss': '0.85'}}\r"
     ]
    }
   ],
   "source": [
    "for name in ['roi2']:\n",
    "    run_me(name, i_limit=-1)"
   ]
  },
  {
   "cell_type": "code",
   "execution_count": null,
   "metadata": {},
   "outputs": [],
   "source": []
  }
 ],
 "metadata": {
  "kernelspec": {
   "display_name": "Master-thesis",
   "language": "python",
   "name": "master-thesis"
  },
  "language_info": {
   "codemirror_mode": {
    "name": "ipython",
    "version": 3
   },
   "file_extension": ".py",
   "mimetype": "text/x-python",
   "name": "python",
   "nbconvert_exporter": "python",
   "pygments_lexer": "ipython3",
   "version": "3.9.2"
  }
 },
 "nbformat": 4,
 "nbformat_minor": 4
}
