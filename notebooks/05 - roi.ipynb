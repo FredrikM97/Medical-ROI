{
 "cells": [
  {
   "cell_type": "code",
   "execution_count": 1,
   "metadata": {},
   "outputs": [],
   "source": [
    "%load_ext autoreload\n",
    "%autoreload 2\n",
    "import sys\n",
    "if '..' not in sys.path: sys.path.append(\"..\")"
   ]
  },
  {
   "cell_type": "markdown",
   "metadata": {},
   "source": [
    "# Segmentation and boundary-box regression"
   ]
  },
  {
   "cell_type": "code",
   "execution_count": 2,
   "metadata": {},
   "outputs": [],
   "source": [
    "from src.utils.preprocess import tensor2numpy, image2axial,mask_threshold\n",
    "from src.utils.utils import split_custom_filename\n",
    "from src.segmentation import cam\n",
    "from src.classifier.agent import load_trainer\n",
    "from src.segmentation.cam import CAMS\n",
    "from src.segmentation import segmentation\n",
    "import nibabel as nib\n",
    "\n",
    "\n",
    "import numpy as np\n",
    "import torchvision\n",
    "import torch\n",
    "import matplotlib.pyplot as plt"
   ]
  },
  {
   "cell_type": "markdown",
   "metadata": {},
   "source": [
    "## Train on ROI"
   ]
  },
  {
   "cell_type": "code",
   "execution_count": 4,
   "metadata": {},
   "outputs": [
    {
     "name": "stdout",
     "output_type": "stream",
     "text": [
      "Architecture [ResNet] was created\n",
      "***Defined hyperparameters:***\n",
      "\"arch\":                {'name': 'resnet50', 'args': {'num_channels': 1, 'num_classes': 3}}\n",
      "\"callbacks\":           ['litprogressbar', 'modelcheckpoints', 'metriccallback']\n",
      "\"class_weights\":       None\n",
      "\"hp_metrics\":          ['loss/train', 'loss/val', 'accuracy/val', 'auc/val', 'specificity/val', 'sensitivity/val']\n",
      "\"kfold\":               {'enable': False, 'folds': 10}\n",
      "\"loss\":                CrossEntropyLoss\n",
      "\"loss_weight_balance\": None\n",
      "\"optimizer\":           {'type': 'Adam', 'args': {'lr': 0.0002, 'weight_decay': 1e-05, 'amsgrad': False}}\n",
      "\"roi_enabled\":         False\n",
      "\"roi_hparams\":         {'enable': True, 'output_shape': [40, 40, 40], 'boundary_boxes': [[15, 47, 16, 48, 65, 66], [39, 26, 78, 89, 20, 65]]}\n",
      "Dataset sizes - Training: 421 Validation: 47\n",
      "GPU available: True, used: True\n",
      "TPU available: False, using: 0 TPU cores\n",
      "Using native 16bit precision.\n"
     ]
    }
   ],
   "source": [
    "from src.classifier import agent\n",
    "\n",
    "roi_trainer,roi_dataset, roi_model =  agent.load_trainer('roi');\n",
    "\n",
    "# Ideas: Create a new dataloader which preprocess data for roi?\n",
    "# * Basically insert ROIAlign in dataloading. Bad point: Not saved on disk\n",
    "# * Save boundaries in some file to be loaded. When loading file run ROIAlign on them\n",
    "# Boundaries needed for AD, MCI and CN\n",
    "# "
   ]
  },
  {
   "cell_type": "code",
   "execution_count": null,
   "metadata": {},
   "outputs": [
    {
     "name": "stderr",
     "output_type": "stream",
     "text": [
      "initializing ddp: GLOBAL_RANK: 0, MEMBER: 1/1\n",
      "\n",
      "  | Name  | Type   | Params\n",
      "---------------------------------\n",
      "0 | model | ResNet | 46.2 M\n",
      "---------------------------------\n",
      "46.2 M    Trainable params\n",
      "0         Non-trainable params\n",
      "46.2 M    Total params\n",
      "184.645   Total estimated model params size (MB)\n",
      "INFO:lightning:\n",
      "  | Name  | Type   | Params\n",
      "---------------------------------\n",
      "0 | model | ResNet | 46.2 M\n",
      "---------------------------------\n",
      "46.2 M    Trainable params\n",
      "0         Non-trainable params\n",
      "46.2 M    Total params\n",
      "184.645   Total estimated model params size (MB)\n",
      "/home/stud/f/fremar16/miniconda3/envs/Master-thesis/lib/python3.9/site-packages/pytorch_lightning/utilities/distributed.py:50: UserWarning: The dataloader, val dataloader 0, does not have many workers which may be a bottleneck. Consider increasing the value of the `num_workers` argument` (try 20 which is the number of cpus on this machine) in the `DataLoader` init to improve performance.\n",
      "  warnings.warn(*args, **kwargs)\n"
     ]
    },
    {
     "name": "stdout",
     "output_type": "stream",
     "text": [
      "\n",
      "Epoch 1 [1/71] {'loss': '1.41'}\r"
     ]
    },
    {
     "name": "stderr",
     "output_type": "stream",
     "text": [
      "/home/stud/f/fremar16/miniconda3/envs/Master-thesis/lib/python3.9/site-packages/pytorch_lightning/utilities/distributed.py:50: UserWarning: The dataloader, train dataloader, does not have many workers which may be a bottleneck. Consider increasing the value of the `num_workers` argument` (try 20 which is the number of cpus on this machine) in the `DataLoader` init to improve performance.\n",
      "  warnings.warn(*args, **kwargs)\n"
     ]
    },
    {
     "name": "stdout",
     "output_type": "stream",
     "text": [
      "Epoch 1 [71/71] {'loss': '1.12'}\n",
      "Epoch 2 [71/71] {'loss': '1.21'}\n",
      "Epoch 3 [71/71] {'loss': '1.21'}\n",
      "Epoch 4 [71/71] {'loss': '1.08'}}\n",
      "Epoch 5 [71/71] {'loss': '1.02'}}\n",
      "Epoch 6 [71/71] {'loss': '0.998'}\n",
      "Epoch 7 [71/71] {'loss': '0.84'}}\n",
      "Epoch 8 [71/71] {'loss': '0.901'}\n",
      "Epoch 9 [71/71] {'loss': '0.956'}\n",
      "Epoch 10 [71/71] {'loss': '0.798'}\n",
      "Epoch 11 [71/71] {'loss': '0.68'}}\n",
      "Epoch 12 [71/71] {'loss': '0.803'}\n",
      "Epoch 13 [71/71] {'loss': '0.832'}\n",
      "Epoch 14 [71/71] {'loss': '0.706'}\n",
      "Epoch 15 [71/71] {'loss': '0.508'}\n",
      "Epoch 16 [71/71] {'loss': '0.599'}\n",
      "Epoch 17 [71/71] {'loss': '0.76'}}\n",
      "Epoch 18 [71/71] {'loss': '0.593'}\n",
      "Epoch 19 [71/71] {'loss': '0.609'}\n",
      "Epoch 20 [71/71] {'loss': '0.597'}\n",
      "Epoch 21 [71/71] {'loss': '0.417'}\n",
      "Epoch 22 [71/71] {'loss': '0.648'}\n",
      "Epoch 23 [71/71] {'loss': '0.76'}}\n",
      "Epoch 24 [71/71] {'loss': '0.509'}\n",
      "Epoch 25 [71/71] {'loss': '0.452'}\n",
      "Epoch 26 [64/71] {'loss': '0.402'}\r"
     ]
    }
   ],
   "source": [
    "roi_trainer.fit(roi_model, datamodule=roi_dataset)"
   ]
  },
  {
   "cell_type": "code",
   "execution_count": null,
   "metadata": {},
   "outputs": [],
   "source": [
    "roi_trainer.predict()"
   ]
  },
  {
   "cell_type": "code",
   "execution_count": null,
   "metadata": {},
   "outputs": [],
   "source": []
  }
 ],
 "metadata": {
  "kernelspec": {
   "display_name": "Master-thesis",
   "language": "python",
   "name": "master-thesis"
  },
  "language_info": {
   "codemirror_mode": {
    "name": "ipython",
    "version": 3
   },
   "file_extension": ".py",
   "mimetype": "text/x-python",
   "name": "python",
   "nbconvert_exporter": "python",
   "pygments_lexer": "ipython3",
   "version": "3.9.2"
  }
 },
 "nbformat": 4,
 "nbformat_minor": 4
}
