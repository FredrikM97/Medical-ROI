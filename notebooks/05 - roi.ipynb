{
 "cells": [
  {
   "cell_type": "code",
   "execution_count": 4,
   "metadata": {},
   "outputs": [
    {
     "name": "stdout",
     "output_type": "stream",
     "text": [
      "The autoreload extension is already loaded. To reload it, use:\n",
      "  %reload_ext autoreload\n"
     ]
    }
   ],
   "source": [
    "%load_ext autoreload\n",
    "%autoreload 2\n",
    "import sys\n",
    "if '..' not in sys.path: sys.path.append(\"..\")"
   ]
  },
  {
   "cell_type": "markdown",
   "metadata": {},
   "source": [
    "# Segmentation and boundary-box regression"
   ]
  },
  {
   "cell_type": "code",
   "execution_count": 5,
   "metadata": {},
   "outputs": [],
   "source": [
    "from src.utils.preprocess import tensor2numpy, image2axial,mask_threshold\n",
    "from src.utils.utils import split_custom_filename\n",
    "from src import cam\n",
    "from src.classifier.agent import Agent\n",
    "from src.cam import CAM_TYPES\n",
    "from src import segmentation\n",
    "import nibabel as nib\n",
    "\n",
    "\n",
    "import numpy as np\n",
    "import torchvision\n",
    "import torch\n",
    "import matplotlib.pyplot as plt\n",
    "from src.utils.decorator import close_on_finish_decorator\n",
    "from src.classifier import agent\n",
    "import time"
   ]
  },
  {
   "cell_type": "code",
   "execution_count": 6,
   "metadata": {},
   "outputs": [],
   "source": [
    "def run_me(name,i_limit=5):\n",
    "    trainer = agent.Agent(name, base_config='base')\n",
    "    try:\n",
    "        i = 0\n",
    "        while True:\n",
    "            #try:\n",
    "            tr = trainer.run()\n",
    "            time.sleep(10)\n",
    "            i += 1\n",
    "            del tr\n",
    "            #except:\n",
    "            #    pass\n",
    "            if not trainer.dataloader.next_fold() or i == i_limit and i_limit != -1: break\n",
    "            \n",
    "    except Exception as e:\n",
    "        raise e"
   ]
  },
  {
   "cell_type": "markdown",
   "metadata": {},
   "source": [
    "## Train on ROI"
   ]
  },
  {
   "cell_type": "code",
   "execution_count": 7,
   "metadata": {},
   "outputs": [
    {
     "name": "stdout",
     "output_type": "stream",
     "text": [
      "***Defined dataloader:***\n",
      "Data directory: data/SPM_categorised/ADNI1/\n",
      "Dataset sizes - Training: 273 Validation: 31\n",
      "Seed: 0\n",
      "Augmentation: Disabled\n",
      "KFold: Enabled - Fold: 1/10\n",
      "\n"
     ]
    },
    {
     "name": "stderr",
     "output_type": "stream",
     "text": [
      "/home/stud/f/fremar16/miniconda3/envs/Master-thesis/lib/python3.9/site-packages/torchmetrics/utilities/prints.py:36: UserWarning: Metric `AUROC` will save all targets and predictions in buffer. For large datasets this may lead to large memory footprint.\n",
      "  warnings.warn(*args, **kwargs)\n",
      "GPU available: True, used: True\n",
      "TPU available: False, using: 0 TPU cores\n",
      "Missing logger folder: /var/metrics/codetests/logs/tb/ROI4/20210522211018\n",
      "LOCAL_RANK: 0 - CUDA_VISIBLE_DEVICES: [0]\n",
      "\n",
      "  | Name               | Type             | Params\n",
      "--------------------------------------------------------\n",
      "0 | model              | fc               | 127 K \n",
      "1 | criteria           | CrossEntropyLoss | 0     \n",
      "2 | valid_metrics      | MetricCollection | 0     \n",
      "3 | valid_dummy_metric | AUROC            | 0     \n",
      "--------------------------------------------------------\n",
      "127 K     Trainable params\n",
      "0         Non-trainable params\n",
      "127 K     Total params\n",
      "0.509     Total estimated model params size (MB)\n"
     ]
    },
    {
     "name": "stdout",
     "output_type": "stream",
     "text": [
      "Architecture [fc] was created\n",
      "***Defined hyperparameters:***\n",
      "\"arch\":                {'name': 'fc', 'args': {'num_channels': 1, 'num_classes': 3}}\n",
      "\"checkpoint_path\":     None\n",
      "\"class_weights\":       tensor([1.2466, 0.6500, 1.5167], device='cuda:0')\n",
      "\"hp_metrics\":          ['loss/train', 'loss/val', 'Accuracy/val', 'AUROC/val', 'Precision/val', 'Recall/val', 'Specificity/val']\n",
      "\"loss\":                {'type': 'CrossEntropyLoss', 'args': {'weight': True}}\n",
      "\"optimizer\":           {'type': 'Adam', 'args': {'lr': 0.001, 'weight_decay': 0, 'amsgrad': False}}\n",
      "\"roi_hparams\":         {'enable': True, 'output_shape': [9, 9, 9], 'boundary_boxes': {2: [[45, 18, 65, 48, 22, 41], [14, 13, 32, 47, 22, 41], [7, 28, 30, 50, 50, 74], [21, 70, 55, 92, 23, 46], [19, 66, 61, 84, 0, 17]], 1: [[13, 62, 62, 82, 1, 14], [23, 71, 54, 92, 23, 45], [14, 10, 62, 43, 22, 38], [24, 42, 67, 76, 43, 67], [16, 22, 57, 62, 67, 78]], 0: [[13, 24, 50, 46, 59, 75], [12, 4, 37, 40, 23, 39], [24, 41, 49, 83, 39, 67], [14, 59, 65, 82, 0, 17], [44, 6, 65, 46, 22, 41]]}}\n",
      "\"weight_distribution\": None\n",
      "Enabled callbacks:  ['LitProgressBar', 'EarlyStopping']\n",
      "Dataloader fold: 1\n",
      "Epoch 1 [35/35] {'loss': '0.973'}\r"
     ]
    },
    {
     "name": "stderr",
     "output_type": "stream",
     "text": [
      "Metric loss/val improved. New best score: 0.790\n"
     ]
    },
    {
     "name": "stdout",
     "output_type": "stream",
     "text": [
      "Epoch 2 [35/35] {'loss': '0.675'}\r"
     ]
    },
    {
     "name": "stderr",
     "output_type": "stream",
     "text": [
      "Metric loss/val improved by 0.263 >= min_delta = 0.0001. New best score: 0.527\n"
     ]
    },
    {
     "name": "stdout",
     "output_type": "stream",
     "text": [
      "Epoch 3 [35/35] {'loss': '0.416'}\r"
     ]
    },
    {
     "name": "stderr",
     "output_type": "stream",
     "text": [
      "Metric loss/val improved by 0.261 >= min_delta = 0.0001. New best score: 0.267\n"
     ]
    },
    {
     "name": "stdout",
     "output_type": "stream",
     "text": [
      "Epoch 4 [35/35] {'loss': '0.28'}}\r"
     ]
    },
    {
     "name": "stderr",
     "output_type": "stream",
     "text": [
      "Metric loss/val improved by 0.080 >= min_delta = 0.0001. New best score: 0.186\n"
     ]
    },
    {
     "name": "stdout",
     "output_type": "stream",
     "text": [
      "Epoch 6 [35/35] {'loss': '0.188'}\r"
     ]
    },
    {
     "name": "stderr",
     "output_type": "stream",
     "text": [
      "Metric loss/val improved by 0.053 >= min_delta = 0.0001. New best score: 0.134\n"
     ]
    },
    {
     "name": "stdout",
     "output_type": "stream",
     "text": [
      "Epoch 7 [35/35] {'loss': '0.195'}\r"
     ]
    },
    {
     "name": "stderr",
     "output_type": "stream",
     "text": [
      "Metric loss/val improved by 0.019 >= min_delta = 0.0001. New best score: 0.114\n"
     ]
    },
    {
     "name": "stdout",
     "output_type": "stream",
     "text": [
      "Epoch 9 [35/35] {'loss': '0.187'}\r"
     ]
    },
    {
     "name": "stderr",
     "output_type": "stream",
     "text": [
      "Metric loss/val improved by 0.021 >= min_delta = 0.0001. New best score: 0.093\n"
     ]
    },
    {
     "name": "stdout",
     "output_type": "stream",
     "text": [
      "Epoch 13 [35/35] {'loss': '0.118'}\r"
     ]
    },
    {
     "name": "stderr",
     "output_type": "stream",
     "text": [
      "Metric loss/val improved by 0.010 >= min_delta = 0.0001. New best score: 0.083\n"
     ]
    },
    {
     "name": "stdout",
     "output_type": "stream",
     "text": [
      "Epoch 15 [35/35] {'loss': '0.124'}\r"
     ]
    },
    {
     "name": "stderr",
     "output_type": "stream",
     "text": [
      "Metric loss/val improved by 0.013 >= min_delta = 0.0001. New best score: 0.070\n"
     ]
    },
    {
     "name": "stdout",
     "output_type": "stream",
     "text": [
      "Epoch 19 [35/35] {'loss': '0.0934'}\r"
     ]
    },
    {
     "name": "stderr",
     "output_type": "stream",
     "text": [
      "Metric loss/val improved by 0.008 >= min_delta = 0.0001. New best score: 0.062\n"
     ]
    },
    {
     "name": "stdout",
     "output_type": "stream",
     "text": [
      "Epoch 29 [35/35] {'loss': '0.0941'}\r"
     ]
    },
    {
     "name": "stderr",
     "output_type": "stream",
     "text": [
      "Metric loss/val improved by 0.013 >= min_delta = 0.0001. New best score: 0.049\n"
     ]
    },
    {
     "name": "stdout",
     "output_type": "stream",
     "text": [
      "Epoch 35 [35/35] {'loss': '0.114'}}\r"
     ]
    },
    {
     "name": "stderr",
     "output_type": "stream",
     "text": [
      "Metric loss/val improved by 0.006 >= min_delta = 0.0001. New best score: 0.043\n"
     ]
    },
    {
     "name": "stdout",
     "output_type": "stream",
     "text": [
      "Epoch 39 [35/35] {'loss': '0.0802'}\r"
     ]
    },
    {
     "name": "stderr",
     "output_type": "stream",
     "text": [
      "Metric loss/val improved by 0.006 >= min_delta = 0.0001. New best score: 0.037\n"
     ]
    },
    {
     "name": "stdout",
     "output_type": "stream",
     "text": [
      "Epoch 55 [35/35] {'loss': '0.119'}}\r"
     ]
    },
    {
     "name": "stderr",
     "output_type": "stream",
     "text": [
      "Metric loss/val improved by 0.002 >= min_delta = 0.0001. New best score: 0.035\n"
     ]
    },
    {
     "name": "stdout",
     "output_type": "stream",
     "text": [
      "Epoch 64 [35/35] {'loss': '0.0683'}\r"
     ]
    },
    {
     "name": "stderr",
     "output_type": "stream",
     "text": [
      "Metric loss/val improved by 0.008 >= min_delta = 0.0001. New best score: 0.027\n"
     ]
    },
    {
     "name": "stdout",
     "output_type": "stream",
     "text": [
      "Epoch 84 [35/35] {'loss': '0.0794'}\r"
     ]
    },
    {
     "name": "stderr",
     "output_type": "stream",
     "text": [
      "Monitored metric loss/val did not improve in the last 20 records. Best score: 0.027. Signaling Trainer to stop.\n",
      "GPU available: True, used: True\n",
      "TPU available: False, using: 0 TPU cores\n",
      "LOCAL_RANK: 0 - CUDA_VISIBLE_DEVICES: [0]\n",
      "\n",
      "  | Name               | Type             | Params\n",
      "--------------------------------------------------------\n",
      "0 | model              | fc               | 127 K \n",
      "1 | criteria           | CrossEntropyLoss | 0     \n",
      "2 | valid_metrics      | MetricCollection | 0     \n",
      "3 | valid_dummy_metric | AUROC            | 0     \n",
      "--------------------------------------------------------\n",
      "127 K     Trainable params\n",
      "0         Non-trainable params\n",
      "127 K     Total params\n",
      "0.509     Total estimated model params size (MB)\n"
     ]
    },
    {
     "name": "stdout",
     "output_type": "stream",
     "text": [
      "Architecture [fc] was created\n",
      "***Defined hyperparameters:***\n",
      "\"arch\":                {'name': 'fc', 'args': {'num_channels': 1, 'num_classes': 3}}\n",
      "\"checkpoint_path\":     None\n",
      "\"class_weights\":       tensor([1.2466, 0.6500, 1.5167], device='cuda:0')\n",
      "\"hp_metrics\":          ['loss/train', 'loss/val', 'Accuracy/val', 'AUROC/val', 'Precision/val', 'Recall/val', 'Specificity/val']\n",
      "\"loss\":                {'type': 'CrossEntropyLoss', 'args': {'weight': True}}\n",
      "\"optimizer\":           {'type': 'Adam', 'args': {'lr': 0.001, 'weight_decay': 0, 'amsgrad': False}}\n",
      "\"roi_hparams\":         {'enable': True, 'output_shape': [9, 9, 9], 'boundary_boxes': {2: [[45, 18, 65, 48, 22, 41], [14, 13, 32, 47, 22, 41], [7, 28, 30, 50, 50, 74], [21, 70, 55, 92, 23, 46], [19, 66, 61, 84, 0, 17]], 1: [[13, 62, 62, 82, 1, 14], [23, 71, 54, 92, 23, 45], [14, 10, 62, 43, 22, 38], [24, 42, 67, 76, 43, 67], [16, 22, 57, 62, 67, 78]], 0: [[13, 24, 50, 46, 59, 75], [12, 4, 37, 40, 23, 39], [24, 41, 49, 83, 39, 67], [14, 59, 65, 82, 0, 17], [44, 6, 65, 46, 22, 41]]}}\n",
      "\"weight_distribution\": None\n",
      "Enabled callbacks:  ['LitProgressBar', 'EarlyStopping']\n",
      "Dataloader fold: 2\n",
      "Epoch 1 [35/35] {'loss': '1.03'}\r"
     ]
    },
    {
     "name": "stderr",
     "output_type": "stream",
     "text": [
      "Metric loss/val improved. New best score: 0.904\n"
     ]
    },
    {
     "name": "stdout",
     "output_type": "stream",
     "text": [
      "Epoch 2 [35/35] {'loss': '0.685'}\r"
     ]
    },
    {
     "name": "stderr",
     "output_type": "stream",
     "text": [
      "Metric loss/val improved by 0.468 >= min_delta = 0.0001. New best score: 0.436\n"
     ]
    },
    {
     "name": "stdout",
     "output_type": "stream",
     "text": [
      "Epoch 3 [35/35] {'loss': '0.384'}\r"
     ]
    },
    {
     "name": "stderr",
     "output_type": "stream",
     "text": [
      "Metric loss/val improved by 0.206 >= min_delta = 0.0001. New best score: 0.230\n"
     ]
    },
    {
     "name": "stdout",
     "output_type": "stream",
     "text": [
      "Epoch 4 [35/35] {'loss': '0.311'}\r"
     ]
    },
    {
     "name": "stderr",
     "output_type": "stream",
     "text": [
      "Metric loss/val improved by 0.031 >= min_delta = 0.0001. New best score: 0.199\n"
     ]
    },
    {
     "name": "stdout",
     "output_type": "stream",
     "text": [
      "Epoch 5 [35/35] {'loss': '0.264'}\r"
     ]
    },
    {
     "name": "stderr",
     "output_type": "stream",
     "text": [
      "Metric loss/val improved by 0.001 >= min_delta = 0.0001. New best score: 0.198\n"
     ]
    },
    {
     "name": "stdout",
     "output_type": "stream",
     "text": [
      "Epoch 6 [35/35] {'loss': '0.209'}\r"
     ]
    },
    {
     "name": "stderr",
     "output_type": "stream",
     "text": [
      "Metric loss/val improved by 0.012 >= min_delta = 0.0001. New best score: 0.186\n"
     ]
    },
    {
     "name": "stdout",
     "output_type": "stream",
     "text": [
      "Epoch 7 [35/35] {'loss': '0.191'}\r"
     ]
    },
    {
     "name": "stderr",
     "output_type": "stream",
     "text": [
      "Metric loss/val improved by 0.031 >= min_delta = 0.0001. New best score: 0.156\n"
     ]
    },
    {
     "name": "stdout",
     "output_type": "stream",
     "text": [
      "Epoch 8 [35/35] {'loss': '0.204'}\r"
     ]
    },
    {
     "name": "stderr",
     "output_type": "stream",
     "text": [
      "Metric loss/val improved by 0.045 >= min_delta = 0.0001. New best score: 0.111\n"
     ]
    },
    {
     "name": "stdout",
     "output_type": "stream",
     "text": [
      "Epoch 12 [35/35] {'loss': '0.15'}}\r"
     ]
    },
    {
     "name": "stderr",
     "output_type": "stream",
     "text": [
      "Metric loss/val improved by 0.044 >= min_delta = 0.0001. New best score: 0.067\n"
     ]
    },
    {
     "name": "stdout",
     "output_type": "stream",
     "text": [
      "Epoch 30 [35/35] {'loss': '0.113'}}\r"
     ]
    },
    {
     "name": "stderr",
     "output_type": "stream",
     "text": [
      "Metric loss/val improved by 0.010 >= min_delta = 0.0001. New best score: 0.058\n"
     ]
    },
    {
     "name": "stdout",
     "output_type": "stream",
     "text": [
      "Epoch 31 [35/35] {'loss': '0.136'}}\r"
     ]
    },
    {
     "name": "stderr",
     "output_type": "stream",
     "text": [
      "Metric loss/val improved by 0.002 >= min_delta = 0.0001. New best score: 0.056\n"
     ]
    },
    {
     "name": "stdout",
     "output_type": "stream",
     "text": [
      "Epoch 48 [35/35] {'loss': '0.101'}}\r"
     ]
    },
    {
     "name": "stderr",
     "output_type": "stream",
     "text": [
      "Metric loss/val improved by 0.004 >= min_delta = 0.0001. New best score: 0.053\n"
     ]
    },
    {
     "name": "stdout",
     "output_type": "stream",
     "text": [
      "Epoch 52 [35/35] {'loss': '0.147'}}\r"
     ]
    },
    {
     "name": "stderr",
     "output_type": "stream",
     "text": [
      "Metric loss/val improved by 0.003 >= min_delta = 0.0001. New best score: 0.050\n"
     ]
    },
    {
     "name": "stdout",
     "output_type": "stream",
     "text": [
      "Epoch 53 [35/35] {'loss': '0.115'}\r"
     ]
    },
    {
     "name": "stderr",
     "output_type": "stream",
     "text": [
      "Metric loss/val improved by 0.016 >= min_delta = 0.0001. New best score: 0.034\n"
     ]
    },
    {
     "name": "stdout",
     "output_type": "stream",
     "text": [
      "Epoch 55 [35/35] {'loss': '0.111'}}\r"
     ]
    },
    {
     "name": "stderr",
     "output_type": "stream",
     "text": [
      "Metric loss/val improved by 0.001 >= min_delta = 0.0001. New best score: 0.033\n"
     ]
    },
    {
     "name": "stdout",
     "output_type": "stream",
     "text": [
      "Epoch 69 [35/35] {'loss': '0.0957'}\r"
     ]
    },
    {
     "name": "stderr",
     "output_type": "stream",
     "text": [
      "Metric loss/val improved by 0.005 >= min_delta = 0.0001. New best score: 0.028\n"
     ]
    },
    {
     "name": "stdout",
     "output_type": "stream",
     "text": [
      "Epoch 89 [35/35] {'loss': '0.0868'}\r"
     ]
    },
    {
     "name": "stderr",
     "output_type": "stream",
     "text": [
      "Monitored metric loss/val did not improve in the last 20 records. Best score: 0.028. Signaling Trainer to stop.\n",
      "GPU available: True, used: True\n",
      "TPU available: False, using: 0 TPU cores\n",
      "LOCAL_RANK: 0 - CUDA_VISIBLE_DEVICES: [0]\n",
      "\n",
      "  | Name               | Type             | Params\n",
      "--------------------------------------------------------\n",
      "0 | model              | fc               | 127 K \n",
      "1 | criteria           | CrossEntropyLoss | 0     \n",
      "2 | valid_metrics      | MetricCollection | 0     \n",
      "3 | valid_dummy_metric | AUROC            | 0     \n",
      "--------------------------------------------------------\n",
      "127 K     Trainable params\n",
      "0         Non-trainable params\n",
      "127 K     Total params\n",
      "0.509     Total estimated model params size (MB)\n"
     ]
    },
    {
     "name": "stdout",
     "output_type": "stream",
     "text": [
      "Architecture [fc] was created\n",
      "***Defined hyperparameters:***\n",
      "\"arch\":                {'name': 'fc', 'args': {'num_channels': 1, 'num_classes': 3}}\n",
      "\"checkpoint_path\":     None\n",
      "\"class_weights\":       tensor([1.2466, 0.6500, 1.5167], device='cuda:0')\n",
      "\"hp_metrics\":          ['loss/train', 'loss/val', 'Accuracy/val', 'AUROC/val', 'Precision/val', 'Recall/val', 'Specificity/val']\n",
      "\"loss\":                {'type': 'CrossEntropyLoss', 'args': {'weight': True}}\n",
      "\"optimizer\":           {'type': 'Adam', 'args': {'lr': 0.001, 'weight_decay': 0, 'amsgrad': False}}\n",
      "\"roi_hparams\":         {'enable': True, 'output_shape': [9, 9, 9], 'boundary_boxes': {2: [[45, 18, 65, 48, 22, 41], [14, 13, 32, 47, 22, 41], [7, 28, 30, 50, 50, 74], [21, 70, 55, 92, 23, 46], [19, 66, 61, 84, 0, 17]], 1: [[13, 62, 62, 82, 1, 14], [23, 71, 54, 92, 23, 45], [14, 10, 62, 43, 22, 38], [24, 42, 67, 76, 43, 67], [16, 22, 57, 62, 67, 78]], 0: [[13, 24, 50, 46, 59, 75], [12, 4, 37, 40, 23, 39], [24, 41, 49, 83, 39, 67], [14, 59, 65, 82, 0, 17], [44, 6, 65, 46, 22, 41]]}}\n",
      "\"weight_distribution\": None\n",
      "Enabled callbacks:  ['LitProgressBar', 'EarlyStopping']\n",
      "Dataloader fold: 3\n",
      "Epoch 1 [35/35] {'loss': '0.976'}\r"
     ]
    },
    {
     "name": "stderr",
     "output_type": "stream",
     "text": [
      "Metric loss/val improved. New best score: 0.769\n"
     ]
    },
    {
     "name": "stdout",
     "output_type": "stream",
     "text": [
      "Epoch 2 [35/35] {'loss': '0.647'}\r"
     ]
    },
    {
     "name": "stderr",
     "output_type": "stream",
     "text": [
      "Metric loss/val improved by 0.350 >= min_delta = 0.0001. New best score: 0.419\n"
     ]
    },
    {
     "name": "stdout",
     "output_type": "stream",
     "text": [
      "Epoch 3 [35/35] {'loss': '0.401'}\r"
     ]
    },
    {
     "name": "stderr",
     "output_type": "stream",
     "text": [
      "Metric loss/val improved by 0.172 >= min_delta = 0.0001. New best score: 0.247\n"
     ]
    },
    {
     "name": "stdout",
     "output_type": "stream",
     "text": [
      "Epoch 4 [35/35] {'loss': '0.336'}\r"
     ]
    },
    {
     "name": "stderr",
     "output_type": "stream",
     "text": [
      "Metric loss/val improved by 0.019 >= min_delta = 0.0001. New best score: 0.228\n"
     ]
    },
    {
     "name": "stdout",
     "output_type": "stream",
     "text": [
      "Epoch 5 [35/35] {'loss': '0.284'}\r"
     ]
    },
    {
     "name": "stderr",
     "output_type": "stream",
     "text": [
      "Metric loss/val improved by 0.072 >= min_delta = 0.0001. New best score: 0.156\n"
     ]
    },
    {
     "name": "stdout",
     "output_type": "stream",
     "text": [
      "Epoch 7 [35/35] {'loss': '0.224'}\r"
     ]
    },
    {
     "name": "stderr",
     "output_type": "stream",
     "text": [
      "Metric loss/val improved by 0.042 >= min_delta = 0.0001. New best score: 0.114\n"
     ]
    },
    {
     "name": "stdout",
     "output_type": "stream",
     "text": [
      "Epoch 8 [35/35] {'loss': '0.158'}\r"
     ]
    },
    {
     "name": "stderr",
     "output_type": "stream",
     "text": [
      "Metric loss/val improved by 0.021 >= min_delta = 0.0001. New best score: 0.093\n"
     ]
    },
    {
     "name": "stdout",
     "output_type": "stream",
     "text": [
      "Epoch 9 [35/35] {'loss': '0.156'}\r"
     ]
    },
    {
     "name": "stderr",
     "output_type": "stream",
     "text": [
      "Metric loss/val improved by 0.014 >= min_delta = 0.0001. New best score: 0.080\n"
     ]
    },
    {
     "name": "stdout",
     "output_type": "stream",
     "text": [
      "Epoch 18 [35/35] {'loss': '0.129'}}\r"
     ]
    },
    {
     "name": "stderr",
     "output_type": "stream",
     "text": [
      "Metric loss/val improved by 0.003 >= min_delta = 0.0001. New best score: 0.076\n"
     ]
    },
    {
     "name": "stdout",
     "output_type": "stream",
     "text": [
      "Epoch 19 [35/35] {'loss': '0.108'}\r"
     ]
    },
    {
     "name": "stderr",
     "output_type": "stream",
     "text": [
      "Metric loss/val improved by 0.008 >= min_delta = 0.0001. New best score: 0.069\n"
     ]
    },
    {
     "name": "stdout",
     "output_type": "stream",
     "text": [
      "Epoch 23 [35/35] {'loss': '0.139'}}\r"
     ]
    },
    {
     "name": "stderr",
     "output_type": "stream",
     "text": [
      "Metric loss/val improved by 0.002 >= min_delta = 0.0001. New best score: 0.067\n"
     ]
    },
    {
     "name": "stdout",
     "output_type": "stream",
     "text": [
      "Epoch 24 [35/35] {'loss': '0.154'}\r"
     ]
    },
    {
     "name": "stderr",
     "output_type": "stream",
     "text": [
      "Metric loss/val improved by 0.004 >= min_delta = 0.0001. New best score: 0.063\n"
     ]
    },
    {
     "name": "stdout",
     "output_type": "stream",
     "text": [
      "Epoch 27 [35/35] {'loss': '0.111'}}\r"
     ]
    },
    {
     "name": "stderr",
     "output_type": "stream",
     "text": [
      "Metric loss/val improved by 0.000 >= min_delta = 0.0001. New best score: 0.063\n"
     ]
    },
    {
     "name": "stdout",
     "output_type": "stream",
     "text": [
      "Epoch 28 [35/35] {'loss': '0.121'}\r"
     ]
    },
    {
     "name": "stderr",
     "output_type": "stream",
     "text": [
      "Metric loss/val improved by 0.011 >= min_delta = 0.0001. New best score: 0.052\n"
     ]
    },
    {
     "name": "stdout",
     "output_type": "stream",
     "text": [
      "Epoch 37 [35/35] {'loss': '0.123'}}\r"
     ]
    },
    {
     "name": "stderr",
     "output_type": "stream",
     "text": [
      "Metric loss/val improved by 0.002 >= min_delta = 0.0001. New best score: 0.050\n"
     ]
    },
    {
     "name": "stdout",
     "output_type": "stream",
     "text": [
      "Epoch 38 [35/35] {'loss': '0.124'}}\r"
     ]
    },
    {
     "name": "stderr",
     "output_type": "stream",
     "text": [
      "Metric loss/val improved by 0.004 >= min_delta = 0.0001. New best score: 0.045\n"
     ]
    },
    {
     "name": "stdout",
     "output_type": "stream",
     "text": [
      "Epoch 45 [35/35] {'loss': '0.094'}\r"
     ]
    },
    {
     "name": "stderr",
     "output_type": "stream",
     "text": [
      "Metric loss/val improved by 0.004 >= min_delta = 0.0001. New best score: 0.041\n"
     ]
    },
    {
     "name": "stdout",
     "output_type": "stream",
     "text": [
      "Epoch 48 [35/35] {'loss': '0.13'}}}\r"
     ]
    },
    {
     "name": "stderr",
     "output_type": "stream",
     "text": [
      "Metric loss/val improved by 0.001 >= min_delta = 0.0001. New best score: 0.040\n"
     ]
    },
    {
     "name": "stdout",
     "output_type": "stream",
     "text": [
      "Epoch 55 [35/35] {'loss': '0.0863'}\r"
     ]
    },
    {
     "name": "stderr",
     "output_type": "stream",
     "text": [
      "Metric loss/val improved by 0.003 >= min_delta = 0.0001. New best score: 0.037\n"
     ]
    },
    {
     "name": "stdout",
     "output_type": "stream",
     "text": [
      "Epoch 71 [35/35] {'loss': '0.0834'}\r"
     ]
    },
    {
     "name": "stderr",
     "output_type": "stream",
     "text": [
      "Metric loss/val improved by 0.009 >= min_delta = 0.0001. New best score: 0.028\n"
     ]
    },
    {
     "name": "stdout",
     "output_type": "stream",
     "text": [
      "Epoch 83 [35/35] {'loss': '0.0644'}\r"
     ]
    },
    {
     "name": "stderr",
     "output_type": "stream",
     "text": [
      "Metric loss/val improved by 0.003 >= min_delta = 0.0001. New best score: 0.025\n"
     ]
    },
    {
     "name": "stdout",
     "output_type": "stream",
     "text": [
      "Epoch 87 [35/35] {'loss': '0.0683'}\r"
     ]
    },
    {
     "name": "stderr",
     "output_type": "stream",
     "text": [
      "Metric loss/val improved by 0.001 >= min_delta = 0.0001. New best score: 0.024\n"
     ]
    },
    {
     "name": "stdout",
     "output_type": "stream",
     "text": [
      "Epoch 91 [35/35] {'loss': '0.0745'}\r"
     ]
    },
    {
     "name": "stderr",
     "output_type": "stream",
     "text": [
      "Metric loss/val improved by 0.001 >= min_delta = 0.0001. New best score: 0.023\n"
     ]
    },
    {
     "name": "stdout",
     "output_type": "stream",
     "text": [
      "Epoch 95 [35/35] {'loss': '0.0911'}\r"
     ]
    },
    {
     "name": "stderr",
     "output_type": "stream",
     "text": [
      "Metric loss/val improved by 0.008 >= min_delta = 0.0001. New best score: 0.016\n"
     ]
    },
    {
     "name": "stdout",
     "output_type": "stream",
     "text": [
      "Epoch 100 [35/35] {'loss': '0.115'}}\r"
     ]
    },
    {
     "name": "stderr",
     "output_type": "stream",
     "text": [
      "GPU available: True, used: True\n",
      "TPU available: False, using: 0 TPU cores\n",
      "LOCAL_RANK: 0 - CUDA_VISIBLE_DEVICES: [0]\n",
      "\n",
      "  | Name               | Type             | Params\n",
      "--------------------------------------------------------\n",
      "0 | model              | fc               | 127 K \n",
      "1 | criteria           | CrossEntropyLoss | 0     \n",
      "2 | valid_metrics      | MetricCollection | 0     \n",
      "3 | valid_dummy_metric | AUROC            | 0     \n",
      "--------------------------------------------------------\n",
      "127 K     Trainable params\n",
      "0         Non-trainable params\n",
      "127 K     Total params\n",
      "0.509     Total estimated model params size (MB)\n"
     ]
    },
    {
     "name": "stdout",
     "output_type": "stream",
     "text": [
      "Architecture [fc] was created\n",
      "***Defined hyperparameters:***\n",
      "\"arch\":                {'name': 'fc', 'args': {'num_channels': 1, 'num_classes': 3}}\n",
      "\"checkpoint_path\":     None\n",
      "\"class_weights\":       tensor([1.2466, 0.6500, 1.5167], device='cuda:0')\n",
      "\"hp_metrics\":          ['loss/train', 'loss/val', 'Accuracy/val', 'AUROC/val', 'Precision/val', 'Recall/val', 'Specificity/val']\n",
      "\"loss\":                {'type': 'CrossEntropyLoss', 'args': {'weight': True}}\n",
      "\"optimizer\":           {'type': 'Adam', 'args': {'lr': 0.001, 'weight_decay': 0, 'amsgrad': False}}\n",
      "\"roi_hparams\":         {'enable': True, 'output_shape': [9, 9, 9], 'boundary_boxes': {2: [[45, 18, 65, 48, 22, 41], [14, 13, 32, 47, 22, 41], [7, 28, 30, 50, 50, 74], [21, 70, 55, 92, 23, 46], [19, 66, 61, 84, 0, 17]], 1: [[13, 62, 62, 82, 1, 14], [23, 71, 54, 92, 23, 45], [14, 10, 62, 43, 22, 38], [24, 42, 67, 76, 43, 67], [16, 22, 57, 62, 67, 78]], 0: [[13, 24, 50, 46, 59, 75], [12, 4, 37, 40, 23, 39], [24, 41, 49, 83, 39, 67], [14, 59, 65, 82, 0, 17], [44, 6, 65, 46, 22, 41]]}}\n",
      "\"weight_distribution\": None\n",
      "Enabled callbacks:  ['LitProgressBar', 'EarlyStopping']\n",
      "Dataloader fold: 4\n",
      "Epoch 1 [35/35] {'loss': '1.06'}\r"
     ]
    },
    {
     "name": "stderr",
     "output_type": "stream",
     "text": [
      "Metric loss/val improved. New best score: 0.954\n"
     ]
    },
    {
     "name": "stdout",
     "output_type": "stream",
     "text": [
      "Epoch 2 [35/35] {'loss': '0.766'}\r"
     ]
    },
    {
     "name": "stderr",
     "output_type": "stream",
     "text": [
      "Metric loss/val improved by 0.433 >= min_delta = 0.0001. New best score: 0.522\n"
     ]
    },
    {
     "name": "stdout",
     "output_type": "stream",
     "text": [
      "Epoch 3 [35/35] {'loss': '0.451'}\r"
     ]
    },
    {
     "name": "stderr",
     "output_type": "stream",
     "text": [
      "Metric loss/val improved by 0.271 >= min_delta = 0.0001. New best score: 0.251\n"
     ]
    },
    {
     "name": "stdout",
     "output_type": "stream",
     "text": [
      "Epoch 4 [35/35] {'loss': '0.305'}\r"
     ]
    },
    {
     "name": "stderr",
     "output_type": "stream",
     "text": [
      "Metric loss/val improved by 0.071 >= min_delta = 0.0001. New best score: 0.180\n"
     ]
    },
    {
     "name": "stdout",
     "output_type": "stream",
     "text": [
      "Epoch 6 [35/35] {'loss': '0.177'}\r"
     ]
    },
    {
     "name": "stderr",
     "output_type": "stream",
     "text": [
      "Metric loss/val improved by 0.050 >= min_delta = 0.0001. New best score: 0.130\n"
     ]
    },
    {
     "name": "stdout",
     "output_type": "stream",
     "text": [
      "Epoch 7 [35/35] {'loss': '0.223'}\r"
     ]
    },
    {
     "name": "stderr",
     "output_type": "stream",
     "text": [
      "Metric loss/val improved by 0.005 >= min_delta = 0.0001. New best score: 0.124\n"
     ]
    },
    {
     "name": "stdout",
     "output_type": "stream",
     "text": [
      "Epoch 8 [35/35] {'loss': '0.209'}\r"
     ]
    },
    {
     "name": "stderr",
     "output_type": "stream",
     "text": [
      "Metric loss/val improved by 0.014 >= min_delta = 0.0001. New best score: 0.111\n"
     ]
    },
    {
     "name": "stdout",
     "output_type": "stream",
     "text": [
      "Epoch 9 [35/35] {'loss': '0.14'}}\r"
     ]
    },
    {
     "name": "stderr",
     "output_type": "stream",
     "text": [
      "Metric loss/val improved by 0.009 >= min_delta = 0.0001. New best score: 0.102\n"
     ]
    },
    {
     "name": "stdout",
     "output_type": "stream",
     "text": [
      "Epoch 10 [35/35] {'loss': '0.152'}\r"
     ]
    },
    {
     "name": "stderr",
     "output_type": "stream",
     "text": [
      "Metric loss/val improved by 0.007 >= min_delta = 0.0001. New best score: 0.095\n"
     ]
    },
    {
     "name": "stdout",
     "output_type": "stream",
     "text": [
      "Epoch 12 [35/35] {'loss': '0.177'}\r"
     ]
    },
    {
     "name": "stderr",
     "output_type": "stream",
     "text": [
      "Metric loss/val improved by 0.026 >= min_delta = 0.0001. New best score: 0.069\n"
     ]
    },
    {
     "name": "stdout",
     "output_type": "stream",
     "text": [
      "Epoch 13 [35/35] {'loss': '0.147'}\r"
     ]
    },
    {
     "name": "stderr",
     "output_type": "stream",
     "text": [
      "Metric loss/val improved by 0.002 >= min_delta = 0.0001. New best score: 0.067\n"
     ]
    },
    {
     "name": "stdout",
     "output_type": "stream",
     "text": [
      "Epoch 18 [35/35] {'loss': '0.098'}}\r"
     ]
    },
    {
     "name": "stderr",
     "output_type": "stream",
     "text": [
      "Metric loss/val improved by 0.014 >= min_delta = 0.0001. New best score: 0.053\n"
     ]
    },
    {
     "name": "stdout",
     "output_type": "stream",
     "text": [
      "Epoch 30 [35/35] {'loss': '0.171'}}\r"
     ]
    },
    {
     "name": "stderr",
     "output_type": "stream",
     "text": [
      "Metric loss/val improved by 0.010 >= min_delta = 0.0001. New best score: 0.043\n"
     ]
    },
    {
     "name": "stdout",
     "output_type": "stream",
     "text": [
      "Epoch 49 [35/35] {'loss': '0.109'}}\r"
     ]
    },
    {
     "name": "stderr",
     "output_type": "stream",
     "text": [
      "Metric loss/val improved by 0.001 >= min_delta = 0.0001. New best score: 0.041\n"
     ]
    },
    {
     "name": "stdout",
     "output_type": "stream",
     "text": [
      "Epoch 56 [35/35] {'loss': '0.0804'}\r"
     ]
    },
    {
     "name": "stderr",
     "output_type": "stream",
     "text": [
      "Metric loss/val improved by 0.004 >= min_delta = 0.0001. New best score: 0.038\n"
     ]
    },
    {
     "name": "stdout",
     "output_type": "stream",
     "text": [
      "Epoch 70 [35/35] {'loss': '0.0746'}\r"
     ]
    },
    {
     "name": "stderr",
     "output_type": "stream",
     "text": [
      "Metric loss/val improved by 0.006 >= min_delta = 0.0001. New best score: 0.032\n"
     ]
    },
    {
     "name": "stdout",
     "output_type": "stream",
     "text": [
      "Epoch 74 [35/35] {'loss': '0.104'}}\r"
     ]
    },
    {
     "name": "stderr",
     "output_type": "stream",
     "text": [
      "Metric loss/val improved by 0.008 >= min_delta = 0.0001. New best score: 0.024\n"
     ]
    },
    {
     "name": "stdout",
     "output_type": "stream",
     "text": [
      "Epoch 94 [35/35] {'loss': '0.106'}}\r"
     ]
    },
    {
     "name": "stderr",
     "output_type": "stream",
     "text": [
      "Monitored metric loss/val did not improve in the last 20 records. Best score: 0.024. Signaling Trainer to stop.\n",
      "GPU available: True, used: True\n",
      "TPU available: False, using: 0 TPU cores\n",
      "LOCAL_RANK: 0 - CUDA_VISIBLE_DEVICES: [0]\n",
      "\n",
      "  | Name               | Type             | Params\n",
      "--------------------------------------------------------\n",
      "0 | model              | fc               | 127 K \n",
      "1 | criteria           | CrossEntropyLoss | 0     \n",
      "2 | valid_metrics      | MetricCollection | 0     \n",
      "3 | valid_dummy_metric | AUROC            | 0     \n",
      "--------------------------------------------------------\n",
      "127 K     Trainable params\n",
      "0         Non-trainable params\n",
      "127 K     Total params\n",
      "0.509     Total estimated model params size (MB)\n"
     ]
    },
    {
     "name": "stdout",
     "output_type": "stream",
     "text": [
      "Architecture [fc] was created\n",
      "***Defined hyperparameters:***\n",
      "\"arch\":                {'name': 'fc', 'args': {'num_channels': 1, 'num_classes': 3}}\n",
      "\"checkpoint_path\":     None\n",
      "\"class_weights\":       tensor([1.2466, 0.6500, 1.5167], device='cuda:0')\n",
      "\"hp_metrics\":          ['loss/train', 'loss/val', 'Accuracy/val', 'AUROC/val', 'Precision/val', 'Recall/val', 'Specificity/val']\n",
      "\"loss\":                {'type': 'CrossEntropyLoss', 'args': {'weight': True}}\n",
      "\"optimizer\":           {'type': 'Adam', 'args': {'lr': 0.001, 'weight_decay': 0, 'amsgrad': False}}\n",
      "\"roi_hparams\":         {'enable': True, 'output_shape': [9, 9, 9], 'boundary_boxes': {2: [[45, 18, 65, 48, 22, 41], [14, 13, 32, 47, 22, 41], [7, 28, 30, 50, 50, 74], [21, 70, 55, 92, 23, 46], [19, 66, 61, 84, 0, 17]], 1: [[13, 62, 62, 82, 1, 14], [23, 71, 54, 92, 23, 45], [14, 10, 62, 43, 22, 38], [24, 42, 67, 76, 43, 67], [16, 22, 57, 62, 67, 78]], 0: [[13, 24, 50, 46, 59, 75], [12, 4, 37, 40, 23, 39], [24, 41, 49, 83, 39, 67], [14, 59, 65, 82, 0, 17], [44, 6, 65, 46, 22, 41]]}}\n",
      "\"weight_distribution\": None\n",
      "Enabled callbacks:  ['LitProgressBar', 'EarlyStopping']\n",
      "Dataloader fold: 5\n",
      "Epoch 1 [35/35] {'loss': '1.01'}\r"
     ]
    },
    {
     "name": "stderr",
     "output_type": "stream",
     "text": [
      "Metric loss/val improved. New best score: 0.855\n"
     ]
    },
    {
     "name": "stdout",
     "output_type": "stream",
     "text": [
      "Epoch 2 [35/35] {'loss': '0.656'}\r"
     ]
    },
    {
     "name": "stderr",
     "output_type": "stream",
     "text": [
      "Metric loss/val improved by 0.389 >= min_delta = 0.0001. New best score: 0.466\n"
     ]
    },
    {
     "name": "stdout",
     "output_type": "stream",
     "text": [
      "Epoch 3 [35/35] {'loss': '0.42'}}\r"
     ]
    },
    {
     "name": "stderr",
     "output_type": "stream",
     "text": [
      "Metric loss/val improved by 0.194 >= min_delta = 0.0001. New best score: 0.272\n"
     ]
    },
    {
     "name": "stdout",
     "output_type": "stream",
     "text": [
      "Epoch 4 [35/35] {'loss': '0.285'}\r"
     ]
    },
    {
     "name": "stderr",
     "output_type": "stream",
     "text": [
      "Metric loss/val improved by 0.103 >= min_delta = 0.0001. New best score: 0.169\n"
     ]
    },
    {
     "name": "stdout",
     "output_type": "stream",
     "text": [
      "Epoch 5 [35/35] {'loss': '0.217'}\r"
     ]
    },
    {
     "name": "stderr",
     "output_type": "stream",
     "text": [
      "Metric loss/val improved by 0.044 >= min_delta = 0.0001. New best score: 0.125\n"
     ]
    },
    {
     "name": "stdout",
     "output_type": "stream",
     "text": [
      "Epoch 7 [35/35] {'loss': '0.183'}\r"
     ]
    },
    {
     "name": "stderr",
     "output_type": "stream",
     "text": [
      "Metric loss/val improved by 0.024 >= min_delta = 0.0001. New best score: 0.101\n"
     ]
    },
    {
     "name": "stdout",
     "output_type": "stream",
     "text": [
      "Epoch 9 [35/35] {'loss': '0.148'}\r"
     ]
    },
    {
     "name": "stderr",
     "output_type": "stream",
     "text": [
      "Metric loss/val improved by 0.029 >= min_delta = 0.0001. New best score: 0.072\n"
     ]
    },
    {
     "name": "stdout",
     "output_type": "stream",
     "text": [
      "Epoch 14 [35/35] {'loss': '0.13'}}\r"
     ]
    },
    {
     "name": "stderr",
     "output_type": "stream",
     "text": [
      "Metric loss/val improved by 0.016 >= min_delta = 0.0001. New best score: 0.057\n"
     ]
    },
    {
     "name": "stdout",
     "output_type": "stream",
     "text": [
      "Epoch 18 [35/35] {'loss': '0.0982'}\r"
     ]
    },
    {
     "name": "stderr",
     "output_type": "stream",
     "text": [
      "Metric loss/val improved by 0.003 >= min_delta = 0.0001. New best score: 0.054\n"
     ]
    },
    {
     "name": "stdout",
     "output_type": "stream",
     "text": [
      "Epoch 21 [35/35] {'loss': '0.119'}\r"
     ]
    },
    {
     "name": "stderr",
     "output_type": "stream",
     "text": [
      "Metric loss/val improved by 0.002 >= min_delta = 0.0001. New best score: 0.052\n"
     ]
    },
    {
     "name": "stdout",
     "output_type": "stream",
     "text": [
      "Epoch 28 [35/35] {'loss': '0.114'}}\r"
     ]
    },
    {
     "name": "stderr",
     "output_type": "stream",
     "text": [
      "Metric loss/val improved by 0.001 >= min_delta = 0.0001. New best score: 0.051\n"
     ]
    },
    {
     "name": "stdout",
     "output_type": "stream",
     "text": [
      "Epoch 29 [35/35] {'loss': '0.105'}\r"
     ]
    },
    {
     "name": "stderr",
     "output_type": "stream",
     "text": [
      "Metric loss/val improved by 0.021 >= min_delta = 0.0001. New best score: 0.029\n"
     ]
    },
    {
     "name": "stdout",
     "output_type": "stream",
     "text": [
      "Epoch 49 [35/35] {'loss': '0.194'}}\r"
     ]
    },
    {
     "name": "stderr",
     "output_type": "stream",
     "text": [
      "Monitored metric loss/val did not improve in the last 20 records. Best score: 0.029. Signaling Trainer to stop.\n",
      "GPU available: True, used: True\n",
      "TPU available: False, using: 0 TPU cores\n",
      "LOCAL_RANK: 0 - CUDA_VISIBLE_DEVICES: [0]\n",
      "\n",
      "  | Name               | Type             | Params\n",
      "--------------------------------------------------------\n",
      "0 | model              | fc               | 127 K \n",
      "1 | criteria           | CrossEntropyLoss | 0     \n",
      "2 | valid_metrics      | MetricCollection | 0     \n",
      "3 | valid_dummy_metric | AUROC            | 0     \n",
      "--------------------------------------------------------\n",
      "127 K     Trainable params\n",
      "0         Non-trainable params\n",
      "127 K     Total params\n",
      "0.509     Total estimated model params size (MB)\n"
     ]
    },
    {
     "name": "stdout",
     "output_type": "stream",
     "text": [
      "Architecture [fc] was created\n",
      "***Defined hyperparameters:***\n",
      "\"arch\":                {'name': 'fc', 'args': {'num_channels': 1, 'num_classes': 3}}\n",
      "\"checkpoint_path\":     None\n",
      "\"class_weights\":       tensor([1.2466, 0.6500, 1.5167], device='cuda:0')\n",
      "\"hp_metrics\":          ['loss/train', 'loss/val', 'Accuracy/val', 'AUROC/val', 'Precision/val', 'Recall/val', 'Specificity/val']\n",
      "\"loss\":                {'type': 'CrossEntropyLoss', 'args': {'weight': True}}\n",
      "\"optimizer\":           {'type': 'Adam', 'args': {'lr': 0.001, 'weight_decay': 0, 'amsgrad': False}}\n",
      "\"roi_hparams\":         {'enable': True, 'output_shape': [9, 9, 9], 'boundary_boxes': {2: [[45, 18, 65, 48, 22, 41], [14, 13, 32, 47, 22, 41], [7, 28, 30, 50, 50, 74], [21, 70, 55, 92, 23, 46], [19, 66, 61, 84, 0, 17]], 1: [[13, 62, 62, 82, 1, 14], [23, 71, 54, 92, 23, 45], [14, 10, 62, 43, 22, 38], [24, 42, 67, 76, 43, 67], [16, 22, 57, 62, 67, 78]], 0: [[13, 24, 50, 46, 59, 75], [12, 4, 37, 40, 23, 39], [24, 41, 49, 83, 39, 67], [14, 59, 65, 82, 0, 17], [44, 6, 65, 46, 22, 41]]}}\n",
      "\"weight_distribution\": None\n",
      "Enabled callbacks:  ['LitProgressBar', 'EarlyStopping']\n",
      "Dataloader fold: 6\n",
      "Epoch 1 [35/35] {'loss': '1.05'}\r"
     ]
    },
    {
     "name": "stderr",
     "output_type": "stream",
     "text": [
      "Metric loss/val improved. New best score: 0.908\n"
     ]
    },
    {
     "name": "stdout",
     "output_type": "stream",
     "text": [
      "Epoch 2 [35/35] {'loss': '0.744'}\r"
     ]
    },
    {
     "name": "stderr",
     "output_type": "stream",
     "text": [
      "Metric loss/val improved by 0.422 >= min_delta = 0.0001. New best score: 0.486\n"
     ]
    },
    {
     "name": "stdout",
     "output_type": "stream",
     "text": [
      "Epoch 3 [35/35] {'loss': '0.384'}\r"
     ]
    },
    {
     "name": "stderr",
     "output_type": "stream",
     "text": [
      "Metric loss/val improved by 0.240 >= min_delta = 0.0001. New best score: 0.247\n"
     ]
    },
    {
     "name": "stdout",
     "output_type": "stream",
     "text": [
      "Epoch 4 [35/35] {'loss': '0.329'}\r"
     ]
    },
    {
     "name": "stderr",
     "output_type": "stream",
     "text": [
      "Metric loss/val improved by 0.047 >= min_delta = 0.0001. New best score: 0.200\n"
     ]
    },
    {
     "name": "stdout",
     "output_type": "stream",
     "text": [
      "Epoch 5 [35/35] {'loss': '0.249'}\r"
     ]
    },
    {
     "name": "stderr",
     "output_type": "stream",
     "text": [
      "Metric loss/val improved by 0.011 >= min_delta = 0.0001. New best score: 0.188\n"
     ]
    },
    {
     "name": "stdout",
     "output_type": "stream",
     "text": [
      "Epoch 6 [35/35] {'loss': '0.22'}}\r"
     ]
    },
    {
     "name": "stderr",
     "output_type": "stream",
     "text": [
      "Metric loss/val improved by 0.033 >= min_delta = 0.0001. New best score: 0.155\n"
     ]
    },
    {
     "name": "stdout",
     "output_type": "stream",
     "text": [
      "Epoch 7 [35/35] {'loss': '0.215'}\r"
     ]
    },
    {
     "name": "stderr",
     "output_type": "stream",
     "text": [
      "Metric loss/val improved by 0.058 >= min_delta = 0.0001. New best score: 0.097\n"
     ]
    },
    {
     "name": "stdout",
     "output_type": "stream",
     "text": [
      "Epoch 8 [35/35] {'loss': '0.146'}\r"
     ]
    },
    {
     "name": "stderr",
     "output_type": "stream",
     "text": [
      "Metric loss/val improved by 0.011 >= min_delta = 0.0001. New best score: 0.087\n"
     ]
    },
    {
     "name": "stdout",
     "output_type": "stream",
     "text": [
      "Epoch 13 [35/35] {'loss': '0.155'}\r"
     ]
    },
    {
     "name": "stderr",
     "output_type": "stream",
     "text": [
      "Metric loss/val improved by 0.007 >= min_delta = 0.0001. New best score: 0.080\n"
     ]
    },
    {
     "name": "stdout",
     "output_type": "stream",
     "text": [
      "Epoch 14 [35/35] {'loss': '0.127'}\r"
     ]
    },
    {
     "name": "stderr",
     "output_type": "stream",
     "text": [
      "Metric loss/val improved by 0.001 >= min_delta = 0.0001. New best score: 0.078\n"
     ]
    },
    {
     "name": "stdout",
     "output_type": "stream",
     "text": [
      "Epoch 17 [35/35] {'loss': '0.156'}\r"
     ]
    },
    {
     "name": "stderr",
     "output_type": "stream",
     "text": [
      "Metric loss/val improved by 0.009 >= min_delta = 0.0001. New best score: 0.069\n"
     ]
    },
    {
     "name": "stdout",
     "output_type": "stream",
     "text": [
      "Epoch 26 [35/35] {'loss': '0.15'}}}\r"
     ]
    },
    {
     "name": "stderr",
     "output_type": "stream",
     "text": [
      "Metric loss/val improved by 0.005 >= min_delta = 0.0001. New best score: 0.064\n"
     ]
    },
    {
     "name": "stdout",
     "output_type": "stream",
     "text": [
      "Epoch 43 [35/35] {'loss': '0.108'}}\r"
     ]
    },
    {
     "name": "stderr",
     "output_type": "stream",
     "text": [
      "Metric loss/val improved by 0.013 >= min_delta = 0.0001. New best score: 0.051\n"
     ]
    },
    {
     "name": "stdout",
     "output_type": "stream",
     "text": [
      "Epoch 55 [35/35] {'loss': '0.122'}}\r"
     ]
    },
    {
     "name": "stderr",
     "output_type": "stream",
     "text": [
      "Metric loss/val improved by 0.001 >= min_delta = 0.0001. New best score: 0.050\n"
     ]
    },
    {
     "name": "stdout",
     "output_type": "stream",
     "text": [
      "Epoch 75 [35/35] {'loss': '0.101'}}\r"
     ]
    },
    {
     "name": "stderr",
     "output_type": "stream",
     "text": [
      "Monitored metric loss/val did not improve in the last 20 records. Best score: 0.050. Signaling Trainer to stop.\n",
      "GPU available: True, used: True\n",
      "TPU available: False, using: 0 TPU cores\n",
      "LOCAL_RANK: 0 - CUDA_VISIBLE_DEVICES: [0]\n",
      "\n",
      "  | Name               | Type             | Params\n",
      "--------------------------------------------------------\n",
      "0 | model              | fc               | 127 K \n",
      "1 | criteria           | CrossEntropyLoss | 0     \n",
      "2 | valid_metrics      | MetricCollection | 0     \n",
      "3 | valid_dummy_metric | AUROC            | 0     \n",
      "--------------------------------------------------------\n",
      "127 K     Trainable params\n",
      "0         Non-trainable params\n",
      "127 K     Total params\n",
      "0.509     Total estimated model params size (MB)\n"
     ]
    },
    {
     "name": "stdout",
     "output_type": "stream",
     "text": [
      "Architecture [fc] was created\n",
      "***Defined hyperparameters:***\n",
      "\"arch\":                {'name': 'fc', 'args': {'num_channels': 1, 'num_classes': 3}}\n",
      "\"checkpoint_path\":     None\n",
      "\"class_weights\":       tensor([1.2466, 0.6500, 1.5167], device='cuda:0')\n",
      "\"hp_metrics\":          ['loss/train', 'loss/val', 'Accuracy/val', 'AUROC/val', 'Precision/val', 'Recall/val', 'Specificity/val']\n",
      "\"loss\":                {'type': 'CrossEntropyLoss', 'args': {'weight': True}}\n",
      "\"optimizer\":           {'type': 'Adam', 'args': {'lr': 0.001, 'weight_decay': 0, 'amsgrad': False}}\n",
      "\"roi_hparams\":         {'enable': True, 'output_shape': [9, 9, 9], 'boundary_boxes': {2: [[45, 18, 65, 48, 22, 41], [14, 13, 32, 47, 22, 41], [7, 28, 30, 50, 50, 74], [21, 70, 55, 92, 23, 46], [19, 66, 61, 84, 0, 17]], 1: [[13, 62, 62, 82, 1, 14], [23, 71, 54, 92, 23, 45], [14, 10, 62, 43, 22, 38], [24, 42, 67, 76, 43, 67], [16, 22, 57, 62, 67, 78]], 0: [[13, 24, 50, 46, 59, 75], [12, 4, 37, 40, 23, 39], [24, 41, 49, 83, 39, 67], [14, 59, 65, 82, 0, 17], [44, 6, 65, 46, 22, 41]]}}\n",
      "\"weight_distribution\": None\n",
      "Enabled callbacks:  ['LitProgressBar', 'EarlyStopping']\n",
      "Dataloader fold: 7\n",
      "Epoch 1 [35/35] {'loss': '0.995'}\r"
     ]
    },
    {
     "name": "stderr",
     "output_type": "stream",
     "text": [
      "Metric loss/val improved. New best score: 0.869\n"
     ]
    },
    {
     "name": "stdout",
     "output_type": "stream",
     "text": [
      "Epoch 2 [35/35] {'loss': '0.685'}\r"
     ]
    },
    {
     "name": "stderr",
     "output_type": "stream",
     "text": [
      "Metric loss/val improved by 0.413 >= min_delta = 0.0001. New best score: 0.455\n"
     ]
    },
    {
     "name": "stdout",
     "output_type": "stream",
     "text": [
      "Epoch 3 [35/35] {'loss': '0.409'}\r"
     ]
    },
    {
     "name": "stderr",
     "output_type": "stream",
     "text": [
      "Metric loss/val improved by 0.209 >= min_delta = 0.0001. New best score: 0.246\n"
     ]
    },
    {
     "name": "stdout",
     "output_type": "stream",
     "text": [
      "Epoch 4 [35/35] {'loss': '0.309'}\r"
     ]
    },
    {
     "name": "stderr",
     "output_type": "stream",
     "text": [
      "Metric loss/val improved by 0.073 >= min_delta = 0.0001. New best score: 0.173\n"
     ]
    },
    {
     "name": "stdout",
     "output_type": "stream",
     "text": [
      "Epoch 5 [35/35] {'loss': '0.244'}\r"
     ]
    },
    {
     "name": "stderr",
     "output_type": "stream",
     "text": [
      "Metric loss/val improved by 0.018 >= min_delta = 0.0001. New best score: 0.156\n"
     ]
    },
    {
     "name": "stdout",
     "output_type": "stream",
     "text": [
      "Epoch 6 [35/35] {'loss': '0.221'}\r"
     ]
    },
    {
     "name": "stderr",
     "output_type": "stream",
     "text": [
      "Metric loss/val improved by 0.024 >= min_delta = 0.0001. New best score: 0.132\n"
     ]
    },
    {
     "name": "stdout",
     "output_type": "stream",
     "text": [
      "Epoch 7 [35/35] {'loss': '0.192'}\r"
     ]
    },
    {
     "name": "stderr",
     "output_type": "stream",
     "text": [
      "Metric loss/val improved by 0.025 >= min_delta = 0.0001. New best score: 0.107\n"
     ]
    },
    {
     "name": "stdout",
     "output_type": "stream",
     "text": [
      "Epoch 8 [35/35] {'loss': '0.155'}\r"
     ]
    },
    {
     "name": "stderr",
     "output_type": "stream",
     "text": [
      "Metric loss/val improved by 0.011 >= min_delta = 0.0001. New best score: 0.095\n"
     ]
    },
    {
     "name": "stdout",
     "output_type": "stream",
     "text": [
      "Epoch 9 [35/35] {'loss': '0.141'}\r"
     ]
    },
    {
     "name": "stderr",
     "output_type": "stream",
     "text": [
      "Metric loss/val improved by 0.006 >= min_delta = 0.0001. New best score: 0.090\n"
     ]
    },
    {
     "name": "stdout",
     "output_type": "stream",
     "text": [
      "Epoch 12 [35/35] {'loss': '0.14'}}\r"
     ]
    },
    {
     "name": "stderr",
     "output_type": "stream",
     "text": [
      "Metric loss/val improved by 0.008 >= min_delta = 0.0001. New best score: 0.082\n"
     ]
    },
    {
     "name": "stdout",
     "output_type": "stream",
     "text": [
      "Epoch 13 [35/35] {'loss': '0.122'}\r"
     ]
    },
    {
     "name": "stderr",
     "output_type": "stream",
     "text": [
      "Metric loss/val improved by 0.004 >= min_delta = 0.0001. New best score: 0.077\n"
     ]
    },
    {
     "name": "stdout",
     "output_type": "stream",
     "text": [
      "Epoch 14 [35/35] {'loss': '0.112'}\r"
     ]
    },
    {
     "name": "stderr",
     "output_type": "stream",
     "text": [
      "Metric loss/val improved by 0.008 >= min_delta = 0.0001. New best score: 0.069\n"
     ]
    },
    {
     "name": "stdout",
     "output_type": "stream",
     "text": [
      "Epoch 15 [35/35] {'loss': '0.119'}\r"
     ]
    },
    {
     "name": "stderr",
     "output_type": "stream",
     "text": [
      "Metric loss/val improved by 0.012 >= min_delta = 0.0001. New best score: 0.057\n"
     ]
    },
    {
     "name": "stdout",
     "output_type": "stream",
     "text": [
      "Epoch 33 [35/35] {'loss': '0.128'}}\r"
     ]
    },
    {
     "name": "stderr",
     "output_type": "stream",
     "text": [
      "Metric loss/val improved by 0.012 >= min_delta = 0.0001. New best score: 0.045\n"
     ]
    },
    {
     "name": "stdout",
     "output_type": "stream",
     "text": [
      "Epoch 50 [35/35] {'loss': '0.0854'}\r"
     ]
    },
    {
     "name": "stderr",
     "output_type": "stream",
     "text": [
      "Metric loss/val improved by 0.004 >= min_delta = 0.0001. New best score: 0.041\n"
     ]
    },
    {
     "name": "stdout",
     "output_type": "stream",
     "text": [
      "Epoch 52 [35/35] {'loss': '0.0978'}\r"
     ]
    },
    {
     "name": "stderr",
     "output_type": "stream",
     "text": [
      "Metric loss/val improved by 0.003 >= min_delta = 0.0001. New best score: 0.037\n"
     ]
    },
    {
     "name": "stdout",
     "output_type": "stream",
     "text": [
      "Epoch 66 [35/35] {'loss': '0.0924'}\r"
     ]
    },
    {
     "name": "stderr",
     "output_type": "stream",
     "text": [
      "Metric loss/val improved by 0.011 >= min_delta = 0.0001. New best score: 0.026\n"
     ]
    },
    {
     "name": "stdout",
     "output_type": "stream",
     "text": [
      "Epoch 86 [35/35] {'loss': '0.1'}7'}\r"
     ]
    },
    {
     "name": "stderr",
     "output_type": "stream",
     "text": [
      "Monitored metric loss/val did not improve in the last 20 records. Best score: 0.026. Signaling Trainer to stop.\n",
      "GPU available: True, used: True\n",
      "TPU available: False, using: 0 TPU cores\n",
      "LOCAL_RANK: 0 - CUDA_VISIBLE_DEVICES: [0]\n",
      "\n",
      "  | Name               | Type             | Params\n",
      "--------------------------------------------------------\n",
      "0 | model              | fc               | 127 K \n",
      "1 | criteria           | CrossEntropyLoss | 0     \n",
      "2 | valid_metrics      | MetricCollection | 0     \n",
      "3 | valid_dummy_metric | AUROC            | 0     \n",
      "--------------------------------------------------------\n",
      "127 K     Trainable params\n",
      "0         Non-trainable params\n",
      "127 K     Total params\n",
      "0.509     Total estimated model params size (MB)\n"
     ]
    },
    {
     "name": "stdout",
     "output_type": "stream",
     "text": [
      "Architecture [fc] was created\n",
      "***Defined hyperparameters:***\n",
      "\"arch\":                {'name': 'fc', 'args': {'num_channels': 1, 'num_classes': 3}}\n",
      "\"checkpoint_path\":     None\n",
      "\"class_weights\":       tensor([1.2466, 0.6500, 1.5167], device='cuda:0')\n",
      "\"hp_metrics\":          ['loss/train', 'loss/val', 'Accuracy/val', 'AUROC/val', 'Precision/val', 'Recall/val', 'Specificity/val']\n",
      "\"loss\":                {'type': 'CrossEntropyLoss', 'args': {'weight': True}}\n",
      "\"optimizer\":           {'type': 'Adam', 'args': {'lr': 0.001, 'weight_decay': 0, 'amsgrad': False}}\n",
      "\"roi_hparams\":         {'enable': True, 'output_shape': [9, 9, 9], 'boundary_boxes': {2: [[45, 18, 65, 48, 22, 41], [14, 13, 32, 47, 22, 41], [7, 28, 30, 50, 50, 74], [21, 70, 55, 92, 23, 46], [19, 66, 61, 84, 0, 17]], 1: [[13, 62, 62, 82, 1, 14], [23, 71, 54, 92, 23, 45], [14, 10, 62, 43, 22, 38], [24, 42, 67, 76, 43, 67], [16, 22, 57, 62, 67, 78]], 0: [[13, 24, 50, 46, 59, 75], [12, 4, 37, 40, 23, 39], [24, 41, 49, 83, 39, 67], [14, 59, 65, 82, 0, 17], [44, 6, 65, 46, 22, 41]]}}\n",
      "\"weight_distribution\": None\n",
      "Enabled callbacks:  ['LitProgressBar', 'EarlyStopping']\n",
      "Dataloader fold: 8\n",
      "Epoch 1 [35/35] {'loss': '1.03'}\r"
     ]
    },
    {
     "name": "stderr",
     "output_type": "stream",
     "text": [
      "Metric loss/val improved. New best score: 0.842\n"
     ]
    },
    {
     "name": "stdout",
     "output_type": "stream",
     "text": [
      "Epoch 2 [35/35] {'loss': '0.763'}\r"
     ]
    },
    {
     "name": "stderr",
     "output_type": "stream",
     "text": [
      "Metric loss/val improved by 0.286 >= min_delta = 0.0001. New best score: 0.556\n"
     ]
    },
    {
     "name": "stdout",
     "output_type": "stream",
     "text": [
      "Epoch 3 [35/35] {'loss': '0.542'}\r"
     ]
    },
    {
     "name": "stderr",
     "output_type": "stream",
     "text": [
      "Metric loss/val improved by 0.239 >= min_delta = 0.0001. New best score: 0.316\n"
     ]
    },
    {
     "name": "stdout",
     "output_type": "stream",
     "text": [
      "Epoch 4 [35/35] {'loss': '0.37'}}\r"
     ]
    },
    {
     "name": "stderr",
     "output_type": "stream",
     "text": [
      "Metric loss/val improved by 0.128 >= min_delta = 0.0001. New best score: 0.189\n"
     ]
    },
    {
     "name": "stdout",
     "output_type": "stream",
     "text": [
      "Epoch 5 [35/35] {'loss': '0.268'}\r"
     ]
    },
    {
     "name": "stderr",
     "output_type": "stream",
     "text": [
      "Metric loss/val improved by 0.048 >= min_delta = 0.0001. New best score: 0.140\n"
     ]
    },
    {
     "name": "stdout",
     "output_type": "stream",
     "text": [
      "Epoch 6 [35/35] {'loss': '0.201'}\r"
     ]
    },
    {
     "name": "stderr",
     "output_type": "stream",
     "text": [
      "Metric loss/val improved by 0.031 >= min_delta = 0.0001. New best score: 0.110\n"
     ]
    },
    {
     "name": "stdout",
     "output_type": "stream",
     "text": [
      "Epoch 9 [35/35] {'loss': '0.159'}\r"
     ]
    },
    {
     "name": "stderr",
     "output_type": "stream",
     "text": [
      "Metric loss/val improved by 0.025 >= min_delta = 0.0001. New best score: 0.084\n"
     ]
    },
    {
     "name": "stdout",
     "output_type": "stream",
     "text": [
      "Epoch 10 [35/35] {'loss': '0.124'}\r"
     ]
    },
    {
     "name": "stderr",
     "output_type": "stream",
     "text": [
      "Metric loss/val improved by 0.013 >= min_delta = 0.0001. New best score: 0.071\n"
     ]
    },
    {
     "name": "stdout",
     "output_type": "stream",
     "text": [
      "Epoch 15 [35/35] {'loss': '0.118'}\r"
     ]
    },
    {
     "name": "stderr",
     "output_type": "stream",
     "text": [
      "Metric loss/val improved by 0.013 >= min_delta = 0.0001. New best score: 0.058\n"
     ]
    },
    {
     "name": "stdout",
     "output_type": "stream",
     "text": [
      "Epoch 21 [35/35] {'loss': '0.119'}}\r"
     ]
    },
    {
     "name": "stderr",
     "output_type": "stream",
     "text": [
      "Metric loss/val improved by 0.008 >= min_delta = 0.0001. New best score: 0.050\n"
     ]
    },
    {
     "name": "stdout",
     "output_type": "stream",
     "text": [
      "Epoch 27 [35/35] {'loss': '0.113'}}\r"
     ]
    },
    {
     "name": "stderr",
     "output_type": "stream",
     "text": [
      "Metric loss/val improved by 0.002 >= min_delta = 0.0001. New best score: 0.048\n"
     ]
    },
    {
     "name": "stdout",
     "output_type": "stream",
     "text": [
      "Epoch 29 [35/35] {'loss': '0.123'}\r"
     ]
    },
    {
     "name": "stderr",
     "output_type": "stream",
     "text": [
      "Metric loss/val improved by 0.001 >= min_delta = 0.0001. New best score: 0.047\n"
     ]
    },
    {
     "name": "stdout",
     "output_type": "stream",
     "text": [
      "Epoch 30 [35/35] {'loss': '0.1'}'}\r"
     ]
    },
    {
     "name": "stderr",
     "output_type": "stream",
     "text": [
      "Metric loss/val improved by 0.010 >= min_delta = 0.0001. New best score: 0.037\n"
     ]
    },
    {
     "name": "stdout",
     "output_type": "stream",
     "text": [
      "Epoch 50 [35/35] {'loss': '0.14'}}}\r"
     ]
    },
    {
     "name": "stderr",
     "output_type": "stream",
     "text": [
      "Monitored metric loss/val did not improve in the last 20 records. Best score: 0.037. Signaling Trainer to stop.\n",
      "GPU available: True, used: True\n",
      "TPU available: False, using: 0 TPU cores\n",
      "LOCAL_RANK: 0 - CUDA_VISIBLE_DEVICES: [0]\n",
      "\n",
      "  | Name               | Type             | Params\n",
      "--------------------------------------------------------\n",
      "0 | model              | fc               | 127 K \n",
      "1 | criteria           | CrossEntropyLoss | 0     \n",
      "2 | valid_metrics      | MetricCollection | 0     \n",
      "3 | valid_dummy_metric | AUROC            | 0     \n",
      "--------------------------------------------------------\n",
      "127 K     Trainable params\n",
      "0         Non-trainable params\n",
      "127 K     Total params\n",
      "0.509     Total estimated model params size (MB)\n"
     ]
    },
    {
     "name": "stdout",
     "output_type": "stream",
     "text": [
      "Architecture [fc] was created\n",
      "***Defined hyperparameters:***\n",
      "\"arch\":                {'name': 'fc', 'args': {'num_channels': 1, 'num_classes': 3}}\n",
      "\"checkpoint_path\":     None\n",
      "\"class_weights\":       tensor([1.2466, 0.6500, 1.5167], device='cuda:0')\n",
      "\"hp_metrics\":          ['loss/train', 'loss/val', 'Accuracy/val', 'AUROC/val', 'Precision/val', 'Recall/val', 'Specificity/val']\n",
      "\"loss\":                {'type': 'CrossEntropyLoss', 'args': {'weight': True}}\n",
      "\"optimizer\":           {'type': 'Adam', 'args': {'lr': 0.001, 'weight_decay': 0, 'amsgrad': False}}\n",
      "\"roi_hparams\":         {'enable': True, 'output_shape': [9, 9, 9], 'boundary_boxes': {2: [[45, 18, 65, 48, 22, 41], [14, 13, 32, 47, 22, 41], [7, 28, 30, 50, 50, 74], [21, 70, 55, 92, 23, 46], [19, 66, 61, 84, 0, 17]], 1: [[13, 62, 62, 82, 1, 14], [23, 71, 54, 92, 23, 45], [14, 10, 62, 43, 22, 38], [24, 42, 67, 76, 43, 67], [16, 22, 57, 62, 67, 78]], 0: [[13, 24, 50, 46, 59, 75], [12, 4, 37, 40, 23, 39], [24, 41, 49, 83, 39, 67], [14, 59, 65, 82, 0, 17], [44, 6, 65, 46, 22, 41]]}}\n",
      "\"weight_distribution\": None\n",
      "Enabled callbacks:  ['LitProgressBar', 'EarlyStopping']\n",
      "Dataloader fold: 9\n",
      "Epoch 1 [35/35] {'loss': '1.03'}\r"
     ]
    },
    {
     "name": "stderr",
     "output_type": "stream",
     "text": [
      "Metric loss/val improved. New best score: 0.900\n"
     ]
    },
    {
     "name": "stdout",
     "output_type": "stream",
     "text": [
      "Epoch 2 [35/35] {'loss': '0.65'}}\r"
     ]
    },
    {
     "name": "stderr",
     "output_type": "stream",
     "text": [
      "Metric loss/val improved by 0.496 >= min_delta = 0.0001. New best score: 0.404\n"
     ]
    },
    {
     "name": "stdout",
     "output_type": "stream",
     "text": [
      "Epoch 3 [35/35] {'loss': '0.37'}}\r"
     ]
    },
    {
     "name": "stderr",
     "output_type": "stream",
     "text": [
      "Metric loss/val improved by 0.162 >= min_delta = 0.0001. New best score: 0.242\n"
     ]
    },
    {
     "name": "stdout",
     "output_type": "stream",
     "text": [
      "Epoch 4 [35/35] {'loss': '0.308'}\r"
     ]
    },
    {
     "name": "stderr",
     "output_type": "stream",
     "text": [
      "Metric loss/val improved by 0.061 >= min_delta = 0.0001. New best score: 0.181\n"
     ]
    },
    {
     "name": "stdout",
     "output_type": "stream",
     "text": [
      "Epoch 5 [35/35] {'loss': '0.257'}\r"
     ]
    },
    {
     "name": "stderr",
     "output_type": "stream",
     "text": [
      "Metric loss/val improved by 0.025 >= min_delta = 0.0001. New best score: 0.157\n"
     ]
    },
    {
     "name": "stdout",
     "output_type": "stream",
     "text": [
      "Epoch 6 [35/35] {'loss': '0.241'}\r"
     ]
    },
    {
     "name": "stderr",
     "output_type": "stream",
     "text": [
      "Metric loss/val improved by 0.007 >= min_delta = 0.0001. New best score: 0.150\n"
     ]
    },
    {
     "name": "stdout",
     "output_type": "stream",
     "text": [
      "Epoch 7 [35/35] {'loss': '0.221'}\r"
     ]
    },
    {
     "name": "stderr",
     "output_type": "stream",
     "text": [
      "Metric loss/val improved by 0.023 >= min_delta = 0.0001. New best score: 0.126\n"
     ]
    },
    {
     "name": "stdout",
     "output_type": "stream",
     "text": [
      "Epoch 8 [35/35] {'loss': '0.177'}\r"
     ]
    },
    {
     "name": "stderr",
     "output_type": "stream",
     "text": [
      "Metric loss/val improved by 0.006 >= min_delta = 0.0001. New best score: 0.120\n"
     ]
    },
    {
     "name": "stdout",
     "output_type": "stream",
     "text": [
      "Epoch 9 [35/35] {'loss': '0.162'}\r"
     ]
    },
    {
     "name": "stderr",
     "output_type": "stream",
     "text": [
      "Metric loss/val improved by 0.012 >= min_delta = 0.0001. New best score: 0.108\n"
     ]
    },
    {
     "name": "stdout",
     "output_type": "stream",
     "text": [
      "Epoch 11 [35/35] {'loss': '0.13'}}\r"
     ]
    },
    {
     "name": "stderr",
     "output_type": "stream",
     "text": [
      "Metric loss/val improved by 0.014 >= min_delta = 0.0001. New best score: 0.094\n"
     ]
    },
    {
     "name": "stdout",
     "output_type": "stream",
     "text": [
      "Epoch 12 [35/35] {'loss': '0.121'}\r"
     ]
    },
    {
     "name": "stderr",
     "output_type": "stream",
     "text": [
      "Metric loss/val improved by 0.000 >= min_delta = 0.0001. New best score: 0.094\n"
     ]
    },
    {
     "name": "stdout",
     "output_type": "stream",
     "text": [
      "Epoch 14 [35/35] {'loss': '0.133'}\r"
     ]
    },
    {
     "name": "stderr",
     "output_type": "stream",
     "text": [
      "Metric loss/val improved by 0.007 >= min_delta = 0.0001. New best score: 0.087\n"
     ]
    },
    {
     "name": "stdout",
     "output_type": "stream",
     "text": [
      "Epoch 16 [35/35] {'loss': '0.117'}\r"
     ]
    },
    {
     "name": "stderr",
     "output_type": "stream",
     "text": [
      "Metric loss/val improved by 0.020 >= min_delta = 0.0001. New best score: 0.067\n"
     ]
    },
    {
     "name": "stdout",
     "output_type": "stream",
     "text": [
      "Epoch 25 [35/35] {'loss': '0.113'}}\r"
     ]
    },
    {
     "name": "stderr",
     "output_type": "stream",
     "text": [
      "Metric loss/val improved by 0.009 >= min_delta = 0.0001. New best score: 0.058\n"
     ]
    },
    {
     "name": "stdout",
     "output_type": "stream",
     "text": [
      "Epoch 44 [35/35] {'loss': '0.0977'}\r"
     ]
    },
    {
     "name": "stderr",
     "output_type": "stream",
     "text": [
      "Metric loss/val improved by 0.002 >= min_delta = 0.0001. New best score: 0.056\n"
     ]
    },
    {
     "name": "stdout",
     "output_type": "stream",
     "text": [
      "Epoch 45 [35/35] {'loss': '0.081'}}\r"
     ]
    },
    {
     "name": "stderr",
     "output_type": "stream",
     "text": [
      "Metric loss/val improved by 0.014 >= min_delta = 0.0001. New best score: 0.042\n"
     ]
    },
    {
     "name": "stdout",
     "output_type": "stream",
     "text": [
      "Epoch 65 [35/35] {'loss': '0.135'}}\r"
     ]
    },
    {
     "name": "stderr",
     "output_type": "stream",
     "text": [
      "Monitored metric loss/val did not improve in the last 20 records. Best score: 0.042. Signaling Trainer to stop.\n",
      "GPU available: True, used: True\n",
      "TPU available: False, using: 0 TPU cores\n",
      "LOCAL_RANK: 0 - CUDA_VISIBLE_DEVICES: [0]\n",
      "\n",
      "  | Name               | Type             | Params\n",
      "--------------------------------------------------------\n",
      "0 | model              | fc               | 127 K \n",
      "1 | criteria           | CrossEntropyLoss | 0     \n",
      "2 | valid_metrics      | MetricCollection | 0     \n",
      "3 | valid_dummy_metric | AUROC            | 0     \n",
      "--------------------------------------------------------\n",
      "127 K     Trainable params\n",
      "0         Non-trainable params\n",
      "127 K     Total params\n",
      "0.509     Total estimated model params size (MB)\n"
     ]
    },
    {
     "name": "stdout",
     "output_type": "stream",
     "text": [
      "Architecture [fc] was created\n",
      "***Defined hyperparameters:***\n",
      "\"arch\":                {'name': 'fc', 'args': {'num_channels': 1, 'num_classes': 3}}\n",
      "\"checkpoint_path\":     None\n",
      "\"class_weights\":       tensor([1.2466, 0.6500, 1.5167], device='cuda:0')\n",
      "\"hp_metrics\":          ['loss/train', 'loss/val', 'Accuracy/val', 'AUROC/val', 'Precision/val', 'Recall/val', 'Specificity/val']\n",
      "\"loss\":                {'type': 'CrossEntropyLoss', 'args': {'weight': True}}\n",
      "\"optimizer\":           {'type': 'Adam', 'args': {'lr': 0.001, 'weight_decay': 0, 'amsgrad': False}}\n",
      "\"roi_hparams\":         {'enable': True, 'output_shape': [9, 9, 9], 'boundary_boxes': {2: [[45, 18, 65, 48, 22, 41], [14, 13, 32, 47, 22, 41], [7, 28, 30, 50, 50, 74], [21, 70, 55, 92, 23, 46], [19, 66, 61, 84, 0, 17]], 1: [[13, 62, 62, 82, 1, 14], [23, 71, 54, 92, 23, 45], [14, 10, 62, 43, 22, 38], [24, 42, 67, 76, 43, 67], [16, 22, 57, 62, 67, 78]], 0: [[13, 24, 50, 46, 59, 75], [12, 4, 37, 40, 23, 39], [24, 41, 49, 83, 39, 67], [14, 59, 65, 82, 0, 17], [44, 6, 65, 46, 22, 41]]}}\n",
      "\"weight_distribution\": None\n",
      "Enabled callbacks:  ['LitProgressBar', 'EarlyStopping']\n",
      "Dataloader fold: 10\n",
      "Epoch 1 [35/35] {'loss': '0.976'}\r"
     ]
    },
    {
     "name": "stderr",
     "output_type": "stream",
     "text": [
      "Metric loss/val improved. New best score: 0.838\n"
     ]
    },
    {
     "name": "stdout",
     "output_type": "stream",
     "text": [
      "Epoch 2 [35/35] {'loss': '0.706'}\r"
     ]
    },
    {
     "name": "stderr",
     "output_type": "stream",
     "text": [
      "Metric loss/val improved by 0.260 >= min_delta = 0.0001. New best score: 0.578\n"
     ]
    },
    {
     "name": "stdout",
     "output_type": "stream",
     "text": [
      "Epoch 3 [35/35] {'loss': '0.388'}\r"
     ]
    },
    {
     "name": "stderr",
     "output_type": "stream",
     "text": [
      "Metric loss/val improved by 0.304 >= min_delta = 0.0001. New best score: 0.273\n"
     ]
    },
    {
     "name": "stdout",
     "output_type": "stream",
     "text": [
      "Epoch 4 [35/35] {'loss': '0.319'}\r"
     ]
    },
    {
     "name": "stderr",
     "output_type": "stream",
     "text": [
      "Metric loss/val improved by 0.092 >= min_delta = 0.0001. New best score: 0.181\n"
     ]
    },
    {
     "name": "stdout",
     "output_type": "stream",
     "text": [
      "Epoch 5 [35/35] {'loss': '0.253'}\r"
     ]
    },
    {
     "name": "stderr",
     "output_type": "stream",
     "text": [
      "Metric loss/val improved by 0.017 >= min_delta = 0.0001. New best score: 0.164\n"
     ]
    },
    {
     "name": "stdout",
     "output_type": "stream",
     "text": [
      "Epoch 6 [35/35] {'loss': '0.216'}\r"
     ]
    },
    {
     "name": "stderr",
     "output_type": "stream",
     "text": [
      "Metric loss/val improved by 0.028 >= min_delta = 0.0001. New best score: 0.136\n"
     ]
    },
    {
     "name": "stdout",
     "output_type": "stream",
     "text": [
      "Epoch 8 [35/35] {'loss': '0.213'}\r"
     ]
    },
    {
     "name": "stderr",
     "output_type": "stream",
     "text": [
      "Metric loss/val improved by 0.007 >= min_delta = 0.0001. New best score: 0.129\n"
     ]
    },
    {
     "name": "stdout",
     "output_type": "stream",
     "text": [
      "Epoch 9 [35/35] {'loss': '0.18'}}\r"
     ]
    },
    {
     "name": "stderr",
     "output_type": "stream",
     "text": [
      "Metric loss/val improved by 0.033 >= min_delta = 0.0001. New best score: 0.096\n"
     ]
    },
    {
     "name": "stdout",
     "output_type": "stream",
     "text": [
      "Epoch 12 [35/35] {'loss': '0.133'}\r"
     ]
    },
    {
     "name": "stderr",
     "output_type": "stream",
     "text": [
      "Metric loss/val improved by 0.015 >= min_delta = 0.0001. New best score: 0.081\n"
     ]
    },
    {
     "name": "stdout",
     "output_type": "stream",
     "text": [
      "Epoch 14 [35/35] {'loss': '0.132'}\r"
     ]
    },
    {
     "name": "stderr",
     "output_type": "stream",
     "text": [
      "Metric loss/val improved by 0.001 >= min_delta = 0.0001. New best score: 0.081\n"
     ]
    },
    {
     "name": "stdout",
     "output_type": "stream",
     "text": [
      "Epoch 16 [35/35] {'loss': '0.127'}\r"
     ]
    },
    {
     "name": "stderr",
     "output_type": "stream",
     "text": [
      "Metric loss/val improved by 0.004 >= min_delta = 0.0001. New best score: 0.076\n"
     ]
    },
    {
     "name": "stdout",
     "output_type": "stream",
     "text": [
      "Epoch 19 [35/35] {'loss': '0.131'}\r"
     ]
    },
    {
     "name": "stderr",
     "output_type": "stream",
     "text": [
      "Metric loss/val improved by 0.006 >= min_delta = 0.0001. New best score: 0.070\n"
     ]
    },
    {
     "name": "stdout",
     "output_type": "stream",
     "text": [
      "Epoch 26 [35/35] {'loss': '0.128'}}\r"
     ]
    },
    {
     "name": "stderr",
     "output_type": "stream",
     "text": [
      "Metric loss/val improved by 0.007 >= min_delta = 0.0001. New best score: 0.063\n"
     ]
    },
    {
     "name": "stdout",
     "output_type": "stream",
     "text": [
      "Epoch 30 [35/35] {'loss': '0.0894'}\r"
     ]
    },
    {
     "name": "stderr",
     "output_type": "stream",
     "text": [
      "Metric loss/val improved by 0.007 >= min_delta = 0.0001. New best score: 0.056\n"
     ]
    },
    {
     "name": "stdout",
     "output_type": "stream",
     "text": [
      "Epoch 35 [35/35] {'loss': '0.0802'}\r"
     ]
    },
    {
     "name": "stderr",
     "output_type": "stream",
     "text": [
      "Metric loss/val improved by 0.026 >= min_delta = 0.0001. New best score: 0.030\n"
     ]
    },
    {
     "name": "stdout",
     "output_type": "stream",
     "text": [
      "Epoch 55 [35/35] {'loss': '0.11'}}}\r"
     ]
    },
    {
     "name": "stderr",
     "output_type": "stream",
     "text": [
      "Monitored metric loss/val did not improve in the last 20 records. Best score: 0.030. Signaling Trainer to stop.\n"
     ]
    }
   ],
   "source": [
    "for name in ['roi4']:\n",
    "    run_me(name, i_limit=-1)"
   ]
  },
  {
   "cell_type": "code",
   "execution_count": 8,
   "metadata": {},
   "outputs": [
    {
     "name": "stderr",
     "output_type": "stream",
     "text": [
      "/home/stud/f/fremar16/miniconda3/envs/Master-thesis/lib/python3.9/site-packages/torchmetrics/utilities/prints.py:36: UserWarning: Metric `AUROC` will save all targets and predictions in buffer. For large datasets this may lead to large memory footprint.\n",
      "  warnings.warn(*args, **kwargs)\n",
      "GPU available: True, used: True\n",
      "TPU available: False, using: 0 TPU cores\n",
      "Missing logger folder: /var/metrics/codetests/logs/tb/ROI3/20210522220602\n",
      "LOCAL_RANK: 0 - CUDA_VISIBLE_DEVICES: [0]\n",
      "\n",
      "  | Name               | Type             | Params\n",
      "--------------------------------------------------------\n",
      "0 | model              | fc               | 127 K \n",
      "1 | criteria           | CrossEntropyLoss | 0     \n",
      "2 | valid_metrics      | MetricCollection | 0     \n",
      "3 | valid_dummy_metric | AUROC            | 0     \n",
      "--------------------------------------------------------\n",
      "127 K     Trainable params\n",
      "0         Non-trainable params\n",
      "127 K     Total params\n",
      "0.509     Total estimated model params size (MB)\n"
     ]
    },
    {
     "name": "stdout",
     "output_type": "stream",
     "text": [
      "***Defined dataloader:***\n",
      "Data directory: data/SPM_categorised/ADNI1/\n",
      "Dataset sizes - Training: 273 Validation: 31\n",
      "Seed: 0\n",
      "Augmentation: Disabled\n",
      "KFold: Enabled - Fold: 1/10\n",
      "\n",
      "Architecture [fc] was created\n",
      "***Defined hyperparameters:***\n",
      "\"arch\":                {'name': 'fc', 'args': {'num_channels': 1, 'num_classes': 3}}\n",
      "\"checkpoint_path\":     None\n",
      "\"class_weights\":       tensor([1.2466, 0.6500, 1.5167], device='cuda:0')\n",
      "\"hp_metrics\":          ['loss/train', 'loss/val', 'Accuracy/val', 'AUROC/val', 'Precision/val', 'Recall/val', 'Specificity/val']\n",
      "\"loss\":                {'type': 'CrossEntropyLoss', 'args': {'weight': True}}\n",
      "\"optimizer\":           {'type': 'Adam', 'args': {'lr': 0.001, 'weight_decay': 0, 'amsgrad': False}}\n",
      "\"roi_hparams\":         {'enable': True, 'output_shape': [9, 9, 9], 'boundary_boxes': {2: [[23, 48, 57, 76, 34, 49], [25, 31, 55, 68, 69, 79], [25, 85, 69, 95, 30, 65], [42, 12, 79, 50, 33, 47], [22, 18, 49, 49, 16, 29], [40, 33, 79, 76, 9, 26], [70, 28, 79, 72, 19, 63], [11, 9, 63, 78, 26, 78]], 1: [[29, 19, 68, 38, 1, 18], [46, 38, 78, 61, 10, 25], [65, 25, 79, 42, 12, 59], [27, 33, 62, 69, 70, 79], [10, 10, 53, 23, 25, 61], [24, 63, 49, 86, 11, 33], [34, 32, 55, 60, 37, 55], [40, 10, 79, 77, 11, 68]], 0: [[63, 63, 79, 84, 27, 61], [26, 21, 61, 53, 31, 44], [45, 43, 73, 84, 1, 16], [11, 8, 53, 21, 20, 40], [31, 10, 60, 26, 45, 69], [27, 85, 70, 95, 28, 62], [22, 38, 73, 95, 16, 48], [19, 55, 70, 84, 71, 79], [46, 18, 79, 40, 10, 30], [11, 8, 79, 44, 10, 70]]}}\n",
      "\"weight_distribution\": None\n",
      "Enabled callbacks:  ['LitProgressBar', 'EarlyStopping']\n",
      "Dataloader fold: 1\n",
      "Epoch 1 [35/35] {'loss': '0.973'}\r"
     ]
    },
    {
     "name": "stderr",
     "output_type": "stream",
     "text": [
      "Metric loss/val improved. New best score: 0.789\n"
     ]
    },
    {
     "name": "stdout",
     "output_type": "stream",
     "text": [
      "Epoch 2 [35/35] {'loss': '0.692'}\r"
     ]
    },
    {
     "name": "stderr",
     "output_type": "stream",
     "text": [
      "Metric loss/val improved by 0.318 >= min_delta = 0.0001. New best score: 0.471\n"
     ]
    },
    {
     "name": "stdout",
     "output_type": "stream",
     "text": [
      "Epoch 3 [35/35] {'loss': '0.397'}\r"
     ]
    },
    {
     "name": "stderr",
     "output_type": "stream",
     "text": [
      "Metric loss/val improved by 0.319 >= min_delta = 0.0001. New best score: 0.152\n"
     ]
    },
    {
     "name": "stdout",
     "output_type": "stream",
     "text": [
      "Epoch 4 [35/35] {'loss': '0.186'}\r"
     ]
    },
    {
     "name": "stderr",
     "output_type": "stream",
     "text": [
      "Metric loss/val improved by 0.098 >= min_delta = 0.0001. New best score: 0.054\n"
     ]
    },
    {
     "name": "stdout",
     "output_type": "stream",
     "text": [
      "Epoch 5 [35/35] {'loss': '0.107'}\r"
     ]
    },
    {
     "name": "stderr",
     "output_type": "stream",
     "text": [
      "Metric loss/val improved by 0.030 >= min_delta = 0.0001. New best score: 0.024\n"
     ]
    },
    {
     "name": "stdout",
     "output_type": "stream",
     "text": [
      "Epoch 6 [35/35] {'loss': '0.0703'}\r"
     ]
    },
    {
     "name": "stderr",
     "output_type": "stream",
     "text": [
      "Metric loss/val improved by 0.011 >= min_delta = 0.0001. New best score: 0.013\n"
     ]
    },
    {
     "name": "stdout",
     "output_type": "stream",
     "text": [
      "Epoch 8 [35/35] {'loss': '0.0402'}\r"
     ]
    },
    {
     "name": "stderr",
     "output_type": "stream",
     "text": [
      "Metric loss/val improved by 0.006 >= min_delta = 0.0001. New best score: 0.007\n"
     ]
    },
    {
     "name": "stdout",
     "output_type": "stream",
     "text": [
      "Epoch 9 [35/35] {'loss': '0.0539'}\r"
     ]
    },
    {
     "name": "stderr",
     "output_type": "stream",
     "text": [
      "Metric loss/val improved by 0.004 >= min_delta = 0.0001. New best score: 0.003\n"
     ]
    },
    {
     "name": "stdout",
     "output_type": "stream",
     "text": [
      "Epoch 10 [35/35] {'loss': '0.0297'}\r"
     ]
    },
    {
     "name": "stderr",
     "output_type": "stream",
     "text": [
      "Metric loss/val improved by 0.001 >= min_delta = 0.0001. New best score: 0.002\n"
     ]
    },
    {
     "name": "stdout",
     "output_type": "stream",
     "text": [
      "Epoch 11 [35/35] {'loss': '0.0173'}\r"
     ]
    },
    {
     "name": "stderr",
     "output_type": "stream",
     "text": [
      "Metric loss/val improved by 0.001 >= min_delta = 0.0001. New best score: 0.001\n"
     ]
    },
    {
     "name": "stdout",
     "output_type": "stream",
     "text": [
      "Epoch 15 [35/35] {'loss': '0.0187'}\r"
     ]
    },
    {
     "name": "stderr",
     "output_type": "stream",
     "text": [
      "Metric loss/val improved by 0.000 >= min_delta = 0.0001. New best score: 0.001\n"
     ]
    },
    {
     "name": "stdout",
     "output_type": "stream",
     "text": [
      "Epoch 17 [35/35] {'loss': '0.0381'}\r"
     ]
    },
    {
     "name": "stderr",
     "output_type": "stream",
     "text": [
      "Metric loss/val improved by 0.000 >= min_delta = 0.0001. New best score: 0.001\n"
     ]
    },
    {
     "name": "stdout",
     "output_type": "stream",
     "text": [
      "Epoch 18 [35/35] {'loss': '0.0408'}\r"
     ]
    },
    {
     "name": "stderr",
     "output_type": "stream",
     "text": [
      "Metric loss/val improved by 0.000 >= min_delta = 0.0001. New best score: 0.000\n"
     ]
    },
    {
     "name": "stdout",
     "output_type": "stream",
     "text": [
      "Epoch 19 [35/35] {'loss': '0.0186'}\r"
     ]
    },
    {
     "name": "stderr",
     "output_type": "stream",
     "text": [
      "Metric loss/val improved by 0.000 >= min_delta = 0.0001. New best score: 0.000\n"
     ]
    },
    {
     "name": "stdout",
     "output_type": "stream",
     "text": [
      "Epoch 26 [35/35] {'loss': '0.00974'}\r"
     ]
    },
    {
     "name": "stderr",
     "output_type": "stream",
     "text": [
      "Metric loss/val improved by 0.000 >= min_delta = 0.0001. New best score: 0.000\n"
     ]
    },
    {
     "name": "stdout",
     "output_type": "stream",
     "text": [
      "Epoch 41 [35/35] {'loss': '0.00829'}\r"
     ]
    },
    {
     "name": "stderr",
     "output_type": "stream",
     "text": [
      "Metric loss/val improved by 0.000 >= min_delta = 0.0001. New best score: 0.000\n"
     ]
    },
    {
     "name": "stdout",
     "output_type": "stream",
     "text": [
      "Epoch 61 [35/35] {'loss': '0.0121'}}\r"
     ]
    },
    {
     "name": "stderr",
     "output_type": "stream",
     "text": [
      "Monitored metric loss/val did not improve in the last 20 records. Best score: 0.000. Signaling Trainer to stop.\n",
      "GPU available: True, used: True\n",
      "TPU available: False, using: 0 TPU cores\n",
      "LOCAL_RANK: 0 - CUDA_VISIBLE_DEVICES: [0]\n",
      "\n",
      "  | Name               | Type             | Params\n",
      "--------------------------------------------------------\n",
      "0 | model              | fc               | 127 K \n",
      "1 | criteria           | CrossEntropyLoss | 0     \n",
      "2 | valid_metrics      | MetricCollection | 0     \n",
      "3 | valid_dummy_metric | AUROC            | 0     \n",
      "--------------------------------------------------------\n",
      "127 K     Trainable params\n",
      "0         Non-trainable params\n",
      "127 K     Total params\n",
      "0.509     Total estimated model params size (MB)\n"
     ]
    },
    {
     "name": "stdout",
     "output_type": "stream",
     "text": [
      "Architecture [fc] was created\n",
      "***Defined hyperparameters:***\n",
      "\"arch\":                {'name': 'fc', 'args': {'num_channels': 1, 'num_classes': 3}}\n",
      "\"checkpoint_path\":     None\n",
      "\"class_weights\":       tensor([1.2466, 0.6500, 1.5167], device='cuda:0')\n",
      "\"hp_metrics\":          ['loss/train', 'loss/val', 'Accuracy/val', 'AUROC/val', 'Precision/val', 'Recall/val', 'Specificity/val']\n",
      "\"loss\":                {'type': 'CrossEntropyLoss', 'args': {'weight': True}}\n",
      "\"optimizer\":           {'type': 'Adam', 'args': {'lr': 0.001, 'weight_decay': 0, 'amsgrad': False}}\n",
      "\"roi_hparams\":         {'enable': True, 'output_shape': [9, 9, 9], 'boundary_boxes': {2: [[23, 48, 57, 76, 34, 49], [25, 31, 55, 68, 69, 79], [25, 85, 69, 95, 30, 65], [42, 12, 79, 50, 33, 47], [22, 18, 49, 49, 16, 29], [40, 33, 79, 76, 9, 26], [70, 28, 79, 72, 19, 63], [11, 9, 63, 78, 26, 78]], 1: [[29, 19, 68, 38, 1, 18], [46, 38, 78, 61, 10, 25], [65, 25, 79, 42, 12, 59], [27, 33, 62, 69, 70, 79], [10, 10, 53, 23, 25, 61], [24, 63, 49, 86, 11, 33], [34, 32, 55, 60, 37, 55], [40, 10, 79, 77, 11, 68]], 0: [[63, 63, 79, 84, 27, 61], [26, 21, 61, 53, 31, 44], [45, 43, 73, 84, 1, 16], [11, 8, 53, 21, 20, 40], [31, 10, 60, 26, 45, 69], [27, 85, 70, 95, 28, 62], [22, 38, 73, 95, 16, 48], [19, 55, 70, 84, 71, 79], [46, 18, 79, 40, 10, 30], [11, 8, 79, 44, 10, 70]]}}\n",
      "\"weight_distribution\": None\n",
      "Enabled callbacks:  ['LitProgressBar', 'EarlyStopping']\n",
      "Dataloader fold: 2\n",
      "Epoch 1 [35/35] {'loss': '1.02'}\r"
     ]
    },
    {
     "name": "stderr",
     "output_type": "stream",
     "text": [
      "Metric loss/val improved. New best score: 0.896\n"
     ]
    },
    {
     "name": "stdout",
     "output_type": "stream",
     "text": [
      "Epoch 2 [35/35] {'loss': '0.756'}\r"
     ]
    },
    {
     "name": "stderr",
     "output_type": "stream",
     "text": [
      "Metric loss/val improved by 0.377 >= min_delta = 0.0001. New best score: 0.520\n"
     ]
    },
    {
     "name": "stdout",
     "output_type": "stream",
     "text": [
      "Epoch 3 [35/35] {'loss': '0.417'}\r"
     ]
    },
    {
     "name": "stderr",
     "output_type": "stream",
     "text": [
      "Metric loss/val improved by 0.355 >= min_delta = 0.0001. New best score: 0.164\n"
     ]
    },
    {
     "name": "stdout",
     "output_type": "stream",
     "text": [
      "Epoch 4 [35/35] {'loss': '0.213'}\r"
     ]
    },
    {
     "name": "stderr",
     "output_type": "stream",
     "text": [
      "Metric loss/val improved by 0.122 >= min_delta = 0.0001. New best score: 0.042\n"
     ]
    },
    {
     "name": "stdout",
     "output_type": "stream",
     "text": [
      "Epoch 5 [35/35] {'loss': '0.107'}\r"
     ]
    },
    {
     "name": "stderr",
     "output_type": "stream",
     "text": [
      "Metric loss/val improved by 0.023 >= min_delta = 0.0001. New best score: 0.019\n"
     ]
    },
    {
     "name": "stdout",
     "output_type": "stream",
     "text": [
      "Epoch 6 [35/35] {'loss': '0.0768'}\r"
     ]
    },
    {
     "name": "stderr",
     "output_type": "stream",
     "text": [
      "Metric loss/val improved by 0.010 >= min_delta = 0.0001. New best score: 0.009\n"
     ]
    },
    {
     "name": "stdout",
     "output_type": "stream",
     "text": [
      "Epoch 7 [35/35] {'loss': '0.038'}}\r"
     ]
    },
    {
     "name": "stderr",
     "output_type": "stream",
     "text": [
      "Metric loss/val improved by 0.006 >= min_delta = 0.0001. New best score: 0.004\n"
     ]
    },
    {
     "name": "stdout",
     "output_type": "stream",
     "text": [
      "Epoch 8 [35/35] {'loss': '0.0399'}\r"
     ]
    },
    {
     "name": "stderr",
     "output_type": "stream",
     "text": [
      "Metric loss/val improved by 0.001 >= min_delta = 0.0001. New best score: 0.002\n"
     ]
    },
    {
     "name": "stdout",
     "output_type": "stream",
     "text": [
      "Epoch 9 [35/35] {'loss': '0.0387'}\r"
     ]
    },
    {
     "name": "stderr",
     "output_type": "stream",
     "text": [
      "Metric loss/val improved by 0.001 >= min_delta = 0.0001. New best score: 0.001\n"
     ]
    },
    {
     "name": "stdout",
     "output_type": "stream",
     "text": [
      "Epoch 12 [35/35] {'loss': '0.0219'}\r"
     ]
    },
    {
     "name": "stderr",
     "output_type": "stream",
     "text": [
      "Metric loss/val improved by 0.000 >= min_delta = 0.0001. New best score: 0.001\n"
     ]
    },
    {
     "name": "stdout",
     "output_type": "stream",
     "text": [
      "Epoch 14 [35/35] {'loss': '0.0199'}\r"
     ]
    },
    {
     "name": "stderr",
     "output_type": "stream",
     "text": [
      "Metric loss/val improved by 0.000 >= min_delta = 0.0001. New best score: 0.001\n"
     ]
    },
    {
     "name": "stdout",
     "output_type": "stream",
     "text": [
      "Epoch 16 [35/35] {'loss': '0.0359'}\r"
     ]
    },
    {
     "name": "stderr",
     "output_type": "stream",
     "text": [
      "Metric loss/val improved by 0.000 >= min_delta = 0.0001. New best score: 0.000\n"
     ]
    },
    {
     "name": "stdout",
     "output_type": "stream",
     "text": [
      "Epoch 22 [35/35] {'loss': '0.0231'}}\r"
     ]
    },
    {
     "name": "stderr",
     "output_type": "stream",
     "text": [
      "Metric loss/val improved by 0.000 >= min_delta = 0.0001. New best score: 0.000\n"
     ]
    },
    {
     "name": "stdout",
     "output_type": "stream",
     "text": [
      "Epoch 34 [35/35] {'loss': '0.0104'}}\r"
     ]
    },
    {
     "name": "stderr",
     "output_type": "stream",
     "text": [
      "Metric loss/val improved by 0.000 >= min_delta = 0.0001. New best score: 0.000\n"
     ]
    },
    {
     "name": "stdout",
     "output_type": "stream",
     "text": [
      "Epoch 54 [35/35] {'loss': '0.00882'}\r"
     ]
    },
    {
     "name": "stderr",
     "output_type": "stream",
     "text": [
      "Monitored metric loss/val did not improve in the last 20 records. Best score: 0.000. Signaling Trainer to stop.\n",
      "GPU available: True, used: True\n",
      "TPU available: False, using: 0 TPU cores\n",
      "LOCAL_RANK: 0 - CUDA_VISIBLE_DEVICES: [0]\n",
      "\n",
      "  | Name               | Type             | Params\n",
      "--------------------------------------------------------\n",
      "0 | model              | fc               | 127 K \n",
      "1 | criteria           | CrossEntropyLoss | 0     \n",
      "2 | valid_metrics      | MetricCollection | 0     \n",
      "3 | valid_dummy_metric | AUROC            | 0     \n",
      "--------------------------------------------------------\n",
      "127 K     Trainable params\n",
      "0         Non-trainable params\n",
      "127 K     Total params\n",
      "0.509     Total estimated model params size (MB)\n"
     ]
    },
    {
     "name": "stdout",
     "output_type": "stream",
     "text": [
      "Architecture [fc] was created\n",
      "***Defined hyperparameters:***\n",
      "\"arch\":                {'name': 'fc', 'args': {'num_channels': 1, 'num_classes': 3}}\n",
      "\"checkpoint_path\":     None\n",
      "\"class_weights\":       tensor([1.2466, 0.6500, 1.5167], device='cuda:0')\n",
      "\"hp_metrics\":          ['loss/train', 'loss/val', 'Accuracy/val', 'AUROC/val', 'Precision/val', 'Recall/val', 'Specificity/val']\n",
      "\"loss\":                {'type': 'CrossEntropyLoss', 'args': {'weight': True}}\n",
      "\"optimizer\":           {'type': 'Adam', 'args': {'lr': 0.001, 'weight_decay': 0, 'amsgrad': False}}\n",
      "\"roi_hparams\":         {'enable': True, 'output_shape': [9, 9, 9], 'boundary_boxes': {2: [[23, 48, 57, 76, 34, 49], [25, 31, 55, 68, 69, 79], [25, 85, 69, 95, 30, 65], [42, 12, 79, 50, 33, 47], [22, 18, 49, 49, 16, 29], [40, 33, 79, 76, 9, 26], [70, 28, 79, 72, 19, 63], [11, 9, 63, 78, 26, 78]], 1: [[29, 19, 68, 38, 1, 18], [46, 38, 78, 61, 10, 25], [65, 25, 79, 42, 12, 59], [27, 33, 62, 69, 70, 79], [10, 10, 53, 23, 25, 61], [24, 63, 49, 86, 11, 33], [34, 32, 55, 60, 37, 55], [40, 10, 79, 77, 11, 68]], 0: [[63, 63, 79, 84, 27, 61], [26, 21, 61, 53, 31, 44], [45, 43, 73, 84, 1, 16], [11, 8, 53, 21, 20, 40], [31, 10, 60, 26, 45, 69], [27, 85, 70, 95, 28, 62], [22, 38, 73, 95, 16, 48], [19, 55, 70, 84, 71, 79], [46, 18, 79, 40, 10, 30], [11, 8, 79, 44, 10, 70]]}}\n",
      "\"weight_distribution\": None\n",
      "Enabled callbacks:  ['LitProgressBar', 'EarlyStopping']\n",
      "Dataloader fold: 3\n",
      "Epoch 1 [35/35] {'loss': '1.07'}\r"
     ]
    },
    {
     "name": "stderr",
     "output_type": "stream",
     "text": [
      "Metric loss/val improved. New best score: 0.931\n"
     ]
    },
    {
     "name": "stdout",
     "output_type": "stream",
     "text": [
      "Epoch 2 [35/35] {'loss': '0.794'}\r"
     ]
    },
    {
     "name": "stderr",
     "output_type": "stream",
     "text": [
      "Metric loss/val improved by 0.344 >= min_delta = 0.0001. New best score: 0.587\n"
     ]
    },
    {
     "name": "stdout",
     "output_type": "stream",
     "text": [
      "Epoch 3 [35/35] {'loss': '0.499'}\r"
     ]
    },
    {
     "name": "stderr",
     "output_type": "stream",
     "text": [
      "Metric loss/val improved by 0.379 >= min_delta = 0.0001. New best score: 0.207\n"
     ]
    },
    {
     "name": "stdout",
     "output_type": "stream",
     "text": [
      "Epoch 4 [35/35] {'loss': '0.219'}\r"
     ]
    },
    {
     "name": "stderr",
     "output_type": "stream",
     "text": [
      "Metric loss/val improved by 0.129 >= min_delta = 0.0001. New best score: 0.078\n"
     ]
    },
    {
     "name": "stdout",
     "output_type": "stream",
     "text": [
      "Epoch 5 [35/35] {'loss': '0.166'}\r"
     ]
    },
    {
     "name": "stderr",
     "output_type": "stream",
     "text": [
      "Metric loss/val improved by 0.027 >= min_delta = 0.0001. New best score: 0.051\n"
     ]
    },
    {
     "name": "stdout",
     "output_type": "stream",
     "text": [
      "Epoch 6 [35/35] {'loss': '0.0881'}\r"
     ]
    },
    {
     "name": "stderr",
     "output_type": "stream",
     "text": [
      "Metric loss/val improved by 0.039 >= min_delta = 0.0001. New best score: 0.012\n"
     ]
    },
    {
     "name": "stdout",
     "output_type": "stream",
     "text": [
      "Epoch 7 [35/35] {'loss': '0.0769'}\r"
     ]
    },
    {
     "name": "stderr",
     "output_type": "stream",
     "text": [
      "Metric loss/val improved by 0.002 >= min_delta = 0.0001. New best score: 0.009\n"
     ]
    },
    {
     "name": "stdout",
     "output_type": "stream",
     "text": [
      "Epoch 8 [35/35] {'loss': '0.0705'}\r"
     ]
    },
    {
     "name": "stderr",
     "output_type": "stream",
     "text": [
      "Metric loss/val improved by 0.003 >= min_delta = 0.0001. New best score: 0.006\n"
     ]
    },
    {
     "name": "stdout",
     "output_type": "stream",
     "text": [
      "Epoch 9 [35/35] {'loss': '0.0623'}\r"
     ]
    },
    {
     "name": "stderr",
     "output_type": "stream",
     "text": [
      "Metric loss/val improved by 0.003 >= min_delta = 0.0001. New best score: 0.003\n"
     ]
    },
    {
     "name": "stdout",
     "output_type": "stream",
     "text": [
      "Epoch 10 [35/35] {'loss': '0.0361'}\r"
     ]
    },
    {
     "name": "stderr",
     "output_type": "stream",
     "text": [
      "Metric loss/val improved by 0.001 >= min_delta = 0.0001. New best score: 0.002\n"
     ]
    },
    {
     "name": "stdout",
     "output_type": "stream",
     "text": [
      "Epoch 11 [35/35] {'loss': '0.024'}}\r"
     ]
    },
    {
     "name": "stderr",
     "output_type": "stream",
     "text": [
      "Metric loss/val improved by 0.001 >= min_delta = 0.0001. New best score: 0.001\n"
     ]
    },
    {
     "name": "stdout",
     "output_type": "stream",
     "text": [
      "Epoch 12 [35/35] {'loss': '0.0184'}\r"
     ]
    },
    {
     "name": "stderr",
     "output_type": "stream",
     "text": [
      "Metric loss/val improved by 0.000 >= min_delta = 0.0001. New best score: 0.001\n"
     ]
    },
    {
     "name": "stdout",
     "output_type": "stream",
     "text": [
      "Epoch 15 [35/35] {'loss': '0.039'}}\r"
     ]
    },
    {
     "name": "stderr",
     "output_type": "stream",
     "text": [
      "Metric loss/val improved by 0.000 >= min_delta = 0.0001. New best score: 0.000\n"
     ]
    },
    {
     "name": "stdout",
     "output_type": "stream",
     "text": [
      "Epoch 19 [35/35] {'loss': '0.0327'}\r"
     ]
    },
    {
     "name": "stderr",
     "output_type": "stream",
     "text": [
      "Metric loss/val improved by 0.000 >= min_delta = 0.0001. New best score: 0.000\n"
     ]
    },
    {
     "name": "stdout",
     "output_type": "stream",
     "text": [
      "Epoch 20 [35/35] {'loss': '0.0185'}\r"
     ]
    },
    {
     "name": "stderr",
     "output_type": "stream",
     "text": [
      "Metric loss/val improved by 0.000 >= min_delta = 0.0001. New best score: 0.000\n"
     ]
    },
    {
     "name": "stdout",
     "output_type": "stream",
     "text": [
      "Epoch 30 [35/35] {'loss': '0.0122'}}\r"
     ]
    },
    {
     "name": "stderr",
     "output_type": "stream",
     "text": [
      "Metric loss/val improved by 0.000 >= min_delta = 0.0001. New best score: 0.000\n"
     ]
    },
    {
     "name": "stdout",
     "output_type": "stream",
     "text": [
      "Epoch 50 [35/35] {'loss': '0.0402'}}\r"
     ]
    },
    {
     "name": "stderr",
     "output_type": "stream",
     "text": [
      "Monitored metric loss/val did not improve in the last 20 records. Best score: 0.000. Signaling Trainer to stop.\n",
      "GPU available: True, used: True\n",
      "TPU available: False, using: 0 TPU cores\n",
      "LOCAL_RANK: 0 - CUDA_VISIBLE_DEVICES: [0]\n",
      "\n",
      "  | Name               | Type             | Params\n",
      "--------------------------------------------------------\n",
      "0 | model              | fc               | 127 K \n",
      "1 | criteria           | CrossEntropyLoss | 0     \n",
      "2 | valid_metrics      | MetricCollection | 0     \n",
      "3 | valid_dummy_metric | AUROC            | 0     \n",
      "--------------------------------------------------------\n",
      "127 K     Trainable params\n",
      "0         Non-trainable params\n",
      "127 K     Total params\n",
      "0.509     Total estimated model params size (MB)\n"
     ]
    },
    {
     "name": "stdout",
     "output_type": "stream",
     "text": [
      "Architecture [fc] was created\n",
      "***Defined hyperparameters:***\n",
      "\"arch\":                {'name': 'fc', 'args': {'num_channels': 1, 'num_classes': 3}}\n",
      "\"checkpoint_path\":     None\n",
      "\"class_weights\":       tensor([1.2466, 0.6500, 1.5167], device='cuda:0')\n",
      "\"hp_metrics\":          ['loss/train', 'loss/val', 'Accuracy/val', 'AUROC/val', 'Precision/val', 'Recall/val', 'Specificity/val']\n",
      "\"loss\":                {'type': 'CrossEntropyLoss', 'args': {'weight': True}}\n",
      "\"optimizer\":           {'type': 'Adam', 'args': {'lr': 0.001, 'weight_decay': 0, 'amsgrad': False}}\n",
      "\"roi_hparams\":         {'enable': True, 'output_shape': [9, 9, 9], 'boundary_boxes': {2: [[23, 48, 57, 76, 34, 49], [25, 31, 55, 68, 69, 79], [25, 85, 69, 95, 30, 65], [42, 12, 79, 50, 33, 47], [22, 18, 49, 49, 16, 29], [40, 33, 79, 76, 9, 26], [70, 28, 79, 72, 19, 63], [11, 9, 63, 78, 26, 78]], 1: [[29, 19, 68, 38, 1, 18], [46, 38, 78, 61, 10, 25], [65, 25, 79, 42, 12, 59], [27, 33, 62, 69, 70, 79], [10, 10, 53, 23, 25, 61], [24, 63, 49, 86, 11, 33], [34, 32, 55, 60, 37, 55], [40, 10, 79, 77, 11, 68]], 0: [[63, 63, 79, 84, 27, 61], [26, 21, 61, 53, 31, 44], [45, 43, 73, 84, 1, 16], [11, 8, 53, 21, 20, 40], [31, 10, 60, 26, 45, 69], [27, 85, 70, 95, 28, 62], [22, 38, 73, 95, 16, 48], [19, 55, 70, 84, 71, 79], [46, 18, 79, 40, 10, 30], [11, 8, 79, 44, 10, 70]]}}\n",
      "\"weight_distribution\": None\n",
      "Enabled callbacks:  ['LitProgressBar', 'EarlyStopping']\n",
      "Dataloader fold: 4\n",
      "Epoch 1 [35/35] {'loss': '1.02'}\r"
     ]
    },
    {
     "name": "stderr",
     "output_type": "stream",
     "text": [
      "Metric loss/val improved. New best score: 0.857\n"
     ]
    },
    {
     "name": "stdout",
     "output_type": "stream",
     "text": [
      "Epoch 2 [35/35] {'loss': '0.745'}\r"
     ]
    },
    {
     "name": "stderr",
     "output_type": "stream",
     "text": [
      "Metric loss/val improved by 0.306 >= min_delta = 0.0001. New best score: 0.551\n"
     ]
    },
    {
     "name": "stdout",
     "output_type": "stream",
     "text": [
      "Epoch 3 [35/35] {'loss': '0.442'}\r"
     ]
    },
    {
     "name": "stderr",
     "output_type": "stream",
     "text": [
      "Metric loss/val improved by 0.381 >= min_delta = 0.0001. New best score: 0.170\n"
     ]
    },
    {
     "name": "stdout",
     "output_type": "stream",
     "text": [
      "Epoch 4 [35/35] {'loss': '0.218'}\r"
     ]
    },
    {
     "name": "stderr",
     "output_type": "stream",
     "text": [
      "Metric loss/val improved by 0.119 >= min_delta = 0.0001. New best score: 0.051\n"
     ]
    },
    {
     "name": "stdout",
     "output_type": "stream",
     "text": [
      "Epoch 5 [35/35] {'loss': '0.0767'}\r"
     ]
    },
    {
     "name": "stderr",
     "output_type": "stream",
     "text": [
      "Metric loss/val improved by 0.033 >= min_delta = 0.0001. New best score: 0.018\n"
     ]
    },
    {
     "name": "stdout",
     "output_type": "stream",
     "text": [
      "Epoch 6 [35/35] {'loss': '0.0991'}\r"
     ]
    },
    {
     "name": "stderr",
     "output_type": "stream",
     "text": [
      "Metric loss/val improved by 0.009 >= min_delta = 0.0001. New best score: 0.008\n"
     ]
    },
    {
     "name": "stdout",
     "output_type": "stream",
     "text": [
      "Epoch 7 [35/35] {'loss': '0.0604'}\r"
     ]
    },
    {
     "name": "stderr",
     "output_type": "stream",
     "text": [
      "Metric loss/val improved by 0.004 >= min_delta = 0.0001. New best score: 0.005\n"
     ]
    },
    {
     "name": "stdout",
     "output_type": "stream",
     "text": [
      "Epoch 8 [35/35] {'loss': '0.0698'}\r"
     ]
    },
    {
     "name": "stderr",
     "output_type": "stream",
     "text": [
      "Metric loss/val improved by 0.002 >= min_delta = 0.0001. New best score: 0.003\n"
     ]
    },
    {
     "name": "stdout",
     "output_type": "stream",
     "text": [
      "Epoch 9 [35/35] {'loss': '0.0401'}\r"
     ]
    },
    {
     "name": "stderr",
     "output_type": "stream",
     "text": [
      "Metric loss/val improved by 0.001 >= min_delta = 0.0001. New best score: 0.002\n"
     ]
    },
    {
     "name": "stdout",
     "output_type": "stream",
     "text": [
      "Epoch 10 [35/35] {'loss': '0.0284'}\r"
     ]
    },
    {
     "name": "stderr",
     "output_type": "stream",
     "text": [
      "Metric loss/val improved by 0.001 >= min_delta = 0.0001. New best score: 0.002\n"
     ]
    },
    {
     "name": "stdout",
     "output_type": "stream",
     "text": [
      "Epoch 11 [35/35] {'loss': '0.043'}}\r"
     ]
    },
    {
     "name": "stderr",
     "output_type": "stream",
     "text": [
      "Metric loss/val improved by 0.000 >= min_delta = 0.0001. New best score: 0.001\n"
     ]
    },
    {
     "name": "stdout",
     "output_type": "stream",
     "text": [
      "Epoch 12 [35/35] {'loss': '0.0318'}\r"
     ]
    },
    {
     "name": "stderr",
     "output_type": "stream",
     "text": [
      "Metric loss/val improved by 0.000 >= min_delta = 0.0001. New best score: 0.001\n"
     ]
    },
    {
     "name": "stdout",
     "output_type": "stream",
     "text": [
      "Epoch 14 [35/35] {'loss': '0.0352'}\r"
     ]
    },
    {
     "name": "stderr",
     "output_type": "stream",
     "text": [
      "Metric loss/val improved by 0.000 >= min_delta = 0.0001. New best score: 0.001\n"
     ]
    },
    {
     "name": "stdout",
     "output_type": "stream",
     "text": [
      "Epoch 15 [35/35] {'loss': '0.0319'}\r"
     ]
    },
    {
     "name": "stderr",
     "output_type": "stream",
     "text": [
      "Metric loss/val improved by 0.000 >= min_delta = 0.0001. New best score: 0.001\n"
     ]
    },
    {
     "name": "stdout",
     "output_type": "stream",
     "text": [
      "Epoch 17 [35/35] {'loss': '0.0218'}\r"
     ]
    },
    {
     "name": "stderr",
     "output_type": "stream",
     "text": [
      "Metric loss/val improved by 0.000 >= min_delta = 0.0001. New best score: 0.000\n"
     ]
    },
    {
     "name": "stdout",
     "output_type": "stream",
     "text": [
      "Epoch 27 [35/35] {'loss': '0.035'}}}\r"
     ]
    },
    {
     "name": "stderr",
     "output_type": "stream",
     "text": [
      "Metric loss/val improved by 0.000 >= min_delta = 0.0001. New best score: 0.000\n"
     ]
    },
    {
     "name": "stdout",
     "output_type": "stream",
     "text": [
      "Epoch 47 [35/35] {'loss': '0.0177'}}\r"
     ]
    },
    {
     "name": "stderr",
     "output_type": "stream",
     "text": [
      "Monitored metric loss/val did not improve in the last 20 records. Best score: 0.000. Signaling Trainer to stop.\n",
      "GPU available: True, used: True\n",
      "TPU available: False, using: 0 TPU cores\n",
      "LOCAL_RANK: 0 - CUDA_VISIBLE_DEVICES: [0]\n",
      "\n",
      "  | Name               | Type             | Params\n",
      "--------------------------------------------------------\n",
      "0 | model              | fc               | 127 K \n",
      "1 | criteria           | CrossEntropyLoss | 0     \n",
      "2 | valid_metrics      | MetricCollection | 0     \n",
      "3 | valid_dummy_metric | AUROC            | 0     \n",
      "--------------------------------------------------------\n",
      "127 K     Trainable params\n",
      "0         Non-trainable params\n",
      "127 K     Total params\n",
      "0.509     Total estimated model params size (MB)\n"
     ]
    },
    {
     "name": "stdout",
     "output_type": "stream",
     "text": [
      "Architecture [fc] was created\n",
      "***Defined hyperparameters:***\n",
      "\"arch\":                {'name': 'fc', 'args': {'num_channels': 1, 'num_classes': 3}}\n",
      "\"checkpoint_path\":     None\n",
      "\"class_weights\":       tensor([1.2466, 0.6500, 1.5167], device='cuda:0')\n",
      "\"hp_metrics\":          ['loss/train', 'loss/val', 'Accuracy/val', 'AUROC/val', 'Precision/val', 'Recall/val', 'Specificity/val']\n",
      "\"loss\":                {'type': 'CrossEntropyLoss', 'args': {'weight': True}}\n",
      "\"optimizer\":           {'type': 'Adam', 'args': {'lr': 0.001, 'weight_decay': 0, 'amsgrad': False}}\n",
      "\"roi_hparams\":         {'enable': True, 'output_shape': [9, 9, 9], 'boundary_boxes': {2: [[23, 48, 57, 76, 34, 49], [25, 31, 55, 68, 69, 79], [25, 85, 69, 95, 30, 65], [42, 12, 79, 50, 33, 47], [22, 18, 49, 49, 16, 29], [40, 33, 79, 76, 9, 26], [70, 28, 79, 72, 19, 63], [11, 9, 63, 78, 26, 78]], 1: [[29, 19, 68, 38, 1, 18], [46, 38, 78, 61, 10, 25], [65, 25, 79, 42, 12, 59], [27, 33, 62, 69, 70, 79], [10, 10, 53, 23, 25, 61], [24, 63, 49, 86, 11, 33], [34, 32, 55, 60, 37, 55], [40, 10, 79, 77, 11, 68]], 0: [[63, 63, 79, 84, 27, 61], [26, 21, 61, 53, 31, 44], [45, 43, 73, 84, 1, 16], [11, 8, 53, 21, 20, 40], [31, 10, 60, 26, 45, 69], [27, 85, 70, 95, 28, 62], [22, 38, 73, 95, 16, 48], [19, 55, 70, 84, 71, 79], [46, 18, 79, 40, 10, 30], [11, 8, 79, 44, 10, 70]]}}\n",
      "\"weight_distribution\": None\n",
      "Enabled callbacks:  ['LitProgressBar', 'EarlyStopping']\n",
      "Dataloader fold: 5\n",
      "Epoch 1 [35/35] {'loss': '1.02'}\r"
     ]
    },
    {
     "name": "stderr",
     "output_type": "stream",
     "text": [
      "Metric loss/val improved. New best score: 0.854\n"
     ]
    },
    {
     "name": "stdout",
     "output_type": "stream",
     "text": [
      "Epoch 2 [35/35] {'loss': '0.711'}\r"
     ]
    },
    {
     "name": "stderr",
     "output_type": "stream",
     "text": [
      "Metric loss/val improved by 0.349 >= min_delta = 0.0001. New best score: 0.505\n"
     ]
    },
    {
     "name": "stdout",
     "output_type": "stream",
     "text": [
      "Epoch 3 [35/35] {'loss': '0.412'}\r"
     ]
    },
    {
     "name": "stderr",
     "output_type": "stream",
     "text": [
      "Metric loss/val improved by 0.349 >= min_delta = 0.0001. New best score: 0.156\n"
     ]
    },
    {
     "name": "stdout",
     "output_type": "stream",
     "text": [
      "Epoch 4 [35/35] {'loss': '0.196'}\r"
     ]
    },
    {
     "name": "stderr",
     "output_type": "stream",
     "text": [
      "Metric loss/val improved by 0.094 >= min_delta = 0.0001. New best score: 0.062\n"
     ]
    },
    {
     "name": "stdout",
     "output_type": "stream",
     "text": [
      "Epoch 5 [35/35] {'loss': '0.113'}\r"
     ]
    },
    {
     "name": "stderr",
     "output_type": "stream",
     "text": [
      "Metric loss/val improved by 0.044 >= min_delta = 0.0001. New best score: 0.017\n"
     ]
    },
    {
     "name": "stdout",
     "output_type": "stream",
     "text": [
      "Epoch 6 [35/35] {'loss': '0.088'}}\r"
     ]
    },
    {
     "name": "stderr",
     "output_type": "stream",
     "text": [
      "Metric loss/val improved by 0.003 >= min_delta = 0.0001. New best score: 0.015\n"
     ]
    },
    {
     "name": "stdout",
     "output_type": "stream",
     "text": [
      "Epoch 7 [35/35] {'loss': '0.076'}}\r"
     ]
    },
    {
     "name": "stderr",
     "output_type": "stream",
     "text": [
      "Metric loss/val improved by 0.011 >= min_delta = 0.0001. New best score: 0.004\n"
     ]
    },
    {
     "name": "stdout",
     "output_type": "stream",
     "text": [
      "Epoch 10 [35/35] {'loss': '0.0304'}\r"
     ]
    },
    {
     "name": "stderr",
     "output_type": "stream",
     "text": [
      "Metric loss/val improved by 0.003 >= min_delta = 0.0001. New best score: 0.001\n"
     ]
    },
    {
     "name": "stdout",
     "output_type": "stream",
     "text": [
      "Epoch 12 [35/35] {'loss': '0.022'}}\r"
     ]
    },
    {
     "name": "stderr",
     "output_type": "stream",
     "text": [
      "Metric loss/val improved by 0.001 >= min_delta = 0.0001. New best score: 0.001\n"
     ]
    },
    {
     "name": "stdout",
     "output_type": "stream",
     "text": [
      "Epoch 16 [35/35] {'loss': '0.0263'}\r"
     ]
    },
    {
     "name": "stderr",
     "output_type": "stream",
     "text": [
      "Metric loss/val improved by 0.000 >= min_delta = 0.0001. New best score: 0.001\n"
     ]
    },
    {
     "name": "stdout",
     "output_type": "stream",
     "text": [
      "Epoch 17 [35/35] {'loss': '0.0181'}\r"
     ]
    },
    {
     "name": "stderr",
     "output_type": "stream",
     "text": [
      "Metric loss/val improved by 0.000 >= min_delta = 0.0001. New best score: 0.000\n"
     ]
    },
    {
     "name": "stdout",
     "output_type": "stream",
     "text": [
      "Epoch 22 [35/35] {'loss': '0.0123'}}\r"
     ]
    },
    {
     "name": "stderr",
     "output_type": "stream",
     "text": [
      "Metric loss/val improved by 0.000 >= min_delta = 0.0001. New best score: 0.000\n"
     ]
    },
    {
     "name": "stdout",
     "output_type": "stream",
     "text": [
      "Epoch 42 [35/35] {'loss': '0.0141'}}\r"
     ]
    },
    {
     "name": "stderr",
     "output_type": "stream",
     "text": [
      "Monitored metric loss/val did not improve in the last 20 records. Best score: 0.000. Signaling Trainer to stop.\n",
      "GPU available: True, used: True\n",
      "TPU available: False, using: 0 TPU cores\n",
      "LOCAL_RANK: 0 - CUDA_VISIBLE_DEVICES: [0]\n",
      "\n",
      "  | Name               | Type             | Params\n",
      "--------------------------------------------------------\n",
      "0 | model              | fc               | 127 K \n",
      "1 | criteria           | CrossEntropyLoss | 0     \n",
      "2 | valid_metrics      | MetricCollection | 0     \n",
      "3 | valid_dummy_metric | AUROC            | 0     \n",
      "--------------------------------------------------------\n",
      "127 K     Trainable params\n",
      "0         Non-trainable params\n",
      "127 K     Total params\n",
      "0.509     Total estimated model params size (MB)\n"
     ]
    },
    {
     "name": "stdout",
     "output_type": "stream",
     "text": [
      "Architecture [fc] was created\n",
      "***Defined hyperparameters:***\n",
      "\"arch\":                {'name': 'fc', 'args': {'num_channels': 1, 'num_classes': 3}}\n",
      "\"checkpoint_path\":     None\n",
      "\"class_weights\":       tensor([1.2466, 0.6500, 1.5167], device='cuda:0')\n",
      "\"hp_metrics\":          ['loss/train', 'loss/val', 'Accuracy/val', 'AUROC/val', 'Precision/val', 'Recall/val', 'Specificity/val']\n",
      "\"loss\":                {'type': 'CrossEntropyLoss', 'args': {'weight': True}}\n",
      "\"optimizer\":           {'type': 'Adam', 'args': {'lr': 0.001, 'weight_decay': 0, 'amsgrad': False}}\n",
      "\"roi_hparams\":         {'enable': True, 'output_shape': [9, 9, 9], 'boundary_boxes': {2: [[23, 48, 57, 76, 34, 49], [25, 31, 55, 68, 69, 79], [25, 85, 69, 95, 30, 65], [42, 12, 79, 50, 33, 47], [22, 18, 49, 49, 16, 29], [40, 33, 79, 76, 9, 26], [70, 28, 79, 72, 19, 63], [11, 9, 63, 78, 26, 78]], 1: [[29, 19, 68, 38, 1, 18], [46, 38, 78, 61, 10, 25], [65, 25, 79, 42, 12, 59], [27, 33, 62, 69, 70, 79], [10, 10, 53, 23, 25, 61], [24, 63, 49, 86, 11, 33], [34, 32, 55, 60, 37, 55], [40, 10, 79, 77, 11, 68]], 0: [[63, 63, 79, 84, 27, 61], [26, 21, 61, 53, 31, 44], [45, 43, 73, 84, 1, 16], [11, 8, 53, 21, 20, 40], [31, 10, 60, 26, 45, 69], [27, 85, 70, 95, 28, 62], [22, 38, 73, 95, 16, 48], [19, 55, 70, 84, 71, 79], [46, 18, 79, 40, 10, 30], [11, 8, 79, 44, 10, 70]]}}\n",
      "\"weight_distribution\": None\n",
      "Enabled callbacks:  ['LitProgressBar', 'EarlyStopping']\n",
      "Dataloader fold: 6\n",
      "Epoch 1 [35/35] {'loss': '1.04'}\r"
     ]
    },
    {
     "name": "stderr",
     "output_type": "stream",
     "text": [
      "Metric loss/val improved. New best score: 0.843\n"
     ]
    },
    {
     "name": "stdout",
     "output_type": "stream",
     "text": [
      "Epoch 2 [35/35] {'loss': '0.743'}\r"
     ]
    },
    {
     "name": "stderr",
     "output_type": "stream",
     "text": [
      "Metric loss/val improved by 0.324 >= min_delta = 0.0001. New best score: 0.519\n"
     ]
    },
    {
     "name": "stdout",
     "output_type": "stream",
     "text": [
      "Epoch 3 [35/35] {'loss': '0.392'}\r"
     ]
    },
    {
     "name": "stderr",
     "output_type": "stream",
     "text": [
      "Metric loss/val improved by 0.365 >= min_delta = 0.0001. New best score: 0.154\n"
     ]
    },
    {
     "name": "stdout",
     "output_type": "stream",
     "text": [
      "Epoch 4 [35/35] {'loss': '0.189'}\r"
     ]
    },
    {
     "name": "stderr",
     "output_type": "stream",
     "text": [
      "Metric loss/val improved by 0.103 >= min_delta = 0.0001. New best score: 0.051\n"
     ]
    },
    {
     "name": "stdout",
     "output_type": "stream",
     "text": [
      "Epoch 5 [35/35] {'loss': '0.101'}}\r"
     ]
    },
    {
     "name": "stderr",
     "output_type": "stream",
     "text": [
      "Metric loss/val improved by 0.035 >= min_delta = 0.0001. New best score: 0.017\n"
     ]
    },
    {
     "name": "stdout",
     "output_type": "stream",
     "text": [
      "Epoch 6 [35/35] {'loss': '0.106'}}\r"
     ]
    },
    {
     "name": "stderr",
     "output_type": "stream",
     "text": [
      "Metric loss/val improved by 0.007 >= min_delta = 0.0001. New best score: 0.010\n"
     ]
    },
    {
     "name": "stdout",
     "output_type": "stream",
     "text": [
      "Epoch 7 [35/35] {'loss': '0.0448'}\r"
     ]
    },
    {
     "name": "stderr",
     "output_type": "stream",
     "text": [
      "Metric loss/val improved by 0.006 >= min_delta = 0.0001. New best score: 0.004\n"
     ]
    },
    {
     "name": "stdout",
     "output_type": "stream",
     "text": [
      "Epoch 8 [35/35] {'loss': '0.0596'}\r"
     ]
    },
    {
     "name": "stderr",
     "output_type": "stream",
     "text": [
      "Metric loss/val improved by 0.000 >= min_delta = 0.0001. New best score: 0.004\n"
     ]
    },
    {
     "name": "stdout",
     "output_type": "stream",
     "text": [
      "Epoch 10 [35/35] {'loss': '0.0447'}\r"
     ]
    },
    {
     "name": "stderr",
     "output_type": "stream",
     "text": [
      "Metric loss/val improved by 0.002 >= min_delta = 0.0001. New best score: 0.002\n"
     ]
    },
    {
     "name": "stdout",
     "output_type": "stream",
     "text": [
      "Epoch 11 [35/35] {'loss': '0.0271'}\r"
     ]
    },
    {
     "name": "stderr",
     "output_type": "stream",
     "text": [
      "Metric loss/val improved by 0.000 >= min_delta = 0.0001. New best score: 0.001\n"
     ]
    },
    {
     "name": "stdout",
     "output_type": "stream",
     "text": [
      "Epoch 12 [35/35] {'loss': '0.0318'}\r"
     ]
    },
    {
     "name": "stderr",
     "output_type": "stream",
     "text": [
      "Metric loss/val improved by 0.001 >= min_delta = 0.0001. New best score: 0.001\n"
     ]
    },
    {
     "name": "stdout",
     "output_type": "stream",
     "text": [
      "Epoch 15 [35/35] {'loss': '0.0175'}\r"
     ]
    },
    {
     "name": "stderr",
     "output_type": "stream",
     "text": [
      "Metric loss/val improved by 0.000 >= min_delta = 0.0001. New best score: 0.000\n"
     ]
    },
    {
     "name": "stdout",
     "output_type": "stream",
     "text": [
      "Epoch 19 [35/35] {'loss': '0.0155'}}\r"
     ]
    },
    {
     "name": "stderr",
     "output_type": "stream",
     "text": [
      "Metric loss/val improved by 0.000 >= min_delta = 0.0001. New best score: 0.000\n"
     ]
    },
    {
     "name": "stdout",
     "output_type": "stream",
     "text": [
      "Epoch 21 [35/35] {'loss': '0.0101'}}\r"
     ]
    },
    {
     "name": "stderr",
     "output_type": "stream",
     "text": [
      "Metric loss/val improved by 0.000 >= min_delta = 0.0001. New best score: 0.000\n"
     ]
    },
    {
     "name": "stdout",
     "output_type": "stream",
     "text": [
      "Epoch 41 [35/35] {'loss': '0.0169'}}\r"
     ]
    },
    {
     "name": "stderr",
     "output_type": "stream",
     "text": [
      "Monitored metric loss/val did not improve in the last 20 records. Best score: 0.000. Signaling Trainer to stop.\n",
      "GPU available: True, used: True\n",
      "TPU available: False, using: 0 TPU cores\n",
      "LOCAL_RANK: 0 - CUDA_VISIBLE_DEVICES: [0]\n",
      "\n",
      "  | Name               | Type             | Params\n",
      "--------------------------------------------------------\n",
      "0 | model              | fc               | 127 K \n",
      "1 | criteria           | CrossEntropyLoss | 0     \n",
      "2 | valid_metrics      | MetricCollection | 0     \n",
      "3 | valid_dummy_metric | AUROC            | 0     \n",
      "--------------------------------------------------------\n",
      "127 K     Trainable params\n",
      "0         Non-trainable params\n",
      "127 K     Total params\n",
      "0.509     Total estimated model params size (MB)\n"
     ]
    },
    {
     "name": "stdout",
     "output_type": "stream",
     "text": [
      "Architecture [fc] was created\n",
      "***Defined hyperparameters:***\n",
      "\"arch\":                {'name': 'fc', 'args': {'num_channels': 1, 'num_classes': 3}}\n",
      "\"checkpoint_path\":     None\n",
      "\"class_weights\":       tensor([1.2466, 0.6500, 1.5167], device='cuda:0')\n",
      "\"hp_metrics\":          ['loss/train', 'loss/val', 'Accuracy/val', 'AUROC/val', 'Precision/val', 'Recall/val', 'Specificity/val']\n",
      "\"loss\":                {'type': 'CrossEntropyLoss', 'args': {'weight': True}}\n",
      "\"optimizer\":           {'type': 'Adam', 'args': {'lr': 0.001, 'weight_decay': 0, 'amsgrad': False}}\n",
      "\"roi_hparams\":         {'enable': True, 'output_shape': [9, 9, 9], 'boundary_boxes': {2: [[23, 48, 57, 76, 34, 49], [25, 31, 55, 68, 69, 79], [25, 85, 69, 95, 30, 65], [42, 12, 79, 50, 33, 47], [22, 18, 49, 49, 16, 29], [40, 33, 79, 76, 9, 26], [70, 28, 79, 72, 19, 63], [11, 9, 63, 78, 26, 78]], 1: [[29, 19, 68, 38, 1, 18], [46, 38, 78, 61, 10, 25], [65, 25, 79, 42, 12, 59], [27, 33, 62, 69, 70, 79], [10, 10, 53, 23, 25, 61], [24, 63, 49, 86, 11, 33], [34, 32, 55, 60, 37, 55], [40, 10, 79, 77, 11, 68]], 0: [[63, 63, 79, 84, 27, 61], [26, 21, 61, 53, 31, 44], [45, 43, 73, 84, 1, 16], [11, 8, 53, 21, 20, 40], [31, 10, 60, 26, 45, 69], [27, 85, 70, 95, 28, 62], [22, 38, 73, 95, 16, 48], [19, 55, 70, 84, 71, 79], [46, 18, 79, 40, 10, 30], [11, 8, 79, 44, 10, 70]]}}\n",
      "\"weight_distribution\": None\n",
      "Enabled callbacks:  ['LitProgressBar', 'EarlyStopping']\n",
      "Dataloader fold: 7\n",
      "Epoch 1 [35/35] {'loss': '1.02'}\r"
     ]
    },
    {
     "name": "stderr",
     "output_type": "stream",
     "text": [
      "Metric loss/val improved. New best score: 0.862\n"
     ]
    },
    {
     "name": "stdout",
     "output_type": "stream",
     "text": [
      "Epoch 2 [35/35] {'loss': '0.742'}\r"
     ]
    },
    {
     "name": "stderr",
     "output_type": "stream",
     "text": [
      "Metric loss/val improved by 0.396 >= min_delta = 0.0001. New best score: 0.467\n"
     ]
    },
    {
     "name": "stdout",
     "output_type": "stream",
     "text": [
      "Epoch 3 [35/35] {'loss': '0.437'}\r"
     ]
    },
    {
     "name": "stderr",
     "output_type": "stream",
     "text": [
      "Metric loss/val improved by 0.276 >= min_delta = 0.0001. New best score: 0.191\n"
     ]
    },
    {
     "name": "stdout",
     "output_type": "stream",
     "text": [
      "Epoch 4 [35/35] {'loss': '0.205'}\r"
     ]
    },
    {
     "name": "stderr",
     "output_type": "stream",
     "text": [
      "Metric loss/val improved by 0.124 >= min_delta = 0.0001. New best score: 0.067\n"
     ]
    },
    {
     "name": "stdout",
     "output_type": "stream",
     "text": [
      "Epoch 5 [35/35] {'loss': '0.103'}\r"
     ]
    },
    {
     "name": "stderr",
     "output_type": "stream",
     "text": [
      "Metric loss/val improved by 0.028 >= min_delta = 0.0001. New best score: 0.039\n"
     ]
    },
    {
     "name": "stdout",
     "output_type": "stream",
     "text": [
      "Epoch 6 [35/35] {'loss': '0.125'}}\r"
     ]
    },
    {
     "name": "stderr",
     "output_type": "stream",
     "text": [
      "Metric loss/val improved by 0.026 >= min_delta = 0.0001. New best score: 0.014\n"
     ]
    },
    {
     "name": "stdout",
     "output_type": "stream",
     "text": [
      "Epoch 8 [35/35] {'loss': '0.0818'}\r"
     ]
    },
    {
     "name": "stderr",
     "output_type": "stream",
     "text": [
      "Metric loss/val improved by 0.008 >= min_delta = 0.0001. New best score: 0.006\n"
     ]
    },
    {
     "name": "stdout",
     "output_type": "stream",
     "text": [
      "Epoch 9 [35/35] {'loss': '0.0698'}\r"
     ]
    },
    {
     "name": "stderr",
     "output_type": "stream",
     "text": [
      "Metric loss/val improved by 0.000 >= min_delta = 0.0001. New best score: 0.006\n"
     ]
    },
    {
     "name": "stdout",
     "output_type": "stream",
     "text": [
      "Epoch 10 [35/35] {'loss': '0.0302'}\r"
     ]
    },
    {
     "name": "stderr",
     "output_type": "stream",
     "text": [
      "Metric loss/val improved by 0.003 >= min_delta = 0.0001. New best score: 0.003\n"
     ]
    },
    {
     "name": "stdout",
     "output_type": "stream",
     "text": [
      "Epoch 11 [35/35] {'loss': '0.0184'}\r"
     ]
    },
    {
     "name": "stderr",
     "output_type": "stream",
     "text": [
      "Metric loss/val improved by 0.001 >= min_delta = 0.0001. New best score: 0.002\n"
     ]
    },
    {
     "name": "stdout",
     "output_type": "stream",
     "text": [
      "Epoch 12 [35/35] {'loss': '0.0153'}\r"
     ]
    },
    {
     "name": "stderr",
     "output_type": "stream",
     "text": [
      "Metric loss/val improved by 0.001 >= min_delta = 0.0001. New best score: 0.001\n"
     ]
    },
    {
     "name": "stdout",
     "output_type": "stream",
     "text": [
      "Epoch 15 [35/35] {'loss': '0.025'}}\r"
     ]
    },
    {
     "name": "stderr",
     "output_type": "stream",
     "text": [
      "Metric loss/val improved by 0.000 >= min_delta = 0.0001. New best score: 0.001\n"
     ]
    },
    {
     "name": "stdout",
     "output_type": "stream",
     "text": [
      "Epoch 16 [35/35] {'loss': '0.0229'}\r"
     ]
    },
    {
     "name": "stderr",
     "output_type": "stream",
     "text": [
      "Metric loss/val improved by 0.000 >= min_delta = 0.0001. New best score: 0.001\n"
     ]
    },
    {
     "name": "stdout",
     "output_type": "stream",
     "text": [
      "Epoch 19 [35/35] {'loss': '0.0199'}\r"
     ]
    },
    {
     "name": "stderr",
     "output_type": "stream",
     "text": [
      "Metric loss/val improved by 0.000 >= min_delta = 0.0001. New best score: 0.000\n"
     ]
    },
    {
     "name": "stdout",
     "output_type": "stream",
     "text": [
      "Epoch 25 [35/35] {'loss': '0.017'}}}\r"
     ]
    },
    {
     "name": "stderr",
     "output_type": "stream",
     "text": [
      "Metric loss/val improved by 0.000 >= min_delta = 0.0001. New best score: 0.000\n"
     ]
    },
    {
     "name": "stdout",
     "output_type": "stream",
     "text": [
      "Epoch 34 [35/35] {'loss': '0.0082'}}\r"
     ]
    },
    {
     "name": "stderr",
     "output_type": "stream",
     "text": [
      "Metric loss/val improved by 0.000 >= min_delta = 0.0001. New best score: 0.000\n"
     ]
    },
    {
     "name": "stdout",
     "output_type": "stream",
     "text": [
      "Epoch 54 [35/35] {'loss': '0.0339'}}\r"
     ]
    },
    {
     "name": "stderr",
     "output_type": "stream",
     "text": [
      "Monitored metric loss/val did not improve in the last 20 records. Best score: 0.000. Signaling Trainer to stop.\n",
      "GPU available: True, used: True\n",
      "TPU available: False, using: 0 TPU cores\n",
      "LOCAL_RANK: 0 - CUDA_VISIBLE_DEVICES: [0]\n",
      "\n",
      "  | Name               | Type             | Params\n",
      "--------------------------------------------------------\n",
      "0 | model              | fc               | 127 K \n",
      "1 | criteria           | CrossEntropyLoss | 0     \n",
      "2 | valid_metrics      | MetricCollection | 0     \n",
      "3 | valid_dummy_metric | AUROC            | 0     \n",
      "--------------------------------------------------------\n",
      "127 K     Trainable params\n",
      "0         Non-trainable params\n",
      "127 K     Total params\n",
      "0.509     Total estimated model params size (MB)\n"
     ]
    },
    {
     "name": "stdout",
     "output_type": "stream",
     "text": [
      "Architecture [fc] was created\n",
      "***Defined hyperparameters:***\n",
      "\"arch\":                {'name': 'fc', 'args': {'num_channels': 1, 'num_classes': 3}}\n",
      "\"checkpoint_path\":     None\n",
      "\"class_weights\":       tensor([1.2466, 0.6500, 1.5167], device='cuda:0')\n",
      "\"hp_metrics\":          ['loss/train', 'loss/val', 'Accuracy/val', 'AUROC/val', 'Precision/val', 'Recall/val', 'Specificity/val']\n",
      "\"loss\":                {'type': 'CrossEntropyLoss', 'args': {'weight': True}}\n",
      "\"optimizer\":           {'type': 'Adam', 'args': {'lr': 0.001, 'weight_decay': 0, 'amsgrad': False}}\n",
      "\"roi_hparams\":         {'enable': True, 'output_shape': [9, 9, 9], 'boundary_boxes': {2: [[23, 48, 57, 76, 34, 49], [25, 31, 55, 68, 69, 79], [25, 85, 69, 95, 30, 65], [42, 12, 79, 50, 33, 47], [22, 18, 49, 49, 16, 29], [40, 33, 79, 76, 9, 26], [70, 28, 79, 72, 19, 63], [11, 9, 63, 78, 26, 78]], 1: [[29, 19, 68, 38, 1, 18], [46, 38, 78, 61, 10, 25], [65, 25, 79, 42, 12, 59], [27, 33, 62, 69, 70, 79], [10, 10, 53, 23, 25, 61], [24, 63, 49, 86, 11, 33], [34, 32, 55, 60, 37, 55], [40, 10, 79, 77, 11, 68]], 0: [[63, 63, 79, 84, 27, 61], [26, 21, 61, 53, 31, 44], [45, 43, 73, 84, 1, 16], [11, 8, 53, 21, 20, 40], [31, 10, 60, 26, 45, 69], [27, 85, 70, 95, 28, 62], [22, 38, 73, 95, 16, 48], [19, 55, 70, 84, 71, 79], [46, 18, 79, 40, 10, 30], [11, 8, 79, 44, 10, 70]]}}\n",
      "\"weight_distribution\": None\n",
      "Enabled callbacks:  ['LitProgressBar', 'EarlyStopping']\n",
      "Dataloader fold: 8\n",
      "Epoch 1 [35/35] {'loss': '0.989'}\r"
     ]
    },
    {
     "name": "stderr",
     "output_type": "stream",
     "text": [
      "Metric loss/val improved. New best score: 0.823\n"
     ]
    },
    {
     "name": "stdout",
     "output_type": "stream",
     "text": [
      "Epoch 2 [35/35] {'loss': '0.676'}\r"
     ]
    },
    {
     "name": "stderr",
     "output_type": "stream",
     "text": [
      "Metric loss/val improved by 0.458 >= min_delta = 0.0001. New best score: 0.364\n"
     ]
    },
    {
     "name": "stdout",
     "output_type": "stream",
     "text": [
      "Epoch 3 [35/35] {'loss': '0.336'}\r"
     ]
    },
    {
     "name": "stderr",
     "output_type": "stream",
     "text": [
      "Metric loss/val improved by 0.246 >= min_delta = 0.0001. New best score: 0.119\n"
     ]
    },
    {
     "name": "stdout",
     "output_type": "stream",
     "text": [
      "Epoch 4 [35/35] {'loss': '0.184'}\r"
     ]
    },
    {
     "name": "stderr",
     "output_type": "stream",
     "text": [
      "Metric loss/val improved by 0.073 >= min_delta = 0.0001. New best score: 0.045\n"
     ]
    },
    {
     "name": "stdout",
     "output_type": "stream",
     "text": [
      "Epoch 5 [35/35] {'loss': '0.115'}\r"
     ]
    },
    {
     "name": "stderr",
     "output_type": "stream",
     "text": [
      "Metric loss/val improved by 0.029 >= min_delta = 0.0001. New best score: 0.016\n"
     ]
    },
    {
     "name": "stdout",
     "output_type": "stream",
     "text": [
      "Epoch 6 [35/35] {'loss': '0.0663'}\r"
     ]
    },
    {
     "name": "stderr",
     "output_type": "stream",
     "text": [
      "Metric loss/val improved by 0.008 >= min_delta = 0.0001. New best score: 0.008\n"
     ]
    },
    {
     "name": "stdout",
     "output_type": "stream",
     "text": [
      "Epoch 7 [35/35] {'loss': '0.0716'}\r"
     ]
    },
    {
     "name": "stderr",
     "output_type": "stream",
     "text": [
      "Metric loss/val improved by 0.004 >= min_delta = 0.0001. New best score: 0.004\n"
     ]
    },
    {
     "name": "stdout",
     "output_type": "stream",
     "text": [
      "Epoch 9 [35/35] {'loss': '0.0385'}\r"
     ]
    },
    {
     "name": "stderr",
     "output_type": "stream",
     "text": [
      "Metric loss/val improved by 0.002 >= min_delta = 0.0001. New best score: 0.002\n"
     ]
    },
    {
     "name": "stdout",
     "output_type": "stream",
     "text": [
      "Epoch 11 [35/35] {'loss': '0.0516'}\r"
     ]
    },
    {
     "name": "stderr",
     "output_type": "stream",
     "text": [
      "Metric loss/val improved by 0.001 >= min_delta = 0.0001. New best score: 0.001\n"
     ]
    },
    {
     "name": "stdout",
     "output_type": "stream",
     "text": [
      "Epoch 12 [35/35] {'loss': '0.0312'}\r"
     ]
    },
    {
     "name": "stderr",
     "output_type": "stream",
     "text": [
      "Metric loss/val improved by 0.000 >= min_delta = 0.0001. New best score: 0.001\n"
     ]
    },
    {
     "name": "stdout",
     "output_type": "stream",
     "text": [
      "Epoch 13 [35/35] {'loss': '0.0227'}\r"
     ]
    },
    {
     "name": "stderr",
     "output_type": "stream",
     "text": [
      "Metric loss/val improved by 0.000 >= min_delta = 0.0001. New best score: 0.001\n"
     ]
    },
    {
     "name": "stdout",
     "output_type": "stream",
     "text": [
      "Epoch 16 [35/35] {'loss': '0.0116'}\r"
     ]
    },
    {
     "name": "stderr",
     "output_type": "stream",
     "text": [
      "Metric loss/val improved by 0.000 >= min_delta = 0.0001. New best score: 0.000\n"
     ]
    },
    {
     "name": "stdout",
     "output_type": "stream",
     "text": [
      "Epoch 22 [35/35] {'loss': '0.00716'}\r"
     ]
    },
    {
     "name": "stderr",
     "output_type": "stream",
     "text": [
      "Metric loss/val improved by 0.000 >= min_delta = 0.0001. New best score: 0.000\n"
     ]
    },
    {
     "name": "stdout",
     "output_type": "stream",
     "text": [
      "Epoch 42 [35/35] {'loss': '0.0257'}}\r"
     ]
    },
    {
     "name": "stderr",
     "output_type": "stream",
     "text": [
      "Monitored metric loss/val did not improve in the last 20 records. Best score: 0.000. Signaling Trainer to stop.\n",
      "GPU available: True, used: True\n",
      "TPU available: False, using: 0 TPU cores\n",
      "LOCAL_RANK: 0 - CUDA_VISIBLE_DEVICES: [0]\n",
      "\n",
      "  | Name               | Type             | Params\n",
      "--------------------------------------------------------\n",
      "0 | model              | fc               | 127 K \n",
      "1 | criteria           | CrossEntropyLoss | 0     \n",
      "2 | valid_metrics      | MetricCollection | 0     \n",
      "3 | valid_dummy_metric | AUROC            | 0     \n",
      "--------------------------------------------------------\n",
      "127 K     Trainable params\n",
      "0         Non-trainable params\n",
      "127 K     Total params\n",
      "0.509     Total estimated model params size (MB)\n"
     ]
    },
    {
     "name": "stdout",
     "output_type": "stream",
     "text": [
      "Architecture [fc] was created\n",
      "***Defined hyperparameters:***\n",
      "\"arch\":                {'name': 'fc', 'args': {'num_channels': 1, 'num_classes': 3}}\n",
      "\"checkpoint_path\":     None\n",
      "\"class_weights\":       tensor([1.2466, 0.6500, 1.5167], device='cuda:0')\n",
      "\"hp_metrics\":          ['loss/train', 'loss/val', 'Accuracy/val', 'AUROC/val', 'Precision/val', 'Recall/val', 'Specificity/val']\n",
      "\"loss\":                {'type': 'CrossEntropyLoss', 'args': {'weight': True}}\n",
      "\"optimizer\":           {'type': 'Adam', 'args': {'lr': 0.001, 'weight_decay': 0, 'amsgrad': False}}\n",
      "\"roi_hparams\":         {'enable': True, 'output_shape': [9, 9, 9], 'boundary_boxes': {2: [[23, 48, 57, 76, 34, 49], [25, 31, 55, 68, 69, 79], [25, 85, 69, 95, 30, 65], [42, 12, 79, 50, 33, 47], [22, 18, 49, 49, 16, 29], [40, 33, 79, 76, 9, 26], [70, 28, 79, 72, 19, 63], [11, 9, 63, 78, 26, 78]], 1: [[29, 19, 68, 38, 1, 18], [46, 38, 78, 61, 10, 25], [65, 25, 79, 42, 12, 59], [27, 33, 62, 69, 70, 79], [10, 10, 53, 23, 25, 61], [24, 63, 49, 86, 11, 33], [34, 32, 55, 60, 37, 55], [40, 10, 79, 77, 11, 68]], 0: [[63, 63, 79, 84, 27, 61], [26, 21, 61, 53, 31, 44], [45, 43, 73, 84, 1, 16], [11, 8, 53, 21, 20, 40], [31, 10, 60, 26, 45, 69], [27, 85, 70, 95, 28, 62], [22, 38, 73, 95, 16, 48], [19, 55, 70, 84, 71, 79], [46, 18, 79, 40, 10, 30], [11, 8, 79, 44, 10, 70]]}}\n",
      "\"weight_distribution\": None\n",
      "Enabled callbacks:  ['LitProgressBar', 'EarlyStopping']\n",
      "Dataloader fold: 9\n",
      "Epoch 1 [35/35] {'loss': '1.02'}\r"
     ]
    },
    {
     "name": "stderr",
     "output_type": "stream",
     "text": [
      "Metric loss/val improved. New best score: 0.839\n"
     ]
    },
    {
     "name": "stdout",
     "output_type": "stream",
     "text": [
      "Epoch 2 [35/35] {'loss': '0.744'}\r"
     ]
    },
    {
     "name": "stderr",
     "output_type": "stream",
     "text": [
      "Metric loss/val improved by 0.267 >= min_delta = 0.0001. New best score: 0.572\n"
     ]
    },
    {
     "name": "stdout",
     "output_type": "stream",
     "text": [
      "Epoch 3 [35/35] {'loss': '0.447'}\r"
     ]
    },
    {
     "name": "stderr",
     "output_type": "stream",
     "text": [
      "Metric loss/val improved by 0.385 >= min_delta = 0.0001. New best score: 0.187\n"
     ]
    },
    {
     "name": "stdout",
     "output_type": "stream",
     "text": [
      "Epoch 4 [35/35] {'loss': '0.216'}\r"
     ]
    },
    {
     "name": "stderr",
     "output_type": "stream",
     "text": [
      "Metric loss/val improved by 0.118 >= min_delta = 0.0001. New best score: 0.069\n"
     ]
    },
    {
     "name": "stdout",
     "output_type": "stream",
     "text": [
      "Epoch 5 [35/35] {'loss': '0.116'}\r"
     ]
    },
    {
     "name": "stderr",
     "output_type": "stream",
     "text": [
      "Metric loss/val improved by 0.046 >= min_delta = 0.0001. New best score: 0.023\n"
     ]
    },
    {
     "name": "stdout",
     "output_type": "stream",
     "text": [
      "Epoch 6 [35/35] {'loss': '0.079'}}\r"
     ]
    },
    {
     "name": "stderr",
     "output_type": "stream",
     "text": [
      "Metric loss/val improved by 0.014 >= min_delta = 0.0001. New best score: 0.009\n"
     ]
    },
    {
     "name": "stdout",
     "output_type": "stream",
     "text": [
      "Epoch 7 [35/35] {'loss': '0.0707'}\r"
     ]
    },
    {
     "name": "stderr",
     "output_type": "stream",
     "text": [
      "Metric loss/val improved by 0.004 >= min_delta = 0.0001. New best score: 0.005\n"
     ]
    },
    {
     "name": "stdout",
     "output_type": "stream",
     "text": [
      "Epoch 8 [35/35] {'loss': '0.0585'}\r"
     ]
    },
    {
     "name": "stderr",
     "output_type": "stream",
     "text": [
      "Metric loss/val improved by 0.001 >= min_delta = 0.0001. New best score: 0.004\n"
     ]
    },
    {
     "name": "stdout",
     "output_type": "stream",
     "text": [
      "Epoch 9 [35/35] {'loss': '0.0328'}\r"
     ]
    },
    {
     "name": "stderr",
     "output_type": "stream",
     "text": [
      "Metric loss/val improved by 0.001 >= min_delta = 0.0001. New best score: 0.003\n"
     ]
    },
    {
     "name": "stdout",
     "output_type": "stream",
     "text": [
      "Epoch 10 [35/35] {'loss': '0.0307'}\r"
     ]
    },
    {
     "name": "stderr",
     "output_type": "stream",
     "text": [
      "Metric loss/val improved by 0.002 >= min_delta = 0.0001. New best score: 0.001\n"
     ]
    },
    {
     "name": "stdout",
     "output_type": "stream",
     "text": [
      "Epoch 12 [35/35] {'loss': '0.0402'}\r"
     ]
    },
    {
     "name": "stderr",
     "output_type": "stream",
     "text": [
      "Metric loss/val improved by 0.000 >= min_delta = 0.0001. New best score: 0.001\n"
     ]
    },
    {
     "name": "stdout",
     "output_type": "stream",
     "text": [
      "Epoch 18 [35/35] {'loss': '0.0186'}\r"
     ]
    },
    {
     "name": "stderr",
     "output_type": "stream",
     "text": [
      "Metric loss/val improved by 0.000 >= min_delta = 0.0001. New best score: 0.000\n"
     ]
    },
    {
     "name": "stdout",
     "output_type": "stream",
     "text": [
      "Epoch 19 [35/35] {'loss': '0.0126'}\r"
     ]
    },
    {
     "name": "stderr",
     "output_type": "stream",
     "text": [
      "Metric loss/val improved by 0.000 >= min_delta = 0.0001. New best score: 0.000\n"
     ]
    },
    {
     "name": "stdout",
     "output_type": "stream",
     "text": [
      "Epoch 36 [35/35] {'loss': '0.0184'}}\r"
     ]
    },
    {
     "name": "stderr",
     "output_type": "stream",
     "text": [
      "Metric loss/val improved by 0.000 >= min_delta = 0.0001. New best score: 0.000\n"
     ]
    },
    {
     "name": "stdout",
     "output_type": "stream",
     "text": [
      "Epoch 56 [35/35] {'loss': '0.0193'}}\r"
     ]
    },
    {
     "name": "stderr",
     "output_type": "stream",
     "text": [
      "Monitored metric loss/val did not improve in the last 20 records. Best score: 0.000. Signaling Trainer to stop.\n",
      "GPU available: True, used: True\n",
      "TPU available: False, using: 0 TPU cores\n",
      "LOCAL_RANK: 0 - CUDA_VISIBLE_DEVICES: [0]\n",
      "\n",
      "  | Name               | Type             | Params\n",
      "--------------------------------------------------------\n",
      "0 | model              | fc               | 127 K \n",
      "1 | criteria           | CrossEntropyLoss | 0     \n",
      "2 | valid_metrics      | MetricCollection | 0     \n",
      "3 | valid_dummy_metric | AUROC            | 0     \n",
      "--------------------------------------------------------\n",
      "127 K     Trainable params\n",
      "0         Non-trainable params\n",
      "127 K     Total params\n",
      "0.509     Total estimated model params size (MB)\n"
     ]
    },
    {
     "name": "stdout",
     "output_type": "stream",
     "text": [
      "Architecture [fc] was created\n",
      "***Defined hyperparameters:***\n",
      "\"arch\":                {'name': 'fc', 'args': {'num_channels': 1, 'num_classes': 3}}\n",
      "\"checkpoint_path\":     None\n",
      "\"class_weights\":       tensor([1.2466, 0.6500, 1.5167], device='cuda:0')\n",
      "\"hp_metrics\":          ['loss/train', 'loss/val', 'Accuracy/val', 'AUROC/val', 'Precision/val', 'Recall/val', 'Specificity/val']\n",
      "\"loss\":                {'type': 'CrossEntropyLoss', 'args': {'weight': True}}\n",
      "\"optimizer\":           {'type': 'Adam', 'args': {'lr': 0.001, 'weight_decay': 0, 'amsgrad': False}}\n",
      "\"roi_hparams\":         {'enable': True, 'output_shape': [9, 9, 9], 'boundary_boxes': {2: [[23, 48, 57, 76, 34, 49], [25, 31, 55, 68, 69, 79], [25, 85, 69, 95, 30, 65], [42, 12, 79, 50, 33, 47], [22, 18, 49, 49, 16, 29], [40, 33, 79, 76, 9, 26], [70, 28, 79, 72, 19, 63], [11, 9, 63, 78, 26, 78]], 1: [[29, 19, 68, 38, 1, 18], [46, 38, 78, 61, 10, 25], [65, 25, 79, 42, 12, 59], [27, 33, 62, 69, 70, 79], [10, 10, 53, 23, 25, 61], [24, 63, 49, 86, 11, 33], [34, 32, 55, 60, 37, 55], [40, 10, 79, 77, 11, 68]], 0: [[63, 63, 79, 84, 27, 61], [26, 21, 61, 53, 31, 44], [45, 43, 73, 84, 1, 16], [11, 8, 53, 21, 20, 40], [31, 10, 60, 26, 45, 69], [27, 85, 70, 95, 28, 62], [22, 38, 73, 95, 16, 48], [19, 55, 70, 84, 71, 79], [46, 18, 79, 40, 10, 30], [11, 8, 79, 44, 10, 70]]}}\n",
      "\"weight_distribution\": None\n",
      "Enabled callbacks:  ['LitProgressBar', 'EarlyStopping']\n",
      "Dataloader fold: 10\n",
      "Epoch 1 [35/35] {'loss': '1.02'}\r"
     ]
    },
    {
     "name": "stderr",
     "output_type": "stream",
     "text": [
      "Metric loss/val improved. New best score: 0.852\n"
     ]
    },
    {
     "name": "stdout",
     "output_type": "stream",
     "text": [
      "Epoch 2 [35/35] {'loss': '0.74'}}\r"
     ]
    },
    {
     "name": "stderr",
     "output_type": "stream",
     "text": [
      "Metric loss/val improved by 0.386 >= min_delta = 0.0001. New best score: 0.466\n"
     ]
    },
    {
     "name": "stdout",
     "output_type": "stream",
     "text": [
      "Epoch 3 [35/35] {'loss': '0.384'}\r"
     ]
    },
    {
     "name": "stderr",
     "output_type": "stream",
     "text": [
      "Metric loss/val improved by 0.322 >= min_delta = 0.0001. New best score: 0.145\n"
     ]
    },
    {
     "name": "stdout",
     "output_type": "stream",
     "text": [
      "Epoch 4 [35/35] {'loss': '0.191'}\r"
     ]
    },
    {
     "name": "stderr",
     "output_type": "stream",
     "text": [
      "Metric loss/val improved by 0.100 >= min_delta = 0.0001. New best score: 0.044\n"
     ]
    },
    {
     "name": "stdout",
     "output_type": "stream",
     "text": [
      "Epoch 5 [35/35] {'loss': '0.0993'}\r"
     ]
    },
    {
     "name": "stderr",
     "output_type": "stream",
     "text": [
      "Metric loss/val improved by 0.023 >= min_delta = 0.0001. New best score: 0.022\n"
     ]
    },
    {
     "name": "stdout",
     "output_type": "stream",
     "text": [
      "Epoch 6 [35/35] {'loss': '0.072'}}\r"
     ]
    },
    {
     "name": "stderr",
     "output_type": "stream",
     "text": [
      "Metric loss/val improved by 0.012 >= min_delta = 0.0001. New best score: 0.009\n"
     ]
    },
    {
     "name": "stdout",
     "output_type": "stream",
     "text": [
      "Epoch 7 [35/35] {'loss': '0.059'}}\r"
     ]
    },
    {
     "name": "stderr",
     "output_type": "stream",
     "text": [
      "Metric loss/val improved by 0.003 >= min_delta = 0.0001. New best score: 0.006\n"
     ]
    },
    {
     "name": "stdout",
     "output_type": "stream",
     "text": [
      "Epoch 8 [35/35] {'loss': '0.0278'}\r"
     ]
    },
    {
     "name": "stderr",
     "output_type": "stream",
     "text": [
      "Metric loss/val improved by 0.003 >= min_delta = 0.0001. New best score: 0.003\n"
     ]
    },
    {
     "name": "stdout",
     "output_type": "stream",
     "text": [
      "Epoch 12 [35/35] {'loss': '0.022'}}\r"
     ]
    },
    {
     "name": "stderr",
     "output_type": "stream",
     "text": [
      "Metric loss/val improved by 0.002 >= min_delta = 0.0001. New best score: 0.001\n"
     ]
    },
    {
     "name": "stdout",
     "output_type": "stream",
     "text": [
      "Epoch 17 [35/35] {'loss': '0.0181'}\r"
     ]
    },
    {
     "name": "stderr",
     "output_type": "stream",
     "text": [
      "Metric loss/val improved by 0.000 >= min_delta = 0.0001. New best score: 0.000\n"
     ]
    },
    {
     "name": "stdout",
     "output_type": "stream",
     "text": [
      "Epoch 20 [35/35] {'loss': '0.0135'}\r"
     ]
    },
    {
     "name": "stderr",
     "output_type": "stream",
     "text": [
      "Metric loss/val improved by 0.000 >= min_delta = 0.0001. New best score: 0.000\n"
     ]
    },
    {
     "name": "stdout",
     "output_type": "stream",
     "text": [
      "Epoch 27 [35/35] {'loss': '0.0186'}\r"
     ]
    },
    {
     "name": "stderr",
     "output_type": "stream",
     "text": [
      "Metric loss/val improved by 0.000 >= min_delta = 0.0001. New best score: 0.000\n"
     ]
    },
    {
     "name": "stdout",
     "output_type": "stream",
     "text": [
      "Epoch 42 [35/35] {'loss': '0.00895'}\r"
     ]
    },
    {
     "name": "stderr",
     "output_type": "stream",
     "text": [
      "Metric loss/val improved by 0.000 >= min_delta = 0.0001. New best score: 0.000\n"
     ]
    },
    {
     "name": "stdout",
     "output_type": "stream",
     "text": [
      "Epoch 62 [35/35] {'loss': '0.0463'}}\r"
     ]
    },
    {
     "name": "stderr",
     "output_type": "stream",
     "text": [
      "Monitored metric loss/val did not improve in the last 20 records. Best score: 0.000. Signaling Trainer to stop.\n"
     ]
    }
   ],
   "source": [
    "for name in ['roi3']:\n",
    "    run_me(name, i_limit=-1)"
   ]
  },
  {
   "cell_type": "code",
   "execution_count": null,
   "metadata": {},
   "outputs": [],
   "source": []
  }
 ],
 "metadata": {
  "kernelspec": {
   "display_name": "Master-thesis",
   "language": "python",
   "name": "master-thesis"
  },
  "language_info": {
   "codemirror_mode": {
    "name": "ipython",
    "version": 3
   },
   "file_extension": ".py",
   "mimetype": "text/x-python",
   "name": "python",
   "nbconvert_exporter": "python",
   "pygments_lexer": "ipython3",
   "version": "3.9.2"
  }
 },
 "nbformat": 4,
 "nbformat_minor": 4
}
