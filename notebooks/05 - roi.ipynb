{
 "cells": [
  {
   "cell_type": "code",
   "execution_count": 1,
   "metadata": {},
   "outputs": [],
   "source": [
    "%load_ext autoreload\n",
    "%autoreload 2\n",
    "import sys\n",
    "if '..' not in sys.path: sys.path.append(\"..\")"
   ]
  },
  {
   "cell_type": "markdown",
   "metadata": {},
   "source": [
    "# Segmentation and boundary-box regression"
   ]
  },
  {
   "cell_type": "code",
   "execution_count": 2,
   "metadata": {},
   "outputs": [],
   "source": [
    "from src.utils.preprocess import tensor2numpy, image2axial,mask_threshold\n",
    "from src.utils.utils import split_custom_filename\n",
    "from src import cam\n",
    "from src.classifier.agent import Agent\n",
    "from src.cam import CAM_TYPES\n",
    "from src import segmentation\n",
    "import nibabel as nib\n",
    "\n",
    "\n",
    "import numpy as np\n",
    "import torchvision\n",
    "import torch\n",
    "import matplotlib.pyplot as plt\n",
    "from src.utils.decorator import close_on_finish_decorator\n",
    "from src.classifier import agent\n",
    "import time"
   ]
  },
  {
   "cell_type": "code",
   "execution_count": 3,
   "metadata": {},
   "outputs": [],
   "source": [
    "def run_me(name,i_limit=5):\n",
    "    trainer = agent.Agent(name, base_config='base')\n",
    "    try:\n",
    "        i = 0\n",
    "        while True:\n",
    "            #try:\n",
    "            tr = trainer.run()\n",
    "            time.sleep(10)\n",
    "            i += 1\n",
    "            del tr\n",
    "            #except:\n",
    "            #    pass\n",
    "            if not trainer.dataloader.next_fold() or i == i_limit and i_limit != -1: break\n",
    "            \n",
    "    except Exception as e:\n",
    "        raise e"
   ]
  },
  {
   "cell_type": "markdown",
   "metadata": {},
   "source": [
    "## Train on ROI"
   ]
  },
  {
   "cell_type": "code",
   "execution_count": null,
   "metadata": {},
   "outputs": [
    {
     "name": "stdout",
     "output_type": "stream",
     "text": [
      "***Defined dataloader:***\n",
      "Data directory: data/SPM_categorised/Amira/\n",
      "Dataset sizes - Training: 500 Validation: 56\n",
      "Seed: 420\n",
      "Augmentation: Enabled\n",
      "KFold: Enabled - Fold: 1/10\n",
      "\n"
     ]
    },
    {
     "name": "stderr",
     "output_type": "stream",
     "text": [
      "/home/stud/f/fremar16/miniconda3/envs/Master-thesis/lib/python3.9/site-packages/torchmetrics/utilities/prints.py:36: UserWarning: Metric `AUROC` will save all targets and predictions in buffer. For large datasets this may lead to large memory footprint.\n",
      "  warnings.warn(*args, **kwargs)\n",
      "GPU available: True, used: True\n",
      "TPU available: False, using: 0 TPU cores\n",
      "Missing logger folder: /var/metrics/codetests/logs/tb/ROI/20210507053150\n",
      "LOCAL_RANK: 0 - CUDA_VISIBLE_DEVICES: [0]\n",
      "\n",
      "  | Name          | Type             | Params\n",
      "---------------------------------------------------\n",
      "0 | model         | fc               | 127 K \n",
      "1 | criteria      | CrossEntropyLoss | 0     \n",
      "2 | train_metrics | MetricCollection | 0     \n",
      "3 | valid_metrics | MetricCollection | 0     \n",
      "---------------------------------------------------\n",
      "127 K     Trainable params\n",
      "0         Non-trainable params\n",
      "127 K     Total params\n",
      "0.509     Total estimated model params size (MB)\n"
     ]
    },
    {
     "name": "stdout",
     "output_type": "stream",
     "text": [
      "Architecture [fc] was created\n",
      "***Defined hyperparameters:***\n",
      "\"arch\":                {'name': 'fc', 'args': {'num_channels': 1, 'num_classes': 3}}\n",
      "\"checkpoint_path\":     None\n",
      "\"class_weights\":       tensor([1.1905, 0.9259, 0.9259], device='cuda:0')\n",
      "\"hp_metrics\":          ['loss/train', 'loss/val', 'Accuracy/val', 'AUROC/val', 'Precision/val', 'Recall/val', 'Specificity/val']\n",
      "\"loss\":                {'type': 'CrossEntropyLoss', 'args': {'weight': True}}\n",
      "\"optimizer\":           {'type': 'Adam', 'args': {'lr': 0.0001, 'weight_decay': 0, 'amsgrad': True}}\n",
      "\"roi_hparams\":         {'enable': True, 'output_shape': [9, 9, 9], 'boundary_boxes': {2: [[19, 16, 55, 37, 10, 31], [54, 51, 71, 81, 24, 67], [41, 23, 71, 53, 9, 68], [17, 17, 55, 48, 49, 72], [15, 43, 53, 84, 32, 53]], 1: [[0, 34, 10, 77, 11, 61], [40, 62, 71, 80, 41, 68], [25, 34, 54, 55, 26, 48], [52, 35, 75, 54, 44, 76], [51, 27, 78, 58, 9, 42], [16, 17, 54, 48, 49, 71], [18, 49, 46, 77, 9, 28], [18, 17, 79, 86, 6, 79]], 0: [[9, 44, 30, 77, 11, 37], [49, 39, 67, 76, 47, 68], [22, 15, 71, 73, 11, 40], [22, 24, 71, 48, 53, 76], [30, 69, 65, 92, 10, 52]]}}\n",
      "\"weight_distribution\": normal\n",
      "Enabled callbacks:  ['LitProgressBar']\n",
      "Dataloader fold: 1\n",
      "Epoch 100 [63/63] {'loss': '0.445'}\r"
     ]
    },
    {
     "name": "stderr",
     "output_type": "stream",
     "text": [
      "GPU available: True, used: True\n",
      "TPU available: False, using: 0 TPU cores\n",
      "LOCAL_RANK: 0 - CUDA_VISIBLE_DEVICES: [0]\n",
      "\n",
      "  | Name          | Type             | Params\n",
      "---------------------------------------------------\n",
      "0 | model         | fc               | 127 K \n",
      "1 | criteria      | CrossEntropyLoss | 0     \n",
      "2 | train_metrics | MetricCollection | 0     \n",
      "3 | valid_metrics | MetricCollection | 0     \n",
      "---------------------------------------------------\n",
      "127 K     Trainable params\n",
      "0         Non-trainable params\n",
      "127 K     Total params\n",
      "0.509     Total estimated model params size (MB)\n"
     ]
    },
    {
     "name": "stdout",
     "output_type": "stream",
     "text": [
      "Architecture [fc] was created\n",
      "***Defined hyperparameters:***\n",
      "\"arch\":                {'name': 'fc', 'args': {'num_channels': 1, 'num_classes': 3}}\n",
      "\"checkpoint_path\":     None\n",
      "\"class_weights\":       tensor([1.1905, 0.9259, 0.9259], device='cuda:0')\n",
      "\"hp_metrics\":          ['loss/train', 'loss/val', 'Accuracy/val', 'AUROC/val', 'Precision/val', 'Recall/val', 'Specificity/val']\n",
      "\"loss\":                {'type': 'CrossEntropyLoss', 'args': {'weight': True}}\n",
      "\"optimizer\":           {'type': 'Adam', 'args': {'lr': 0.0001, 'weight_decay': 0, 'amsgrad': True}}\n",
      "\"roi_hparams\":         {'enable': True, 'output_shape': [9, 9, 9], 'boundary_boxes': {2: [[19, 16, 55, 37, 10, 31], [54, 51, 71, 81, 24, 67], [41, 23, 71, 53, 9, 68], [17, 17, 55, 48, 49, 72], [15, 43, 53, 84, 32, 53]], 1: [[0, 34, 10, 77, 11, 61], [40, 62, 71, 80, 41, 68], [25, 34, 54, 55, 26, 48], [52, 35, 75, 54, 44, 76], [51, 27, 78, 58, 9, 42], [16, 17, 54, 48, 49, 71], [18, 49, 46, 77, 9, 28], [18, 17, 79, 86, 6, 79]], 0: [[9, 44, 30, 77, 11, 37], [49, 39, 67, 76, 47, 68], [22, 15, 71, 73, 11, 40], [22, 24, 71, 48, 53, 76], [30, 69, 65, 92, 10, 52]]}}\n",
      "\"weight_distribution\": normal\n",
      "Enabled callbacks:  ['LitProgressBar']\n",
      "Dataloader fold: 2\n",
      "Epoch 18 [31/63] {'loss': '0.799'}\r"
     ]
    }
   ],
   "source": [
    "for name in ['roi2']:\n",
    "    run_me(name, i_limit=-1)"
   ]
  },
  {
   "cell_type": "code",
   "execution_count": null,
   "metadata": {},
   "outputs": [],
   "source": []
  }
 ],
 "metadata": {
  "kernelspec": {
   "display_name": "Master-thesis",
   "language": "python",
   "name": "master-thesis"
  },
  "language_info": {
   "codemirror_mode": {
    "name": "ipython",
    "version": 3
   },
   "file_extension": ".py",
   "mimetype": "text/x-python",
   "name": "python",
   "nbconvert_exporter": "python",
   "pygments_lexer": "ipython3",
   "version": "3.9.2"
  }
 },
 "nbformat": 4,
 "nbformat_minor": 4
}
