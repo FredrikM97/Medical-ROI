{
 "cells": [
  {
   "cell_type": "code",
   "execution_count": 1,
   "metadata": {},
   "outputs": [],
   "source": [
    "%load_ext autoreload\n",
    "%autoreload 2\n",
    "import sys\n",
    "if '..' not in sys.path: sys.path.append(\"..\")"
   ]
  },
  {
   "cell_type": "markdown",
   "metadata": {},
   "source": [
    "# Segmentation and boundary-box regression"
   ]
  },
  {
   "cell_type": "code",
   "execution_count": 2,
   "metadata": {},
   "outputs": [],
   "source": [
    "from src.utils.preprocess import tensor2numpy, image2axial,mask_threshold\n",
    "from src.utils.utils import split_custom_filename\n",
    "from src import cam\n",
    "from src.classifier.agent import Agent\n",
    "from src.cam import CAM_TYPES\n",
    "from src import segmentation\n",
    "import nibabel as nib\n",
    "\n",
    "\n",
    "import numpy as np\n",
    "import torchvision\n",
    "import torch\n",
    "import matplotlib.pyplot as plt\n",
    "from src.utils.decorator import close_on_finish_decorator\n",
    "from src.classifier import agent\n",
    "import time"
   ]
  },
  {
   "cell_type": "code",
   "execution_count": 3,
   "metadata": {},
   "outputs": [],
   "source": [
    "def run_me(name,i_limit=5):\n",
    "    trainer = agent.Agent(name, base_config='base')\n",
    "    try:\n",
    "        i = 0\n",
    "        while True:\n",
    "            #try:\n",
    "            tr = trainer.run()\n",
    "            time.sleep(10)\n",
    "            i += 1\n",
    "            del tr\n",
    "            #except:\n",
    "            #    pass\n",
    "            if not trainer.dataloader.next_fold() or i == i_limit and i_limit != -1: break\n",
    "            \n",
    "    except Exception as e:\n",
    "        raise e"
   ]
  },
  {
   "cell_type": "markdown",
   "metadata": {},
   "source": [
    "## Train on ROI"
   ]
  },
  {
   "cell_type": "code",
   "execution_count": null,
   "metadata": {},
   "outputs": [
    {
     "name": "stdout",
     "output_type": "stream",
     "text": [
      "***Defined dataloader:***\n",
      "Data directory: data/SPM_categorised/Amira/\n",
      "Dataset sizes - Training: 500 Validation: 56\n",
      "Seed: 420\n",
      "Augmentation: Enabled\n",
      "KFold: Enabled - Fold: 1/10\n",
      "\n"
     ]
    },
    {
     "name": "stderr",
     "output_type": "stream",
     "text": [
      "/home/stud/f/fremar16/miniconda3/envs/Master-thesis/lib/python3.9/site-packages/torchmetrics/utilities/prints.py:36: UserWarning: Metric `AUROC` will save all targets and predictions in buffer. For large datasets this may lead to large memory footprint.\n",
      "  warnings.warn(*args, **kwargs)\n",
      "GPU available: True, used: True\n",
      "TPU available: False, using: 0 TPU cores\n",
      "Missing logger folder: /var/metrics/codetests/logs/tb/ROI/20210518184436\n",
      "LOCAL_RANK: 0 - CUDA_VISIBLE_DEVICES: [0]\n",
      "\n",
      "  | Name               | Type             | Params\n",
      "--------------------------------------------------------\n",
      "0 | model              | fc               | 127 K \n",
      "1 | criteria           | CrossEntropyLoss | 0     \n",
      "2 | train_metrics      | MetricCollection | 0     \n",
      "3 | valid_metrics      | MetricCollection | 0     \n",
      "4 | valid_dummy_metric | AUROC            | 0     \n",
      "--------------------------------------------------------\n",
      "127 K     Trainable params\n",
      "0         Non-trainable params\n",
      "127 K     Total params\n",
      "0.509     Total estimated model params size (MB)\n"
     ]
    },
    {
     "name": "stdout",
     "output_type": "stream",
     "text": [
      "Architecture [fc] was created\n",
      "***Defined hyperparameters:***\n",
      "\"arch\":                {'name': 'fc', 'args': {'num_channels': 1, 'num_classes': 3}}\n",
      "\"checkpoint_path\":     None\n",
      "\"class_weights\":       tensor([1.1905, 0.9259, 0.9259], device='cuda:0')\n",
      "\"hp_metrics\":          ['loss/train', 'loss/val', 'Accuracy/val', 'AUROC/val', 'Precision/val', 'Recall/val', 'Specificity/val']\n",
      "\"loss\":                {'type': 'CrossEntropyLoss', 'args': {'weight': True}}\n",
      "\"optimizer\":           {'type': 'Adam', 'args': {'lr': 0.0001, 'weight_decay': 0, 'amsgrad': True}}\n",
      "\"roi_hparams\":         {'enable': True, 'output_shape': [9, 9, 9], 'boundary_boxes': {2: [[23, 48, 57, 76, 34, 49], [25, 31, 55, 68, 69, 79], [25, 85, 69, 95, 30, 65], [42, 12, 79, 50, 33, 47], [22, 18, 49, 49, 16, 29], [40, 33, 79, 76, 9, 26], [70, 28, 79, 72, 19, 63], [11, 9, 63, 78, 26, 78]], 1: [[29, 19, 68, 38, 1, 18], [46, 38, 78, 61, 10, 25], [65, 25, 79, 42, 12, 59], [27, 33, 62, 69, 70, 79], [10, 10, 53, 23, 25, 61], [24, 63, 49, 86, 11, 33], [34, 32, 55, 60, 37, 55], [40, 10, 79, 77, 11, 68]], 0: [[63, 63, 79, 84, 27, 61], [26, 21, 61, 53, 31, 44], [45, 43, 73, 84, 1, 16], [11, 8, 53, 21, 20, 40], [31, 10, 60, 26, 45, 69], [27, 85, 70, 95, 28, 62], [22, 38, 73, 95, 16, 48], [19, 55, 70, 84, 71, 79], [46, 18, 79, 40, 10, 30], [11, 8, 79, 44, 10, 70]]}}\n",
      "\"weight_distribution\": normal\n",
      "Enabled callbacks:  ['LitProgressBar']\n",
      "Dataloader fold: 1\n",
      "Epoch 100 [84/84] {'loss': '0.407'}\r"
     ]
    },
    {
     "name": "stderr",
     "output_type": "stream",
     "text": [
      "GPU available: True, used: True\n",
      "TPU available: False, using: 0 TPU cores\n",
      "LOCAL_RANK: 0 - CUDA_VISIBLE_DEVICES: [0]\n",
      "\n",
      "  | Name               | Type             | Params\n",
      "--------------------------------------------------------\n",
      "0 | model              | fc               | 127 K \n",
      "1 | criteria           | CrossEntropyLoss | 0     \n",
      "2 | train_metrics      | MetricCollection | 0     \n",
      "3 | valid_metrics      | MetricCollection | 0     \n",
      "4 | valid_dummy_metric | AUROC            | 0     \n",
      "--------------------------------------------------------\n",
      "127 K     Trainable params\n",
      "0         Non-trainable params\n",
      "127 K     Total params\n",
      "0.509     Total estimated model params size (MB)\n"
     ]
    },
    {
     "name": "stdout",
     "output_type": "stream",
     "text": [
      "Architecture [fc] was created\n",
      "***Defined hyperparameters:***\n",
      "\"arch\":                {'name': 'fc', 'args': {'num_channels': 1, 'num_classes': 3}}\n",
      "\"checkpoint_path\":     None\n",
      "\"class_weights\":       tensor([1.1905, 0.9259, 0.9259], device='cuda:0')\n",
      "\"hp_metrics\":          ['loss/train', 'loss/val', 'Accuracy/val', 'AUROC/val', 'Precision/val', 'Recall/val', 'Specificity/val']\n",
      "\"loss\":                {'type': 'CrossEntropyLoss', 'args': {'weight': True}}\n",
      "\"optimizer\":           {'type': 'Adam', 'args': {'lr': 0.0001, 'weight_decay': 0, 'amsgrad': True}}\n",
      "\"roi_hparams\":         {'enable': True, 'output_shape': [9, 9, 9], 'boundary_boxes': {2: [[23, 48, 57, 76, 34, 49], [25, 31, 55, 68, 69, 79], [25, 85, 69, 95, 30, 65], [42, 12, 79, 50, 33, 47], [22, 18, 49, 49, 16, 29], [40, 33, 79, 76, 9, 26], [70, 28, 79, 72, 19, 63], [11, 9, 63, 78, 26, 78]], 1: [[29, 19, 68, 38, 1, 18], [46, 38, 78, 61, 10, 25], [65, 25, 79, 42, 12, 59], [27, 33, 62, 69, 70, 79], [10, 10, 53, 23, 25, 61], [24, 63, 49, 86, 11, 33], [34, 32, 55, 60, 37, 55], [40, 10, 79, 77, 11, 68]], 0: [[63, 63, 79, 84, 27, 61], [26, 21, 61, 53, 31, 44], [45, 43, 73, 84, 1, 16], [11, 8, 53, 21, 20, 40], [31, 10, 60, 26, 45, 69], [27, 85, 70, 95, 28, 62], [22, 38, 73, 95, 16, 48], [19, 55, 70, 84, 71, 79], [46, 18, 79, 40, 10, 30], [11, 8, 79, 44, 10, 70]]}}\n",
      "\"weight_distribution\": normal\n",
      "Enabled callbacks:  ['LitProgressBar']\n",
      "Dataloader fold: 2\n",
      "Epoch 100 [84/84] {'loss': '0.424'}\r"
     ]
    },
    {
     "name": "stderr",
     "output_type": "stream",
     "text": [
      "GPU available: True, used: True\n",
      "TPU available: False, using: 0 TPU cores\n",
      "LOCAL_RANK: 0 - CUDA_VISIBLE_DEVICES: [0]\n",
      "\n",
      "  | Name               | Type             | Params\n",
      "--------------------------------------------------------\n",
      "0 | model              | fc               | 127 K \n",
      "1 | criteria           | CrossEntropyLoss | 0     \n",
      "2 | train_metrics      | MetricCollection | 0     \n",
      "3 | valid_metrics      | MetricCollection | 0     \n",
      "4 | valid_dummy_metric | AUROC            | 0     \n",
      "--------------------------------------------------------\n",
      "127 K     Trainable params\n",
      "0         Non-trainable params\n",
      "127 K     Total params\n",
      "0.509     Total estimated model params size (MB)\n"
     ]
    },
    {
     "name": "stdout",
     "output_type": "stream",
     "text": [
      "Architecture [fc] was created\n",
      "***Defined hyperparameters:***\n",
      "\"arch\":                {'name': 'fc', 'args': {'num_channels': 1, 'num_classes': 3}}\n",
      "\"checkpoint_path\":     None\n",
      "\"class_weights\":       tensor([1.1905, 0.9259, 0.9259], device='cuda:0')\n",
      "\"hp_metrics\":          ['loss/train', 'loss/val', 'Accuracy/val', 'AUROC/val', 'Precision/val', 'Recall/val', 'Specificity/val']\n",
      "\"loss\":                {'type': 'CrossEntropyLoss', 'args': {'weight': True}}\n",
      "\"optimizer\":           {'type': 'Adam', 'args': {'lr': 0.0001, 'weight_decay': 0, 'amsgrad': True}}\n",
      "\"roi_hparams\":         {'enable': True, 'output_shape': [9, 9, 9], 'boundary_boxes': {2: [[23, 48, 57, 76, 34, 49], [25, 31, 55, 68, 69, 79], [25, 85, 69, 95, 30, 65], [42, 12, 79, 50, 33, 47], [22, 18, 49, 49, 16, 29], [40, 33, 79, 76, 9, 26], [70, 28, 79, 72, 19, 63], [11, 9, 63, 78, 26, 78]], 1: [[29, 19, 68, 38, 1, 18], [46, 38, 78, 61, 10, 25], [65, 25, 79, 42, 12, 59], [27, 33, 62, 69, 70, 79], [10, 10, 53, 23, 25, 61], [24, 63, 49, 86, 11, 33], [34, 32, 55, 60, 37, 55], [40, 10, 79, 77, 11, 68]], 0: [[63, 63, 79, 84, 27, 61], [26, 21, 61, 53, 31, 44], [45, 43, 73, 84, 1, 16], [11, 8, 53, 21, 20, 40], [31, 10, 60, 26, 45, 69], [27, 85, 70, 95, 28, 62], [22, 38, 73, 95, 16, 48], [19, 55, 70, 84, 71, 79], [46, 18, 79, 40, 10, 30], [11, 8, 79, 44, 10, 70]]}}\n",
      "\"weight_distribution\": normal\n",
      "Enabled callbacks:  ['LitProgressBar']\n",
      "Dataloader fold: 3\n",
      "Epoch 100 [84/84] {'loss': '0.466'}\r"
     ]
    },
    {
     "name": "stderr",
     "output_type": "stream",
     "text": [
      "GPU available: True, used: True\n",
      "TPU available: False, using: 0 TPU cores\n",
      "LOCAL_RANK: 0 - CUDA_VISIBLE_DEVICES: [0]\n",
      "\n",
      "  | Name               | Type             | Params\n",
      "--------------------------------------------------------\n",
      "0 | model              | fc               | 127 K \n",
      "1 | criteria           | CrossEntropyLoss | 0     \n",
      "2 | train_metrics      | MetricCollection | 0     \n",
      "3 | valid_metrics      | MetricCollection | 0     \n",
      "4 | valid_dummy_metric | AUROC            | 0     \n",
      "--------------------------------------------------------\n",
      "127 K     Trainable params\n",
      "0         Non-trainable params\n",
      "127 K     Total params\n",
      "0.509     Total estimated model params size (MB)\n"
     ]
    },
    {
     "name": "stdout",
     "output_type": "stream",
     "text": [
      "Architecture [fc] was created\n",
      "***Defined hyperparameters:***\n",
      "\"arch\":                {'name': 'fc', 'args': {'num_channels': 1, 'num_classes': 3}}\n",
      "\"checkpoint_path\":     None\n",
      "\"class_weights\":       tensor([1.1905, 0.9259, 0.9259], device='cuda:0')\n",
      "\"hp_metrics\":          ['loss/train', 'loss/val', 'Accuracy/val', 'AUROC/val', 'Precision/val', 'Recall/val', 'Specificity/val']\n",
      "\"loss\":                {'type': 'CrossEntropyLoss', 'args': {'weight': True}}\n",
      "\"optimizer\":           {'type': 'Adam', 'args': {'lr': 0.0001, 'weight_decay': 0, 'amsgrad': True}}\n",
      "\"roi_hparams\":         {'enable': True, 'output_shape': [9, 9, 9], 'boundary_boxes': {2: [[23, 48, 57, 76, 34, 49], [25, 31, 55, 68, 69, 79], [25, 85, 69, 95, 30, 65], [42, 12, 79, 50, 33, 47], [22, 18, 49, 49, 16, 29], [40, 33, 79, 76, 9, 26], [70, 28, 79, 72, 19, 63], [11, 9, 63, 78, 26, 78]], 1: [[29, 19, 68, 38, 1, 18], [46, 38, 78, 61, 10, 25], [65, 25, 79, 42, 12, 59], [27, 33, 62, 69, 70, 79], [10, 10, 53, 23, 25, 61], [24, 63, 49, 86, 11, 33], [34, 32, 55, 60, 37, 55], [40, 10, 79, 77, 11, 68]], 0: [[63, 63, 79, 84, 27, 61], [26, 21, 61, 53, 31, 44], [45, 43, 73, 84, 1, 16], [11, 8, 53, 21, 20, 40], [31, 10, 60, 26, 45, 69], [27, 85, 70, 95, 28, 62], [22, 38, 73, 95, 16, 48], [19, 55, 70, 84, 71, 79], [46, 18, 79, 40, 10, 30], [11, 8, 79, 44, 10, 70]]}}\n",
      "\"weight_distribution\": normal\n",
      "Enabled callbacks:  ['LitProgressBar']\n",
      "Dataloader fold: 4\n",
      "Epoch 100 [84/84] {'loss': '0.334'}\r"
     ]
    },
    {
     "name": "stderr",
     "output_type": "stream",
     "text": [
      "GPU available: True, used: True\n",
      "TPU available: False, using: 0 TPU cores\n",
      "LOCAL_RANK: 0 - CUDA_VISIBLE_DEVICES: [0]\n",
      "\n",
      "  | Name               | Type             | Params\n",
      "--------------------------------------------------------\n",
      "0 | model              | fc               | 127 K \n",
      "1 | criteria           | CrossEntropyLoss | 0     \n",
      "2 | train_metrics      | MetricCollection | 0     \n",
      "3 | valid_metrics      | MetricCollection | 0     \n",
      "4 | valid_dummy_metric | AUROC            | 0     \n",
      "--------------------------------------------------------\n",
      "127 K     Trainable params\n",
      "0         Non-trainable params\n",
      "127 K     Total params\n",
      "0.509     Total estimated model params size (MB)\n"
     ]
    },
    {
     "name": "stdout",
     "output_type": "stream",
     "text": [
      "Architecture [fc] was created\n",
      "***Defined hyperparameters:***\n",
      "\"arch\":                {'name': 'fc', 'args': {'num_channels': 1, 'num_classes': 3}}\n",
      "\"checkpoint_path\":     None\n",
      "\"class_weights\":       tensor([1.1905, 0.9259, 0.9259], device='cuda:0')\n",
      "\"hp_metrics\":          ['loss/train', 'loss/val', 'Accuracy/val', 'AUROC/val', 'Precision/val', 'Recall/val', 'Specificity/val']\n",
      "\"loss\":                {'type': 'CrossEntropyLoss', 'args': {'weight': True}}\n",
      "\"optimizer\":           {'type': 'Adam', 'args': {'lr': 0.0001, 'weight_decay': 0, 'amsgrad': True}}\n",
      "\"roi_hparams\":         {'enable': True, 'output_shape': [9, 9, 9], 'boundary_boxes': {2: [[23, 48, 57, 76, 34, 49], [25, 31, 55, 68, 69, 79], [25, 85, 69, 95, 30, 65], [42, 12, 79, 50, 33, 47], [22, 18, 49, 49, 16, 29], [40, 33, 79, 76, 9, 26], [70, 28, 79, 72, 19, 63], [11, 9, 63, 78, 26, 78]], 1: [[29, 19, 68, 38, 1, 18], [46, 38, 78, 61, 10, 25], [65, 25, 79, 42, 12, 59], [27, 33, 62, 69, 70, 79], [10, 10, 53, 23, 25, 61], [24, 63, 49, 86, 11, 33], [34, 32, 55, 60, 37, 55], [40, 10, 79, 77, 11, 68]], 0: [[63, 63, 79, 84, 27, 61], [26, 21, 61, 53, 31, 44], [45, 43, 73, 84, 1, 16], [11, 8, 53, 21, 20, 40], [31, 10, 60, 26, 45, 69], [27, 85, 70, 95, 28, 62], [22, 38, 73, 95, 16, 48], [19, 55, 70, 84, 71, 79], [46, 18, 79, 40, 10, 30], [11, 8, 79, 44, 10, 70]]}}\n",
      "\"weight_distribution\": normal\n",
      "Enabled callbacks:  ['LitProgressBar']\n",
      "Dataloader fold: 5\n",
      "Epoch 20 [17/84] {'loss': '0.731'}\r"
     ]
    }
   ],
   "source": [
    "for name in ['roi3']:\n",
    "    run_me(name, i_limit=-1)"
   ]
  },
  {
   "cell_type": "code",
   "execution_count": null,
   "metadata": {},
   "outputs": [],
   "source": []
  }
 ],
 "metadata": {
  "kernelspec": {
   "display_name": "Master-thesis",
   "language": "python",
   "name": "master-thesis"
  },
  "language_info": {
   "codemirror_mode": {
    "name": "ipython",
    "version": 3
   },
   "file_extension": ".py",
   "mimetype": "text/x-python",
   "name": "python",
   "nbconvert_exporter": "python",
   "pygments_lexer": "ipython3",
   "version": "3.9.2"
  }
 },
 "nbformat": 4,
 "nbformat_minor": 4
}
