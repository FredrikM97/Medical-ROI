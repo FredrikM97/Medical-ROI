{
 "cells": [
  {
   "cell_type": "code",
   "execution_count": 4,
   "metadata": {},
   "outputs": [
    {
     "name": "stdout",
     "output_type": "stream",
     "text": [
      "The autoreload extension is already loaded. To reload it, use:\n",
      "  %reload_ext autoreload\n"
     ]
    }
   ],
   "source": [
    "%load_ext autoreload\n",
    "%autoreload 2\n",
    "import sys\n",
    "if '..' not in sys.path: sys.path.append(\"..\")"
   ]
  },
  {
   "cell_type": "markdown",
   "metadata": {},
   "source": [
    "# Segmentation and boundary-box regression"
   ]
  },
  {
   "cell_type": "code",
   "execution_count": 5,
   "metadata": {},
   "outputs": [],
   "source": [
    "from src.utils.preprocess import tensor2numpy, image2axial,mask_threshold\n",
    "from src.utils.utils import split_custom_filename\n",
    "from src import cam\n",
    "from src.classifier.agent import Agent\n",
    "from src.cam import CAM_TYPES\n",
    "from src import segmentation\n",
    "import nibabel as nib\n",
    "\n",
    "\n",
    "import numpy as np\n",
    "import torchvision\n",
    "import torch\n",
    "import matplotlib.pyplot as plt\n",
    "from src.utils.decorator import close_on_finish_decorator"
   ]
  },
  {
   "cell_type": "markdown",
   "metadata": {},
   "source": [
    "## Train on ROI"
   ]
  },
  {
   "cell_type": "code",
   "execution_count": 6,
   "metadata": {},
   "outputs": [
    {
     "name": "stderr",
     "output_type": "stream",
     "text": [
      "GPU available: True, used: True\n",
      "TPU available: False, using: 0 TPU cores\n",
      "Missing logger folder: /var/metrics/codetests/logs/tb/ROI/20210428173839\n",
      "LOCAL_RANK: 0 - CUDA_VISIBLE_DEVICES: [0]\n",
      "\n",
      "  | Name           | Type             | Params\n",
      "----------------------------------------------------\n",
      "0 | model          | fc               | 2.1 M \n",
      "1 | criteria       | CrossEntropyLoss | 0     \n",
      "2 | metricsTracker | MetricTracker    | 0     \n",
      "----------------------------------------------------\n",
      "2.1 M     Trainable params\n",
      "0         Non-trainable params\n",
      "2.1 M     Total params\n",
      "8.536     Total estimated model params size (MB)\n"
     ]
    },
    {
     "name": "stdout",
     "output_type": "stream",
     "text": [
      "***Defined dataloader:***\n",
      "Data directory: data/SPM_categorised/Amira/\n",
      "Dataset sizes - Training: 444 Validation: 112\n",
      "KFold: Enabled - Fold: 1/5\n",
      "\n",
      "Architecture [fc] was created\n",
      "***Defined hyperparameters:***\n",
      "\"arch\":                {'name': 'fc', 'args': {'num_channels': 1, 'num_classes': 3}}\n",
      "\"checkpoint_path\":     None\n",
      "\"class_weights\":       tensor([1.1935, 0.9250, 0.9250], device='cuda:0')\n",
      "\"hp_metrics\":          ['loss/train', 'loss/val', 'accuracy/val', 'auc/val', 'specificity/val', 'sensitivity/val']\n",
      "\"loss\":                {'type': 'CrossEntropyLoss', 'args': {'weight': True}}\n",
      "\"optimizer\":           {'type': 'Adam', 'args': {'lr': 0.001, 'weight_decay': 0}}\n",
      "\"roi_hparams\":         {'enable': True, 'output_shape': [3, 3, 3], 'boundary_boxes': {2: [[61, 42, 73, 77, 15, 48], [10, 56, 29, 83, 5, 24], [9, 6, 38, 35, 14, 55], [4, 46, 19, 82, 35, 44], [46, 20, 72, 62, 50, 73]], 1: [[56, 18, 60, 24, 14, 19], [47, 4, 64, 17, 5, 24], [18, 20, 25, 26, 17, 22], [58, 41, 70, 60, 58, 70], [9, 56, 28, 84, 5, 23], [41, 42, 75, 92, 10, 48], [3, 28, 28, 74, 29, 54]], 0: [[60, 43, 70, 58, 57, 68], [53, 24, 62, 30, 13, 21], [8, 64, 32, 88, 33, 45], [8, 6, 34, 33, 23, 46], [49, 4, 64, 17, 8, 23], [59, 41, 74, 79, 18, 48]]}}\n",
      "\"weight_distribution\": normal\n",
      "Enabled callbacks:  ['LitProgressBar', 'EarlyStopping']\n",
      "Dataloader fold: 1\n",
      "FC shape torch.Size([36, 1, 3, 3, 3])\n",
      "FC shape after torch.Size([36, 27])\n",
      "FC shape torch.Size([39, 1, 3, 3, 3])\n",
      "FC shape after torch.Size([39, 27])\n",
      "FC shape torch.Size([39, 1, 3, 3, 3])\n",
      "FC shape after torch.Size([39, 27])\n",
      "FC shape torch.Size([35, 1, 3, 3, 3])\n",
      "FC shape after torch.Size([35, 27])\n",
      "FC shape torch.Size([38, 1, 3, 3, 3])\n",
      "FC shape after torch.Size([38, 27])\n",
      "FC shape torch.Size([34, 1, 3, 3, 3])\n",
      "FC shape after torch.Size([34, 27])\n",
      "FC shape torch.Size([38, 1, 3, 3, 3])\n",
      "FC shape after torch.Size([38, 27])\n",
      "FC shape torch.Size([32, 1, 3, 3, 3])\n",
      "FC shape after torch.Size([32, 27])\n",
      "FC shape torch.Size([37, 1, 3, 3, 3])\n",
      "FC shape after torch.Size([37, 27])\n",
      "FC shape torch.Size([37, 1, 3, 3, 3])\n",
      "FC shape after torch.Size([37, 27])\n",
      "FC shape torch.Size([36, 1, 3, 3, 3])\n",
      "FC shape after torch.Size([36, 27])\n",
      "FC shape torch.Size([36, 1, 3, 3, 3])\n",
      "FC shape after torch.Size([36, 27])\n",
      "FC shape torch.Size([33, 1, 3, 3, 3])\n",
      "FC shape after torch.Size([33, 27])\n",
      "FC shape torch.Size([36, 1, 3, 3, 3])\n",
      "FC shape after torch.Size([36, 27])\n",
      "FC shape torch.Size([33, 1, 3, 3, 3])\n",
      "FC shape after torch.Size([33, 27])\n",
      "FC shape torch.Size([37, 1, 3, 3, 3])\n",
      "FC shape after torch.Size([37, 27])\n",
      "FC shape torch.Size([37, 1, 3, 3, 3])\n",
      "FC shape after torch.Size([37, 27])\n",
      "FC shape torch.Size([33, 1, 3, 3, 3])\n",
      "FC shape after torch.Size([33, 27])\n",
      "FC shape torch.Size([36, 1, 3, 3, 3])\n",
      "FC shape after torch.Size([36, 27])\n",
      "FC shape torch.Size([35, 1, 3, 3, 3])\n",
      "FC shape after torch.Size([35, 27])\n",
      "FC shape[20/74] {'loss': '1.14'} torch.Size([38, 1, 3, 3, 3])\n",
      "FC shape after torch.Size([38, 27])\n",
      "FC shape torch.Size([35, 1, 3, 3, 3])\n",
      "FC shape after torch.Size([35, 27])\n",
      "FC shape torch.Size([40, 1, 3, 3, 3])\n",
      "FC shape after torch.Size([40, 27])\n",
      "FC shape torch.Size([40, 1, 3, 3, 3])\n",
      "FC shape after torch.Size([40, 27])\n",
      "FC shape torch.Size([38, 1, 3, 3, 3])\n",
      "FC shape after torch.Size([38, 27])\n",
      "FC shape torch.Size([33, 1, 3, 3, 3])\n",
      "FC shape after torch.Size([33, 27])\n",
      "FC shape torch.Size([33, 1, 3, 3, 3])\n",
      "FC shape after torch.Size([33, 27])\n",
      "FC shape torch.Size([38, 1, 3, 3, 3])\n",
      "FC shape after torch.Size([38, 27])\n",
      "FC shape torch.Size([38, 1, 3, 3, 3])\n",
      "FC shape after torch.Size([38, 27])\n",
      "FC shape torch.Size([34, 1, 3, 3, 3])\n",
      "FC shape after torch.Size([34, 27])\n",
      "FC shape torch.Size([36, 1, 3, 3, 3])\n",
      "FC shape after torch.Size([36, 27])\n",
      "FC shape torch.Size([35, 1, 3, 3, 3])\n",
      "FC shape after torch.Size([35, 27])\n",
      "FC shape torch.Size([38, 1, 3, 3, 3])\n",
      "FC shape after torch.Size([38, 27])\n",
      "FC shape torch.Size([32, 1, 3, 3, 3])\n",
      "FC shape after torch.Size([32, 27])\n",
      "FC shape torch.Size([35, 1, 3, 3, 3])\n",
      "FC shape after torch.Size([35, 27])\n",
      "FC shape torch.Size([34, 1, 3, 3, 3])\n",
      "FC shape after torch.Size([34, 27])\n",
      "FC shape torch.Size([33, 1, 3, 3, 3])\n",
      "FC shape after torch.Size([33, 27])\n",
      "FC shape torch.Size([39, 1, 3, 3, 3])\n",
      "FC shape after torch.Size([39, 27])\n",
      "FC shape torch.Size([36, 1, 3, 3, 3])\n",
      "FC shape after torch.Size([36, 27])\n",
      "FC shape torch.Size([37, 1, 3, 3, 3])\n",
      "FC shape after torch.Size([37, 27])\n",
      "FC shape torch.Size([36, 1, 3, 3, 3])\n",
      "FC shape after torch.Size([36, 27])\n",
      "FC shape torch.Size([33, 1, 3, 3, 3])\n",
      "FC shape after torch.Size([33, 27])\n",
      "FC shape torch.Size([34, 1, 3, 3, 3])\n",
      "FC shape after torch.Size([34, 27])\n",
      "FC shape torch.Size([37, 1, 3, 3, 3])\n",
      "FC shape after torch.Size([37, 27])\n",
      "FC shape torch.Size([40, 1, 3, 3, 3])\n",
      "FC shape after torch.Size([40, 27])\n",
      "FC shape torch.Size([33, 1, 3, 3, 3])\n",
      "FC shape after torch.Size([33, 27])\n",
      "FC shape torch.Size([38, 1, 3, 3, 3])\n",
      "FC shape after torch.Size([38, 27])\n",
      "FC shape torch.Size([35, 1, 3, 3, 3])\n",
      "FC shape after torch.Size([35, 27])\n",
      "FC shape torch.Size([37, 1, 3, 3, 3])\n",
      "FC shape after torch.Size([37, 27])\n",
      "FC shape torch.Size([35, 1, 3, 3, 3])\n",
      "FC shape after torch.Size([35, 27])\n",
      "FC shape torch.Size([33, 1, 3, 3, 3])\n",
      "FC shape after torch.Size([33, 27])\n",
      "FC shape torch.Size([34, 1, 3, 3, 3])\n",
      "FC shape after torch.Size([34, 27])\n",
      "FC shape torch.Size([37, 1, 3, 3, 3])\n",
      "FC shape after torch.Size([37, 27])\n",
      "FC shape torch.Size([34, 1, 3, 3, 3])\n",
      "FC shape after torch.Size([34, 27])\n",
      "FC shape torch.Size([38, 1, 3, 3, 3])\n",
      "FC shape after torch.Size([38, 27])\n",
      "FC shape torch.Size([39, 1, 3, 3, 3])\n",
      "FC shape after torch.Size([39, 27])\n",
      "FC shape torch.Size([34, 1, 3, 3, 3])\n",
      "FC shape after torch.Size([34, 27])\n",
      "FC shape torch.Size([33, 1, 3, 3, 3])\n",
      "FC shape after torch.Size([33, 27])\n",
      "FC shape torch.Size([40, 1, 3, 3, 3])\n",
      "FC shape after torch.Size([40, 27])\n",
      "FC shape torch.Size([36, 1, 3, 3, 3])\n",
      "FC shape after torch.Size([36, 27])\n",
      "FC shape torch.Size([39, 1, 3, 3, 3])\n",
      "FC shape after torch.Size([39, 27])\n",
      "FC shape torch.Size([41, 1, 3, 3, 3])\n",
      "FC shape after torch.Size([41, 27])\n",
      "FC shape torch.Size([37, 1, 3, 3, 3])\n",
      "FC shape after torch.Size([37, 27])\n",
      "FC shape torch.Size([33, 1, 3, 3, 3])\n",
      "FC shape after torch.Size([33, 27])\n",
      "FC shape torch.Size([36, 1, 3, 3, 3])\n",
      "FC shape after torch.Size([36, 27])\n",
      "FC shape torch.Size([34, 1, 3, 3, 3])\n",
      "FC shape after torch.Size([34, 27])\n",
      "FC shape torch.Size([34, 1, 3, 3, 3])\n",
      "FC shape after torch.Size([34, 27])\n",
      "Epoch 1 [67/74] {'loss': '0.486'}\r"
     ]
    },
    {
     "name": "stderr",
     "output_type": "stream",
     "text": [
      "/home/stud/f/fremar16/miniconda3/envs/Master-thesis/lib/python3.9/site-packages/pytorch_lightning/utilities/distributed.py:68: UserWarning: Detected KeyboardInterrupt, attempting graceful shutdown...\n",
      "  warnings.warn(*args, **kwargs)\n"
     ]
    },
    {
     "data": {
      "text/plain": [
       "<pytorch_lightning.trainer.trainer.Trainer at 0x7f934218aa60>"
      ]
     },
     "execution_count": 6,
     "metadata": {},
     "output_type": "execute_result"
    }
   ],
   "source": [
    "trainer = Agent('roi2')\n",
    "trainer.run()"
   ]
  },
  {
   "cell_type": "code",
   "execution_count": null,
   "metadata": {},
   "outputs": [],
   "source": []
  }
 ],
 "metadata": {
  "kernelspec": {
   "display_name": "Master-thesis",
   "language": "python",
   "name": "master-thesis"
  },
  "language_info": {
   "codemirror_mode": {
    "name": "ipython",
    "version": 3
   },
   "file_extension": ".py",
   "mimetype": "text/x-python",
   "name": "python",
   "nbconvert_exporter": "python",
   "pygments_lexer": "ipython3",
   "version": "3.9.2"
  }
 },
 "nbformat": 4,
 "nbformat_minor": 4
}
