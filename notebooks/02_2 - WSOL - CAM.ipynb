{
 "cells": [
  {
   "cell_type": "markdown",
   "id": "6e43f71a-098e-40e2-b966-8007db400b8a",
   "metadata": {},
   "source": [
    "# WSOL - CAM\n",
    "---"
   ]
  },
  {
   "cell_type": "code",
   "execution_count": 1,
   "id": "60deb218",
   "metadata": {},
   "outputs": [],
   "source": [
    "%load_ext autoreload\n",
    "%autoreload 2\n",
    "import sys\n",
    "if '..' not in sys.path: sys.path.append(\"..\")"
   ]
  },
  {
   "cell_type": "code",
   "execution_count": 2,
   "id": "5ed2edd4",
   "metadata": {},
   "outputs": [],
   "source": [
    "%reset -f\n",
    "%matplotlib inline"
   ]
  },
  {
   "cell_type": "markdown",
   "id": "7b16c89c",
   "metadata": {},
   "source": [
    "# Imports"
   ]
  },
  {
   "cell_type": "code",
   "execution_count": 3,
   "id": "f9d6b14b",
   "metadata": {},
   "outputs": [],
   "source": [
    "from src.display.plot import imshow\n",
    "from src.files.preprocess import to_grid\n",
    "from src.display.cmap import parula_map\n",
    "from src.utils.decorator import HiddenPrints\n",
    "from concurrent.futures import ThreadPoolExecutor\n",
    "from src.files.preprocess import image2axial\n",
    "from src.cam import CAM\n",
    "from src.agent import Agent,ThreadSafeReloadedModel\n",
    "from src.files import preprocess\n",
    "\n",
    "\n",
    "import seaborn as sns\n",
    "import sys,os\n",
    "import warnings\n",
    "import nibabel as nib\n",
    "import numpy as np\n",
    "import itertools\n",
    "import torchcam\n",
    "import torch\n",
    "import matplotlib.pyplot as plt"
   ]
  },
  {
   "cell_type": "markdown",
   "id": "ff8fc0d5",
   "metadata": {},
   "source": [
    "# Variables"
   ]
  },
  {
   "cell_type": "code",
   "execution_count": 4,
   "id": "93a213c1",
   "metadata": {},
   "outputs": [
    {
     "name": "stderr",
     "output_type": "stream",
     "text": [
      "Global seed set to 420\n"
     ]
    }
   ],
   "source": [
    "FILE_NAMES = ['../data/SPM_categorised/AIH/AD/AD_ADNI_2489.nii', '../data/SPM_categorised/AIH/MCI/MCI_ADNI_1389.nii', '../data/SPM_categorised/AIH/CN/CN_ADNI_0442.nii']\n",
    "\n",
    "MODEL_CHECKPOINT = \"/var/metrics/codetests/logs/tb/final/resnet18_brew2/20210524192415/version_0/checkpoints/epoch=52-step=2808.ckpt\"\n",
    "\n",
    "NUM_WORKERS=4\n",
    "NUM_TRIALS = 10\n",
    "OBSERVED_CLASSES = [0,1,2]\n",
    "\n",
    "TARGET_LAYER = \"model.layer4\"\n",
    "\n",
    "THREADSAFE_CAM_EXTRACTOR = ThreadSafeReloadedModel(MODEL_CHECKPOINT, cam_type=torchcam.cams.GradCAMpp)\n",
    "SMOOTHGRADCAMPP_KWARGS = {\"std\":1}"
   ]
  },
  {
   "cell_type": "markdown",
   "id": "f48605d8",
   "metadata": {},
   "source": [
    "# Evaluation"
   ]
  },
  {
   "cell_type": "markdown",
   "id": "b4273d72",
   "metadata": {},
   "source": [
    "## Average CAM per Class"
   ]
  },
  {
   "cell_type": "code",
   "execution_count": 5,
   "id": "6ec51ac5-7944-4fb6-aa3d-cdc4f7322136",
   "metadata": {},
   "outputs": [],
   "source": [
    "def trial_classes(extractor, images, classes=[0,1,2],num_trials=10, grid_kwgs={}):\n",
    "    #extractor = self.get_cam(model, self.CAM_TYPE)\n",
    "    iteration = 1\n",
    "    for img_index, image in enumerate(images):\n",
    "        masks = []\n",
    "\n",
    "        for i in range(num_trials):\n",
    "            print(f\"Running trial: {iteration:2.0f}/{num_trials*len(images):2.0f}\", end=\"\\r\")\n",
    "\n",
    "            cam_extractor = extractor()\n",
    "\n",
    "            class_scores, class_idx = cam_extractor.class_score(image)\n",
    "\n",
    "            masks.append(torch.stack([\n",
    "                preprocess.to_grid(preprocess.preprocess_image(cam_extractor.activations(idx, class_scores)), **grid_kwgs)\n",
    "                for idx in classes\n",
    "            ]))\n",
    "            iteration += 1\n",
    "    return cam_extractor.average_image(masks)"
   ]
  },
  {
   "cell_type": "markdown",
   "id": "e19b22a3-f2bc-4a2e-97a4-7c6644ed5827",
   "metadata": {},
   "source": [
    "## Grad-CAM++ vs Smooth Grad-CAM++\n",
    "\n",
    "Testing with Grad-CAM++"
   ]
  },
  {
   "cell_type": "code",
   "execution_count": 8,
   "id": "89f8294c-97d7-4a47-98aa-88fd614e6320",
   "metadata": {},
   "outputs": [
    {
     "ename": "FileNotFoundError",
     "evalue": "No such file or no access: '../data/SPM_categorised/AIH/AD/AD_ADNI_2489.nii'",
     "output_type": "error",
     "traceback": [
      "\u001b[0;31m---------------------------------------------------------------------------\u001b[0m",
      "\u001b[0;31mFileNotFoundError\u001b[0m                         Traceback (most recent call last)",
      "\u001b[0;32m~/miniconda3/envs/Master-thesis/lib/python3.9/site-packages/nibabel/loadsave.py\u001b[0m in \u001b[0;36mload\u001b[0;34m(filename, **kwargs)\u001b[0m\n\u001b[1;32m     41\u001b[0m     \u001b[0;32mtry\u001b[0m\u001b[0;34m:\u001b[0m\u001b[0;34m\u001b[0m\u001b[0;34m\u001b[0m\u001b[0m\n\u001b[0;32m---> 42\u001b[0;31m         \u001b[0mstat_result\u001b[0m \u001b[0;34m=\u001b[0m \u001b[0mos\u001b[0m\u001b[0;34m.\u001b[0m\u001b[0mstat\u001b[0m\u001b[0;34m(\u001b[0m\u001b[0mfilename\u001b[0m\u001b[0;34m)\u001b[0m\u001b[0;34m\u001b[0m\u001b[0;34m\u001b[0m\u001b[0m\n\u001b[0m\u001b[1;32m     43\u001b[0m     \u001b[0;32mexcept\u001b[0m \u001b[0mOSError\u001b[0m\u001b[0;34m:\u001b[0m\u001b[0;34m\u001b[0m\u001b[0;34m\u001b[0m\u001b[0m\n",
      "\u001b[0;31mFileNotFoundError\u001b[0m: [Errno 2] No such file or directory: '../data/SPM_categorised/AIH/AD/AD_ADNI_2489.nii'",
      "\nDuring handling of the above exception, another exception occurred:\n",
      "\u001b[0;31mFileNotFoundError\u001b[0m                         Traceback (most recent call last)",
      "\u001b[0;32m<ipython-input-8-03e9179eb6af>\u001b[0m in \u001b[0;36m<module>\u001b[0;34m\u001b[0m\n\u001b[1;32m      1\u001b[0m fig = CAM.plot(\n\u001b[0;32m----> 2\u001b[0;31m     \u001b[0mimages\u001b[0m\u001b[0;34m=\u001b[0m\u001b[0mCAM\u001b[0m\u001b[0;34m.\u001b[0m\u001b[0mrepeat_stack\u001b[0m\u001b[0;34m(\u001b[0m\u001b[0mCAM\u001b[0m\u001b[0;34m.\u001b[0m\u001b[0mpreprocess\u001b[0m\u001b[0;34m(\u001b[0m\u001b[0mFILE_NAMES\u001b[0m\u001b[0;34m[\u001b[0m\u001b[0;36m0\u001b[0m\u001b[0;34m]\u001b[0m\u001b[0;34m)\u001b[0m\u001b[0;34m,\u001b[0m \u001b[0mrepeat\u001b[0m\u001b[0;34m=\u001b[0m\u001b[0;36m3\u001b[0m\u001b[0;34m)\u001b[0m\u001b[0;34m,\u001b[0m\u001b[0;34m\u001b[0m\u001b[0;34m\u001b[0m\u001b[0m\n\u001b[0m\u001b[1;32m      3\u001b[0m     masks=trial_classes(\n\u001b[1;32m      4\u001b[0m         \u001b[0mThreadSafeReloadedModel\u001b[0m\u001b[0;34m(\u001b[0m\u001b[0mMODEL_CHECKPOINT\u001b[0m\u001b[0;34m,\u001b[0m \u001b[0mcam_type\u001b[0m\u001b[0;34m=\u001b[0m\u001b[0mtorchcam\u001b[0m\u001b[0;34m.\u001b[0m\u001b[0mcams\u001b[0m\u001b[0;34m.\u001b[0m\u001b[0mGradCAMpp\u001b[0m\u001b[0;34m)\u001b[0m\u001b[0;34m,\u001b[0m \u001b[0;34m[\u001b[0m\u001b[0mCAM\u001b[0m\u001b[0;34m.\u001b[0m\u001b[0mpreprocess\u001b[0m\u001b[0;34m(\u001b[0m\u001b[0mFILE_NAMES\u001b[0m\u001b[0;34m[\u001b[0m\u001b[0;36m0\u001b[0m\u001b[0;34m]\u001b[0m\u001b[0;34m)\u001b[0m\u001b[0;34m]\u001b[0m\u001b[0;34m,\u001b[0m\u001b[0;34m\u001b[0m\u001b[0;34m\u001b[0m\u001b[0m\n\u001b[1;32m      5\u001b[0m         \u001b[0mgrid_kwgs\u001b[0m\u001b[0;34m=\u001b[0m\u001b[0;34m{\u001b[0m\u001b[0;34m'max_num_slices'\u001b[0m\u001b[0;34m:\u001b[0m\u001b[0;36m16\u001b[0m\u001b[0;34m,\u001b[0m \u001b[0;34m'nrow'\u001b[0m\u001b[0;34m:\u001b[0m\u001b[0;36m4\u001b[0m\u001b[0;34m}\u001b[0m\u001b[0;34m\u001b[0m\u001b[0;34m\u001b[0m\u001b[0m\n",
      "\u001b[0;32m/home/stud1/f/fremar16/Master_thesis/src/cam.py\u001b[0m in \u001b[0;36mpreprocess\u001b[0;34m(filename)\u001b[0m\n\u001b[1;32m    241\u001b[0m         \"\"\"\n\u001b[1;32m    242\u001b[0m         \u001b[0mclass_label\u001b[0m \u001b[0;34m=\u001b[0m \u001b[0msplit_custom_filename\u001b[0m\u001b[0;34m(\u001b[0m\u001b[0mfilename\u001b[0m\u001b[0;34m,\u001b[0m\u001b[0;34m'/'\u001b[0m\u001b[0;34m)\u001b[0m\u001b[0;34m[\u001b[0m\u001b[0;36m4\u001b[0m\u001b[0;34m]\u001b[0m\u001b[0;34m\u001b[0m\u001b[0;34m\u001b[0m\u001b[0m\n\u001b[0;32m--> 243\u001b[0;31m         \u001b[0mimage\u001b[0m \u001b[0;34m=\u001b[0m \u001b[0mimage2axial\u001b[0m\u001b[0;34m(\u001b[0m\u001b[0mnib\u001b[0m\u001b[0;34m.\u001b[0m\u001b[0mload\u001b[0m\u001b[0;34m(\u001b[0m\u001b[0mfilename\u001b[0m\u001b[0;34m)\u001b[0m\u001b[0;34m.\u001b[0m\u001b[0mget_fdata\u001b[0m\u001b[0;34m(\u001b[0m\u001b[0;34m)\u001b[0m\u001b[0;34m)\u001b[0m\u001b[0;34m\u001b[0m\u001b[0;34m\u001b[0m\u001b[0m\n\u001b[0m\u001b[1;32m    244\u001b[0m         \u001b[0mimage\u001b[0m\u001b[0;34m[\u001b[0m\u001b[0mimage\u001b[0m \u001b[0;34m<=\u001b[0m \u001b[0;36m0\u001b[0m\u001b[0;34m]\u001b[0m\u001b[0;34m=\u001b[0m\u001b[0;36m0\u001b[0m\u001b[0;34m\u001b[0m\u001b[0;34m\u001b[0m\u001b[0m\n\u001b[1;32m    245\u001b[0m         \u001b[0mimage\u001b[0m \u001b[0;34m=\u001b[0m \u001b[0mpreprocess\u001b[0m\u001b[0;34m.\u001b[0m\u001b[0mpreprocess_image\u001b[0m\u001b[0;34m(\u001b[0m\u001b[0mimage\u001b[0m\u001b[0;34m)\u001b[0m\u001b[0;34m\u001b[0m\u001b[0;34m\u001b[0m\u001b[0m\n",
      "\u001b[0;32m~/miniconda3/envs/Master-thesis/lib/python3.9/site-packages/nibabel/loadsave.py\u001b[0m in \u001b[0;36mload\u001b[0;34m(filename, **kwargs)\u001b[0m\n\u001b[1;32m     42\u001b[0m         \u001b[0mstat_result\u001b[0m \u001b[0;34m=\u001b[0m \u001b[0mos\u001b[0m\u001b[0;34m.\u001b[0m\u001b[0mstat\u001b[0m\u001b[0;34m(\u001b[0m\u001b[0mfilename\u001b[0m\u001b[0;34m)\u001b[0m\u001b[0;34m\u001b[0m\u001b[0;34m\u001b[0m\u001b[0m\n\u001b[1;32m     43\u001b[0m     \u001b[0;32mexcept\u001b[0m \u001b[0mOSError\u001b[0m\u001b[0;34m:\u001b[0m\u001b[0;34m\u001b[0m\u001b[0;34m\u001b[0m\u001b[0m\n\u001b[0;32m---> 44\u001b[0;31m         \u001b[0;32mraise\u001b[0m \u001b[0mFileNotFoundError\u001b[0m\u001b[0;34m(\u001b[0m\u001b[0;34mf\"No such file or no access: '{filename}'\"\u001b[0m\u001b[0;34m)\u001b[0m\u001b[0;34m\u001b[0m\u001b[0;34m\u001b[0m\u001b[0m\n\u001b[0m\u001b[1;32m     45\u001b[0m     \u001b[0;32mif\u001b[0m \u001b[0mstat_result\u001b[0m\u001b[0;34m.\u001b[0m\u001b[0mst_size\u001b[0m \u001b[0;34m<=\u001b[0m \u001b[0;36m0\u001b[0m\u001b[0;34m:\u001b[0m\u001b[0;34m\u001b[0m\u001b[0;34m\u001b[0m\u001b[0m\n\u001b[1;32m     46\u001b[0m         \u001b[0;32mraise\u001b[0m \u001b[0mImageFileError\u001b[0m\u001b[0;34m(\u001b[0m\u001b[0;34mf\"Empty file: '{filename}'\"\u001b[0m\u001b[0;34m)\u001b[0m\u001b[0;34m\u001b[0m\u001b[0;34m\u001b[0m\u001b[0m\n",
      "\u001b[0;31mFileNotFoundError\u001b[0m: No such file or no access: '../data/SPM_categorised/AIH/AD/AD_ADNI_2489.nii'"
     ]
    }
   ],
   "source": [
    "fig = CAM.plot(\n",
    "    images=CAM.repeat_stack(CAM.preprocess(FILE_NAMES[0]), repeat=3),\n",
    "    masks=trial_classes(\n",
    "        ThreadSafeReloadedModel(MODEL_CHECKPOINT, cam_type=torchcam.cams.GradCAMpp), [CAM.preprocess(FILE_NAMES[0])], \n",
    "        grid_kwgs={'max_num_slices':16, 'nrow':4}\n",
    "    ),\n",
    "    labels=[0,1,2], \n",
    "    class_label=\"AD\",\n",
    "    architecture=\"/var/metrics/codetests/logs/tb/final/base2/resnet18_brew2/20210524224031/version_2/checkpoints/epoch=40-step=2172.ckpt\".split(\"/\")[8]\n",
    ");"
   ]
  },
  {
   "cell_type": "markdown",
   "id": "3e73d0d1-4ae3-4705-ace3-7c8ceaabe3e8",
   "metadata": {},
   "source": [
    "Testing with Smooth Grad-CAM++"
   ]
  },
  {
   "cell_type": "code",
   "execution_count": null,
   "id": "4c71eb00-5391-4bcd-8760-1d6fed36ccce",
   "metadata": {
    "tags": []
   },
   "outputs": [],
   "source": [
    "fig = CAM.plot(\n",
    "    images=CAM.repeat_stack(CAM.preprocess(FILE_NAMES[0]), repeat=3),\n",
    "    masks=trial_classes(\n",
    "        ThreadSafeReloadedModel(MODEL_CHECKPOINT, cam_type=torchcam.cams.SmoothGradCAMpp, cam_kwargs=SMOOTHGRADCAMPP_KWARGS), [CAM.preprocess(FILE_NAMES[0])], \n",
    "        grid_kwgs={'max_num_slices':16, 'nrow':4}\n",
    "    ),\n",
    "    labels=[0,1,2], \n",
    "    class_label=\"AD\",\n",
    "    architecture=\"/var/metrics/codetests/logs/tb/final/base2/resnet18_brew2/20210524224031/version_2/checkpoints/epoch=40-step=2172.ckpt\".split(\"/\")[8]\n",
    ");"
   ]
  },
  {
   "cell_type": "markdown",
   "id": "5e566e1b-5f57-4b9e-8a4d-f2ab2e13b444",
   "metadata": {},
   "source": [
    "## With CN, MCI and AD scan"
   ]
  },
  {
   "cell_type": "code",
   "execution_count": null,
   "id": "68dbc7b4-c2b4-44a5-b334-9a066e825ebd",
   "metadata": {},
   "outputs": [],
   "source": [
    "fig = CAM.plot(\n",
    "    images=CAM.repeat_stack(CAM.preprocess(FILE_NAMES[0]), repeat=3),\n",
    "    masks=trial_classes(\n",
    "        THREADSAFE_CAM_EXTRACTOR, [CAM.preprocess(FILE_NAMES[0])],\n",
    "        grid_kwgs={'max_num_slices':16, 'nrow':4}\n",
    "    ),\n",
    "    labels=[0,1,2], \n",
    "    class_label=\"AD\",\n",
    "    architecture=\"/var/metrics/codetests/logs/tb/final/base2/resnet18_brew2/20210524224031/version_2/checkpoints/epoch=40-step=2172.ckpt\".split(\"/\")[8]\n",
    ");\n",
    "\n",
    "fig = CAM.plot(\n",
    "    images=CAM.repeat_stack(CAM.preprocess(FILE_NAMES[1]), repeat=3),\n",
    "    masks=trial_classes(\n",
    "        THREADSAFE_CAM_EXTRACTOR, [CAM.preprocess(FILE_NAMES[1])],\n",
    "        grid_kwgs={'max_num_slices':16, 'nrow':4}\n",
    "    ),\n",
    "    labels=[0,1,2], \n",
    "    class_label=\"MCI\",\n",
    "    architecture=\"/var/metrics/codetests/logs/tb/final/base2/resnet18_brew2/20210524224031/version_2/checkpoints/epoch=40-step=2172.ckpt\".split(\"/\")[8]\n",
    ");\n",
    "\n",
    "fig = CAM.plot(\n",
    "    images=CAM.repeat_stack(CAM.preprocess(FILE_NAMES[1]), repeat=3),\n",
    "    masks=trial_classes(\n",
    "        THREADSAFE_CAM_EXTRACTOR, [CAM.preprocess(FILE_NAMES[2])],\n",
    "        grid_kwgs={'max_num_slices':16, 'nrow':4}\n",
    "    ),\n",
    "    labels=[0,1,2], \n",
    "    class_label=\"CN\",\n",
    "    architecture=\"/var/metrics/codetests/logs/tb/final/base2/resnet18_brew2/20210524224031/version_2/checkpoints/epoch=40-step=2172.ckpt\".split(\"/\")[8]\n",
    ");"
   ]
  },
  {
   "cell_type": "markdown",
   "id": "783a7eab",
   "metadata": {},
   "source": [
    "## Evaluate CAM distribution"
   ]
  },
  {
   "cell_type": "code",
   "execution_count": null,
   "id": "8622a974-72a8-4823-85db-bbc23df2deaa",
   "metadata": {},
   "outputs": [],
   "source": [
    "def trial_average(extractor, images:list=[], num_trials:int=10):\n",
    "        iteration = 1\n",
    "        masks = []\n",
    "        for img_index, image in enumerate(images):\n",
    "            for i in range(num_trials):\n",
    "                print(f\"Running trial: {iteration:2.0f}/{num_trials*len(images):2.0f}\", end=\"\\r\")\n",
    "            \n",
    "                cam_extractor = extractor()\n",
    "\n",
    "                class_scores, class_idx = cam_extractor.class_score(image)\n",
    "                masks.append(cam_extractor.activations(class_idx, class_scores))\n",
    "                iteration += 1\n",
    "\n",
    "        return preprocess.preprocess_image(CAM.average_image(masks))"
   ]
  },
  {
   "cell_type": "code",
   "execution_count": null,
   "id": "500022fe",
   "metadata": {},
   "outputs": [],
   "source": [
    "IMAGES = [image[1].squeeze(0) for image in THREADSAFE_CAM_EXTRACTOR.get_validation_images(observe_classes=OBSERVED_CLASSES)]\n",
    "averaged_mask = trial_average(\n",
    "    THREADSAFE_CAM_EXTRACTOR, IMAGES\n",
    ")\n",
    "\n",
    "fig = CAM.plot(\n",
    "    masks=torch.stack([preprocess.to_grid(averaged_mask,max_num_slices=16, nrow=4)])\n",
    ");"
   ]
  },
  {
   "cell_type": "code",
   "execution_count": null,
   "id": "b66fc02a",
   "metadata": {},
   "outputs": [],
   "source": [
    "plt.figure()\n",
    "sns.kdeplot(np.hstack(np.hstack(averaged_mask)))\n",
    "plt.xlabel(\"Intensity\")\n",
    "plt.ylabel(\"Density\")\n",
    "plt.title(\"Density vs intensity plot on CAM\")"
   ]
  },
  {
   "cell_type": "code",
   "execution_count": null,
   "id": "2fec2ab2",
   "metadata": {},
   "outputs": [],
   "source": [
    "# Show density of each image\n",
    "[sns.kdeplot(np.hstack(image)) for image in averaged_mask];\n",
    "plt.xlabel(\"Intensity\")\n",
    "plt.ylabel(\"Density\")\n",
    "plt.title(\"Density vs intensity plot on CAM\")"
   ]
  }
 ],
 "metadata": {
  "kernelspec": {
   "display_name": "Master-thesis",
   "language": "python",
   "name": "master-thesis"
  },
  "language_info": {
   "codemirror_mode": {
    "name": "ipython",
    "version": 3
   },
   "file_extension": ".py",
   "mimetype": "text/x-python",
   "name": "python",
   "nbconvert_exporter": "python",
   "pygments_lexer": "ipython3",
   "version": "3.9.2"
  }
 },
 "nbformat": 4,
 "nbformat_minor": 5
}
