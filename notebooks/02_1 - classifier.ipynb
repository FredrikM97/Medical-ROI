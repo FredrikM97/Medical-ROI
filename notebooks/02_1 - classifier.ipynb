{
 "cells": [
  {
   "cell_type": "code",
   "execution_count": 1,
   "id": "sunset-syndicate",
   "metadata": {},
   "outputs": [],
   "source": [
    "%load_ext autoreload\n",
    "%autoreload 2\n",
    "import sys\n",
    "if '..' not in sys.path: sys.path.append(\"..\")"
   ]
  },
  {
   "cell_type": "code",
   "execution_count": 2,
   "id": "1b3cd567-e1b1-4c8d-976f-3e08e7c67483",
   "metadata": {},
   "outputs": [],
   "source": [
    "from src.classifier import agent\n",
    "import time\n",
    "import matplotlib.pyplot as plt"
   ]
  },
  {
   "cell_type": "code",
   "execution_count": null,
   "id": "9b77263e-50b3-4381-8031-d5333028cb36",
   "metadata": {},
   "outputs": [
    {
     "name": "stdout",
     "output_type": "stream",
     "text": [
      "***Defined dataloader:***\n",
      "Data directory: data/SPM_categorised/Amira/\n",
      "Dataset sizes - Training: 444 Validation: 112\n",
      "Augmentation: Enabled\n",
      "KFold: Enabled - Fold: 1/5\n",
      "\n",
      "Architecture [VGG] was created\n",
      "***Defined hyperparameters:***\n",
      "\"arch\":                {'name': 'vgg13_brew', 'args': {'num_channels': 1, 'num_classes': 3}}\n",
      "\"checkpoint_path\":     None\n",
      "\"class_weights\":       tensor([1.1935, 0.9250, 0.9250], device='cuda:0')\n",
      "\"hp_metrics\":          ['loss/train', 'loss/val', 'accuracy/val', 'auc/val', 'specificity/val', 'sensitivity/val']\n",
      "\"loss\":                {'type': 'CrossEntropyLoss', 'args': {'weight': True}}\n",
      "\"optimizer\":           {'type': 'Adam', 'args': {'lr': 0.0001, 'weight_decay': 1e-05}}\n",
      "\"roi_hparams\":         {'enable': False, 'output_shape': [3, 3, 3], 'boundary_boxes': []}\n",
      "\"weight_distribution\": normal\n"
     ]
    },
    {
     "name": "stderr",
     "output_type": "stream",
     "text": [
      "GPU available: True, used: True\n",
      "TPU available: False, using: 0 TPU cores\n",
      "Missing logger folder: /var/metrics/codetests/logs/tb/vgg13_brew/20210429043141\n",
      "LOCAL_RANK: 0 - CUDA_VISIBLE_DEVICES: [0]\n",
      "initializing ddp: GLOBAL_RANK: 0, MEMBER: 1/1\n",
      "\n",
      "  | Name           | Type             | Params\n",
      "----------------------------------------------------\n",
      "0 | model          | VGG              | 104 M \n",
      "1 | criteria       | CrossEntropyLoss | 0     \n",
      "2 | metricsTracker | MetricTracker    | 0     \n",
      "----------------------------------------------------\n",
      "104 M     Trainable params\n",
      "0         Non-trainable params\n",
      "104 M     Total params\n",
      "416.387   Total estimated model params size (MB)\n"
     ]
    },
    {
     "name": "stdout",
     "output_type": "stream",
     "text": [
      "Enabled callbacks:  ['LitProgressBar', 'EarlyStopping']\n",
      "Dataloader fold: 1\n",
      "Epoch 4 [51/74] {'loss': '1.1'}\r"
     ]
    }
   ],
   "source": [
    "models = ['vgg13_brew','vgg11_brew','vgg16_brew','resnet18_brew','resnet34_brew','resnet50_brew'] #'resnet18','resnet34','vgg11'\n",
    "\n",
    "for name in models:\n",
    "    trainer = agent.Agent(name)\n",
    "    try:\n",
    "        while True:\n",
    "            tr = trainer.run()\n",
    "            \n",
    "            if not trainer.dataloader.next_fold(): break\n",
    "            time.sleep(10)\n",
    "    except Exception as e:\n",
    "        raise e\n",
    "    "
   ]
  },
  {
   "cell_type": "code",
   "execution_count": null,
   "id": "689f42f2-bda7-4e26-941d-05356dd712f9",
   "metadata": {},
   "outputs": [],
   "source": [
    "models = ['vgg13','vgg11','vgg16','resnet18','resnet34','resnet50'] \n",
    "\n",
    "for name in models:\n",
    "    trainer = agent.Agent(name)\n",
    "    try:\n",
    "        while True:\n",
    "            tr = trainer.run()\n",
    "            \n",
    "            if not trainer.dataloader.next_fold(): break\n",
    "            time.sleep(10)\n",
    "    except Exception as e:\n",
    "        raise e"
   ]
  }
 ],
 "metadata": {
  "kernelspec": {
   "display_name": "Master-thesis",
   "language": "python",
   "name": "master-thesis"
  },
  "language_info": {
   "codemirror_mode": {
    "name": "ipython",
    "version": 3
   },
   "file_extension": ".py",
   "mimetype": "text/x-python",
   "name": "python",
   "nbconvert_exporter": "python",
   "pygments_lexer": "ipython3",
   "version": "3.9.2"
  },
  "widgets": {
   "application/vnd.jupyter.widget-state+json": {
    "state": {},
    "version_major": 2,
    "version_minor": 0
   }
  }
 },
 "nbformat": 4,
 "nbformat_minor": 5
}
