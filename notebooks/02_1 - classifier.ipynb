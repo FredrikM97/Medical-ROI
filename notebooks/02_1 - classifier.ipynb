{
 "cells": [
  {
   "cell_type": "code",
   "execution_count": 1,
   "id": "sunset-syndicate",
   "metadata": {},
   "outputs": [],
   "source": [
    "%load_ext autoreload\n",
    "%autoreload 2\n",
    "import sys\n",
    "if '..' not in sys.path: sys.path.append(\"..\")"
   ]
  },
  {
   "cell_type": "code",
   "execution_count": 2,
   "id": "1b3cd567-e1b1-4c8d-976f-3e08e7c67483",
   "metadata": {},
   "outputs": [],
   "source": [
    "from src.classifier import agent\n",
    "import time\n",
    "import matplotlib.pyplot as plt"
   ]
  },
  {
   "cell_type": "code",
   "execution_count": 3,
   "id": "c950839d-ad09-40c1-bd58-5bd223e7900d",
   "metadata": {
    "tags": []
   },
   "outputs": [
    {
     "data": {
      "text/plain": [
       "\"trainer = agent.Agent('resnet18_brew')\\nderp = iter(trainer.dataloader.train_dataloader())\\n\\n\""
      ]
     },
     "execution_count": 3,
     "metadata": {},
     "output_type": "execute_result"
    }
   ],
   "source": [
    "\"\"\"trainer = agent.Agent('resnet18_brew')\n",
    "derp = iter(trainer.dataloader.train_dataloader())\n",
    "\n",
    "\"\"\""
   ]
  },
  {
   "cell_type": "code",
   "execution_count": 4,
   "id": "18397154-4d50-4769-9bac-ad705e563e28",
   "metadata": {},
   "outputs": [
    {
     "data": {
      "text/plain": [
       "'from src.utils.plot import display_3D\\nfor image in derp.next()[0]:\\n    display_3D(image[0]);\\n    print(\"asd\")\\n'"
      ]
     },
     "execution_count": 4,
     "metadata": {},
     "output_type": "execute_result"
    }
   ],
   "source": [
    "\"\"\"from src.utils.plot import display_3D\n",
    "for image in derp.next()[0]:\n",
    "    display_3D(image[0]);\n",
    "    print(\"asd\")\n",
    "\"\"\""
   ]
  },
  {
   "cell_type": "code",
   "execution_count": 5,
   "id": "de5a0bb3-e837-4ba1-92e1-d4ce7ec83405",
   "metadata": {},
   "outputs": [],
   "source": [
    "def run_me(name,i_limit=5,base_config='base'):\n",
    "    trainer = agent.Agent(name, base_config=base_config)\n",
    "    try:\n",
    "        i = 0\n",
    "        while True:\n",
    "            try:\n",
    "                tr = trainer.run()\n",
    "                time.sleep(10)\n",
    "                i += 1\n",
    "                del tr\n",
    "            except:\n",
    "                pass\n",
    "            \n",
    "            if not trainer.dataloader.next_fold() or i == i_limit and i_limit != -1: break\n",
    "            \n",
    "    except Exception as e:\n",
    "        raise e"
   ]
  },
  {
   "cell_type": "code",
   "execution_count": 6,
   "id": "9b77263e-50b3-4381-8031-d5333028cb36",
   "metadata": {},
   "outputs": [],
   "source": [
    "#models = ['resnet50_brew','resnet18_brew','resnet34_brew','vgg11_brew','vgg13_brew','vgg16_brew',] #'vgg13_brew', 'resnet18_brew','resnet34_brew','vgg11_brew','vgg16_brew',\n",
    "#models = ['vgg13','vgg11','vgg16','vgg11_brew','vgg13_brew','vgg16_brew','resnet50']#['resnet50_brew','resnet18_brew','resnet34_brew','resnet18','resnet34','resnet50','vgg13','vgg11','vgg16','vgg11_brew','vgg13_brew','vgg16_brew']#['resnet18','resnet34','resnet50', 'vgg13','vgg11','vgg16'] \n",
    "\n",
    "#for name in models:\n",
    "#    run_me(name, i_limit=-1)"
   ]
  },
  {
   "cell_type": "code",
   "execution_count": 7,
   "id": "f9afdf53-ac6d-41e1-bde2-4d51dfe80e25",
   "metadata": {},
   "outputs": [],
   "source": [
    "#models = ['resnet50_brew','resnet18_brew','resnet34_brew','vgg11_brew','vgg13_brew','vgg16_brew',] #'vgg13_brew', 'resnet18_brew','resnet34_brew','vgg11_brew','vgg16_brew',\n",
    "#models = ['resnet50_brew','resnet18_brew','resnet34_brew']#['resnet50_brew','resnet18_brew','resnet34_brew','resnet18','resnet34','resnet50','vgg13','vgg11','vgg16','vgg11_brew','vgg13_brew','vgg16_brew']#['resnet18','resnet34','resnet50', 'vgg13','vgg11','vgg16'] \n",
    "\n",
    "#for name in models:\n",
    "#    run_me(name)"
   ]
  },
  {
   "cell_type": "code",
   "execution_count": null,
   "id": "868403de-5cc6-4d41-a6dc-3a556136d21e",
   "metadata": {
    "tags": []
   },
   "outputs": [
    {
     "name": "stdout",
     "output_type": "stream",
     "text": [
      "***Defined dataloader:***\n",
      "Data directory: data/SPM_categorised/Amira/\n",
      "Dataset sizes - Training: 500 Validation: 56\n",
      "Seed: 420\n",
      "Augmentation: Enabled\n",
      "KFold: Enabled - Fold: 1/10\n",
      "\n"
     ]
    },
    {
     "name": "stderr",
     "output_type": "stream",
     "text": [
      "/home/stud/f/fremar16/miniconda3/envs/Master-thesis/lib/python3.9/site-packages/torchmetrics/utilities/prints.py:36: UserWarning: Metric `AUROC` will save all targets and predictions in buffer. For large datasets this may lead to large memory footprint.\n",
      "  warnings.warn(*args, **kwargs)\n",
      "GPU available: True, used: True\n",
      "TPU available: False, using: 0 TPU cores\n",
      "Missing logger folder: /var/metrics/codetests/logs/tb/resnet18_brew2/20210508174351\n",
      "LOCAL_RANK: 0 - CUDA_VISIBLE_DEVICES: [0]\n",
      "\n",
      "  | Name          | Type             | Params\n",
      "---------------------------------------------------\n",
      "0 | model         | ResNet           | 8.3 M \n",
      "1 | criteria      | CrossEntropyLoss | 0     \n",
      "2 | train_metrics | MetricCollection | 0     \n",
      "3 | valid_metrics | MetricCollection | 0     \n",
      "---------------------------------------------------\n",
      "8.3 M     Trainable params\n",
      "0         Non-trainable params\n",
      "8.3 M     Total params\n",
      "33.154    Total estimated model params size (MB)\n"
     ]
    },
    {
     "name": "stdout",
     "output_type": "stream",
     "text": [
      "Architecture [ResNet] was created\n",
      "***Defined hyperparameters:***\n",
      "\"arch\":                {'name': 'resnet18_brew2', 'args': {'num_channels': 1, 'num_classes': 3}}\n",
      "\"checkpoint_path\":     None\n",
      "\"class_weights\":       tensor([1.1905, 0.9259, 0.9259], device='cuda:0')\n",
      "\"hp_metrics\":          ['loss/train', 'loss/val', 'Accuracy/val', 'AUROC/val', 'Precision/val', 'Recall/val', 'Specificity/val']\n",
      "\"loss\":                {'type': 'CrossEntropyLoss', 'args': {'weight': True}}\n",
      "\"optimizer\":           {'type': 'Adam', 'args': {'lr': 0.0001, 'weight_decay': 0, 'amsgrad': True}}\n",
      "\"roi_hparams\":         {'enable': False, 'output_shape': [3, 3, 3], 'boundary_boxes': []}\n",
      "\"weight_distribution\": normal\n",
      "Enabled callbacks:  ['LitProgressBar', 'EarlyStopping']\n",
      "Dataloader fold: 1\n",
      "Epoch 1 [63/63] {'loss': '1.12'}\r"
     ]
    },
    {
     "name": "stderr",
     "output_type": "stream",
     "text": [
      "Metric loss/val improved. New best score: 1.586\n"
     ]
    },
    {
     "name": "stdout",
     "output_type": "stream",
     "text": [
      "Epoch 2 [63/63] {'loss': '1.09'}\r"
     ]
    },
    {
     "name": "stderr",
     "output_type": "stream",
     "text": [
      "Metric loss/val improved by 0.483 >= min_delta = 0. New best score: 1.103\n"
     ]
    },
    {
     "name": "stdout",
     "output_type": "stream",
     "text": [
      "Epoch 3 [63/63] {'loss': '1.09'}\r"
     ]
    },
    {
     "name": "stderr",
     "output_type": "stream",
     "text": [
      "Metric loss/val improved by 0.061 >= min_delta = 0. New best score: 1.042\n"
     ]
    },
    {
     "name": "stdout",
     "output_type": "stream",
     "text": [
      "Epoch 5 [63/63] {'loss': '1.09'}\r"
     ]
    },
    {
     "name": "stderr",
     "output_type": "stream",
     "text": [
      "Metric loss/val improved by 0.043 >= min_delta = 0. New best score: 1.000\n"
     ]
    },
    {
     "name": "stdout",
     "output_type": "stream",
     "text": [
      "Epoch 9 [63/63] {'loss': '1.08'}\r"
     ]
    },
    {
     "name": "stderr",
     "output_type": "stream",
     "text": [
      "Metric loss/val improved by 0.010 >= min_delta = 0. New best score: 0.989\n"
     ]
    },
    {
     "name": "stdout",
     "output_type": "stream",
     "text": [
      "Epoch 29 [63/63] {'loss': '1.04'}}\r"
     ]
    },
    {
     "name": "stderr",
     "output_type": "stream",
     "text": [
      "Monitored metric loss/val did not improve in the last 20 records. Best score: 0.989. Signaling Trainer to stop.\n",
      "GPU available: True, used: True\n",
      "TPU available: False, using: 0 TPU cores\n",
      "LOCAL_RANK: 0 - CUDA_VISIBLE_DEVICES: [0]\n",
      "\n",
      "  | Name          | Type             | Params\n",
      "---------------------------------------------------\n",
      "0 | model         | ResNet           | 8.3 M \n",
      "1 | criteria      | CrossEntropyLoss | 0     \n",
      "2 | train_metrics | MetricCollection | 0     \n",
      "3 | valid_metrics | MetricCollection | 0     \n",
      "---------------------------------------------------\n",
      "8.3 M     Trainable params\n",
      "0         Non-trainable params\n",
      "8.3 M     Total params\n",
      "33.154    Total estimated model params size (MB)\n"
     ]
    },
    {
     "name": "stdout",
     "output_type": "stream",
     "text": [
      "Architecture [ResNet] was created\n",
      "***Defined hyperparameters:***\n",
      "\"arch\":                {'name': 'resnet18_brew2', 'args': {'num_channels': 1, 'num_classes': 3}}\n",
      "\"checkpoint_path\":     None\n",
      "\"class_weights\":       tensor([1.1905, 0.9259, 0.9259], device='cuda:0')\n",
      "\"hp_metrics\":          ['loss/train', 'loss/val', 'Accuracy/val', 'AUROC/val', 'Precision/val', 'Recall/val', 'Specificity/val']\n",
      "\"loss\":                {'type': 'CrossEntropyLoss', 'args': {'weight': True}}\n",
      "\"optimizer\":           {'type': 'Adam', 'args': {'lr': 0.0001, 'weight_decay': 0, 'amsgrad': True}}\n",
      "\"roi_hparams\":         {'enable': False, 'output_shape': [3, 3, 3], 'boundary_boxes': []}\n",
      "\"weight_distribution\": normal\n",
      "Enabled callbacks:  ['LitProgressBar', 'EarlyStopping']\n",
      "Dataloader fold: 2\n",
      "Epoch 1 [63/63] {'loss': '1.14'}\r"
     ]
    },
    {
     "name": "stderr",
     "output_type": "stream",
     "text": [
      "Metric loss/val improved. New best score: 1.085\n"
     ]
    },
    {
     "name": "stdout",
     "output_type": "stream",
     "text": [
      "Epoch 3 [63/63] {'loss': '1.1'}}\r"
     ]
    },
    {
     "name": "stderr",
     "output_type": "stream",
     "text": [
      "Metric loss/val improved by 0.009 >= min_delta = 0. New best score: 1.076\n"
     ]
    },
    {
     "name": "stdout",
     "output_type": "stream",
     "text": [
      "Epoch 4 [63/63] {'loss': '1.1'}}\r"
     ]
    },
    {
     "name": "stderr",
     "output_type": "stream",
     "text": [
      "Metric loss/val improved by 0.007 >= min_delta = 0. New best score: 1.069\n"
     ]
    },
    {
     "name": "stdout",
     "output_type": "stream",
     "text": [
      "Epoch 5 [63/63] {'loss': '1.09'}\r"
     ]
    },
    {
     "name": "stderr",
     "output_type": "stream",
     "text": [
      "Metric loss/val improved by 0.014 >= min_delta = 0. New best score: 1.055\n"
     ]
    },
    {
     "name": "stdout",
     "output_type": "stream",
     "text": [
      "Epoch 13 [63/63] {'loss': '1.08'}\r"
     ]
    },
    {
     "name": "stderr",
     "output_type": "stream",
     "text": [
      "Metric loss/val improved by 0.005 >= min_delta = 0. New best score: 1.051\n"
     ]
    },
    {
     "name": "stdout",
     "output_type": "stream",
     "text": [
      "Epoch 17 [63/63] {'loss': '1.08'}}\r"
     ]
    },
    {
     "name": "stderr",
     "output_type": "stream",
     "text": [
      "Metric loss/val improved by 0.022 >= min_delta = 0. New best score: 1.029\n"
     ]
    },
    {
     "name": "stdout",
     "output_type": "stream",
     "text": [
      "Epoch 23 [63/63] {'loss': '1.05'}}\r"
     ]
    },
    {
     "name": "stderr",
     "output_type": "stream",
     "text": [
      "Metric loss/val improved by 0.018 >= min_delta = 0. New best score: 1.011\n"
     ]
    },
    {
     "name": "stdout",
     "output_type": "stream",
     "text": [
      "Epoch 29 [63/63] {'loss': '1.03'}}\r"
     ]
    },
    {
     "name": "stderr",
     "output_type": "stream",
     "text": [
      "Metric loss/val improved by 0.018 >= min_delta = 0. New best score: 0.993\n"
     ]
    },
    {
     "name": "stdout",
     "output_type": "stream",
     "text": [
      "Epoch 30 [63/63] {'loss': '1.04'}}\r"
     ]
    },
    {
     "name": "stderr",
     "output_type": "stream",
     "text": [
      "Metric loss/val improved by 0.008 >= min_delta = 0. New best score: 0.985\n"
     ]
    },
    {
     "name": "stdout",
     "output_type": "stream",
     "text": [
      "Epoch 31 [63/63] {'loss': '1.02'}}\r"
     ]
    },
    {
     "name": "stderr",
     "output_type": "stream",
     "text": [
      "Metric loss/val improved by 0.006 >= min_delta = 0. New best score: 0.979\n"
     ]
    },
    {
     "name": "stdout",
     "output_type": "stream",
     "text": [
      "Epoch 32 [63/63] {'loss': '1.04'}}\r"
     ]
    },
    {
     "name": "stderr",
     "output_type": "stream",
     "text": [
      "Metric loss/val improved by 0.041 >= min_delta = 0. New best score: 0.938\n"
     ]
    },
    {
     "name": "stdout",
     "output_type": "stream",
     "text": [
      "Epoch 37 [63/63] {'loss': '0.991'}\r"
     ]
    },
    {
     "name": "stderr",
     "output_type": "stream",
     "text": [
      "Metric loss/val improved by 0.002 >= min_delta = 0. New best score: 0.936\n"
     ]
    },
    {
     "name": "stdout",
     "output_type": "stream",
     "text": [
      "Epoch 39 [63/63] {'loss': '0.92'}}\r"
     ]
    },
    {
     "name": "stderr",
     "output_type": "stream",
     "text": [
      "Metric loss/val improved by 0.082 >= min_delta = 0. New best score: 0.855\n"
     ]
    },
    {
     "name": "stdout",
     "output_type": "stream",
     "text": [
      "Epoch 59 [63/63] {'loss': '0.964'}\r"
     ]
    },
    {
     "name": "stderr",
     "output_type": "stream",
     "text": [
      "Metric loss/val improved by 0.057 >= min_delta = 0. New best score: 0.798\n"
     ]
    },
    {
     "name": "stdout",
     "output_type": "stream",
     "text": [
      "Epoch 79 [63/63] {'loss': '0.878'}\r"
     ]
    },
    {
     "name": "stderr",
     "output_type": "stream",
     "text": [
      "Monitored metric loss/val did not improve in the last 20 records. Best score: 0.798. Signaling Trainer to stop.\n",
      "GPU available: True, used: True\n",
      "TPU available: False, using: 0 TPU cores\n",
      "LOCAL_RANK: 0 - CUDA_VISIBLE_DEVICES: [0]\n",
      "\n",
      "  | Name          | Type             | Params\n",
      "---------------------------------------------------\n",
      "0 | model         | ResNet           | 8.3 M \n",
      "1 | criteria      | CrossEntropyLoss | 0     \n",
      "2 | train_metrics | MetricCollection | 0     \n",
      "3 | valid_metrics | MetricCollection | 0     \n",
      "---------------------------------------------------\n",
      "8.3 M     Trainable params\n",
      "0         Non-trainable params\n",
      "8.3 M     Total params\n",
      "33.154    Total estimated model params size (MB)\n"
     ]
    },
    {
     "name": "stdout",
     "output_type": "stream",
     "text": [
      "Architecture [ResNet] was created\n",
      "***Defined hyperparameters:***\n",
      "\"arch\":                {'name': 'resnet18_brew2', 'args': {'num_channels': 1, 'num_classes': 3}}\n",
      "\"checkpoint_path\":     None\n",
      "\"class_weights\":       tensor([1.1905, 0.9259, 0.9259], device='cuda:0')\n",
      "\"hp_metrics\":          ['loss/train', 'loss/val', 'Accuracy/val', 'AUROC/val', 'Precision/val', 'Recall/val', 'Specificity/val']\n",
      "\"loss\":                {'type': 'CrossEntropyLoss', 'args': {'weight': True}}\n",
      "\"optimizer\":           {'type': 'Adam', 'args': {'lr': 0.0001, 'weight_decay': 0, 'amsgrad': True}}\n",
      "\"roi_hparams\":         {'enable': False, 'output_shape': [3, 3, 3], 'boundary_boxes': []}\n",
      "\"weight_distribution\": normal\n",
      "Enabled callbacks:  ['LitProgressBar', 'EarlyStopping']\n",
      "Dataloader fold: 3\n",
      "Epoch 1 [63/63] {'loss': '1.13'}\r"
     ]
    },
    {
     "name": "stderr",
     "output_type": "stream",
     "text": [
      "Metric loss/val improved. New best score: 1.123\n"
     ]
    },
    {
     "name": "stdout",
     "output_type": "stream",
     "text": [
      "Epoch 2 [63/63] {'loss': '1.11'}\r"
     ]
    },
    {
     "name": "stderr",
     "output_type": "stream",
     "text": [
      "Metric loss/val improved by 0.001 >= min_delta = 0. New best score: 1.122\n"
     ]
    },
    {
     "name": "stdout",
     "output_type": "stream",
     "text": [
      "Epoch 3 [63/63] {'loss': '1.1'}}\r"
     ]
    },
    {
     "name": "stderr",
     "output_type": "stream",
     "text": [
      "Metric loss/val improved by 0.012 >= min_delta = 0. New best score: 1.110\n"
     ]
    },
    {
     "name": "stdout",
     "output_type": "stream",
     "text": [
      "Epoch 4 [63/63] {'loss': '1.1'}}\r"
     ]
    },
    {
     "name": "stderr",
     "output_type": "stream",
     "text": [
      "Metric loss/val improved by 0.051 >= min_delta = 0. New best score: 1.058\n"
     ]
    },
    {
     "name": "stdout",
     "output_type": "stream",
     "text": [
      "Epoch 7 [63/63] {'loss': '1.1'}}\r"
     ]
    },
    {
     "name": "stderr",
     "output_type": "stream",
     "text": [
      "Metric loss/val improved by 0.017 >= min_delta = 0. New best score: 1.041\n"
     ]
    },
    {
     "name": "stdout",
     "output_type": "stream",
     "text": [
      "Epoch 8 [63/63] {'loss': '1.04'}\r"
     ]
    },
    {
     "name": "stderr",
     "output_type": "stream",
     "text": [
      "Metric loss/val improved by 0.020 >= min_delta = 0. New best score: 1.021\n"
     ]
    },
    {
     "name": "stdout",
     "output_type": "stream",
     "text": [
      "Epoch 17 [63/63] {'loss': '1.06'}\r"
     ]
    },
    {
     "name": "stderr",
     "output_type": "stream",
     "text": [
      "Metric loss/val improved by 0.016 >= min_delta = 0. New best score: 1.005\n"
     ]
    },
    {
     "name": "stdout",
     "output_type": "stream",
     "text": [
      "Epoch 25 [63/63] {'loss': '1.03'}\r"
     ]
    },
    {
     "name": "stderr",
     "output_type": "stream",
     "text": [
      "Metric loss/val improved by 0.015 >= min_delta = 0. New best score: 0.990\n"
     ]
    },
    {
     "name": "stdout",
     "output_type": "stream",
     "text": [
      "Epoch 38 [63/63] {'loss': '1.01'}}\r"
     ]
    },
    {
     "name": "stderr",
     "output_type": "stream",
     "text": [
      "Metric loss/val improved by 0.070 >= min_delta = 0. New best score: 0.920\n"
     ]
    },
    {
     "name": "stdout",
     "output_type": "stream",
     "text": [
      "Epoch 51 [63/63] {'loss': '0.911'}\r"
     ]
    },
    {
     "name": "stderr",
     "output_type": "stream",
     "text": [
      "Metric loss/val improved by 0.013 >= min_delta = 0. New best score: 0.907\n"
     ]
    },
    {
     "name": "stdout",
     "output_type": "stream",
     "text": [
      "Epoch 54 [63/63] {'loss': '0.995'}\r"
     ]
    },
    {
     "name": "stderr",
     "output_type": "stream",
     "text": [
      "Metric loss/val improved by 0.051 >= min_delta = 0. New best score: 0.855\n"
     ]
    },
    {
     "name": "stdout",
     "output_type": "stream",
     "text": [
      "Epoch 55 [63/63] {'loss': '0.806'}\r"
     ]
    },
    {
     "name": "stderr",
     "output_type": "stream",
     "text": [
      "Metric loss/val improved by 0.007 >= min_delta = 0. New best score: 0.848\n"
     ]
    },
    {
     "name": "stdout",
     "output_type": "stream",
     "text": [
      "Epoch 70 [63/63] {'loss': '0.852'}\r"
     ]
    },
    {
     "name": "stderr",
     "output_type": "stream",
     "text": [
      "Metric loss/val improved by 0.002 >= min_delta = 0. New best score: 0.847\n"
     ]
    },
    {
     "name": "stdout",
     "output_type": "stream",
     "text": [
      "Epoch 71 [63/63] {'loss': '0.85'}}\r"
     ]
    },
    {
     "name": "stderr",
     "output_type": "stream",
     "text": [
      "Metric loss/val improved by 0.038 >= min_delta = 0. New best score: 0.808\n"
     ]
    },
    {
     "name": "stdout",
     "output_type": "stream",
     "text": [
      "Epoch 86 [63/63] {'loss': '0.846'}\r"
     ]
    },
    {
     "name": "stderr",
     "output_type": "stream",
     "text": [
      "Metric loss/val improved by 0.002 >= min_delta = 0. New best score: 0.806\n"
     ]
    },
    {
     "name": "stdout",
     "output_type": "stream",
     "text": [
      "Epoch 94 [63/63] {'loss': '0.83'}}\r"
     ]
    },
    {
     "name": "stderr",
     "output_type": "stream",
     "text": [
      "Metric loss/val improved by 0.023 >= min_delta = 0. New best score: 0.783\n"
     ]
    },
    {
     "name": "stdout",
     "output_type": "stream",
     "text": [
      "Epoch 100 [63/63] {'loss': '0.835'}\r"
     ]
    },
    {
     "name": "stderr",
     "output_type": "stream",
     "text": [
      "GPU available: True, used: True\n",
      "TPU available: False, using: 0 TPU cores\n",
      "LOCAL_RANK: 0 - CUDA_VISIBLE_DEVICES: [0]\n",
      "\n",
      "  | Name          | Type             | Params\n",
      "---------------------------------------------------\n",
      "0 | model         | ResNet           | 8.3 M \n",
      "1 | criteria      | CrossEntropyLoss | 0     \n",
      "2 | train_metrics | MetricCollection | 0     \n",
      "3 | valid_metrics | MetricCollection | 0     \n",
      "---------------------------------------------------\n",
      "8.3 M     Trainable params\n",
      "0         Non-trainable params\n",
      "8.3 M     Total params\n",
      "33.154    Total estimated model params size (MB)\n"
     ]
    },
    {
     "name": "stdout",
     "output_type": "stream",
     "text": [
      "Architecture [ResNet] was created\n",
      "***Defined hyperparameters:***\n",
      "\"arch\":                {'name': 'resnet18_brew2', 'args': {'num_channels': 1, 'num_classes': 3}}\n",
      "\"checkpoint_path\":     None\n",
      "\"class_weights\":       tensor([1.1905, 0.9259, 0.9259], device='cuda:0')\n",
      "\"hp_metrics\":          ['loss/train', 'loss/val', 'Accuracy/val', 'AUROC/val', 'Precision/val', 'Recall/val', 'Specificity/val']\n",
      "\"loss\":                {'type': 'CrossEntropyLoss', 'args': {'weight': True}}\n",
      "\"optimizer\":           {'type': 'Adam', 'args': {'lr': 0.0001, 'weight_decay': 0, 'amsgrad': True}}\n",
      "\"roi_hparams\":         {'enable': False, 'output_shape': [3, 3, 3], 'boundary_boxes': []}\n",
      "\"weight_distribution\": normal\n",
      "Enabled callbacks:  ['LitProgressBar', 'EarlyStopping']\n",
      "Dataloader fold: 4\n",
      "Epoch 1 [63/63] {'loss': '1.12'}\r"
     ]
    },
    {
     "name": "stderr",
     "output_type": "stream",
     "text": [
      "Metric loss/val improved. New best score: 1.099\n"
     ]
    },
    {
     "name": "stdout",
     "output_type": "stream",
     "text": [
      "Epoch 2 [63/63] {'loss': '1.09'}\r"
     ]
    },
    {
     "name": "stderr",
     "output_type": "stream",
     "text": [
      "Metric loss/val improved by 0.019 >= min_delta = 0. New best score: 1.079\n"
     ]
    },
    {
     "name": "stdout",
     "output_type": "stream",
     "text": [
      "Epoch 4 [63/63] {'loss': '1.08'}\r"
     ]
    },
    {
     "name": "stderr",
     "output_type": "stream",
     "text": [
      "Metric loss/val improved by 0.011 >= min_delta = 0. New best score: 1.068\n"
     ]
    },
    {
     "name": "stdout",
     "output_type": "stream",
     "text": [
      "Epoch 5 [63/63] {'loss': '1.1'}}\r"
     ]
    },
    {
     "name": "stderr",
     "output_type": "stream",
     "text": [
      "Metric loss/val improved by 0.000 >= min_delta = 0. New best score: 1.068\n"
     ]
    },
    {
     "name": "stdout",
     "output_type": "stream",
     "text": [
      "Epoch 13 [63/63] {'loss': '1.1'}}\r"
     ]
    },
    {
     "name": "stderr",
     "output_type": "stream",
     "text": [
      "Metric loss/val improved by 0.010 >= min_delta = 0. New best score: 1.057\n"
     ]
    },
    {
     "name": "stdout",
     "output_type": "stream",
     "text": [
      "Epoch 14 [63/63] {'loss': '1.07'}\r"
     ]
    },
    {
     "name": "stderr",
     "output_type": "stream",
     "text": [
      "Metric loss/val improved by 0.034 >= min_delta = 0. New best score: 1.023\n"
     ]
    },
    {
     "name": "stdout",
     "output_type": "stream",
     "text": [
      "Epoch 16 [63/63] {'loss': '1.12'}\r"
     ]
    },
    {
     "name": "stderr",
     "output_type": "stream",
     "text": [
      "Metric loss/val improved by 0.033 >= min_delta = 0. New best score: 0.990\n"
     ]
    },
    {
     "name": "stdout",
     "output_type": "stream",
     "text": [
      "Epoch 27 [63/63] {'loss': '1.02'}}\r"
     ]
    },
    {
     "name": "stderr",
     "output_type": "stream",
     "text": [
      "Metric loss/val improved by 0.016 >= min_delta = 0. New best score: 0.975\n"
     ]
    },
    {
     "name": "stdout",
     "output_type": "stream",
     "text": [
      "Epoch 29 [63/63] {'loss': '0.984'}\r"
     ]
    },
    {
     "name": "stderr",
     "output_type": "stream",
     "text": [
      "Metric loss/val improved by 0.048 >= min_delta = 0. New best score: 0.927\n"
     ]
    },
    {
     "name": "stdout",
     "output_type": "stream",
     "text": [
      "Epoch 35 [63/63] {'loss': '0.949'}\r"
     ]
    },
    {
     "name": "stderr",
     "output_type": "stream",
     "text": [
      "Metric loss/val improved by 0.009 >= min_delta = 0. New best score: 0.918\n"
     ]
    },
    {
     "name": "stdout",
     "output_type": "stream",
     "text": [
      "Epoch 38 [63/63] {'loss': '0.917'}\r"
     ]
    },
    {
     "name": "stderr",
     "output_type": "stream",
     "text": [
      "Metric loss/val improved by 0.003 >= min_delta = 0. New best score: 0.915\n"
     ]
    },
    {
     "name": "stdout",
     "output_type": "stream",
     "text": [
      "Epoch 39 [63/63] {'loss': '0.945'}\r"
     ]
    },
    {
     "name": "stderr",
     "output_type": "stream",
     "text": [
      "Metric loss/val improved by 0.044 >= min_delta = 0. New best score: 0.872\n"
     ]
    },
    {
     "name": "stdout",
     "output_type": "stream",
     "text": [
      "Epoch 52 [63/63] {'loss': '0.909'}\r"
     ]
    },
    {
     "name": "stderr",
     "output_type": "stream",
     "text": [
      "Metric loss/val improved by 0.018 >= min_delta = 0. New best score: 0.854\n"
     ]
    },
    {
     "name": "stdout",
     "output_type": "stream",
     "text": [
      "Epoch 53 [63/63] {'loss': '0.968'}\r"
     ]
    },
    {
     "name": "stderr",
     "output_type": "stream",
     "text": [
      "Metric loss/val improved by 0.049 >= min_delta = 0. New best score: 0.805\n"
     ]
    },
    {
     "name": "stdout",
     "output_type": "stream",
     "text": [
      "Epoch 73 [63/63] {'loss': '0.939'}\r"
     ]
    },
    {
     "name": "stderr",
     "output_type": "stream",
     "text": [
      "Monitored metric loss/val did not improve in the last 20 records. Best score: 0.805. Signaling Trainer to stop.\n",
      "GPU available: True, used: True\n",
      "TPU available: False, using: 0 TPU cores\n",
      "LOCAL_RANK: 0 - CUDA_VISIBLE_DEVICES: [0]\n",
      "\n",
      "  | Name          | Type             | Params\n",
      "---------------------------------------------------\n",
      "0 | model         | ResNet           | 8.3 M \n",
      "1 | criteria      | CrossEntropyLoss | 0     \n",
      "2 | train_metrics | MetricCollection | 0     \n",
      "3 | valid_metrics | MetricCollection | 0     \n",
      "---------------------------------------------------\n",
      "8.3 M     Trainable params\n",
      "0         Non-trainable params\n",
      "8.3 M     Total params\n",
      "33.154    Total estimated model params size (MB)\n"
     ]
    },
    {
     "name": "stdout",
     "output_type": "stream",
     "text": [
      "Architecture [ResNet] was created\n",
      "***Defined hyperparameters:***\n",
      "\"arch\":                {'name': 'resnet18_brew2', 'args': {'num_channels': 1, 'num_classes': 3}}\n",
      "\"checkpoint_path\":     None\n",
      "\"class_weights\":       tensor([1.1905, 0.9259, 0.9259], device='cuda:0')\n",
      "\"hp_metrics\":          ['loss/train', 'loss/val', 'Accuracy/val', 'AUROC/val', 'Precision/val', 'Recall/val', 'Specificity/val']\n",
      "\"loss\":                {'type': 'CrossEntropyLoss', 'args': {'weight': True}}\n",
      "\"optimizer\":           {'type': 'Adam', 'args': {'lr': 0.0001, 'weight_decay': 0, 'amsgrad': True}}\n",
      "\"roi_hparams\":         {'enable': False, 'output_shape': [3, 3, 3], 'boundary_boxes': []}\n",
      "\"weight_distribution\": normal\n",
      "Enabled callbacks:  ['LitProgressBar', 'EarlyStopping']\n",
      "Dataloader fold: 5\n",
      "Epoch 1 [63/63] {'loss': '1.14'}\r"
     ]
    },
    {
     "name": "stderr",
     "output_type": "stream",
     "text": [
      "Metric loss/val improved. New best score: 1.098\n"
     ]
    },
    {
     "name": "stdout",
     "output_type": "stream",
     "text": [
      "Epoch 2 [63/63] {'loss': '1.06'}\r"
     ]
    },
    {
     "name": "stderr",
     "output_type": "stream",
     "text": [
      "Metric loss/val improved by 0.020 >= min_delta = 0. New best score: 1.078\n"
     ]
    },
    {
     "name": "stdout",
     "output_type": "stream",
     "text": [
      "Epoch 4 [63/63] {'loss': '1.09'}\r"
     ]
    },
    {
     "name": "stderr",
     "output_type": "stream",
     "text": [
      "Metric loss/val improved by 0.009 >= min_delta = 0. New best score: 1.070\n"
     ]
    },
    {
     "name": "stdout",
     "output_type": "stream",
     "text": [
      "Epoch 5 [63/63] {'loss': '1.06'}\r"
     ]
    },
    {
     "name": "stderr",
     "output_type": "stream",
     "text": [
      "Metric loss/val improved by 0.060 >= min_delta = 0. New best score: 1.010\n"
     ]
    },
    {
     "name": "stdout",
     "output_type": "stream",
     "text": [
      "Epoch 25 [63/63] {'loss': '1.02'}}\r"
     ]
    },
    {
     "name": "stderr",
     "output_type": "stream",
     "text": [
      "Monitored metric loss/val did not improve in the last 20 records. Best score: 1.010. Signaling Trainer to stop.\n"
     ]
    },
    {
     "name": "stdout",
     "output_type": "stream",
     "text": [
      "***Defined dataloader:***\n",
      "Data directory: data/SPM_categorised/Amira/\n",
      "Dataset sizes - Training: 500 Validation: 56\n",
      "Seed: 420\n",
      "Augmentation: Enabled\n",
      "KFold: Enabled - Fold: 1/10\n",
      "\n"
     ]
    },
    {
     "name": "stderr",
     "output_type": "stream",
     "text": [
      "/home/stud/f/fremar16/miniconda3/envs/Master-thesis/lib/python3.9/site-packages/torchmetrics/utilities/prints.py:36: UserWarning: Metric `AUROC` will save all targets and predictions in buffer. For large datasets this may lead to large memory footprint.\n",
      "  warnings.warn(*args, **kwargs)\n",
      "GPU available: True, used: True\n",
      "TPU available: False, using: 0 TPU cores\n",
      "Missing logger folder: /var/metrics/codetests/logs/tb/resnet18/20210508192930\n",
      "LOCAL_RANK: 0 - CUDA_VISIBLE_DEVICES: [0]\n"
     ]
    },
    {
     "name": "stdout",
     "output_type": "stream",
     "text": [
      "Architecture [ResNet] was created\n",
      "***Defined hyperparameters:***\n",
      "\"arch\":                {'name': 'resnet18', 'args': {'num_channels': 1, 'num_classes': 3}}\n",
      "\"checkpoint_path\":     None\n",
      "\"class_weights\":       tensor([1.1905, 0.9259, 0.9259], device='cuda:0')\n",
      "\"hp_metrics\":          ['loss/train', 'loss/val', 'Accuracy/val', 'AUROC/val', 'Precision/val', 'Recall/val', 'Specificity/val']\n",
      "\"loss\":                {'type': 'CrossEntropyLoss', 'args': {'weight': True}}\n",
      "\"optimizer\":           {'type': 'Adam', 'args': {'lr': 0.0001, 'weight_decay': 0, 'amsgrad': True}}\n",
      "\"roi_hparams\":         {'enable': False, 'output_shape': [3, 3, 3], 'boundary_boxes': []}\n",
      "\"weight_distribution\": normal\n",
      "Enabled callbacks:  ['LitProgressBar', 'EarlyStopping']\n",
      "Dataloader fold: 1\n"
     ]
    },
    {
     "name": "stderr",
     "output_type": "stream",
     "text": [
      "\n",
      "  | Name          | Type             | Params\n",
      "---------------------------------------------------\n",
      "0 | model         | ResNet           | 33.2 M\n",
      "1 | criteria      | CrossEntropyLoss | 0     \n",
      "2 | train_metrics | MetricCollection | 0     \n",
      "3 | valid_metrics | MetricCollection | 0     \n",
      "---------------------------------------------------\n",
      "33.2 M    Trainable params\n",
      "0         Non-trainable params\n",
      "33.2 M    Total params\n",
      "132.646   Total estimated model params size (MB)\n"
     ]
    },
    {
     "name": "stdout",
     "output_type": "stream",
     "text": [
      "Epoch 1 [63/63] {'loss': '1.13'}\r"
     ]
    },
    {
     "name": "stderr",
     "output_type": "stream",
     "text": [
      "Metric loss/val improved. New best score: 1.167\n"
     ]
    },
    {
     "name": "stdout",
     "output_type": "stream",
     "text": [
      "Epoch 2 [63/63] {'loss': '1.1'}}\r"
     ]
    },
    {
     "name": "stderr",
     "output_type": "stream",
     "text": [
      "Metric loss/val improved by 0.043 >= min_delta = 0. New best score: 1.125\n"
     ]
    },
    {
     "name": "stdout",
     "output_type": "stream",
     "text": [
      "Epoch 3 [63/63] {'loss': '1.07'}\r"
     ]
    },
    {
     "name": "stderr",
     "output_type": "stream",
     "text": [
      "Metric loss/val improved by 0.053 >= min_delta = 0. New best score: 1.072\n"
     ]
    },
    {
     "name": "stdout",
     "output_type": "stream",
     "text": [
      "Epoch 4 [63/63] {'loss': '1.08'}\r"
     ]
    },
    {
     "name": "stderr",
     "output_type": "stream",
     "text": [
      "Metric loss/val improved by 0.055 >= min_delta = 0. New best score: 1.016\n"
     ]
    },
    {
     "name": "stdout",
     "output_type": "stream",
     "text": [
      "Epoch 7 [63/63] {'loss': '1.04'}}\r"
     ]
    },
    {
     "name": "stderr",
     "output_type": "stream",
     "text": [
      "Metric loss/val improved by 0.044 >= min_delta = 0. New best score: 0.972\n"
     ]
    },
    {
     "name": "stdout",
     "output_type": "stream",
     "text": [
      "Epoch 12 [63/63] {'loss': '1.08'}}\r"
     ]
    },
    {
     "name": "stderr",
     "output_type": "stream",
     "text": [
      "Metric loss/val improved by 0.003 >= min_delta = 0. New best score: 0.969\n"
     ]
    },
    {
     "name": "stdout",
     "output_type": "stream",
     "text": [
      "Epoch 15 [63/63] {'loss': '1.02'}}\r"
     ]
    },
    {
     "name": "stderr",
     "output_type": "stream",
     "text": [
      "Metric loss/val improved by 0.007 >= min_delta = 0. New best score: 0.962\n"
     ]
    },
    {
     "name": "stdout",
     "output_type": "stream",
     "text": [
      "Epoch 16 [63/63] {'loss': '1'}1'}}\r"
     ]
    },
    {
     "name": "stderr",
     "output_type": "stream",
     "text": [
      "Metric loss/val improved by 0.007 >= min_delta = 0. New best score: 0.956\n"
     ]
    },
    {
     "name": "stdout",
     "output_type": "stream",
     "text": [
      "Epoch 17 [63/63] {'loss': '0.925'}\r"
     ]
    },
    {
     "name": "stderr",
     "output_type": "stream",
     "text": [
      "Metric loss/val improved by 0.011 >= min_delta = 0. New best score: 0.945\n"
     ]
    },
    {
     "name": "stdout",
     "output_type": "stream",
     "text": [
      "Epoch 20 [63/63] {'loss': '0.993'}\r"
     ]
    },
    {
     "name": "stderr",
     "output_type": "stream",
     "text": [
      "Metric loss/val improved by 0.028 >= min_delta = 0. New best score: 0.917\n"
     ]
    },
    {
     "name": "stdout",
     "output_type": "stream",
     "text": [
      "Epoch 22 [63/63] {'loss': '0.93'}}\r"
     ]
    },
    {
     "name": "stderr",
     "output_type": "stream",
     "text": [
      "Metric loss/val improved by 0.014 >= min_delta = 0. New best score: 0.903\n"
     ]
    },
    {
     "name": "stdout",
     "output_type": "stream",
     "text": [
      "Epoch 38 [63/63] {'loss': '0.901'}\r"
     ]
    },
    {
     "name": "stderr",
     "output_type": "stream",
     "text": [
      "Metric loss/val improved by 0.064 >= min_delta = 0. New best score: 0.839\n"
     ]
    },
    {
     "name": "stdout",
     "output_type": "stream",
     "text": [
      "Epoch 58 [63/63] {'loss': '0.915'}\r"
     ]
    },
    {
     "name": "stderr",
     "output_type": "stream",
     "text": [
      "Monitored metric loss/val did not improve in the last 20 records. Best score: 0.839. Signaling Trainer to stop.\n",
      "GPU available: True, used: True\n",
      "TPU available: False, using: 0 TPU cores\n",
      "LOCAL_RANK: 0 - CUDA_VISIBLE_DEVICES: [0]\n"
     ]
    },
    {
     "name": "stdout",
     "output_type": "stream",
     "text": [
      "Architecture [ResNet] was created\n",
      "***Defined hyperparameters:***\n",
      "\"arch\":                {'name': 'resnet18', 'args': {'num_channels': 1, 'num_classes': 3}}\n",
      "\"checkpoint_path\":     None\n",
      "\"class_weights\":       tensor([1.1905, 0.9259, 0.9259], device='cuda:0')\n",
      "\"hp_metrics\":          ['loss/train', 'loss/val', 'Accuracy/val', 'AUROC/val', 'Precision/val', 'Recall/val', 'Specificity/val']\n",
      "\"loss\":                {'type': 'CrossEntropyLoss', 'args': {'weight': True}}\n",
      "\"optimizer\":           {'type': 'Adam', 'args': {'lr': 0.0001, 'weight_decay': 0, 'amsgrad': True}}\n",
      "\"roi_hparams\":         {'enable': False, 'output_shape': [3, 3, 3], 'boundary_boxes': []}\n",
      "\"weight_distribution\": normal\n",
      "Enabled callbacks:  ['LitProgressBar', 'EarlyStopping']\n",
      "Dataloader fold: 2\n"
     ]
    },
    {
     "name": "stderr",
     "output_type": "stream",
     "text": [
      "\n",
      "  | Name          | Type             | Params\n",
      "---------------------------------------------------\n",
      "0 | model         | ResNet           | 33.2 M\n",
      "1 | criteria      | CrossEntropyLoss | 0     \n",
      "2 | train_metrics | MetricCollection | 0     \n",
      "3 | valid_metrics | MetricCollection | 0     \n",
      "---------------------------------------------------\n",
      "33.2 M    Trainable params\n",
      "0         Non-trainable params\n",
      "33.2 M    Total params\n",
      "132.646   Total estimated model params size (MB)\n"
     ]
    },
    {
     "name": "stdout",
     "output_type": "stream",
     "text": [
      "Epoch 1 [63/63] {'loss': '1.12'}\r"
     ]
    },
    {
     "name": "stderr",
     "output_type": "stream",
     "text": [
      "Metric loss/val improved. New best score: 1.171\n"
     ]
    },
    {
     "name": "stdout",
     "output_type": "stream",
     "text": [
      "Epoch 3 [63/63] {'loss': '1.06'}\r"
     ]
    },
    {
     "name": "stderr",
     "output_type": "stream",
     "text": [
      "Metric loss/val improved by 0.087 >= min_delta = 0. New best score: 1.084\n"
     ]
    },
    {
     "name": "stdout",
     "output_type": "stream",
     "text": [
      "Epoch 4 [63/63] {'loss': '1.07'}\r"
     ]
    },
    {
     "name": "stderr",
     "output_type": "stream",
     "text": [
      "Metric loss/val improved by 0.030 >= min_delta = 0. New best score: 1.055\n"
     ]
    },
    {
     "name": "stdout",
     "output_type": "stream",
     "text": [
      "Epoch 7 [63/63] {'loss': '1.01'}\r"
     ]
    },
    {
     "name": "stderr",
     "output_type": "stream",
     "text": [
      "Metric loss/val improved by 0.001 >= min_delta = 0. New best score: 1.053\n"
     ]
    },
    {
     "name": "stdout",
     "output_type": "stream",
     "text": [
      "Epoch 8 [63/63] {'loss': '0.989'}\r"
     ]
    },
    {
     "name": "stderr",
     "output_type": "stream",
     "text": [
      "Metric loss/val improved by 0.074 >= min_delta = 0. New best score: 0.979\n"
     ]
    },
    {
     "name": "stdout",
     "output_type": "stream",
     "text": [
      "Epoch 11 [63/63] {'loss': '1.02'}}\r"
     ]
    },
    {
     "name": "stderr",
     "output_type": "stream",
     "text": [
      "Metric loss/val improved by 0.024 >= min_delta = 0. New best score: 0.955\n"
     ]
    },
    {
     "name": "stdout",
     "output_type": "stream",
     "text": [
      "Epoch 12 [63/63] {'loss': '0.944'}\r"
     ]
    },
    {
     "name": "stderr",
     "output_type": "stream",
     "text": [
      "Metric loss/val improved by 0.033 >= min_delta = 0. New best score: 0.922\n"
     ]
    },
    {
     "name": "stdout",
     "output_type": "stream",
     "text": [
      "Epoch 13 [63/63] {'loss': '0.962'}\r"
     ]
    },
    {
     "name": "stderr",
     "output_type": "stream",
     "text": [
      "Metric loss/val improved by 0.013 >= min_delta = 0. New best score: 0.909\n"
     ]
    },
    {
     "name": "stdout",
     "output_type": "stream",
     "text": [
      "Epoch 14 [63/63] {'loss': '0.998'}\r"
     ]
    },
    {
     "name": "stderr",
     "output_type": "stream",
     "text": [
      "Metric loss/val improved by 0.018 >= min_delta = 0. New best score: 0.891\n"
     ]
    },
    {
     "name": "stdout",
     "output_type": "stream",
     "text": [
      "Epoch 19 [63/63] {'loss': '0.905'}\r"
     ]
    },
    {
     "name": "stderr",
     "output_type": "stream",
     "text": [
      "Metric loss/val improved by 0.044 >= min_delta = 0. New best score: 0.847\n"
     ]
    },
    {
     "name": "stdout",
     "output_type": "stream",
     "text": [
      "Epoch 31 [63/63] {'loss': '0.994'}\r"
     ]
    },
    {
     "name": "stderr",
     "output_type": "stream",
     "text": [
      "Metric loss/val improved by 0.003 >= min_delta = 0. New best score: 0.844\n"
     ]
    },
    {
     "name": "stdout",
     "output_type": "stream",
     "text": [
      "Epoch 51 [63/63] {'loss': '0.885'}\r"
     ]
    },
    {
     "name": "stderr",
     "output_type": "stream",
     "text": [
      "Monitored metric loss/val did not improve in the last 20 records. Best score: 0.844. Signaling Trainer to stop.\n",
      "GPU available: True, used: True\n",
      "TPU available: False, using: 0 TPU cores\n",
      "LOCAL_RANK: 0 - CUDA_VISIBLE_DEVICES: [0]\n"
     ]
    },
    {
     "name": "stdout",
     "output_type": "stream",
     "text": [
      "Architecture [ResNet] was created\n",
      "***Defined hyperparameters:***\n",
      "\"arch\":                {'name': 'resnet18', 'args': {'num_channels': 1, 'num_classes': 3}}\n",
      "\"checkpoint_path\":     None\n",
      "\"class_weights\":       tensor([1.1905, 0.9259, 0.9259], device='cuda:0')\n",
      "\"hp_metrics\":          ['loss/train', 'loss/val', 'Accuracy/val', 'AUROC/val', 'Precision/val', 'Recall/val', 'Specificity/val']\n",
      "\"loss\":                {'type': 'CrossEntropyLoss', 'args': {'weight': True}}\n",
      "\"optimizer\":           {'type': 'Adam', 'args': {'lr': 0.0001, 'weight_decay': 0, 'amsgrad': True}}\n",
      "\"roi_hparams\":         {'enable': False, 'output_shape': [3, 3, 3], 'boundary_boxes': []}\n",
      "\"weight_distribution\": normal\n",
      "Enabled callbacks:  ['LitProgressBar', 'EarlyStopping']\n",
      "Dataloader fold: 3\n"
     ]
    },
    {
     "name": "stderr",
     "output_type": "stream",
     "text": [
      "\n",
      "  | Name          | Type             | Params\n",
      "---------------------------------------------------\n",
      "0 | model         | ResNet           | 33.2 M\n",
      "1 | criteria      | CrossEntropyLoss | 0     \n",
      "2 | train_metrics | MetricCollection | 0     \n",
      "3 | valid_metrics | MetricCollection | 0     \n",
      "---------------------------------------------------\n",
      "33.2 M    Trainable params\n",
      "0         Non-trainable params\n",
      "33.2 M    Total params\n",
      "132.646   Total estimated model params size (MB)\n"
     ]
    },
    {
     "name": "stdout",
     "output_type": "stream",
     "text": [
      "Epoch 1 [63/63] {'loss': '1.13'}\r"
     ]
    },
    {
     "name": "stderr",
     "output_type": "stream",
     "text": [
      "Metric loss/val improved. New best score: 1.082\n"
     ]
    },
    {
     "name": "stdout",
     "output_type": "stream",
     "text": [
      "Epoch 8 [63/63] {'loss': '1.04'}}\r"
     ]
    },
    {
     "name": "stderr",
     "output_type": "stream",
     "text": [
      "Metric loss/val improved by 0.023 >= min_delta = 0. New best score: 1.059\n"
     ]
    },
    {
     "name": "stdout",
     "output_type": "stream",
     "text": [
      "Epoch 9 [63/63] {'loss': '1.06'}}\r"
     ]
    },
    {
     "name": "stderr",
     "output_type": "stream",
     "text": [
      "Metric loss/val improved by 0.002 >= min_delta = 0. New best score: 1.056\n"
     ]
    },
    {
     "name": "stdout",
     "output_type": "stream",
     "text": [
      "Epoch 11 [63/63] {'loss': '1'}1'}}\r"
     ]
    },
    {
     "name": "stderr",
     "output_type": "stream",
     "text": [
      "Metric loss/val improved by 0.121 >= min_delta = 0. New best score: 0.936\n"
     ]
    },
    {
     "name": "stdout",
     "output_type": "stream",
     "text": [
      "Epoch 29 [63/63] {'loss': '0.969'}\r"
     ]
    },
    {
     "name": "stderr",
     "output_type": "stream",
     "text": [
      "Metric loss/val improved by 0.010 >= min_delta = 0. New best score: 0.925\n"
     ]
    },
    {
     "name": "stdout",
     "output_type": "stream",
     "text": [
      "Epoch 39 [63/63] {'loss': '0.922'}\r"
     ]
    },
    {
     "name": "stderr",
     "output_type": "stream",
     "text": [
      "Metric loss/val improved by 0.031 >= min_delta = 0. New best score: 0.894\n"
     ]
    },
    {
     "name": "stdout",
     "output_type": "stream",
     "text": [
      "Epoch 43 [63/63] {'loss': '0.96'}}\r"
     ]
    },
    {
     "name": "stderr",
     "output_type": "stream",
     "text": [
      "Metric loss/val improved by 0.001 >= min_delta = 0. New best score: 0.894\n"
     ]
    },
    {
     "name": "stdout",
     "output_type": "stream",
     "text": [
      "Epoch 46 [63/63] {'loss': '0.935'}\r"
     ]
    },
    {
     "name": "stderr",
     "output_type": "stream",
     "text": [
      "Metric loss/val improved by 0.090 >= min_delta = 0. New best score: 0.804\n"
     ]
    },
    {
     "name": "stdout",
     "output_type": "stream",
     "text": [
      "Epoch 66 [63/63] {'loss': '0.942'}\r"
     ]
    },
    {
     "name": "stderr",
     "output_type": "stream",
     "text": [
      "Monitored metric loss/val did not improve in the last 20 records. Best score: 0.804. Signaling Trainer to stop.\n",
      "GPU available: True, used: True\n",
      "TPU available: False, using: 0 TPU cores\n",
      "LOCAL_RANK: 0 - CUDA_VISIBLE_DEVICES: [0]\n"
     ]
    },
    {
     "name": "stdout",
     "output_type": "stream",
     "text": [
      "Architecture [ResNet] was created\n",
      "***Defined hyperparameters:***\n",
      "\"arch\":                {'name': 'resnet18', 'args': {'num_channels': 1, 'num_classes': 3}}\n",
      "\"checkpoint_path\":     None\n",
      "\"class_weights\":       tensor([1.1905, 0.9259, 0.9259], device='cuda:0')\n",
      "\"hp_metrics\":          ['loss/train', 'loss/val', 'Accuracy/val', 'AUROC/val', 'Precision/val', 'Recall/val', 'Specificity/val']\n",
      "\"loss\":                {'type': 'CrossEntropyLoss', 'args': {'weight': True}}\n",
      "\"optimizer\":           {'type': 'Adam', 'args': {'lr': 0.0001, 'weight_decay': 0, 'amsgrad': True}}\n",
      "\"roi_hparams\":         {'enable': False, 'output_shape': [3, 3, 3], 'boundary_boxes': []}\n",
      "\"weight_distribution\": normal\n",
      "Enabled callbacks:  ['LitProgressBar', 'EarlyStopping']\n",
      "Dataloader fold: 4\n"
     ]
    },
    {
     "name": "stderr",
     "output_type": "stream",
     "text": [
      "\n",
      "  | Name          | Type             | Params\n",
      "---------------------------------------------------\n",
      "0 | model         | ResNet           | 33.2 M\n",
      "1 | criteria      | CrossEntropyLoss | 0     \n",
      "2 | train_metrics | MetricCollection | 0     \n",
      "3 | valid_metrics | MetricCollection | 0     \n",
      "---------------------------------------------------\n",
      "33.2 M    Trainable params\n",
      "0         Non-trainable params\n",
      "33.2 M    Total params\n",
      "132.646   Total estimated model params size (MB)\n"
     ]
    },
    {
     "name": "stdout",
     "output_type": "stream",
     "text": [
      "Epoch 1 [63/63] {'loss': '1.1'}}\r"
     ]
    },
    {
     "name": "stderr",
     "output_type": "stream",
     "text": [
      "Metric loss/val improved. New best score: 1.115\n"
     ]
    },
    {
     "name": "stdout",
     "output_type": "stream",
     "text": [
      "Epoch 4 [63/63] {'loss': '1.05'}\r"
     ]
    },
    {
     "name": "stderr",
     "output_type": "stream",
     "text": [
      "Metric loss/val improved by 0.048 >= min_delta = 0. New best score: 1.067\n"
     ]
    },
    {
     "name": "stdout",
     "output_type": "stream",
     "text": [
      "Epoch 6 [63/63] {'loss': '1.02'}\r"
     ]
    },
    {
     "name": "stderr",
     "output_type": "stream",
     "text": [
      "Metric loss/val improved by 0.062 >= min_delta = 0. New best score: 1.005\n"
     ]
    },
    {
     "name": "stdout",
     "output_type": "stream",
     "text": [
      "Epoch 8 [63/63] {'loss': '1.03'}}\r"
     ]
    },
    {
     "name": "stderr",
     "output_type": "stream",
     "text": [
      "Metric loss/val improved by 0.051 >= min_delta = 0. New best score: 0.955\n"
     ]
    },
    {
     "name": "stdout",
     "output_type": "stream",
     "text": [
      "Epoch 11 [63/63] {'loss': '0.964'}\r"
     ]
    },
    {
     "name": "stderr",
     "output_type": "stream",
     "text": [
      "Metric loss/val improved by 0.103 >= min_delta = 0. New best score: 0.851\n"
     ]
    },
    {
     "name": "stdout",
     "output_type": "stream",
     "text": [
      "Epoch 31 [63/63] {'loss': '0.879'}\r"
     ]
    },
    {
     "name": "stderr",
     "output_type": "stream",
     "text": [
      "Monitored metric loss/val did not improve in the last 20 records. Best score: 0.851. Signaling Trainer to stop.\n",
      "GPU available: True, used: True\n",
      "TPU available: False, using: 0 TPU cores\n",
      "LOCAL_RANK: 0 - CUDA_VISIBLE_DEVICES: [0]\n"
     ]
    },
    {
     "name": "stdout",
     "output_type": "stream",
     "text": [
      "Architecture [ResNet] was created\n",
      "***Defined hyperparameters:***\n",
      "\"arch\":                {'name': 'resnet18', 'args': {'num_channels': 1, 'num_classes': 3}}\n",
      "\"checkpoint_path\":     None\n",
      "\"class_weights\":       tensor([1.1905, 0.9259, 0.9259], device='cuda:0')\n",
      "\"hp_metrics\":          ['loss/train', 'loss/val', 'Accuracy/val', 'AUROC/val', 'Precision/val', 'Recall/val', 'Specificity/val']\n",
      "\"loss\":                {'type': 'CrossEntropyLoss', 'args': {'weight': True}}\n",
      "\"optimizer\":           {'type': 'Adam', 'args': {'lr': 0.0001, 'weight_decay': 0, 'amsgrad': True}}\n",
      "\"roi_hparams\":         {'enable': False, 'output_shape': [3, 3, 3], 'boundary_boxes': []}\n",
      "\"weight_distribution\": normal\n",
      "Enabled callbacks:  ['LitProgressBar', 'EarlyStopping']\n",
      "Dataloader fold: 5\n"
     ]
    },
    {
     "name": "stderr",
     "output_type": "stream",
     "text": [
      "\n",
      "  | Name          | Type             | Params\n",
      "---------------------------------------------------\n",
      "0 | model         | ResNet           | 33.2 M\n",
      "1 | criteria      | CrossEntropyLoss | 0     \n",
      "2 | train_metrics | MetricCollection | 0     \n",
      "3 | valid_metrics | MetricCollection | 0     \n",
      "---------------------------------------------------\n",
      "33.2 M    Trainable params\n",
      "0         Non-trainable params\n",
      "33.2 M    Total params\n",
      "132.646   Total estimated model params size (MB)\n"
     ]
    },
    {
     "name": "stdout",
     "output_type": "stream",
     "text": [
      "Epoch 1 [63/63] {'loss': '1.08'}\r"
     ]
    },
    {
     "name": "stderr",
     "output_type": "stream",
     "text": [
      "Metric loss/val improved. New best score: 1.170\n"
     ]
    },
    {
     "name": "stdout",
     "output_type": "stream",
     "text": [
      "Epoch 2 [63/63] {'loss': '1.11'}\r"
     ]
    },
    {
     "name": "stderr",
     "output_type": "stream",
     "text": [
      "Metric loss/val improved by 0.016 >= min_delta = 0. New best score: 1.154\n"
     ]
    },
    {
     "name": "stdout",
     "output_type": "stream",
     "text": [
      "Epoch 3 [63/63] {'loss': '1.09'}\r"
     ]
    },
    {
     "name": "stderr",
     "output_type": "stream",
     "text": [
      "Metric loss/val improved by 0.072 >= min_delta = 0. New best score: 1.082\n"
     ]
    },
    {
     "name": "stdout",
     "output_type": "stream",
     "text": [
      "Epoch 4 [63/63] {'loss': '1.05'}\r"
     ]
    },
    {
     "name": "stderr",
     "output_type": "stream",
     "text": [
      "Metric loss/val improved by 0.035 >= min_delta = 0. New best score: 1.047\n"
     ]
    },
    {
     "name": "stdout",
     "output_type": "stream",
     "text": [
      "Epoch 6 [63/63] {'loss': '0.988'}\r"
     ]
    },
    {
     "name": "stderr",
     "output_type": "stream",
     "text": [
      "Metric loss/val improved by 0.005 >= min_delta = 0. New best score: 1.042\n"
     ]
    },
    {
     "name": "stdout",
     "output_type": "stream",
     "text": [
      "Epoch 9 [63/63] {'loss': '1.03'}}\r"
     ]
    },
    {
     "name": "stderr",
     "output_type": "stream",
     "text": [
      "Metric loss/val improved by 0.068 >= min_delta = 0. New best score: 0.974\n"
     ]
    },
    {
     "name": "stdout",
     "output_type": "stream",
     "text": [
      "Epoch 10 [63/63] {'loss': '0.95'}}\r"
     ]
    },
    {
     "name": "stderr",
     "output_type": "stream",
     "text": [
      "Metric loss/val improved by 0.013 >= min_delta = 0. New best score: 0.962\n"
     ]
    },
    {
     "name": "stdout",
     "output_type": "stream",
     "text": [
      "Epoch 12 [63/63] {'loss': '0.942'}\r"
     ]
    },
    {
     "name": "stderr",
     "output_type": "stream",
     "text": [
      "Metric loss/val improved by 0.070 >= min_delta = 0. New best score: 0.892\n"
     ]
    },
    {
     "name": "stdout",
     "output_type": "stream",
     "text": [
      "Epoch 32 [63/63] {'loss': '0.805'}\r"
     ]
    },
    {
     "name": "stderr",
     "output_type": "stream",
     "text": [
      "Monitored metric loss/val did not improve in the last 20 records. Best score: 0.892. Signaling Trainer to stop.\n"
     ]
    },
    {
     "name": "stdout",
     "output_type": "stream",
     "text": [
      "***Defined dataloader:***\n",
      "Data directory: data/SPM_categorised/Amira/\n",
      "Dataset sizes - Training: 500 Validation: 56\n",
      "Seed: 420\n",
      "Augmentation: Enabled\n",
      "KFold: Enabled - Fold: 1/10\n",
      "\n",
      "Architecture [ResNet] was created\n",
      "***Defined hyperparameters:***\n",
      "\"arch\":                {'name': 'resnet50', 'args': {'num_channels': 1, 'num_classes': 3}}\n",
      "\"checkpoint_path\":     None\n",
      "\"class_weights\":       tensor([1.1905, 0.9259, 0.9259], device='cuda:0')\n",
      "\"hp_metrics\":          ['loss/train', 'loss/val', 'Accuracy/val', 'AUROC/val', 'Precision/val', 'Recall/val', 'Specificity/val']\n",
      "\"loss\":                {'type': 'CrossEntropyLoss', 'args': {'weight': True}}\n",
      "\"optimizer\":           {'type': 'Adam', 'args': {'lr': 0.0001, 'weight_decay': 0, 'amsgrad': True}}\n",
      "\"roi_hparams\":         {'enable': False, 'output_shape': [3, 3, 3], 'boundary_boxes': []}\n",
      "\"weight_distribution\": normal\n"
     ]
    },
    {
     "name": "stderr",
     "output_type": "stream",
     "text": [
      "/home/stud/f/fremar16/miniconda3/envs/Master-thesis/lib/python3.9/site-packages/torchmetrics/utilities/prints.py:36: UserWarning: Metric `AUROC` will save all targets and predictions in buffer. For large datasets this may lead to large memory footprint.\n",
      "  warnings.warn(*args, **kwargs)\n",
      "GPU available: True, used: True\n",
      "TPU available: False, using: 0 TPU cores\n",
      "Missing logger folder: /var/metrics/codetests/logs/tb/resnet50/20210508201724\n",
      "LOCAL_RANK: 0 - CUDA_VISIBLE_DEVICES: [0]\n",
      "\n",
      "  | Name          | Type             | Params\n",
      "---------------------------------------------------\n",
      "0 | model         | ResNet           | 46.2 M\n",
      "1 | criteria      | CrossEntropyLoss | 0     \n",
      "2 | train_metrics | MetricCollection | 0     \n",
      "3 | valid_metrics | MetricCollection | 0     \n",
      "---------------------------------------------------\n",
      "46.2 M    Trainable params\n",
      "0         Non-trainable params\n",
      "46.2 M    Total params\n",
      "184.645   Total estimated model params size (MB)\n"
     ]
    },
    {
     "name": "stdout",
     "output_type": "stream",
     "text": [
      "Enabled callbacks:  ['LitProgressBar', 'EarlyStopping']\n",
      "Dataloader fold: 1\n",
      "Epoch 1 [63/63] {'loss': '1.27'}\r"
     ]
    },
    {
     "name": "stderr",
     "output_type": "stream",
     "text": [
      "Metric loss/val improved. New best score: 1.161\n"
     ]
    },
    {
     "name": "stdout",
     "output_type": "stream",
     "text": [
      "Epoch 3 [63/63] {'loss': '1.12'}\r"
     ]
    },
    {
     "name": "stderr",
     "output_type": "stream",
     "text": [
      "Metric loss/val improved by 0.180 >= min_delta = 0. New best score: 0.982\n"
     ]
    },
    {
     "name": "stdout",
     "output_type": "stream",
     "text": [
      "Epoch 22 [63/63] {'loss': '1.02'}}\r"
     ]
    },
    {
     "name": "stderr",
     "output_type": "stream",
     "text": [
      "Metric loss/val improved by 0.020 >= min_delta = 0. New best score: 0.961\n"
     ]
    },
    {
     "name": "stdout",
     "output_type": "stream",
     "text": [
      "Epoch 29 [63/63] {'loss': '1'}94'}\r"
     ]
    },
    {
     "name": "stderr",
     "output_type": "stream",
     "text": [
      "Metric loss/val improved by 0.025 >= min_delta = 0. New best score: 0.936\n"
     ]
    },
    {
     "name": "stdout",
     "output_type": "stream",
     "text": [
      "Epoch 31 [63/63] {'loss': '1.08'}}\r"
     ]
    },
    {
     "name": "stderr",
     "output_type": "stream",
     "text": [
      "Metric loss/val improved by 0.004 >= min_delta = 0. New best score: 0.933\n"
     ]
    },
    {
     "name": "stdout",
     "output_type": "stream",
     "text": [
      "Epoch 40 [63/63] {'loss': '0.991'}\r"
     ]
    },
    {
     "name": "stderr",
     "output_type": "stream",
     "text": [
      "Metric loss/val improved by 0.015 >= min_delta = 0. New best score: 0.918\n"
     ]
    },
    {
     "name": "stdout",
     "output_type": "stream",
     "text": [
      "Epoch 47 [63/63] {'loss': '0.919'}\r"
     ]
    },
    {
     "name": "stderr",
     "output_type": "stream",
     "text": [
      "Metric loss/val improved by 0.029 >= min_delta = 0. New best score: 0.889\n"
     ]
    },
    {
     "name": "stdout",
     "output_type": "stream",
     "text": [
      "Epoch 67 [63/63] {'loss': '0.866'}\r"
     ]
    },
    {
     "name": "stderr",
     "output_type": "stream",
     "text": [
      "Monitored metric loss/val did not improve in the last 20 records. Best score: 0.889. Signaling Trainer to stop.\n"
     ]
    },
    {
     "name": "stdout",
     "output_type": "stream",
     "text": [
      "Architecture [ResNet] was created\n",
      "***Defined hyperparameters:***\n",
      "\"arch\":                {'name': 'resnet50', 'args': {'num_channels': 1, 'num_classes': 3}}\n",
      "\"checkpoint_path\":     None\n",
      "\"class_weights\":       tensor([1.1905, 0.9259, 0.9259], device='cuda:0')\n",
      "\"hp_metrics\":          ['loss/train', 'loss/val', 'Accuracy/val', 'AUROC/val', 'Precision/val', 'Recall/val', 'Specificity/val']\n",
      "\"loss\":                {'type': 'CrossEntropyLoss', 'args': {'weight': True}}\n",
      "\"optimizer\":           {'type': 'Adam', 'args': {'lr': 0.0001, 'weight_decay': 0, 'amsgrad': True}}\n",
      "\"roi_hparams\":         {'enable': False, 'output_shape': [3, 3, 3], 'boundary_boxes': []}\n",
      "\"weight_distribution\": normal\n"
     ]
    },
    {
     "name": "stderr",
     "output_type": "stream",
     "text": [
      "GPU available: True, used: True\n",
      "TPU available: False, using: 0 TPU cores\n",
      "LOCAL_RANK: 0 - CUDA_VISIBLE_DEVICES: [0]\n",
      "\n",
      "  | Name          | Type             | Params\n",
      "---------------------------------------------------\n",
      "0 | model         | ResNet           | 46.2 M\n",
      "1 | criteria      | CrossEntropyLoss | 0     \n",
      "2 | train_metrics | MetricCollection | 0     \n",
      "3 | valid_metrics | MetricCollection | 0     \n",
      "---------------------------------------------------\n",
      "46.2 M    Trainable params\n",
      "0         Non-trainable params\n",
      "46.2 M    Total params\n",
      "184.645   Total estimated model params size (MB)\n"
     ]
    },
    {
     "name": "stdout",
     "output_type": "stream",
     "text": [
      "Enabled callbacks:  ['LitProgressBar', 'EarlyStopping']\n",
      "Dataloader fold: 2\n",
      "Epoch 1 [63/63] {'loss': '1.14'}\r"
     ]
    },
    {
     "name": "stderr",
     "output_type": "stream",
     "text": [
      "Metric loss/val improved. New best score: 1.149\n"
     ]
    },
    {
     "name": "stdout",
     "output_type": "stream",
     "text": [
      "Epoch 2 [63/63] {'loss': '1.16'}\r"
     ]
    },
    {
     "name": "stderr",
     "output_type": "stream",
     "text": [
      "Metric loss/val improved by 0.060 >= min_delta = 0. New best score: 1.089\n"
     ]
    },
    {
     "name": "stdout",
     "output_type": "stream",
     "text": [
      "Epoch 8 [63/63] {'loss': '1.11'}\r"
     ]
    },
    {
     "name": "stderr",
     "output_type": "stream",
     "text": [
      "Metric loss/val improved by 0.036 >= min_delta = 0. New best score: 1.053\n"
     ]
    },
    {
     "name": "stdout",
     "output_type": "stream",
     "text": [
      "Epoch 26 [63/63] {'loss': '1.02'}}\r"
     ]
    },
    {
     "name": "stderr",
     "output_type": "stream",
     "text": [
      "Metric loss/val improved by 0.023 >= min_delta = 0. New best score: 1.029\n"
     ]
    },
    {
     "name": "stdout",
     "output_type": "stream",
     "text": [
      "Epoch 30 [63/63] {'loss': '1.09'}}\r"
     ]
    },
    {
     "name": "stderr",
     "output_type": "stream",
     "text": [
      "Metric loss/val improved by 0.055 >= min_delta = 0. New best score: 0.974\n"
     ]
    },
    {
     "name": "stdout",
     "output_type": "stream",
     "text": [
      "Epoch 31 [63/63] {'loss': '0.961'}\r"
     ]
    },
    {
     "name": "stderr",
     "output_type": "stream",
     "text": [
      "Metric loss/val improved by 0.004 >= min_delta = 0. New best score: 0.970\n"
     ]
    },
    {
     "name": "stdout",
     "output_type": "stream",
     "text": [
      "Epoch 32 [63/63] {'loss': '0.98'}}\r"
     ]
    },
    {
     "name": "stderr",
     "output_type": "stream",
     "text": [
      "Metric loss/val improved by 0.021 >= min_delta = 0. New best score: 0.949\n"
     ]
    },
    {
     "name": "stdout",
     "output_type": "stream",
     "text": [
      "Epoch 40 [63/63] {'loss': '0.941'}\r"
     ]
    },
    {
     "name": "stderr",
     "output_type": "stream",
     "text": [
      "Metric loss/val improved by 0.006 >= min_delta = 0. New best score: 0.943\n"
     ]
    },
    {
     "name": "stdout",
     "output_type": "stream",
     "text": [
      "Epoch 50 [63/63] {'loss': '0.915'}\r"
     ]
    },
    {
     "name": "stderr",
     "output_type": "stream",
     "text": [
      "Metric loss/val improved by 0.020 >= min_delta = 0. New best score: 0.922\n"
     ]
    },
    {
     "name": "stdout",
     "output_type": "stream",
     "text": [
      "Epoch 56 [63/63] {'loss': '0.97'}}\r"
     ]
    },
    {
     "name": "stderr",
     "output_type": "stream",
     "text": [
      "Metric loss/val improved by 0.049 >= min_delta = 0. New best score: 0.873\n"
     ]
    },
    {
     "name": "stdout",
     "output_type": "stream",
     "text": [
      "Epoch 71 [63/63] {'loss': '0.841'}\r"
     ]
    },
    {
     "name": "stderr",
     "output_type": "stream",
     "text": [
      "Metric loss/val improved by 0.002 >= min_delta = 0. New best score: 0.871\n"
     ]
    },
    {
     "name": "stdout",
     "output_type": "stream",
     "text": [
      "Epoch 81 [63/63] {'loss': '0.915'}\r"
     ]
    },
    {
     "name": "stderr",
     "output_type": "stream",
     "text": [
      "Metric loss/val improved by 0.017 >= min_delta = 0. New best score: 0.854\n"
     ]
    },
    {
     "name": "stdout",
     "output_type": "stream",
     "text": [
      "Epoch 91 [63/63] {'loss': '0.802'}\r"
     ]
    },
    {
     "name": "stderr",
     "output_type": "stream",
     "text": [
      "Metric loss/val improved by 0.048 >= min_delta = 0. New best score: 0.806\n"
     ]
    },
    {
     "name": "stdout",
     "output_type": "stream",
     "text": [
      "Architecture [ResNet] was created'}\n",
      "***Defined hyperparameters:***\n",
      "\"arch\":                {'name': 'resnet50', 'args': {'num_channels': 1, 'num_classes': 3}}\n",
      "\"checkpoint_path\":     None\n",
      "\"class_weights\":       tensor([1.1905, 0.9259, 0.9259], device='cuda:0')\n",
      "\"hp_metrics\":          ['loss/train', 'loss/val', 'Accuracy/val', 'AUROC/val', 'Precision/val', 'Recall/val', 'Specificity/val']\n",
      "\"loss\":                {'type': 'CrossEntropyLoss', 'args': {'weight': True}}\n",
      "\"optimizer\":           {'type': 'Adam', 'args': {'lr': 0.0001, 'weight_decay': 0, 'amsgrad': True}}\n",
      "\"roi_hparams\":         {'enable': False, 'output_shape': [3, 3, 3], 'boundary_boxes': []}\n",
      "\"weight_distribution\": normal\n"
     ]
    },
    {
     "name": "stderr",
     "output_type": "stream",
     "text": [
      "GPU available: True, used: True\n",
      "TPU available: False, using: 0 TPU cores\n",
      "LOCAL_RANK: 0 - CUDA_VISIBLE_DEVICES: [0]\n",
      "\n",
      "  | Name          | Type             | Params\n",
      "---------------------------------------------------\n",
      "0 | model         | ResNet           | 46.2 M\n",
      "1 | criteria      | CrossEntropyLoss | 0     \n",
      "2 | train_metrics | MetricCollection | 0     \n",
      "3 | valid_metrics | MetricCollection | 0     \n",
      "---------------------------------------------------\n",
      "46.2 M    Trainable params\n",
      "0         Non-trainable params\n",
      "46.2 M    Total params\n",
      "184.645   Total estimated model params size (MB)\n"
     ]
    },
    {
     "name": "stdout",
     "output_type": "stream",
     "text": [
      "Enabled callbacks:  ['LitProgressBar', 'EarlyStopping']\n",
      "Dataloader fold: 3\n",
      "Epoch 1 [63/63] {'loss': '1.14'}\r"
     ]
    },
    {
     "name": "stderr",
     "output_type": "stream",
     "text": [
      "Metric loss/val improved. New best score: 1.193\n"
     ]
    },
    {
     "name": "stdout",
     "output_type": "stream",
     "text": [
      "Epoch 3 [63/63] {'loss': '1.15'}\r"
     ]
    },
    {
     "name": "stderr",
     "output_type": "stream",
     "text": [
      "Metric loss/val improved by 0.050 >= min_delta = 0. New best score: 1.144\n"
     ]
    },
    {
     "name": "stdout",
     "output_type": "stream",
     "text": [
      "Epoch 7 [63/63] {'loss': '1.16'}\r"
     ]
    },
    {
     "name": "stderr",
     "output_type": "stream",
     "text": [
      "Metric loss/val improved by 0.020 >= min_delta = 0. New best score: 1.124\n"
     ]
    },
    {
     "name": "stdout",
     "output_type": "stream",
     "text": [
      "Epoch 9 [63/63] {'loss': '1.12'}\r"
     ]
    },
    {
     "name": "stderr",
     "output_type": "stream",
     "text": [
      "Metric loss/val improved by 0.060 >= min_delta = 0. New best score: 1.064\n"
     ]
    },
    {
     "name": "stdout",
     "output_type": "stream",
     "text": [
      "Epoch 18 [63/63] {'loss': '1.1'}}\r"
     ]
    },
    {
     "name": "stderr",
     "output_type": "stream",
     "text": [
      "Metric loss/val improved by 0.004 >= min_delta = 0. New best score: 1.060\n"
     ]
    },
    {
     "name": "stdout",
     "output_type": "stream",
     "text": [
      "Epoch 20 [63/63] {'loss': '1.1'}}\r"
     ]
    },
    {
     "name": "stderr",
     "output_type": "stream",
     "text": [
      "Metric loss/val improved by 0.019 >= min_delta = 0. New best score: 1.041\n"
     ]
    },
    {
     "name": "stdout",
     "output_type": "stream",
     "text": [
      "Epoch 23 [63/63] {'loss': '1.07'}}\r"
     ]
    },
    {
     "name": "stderr",
     "output_type": "stream",
     "text": [
      "Metric loss/val improved by 0.032 >= min_delta = 0. New best score: 1.009\n"
     ]
    },
    {
     "name": "stdout",
     "output_type": "stream",
     "text": [
      "Epoch 24 [26/63] {'loss': '1.05'}\r"
     ]
    }
   ],
   "source": [
    "models = ['resnet18_brew2','resnet18','resnet50','vgg16', 'vgg11_brew'] # 'vgg13_brew','vgg11_brew','vgg16_brew', #'resnet18','resnet34','vgg11'\n",
    "\n",
    "for name in models:\n",
    "    run_me(name, base_config='base')"
   ]
  },
  {
   "cell_type": "code",
   "execution_count": 4,
   "id": "f323d78d-4dd0-4b71-b929-ac3fd33f8e51",
   "metadata": {},
   "outputs": [
    {
     "name": "stdout",
     "output_type": "stream",
     "text": [
      "***Defined dataloader:***\n",
      "Data directory: data/SPM_categorised/Amira/\n",
      "Dataset sizes - Training: 500 Validation: 56\n",
      "Seed: 420\n",
      "Augmentation: Enabled\n",
      "KFold: Enabled - Fold: 1/10\n",
      "\n",
      "Architecture [VGG] was created\n",
      "***Defined hyperparameters:***\n",
      "\"arch\":                {'name': 'vgg11_brew', 'args': {'num_channels': 1, 'num_classes': 3}}\n",
      "\"checkpoint_path\":     None\n",
      "\"class_weights\":       tensor([1.1905, 0.9259, 0.9259], device='cuda:0')\n",
      "\"hp_metrics\":          ['loss/train', 'loss/val', 'Accuracy/val', 'AUROC/val', 'Precision/val', 'Recall/val', 'Specificity/val']\n",
      "\"loss\":                {'type': 'CrossEntropyLoss', 'args': {'weight': True}}\n",
      "\"optimizer\":           {'type': 'Adam', 'args': {'lr': 0.0001, 'weight_decay': 0, 'amsgrad': True}}\n",
      "\"roi_hparams\":         {'enable': False, 'output_shape': [3, 3, 3], 'boundary_boxes': []}\n",
      "\"weight_distribution\": normal\n"
     ]
    },
    {
     "name": "stderr",
     "output_type": "stream",
     "text": [
      "/home/stud/f/fremar16/miniconda3/envs/Master-thesis/lib/python3.9/site-packages/torchmetrics/utilities/prints.py:36: UserWarning: Metric `AUROC` will save all targets and predictions in buffer. For large datasets this may lead to large memory footprint.\n",
      "  warnings.warn(*args, **kwargs)\n",
      "GPU available: True, used: True\n",
      "TPU available: False, using: 0 TPU cores\n",
      "Missing logger folder: /var/metrics/codetests/logs/tb/vgg11_brew/20210507015717\n",
      "LOCAL_RANK: 0 - CUDA_VISIBLE_DEVICES: [0]\n",
      "\n",
      "  | Name          | Type             | Params\n",
      "---------------------------------------------------\n",
      "0 | model         | VGG              | 103 M \n",
      "1 | criteria      | CrossEntropyLoss | 0     \n",
      "2 | train_metrics | MetricCollection | 0     \n",
      "3 | valid_metrics | MetricCollection | 0     \n",
      "---------------------------------------------------\n",
      "103 M     Trainable params\n",
      "0         Non-trainable params\n",
      "103 M     Total params\n",
      "414.175   Total estimated model params size (MB)\n"
     ]
    },
    {
     "name": "stdout",
     "output_type": "stream",
     "text": [
      "Enabled callbacks:  ['LitProgressBar', 'EarlyStopping']\n",
      "Dataloader fold: 1\n",
      "Epoch 1 [63/63] {'loss': '1.1'}\r"
     ]
    },
    {
     "name": "stderr",
     "output_type": "stream",
     "text": [
      "Metric loss/val improved. New best score: 1.099\n"
     ]
    },
    {
     "name": "stdout",
     "output_type": "stream",
     "text": [
      "Epoch 4 [63/63] {'loss': '1.1'}\r"
     ]
    },
    {
     "name": "stderr",
     "output_type": "stream",
     "text": [
      "Metric loss/val improved by 0.000 >= min_delta = 0. New best score: 1.098\n"
     ]
    },
    {
     "name": "stdout",
     "output_type": "stream",
     "text": [
      "Epoch 5 [63/63] {'loss': '1.1'}\r"
     ]
    },
    {
     "name": "stderr",
     "output_type": "stream",
     "text": [
      "Metric loss/val improved by 0.000 >= min_delta = 0. New best score: 1.098\n"
     ]
    },
    {
     "name": "stdout",
     "output_type": "stream",
     "text": [
      "Epoch 7 [63/63] {'loss': '1.1'}\r"
     ]
    },
    {
     "name": "stderr",
     "output_type": "stream",
     "text": [
      "Metric loss/val improved by 0.000 >= min_delta = 0. New best score: 1.098\n"
     ]
    },
    {
     "name": "stdout",
     "output_type": "stream",
     "text": [
      "Epoch 9 [63/63] {'loss': '1.1'}\r"
     ]
    },
    {
     "name": "stderr",
     "output_type": "stream",
     "text": [
      "Metric loss/val improved by 0.000 >= min_delta = 0. New best score: 1.098\n"
     ]
    },
    {
     "name": "stdout",
     "output_type": "stream",
     "text": [
      "Epoch 10 [63/63] {'loss': '1.1'}\r"
     ]
    },
    {
     "name": "stderr",
     "output_type": "stream",
     "text": [
      "Metric loss/val improved by 0.000 >= min_delta = 0. New best score: 1.098\n"
     ]
    },
    {
     "name": "stdout",
     "output_type": "stream",
     "text": [
      "Epoch 11 [63/63] {'loss': '1.11'}\r"
     ]
    },
    {
     "name": "stderr",
     "output_type": "stream",
     "text": [
      "Metric loss/val improved by 0.001 >= min_delta = 0. New best score: 1.097\n"
     ]
    },
    {
     "name": "stdout",
     "output_type": "stream",
     "text": [
      "Epoch 31 [63/63] {'loss': '1.1'}\r"
     ]
    },
    {
     "name": "stderr",
     "output_type": "stream",
     "text": [
      "Monitored metric loss/val did not improve in the last 20 records. Best score: 1.097. Signaling Trainer to stop.\n"
     ]
    },
    {
     "name": "stdout",
     "output_type": "stream",
     "text": [
      "Architecture [VGG] was created\n",
      "***Defined hyperparameters:***\n",
      "\"arch\":                {'name': 'vgg11_brew', 'args': {'num_channels': 1, 'num_classes': 3}}\n",
      "\"checkpoint_path\":     None\n",
      "\"class_weights\":       tensor([1.1905, 0.9259, 0.9259], device='cuda:0')\n",
      "\"hp_metrics\":          ['loss/train', 'loss/val', 'Accuracy/val', 'AUROC/val', 'Precision/val', 'Recall/val', 'Specificity/val']\n",
      "\"loss\":                {'type': 'CrossEntropyLoss', 'args': {'weight': True}}\n",
      "\"optimizer\":           {'type': 'Adam', 'args': {'lr': 0.0001, 'weight_decay': 0, 'amsgrad': True}}\n",
      "\"roi_hparams\":         {'enable': False, 'output_shape': [3, 3, 3], 'boundary_boxes': []}\n",
      "\"weight_distribution\": normal\n"
     ]
    },
    {
     "name": "stderr",
     "output_type": "stream",
     "text": [
      "GPU available: True, used: True\n",
      "TPU available: False, using: 0 TPU cores\n",
      "LOCAL_RANK: 0 - CUDA_VISIBLE_DEVICES: [0]\n",
      "\n",
      "  | Name          | Type             | Params\n",
      "---------------------------------------------------\n",
      "0 | model         | VGG              | 103 M \n",
      "1 | criteria      | CrossEntropyLoss | 0     \n",
      "2 | train_metrics | MetricCollection | 0     \n",
      "3 | valid_metrics | MetricCollection | 0     \n",
      "---------------------------------------------------\n",
      "103 M     Trainable params\n",
      "0         Non-trainable params\n",
      "103 M     Total params\n",
      "414.175   Total estimated model params size (MB)\n"
     ]
    },
    {
     "name": "stdout",
     "output_type": "stream",
     "text": [
      "Enabled callbacks:  ['LitProgressBar', 'EarlyStopping']\n",
      "Dataloader fold: 2\n",
      "Epoch 1 [63/63] {'loss': '1.1'}}\r"
     ]
    },
    {
     "name": "stderr",
     "output_type": "stream",
     "text": [
      "Metric loss/val improved. New best score: 1.099\n"
     ]
    },
    {
     "name": "stdout",
     "output_type": "stream",
     "text": [
      "Epoch 2 [63/63] {'loss': '1.1'}\r"
     ]
    },
    {
     "name": "stderr",
     "output_type": "stream",
     "text": [
      "Metric loss/val improved by 0.000 >= min_delta = 0. New best score: 1.098\n"
     ]
    },
    {
     "name": "stdout",
     "output_type": "stream",
     "text": [
      "Epoch 12 [63/63] {'loss': '1.1'}\r"
     ]
    },
    {
     "name": "stderr",
     "output_type": "stream",
     "text": [
      "Metric loss/val improved by 0.000 >= min_delta = 0. New best score: 1.098\n"
     ]
    },
    {
     "name": "stdout",
     "output_type": "stream",
     "text": [
      "Epoch 14 [63/63] {'loss': '1.1'}\r"
     ]
    },
    {
     "name": "stderr",
     "output_type": "stream",
     "text": [
      "Metric loss/val improved by 0.000 >= min_delta = 0. New best score: 1.098\n"
     ]
    },
    {
     "name": "stdout",
     "output_type": "stream",
     "text": [
      "Epoch 15 [63/63] {'loss': '1.1'}\r"
     ]
    },
    {
     "name": "stderr",
     "output_type": "stream",
     "text": [
      "Metric loss/val improved by 0.000 >= min_delta = 0. New best score: 1.098\n"
     ]
    },
    {
     "name": "stdout",
     "output_type": "stream",
     "text": [
      "Epoch 17 [63/63] {'loss': '1.1'}\r"
     ]
    },
    {
     "name": "stderr",
     "output_type": "stream",
     "text": [
      "Metric loss/val improved by 0.000 >= min_delta = 0. New best score: 1.098\n"
     ]
    },
    {
     "name": "stdout",
     "output_type": "stream",
     "text": [
      "Epoch 19 [63/63] {'loss': '1.1'}\r"
     ]
    },
    {
     "name": "stderr",
     "output_type": "stream",
     "text": [
      "Metric loss/val improved by 0.000 >= min_delta = 0. New best score: 1.098\n"
     ]
    },
    {
     "name": "stdout",
     "output_type": "stream",
     "text": [
      "Epoch 20 [63/63] {'loss': '1.1'}\r"
     ]
    },
    {
     "name": "stderr",
     "output_type": "stream",
     "text": [
      "Metric loss/val improved by 0.000 >= min_delta = 0. New best score: 1.098\n"
     ]
    },
    {
     "name": "stdout",
     "output_type": "stream",
     "text": [
      "Epoch 21 [63/63] {'loss': '1.1'}\r"
     ]
    },
    {
     "name": "stderr",
     "output_type": "stream",
     "text": [
      "Metric loss/val improved by 0.000 >= min_delta = 0. New best score: 1.098\n"
     ]
    },
    {
     "name": "stdout",
     "output_type": "stream",
     "text": [
      "Epoch 22 [63/63] {'loss': '1.1'}\r"
     ]
    },
    {
     "name": "stderr",
     "output_type": "stream",
     "text": [
      "Metric loss/val improved by 0.000 >= min_delta = 0. New best score: 1.098\n"
     ]
    },
    {
     "name": "stdout",
     "output_type": "stream",
     "text": [
      "Epoch 23 [63/63] {'loss': '1.1'}\r"
     ]
    },
    {
     "name": "stderr",
     "output_type": "stream",
     "text": [
      "Metric loss/val improved by 0.000 >= min_delta = 0. New best score: 1.098\n"
     ]
    },
    {
     "name": "stdout",
     "output_type": "stream",
     "text": [
      "Epoch 28 [63/63] {'loss': '1.1'}\r"
     ]
    },
    {
     "name": "stderr",
     "output_type": "stream",
     "text": [
      "Metric loss/val improved by 0.000 >= min_delta = 0. New best score: 1.098\n"
     ]
    },
    {
     "name": "stdout",
     "output_type": "stream",
     "text": [
      "Epoch 35 [63/63] {'loss': '1.1'}\r"
     ]
    },
    {
     "name": "stderr",
     "output_type": "stream",
     "text": [
      "Metric loss/val improved by 0.000 >= min_delta = 0. New best score: 1.098\n"
     ]
    },
    {
     "name": "stdout",
     "output_type": "stream",
     "text": [
      "Epoch 40 [63/63] {'loss': '1.1'}\r"
     ]
    },
    {
     "name": "stderr",
     "output_type": "stream",
     "text": [
      "Metric loss/val improved by 0.000 >= min_delta = 0. New best score: 1.098\n"
     ]
    },
    {
     "name": "stdout",
     "output_type": "stream",
     "text": [
      "Epoch 43 [63/63] {'loss': '1.1'}\r"
     ]
    },
    {
     "name": "stderr",
     "output_type": "stream",
     "text": [
      "Metric loss/val improved by 0.000 >= min_delta = 0. New best score: 1.098\n"
     ]
    },
    {
     "name": "stdout",
     "output_type": "stream",
     "text": [
      "Epoch 51 [63/63] {'loss': '1.1'}\r"
     ]
    },
    {
     "name": "stderr",
     "output_type": "stream",
     "text": [
      "Metric loss/val improved by 0.000 >= min_delta = 0. New best score: 1.097\n"
     ]
    },
    {
     "name": "stdout",
     "output_type": "stream",
     "text": [
      "Epoch 64 [63/63] {'loss': '1.1'}\r"
     ]
    },
    {
     "name": "stderr",
     "output_type": "stream",
     "text": [
      "Metric loss/val improved by 0.000 >= min_delta = 0. New best score: 1.097\n"
     ]
    },
    {
     "name": "stdout",
     "output_type": "stream",
     "text": [
      "Epoch 66 [63/63] {'loss': '1.1'}\r"
     ]
    },
    {
     "name": "stderr",
     "output_type": "stream",
     "text": [
      "Metric loss/val improved by 0.000 >= min_delta = 0. New best score: 1.097\n"
     ]
    },
    {
     "name": "stdout",
     "output_type": "stream",
     "text": [
      "Epoch 67 [63/63] {'loss': '1.1'}\r"
     ]
    },
    {
     "name": "stderr",
     "output_type": "stream",
     "text": [
      "Metric loss/val improved by 0.000 >= min_delta = 0. New best score: 1.097\n"
     ]
    },
    {
     "name": "stdout",
     "output_type": "stream",
     "text": [
      "Epoch 68 [63/63] {'loss': '1.1'}\r"
     ]
    },
    {
     "name": "stderr",
     "output_type": "stream",
     "text": [
      "Metric loss/val improved by 0.000 >= min_delta = 0. New best score: 1.097\n"
     ]
    },
    {
     "name": "stdout",
     "output_type": "stream",
     "text": [
      "Epoch 69 [63/63] {'loss': '1.1'}\r"
     ]
    },
    {
     "name": "stderr",
     "output_type": "stream",
     "text": [
      "Metric loss/val improved by 0.000 >= min_delta = 0. New best score: 1.097\n"
     ]
    },
    {
     "name": "stdout",
     "output_type": "stream",
     "text": [
      "Epoch 71 [63/63] {'loss': '1.1'}\r"
     ]
    },
    {
     "name": "stderr",
     "output_type": "stream",
     "text": [
      "Metric loss/val improved by 0.000 >= min_delta = 0. New best score: 1.097\n"
     ]
    },
    {
     "name": "stdout",
     "output_type": "stream",
     "text": [
      "Epoch 87 [63/63] {'loss': '1.1'}\r"
     ]
    },
    {
     "name": "stderr",
     "output_type": "stream",
     "text": [
      "Metric loss/val improved by 0.000 >= min_delta = 0. New best score: 1.097\n"
     ]
    },
    {
     "name": "stdout",
     "output_type": "stream",
     "text": [
      "Epoch 94 [63/63] {'loss': '1.1'}\r"
     ]
    },
    {
     "name": "stderr",
     "output_type": "stream",
     "text": [
      "Metric loss/val improved by 0.000 >= min_delta = 0. New best score: 1.097\n"
     ]
    },
    {
     "name": "stdout",
     "output_type": "stream",
     "text": [
      "Epoch 96 [63/63] {'loss': '1.1'}\r"
     ]
    },
    {
     "name": "stderr",
     "output_type": "stream",
     "text": [
      "Metric loss/val improved by 0.000 >= min_delta = 0. New best score: 1.097\n"
     ]
    },
    {
     "name": "stdout",
     "output_type": "stream",
     "text": [
      "Epoch 111 [63/63] {'loss': '1.1'}\r"
     ]
    },
    {
     "name": "stderr",
     "output_type": "stream",
     "text": [
      "Metric loss/val improved by 0.000 >= min_delta = 0. New best score: 1.097\n"
     ]
    },
    {
     "name": "stdout",
     "output_type": "stream",
     "text": [
      "Epoch 113 [63/63] {'loss': '1.1'}\r"
     ]
    },
    {
     "name": "stderr",
     "output_type": "stream",
     "text": [
      "Metric loss/val improved by 0.000 >= min_delta = 0. New best score: 1.097\n"
     ]
    },
    {
     "name": "stdout",
     "output_type": "stream",
     "text": [
      "Epoch 122 [63/63] {'loss': '1.1'}\r"
     ]
    },
    {
     "name": "stderr",
     "output_type": "stream",
     "text": [
      "Metric loss/val improved by 0.000 >= min_delta = 0. New best score: 1.097\n"
     ]
    },
    {
     "name": "stdout",
     "output_type": "stream",
     "text": [
      "Epoch 142 [63/63] {'loss': '1.1'}\r"
     ]
    },
    {
     "name": "stderr",
     "output_type": "stream",
     "text": [
      "Monitored metric loss/val did not improve in the last 20 records. Best score: 1.097. Signaling Trainer to stop.\n"
     ]
    },
    {
     "name": "stdout",
     "output_type": "stream",
     "text": [
      "Architecture [VGG] was created\n",
      "***Defined hyperparameters:***\n",
      "\"arch\":                {'name': 'vgg11_brew', 'args': {'num_channels': 1, 'num_classes': 3}}\n",
      "\"checkpoint_path\":     None\n",
      "\"class_weights\":       tensor([1.1905, 0.9259, 0.9259], device='cuda:0')\n",
      "\"hp_metrics\":          ['loss/train', 'loss/val', 'Accuracy/val', 'AUROC/val', 'Precision/val', 'Recall/val', 'Specificity/val']\n",
      "\"loss\":                {'type': 'CrossEntropyLoss', 'args': {'weight': True}}\n",
      "\"optimizer\":           {'type': 'Adam', 'args': {'lr': 0.0001, 'weight_decay': 0, 'amsgrad': True}}\n",
      "\"roi_hparams\":         {'enable': False, 'output_shape': [3, 3, 3], 'boundary_boxes': []}\n",
      "\"weight_distribution\": normal\n"
     ]
    },
    {
     "name": "stderr",
     "output_type": "stream",
     "text": [
      "GPU available: True, used: True\n",
      "TPU available: False, using: 0 TPU cores\n",
      "LOCAL_RANK: 0 - CUDA_VISIBLE_DEVICES: [0]\n",
      "\n",
      "  | Name          | Type             | Params\n",
      "---------------------------------------------------\n",
      "0 | model         | VGG              | 103 M \n",
      "1 | criteria      | CrossEntropyLoss | 0     \n",
      "2 | train_metrics | MetricCollection | 0     \n",
      "3 | valid_metrics | MetricCollection | 0     \n",
      "---------------------------------------------------\n",
      "103 M     Trainable params\n",
      "0         Non-trainable params\n",
      "103 M     Total params\n",
      "414.175   Total estimated model params size (MB)\n"
     ]
    },
    {
     "name": "stdout",
     "output_type": "stream",
     "text": [
      "Enabled callbacks:  ['LitProgressBar', 'EarlyStopping']\n",
      "Dataloader fold: 3\n",
      "Epoch 1 [63/63] {'loss': '1.1'}}\r"
     ]
    },
    {
     "name": "stderr",
     "output_type": "stream",
     "text": [
      "Metric loss/val improved. New best score: 1.099\n"
     ]
    },
    {
     "name": "stdout",
     "output_type": "stream",
     "text": [
      "Epoch 2 [63/63] {'loss': '1.1'}\r"
     ]
    },
    {
     "name": "stderr",
     "output_type": "stream",
     "text": [
      "Metric loss/val improved by 0.000 >= min_delta = 0. New best score: 1.099\n"
     ]
    },
    {
     "name": "stdout",
     "output_type": "stream",
     "text": [
      "Epoch 3 [63/63] {'loss': '1.1'}\r"
     ]
    },
    {
     "name": "stderr",
     "output_type": "stream",
     "text": [
      "Metric loss/val improved by 0.000 >= min_delta = 0. New best score: 1.098\n"
     ]
    },
    {
     "name": "stdout",
     "output_type": "stream",
     "text": [
      "Epoch 4 [63/63] {'loss': '1.1'}\r"
     ]
    },
    {
     "name": "stderr",
     "output_type": "stream",
     "text": [
      "Metric loss/val improved by 0.000 >= min_delta = 0. New best score: 1.098\n"
     ]
    },
    {
     "name": "stdout",
     "output_type": "stream",
     "text": [
      "Epoch 5 [63/63] {'loss': '1.1'}\r"
     ]
    },
    {
     "name": "stderr",
     "output_type": "stream",
     "text": [
      "Metric loss/val improved by 0.000 >= min_delta = 0. New best score: 1.098\n"
     ]
    },
    {
     "name": "stdout",
     "output_type": "stream",
     "text": [
      "Epoch 9 [63/63] {'loss': '1.1'}\r"
     ]
    },
    {
     "name": "stderr",
     "output_type": "stream",
     "text": [
      "Metric loss/val improved by 0.000 >= min_delta = 0. New best score: 1.098\n"
     ]
    },
    {
     "name": "stdout",
     "output_type": "stream",
     "text": [
      "Epoch 10 [63/63] {'loss': '1.1'}\r"
     ]
    },
    {
     "name": "stderr",
     "output_type": "stream",
     "text": [
      "Metric loss/val improved by 0.001 >= min_delta = 0. New best score: 1.097\n"
     ]
    },
    {
     "name": "stdout",
     "output_type": "stream",
     "text": [
      "Epoch 30 [63/63] {'loss': '1.1'}}\r"
     ]
    },
    {
     "name": "stderr",
     "output_type": "stream",
     "text": [
      "Monitored metric loss/val did not improve in the last 20 records. Best score: 1.097. Signaling Trainer to stop.\n"
     ]
    },
    {
     "name": "stdout",
     "output_type": "stream",
     "text": [
      "Architecture [VGG] was created\n",
      "***Defined hyperparameters:***\n",
      "\"arch\":                {'name': 'vgg11_brew', 'args': {'num_channels': 1, 'num_classes': 3}}\n",
      "\"checkpoint_path\":     None\n",
      "\"class_weights\":       tensor([1.1905, 0.9259, 0.9259], device='cuda:0')\n",
      "\"hp_metrics\":          ['loss/train', 'loss/val', 'Accuracy/val', 'AUROC/val', 'Precision/val', 'Recall/val', 'Specificity/val']\n",
      "\"loss\":                {'type': 'CrossEntropyLoss', 'args': {'weight': True}}\n",
      "\"optimizer\":           {'type': 'Adam', 'args': {'lr': 0.0001, 'weight_decay': 0, 'amsgrad': True}}\n",
      "\"roi_hparams\":         {'enable': False, 'output_shape': [3, 3, 3], 'boundary_boxes': []}\n",
      "\"weight_distribution\": normal\n"
     ]
    },
    {
     "name": "stderr",
     "output_type": "stream",
     "text": [
      "GPU available: True, used: True\n",
      "TPU available: False, using: 0 TPU cores\n",
      "LOCAL_RANK: 0 - CUDA_VISIBLE_DEVICES: [0]\n",
      "\n",
      "  | Name          | Type             | Params\n",
      "---------------------------------------------------\n",
      "0 | model         | VGG              | 103 M \n",
      "1 | criteria      | CrossEntropyLoss | 0     \n",
      "2 | train_metrics | MetricCollection | 0     \n",
      "3 | valid_metrics | MetricCollection | 0     \n",
      "---------------------------------------------------\n",
      "103 M     Trainable params\n",
      "0         Non-trainable params\n",
      "103 M     Total params\n",
      "414.175   Total estimated model params size (MB)\n"
     ]
    },
    {
     "name": "stdout",
     "output_type": "stream",
     "text": [
      "Enabled callbacks:  ['LitProgressBar', 'EarlyStopping']\n",
      "Dataloader fold: 4\n",
      "Epoch 1 [63/63] {'loss': '1.1'}}\r"
     ]
    },
    {
     "name": "stderr",
     "output_type": "stream",
     "text": [
      "Metric loss/val improved. New best score: 1.099\n"
     ]
    },
    {
     "name": "stdout",
     "output_type": "stream",
     "text": [
      "Epoch 3 [63/63] {'loss': '1.1'}\r"
     ]
    },
    {
     "name": "stderr",
     "output_type": "stream",
     "text": [
      "Metric loss/val improved by 0.000 >= min_delta = 0. New best score: 1.098\n"
     ]
    },
    {
     "name": "stdout",
     "output_type": "stream",
     "text": [
      "Epoch 5 [63/63] {'loss': '1.1'}\r"
     ]
    },
    {
     "name": "stderr",
     "output_type": "stream",
     "text": [
      "Metric loss/val improved by 0.000 >= min_delta = 0. New best score: 1.098\n"
     ]
    },
    {
     "name": "stdout",
     "output_type": "stream",
     "text": [
      "Epoch 9 [63/63] {'loss': '1.1'}}\r"
     ]
    },
    {
     "name": "stderr",
     "output_type": "stream",
     "text": [
      "Metric loss/val improved by 0.000 >= min_delta = 0. New best score: 1.098\n"
     ]
    },
    {
     "name": "stdout",
     "output_type": "stream",
     "text": [
      "Epoch 10 [63/63] {'loss': '1.1'}\r"
     ]
    },
    {
     "name": "stderr",
     "output_type": "stream",
     "text": [
      "Metric loss/val improved by 0.004 >= min_delta = 0. New best score: 1.095\n"
     ]
    },
    {
     "name": "stdout",
     "output_type": "stream",
     "text": [
      "Epoch 17 [63/63] {'loss': '1.07'}\r"
     ]
    },
    {
     "name": "stderr",
     "output_type": "stream",
     "text": [
      "Metric loss/val improved by 0.007 >= min_delta = 0. New best score: 1.087\n"
     ]
    },
    {
     "name": "stdout",
     "output_type": "stream",
     "text": [
      "Epoch 23 [63/63] {'loss': '1.14'}\r"
     ]
    },
    {
     "name": "stderr",
     "output_type": "stream",
     "text": [
      "Metric loss/val improved by 0.002 >= min_delta = 0. New best score: 1.086\n"
     ]
    },
    {
     "name": "stdout",
     "output_type": "stream",
     "text": [
      "Epoch 29 [63/63] {'loss': '1.07'}\r"
     ]
    },
    {
     "name": "stderr",
     "output_type": "stream",
     "text": [
      "Metric loss/val improved by 0.020 >= min_delta = 0. New best score: 1.066\n"
     ]
    },
    {
     "name": "stdout",
     "output_type": "stream",
     "text": [
      "Epoch 33 [63/63] {'loss': '1.09'}\r"
     ]
    },
    {
     "name": "stderr",
     "output_type": "stream",
     "text": [
      "Metric loss/val improved by 0.023 >= min_delta = 0. New best score: 1.043\n"
     ]
    },
    {
     "name": "stdout",
     "output_type": "stream",
     "text": [
      "Epoch 46 [63/63] {'loss': '1.05'}\r"
     ]
    },
    {
     "name": "stderr",
     "output_type": "stream",
     "text": [
      "Metric loss/val improved by 0.005 >= min_delta = 0. New best score: 1.038\n"
     ]
    },
    {
     "name": "stdout",
     "output_type": "stream",
     "text": [
      "Epoch 56 [63/63] {'loss': '1.07'}}\r"
     ]
    },
    {
     "name": "stderr",
     "output_type": "stream",
     "text": [
      "Metric loss/val improved by 0.013 >= min_delta = 0. New best score: 1.026\n"
     ]
    },
    {
     "name": "stdout",
     "output_type": "stream",
     "text": [
      "Epoch 68 [63/63] {'loss': '0.966'}\r"
     ]
    },
    {
     "name": "stderr",
     "output_type": "stream",
     "text": [
      "Metric loss/val improved by 0.002 >= min_delta = 0. New best score: 1.024\n"
     ]
    },
    {
     "name": "stdout",
     "output_type": "stream",
     "text": [
      "Epoch 69 [63/63] {'loss': '0.988'}\r"
     ]
    },
    {
     "name": "stderr",
     "output_type": "stream",
     "text": [
      "Metric loss/val improved by 0.049 >= min_delta = 0. New best score: 0.975\n"
     ]
    },
    {
     "name": "stdout",
     "output_type": "stream",
     "text": [
      "Epoch 74 [63/63] {'loss': '0.866'}\r"
     ]
    },
    {
     "name": "stderr",
     "output_type": "stream",
     "text": [
      "Metric loss/val improved by 0.088 >= min_delta = 0. New best score: 0.887\n"
     ]
    },
    {
     "name": "stdout",
     "output_type": "stream",
     "text": [
      "Epoch 78 [63/63] {'loss': '0.824'}\r"
     ]
    },
    {
     "name": "stderr",
     "output_type": "stream",
     "text": [
      "Metric loss/val improved by 0.005 >= min_delta = 0. New best score: 0.882\n"
     ]
    },
    {
     "name": "stdout",
     "output_type": "stream",
     "text": [
      "Epoch 93 [63/63] {'loss': '0.818'}\r"
     ]
    },
    {
     "name": "stderr",
     "output_type": "stream",
     "text": [
      "Metric loss/val improved by 0.095 >= min_delta = 0. New best score: 0.787\n"
     ]
    },
    {
     "name": "stdout",
     "output_type": "stream",
     "text": [
      "Epoch 113 [63/63] {'loss': '0.774'}\r"
     ]
    },
    {
     "name": "stderr",
     "output_type": "stream",
     "text": [
      "Monitored metric loss/val did not improve in the last 20 records. Best score: 0.787. Signaling Trainer to stop.\n"
     ]
    },
    {
     "name": "stdout",
     "output_type": "stream",
     "text": [
      "Architecture [VGG] was created\n",
      "***Defined hyperparameters:***\n",
      "\"arch\":                {'name': 'vgg11_brew', 'args': {'num_channels': 1, 'num_classes': 3}}\n",
      "\"checkpoint_path\":     None\n",
      "\"class_weights\":       tensor([1.1905, 0.9259, 0.9259], device='cuda:0')\n",
      "\"hp_metrics\":          ['loss/train', 'loss/val', 'Accuracy/val', 'AUROC/val', 'Precision/val', 'Recall/val', 'Specificity/val']\n",
      "\"loss\":                {'type': 'CrossEntropyLoss', 'args': {'weight': True}}\n",
      "\"optimizer\":           {'type': 'Adam', 'args': {'lr': 0.0001, 'weight_decay': 0, 'amsgrad': True}}\n",
      "\"roi_hparams\":         {'enable': False, 'output_shape': [3, 3, 3], 'boundary_boxes': []}\n",
      "\"weight_distribution\": normal\n"
     ]
    },
    {
     "name": "stderr",
     "output_type": "stream",
     "text": [
      "GPU available: True, used: True\n",
      "TPU available: False, using: 0 TPU cores\n",
      "LOCAL_RANK: 0 - CUDA_VISIBLE_DEVICES: [0]\n",
      "\n",
      "  | Name          | Type             | Params\n",
      "---------------------------------------------------\n",
      "0 | model         | VGG              | 103 M \n",
      "1 | criteria      | CrossEntropyLoss | 0     \n",
      "2 | train_metrics | MetricCollection | 0     \n",
      "3 | valid_metrics | MetricCollection | 0     \n",
      "---------------------------------------------------\n",
      "103 M     Trainable params\n",
      "0         Non-trainable params\n",
      "103 M     Total params\n",
      "414.175   Total estimated model params size (MB)\n"
     ]
    },
    {
     "name": "stdout",
     "output_type": "stream",
     "text": [
      "Enabled callbacks:  ['LitProgressBar', 'EarlyStopping']\n",
      "Dataloader fold: 5\n",
      "Epoch 1 [63/63] {'loss': '1.1'}\r"
     ]
    },
    {
     "name": "stderr",
     "output_type": "stream",
     "text": [
      "Metric loss/val improved. New best score: 1.098\n"
     ]
    },
    {
     "name": "stdout",
     "output_type": "stream",
     "text": [
      "Epoch 2 [63/63] {'loss': '1.1'}\r"
     ]
    },
    {
     "name": "stderr",
     "output_type": "stream",
     "text": [
      "Metric loss/val improved by 0.000 >= min_delta = 0. New best score: 1.098\n"
     ]
    },
    {
     "name": "stdout",
     "output_type": "stream",
     "text": [
      "Epoch 4 [63/63] {'loss': '1.1'}\r"
     ]
    },
    {
     "name": "stderr",
     "output_type": "stream",
     "text": [
      "Metric loss/val improved by 0.000 >= min_delta = 0. New best score: 1.098\n"
     ]
    },
    {
     "name": "stdout",
     "output_type": "stream",
     "text": [
      "Epoch 5 [63/63] {'loss': '1.1'}\r"
     ]
    },
    {
     "name": "stderr",
     "output_type": "stream",
     "text": [
      "Metric loss/val improved by 0.001 >= min_delta = 0. New best score: 1.097\n"
     ]
    },
    {
     "name": "stdout",
     "output_type": "stream",
     "text": [
      "Epoch 23 [63/63] {'loss': '1.1'}}\r"
     ]
    },
    {
     "name": "stderr",
     "output_type": "stream",
     "text": [
      "Metric loss/val improved by 0.000 >= min_delta = 0. New best score: 1.097\n"
     ]
    },
    {
     "name": "stdout",
     "output_type": "stream",
     "text": [
      "Epoch 25 [63/63] {'loss': '1.1'}\r"
     ]
    },
    {
     "name": "stderr",
     "output_type": "stream",
     "text": [
      "Metric loss/val improved by 0.000 >= min_delta = 0. New best score: 1.096\n"
     ]
    },
    {
     "name": "stdout",
     "output_type": "stream",
     "text": [
      "Epoch 45 [63/63] {'loss': '1.1'}}\r"
     ]
    },
    {
     "name": "stderr",
     "output_type": "stream",
     "text": [
      "Monitored metric loss/val did not improve in the last 20 records. Best score: 1.096. Signaling Trainer to stop.\n"
     ]
    }
   ],
   "source": [
    "models = ['vgg11_brew'] # 'vgg13_brew','vgg11_brew','vgg16_brew', #'resnet18','resnet34','vgg11'\n",
    "\n",
    "for name in models:\n",
    "    run_me(name, base_config='base')"
   ]
  },
  {
   "cell_type": "code",
   "execution_count": 9,
   "id": "713cb335-89ca-4fee-9aa2-0ab02fb776fd",
   "metadata": {
    "collapsed": true,
    "jupyter": {
     "outputs_hidden": true
    },
    "tags": []
   },
   "outputs": [
    {
     "name": "stderr",
     "output_type": "stream",
     "text": [
      "GPU available: True, used: True\n",
      "TPU available: False, using: 0 TPU cores\n",
      "Missing logger folder: /var/metrics/codetests/logs/tb/resnet18_brew2/20210502042226\n",
      "LOCAL_RANK: 0 - CUDA_VISIBLE_DEVICES: [0]\n",
      "\n",
      "  | Name           | Type             | Params\n",
      "----------------------------------------------------\n",
      "0 | model          | ResNet           | 8.3 M \n",
      "1 | criteria       | CrossEntropyLoss | 0     \n",
      "2 | metricsTracker | MetricTracker    | 0     \n",
      "----------------------------------------------------\n",
      "8.3 M     Trainable params\n",
      "0         Non-trainable params\n",
      "8.3 M     Total params\n",
      "33.154    Total estimated model params size (MB)\n"
     ]
    },
    {
     "name": "stdout",
     "output_type": "stream",
     "text": [
      "***Defined dataloader:***\n",
      "Data directory: data/SPM_categorised/Amira/\n",
      "Dataset sizes - Training: 494 Validation: 62\n",
      "Seed: 420\n",
      "Augmentation: Enabled\n",
      "KFold: Enabled - Fold: 1/9\n",
      "\n",
      "Architecture [ResNet] was created\n",
      "***Defined hyperparameters:***\n",
      "\"arch\":                {'name': 'resnet18_brew2', 'args': {'num_channels': 1, 'num_classes': 3}}\n",
      "\"checkpoint_path\":     None\n",
      "\"class_weights\":       tensor([1.1847, 0.9251, 0.9303], device='cuda:0')\n",
      "\"hp_metrics\":          ['loss/train', 'loss/val', 'accuracy/val', 'auc/val', 'specificity/val', 'sensitivity/val']\n",
      "\"loss\":                {'type': 'CrossEntropyLoss', 'args': {'weight': True}}\n",
      "\"optimizer\":           {'type': 'Adam', 'args': {'lr': 0.001, 'weight_decay': 0, 'amsgrad': True}}\n",
      "\"roi_hparams\":         {'enable': False, 'output_shape': [3, 3, 3], 'boundary_boxes': []}\n",
      "\"weight_distribution\": normal\n",
      "Enabled callbacks:  ['LitProgressBar', 'EarlyStopping']\n",
      "Dataloader fold: 1\n",
      "Epoch 69 [62/62] {'loss': '0.883'}\r"
     ]
    },
    {
     "name": "stderr",
     "output_type": "stream",
     "text": [
      "GPU available: True, used: True\n",
      "TPU available: False, using: 0 TPU cores\n",
      "LOCAL_RANK: 0 - CUDA_VISIBLE_DEVICES: [0]\n",
      "\n",
      "  | Name           | Type             | Params\n",
      "----------------------------------------------------\n",
      "0 | model          | ResNet           | 8.3 M \n",
      "1 | criteria       | CrossEntropyLoss | 0     \n",
      "2 | metricsTracker | MetricTracker    | 0     \n",
      "----------------------------------------------------\n",
      "8.3 M     Trainable params\n",
      "0         Non-trainable params\n",
      "8.3 M     Total params\n",
      "33.154    Total estimated model params size (MB)\n"
     ]
    },
    {
     "name": "stdout",
     "output_type": "stream",
     "text": [
      "Architecture [ResNet] was created\n",
      "***Defined hyperparameters:***\n",
      "\"arch\":                {'name': 'resnet18_brew2', 'args': {'num_channels': 1, 'num_classes': 3}}\n",
      "\"checkpoint_path\":     None\n",
      "\"class_weights\":       tensor([1.1847, 0.9251, 0.9303], device='cuda:0')\n",
      "\"hp_metrics\":          ['loss/train', 'loss/val', 'accuracy/val', 'auc/val', 'specificity/val', 'sensitivity/val']\n",
      "\"loss\":                {'type': 'CrossEntropyLoss', 'args': {'weight': True}}\n",
      "\"optimizer\":           {'type': 'Adam', 'args': {'lr': 0.001, 'weight_decay': 0, 'amsgrad': True}}\n",
      "\"roi_hparams\":         {'enable': False, 'output_shape': [3, 3, 3], 'boundary_boxes': []}\n",
      "\"weight_distribution\": normal\n",
      "Enabled callbacks:  ['LitProgressBar', 'EarlyStopping']\n",
      "Dataloader fold: 2\n",
      "Epoch 79 [62/62] {'loss': '0.861'}\r"
     ]
    },
    {
     "name": "stderr",
     "output_type": "stream",
     "text": [
      "GPU available: True, used: True\n",
      "TPU available: False, using: 0 TPU cores\n",
      "LOCAL_RANK: 0 - CUDA_VISIBLE_DEVICES: [0]\n",
      "\n",
      "  | Name           | Type             | Params\n",
      "----------------------------------------------------\n",
      "0 | model          | ResNet           | 8.3 M \n",
      "1 | criteria       | CrossEntropyLoss | 0     \n",
      "2 | metricsTracker | MetricTracker    | 0     \n",
      "----------------------------------------------------\n",
      "8.3 M     Trainable params\n",
      "0         Non-trainable params\n",
      "8.3 M     Total params\n",
      "33.154    Total estimated model params size (MB)\n"
     ]
    },
    {
     "name": "stdout",
     "output_type": "stream",
     "text": [
      "Architecture [ResNet] was created\n",
      "***Defined hyperparameters:***\n",
      "\"arch\":                {'name': 'resnet18_brew2', 'args': {'num_channels': 1, 'num_classes': 3}}\n",
      "\"checkpoint_path\":     None\n",
      "\"class_weights\":       tensor([1.1847, 0.9251, 0.9303], device='cuda:0')\n",
      "\"hp_metrics\":          ['loss/train', 'loss/val', 'accuracy/val', 'auc/val', 'specificity/val', 'sensitivity/val']\n",
      "\"loss\":                {'type': 'CrossEntropyLoss', 'args': {'weight': True}}\n",
      "\"optimizer\":           {'type': 'Adam', 'args': {'lr': 0.001, 'weight_decay': 0, 'amsgrad': True}}\n",
      "\"roi_hparams\":         {'enable': False, 'output_shape': [3, 3, 3], 'boundary_boxes': []}\n",
      "\"weight_distribution\": normal\n",
      "Enabled callbacks:  ['LitProgressBar', 'EarlyStopping']\n",
      "Dataloader fold: 3\n",
      "Epoch 52 [62/62] {'loss': '1.1'}}\r"
     ]
    },
    {
     "name": "stderr",
     "output_type": "stream",
     "text": [
      "GPU available: True, used: True\n",
      "TPU available: False, using: 0 TPU cores\n",
      "LOCAL_RANK: 0 - CUDA_VISIBLE_DEVICES: [0]\n",
      "\n",
      "  | Name           | Type             | Params\n",
      "----------------------------------------------------\n",
      "0 | model          | ResNet           | 8.3 M \n",
      "1 | criteria       | CrossEntropyLoss | 0     \n",
      "2 | metricsTracker | MetricTracker    | 0     \n",
      "----------------------------------------------------\n",
      "8.3 M     Trainable params\n",
      "0         Non-trainable params\n",
      "8.3 M     Total params\n",
      "33.154    Total estimated model params size (MB)\n"
     ]
    },
    {
     "name": "stdout",
     "output_type": "stream",
     "text": [
      "Architecture [ResNet] was created\n",
      "***Defined hyperparameters:***\n",
      "\"arch\":                {'name': 'resnet18_brew2', 'args': {'num_channels': 1, 'num_classes': 3}}\n",
      "\"checkpoint_path\":     None\n",
      "\"class_weights\":       tensor([1.1847, 0.9251, 0.9303], device='cuda:0')\n",
      "\"hp_metrics\":          ['loss/train', 'loss/val', 'accuracy/val', 'auc/val', 'specificity/val', 'sensitivity/val']\n",
      "\"loss\":                {'type': 'CrossEntropyLoss', 'args': {'weight': True}}\n",
      "\"optimizer\":           {'type': 'Adam', 'args': {'lr': 0.001, 'weight_decay': 0, 'amsgrad': True}}\n",
      "\"roi_hparams\":         {'enable': False, 'output_shape': [3, 3, 3], 'boundary_boxes': []}\n",
      "\"weight_distribution\": normal\n",
      "Enabled callbacks:  ['LitProgressBar', 'EarlyStopping']\n",
      "Dataloader fold: 4\n",
      "Epoch 45 [62/62] {'loss': '1.05'}}\r"
     ]
    },
    {
     "name": "stderr",
     "output_type": "stream",
     "text": [
      "GPU available: True, used: True\n",
      "TPU available: False, using: 0 TPU cores\n",
      "LOCAL_RANK: 0 - CUDA_VISIBLE_DEVICES: [0]\n",
      "\n",
      "  | Name           | Type             | Params\n",
      "----------------------------------------------------\n",
      "0 | model          | ResNet           | 8.3 M \n",
      "1 | criteria       | CrossEntropyLoss | 0     \n",
      "2 | metricsTracker | MetricTracker    | 0     \n",
      "----------------------------------------------------\n",
      "8.3 M     Trainable params\n",
      "0         Non-trainable params\n",
      "8.3 M     Total params\n",
      "33.154    Total estimated model params size (MB)\n"
     ]
    },
    {
     "name": "stdout",
     "output_type": "stream",
     "text": [
      "Architecture [ResNet] was created\n",
      "***Defined hyperparameters:***\n",
      "\"arch\":                {'name': 'resnet18_brew2', 'args': {'num_channels': 1, 'num_classes': 3}}\n",
      "\"checkpoint_path\":     None\n",
      "\"class_weights\":       tensor([1.1847, 0.9251, 0.9303], device='cuda:0')\n",
      "\"hp_metrics\":          ['loss/train', 'loss/val', 'accuracy/val', 'auc/val', 'specificity/val', 'sensitivity/val']\n",
      "\"loss\":                {'type': 'CrossEntropyLoss', 'args': {'weight': True}}\n",
      "\"optimizer\":           {'type': 'Adam', 'args': {'lr': 0.001, 'weight_decay': 0, 'amsgrad': True}}\n",
      "\"roi_hparams\":         {'enable': False, 'output_shape': [3, 3, 3], 'boundary_boxes': []}\n",
      "\"weight_distribution\": normal\n",
      "Enabled callbacks:  ['LitProgressBar', 'EarlyStopping']\n",
      "Dataloader fold: 5\n",
      "***Defined dataloader:*** '1.07'}\n",
      "Data directory: data/SPM_categorised/Amira/\n",
      "Dataset sizes - Training: 494 Validation: 62\n",
      "Seed: 420\n",
      "Augmentation: Enabled\n",
      "KFold: Enabled - Fold: 1/9\n",
      "\n",
      "Architecture [ResNet] was created\n",
      "***Defined hyperparameters:***\n",
      "\"arch\":                {'name': 'resnet34_brew2', 'args': {'num_channels': 1, 'num_classes': 3}}\n",
      "\"checkpoint_path\":     None\n",
      "\"class_weights\":       tensor([1.1847, 0.9251, 0.9303], device='cuda:0')\n",
      "\"hp_metrics\":          ['loss/train', 'loss/val', 'accuracy/val', 'auc/val', 'specificity/val', 'sensitivity/val']\n",
      "\"loss\":                {'type': 'CrossEntropyLoss', 'args': {'weight': True}}\n",
      "\"optimizer\":           {'type': 'Adam', 'args': {'lr': 0.001, 'weight_decay': 0, 'amsgrad': True}}\n",
      "\"roi_hparams\":         {'enable': False, 'output_shape': [3, 3, 3], 'boundary_boxes': []}\n",
      "\"weight_distribution\": normal\n"
     ]
    },
    {
     "name": "stderr",
     "output_type": "stream",
     "text": [
      "GPU available: True, used: True\n",
      "TPU available: False, using: 0 TPU cores\n",
      "Missing logger folder: /var/metrics/codetests/logs/tb/resnet34_brew2/20210502061032\n",
      "LOCAL_RANK: 0 - CUDA_VISIBLE_DEVICES: [0]\n",
      "\n",
      "  | Name           | Type             | Params\n",
      "----------------------------------------------------\n",
      "0 | model          | ResNet           | 15.9 M\n",
      "1 | criteria       | CrossEntropyLoss | 0     \n",
      "2 | metricsTracker | MetricTracker    | 0     \n",
      "----------------------------------------------------\n",
      "15.9 M    Trainable params\n",
      "0         Non-trainable params\n",
      "15.9 M    Total params\n",
      "63.471    Total estimated model params size (MB)\n"
     ]
    },
    {
     "name": "stdout",
     "output_type": "stream",
     "text": [
      "Enabled callbacks:  ['LitProgressBar', 'EarlyStopping']\n",
      "Dataloader fold: 1\n",
      "Epoch 26 [62/62] {'loss': '1.06'}\r"
     ]
    },
    {
     "name": "stderr",
     "output_type": "stream",
     "text": [
      "GPU available: True, used: True\n",
      "TPU available: False, using: 0 TPU cores\n",
      "LOCAL_RANK: 0 - CUDA_VISIBLE_DEVICES: [0]\n",
      "\n",
      "  | Name           | Type             | Params\n",
      "----------------------------------------------------\n",
      "0 | model          | ResNet           | 15.9 M\n",
      "1 | criteria       | CrossEntropyLoss | 0     \n",
      "2 | metricsTracker | MetricTracker    | 0     \n",
      "----------------------------------------------------\n",
      "15.9 M    Trainable params\n",
      "0         Non-trainable params\n",
      "15.9 M    Total params\n",
      "63.471    Total estimated model params size (MB)\n"
     ]
    },
    {
     "name": "stdout",
     "output_type": "stream",
     "text": [
      "Architecture [ResNet] was created\n",
      "***Defined hyperparameters:***\n",
      "\"arch\":                {'name': 'resnet34_brew2', 'args': {'num_channels': 1, 'num_classes': 3}}\n",
      "\"checkpoint_path\":     None\n",
      "\"class_weights\":       tensor([1.1847, 0.9251, 0.9303], device='cuda:0')\n",
      "\"hp_metrics\":          ['loss/train', 'loss/val', 'accuracy/val', 'auc/val', 'specificity/val', 'sensitivity/val']\n",
      "\"loss\":                {'type': 'CrossEntropyLoss', 'args': {'weight': True}}\n",
      "\"optimizer\":           {'type': 'Adam', 'args': {'lr': 0.001, 'weight_decay': 0, 'amsgrad': True}}\n",
      "\"roi_hparams\":         {'enable': False, 'output_shape': [3, 3, 3], 'boundary_boxes': []}\n",
      "\"weight_distribution\": normal\n",
      "Enabled callbacks:  ['LitProgressBar', 'EarlyStopping']\n",
      "Dataloader fold: 2\n",
      "Epoch 26 [62/62] {'loss': '1.1'}}\r"
     ]
    },
    {
     "name": "stderr",
     "output_type": "stream",
     "text": [
      "GPU available: True, used: True\n",
      "TPU available: False, using: 0 TPU cores\n",
      "LOCAL_RANK: 0 - CUDA_VISIBLE_DEVICES: [0]\n",
      "\n",
      "  | Name           | Type             | Params\n",
      "----------------------------------------------------\n",
      "0 | model          | ResNet           | 15.9 M\n",
      "1 | criteria       | CrossEntropyLoss | 0     \n",
      "2 | metricsTracker | MetricTracker    | 0     \n",
      "----------------------------------------------------\n",
      "15.9 M    Trainable params\n",
      "0         Non-trainable params\n",
      "15.9 M    Total params\n",
      "63.471    Total estimated model params size (MB)\n"
     ]
    },
    {
     "name": "stdout",
     "output_type": "stream",
     "text": [
      "Architecture [ResNet] was created\n",
      "***Defined hyperparameters:***\n",
      "\"arch\":                {'name': 'resnet34_brew2', 'args': {'num_channels': 1, 'num_classes': 3}}\n",
      "\"checkpoint_path\":     None\n",
      "\"class_weights\":       tensor([1.1847, 0.9251, 0.9303], device='cuda:0')\n",
      "\"hp_metrics\":          ['loss/train', 'loss/val', 'accuracy/val', 'auc/val', 'specificity/val', 'sensitivity/val']\n",
      "\"loss\":                {'type': 'CrossEntropyLoss', 'args': {'weight': True}}\n",
      "\"optimizer\":           {'type': 'Adam', 'args': {'lr': 0.001, 'weight_decay': 0, 'amsgrad': True}}\n",
      "\"roi_hparams\":         {'enable': False, 'output_shape': [3, 3, 3], 'boundary_boxes': []}\n",
      "\"weight_distribution\": normal\n",
      "Enabled callbacks:  ['LitProgressBar', 'EarlyStopping']\n",
      "Dataloader fold: 3\n",
      "Epoch 53 [62/62] {'loss': '1.06'}\r"
     ]
    },
    {
     "name": "stderr",
     "output_type": "stream",
     "text": [
      "GPU available: True, used: True\n",
      "TPU available: False, using: 0 TPU cores\n",
      "LOCAL_RANK: 0 - CUDA_VISIBLE_DEVICES: [0]\n",
      "\n",
      "  | Name           | Type             | Params\n",
      "----------------------------------------------------\n",
      "0 | model          | ResNet           | 15.9 M\n",
      "1 | criteria       | CrossEntropyLoss | 0     \n",
      "2 | metricsTracker | MetricTracker    | 0     \n",
      "----------------------------------------------------\n",
      "15.9 M    Trainable params\n",
      "0         Non-trainable params\n",
      "15.9 M    Total params\n",
      "63.471    Total estimated model params size (MB)\n"
     ]
    },
    {
     "name": "stdout",
     "output_type": "stream",
     "text": [
      "Architecture [ResNet] was created\n",
      "***Defined hyperparameters:***\n",
      "\"arch\":                {'name': 'resnet34_brew2', 'args': {'num_channels': 1, 'num_classes': 3}}\n",
      "\"checkpoint_path\":     None\n",
      "\"class_weights\":       tensor([1.1847, 0.9251, 0.9303], device='cuda:0')\n",
      "\"hp_metrics\":          ['loss/train', 'loss/val', 'accuracy/val', 'auc/val', 'specificity/val', 'sensitivity/val']\n",
      "\"loss\":                {'type': 'CrossEntropyLoss', 'args': {'weight': True}}\n",
      "\"optimizer\":           {'type': 'Adam', 'args': {'lr': 0.001, 'weight_decay': 0, 'amsgrad': True}}\n",
      "\"roi_hparams\":         {'enable': False, 'output_shape': [3, 3, 3], 'boundary_boxes': []}\n",
      "\"weight_distribution\": normal\n",
      "Enabled callbacks:  ['LitProgressBar', 'EarlyStopping']\n",
      "Dataloader fold: 4\n",
      "Epoch 28 [62/62] {'loss': '1.09'}}\r"
     ]
    },
    {
     "name": "stderr",
     "output_type": "stream",
     "text": [
      "GPU available: True, used: True\n",
      "TPU available: False, using: 0 TPU cores\n",
      "LOCAL_RANK: 0 - CUDA_VISIBLE_DEVICES: [0]\n",
      "\n",
      "  | Name           | Type             | Params\n",
      "----------------------------------------------------\n",
      "0 | model          | ResNet           | 15.9 M\n",
      "1 | criteria       | CrossEntropyLoss | 0     \n",
      "2 | metricsTracker | MetricTracker    | 0     \n",
      "----------------------------------------------------\n",
      "15.9 M    Trainable params\n",
      "0         Non-trainable params\n",
      "15.9 M    Total params\n",
      "63.471    Total estimated model params size (MB)\n"
     ]
    },
    {
     "name": "stdout",
     "output_type": "stream",
     "text": [
      "Architecture [ResNet] was created\n",
      "***Defined hyperparameters:***\n",
      "\"arch\":                {'name': 'resnet34_brew2', 'args': {'num_channels': 1, 'num_classes': 3}}\n",
      "\"checkpoint_path\":     None\n",
      "\"class_weights\":       tensor([1.1847, 0.9251, 0.9303], device='cuda:0')\n",
      "\"hp_metrics\":          ['loss/train', 'loss/val', 'accuracy/val', 'auc/val', 'specificity/val', 'sensitivity/val']\n",
      "\"loss\":                {'type': 'CrossEntropyLoss', 'args': {'weight': True}}\n",
      "\"optimizer\":           {'type': 'Adam', 'args': {'lr': 0.001, 'weight_decay': 0, 'amsgrad': True}}\n",
      "\"roi_hparams\":         {'enable': False, 'output_shape': [3, 3, 3], 'boundary_boxes': []}\n",
      "\"weight_distribution\": normal\n",
      "Enabled callbacks:  ['LitProgressBar', 'EarlyStopping']\n",
      "Dataloader fold: 5\n",
      "***Defined dataloader:*** '0.98'}}\n",
      "Data directory: data/SPM_categorised/Amira/\n",
      "Dataset sizes - Training: 494 Validation: 62\n",
      "Seed: 420\n",
      "Augmentation: Enabled\n",
      "KFold: Enabled - Fold: 1/9\n",
      "\n",
      "Architecture [ResNet] was created\n",
      "***Defined hyperparameters:***\n",
      "\"arch\":                {'name': 'resnet50_brew2', 'args': {'num_channels': 1, 'num_classes': 3}}\n",
      "\"checkpoint_path\":     None\n",
      "\"class_weights\":       tensor([1.1847, 0.9251, 0.9303], device='cuda:0')\n",
      "\"hp_metrics\":          ['loss/train', 'loss/val', 'accuracy/val', 'auc/val', 'specificity/val', 'sensitivity/val']\n",
      "\"loss\":                {'type': 'CrossEntropyLoss', 'args': {'weight': True}}\n",
      "\"optimizer\":           {'type': 'Adam', 'args': {'lr': 0.001, 'weight_decay': 0, 'amsgrad': True}}\n",
      "\"roi_hparams\":         {'enable': False, 'output_shape': [3, 3, 3], 'boundary_boxes': []}\n",
      "\"weight_distribution\": normal\n"
     ]
    },
    {
     "name": "stderr",
     "output_type": "stream",
     "text": [
      "GPU available: True, used: True\n",
      "TPU available: False, using: 0 TPU cores\n",
      "Missing logger folder: /var/metrics/codetests/logs/tb/resnet50_brew2/20210502075157\n",
      "LOCAL_RANK: 0 - CUDA_VISIBLE_DEVICES: [0]\n",
      "\n",
      "  | Name           | Type             | Params\n",
      "----------------------------------------------------\n",
      "0 | model          | ResNet           | 11.6 M\n",
      "1 | criteria       | CrossEntropyLoss | 0     \n",
      "2 | metricsTracker | MetricTracker    | 0     \n",
      "----------------------------------------------------\n",
      "11.6 M    Trainable params\n",
      "0         Non-trainable params\n",
      "11.6 M    Total params\n",
      "46.202    Total estimated model params size (MB)\n"
     ]
    },
    {
     "name": "stdout",
     "output_type": "stream",
     "text": [
      "Enabled callbacks:  ['LitProgressBar', 'EarlyStopping']\n",
      "Dataloader fold: 1\n",
      "Epoch 40 [62/62] {'loss': '1.06'}}\r"
     ]
    },
    {
     "name": "stderr",
     "output_type": "stream",
     "text": [
      "GPU available: True, used: True\n",
      "TPU available: False, using: 0 TPU cores\n",
      "LOCAL_RANK: 0 - CUDA_VISIBLE_DEVICES: [0]\n",
      "\n",
      "  | Name           | Type             | Params\n",
      "----------------------------------------------------\n",
      "0 | model          | ResNet           | 11.6 M\n",
      "1 | criteria       | CrossEntropyLoss | 0     \n",
      "2 | metricsTracker | MetricTracker    | 0     \n",
      "----------------------------------------------------\n",
      "11.6 M    Trainable params\n",
      "0         Non-trainable params\n",
      "11.6 M    Total params\n",
      "46.202    Total estimated model params size (MB)\n"
     ]
    },
    {
     "name": "stdout",
     "output_type": "stream",
     "text": [
      "Architecture [ResNet] was created\n",
      "***Defined hyperparameters:***\n",
      "\"arch\":                {'name': 'resnet50_brew2', 'args': {'num_channels': 1, 'num_classes': 3}}\n",
      "\"checkpoint_path\":     None\n",
      "\"class_weights\":       tensor([1.1847, 0.9251, 0.9303], device='cuda:0')\n",
      "\"hp_metrics\":          ['loss/train', 'loss/val', 'accuracy/val', 'auc/val', 'specificity/val', 'sensitivity/val']\n",
      "\"loss\":                {'type': 'CrossEntropyLoss', 'args': {'weight': True}}\n",
      "\"optimizer\":           {'type': 'Adam', 'args': {'lr': 0.001, 'weight_decay': 0, 'amsgrad': True}}\n",
      "\"roi_hparams\":         {'enable': False, 'output_shape': [3, 3, 3], 'boundary_boxes': []}\n",
      "\"weight_distribution\": normal\n",
      "Enabled callbacks:  ['LitProgressBar', 'EarlyStopping']\n",
      "Dataloader fold: 2\n",
      "Epoch 110 [62/62] {'loss': '0.905'}\r"
     ]
    },
    {
     "name": "stderr",
     "output_type": "stream",
     "text": [
      "GPU available: True, used: True\n",
      "TPU available: False, using: 0 TPU cores\n",
      "LOCAL_RANK: 0 - CUDA_VISIBLE_DEVICES: [0]\n",
      "\n",
      "  | Name           | Type             | Params\n",
      "----------------------------------------------------\n",
      "0 | model          | ResNet           | 11.6 M\n",
      "1 | criteria       | CrossEntropyLoss | 0     \n",
      "2 | metricsTracker | MetricTracker    | 0     \n",
      "----------------------------------------------------\n",
      "11.6 M    Trainable params\n",
      "0         Non-trainable params\n",
      "11.6 M    Total params\n",
      "46.202    Total estimated model params size (MB)\n"
     ]
    },
    {
     "name": "stdout",
     "output_type": "stream",
     "text": [
      "Architecture [ResNet] was created\n",
      "***Defined hyperparameters:***\n",
      "\"arch\":                {'name': 'resnet50_brew2', 'args': {'num_channels': 1, 'num_classes': 3}}\n",
      "\"checkpoint_path\":     None\n",
      "\"class_weights\":       tensor([1.1847, 0.9251, 0.9303], device='cuda:0')\n",
      "\"hp_metrics\":          ['loss/train', 'loss/val', 'accuracy/val', 'auc/val', 'specificity/val', 'sensitivity/val']\n",
      "\"loss\":                {'type': 'CrossEntropyLoss', 'args': {'weight': True}}\n",
      "\"optimizer\":           {'type': 'Adam', 'args': {'lr': 0.001, 'weight_decay': 0, 'amsgrad': True}}\n",
      "\"roi_hparams\":         {'enable': False, 'output_shape': [3, 3, 3], 'boundary_boxes': []}\n",
      "\"weight_distribution\": normal\n",
      "Enabled callbacks:  ['LitProgressBar', 'EarlyStopping']\n",
      "Dataloader fold: 3\n",
      "Epoch 59 [62/62] {'loss': '1.02'}}\r"
     ]
    },
    {
     "name": "stderr",
     "output_type": "stream",
     "text": [
      "GPU available: True, used: True\n",
      "TPU available: False, using: 0 TPU cores\n",
      "LOCAL_RANK: 0 - CUDA_VISIBLE_DEVICES: [0]\n",
      "\n",
      "  | Name           | Type             | Params\n",
      "----------------------------------------------------\n",
      "0 | model          | ResNet           | 11.6 M\n",
      "1 | criteria       | CrossEntropyLoss | 0     \n",
      "2 | metricsTracker | MetricTracker    | 0     \n",
      "----------------------------------------------------\n",
      "11.6 M    Trainable params\n",
      "0         Non-trainable params\n",
      "11.6 M    Total params\n",
      "46.202    Total estimated model params size (MB)\n"
     ]
    },
    {
     "name": "stdout",
     "output_type": "stream",
     "text": [
      "Architecture [ResNet] was created\n",
      "***Defined hyperparameters:***\n",
      "\"arch\":                {'name': 'resnet50_brew2', 'args': {'num_channels': 1, 'num_classes': 3}}\n",
      "\"checkpoint_path\":     None\n",
      "\"class_weights\":       tensor([1.1847, 0.9251, 0.9303], device='cuda:0')\n",
      "\"hp_metrics\":          ['loss/train', 'loss/val', 'accuracy/val', 'auc/val', 'specificity/val', 'sensitivity/val']\n",
      "\"loss\":                {'type': 'CrossEntropyLoss', 'args': {'weight': True}}\n",
      "\"optimizer\":           {'type': 'Adam', 'args': {'lr': 0.001, 'weight_decay': 0, 'amsgrad': True}}\n",
      "\"roi_hparams\":         {'enable': False, 'output_shape': [3, 3, 3], 'boundary_boxes': []}\n",
      "\"weight_distribution\": normal\n",
      "Enabled callbacks:  ['LitProgressBar', 'EarlyStopping']\n",
      "Dataloader fold: 4\n",
      "Epoch 57 [62/62] {'loss': '1.04'}}\r"
     ]
    },
    {
     "name": "stderr",
     "output_type": "stream",
     "text": [
      "GPU available: True, used: True\n",
      "TPU available: False, using: 0 TPU cores\n",
      "LOCAL_RANK: 0 - CUDA_VISIBLE_DEVICES: [0]\n",
      "\n",
      "  | Name           | Type             | Params\n",
      "----------------------------------------------------\n",
      "0 | model          | ResNet           | 11.6 M\n",
      "1 | criteria       | CrossEntropyLoss | 0     \n",
      "2 | metricsTracker | MetricTracker    | 0     \n",
      "----------------------------------------------------\n",
      "11.6 M    Trainable params\n",
      "0         Non-trainable params\n",
      "11.6 M    Total params\n",
      "46.202    Total estimated model params size (MB)\n"
     ]
    },
    {
     "name": "stdout",
     "output_type": "stream",
     "text": [
      "Architecture [ResNet] was created\n",
      "***Defined hyperparameters:***\n",
      "\"arch\":                {'name': 'resnet50_brew2', 'args': {'num_channels': 1, 'num_classes': 3}}\n",
      "\"checkpoint_path\":     None\n",
      "\"class_weights\":       tensor([1.1847, 0.9251, 0.9303], device='cuda:0')\n",
      "\"hp_metrics\":          ['loss/train', 'loss/val', 'accuracy/val', 'auc/val', 'specificity/val', 'sensitivity/val']\n",
      "\"loss\":                {'type': 'CrossEntropyLoss', 'args': {'weight': True}}\n",
      "\"optimizer\":           {'type': 'Adam', 'args': {'lr': 0.001, 'weight_decay': 0, 'amsgrad': True}}\n",
      "\"roi_hparams\":         {'enable': False, 'output_shape': [3, 3, 3], 'boundary_boxes': []}\n",
      "\"weight_distribution\": normal\n",
      "Enabled callbacks:  ['LitProgressBar', 'EarlyStopping']\n",
      "Dataloader fold: 5\n",
      "Epoch 52 [62/62] {'loss': '1.13'}\r"
     ]
    }
   ],
   "source": [
    "models = ['resnet18_brew2','resnet34_brew2','resnet50_brew2']\n",
    "for name in models:\n",
    "    run_me(name, base_config='base2')"
   ]
  },
  {
   "cell_type": "code",
   "execution_count": 10,
   "id": "522be49a-1c42-4392-a7d6-ae13c2d66e66",
   "metadata": {
    "collapsed": true,
    "jupyter": {
     "outputs_hidden": true
    },
    "tags": []
   },
   "outputs": [
    {
     "name": "stderr",
     "output_type": "stream",
     "text": [
      "GPU available: True, used: True\n",
      "TPU available: False, using: 0 TPU cores\n",
      "Missing logger folder: /var/metrics/codetests/logs/tb/resnet18_brew3/20210502110808\n",
      "LOCAL_RANK: 0 - CUDA_VISIBLE_DEVICES: [0]\n",
      "\n",
      "  | Name           | Type             | Params\n",
      "----------------------------------------------------\n",
      "0 | model          | ResNet           | 2.1 M \n",
      "1 | criteria       | CrossEntropyLoss | 0     \n",
      "2 | metricsTracker | MetricTracker    | 0     \n",
      "----------------------------------------------------\n",
      "2.1 M     Trainable params\n",
      "0         Non-trainable params\n",
      "2.1 M     Total params\n",
      "8.327     Total estimated model params size (MB)\n"
     ]
    },
    {
     "name": "stdout",
     "output_type": "stream",
     "text": [
      "***Defined dataloader:***\n",
      "Data directory: data/SPM_categorised/Amira/\n",
      "Dataset sizes - Training: 494 Validation: 62\n",
      "Seed: 420\n",
      "Augmentation: Enabled\n",
      "KFold: Enabled - Fold: 1/9\n",
      "\n",
      "Architecture [ResNet] was created\n",
      "***Defined hyperparameters:***\n",
      "\"arch\":                {'name': 'resnet18_brew3', 'args': {'num_channels': 1, 'num_classes': 3}}\n",
      "\"checkpoint_path\":     None\n",
      "\"class_weights\":       tensor([1.1847, 0.9251, 0.9303], device='cuda:0')\n",
      "\"hp_metrics\":          ['loss/train', 'loss/val', 'accuracy/val', 'auc/val', 'specificity/val', 'sensitivity/val']\n",
      "\"loss\":                {'type': 'CrossEntropyLoss', 'args': {'weight': True}}\n",
      "\"optimizer\":           {'type': 'Adam', 'args': {'lr': 0.001, 'weight_decay': 0, 'amsgrad': True}}\n",
      "\"roi_hparams\":         {'enable': False, 'output_shape': [3, 3, 3], 'boundary_boxes': []}\n",
      "\"weight_distribution\": normal\n",
      "Enabled callbacks:  ['LitProgressBar', 'EarlyStopping']\n",
      "Dataloader fold: 1\n",
      "Epoch 33 [62/62] {'loss': '1.07'}\r"
     ]
    },
    {
     "name": "stderr",
     "output_type": "stream",
     "text": [
      "GPU available: True, used: True\n",
      "TPU available: False, using: 0 TPU cores\n",
      "LOCAL_RANK: 0 - CUDA_VISIBLE_DEVICES: [0]\n",
      "\n",
      "  | Name           | Type             | Params\n",
      "----------------------------------------------------\n",
      "0 | model          | ResNet           | 2.1 M \n",
      "1 | criteria       | CrossEntropyLoss | 0     \n",
      "2 | metricsTracker | MetricTracker    | 0     \n",
      "----------------------------------------------------\n",
      "2.1 M     Trainable params\n",
      "0         Non-trainable params\n",
      "2.1 M     Total params\n",
      "8.327     Total estimated model params size (MB)\n"
     ]
    },
    {
     "name": "stdout",
     "output_type": "stream",
     "text": [
      "Architecture [ResNet] was created\n",
      "***Defined hyperparameters:***\n",
      "\"arch\":                {'name': 'resnet18_brew3', 'args': {'num_channels': 1, 'num_classes': 3}}\n",
      "\"checkpoint_path\":     None\n",
      "\"class_weights\":       tensor([1.1847, 0.9251, 0.9303], device='cuda:0')\n",
      "\"hp_metrics\":          ['loss/train', 'loss/val', 'accuracy/val', 'auc/val', 'specificity/val', 'sensitivity/val']\n",
      "\"loss\":                {'type': 'CrossEntropyLoss', 'args': {'weight': True}}\n",
      "\"optimizer\":           {'type': 'Adam', 'args': {'lr': 0.001, 'weight_decay': 0, 'amsgrad': True}}\n",
      "\"roi_hparams\":         {'enable': False, 'output_shape': [3, 3, 3], 'boundary_boxes': []}\n",
      "\"weight_distribution\": normal\n",
      "Enabled callbacks:  ['LitProgressBar', 'EarlyStopping']\n",
      "Dataloader fold: 2\n",
      "Epoch 26 [62/62] {'loss': '1.1'}}\r"
     ]
    },
    {
     "name": "stderr",
     "output_type": "stream",
     "text": [
      "GPU available: True, used: True\n",
      "TPU available: False, using: 0 TPU cores\n",
      "LOCAL_RANK: 0 - CUDA_VISIBLE_DEVICES: [0]\n",
      "\n",
      "  | Name           | Type             | Params\n",
      "----------------------------------------------------\n",
      "0 | model          | ResNet           | 2.1 M \n",
      "1 | criteria       | CrossEntropyLoss | 0     \n",
      "2 | metricsTracker | MetricTracker    | 0     \n",
      "----------------------------------------------------\n",
      "2.1 M     Trainable params\n",
      "0         Non-trainable params\n",
      "2.1 M     Total params\n",
      "8.327     Total estimated model params size (MB)\n"
     ]
    },
    {
     "name": "stdout",
     "output_type": "stream",
     "text": [
      "Architecture [ResNet] was created\n",
      "***Defined hyperparameters:***\n",
      "\"arch\":                {'name': 'resnet18_brew3', 'args': {'num_channels': 1, 'num_classes': 3}}\n",
      "\"checkpoint_path\":     None\n",
      "\"class_weights\":       tensor([1.1847, 0.9251, 0.9303], device='cuda:0')\n",
      "\"hp_metrics\":          ['loss/train', 'loss/val', 'accuracy/val', 'auc/val', 'specificity/val', 'sensitivity/val']\n",
      "\"loss\":                {'type': 'CrossEntropyLoss', 'args': {'weight': True}}\n",
      "\"optimizer\":           {'type': 'Adam', 'args': {'lr': 0.001, 'weight_decay': 0, 'amsgrad': True}}\n",
      "\"roi_hparams\":         {'enable': False, 'output_shape': [3, 3, 3], 'boundary_boxes': []}\n",
      "\"weight_distribution\": normal\n",
      "Enabled callbacks:  ['LitProgressBar', 'EarlyStopping']\n",
      "Dataloader fold: 3\n",
      "Epoch 42 [62/62] {'loss': '1.07'}}\r"
     ]
    },
    {
     "name": "stderr",
     "output_type": "stream",
     "text": [
      "GPU available: True, used: True\n",
      "TPU available: False, using: 0 TPU cores\n",
      "LOCAL_RANK: 0 - CUDA_VISIBLE_DEVICES: [0]\n",
      "\n",
      "  | Name           | Type             | Params\n",
      "----------------------------------------------------\n",
      "0 | model          | ResNet           | 2.1 M \n",
      "1 | criteria       | CrossEntropyLoss | 0     \n",
      "2 | metricsTracker | MetricTracker    | 0     \n",
      "----------------------------------------------------\n",
      "2.1 M     Trainable params\n",
      "0         Non-trainable params\n",
      "2.1 M     Total params\n",
      "8.327     Total estimated model params size (MB)\n"
     ]
    },
    {
     "name": "stdout",
     "output_type": "stream",
     "text": [
      "Architecture [ResNet] was created\n",
      "***Defined hyperparameters:***\n",
      "\"arch\":                {'name': 'resnet18_brew3', 'args': {'num_channels': 1, 'num_classes': 3}}\n",
      "\"checkpoint_path\":     None\n",
      "\"class_weights\":       tensor([1.1847, 0.9251, 0.9303], device='cuda:0')\n",
      "\"hp_metrics\":          ['loss/train', 'loss/val', 'accuracy/val', 'auc/val', 'specificity/val', 'sensitivity/val']\n",
      "\"loss\":                {'type': 'CrossEntropyLoss', 'args': {'weight': True}}\n",
      "\"optimizer\":           {'type': 'Adam', 'args': {'lr': 0.001, 'weight_decay': 0, 'amsgrad': True}}\n",
      "\"roi_hparams\":         {'enable': False, 'output_shape': [3, 3, 3], 'boundary_boxes': []}\n",
      "\"weight_distribution\": normal\n",
      "Enabled callbacks:  ['LitProgressBar', 'EarlyStopping']\n",
      "Dataloader fold: 4\n",
      "Epoch 29 [62/62] {'loss': '1.07'}}\r"
     ]
    },
    {
     "name": "stderr",
     "output_type": "stream",
     "text": [
      "GPU available: True, used: True\n",
      "TPU available: False, using: 0 TPU cores\n",
      "LOCAL_RANK: 0 - CUDA_VISIBLE_DEVICES: [0]\n",
      "\n",
      "  | Name           | Type             | Params\n",
      "----------------------------------------------------\n",
      "0 | model          | ResNet           | 2.1 M \n",
      "1 | criteria       | CrossEntropyLoss | 0     \n",
      "2 | metricsTracker | MetricTracker    | 0     \n",
      "----------------------------------------------------\n",
      "2.1 M     Trainable params\n",
      "0         Non-trainable params\n",
      "2.1 M     Total params\n",
      "8.327     Total estimated model params size (MB)\n"
     ]
    },
    {
     "name": "stdout",
     "output_type": "stream",
     "text": [
      "Architecture [ResNet] was created\n",
      "***Defined hyperparameters:***\n",
      "\"arch\":                {'name': 'resnet18_brew3', 'args': {'num_channels': 1, 'num_classes': 3}}\n",
      "\"checkpoint_path\":     None\n",
      "\"class_weights\":       tensor([1.1847, 0.9251, 0.9303], device='cuda:0')\n",
      "\"hp_metrics\":          ['loss/train', 'loss/val', 'accuracy/val', 'auc/val', 'specificity/val', 'sensitivity/val']\n",
      "\"loss\":                {'type': 'CrossEntropyLoss', 'args': {'weight': True}}\n",
      "\"optimizer\":           {'type': 'Adam', 'args': {'lr': 0.001, 'weight_decay': 0, 'amsgrad': True}}\n",
      "\"roi_hparams\":         {'enable': False, 'output_shape': [3, 3, 3], 'boundary_boxes': []}\n",
      "\"weight_distribution\": normal\n",
      "Enabled callbacks:  ['LitProgressBar', 'EarlyStopping']\n",
      "Dataloader fold: 5\n",
      "Epoch 101 [62/62] {'loss': '0.873'}\r"
     ]
    },
    {
     "name": "stderr",
     "output_type": "stream",
     "text": [
      "GPU available: True, used: True\n",
      "TPU available: False, using: 0 TPU cores\n",
      "Missing logger folder: /var/metrics/codetests/logs/tb/resnet34_brew3/20210502121947\n",
      "LOCAL_RANK: 0 - CUDA_VISIBLE_DEVICES: [0]\n",
      "\n",
      "  | Name           | Type             | Params\n",
      "----------------------------------------------------\n",
      "0 | model          | ResNet           | 4.0 M \n",
      "1 | criteria       | CrossEntropyLoss | 0     \n",
      "2 | metricsTracker | MetricTracker    | 0     \n",
      "----------------------------------------------------\n",
      "4.0 M     Trainable params\n",
      "0         Non-trainable params\n",
      "4.0 M     Total params\n",
      "15.910    Total estimated model params size (MB)\n"
     ]
    },
    {
     "name": "stdout",
     "output_type": "stream",
     "text": [
      "***Defined dataloader:***\n",
      "Data directory: data/SPM_categorised/Amira/\n",
      "Dataset sizes - Training: 494 Validation: 62\n",
      "Seed: 420\n",
      "Augmentation: Enabled\n",
      "KFold: Enabled - Fold: 1/9\n",
      "\n",
      "Architecture [ResNet] was created\n",
      "***Defined hyperparameters:***\n",
      "\"arch\":                {'name': 'resnet34_brew3', 'args': {'num_channels': 1, 'num_classes': 3}}\n",
      "\"checkpoint_path\":     None\n",
      "\"class_weights\":       tensor([1.1847, 0.9251, 0.9303], device='cuda:0')\n",
      "\"hp_metrics\":          ['loss/train', 'loss/val', 'accuracy/val', 'auc/val', 'specificity/val', 'sensitivity/val']\n",
      "\"loss\":                {'type': 'CrossEntropyLoss', 'args': {'weight': True}}\n",
      "\"optimizer\":           {'type': 'Adam', 'args': {'lr': 0.001, 'weight_decay': 0, 'amsgrad': True}}\n",
      "\"roi_hparams\":         {'enable': False, 'output_shape': [3, 3, 3], 'boundary_boxes': []}\n",
      "\"weight_distribution\": normal\n",
      "Enabled callbacks:  ['LitProgressBar', 'EarlyStopping']\n",
      "Dataloader fold: 1\n",
      "Epoch 75 [62/62] {'loss': '0.923'}\r"
     ]
    },
    {
     "name": "stderr",
     "output_type": "stream",
     "text": [
      "GPU available: True, used: True\n",
      "TPU available: False, using: 0 TPU cores\n",
      "LOCAL_RANK: 0 - CUDA_VISIBLE_DEVICES: [0]\n",
      "\n",
      "  | Name           | Type             | Params\n",
      "----------------------------------------------------\n",
      "0 | model          | ResNet           | 4.0 M \n",
      "1 | criteria       | CrossEntropyLoss | 0     \n",
      "2 | metricsTracker | MetricTracker    | 0     \n",
      "----------------------------------------------------\n",
      "4.0 M     Trainable params\n",
      "0         Non-trainable params\n",
      "4.0 M     Total params\n",
      "15.910    Total estimated model params size (MB)\n"
     ]
    },
    {
     "name": "stdout",
     "output_type": "stream",
     "text": [
      "Architecture [ResNet] was created\n",
      "***Defined hyperparameters:***\n",
      "\"arch\":                {'name': 'resnet34_brew3', 'args': {'num_channels': 1, 'num_classes': 3}}\n",
      "\"checkpoint_path\":     None\n",
      "\"class_weights\":       tensor([1.1847, 0.9251, 0.9303], device='cuda:0')\n",
      "\"hp_metrics\":          ['loss/train', 'loss/val', 'accuracy/val', 'auc/val', 'specificity/val', 'sensitivity/val']\n",
      "\"loss\":                {'type': 'CrossEntropyLoss', 'args': {'weight': True}}\n",
      "\"optimizer\":           {'type': 'Adam', 'args': {'lr': 0.001, 'weight_decay': 0, 'amsgrad': True}}\n",
      "\"roi_hparams\":         {'enable': False, 'output_shape': [3, 3, 3], 'boundary_boxes': []}\n",
      "\"weight_distribution\": normal\n",
      "Enabled callbacks:  ['LitProgressBar', 'EarlyStopping']\n",
      "Dataloader fold: 2\n",
      "Epoch 38 [62/62] {'loss': '1.06'}\r"
     ]
    },
    {
     "name": "stderr",
     "output_type": "stream",
     "text": [
      "GPU available: True, used: True\n",
      "TPU available: False, using: 0 TPU cores\n",
      "LOCAL_RANK: 0 - CUDA_VISIBLE_DEVICES: [0]\n",
      "\n",
      "  | Name           | Type             | Params\n",
      "----------------------------------------------------\n",
      "0 | model          | ResNet           | 4.0 M \n",
      "1 | criteria       | CrossEntropyLoss | 0     \n",
      "2 | metricsTracker | MetricTracker    | 0     \n",
      "----------------------------------------------------\n",
      "4.0 M     Trainable params\n",
      "0         Non-trainable params\n",
      "4.0 M     Total params\n",
      "15.910    Total estimated model params size (MB)\n"
     ]
    },
    {
     "name": "stdout",
     "output_type": "stream",
     "text": [
      "Architecture [ResNet] was created\n",
      "***Defined hyperparameters:***\n",
      "\"arch\":                {'name': 'resnet34_brew3', 'args': {'num_channels': 1, 'num_classes': 3}}\n",
      "\"checkpoint_path\":     None\n",
      "\"class_weights\":       tensor([1.1847, 0.9251, 0.9303], device='cuda:0')\n",
      "\"hp_metrics\":          ['loss/train', 'loss/val', 'accuracy/val', 'auc/val', 'specificity/val', 'sensitivity/val']\n",
      "\"loss\":                {'type': 'CrossEntropyLoss', 'args': {'weight': True}}\n",
      "\"optimizer\":           {'type': 'Adam', 'args': {'lr': 0.001, 'weight_decay': 0, 'amsgrad': True}}\n",
      "\"roi_hparams\":         {'enable': False, 'output_shape': [3, 3, 3], 'boundary_boxes': []}\n",
      "\"weight_distribution\": normal\n",
      "Enabled callbacks:  ['LitProgressBar', 'EarlyStopping']\n",
      "Dataloader fold: 3\n",
      "Epoch 64 [62/62] {'loss': '1.07'}}\r"
     ]
    },
    {
     "name": "stderr",
     "output_type": "stream",
     "text": [
      "GPU available: True, used: True\n",
      "TPU available: False, using: 0 TPU cores\n",
      "LOCAL_RANK: 0 - CUDA_VISIBLE_DEVICES: [0]\n",
      "\n",
      "  | Name           | Type             | Params\n",
      "----------------------------------------------------\n",
      "0 | model          | ResNet           | 4.0 M \n",
      "1 | criteria       | CrossEntropyLoss | 0     \n",
      "2 | metricsTracker | MetricTracker    | 0     \n",
      "----------------------------------------------------\n",
      "4.0 M     Trainable params\n",
      "0         Non-trainable params\n",
      "4.0 M     Total params\n",
      "15.910    Total estimated model params size (MB)\n"
     ]
    },
    {
     "name": "stdout",
     "output_type": "stream",
     "text": [
      "Architecture [ResNet] was created\n",
      "***Defined hyperparameters:***\n",
      "\"arch\":                {'name': 'resnet34_brew3', 'args': {'num_channels': 1, 'num_classes': 3}}\n",
      "\"checkpoint_path\":     None\n",
      "\"class_weights\":       tensor([1.1847, 0.9251, 0.9303], device='cuda:0')\n",
      "\"hp_metrics\":          ['loss/train', 'loss/val', 'accuracy/val', 'auc/val', 'specificity/val', 'sensitivity/val']\n",
      "\"loss\":                {'type': 'CrossEntropyLoss', 'args': {'weight': True}}\n",
      "\"optimizer\":           {'type': 'Adam', 'args': {'lr': 0.001, 'weight_decay': 0, 'amsgrad': True}}\n",
      "\"roi_hparams\":         {'enable': False, 'output_shape': [3, 3, 3], 'boundary_boxes': []}\n",
      "\"weight_distribution\": normal\n",
      "Enabled callbacks:  ['LitProgressBar', 'EarlyStopping']\n",
      "Dataloader fold: 4\n",
      "Epoch 39 [62/62] {'loss': '1.05'}\r"
     ]
    },
    {
     "name": "stderr",
     "output_type": "stream",
     "text": [
      "GPU available: True, used: True\n",
      "TPU available: False, using: 0 TPU cores\n",
      "LOCAL_RANK: 0 - CUDA_VISIBLE_DEVICES: [0]\n",
      "\n",
      "  | Name           | Type             | Params\n",
      "----------------------------------------------------\n",
      "0 | model          | ResNet           | 4.0 M \n",
      "1 | criteria       | CrossEntropyLoss | 0     \n",
      "2 | metricsTracker | MetricTracker    | 0     \n",
      "----------------------------------------------------\n",
      "4.0 M     Trainable params\n",
      "0         Non-trainable params\n",
      "4.0 M     Total params\n",
      "15.910    Total estimated model params size (MB)\n"
     ]
    },
    {
     "name": "stdout",
     "output_type": "stream",
     "text": [
      "Architecture [ResNet] was created\n",
      "***Defined hyperparameters:***\n",
      "\"arch\":                {'name': 'resnet34_brew3', 'args': {'num_channels': 1, 'num_classes': 3}}\n",
      "\"checkpoint_path\":     None\n",
      "\"class_weights\":       tensor([1.1847, 0.9251, 0.9303], device='cuda:0')\n",
      "\"hp_metrics\":          ['loss/train', 'loss/val', 'accuracy/val', 'auc/val', 'specificity/val', 'sensitivity/val']\n",
      "\"loss\":                {'type': 'CrossEntropyLoss', 'args': {'weight': True}}\n",
      "\"optimizer\":           {'type': 'Adam', 'args': {'lr': 0.001, 'weight_decay': 0, 'amsgrad': True}}\n",
      "\"roi_hparams\":         {'enable': False, 'output_shape': [3, 3, 3], 'boundary_boxes': []}\n",
      "\"weight_distribution\": normal\n",
      "Enabled callbacks:  ['LitProgressBar', 'EarlyStopping']\n",
      "Dataloader fold: 5\n",
      "Epoch 107 [62/62] {'loss': '0.898'}\r"
     ]
    },
    {
     "name": "stderr",
     "output_type": "stream",
     "text": [
      "GPU available: True, used: True\n",
      "TPU available: False, using: 0 TPU cores\n",
      "Missing logger folder: /var/metrics/codetests/logs/tb/resnet50_brew3/20210502142319\n",
      "LOCAL_RANK: 0 - CUDA_VISIBLE_DEVICES: [0]\n",
      "\n",
      "  | Name           | Type             | Params\n",
      "----------------------------------------------------\n",
      "0 | model          | ResNet           | 2.9 M \n",
      "1 | criteria       | CrossEntropyLoss | 0     \n",
      "2 | metricsTracker | MetricTracker    | 0     \n",
      "----------------------------------------------------\n",
      "2.9 M     Trainable params\n",
      "0         Non-trainable params\n",
      "2.9 M     Total params\n",
      "11.588    Total estimated model params size (MB)\n"
     ]
    },
    {
     "name": "stdout",
     "output_type": "stream",
     "text": [
      "***Defined dataloader:***\n",
      "Data directory: data/SPM_categorised/Amira/\n",
      "Dataset sizes - Training: 494 Validation: 62\n",
      "Seed: 420\n",
      "Augmentation: Enabled\n",
      "KFold: Enabled - Fold: 1/9\n",
      "\n",
      "Architecture [ResNet] was created\n",
      "***Defined hyperparameters:***\n",
      "\"arch\":                {'name': 'resnet50_brew3', 'args': {'num_channels': 1, 'num_classes': 3}}\n",
      "\"checkpoint_path\":     None\n",
      "\"class_weights\":       tensor([1.1847, 0.9251, 0.9303], device='cuda:0')\n",
      "\"hp_metrics\":          ['loss/train', 'loss/val', 'accuracy/val', 'auc/val', 'specificity/val', 'sensitivity/val']\n",
      "\"loss\":                {'type': 'CrossEntropyLoss', 'args': {'weight': True}}\n",
      "\"optimizer\":           {'type': 'Adam', 'args': {'lr': 0.001, 'weight_decay': 0, 'amsgrad': True}}\n",
      "\"roi_hparams\":         {'enable': False, 'output_shape': [3, 3, 3], 'boundary_boxes': []}\n",
      "\"weight_distribution\": normal\n",
      "Enabled callbacks:  ['LitProgressBar', 'EarlyStopping']\n",
      "Dataloader fold: 1\n",
      "Epoch 50 [62/62] {'loss': '1.05'}}\r"
     ]
    },
    {
     "name": "stderr",
     "output_type": "stream",
     "text": [
      "GPU available: True, used: True\n",
      "TPU available: False, using: 0 TPU cores\n",
      "LOCAL_RANK: 0 - CUDA_VISIBLE_DEVICES: [0]\n",
      "\n",
      "  | Name           | Type             | Params\n",
      "----------------------------------------------------\n",
      "0 | model          | ResNet           | 2.9 M \n",
      "1 | criteria       | CrossEntropyLoss | 0     \n",
      "2 | metricsTracker | MetricTracker    | 0     \n",
      "----------------------------------------------------\n",
      "2.9 M     Trainable params\n",
      "0         Non-trainable params\n",
      "2.9 M     Total params\n",
      "11.588    Total estimated model params size (MB)\n"
     ]
    },
    {
     "name": "stdout",
     "output_type": "stream",
     "text": [
      "Architecture [ResNet] was created\n",
      "***Defined hyperparameters:***\n",
      "\"arch\":                {'name': 'resnet50_brew3', 'args': {'num_channels': 1, 'num_classes': 3}}\n",
      "\"checkpoint_path\":     None\n",
      "\"class_weights\":       tensor([1.1847, 0.9251, 0.9303], device='cuda:0')\n",
      "\"hp_metrics\":          ['loss/train', 'loss/val', 'accuracy/val', 'auc/val', 'specificity/val', 'sensitivity/val']\n",
      "\"loss\":                {'type': 'CrossEntropyLoss', 'args': {'weight': True}}\n",
      "\"optimizer\":           {'type': 'Adam', 'args': {'lr': 0.001, 'weight_decay': 0, 'amsgrad': True}}\n",
      "\"roi_hparams\":         {'enable': False, 'output_shape': [3, 3, 3], 'boundary_boxes': []}\n",
      "\"weight_distribution\": normal\n",
      "Enabled callbacks:  ['LitProgressBar', 'EarlyStopping']\n",
      "Dataloader fold: 2\n",
      "Epoch 45 [62/62] {'loss': '1.07'}\r"
     ]
    },
    {
     "name": "stderr",
     "output_type": "stream",
     "text": [
      "GPU available: True, used: True\n",
      "TPU available: False, using: 0 TPU cores\n",
      "LOCAL_RANK: 0 - CUDA_VISIBLE_DEVICES: [0]\n",
      "\n",
      "  | Name           | Type             | Params\n",
      "----------------------------------------------------\n",
      "0 | model          | ResNet           | 2.9 M \n",
      "1 | criteria       | CrossEntropyLoss | 0     \n",
      "2 | metricsTracker | MetricTracker    | 0     \n",
      "----------------------------------------------------\n",
      "2.9 M     Trainable params\n",
      "0         Non-trainable params\n",
      "2.9 M     Total params\n",
      "11.588    Total estimated model params size (MB)\n"
     ]
    },
    {
     "name": "stdout",
     "output_type": "stream",
     "text": [
      "Architecture [ResNet] was created\n",
      "***Defined hyperparameters:***\n",
      "\"arch\":                {'name': 'resnet50_brew3', 'args': {'num_channels': 1, 'num_classes': 3}}\n",
      "\"checkpoint_path\":     None\n",
      "\"class_weights\":       tensor([1.1847, 0.9251, 0.9303], device='cuda:0')\n",
      "\"hp_metrics\":          ['loss/train', 'loss/val', 'accuracy/val', 'auc/val', 'specificity/val', 'sensitivity/val']\n",
      "\"loss\":                {'type': 'CrossEntropyLoss', 'args': {'weight': True}}\n",
      "\"optimizer\":           {'type': 'Adam', 'args': {'lr': 0.001, 'weight_decay': 0, 'amsgrad': True}}\n",
      "\"roi_hparams\":         {'enable': False, 'output_shape': [3, 3, 3], 'boundary_boxes': []}\n",
      "\"weight_distribution\": normal\n",
      "Enabled callbacks:  ['LitProgressBar', 'EarlyStopping']\n",
      "Dataloader fold: 3\n",
      "Epoch 57 [62/62] {'loss': '1.05'}}\r"
     ]
    },
    {
     "name": "stderr",
     "output_type": "stream",
     "text": [
      "GPU available: True, used: True\n",
      "TPU available: False, using: 0 TPU cores\n",
      "LOCAL_RANK: 0 - CUDA_VISIBLE_DEVICES: [0]\n",
      "\n",
      "  | Name           | Type             | Params\n",
      "----------------------------------------------------\n",
      "0 | model          | ResNet           | 2.9 M \n",
      "1 | criteria       | CrossEntropyLoss | 0     \n",
      "2 | metricsTracker | MetricTracker    | 0     \n",
      "----------------------------------------------------\n",
      "2.9 M     Trainable params\n",
      "0         Non-trainable params\n",
      "2.9 M     Total params\n",
      "11.588    Total estimated model params size (MB)\n"
     ]
    },
    {
     "name": "stdout",
     "output_type": "stream",
     "text": [
      "Architecture [ResNet] was created\n",
      "***Defined hyperparameters:***\n",
      "\"arch\":                {'name': 'resnet50_brew3', 'args': {'num_channels': 1, 'num_classes': 3}}\n",
      "\"checkpoint_path\":     None\n",
      "\"class_weights\":       tensor([1.1847, 0.9251, 0.9303], device='cuda:0')\n",
      "\"hp_metrics\":          ['loss/train', 'loss/val', 'accuracy/val', 'auc/val', 'specificity/val', 'sensitivity/val']\n",
      "\"loss\":                {'type': 'CrossEntropyLoss', 'args': {'weight': True}}\n",
      "\"optimizer\":           {'type': 'Adam', 'args': {'lr': 0.001, 'weight_decay': 0, 'amsgrad': True}}\n",
      "\"roi_hparams\":         {'enable': False, 'output_shape': [3, 3, 3], 'boundary_boxes': []}\n",
      "\"weight_distribution\": normal\n",
      "Enabled callbacks:  ['LitProgressBar', 'EarlyStopping']\n",
      "Dataloader fold: 4\n",
      "Epoch 35 [62/62] {'loss': '1.1'}}\r"
     ]
    },
    {
     "name": "stderr",
     "output_type": "stream",
     "text": [
      "GPU available: True, used: True\n",
      "TPU available: False, using: 0 TPU cores\n",
      "LOCAL_RANK: 0 - CUDA_VISIBLE_DEVICES: [0]\n",
      "\n",
      "  | Name           | Type             | Params\n",
      "----------------------------------------------------\n",
      "0 | model          | ResNet           | 2.9 M \n",
      "1 | criteria       | CrossEntropyLoss | 0     \n",
      "2 | metricsTracker | MetricTracker    | 0     \n",
      "----------------------------------------------------\n",
      "2.9 M     Trainable params\n",
      "0         Non-trainable params\n",
      "2.9 M     Total params\n",
      "11.588    Total estimated model params size (MB)\n"
     ]
    },
    {
     "name": "stdout",
     "output_type": "stream",
     "text": [
      "Architecture [ResNet] was created\n",
      "***Defined hyperparameters:***\n",
      "\"arch\":                {'name': 'resnet50_brew3', 'args': {'num_channels': 1, 'num_classes': 3}}\n",
      "\"checkpoint_path\":     None\n",
      "\"class_weights\":       tensor([1.1847, 0.9251, 0.9303], device='cuda:0')\n",
      "\"hp_metrics\":          ['loss/train', 'loss/val', 'accuracy/val', 'auc/val', 'specificity/val', 'sensitivity/val']\n",
      "\"loss\":                {'type': 'CrossEntropyLoss', 'args': {'weight': True}}\n",
      "\"optimizer\":           {'type': 'Adam', 'args': {'lr': 0.001, 'weight_decay': 0, 'amsgrad': True}}\n",
      "\"roi_hparams\":         {'enable': False, 'output_shape': [3, 3, 3], 'boundary_boxes': []}\n",
      "\"weight_distribution\": normal\n",
      "Enabled callbacks:  ['LitProgressBar', 'EarlyStopping']\n",
      "Dataloader fold: 5\n",
      "Epoch 40 [62/62] {'loss': '1.05'}\r"
     ]
    }
   ],
   "source": [
    "models = ['resnet18_brew3','resnet34_brew3','resnet50_brew3']\n",
    "for name in models:\n",
    "    run_me(name, base_config='base2')"
   ]
  },
  {
   "cell_type": "code",
   "execution_count": null,
   "id": "787dd7ee-6b5b-423f-9397-e1b3d42d48bf",
   "metadata": {
    "collapsed": true,
    "jupyter": {
     "outputs_hidden": true
    },
    "tags": []
   },
   "outputs": [
    {
     "name": "stderr",
     "output_type": "stream",
     "text": [
      "GPU available: True, used: True\n",
      "TPU available: False, using: 0 TPU cores\n",
      "Missing logger folder: /var/metrics/codetests/logs/tb/resnet18_brew2/20210503020158\n",
      "LOCAL_RANK: 0 - CUDA_VISIBLE_DEVICES: [0]\n",
      "\n",
      "  | Name           | Type             | Params\n",
      "----------------------------------------------------\n",
      "0 | model          | ResNet           | 8.3 M \n",
      "1 | criteria       | CrossEntropyLoss | 0     \n",
      "2 | metricsTracker | MetricTracker    | 0     \n",
      "----------------------------------------------------\n",
      "8.3 M     Trainable params\n",
      "0         Non-trainable params\n",
      "8.3 M     Total params\n",
      "33.154    Total estimated model params size (MB)\n"
     ]
    },
    {
     "name": "stdout",
     "output_type": "stream",
     "text": [
      "***Defined dataloader:***\n",
      "Data directory: data/SPM_categorised/Amira/\n",
      "Dataset sizes - Training: 494 Validation: 62\n",
      "Seed: 420\n",
      "Augmentation: Enabled\n",
      "KFold: Enabled - Fold: 1/9\n",
      "\n",
      "Architecture [ResNet] was created\n",
      "***Defined hyperparameters:***\n",
      "\"arch\":                {'name': 'resnet18_brew2', 'args': {'num_channels': 1, 'num_classes': 3}}\n",
      "\"checkpoint_path\":     None\n",
      "\"class_weights\":       tensor([1.1847, 0.9251, 0.9303], device='cuda:0')\n",
      "\"hp_metrics\":          ['loss/train', 'loss/val', 'accuracy/val', 'auc/val', 'specificity/val', 'sensitivity/val']\n",
      "\"loss\":                {'type': 'CrossEntropyLoss', 'args': {'weight': True}}\n",
      "\"optimizer\":           {'type': 'Adam', 'args': {'lr': 0.0001, 'weight_decay': 0, 'amsgrad': True}}\n",
      "\"roi_hparams\":         {'enable': False, 'output_shape': [3, 3, 3], 'boundary_boxes': []}\n",
      "\"weight_distribution\": normal\n",
      "Enabled callbacks:  ['LitProgressBar', 'EarlyStopping']\n",
      "Dataloader fold: 1\n",
      "Epoch 43 [62/62] {'loss': '0.965'}\r"
     ]
    },
    {
     "name": "stderr",
     "output_type": "stream",
     "text": [
      "GPU available: True, used: True\n",
      "TPU available: False, using: 0 TPU cores\n",
      "LOCAL_RANK: 0 - CUDA_VISIBLE_DEVICES: [0]\n",
      "\n",
      "  | Name           | Type             | Params\n",
      "----------------------------------------------------\n",
      "0 | model          | ResNet           | 8.3 M \n",
      "1 | criteria       | CrossEntropyLoss | 0     \n",
      "2 | metricsTracker | MetricTracker    | 0     \n",
      "----------------------------------------------------\n",
      "8.3 M     Trainable params\n",
      "0         Non-trainable params\n",
      "8.3 M     Total params\n",
      "33.154    Total estimated model params size (MB)\n"
     ]
    },
    {
     "name": "stdout",
     "output_type": "stream",
     "text": [
      "Architecture [ResNet] was created\n",
      "***Defined hyperparameters:***\n",
      "\"arch\":                {'name': 'resnet18_brew2', 'args': {'num_channels': 1, 'num_classes': 3}}\n",
      "\"checkpoint_path\":     None\n",
      "\"class_weights\":       tensor([1.1847, 0.9251, 0.9303], device='cuda:0')\n",
      "\"hp_metrics\":          ['loss/train', 'loss/val', 'accuracy/val', 'auc/val', 'specificity/val', 'sensitivity/val']\n",
      "\"loss\":                {'type': 'CrossEntropyLoss', 'args': {'weight': True}}\n",
      "\"optimizer\":           {'type': 'Adam', 'args': {'lr': 0.0001, 'weight_decay': 0, 'amsgrad': True}}\n",
      "\"roi_hparams\":         {'enable': False, 'output_shape': [3, 3, 3], 'boundary_boxes': []}\n",
      "\"weight_distribution\": normal\n",
      "Enabled callbacks:  ['LitProgressBar', 'EarlyStopping']\n",
      "Dataloader fold: 2\n",
      "***Defined dataloader:***: '0.72'}}\n",
      "Data directory: data/SPM_categorised/Amira/\n",
      "Dataset sizes - Training: 494 Validation: 62\n",
      "Seed: 420\n",
      "Augmentation: Enabled\n",
      "KFold: Enabled - Fold: 1/9\n",
      "\n"
     ]
    },
    {
     "name": "stderr",
     "output_type": "stream",
     "text": [
      "GPU available: True, used: True\n",
      "TPU available: False, using: 0 TPU cores\n",
      "Missing logger folder: /var/metrics/codetests/logs/tb/resnet34_brew2/20210503030804\n",
      "LOCAL_RANK: 0 - CUDA_VISIBLE_DEVICES: [0]\n",
      "\n",
      "  | Name           | Type             | Params\n",
      "----------------------------------------------------\n",
      "0 | model          | ResNet           | 15.9 M\n",
      "1 | criteria       | CrossEntropyLoss | 0     \n",
      "2 | metricsTracker | MetricTracker    | 0     \n",
      "----------------------------------------------------\n",
      "15.9 M    Trainable params\n",
      "0         Non-trainable params\n",
      "15.9 M    Total params\n",
      "63.471    Total estimated model params size (MB)\n"
     ]
    },
    {
     "name": "stdout",
     "output_type": "stream",
     "text": [
      "Architecture [ResNet] was created\n",
      "***Defined hyperparameters:***\n",
      "\"arch\":                {'name': 'resnet34_brew2', 'args': {'num_channels': 1, 'num_classes': 3}}\n",
      "\"checkpoint_path\":     None\n",
      "\"class_weights\":       tensor([1.1847, 0.9251, 0.9303], device='cuda:0')\n",
      "\"hp_metrics\":          ['loss/train', 'loss/val', 'accuracy/val', 'auc/val', 'specificity/val', 'sensitivity/val']\n",
      "\"loss\":                {'type': 'CrossEntropyLoss', 'args': {'weight': True}}\n",
      "\"optimizer\":           {'type': 'Adam', 'args': {'lr': 0.0001, 'weight_decay': 0, 'amsgrad': True}}\n",
      "\"roi_hparams\":         {'enable': False, 'output_shape': [3, 3, 3], 'boundary_boxes': []}\n",
      "\"weight_distribution\": normal\n",
      "Enabled callbacks:  ['LitProgressBar', 'EarlyStopping']\n",
      "Dataloader fold: 1\n",
      "Epoch 43 [62/62] {'loss': '1.03'}}\r"
     ]
    },
    {
     "name": "stderr",
     "output_type": "stream",
     "text": [
      "GPU available: True, used: True\n",
      "TPU available: False, using: 0 TPU cores\n",
      "LOCAL_RANK: 0 - CUDA_VISIBLE_DEVICES: [0]\n",
      "\n",
      "  | Name           | Type             | Params\n",
      "----------------------------------------------------\n",
      "0 | model          | ResNet           | 15.9 M\n",
      "1 | criteria       | CrossEntropyLoss | 0     \n",
      "2 | metricsTracker | MetricTracker    | 0     \n",
      "----------------------------------------------------\n",
      "15.9 M    Trainable params\n",
      "0         Non-trainable params\n",
      "15.9 M    Total params\n",
      "63.471    Total estimated model params size (MB)\n"
     ]
    },
    {
     "name": "stdout",
     "output_type": "stream",
     "text": [
      "Architecture [ResNet] was created\n",
      "***Defined hyperparameters:***\n",
      "\"arch\":                {'name': 'resnet34_brew2', 'args': {'num_channels': 1, 'num_classes': 3}}\n",
      "\"checkpoint_path\":     None\n",
      "\"class_weights\":       tensor([1.1847, 0.9251, 0.9303], device='cuda:0')\n",
      "\"hp_metrics\":          ['loss/train', 'loss/val', 'accuracy/val', 'auc/val', 'specificity/val', 'sensitivity/val']\n",
      "\"loss\":                {'type': 'CrossEntropyLoss', 'args': {'weight': True}}\n",
      "\"optimizer\":           {'type': 'Adam', 'args': {'lr': 0.0001, 'weight_decay': 0, 'amsgrad': True}}\n",
      "\"roi_hparams\":         {'enable': False, 'output_shape': [3, 3, 3], 'boundary_boxes': []}\n",
      "\"weight_distribution\": normal\n",
      "Enabled callbacks:  ['LitProgressBar', 'EarlyStopping']\n",
      "Dataloader fold: 2\n",
      "***Defined dataloader:*** '0.786'}\n",
      "Data directory: data/SPM_categorised/Amira/\n",
      "Dataset sizes - Training: 494 Validation: 62\n",
      "Seed: 420\n",
      "Augmentation: Enabled\n",
      "KFold: Enabled - Fold: 1/9\n",
      "\n"
     ]
    },
    {
     "name": "stderr",
     "output_type": "stream",
     "text": [
      "GPU available: True, used: True\n",
      "TPU available: False, using: 0 TPU cores\n",
      "Missing logger folder: /var/metrics/codetests/logs/tb/resnet50_brew2/20210503042353\n",
      "LOCAL_RANK: 0 - CUDA_VISIBLE_DEVICES: [0]\n",
      "\n",
      "  | Name           | Type             | Params\n",
      "----------------------------------------------------\n",
      "0 | model          | ResNet           | 11.6 M\n",
      "1 | criteria       | CrossEntropyLoss | 0     \n",
      "2 | metricsTracker | MetricTracker    | 0     \n",
      "----------------------------------------------------\n",
      "11.6 M    Trainable params\n",
      "0         Non-trainable params\n",
      "11.6 M    Total params\n",
      "46.202    Total estimated model params size (MB)\n"
     ]
    },
    {
     "name": "stdout",
     "output_type": "stream",
     "text": [
      "Architecture [ResNet] was created\n",
      "***Defined hyperparameters:***\n",
      "\"arch\":                {'name': 'resnet50_brew2', 'args': {'num_channels': 1, 'num_classes': 3}}\n",
      "\"checkpoint_path\":     None\n",
      "\"class_weights\":       tensor([1.1847, 0.9251, 0.9303], device='cuda:0')\n",
      "\"hp_metrics\":          ['loss/train', 'loss/val', 'accuracy/val', 'auc/val', 'specificity/val', 'sensitivity/val']\n",
      "\"loss\":                {'type': 'CrossEntropyLoss', 'args': {'weight': True}}\n",
      "\"optimizer\":           {'type': 'Adam', 'args': {'lr': 0.0001, 'weight_decay': 0, 'amsgrad': True}}\n",
      "\"roi_hparams\":         {'enable': False, 'output_shape': [3, 3, 3], 'boundary_boxes': []}\n",
      "\"weight_distribution\": normal\n",
      "Enabled callbacks:  ['LitProgressBar', 'EarlyStopping']\n",
      "Dataloader fold: 1\n",
      "Epoch 64 [62/62] {'loss': '0.806'}\r"
     ]
    },
    {
     "name": "stderr",
     "output_type": "stream",
     "text": [
      "GPU available: True, used: True\n",
      "TPU available: False, using: 0 TPU cores\n",
      "LOCAL_RANK: 0 - CUDA_VISIBLE_DEVICES: [0]\n",
      "\n",
      "  | Name           | Type             | Params\n",
      "----------------------------------------------------\n",
      "0 | model          | ResNet           | 11.6 M\n",
      "1 | criteria       | CrossEntropyLoss | 0     \n",
      "2 | metricsTracker | MetricTracker    | 0     \n",
      "----------------------------------------------------\n",
      "11.6 M    Trainable params\n",
      "0         Non-trainable params\n",
      "11.6 M    Total params\n",
      "46.202    Total estimated model params size (MB)\n"
     ]
    },
    {
     "name": "stdout",
     "output_type": "stream",
     "text": [
      "Architecture [ResNet] was created\n",
      "***Defined hyperparameters:***\n",
      "\"arch\":                {'name': 'resnet50_brew2', 'args': {'num_channels': 1, 'num_classes': 3}}\n",
      "\"checkpoint_path\":     None\n",
      "\"class_weights\":       tensor([1.1847, 0.9251, 0.9303], device='cuda:0')\n",
      "\"hp_metrics\":          ['loss/train', 'loss/val', 'accuracy/val', 'auc/val', 'specificity/val', 'sensitivity/val']\n",
      "\"loss\":                {'type': 'CrossEntropyLoss', 'args': {'weight': True}}\n",
      "\"optimizer\":           {'type': 'Adam', 'args': {'lr': 0.0001, 'weight_decay': 0, 'amsgrad': True}}\n",
      "\"roi_hparams\":         {'enable': False, 'output_shape': [3, 3, 3], 'boundary_boxes': []}\n",
      "\"weight_distribution\": normal\n",
      "Enabled callbacks:  ['LitProgressBar', 'EarlyStopping']\n",
      "Dataloader fold: 2\n",
      "Epoch 26 [45/62] {'loss': '1.07'}\r"
     ]
    }
   ],
   "source": [
    "models = ['resnet18_brew2','resnet34_brew2','resnet50_brew2','vgg11_brew2','vgg11_brew3', 'vgg11_brew4']\n",
    "for name in models:\n",
    "    run_me(name, base_config='base', i_limit=2)"
   ]
  },
  {
   "cell_type": "code",
   "execution_count": null,
   "id": "3158f4f1-93bf-423e-987e-cd628adc7135",
   "metadata": {},
   "outputs": [],
   "source": []
  }
 ],
 "metadata": {
  "kernelspec": {
   "display_name": "Master-thesis",
   "language": "python",
   "name": "master-thesis"
  },
  "language_info": {
   "codemirror_mode": {
    "name": "ipython",
    "version": 3
   },
   "file_extension": ".py",
   "mimetype": "text/x-python",
   "name": "python",
   "nbconvert_exporter": "python",
   "pygments_lexer": "ipython3",
   "version": "3.9.2"
  },
  "widgets": {
   "application/vnd.jupyter.widget-state+json": {
    "state": {},
    "version_major": 2,
    "version_minor": 0
   }
  }
 },
 "nbformat": 4,
 "nbformat_minor": 5
}
