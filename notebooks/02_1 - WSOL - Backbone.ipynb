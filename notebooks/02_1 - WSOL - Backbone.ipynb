{
 "cells": [
  {
   "cell_type": "markdown",
   "id": "2fdec1ab-cf01-45a6-9b4c-843678762567",
   "metadata": {},
   "source": [
    "# WSOL - Backbone Network\n",
    "---"
   ]
  },
  {
   "cell_type": "code",
   "execution_count": null,
   "id": "arranged-andrews",
   "metadata": {},
   "outputs": [],
   "source": [
    "%load_ext autoreload\n",
    "%autoreload 2\n",
    "import sys\n",
    "if '..' not in sys.path: sys.path.append(\"..\")"
   ]
  },
  {
   "cell_type": "code",
   "execution_count": null,
   "id": "assured-diesel",
   "metadata": {},
   "outputs": [],
   "source": [
    "import time\n",
    "from src.classifier.agent import Agent\n",
    "from src.utils.utils import create_directory\n",
    "from src.utils.decorator import close_on_finish_decorator"
   ]
  },
  {
   "cell_type": "code",
   "execution_count": null,
   "id": "realistic-proposition",
   "metadata": {},
   "outputs": [],
   "source": [
    "import torch\n",
    "def run_me(name,i_limit=5,base_config='base'):\n",
    "    torch.cuda.empty_cache()\n",
    "    agent = Agent(name, base_config=base_config)\n",
    "    logged_metrics = []\n",
    "    \n",
    "    agent.load_model() \n",
    "    agent.load_trainer()\n",
    "    print(f\"{agent.trainer.logger.log_dir.rsplit('/',1)[0]}/\")\n",
    "    create_directory(f\"{agent.trainer.logger.log_dir.rsplit('/',1)[0]}/\") \n",
    "    with open(f\"{agent.trainer.logger.log_dir.rsplit('/',1)[0]}/hparams.json\", \"w\") as write_file:\n",
    "        json.dump(agent._config, write_file, indent = 6)\n",
    "            \n",
    "    try:\n",
    "        i = 0\n",
    "        while True:\n",
    "            agent.load_model() \n",
    "            agent.load_trainer()\n",
    "            print(f\"Dataloader fold: {agent.dataloader.kfold_index}\")\n",
    "            close_on_finish_decorator(agent.trainer.fit, agent.trainer.logger.log_dir, agent.model, datamodule=agent.dataloader, message=agent._config) \n",
    "            \n",
    "            with open(agent.trainer.logger.log_dir.rsplit(\"/\",1)[0] + \"/logged_metrics\", 'a+') as f:\n",
    "                f.write(str(agent.trainer.logged_metrics))\n",
    "                \n",
    "            logged_metrics.append(agent.trainer.logged_metrics)\n",
    "            time.sleep(10)\n",
    "            i += 1\n",
    "            #del tr\n",
    "\n",
    "            \n",
    "            if not agent.dataloader.next_fold() or i == i_limit and i_limit != -1: break\n",
    "            torch.cuda.empty_cache()\n",
    "    except Exception as e:\n",
    "        torch.cuda.empty_cache()\n",
    "        raise e\n",
    "    print(f\"{name}: {logged_metrics}\")"
   ]
  },
  {
   "cell_type": "code",
   "execution_count": null,
   "id": "collective-kingston",
   "metadata": {
    "tags": []
   },
   "outputs": [],
   "source": [
    "models = [\"customCNN\", \"resnet18_brew2\",\"vgg11_brew\",\"vgg16\",\"resnet50\"]\n",
    "for name in models:\n",
    "    run_me(name, base_config='base',i_limit=-1)"
   ]
  },
  {
   "cell_type": "code",
   "execution_count": null,
   "id": "c4cd94c1-a1e4-455f-aa2f-498596d4c4c4",
   "metadata": {},
   "outputs": [],
   "source": [
    "models = [\"customCNN\", \"resnet18_brew2\",\"vgg11_brew\",\"vgg16\",\"resnet50\"]\n",
    "for name in models:\n",
    "    run_me(name, base_config='augmented',i_limit=-1)"
   ]
  },
  {
   "cell_type": "code",
   "execution_count": null,
   "id": "01dea75f-4a94-49b9-9fd3-a0bafb83dc90",
   "metadata": {},
   "outputs": [],
   "source": [
    "models = [\"customCNN\", \"resnet18_brew2\",\"vgg11_brew\",\"vgg16\",\"resnet50\"]\n",
    "for name in models:\n",
    "    run_me(name, base_config='no_augmented',i_limit=-1)"
   ]
  }
 ],
 "metadata": {
  "kernelspec": {
   "display_name": "Master-thesis",
   "language": "python",
   "name": "master-thesis"
  },
  "language_info": {
   "codemirror_mode": {
    "name": "ipython",
    "version": 3
   },
   "file_extension": ".py",
   "mimetype": "text/x-python",
   "name": "python",
   "nbconvert_exporter": "python",
   "pygments_lexer": "ipython3",
   "version": "3.9.2"
  },
  "widgets": {
   "application/vnd.jupyter.widget-state+json": {
    "state": {},
    "version_major": 2,
    "version_minor": 0
   }
  }
 },
 "nbformat": 4,
 "nbformat_minor": 5
}
