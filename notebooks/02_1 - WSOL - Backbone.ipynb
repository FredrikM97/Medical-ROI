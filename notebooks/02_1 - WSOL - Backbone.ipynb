{
 "cells": [
  {
   "cell_type": "code",
   "execution_count": 8,
   "id": "arranged-andrews",
   "metadata": {},
   "outputs": [
    {
     "name": "stdout",
     "output_type": "stream",
     "text": [
      "The autoreload extension is already loaded. To reload it, use:\n",
      "  %reload_ext autoreload\n"
     ]
    }
   ],
   "source": [
    "%load_ext autoreload\n",
    "%autoreload 2\n",
    "import sys\n",
    "if '..' not in sys.path: sys.path.append(\"..\")"
   ]
  },
  {
   "cell_type": "code",
   "execution_count": 14,
   "id": "assured-diesel",
   "metadata": {},
   "outputs": [],
   "source": [
    "import time\n",
    "import torch\n",
    "from src.agent import Agent\n",
    "from src.files.file import create_directory\n",
    "from src.utils.decorator import close_on_finish_decorator"
   ]
  },
  {
   "cell_type": "code",
   "execution_count": 15,
   "id": "e9d97db5-fd27-4280-873d-f548ab2fb47b",
   "metadata": {},
   "outputs": [],
   "source": [
    "import logging\n",
    "# configure logging at the root level of lightning\n",
    "logging.getLogger(\"pytorch_lightning\").setLevel(logging.ERROR)"
   ]
  },
  {
   "cell_type": "code",
   "execution_count": 16,
   "id": "realistic-proposition",
   "metadata": {},
   "outputs": [],
   "source": [
    "def run_me(name,i_limit=5,base_config='base'):\n",
    "    torch.cuda.empty_cache()\n",
    "    agent = Agent(name, base_config=base_config)\n",
    "    logged_metrics = []\n",
    "    \n",
    "    try:\n",
    "        i = 0\n",
    "        while True:\n",
    "            print(f\"Running model: {name}, Iteration: {i:2}/{i_limit if i_limit != -1 else agent._config['dataloader']['args']['split']['folds']:2}, date: {agent.creation_date}\")\n",
    "            agent.run()\n",
    "            agent.save_hparams()\n",
    "            with open(agent.trainer.logger.log_dir.rsplit(\"/\",1)[0] + \"/logged_metrics\", 'a+') as f:\n",
    "                f.write(str(agent.trainer.logged_metrics))\n",
    "                \n",
    "            logged_metrics.append(agent.trainer.logged_metrics)\n",
    "            \n",
    "            \n",
    "            time.sleep(10)\n",
    "            i += 1\n",
    "\n",
    "            if not agent.dataloader.next_fold() or i == i_limit and i_limit != -1: break\n",
    "            torch.cuda.empty_cache()\n",
    "    except Exception as e:\n",
    "        torch.cuda.empty_cache()\n",
    "        raise e\n",
    "    print(f\"{name}: {logged_metrics}\")"
   ]
  },
  {
   "cell_type": "code",
   "execution_count": null,
   "id": "e650ef5a-5156-482e-8c79-c3957d15b311",
   "metadata": {},
   "outputs": [
    {
     "name": "stdout",
     "output_type": "stream",
     "text": [
      "Running model: debug, Iteration:  0/10, date: 20210618205727\n",
      "Running model: debug, Iteration:  1/10, date: 20210618205727\n",
      "Running model: debug, Iteration:  2/10, date: 20210618205727\n",
      "Running model: debug, Iteration:  3/10, date: 20210618205727\n",
      "Running model: debug, Iteration:  4/10, date: 20210618205727\n",
      "Running model: debug, Iteration:  5/10, date: 20210618205727\n",
      "Running model: debug, Iteration:  6/10, date: 20210618205727\n",
      "Running model: debug, Iteration:  7/10, date: 20210618205727\n",
      "Epoch 4 [24/57] {'loss': '1.03'}}\r"
     ]
    }
   ],
   "source": [
    "models = [\"debug\"]\n",
    "for name in models:\n",
    "    run_me(name, base_config='base',i_limit=-1)"
   ]
  },
  {
   "cell_type": "code",
   "execution_count": null,
   "id": "collective-kingston",
   "metadata": {
    "tags": []
   },
   "outputs": [],
   "source": [
    "models = [\"customCNN\", \"resnet18_brew2\",\"vgg11_brew\",\"vgg16\",\"resnet50\"]\n",
    "for name in models:\n",
    "    run_me(name, base_config='base',i_limit=-1)"
   ]
  },
  {
   "cell_type": "code",
   "execution_count": null,
   "id": "c4cd94c1-a1e4-455f-aa2f-498596d4c4c4",
   "metadata": {},
   "outputs": [],
   "source": [
    "models = [\"customCNN\", \"resnet18_brew2\",\"vgg11_brew\",\"vgg16\",\"resnet50\"]\n",
    "for name in models:\n",
    "    run_me(name, base_config='augmented',i_limit=-1)"
   ]
  },
  {
   "cell_type": "code",
   "execution_count": null,
   "id": "01dea75f-4a94-49b9-9fd3-a0bafb83dc90",
   "metadata": {},
   "outputs": [],
   "source": [
    "models = [\"customCNN\", \"resnet18_brew2\",\"vgg11_brew\",\"vgg16\",\"resnet50\"]\n",
    "for name in models:\n",
    "    run_me(name, base_config='no_augmented',i_limit=-1)"
   ]
  },
  {
   "cell_type": "markdown",
   "id": "ca6234ad-fd75-47d9-a9b3-3398887ecb9d",
   "metadata": {},
   "source": [
    "# Evaluate on the test data"
   ]
  },
  {
   "cell_type": "code",
   "execution_count": null,
   "id": "de671b76-5c2a-45d4-97d6-71f0ba493a76",
   "metadata": {
    "tags": []
   },
   "outputs": [],
   "source": [
    "checkpoints = [\n",
    "    (\"resnet18_brew2\",),\n",
    "    (\"customCNN\",),\n",
    "    (\"vgg11_brew\",),\n",
    "    (\"vgg16\",),\n",
    "    (\"resnet50\",),\n",
    "]\n",
    "for name, path in checkpoints:\n",
    "    agent = Agent(name, base_config='base',checkpoint_path=path)\n",
    "    agent.load_model()\n",
    "    agent.load_trainer()\n",
    "    agent.trainer.test(agent.model, datamodule=agent.dataloader)"
   ]
  }
 ],
 "metadata": {
  "kernelspec": {
   "display_name": "Master-thesis",
   "language": "python",
   "name": "master-thesis"
  },
  "language_info": {
   "codemirror_mode": {
    "name": "ipython",
    "version": 3
   },
   "file_extension": ".py",
   "mimetype": "text/x-python",
   "name": "python",
   "nbconvert_exporter": "python",
   "pygments_lexer": "ipython3",
   "version": "3.9.2"
  },
  "widgets": {
   "application/vnd.jupyter.widget-state+json": {
    "state": {},
    "version_major": 2,
    "version_minor": 0
   }
  }
 },
 "nbformat": 4,
 "nbformat_minor": 5
}
