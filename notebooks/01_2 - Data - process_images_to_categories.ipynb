{
 "cells": [
  {
   "cell_type": "code",
   "execution_count": 1,
   "id": "hidden-salmon",
   "metadata": {},
   "outputs": [],
   "source": [
    "# Fix relative import for utils\n",
    "import sys\n",
    "import os\n",
    "\n",
    "if '..' not in sys.path: sys.path.append('..')"
   ]
  },
  {
   "cell_type": "code",
   "execution_count": 2,
   "id": "detailed-reply",
   "metadata": {},
   "outputs": [],
   "source": [
    "from src import adni"
   ]
  },
  {
   "cell_type": "code",
   "execution_count": 3,
   "id": "molecular-loading",
   "metadata": {},
   "outputs": [],
   "source": [
    "base_dir = '../data/'\n",
    "adni = adni.Adni(root=os.path.abspath(base_dir) + '/', processed=True)"
   ]
  },
  {
   "cell_type": "code",
   "execution_count": 4,
   "id": "catholic-disease",
   "metadata": {},
   "outputs": [
    {
     "data": {
      "text/plain": [
       "'/home/fredrik/Documents/School/Master-thesis/Development/data/adni_raw/'"
      ]
     },
     "execution_count": 4,
     "metadata": {},
     "output_type": "execute_result"
    }
   ],
   "source": [
    "adni.path.raw"
   ]
  },
  {
   "cell_type": "code",
   "execution_count": 5,
   "id": "detailed-lighter",
   "metadata": {},
   "outputs": [
    {
     "data": {
      "text/plain": [
       "'/home/fredrik/Documents/School/Master-thesis/Development/data/SPM_preprocessed_normalized/'"
      ]
     },
     "execution_count": 5,
     "metadata": {},
     "output_type": "execute_result"
    }
   ],
   "source": [
    "adni.path.processed"
   ]
  },
  {
   "cell_type": "markdown",
   "id": "transsexual-procedure",
   "metadata": {},
   "source": [
    "# Save Images to adni folder as categorised data"
   ]
  },
  {
   "cell_type": "code",
   "execution_count": 6,
   "id": "developing-korean",
   "metadata": {},
   "outputs": [
    {
     "name": "stdout",
     "output_type": "stream",
     "text": [
      "('/home/fredrik/Documents/School/Master-thesis/Development/data/SPM_preprocessed_normalized/', ['projectIdentifier', 'subject.subjectIdentifier', 'subject.study.series.modality', 'subject.study.imagingProtocol.description', 'subject.study.series.dateAcquiredPrecise', 'image_nbr', 'series', 'subject.study.imagingProtocol.imageUID', 'filename', 'path'], <bound method Adni.info_from_raw_filename of <utils.adni.Adni object at 0x7fdeb8f945e0>>)\n",
      "Copy files: \n",
      "\troot: /home/fredrik/Documents/School/Master-thesis/Development/data/SPM_categorised/\n",
      "\tAD: /home/fredrik/Documents/School/Master-thesis/Development/data/SPM_categorised/AD/\n",
      "\tCN: /home/fredrik/Documents/School/Master-thesis/Development/data/SPM_categorised/CN/\n",
      "\tMCI: /home/fredrik/Documents/School/Master-thesis/Development/data/SPM_categorised/MCI/\n",
      "Statistics:\n",
      "    AD:\n",
      "        Skip: 0\n",
      "        Transfer: 0\n",
      "    CN:\n",
      "        Skip: 0\n",
      "        Transfer: 1\n",
      "    MCI:\n",
      "        Skip: 0\n",
      "        Transfer: 1\n"
     ]
    }
   ],
   "source": [
    "adni.load(show_output=False)\n",
    "df = adni.to_df(show_output=False)\n",
    "adni.save_to_category(df)"
   ]
  }
 ],
 "metadata": {
  "kernelspec": {
   "display_name": "Master-thesis",
   "language": "python",
   "name": "master-thesis"
  },
  "language_info": {
   "codemirror_mode": {
    "name": "ipython",
    "version": 3
   },
   "file_extension": ".py",
   "mimetype": "text/x-python",
   "name": "python",
   "nbconvert_exporter": "python",
   "pygments_lexer": "ipython3",
   "version": "3.9.2"
  }
 },
 "nbformat": 4,
 "nbformat_minor": 5
}
