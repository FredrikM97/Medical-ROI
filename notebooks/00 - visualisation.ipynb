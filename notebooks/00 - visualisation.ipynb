{
 "cells": [
  {
   "cell_type": "code",
   "execution_count": null,
   "metadata": {},
   "outputs": [],
   "source": [
    "%load_ext autoreload\n",
    "%autoreload 2\n",
    "import sys\n",
    "if '..' not in sys.path: sys.path.append(\"..\")"
   ]
  },
  {
   "cell_type": "code",
   "execution_count": null,
   "metadata": {},
   "outputs": [],
   "source": [
    "from src.files import load\n",
    "base_config = load.load_config('base','conf/')['visualise']"
   ]
  },
  {
   "cell_type": "code",
   "execution_count": null,
   "metadata": {},
   "outputs": [],
   "source": [
    "print(base_config)"
   ]
  },
  {
   "cell_type": "code",
   "execution_count": null,
   "metadata": {},
   "outputs": [],
   "source": [
    "from src.display import plot as splot\n",
    "from src.display import print as sprint\n",
    "from src.adni import Adni\n",
    "\n",
    "import os\n",
    "import numpy as np\n",
    "import pandas as pd\n",
    "from IPython.display import display \n",
    "import matplotlib.pyplot as plt\n",
    "import seaborn as sns"
   ]
  },
  {
   "cell_type": "code",
   "execution_count": null,
   "metadata": {},
   "outputs": [],
   "source": [
    "adni = Adni(\n",
    "    rootdir=base_config['data']['root'], \n",
    "    metadir=base_config['data']['images_meta'],\n",
    "    rawdir=base_config['data']['images_raw'],\n",
    "    images_category=base_config['data']['images_category'],\n",
    "    processeddir=base_config['data']['images_processed'],\n",
    "    filename_raw=base_config['meta']['filename_raw'],\n",
    "    filename_processed=base_config['meta']['filename_processed'],\n",
    "    filename_category=base_config['meta']['filename_category'],\n",
    "    use_processed=True)\n"
   ]
  },
  {
   "cell_type": "markdown",
   "metadata": {},
   "source": [
    "# Load data"
   ]
  },
  {
   "cell_type": "code",
   "execution_count": null,
   "metadata": {},
   "outputs": [],
   "source": [
    "adni.load(show_output=False)"
   ]
  },
  {
   "cell_type": "markdown",
   "metadata": {},
   "source": [
    "## Display MetaData"
   ]
  },
  {
   "cell_type": "code",
   "execution_count": null,
   "metadata": {},
   "outputs": [],
   "source": [
    "meta_df = adni.meta_to_df()"
   ]
  },
  {
   "cell_type": "code",
   "execution_count": null,
   "metadata": {},
   "outputs": [],
   "source": [
    "sprint.pd_cols(meta_df)"
   ]
  },
  {
   "cell_type": "markdown",
   "metadata": {},
   "source": [
    "# Display ImageFiles"
   ]
  },
  {
   "cell_type": "code",
   "execution_count": null,
   "metadata": {},
   "outputs": [],
   "source": [
    "files_df = adni.files_to_df()"
   ]
  },
  {
   "cell_type": "code",
   "execution_count": null,
   "metadata": {},
   "outputs": [],
   "source": [
    "sprint.pd_cols(files_df)"
   ]
  },
  {
   "cell_type": "code",
   "execution_count": null,
   "metadata": {},
   "outputs": [],
   "source": [
    "adni_df = adni.to_df()"
   ]
  },
  {
   "cell_type": "code",
   "execution_count": null,
   "metadata": {},
   "outputs": [],
   "source": [
    "sprint.pd_cols(adni_df)"
   ]
  },
  {
   "cell_type": "markdown",
   "metadata": {},
   "source": [
    "# Analysis"
   ]
  },
  {
   "cell_type": "markdown",
   "metadata": {},
   "source": [
    "### Overview"
   ]
  },
  {
   "cell_type": "code",
   "execution_count": null,
   "metadata": {},
   "outputs": [],
   "source": [
    "fig, axes = splot.meta_settings(rows=3)\n",
    "\n",
    "splot.histplot(\n",
    "    adni_df, \n",
    "    x='subject.researchGroup', \n",
    "    hue='subject.subjectSex',\n",
    "    ax=axes[0,0],\n",
    "    plot_kws={'stat':'frequency'},\n",
    "    legend_kws={'title':'ResearchGroup'},\n",
    "    setting_kws={'title':'ResearchGroup distribution','xlabel':'Disorder'}\n",
    ")\n",
    "\n",
    "splot.histplot(\n",
    "    adni_df, \n",
    "    x='subject.subjectIdentifier', \n",
    "    ax=axes[0,1],\n",
    "    plot_kws={'stat':'frequency'},\n",
    "    legend_kws={'title':'ResearchGroup'},\n",
    "    setting_kws={'title':'SubjectIdentifier distribution','xlabel':'subjectIdentifier','rotation':90}\n",
    ")\n",
    "\n",
    "splot.histplot(\n",
    "    adni_df, \n",
    "    x='subject.subjectSex', \n",
    "    ax=axes[1,0],\n",
    "    plot_kws={'stat':'frequency'},\n",
    "    legend_kws={'title':'ResearchGroup'},\n",
    "    setting_kws={'title':'SubjectSex distribution','xlabel':'subjectSex'}\n",
    ")\n",
    "\n",
    "splot.histplot(\n",
    "    adni_df, \n",
    "    x='subject.study.subjectAge',\n",
    "    hue='subject.subjectSex',\n",
    "    discrete=False,\n",
    "    ax=axes[1,1],\n",
    "    plot_kws={'element':'poly','fill':False},\n",
    "    legend_kws={'title':'ResearchGroup'},\n",
    "    setting_kws={'title':'SubjectAge distribution'}\n",
    ")\n",
    "\n",
    "splot.histplot(\n",
    "    adni_df, \n",
    "    x='subject.study.series.dateAcquired',\n",
    "    hue='subject.researchGroup',\n",
    "    discrete=False,\n",
    "    ax=axes[2,0],\n",
    "    plot_kws={},\n",
    "    legend_kws={'title':'ResearchGroup'},\n",
    "    setting_kws={'title':'SubjectAge distribution'}\n",
    ")\n",
    "\n",
    "splot.histplot(\n",
    "    adni_df, \n",
    "    x='subject.study.weightKg',\n",
    "    hue='subject.subjectSex',\n",
    "    discrete=False,\n",
    "    ax=axes[2,1],\n",
    "    plot_kws={'element':'poly','fill':False},\n",
    "    legend_kws={'title':'subjectSex'},\n",
    "    setting_kws={'title':'weightKg distribution'}\n",
    ")\n",
    "\n",
    "\n",
    "plt.show()"
   ]
  },
  {
   "cell_type": "markdown",
   "metadata": {},
   "source": [
    "### Data sizes"
   ]
  },
  {
   "cell_type": "code",
   "execution_count": null,
   "metadata": {},
   "outputs": [],
   "source": [
    "fig, axes = splot.meta_settings(rows=2,figsize=(15,10))\n",
    "\n",
    "splot.histplot(\n",
    "    adni_df, \n",
    "    discrete=False,\n",
    "    x='subject.study.imagingProtocol.protocolTerm.protocol.Number_of_Slices', \n",
    "    hue='subject.researchGroup', \n",
    "    multiple='stack',\n",
    "    ax=axes[0,0],\n",
    "    plot_kws={'stat':'frequency'},\n",
    "    legend_kws={'title':'ResearchGroup'},\n",
    "    setting_kws={'title':'Number of Slices','xlabel':'Slices','ylabel':'Frequency'}\n",
    ")\n",
    "splot.histplot(\n",
    "    adni_df, \n",
    "    discrete=False,\n",
    "    x='subject.study.imagingProtocol.protocolTerm.protocol.Number_of_Columns', \n",
    "    hue='subject.researchGroup', \n",
    "    multiple='stack',\n",
    "    ax=axes[0,1],\n",
    "    plot_kws={'stat':'frequency'},\n",
    "    legend_kws={'title':'ResearchGroup'},\n",
    "    setting_kws={'title':'Number of Columns','xlabel':'Slices','ylabel':'Frequency'}\n",
    ")\n",
    "splot.histplot(\n",
    "    adni_df, \n",
    "    discrete=False,\n",
    "    x='subject.study.imagingProtocol.protocolTerm.protocol.Number_of_Rows', \n",
    "    hue='subject.researchGroup', \n",
    "    multiple='stack',\n",
    "    ax=axes[1,0],\n",
    "    plot_kws={'stat':'frequency'},\n",
    "    legend_kws={'title':'ResearchGroup'},\n",
    "    setting_kws={'title':'Number of Rows','xlabel':'Slices','ylabel':'Frequency'}\n",
    ")\n",
    "plt.show()"
   ]
  },
  {
   "cell_type": "markdown",
   "metadata": {},
   "source": [
    "### Scoring"
   ]
  },
  {
   "cell_type": "code",
   "execution_count": null,
   "metadata": {},
   "outputs": [],
   "source": [
    "fig, axes = splot.meta_settings(rows=3)\n",
    "\n",
    "splot.histplot(\n",
    "    adni_df, \n",
    "    discrete=True,\n",
    "    x='subject.visit.assessment.component.assessmentScore.FAQTOTAL', \n",
    "    hue='subject.researchGroup', \n",
    "    multiple='stack',\n",
    "    ax=axes[0,0],\n",
    "    plot_kws={'stat':'frequency'},\n",
    "    legend_kws={'title':'ResearchGroup'},\n",
    "    setting_kws={'title':'Functional Activities Questionnaires (FAQTOTAL)','xlabel':'Score','ylabel':'Frequency'}\n",
    ")\n",
    "\n",
    "splot.histplot(\n",
    "    adni_df, \n",
    "    discrete=True,\n",
    "    x='subject.visit.assessment.component.assessmentScore.NPISCORE', \n",
    "    hue='subject.researchGroup', \n",
    "    multiple='stack',\n",
    "    ax=axes[0,1],\n",
    "    legend_kws={'title':'ResearchGroup'},\n",
    "    setting_kws={'title':'assessmentScore_NPISCORE','xlabel':'Score','ylabel':'Frequency'}\n",
    ")\n",
    "\n",
    "splot.histplot(\n",
    "    adni_df, \n",
    "    discrete=True,\n",
    "    x='subject.visit.assessment.component.assessmentScore.CDGLOBAL', \n",
    "    hue='subject.researchGroup', \n",
    "    multiple='stack',\n",
    "    ax=axes[1,0],\n",
    "    legend_kws={'title':'ResearchGroup'},\n",
    "    setting_kws={'title':'Clinical Dementia Rating Scale (CDGLOBAL)','xlabel':'Score','ylabel':'Frequency'}\n",
    ")\n",
    "\n",
    "splot.histplot(\n",
    "    adni_df, \n",
    "    discrete=True,\n",
    "    x='subject.visit.assessment.component.assessmentScore.GDTOTAL', \n",
    "    hue='subject.researchGroup', \n",
    "    multiple='stack',\n",
    "    ax=axes[1,1],\n",
    "    legend_kws={'title':'ResearchGroup'},\n",
    "    setting_kws={'title':'assessmentScore.GDTOTAL','xlabel':'Score','ylabel':'Frequency'}\n",
    ")\n",
    "\n",
    "splot.histplot(\n",
    "    adni_df, \n",
    "    discrete=True,\n",
    "    x='subject.visit.assessment.component.assessmentScore.MMSCORE', \n",
    "    hue='subject.researchGroup', \n",
    "    multiple='stack',\n",
    "    ax=axes[2,0],\n",
    "    legend_kws={'title':'ResearchGroup'},\n",
    "    setting_kws={'title':'Mini-Mental State Examination (MMSCORE)','xlabel':'Score','ylabel':'Frequency'}\n",
    ")\n",
    "\n",
    "splot.histplot(\n",
    "    adni_df, \n",
    "    x='subject.visit.assessment.component.assessmentScore.MMSCORE',\n",
    "    hue='subject.researchGroup',\n",
    "    discrete=False,\n",
    "    ax=axes[2,1],\n",
    "    plot_kws={'element':'poly','fill':False},\n",
    "    legend_kws={'title':'ResearchGroup'},\n",
    "    setting_kws={'title':'MMSE Score per Condition'}\n",
    ")\n",
    "\n",
    "plt.show()"
   ]
  },
  {
   "cell_type": "markdown",
   "metadata": {},
   "source": [
    "## Visualise brain slices"
   ]
  },
  {
   "cell_type": "markdown",
   "metadata": {},
   "source": [
    "### Create Image generator"
   ]
  },
  {
   "cell_type": "code",
   "execution_count": null,
   "metadata": {},
   "outputs": [],
   "source": [
    "SKIP_LAYERS = 10\n",
    "LIMIT_LAYERS = 70"
   ]
  },
  {
   "cell_type": "code",
   "execution_count": null,
   "metadata": {},
   "outputs": [],
   "source": [
    "image_AD_generator = adni.load_images(\n",
    "    files=adni.load_files(adni.path.category+'AD/', adni.filename_category, use_processed=True)\n",
    ")\n",
    "image_CN_generator = adni.load_images(\n",
    "    files=adni.load_files(adni.path.category+'CN/', adni.filename_category, use_processed=True)\n",
    ")\n",
    "image_MCI_generator = adni.load_images(\n",
    "    files=adni.load_files(adni.path.category+'MCI/', adni.filename_category, use_processed=True)\n",
    ")"
   ]
  },
  {
   "cell_type": "code",
   "execution_count": null,
   "metadata": {},
   "outputs": [],
   "source": [
    "### Testing functions\n",
    "from nilearn.plotting import view_img, plot_glass_brain, plot_anat, plot_epi"
   ]
  },
  {
   "cell_type": "code",
   "execution_count": null,
   "metadata": {},
   "outputs": [],
   "source": [
    "test_image = next(image_CN_generator)"
   ]
  },
  {
   "cell_type": "code",
   "execution_count": null,
   "metadata": {},
   "outputs": [],
   "source": [
    "test_image.shape"
   ]
  },
  {
   "cell_type": "code",
   "execution_count": null,
   "metadata": {},
   "outputs": [],
   "source": [
    "while True:\n",
    "    test_image = next(image_AD_generator)\n",
    "    plot_anat(test_image, draw_cross=False, display_mode='z',cut_coords=20,annotate=False)\n",
    "    plt.show()\n",
    "    break"
   ]
  },
  {
   "cell_type": "code",
   "execution_count": null,
   "metadata": {},
   "outputs": [],
   "source": [
    "images_AD_array = adni.to_array(list(image_AD_generator))\n",
    "images_CN_array = adni.to_array(list(image_CN_generator))\n",
    "images_MCI_array = adni.to_array(list(image_MCI_generator))"
   ]
  },
  {
   "cell_type": "code",
   "execution_count": null,
   "metadata": {},
   "outputs": [],
   "source": [
    "images_AD = next(images_AD_array)\n",
    "images_CN = next(images_CN_array)\n",
    "images_MCI = next(images_CN_array)"
   ]
  },
  {
   "cell_type": "markdown",
   "metadata": {},
   "source": [
    "### Coronal plane (From top)"
   ]
  },
  {
   "cell_type": "code",
   "execution_count": null,
   "metadata": {},
   "outputs": [],
   "source": [
    "image_AD_slices = [images_AD[layer,:,:] for layer in range(0,images_AD.shape[0],SKIP_LAYERS)]\n",
    "dplay.display_advanced_plot(image_AD_slices)\n",
    "plt.suptitle(\"Coronal plane - AD\")  "
   ]
  },
  {
   "cell_type": "code",
   "execution_count": null,
   "metadata": {},
   "outputs": [],
   "source": [
    "\n",
    "image_CN_slices = [images_CN[layer,:,:] for layer in range(0,images_CN.shape[0],SKIP_LAYERS)]\n",
    "dplay.display_advanced_plot(image_CN_slices)\n",
    "plt.suptitle(\"Coronal plane - CN\")  "
   ]
  },
  {
   "cell_type": "code",
   "execution_count": null,
   "metadata": {},
   "outputs": [],
   "source": [
    "image_MCI_slices = [images_MCI[layer,:,:] for layer in range(0,images_MCI.shape[0],SKIP_LAYERS)]\n",
    "dplay.display_advanced_plot(image_MCI_slices)\n",
    "plt.suptitle(\"Coronal plane - MCI\")  "
   ]
  },
  {
   "cell_type": "markdown",
   "metadata": {},
   "source": [
    "### Sagittal plane (From front)"
   ]
  },
  {
   "cell_type": "code",
   "execution_count": null,
   "metadata": {},
   "outputs": [],
   "source": [
    "image_slices = [images_AD[:,layer,:] for layer in range(0,images_AD.shape[1], SKIP_LAYERS)]\n",
    "dplay.display_advanced_plot(image_slices)\n",
    "plt.suptitle(\"Sagittal plane\")  "
   ]
  },
  {
   "cell_type": "markdown",
   "metadata": {},
   "source": [
    "### Horisontal plane (from side)"
   ]
  },
  {
   "cell_type": "code",
   "execution_count": null,
   "metadata": {},
   "outputs": [],
   "source": [
    "image_slices = [images_AD[:,:,layer] for layer in range(0,images_AD.shape[2], SKIP_LAYERS)]\n",
    "dplay.display_advanced_plot(image_slices)\n",
    "plt.suptitle(\"Horisonal plane\")  "
   ]
  },
  {
   "cell_type": "code",
   "execution_count": null,
   "metadata": {},
   "outputs": [],
   "source": []
  }
 ],
 "metadata": {
  "kernelspec": {
   "display_name": "Master-thesis",
   "language": "python",
   "name": "master-thesis"
  },
  "language_info": {
   "codemirror_mode": {
    "name": "ipython",
    "version": 3
   },
   "file_extension": ".py",
   "mimetype": "text/x-python",
   "name": "python",
   "nbconvert_exporter": "python",
   "pygments_lexer": "ipython3",
   "version": "3.9.2"
  },
  "toc-autonumbering": true,
  "toc-showcode": false,
  "toc-showmarkdowntxt": false,
  "toc-showtags": false,
  "widgets": {
   "application/vnd.jupyter.widget-state+json": {
    "state": {},
    "version_major": 2,
    "version_minor": 0
   }
  }
 },
 "nbformat": 4,
 "nbformat_minor": 4
}
