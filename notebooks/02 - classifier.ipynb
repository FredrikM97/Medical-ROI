{
 "cells": [
  {
   "cell_type": "code",
   "execution_count": 1,
   "id": "protecting-design",
   "metadata": {},
   "outputs": [],
   "source": [
    "%load_ext autoreload\n",
    "%autoreload 2\n",
    "import sys\n",
    "if '..' not in sys.path: sys.path.append(\"..\")"
   ]
  },
  {
   "cell_type": "code",
   "execution_count": 2,
   "id": "preliminary-dubai",
   "metadata": {},
   "outputs": [],
   "source": [
    "from src.classifier.agent import load_trainer\n",
    "# Note: Assume the following: (batch_size, channel, height, width, depth)"
   ]
  },
  {
   "cell_type": "code",
   "execution_count": 3,
   "id": "verbal-queen",
   "metadata": {},
   "outputs": [
    {
     "name": "stdout",
     "output_type": "stream",
     "text": [
      "Architecture [ResNet] was created\n",
      "***Defined hyperparameters:***\n",
      "\"arch\":                {'name': 'resnet50', 'args': {}}\n",
      "\"callbacks\":           ['litprogressbar', 'modelcheckpoints', 'metriccallback']\n",
      "\"class_weights\":       None\n",
      "\"hp_metrics\":          ['loss/train', 'loss/val', 'accuracy/val', 'auc/val', 'specificity/val', 'sensitivity/val']\n",
      "\"kfold\":               {'enable': False, 'folds': 10}\n",
      "\"loss\":                CrossEntropyLoss\n",
      "\"loss_weight_balance\": None\n",
      "\"optimizer\":           {'type': 'Adam', 'args': {'lr': 0.0002, 'weight_decay': 1e-05, 'amsgrad': False}}\n",
      "Dataset sizes - Training: 421 Validation: 47\n"
     ]
    },
    {
     "name": "stderr",
     "output_type": "stream",
     "text": [
      "GPU available: True, used: True\n",
      "TPU available: None, using: 0 TPU cores\n",
      "Using native 16bit precision.\n"
     ]
    }
   ],
   "source": [
    "trainer, dataset, model = load_trainer('resnet50')"
   ]
  },
  {
   "cell_type": "code",
   "execution_count": 4,
   "id": "industrial-championship",
   "metadata": {},
   "outputs": [
    {
     "name": "stderr",
     "output_type": "stream",
     "text": [
      "initializing ddp: GLOBAL_RANK: 0, MEMBER: 1/1\n",
      "\n",
      "  | Name  | Type   | Params\n",
      "---------------------------------\n",
      "0 | model | ResNet | 46.2 M\n",
      "---------------------------------\n",
      "46.2 M    Trainable params\n",
      "0         Non-trainable params\n",
      "46.2 M    Total params\n",
      "184.645   Total estimated model params size (MB)\n",
      "INFO:lightning:\n",
      "  | Name  | Type   | Params\n",
      "---------------------------------\n",
      "0 | model | ResNet | 46.2 M\n",
      "---------------------------------\n",
      "46.2 M    Trainable params\n",
      "0         Non-trainable params\n",
      "46.2 M    Total params\n",
      "184.645   Total estimated model params size (MB)\n"
     ]
    },
    {
     "name": "stdout",
     "output_type": "stream",
     "text": [
      "\n",
      "Epoch 1 [71/71] {'loss': '1.16'}\n",
      "Epoch 2 [71/71] {'loss': '1.21'}\n",
      "Epoch 3 [71/71] {'loss': '1.2'}}\n",
      "Epoch 4 [71/71] {'loss': '1.07'}}\n",
      "Epoch 5 [71/71] {'loss': '0.968'}\n",
      "Epoch 6 [71/71] {'loss': '1.03'}}\n",
      "Epoch 7 [71/71] {'loss': '0.845'}\n",
      "Epoch 8 [71/71] {'loss': '0.882'}\n",
      "Epoch 9 [31/71] {'loss': '0.717'}\r"
     ]
    },
    {
     "name": "stderr",
     "output_type": "stream",
     "text": [
      "/home/stud/f/fremar16/miniconda3/envs/Master-thesis/lib/python3.9/site-packages/pytorch_lightning/utilities/distributed.py:50: UserWarning: Detected KeyboardInterrupt, attempting graceful shutdown...\n",
      "  warnings.warn(*args, **kwargs)\n",
      "\n",
      "\n",
      "Profiler Report\n",
      "\n",
      "Action                             \t|  Mean duration (s)\t|Num calls      \t|  Total time (s) \t|  Percentage %   \t|\n",
      "------------------------------------------------------------------------------------------------------------------------------------\n",
      "Total                              \t|  -              \t|_              \t|  142.51         \t|  100 %          \t|\n",
      "------------------------------------------------------------------------------------------------------------------------------------\n",
      "run_training_epoch                 \t|  14.984         \t|9              \t|  134.85         \t|  94.626         \t|\n",
      "run_training_batch                 \t|  0.11964        \t|600            \t|  71.782         \t|  50.37          \t|\n",
      "optimizer_step_and_closure_0       \t|  0.11569        \t|600            \t|  69.413         \t|  48.707         \t|\n",
      "on_validation_end                  \t|  5.5487         \t|9              \t|  49.938         \t|  35.042         \t|\n",
      "training_step_and_backward         \t|  0.043433       \t|600            \t|  26.06          \t|  18.286         \t|\n",
      "model_backward                     \t|  0.025826       \t|600            \t|  15.496         \t|  10.873         \t|\n",
      "model_forward                      \t|  0.016167       \t|600            \t|  9.7004         \t|  6.8068         \t|\n",
      "training_step                      \t|  0.015951       \t|600            \t|  9.5707         \t|  6.7158         \t|\n",
      "get_train_batch                    \t|  0.0079669      \t|600            \t|  4.7802         \t|  3.3542         \t|\n",
      "on_validation_epoch_end            \t|  0.27715        \t|9              \t|  2.4944         \t|  1.7503         \t|\n",
      "evaluation_step_and_end            \t|  0.025413       \t|66             \t|  1.6773         \t|  1.177          \t|\n",
      "validation_step                    \t|  0.025286       \t|66             \t|  1.6689         \t|  1.1711         \t|\n",
      "on_train_batch_end                 \t|  0.00087713     \t|599            \t|  0.5254         \t|  0.36867        \t|\n",
      "on_train_end                       \t|  0.19561        \t|1              \t|  0.19561        \t|  0.13726        \t|\n",
      "cache_result                       \t|  7.2821e-06     \t|3295           \t|  0.023995       \t|  0.016837       \t|\n",
      "on_after_backward                  \t|  3.8423e-05     \t|600            \t|  0.023054       \t|  0.016177       \t|\n",
      "on_batch_start                     \t|  3.5975e-05     \t|600            \t|  0.021585       \t|  0.015146       \t|\n",
      "on_before_zero_grad                \t|  1.9843e-05     \t|600            \t|  0.011906       \t|  0.0083542      \t|\n",
      "on_epoch_start                     \t|  0.001263       \t|9              \t|  0.011367       \t|  0.007976       \t|\n",
      "on_train_batch_start               \t|  1.735e-05      \t|600            \t|  0.01041        \t|  0.0073049      \t|\n",
      "on_batch_end                       \t|  1.4419e-05     \t|599            \t|  0.008637       \t|  0.0060606      \t|\n",
      "training_step_end                  \t|  1.2517e-05     \t|600            \t|  0.0075104      \t|  0.00527        \t|\n",
      "on_validation_batch_end            \t|  9.5736e-05     \t|66             \t|  0.0063186      \t|  0.0044337      \t|\n",
      "on_train_start                     \t|  0.0060787      \t|1              \t|  0.0060787      \t|  0.0042654      \t|\n",
      "on_train_epoch_end                 \t|  0.00038597     \t|8              \t|  0.0030877      \t|  0.0021667      \t|\n",
      "on_validation_batch_start          \t|  3.835e-05      \t|66             \t|  0.0025311      \t|  0.0017761      \t|\n",
      "validation_step_end                \t|  1.0981e-05     \t|66             \t|  0.00072476     \t|  0.00050856     \t|\n",
      "on_epoch_end                       \t|  1.9639e-05     \t|17             \t|  0.00033387     \t|  0.00023427     \t|\n",
      "on_validation_start                \t|  1.9764e-05     \t|9              \t|  0.00017788     \t|  0.00012482     \t|\n",
      "on_train_epoch_start               \t|  1.5902e-05     \t|9              \t|  0.00014312     \t|  0.00010043     \t|\n",
      "on_validation_epoch_start          \t|  1.2011e-05     \t|9              \t|  0.00010809     \t|  7.585e-05      \t|\n",
      "on_fit_start                       \t|  1.1692e-05     \t|1              \t|  1.1692e-05     \t|  8.2041e-06     \t|\n",
      "on_before_accelerator_backend_setup\t|  5.6997e-06     \t|1              \t|  5.6997e-06     \t|  3.9995e-06     \t|\n",
      "\n",
      "INFO:lightning:\n",
      "\n",
      "Profiler Report\n",
      "\n",
      "Action                             \t|  Mean duration (s)\t|Num calls      \t|  Total time (s) \t|  Percentage %   \t|\n",
      "------------------------------------------------------------------------------------------------------------------------------------\n",
      "Total                              \t|  -              \t|_              \t|  142.51         \t|  100 %          \t|\n",
      "------------------------------------------------------------------------------------------------------------------------------------\n",
      "run_training_epoch                 \t|  14.984         \t|9              \t|  134.85         \t|  94.626         \t|\n",
      "run_training_batch                 \t|  0.11964        \t|600            \t|  71.782         \t|  50.37          \t|\n",
      "optimizer_step_and_closure_0       \t|  0.11569        \t|600            \t|  69.413         \t|  48.707         \t|\n",
      "on_validation_end                  \t|  5.5487         \t|9              \t|  49.938         \t|  35.042         \t|\n",
      "training_step_and_backward         \t|  0.043433       \t|600            \t|  26.06          \t|  18.286         \t|\n",
      "model_backward                     \t|  0.025826       \t|600            \t|  15.496         \t|  10.873         \t|\n",
      "model_forward                      \t|  0.016167       \t|600            \t|  9.7004         \t|  6.8068         \t|\n",
      "training_step                      \t|  0.015951       \t|600            \t|  9.5707         \t|  6.7158         \t|\n",
      "get_train_batch                    \t|  0.0079669      \t|600            \t|  4.7802         \t|  3.3542         \t|\n",
      "on_validation_epoch_end            \t|  0.27715        \t|9              \t|  2.4944         \t|  1.7503         \t|\n",
      "evaluation_step_and_end            \t|  0.025413       \t|66             \t|  1.6773         \t|  1.177          \t|\n",
      "validation_step                    \t|  0.025286       \t|66             \t|  1.6689         \t|  1.1711         \t|\n",
      "on_train_batch_end                 \t|  0.00087713     \t|599            \t|  0.5254         \t|  0.36867        \t|\n",
      "on_train_end                       \t|  0.19561        \t|1              \t|  0.19561        \t|  0.13726        \t|\n",
      "cache_result                       \t|  7.2821e-06     \t|3295           \t|  0.023995       \t|  0.016837       \t|\n",
      "on_after_backward                  \t|  3.8423e-05     \t|600            \t|  0.023054       \t|  0.016177       \t|\n",
      "on_batch_start                     \t|  3.5975e-05     \t|600            \t|  0.021585       \t|  0.015146       \t|\n",
      "on_before_zero_grad                \t|  1.9843e-05     \t|600            \t|  0.011906       \t|  0.0083542      \t|\n",
      "on_epoch_start                     \t|  0.001263       \t|9              \t|  0.011367       \t|  0.007976       \t|\n",
      "on_train_batch_start               \t|  1.735e-05      \t|600            \t|  0.01041        \t|  0.0073049      \t|\n",
      "on_batch_end                       \t|  1.4419e-05     \t|599            \t|  0.008637       \t|  0.0060606      \t|\n",
      "training_step_end                  \t|  1.2517e-05     \t|600            \t|  0.0075104      \t|  0.00527        \t|\n",
      "on_validation_batch_end            \t|  9.5736e-05     \t|66             \t|  0.0063186      \t|  0.0044337      \t|\n",
      "on_train_start                     \t|  0.0060787      \t|1              \t|  0.0060787      \t|  0.0042654      \t|\n",
      "on_train_epoch_end                 \t|  0.00038597     \t|8              \t|  0.0030877      \t|  0.0021667      \t|\n",
      "on_validation_batch_start          \t|  3.835e-05      \t|66             \t|  0.0025311      \t|  0.0017761      \t|\n",
      "validation_step_end                \t|  1.0981e-05     \t|66             \t|  0.00072476     \t|  0.00050856     \t|\n",
      "on_epoch_end                       \t|  1.9639e-05     \t|17             \t|  0.00033387     \t|  0.00023427     \t|\n",
      "on_validation_start                \t|  1.9764e-05     \t|9              \t|  0.00017788     \t|  0.00012482     \t|\n",
      "on_train_epoch_start               \t|  1.5902e-05     \t|9              \t|  0.00014312     \t|  0.00010043     \t|\n",
      "on_validation_epoch_start          \t|  1.2011e-05     \t|9              \t|  0.00010809     \t|  7.585e-05      \t|\n",
      "on_fit_start                       \t|  1.1692e-05     \t|1              \t|  1.1692e-05     \t|  8.2041e-06     \t|\n",
      "on_before_accelerator_backend_setup\t|  5.6997e-06     \t|1              \t|  5.6997e-06     \t|  3.9995e-06     \t|\n",
      "\n"
     ]
    },
    {
     "data": {
      "text/plain": [
       "1"
      ]
     },
     "execution_count": 4,
     "metadata": {},
     "output_type": "execute_result"
    }
   ],
   "source": [
    "trainer.fit(model, datamodule=dataset)"
   ]
  },
  {
   "cell_type": "code",
   "execution_count": null,
   "id": "thrown-eight",
   "metadata": {},
   "outputs": [],
   "source": []
  }
 ],
 "metadata": {
  "kernelspec": {
   "display_name": "Master-thesis",
   "language": "python",
   "name": "master-thesis"
  },
  "language_info": {
   "codemirror_mode": {
    "name": "ipython",
    "version": 3
   },
   "file_extension": ".py",
   "mimetype": "text/x-python",
   "name": "python",
   "nbconvert_exporter": "python",
   "pygments_lexer": "ipython3",
   "version": "3.9.2"
  },
  "widgets": {
   "application/vnd.jupyter.widget-state+json": {
    "state": {},
    "version_major": 2,
    "version_minor": 0
   }
  }
 },
 "nbformat": 4,
 "nbformat_minor": 5
}
