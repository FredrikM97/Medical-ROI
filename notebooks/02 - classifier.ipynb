{
 "cells": [
  {
   "cell_type": "code",
   "execution_count": 1,
   "id": "living-garlic",
   "metadata": {},
   "outputs": [],
   "source": [
    "%load_ext autoreload\n",
    "%autoreload 2\n",
    "import sys\n",
    "if '..' not in sys.path: sys.path.append(\"..\")"
   ]
  },
  {
   "cell_type": "code",
   "execution_count": 2,
   "id": "through-smooth",
   "metadata": {},
   "outputs": [],
   "source": [
    "from src.classifier.agent import load_trainer\n",
    "# Note: Assume the following: (batch_size, channel, height, width, depth)"
   ]
  },
  {
   "cell_type": "code",
   "execution_count": null,
   "id": "proud-award",
   "metadata": {},
   "outputs": [
    {
     "name": "stdout",
     "output_type": "stream",
     "text": [
      "Data directory: data/SPM_categorised/Amira/\n",
      "Dataset sizes - Training: 500 Validation: 56\n",
      "Architecture [VGG] was created\n",
      "***Defined hyperparameters:***\n",
      "\"arch\":                {'name': 'vgg16_brew', 'args': {'num_channels': 1, 'num_classes': 3}}\n",
      "\"class_weights\":       tensor([1.1905, 0.9311, 0.9208], device='cuda:0')\n",
      "\"hp_metrics\":          ['loss/train', 'loss/val', 'accuracy/val', 'auc/val', 'specificity/val', 'sensitivity/val']\n",
      "\"kfold\":               {'enable': False, 'folds': 10}\n",
      "\"loss\":                {'type': 'CrossEntropyLoss', 'args': {'weight': True}}\n",
      "\"optimizer\":           {'type': 'Adam', 'args': {'lr': 0.001, 'betas': [0, 0.9], 'weight_decay': 0, 'amsgrad': True}}\n",
      "\"roi_hparams\":         {'enable': False, 'output_shape': [40, 40, 40], 'boundary_boxes': []}\n",
      "\"weight_distribution\": normal\n"
     ]
    },
    {
     "name": "stderr",
     "output_type": "stream",
     "text": [
      "GPU available: True, used: True\n",
      "TPU available: False, using: 0 TPU cores\n",
      "Using native 16bit precision.\n",
      "LOCAL_RANK: 0 - CUDA_VISIBLE_DEVICES: [0]\n",
      "Missing logger folder: /home/stud1/f/fremar16/Master_thesis/logs/tb/vgg16_brew\n",
      "initializing ddp: GLOBAL_RANK: 0, MEMBER: 1/1\n",
      "\n",
      "  | Name     | Type             | Params\n",
      "----------------------------------------------\n",
      "0 | model    | VGG              | 103 M \n",
      "1 | criteria | CrossEntropyLoss | 0     \n",
      "----------------------------------------------\n",
      "103 M     Trainable params\n",
      "0         Non-trainable params\n",
      "103 M     Total params\n",
      "415.647   Total estimated model params size (MB)\n"
     ]
    },
    {
     "name": "stdout",
     "output_type": "stream",
     "text": [
      "Epoch 3 [84/84] {'loss': '1.1'}}\r"
     ]
    }
   ],
   "source": [
    "trainer, dataset, model = load_trainer('vgg16_brew')\n",
    "trainer.fit(model, datamodule=dataset)"
   ]
  },
  {
   "cell_type": "code",
   "execution_count": 6,
   "id": "north-vancouver",
   "metadata": {},
   "outputs": [
    {
     "name": "stdout",
     "output_type": "stream",
     "text": [
      "Data directory: data/SPM_categorised/Amira/\n",
      "Dataset sizes - Training: 500 Validation: 56\n",
      "Architecture [VGG] was created\n",
      "***Defined hyperparameters:***\n",
      "\"arch\":                {'name': 'vgg16', 'args': {'num_channels': 1, 'num_classes': 3}}\n",
      "\"class_weights\":       tensor([1.1905, 0.9311, 0.9208], device='cuda:0')\n",
      "\"hp_metrics\":          ['loss/train', 'loss/val', 'accuracy/val', 'auc/val', 'specificity/val', 'sensitivity/val']\n",
      "\"kfold\":               {'enable': False, 'folds': 10}\n",
      "\"loss\":                {'type': 'CrossEntropyLoss', 'args': {'weight': True}}\n",
      "\"optimizer\":           {'type': 'Adam', 'args': {'lr': 0.001, 'betas': [0, 0.9], 'weight_decay': 0, 'amsgrad': True}}\n",
      "\"roi_hparams\":         {'enable': False, 'output_shape': [40, 40, 40], 'boundary_boxes': []}\n",
      "\"weight_distribution\": normal\n"
     ]
    },
    {
     "name": "stderr",
     "output_type": "stream",
     "text": [
      "GPU available: True, used: True\n",
      "TPU available: False, using: 0 TPU cores\n",
      "Using native 16bit precision.\n",
      "LOCAL_RANK: 0 - CUDA_VISIBLE_DEVICES: [0]\n",
      "Missing logger folder: /home/stud1/f/fremar16/Master_thesis/logs/tb/vgg16_bn\n",
      "\n",
      "  | Name     | Type             | Params\n",
      "----------------------------------------------\n",
      "0 | model    | VGG              | 163 M \n",
      "1 | criteria | CrossEntropyLoss | 0     \n",
      "----------------------------------------------\n",
      "163 M     Trainable params\n",
      "0         Non-trainable params\n",
      "163 M     Total params\n",
      "654.761   Total estimated model params size (MB)\n",
      "/home/stud/f/fremar16/miniconda3/envs/Master-thesis/lib/python3.9/site-packages/pytorch_lightning/utilities/distributed.py:52: UserWarning: Detected KeyboardInterrupt, attempting graceful shutdown...\n",
      "  warnings.warn(*args, **kwargs)\n",
      "\n",
      "\n",
      "Profiler Report\n",
      "\n",
      "Action                             \t|  Mean duration (s)\t|Num calls      \t|  Total time (s) \t|  Percentage %   \t|\n",
      "------------------------------------------------------------------------------------------------------------------------------------\n",
      "Total                              \t|  -              \t|_              \t|  2.7188         \t|  100 %          \t|\n",
      "------------------------------------------------------------------------------------------------------------------------------------\n",
      "on_validation_epoch_end            \t|  0.64417        \t|1              \t|  0.64417        \t|  23.693         \t|\n",
      "run_training_epoch                 \t|  0.44808        \t|1              \t|  0.44808        \t|  16.481         \t|\n",
      "evaluation_step_and_end            \t|  0.22339        \t|2              \t|  0.44679        \t|  16.433         \t|\n",
      "validation_step                    \t|  0.2231         \t|2              \t|  0.4462         \t|  16.412         \t|\n",
      "on_train_end                       \t|  0.25891        \t|1              \t|  0.25891        \t|  9.5229         \t|\n",
      "on_epoch_start                     \t|  0.00068813     \t|2              \t|  0.0013763      \t|  0.050621       \t|\n",
      "on_train_start                     \t|  0.00075757     \t|1              \t|  0.00075757     \t|  0.027864       \t|\n",
      "on_validation_batch_end            \t|  0.00021177     \t|2              \t|  0.00042354     \t|  0.015578       \t|\n",
      "on_validation_batch_start          \t|  0.00010607     \t|2              \t|  0.00021213     \t|  0.0078026      \t|\n",
      "cache_result                       \t|  1.0798e-05     \t|18             \t|  0.00019436     \t|  0.0071486      \t|\n",
      "on_train_epoch_start               \t|  5.4756e-05     \t|1              \t|  5.4756e-05     \t|  0.002014       \t|\n",
      "validation_step_end                \t|  2.5891e-05     \t|2              \t|  5.1782e-05     \t|  0.0019046      \t|\n",
      "on_fit_start                       \t|  3.2611e-05     \t|1              \t|  3.2611e-05     \t|  0.0011995      \t|\n",
      "on_validation_end                  \t|  2.6852e-05     \t|1              \t|  2.6852e-05     \t|  0.00098764     \t|\n",
      "on_validation_start                \t|  1.9988e-05     \t|1              \t|  1.9988e-05     \t|  0.00073518     \t|\n",
      "on_epoch_end                       \t|  1.6512e-05     \t|1              \t|  1.6512e-05     \t|  0.00060734     \t|\n",
      "on_before_accelerator_backend_setup\t|  1.6151e-05     \t|1              \t|  1.6151e-05     \t|  0.00059405     \t|\n",
      "on_validation_epoch_start          \t|  1.4864e-05     \t|1              \t|  1.4864e-05     \t|  0.00054671     \t|\n",
      "\n"
     ]
    },
    {
     "data": {
      "text/plain": [
       "1"
      ]
     },
     "execution_count": 6,
     "metadata": {},
     "output_type": "execute_result"
    }
   ],
   "source": [
    "trainer, dataset, model = load_trainer('vgg16')\n",
    "trainer.fit(model, datamodule=dataset)"
   ]
  },
  {
   "cell_type": "code",
   "execution_count": null,
   "id": "patent-agency",
   "metadata": {},
   "outputs": [],
   "source": [
    "trainer, dataset, model = load_trainer('testModel')\n",
    "trainer.fit(model, datamodule=dataset)"
   ]
  },
  {
   "cell_type": "code",
   "execution_count": null,
   "id": "timely-force",
   "metadata": {},
   "outputs": [],
   "source": [
    "trainer, dataset, model = load_trainer('roi')\n",
    "trainer.fit(model, datamodule=dataset)"
   ]
  },
  {
   "cell_type": "code",
   "execution_count": null,
   "id": "russian-prescription",
   "metadata": {},
   "outputs": [],
   "source": []
  }
 ],
 "metadata": {
  "kernelspec": {
   "display_name": "Master-thesis",
   "language": "python",
   "name": "master-thesis"
  },
  "language_info": {
   "codemirror_mode": {
    "name": "ipython",
    "version": 3
   },
   "file_extension": ".py",
   "mimetype": "text/x-python",
   "name": "python",
   "nbconvert_exporter": "python",
   "pygments_lexer": "ipython3",
   "version": "3.9.2"
  },
  "widgets": {
   "application/vnd.jupyter.widget-state+json": {
    "state": {},
    "version_major": 2,
    "version_minor": 0
   }
  }
 },
 "nbformat": 4,
 "nbformat_minor": 5
}
