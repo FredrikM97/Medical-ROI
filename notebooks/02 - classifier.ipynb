{
 "cells": [
  {
   "cell_type": "code",
   "execution_count": 1,
   "metadata": {},
   "outputs": [],
   "source": [
    "%load_ext autoreload\n",
    "%autoreload 2\n",
    "import sys\n",
    "if '..' not in sys.path: sys.path.append(\"..\")"
   ]
  },
  {
   "cell_type": "code",
   "execution_count": 2,
   "metadata": {},
   "outputs": [],
   "source": [
    "from src.classifier.agent import load_trainer\n",
    "# Note: Assume the following: (batch_size, channel, height, width, depth)"
   ]
  },
  {
   "cell_type": "code",
   "execution_count": 4,
   "metadata": {},
   "outputs": [
    {
     "name": "stdout",
     "output_type": "stream",
     "text": [
      "Dataset sizes - Training: 421 Validation: 47\n",
      "Architecture [ResNet] was created\n",
      "***Defined hyperparameters:***\n",
      "\"arch\":                {'name': 'resnet50', 'args': {}}\n",
      "\"callbacks\":           ['litprogressbar', 'modelcheckpoints', 'metriccallback']\n",
      "\"checkpoint_path\":     None\n",
      "\"class_weights\":       None\n",
      "\"hp_metrics\":          ['loss', 'loss', 'accuracy', 'auc', 'specificity', 'sensitivity']\n",
      "\"kfold\":               {'enable': False, 'folds': 10}\n",
      "\"loss\":                CrossEntropyLoss\n",
      "\"loss_weight_balance\": None\n",
      "\"optimizer\":           {'type': 'Adam', 'args': {'lr': 0.0002, 'weight_decay': 1e-05, 'amsgrad': True}}\n"
     ]
    },
    {
     "name": "stderr",
     "output_type": "stream",
     "text": [
      "GPU available: True, used: True\n",
      "TPU available: None, using: 0 TPU cores\n",
      "Using native 16bit precision.\n"
     ]
    }
   ],
   "source": [
    "trainer, dataset, model = load_trainer('resnet50')"
   ]
  },
  {
   "cell_type": "code",
   "execution_count": 5,
   "metadata": {},
   "outputs": [
    {
     "name": "stderr",
     "output_type": "stream",
     "text": [
      "initializing ddp: GLOBAL_RANK: 0, MEMBER: 1/1\n",
      "\n",
      "  | Name  | Type   | Params\n",
      "---------------------------------\n",
      "0 | model | ResNet | 46.2 M\n",
      "---------------------------------\n",
      "46.2 M    Trainable params\n",
      "0         Non-trainable params\n",
      "46.2 M    Total params\n",
      "184.645   Total estimated model params size (MB)\n",
      "INFO:lightning:\n",
      "  | Name  | Type   | Params\n",
      "---------------------------------\n",
      "0 | model | ResNet | 46.2 M\n",
      "---------------------------------\n",
      "46.2 M    Trainable params\n",
      "0         Non-trainable params\n",
      "46.2 M    Total params\n",
      "184.645   Total estimated model params size (MB)\n"
     ]
    },
    {
     "name": "stdout",
     "output_type": "stream",
     "text": [
      "\n",
      "Epoch 1 [71/71] {'loss': '1.14'}\n",
      "Epoch 2 [71/71] {'loss': '1.15'}}\n",
      "Epoch 3 [71/71] {'loss': '1.16'}\n",
      "Epoch 4 [71/71] {'loss': '1.02'}}\n",
      "Epoch 5 [71/71] {'loss': '0.962'}\n",
      "Epoch 6 [71/71] {'loss': '0.95'}}\n",
      "Epoch 7 [71/71] {'loss': '0.795'}\n",
      "Epoch 8 [71/71] {'loss': '0.86'}}\n",
      "Epoch 9 [71/71] {'loss': '0.872'}\n",
      "Epoch 10 [71/71] {'loss': '0.79'}}\n",
      "Epoch 11 [71/71] {'loss': '0.594'}\n",
      "Epoch 12 [71/71] {'loss': '0.748'}\n",
      "Epoch 13 [71/71] {'loss': '0.934'}\n",
      "Epoch 14 [71/71] {'loss': '0.585'}\n",
      "Epoch 15 [71/71] {'loss': '0.492'}\n",
      "Epoch 16 [71/71] {'loss': '0.743'}\n",
      "Epoch 17 [71/71] {'loss': '0.694'}\n",
      "Epoch 18 [71/71] {'loss': '0.628'}\n",
      "Epoch 19 [71/71] {'loss': '0.609'}\n",
      "Epoch 20 [71/71] {'loss': '0.607'}\n",
      "Epoch 21 [71/71] {'loss': '0.427'}\n",
      "Epoch 22 [71/71] {'loss': '0.507'}\n",
      "Epoch 23 [71/71] {'loss': '0.563'}\n",
      "Epoch 24 [71/71] {'loss': '0.356'}\n",
      "Epoch 25 [71/71] {'loss': '0.245'}\n",
      "Epoch 26 [71/71] {'loss': '0.317'}}\n",
      "Epoch 27 [71/71] {'loss': '0.23'}}\n",
      "Epoch 28 [71/71] {'loss': '0.108'}}\n",
      "Epoch 29 [71/71] {'loss': '0.319'}}\n",
      "Epoch 30 [71/71] {'loss': '0.24'}}}\n",
      "Epoch 31 [71/71] {'loss': '0.189'}\n",
      "Epoch 32 [71/71] {'loss': '0.144'}}\n",
      "Epoch 33 [71/71] {'loss': '0.369'}}\n",
      "Epoch 34 [71/71] {'loss': '0.169'}\n",
      "Epoch 35 [71/71] {'loss': '0.128'}}\n",
      "Epoch 36 [71/71] {'loss': '0.178'}}\n",
      "Epoch 37 [71/71] {'loss': '0.264'}}\n",
      "Epoch 38 [71/71] {'loss': '0.114'}\n",
      "Epoch 39 [71/71] {'loss': '0.083'}}\n",
      "Epoch 40 [71/71] {'loss': '0.231'}}\n",
      "Epoch 41 [71/71] {'loss': '0.0529'}\n",
      "Epoch 42 [71/71] {'loss': '0.0477'}\n",
      "Epoch 43 [71/71] {'loss': '0.0104'}}\r"
     ]
    },
    {
     "name": "stderr",
     "output_type": "stream",
     "text": [
      "/home/stud/f/fremar16/miniconda3/envs/Master-thesis/lib/python3.9/site-packages/pytorch_lightning/utilities/distributed.py:50: UserWarning: Detected KeyboardInterrupt, attempting graceful shutdown...\n",
      "  warnings.warn(*args, **kwargs)\n",
      "\n",
      "\n",
      "Profiler Report\n",
      "\n",
      "Action                             \t|  Mean duration (s)\t|Num calls      \t|  Total time (s) \t|  Percentage %   \t|\n",
      "------------------------------------------------------------------------------------------------------------------------------------\n",
      "Total                              \t|  -              \t|_              \t|  791.39         \t|  100 %          \t|\n",
      "------------------------------------------------------------------------------------------------------------------------------------\n",
      "run_training_epoch                 \t|  18.14          \t|43             \t|  780.01         \t|  98.561         \t|\n",
      "run_training_batch                 \t|  0.12226        \t|3053           \t|  373.27         \t|  47.166         \t|\n",
      "optimizer_step_and_closure_0       \t|  0.11769        \t|3053           \t|  359.29         \t|  45.4           \t|\n",
      "on_validation_end                  \t|  7.828          \t|44             \t|  344.43         \t|  43.522         \t|\n",
      "training_step_and_backward         \t|  0.043718       \t|3053           \t|  133.47         \t|  16.865         \t|\n",
      "model_backward                     \t|  0.025642       \t|3053           \t|  78.285         \t|  9.892          \t|\n",
      "model_forward                      \t|  0.01661        \t|3053           \t|  50.71          \t|  6.4077         \t|\n",
      "training_step                      \t|  0.016399       \t|3053           \t|  50.066         \t|  6.3263         \t|\n",
      "get_train_batch                    \t|  0.0062697      \t|3053           \t|  19.141         \t|  2.4187         \t|\n",
      "on_validation_epoch_end            \t|  0.3369         \t|44             \t|  14.824         \t|  1.8731         \t|\n",
      "evaluation_step_and_end            \t|  0.023157       \t|346            \t|  8.0122         \t|  1.0124         \t|\n",
      "validation_step                    \t|  0.023031       \t|346            \t|  7.9686         \t|  1.0069         \t|\n",
      "on_train_batch_end                 \t|  0.00087681     \t|3053           \t|  2.6769         \t|  0.33825        \t|\n",
      "on_train_end                       \t|  0.19175        \t|1              \t|  0.19175        \t|  0.024229       \t|\n",
      "cache_result                       \t|  7.6908e-06     \t|16784          \t|  0.12908        \t|  0.016311       \t|\n",
      "on_after_backward                  \t|  4.0046e-05     \t|3053           \t|  0.12226        \t|  0.015449       \t|\n",
      "on_batch_start                     \t|  3.7476e-05     \t|3053           \t|  0.11441        \t|  0.014457       \t|\n",
      "on_before_zero_grad                \t|  2.0926e-05     \t|3053           \t|  0.063888       \t|  0.0080729      \t|\n",
      "on_epoch_start                     \t|  0.001401       \t|43             \t|  0.060242       \t|  0.0076122      \t|\n",
      "on_train_batch_start               \t|  1.9652e-05     \t|3053           \t|  0.059999       \t|  0.0075814      \t|\n",
      "on_batch_end                       \t|  1.468e-05      \t|3053           \t|  0.044817       \t|  0.005663       \t|\n",
      "on_validation_batch_end            \t|  9.3124e-05     \t|346            \t|  0.032221       \t|  0.0040714      \t|\n",
      "training_step_end                  \t|  1.0378e-05     \t|3053           \t|  0.031684       \t|  0.0040035      \t|\n",
      "on_train_epoch_end                 \t|  0.00049527     \t|43             \t|  0.021297       \t|  0.002691       \t|\n",
      "on_validation_batch_start          \t|  3.1065e-05     \t|346            \t|  0.010748       \t|  0.0013582      \t|\n",
      "on_train_start                     \t|  0.0081309      \t|1              \t|  0.0081309      \t|  0.0010274      \t|\n",
      "validation_step_end                \t|  1.0654e-05     \t|346            \t|  0.0036862      \t|  0.00046579     \t|\n",
      "on_epoch_end                       \t|  2.2623e-05     \t|87             \t|  0.0019682      \t|  0.0002487      \t|\n",
      "on_validation_start                \t|  2.552e-05      \t|44             \t|  0.0011229      \t|  0.00014189     \t|\n",
      "on_train_epoch_start               \t|  1.7009e-05     \t|43             \t|  0.00073139     \t|  9.2418e-05     \t|\n",
      "on_validation_epoch_start          \t|  1.6009e-05     \t|44             \t|  0.00070441     \t|  8.9009e-05     \t|\n",
      "on_fit_start                       \t|  1.6708e-05     \t|1              \t|  1.6708e-05     \t|  2.1112e-06     \t|\n",
      "on_before_accelerator_backend_setup\t|  7.1116e-06     \t|1              \t|  7.1116e-06     \t|  8.9862e-07     \t|\n",
      "\n",
      "INFO:lightning:\n",
      "\n",
      "Profiler Report\n",
      "\n",
      "Action                             \t|  Mean duration (s)\t|Num calls      \t|  Total time (s) \t|  Percentage %   \t|\n",
      "------------------------------------------------------------------------------------------------------------------------------------\n",
      "Total                              \t|  -              \t|_              \t|  791.39         \t|  100 %          \t|\n",
      "------------------------------------------------------------------------------------------------------------------------------------\n",
      "run_training_epoch                 \t|  18.14          \t|43             \t|  780.01         \t|  98.561         \t|\n",
      "run_training_batch                 \t|  0.12226        \t|3053           \t|  373.27         \t|  47.166         \t|\n",
      "optimizer_step_and_closure_0       \t|  0.11769        \t|3053           \t|  359.29         \t|  45.4           \t|\n",
      "on_validation_end                  \t|  7.828          \t|44             \t|  344.43         \t|  43.522         \t|\n",
      "training_step_and_backward         \t|  0.043718       \t|3053           \t|  133.47         \t|  16.865         \t|\n",
      "model_backward                     \t|  0.025642       \t|3053           \t|  78.285         \t|  9.892          \t|\n",
      "model_forward                      \t|  0.01661        \t|3053           \t|  50.71          \t|  6.4077         \t|\n",
      "training_step                      \t|  0.016399       \t|3053           \t|  50.066         \t|  6.3263         \t|\n",
      "get_train_batch                    \t|  0.0062697      \t|3053           \t|  19.141         \t|  2.4187         \t|\n",
      "on_validation_epoch_end            \t|  0.3369         \t|44             \t|  14.824         \t|  1.8731         \t|\n",
      "evaluation_step_and_end            \t|  0.023157       \t|346            \t|  8.0122         \t|  1.0124         \t|\n",
      "validation_step                    \t|  0.023031       \t|346            \t|  7.9686         \t|  1.0069         \t|\n",
      "on_train_batch_end                 \t|  0.00087681     \t|3053           \t|  2.6769         \t|  0.33825        \t|\n",
      "on_train_end                       \t|  0.19175        \t|1              \t|  0.19175        \t|  0.024229       \t|\n",
      "cache_result                       \t|  7.6908e-06     \t|16784          \t|  0.12908        \t|  0.016311       \t|\n",
      "on_after_backward                  \t|  4.0046e-05     \t|3053           \t|  0.12226        \t|  0.015449       \t|\n",
      "on_batch_start                     \t|  3.7476e-05     \t|3053           \t|  0.11441        \t|  0.014457       \t|\n",
      "on_before_zero_grad                \t|  2.0926e-05     \t|3053           \t|  0.063888       \t|  0.0080729      \t|\n",
      "on_epoch_start                     \t|  0.001401       \t|43             \t|  0.060242       \t|  0.0076122      \t|\n",
      "on_train_batch_start               \t|  1.9652e-05     \t|3053           \t|  0.059999       \t|  0.0075814      \t|\n",
      "on_batch_end                       \t|  1.468e-05      \t|3053           \t|  0.044817       \t|  0.005663       \t|\n",
      "on_validation_batch_end            \t|  9.3124e-05     \t|346            \t|  0.032221       \t|  0.0040714      \t|\n",
      "training_step_end                  \t|  1.0378e-05     \t|3053           \t|  0.031684       \t|  0.0040035      \t|\n",
      "on_train_epoch_end                 \t|  0.00049527     \t|43             \t|  0.021297       \t|  0.002691       \t|\n",
      "on_validation_batch_start          \t|  3.1065e-05     \t|346            \t|  0.010748       \t|  0.0013582      \t|\n",
      "on_train_start                     \t|  0.0081309      \t|1              \t|  0.0081309      \t|  0.0010274      \t|\n",
      "validation_step_end                \t|  1.0654e-05     \t|346            \t|  0.0036862      \t|  0.00046579     \t|\n",
      "on_epoch_end                       \t|  2.2623e-05     \t|87             \t|  0.0019682      \t|  0.0002487      \t|\n",
      "on_validation_start                \t|  2.552e-05      \t|44             \t|  0.0011229      \t|  0.00014189     \t|\n",
      "on_train_epoch_start               \t|  1.7009e-05     \t|43             \t|  0.00073139     \t|  9.2418e-05     \t|\n",
      "on_validation_epoch_start          \t|  1.6009e-05     \t|44             \t|  0.00070441     \t|  8.9009e-05     \t|\n",
      "on_fit_start                       \t|  1.6708e-05     \t|1              \t|  1.6708e-05     \t|  2.1112e-06     \t|\n",
      "on_before_accelerator_backend_setup\t|  7.1116e-06     \t|1              \t|  7.1116e-06     \t|  8.9862e-07     \t|\n",
      "\n"
     ]
    },
    {
     "data": {
      "text/plain": [
       "1"
      ]
     },
     "execution_count": 5,
     "metadata": {},
     "output_type": "execute_result"
    }
   ],
   "source": [
    "trainer.fit(model, datamodule=dataset)"
   ]
  },
  {
   "cell_type": "code",
   "execution_count": null,
   "metadata": {},
   "outputs": [],
   "source": []
  }
 ],
 "metadata": {
  "kernelspec": {
   "display_name": "Master-thesis",
   "language": "python",
   "name": "master-thesis"
  },
  "language_info": {
   "codemirror_mode": {
    "name": "ipython",
    "version": 3
   },
   "file_extension": ".py",
   "mimetype": "text/x-python",
   "name": "python",
   "nbconvert_exporter": "python",
   "pygments_lexer": "ipython3",
   "version": "3.9.2"
  },
  "widgets": {
   "application/vnd.jupyter.widget-state+json": {
    "state": {},
    "version_major": 2,
    "version_minor": 0
   }
  }
 },
 "nbformat": 4,
 "nbformat_minor": 5
}
