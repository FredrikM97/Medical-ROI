{
 "cells": [
  {
   "cell_type": "code",
   "execution_count": 1,
   "id": "tribal-horizon",
   "metadata": {},
   "outputs": [],
   "source": [
    "%load_ext autoreload\n",
    "%autoreload 2\n",
    "import sys\n",
    "if '..' not in sys.path: sys.path.append(\"..\")"
   ]
  },
  {
   "cell_type": "code",
   "execution_count": 2,
   "id": "sitting-country",
   "metadata": {},
   "outputs": [],
   "source": [
    "from src.classifier.agent import load_trainer\n",
    "# Note: Assume the following: (batch_size, channel, height, width, depth)"
   ]
  },
  {
   "cell_type": "code",
   "execution_count": 19,
   "id": "2af5ab13-1d3c-4f5d-9ab6-68e3aa981102",
   "metadata": {},
   "outputs": [],
   "source": [
    "from src.classifier.dataloader.kfold import KFold\n",
    "from src.utils import load\n",
    "dataset = load.load_files(\"../data/SPM_categorised/Amira/\")\n",
    "kcont = KFold().split(dataset)"
   ]
  },
  {
   "cell_type": "code",
   "execution_count": null,
   "id": "65170f6b-b42f-4104-aa30-396fdfa4ccfc",
   "metadata": {},
   "outputs": [],
   "source": [
    "trainer, dataset, model = load_trainer('vgg16_brew')\n",
    "while dataset.kfold.next():\n",
    "    trainer.fit(model, datamodule=dataset)"
   ]
  },
  {
   "cell_type": "code",
   "execution_count": 12,
   "id": "purple-formation",
   "metadata": {},
   "outputs": [
    {
     "name": "stdout",
     "output_type": "stream",
     "text": [
      "***Defined dataloader:***\n",
      "Data directory: data/SPM_categorised/Amira/\n",
      "Dataset sizes - Training: 501 Validation: 55\n",
      "KFold: enabled - Folds: 10\n",
      "\n",
      "Architecture [VGG] was created\n",
      "***Defined hyperparameters:***\n",
      "\"arch\":                {'name': 'vgg16_brew', 'args': {'num_channels': 1, 'num_classes': 3, 'input_shape': [16, 32, 32]}}\n",
      "\"class_weights\":       tensor([1.1844, 0.9382, 0.9176], device='cuda:0')\n",
      "\"hp_metrics\":          ['loss/train', 'loss/val', 'accuracy/val', 'auc/val', 'specificity/val', 'sensitivity/val']\n",
      "\"loss\":                {'type': 'CrossEntropyLoss', 'args': {'weight': True}}\n",
      "\"optimizer\":           {'type': 'Adam', 'args': {'lr': 0.001, 'betas': [0.9, 0.999], 'weight_decay': 1e-05, 'amsgrad': True}}\n",
      "\"roi_hparams\":         {'enable': False, 'output_shape': [40, 40, 40], 'boundary_boxes': []}\n",
      "\"weight_distribution\": normal\n"
     ]
    },
    {
     "name": "stderr",
     "output_type": "stream",
     "text": [
      "GPU available: True, used: True\n",
      "TPU available: False, using: 0 TPU cores\n"
     ]
    },
    {
     "name": "stdout",
     "output_type": "stream",
     "text": [
      "Enabled callbacks:  ['LitProgressBar', 'MetricCallback', 'ModelCheckpoint', 'StochasticWeightAveraging']\n"
     ]
    }
   ],
   "source": [
    "trainer, dataset, model = load_trainer('vgg16_brew')\n",
    "while dataset.kfold.next():\n",
    "    trainer.fit(model, datamodule=dataset)"
   ]
  },
  {
   "cell_type": "code",
   "execution_count": null,
   "id": "ancient-revision",
   "metadata": {},
   "outputs": [],
   "source": [
    "trainer, dataset, model = load_trainer('vgg16')\n",
    "trainer.fit(model, datamodule=dataset)"
   ]
  },
  {
   "cell_type": "code",
   "execution_count": null,
   "id": "ideal-prisoner",
   "metadata": {},
   "outputs": [],
   "source": [
    "trainer, dataset, model = load_trainer('testModel')\n",
    "trainer.fit(model, datamodule=dataset)"
   ]
  },
  {
   "cell_type": "code",
   "execution_count": null,
   "id": "separate-senegal",
   "metadata": {},
   "outputs": [],
   "source": [
    "trainer, dataset, model = load_trainer('roi')\n",
    "trainer.fit(model, datamodule=dataset)"
   ]
  },
  {
   "cell_type": "code",
   "execution_count": null,
   "id": "liquid-forwarding",
   "metadata": {},
   "outputs": [],
   "source": []
  }
 ],
 "metadata": {
  "kernelspec": {
   "display_name": "Master-thesis",
   "language": "python",
   "name": "master-thesis"
  },
  "language_info": {
   "codemirror_mode": {
    "name": "ipython",
    "version": 3
   },
   "file_extension": ".py",
   "mimetype": "text/x-python",
   "name": "python",
   "nbconvert_exporter": "python",
   "pygments_lexer": "ipython3",
   "version": "3.9.2"
  },
  "widgets": {
   "application/vnd.jupyter.widget-state+json": {
    "state": {},
    "version_major": 2,
    "version_minor": 0
   }
  }
 },
 "nbformat": 4,
 "nbformat_minor": 5
}
