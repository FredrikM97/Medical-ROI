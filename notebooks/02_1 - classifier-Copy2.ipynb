{
 "cells": [
  {
   "cell_type": "code",
   "execution_count": 1,
   "id": "incorporate-teach",
   "metadata": {},
   "outputs": [],
   "source": [
    "%load_ext autoreload\n",
    "%autoreload 2\n",
    "import sys\n",
    "import time\n",
    "if '..' not in sys.path: sys.path.append(\"..\")"
   ]
  },
  {
   "cell_type": "code",
   "execution_count": 2,
   "id": "turned-modification",
   "metadata": {},
   "outputs": [],
   "source": [
    "from src.classifier import agent "
   ]
  },
  {
   "cell_type": "code",
   "execution_count": 3,
   "id": "danish-malpractice",
   "metadata": {},
   "outputs": [],
   "source": [
    "def run_me(name,i_limit=5,base_config='base'):\n",
    "    trainer = agent.Agent(name, base_config=base_config)\n",
    "    try:\n",
    "        i = 0\n",
    "        while True:\n",
    "            try:\n",
    "                tr = trainer.run()\n",
    "                time.sleep(10)\n",
    "                i += 1\n",
    "                del tr\n",
    "                if not trainer.dataloader.next_fold() or i == i_limit and i_limit != -1: break\n",
    "            except:\n",
    "                pass\n",
    "    except Exception as e:\n",
    "        raise e"
   ]
  },
  {
   "cell_type": "code",
   "execution_count": null,
   "id": "wicked-accountability",
   "metadata": {},
   "outputs": [],
   "source": [
    "models = ['resnet18_brew3','resnet34_brew3','resnet50_brew3']\n",
    "for name in models:\n",
    "    run_me(name, base_config='base2')"
   ]
  },
  {
   "cell_type": "code",
   "execution_count": null,
   "id": "e5e91886-6546-475b-a11a-b3a3faa888fb",
   "metadata": {
    "collapsed": true,
    "jupyter": {
     "outputs_hidden": true
    },
    "tags": []
   },
   "outputs": [
    {
     "name": "stderr",
     "output_type": "stream",
     "text": [
      "/home/stud/f/fremar16/miniconda3/envs/Master-thesis/lib/python3.9/site-packages/torchmetrics/utilities/prints.py:36: UserWarning: Metric `AUROC` will save all targets and predictions in buffer. For large datasets this may lead to large memory footprint.\n",
      "  warnings.warn(*args, **kwargs)\n",
      "GPU available: True, used: True\n",
      "TPU available: False, using: 0 TPU cores\n",
      "Missing logger folder: /var/metrics/codetests/logs/tb/basic/20210517223112\n",
      "LOCAL_RANK: 0 - CUDA_VISIBLE_DEVICES: [0]\n",
      "\n",
      "  | Name               | Type             | Params\n",
      "--------------------------------------------------------\n",
      "0 | model              | basic            | 4.4 M \n",
      "1 | criteria           | CrossEntropyLoss | 0     \n",
      "2 | train_metrics      | MetricCollection | 0     \n",
      "3 | valid_metrics      | MetricCollection | 0     \n",
      "4 | valid_dummy_metric | AUROC            | 0     \n",
      "--------------------------------------------------------\n",
      "4.4 M     Trainable params\n",
      "0         Non-trainable params\n",
      "4.4 M     Total params\n",
      "17.663    Total estimated model params size (MB)\n"
     ]
    },
    {
     "name": "stdout",
     "output_type": "stream",
     "text": [
      "***Defined dataloader:***\n",
      "Data directory: data/SPM_categorised/Amira/\n",
      "Dataset sizes - Training: 500 Validation: 56\n",
      "Seed: 420\n",
      "Augmentation: Enabled\n",
      "KFold: Enabled - Fold: 1/10\n",
      "\n",
      "Architecture [basic] was created\n",
      "***Defined hyperparameters:***\n",
      "\"arch\":                {'name': 'basic', 'args': {'num_channels': 1, 'num_classes': 3}}\n",
      "\"checkpoint_path\":     None\n",
      "\"class_weights\":       tensor([1.1905, 0.9259, 0.9259], device='cuda:0')\n",
      "\"hp_metrics\":          ['loss/train', 'loss/val', 'Accuracy/val', 'AUROC/val', 'Precision/val', 'Recall/val', 'Specificity/val']\n",
      "\"loss\":                {'type': 'CrossEntropyLoss', 'args': {'weight': True}}\n",
      "\"optimizer\":           {'type': 'Adam', 'args': {'lr': 0.0001, 'weight_decay': 0, 'amsgrad': True}}\n",
      "\"roi_hparams\":         {'enable': False, 'output_shape': [3, 3, 3], 'boundary_boxes': []}\n",
      "\"weight_distribution\": normal\n",
      "Enabled callbacks:  ['LitProgressBar']\n",
      "Dataloader fold: 1\n",
      "Epoch 100 [63/63] {'loss': '0.766'}\r"
     ]
    },
    {
     "name": "stderr",
     "output_type": "stream",
     "text": [
      "GPU available: True, used: True\n",
      "TPU available: False, using: 0 TPU cores\n",
      "LOCAL_RANK: 0 - CUDA_VISIBLE_DEVICES: [0]\n",
      "\n",
      "  | Name               | Type             | Params\n",
      "--------------------------------------------------------\n",
      "0 | model              | basic            | 4.4 M \n",
      "1 | criteria           | CrossEntropyLoss | 0     \n",
      "2 | train_metrics      | MetricCollection | 0     \n",
      "3 | valid_metrics      | MetricCollection | 0     \n",
      "4 | valid_dummy_metric | AUROC            | 0     \n",
      "--------------------------------------------------------\n",
      "4.4 M     Trainable params\n",
      "0         Non-trainable params\n",
      "4.4 M     Total params\n",
      "17.663    Total estimated model params size (MB)\n"
     ]
    },
    {
     "name": "stdout",
     "output_type": "stream",
     "text": [
      "Architecture [basic] was created\n",
      "***Defined hyperparameters:***\n",
      "\"arch\":                {'name': 'basic', 'args': {'num_channels': 1, 'num_classes': 3}}\n",
      "\"checkpoint_path\":     None\n",
      "\"class_weights\":       tensor([1.1905, 0.9259, 0.9259], device='cuda:0')\n",
      "\"hp_metrics\":          ['loss/train', 'loss/val', 'Accuracy/val', 'AUROC/val', 'Precision/val', 'Recall/val', 'Specificity/val']\n",
      "\"loss\":                {'type': 'CrossEntropyLoss', 'args': {'weight': True}}\n",
      "\"optimizer\":           {'type': 'Adam', 'args': {'lr': 0.0001, 'weight_decay': 0, 'amsgrad': True}}\n",
      "\"roi_hparams\":         {'enable': False, 'output_shape': [3, 3, 3], 'boundary_boxes': []}\n",
      "\"weight_distribution\": normal\n",
      "Enabled callbacks:  ['LitProgressBar']\n",
      "Dataloader fold: 2\n",
      "Epoch 100 [63/63] {'loss': '0.908'}\r"
     ]
    },
    {
     "name": "stderr",
     "output_type": "stream",
     "text": [
      "GPU available: True, used: True\n",
      "TPU available: False, using: 0 TPU cores\n",
      "LOCAL_RANK: 0 - CUDA_VISIBLE_DEVICES: [0]\n",
      "\n",
      "  | Name               | Type             | Params\n",
      "--------------------------------------------------------\n",
      "0 | model              | basic            | 4.4 M \n",
      "1 | criteria           | CrossEntropyLoss | 0     \n",
      "2 | train_metrics      | MetricCollection | 0     \n",
      "3 | valid_metrics      | MetricCollection | 0     \n",
      "4 | valid_dummy_metric | AUROC            | 0     \n",
      "--------------------------------------------------------\n",
      "4.4 M     Trainable params\n",
      "0         Non-trainable params\n",
      "4.4 M     Total params\n",
      "17.663    Total estimated model params size (MB)\n"
     ]
    },
    {
     "name": "stdout",
     "output_type": "stream",
     "text": [
      "Architecture [basic] was created\n",
      "***Defined hyperparameters:***\n",
      "\"arch\":                {'name': 'basic', 'args': {'num_channels': 1, 'num_classes': 3}}\n",
      "\"checkpoint_path\":     None\n",
      "\"class_weights\":       tensor([1.1905, 0.9259, 0.9259], device='cuda:0')\n",
      "\"hp_metrics\":          ['loss/train', 'loss/val', 'Accuracy/val', 'AUROC/val', 'Precision/val', 'Recall/val', 'Specificity/val']\n",
      "\"loss\":                {'type': 'CrossEntropyLoss', 'args': {'weight': True}}\n",
      "\"optimizer\":           {'type': 'Adam', 'args': {'lr': 0.0001, 'weight_decay': 0, 'amsgrad': True}}\n",
      "\"roi_hparams\":         {'enable': False, 'output_shape': [3, 3, 3], 'boundary_boxes': []}\n",
      "\"weight_distribution\": normal\n",
      "Enabled callbacks:  ['LitProgressBar']\n",
      "Dataloader fold: 3\n",
      "Epoch 100 [63/63] {'loss': '0.854'}\r"
     ]
    },
    {
     "name": "stderr",
     "output_type": "stream",
     "text": [
      "GPU available: True, used: True\n",
      "TPU available: False, using: 0 TPU cores\n",
      "LOCAL_RANK: 0 - CUDA_VISIBLE_DEVICES: [0]\n",
      "\n",
      "  | Name               | Type             | Params\n",
      "--------------------------------------------------------\n",
      "0 | model              | basic            | 4.4 M \n",
      "1 | criteria           | CrossEntropyLoss | 0     \n",
      "2 | train_metrics      | MetricCollection | 0     \n",
      "3 | valid_metrics      | MetricCollection | 0     \n",
      "4 | valid_dummy_metric | AUROC            | 0     \n",
      "--------------------------------------------------------\n",
      "4.4 M     Trainable params\n",
      "0         Non-trainable params\n",
      "4.4 M     Total params\n",
      "17.663    Total estimated model params size (MB)\n"
     ]
    },
    {
     "name": "stdout",
     "output_type": "stream",
     "text": [
      "Architecture [basic] was created\n",
      "***Defined hyperparameters:***\n",
      "\"arch\":                {'name': 'basic', 'args': {'num_channels': 1, 'num_classes': 3}}\n",
      "\"checkpoint_path\":     None\n",
      "\"class_weights\":       tensor([1.1905, 0.9259, 0.9259], device='cuda:0')\n",
      "\"hp_metrics\":          ['loss/train', 'loss/val', 'Accuracy/val', 'AUROC/val', 'Precision/val', 'Recall/val', 'Specificity/val']\n",
      "\"loss\":                {'type': 'CrossEntropyLoss', 'args': {'weight': True}}\n",
      "\"optimizer\":           {'type': 'Adam', 'args': {'lr': 0.0001, 'weight_decay': 0, 'amsgrad': True}}\n",
      "\"roi_hparams\":         {'enable': False, 'output_shape': [3, 3, 3], 'boundary_boxes': []}\n",
      "\"weight_distribution\": normal\n",
      "Enabled callbacks:  ['LitProgressBar']\n",
      "Dataloader fold: 4\n",
      "Epoch 78 [29/63] {'loss': '0.902'}\r"
     ]
    },
    {
     "name": "stderr",
     "output_type": "stream",
     "text": [
      "/home/stud/f/fremar16/miniconda3/envs/Master-thesis/lib/python3.9/site-packages/pytorch_lightning/utilities/distributed.py:69: UserWarning: Detected KeyboardInterrupt, attempting graceful shutdown...\n",
      "  warnings.warn(*args, **kwargs)\n"
     ]
    }
   ],
   "source": [
    "models = ['basic']\n",
    "for name in models:\n",
    "    run_me(name, base_config='base')"
   ]
  },
  {
   "cell_type": "code",
   "execution_count": null,
   "id": "c197c66c-f53d-4758-9e29-b18784c9ce08",
   "metadata": {},
   "outputs": [
    {
     "name": "stdout",
     "output_type": "stream",
     "text": [
      "***Defined dataloader:***\n",
      "Data directory: data/SPM_categorised/Amira/\n",
      "Dataset sizes - Training: 500 Validation: 56\n",
      "Seed: 420\n",
      "Augmentation: Enabled\n",
      "KFold: Enabled - Fold: 1/10\n",
      "\n"
     ]
    }
   ],
   "source": [
    "models = ['vgg16']\n",
    "for name in models:\n",
    "    run_me(name, base_config='base')"
   ]
  },
  {
   "cell_type": "code",
   "execution_count": null,
   "id": "51d1d384-6033-4340-bd36-0aed5ac6e2b2",
   "metadata": {},
   "outputs": [],
   "source": []
  }
 ],
 "metadata": {
  "kernelspec": {
   "display_name": "Master-thesis",
   "language": "python",
   "name": "master-thesis"
  },
  "language_info": {
   "codemirror_mode": {
    "name": "ipython",
    "version": 3
   },
   "file_extension": ".py",
   "mimetype": "text/x-python",
   "name": "python",
   "nbconvert_exporter": "python",
   "pygments_lexer": "ipython3",
   "version": "3.9.2"
  },
  "widgets": {
   "application/vnd.jupyter.widget-state+json": {
    "state": {},
    "version_major": 2,
    "version_minor": 0
   }
  }
 },
 "nbformat": 4,
 "nbformat_minor": 5
}
