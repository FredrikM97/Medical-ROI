{
 "cells": [
  {
   "cell_type": "code",
   "execution_count": 8,
   "id": "94ae7e0c-2154-4075-beca-a1b5ecc12ea7",
   "metadata": {},
   "outputs": [],
   "source": [
    "import torch\n",
    "import nms_extension"
   ]
  },
  {
   "cell_type": "code",
   "execution_count": 4,
   "id": "4691600c-e1fd-46ee-a783-4e182d21ff51",
   "metadata": {},
   "outputs": [
    {
     "name": "stdout",
     "output_type": "stream",
     "text": [
      "The autoreload extension is already loaded. To reload it, use:\n",
      "  %reload_ext autoreload\n"
     ]
    }
   ],
   "source": [
    "%load_ext autoreload\n",
    "%autoreload 2\n",
    "import sys\n",
    "if '..' not in sys.path: sys.path.append(\"..\")"
   ]
  },
  {
   "cell_type": "code",
   "execution_count": 5,
   "id": "226a3b9b-b5aa-4339-a7e8-f5648cc620e7",
   "metadata": {},
   "outputs": [],
   "source": [
    "from dependencies.roi_align import roi_align"
   ]
  },
  {
   "cell_type": "code",
   "execution_count": 6,
   "id": "d0587ee5-c6f5-450e-a651-782bd9d9327a",
   "metadata": {},
   "outputs": [],
   "source": [
    "import roi_align"
   ]
  },
  {
   "cell_type": "code",
   "execution_count": 7,
   "id": "83ba4a30-92c5-4af0-9387-05623101c26c",
   "metadata": {},
   "outputs": [
    {
     "ename": "SyntaxError",
     "evalue": "invalid syntax (<ipython-input-7-17da4f78e6dd>, line 1)",
     "output_type": "error",
     "traceback": [
      "\u001b[0;36m  File \u001b[0;32m\"<ipython-input-7-17da4f78e6dd>\"\u001b[0;36m, line \u001b[0;32m1\u001b[0m\n\u001b[0;31m    roi_align.\u001b[0m\n\u001b[0m              ^\u001b[0m\n\u001b[0;31mSyntaxError\u001b[0m\u001b[0;31m:\u001b[0m invalid syntax\n"
     ]
    }
   ],
   "source": [
    "roi_align."
   ]
  },
  {
   "cell_type": "code",
   "execution_count": 2,
   "id": "48c6dd16-e3f8-46a0-893e-46621428da03",
   "metadata": {},
   "outputs": [],
   "source": [
    "from dependencies.nms import nms"
   ]
  },
  {
   "cell_type": "code",
   "execution_count": 3,
   "id": "ffa6de77-92e0-4153-a85f-7472da876c7d",
   "metadata": {},
   "outputs": [
    {
     "data": {
      "text/plain": [
       "['__name__',\n",
       " '__doc__',\n",
       " '__package__',\n",
       " '__loader__',\n",
       " '__spec__',\n",
       " '__file__',\n",
       " '__cached__',\n",
       " '__builtins__',\n",
       " 'torch',\n",
       " 'nms_extension',\n",
       " 'nms',\n",
       " 'batched_nms']"
      ]
     },
     "execution_count": 3,
     "metadata": {},
     "output_type": "execute_result"
    }
   ],
   "source": [
    "nms.__dir__()"
   ]
  },
  {
   "cell_type": "code",
   "execution_count": 1,
   "id": "f7fb1b9c-44e5-4ed2-9b0f-27e16c73daeb",
   "metadata": {},
   "outputs": [
    {
     "ename": "ImportError",
     "evalue": "attempted relative import with no known parent package",
     "output_type": "error",
     "traceback": [
      "\u001b[0;31m---------------------------------------------------------------------------\u001b[0m",
      "\u001b[0;31mImportError\u001b[0m                               Traceback (most recent call last)",
      "\u001b[0;32m<ipython-input-1-44cfe6e5c251>\u001b[0m in \u001b[0;36m<module>\u001b[0;34m\u001b[0m\n\u001b[0;32m----> 1\u001b[0;31m \u001b[0;32mimport\u001b[0m \u001b[0mnms\u001b[0m\u001b[0;34m\u001b[0m\u001b[0;34m\u001b[0m\u001b[0m\n\u001b[0m",
      "\u001b[0;32m<frozen zipimport>\u001b[0m in \u001b[0;36mload_module\u001b[0;34m(self, fullname)\u001b[0m\n",
      "\u001b[0;32m~/miniconda3/envs/Master-thesis/lib/python3.9/site-packages/nms-0.0.0-py3.9.egg/nms.py\u001b[0m in \u001b[0;36m<module>\u001b[0;34m\u001b[0m\n\u001b[1;32m      6\u001b[0m \u001b[0;34m\u001b[0m\u001b[0m\n\u001b[1;32m      7\u001b[0m \u001b[0;32mimport\u001b[0m \u001b[0mtorch\u001b[0m\u001b[0;34m\u001b[0m\u001b[0;34m\u001b[0m\u001b[0m\n\u001b[0;32m----> 8\u001b[0;31m \u001b[0;32mfrom\u001b[0m \u001b[0;34m.\u001b[0m \u001b[0;32mimport\u001b[0m \u001b[0mnms_extension\u001b[0m\u001b[0;34m\u001b[0m\u001b[0;34m\u001b[0m\u001b[0m\n\u001b[0m\u001b[1;32m      9\u001b[0m \u001b[0;34m\u001b[0m\u001b[0m\n\u001b[1;32m     10\u001b[0m \u001b[0;32mdef\u001b[0m \u001b[0mnms\u001b[0m\u001b[0;34m(\u001b[0m\u001b[0mboxes\u001b[0m\u001b[0;34m,\u001b[0m \u001b[0mscores\u001b[0m\u001b[0;34m,\u001b[0m \u001b[0miou_threshold\u001b[0m\u001b[0;34m)\u001b[0m\u001b[0;34m:\u001b[0m\u001b[0;34m\u001b[0m\u001b[0;34m\u001b[0m\u001b[0m\n",
      "\u001b[0;31mImportError\u001b[0m: attempted relative import with no known parent package"
     ]
    }
   ],
   "source": [
    "import nms"
   ]
  },
  {
   "cell_type": "code",
   "execution_count": 2,
   "id": "8ec199a6-6130-4aaf-ac4e-60ab7337ace3",
   "metadata": {},
   "outputs": [
    {
     "data": {
      "text/plain": [
       "<module 'nms_extension' from '/home/stud/f/fremar16/miniconda3/envs/Master-thesis/lib/python3.9/site-packages/nms_extension-0.0.0-py3.9-linux-x86_64.egg/nms_extension.cpython-39-x86_64-linux-gnu.so'>"
      ]
     },
     "execution_count": 2,
     "metadata": {},
     "output_type": "execute_result"
    }
   ],
   "source": [
    "nms.nms_extension"
   ]
  },
  {
   "cell_type": "code",
   "execution_count": 2,
   "id": "59e7598c-9deb-41e4-bde2-cc3b5816d7fd",
   "metadata": {},
   "outputs": [
    {
     "ename": "ImportError",
     "evalue": "libc10.so: cannot open shared object file: No such file or directory",
     "output_type": "error",
     "traceback": [
      "\u001b[0;31m---------------------------------------------------------------------------\u001b[0m",
      "\u001b[0;31mImportError\u001b[0m                               Traceback (most recent call last)",
      "\u001b[0;32m<ipython-input-2-56454925f257>\u001b[0m in \u001b[0;36m<module>\u001b[0;34m\u001b[0m\n\u001b[0;32m----> 1\u001b[0;31m \u001b[0;32mimport\u001b[0m \u001b[0mroi_al_extension_3d\u001b[0m\u001b[0;34m\u001b[0m\u001b[0;34m\u001b[0m\u001b[0m\n\u001b[0m",
      "\u001b[0;31mImportError\u001b[0m: libc10.so: cannot open shared object file: No such file or directory"
     ]
    }
   ],
   "source": [
    "import roi_al_extension_3d"
   ]
  },
  {
   "cell_type": "code",
   "execution_count": 3,
   "id": "1c4041f3-b10b-464a-b6bd-78bfacba7b1f",
   "metadata": {},
   "outputs": [
    {
     "data": {
      "text/plain": [
       "<function nms_extension.PyCapsule.nms>"
      ]
     },
     "execution_count": 3,
     "metadata": {},
     "output_type": "execute_result"
    }
   ],
   "source": [
    "nms_extension.nms"
   ]
  },
  {
   "cell_type": "code",
   "execution_count": 4,
   "id": "446c1537-03b2-4954-b662-af9305b97edb",
   "metadata": {},
   "outputs": [
    {
     "data": {
      "text/plain": [
       "['__name__',\n",
       " '__doc__',\n",
       " '__package__',\n",
       " '__loader__',\n",
       " '__spec__',\n",
       " 'nms',\n",
       " '__file__']"
      ]
     },
     "execution_count": 4,
     "metadata": {},
     "output_type": "execute_result"
    }
   ],
   "source": [
    "nms_extension.__dir__()"
   ]
  },
  {
   "cell_type": "code",
   "execution_count": 5,
   "id": "71cde28e-136c-46c3-a5b4-07a8772fbe35",
   "metadata": {},
   "outputs": [
    {
     "data": {
      "text/plain": [
       "{'__name__': 'nms_extension',\n",
       " '__doc__': None,\n",
       " '__package__': '',\n",
       " '__loader__': <_frozen_importlib_external.ExtensionFileLoader at 0x7fb32048ab50>,\n",
       " '__spec__': ModuleSpec(name='nms_extension', loader=<_frozen_importlib_external.ExtensionFileLoader object at 0x7fb32048ab50>, origin='/home/stud/f/fremar16/miniconda3/envs/Master-thesis/lib/python3.9/site-packages/NMS-0.0.0-py3.9-linux-x86_64.egg/nms_extension.cpython-39-x86_64-linux-gnu.so'),\n",
       " 'nms': <function nms_extension.PyCapsule.nms>,\n",
       " '__file__': '/home/stud/f/fremar16/miniconda3/envs/Master-thesis/lib/python3.9/site-packages/NMS-0.0.0-py3.9-linux-x86_64.egg/nms_extension.cpython-39-x86_64-linux-gnu.so'}"
      ]
     },
     "execution_count": 5,
     "metadata": {},
     "output_type": "execute_result"
    }
   ],
   "source": [
    "nms_extension.__dict__"
   ]
  },
  {
   "cell_type": "code",
   "execution_count": 20,
   "id": "5afa784d-ac30-43fa-8d01-08c9108783c4",
   "metadata": {},
   "outputs": [
    {
     "data": {
      "text/plain": [
       "['src']"
      ]
     },
     "execution_count": 20,
     "metadata": {},
     "output_type": "execute_result"
    }
   ],
   "source": [
    "from setuptools import find_packages\n",
    "find_packages(where=\"../dependencies/nms/\")"
   ]
  },
  {
   "cell_type": "code",
   "execution_count": 5,
   "id": "72b3ff94-4c00-46ab-a921-141213dd4d3e",
   "metadata": {},
   "outputs": [],
   "source": [
    "import RoIAlign"
   ]
  },
  {
   "cell_type": "code",
   "execution_count": 12,
   "id": "21796ad0-64d4-4df1-a730-353822e02c4f",
   "metadata": {},
   "outputs": [
    {
     "data": {
      "text/plain": [
       "{'__name__': 'RoIAlign',\n",
       " '__doc__': None,\n",
       " '__package__': 'RoIAlign',\n",
       " '__loader__': <_frozen_importlib_external._NamespaceLoader at 0x7fa45efb6fd0>,\n",
       " '__spec__': ModuleSpec(name='RoIAlign', loader=<_frozen_importlib_external._NamespaceLoader object at 0x7fa45efb6fd0>, submodule_search_locations=_NamespacePath(['/home/stud/f/fremar16/miniconda3/envs/Master-thesis/lib/python3.9/site-packages/RoIAlign-0.0.0-py3.9-linux-x86_64.egg/RoIAlign'])),\n",
       " '__file__': None,\n",
       " '__path__': _NamespacePath(['/home/stud/f/fremar16/miniconda3/envs/Master-thesis/lib/python3.9/site-packages/RoIAlign-0.0.0-py3.9-linux-x86_64.egg/RoIAlign'])}"
      ]
     },
     "execution_count": 12,
     "metadata": {},
     "output_type": "execute_result"
    }
   ],
   "source": [
    "RoIAlign.__dict__"
   ]
  },
  {
   "cell_type": "code",
   "execution_count": null,
   "id": "79e7aefd-9cf8-4013-adf6-f73121decff3",
   "metadata": {},
   "outputs": [],
   "source": []
  }
 ],
 "metadata": {
  "kernelspec": {
   "display_name": "Master-thesis",
   "language": "python",
   "name": "master-thesis"
  },
  "language_info": {
   "codemirror_mode": {
    "name": "ipython",
    "version": 3
   },
   "file_extension": ".py",
   "mimetype": "text/x-python",
   "name": "python",
   "nbconvert_exporter": "python",
   "pygments_lexer": "ipython3",
   "version": "3.9.2"
  }
 },
 "nbformat": 4,
 "nbformat_minor": 5
}
