{
 "cells": [
  {
   "cell_type": "code",
   "execution_count": 1,
   "id": "arranged-andrews",
   "metadata": {},
   "outputs": [],
   "source": [
    "%load_ext autoreload\n",
    "%autoreload 2\n",
    "import sys\n",
    "if '..' not in sys.path: sys.path.append(\"..\")"
   ]
  },
  {
   "cell_type": "code",
   "execution_count": 2,
   "id": "assured-diesel",
   "metadata": {},
   "outputs": [],
   "source": [
    "import time\n",
    "from src.classifier.agent import Agent\n",
    "from src.utils.utils import create_directory\n",
    "from src.utils.decorator import close_on_finish_decorator"
   ]
  },
  {
   "cell_type": "code",
   "execution_count": 3,
   "id": "realistic-proposition",
   "metadata": {},
   "outputs": [],
   "source": [
    "import torch\n",
    "def run_me(name,i_limit=5,base_config='base'):\n",
    "    torch.cuda.empty_cache()\n",
    "    agent = Agent(name, base_config=base_config)\n",
    "    logged_metrics = []\n",
    "    \n",
    "    agent.load_model() \n",
    "    agent.load_trainer()\n",
    "    print(f\"{agent.trainer.logger.log_dir.rsplit('/',1)[0]}/\")\n",
    "    create_directory(f\"{agent.trainer.logger.log_dir.rsplit('/',1)[0]}/\") \n",
    "    with open(f\"{agent.trainer.logger.log_dir.rsplit('/',1)[0]}/hparams.json\", \"w\") as write_file:\n",
    "        json.dump(agent._config, write_file, indent = 6)\n",
    "            \n",
    "    try:\n",
    "        i = 0\n",
    "        while True:\n",
    "            agent.load_model() \n",
    "            agent.load_trainer()\n",
    "            print(f\"Dataloader fold: {agent.dataloader.kfold_index}\")\n",
    "            close_on_finish_decorator(agent.trainer.fit, agent.trainer.logger.log_dir, agent.model, datamodule=agent.dataloader, message=agent._config) \n",
    "            \n",
    "            with open(agent.trainer.logger.log_dir.rsplit(\"/\",1)[0] + \"/logged_metrics\", 'a+') as f:\n",
    "                f.write(str(agent.trainer.logged_metrics))\n",
    "                \n",
    "            logged_metrics.append(agent.trainer.logged_metrics)\n",
    "            time.sleep(10)\n",
    "            i += 1\n",
    "            #del tr\n",
    "\n",
    "            \n",
    "            if not agent.dataloader.next_fold() or i == i_limit and i_limit != -1: break\n",
    "            torch.cuda.empty_cache()\n",
    "    except Exception as e:\n",
    "        torch.cuda.empty_cache()\n",
    "        raise e\n",
    "    print(f\"{name}: {logged_metrics}\")"
   ]
  },
  {
   "cell_type": "code",
   "execution_count": 12,
   "id": "collective-kingston",
   "metadata": {
    "collapsed": true,
    "jupyter": {
     "outputs_hidden": true
    },
    "tags": []
   },
   "outputs": [
    {
     "name": "stdout",
     "output_type": "stream",
     "text": [
      "***Defined dataloader:***\n",
      "Data directory: data/SPM_categorised/ADNI1/\n",
      "Dataset sizes - Training: 273 Validation: 31\n",
      "Seed: 0\n",
      "Augmentation: Enabled\n",
      "KFold: Enabled - Fold: 1/10\n",
      "\n",
      "Architecture [VGG] was created\n",
      "***Defined hyperparameters:***\n",
      "\"arch\":                {'name': 'vgg16', 'args': {'num_channels': 1, 'num_classes': 3}}\n",
      "\"checkpoint_path\":     None\n",
      "\"class_weights\":       None\n",
      "\"hp_metrics\":          ['loss/train', 'loss/val', 'Accuracy/val', 'AUROC/val', 'Precision/val', 'Recall/val', 'Specificity/val']\n",
      "\"loss\":                {'type': 'CrossEntropyLoss', 'args': {'weight': False}}\n",
      "\"optimizer\":           {'type': 'Adam', 'args': {'lr': 0.001, 'weight_decay': 0, 'amsgrad': False}}\n",
      "\"roi_hparams\":         {'enable': False, 'output_shape': [3, 3, 3], 'boundary_boxes': []}\n",
      "\"weight_distribution\": normal\n"
     ]
    },
    {
     "name": "stderr",
     "output_type": "stream",
     "text": [
      "/home/stud/f/fremar16/miniconda3/envs/Master-thesis/lib/python3.9/site-packages/torchmetrics/utilities/prints.py:36: UserWarning: Metric `AUROC` will save all targets and predictions in buffer. For large datasets this may lead to large memory footprint.\n",
      "  warnings.warn(*args, **kwargs)\n",
      "GPU available: True, used: True\n",
      "TPU available: False, using: 0 TPU cores\n",
      "Missing logger folder: /var/metrics/codetests/logs/tb/final/vgg16/20210528193314\n"
     ]
    },
    {
     "name": "stdout",
     "output_type": "stream",
     "text": [
      "Enabled callbacks:  ['LitProgressBar', 'EarlyStopping']\n",
      "/var/metrics/codetests/logs/tb/final/vgg16/20210528193314\n"
     ]
    },
    {
     "ename": "FileNotFoundError",
     "evalue": "[Errno 2] No such file or directory: '/var/metrics/codetests/logs/tb/final/vgg16/20210528193314/hparams.json'",
     "output_type": "error",
     "traceback": [
      "\u001b[0;31m---------------------------------------------------------------------------\u001b[0m",
      "\u001b[0;31mFileNotFoundError\u001b[0m                         Traceback (most recent call last)",
      "\u001b[0;32m<ipython-input-12-345518f71bee>\u001b[0m in \u001b[0;36m<module>\u001b[0;34m\u001b[0m\n\u001b[1;32m      1\u001b[0m \u001b[0mmodels\u001b[0m \u001b[0;34m=\u001b[0m \u001b[0;34m[\u001b[0m\u001b[0;34m'vgg16'\u001b[0m\u001b[0;34m]\u001b[0m\u001b[0;34m\u001b[0m\u001b[0;34m\u001b[0m\u001b[0m\n\u001b[1;32m      2\u001b[0m \u001b[0;32mfor\u001b[0m \u001b[0mname\u001b[0m \u001b[0;32min\u001b[0m \u001b[0mmodels\u001b[0m\u001b[0;34m:\u001b[0m\u001b[0;34m\u001b[0m\u001b[0;34m\u001b[0m\u001b[0m\n\u001b[0;32m----> 3\u001b[0;31m     \u001b[0mrun_me\u001b[0m\u001b[0;34m(\u001b[0m\u001b[0mname\u001b[0m\u001b[0;34m,\u001b[0m \u001b[0mbase_config\u001b[0m\u001b[0;34m=\u001b[0m\u001b[0;34m'base'\u001b[0m\u001b[0;34m,\u001b[0m\u001b[0mi_limit\u001b[0m\u001b[0;34m=\u001b[0m\u001b[0;36m6\u001b[0m\u001b[0;34m)\u001b[0m\u001b[0;34m\u001b[0m\u001b[0;34m\u001b[0m\u001b[0m\n\u001b[0m",
      "\u001b[0;32m<ipython-input-11-1365d716cb83>\u001b[0m in \u001b[0;36mrun_me\u001b[0;34m(name, i_limit, base_config)\u001b[0m\n\u001b[1;32m      9\u001b[0m     \u001b[0mprint\u001b[0m\u001b[0;34m(\u001b[0m\u001b[0;34mf\"{agent.trainer.logger.log_dir.rsplit('/',1)[0]}\"\u001b[0m\u001b[0;34m)\u001b[0m\u001b[0;34m\u001b[0m\u001b[0;34m\u001b[0m\u001b[0m\n\u001b[1;32m     10\u001b[0m     \u001b[0mcreate_directory\u001b[0m\u001b[0;34m(\u001b[0m\u001b[0;34mf\"{agent.trainer.logger.log_dir.rsplit('/',1)[0]}\"\u001b[0m\u001b[0;34m)\u001b[0m\u001b[0;34m\u001b[0m\u001b[0;34m\u001b[0m\u001b[0m\n\u001b[0;32m---> 11\u001b[0;31m     \u001b[0;32mwith\u001b[0m \u001b[0mopen\u001b[0m\u001b[0;34m(\u001b[0m\u001b[0;34mf\"{agent.trainer.logger.log_dir.rsplit('/',1)[0]}/hparams.json\"\u001b[0m\u001b[0;34m,\u001b[0m \u001b[0;34m\"w\"\u001b[0m\u001b[0;34m)\u001b[0m \u001b[0;32mas\u001b[0m \u001b[0mwrite_file\u001b[0m\u001b[0;34m:\u001b[0m\u001b[0;34m\u001b[0m\u001b[0;34m\u001b[0m\u001b[0m\n\u001b[0m\u001b[1;32m     12\u001b[0m         \u001b[0mjson\u001b[0m\u001b[0;34m.\u001b[0m\u001b[0mdump\u001b[0m\u001b[0;34m(\u001b[0m\u001b[0magent\u001b[0m\u001b[0;34m.\u001b[0m\u001b[0m_config\u001b[0m\u001b[0;34m,\u001b[0m \u001b[0mwrite_file\u001b[0m\u001b[0;34m,\u001b[0m \u001b[0mindent\u001b[0m \u001b[0;34m=\u001b[0m \u001b[0;36m6\u001b[0m\u001b[0;34m)\u001b[0m\u001b[0;34m\u001b[0m\u001b[0;34m\u001b[0m\u001b[0m\n\u001b[1;32m     13\u001b[0m \u001b[0;34m\u001b[0m\u001b[0m\n",
      "\u001b[0;31mFileNotFoundError\u001b[0m: [Errno 2] No such file or directory: '/var/metrics/codetests/logs/tb/final/vgg16/20210528193314/hparams.json'"
     ]
    }
   ],
   "source": [
    "models = ['vgg16']\n",
    "for name in models:\n",
    "    run_me(name, base_config='base',i_limit=6)"
   ]
  },
  {
   "cell_type": "code",
   "execution_count": null,
   "id": "stainless-declaration",
   "metadata": {
    "tags": []
   },
   "outputs": [
    {
     "name": "stderr",
     "output_type": "stream",
     "text": [
      "/home/stud/f/fremar16/miniconda3/envs/Master-thesis/lib/python3.9/site-packages/torchmetrics/utilities/prints.py:36: UserWarning: Metric `AUROC` will save all targets and predictions in buffer. For large datasets this may lead to large memory footprint.\n",
      "  warnings.warn(*args, **kwargs)\n",
      "GPU available: True, used: True\n",
      "TPU available: False, using: 0 TPU cores\n",
      "Missing logger folder: /var/metrics/codetests/logs/tb/augmented/customCNN/20210528202437\n",
      "GPU available: True, used: True\n",
      "TPU available: False, using: 0 TPU cores\n",
      "LOCAL_RANK: 0 - CUDA_VISIBLE_DEVICES: [0]\n"
     ]
    },
    {
     "name": "stdout",
     "output_type": "stream",
     "text": [
      "***Defined dataloader:***\n",
      "Data directory: data/SPM_categorised/ADNI1/\n",
      "Dataset sizes - Training: 273 Validation: 31\n",
      "Seed: 0\n",
      "Augmentation: Disabled\n",
      "KFold: Enabled - Fold: 1/10\n",
      "\n",
      "Architecture [customCNN] was created\n",
      "***Defined hyperparameters:***\n",
      "\"arch\":                {'name': 'customCNN', 'args': {'num_channels': 1, 'num_classes': 3}}\n",
      "\"checkpoint_path\":     None\n",
      "\"class_weights\":       None\n",
      "\"hp_metrics\":          ['loss/train', 'loss/val', 'Accuracy/val', 'AUROC/val', 'Precision/val', 'Recall/val', 'Specificity/val']\n",
      "\"loss\":                {'type': 'CrossEntropyLoss', 'args': {'weight': False}}\n",
      "\"optimizer\":           {'type': 'Adam', 'args': {'lr': 0.001, 'weight_decay': 0, 'amsgrad': False}}\n",
      "\"roi_hparams\":         {'enable': False, 'output_shape': [3, 3, 3], 'boundary_boxes': []}\n",
      "\"weight_distribution\": normal\n",
      "Enabled callbacks:  ['LitProgressBar', 'EarlyStopping']\n",
      "/var/metrics/codetests/logs/tb/augmented/customCNN/20210528202437/\n",
      "Architecture [customCNN] was created\n",
      "***Defined hyperparameters:***\n",
      "\"arch\":                {'name': 'customCNN', 'args': {'num_channels': 1, 'num_classes': 3}}\n",
      "\"checkpoint_path\":     None\n",
      "\"class_weights\":       None\n",
      "\"hp_metrics\":          ['loss/train', 'loss/val', 'Accuracy/val', 'AUROC/val', 'Precision/val', 'Recall/val', 'Specificity/val']\n",
      "\"loss\":                {'type': 'CrossEntropyLoss', 'args': {'weight': False}}\n",
      "\"optimizer\":           {'type': 'Adam', 'args': {'lr': 0.001, 'weight_decay': 0, 'amsgrad': False}}\n",
      "\"roi_hparams\":         {'enable': False, 'output_shape': [3, 3, 3], 'boundary_boxes': []}\n",
      "\"weight_distribution\": normal\n",
      "Enabled callbacks:  ['LitProgressBar', 'EarlyStopping']\n",
      "Dataloader fold: 1\n"
     ]
    },
    {
     "name": "stderr",
     "output_type": "stream",
     "text": [
      "\n",
      "  | Name               | Type             | Params\n",
      "--------------------------------------------------------\n",
      "0 | model              | customCNN        | 5.3 M \n",
      "1 | criteria           | CrossEntropyLoss | 0     \n",
      "2 | valid_metrics      | MetricCollection | 0     \n",
      "3 | valid_dummy_metric | AUROC            | 0     \n",
      "--------------------------------------------------------\n",
      "5.3 M     Trainable params\n",
      "0         Non-trainable params\n",
      "5.3 M     Total params\n",
      "21.285    Total estimated model params size (MB)\n"
     ]
    },
    {
     "name": "stdout",
     "output_type": "stream",
     "text": [
      "Epoch 1 [35/35] {'loss': '1.08'}\r"
     ]
    },
    {
     "name": "stderr",
     "output_type": "stream",
     "text": [
      "Metric loss/val improved. New best score: 1.031\n"
     ]
    },
    {
     "name": "stdout",
     "output_type": "stream",
     "text": [
      "Epoch 11 [35/35] {'loss': '1.07'}\r"
     ]
    },
    {
     "name": "stderr",
     "output_type": "stream",
     "text": [
      "Metric loss/val improved by 0.006 >= min_delta = 0.0001. New best score: 1.025\n"
     ]
    },
    {
     "name": "stdout",
     "output_type": "stream",
     "text": [
      "Epoch 21 [35/35] {'loss': '1'}2'}}\r"
     ]
    },
    {
     "name": "stderr",
     "output_type": "stream",
     "text": [
      "Metric loss/val improved by 0.006 >= min_delta = 0.0001. New best score: 1.019\n"
     ]
    },
    {
     "name": "stdout",
     "output_type": "stream",
     "text": [
      "Epoch 27 [35/35] {'loss': '1.12'}}\r"
     ]
    },
    {
     "name": "stderr",
     "output_type": "stream",
     "text": [
      "Metric loss/val improved by 0.017 >= min_delta = 0.0001. New best score: 1.002\n"
     ]
    },
    {
     "name": "stdout",
     "output_type": "stream",
     "text": [
      "Epoch 47 [35/35] {'loss': '1.01'}}\r"
     ]
    },
    {
     "name": "stderr",
     "output_type": "stream",
     "text": [
      "Monitored metric loss/val did not improve in the last 20 records. Best score: 1.002. Signaling Trainer to stop.\n",
      "GPU available: True, used: True\n",
      "TPU available: False, using: 0 TPU cores\n",
      "LOCAL_RANK: 0 - CUDA_VISIBLE_DEVICES: [0]\n",
      "\n",
      "  | Name               | Type             | Params\n",
      "--------------------------------------------------------\n",
      "0 | model              | customCNN        | 5.3 M \n",
      "1 | criteria           | CrossEntropyLoss | 0     \n",
      "2 | valid_metrics      | MetricCollection | 0     \n",
      "3 | valid_dummy_metric | AUROC            | 0     \n",
      "--------------------------------------------------------\n",
      "5.3 M     Trainable params\n",
      "0         Non-trainable params\n",
      "5.3 M     Total params\n",
      "21.285    Total estimated model params size (MB)\n"
     ]
    },
    {
     "name": "stdout",
     "output_type": "stream",
     "text": [
      "Architecture [customCNN] was created\n",
      "***Defined hyperparameters:***\n",
      "\"arch\":                {'name': 'customCNN', 'args': {'num_channels': 1, 'num_classes': 3}}\n",
      "\"checkpoint_path\":     None\n",
      "\"class_weights\":       None\n",
      "\"hp_metrics\":          ['loss/train', 'loss/val', 'Accuracy/val', 'AUROC/val', 'Precision/val', 'Recall/val', 'Specificity/val']\n",
      "\"loss\":                {'type': 'CrossEntropyLoss', 'args': {'weight': False}}\n",
      "\"optimizer\":           {'type': 'Adam', 'args': {'lr': 0.001, 'weight_decay': 0, 'amsgrad': False}}\n",
      "\"roi_hparams\":         {'enable': False, 'output_shape': [3, 3, 3], 'boundary_boxes': []}\n",
      "\"weight_distribution\": normal\n",
      "Enabled callbacks:  ['LitProgressBar', 'EarlyStopping']\n",
      "Dataloader fold: 2\n",
      "Epoch 1 [35/35] {'loss': '1.06'}\r"
     ]
    },
    {
     "name": "stderr",
     "output_type": "stream",
     "text": [
      "Metric loss/val improved. New best score: 1.040\n"
     ]
    },
    {
     "name": "stdout",
     "output_type": "stream",
     "text": [
      "Epoch 2 [35/35] {'loss': '1.08'}\r"
     ]
    },
    {
     "name": "stderr",
     "output_type": "stream",
     "text": [
      "Metric loss/val improved by 0.004 >= min_delta = 0.0001. New best score: 1.036\n"
     ]
    },
    {
     "name": "stdout",
     "output_type": "stream",
     "text": [
      "Epoch 10 [35/35] {'loss': '1.03'}\r"
     ]
    },
    {
     "name": "stderr",
     "output_type": "stream",
     "text": [
      "Metric loss/val improved by 0.008 >= min_delta = 0.0001. New best score: 1.028\n"
     ]
    },
    {
     "name": "stdout",
     "output_type": "stream",
     "text": [
      "Epoch 15 [35/35] {'loss': '1.03'}}\r"
     ]
    },
    {
     "name": "stderr",
     "output_type": "stream",
     "text": [
      "Metric loss/val improved by 0.000 >= min_delta = 0.0001. New best score: 1.028\n"
     ]
    },
    {
     "name": "stdout",
     "output_type": "stream",
     "text": [
      "Epoch 21 [35/35] {'loss': '1.14'}}\r"
     ]
    },
    {
     "name": "stderr",
     "output_type": "stream",
     "text": [
      "Metric loss/val improved by 0.005 >= min_delta = 0.0001. New best score: 1.022\n"
     ]
    },
    {
     "name": "stdout",
     "output_type": "stream",
     "text": [
      "Epoch 36 [35/35] {'loss': '1.05'}}\r"
     ]
    },
    {
     "name": "stderr",
     "output_type": "stream",
     "text": [
      "Metric loss/val improved by 0.009 >= min_delta = 0.0001. New best score: 1.013\n"
     ]
    },
    {
     "name": "stdout",
     "output_type": "stream",
     "text": [
      "Epoch 56 [35/35] {'loss': '1.15'}}\r"
     ]
    },
    {
     "name": "stderr",
     "output_type": "stream",
     "text": [
      "Monitored metric loss/val did not improve in the last 20 records. Best score: 1.013. Signaling Trainer to stop.\n",
      "GPU available: True, used: True\n",
      "TPU available: False, using: 0 TPU cores\n",
      "LOCAL_RANK: 0 - CUDA_VISIBLE_DEVICES: [0]\n",
      "\n",
      "  | Name               | Type             | Params\n",
      "--------------------------------------------------------\n",
      "0 | model              | customCNN        | 5.3 M \n",
      "1 | criteria           | CrossEntropyLoss | 0     \n",
      "2 | valid_metrics      | MetricCollection | 0     \n",
      "3 | valid_dummy_metric | AUROC            | 0     \n",
      "--------------------------------------------------------\n",
      "5.3 M     Trainable params\n",
      "0         Non-trainable params\n",
      "5.3 M     Total params\n",
      "21.285    Total estimated model params size (MB)\n"
     ]
    },
    {
     "name": "stdout",
     "output_type": "stream",
     "text": [
      "Architecture [customCNN] was created\n",
      "***Defined hyperparameters:***\n",
      "\"arch\":                {'name': 'customCNN', 'args': {'num_channels': 1, 'num_classes': 3}}\n",
      "\"checkpoint_path\":     None\n",
      "\"class_weights\":       None\n",
      "\"hp_metrics\":          ['loss/train', 'loss/val', 'Accuracy/val', 'AUROC/val', 'Precision/val', 'Recall/val', 'Specificity/val']\n",
      "\"loss\":                {'type': 'CrossEntropyLoss', 'args': {'weight': False}}\n",
      "\"optimizer\":           {'type': 'Adam', 'args': {'lr': 0.001, 'weight_decay': 0, 'amsgrad': False}}\n",
      "\"roi_hparams\":         {'enable': False, 'output_shape': [3, 3, 3], 'boundary_boxes': []}\n",
      "\"weight_distribution\": normal\n",
      "Enabled callbacks:  ['LitProgressBar', 'EarlyStopping']\n",
      "Dataloader fold: 3\n",
      "Epoch 1 [35/35] {'loss': '1.11'}\r"
     ]
    },
    {
     "name": "stderr",
     "output_type": "stream",
     "text": [
      "Metric loss/val improved. New best score: 1.070\n"
     ]
    },
    {
     "name": "stdout",
     "output_type": "stream",
     "text": [
      "Epoch 2 [35/35] {'loss': '1.05'}\r"
     ]
    },
    {
     "name": "stderr",
     "output_type": "stream",
     "text": [
      "Metric loss/val improved by 0.016 >= min_delta = 0.0001. New best score: 1.053\n"
     ]
    },
    {
     "name": "stdout",
     "output_type": "stream",
     "text": [
      "Epoch 4 [35/35] {'loss': '1.09'}\r"
     ]
    },
    {
     "name": "stderr",
     "output_type": "stream",
     "text": [
      "Metric loss/val improved by 0.019 >= min_delta = 0.0001. New best score: 1.034\n"
     ]
    },
    {
     "name": "stdout",
     "output_type": "stream",
     "text": [
      "Epoch 11 [35/35] {'loss': '1.05'}\r"
     ]
    },
    {
     "name": "stderr",
     "output_type": "stream",
     "text": [
      "Metric loss/val improved by 0.010 >= min_delta = 0.0001. New best score: 1.025\n"
     ]
    },
    {
     "name": "stdout",
     "output_type": "stream",
     "text": [
      "Epoch 14 [35/35] {'loss': '1.05'}}\r"
     ]
    },
    {
     "name": "stderr",
     "output_type": "stream",
     "text": [
      "Metric loss/val improved by 0.001 >= min_delta = 0.0001. New best score: 1.023\n"
     ]
    },
    {
     "name": "stdout",
     "output_type": "stream",
     "text": [
      "Epoch 16 [35/35] {'loss': '1.08'}}\r"
     ]
    },
    {
     "name": "stderr",
     "output_type": "stream",
     "text": [
      "Metric loss/val improved by 0.009 >= min_delta = 0.0001. New best score: 1.014\n"
     ]
    },
    {
     "name": "stdout",
     "output_type": "stream",
     "text": [
      "Epoch 17 [35/35] {'loss': '1.03'}}\r"
     ]
    },
    {
     "name": "stderr",
     "output_type": "stream",
     "text": [
      "Metric loss/val improved by 0.021 >= min_delta = 0.0001. New best score: 0.993\n"
     ]
    },
    {
     "name": "stdout",
     "output_type": "stream",
     "text": [
      "Epoch 20 [35/35] {'loss': '0.954'}\r"
     ]
    },
    {
     "name": "stderr",
     "output_type": "stream",
     "text": [
      "Metric loss/val improved by 0.003 >= min_delta = 0.0001. New best score: 0.990\n"
     ]
    },
    {
     "name": "stdout",
     "output_type": "stream",
     "text": [
      "Epoch 40 [35/35] {'loss': '0.945'}\r"
     ]
    },
    {
     "name": "stderr",
     "output_type": "stream",
     "text": [
      "Monitored metric loss/val did not improve in the last 20 records. Best score: 0.990. Signaling Trainer to stop.\n",
      "GPU available: True, used: True\n",
      "TPU available: False, using: 0 TPU cores\n",
      "LOCAL_RANK: 0 - CUDA_VISIBLE_DEVICES: [0]\n",
      "\n",
      "  | Name               | Type             | Params\n",
      "--------------------------------------------------------\n",
      "0 | model              | customCNN        | 5.3 M \n",
      "1 | criteria           | CrossEntropyLoss | 0     \n",
      "2 | valid_metrics      | MetricCollection | 0     \n",
      "3 | valid_dummy_metric | AUROC            | 0     \n",
      "--------------------------------------------------------\n",
      "5.3 M     Trainable params\n",
      "0         Non-trainable params\n",
      "5.3 M     Total params\n",
      "21.285    Total estimated model params size (MB)\n"
     ]
    },
    {
     "name": "stdout",
     "output_type": "stream",
     "text": [
      "Architecture [customCNN] was created\n",
      "***Defined hyperparameters:***\n",
      "\"arch\":                {'name': 'customCNN', 'args': {'num_channels': 1, 'num_classes': 3}}\n",
      "\"checkpoint_path\":     None\n",
      "\"class_weights\":       None\n",
      "\"hp_metrics\":          ['loss/train', 'loss/val', 'Accuracy/val', 'AUROC/val', 'Precision/val', 'Recall/val', 'Specificity/val']\n",
      "\"loss\":                {'type': 'CrossEntropyLoss', 'args': {'weight': False}}\n",
      "\"optimizer\":           {'type': 'Adam', 'args': {'lr': 0.001, 'weight_decay': 0, 'amsgrad': False}}\n",
      "\"roi_hparams\":         {'enable': False, 'output_shape': [3, 3, 3], 'boundary_boxes': []}\n",
      "\"weight_distribution\": normal\n",
      "Enabled callbacks:  ['LitProgressBar', 'EarlyStopping']\n",
      "Dataloader fold: 4\n",
      "Epoch 1 [35/35] {'loss': '1.06'}\r"
     ]
    },
    {
     "name": "stderr",
     "output_type": "stream",
     "text": [
      "Metric loss/val improved. New best score: 1.027\n"
     ]
    },
    {
     "name": "stdout",
     "output_type": "stream",
     "text": [
      "Epoch 14 [35/35] {'loss': '1.05'}}\r"
     ]
    },
    {
     "name": "stderr",
     "output_type": "stream",
     "text": [
      "Metric loss/val improved by 0.001 >= min_delta = 0.0001. New best score: 1.026\n"
     ]
    },
    {
     "name": "stdout",
     "output_type": "stream",
     "text": [
      "Epoch 34 [35/35] {'loss': '1.02'}}\r"
     ]
    },
    {
     "name": "stderr",
     "output_type": "stream",
     "text": [
      "Monitored metric loss/val did not improve in the last 20 records. Best score: 1.026. Signaling Trainer to stop.\n",
      "GPU available: True, used: True\n",
      "TPU available: False, using: 0 TPU cores\n",
      "LOCAL_RANK: 0 - CUDA_VISIBLE_DEVICES: [0]\n",
      "\n",
      "  | Name               | Type             | Params\n",
      "--------------------------------------------------------\n",
      "0 | model              | customCNN        | 5.3 M \n",
      "1 | criteria           | CrossEntropyLoss | 0     \n",
      "2 | valid_metrics      | MetricCollection | 0     \n",
      "3 | valid_dummy_metric | AUROC            | 0     \n",
      "--------------------------------------------------------\n",
      "5.3 M     Trainable params\n",
      "0         Non-trainable params\n",
      "5.3 M     Total params\n",
      "21.285    Total estimated model params size (MB)\n"
     ]
    },
    {
     "name": "stdout",
     "output_type": "stream",
     "text": [
      "Architecture [customCNN] was created\n",
      "***Defined hyperparameters:***\n",
      "\"arch\":                {'name': 'customCNN', 'args': {'num_channels': 1, 'num_classes': 3}}\n",
      "\"checkpoint_path\":     None\n",
      "\"class_weights\":       None\n",
      "\"hp_metrics\":          ['loss/train', 'loss/val', 'Accuracy/val', 'AUROC/val', 'Precision/val', 'Recall/val', 'Specificity/val']\n",
      "\"loss\":                {'type': 'CrossEntropyLoss', 'args': {'weight': False}}\n",
      "\"optimizer\":           {'type': 'Adam', 'args': {'lr': 0.001, 'weight_decay': 0, 'amsgrad': False}}\n",
      "\"roi_hparams\":         {'enable': False, 'output_shape': [3, 3, 3], 'boundary_boxes': []}\n",
      "\"weight_distribution\": normal\n",
      "Enabled callbacks:  ['LitProgressBar', 'EarlyStopping']\n",
      "Dataloader fold: 5\n",
      "Epoch 1 [35/35] {'loss': '1.1'}}}\r"
     ]
    },
    {
     "name": "stderr",
     "output_type": "stream",
     "text": [
      "Metric loss/val improved. New best score: 1.022\n"
     ]
    },
    {
     "name": "stdout",
     "output_type": "stream",
     "text": [
      "Epoch 10 [35/35] {'loss': '0.979'}\r"
     ]
    },
    {
     "name": "stderr",
     "output_type": "stream",
     "text": [
      "Metric loss/val improved by 0.010 >= min_delta = 0.0001. New best score: 1.012\n"
     ]
    },
    {
     "name": "stdout",
     "output_type": "stream",
     "text": [
      "Epoch 14 [35/35] {'loss': '1.09'}}\r"
     ]
    },
    {
     "name": "stderr",
     "output_type": "stream",
     "text": [
      "Metric loss/val improved by 0.002 >= min_delta = 0.0001. New best score: 1.010\n"
     ]
    },
    {
     "name": "stdout",
     "output_type": "stream",
     "text": [
      "Epoch 17 [35/35] {'loss': '1.01'}}\r"
     ]
    },
    {
     "name": "stderr",
     "output_type": "stream",
     "text": [
      "Metric loss/val improved by 0.019 >= min_delta = 0.0001. New best score: 0.991\n"
     ]
    },
    {
     "name": "stdout",
     "output_type": "stream",
     "text": [
      "Epoch 18 [35/35] {'loss': '1.01'}}\r"
     ]
    },
    {
     "name": "stderr",
     "output_type": "stream",
     "text": [
      "Metric loss/val improved by 0.021 >= min_delta = 0.0001. New best score: 0.970\n"
     ]
    },
    {
     "name": "stdout",
     "output_type": "stream",
     "text": [
      "Epoch 20 [35/35] {'loss': '1.01'}}\r"
     ]
    },
    {
     "name": "stderr",
     "output_type": "stream",
     "text": [
      "Metric loss/val improved by 0.019 >= min_delta = 0.0001. New best score: 0.952\n"
     ]
    },
    {
     "name": "stdout",
     "output_type": "stream",
     "text": [
      "Epoch 32 [35/35] {'loss': '0.974'}\r"
     ]
    },
    {
     "name": "stderr",
     "output_type": "stream",
     "text": [
      "Metric loss/val improved by 0.037 >= min_delta = 0.0001. New best score: 0.915\n"
     ]
    },
    {
     "name": "stdout",
     "output_type": "stream",
     "text": [
      "Epoch 33 [35/35] {'loss': '1'}3'}}\r"
     ]
    },
    {
     "name": "stderr",
     "output_type": "stream",
     "text": [
      "Metric loss/val improved by 0.009 >= min_delta = 0.0001. New best score: 0.906\n"
     ]
    },
    {
     "name": "stdout",
     "output_type": "stream",
     "text": [
      "Epoch 39 [35/35] {'loss': '1.04'}}\r"
     ]
    },
    {
     "name": "stderr",
     "output_type": "stream",
     "text": [
      "Metric loss/val improved by 0.026 >= min_delta = 0.0001. New best score: 0.879\n"
     ]
    },
    {
     "name": "stdout",
     "output_type": "stream",
     "text": [
      "Epoch 47 [35/35] {'loss': '0.925'}\r"
     ]
    },
    {
     "name": "stderr",
     "output_type": "stream",
     "text": [
      "Metric loss/val improved by 0.052 >= min_delta = 0.0001. New best score: 0.827\n"
     ]
    },
    {
     "name": "stdout",
     "output_type": "stream",
     "text": [
      "Epoch 50 [35/35] {'loss': '0.862'}\r"
     ]
    },
    {
     "name": "stderr",
     "output_type": "stream",
     "text": [
      "Metric loss/val improved by 0.024 >= min_delta = 0.0001. New best score: 0.804\n"
     ]
    },
    {
     "name": "stdout",
     "output_type": "stream",
     "text": [
      "Epoch 51 [35/35] {'loss': '0.84'}}\r"
     ]
    },
    {
     "name": "stderr",
     "output_type": "stream",
     "text": [
      "Metric loss/val improved by 0.011 >= min_delta = 0.0001. New best score: 0.792\n"
     ]
    },
    {
     "name": "stdout",
     "output_type": "stream",
     "text": [
      "Epoch 56 [35/35] {'loss': '0.901'}\r"
     ]
    },
    {
     "name": "stderr",
     "output_type": "stream",
     "text": [
      "Metric loss/val improved by 0.009 >= min_delta = 0.0001. New best score: 0.783\n"
     ]
    },
    {
     "name": "stdout",
     "output_type": "stream",
     "text": [
      "Epoch 60 [35/35] {'loss': '0.962'}\r"
     ]
    },
    {
     "name": "stderr",
     "output_type": "stream",
     "text": [
      "Metric loss/val improved by 0.019 >= min_delta = 0.0001. New best score: 0.764\n"
     ]
    },
    {
     "name": "stdout",
     "output_type": "stream",
     "text": [
      "Epoch 75 [35/35] {'loss': '0.722'}\r"
     ]
    },
    {
     "name": "stderr",
     "output_type": "stream",
     "text": [
      "Metric loss/val improved by 0.004 >= min_delta = 0.0001. New best score: 0.760\n"
     ]
    },
    {
     "name": "stdout",
     "output_type": "stream",
     "text": [
      "Epoch 82 [35/35] {'loss': '0.653'}\r"
     ]
    },
    {
     "name": "stderr",
     "output_type": "stream",
     "text": [
      "Metric loss/val improved by 0.024 >= min_delta = 0.0001. New best score: 0.736\n"
     ]
    },
    {
     "name": "stdout",
     "output_type": "stream",
     "text": [
      "Epoch 85 [35/35] {'loss': '0.589'}\r"
     ]
    },
    {
     "name": "stderr",
     "output_type": "stream",
     "text": [
      "Metric loss/val improved by 0.013 >= min_delta = 0.0001. New best score: 0.723\n"
     ]
    },
    {
     "name": "stdout",
     "output_type": "stream",
     "text": [
      "Epoch 88 [35/35] {'loss': '0.642'}\r"
     ]
    },
    {
     "name": "stderr",
     "output_type": "stream",
     "text": [
      "Metric loss/val improved by 0.036 >= min_delta = 0.0001. New best score: 0.687\n"
     ]
    },
    {
     "name": "stdout",
     "output_type": "stream",
     "text": [
      "Epoch 100 [35/35] {'loss': '0.297'}\r"
     ]
    },
    {
     "name": "stderr",
     "output_type": "stream",
     "text": [
      "GPU available: True, used: True\n",
      "TPU available: False, using: 0 TPU cores\n",
      "LOCAL_RANK: 0 - CUDA_VISIBLE_DEVICES: [0]\n",
      "\n",
      "  | Name               | Type             | Params\n",
      "--------------------------------------------------------\n",
      "0 | model              | customCNN        | 5.3 M \n",
      "1 | criteria           | CrossEntropyLoss | 0     \n",
      "2 | valid_metrics      | MetricCollection | 0     \n",
      "3 | valid_dummy_metric | AUROC            | 0     \n",
      "--------------------------------------------------------\n",
      "5.3 M     Trainable params\n",
      "0         Non-trainable params\n",
      "5.3 M     Total params\n",
      "21.285    Total estimated model params size (MB)\n"
     ]
    },
    {
     "name": "stdout",
     "output_type": "stream",
     "text": [
      "Architecture [customCNN] was created\n",
      "***Defined hyperparameters:***\n",
      "\"arch\":                {'name': 'customCNN', 'args': {'num_channels': 1, 'num_classes': 3}}\n",
      "\"checkpoint_path\":     None\n",
      "\"class_weights\":       None\n",
      "\"hp_metrics\":          ['loss/train', 'loss/val', 'Accuracy/val', 'AUROC/val', 'Precision/val', 'Recall/val', 'Specificity/val']\n",
      "\"loss\":                {'type': 'CrossEntropyLoss', 'args': {'weight': False}}\n",
      "\"optimizer\":           {'type': 'Adam', 'args': {'lr': 0.001, 'weight_decay': 0, 'amsgrad': False}}\n",
      "\"roi_hparams\":         {'enable': False, 'output_shape': [3, 3, 3], 'boundary_boxes': []}\n",
      "\"weight_distribution\": normal\n",
      "Enabled callbacks:  ['LitProgressBar', 'EarlyStopping']\n",
      "Dataloader fold: 6\n",
      "Epoch 1 [35/35] {'loss': '1.1'}}\r"
     ]
    },
    {
     "name": "stderr",
     "output_type": "stream",
     "text": [
      "Metric loss/val improved. New best score: 1.087\n"
     ]
    },
    {
     "name": "stdout",
     "output_type": "stream",
     "text": [
      "Epoch 2 [35/35] {'loss': '1.12'}\r"
     ]
    },
    {
     "name": "stderr",
     "output_type": "stream",
     "text": [
      "Metric loss/val improved by 0.034 >= min_delta = 0.0001. New best score: 1.053\n"
     ]
    },
    {
     "name": "stdout",
     "output_type": "stream",
     "text": [
      "Epoch 3 [35/35] {'loss': '1.09'}\r"
     ]
    },
    {
     "name": "stderr",
     "output_type": "stream",
     "text": [
      "Metric loss/val improved by 0.019 >= min_delta = 0.0001. New best score: 1.034\n"
     ]
    },
    {
     "name": "stdout",
     "output_type": "stream",
     "text": [
      "Epoch 4 [35/35] {'loss': '1.11'}\r"
     ]
    },
    {
     "name": "stderr",
     "output_type": "stream",
     "text": [
      "Metric loss/val improved by 0.008 >= min_delta = 0.0001. New best score: 1.026\n"
     ]
    },
    {
     "name": "stdout",
     "output_type": "stream",
     "text": [
      "Epoch 6 [35/35] {'loss': '1.05'}\r"
     ]
    },
    {
     "name": "stderr",
     "output_type": "stream",
     "text": [
      "Metric loss/val improved by 0.011 >= min_delta = 0.0001. New best score: 1.015\n"
     ]
    },
    {
     "name": "stdout",
     "output_type": "stream",
     "text": [
      "Epoch 26 [35/35] {'loss': '1.07'}}\r"
     ]
    },
    {
     "name": "stderr",
     "output_type": "stream",
     "text": [
      "Monitored metric loss/val did not improve in the last 20 records. Best score: 1.015. Signaling Trainer to stop.\n",
      "GPU available: True, used: True\n",
      "TPU available: False, using: 0 TPU cores\n",
      "LOCAL_RANK: 0 - CUDA_VISIBLE_DEVICES: [0]\n",
      "\n",
      "  | Name               | Type             | Params\n",
      "--------------------------------------------------------\n",
      "0 | model              | customCNN        | 5.3 M \n",
      "1 | criteria           | CrossEntropyLoss | 0     \n",
      "2 | valid_metrics      | MetricCollection | 0     \n",
      "3 | valid_dummy_metric | AUROC            | 0     \n",
      "--------------------------------------------------------\n",
      "5.3 M     Trainable params\n",
      "0         Non-trainable params\n",
      "5.3 M     Total params\n",
      "21.285    Total estimated model params size (MB)\n"
     ]
    },
    {
     "name": "stdout",
     "output_type": "stream",
     "text": [
      "Architecture [customCNN] was created\n",
      "***Defined hyperparameters:***\n",
      "\"arch\":                {'name': 'customCNN', 'args': {'num_channels': 1, 'num_classes': 3}}\n",
      "\"checkpoint_path\":     None\n",
      "\"class_weights\":       None\n",
      "\"hp_metrics\":          ['loss/train', 'loss/val', 'Accuracy/val', 'AUROC/val', 'Precision/val', 'Recall/val', 'Specificity/val']\n",
      "\"loss\":                {'type': 'CrossEntropyLoss', 'args': {'weight': False}}\n",
      "\"optimizer\":           {'type': 'Adam', 'args': {'lr': 0.001, 'weight_decay': 0, 'amsgrad': False}}\n",
      "\"roi_hparams\":         {'enable': False, 'output_shape': [3, 3, 3], 'boundary_boxes': []}\n",
      "\"weight_distribution\": normal\n",
      "Enabled callbacks:  ['LitProgressBar', 'EarlyStopping']\n",
      "Dataloader fold: 7\n",
      "Epoch 1 [35/35] {'loss': '1.11'}\r"
     ]
    },
    {
     "name": "stderr",
     "output_type": "stream",
     "text": [
      "Metric loss/val improved. New best score: 1.064\n"
     ]
    },
    {
     "name": "stdout",
     "output_type": "stream",
     "text": [
      "Epoch 2 [35/35] {'loss': '1.09'}\r"
     ]
    },
    {
     "name": "stderr",
     "output_type": "stream",
     "text": [
      "Metric loss/val improved by 0.033 >= min_delta = 0.0001. New best score: 1.031\n"
     ]
    },
    {
     "name": "stdout",
     "output_type": "stream",
     "text": [
      "Epoch 4 [35/35] {'loss': '1.06'}\r"
     ]
    },
    {
     "name": "stderr",
     "output_type": "stream",
     "text": [
      "Metric loss/val improved by 0.008 >= min_delta = 0.0001. New best score: 1.023\n"
     ]
    },
    {
     "name": "stdout",
     "output_type": "stream",
     "text": [
      "Epoch 17 [35/35] {'loss': '1.08'}}\r"
     ]
    },
    {
     "name": "stderr",
     "output_type": "stream",
     "text": [
      "Metric loss/val improved by 0.001 >= min_delta = 0.0001. New best score: 1.023\n"
     ]
    },
    {
     "name": "stdout",
     "output_type": "stream",
     "text": [
      "Epoch 25 [35/35] {'loss': '1.1'}}}\r"
     ]
    },
    {
     "name": "stderr",
     "output_type": "stream",
     "text": [
      "Metric loss/val improved by 0.002 >= min_delta = 0.0001. New best score: 1.021\n"
     ]
    },
    {
     "name": "stdout",
     "output_type": "stream",
     "text": [
      "Epoch 29 [35/35] {'loss': '1.02'}}\r"
     ]
    },
    {
     "name": "stderr",
     "output_type": "stream",
     "text": [
      "Metric loss/val improved by 0.016 >= min_delta = 0.0001. New best score: 1.004\n"
     ]
    },
    {
     "name": "stdout",
     "output_type": "stream",
     "text": [
      "Epoch 49 [35/35] {'loss': '1.01'}}\r"
     ]
    },
    {
     "name": "stderr",
     "output_type": "stream",
     "text": [
      "Monitored metric loss/val did not improve in the last 20 records. Best score: 1.004. Signaling Trainer to stop.\n",
      "GPU available: True, used: True\n",
      "TPU available: False, using: 0 TPU cores\n",
      "LOCAL_RANK: 0 - CUDA_VISIBLE_DEVICES: [0]\n",
      "\n",
      "  | Name               | Type             | Params\n",
      "--------------------------------------------------------\n",
      "0 | model              | customCNN        | 5.3 M \n",
      "1 | criteria           | CrossEntropyLoss | 0     \n",
      "2 | valid_metrics      | MetricCollection | 0     \n",
      "3 | valid_dummy_metric | AUROC            | 0     \n",
      "--------------------------------------------------------\n",
      "5.3 M     Trainable params\n",
      "0         Non-trainable params\n",
      "5.3 M     Total params\n",
      "21.285    Total estimated model params size (MB)\n"
     ]
    },
    {
     "name": "stdout",
     "output_type": "stream",
     "text": [
      "Architecture [customCNN] was created\n",
      "***Defined hyperparameters:***\n",
      "\"arch\":                {'name': 'customCNN', 'args': {'num_channels': 1, 'num_classes': 3}}\n",
      "\"checkpoint_path\":     None\n",
      "\"class_weights\":       None\n",
      "\"hp_metrics\":          ['loss/train', 'loss/val', 'Accuracy/val', 'AUROC/val', 'Precision/val', 'Recall/val', 'Specificity/val']\n",
      "\"loss\":                {'type': 'CrossEntropyLoss', 'args': {'weight': False}}\n",
      "\"optimizer\":           {'type': 'Adam', 'args': {'lr': 0.001, 'weight_decay': 0, 'amsgrad': False}}\n",
      "\"roi_hparams\":         {'enable': False, 'output_shape': [3, 3, 3], 'boundary_boxes': []}\n",
      "\"weight_distribution\": normal\n",
      "Enabled callbacks:  ['LitProgressBar', 'EarlyStopping']\n",
      "Dataloader fold: 8\n",
      "Epoch 1 [35/35] {'loss': '1.13'}\r"
     ]
    },
    {
     "name": "stderr",
     "output_type": "stream",
     "text": [
      "Metric loss/val improved. New best score: 1.027\n"
     ]
    },
    {
     "name": "stdout",
     "output_type": "stream",
     "text": [
      "Epoch 13 [35/35] {'loss': '1.06'}\r"
     ]
    },
    {
     "name": "stderr",
     "output_type": "stream",
     "text": [
      "Metric loss/val improved by 0.005 >= min_delta = 0.0001. New best score: 1.022\n"
     ]
    },
    {
     "name": "stdout",
     "output_type": "stream",
     "text": [
      "Epoch 19 [35/35] {'loss': '1.05'}}\r"
     ]
    },
    {
     "name": "stderr",
     "output_type": "stream",
     "text": [
      "Metric loss/val improved by 0.009 >= min_delta = 0.0001. New best score: 1.012\n"
     ]
    },
    {
     "name": "stdout",
     "output_type": "stream",
     "text": [
      "Epoch 31 [35/35] {'loss': '1.02'}}\r"
     ]
    },
    {
     "name": "stderr",
     "output_type": "stream",
     "text": [
      "Metric loss/val improved by 0.000 >= min_delta = 0.0001. New best score: 1.012\n"
     ]
    },
    {
     "name": "stdout",
     "output_type": "stream",
     "text": [
      "Epoch 48 [35/35] {'loss': '0.982'}\r"
     ]
    }
   ],
   "source": [
    "models = ['customCNN']\n",
    "for name in models:\n",
    "    run_me(name, base_config='augmented',i_limit=-1)"
   ]
  },
  {
   "cell_type": "code",
   "execution_count": null,
   "id": "53b5683f-1bf7-4d1d-b355-862c14619934",
   "metadata": {},
   "outputs": [],
   "source": [
    "models = ['customCNN']\n",
    "for name in models:\n",
    "    run_me(name, base_config='no_augmented',i_limit=-1)"
   ]
  },
  {
   "cell_type": "code",
   "execution_count": null,
   "id": "49462e86-7358-461b-be21-724a04bfc12c",
   "metadata": {},
   "outputs": [],
   "source": [
    "models = ['resnet18_brew2']\n",
    "for name in models:\n",
    "    run_me(name, base_config='augmented',i_limit=-1)"
   ]
  },
  {
   "cell_type": "code",
   "execution_count": null,
   "id": "28b7432b-911d-4591-b078-2f4b3c90156e",
   "metadata": {},
   "outputs": [],
   "source": [
    "models = ['resnet18_brew2']\n",
    "for name in models:\n",
    "    run_me(name, base_config='no_augmented',i_limit=-1)"
   ]
  },
  {
   "cell_type": "code",
   "execution_count": null,
   "id": "ongoing-application",
   "metadata": {},
   "outputs": [
    {
     "name": "stdout",
     "output_type": "stream",
     "text": [
      "***Defined dataloader:***\n",
      "Data directory: data/SPM_categorised/AIH/\n",
      "Dataset sizes - Training: 421 Validation: 47\n",
      "Seed: 0\n",
      "Augmentation: Disabled\n",
      "KFold: Enabled - Fold: 1/10\n",
      "\n"
     ]
    },
    {
     "name": "stderr",
     "output_type": "stream",
     "text": [
      "/home/stud/f/fremar16/miniconda3/envs/Master-thesis/lib/python3.9/site-packages/torchmetrics/utilities/prints.py:36: UserWarning: Metric `AUROC` will save all targets and predictions in buffer. For large datasets this may lead to large memory footprint.\n",
      "  warnings.warn(*args, **kwargs)\n",
      "GPU available: True, used: True\n",
      "TPU available: False, using: 0 TPU cores\n",
      "Missing logger folder: /var/metrics/codetests/logs/tb/final/base2/resnet18_brew2/20210524235112\n",
      "LOCAL_RANK: 0 - CUDA_VISIBLE_DEVICES: [0,1]\n",
      "\n",
      "  | Name               | Type             | Params\n",
      "--------------------------------------------------------\n",
      "0 | model              | ResNet           | 8.3 M \n",
      "1 | criteria           | CrossEntropyLoss | 0     \n",
      "2 | valid_metrics      | MetricCollection | 0     \n",
      "3 | valid_dummy_metric | AUROC            | 0     \n",
      "--------------------------------------------------------\n",
      "8.3 M     Trainable params\n",
      "0         Non-trainable params\n",
      "8.3 M     Total params\n",
      "33.154    Total estimated model params size (MB)\n"
     ]
    },
    {
     "name": "stdout",
     "output_type": "stream",
     "text": [
      "Architecture [ResNet] was created\n",
      "***Defined hyperparameters:***\n",
      "\"arch\":                {'name': 'resnet18_brew2', 'args': {'num_channels': 1, 'num_classes': 3}}\n",
      "\"checkpoint_path\":     None\n",
      "\"class_weights\":       tensor([0.9953, 1.0024, 1.0024], device='cuda:0')\n",
      "\"hp_metrics\":          ['loss/train', 'loss/val', 'Accuracy/val', 'AUROC/val', 'Precision/val', 'Recall/val', 'Specificity/val']\n",
      "\"loss\":                {'type': 'CrossEntropyLoss', 'args': {'weight': True}}\n",
      "\"optimizer\":           {'type': 'Adam', 'args': {'lr': 0.001, 'weight_decay': 0, 'amsgrad': False}}\n",
      "\"roi_hparams\":         {'enable': False, 'output_shape': [3, 3, 3], 'boundary_boxes': []}\n",
      "\"weight_distribution\": None\n",
      "Enabled callbacks:  ['LitProgressBar', 'EarlyStopping']\n",
      "Dataloader fold: 1\n",
      "Epoch 1 [53/53] {'loss': '1.1'}}\r"
     ]
    },
    {
     "name": "stderr",
     "output_type": "stream",
     "text": [
      "Metric loss/val improved. New best score: 1.265\n"
     ]
    },
    {
     "name": "stdout",
     "output_type": "stream",
     "text": [
      "Epoch 2 [53/53] {'loss': '1.12'}\r"
     ]
    },
    {
     "name": "stderr",
     "output_type": "stream",
     "text": [
      "Metric loss/val improved by 0.118 >= min_delta = 0.0001. New best score: 1.147\n"
     ]
    },
    {
     "name": "stdout",
     "output_type": "stream",
     "text": [
      "Epoch 4 [53/53] {'loss': '1.04'}\r"
     ]
    },
    {
     "name": "stderr",
     "output_type": "stream",
     "text": [
      "Metric loss/val improved by 0.009 >= min_delta = 0.0001. New best score: 1.138\n"
     ]
    },
    {
     "name": "stdout",
     "output_type": "stream",
     "text": [
      "Epoch 5 [53/53] {'loss': '1.08'}\r"
     ]
    },
    {
     "name": "stderr",
     "output_type": "stream",
     "text": [
      "Metric loss/val improved by 0.054 >= min_delta = 0.0001. New best score: 1.084\n"
     ]
    },
    {
     "name": "stdout",
     "output_type": "stream",
     "text": [
      "Epoch 7 [53/53] {'loss': '1.07'}}\r"
     ]
    },
    {
     "name": "stderr",
     "output_type": "stream",
     "text": [
      "Metric loss/val improved by 0.007 >= min_delta = 0.0001. New best score: 1.077\n"
     ]
    },
    {
     "name": "stdout",
     "output_type": "stream",
     "text": [
      "Epoch 11 [53/53] {'loss': '0.928'}\r"
     ]
    },
    {
     "name": "stderr",
     "output_type": "stream",
     "text": [
      "Metric loss/val improved by 0.025 >= min_delta = 0.0001. New best score: 1.052\n"
     ]
    },
    {
     "name": "stdout",
     "output_type": "stream",
     "text": [
      "Epoch 13 [53/53] {'loss': '0.845'}\r"
     ]
    },
    {
     "name": "stderr",
     "output_type": "stream",
     "text": [
      "Metric loss/val improved by 0.120 >= min_delta = 0.0001. New best score: 0.932\n"
     ]
    },
    {
     "name": "stdout",
     "output_type": "stream",
     "text": [
      "Epoch 15 [53/53] {'loss': '0.866'}\r"
     ]
    },
    {
     "name": "stderr",
     "output_type": "stream",
     "text": [
      "Metric loss/val improved by 0.060 >= min_delta = 0.0001. New best score: 0.872\n"
     ]
    },
    {
     "name": "stdout",
     "output_type": "stream",
     "text": [
      "Epoch 35 [53/53] {'loss': '0.702'}\r"
     ]
    },
    {
     "name": "stderr",
     "output_type": "stream",
     "text": [
      "Monitored metric loss/val did not improve in the last 20 records. Best score: 0.872. Signaling Trainer to stop.\n",
      "GPU available: True, used: True\n",
      "TPU available: False, using: 0 TPU cores\n",
      "LOCAL_RANK: 0 - CUDA_VISIBLE_DEVICES: [0,1]\n",
      "\n",
      "  | Name               | Type             | Params\n",
      "--------------------------------------------------------\n",
      "0 | model              | ResNet           | 8.3 M \n",
      "1 | criteria           | CrossEntropyLoss | 0     \n",
      "2 | valid_metrics      | MetricCollection | 0     \n",
      "3 | valid_dummy_metric | AUROC            | 0     \n",
      "--------------------------------------------------------\n",
      "8.3 M     Trainable params\n",
      "0         Non-trainable params\n",
      "8.3 M     Total params\n",
      "33.154    Total estimated model params size (MB)\n"
     ]
    },
    {
     "name": "stdout",
     "output_type": "stream",
     "text": [
      "Architecture [ResNet] was created\n",
      "***Defined hyperparameters:***\n",
      "\"arch\":                {'name': 'resnet18_brew2', 'args': {'num_channels': 1, 'num_classes': 3}}\n",
      "\"checkpoint_path\":     None\n",
      "\"class_weights\":       tensor([0.9953, 1.0024, 1.0024], device='cuda:0')\n",
      "\"hp_metrics\":          ['loss/train', 'loss/val', 'Accuracy/val', 'AUROC/val', 'Precision/val', 'Recall/val', 'Specificity/val']\n",
      "\"loss\":                {'type': 'CrossEntropyLoss', 'args': {'weight': True}}\n",
      "\"optimizer\":           {'type': 'Adam', 'args': {'lr': 0.001, 'weight_decay': 0, 'amsgrad': False}}\n",
      "\"roi_hparams\":         {'enable': False, 'output_shape': [3, 3, 3], 'boundary_boxes': []}\n",
      "\"weight_distribution\": None\n",
      "Enabled callbacks:  ['LitProgressBar', 'EarlyStopping']\n",
      "Dataloader fold: 2\n",
      "Epoch 1 [53/53] {'loss': '1.12'}\r"
     ]
    },
    {
     "name": "stderr",
     "output_type": "stream",
     "text": [
      "Metric loss/val improved. New best score: 1.125\n"
     ]
    },
    {
     "name": "stdout",
     "output_type": "stream",
     "text": [
      "Epoch 2 [53/53] {'loss': '1.05'}\r"
     ]
    },
    {
     "name": "stderr",
     "output_type": "stream",
     "text": [
      "Metric loss/val improved by 0.016 >= min_delta = 0.0001. New best score: 1.108\n"
     ]
    },
    {
     "name": "stdout",
     "output_type": "stream",
     "text": [
      "Epoch 7 [53/53] {'loss': '1.02'}}\r"
     ]
    },
    {
     "name": "stderr",
     "output_type": "stream",
     "text": [
      "Metric loss/val improved by 0.077 >= min_delta = 0.0001. New best score: 1.031\n"
     ]
    },
    {
     "name": "stdout",
     "output_type": "stream",
     "text": [
      "Epoch 11 [53/53] {'loss': '0.918'}\r"
     ]
    },
    {
     "name": "stderr",
     "output_type": "stream",
     "text": [
      "Metric loss/val improved by 0.163 >= min_delta = 0.0001. New best score: 0.869\n"
     ]
    },
    {
     "name": "stdout",
     "output_type": "stream",
     "text": [
      "Epoch 17 [53/53] {'loss': '0.845'}\r"
     ]
    },
    {
     "name": "stderr",
     "output_type": "stream",
     "text": [
      "Metric loss/val improved by 0.041 >= min_delta = 0.0001. New best score: 0.828\n"
     ]
    },
    {
     "name": "stdout",
     "output_type": "stream",
     "text": [
      "Epoch 25 [53/53] {'loss': '0.729'}\r"
     ]
    },
    {
     "name": "stderr",
     "output_type": "stream",
     "text": [
      "Metric loss/val improved by 0.001 >= min_delta = 0.0001. New best score: 0.827\n"
     ]
    },
    {
     "name": "stdout",
     "output_type": "stream",
     "text": [
      "Epoch 45 [53/53] {'loss': '0.174'}\r"
     ]
    },
    {
     "name": "stderr",
     "output_type": "stream",
     "text": [
      "Monitored metric loss/val did not improve in the last 20 records. Best score: 0.827. Signaling Trainer to stop.\n",
      "GPU available: True, used: True\n",
      "TPU available: False, using: 0 TPU cores\n",
      "LOCAL_RANK: 0 - CUDA_VISIBLE_DEVICES: [0,1]\n",
      "\n",
      "  | Name               | Type             | Params\n",
      "--------------------------------------------------------\n",
      "0 | model              | ResNet           | 8.3 M \n",
      "1 | criteria           | CrossEntropyLoss | 0     \n",
      "2 | valid_metrics      | MetricCollection | 0     \n",
      "3 | valid_dummy_metric | AUROC            | 0     \n",
      "--------------------------------------------------------\n",
      "8.3 M     Trainable params\n",
      "0         Non-trainable params\n",
      "8.3 M     Total params\n",
      "33.154    Total estimated model params size (MB)\n"
     ]
    },
    {
     "name": "stdout",
     "output_type": "stream",
     "text": [
      "Architecture [ResNet] was created\n",
      "***Defined hyperparameters:***\n",
      "\"arch\":                {'name': 'resnet18_brew2', 'args': {'num_channels': 1, 'num_classes': 3}}\n",
      "\"checkpoint_path\":     None\n",
      "\"class_weights\":       tensor([0.9953, 1.0024, 1.0024], device='cuda:0')\n",
      "\"hp_metrics\":          ['loss/train', 'loss/val', 'Accuracy/val', 'AUROC/val', 'Precision/val', 'Recall/val', 'Specificity/val']\n",
      "\"loss\":                {'type': 'CrossEntropyLoss', 'args': {'weight': True}}\n",
      "\"optimizer\":           {'type': 'Adam', 'args': {'lr': 0.001, 'weight_decay': 0, 'amsgrad': False}}\n",
      "\"roi_hparams\":         {'enable': False, 'output_shape': [3, 3, 3], 'boundary_boxes': []}\n",
      "\"weight_distribution\": None\n",
      "Enabled callbacks:  ['LitProgressBar', 'EarlyStopping']\n",
      "Dataloader fold: 3\n",
      "Epoch 1 [53/53] {'loss': '1.05'}\r"
     ]
    },
    {
     "name": "stderr",
     "output_type": "stream",
     "text": [
      "Metric loss/val improved. New best score: 1.282\n"
     ]
    },
    {
     "name": "stdout",
     "output_type": "stream",
     "text": [
      "Epoch 3 [53/53] {'loss': '1.07'}\r"
     ]
    },
    {
     "name": "stderr",
     "output_type": "stream",
     "text": [
      "Metric loss/val improved by 0.111 >= min_delta = 0.0001. New best score: 1.171\n"
     ]
    },
    {
     "name": "stdout",
     "output_type": "stream",
     "text": [
      "Epoch 4 [53/53] {'loss': '1.09'}\r"
     ]
    },
    {
     "name": "stderr",
     "output_type": "stream",
     "text": [
      "Metric loss/val improved by 0.050 >= min_delta = 0.0001. New best score: 1.121\n"
     ]
    },
    {
     "name": "stdout",
     "output_type": "stream",
     "text": [
      "Epoch 7 [53/53] {'loss': '0.976'}\r"
     ]
    },
    {
     "name": "stderr",
     "output_type": "stream",
     "text": [
      "Metric loss/val improved by 0.170 >= min_delta = 0.0001. New best score: 0.951\n"
     ]
    },
    {
     "name": "stdout",
     "output_type": "stream",
     "text": [
      "Epoch 9 [53/53] {'loss': '0.928'}\r"
     ]
    },
    {
     "name": "stderr",
     "output_type": "stream",
     "text": [
      "Metric loss/val improved by 0.057 >= min_delta = 0.0001. New best score: 0.893\n"
     ]
    },
    {
     "name": "stdout",
     "output_type": "stream",
     "text": [
      "Epoch 13 [53/53] {'loss': '0.863'}\r"
     ]
    },
    {
     "name": "stderr",
     "output_type": "stream",
     "text": [
      "Metric loss/val improved by 0.050 >= min_delta = 0.0001. New best score: 0.843\n"
     ]
    },
    {
     "name": "stdout",
     "output_type": "stream",
     "text": [
      "Epoch 26 [53/53] {'loss': '0.794'}\r"
     ]
    },
    {
     "name": "stderr",
     "output_type": "stream",
     "text": [
      "Metric loss/val improved by 0.029 >= min_delta = 0.0001. New best score: 0.814\n"
     ]
    },
    {
     "name": "stdout",
     "output_type": "stream",
     "text": [
      "Epoch 46 [53/53] {'loss': '0.583'}\r"
     ]
    },
    {
     "name": "stderr",
     "output_type": "stream",
     "text": [
      "Monitored metric loss/val did not improve in the last 20 records. Best score: 0.814. Signaling Trainer to stop.\n",
      "GPU available: True, used: True\n",
      "TPU available: False, using: 0 TPU cores\n",
      "LOCAL_RANK: 0 - CUDA_VISIBLE_DEVICES: [0,1]\n",
      "\n",
      "  | Name               | Type             | Params\n",
      "--------------------------------------------------------\n",
      "0 | model              | ResNet           | 8.3 M \n",
      "1 | criteria           | CrossEntropyLoss | 0     \n",
      "2 | valid_metrics      | MetricCollection | 0     \n",
      "3 | valid_dummy_metric | AUROC            | 0     \n",
      "--------------------------------------------------------\n",
      "8.3 M     Trainable params\n",
      "0         Non-trainable params\n",
      "8.3 M     Total params\n",
      "33.154    Total estimated model params size (MB)\n"
     ]
    },
    {
     "name": "stdout",
     "output_type": "stream",
     "text": [
      "Architecture [ResNet] was created\n",
      "***Defined hyperparameters:***\n",
      "\"arch\":                {'name': 'resnet18_brew2', 'args': {'num_channels': 1, 'num_classes': 3}}\n",
      "\"checkpoint_path\":     None\n",
      "\"class_weights\":       tensor([0.9953, 1.0024, 1.0024], device='cuda:0')\n",
      "\"hp_metrics\":          ['loss/train', 'loss/val', 'Accuracy/val', 'AUROC/val', 'Precision/val', 'Recall/val', 'Specificity/val']\n",
      "\"loss\":                {'type': 'CrossEntropyLoss', 'args': {'weight': True}}\n",
      "\"optimizer\":           {'type': 'Adam', 'args': {'lr': 0.001, 'weight_decay': 0, 'amsgrad': False}}\n",
      "\"roi_hparams\":         {'enable': False, 'output_shape': [3, 3, 3], 'boundary_boxes': []}\n",
      "\"weight_distribution\": None\n",
      "Enabled callbacks:  ['LitProgressBar', 'EarlyStopping']\n",
      "Dataloader fold: 4\n",
      "Epoch 1 [53/53] {'loss': '1.11'}\r"
     ]
    },
    {
     "name": "stderr",
     "output_type": "stream",
     "text": [
      "Metric loss/val improved. New best score: 2.109\n"
     ]
    },
    {
     "name": "stdout",
     "output_type": "stream",
     "text": [
      "Epoch 2 [53/53] {'loss': '1.15'}\r"
     ]
    },
    {
     "name": "stderr",
     "output_type": "stream",
     "text": [
      "Metric loss/val improved by 0.952 >= min_delta = 0.0001. New best score: 1.157\n"
     ]
    },
    {
     "name": "stdout",
     "output_type": "stream",
     "text": [
      "Epoch 3 [53/53] {'loss': '1.06'}\r"
     ]
    },
    {
     "name": "stderr",
     "output_type": "stream",
     "text": [
      "Metric loss/val improved by 0.009 >= min_delta = 0.0001. New best score: 1.149\n"
     ]
    },
    {
     "name": "stdout",
     "output_type": "stream",
     "text": [
      "Epoch 8 [53/53] {'loss': '1.12'}\r"
     ]
    },
    {
     "name": "stderr",
     "output_type": "stream",
     "text": [
      "Metric loss/val improved by 0.053 >= min_delta = 0.0001. New best score: 1.096\n"
     ]
    },
    {
     "name": "stdout",
     "output_type": "stream",
     "text": [
      "Epoch 9 [53/53] {'loss': '1.03'}}\r"
     ]
    },
    {
     "name": "stderr",
     "output_type": "stream",
     "text": [
      "Metric loss/val improved by 0.005 >= min_delta = 0.0001. New best score: 1.091\n"
     ]
    },
    {
     "name": "stdout",
     "output_type": "stream",
     "text": [
      "Epoch 15 [53/53] {'loss': '0.89'}}\r"
     ]
    },
    {
     "name": "stderr",
     "output_type": "stream",
     "text": [
      "Metric loss/val improved by 0.214 >= min_delta = 0.0001. New best score: 0.877\n"
     ]
    },
    {
     "name": "stdout",
     "output_type": "stream",
     "text": [
      "Epoch 35 [53/53] {'loss': '0.536'}\r"
     ]
    },
    {
     "name": "stderr",
     "output_type": "stream",
     "text": [
      "Monitored metric loss/val did not improve in the last 20 records. Best score: 0.877. Signaling Trainer to stop.\n",
      "GPU available: True, used: True\n",
      "TPU available: False, using: 0 TPU cores\n",
      "LOCAL_RANK: 0 - CUDA_VISIBLE_DEVICES: [0,1]\n",
      "\n",
      "  | Name               | Type             | Params\n",
      "--------------------------------------------------------\n",
      "0 | model              | ResNet           | 8.3 M \n",
      "1 | criteria           | CrossEntropyLoss | 0     \n",
      "2 | valid_metrics      | MetricCollection | 0     \n",
      "3 | valid_dummy_metric | AUROC            | 0     \n",
      "--------------------------------------------------------\n",
      "8.3 M     Trainable params\n",
      "0         Non-trainable params\n",
      "8.3 M     Total params\n",
      "33.154    Total estimated model params size (MB)\n"
     ]
    },
    {
     "name": "stdout",
     "output_type": "stream",
     "text": [
      "Architecture [ResNet] was created\n",
      "***Defined hyperparameters:***\n",
      "\"arch\":                {'name': 'resnet18_brew2', 'args': {'num_channels': 1, 'num_classes': 3}}\n",
      "\"checkpoint_path\":     None\n",
      "\"class_weights\":       tensor([0.9953, 1.0024, 1.0024], device='cuda:0')\n",
      "\"hp_metrics\":          ['loss/train', 'loss/val', 'Accuracy/val', 'AUROC/val', 'Precision/val', 'Recall/val', 'Specificity/val']\n",
      "\"loss\":                {'type': 'CrossEntropyLoss', 'args': {'weight': True}}\n",
      "\"optimizer\":           {'type': 'Adam', 'args': {'lr': 0.001, 'weight_decay': 0, 'amsgrad': False}}\n",
      "\"roi_hparams\":         {'enable': False, 'output_shape': [3, 3, 3], 'boundary_boxes': []}\n",
      "\"weight_distribution\": None\n",
      "Enabled callbacks:  ['LitProgressBar', 'EarlyStopping']\n",
      "Dataloader fold: 5\n",
      "Epoch 1 [53/53] {'loss': '1.07'}\r"
     ]
    },
    {
     "name": "stderr",
     "output_type": "stream",
     "text": [
      "Metric loss/val improved. New best score: 1.141\n"
     ]
    },
    {
     "name": "stdout",
     "output_type": "stream",
     "text": [
      "Epoch 2 [53/53] {'loss': '1.09'}\r"
     ]
    },
    {
     "name": "stderr",
     "output_type": "stream",
     "text": [
      "Metric loss/val improved by 0.021 >= min_delta = 0.0001. New best score: 1.120\n"
     ]
    },
    {
     "name": "stdout",
     "output_type": "stream",
     "text": [
      "Epoch 3 [53/53] {'loss': '1.04'}\r"
     ]
    },
    {
     "name": "stderr",
     "output_type": "stream",
     "text": [
      "Metric loss/val improved by 0.002 >= min_delta = 0.0001. New best score: 1.118\n"
     ]
    },
    {
     "name": "stdout",
     "output_type": "stream",
     "text": [
      "Epoch 7 [53/53] {'loss': '0.948'}\r"
     ]
    },
    {
     "name": "stderr",
     "output_type": "stream",
     "text": [
      "Metric loss/val improved by 0.021 >= min_delta = 0.0001. New best score: 1.097\n"
     ]
    },
    {
     "name": "stdout",
     "output_type": "stream",
     "text": [
      "Epoch 8 [53/53] {'loss': '0.935'}\r"
     ]
    },
    {
     "name": "stderr",
     "output_type": "stream",
     "text": [
      "Metric loss/val improved by 0.106 >= min_delta = 0.0001. New best score: 0.991\n"
     ]
    },
    {
     "name": "stdout",
     "output_type": "stream",
     "text": [
      "Epoch 13 [53/53] {'loss': '0.891'}\r"
     ]
    },
    {
     "name": "stderr",
     "output_type": "stream",
     "text": [
      "Metric loss/val improved by 0.127 >= min_delta = 0.0001. New best score: 0.864\n"
     ]
    },
    {
     "name": "stdout",
     "output_type": "stream",
     "text": [
      "Epoch 23 [53/53] {'loss': '0.646'}\r"
     ]
    },
    {
     "name": "stderr",
     "output_type": "stream",
     "text": [
      "Metric loss/val improved by 0.020 >= min_delta = 0.0001. New best score: 0.844\n"
     ]
    },
    {
     "name": "stdout",
     "output_type": "stream",
     "text": [
      "Epoch 43 [53/53] {'loss': '0.162'}}\r"
     ]
    },
    {
     "name": "stderr",
     "output_type": "stream",
     "text": [
      "Monitored metric loss/val did not improve in the last 20 records. Best score: 0.844. Signaling Trainer to stop.\n",
      "GPU available: True, used: True\n",
      "TPU available: False, using: 0 TPU cores\n",
      "LOCAL_RANK: 0 - CUDA_VISIBLE_DEVICES: [0,1]\n",
      "\n",
      "  | Name               | Type             | Params\n",
      "--------------------------------------------------------\n",
      "0 | model              | ResNet           | 8.3 M \n",
      "1 | criteria           | CrossEntropyLoss | 0     \n",
      "2 | valid_metrics      | MetricCollection | 0     \n",
      "3 | valid_dummy_metric | AUROC            | 0     \n",
      "--------------------------------------------------------\n",
      "8.3 M     Trainable params\n",
      "0         Non-trainable params\n",
      "8.3 M     Total params\n",
      "33.154    Total estimated model params size (MB)\n"
     ]
    },
    {
     "name": "stdout",
     "output_type": "stream",
     "text": [
      "Architecture [ResNet] was created\n",
      "***Defined hyperparameters:***\n",
      "\"arch\":                {'name': 'resnet18_brew2', 'args': {'num_channels': 1, 'num_classes': 3}}\n",
      "\"checkpoint_path\":     None\n",
      "\"class_weights\":       tensor([0.9953, 1.0024, 1.0024], device='cuda:0')\n",
      "\"hp_metrics\":          ['loss/train', 'loss/val', 'Accuracy/val', 'AUROC/val', 'Precision/val', 'Recall/val', 'Specificity/val']\n",
      "\"loss\":                {'type': 'CrossEntropyLoss', 'args': {'weight': True}}\n",
      "\"optimizer\":           {'type': 'Adam', 'args': {'lr': 0.001, 'weight_decay': 0, 'amsgrad': False}}\n",
      "\"roi_hparams\":         {'enable': False, 'output_shape': [3, 3, 3], 'boundary_boxes': []}\n",
      "\"weight_distribution\": None\n",
      "Enabled callbacks:  ['LitProgressBar', 'EarlyStopping']\n",
      "Dataloader fold: 6\n",
      "Epoch 1 [53/53] {'loss': '1.11'}\r"
     ]
    },
    {
     "name": "stderr",
     "output_type": "stream",
     "text": [
      "Metric loss/val improved. New best score: 1.162\n"
     ]
    },
    {
     "name": "stdout",
     "output_type": "stream",
     "text": [
      "Epoch 2 [53/53] {'loss': '1.08'}\r"
     ]
    },
    {
     "name": "stderr",
     "output_type": "stream",
     "text": [
      "Metric loss/val improved by 0.060 >= min_delta = 0.0001. New best score: 1.102\n"
     ]
    },
    {
     "name": "stdout",
     "output_type": "stream",
     "text": [
      "Epoch 11 [53/53] {'loss': '0.939'}\r"
     ]
    },
    {
     "name": "stderr",
     "output_type": "stream",
     "text": [
      "Metric loss/val improved by 0.021 >= min_delta = 0.0001. New best score: 1.081\n"
     ]
    },
    {
     "name": "stdout",
     "output_type": "stream",
     "text": [
      "Epoch 12 [53/53] {'loss': '0.891'}\r"
     ]
    },
    {
     "name": "stderr",
     "output_type": "stream",
     "text": [
      "Metric loss/val improved by 0.044 >= min_delta = 0.0001. New best score: 1.037\n"
     ]
    },
    {
     "name": "stdout",
     "output_type": "stream",
     "text": [
      "Epoch 13 [53/53] {'loss': '0.883'}\r"
     ]
    },
    {
     "name": "stderr",
     "output_type": "stream",
     "text": [
      "Metric loss/val improved by 0.056 >= min_delta = 0.0001. New best score: 0.981\n"
     ]
    },
    {
     "name": "stdout",
     "output_type": "stream",
     "text": [
      "Epoch 17 [53/53] {'loss': '0.844'}\r"
     ]
    },
    {
     "name": "stderr",
     "output_type": "stream",
     "text": [
      "Metric loss/val improved by 0.022 >= min_delta = 0.0001. New best score: 0.959\n"
     ]
    },
    {
     "name": "stdout",
     "output_type": "stream",
     "text": [
      "Epoch 19 [53/53] {'loss': '0.866'}\r"
     ]
    },
    {
     "name": "stderr",
     "output_type": "stream",
     "text": [
      "Metric loss/val improved by 0.088 >= min_delta = 0.0001. New best score: 0.871\n"
     ]
    },
    {
     "name": "stdout",
     "output_type": "stream",
     "text": [
      "Epoch 20 [53/53] {'loss': '0.806'}\r"
     ]
    },
    {
     "name": "stderr",
     "output_type": "stream",
     "text": [
      "Metric loss/val improved by 0.053 >= min_delta = 0.0001. New best score: 0.818\n"
     ]
    },
    {
     "name": "stdout",
     "output_type": "stream",
     "text": [
      "Epoch 40 [53/53] {'loss': '0.649'}\r"
     ]
    },
    {
     "name": "stderr",
     "output_type": "stream",
     "text": [
      "Monitored metric loss/val did not improve in the last 20 records. Best score: 0.818. Signaling Trainer to stop.\n",
      "GPU available: True, used: True\n",
      "TPU available: False, using: 0 TPU cores\n",
      "LOCAL_RANK: 0 - CUDA_VISIBLE_DEVICES: [0,1]\n",
      "\n",
      "  | Name               | Type             | Params\n",
      "--------------------------------------------------------\n",
      "0 | model              | ResNet           | 8.3 M \n",
      "1 | criteria           | CrossEntropyLoss | 0     \n",
      "2 | valid_metrics      | MetricCollection | 0     \n",
      "3 | valid_dummy_metric | AUROC            | 0     \n",
      "--------------------------------------------------------\n",
      "8.3 M     Trainable params\n",
      "0         Non-trainable params\n",
      "8.3 M     Total params\n",
      "33.154    Total estimated model params size (MB)\n"
     ]
    },
    {
     "name": "stdout",
     "output_type": "stream",
     "text": [
      "Architecture [ResNet] was created\n",
      "***Defined hyperparameters:***\n",
      "\"arch\":                {'name': 'resnet18_brew2', 'args': {'num_channels': 1, 'num_classes': 3}}\n",
      "\"checkpoint_path\":     None\n",
      "\"class_weights\":       tensor([0.9953, 1.0024, 1.0024], device='cuda:0')\n",
      "\"hp_metrics\":          ['loss/train', 'loss/val', 'Accuracy/val', 'AUROC/val', 'Precision/val', 'Recall/val', 'Specificity/val']\n",
      "\"loss\":                {'type': 'CrossEntropyLoss', 'args': {'weight': True}}\n",
      "\"optimizer\":           {'type': 'Adam', 'args': {'lr': 0.001, 'weight_decay': 0, 'amsgrad': False}}\n",
      "\"roi_hparams\":         {'enable': False, 'output_shape': [3, 3, 3], 'boundary_boxes': []}\n",
      "\"weight_distribution\": None\n",
      "Enabled callbacks:  ['LitProgressBar', 'EarlyStopping']\n",
      "Dataloader fold: 7\n",
      "Epoch 1 [53/53] {'loss': '1.18'}\r"
     ]
    },
    {
     "name": "stderr",
     "output_type": "stream",
     "text": [
      "Metric loss/val improved. New best score: 1.352\n"
     ]
    },
    {
     "name": "stdout",
     "output_type": "stream",
     "text": [
      "Epoch 2 [53/53] {'loss': '1.06'}\r"
     ]
    },
    {
     "name": "stderr",
     "output_type": "stream",
     "text": [
      "Metric loss/val improved by 0.207 >= min_delta = 0.0001. New best score: 1.144\n"
     ]
    },
    {
     "name": "stdout",
     "output_type": "stream",
     "text": [
      "Epoch 4 [53/53] {'loss': '1.1'}}\r"
     ]
    },
    {
     "name": "stderr",
     "output_type": "stream",
     "text": [
      "Metric loss/val improved by 0.052 >= min_delta = 0.0001. New best score: 1.092\n"
     ]
    },
    {
     "name": "stdout",
     "output_type": "stream",
     "text": [
      "Epoch 9 [53/53] {'loss': '1.06'}\r"
     ]
    },
    {
     "name": "stderr",
     "output_type": "stream",
     "text": [
      "Metric loss/val improved by 0.005 >= min_delta = 0.0001. New best score: 1.088\n"
     ]
    },
    {
     "name": "stdout",
     "output_type": "stream",
     "text": [
      "Epoch 11 [53/53] {'loss': '1.02'}}\r"
     ]
    },
    {
     "name": "stderr",
     "output_type": "stream",
     "text": [
      "Metric loss/val improved by 0.065 >= min_delta = 0.0001. New best score: 1.022\n"
     ]
    },
    {
     "name": "stdout",
     "output_type": "stream",
     "text": [
      "Epoch 12 [53/53] {'loss': '0.954'}\r"
     ]
    },
    {
     "name": "stderr",
     "output_type": "stream",
     "text": [
      "Metric loss/val improved by 0.012 >= min_delta = 0.0001. New best score: 1.010\n"
     ]
    },
    {
     "name": "stdout",
     "output_type": "stream",
     "text": [
      "Epoch 14 [53/53] {'loss': '0.924'}\r"
     ]
    },
    {
     "name": "stderr",
     "output_type": "stream",
     "text": [
      "Metric loss/val improved by 0.092 >= min_delta = 0.0001. New best score: 0.918\n"
     ]
    },
    {
     "name": "stdout",
     "output_type": "stream",
     "text": [
      "Epoch 34 [53/53] {'loss': '0.627'}\r"
     ]
    },
    {
     "name": "stderr",
     "output_type": "stream",
     "text": [
      "Monitored metric loss/val did not improve in the last 20 records. Best score: 0.918. Signaling Trainer to stop.\n",
      "GPU available: True, used: True\n",
      "TPU available: False, using: 0 TPU cores\n",
      "LOCAL_RANK: 0 - CUDA_VISIBLE_DEVICES: [0,1]\n",
      "\n",
      "  | Name               | Type             | Params\n",
      "--------------------------------------------------------\n",
      "0 | model              | ResNet           | 8.3 M \n",
      "1 | criteria           | CrossEntropyLoss | 0     \n",
      "2 | valid_metrics      | MetricCollection | 0     \n",
      "3 | valid_dummy_metric | AUROC            | 0     \n",
      "--------------------------------------------------------\n",
      "8.3 M     Trainable params\n",
      "0         Non-trainable params\n",
      "8.3 M     Total params\n",
      "33.154    Total estimated model params size (MB)\n"
     ]
    },
    {
     "name": "stdout",
     "output_type": "stream",
     "text": [
      "Architecture [ResNet] was created\n",
      "***Defined hyperparameters:***\n",
      "\"arch\":                {'name': 'resnet18_brew2', 'args': {'num_channels': 1, 'num_classes': 3}}\n",
      "\"checkpoint_path\":     None\n",
      "\"class_weights\":       tensor([0.9953, 1.0024, 1.0024], device='cuda:0')\n",
      "\"hp_metrics\":          ['loss/train', 'loss/val', 'Accuracy/val', 'AUROC/val', 'Precision/val', 'Recall/val', 'Specificity/val']\n",
      "\"loss\":                {'type': 'CrossEntropyLoss', 'args': {'weight': True}}\n",
      "\"optimizer\":           {'type': 'Adam', 'args': {'lr': 0.001, 'weight_decay': 0, 'amsgrad': False}}\n",
      "\"roi_hparams\":         {'enable': False, 'output_shape': [3, 3, 3], 'boundary_boxes': []}\n",
      "\"weight_distribution\": None\n",
      "Enabled callbacks:  ['LitProgressBar', 'EarlyStopping']\n",
      "Dataloader fold: 8\n",
      "Epoch 1 [53/53] {'loss': '1.12'}\r"
     ]
    },
    {
     "name": "stderr",
     "output_type": "stream",
     "text": [
      "Metric loss/val improved. New best score: 1.106\n"
     ]
    },
    {
     "name": "stdout",
     "output_type": "stream",
     "text": [
      "Epoch 4 [53/53] {'loss': '1.05'}\r"
     ]
    },
    {
     "name": "stderr",
     "output_type": "stream",
     "text": [
      "Metric loss/val improved by 0.032 >= min_delta = 0.0001. New best score: 1.074\n"
     ]
    },
    {
     "name": "stdout",
     "output_type": "stream",
     "text": [
      "Epoch 8 [53/53] {'loss': '0.951'}\r"
     ]
    },
    {
     "name": "stderr",
     "output_type": "stream",
     "text": [
      "Metric loss/val improved by 0.008 >= min_delta = 0.0001. New best score: 1.066\n"
     ]
    },
    {
     "name": "stdout",
     "output_type": "stream",
     "text": [
      "Epoch 9 [53/53] {'loss': '0.961'}\r"
     ]
    },
    {
     "name": "stderr",
     "output_type": "stream",
     "text": [
      "Metric loss/val improved by 0.075 >= min_delta = 0.0001. New best score: 0.991\n"
     ]
    },
    {
     "name": "stdout",
     "output_type": "stream",
     "text": [
      "Epoch 13 [53/53] {'loss': '0.919'}\r"
     ]
    },
    {
     "name": "stderr",
     "output_type": "stream",
     "text": [
      "Metric loss/val improved by 0.058 >= min_delta = 0.0001. New best score: 0.934\n"
     ]
    },
    {
     "name": "stdout",
     "output_type": "stream",
     "text": [
      "Epoch 14 [53/53] {'loss': '0.852'}\r"
     ]
    },
    {
     "name": "stderr",
     "output_type": "stream",
     "text": [
      "Metric loss/val improved by 0.119 >= min_delta = 0.0001. New best score: 0.815\n"
     ]
    },
    {
     "name": "stdout",
     "output_type": "stream",
     "text": [
      "Epoch 22 [53/53] {'loss': '0.849'}\r"
     ]
    },
    {
     "name": "stderr",
     "output_type": "stream",
     "text": [
      "Metric loss/val improved by 0.018 >= min_delta = 0.0001. New best score: 0.797\n"
     ]
    },
    {
     "name": "stdout",
     "output_type": "stream",
     "text": [
      "Epoch 42 [53/53] {'loss': '0.604'}\r"
     ]
    },
    {
     "name": "stderr",
     "output_type": "stream",
     "text": [
      "Monitored metric loss/val did not improve in the last 20 records. Best score: 0.797. Signaling Trainer to stop.\n",
      "GPU available: True, used: True\n",
      "TPU available: False, using: 0 TPU cores\n",
      "LOCAL_RANK: 0 - CUDA_VISIBLE_DEVICES: [0,1]\n",
      "\n",
      "  | Name               | Type             | Params\n",
      "--------------------------------------------------------\n",
      "0 | model              | ResNet           | 8.3 M \n",
      "1 | criteria           | CrossEntropyLoss | 0     \n",
      "2 | valid_metrics      | MetricCollection | 0     \n",
      "3 | valid_dummy_metric | AUROC            | 0     \n",
      "--------------------------------------------------------\n",
      "8.3 M     Trainable params\n",
      "0         Non-trainable params\n",
      "8.3 M     Total params\n",
      "33.154    Total estimated model params size (MB)\n"
     ]
    },
    {
     "name": "stdout",
     "output_type": "stream",
     "text": [
      "Architecture [ResNet] was created\n",
      "***Defined hyperparameters:***\n",
      "\"arch\":                {'name': 'resnet18_brew2', 'args': {'num_channels': 1, 'num_classes': 3}}\n",
      "\"checkpoint_path\":     None\n",
      "\"class_weights\":       tensor([0.9953, 1.0024, 1.0024], device='cuda:0')\n",
      "\"hp_metrics\":          ['loss/train', 'loss/val', 'Accuracy/val', 'AUROC/val', 'Precision/val', 'Recall/val', 'Specificity/val']\n",
      "\"loss\":                {'type': 'CrossEntropyLoss', 'args': {'weight': True}}\n",
      "\"optimizer\":           {'type': 'Adam', 'args': {'lr': 0.001, 'weight_decay': 0, 'amsgrad': False}}\n",
      "\"roi_hparams\":         {'enable': False, 'output_shape': [3, 3, 3], 'boundary_boxes': []}\n",
      "\"weight_distribution\": None\n",
      "Enabled callbacks:  ['LitProgressBar', 'EarlyStopping']\n",
      "Dataloader fold: 9\n",
      "Epoch 1 [53/53] {'loss': '1.11'}\r"
     ]
    },
    {
     "name": "stderr",
     "output_type": "stream",
     "text": [
      "Metric loss/val improved. New best score: 1.136\n"
     ]
    },
    {
     "name": "stdout",
     "output_type": "stream",
     "text": [
      "Epoch 6 [53/53] {'loss': '1.06'}\r"
     ]
    },
    {
     "name": "stderr",
     "output_type": "stream",
     "text": [
      "Metric loss/val improved by 0.029 >= min_delta = 0.0001. New best score: 1.107\n"
     ]
    },
    {
     "name": "stdout",
     "output_type": "stream",
     "text": [
      "Epoch 7 [53/53] {'loss': '1.06'}}\r"
     ]
    }
   ],
   "source": [
    "models = ['vgg16','resnet18_brew2','resnet50','customCNN']\n",
    "for name in models:\n",
    "    run_me(name, base_config='base2',i_limit=-1)"
   ]
  },
  {
   "cell_type": "code",
   "execution_count": null,
   "id": "processed-buying",
   "metadata": {},
   "outputs": [],
   "source": [
    "models = ['vgg16','vgg11_brew','resnet50', 'resnet18_brew2','customCNN']\n",
    "for name in models:\n",
    "    run_me(name, base_config='base',i_limit=6)"
   ]
  },
  {
   "cell_type": "code",
   "execution_count": null,
   "id": "uniform-arkansas",
   "metadata": {},
   "outputs": [],
   "source": [
    ",''"
   ]
  },
  {
   "cell_type": "code",
   "execution_count": null,
   "id": "active-concrete",
   "metadata": {
    "collapsed": true,
    "jupyter": {
     "outputs_hidden": true
    },
    "tags": []
   },
   "outputs": [
    {
     "name": "stdout",
     "output_type": "stream",
     "text": [
      "***Defined dataloader:***\n",
      "Data directory: data/SPM_categorised/ADNI1/\n",
      "Dataset sizes - Training: 273 Validation: 31\n",
      "Seed: 0\n",
      "Augmentation: Disabled\n",
      "KFold: Enabled - Fold: 1/10\n",
      "\n"
     ]
    },
    {
     "name": "stderr",
     "output_type": "stream",
     "text": [
      "/home/stud/f/fremar16/miniconda3/envs/Master-thesis/lib/python3.9/site-packages/torchmetrics/utilities/prints.py:36: UserWarning: Metric `AUROC` will save all targets and predictions in buffer. For large datasets this may lead to large memory footprint.\n",
      "  warnings.warn(*args, **kwargs)\n",
      "GPU available: True, used: True\n",
      "TPU available: False, using: 0 TPU cores\n",
      "Missing logger folder: /var/metrics/codetests/logs/tb/resnet18_brew2/20210521172659\n",
      "LOCAL_RANK: 0 - CUDA_VISIBLE_DEVICES: [0]\n",
      "\n",
      "  | Name               | Type             | Params\n",
      "--------------------------------------------------------\n",
      "0 | model              | ResNet           | 8.3 M \n",
      "1 | criteria           | CrossEntropyLoss | 0     \n",
      "2 | valid_metrics      | MetricCollection | 0     \n",
      "3 | valid_dummy_metric | AUROC            | 0     \n",
      "--------------------------------------------------------\n",
      "8.3 M     Trainable params\n",
      "0         Non-trainable params\n",
      "8.3 M     Total params\n",
      "33.154    Total estimated model params size (MB)\n"
     ]
    },
    {
     "name": "stdout",
     "output_type": "stream",
     "text": [
      "Architecture [ResNet] was created\n",
      "***Defined hyperparameters:***\n",
      "\"arch\":                {'name': 'resnet18_brew2', 'args': {'num_channels': 1, 'num_classes': 3}}\n",
      "\"checkpoint_path\":     None\n",
      "\"class_weights\":       tensor([1.2466, 0.6500, 1.5167], device='cuda:0')\n",
      "\"hp_metrics\":          ['loss/train', 'loss/val', 'Accuracy/val', 'AUROC/val', 'Precision/val', 'Recall/val', 'Specificity/val']\n",
      "\"loss\":                {'type': 'CrossEntropyLoss', 'args': {'weight': True}}\n",
      "\"optimizer\":           {'type': 'Adam', 'args': {'lr': 0.0001, 'weight_decay': 1e-06, 'amsgrad': False}}\n",
      "\"roi_hparams\":         {'enable': False, 'output_shape': [3, 3, 3], 'boundary_boxes': []}\n",
      "\"weight_distribution\": None\n",
      "Enabled callbacks:  ['LitProgressBar', 'EarlyStopping']\n",
      "Dataloader fold: 1\n",
      "Epoch 1 [35/35] {'loss': '1.16'}\r"
     ]
    },
    {
     "name": "stderr",
     "output_type": "stream",
     "text": [
      "Metric loss/val improved. New best score: 1.293\n"
     ]
    },
    {
     "name": "stdout",
     "output_type": "stream",
     "text": [
      "Epoch 2 [35/35] {'loss': '1.08'}\r"
     ]
    },
    {
     "name": "stderr",
     "output_type": "stream",
     "text": [
      "Metric loss/val improved by 0.027 >= min_delta = 0.0001. New best score: 1.266\n"
     ]
    },
    {
     "name": "stdout",
     "output_type": "stream",
     "text": [
      "Epoch 22 [35/35] {'loss': '0.158'}}\r"
     ]
    },
    {
     "name": "stderr",
     "output_type": "stream",
     "text": [
      "Monitored metric loss/val did not improve in the last 20 records. Best score: 1.266. Signaling Trainer to stop.\n",
      "GPU available: True, used: True\n",
      "TPU available: False, using: 0 TPU cores\n",
      "LOCAL_RANK: 0 - CUDA_VISIBLE_DEVICES: [0]\n",
      "\n",
      "  | Name               | Type             | Params\n",
      "--------------------------------------------------------\n",
      "0 | model              | ResNet           | 8.3 M \n",
      "1 | criteria           | CrossEntropyLoss | 0     \n",
      "2 | valid_metrics      | MetricCollection | 0     \n",
      "3 | valid_dummy_metric | AUROC            | 0     \n",
      "--------------------------------------------------------\n",
      "8.3 M     Trainable params\n",
      "0         Non-trainable params\n",
      "8.3 M     Total params\n",
      "33.154    Total estimated model params size (MB)\n"
     ]
    },
    {
     "name": "stdout",
     "output_type": "stream",
     "text": [
      "Architecture [ResNet] was created\n",
      "***Defined hyperparameters:***\n",
      "\"arch\":                {'name': 'resnet18_brew2', 'args': {'num_channels': 1, 'num_classes': 3}}\n",
      "\"checkpoint_path\":     None\n",
      "\"class_weights\":       tensor([1.2466, 0.6500, 1.5167], device='cuda:0')\n",
      "\"hp_metrics\":          ['loss/train', 'loss/val', 'Accuracy/val', 'AUROC/val', 'Precision/val', 'Recall/val', 'Specificity/val']\n",
      "\"loss\":                {'type': 'CrossEntropyLoss', 'args': {'weight': True}}\n",
      "\"optimizer\":           {'type': 'Adam', 'args': {'lr': 0.0001, 'weight_decay': 1e-06, 'amsgrad': False}}\n",
      "\"roi_hparams\":         {'enable': False, 'output_shape': [3, 3, 3], 'boundary_boxes': []}\n",
      "\"weight_distribution\": None\n",
      "Enabled callbacks:  ['LitProgressBar', 'EarlyStopping']\n",
      "Dataloader fold: 2\n",
      "Epoch 1 [35/35] {'loss': '1.12'}\r"
     ]
    },
    {
     "name": "stderr",
     "output_type": "stream",
     "text": [
      "Metric loss/val improved. New best score: 1.091\n"
     ]
    },
    {
     "name": "stdout",
     "output_type": "stream",
     "text": [
      "Epoch 21 [35/35] {'loss': '0.158'}}\r"
     ]
    },
    {
     "name": "stderr",
     "output_type": "stream",
     "text": [
      "Monitored metric loss/val did not improve in the last 20 records. Best score: 1.091. Signaling Trainer to stop.\n",
      "GPU available: True, used: True\n",
      "TPU available: False, using: 0 TPU cores\n",
      "LOCAL_RANK: 0 - CUDA_VISIBLE_DEVICES: [0]\n",
      "\n",
      "  | Name               | Type             | Params\n",
      "--------------------------------------------------------\n",
      "0 | model              | ResNet           | 8.3 M \n",
      "1 | criteria           | CrossEntropyLoss | 0     \n",
      "2 | valid_metrics      | MetricCollection | 0     \n",
      "3 | valid_dummy_metric | AUROC            | 0     \n",
      "--------------------------------------------------------\n",
      "8.3 M     Trainable params\n",
      "0         Non-trainable params\n",
      "8.3 M     Total params\n",
      "33.154    Total estimated model params size (MB)\n"
     ]
    },
    {
     "name": "stdout",
     "output_type": "stream",
     "text": [
      "Architecture [ResNet] was created\n",
      "***Defined hyperparameters:***\n",
      "\"arch\":                {'name': 'resnet18_brew2', 'args': {'num_channels': 1, 'num_classes': 3}}\n",
      "\"checkpoint_path\":     None\n",
      "\"class_weights\":       tensor([1.2466, 0.6500, 1.5167], device='cuda:0')\n",
      "\"hp_metrics\":          ['loss/train', 'loss/val', 'Accuracy/val', 'AUROC/val', 'Precision/val', 'Recall/val', 'Specificity/val']\n",
      "\"loss\":                {'type': 'CrossEntropyLoss', 'args': {'weight': True}}\n",
      "\"optimizer\":           {'type': 'Adam', 'args': {'lr': 0.0001, 'weight_decay': 1e-06, 'amsgrad': False}}\n",
      "\"roi_hparams\":         {'enable': False, 'output_shape': [3, 3, 3], 'boundary_boxes': []}\n",
      "\"weight_distribution\": None\n",
      "Enabled callbacks:  ['LitProgressBar', 'EarlyStopping']\n",
      "Dataloader fold: 3\n",
      "Epoch 1 [35/35] {'loss': '1.11'}\r"
     ]
    },
    {
     "name": "stderr",
     "output_type": "stream",
     "text": [
      "Metric loss/val improved. New best score: 1.227\n"
     ]
    },
    {
     "name": "stdout",
     "output_type": "stream",
     "text": [
      "Epoch 2 [35/35] {'loss': '1.1'}}\r"
     ]
    },
    {
     "name": "stderr",
     "output_type": "stream",
     "text": [
      "Metric loss/val improved by 0.007 >= min_delta = 0.0001. New best score: 1.220\n"
     ]
    },
    {
     "name": "stdout",
     "output_type": "stream",
     "text": [
      "Epoch 15 [35/35] {'loss': '0.129'}}\r"
     ]
    },
    {
     "name": "stderr",
     "output_type": "stream",
     "text": [
      "Metric loss/val improved by 0.053 >= min_delta = 0.0001. New best score: 1.167\n"
     ]
    },
    {
     "name": "stdout",
     "output_type": "stream",
     "text": [
      "Epoch 16 [35/35] {'loss': '0.102'}}\r"
     ]
    },
    {
     "name": "stderr",
     "output_type": "stream",
     "text": [
      "Metric loss/val improved by 0.065 >= min_delta = 0.0001. New best score: 1.102\n"
     ]
    },
    {
     "name": "stdout",
     "output_type": "stream",
     "text": [
      "Epoch 31 [5/35] {'loss': '0.0515'}}\r"
     ]
    }
   ],
   "source": [
    "models = ['resnet18_brew2','amira_vgg', 'customCNN','resnet50','vgg11_brew','vgg16']\n",
    "for name in models:\n",
    "    run_me(name, base_config='base', i_limit=5)"
   ]
  },
  {
   "cell_type": "code",
   "execution_count": null,
   "id": "northern-combining",
   "metadata": {},
   "outputs": [],
   "source": [
    "models = ['resnet50','vgg11_brew','vgg16','resnet18_brew2','customCNN',]\n",
    "for name in models:\n",
    "    run_me(name, base_config='base',i_limit=6)"
   ]
  },
  {
   "cell_type": "code",
   "execution_count": null,
   "id": "laughing-ontario",
   "metadata": {},
   "outputs": [],
   "source": []
  },
  {
   "cell_type": "code",
   "execution_count": 4,
   "id": "mobile-promotion",
   "metadata": {
    "collapsed": true,
    "jupyter": {
     "outputs_hidden": true
    },
    "tags": []
   },
   "outputs": [
    {
     "name": "stdout",
     "output_type": "stream",
     "text": [
      "***Defined dataloader:***\n",
      "Data directory: data/SPM_categorised/ADNI1/\n",
      "Dataset sizes - Training: 273 Validation: 31\n",
      "Seed: 0\n",
      "Augmentation: Enabled\n",
      "KFold: Enabled - Fold: 1/10\n",
      "\n"
     ]
    },
    {
     "name": "stderr",
     "output_type": "stream",
     "text": [
      "/home/stud/f/fremar16/miniconda3/envs/Master-thesis/lib/python3.9/site-packages/torchmetrics/utilities/prints.py:36: UserWarning: Metric `AUROC` will save all targets and predictions in buffer. For large datasets this may lead to large memory footprint.\n",
      "  warnings.warn(*args, **kwargs)\n",
      "GPU available: True, used: True\n",
      "TPU available: False, using: 0 TPU cores\n",
      "Missing logger folder: /var/metrics/codetests/logs/tb/debug/20210521160133\n",
      "LOCAL_RANK: 0 - CUDA_VISIBLE_DEVICES: [0]\n",
      "\n",
      "  | Name               | Type             | Params\n",
      "--------------------------------------------------------\n",
      "0 | model              | ResNet           | 8.3 M \n",
      "1 | criteria           | CrossEntropyLoss | 0     \n",
      "2 | valid_metrics      | MetricCollection | 0     \n",
      "3 | valid_dummy_metric | AUROC            | 0     \n",
      "--------------------------------------------------------\n",
      "8.3 M     Trainable params\n",
      "0         Non-trainable params\n",
      "8.3 M     Total params\n",
      "33.358    Total estimated model params size (MB)\n"
     ]
    },
    {
     "name": "stdout",
     "output_type": "stream",
     "text": [
      "Architecture [ResNet] was created\n",
      "***Defined hyperparameters:***\n",
      "\"arch\":                {'name': 'resnet18_brew', 'args': {'num_channels': 1, 'num_classes': 3}}\n",
      "\"checkpoint_path\":     None\n",
      "\"class_weights\":       tensor([1.2466, 0.6500, 1.5167], device='cuda:0')\n",
      "\"hp_metrics\":          ['loss/train', 'loss/val', 'Accuracy/val', 'AUROC/val', 'Precision/val', 'Recall/val', 'Specificity/val']\n",
      "\"loss\":                {'type': 'CrossEntropyLoss', 'args': {'weight': True}}\n",
      "\"optimizer\":           {'type': 'Adam', 'args': {'lr': 0.0001, 'weight_decay': 1e-06, 'amsgrad': False}}\n",
      "\"roi_hparams\":         {'enable': False, 'output_shape': [3, 3, 3], 'boundary_boxes': []}\n",
      "\"weight_distribution\": None\n",
      "Enabled callbacks:  ['LitProgressBar']\n",
      "Dataloader fold: 1\n",
      "{'epoch': tensor(4.), 'loss/train': tensor(1.0987, device='cuda:0'), 'loss/val': tensor(1.0569), 'Accuracy/val': tensor(0.4839), 'Precision/val': tensor(0.4839), 'Recall/val': tensor(0.4839), 'AUROC/val': tensor(0.6461), 'Specificity/val': tensor(0.7419)}\n"
     ]
    },
    {
     "name": "stderr",
     "output_type": "stream",
     "text": [
      "GPU available: True, used: True\n",
      "TPU available: False, using: 0 TPU cores\n",
      "LOCAL_RANK: 0 - CUDA_VISIBLE_DEVICES: [0]\n",
      "\n",
      "  | Name               | Type             | Params\n",
      "--------------------------------------------------------\n",
      "0 | model              | ResNet           | 8.3 M \n",
      "1 | criteria           | CrossEntropyLoss | 0     \n",
      "2 | valid_metrics      | MetricCollection | 0     \n",
      "3 | valid_dummy_metric | AUROC            | 0     \n",
      "--------------------------------------------------------\n",
      "8.3 M     Trainable params\n",
      "0         Non-trainable params\n",
      "8.3 M     Total params\n",
      "33.358    Total estimated model params size (MB)\n"
     ]
    },
    {
     "name": "stdout",
     "output_type": "stream",
     "text": [
      "Architecture [ResNet] was created\n",
      "***Defined hyperparameters:***\n",
      "\"arch\":                {'name': 'resnet18_brew', 'args': {'num_channels': 1, 'num_classes': 3}}\n",
      "\"checkpoint_path\":     None\n",
      "\"class_weights\":       tensor([1.2466, 0.6500, 1.5167], device='cuda:0')\n",
      "\"hp_metrics\":          ['loss/train', 'loss/val', 'Accuracy/val', 'AUROC/val', 'Precision/val', 'Recall/val', 'Specificity/val']\n",
      "\"loss\":                {'type': 'CrossEntropyLoss', 'args': {'weight': True}}\n",
      "\"optimizer\":           {'type': 'Adam', 'args': {'lr': 0.0001, 'weight_decay': 1e-06, 'amsgrad': False}}\n",
      "\"roi_hparams\":         {'enable': False, 'output_shape': [3, 3, 3], 'boundary_boxes': []}\n",
      "\"weight_distribution\": None\n",
      "Enabled callbacks:  ['LitProgressBar']\n",
      "Dataloader fold: 2\n",
      "{'epoch': tensor(4.), 'loss/train': tensor(1.0840, device='cuda:0'), 'loss/val': tensor(1.3403), 'Accuracy/val': tensor(0.2258), 'Precision/val': tensor(0.2258), 'Recall/val': tensor(0.2258), 'AUROC/val': tensor(0.6673), 'Specificity/val': tensor(0.6129)}\n"
     ]
    },
    {
     "name": "stderr",
     "output_type": "stream",
     "text": [
      "GPU available: True, used: True\n",
      "TPU available: False, using: 0 TPU cores\n",
      "LOCAL_RANK: 0 - CUDA_VISIBLE_DEVICES: [0]\n",
      "\n",
      "  | Name               | Type             | Params\n",
      "--------------------------------------------------------\n",
      "0 | model              | ResNet           | 8.3 M \n",
      "1 | criteria           | CrossEntropyLoss | 0     \n",
      "2 | valid_metrics      | MetricCollection | 0     \n",
      "3 | valid_dummy_metric | AUROC            | 0     \n",
      "--------------------------------------------------------\n",
      "8.3 M     Trainable params\n",
      "0         Non-trainable params\n",
      "8.3 M     Total params\n",
      "33.358    Total estimated model params size (MB)\n"
     ]
    },
    {
     "name": "stdout",
     "output_type": "stream",
     "text": [
      "Architecture [ResNet] was created\n",
      "***Defined hyperparameters:***\n",
      "\"arch\":                {'name': 'resnet18_brew', 'args': {'num_channels': 1, 'num_classes': 3}}\n",
      "\"checkpoint_path\":     None\n",
      "\"class_weights\":       tensor([1.2466, 0.6500, 1.5167], device='cuda:0')\n",
      "\"hp_metrics\":          ['loss/train', 'loss/val', 'Accuracy/val', 'AUROC/val', 'Precision/val', 'Recall/val', 'Specificity/val']\n",
      "\"loss\":                {'type': 'CrossEntropyLoss', 'args': {'weight': True}}\n",
      "\"optimizer\":           {'type': 'Adam', 'args': {'lr': 0.0001, 'weight_decay': 1e-06, 'amsgrad': False}}\n",
      "\"roi_hparams\":         {'enable': False, 'output_shape': [3, 3, 3], 'boundary_boxes': []}\n",
      "\"weight_distribution\": None\n",
      "Enabled callbacks:  ['LitProgressBar']\n",
      "Dataloader fold: 3\n",
      "{'epoch': tensor(4.), 'loss/train': tensor(1.0731, device='cuda:0'), 'loss/val': tensor(0.9512), 'Accuracy/val': tensor(0.5484), 'Precision/val': tensor(0.5484), 'Recall/val': tensor(0.5484), 'AUROC/val': tensor(0.7409), 'Specificity/val': tensor(0.7742)}\n"
     ]
    },
    {
     "name": "stderr",
     "output_type": "stream",
     "text": [
      "GPU available: True, used: True\n",
      "TPU available: False, using: 0 TPU cores\n",
      "LOCAL_RANK: 0 - CUDA_VISIBLE_DEVICES: [0]\n",
      "\n",
      "  | Name               | Type             | Params\n",
      "--------------------------------------------------------\n",
      "0 | model              | ResNet           | 8.3 M \n",
      "1 | criteria           | CrossEntropyLoss | 0     \n",
      "2 | valid_metrics      | MetricCollection | 0     \n",
      "3 | valid_dummy_metric | AUROC            | 0     \n",
      "--------------------------------------------------------\n",
      "8.3 M     Trainable params\n",
      "0         Non-trainable params\n",
      "8.3 M     Total params\n",
      "33.358    Total estimated model params size (MB)\n"
     ]
    },
    {
     "name": "stdout",
     "output_type": "stream",
     "text": [
      "Architecture [ResNet] was created\n",
      "***Defined hyperparameters:***\n",
      "\"arch\":                {'name': 'resnet18_brew', 'args': {'num_channels': 1, 'num_classes': 3}}\n",
      "\"checkpoint_path\":     None\n",
      "\"class_weights\":       tensor([1.2466, 0.6500, 1.5167], device='cuda:0')\n",
      "\"hp_metrics\":          ['loss/train', 'loss/val', 'Accuracy/val', 'AUROC/val', 'Precision/val', 'Recall/val', 'Specificity/val']\n",
      "\"loss\":                {'type': 'CrossEntropyLoss', 'args': {'weight': True}}\n",
      "\"optimizer\":           {'type': 'Adam', 'args': {'lr': 0.0001, 'weight_decay': 1e-06, 'amsgrad': False}}\n",
      "\"roi_hparams\":         {'enable': False, 'output_shape': [3, 3, 3], 'boundary_boxes': []}\n",
      "\"weight_distribution\": None\n",
      "Enabled callbacks:  ['LitProgressBar']\n",
      "Dataloader fold: 4\n",
      "{'epoch': tensor(4.), 'loss/train': tensor(1.0837, device='cuda:0'), 'loss/val': tensor(1.0448), 'Accuracy/val': tensor(0.2903), 'Precision/val': tensor(0.2903), 'Recall/val': tensor(0.2903), 'AUROC/val': tensor(0.6582), 'Specificity/val': tensor(0.6452)}\n"
     ]
    },
    {
     "name": "stderr",
     "output_type": "stream",
     "text": [
      "GPU available: True, used: True\n",
      "TPU available: False, using: 0 TPU cores\n",
      "LOCAL_RANK: 0 - CUDA_VISIBLE_DEVICES: [0]\n",
      "\n",
      "  | Name               | Type             | Params\n",
      "--------------------------------------------------------\n",
      "0 | model              | ResNet           | 8.3 M \n",
      "1 | criteria           | CrossEntropyLoss | 0     \n",
      "2 | valid_metrics      | MetricCollection | 0     \n",
      "3 | valid_dummy_metric | AUROC            | 0     \n",
      "--------------------------------------------------------\n",
      "8.3 M     Trainable params\n",
      "0         Non-trainable params\n",
      "8.3 M     Total params\n",
      "33.358    Total estimated model params size (MB)\n"
     ]
    },
    {
     "name": "stdout",
     "output_type": "stream",
     "text": [
      "Architecture [ResNet] was created\n",
      "***Defined hyperparameters:***\n",
      "\"arch\":                {'name': 'resnet18_brew', 'args': {'num_channels': 1, 'num_classes': 3}}\n",
      "\"checkpoint_path\":     None\n",
      "\"class_weights\":       tensor([1.2466, 0.6500, 1.5167], device='cuda:0')\n",
      "\"hp_metrics\":          ['loss/train', 'loss/val', 'Accuracy/val', 'AUROC/val', 'Precision/val', 'Recall/val', 'Specificity/val']\n",
      "\"loss\":                {'type': 'CrossEntropyLoss', 'args': {'weight': True}}\n",
      "\"optimizer\":           {'type': 'Adam', 'args': {'lr': 0.0001, 'weight_decay': 1e-06, 'amsgrad': False}}\n",
      "\"roi_hparams\":         {'enable': False, 'output_shape': [3, 3, 3], 'boundary_boxes': []}\n",
      "\"weight_distribution\": None\n",
      "Enabled callbacks:  ['LitProgressBar']\n",
      "Dataloader fold: 5\n",
      "{'epoch': tensor(4.), 'loss/train': tensor(1.0727, device='cuda:0'), 'loss/val': tensor(1.0006), 'Accuracy/val': tensor(0.5161), 'Precision/val': tensor(0.5161), 'Recall/val': tensor(0.5161), 'AUROC/val': tensor(0.7631), 'Specificity/val': tensor(0.7581)}\n"
     ]
    },
    {
     "name": "stderr",
     "output_type": "stream",
     "text": [
      "GPU available: True, used: True\n",
      "TPU available: False, using: 0 TPU cores\n",
      "LOCAL_RANK: 0 - CUDA_VISIBLE_DEVICES: [0]\n",
      "\n",
      "  | Name               | Type             | Params\n",
      "--------------------------------------------------------\n",
      "0 | model              | ResNet           | 8.3 M \n",
      "1 | criteria           | CrossEntropyLoss | 0     \n",
      "2 | valid_metrics      | MetricCollection | 0     \n",
      "3 | valid_dummy_metric | AUROC            | 0     \n",
      "--------------------------------------------------------\n",
      "8.3 M     Trainable params\n",
      "0         Non-trainable params\n",
      "8.3 M     Total params\n",
      "33.358    Total estimated model params size (MB)\n"
     ]
    },
    {
     "name": "stdout",
     "output_type": "stream",
     "text": [
      "Architecture [ResNet] was created\n",
      "***Defined hyperparameters:***\n",
      "\"arch\":                {'name': 'resnet18_brew', 'args': {'num_channels': 1, 'num_classes': 3}}\n",
      "\"checkpoint_path\":     None\n",
      "\"class_weights\":       tensor([1.2466, 0.6500, 1.5167], device='cuda:0')\n",
      "\"hp_metrics\":          ['loss/train', 'loss/val', 'Accuracy/val', 'AUROC/val', 'Precision/val', 'Recall/val', 'Specificity/val']\n",
      "\"loss\":                {'type': 'CrossEntropyLoss', 'args': {'weight': True}}\n",
      "\"optimizer\":           {'type': 'Adam', 'args': {'lr': 0.0001, 'weight_decay': 1e-06, 'amsgrad': False}}\n",
      "\"roi_hparams\":         {'enable': False, 'output_shape': [3, 3, 3], 'boundary_boxes': []}\n",
      "\"weight_distribution\": None\n",
      "Enabled callbacks:  ['LitProgressBar']\n",
      "Dataloader fold: 6\n",
      "{'epoch': tensor(4.), 'loss/train': tensor(1.1264, device='cuda:0'), 'loss/val': tensor(1.1232), 'Accuracy/val': tensor(0.2903), 'Precision/val': tensor(0.2903), 'Recall/val': tensor(0.2903), 'AUROC/val': tensor(0.6188), 'Specificity/val': tensor(0.6452)}\n"
     ]
    },
    {
     "name": "stderr",
     "output_type": "stream",
     "text": [
      "GPU available: True, used: True\n",
      "TPU available: False, using: 0 TPU cores\n",
      "LOCAL_RANK: 0 - CUDA_VISIBLE_DEVICES: [0]\n",
      "\n",
      "  | Name               | Type             | Params\n",
      "--------------------------------------------------------\n",
      "0 | model              | ResNet           | 8.3 M \n",
      "1 | criteria           | CrossEntropyLoss | 0     \n",
      "2 | valid_metrics      | MetricCollection | 0     \n",
      "3 | valid_dummy_metric | AUROC            | 0     \n",
      "--------------------------------------------------------\n",
      "8.3 M     Trainable params\n",
      "0         Non-trainable params\n",
      "8.3 M     Total params\n",
      "33.358    Total estimated model params size (MB)\n"
     ]
    },
    {
     "name": "stdout",
     "output_type": "stream",
     "text": [
      "Architecture [ResNet] was created\n",
      "***Defined hyperparameters:***\n",
      "\"arch\":                {'name': 'resnet18_brew', 'args': {'num_channels': 1, 'num_classes': 3}}\n",
      "\"checkpoint_path\":     None\n",
      "\"class_weights\":       tensor([1.2466, 0.6500, 1.5167], device='cuda:0')\n",
      "\"hp_metrics\":          ['loss/train', 'loss/val', 'Accuracy/val', 'AUROC/val', 'Precision/val', 'Recall/val', 'Specificity/val']\n",
      "\"loss\":                {'type': 'CrossEntropyLoss', 'args': {'weight': True}}\n",
      "\"optimizer\":           {'type': 'Adam', 'args': {'lr': 0.0001, 'weight_decay': 1e-06, 'amsgrad': False}}\n",
      "\"roi_hparams\":         {'enable': False, 'output_shape': [3, 3, 3], 'boundary_boxes': []}\n",
      "\"weight_distribution\": None\n",
      "Enabled callbacks:  ['LitProgressBar']\n",
      "Dataloader fold: 7\n",
      "{'epoch': tensor(4.), 'loss/train': tensor(1.0593, device='cuda:0'), 'loss/val': tensor(1.1811), 'Accuracy/val': tensor(0.2258), 'Precision/val': tensor(0.2258), 'Recall/val': tensor(0.2258), 'AUROC/val': tensor(0.6164), 'Specificity/val': tensor(0.6129)}\n"
     ]
    },
    {
     "name": "stderr",
     "output_type": "stream",
     "text": [
      "GPU available: True, used: True\n",
      "TPU available: False, using: 0 TPU cores\n",
      "LOCAL_RANK: 0 - CUDA_VISIBLE_DEVICES: [0]\n",
      "\n",
      "  | Name               | Type             | Params\n",
      "--------------------------------------------------------\n",
      "0 | model              | ResNet           | 8.3 M \n",
      "1 | criteria           | CrossEntropyLoss | 0     \n",
      "2 | valid_metrics      | MetricCollection | 0     \n",
      "3 | valid_dummy_metric | AUROC            | 0     \n",
      "--------------------------------------------------------\n",
      "8.3 M     Trainable params\n",
      "0         Non-trainable params\n",
      "8.3 M     Total params\n",
      "33.358    Total estimated model params size (MB)\n"
     ]
    },
    {
     "name": "stdout",
     "output_type": "stream",
     "text": [
      "Architecture [ResNet] was created\n",
      "***Defined hyperparameters:***\n",
      "\"arch\":                {'name': 'resnet18_brew', 'args': {'num_channels': 1, 'num_classes': 3}}\n",
      "\"checkpoint_path\":     None\n",
      "\"class_weights\":       tensor([1.2466, 0.6500, 1.5167], device='cuda:0')\n",
      "\"hp_metrics\":          ['loss/train', 'loss/val', 'Accuracy/val', 'AUROC/val', 'Precision/val', 'Recall/val', 'Specificity/val']\n",
      "\"loss\":                {'type': 'CrossEntropyLoss', 'args': {'weight': True}}\n",
      "\"optimizer\":           {'type': 'Adam', 'args': {'lr': 0.0001, 'weight_decay': 1e-06, 'amsgrad': False}}\n",
      "\"roi_hparams\":         {'enable': False, 'output_shape': [3, 3, 3], 'boundary_boxes': []}\n",
      "\"weight_distribution\": None\n",
      "Enabled callbacks:  ['LitProgressBar']\n",
      "Dataloader fold: 8\n",
      "{'epoch': tensor(4.), 'loss/train': tensor(1.1112, device='cuda:0'), 'loss/val': tensor(1.1325), 'Accuracy/val': tensor(0.2581), 'Precision/val': tensor(0.2581), 'Recall/val': tensor(0.2581), 'AUROC/val': tensor(0.6143), 'Specificity/val': tensor(0.6290)}\n"
     ]
    },
    {
     "name": "stderr",
     "output_type": "stream",
     "text": [
      "GPU available: True, used: True\n",
      "TPU available: False, using: 0 TPU cores\n",
      "LOCAL_RANK: 0 - CUDA_VISIBLE_DEVICES: [0]\n",
      "\n",
      "  | Name               | Type             | Params\n",
      "--------------------------------------------------------\n",
      "0 | model              | ResNet           | 8.3 M \n",
      "1 | criteria           | CrossEntropyLoss | 0     \n",
      "2 | valid_metrics      | MetricCollection | 0     \n",
      "3 | valid_dummy_metric | AUROC            | 0     \n",
      "--------------------------------------------------------\n",
      "8.3 M     Trainable params\n",
      "0         Non-trainable params\n",
      "8.3 M     Total params\n",
      "33.358    Total estimated model params size (MB)\n"
     ]
    },
    {
     "name": "stdout",
     "output_type": "stream",
     "text": [
      "Architecture [ResNet] was created\n",
      "***Defined hyperparameters:***\n",
      "\"arch\":                {'name': 'resnet18_brew', 'args': {'num_channels': 1, 'num_classes': 3}}\n",
      "\"checkpoint_path\":     None\n",
      "\"class_weights\":       tensor([1.2466, 0.6500, 1.5167], device='cuda:0')\n",
      "\"hp_metrics\":          ['loss/train', 'loss/val', 'Accuracy/val', 'AUROC/val', 'Precision/val', 'Recall/val', 'Specificity/val']\n",
      "\"loss\":                {'type': 'CrossEntropyLoss', 'args': {'weight': True}}\n",
      "\"optimizer\":           {'type': 'Adam', 'args': {'lr': 0.0001, 'weight_decay': 1e-06, 'amsgrad': False}}\n",
      "\"roi_hparams\":         {'enable': False, 'output_shape': [3, 3, 3], 'boundary_boxes': []}\n",
      "\"weight_distribution\": None\n",
      "Enabled callbacks:  ['LitProgressBar']\n",
      "Dataloader fold: 9\n",
      "{'epoch': tensor(4.), 'loss/train': tensor(1.0731, device='cuda:0'), 'loss/val': tensor(1.1483), 'Accuracy/val': tensor(0.2903), 'Precision/val': tensor(0.2903), 'Recall/val': tensor(0.2903), 'AUROC/val': tensor(0.6361), 'Specificity/val': tensor(0.6452)}\n"
     ]
    },
    {
     "name": "stderr",
     "output_type": "stream",
     "text": [
      "GPU available: True, used: True\n",
      "TPU available: False, using: 0 TPU cores\n",
      "LOCAL_RANK: 0 - CUDA_VISIBLE_DEVICES: [0]\n",
      "\n",
      "  | Name               | Type             | Params\n",
      "--------------------------------------------------------\n",
      "0 | model              | ResNet           | 8.3 M \n",
      "1 | criteria           | CrossEntropyLoss | 0     \n",
      "2 | valid_metrics      | MetricCollection | 0     \n",
      "3 | valid_dummy_metric | AUROC            | 0     \n",
      "--------------------------------------------------------\n",
      "8.3 M     Trainable params\n",
      "0         Non-trainable params\n",
      "8.3 M     Total params\n",
      "33.358    Total estimated model params size (MB)\n"
     ]
    },
    {
     "name": "stdout",
     "output_type": "stream",
     "text": [
      "Architecture [ResNet] was created\n",
      "***Defined hyperparameters:***\n",
      "\"arch\":                {'name': 'resnet18_brew', 'args': {'num_channels': 1, 'num_classes': 3}}\n",
      "\"checkpoint_path\":     None\n",
      "\"class_weights\":       tensor([1.2466, 0.6500, 1.5167], device='cuda:0')\n",
      "\"hp_metrics\":          ['loss/train', 'loss/val', 'Accuracy/val', 'AUROC/val', 'Precision/val', 'Recall/val', 'Specificity/val']\n",
      "\"loss\":                {'type': 'CrossEntropyLoss', 'args': {'weight': True}}\n",
      "\"optimizer\":           {'type': 'Adam', 'args': {'lr': 0.0001, 'weight_decay': 1e-06, 'amsgrad': False}}\n",
      "\"roi_hparams\":         {'enable': False, 'output_shape': [3, 3, 3], 'boundary_boxes': []}\n",
      "\"weight_distribution\": None\n",
      "Enabled callbacks:  ['LitProgressBar']\n",
      "Dataloader fold: 10\n",
      "{'epoch': tensor(4.), 'loss/train': tensor(1.0478, device='cuda:0'), 'loss/val': tensor(1.0345), 'Accuracy/val': tensor(0.4194), 'Precision/val': tensor(0.4194), 'Recall/val': tensor(0.4194), 'AUROC/val': tensor(0.7012), 'Specificity/val': tensor(0.7097)}\n",
      "debug: [{'epoch': tensor(4.), 'loss/train': tensor(1.0987, device='cuda:0'), 'loss/val': tensor(1.0569), 'Accuracy/val': tensor(0.4839), 'Precision/val': tensor(0.4839), 'Recall/val': tensor(0.4839), 'AUROC/val': tensor(0.6461), 'Specificity/val': tensor(0.7419)}, {'epoch': tensor(4.), 'loss/train': tensor(1.0840, device='cuda:0'), 'loss/val': tensor(1.3403), 'Accuracy/val': tensor(0.2258), 'Precision/val': tensor(0.2258), 'Recall/val': tensor(0.2258), 'AUROC/val': tensor(0.6673), 'Specificity/val': tensor(0.6129)}, {'epoch': tensor(4.), 'loss/train': tensor(1.0731, device='cuda:0'), 'loss/val': tensor(0.9512), 'Accuracy/val': tensor(0.5484), 'Precision/val': tensor(0.5484), 'Recall/val': tensor(0.5484), 'AUROC/val': tensor(0.7409), 'Specificity/val': tensor(0.7742)}, {'epoch': tensor(4.), 'loss/train': tensor(1.0837, device='cuda:0'), 'loss/val': tensor(1.0448), 'Accuracy/val': tensor(0.2903), 'Precision/val': tensor(0.2903), 'Recall/val': tensor(0.2903), 'AUROC/val': tensor(0.6582), 'Specificity/val': tensor(0.6452)}, {'epoch': tensor(4.), 'loss/train': tensor(1.0727, device='cuda:0'), 'loss/val': tensor(1.0006), 'Accuracy/val': tensor(0.5161), 'Precision/val': tensor(0.5161), 'Recall/val': tensor(0.5161), 'AUROC/val': tensor(0.7631), 'Specificity/val': tensor(0.7581)}, {'epoch': tensor(4.), 'loss/train': tensor(1.1264, device='cuda:0'), 'loss/val': tensor(1.1232), 'Accuracy/val': tensor(0.2903), 'Precision/val': tensor(0.2903), 'Recall/val': tensor(0.2903), 'AUROC/val': tensor(0.6188), 'Specificity/val': tensor(0.6452)}, {'epoch': tensor(4.), 'loss/train': tensor(1.0593, device='cuda:0'), 'loss/val': tensor(1.1811), 'Accuracy/val': tensor(0.2258), 'Precision/val': tensor(0.2258), 'Recall/val': tensor(0.2258), 'AUROC/val': tensor(0.6164), 'Specificity/val': tensor(0.6129)}, {'epoch': tensor(4.), 'loss/train': tensor(1.1112, device='cuda:0'), 'loss/val': tensor(1.1325), 'Accuracy/val': tensor(0.2581), 'Precision/val': tensor(0.2581), 'Recall/val': tensor(0.2581), 'AUROC/val': tensor(0.6143), 'Specificity/val': tensor(0.6290)}, {'epoch': tensor(4.), 'loss/train': tensor(1.0731, device='cuda:0'), 'loss/val': tensor(1.1483), 'Accuracy/val': tensor(0.2903), 'Precision/val': tensor(0.2903), 'Recall/val': tensor(0.2903), 'AUROC/val': tensor(0.6361), 'Specificity/val': tensor(0.6452)}, {'epoch': tensor(4.), 'loss/train': tensor(1.0478, device='cuda:0'), 'loss/val': tensor(1.0345), 'Accuracy/val': tensor(0.4194), 'Precision/val': tensor(0.4194), 'Recall/val': tensor(0.4194), 'AUROC/val': tensor(0.7012), 'Specificity/val': tensor(0.7097)}]\n"
     ]
    }
   ],
   "source": [
    "models = ['debug']\n",
    "for name in models:\n",
    "    run_me(name, base_config='base',i_limit=-1)"
   ]
  },
  {
   "cell_type": "code",
   "execution_count": null,
   "id": "bibliographic-architecture",
   "metadata": {
    "tags": []
   },
   "outputs": [],
   "source": [
    "models = ['resnet18_brew2']\n",
    "for name in models:\n",
    "    run_me(name, base_config='base',i_limit=-1)"
   ]
  },
  {
   "cell_type": "code",
   "execution_count": null,
   "id": "regulation-retro",
   "metadata": {
    "collapsed": true,
    "jupyter": {
     "outputs_hidden": true
    },
    "tags": []
   },
   "outputs": [
    {
     "name": "stdout",
     "output_type": "stream",
     "text": [
      "***Defined dataloader:***\n",
      "Data directory: data/SPM_categorised/ADNI1/\n",
      "Dataset sizes - Training: 273 Validation: 31\n",
      "Seed: 0\n",
      "Augmentation: Enabled\n",
      "KFold: Enabled - Fold: 1/10\n",
      "\n"
     ]
    },
    {
     "name": "stderr",
     "output_type": "stream",
     "text": [
      "/home/stud/f/fremar16/miniconda3/envs/Master-thesis/lib/python3.9/site-packages/torchmetrics/utilities/prints.py:36: UserWarning: Metric `AUROC` will save all targets and predictions in buffer. For large datasets this may lead to large memory footprint.\n",
      "  warnings.warn(*args, **kwargs)\n",
      "GPU available: True, used: True\n",
      "TPU available: False, using: 0 TPU cores\n",
      "Missing logger folder: /var/metrics/codetests/logs/tb/customCNN/20210521152336\n",
      "LOCAL_RANK: 0 - CUDA_VISIBLE_DEVICES: [0]\n",
      "\n",
      "  | Name               | Type             | Params\n",
      "--------------------------------------------------------\n",
      "0 | model              | customCNN        | 5.3 M \n",
      "1 | criteria           | CrossEntropyLoss | 0     \n",
      "2 | valid_metrics      | MetricCollection | 0     \n",
      "3 | valid_dummy_metric | AUROC            | 0     \n",
      "--------------------------------------------------------\n",
      "5.3 M     Trainable params\n",
      "0         Non-trainable params\n",
      "5.3 M     Total params\n",
      "21.285    Total estimated model params size (MB)\n"
     ]
    },
    {
     "name": "stdout",
     "output_type": "stream",
     "text": [
      "Architecture [customCNN] was created\n",
      "***Defined hyperparameters:***\n",
      "\"arch\":                {'name': 'customCNN', 'args': {'num_channels': 1, 'num_classes': 3}}\n",
      "\"checkpoint_path\":     None\n",
      "\"class_weights\":       tensor([1.2466, 0.6500, 1.5167], device='cuda:0')\n",
      "\"hp_metrics\":          ['loss/train', 'loss/val', 'Accuracy/val', 'AUROC/val', 'Precision/val', 'Recall/val', 'Specificity/val']\n",
      "\"loss\":                {'type': 'CrossEntropyLoss', 'args': {'weight': True}}\n",
      "\"optimizer\":           {'type': 'Adam', 'args': {'lr': 0.0001, 'weight_decay': 1e-06, 'amsgrad': False}}\n",
      "\"roi_hparams\":         {'enable': False, 'output_shape': [3, 3, 3], 'boundary_boxes': []}\n",
      "\"weight_distribution\": None\n",
      "Enabled callbacks:  ['LitProgressBar']\n",
      "Dataloader fold: 1\n",
      "Epoch 50 [35/35] {'loss': '1.09'}\r"
     ]
    },
    {
     "name": "stderr",
     "output_type": "stream",
     "text": [
      "GPU available: True, used: True\n",
      "TPU available: False, using: 0 TPU cores\n",
      "LOCAL_RANK: 0 - CUDA_VISIBLE_DEVICES: [0]\n",
      "\n",
      "  | Name               | Type             | Params\n",
      "--------------------------------------------------------\n",
      "0 | model              | customCNN        | 5.3 M \n",
      "1 | criteria           | CrossEntropyLoss | 0     \n",
      "2 | valid_metrics      | MetricCollection | 0     \n",
      "3 | valid_dummy_metric | AUROC            | 0     \n",
      "--------------------------------------------------------\n",
      "5.3 M     Trainable params\n",
      "0         Non-trainable params\n",
      "5.3 M     Total params\n",
      "21.285    Total estimated model params size (MB)\n"
     ]
    },
    {
     "name": "stdout",
     "output_type": "stream",
     "text": [
      "Architecture [customCNN] was created\n",
      "***Defined hyperparameters:***\n",
      "\"arch\":                {'name': 'customCNN', 'args': {'num_channels': 1, 'num_classes': 3}}\n",
      "\"checkpoint_path\":     None\n",
      "\"class_weights\":       tensor([1.2466, 0.6500, 1.5167], device='cuda:0')\n",
      "\"hp_metrics\":          ['loss/train', 'loss/val', 'Accuracy/val', 'AUROC/val', 'Precision/val', 'Recall/val', 'Specificity/val']\n",
      "\"loss\":                {'type': 'CrossEntropyLoss', 'args': {'weight': True}}\n",
      "\"optimizer\":           {'type': 'Adam', 'args': {'lr': 0.0001, 'weight_decay': 1e-06, 'amsgrad': False}}\n",
      "\"roi_hparams\":         {'enable': False, 'output_shape': [3, 3, 3], 'boundary_boxes': []}\n",
      "\"weight_distribution\": None\n",
      "Enabled callbacks:  ['LitProgressBar']\n",
      "Dataloader fold: 2\n",
      "Epoch 23 [10/35] {'loss': '1.1'}}\r"
     ]
    }
   ],
   "source": [
    "models = ['customCNN']\n",
    "for name in models:\n",
    "    run_me(name, base_config='base',i_limit=-1)"
   ]
  },
  {
   "cell_type": "code",
   "execution_count": 4,
   "id": "unavailable-therapy",
   "metadata": {
    "collapsed": true,
    "jupyter": {
     "outputs_hidden": true
    },
    "tags": []
   },
   "outputs": [
    {
     "name": "stdout",
     "output_type": "stream",
     "text": [
      "***Defined dataloader:***\n",
      "Data directory: data/SPM_categorised/ADNI1/\n",
      "Dataset sizes - Training: 273 Validation: 31\n",
      "Seed: 420\n",
      "Augmentation: Enabled\n",
      "KFold: Enabled - Fold: 1/10\n",
      "\n"
     ]
    },
    {
     "name": "stderr",
     "output_type": "stream",
     "text": [
      "/home/stud/f/fremar16/miniconda3/envs/Master-thesis/lib/python3.9/site-packages/torchmetrics/utilities/prints.py:36: UserWarning: Metric `AUROC` will save all targets and predictions in buffer. For large datasets this may lead to large memory footprint.\n",
      "  warnings.warn(*args, **kwargs)\n",
      "GPU available: True, used: True\n",
      "TPU available: False, using: 0 TPU cores\n",
      "Missing logger folder: /var/metrics/codetests/logs/tb/resnet50/20210520184505\n",
      "LOCAL_RANK: 0 - CUDA_VISIBLE_DEVICES: [0]\n",
      "\n",
      "  | Name               | Type             | Params\n",
      "--------------------------------------------------------\n",
      "0 | model              | ResNet           | 46.2 M\n",
      "1 | criteria           | CrossEntropyLoss | 0     \n",
      "2 | train_metrics      | MetricCollection | 0     \n",
      "3 | valid_metrics      | MetricCollection | 0     \n",
      "4 | valid_dummy_metric | AUROC            | 0     \n",
      "--------------------------------------------------------\n",
      "46.2 M    Trainable params\n",
      "0         Non-trainable params\n",
      "46.2 M    Total params\n",
      "184.645   Total estimated model params size (MB)\n"
     ]
    },
    {
     "name": "stdout",
     "output_type": "stream",
     "text": [
      "Architecture [ResNet] was created\n",
      "***Defined hyperparameters:***\n",
      "\"arch\":                {'name': 'resnet50', 'args': {'num_channels': 1, 'num_classes': 3}}\n",
      "\"checkpoint_path\":     None\n",
      "\"class_weights\":       tensor([1.2466, 0.6500, 1.5167], device='cuda:0')\n",
      "\"hp_metrics\":          ['loss/train', 'loss/val', 'Accuracy/val', 'AUROC/val', 'Precision/val', 'Recall/val', 'Specificity/val']\n",
      "\"loss\":                {'type': 'CrossEntropyLoss', 'args': {'weight': True}}\n",
      "\"optimizer\":           {'type': 'Adam', 'args': {'lr': 0.02, 'weight_decay': 0, 'amsgrad': False}}\n",
      "\"roi_hparams\":         {'enable': False, 'output_shape': [3, 3, 3], 'boundary_boxes': []}\n",
      "\"weight_distribution\": None\n",
      "Enabled callbacks:  ['LitProgressBar', 'EarlyStopping']\n",
      "Dataloader fold: 1\n",
      "Epoch 1 [35/35] {'loss': '5.19'}\r"
     ]
    },
    {
     "name": "stderr",
     "output_type": "stream",
     "text": [
      "Metric loss/val improved. New best score: 933724.500\n"
     ]
    },
    {
     "name": "stdout",
     "output_type": "stream",
     "text": [
      "Epoch 2 [35/35] {'loss': '4.51'}\r"
     ]
    },
    {
     "name": "stderr",
     "output_type": "stream",
     "text": [
      "Metric loss/val improved by 933705.000 >= min_delta = 0.0001. New best score: 19.511\n"
     ]
    },
    {
     "name": "stdout",
     "output_type": "stream",
     "text": [
      "Epoch 3 [35/35] {'loss': '2.05'}\r"
     ]
    },
    {
     "name": "stderr",
     "output_type": "stream",
     "text": [
      "Metric loss/val improved by 18.069 >= min_delta = 0.0001. New best score: 1.442\n"
     ]
    },
    {
     "name": "stdout",
     "output_type": "stream",
     "text": [
      "Epoch 8 [35/35] {'loss': '1.45'}\r"
     ]
    },
    {
     "name": "stderr",
     "output_type": "stream",
     "text": [
      "Metric loss/val improved by 0.362 >= min_delta = 0.0001. New best score: 1.080\n"
     ]
    },
    {
     "name": "stdout",
     "output_type": "stream",
     "text": [
      "Epoch 17 [35/35] {'loss': '1.11'}\r"
     ]
    },
    {
     "name": "stderr",
     "output_type": "stream",
     "text": [
      "Metric loss/val improved by 0.002 >= min_delta = 0.0001. New best score: 1.078\n"
     ]
    },
    {
     "name": "stdout",
     "output_type": "stream",
     "text": [
      "Epoch 20 [35/35] {'loss': '1.11'}\r"
     ]
    },
    {
     "name": "stderr",
     "output_type": "stream",
     "text": [
      "Metric loss/val improved by 0.002 >= min_delta = 0.0001. New best score: 1.075\n"
     ]
    },
    {
     "name": "stdout",
     "output_type": "stream",
     "text": [
      "Epoch 30 [35/35] {'loss': '1.1'}}\r"
     ]
    },
    {
     "name": "stderr",
     "output_type": "stream",
     "text": [
      "Metric loss/val improved by 0.001 >= min_delta = 0.0001. New best score: 1.075\n"
     ]
    },
    {
     "name": "stdout",
     "output_type": "stream",
     "text": [
      "Epoch 40 [35/35] {'loss': '1.09'}\r"
     ]
    },
    {
     "name": "stderr",
     "output_type": "stream",
     "text": [
      "Monitored metric loss/val did not improve in the last 10 records. Best score: 1.075. Signaling Trainer to stop.\n",
      "GPU available: True, used: True\n",
      "TPU available: False, using: 0 TPU cores\n",
      "LOCAL_RANK: 0 - CUDA_VISIBLE_DEVICES: [0]\n",
      "\n",
      "  | Name               | Type             | Params\n",
      "--------------------------------------------------------\n",
      "0 | model              | ResNet           | 46.2 M\n",
      "1 | criteria           | CrossEntropyLoss | 0     \n",
      "2 | train_metrics      | MetricCollection | 0     \n",
      "3 | valid_metrics      | MetricCollection | 0     \n",
      "4 | valid_dummy_metric | AUROC            | 0     \n",
      "--------------------------------------------------------\n",
      "46.2 M    Trainable params\n",
      "0         Non-trainable params\n",
      "46.2 M    Total params\n",
      "184.645   Total estimated model params size (MB)\n"
     ]
    },
    {
     "name": "stdout",
     "output_type": "stream",
     "text": [
      "Architecture [ResNet] was created\n",
      "***Defined hyperparameters:***\n",
      "\"arch\":                {'name': 'resnet50', 'args': {'num_channels': 1, 'num_classes': 3}}\n",
      "\"checkpoint_path\":     None\n",
      "\"class_weights\":       tensor([1.2466, 0.6500, 1.5167], device='cuda:0')\n",
      "\"hp_metrics\":          ['loss/train', 'loss/val', 'Accuracy/val', 'AUROC/val', 'Precision/val', 'Recall/val', 'Specificity/val']\n",
      "\"loss\":                {'type': 'CrossEntropyLoss', 'args': {'weight': True}}\n",
      "\"optimizer\":           {'type': 'Adam', 'args': {'lr': 0.02, 'weight_decay': 0, 'amsgrad': False}}\n",
      "\"roi_hparams\":         {'enable': False, 'output_shape': [3, 3, 3], 'boundary_boxes': []}\n",
      "\"weight_distribution\": None\n",
      "Enabled callbacks:  ['LitProgressBar', 'EarlyStopping']\n",
      "Dataloader fold: 2\n",
      "Epoch 1 [35/35] {'loss': '3.69'}\r"
     ]
    },
    {
     "name": "stderr",
     "output_type": "stream",
     "text": [
      "Metric loss/val improved. New best score: 371.417\n"
     ]
    },
    {
     "name": "stdout",
     "output_type": "stream",
     "text": [
      "Epoch 2 [35/35] {'loss': '1.32'}\r"
     ]
    },
    {
     "name": "stderr",
     "output_type": "stream",
     "text": [
      "Metric loss/val improved by 370.291 >= min_delta = 0.0001. New best score: 1.126\n"
     ]
    },
    {
     "name": "stdout",
     "output_type": "stream",
     "text": [
      "Epoch 8 [35/35] {'loss': '1.16'}\r"
     ]
    },
    {
     "name": "stderr",
     "output_type": "stream",
     "text": [
      "Metric loss/val improved by 0.013 >= min_delta = 0.0001. New best score: 1.113\n"
     ]
    },
    {
     "name": "stdout",
     "output_type": "stream",
     "text": [
      "Epoch 9 [35/35] {'loss': '1.1'}}\r"
     ]
    },
    {
     "name": "stderr",
     "output_type": "stream",
     "text": [
      "Metric loss/val improved by 0.051 >= min_delta = 0.0001. New best score: 1.062\n"
     ]
    },
    {
     "name": "stdout",
     "output_type": "stream",
     "text": [
      "Epoch 19 [35/35] {'loss': '1.11'}\r"
     ]
    },
    {
     "name": "stderr",
     "output_type": "stream",
     "text": [
      "Monitored metric loss/val did not improve in the last 10 records. Best score: 1.062. Signaling Trainer to stop.\n",
      "GPU available: True, used: True\n",
      "TPU available: False, using: 0 TPU cores\n",
      "LOCAL_RANK: 0 - CUDA_VISIBLE_DEVICES: [0]\n",
      "\n",
      "  | Name               | Type             | Params\n",
      "--------------------------------------------------------\n",
      "0 | model              | ResNet           | 46.2 M\n",
      "1 | criteria           | CrossEntropyLoss | 0     \n",
      "2 | train_metrics      | MetricCollection | 0     \n",
      "3 | valid_metrics      | MetricCollection | 0     \n",
      "4 | valid_dummy_metric | AUROC            | 0     \n",
      "--------------------------------------------------------\n",
      "46.2 M    Trainable params\n",
      "0         Non-trainable params\n",
      "46.2 M    Total params\n",
      "184.645   Total estimated model params size (MB)\n"
     ]
    },
    {
     "name": "stdout",
     "output_type": "stream",
     "text": [
      "Architecture [ResNet] was created\n",
      "***Defined hyperparameters:***\n",
      "\"arch\":                {'name': 'resnet50', 'args': {'num_channels': 1, 'num_classes': 3}}\n",
      "\"checkpoint_path\":     None\n",
      "\"class_weights\":       tensor([1.2466, 0.6500, 1.5167], device='cuda:0')\n",
      "\"hp_metrics\":          ['loss/train', 'loss/val', 'Accuracy/val', 'AUROC/val', 'Precision/val', 'Recall/val', 'Specificity/val']\n",
      "\"loss\":                {'type': 'CrossEntropyLoss', 'args': {'weight': True}}\n",
      "\"optimizer\":           {'type': 'Adam', 'args': {'lr': 0.02, 'weight_decay': 0, 'amsgrad': False}}\n",
      "\"roi_hparams\":         {'enable': False, 'output_shape': [3, 3, 3], 'boundary_boxes': []}\n",
      "\"weight_distribution\": None\n",
      "Enabled callbacks:  ['LitProgressBar', 'EarlyStopping']\n",
      "Dataloader fold: 3\n",
      "Epoch 1 [35/35] {'loss': '4.4'}}\r"
     ]
    },
    {
     "name": "stderr",
     "output_type": "stream",
     "text": [
      "Metric loss/val improved. New best score: 323773.562\n"
     ]
    },
    {
     "name": "stdout",
     "output_type": "stream",
     "text": [
      "Epoch 2 [35/35] {'loss': '1.59'}\r"
     ]
    },
    {
     "name": "stderr",
     "output_type": "stream",
     "text": [
      "Metric loss/val improved by 323740.125 >= min_delta = 0.0001. New best score: 33.442\n"
     ]
    },
    {
     "name": "stdout",
     "output_type": "stream",
     "text": [
      "Epoch 3 [35/35] {'loss': '1.28'}\r"
     ]
    },
    {
     "name": "stderr",
     "output_type": "stream",
     "text": [
      "Metric loss/val improved by 30.408 >= min_delta = 0.0001. New best score: 3.034\n"
     ]
    },
    {
     "name": "stdout",
     "output_type": "stream",
     "text": [
      "Epoch 4 [35/35] {'loss': '1.23'}\r"
     ]
    },
    {
     "name": "stderr",
     "output_type": "stream",
     "text": [
      "Metric loss/val improved by 1.266 >= min_delta = 0.0001. New best score: 1.769\n"
     ]
    },
    {
     "name": "stdout",
     "output_type": "stream",
     "text": [
      "Epoch 5 [35/35] {'loss': '1.2'}}\r"
     ]
    },
    {
     "name": "stderr",
     "output_type": "stream",
     "text": [
      "Metric loss/val improved by 0.606 >= min_delta = 0.0001. New best score: 1.163\n"
     ]
    },
    {
     "name": "stdout",
     "output_type": "stream",
     "text": [
      "Epoch 9 [35/35] {'loss': '1.11'}\r"
     ]
    },
    {
     "name": "stderr",
     "output_type": "stream",
     "text": [
      "Metric loss/val improved by 0.048 >= min_delta = 0.0001. New best score: 1.115\n"
     ]
    },
    {
     "name": "stdout",
     "output_type": "stream",
     "text": [
      "Epoch 10 [35/35] {'loss': '1.12'}\r"
     ]
    },
    {
     "name": "stderr",
     "output_type": "stream",
     "text": [
      "Metric loss/val improved by 0.012 >= min_delta = 0.0001. New best score: 1.102\n"
     ]
    },
    {
     "name": "stdout",
     "output_type": "stream",
     "text": [
      "Epoch 20 [35/35] {'loss': '1.04'}\r"
     ]
    },
    {
     "name": "stderr",
     "output_type": "stream",
     "text": [
      "Monitored metric loss/val did not improve in the last 10 records. Best score: 1.102. Signaling Trainer to stop.\n",
      "GPU available: True, used: True\n",
      "TPU available: False, using: 0 TPU cores\n",
      "LOCAL_RANK: 0 - CUDA_VISIBLE_DEVICES: [0]\n",
      "\n",
      "  | Name               | Type             | Params\n",
      "--------------------------------------------------------\n",
      "0 | model              | ResNet           | 46.2 M\n",
      "1 | criteria           | CrossEntropyLoss | 0     \n",
      "2 | train_metrics      | MetricCollection | 0     \n",
      "3 | valid_metrics      | MetricCollection | 0     \n",
      "4 | valid_dummy_metric | AUROC            | 0     \n",
      "--------------------------------------------------------\n",
      "46.2 M    Trainable params\n",
      "0         Non-trainable params\n",
      "46.2 M    Total params\n",
      "184.645   Total estimated model params size (MB)\n"
     ]
    },
    {
     "name": "stdout",
     "output_type": "stream",
     "text": [
      "Architecture [ResNet] was created\n",
      "***Defined hyperparameters:***\n",
      "\"arch\":                {'name': 'resnet50', 'args': {'num_channels': 1, 'num_classes': 3}}\n",
      "\"checkpoint_path\":     None\n",
      "\"class_weights\":       tensor([1.2466, 0.6500, 1.5167], device='cuda:0')\n",
      "\"hp_metrics\":          ['loss/train', 'loss/val', 'Accuracy/val', 'AUROC/val', 'Precision/val', 'Recall/val', 'Specificity/val']\n",
      "\"loss\":                {'type': 'CrossEntropyLoss', 'args': {'weight': True}}\n",
      "\"optimizer\":           {'type': 'Adam', 'args': {'lr': 0.02, 'weight_decay': 0, 'amsgrad': False}}\n",
      "\"roi_hparams\":         {'enable': False, 'output_shape': [3, 3, 3], 'boundary_boxes': []}\n",
      "\"weight_distribution\": None\n",
      "Enabled callbacks:  ['LitProgressBar', 'EarlyStopping']\n",
      "Dataloader fold: 4\n",
      "Epoch 1 [35/35] {'loss': '1.41'}\r"
     ]
    },
    {
     "name": "stderr",
     "output_type": "stream",
     "text": [
      "Metric loss/val improved. New best score: 43250.391\n"
     ]
    },
    {
     "name": "stdout",
     "output_type": "stream",
     "text": [
      "Epoch 2 [35/35] {'loss': '1.28'}\r"
     ]
    },
    {
     "name": "stderr",
     "output_type": "stream",
     "text": [
      "Metric loss/val improved by 43248.043 >= min_delta = 0.0001. New best score: 2.348\n"
     ]
    },
    {
     "name": "stdout",
     "output_type": "stream",
     "text": [
      "Epoch 3 [35/35] {'loss': '1.28'}\r"
     ]
    },
    {
     "name": "stderr",
     "output_type": "stream",
     "text": [
      "Metric loss/val improved by 1.283 >= min_delta = 0.0001. New best score: 1.065\n"
     ]
    },
    {
     "name": "stdout",
     "output_type": "stream",
     "text": [
      "Epoch 12 [35/35] {'loss': '1.12'}\r"
     ]
    },
    {
     "name": "stderr",
     "output_type": "stream",
     "text": [
      "Metric loss/val improved by 0.007 >= min_delta = 0.0001. New best score: 1.058\n"
     ]
    },
    {
     "name": "stdout",
     "output_type": "stream",
     "text": [
      "Epoch 22 [35/35] {'loss': '1.11'}\r"
     ]
    },
    {
     "name": "stderr",
     "output_type": "stream",
     "text": [
      "Monitored metric loss/val did not improve in the last 10 records. Best score: 1.058. Signaling Trainer to stop.\n",
      "GPU available: True, used: True\n",
      "TPU available: False, using: 0 TPU cores\n",
      "LOCAL_RANK: 0 - CUDA_VISIBLE_DEVICES: [0]\n",
      "\n",
      "  | Name               | Type             | Params\n",
      "--------------------------------------------------------\n",
      "0 | model              | ResNet           | 46.2 M\n",
      "1 | criteria           | CrossEntropyLoss | 0     \n",
      "2 | train_metrics      | MetricCollection | 0     \n",
      "3 | valid_metrics      | MetricCollection | 0     \n",
      "4 | valid_dummy_metric | AUROC            | 0     \n",
      "--------------------------------------------------------\n",
      "46.2 M    Trainable params\n",
      "0         Non-trainable params\n",
      "46.2 M    Total params\n",
      "184.645   Total estimated model params size (MB)\n"
     ]
    },
    {
     "name": "stdout",
     "output_type": "stream",
     "text": [
      "Architecture [ResNet] was created\n",
      "***Defined hyperparameters:***\n",
      "\"arch\":                {'name': 'resnet50', 'args': {'num_channels': 1, 'num_classes': 3}}\n",
      "\"checkpoint_path\":     None\n",
      "\"class_weights\":       tensor([1.2466, 0.6500, 1.5167], device='cuda:0')\n",
      "\"hp_metrics\":          ['loss/train', 'loss/val', 'Accuracy/val', 'AUROC/val', 'Precision/val', 'Recall/val', 'Specificity/val']\n",
      "\"loss\":                {'type': 'CrossEntropyLoss', 'args': {'weight': True}}\n",
      "\"optimizer\":           {'type': 'Adam', 'args': {'lr': 0.02, 'weight_decay': 0, 'amsgrad': False}}\n",
      "\"roi_hparams\":         {'enable': False, 'output_shape': [3, 3, 3], 'boundary_boxes': []}\n",
      "\"weight_distribution\": None\n",
      "Enabled callbacks:  ['LitProgressBar', 'EarlyStopping']\n",
      "Dataloader fold: 5\n",
      "Epoch 1 [35/35] {'loss': '3.46'}\r"
     ]
    },
    {
     "name": "stderr",
     "output_type": "stream",
     "text": [
      "Metric loss/val improved. New best score: 3667.525\n"
     ]
    },
    {
     "name": "stdout",
     "output_type": "stream",
     "text": [
      "Epoch 2 [35/35] {'loss': '1.33'}\r"
     ]
    },
    {
     "name": "stderr",
     "output_type": "stream",
     "text": [
      "Metric loss/val improved by 3663.630 >= min_delta = 0.0001. New best score: 3.895\n"
     ]
    },
    {
     "name": "stdout",
     "output_type": "stream",
     "text": [
      "Epoch 3 [35/35] {'loss': '1.26'}\r"
     ]
    },
    {
     "name": "stderr",
     "output_type": "stream",
     "text": [
      "Metric loss/val improved by 2.277 >= min_delta = 0.0001. New best score: 1.618\n"
     ]
    },
    {
     "name": "stdout",
     "output_type": "stream",
     "text": [
      "Epoch 4 [35/35] {'loss': '1.17'}\r"
     ]
    },
    {
     "name": "stderr",
     "output_type": "stream",
     "text": [
      "Metric loss/val improved by 0.526 >= min_delta = 0.0001. New best score: 1.092\n"
     ]
    },
    {
     "name": "stdout",
     "output_type": "stream",
     "text": [
      "Epoch 6 [35/35] {'loss': '1.14'}\r"
     ]
    },
    {
     "name": "stderr",
     "output_type": "stream",
     "text": [
      "Metric loss/val improved by 0.045 >= min_delta = 0.0001. New best score: 1.046\n"
     ]
    },
    {
     "name": "stdout",
     "output_type": "stream",
     "text": [
      "Epoch 16 [35/35] {'loss': '1.11'}\r"
     ]
    },
    {
     "name": "stderr",
     "output_type": "stream",
     "text": [
      "Monitored metric loss/val did not improve in the last 10 records. Best score: 1.046. Signaling Trainer to stop.\n",
      "GPU available: True, used: True\n",
      "TPU available: False, using: 0 TPU cores\n",
      "LOCAL_RANK: 0 - CUDA_VISIBLE_DEVICES: [0]\n",
      "\n",
      "  | Name               | Type             | Params\n",
      "--------------------------------------------------------\n",
      "0 | model              | ResNet           | 46.2 M\n",
      "1 | criteria           | CrossEntropyLoss | 0     \n",
      "2 | train_metrics      | MetricCollection | 0     \n",
      "3 | valid_metrics      | MetricCollection | 0     \n",
      "4 | valid_dummy_metric | AUROC            | 0     \n",
      "--------------------------------------------------------\n",
      "46.2 M    Trainable params\n",
      "0         Non-trainable params\n",
      "46.2 M    Total params\n",
      "184.645   Total estimated model params size (MB)\n"
     ]
    },
    {
     "name": "stdout",
     "output_type": "stream",
     "text": [
      "Architecture [ResNet] was created\n",
      "***Defined hyperparameters:***\n",
      "\"arch\":                {'name': 'resnet50', 'args': {'num_channels': 1, 'num_classes': 3}}\n",
      "\"checkpoint_path\":     None\n",
      "\"class_weights\":       tensor([1.2466, 0.6500, 1.5167], device='cuda:0')\n",
      "\"hp_metrics\":          ['loss/train', 'loss/val', 'Accuracy/val', 'AUROC/val', 'Precision/val', 'Recall/val', 'Specificity/val']\n",
      "\"loss\":                {'type': 'CrossEntropyLoss', 'args': {'weight': True}}\n",
      "\"optimizer\":           {'type': 'Adam', 'args': {'lr': 0.02, 'weight_decay': 0, 'amsgrad': False}}\n",
      "\"roi_hparams\":         {'enable': False, 'output_shape': [3, 3, 3], 'boundary_boxes': []}\n",
      "\"weight_distribution\": None\n",
      "Enabled callbacks:  ['LitProgressBar', 'EarlyStopping']\n",
      "Dataloader fold: 6\n",
      "Epoch 1 [35/35] {'loss': '5.49'}\r"
     ]
    },
    {
     "name": "stderr",
     "output_type": "stream",
     "text": [
      "Metric loss/val improved. New best score: 11785.671\n"
     ]
    },
    {
     "name": "stdout",
     "output_type": "stream",
     "text": [
      "Epoch 2 [35/35] {'loss': '1.37'}\r"
     ]
    },
    {
     "name": "stderr",
     "output_type": "stream",
     "text": [
      "Metric loss/val improved by 11783.934 >= min_delta = 0.0001. New best score: 1.737\n"
     ]
    },
    {
     "name": "stdout",
     "output_type": "stream",
     "text": [
      "Epoch 3 [35/35] {'loss': '1.19'}\r"
     ]
    },
    {
     "name": "stderr",
     "output_type": "stream",
     "text": [
      "Metric loss/val improved by 0.703 >= min_delta = 0.0001. New best score: 1.034\n"
     ]
    },
    {
     "name": "stdout",
     "output_type": "stream",
     "text": [
      "Epoch 13 [35/35] {'loss': '1.11'}\r"
     ]
    },
    {
     "name": "stderr",
     "output_type": "stream",
     "text": [
      "Monitored metric loss/val did not improve in the last 10 records. Best score: 1.034. Signaling Trainer to stop.\n",
      "GPU available: True, used: True\n",
      "TPU available: False, using: 0 TPU cores\n",
      "LOCAL_RANK: 0 - CUDA_VISIBLE_DEVICES: [0]\n",
      "\n",
      "  | Name               | Type             | Params\n",
      "--------------------------------------------------------\n",
      "0 | model              | ResNet           | 46.2 M\n",
      "1 | criteria           | CrossEntropyLoss | 0     \n",
      "2 | train_metrics      | MetricCollection | 0     \n",
      "3 | valid_metrics      | MetricCollection | 0     \n",
      "4 | valid_dummy_metric | AUROC            | 0     \n",
      "--------------------------------------------------------\n",
      "46.2 M    Trainable params\n",
      "0         Non-trainable params\n",
      "46.2 M    Total params\n",
      "184.645   Total estimated model params size (MB)\n"
     ]
    },
    {
     "name": "stdout",
     "output_type": "stream",
     "text": [
      "Architecture [ResNet] was created\n",
      "***Defined hyperparameters:***\n",
      "\"arch\":                {'name': 'resnet50', 'args': {'num_channels': 1, 'num_classes': 3}}\n",
      "\"checkpoint_path\":     None\n",
      "\"class_weights\":       tensor([1.2466, 0.6500, 1.5167], device='cuda:0')\n",
      "\"hp_metrics\":          ['loss/train', 'loss/val', 'Accuracy/val', 'AUROC/val', 'Precision/val', 'Recall/val', 'Specificity/val']\n",
      "\"loss\":                {'type': 'CrossEntropyLoss', 'args': {'weight': True}}\n",
      "\"optimizer\":           {'type': 'Adam', 'args': {'lr': 0.02, 'weight_decay': 0, 'amsgrad': False}}\n",
      "\"roi_hparams\":         {'enable': False, 'output_shape': [3, 3, 3], 'boundary_boxes': []}\n",
      "\"weight_distribution\": None\n",
      "Enabled callbacks:  ['LitProgressBar', 'EarlyStopping']\n",
      "Dataloader fold: 7\n",
      "Epoch 1 [35/35] {'loss': '5.92'}\r"
     ]
    },
    {
     "name": "stderr",
     "output_type": "stream",
     "text": [
      "Metric loss/val improved. New best score: 16460.703\n"
     ]
    },
    {
     "name": "stdout",
     "output_type": "stream",
     "text": [
      "Epoch 2 [35/35] {'loss': '1.4'}}\r"
     ]
    },
    {
     "name": "stderr",
     "output_type": "stream",
     "text": [
      "Metric loss/val improved by 16458.838 >= min_delta = 0.0001. New best score: 1.866\n"
     ]
    },
    {
     "name": "stdout",
     "output_type": "stream",
     "text": [
      "Epoch 3 [35/35] {'loss': '1.25'}\r"
     ]
    },
    {
     "name": "stderr",
     "output_type": "stream",
     "text": [
      "Metric loss/val improved by 0.764 >= min_delta = 0.0001. New best score: 1.102\n"
     ]
    },
    {
     "name": "stdout",
     "output_type": "stream",
     "text": [
      "Epoch 4 [35/35] {'loss': '1.14'}\r"
     ]
    },
    {
     "name": "stderr",
     "output_type": "stream",
     "text": [
      "Metric loss/val improved by 0.016 >= min_delta = 0.0001. New best score: 1.086\n"
     ]
    },
    {
     "name": "stdout",
     "output_type": "stream",
     "text": [
      "Epoch 5 [35/35] {'loss': '1.13'}\r"
     ]
    },
    {
     "name": "stderr",
     "output_type": "stream",
     "text": [
      "Metric loss/val improved by 0.004 >= min_delta = 0.0001. New best score: 1.082\n"
     ]
    },
    {
     "name": "stdout",
     "output_type": "stream",
     "text": [
      "Epoch 6 [35/35] {'loss': '1.11'}\r"
     ]
    },
    {
     "name": "stderr",
     "output_type": "stream",
     "text": [
      "Metric loss/val improved by 0.000 >= min_delta = 0.0001. New best score: 1.082\n"
     ]
    },
    {
     "name": "stdout",
     "output_type": "stream",
     "text": [
      "Epoch 12 [35/35] {'loss': '1.14'}\r"
     ]
    },
    {
     "name": "stderr",
     "output_type": "stream",
     "text": [
      "Metric loss/val improved by 0.001 >= min_delta = 0.0001. New best score: 1.081\n"
     ]
    },
    {
     "name": "stdout",
     "output_type": "stream",
     "text": [
      "Epoch 17 [35/35] {'loss': '1.1'}}\r"
     ]
    },
    {
     "name": "stderr",
     "output_type": "stream",
     "text": [
      "Metric loss/val improved by 0.010 >= min_delta = 0.0001. New best score: 1.071\n"
     ]
    },
    {
     "name": "stdout",
     "output_type": "stream",
     "text": [
      "Epoch 20 [35/35] {'loss': '1.09'}\r"
     ]
    },
    {
     "name": "stderr",
     "output_type": "stream",
     "text": [
      "Metric loss/val improved by 0.015 >= min_delta = 0.0001. New best score: 1.056\n"
     ]
    },
    {
     "name": "stdout",
     "output_type": "stream",
     "text": [
      "Epoch 30 [35/35] {'loss': '1.1'}}\r"
     ]
    },
    {
     "name": "stderr",
     "output_type": "stream",
     "text": [
      "Monitored metric loss/val did not improve in the last 10 records. Best score: 1.056. Signaling Trainer to stop.\n",
      "GPU available: True, used: True\n",
      "TPU available: False, using: 0 TPU cores\n",
      "LOCAL_RANK: 0 - CUDA_VISIBLE_DEVICES: [0]\n",
      "\n",
      "  | Name               | Type             | Params\n",
      "--------------------------------------------------------\n",
      "0 | model              | ResNet           | 46.2 M\n",
      "1 | criteria           | CrossEntropyLoss | 0     \n",
      "2 | train_metrics      | MetricCollection | 0     \n",
      "3 | valid_metrics      | MetricCollection | 0     \n",
      "4 | valid_dummy_metric | AUROC            | 0     \n",
      "--------------------------------------------------------\n",
      "46.2 M    Trainable params\n",
      "0         Non-trainable params\n",
      "46.2 M    Total params\n",
      "184.645   Total estimated model params size (MB)\n"
     ]
    },
    {
     "name": "stdout",
     "output_type": "stream",
     "text": [
      "Architecture [ResNet] was created\n",
      "***Defined hyperparameters:***\n",
      "\"arch\":                {'name': 'resnet50', 'args': {'num_channels': 1, 'num_classes': 3}}\n",
      "\"checkpoint_path\":     None\n",
      "\"class_weights\":       tensor([1.2466, 0.6500, 1.5167], device='cuda:0')\n",
      "\"hp_metrics\":          ['loss/train', 'loss/val', 'Accuracy/val', 'AUROC/val', 'Precision/val', 'Recall/val', 'Specificity/val']\n",
      "\"loss\":                {'type': 'CrossEntropyLoss', 'args': {'weight': True}}\n",
      "\"optimizer\":           {'type': 'Adam', 'args': {'lr': 0.02, 'weight_decay': 0, 'amsgrad': False}}\n",
      "\"roi_hparams\":         {'enable': False, 'output_shape': [3, 3, 3], 'boundary_boxes': []}\n",
      "\"weight_distribution\": None\n",
      "Enabled callbacks:  ['LitProgressBar', 'EarlyStopping']\n",
      "Dataloader fold: 8\n",
      "Epoch 1 [35/35] {'loss': '1.38'}\r"
     ]
    },
    {
     "name": "stderr",
     "output_type": "stream",
     "text": [
      "Metric loss/val improved. New best score: 709.624\n"
     ]
    },
    {
     "name": "stdout",
     "output_type": "stream",
     "text": [
      "Epoch 2 [35/35] {'loss': '1.15'}\r"
     ]
    },
    {
     "name": "stderr",
     "output_type": "stream",
     "text": [
      "Metric loss/val improved by 702.453 >= min_delta = 0.0001. New best score: 7.171\n"
     ]
    },
    {
     "name": "stdout",
     "output_type": "stream",
     "text": [
      "Epoch 3 [35/35] {'loss': '1.23'}\r"
     ]
    },
    {
     "name": "stderr",
     "output_type": "stream",
     "text": [
      "Metric loss/val improved by 5.801 >= min_delta = 0.0001. New best score: 1.370\n"
     ]
    },
    {
     "name": "stdout",
     "output_type": "stream",
     "text": [
      "Epoch 4 [35/35] {'loss': '1.08'}\r"
     ]
    },
    {
     "name": "stderr",
     "output_type": "stream",
     "text": [
      "Metric loss/val improved by 0.330 >= min_delta = 0.0001. New best score: 1.040\n"
     ]
    },
    {
     "name": "stdout",
     "output_type": "stream",
     "text": [
      "Epoch 7 [35/35] {'loss': '1.14'}\r"
     ]
    },
    {
     "name": "stderr",
     "output_type": "stream",
     "text": [
      "Metric loss/val improved by 0.004 >= min_delta = 0.0001. New best score: 1.036\n"
     ]
    },
    {
     "name": "stdout",
     "output_type": "stream",
     "text": [
      "Epoch 8 [35/35] {'loss': '1.12'}\r"
     ]
    },
    {
     "name": "stderr",
     "output_type": "stream",
     "text": [
      "Metric loss/val improved by 0.004 >= min_delta = 0.0001. New best score: 1.032\n"
     ]
    },
    {
     "name": "stdout",
     "output_type": "stream",
     "text": [
      "Epoch 9 [35/35] {'loss': '1.11'}\r"
     ]
    },
    {
     "name": "stderr",
     "output_type": "stream",
     "text": [
      "Metric loss/val improved by 0.019 >= min_delta = 0.0001. New best score: 1.012\n"
     ]
    },
    {
     "name": "stdout",
     "output_type": "stream",
     "text": [
      "Epoch 19 [35/35] {'loss': '1.08'}\r"
     ]
    },
    {
     "name": "stderr",
     "output_type": "stream",
     "text": [
      "Monitored metric loss/val did not improve in the last 10 records. Best score: 1.012. Signaling Trainer to stop.\n",
      "GPU available: True, used: True\n",
      "TPU available: False, using: 0 TPU cores\n",
      "LOCAL_RANK: 0 - CUDA_VISIBLE_DEVICES: [0]\n",
      "\n",
      "  | Name               | Type             | Params\n",
      "--------------------------------------------------------\n",
      "0 | model              | ResNet           | 46.2 M\n",
      "1 | criteria           | CrossEntropyLoss | 0     \n",
      "2 | train_metrics      | MetricCollection | 0     \n",
      "3 | valid_metrics      | MetricCollection | 0     \n",
      "4 | valid_dummy_metric | AUROC            | 0     \n",
      "--------------------------------------------------------\n",
      "46.2 M    Trainable params\n",
      "0         Non-trainable params\n",
      "46.2 M    Total params\n",
      "184.645   Total estimated model params size (MB)\n"
     ]
    },
    {
     "name": "stdout",
     "output_type": "stream",
     "text": [
      "Architecture [ResNet] was created\n",
      "***Defined hyperparameters:***\n",
      "\"arch\":                {'name': 'resnet50', 'args': {'num_channels': 1, 'num_classes': 3}}\n",
      "\"checkpoint_path\":     None\n",
      "\"class_weights\":       tensor([1.2466, 0.6500, 1.5167], device='cuda:0')\n",
      "\"hp_metrics\":          ['loss/train', 'loss/val', 'Accuracy/val', 'AUROC/val', 'Precision/val', 'Recall/val', 'Specificity/val']\n",
      "\"loss\":                {'type': 'CrossEntropyLoss', 'args': {'weight': True}}\n",
      "\"optimizer\":           {'type': 'Adam', 'args': {'lr': 0.02, 'weight_decay': 0, 'amsgrad': False}}\n",
      "\"roi_hparams\":         {'enable': False, 'output_shape': [3, 3, 3], 'boundary_boxes': []}\n",
      "\"weight_distribution\": None\n",
      "Enabled callbacks:  ['LitProgressBar', 'EarlyStopping']\n",
      "Dataloader fold: 9\n",
      "Epoch 1 [35/35] {'loss': '5.23'}\r"
     ]
    },
    {
     "name": "stderr",
     "output_type": "stream",
     "text": [
      "Metric loss/val improved. New best score: 161.896\n"
     ]
    },
    {
     "name": "stdout",
     "output_type": "stream",
     "text": [
      "Epoch 2 [35/35] {'loss': '1.18'}\r"
     ]
    },
    {
     "name": "stderr",
     "output_type": "stream",
     "text": [
      "Metric loss/val improved by 160.737 >= min_delta = 0.0001. New best score: 1.159\n"
     ]
    },
    {
     "name": "stdout",
     "output_type": "stream",
     "text": [
      "Epoch 3 [35/35] {'loss': '1.66'}\r"
     ]
    },
    {
     "name": "stderr",
     "output_type": "stream",
     "text": [
      "Metric loss/val improved by 0.165 >= min_delta = 0.0001. New best score: 0.994\n"
     ]
    },
    {
     "name": "stdout",
     "output_type": "stream",
     "text": [
      "Epoch 13 [35/35] {'loss': '1.09'}\r"
     ]
    },
    {
     "name": "stderr",
     "output_type": "stream",
     "text": [
      "Monitored metric loss/val did not improve in the last 10 records. Best score: 0.994. Signaling Trainer to stop.\n",
      "GPU available: True, used: True\n",
      "TPU available: False, using: 0 TPU cores\n",
      "LOCAL_RANK: 0 - CUDA_VISIBLE_DEVICES: [0]\n",
      "\n",
      "  | Name               | Type             | Params\n",
      "--------------------------------------------------------\n",
      "0 | model              | ResNet           | 46.2 M\n",
      "1 | criteria           | CrossEntropyLoss | 0     \n",
      "2 | train_metrics      | MetricCollection | 0     \n",
      "3 | valid_metrics      | MetricCollection | 0     \n",
      "4 | valid_dummy_metric | AUROC            | 0     \n",
      "--------------------------------------------------------\n",
      "46.2 M    Trainable params\n",
      "0         Non-trainable params\n",
      "46.2 M    Total params\n",
      "184.645   Total estimated model params size (MB)\n"
     ]
    },
    {
     "name": "stdout",
     "output_type": "stream",
     "text": [
      "Architecture [ResNet] was created\n",
      "***Defined hyperparameters:***\n",
      "\"arch\":                {'name': 'resnet50', 'args': {'num_channels': 1, 'num_classes': 3}}\n",
      "\"checkpoint_path\":     None\n",
      "\"class_weights\":       tensor([1.2466, 0.6500, 1.5167], device='cuda:0')\n",
      "\"hp_metrics\":          ['loss/train', 'loss/val', 'Accuracy/val', 'AUROC/val', 'Precision/val', 'Recall/val', 'Specificity/val']\n",
      "\"loss\":                {'type': 'CrossEntropyLoss', 'args': {'weight': True}}\n",
      "\"optimizer\":           {'type': 'Adam', 'args': {'lr': 0.02, 'weight_decay': 0, 'amsgrad': False}}\n",
      "\"roi_hparams\":         {'enable': False, 'output_shape': [3, 3, 3], 'boundary_boxes': []}\n",
      "\"weight_distribution\": None\n",
      "Enabled callbacks:  ['LitProgressBar', 'EarlyStopping']\n",
      "Dataloader fold: 10\n",
      "Epoch 1 [35/35] {'loss': '3.01'}\r"
     ]
    },
    {
     "name": "stderr",
     "output_type": "stream",
     "text": [
      "Metric loss/val improved. New best score: 1581.387\n"
     ]
    },
    {
     "name": "stdout",
     "output_type": "stream",
     "text": [
      "Epoch 2 [35/35] {'loss': '2.2'}}\r"
     ]
    },
    {
     "name": "stderr",
     "output_type": "stream",
     "text": [
      "Metric loss/val improved by 1565.445 >= min_delta = 0.0001. New best score: 15.942\n"
     ]
    },
    {
     "name": "stdout",
     "output_type": "stream",
     "text": [
      "Epoch 3 [35/35] {'loss': '1.45'}\r"
     ]
    },
    {
     "name": "stderr",
     "output_type": "stream",
     "text": [
      "Metric loss/val improved by 12.762 >= min_delta = 0.0001. New best score: 3.180\n"
     ]
    },
    {
     "name": "stdout",
     "output_type": "stream",
     "text": [
      "Epoch 4 [35/35] {'loss': '1.29'}\r"
     ]
    },
    {
     "name": "stderr",
     "output_type": "stream",
     "text": [
      "Metric loss/val improved by 1.257 >= min_delta = 0.0001. New best score: 1.923\n"
     ]
    },
    {
     "name": "stdout",
     "output_type": "stream",
     "text": [
      "Epoch 5 [35/35] {'loss': '1.13'}\r"
     ]
    },
    {
     "name": "stderr",
     "output_type": "stream",
     "text": [
      "Metric loss/val improved by 0.318 >= min_delta = 0.0001. New best score: 1.605\n"
     ]
    },
    {
     "name": "stdout",
     "output_type": "stream",
     "text": [
      "Epoch 6 [35/35] {'loss': '1.25'}\r"
     ]
    },
    {
     "name": "stderr",
     "output_type": "stream",
     "text": [
      "Metric loss/val improved by 0.378 >= min_delta = 0.0001. New best score: 1.227\n"
     ]
    },
    {
     "name": "stdout",
     "output_type": "stream",
     "text": [
      "Epoch 7 [35/35] {'loss': '1.14'}\r"
     ]
    },
    {
     "name": "stderr",
     "output_type": "stream",
     "text": [
      "Metric loss/val improved by 0.050 >= min_delta = 0.0001. New best score: 1.176\n"
     ]
    },
    {
     "name": "stdout",
     "output_type": "stream",
     "text": [
      "Epoch 8 [35/35] {'loss': '1.11'}\r"
     ]
    },
    {
     "name": "stderr",
     "output_type": "stream",
     "text": [
      "Metric loss/val improved by 0.077 >= min_delta = 0.0001. New best score: 1.099\n"
     ]
    },
    {
     "name": "stdout",
     "output_type": "stream",
     "text": [
      "Epoch 9 [35/35] {'loss': '1.1'}}\r"
     ]
    },
    {
     "name": "stderr",
     "output_type": "stream",
     "text": [
      "Metric loss/val improved by 0.020 >= min_delta = 0.0001. New best score: 1.079\n"
     ]
    },
    {
     "name": "stdout",
     "output_type": "stream",
     "text": [
      "Epoch 17 [35/35] {'loss': '1.12'}\r"
     ]
    },
    {
     "name": "stderr",
     "output_type": "stream",
     "text": [
      "Metric loss/val improved by 0.004 >= min_delta = 0.0001. New best score: 1.075\n"
     ]
    },
    {
     "name": "stdout",
     "output_type": "stream",
     "text": [
      "Epoch 20 [35/35] {'loss': '1.11'}\r"
     ]
    },
    {
     "name": "stderr",
     "output_type": "stream",
     "text": [
      "Metric loss/val improved by 0.007 >= min_delta = 0.0001. New best score: 1.068\n"
     ]
    },
    {
     "name": "stdout",
     "output_type": "stream",
     "text": [
      "Epoch 30 [35/35] {'loss': '1.09'}\r"
     ]
    },
    {
     "name": "stderr",
     "output_type": "stream",
     "text": [
      "Monitored metric loss/val did not improve in the last 10 records. Best score: 1.068. Signaling Trainer to stop.\n",
      "/home/stud/f/fremar16/miniconda3/envs/Master-thesis/lib/python3.9/site-packages/torchmetrics/utilities/prints.py:36: UserWarning: Metric `AUROC` will save all targets and predictions in buffer. For large datasets this may lead to large memory footprint.\n",
      "  warnings.warn(*args, **kwargs)\n",
      "GPU available: True, used: True\n",
      "TPU available: False, using: 0 TPU cores\n",
      "Missing logger folder: /var/metrics/codetests/logs/tb/resnet18_brew2/20210520192103\n",
      "LOCAL_RANK: 0 - CUDA_VISIBLE_DEVICES: [0]\n",
      "\n",
      "  | Name               | Type             | Params\n",
      "--------------------------------------------------------\n",
      "0 | model              | ResNet           | 8.3 M \n",
      "1 | criteria           | CrossEntropyLoss | 0     \n",
      "2 | train_metrics      | MetricCollection | 0     \n",
      "3 | valid_metrics      | MetricCollection | 0     \n",
      "4 | valid_dummy_metric | AUROC            | 0     \n",
      "--------------------------------------------------------\n",
      "8.3 M     Trainable params\n",
      "0         Non-trainable params\n",
      "8.3 M     Total params\n",
      "33.154    Total estimated model params size (MB)\n"
     ]
    },
    {
     "name": "stdout",
     "output_type": "stream",
     "text": [
      "***Defined dataloader:***\n",
      "Data directory: data/SPM_categorised/ADNI1/\n",
      "Dataset sizes - Training: 273 Validation: 31\n",
      "Seed: 420\n",
      "Augmentation: Enabled\n",
      "KFold: Enabled - Fold: 1/10\n",
      "\n",
      "Architecture [ResNet] was created\n",
      "***Defined hyperparameters:***\n",
      "\"arch\":                {'name': 'resnet18_brew2', 'args': {'num_channels': 1, 'num_classes': 3}}\n",
      "\"checkpoint_path\":     None\n",
      "\"class_weights\":       tensor([1.2466, 0.6500, 1.5167], device='cuda:0')\n",
      "\"hp_metrics\":          ['loss/train', 'loss/val', 'Accuracy/val', 'AUROC/val', 'Precision/val', 'Recall/val', 'Specificity/val']\n",
      "\"loss\":                {'type': 'CrossEntropyLoss', 'args': {'weight': True}}\n",
      "\"optimizer\":           {'type': 'Adam', 'args': {'lr': 0.02, 'weight_decay': 0, 'amsgrad': False}}\n",
      "\"roi_hparams\":         {'enable': False, 'output_shape': [3, 3, 3], 'boundary_boxes': []}\n",
      "\"weight_distribution\": None\n",
      "Enabled callbacks:  ['LitProgressBar', 'EarlyStopping']\n",
      "Dataloader fold: 1\n",
      "Epoch 1 [35/35] {'loss': '1.2'}}\r"
     ]
    },
    {
     "name": "stderr",
     "output_type": "stream",
     "text": [
      "Metric loss/val improved. New best score: 5.903\n"
     ]
    },
    {
     "name": "stdout",
     "output_type": "stream",
     "text": [
      "Epoch 2 [35/35] {'loss': '1.11'}\r"
     ]
    },
    {
     "name": "stderr",
     "output_type": "stream",
     "text": [
      "Metric loss/val improved by 4.355 >= min_delta = 0.0001. New best score: 1.548\n"
     ]
    },
    {
     "name": "stdout",
     "output_type": "stream",
     "text": [
      "Epoch 5 [35/35] {'loss': '1.12'}\r"
     ]
    },
    {
     "name": "stderr",
     "output_type": "stream",
     "text": [
      "Metric loss/val improved by 0.379 >= min_delta = 0.0001. New best score: 1.169\n"
     ]
    },
    {
     "name": "stdout",
     "output_type": "stream",
     "text": [
      "Epoch 6 [35/35] {'loss': '1.1'}}\r"
     ]
    },
    {
     "name": "stderr",
     "output_type": "stream",
     "text": [
      "Metric loss/val improved by 0.088 >= min_delta = 0.0001. New best score: 1.081\n"
     ]
    },
    {
     "name": "stdout",
     "output_type": "stream",
     "text": [
      "Epoch 8 [35/35] {'loss': '1.12'}\r"
     ]
    },
    {
     "name": "stderr",
     "output_type": "stream",
     "text": [
      "Metric loss/val improved by 0.005 >= min_delta = 0.0001. New best score: 1.077\n"
     ]
    },
    {
     "name": "stdout",
     "output_type": "stream",
     "text": [
      "Epoch 18 [35/35] {'loss': '1.09'}\r"
     ]
    },
    {
     "name": "stderr",
     "output_type": "stream",
     "text": [
      "Monitored metric loss/val did not improve in the last 10 records. Best score: 1.077. Signaling Trainer to stop.\n",
      "GPU available: True, used: True\n",
      "TPU available: False, using: 0 TPU cores\n",
      "LOCAL_RANK: 0 - CUDA_VISIBLE_DEVICES: [0]\n",
      "\n",
      "  | Name               | Type             | Params\n",
      "--------------------------------------------------------\n",
      "0 | model              | ResNet           | 8.3 M \n",
      "1 | criteria           | CrossEntropyLoss | 0     \n",
      "2 | train_metrics      | MetricCollection | 0     \n",
      "3 | valid_metrics      | MetricCollection | 0     \n",
      "4 | valid_dummy_metric | AUROC            | 0     \n",
      "--------------------------------------------------------\n",
      "8.3 M     Trainable params\n",
      "0         Non-trainable params\n",
      "8.3 M     Total params\n",
      "33.154    Total estimated model params size (MB)\n"
     ]
    },
    {
     "name": "stdout",
     "output_type": "stream",
     "text": [
      "Architecture [ResNet] was created\n",
      "***Defined hyperparameters:***\n",
      "\"arch\":                {'name': 'resnet18_brew2', 'args': {'num_channels': 1, 'num_classes': 3}}\n",
      "\"checkpoint_path\":     None\n",
      "\"class_weights\":       tensor([1.2466, 0.6500, 1.5167], device='cuda:0')\n",
      "\"hp_metrics\":          ['loss/train', 'loss/val', 'Accuracy/val', 'AUROC/val', 'Precision/val', 'Recall/val', 'Specificity/val']\n",
      "\"loss\":                {'type': 'CrossEntropyLoss', 'args': {'weight': True}}\n",
      "\"optimizer\":           {'type': 'Adam', 'args': {'lr': 0.02, 'weight_decay': 0, 'amsgrad': False}}\n",
      "\"roi_hparams\":         {'enable': False, 'output_shape': [3, 3, 3], 'boundary_boxes': []}\n",
      "\"weight_distribution\": None\n",
      "Enabled callbacks:  ['LitProgressBar', 'EarlyStopping']\n",
      "Dataloader fold: 2\n",
      "Epoch 1 [35/35] {'loss': '1.21'}\r"
     ]
    },
    {
     "name": "stderr",
     "output_type": "stream",
     "text": [
      "Metric loss/val improved. New best score: 5.923\n"
     ]
    },
    {
     "name": "stdout",
     "output_type": "stream",
     "text": [
      "Epoch 2 [35/35] {'loss': '1.13'}\r"
     ]
    },
    {
     "name": "stderr",
     "output_type": "stream",
     "text": [
      "Metric loss/val improved by 4.904 >= min_delta = 0.0001. New best score: 1.019\n"
     ]
    },
    {
     "name": "stdout",
     "output_type": "stream",
     "text": [
      "Epoch 12 [35/35] {'loss': '1.09'}\r"
     ]
    },
    {
     "name": "stderr",
     "output_type": "stream",
     "text": [
      "Monitored metric loss/val did not improve in the last 10 records. Best score: 1.019. Signaling Trainer to stop.\n",
      "GPU available: True, used: True\n",
      "TPU available: False, using: 0 TPU cores\n",
      "LOCAL_RANK: 0 - CUDA_VISIBLE_DEVICES: [0]\n",
      "\n",
      "  | Name               | Type             | Params\n",
      "--------------------------------------------------------\n",
      "0 | model              | ResNet           | 8.3 M \n",
      "1 | criteria           | CrossEntropyLoss | 0     \n",
      "2 | train_metrics      | MetricCollection | 0     \n",
      "3 | valid_metrics      | MetricCollection | 0     \n",
      "4 | valid_dummy_metric | AUROC            | 0     \n",
      "--------------------------------------------------------\n",
      "8.3 M     Trainable params\n",
      "0         Non-trainable params\n",
      "8.3 M     Total params\n",
      "33.154    Total estimated model params size (MB)\n"
     ]
    },
    {
     "name": "stdout",
     "output_type": "stream",
     "text": [
      "Architecture [ResNet] was created\n",
      "***Defined hyperparameters:***\n",
      "\"arch\":                {'name': 'resnet18_brew2', 'args': {'num_channels': 1, 'num_classes': 3}}\n",
      "\"checkpoint_path\":     None\n",
      "\"class_weights\":       tensor([1.2466, 0.6500, 1.5167], device='cuda:0')\n",
      "\"hp_metrics\":          ['loss/train', 'loss/val', 'Accuracy/val', 'AUROC/val', 'Precision/val', 'Recall/val', 'Specificity/val']\n",
      "\"loss\":                {'type': 'CrossEntropyLoss', 'args': {'weight': True}}\n",
      "\"optimizer\":           {'type': 'Adam', 'args': {'lr': 0.02, 'weight_decay': 0, 'amsgrad': False}}\n",
      "\"roi_hparams\":         {'enable': False, 'output_shape': [3, 3, 3], 'boundary_boxes': []}\n",
      "\"weight_distribution\": None\n",
      "Enabled callbacks:  ['LitProgressBar', 'EarlyStopping']\n",
      "Dataloader fold: 3\n",
      "Epoch 1 [35/35] {'loss': '1.26'}\r"
     ]
    },
    {
     "name": "stderr",
     "output_type": "stream",
     "text": [
      "Metric loss/val improved. New best score: 15.638\n"
     ]
    },
    {
     "name": "stdout",
     "output_type": "stream",
     "text": [
      "Epoch 2 [35/35] {'loss': '1.15'}\r"
     ]
    },
    {
     "name": "stderr",
     "output_type": "stream",
     "text": [
      "Metric loss/val improved by 14.555 >= min_delta = 0.0001. New best score: 1.083\n"
     ]
    },
    {
     "name": "stdout",
     "output_type": "stream",
     "text": [
      "Epoch 3 [35/35] {'loss': '1.12'}\r"
     ]
    },
    {
     "name": "stderr",
     "output_type": "stream",
     "text": [
      "Metric loss/val improved by 0.004 >= min_delta = 0.0001. New best score: 1.079\n"
     ]
    },
    {
     "name": "stdout",
     "output_type": "stream",
     "text": [
      "Epoch 6 [35/35] {'loss': '1.11'}\r"
     ]
    },
    {
     "name": "stderr",
     "output_type": "stream",
     "text": [
      "Metric loss/val improved by 0.007 >= min_delta = 0.0001. New best score: 1.073\n"
     ]
    },
    {
     "name": "stdout",
     "output_type": "stream",
     "text": [
      "Epoch 7 [35/35] {'loss': '1.11'}\r"
     ]
    },
    {
     "name": "stderr",
     "output_type": "stream",
     "text": [
      "Metric loss/val improved by 0.014 >= min_delta = 0.0001. New best score: 1.058\n"
     ]
    },
    {
     "name": "stdout",
     "output_type": "stream",
     "text": [
      "Epoch 17 [35/35] {'loss': '1.09'}\r"
     ]
    },
    {
     "name": "stderr",
     "output_type": "stream",
     "text": [
      "Monitored metric loss/val did not improve in the last 10 records. Best score: 1.058. Signaling Trainer to stop.\n",
      "GPU available: True, used: True\n",
      "TPU available: False, using: 0 TPU cores\n",
      "LOCAL_RANK: 0 - CUDA_VISIBLE_DEVICES: [0]\n",
      "\n",
      "  | Name               | Type             | Params\n",
      "--------------------------------------------------------\n",
      "0 | model              | ResNet           | 8.3 M \n",
      "1 | criteria           | CrossEntropyLoss | 0     \n",
      "2 | train_metrics      | MetricCollection | 0     \n",
      "3 | valid_metrics      | MetricCollection | 0     \n",
      "4 | valid_dummy_metric | AUROC            | 0     \n",
      "--------------------------------------------------------\n",
      "8.3 M     Trainable params\n",
      "0         Non-trainable params\n",
      "8.3 M     Total params\n",
      "33.154    Total estimated model params size (MB)\n"
     ]
    },
    {
     "name": "stdout",
     "output_type": "stream",
     "text": [
      "Architecture [ResNet] was created\n",
      "***Defined hyperparameters:***\n",
      "\"arch\":                {'name': 'resnet18_brew2', 'args': {'num_channels': 1, 'num_classes': 3}}\n",
      "\"checkpoint_path\":     None\n",
      "\"class_weights\":       tensor([1.2466, 0.6500, 1.5167], device='cuda:0')\n",
      "\"hp_metrics\":          ['loss/train', 'loss/val', 'Accuracy/val', 'AUROC/val', 'Precision/val', 'Recall/val', 'Specificity/val']\n",
      "\"loss\":                {'type': 'CrossEntropyLoss', 'args': {'weight': True}}\n",
      "\"optimizer\":           {'type': 'Adam', 'args': {'lr': 0.02, 'weight_decay': 0, 'amsgrad': False}}\n",
      "\"roi_hparams\":         {'enable': False, 'output_shape': [3, 3, 3], 'boundary_boxes': []}\n",
      "\"weight_distribution\": None\n",
      "Enabled callbacks:  ['LitProgressBar', 'EarlyStopping']\n",
      "Dataloader fold: 4\n",
      "Epoch 1 [35/35] {'loss': '1.14'}\r"
     ]
    },
    {
     "name": "stderr",
     "output_type": "stream",
     "text": [
      "Metric loss/val improved. New best score: 2.257\n"
     ]
    },
    {
     "name": "stdout",
     "output_type": "stream",
     "text": [
      "Epoch 2 [35/35] {'loss': '1.12'}\r"
     ]
    },
    {
     "name": "stderr",
     "output_type": "stream",
     "text": [
      "Metric loss/val improved by 1.151 >= min_delta = 0.0001. New best score: 1.106\n"
     ]
    },
    {
     "name": "stdout",
     "output_type": "stream",
     "text": [
      "Epoch 3 [35/35] {'loss': '1.1'}}\r"
     ]
    },
    {
     "name": "stderr",
     "output_type": "stream",
     "text": [
      "Metric loss/val improved by 0.029 >= min_delta = 0.0001. New best score: 1.078\n"
     ]
    },
    {
     "name": "stdout",
     "output_type": "stream",
     "text": [
      "Epoch 10 [35/35] {'loss': '1.11'}\r"
     ]
    },
    {
     "name": "stderr",
     "output_type": "stream",
     "text": [
      "Metric loss/val improved by 0.000 >= min_delta = 0.0001. New best score: 1.077\n"
     ]
    },
    {
     "name": "stdout",
     "output_type": "stream",
     "text": [
      "Epoch 20 [35/35] {'loss': '1.1'}}\r"
     ]
    },
    {
     "name": "stderr",
     "output_type": "stream",
     "text": [
      "Monitored metric loss/val did not improve in the last 10 records. Best score: 1.077. Signaling Trainer to stop.\n",
      "GPU available: True, used: True\n",
      "TPU available: False, using: 0 TPU cores\n",
      "LOCAL_RANK: 0 - CUDA_VISIBLE_DEVICES: [0]\n",
      "\n",
      "  | Name               | Type             | Params\n",
      "--------------------------------------------------------\n",
      "0 | model              | ResNet           | 8.3 M \n",
      "1 | criteria           | CrossEntropyLoss | 0     \n",
      "2 | train_metrics      | MetricCollection | 0     \n",
      "3 | valid_metrics      | MetricCollection | 0     \n",
      "4 | valid_dummy_metric | AUROC            | 0     \n",
      "--------------------------------------------------------\n",
      "8.3 M     Trainable params\n",
      "0         Non-trainable params\n",
      "8.3 M     Total params\n",
      "33.154    Total estimated model params size (MB)\n"
     ]
    },
    {
     "name": "stdout",
     "output_type": "stream",
     "text": [
      "Architecture [ResNet] was created\n",
      "***Defined hyperparameters:***\n",
      "\"arch\":                {'name': 'resnet18_brew2', 'args': {'num_channels': 1, 'num_classes': 3}}\n",
      "\"checkpoint_path\":     None\n",
      "\"class_weights\":       tensor([1.2466, 0.6500, 1.5167], device='cuda:0')\n",
      "\"hp_metrics\":          ['loss/train', 'loss/val', 'Accuracy/val', 'AUROC/val', 'Precision/val', 'Recall/val', 'Specificity/val']\n",
      "\"loss\":                {'type': 'CrossEntropyLoss', 'args': {'weight': True}}\n",
      "\"optimizer\":           {'type': 'Adam', 'args': {'lr': 0.02, 'weight_decay': 0, 'amsgrad': False}}\n",
      "\"roi_hparams\":         {'enable': False, 'output_shape': [3, 3, 3], 'boundary_boxes': []}\n",
      "\"weight_distribution\": None\n",
      "Enabled callbacks:  ['LitProgressBar', 'EarlyStopping']\n",
      "Dataloader fold: 5\n",
      "Epoch 1 [35/35] {'loss': '1.19'}\r"
     ]
    },
    {
     "name": "stderr",
     "output_type": "stream",
     "text": [
      "Metric loss/val improved. New best score: 20.042\n"
     ]
    },
    {
     "name": "stdout",
     "output_type": "stream",
     "text": [
      "Epoch 2 [35/35] {'loss': '1.12'}\r"
     ]
    },
    {
     "name": "stderr",
     "output_type": "stream",
     "text": [
      "Metric loss/val improved by 18.955 >= min_delta = 0.0001. New best score: 1.087\n"
     ]
    },
    {
     "name": "stdout",
     "output_type": "stream",
     "text": [
      "Epoch 4 [35/35] {'loss': '1.11'}\r"
     ]
    },
    {
     "name": "stderr",
     "output_type": "stream",
     "text": [
      "Metric loss/val improved by 0.006 >= min_delta = 0.0001. New best score: 1.081\n"
     ]
    },
    {
     "name": "stdout",
     "output_type": "stream",
     "text": [
      "Epoch 6 [35/35] {'loss': '1.09'}\r"
     ]
    },
    {
     "name": "stderr",
     "output_type": "stream",
     "text": [
      "Metric loss/val improved by 0.021 >= min_delta = 0.0001. New best score: 1.061\n"
     ]
    },
    {
     "name": "stdout",
     "output_type": "stream",
     "text": [
      "Epoch 16 [35/35] {'loss': '1.1'}}\r"
     ]
    },
    {
     "name": "stderr",
     "output_type": "stream",
     "text": [
      "Monitored metric loss/val did not improve in the last 10 records. Best score: 1.061. Signaling Trainer to stop.\n",
      "GPU available: True, used: True\n",
      "TPU available: False, using: 0 TPU cores\n",
      "LOCAL_RANK: 0 - CUDA_VISIBLE_DEVICES: [0]\n",
      "\n",
      "  | Name               | Type             | Params\n",
      "--------------------------------------------------------\n",
      "0 | model              | ResNet           | 8.3 M \n",
      "1 | criteria           | CrossEntropyLoss | 0     \n",
      "2 | train_metrics      | MetricCollection | 0     \n",
      "3 | valid_metrics      | MetricCollection | 0     \n",
      "4 | valid_dummy_metric | AUROC            | 0     \n",
      "--------------------------------------------------------\n",
      "8.3 M     Trainable params\n",
      "0         Non-trainable params\n",
      "8.3 M     Total params\n",
      "33.154    Total estimated model params size (MB)\n"
     ]
    },
    {
     "name": "stdout",
     "output_type": "stream",
     "text": [
      "Architecture [ResNet] was created\n",
      "***Defined hyperparameters:***\n",
      "\"arch\":                {'name': 'resnet18_brew2', 'args': {'num_channels': 1, 'num_classes': 3}}\n",
      "\"checkpoint_path\":     None\n",
      "\"class_weights\":       tensor([1.2466, 0.6500, 1.5167], device='cuda:0')\n",
      "\"hp_metrics\":          ['loss/train', 'loss/val', 'Accuracy/val', 'AUROC/val', 'Precision/val', 'Recall/val', 'Specificity/val']\n",
      "\"loss\":                {'type': 'CrossEntropyLoss', 'args': {'weight': True}}\n",
      "\"optimizer\":           {'type': 'Adam', 'args': {'lr': 0.02, 'weight_decay': 0, 'amsgrad': False}}\n",
      "\"roi_hparams\":         {'enable': False, 'output_shape': [3, 3, 3], 'boundary_boxes': []}\n",
      "\"weight_distribution\": None\n",
      "Enabled callbacks:  ['LitProgressBar', 'EarlyStopping']\n",
      "Dataloader fold: 6\n",
      "Epoch 1 [35/35] {'loss': '1.39'}\r"
     ]
    },
    {
     "name": "stderr",
     "output_type": "stream",
     "text": [
      "Metric loss/val improved. New best score: 2.048\n"
     ]
    },
    {
     "name": "stdout",
     "output_type": "stream",
     "text": [
      "Epoch 2 [35/35] {'loss': '1.13'}\r"
     ]
    },
    {
     "name": "stderr",
     "output_type": "stream",
     "text": [
      "Metric loss/val improved by 0.860 >= min_delta = 0.0001. New best score: 1.188\n"
     ]
    },
    {
     "name": "stdout",
     "output_type": "stream",
     "text": [
      "Epoch 3 [35/35] {'loss': '1.21'}\r"
     ]
    },
    {
     "name": "stderr",
     "output_type": "stream",
     "text": [
      "Metric loss/val improved by 0.063 >= min_delta = 0.0001. New best score: 1.125\n"
     ]
    },
    {
     "name": "stdout",
     "output_type": "stream",
     "text": [
      "Epoch 9 [35/35] {'loss': '1.1'}}\r"
     ]
    },
    {
     "name": "stderr",
     "output_type": "stream",
     "text": [
      "Metric loss/val improved by 0.030 >= min_delta = 0.0001. New best score: 1.096\n"
     ]
    },
    {
     "name": "stdout",
     "output_type": "stream",
     "text": [
      "Epoch 10 [35/35] {'loss': '1.08'}\r"
     ]
    },
    {
     "name": "stderr",
     "output_type": "stream",
     "text": [
      "Metric loss/val improved by 0.047 >= min_delta = 0.0001. New best score: 1.049\n"
     ]
    },
    {
     "name": "stdout",
     "output_type": "stream",
     "text": [
      "Epoch 11 [35/35] {'loss': '1.1'}}\r"
     ]
    },
    {
     "name": "stderr",
     "output_type": "stream",
     "text": [
      "Metric loss/val improved by 0.032 >= min_delta = 0.0001. New best score: 1.017\n"
     ]
    },
    {
     "name": "stdout",
     "output_type": "stream",
     "text": [
      "Epoch 21 [35/35] {'loss': '1.09'}\r"
     ]
    },
    {
     "name": "stderr",
     "output_type": "stream",
     "text": [
      "Monitored metric loss/val did not improve in the last 10 records. Best score: 1.017. Signaling Trainer to stop.\n",
      "GPU available: True, used: True\n",
      "TPU available: False, using: 0 TPU cores\n",
      "LOCAL_RANK: 0 - CUDA_VISIBLE_DEVICES: [0]\n",
      "\n",
      "  | Name               | Type             | Params\n",
      "--------------------------------------------------------\n",
      "0 | model              | ResNet           | 8.3 M \n",
      "1 | criteria           | CrossEntropyLoss | 0     \n",
      "2 | train_metrics      | MetricCollection | 0     \n",
      "3 | valid_metrics      | MetricCollection | 0     \n",
      "4 | valid_dummy_metric | AUROC            | 0     \n",
      "--------------------------------------------------------\n",
      "8.3 M     Trainable params\n",
      "0         Non-trainable params\n",
      "8.3 M     Total params\n",
      "33.154    Total estimated model params size (MB)\n"
     ]
    },
    {
     "name": "stdout",
     "output_type": "stream",
     "text": [
      "Architecture [ResNet] was created\n",
      "***Defined hyperparameters:***\n",
      "\"arch\":                {'name': 'resnet18_brew2', 'args': {'num_channels': 1, 'num_classes': 3}}\n",
      "\"checkpoint_path\":     None\n",
      "\"class_weights\":       tensor([1.2466, 0.6500, 1.5167], device='cuda:0')\n",
      "\"hp_metrics\":          ['loss/train', 'loss/val', 'Accuracy/val', 'AUROC/val', 'Precision/val', 'Recall/val', 'Specificity/val']\n",
      "\"loss\":                {'type': 'CrossEntropyLoss', 'args': {'weight': True}}\n",
      "\"optimizer\":           {'type': 'Adam', 'args': {'lr': 0.02, 'weight_decay': 0, 'amsgrad': False}}\n",
      "\"roi_hparams\":         {'enable': False, 'output_shape': [3, 3, 3], 'boundary_boxes': []}\n",
      "\"weight_distribution\": None\n",
      "Enabled callbacks:  ['LitProgressBar', 'EarlyStopping']\n",
      "Dataloader fold: 7\n",
      "Epoch 1 [35/35] {'loss': '1.41'}\r"
     ]
    },
    {
     "name": "stderr",
     "output_type": "stream",
     "text": [
      "Metric loss/val improved. New best score: 2.575\n"
     ]
    },
    {
     "name": "stdout",
     "output_type": "stream",
     "text": [
      "Epoch 2 [35/35] {'loss': '1.15'}\r"
     ]
    },
    {
     "name": "stderr",
     "output_type": "stream",
     "text": [
      "Metric loss/val improved by 1.342 >= min_delta = 0.0001. New best score: 1.233\n"
     ]
    },
    {
     "name": "stdout",
     "output_type": "stream",
     "text": [
      "Epoch 3 [35/35] {'loss': '1.13'}\r"
     ]
    },
    {
     "name": "stderr",
     "output_type": "stream",
     "text": [
      "Metric loss/val improved by 0.003 >= min_delta = 0.0001. New best score: 1.230\n"
     ]
    },
    {
     "name": "stdout",
     "output_type": "stream",
     "text": [
      "Epoch 4 [35/35] {'loss': '1.11'}\r"
     ]
    },
    {
     "name": "stderr",
     "output_type": "stream",
     "text": [
      "Metric loss/val improved by 0.019 >= min_delta = 0.0001. New best score: 1.211\n"
     ]
    },
    {
     "name": "stdout",
     "output_type": "stream",
     "text": [
      "Epoch 5 [35/35] {'loss': '1.1'}}\r"
     ]
    },
    {
     "name": "stderr",
     "output_type": "stream",
     "text": [
      "Metric loss/val improved by 0.055 >= min_delta = 0.0001. New best score: 1.156\n"
     ]
    },
    {
     "name": "stdout",
     "output_type": "stream",
     "text": [
      "Epoch 7 [35/35] {'loss': '1.1'}}\r"
     ]
    },
    {
     "name": "stderr",
     "output_type": "stream",
     "text": [
      "Metric loss/val improved by 0.008 >= min_delta = 0.0001. New best score: 1.148\n"
     ]
    },
    {
     "name": "stdout",
     "output_type": "stream",
     "text": [
      "Epoch 10 [35/35] {'loss': '1.1'}}\r"
     ]
    },
    {
     "name": "stderr",
     "output_type": "stream",
     "text": [
      "Metric loss/val improved by 0.082 >= min_delta = 0.0001. New best score: 1.066\n"
     ]
    },
    {
     "name": "stdout",
     "output_type": "stream",
     "text": [
      "Epoch 11 [35/35] {'loss': '1.09'}\r"
     ]
    },
    {
     "name": "stderr",
     "output_type": "stream",
     "text": [
      "Metric loss/val improved by 0.006 >= min_delta = 0.0001. New best score: 1.061\n"
     ]
    },
    {
     "name": "stdout",
     "output_type": "stream",
     "text": [
      "Epoch 21 [35/35] {'loss': '1.1'}}\r"
     ]
    },
    {
     "name": "stderr",
     "output_type": "stream",
     "text": [
      "Monitored metric loss/val did not improve in the last 10 records. Best score: 1.061. Signaling Trainer to stop.\n",
      "GPU available: True, used: True\n",
      "TPU available: False, using: 0 TPU cores\n",
      "LOCAL_RANK: 0 - CUDA_VISIBLE_DEVICES: [0]\n",
      "\n",
      "  | Name               | Type             | Params\n",
      "--------------------------------------------------------\n",
      "0 | model              | ResNet           | 8.3 M \n",
      "1 | criteria           | CrossEntropyLoss | 0     \n",
      "2 | train_metrics      | MetricCollection | 0     \n",
      "3 | valid_metrics      | MetricCollection | 0     \n",
      "4 | valid_dummy_metric | AUROC            | 0     \n",
      "--------------------------------------------------------\n",
      "8.3 M     Trainable params\n",
      "0         Non-trainable params\n",
      "8.3 M     Total params\n",
      "33.154    Total estimated model params size (MB)\n"
     ]
    },
    {
     "name": "stdout",
     "output_type": "stream",
     "text": [
      "Architecture [ResNet] was created\n",
      "***Defined hyperparameters:***\n",
      "\"arch\":                {'name': 'resnet18_brew2', 'args': {'num_channels': 1, 'num_classes': 3}}\n",
      "\"checkpoint_path\":     None\n",
      "\"class_weights\":       tensor([1.2466, 0.6500, 1.5167], device='cuda:0')\n",
      "\"hp_metrics\":          ['loss/train', 'loss/val', 'Accuracy/val', 'AUROC/val', 'Precision/val', 'Recall/val', 'Specificity/val']\n",
      "\"loss\":                {'type': 'CrossEntropyLoss', 'args': {'weight': True}}\n",
      "\"optimizer\":           {'type': 'Adam', 'args': {'lr': 0.02, 'weight_decay': 0, 'amsgrad': False}}\n",
      "\"roi_hparams\":         {'enable': False, 'output_shape': [3, 3, 3], 'boundary_boxes': []}\n",
      "\"weight_distribution\": None\n",
      "Enabled callbacks:  ['LitProgressBar', 'EarlyStopping']\n",
      "Dataloader fold: 8\n",
      "Epoch 1 [35/35] {'loss': '1.27'}\r"
     ]
    },
    {
     "name": "stderr",
     "output_type": "stream",
     "text": [
      "Metric loss/val improved. New best score: 55.564\n"
     ]
    },
    {
     "name": "stdout",
     "output_type": "stream",
     "text": [
      "Epoch 2 [35/35] {'loss': '1.16'}\r"
     ]
    },
    {
     "name": "stderr",
     "output_type": "stream",
     "text": [
      "Metric loss/val improved by 54.484 >= min_delta = 0.0001. New best score: 1.079\n"
     ]
    },
    {
     "name": "stdout",
     "output_type": "stream",
     "text": [
      "Epoch 3 [35/35] {'loss': '1.12'}\r"
     ]
    },
    {
     "name": "stderr",
     "output_type": "stream",
     "text": [
      "Metric loss/val improved by 0.005 >= min_delta = 0.0001. New best score: 1.074\n"
     ]
    },
    {
     "name": "stdout",
     "output_type": "stream",
     "text": [
      "Epoch 13 [35/35] {'loss': '1.12'}\r"
     ]
    },
    {
     "name": "stderr",
     "output_type": "stream",
     "text": [
      "Monitored metric loss/val did not improve in the last 10 records. Best score: 1.074. Signaling Trainer to stop.\n",
      "GPU available: True, used: True\n",
      "TPU available: False, using: 0 TPU cores\n",
      "LOCAL_RANK: 0 - CUDA_VISIBLE_DEVICES: [0]\n",
      "\n",
      "  | Name               | Type             | Params\n",
      "--------------------------------------------------------\n",
      "0 | model              | ResNet           | 8.3 M \n",
      "1 | criteria           | CrossEntropyLoss | 0     \n",
      "2 | train_metrics      | MetricCollection | 0     \n",
      "3 | valid_metrics      | MetricCollection | 0     \n",
      "4 | valid_dummy_metric | AUROC            | 0     \n",
      "--------------------------------------------------------\n",
      "8.3 M     Trainable params\n",
      "0         Non-trainable params\n",
      "8.3 M     Total params\n",
      "33.154    Total estimated model params size (MB)\n"
     ]
    },
    {
     "name": "stdout",
     "output_type": "stream",
     "text": [
      "Architecture [ResNet] was created\n",
      "***Defined hyperparameters:***\n",
      "\"arch\":                {'name': 'resnet18_brew2', 'args': {'num_channels': 1, 'num_classes': 3}}\n",
      "\"checkpoint_path\":     None\n",
      "\"class_weights\":       tensor([1.2466, 0.6500, 1.5167], device='cuda:0')\n",
      "\"hp_metrics\":          ['loss/train', 'loss/val', 'Accuracy/val', 'AUROC/val', 'Precision/val', 'Recall/val', 'Specificity/val']\n",
      "\"loss\":                {'type': 'CrossEntropyLoss', 'args': {'weight': True}}\n",
      "\"optimizer\":           {'type': 'Adam', 'args': {'lr': 0.02, 'weight_decay': 0, 'amsgrad': False}}\n",
      "\"roi_hparams\":         {'enable': False, 'output_shape': [3, 3, 3], 'boundary_boxes': []}\n",
      "\"weight_distribution\": None\n",
      "Enabled callbacks:  ['LitProgressBar', 'EarlyStopping']\n",
      "Dataloader fold: 9\n",
      "Epoch 1 [35/35] {'loss': '1.56'}\r"
     ]
    },
    {
     "name": "stderr",
     "output_type": "stream",
     "text": [
      "Metric loss/val improved. New best score: 3.180\n"
     ]
    },
    {
     "name": "stdout",
     "output_type": "stream",
     "text": [
      "Epoch 2 [35/35] {'loss': '1.14'}\r"
     ]
    },
    {
     "name": "stderr",
     "output_type": "stream",
     "text": [
      "Metric loss/val improved by 2.043 >= min_delta = 0.0001. New best score: 1.137\n"
     ]
    },
    {
     "name": "stdout",
     "output_type": "stream",
     "text": [
      "Epoch 4 [35/35] {'loss': '1.12'}\r"
     ]
    },
    {
     "name": "stderr",
     "output_type": "stream",
     "text": [
      "Metric loss/val improved by 0.055 >= min_delta = 0.0001. New best score: 1.082\n"
     ]
    },
    {
     "name": "stdout",
     "output_type": "stream",
     "text": [
      "Epoch 7 [35/35] {'loss': '1.08'}\r"
     ]
    },
    {
     "name": "stderr",
     "output_type": "stream",
     "text": [
      "Metric loss/val improved by 0.001 >= min_delta = 0.0001. New best score: 1.082\n"
     ]
    },
    {
     "name": "stdout",
     "output_type": "stream",
     "text": [
      "Epoch 13 [35/35] {'loss': '1.09'}\r"
     ]
    },
    {
     "name": "stderr",
     "output_type": "stream",
     "text": [
      "Metric loss/val improved by 0.004 >= min_delta = 0.0001. New best score: 1.078\n"
     ]
    },
    {
     "name": "stdout",
     "output_type": "stream",
     "text": [
      "Epoch 15 [35/35] {'loss': '1.1'}}\r"
     ]
    },
    {
     "name": "stderr",
     "output_type": "stream",
     "text": [
      "Metric loss/val improved by 0.004 >= min_delta = 0.0001. New best score: 1.074\n"
     ]
    },
    {
     "name": "stdout",
     "output_type": "stream",
     "text": [
      "Epoch 25 [35/35] {'loss': '1.1'}}\r"
     ]
    },
    {
     "name": "stderr",
     "output_type": "stream",
     "text": [
      "Monitored metric loss/val did not improve in the last 10 records. Best score: 1.074. Signaling Trainer to stop.\n",
      "GPU available: True, used: True\n",
      "TPU available: False, using: 0 TPU cores\n",
      "LOCAL_RANK: 0 - CUDA_VISIBLE_DEVICES: [0]\n",
      "\n",
      "  | Name               | Type             | Params\n",
      "--------------------------------------------------------\n",
      "0 | model              | ResNet           | 8.3 M \n",
      "1 | criteria           | CrossEntropyLoss | 0     \n",
      "2 | train_metrics      | MetricCollection | 0     \n",
      "3 | valid_metrics      | MetricCollection | 0     \n",
      "4 | valid_dummy_metric | AUROC            | 0     \n",
      "--------------------------------------------------------\n",
      "8.3 M     Trainable params\n",
      "0         Non-trainable params\n",
      "8.3 M     Total params\n",
      "33.154    Total estimated model params size (MB)\n"
     ]
    },
    {
     "name": "stdout",
     "output_type": "stream",
     "text": [
      "Architecture [ResNet] was created\n",
      "***Defined hyperparameters:***\n",
      "\"arch\":                {'name': 'resnet18_brew2', 'args': {'num_channels': 1, 'num_classes': 3}}\n",
      "\"checkpoint_path\":     None\n",
      "\"class_weights\":       tensor([1.2466, 0.6500, 1.5167], device='cuda:0')\n",
      "\"hp_metrics\":          ['loss/train', 'loss/val', 'Accuracy/val', 'AUROC/val', 'Precision/val', 'Recall/val', 'Specificity/val']\n",
      "\"loss\":                {'type': 'CrossEntropyLoss', 'args': {'weight': True}}\n",
      "\"optimizer\":           {'type': 'Adam', 'args': {'lr': 0.02, 'weight_decay': 0, 'amsgrad': False}}\n",
      "\"roi_hparams\":         {'enable': False, 'output_shape': [3, 3, 3], 'boundary_boxes': []}\n",
      "\"weight_distribution\": None\n",
      "Enabled callbacks:  ['LitProgressBar', 'EarlyStopping']\n",
      "Dataloader fold: 10\n",
      "Epoch 1 [35/35] {'loss': '1.18'}\r"
     ]
    },
    {
     "name": "stderr",
     "output_type": "stream",
     "text": [
      "Metric loss/val improved. New best score: 1.475\n"
     ]
    },
    {
     "name": "stdout",
     "output_type": "stream",
     "text": [
      "Epoch 2 [35/35] {'loss': '1.15'}\r"
     ]
    },
    {
     "name": "stderr",
     "output_type": "stream",
     "text": [
      "Metric loss/val improved by 0.438 >= min_delta = 0.0001. New best score: 1.037\n"
     ]
    },
    {
     "name": "stdout",
     "output_type": "stream",
     "text": [
      "Epoch 3 [35/35] {'loss': '1.08'}\r"
     ]
    },
    {
     "name": "stderr",
     "output_type": "stream",
     "text": [
      "Metric loss/val improved by 0.011 >= min_delta = 0.0001. New best score: 1.026\n"
     ]
    },
    {
     "name": "stdout",
     "output_type": "stream",
     "text": [
      "Epoch 13 [35/35] {'loss': '1.08'}\r"
     ]
    },
    {
     "name": "stderr",
     "output_type": "stream",
     "text": [
      "Monitored metric loss/val did not improve in the last 10 records. Best score: 1.026. Signaling Trainer to stop.\n",
      "/home/stud/f/fremar16/miniconda3/envs/Master-thesis/lib/python3.9/site-packages/torchmetrics/utilities/prints.py:36: UserWarning: Metric `AUROC` will save all targets and predictions in buffer. For large datasets this may lead to large memory footprint.\n",
      "  warnings.warn(*args, **kwargs)\n",
      "GPU available: True, used: True\n",
      "TPU available: False, using: 0 TPU cores\n",
      "Missing logger folder: /var/metrics/codetests/logs/tb/amira_vgg/20210520195925\n",
      "LOCAL_RANK: 0 - CUDA_VISIBLE_DEVICES: [0]\n"
     ]
    },
    {
     "name": "stdout",
     "output_type": "stream",
     "text": [
      "***Defined dataloader:***\n",
      "Data directory: data/SPM_categorised/ADNI1/\n",
      "Dataset sizes - Training: 273 Validation: 31\n",
      "Seed: 420\n",
      "Augmentation: Enabled\n",
      "KFold: Enabled - Fold: 1/10\n",
      "\n",
      "Architecture [amira_vgg] was created\n",
      "***Defined hyperparameters:***\n",
      "\"arch\":                {'name': 'amira_vgg', 'args': {'num_channels': 1, 'num_classes': 3}}\n",
      "\"checkpoint_path\":     None\n",
      "\"class_weights\":       tensor([1.2466, 0.6500, 1.5167], device='cuda:0')\n",
      "\"hp_metrics\":          ['loss/train', 'loss/val', 'Accuracy/val', 'AUROC/val', 'Precision/val', 'Recall/val', 'Specificity/val']\n",
      "\"loss\":                {'type': 'CrossEntropyLoss', 'args': {'weight': True}}\n",
      "\"optimizer\":           {'type': 'Adam', 'args': {'lr': 0.02, 'weight_decay': 0, 'amsgrad': False}}\n",
      "\"roi_hparams\":         {'enable': False, 'output_shape': [3, 3, 3], 'boundary_boxes': []}\n",
      "\"weight_distribution\": None\n",
      "Enabled callbacks:  ['LitProgressBar', 'EarlyStopping']\n",
      "Dataloader fold: 1\n"
     ]
    },
    {
     "name": "stderr",
     "output_type": "stream",
     "text": [
      "\n",
      "  | Name               | Type             | Params\n",
      "--------------------------------------------------------\n",
      "0 | model              | amira_vgg        | 37.0 M\n",
      "1 | criteria           | CrossEntropyLoss | 0     \n",
      "2 | train_metrics      | MetricCollection | 0     \n",
      "3 | valid_metrics      | MetricCollection | 0     \n",
      "4 | valid_dummy_metric | AUROC            | 0     \n",
      "--------------------------------------------------------\n",
      "37.0 M    Trainable params\n",
      "0         Non-trainable params\n",
      "37.0 M    Total params\n",
      "148.174   Total estimated model params size (MB)\n"
     ]
    },
    {
     "name": "stdout",
     "output_type": "stream",
     "text": [
      "Epoch 1 [35/35] {'loss': '214'}'}3'}\r"
     ]
    },
    {
     "name": "stderr",
     "output_type": "stream",
     "text": [
      "Metric loss/val improved. New best score: 119.322\n"
     ]
    },
    {
     "name": "stdout",
     "output_type": "stream",
     "text": [
      "Epoch 2 [35/35] {'loss': '57.1'}\r"
     ]
    },
    {
     "name": "stderr",
     "output_type": "stream",
     "text": [
      "Metric loss/val improved by 109.019 >= min_delta = 0.0001. New best score: 10.303\n"
     ]
    },
    {
     "name": "stdout",
     "output_type": "stream",
     "text": [
      "Epoch 4 [35/35] {'loss': '15.2'}\r"
     ]
    },
    {
     "name": "stderr",
     "output_type": "stream",
     "text": [
      "Metric loss/val improved by 9.182 >= min_delta = 0.0001. New best score: 1.121\n"
     ]
    },
    {
     "name": "stdout",
     "output_type": "stream",
     "text": [
      "Epoch 7 [35/35] {'loss': '7.58'}\r"
     ]
    },
    {
     "name": "stderr",
     "output_type": "stream",
     "text": [
      "Metric loss/val improved by 0.023 >= min_delta = 0.0001. New best score: 1.098\n"
     ]
    },
    {
     "name": "stdout",
     "output_type": "stream",
     "text": [
      "Epoch 8 [35/35] {'loss': '2.03'}\r"
     ]
    },
    {
     "name": "stderr",
     "output_type": "stream",
     "text": [
      "Metric loss/val improved by 0.042 >= min_delta = 0.0001. New best score: 1.056\n"
     ]
    },
    {
     "name": "stdout",
     "output_type": "stream",
     "text": [
      "Epoch 10 [35/35] {'loss': '9.13'}\r"
     ]
    },
    {
     "name": "stderr",
     "output_type": "stream",
     "text": [
      "Metric loss/val improved by 0.006 >= min_delta = 0.0001. New best score: 1.051\n"
     ]
    },
    {
     "name": "stdout",
     "output_type": "stream",
     "text": [
      "Epoch 14 [35/35] {'loss': '2.05'}\r"
     ]
    },
    {
     "name": "stderr",
     "output_type": "stream",
     "text": [
      "Metric loss/val improved by 0.001 >= min_delta = 0.0001. New best score: 1.050\n"
     ]
    },
    {
     "name": "stdout",
     "output_type": "stream",
     "text": [
      "Epoch 18 [35/35] {'loss': '1.11'}\r"
     ]
    },
    {
     "name": "stderr",
     "output_type": "stream",
     "text": [
      "Metric loss/val improved by 0.005 >= min_delta = 0.0001. New best score: 1.045\n"
     ]
    },
    {
     "name": "stdout",
     "output_type": "stream",
     "text": [
      "Epoch 19 [35/35] {'loss': '1.36'}\r"
     ]
    },
    {
     "name": "stderr",
     "output_type": "stream",
     "text": [
      "Metric loss/val improved by 0.008 >= min_delta = 0.0001. New best score: 1.037\n"
     ]
    },
    {
     "name": "stdout",
     "output_type": "stream",
     "text": [
      "Epoch 29 [35/35] {'loss': '1.1'}}\r"
     ]
    },
    {
     "name": "stderr",
     "output_type": "stream",
     "text": [
      "Monitored metric loss/val did not improve in the last 10 records. Best score: 1.037. Signaling Trainer to stop.\n",
      "GPU available: True, used: True\n",
      "TPU available: False, using: 0 TPU cores\n",
      "LOCAL_RANK: 0 - CUDA_VISIBLE_DEVICES: [0]\n",
      "\n",
      "  | Name               | Type             | Params\n",
      "--------------------------------------------------------\n",
      "0 | model              | amira_vgg        | 37.0 M\n",
      "1 | criteria           | CrossEntropyLoss | 0     \n",
      "2 | train_metrics      | MetricCollection | 0     \n",
      "3 | valid_metrics      | MetricCollection | 0     \n",
      "4 | valid_dummy_metric | AUROC            | 0     \n",
      "--------------------------------------------------------\n",
      "37.0 M    Trainable params\n",
      "0         Non-trainable params\n",
      "37.0 M    Total params\n",
      "148.174   Total estimated model params size (MB)\n"
     ]
    },
    {
     "name": "stdout",
     "output_type": "stream",
     "text": [
      "Architecture [amira_vgg] was created\n",
      "***Defined hyperparameters:***\n",
      "\"arch\":                {'name': 'amira_vgg', 'args': {'num_channels': 1, 'num_classes': 3}}\n",
      "\"checkpoint_path\":     None\n",
      "\"class_weights\":       tensor([1.2466, 0.6500, 1.5167], device='cuda:0')\n",
      "\"hp_metrics\":          ['loss/train', 'loss/val', 'Accuracy/val', 'AUROC/val', 'Precision/val', 'Recall/val', 'Specificity/val']\n",
      "\"loss\":                {'type': 'CrossEntropyLoss', 'args': {'weight': True}}\n",
      "\"optimizer\":           {'type': 'Adam', 'args': {'lr': 0.02, 'weight_decay': 0, 'amsgrad': False}}\n",
      "\"roi_hparams\":         {'enable': False, 'output_shape': [3, 3, 3], 'boundary_boxes': []}\n",
      "\"weight_distribution\": None\n",
      "Enabled callbacks:  ['LitProgressBar', 'EarlyStopping']\n",
      "Dataloader fold: 2\n",
      "Epoch 1 [35/35] {'loss': '493'}+03'}\r"
     ]
    },
    {
     "name": "stderr",
     "output_type": "stream",
     "text": [
      "Metric loss/val improved. New best score: 1705.765\n"
     ]
    },
    {
     "name": "stdout",
     "output_type": "stream",
     "text": [
      "Epoch 2 [35/35] {'loss': '337'}\r"
     ]
    },
    {
     "name": "stderr",
     "output_type": "stream",
     "text": [
      "Metric loss/val improved by 1376.822 >= min_delta = 0.0001. New best score: 328.943\n"
     ]
    },
    {
     "name": "stdout",
     "output_type": "stream",
     "text": [
      "Epoch 4 [35/35] {'loss': '238'}\r"
     ]
    },
    {
     "name": "stderr",
     "output_type": "stream",
     "text": [
      "Metric loss/val improved by 233.466 >= min_delta = 0.0001. New best score: 95.477\n"
     ]
    },
    {
     "name": "stdout",
     "output_type": "stream",
     "text": [
      "Epoch 7 [35/35] {'loss': '40.8'}\r"
     ]
    },
    {
     "name": "stderr",
     "output_type": "stream",
     "text": [
      "Metric loss/val improved by 77.332 >= min_delta = 0.0001. New best score: 18.145\n"
     ]
    },
    {
     "name": "stdout",
     "output_type": "stream",
     "text": [
      "Epoch 8 [35/35] {'loss': '9.49'}\r"
     ]
    },
    {
     "name": "stderr",
     "output_type": "stream",
     "text": [
      "Metric loss/val improved by 11.236 >= min_delta = 0.0001. New best score: 6.909\n"
     ]
    },
    {
     "name": "stdout",
     "output_type": "stream",
     "text": [
      "Epoch 9 [35/35] {'loss': '4.14'}\r"
     ]
    },
    {
     "name": "stderr",
     "output_type": "stream",
     "text": [
      "Metric loss/val improved by 0.019 >= min_delta = 0.0001. New best score: 6.890\n"
     ]
    },
    {
     "name": "stdout",
     "output_type": "stream",
     "text": [
      "Epoch 10 [35/35] {'loss': '2.92'}\r"
     ]
    },
    {
     "name": "stderr",
     "output_type": "stream",
     "text": [
      "Metric loss/val improved by 1.536 >= min_delta = 0.0001. New best score: 5.354\n"
     ]
    },
    {
     "name": "stdout",
     "output_type": "stream",
     "text": [
      "Epoch 12 [35/35] {'loss': '1.34'}\r"
     ]
    },
    {
     "name": "stderr",
     "output_type": "stream",
     "text": [
      "Metric loss/val improved by 0.297 >= min_delta = 0.0001. New best score: 5.057\n"
     ]
    },
    {
     "name": "stdout",
     "output_type": "stream",
     "text": [
      "Epoch 22 [35/35] {'loss': '1.56'}\r"
     ]
    },
    {
     "name": "stderr",
     "output_type": "stream",
     "text": [
      "Monitored metric loss/val did not improve in the last 10 records. Best score: 5.057. Signaling Trainer to stop.\n",
      "GPU available: True, used: True\n",
      "TPU available: False, using: 0 TPU cores\n",
      "LOCAL_RANK: 0 - CUDA_VISIBLE_DEVICES: [0]\n",
      "\n",
      "  | Name               | Type             | Params\n",
      "--------------------------------------------------------\n",
      "0 | model              | amira_vgg        | 37.0 M\n",
      "1 | criteria           | CrossEntropyLoss | 0     \n",
      "2 | train_metrics      | MetricCollection | 0     \n",
      "3 | valid_metrics      | MetricCollection | 0     \n",
      "4 | valid_dummy_metric | AUROC            | 0     \n",
      "--------------------------------------------------------\n",
      "37.0 M    Trainable params\n",
      "0         Non-trainable params\n",
      "37.0 M    Total params\n",
      "148.174   Total estimated model params size (MB)\n"
     ]
    },
    {
     "name": "stdout",
     "output_type": "stream",
     "text": [
      "Architecture [amira_vgg] was created\n",
      "***Defined hyperparameters:***\n",
      "\"arch\":                {'name': 'amira_vgg', 'args': {'num_channels': 1, 'num_classes': 3}}\n",
      "\"checkpoint_path\":     None\n",
      "\"class_weights\":       tensor([1.2466, 0.6500, 1.5167], device='cuda:0')\n",
      "\"hp_metrics\":          ['loss/train', 'loss/val', 'Accuracy/val', 'AUROC/val', 'Precision/val', 'Recall/val', 'Specificity/val']\n",
      "\"loss\":                {'type': 'CrossEntropyLoss', 'args': {'weight': True}}\n",
      "\"optimizer\":           {'type': 'Adam', 'args': {'lr': 0.02, 'weight_decay': 0, 'amsgrad': False}}\n",
      "\"roi_hparams\":         {'enable': False, 'output_shape': [3, 3, 3], 'boundary_boxes': []}\n",
      "\"weight_distribution\": None\n",
      "Enabled callbacks:  ['LitProgressBar', 'EarlyStopping']\n",
      "Dataloader fold: 3\n",
      "Epoch 1 [35/35] {'loss': '135'}03'}\r"
     ]
    },
    {
     "name": "stderr",
     "output_type": "stream",
     "text": [
      "Metric loss/val improved. New best score: 179.515\n"
     ]
    },
    {
     "name": "stdout",
     "output_type": "stream",
     "text": [
      "Epoch 3 [35/35] {'loss': '53.9'}\r"
     ]
    },
    {
     "name": "stderr",
     "output_type": "stream",
     "text": [
      "Metric loss/val improved by 178.378 >= min_delta = 0.0001. New best score: 1.137\n"
     ]
    },
    {
     "name": "stdout",
     "output_type": "stream",
     "text": [
      "Epoch 5 [35/35] {'loss': '1.55'}\r"
     ]
    },
    {
     "name": "stderr",
     "output_type": "stream",
     "text": [
      "Metric loss/val improved by 0.015 >= min_delta = 0.0001. New best score: 1.122\n"
     ]
    },
    {
     "name": "stdout",
     "output_type": "stream",
     "text": [
      "Epoch 6 [35/35] {'loss': '1.96'}\r"
     ]
    },
    {
     "name": "stderr",
     "output_type": "stream",
     "text": [
      "Metric loss/val improved by 0.020 >= min_delta = 0.0001. New best score: 1.103\n"
     ]
    },
    {
     "name": "stdout",
     "output_type": "stream",
     "text": [
      "Epoch 7 [35/35] {'loss': '4.05'}\r"
     ]
    },
    {
     "name": "stderr",
     "output_type": "stream",
     "text": [
      "Metric loss/val improved by 0.028 >= min_delta = 0.0001. New best score: 1.075\n"
     ]
    },
    {
     "name": "stdout",
     "output_type": "stream",
     "text": [
      "Epoch 8 [35/35] {'loss': '1.32'}\r"
     ]
    },
    {
     "name": "stderr",
     "output_type": "stream",
     "text": [
      "Metric loss/val improved by 0.020 >= min_delta = 0.0001. New best score: 1.055\n"
     ]
    },
    {
     "name": "stdout",
     "output_type": "stream",
     "text": [
      "Epoch 9 [35/35] {'loss': '1.15'}\r"
     ]
    },
    {
     "name": "stderr",
     "output_type": "stream",
     "text": [
      "Metric loss/val improved by 0.008 >= min_delta = 0.0001. New best score: 1.047\n"
     ]
    },
    {
     "name": "stdout",
     "output_type": "stream",
     "text": [
      "Epoch 10 [35/35] {'loss': '4.18'}\r"
     ]
    },
    {
     "name": "stderr",
     "output_type": "stream",
     "text": [
      "Metric loss/val improved by 0.003 >= min_delta = 0.0001. New best score: 1.044\n"
     ]
    },
    {
     "name": "stdout",
     "output_type": "stream",
     "text": [
      "Epoch 15 [35/35] {'loss': '1.99'}\r"
     ]
    },
    {
     "name": "stderr",
     "output_type": "stream",
     "text": [
      "Metric loss/val improved by 0.001 >= min_delta = 0.0001. New best score: 1.043\n"
     ]
    },
    {
     "name": "stdout",
     "output_type": "stream",
     "text": [
      "Epoch 24 [35/35] {'loss': '1.24'}\r"
     ]
    },
    {
     "name": "stderr",
     "output_type": "stream",
     "text": [
      "Metric loss/val improved by 0.002 >= min_delta = 0.0001. New best score: 1.041\n"
     ]
    },
    {
     "name": "stdout",
     "output_type": "stream",
     "text": [
      "Epoch 26 [35/35] {'loss': '1.91'}\r"
     ]
    },
    {
     "name": "stderr",
     "output_type": "stream",
     "text": [
      "Metric loss/val improved by 0.004 >= min_delta = 0.0001. New best score: 1.038\n"
     ]
    },
    {
     "name": "stdout",
     "output_type": "stream",
     "text": [
      "Epoch 36 [35/35] {'loss': '1.1'}}\r"
     ]
    },
    {
     "name": "stderr",
     "output_type": "stream",
     "text": [
      "Monitored metric loss/val did not improve in the last 10 records. Best score: 1.038. Signaling Trainer to stop.\n",
      "GPU available: True, used: True\n",
      "TPU available: False, using: 0 TPU cores\n",
      "LOCAL_RANK: 0 - CUDA_VISIBLE_DEVICES: [0]\n",
      "\n",
      "  | Name               | Type             | Params\n",
      "--------------------------------------------------------\n",
      "0 | model              | amira_vgg        | 37.0 M\n",
      "1 | criteria           | CrossEntropyLoss | 0     \n",
      "2 | train_metrics      | MetricCollection | 0     \n",
      "3 | valid_metrics      | MetricCollection | 0     \n",
      "4 | valid_dummy_metric | AUROC            | 0     \n",
      "--------------------------------------------------------\n",
      "37.0 M    Trainable params\n",
      "0         Non-trainable params\n",
      "37.0 M    Total params\n",
      "148.174   Total estimated model params size (MB)\n"
     ]
    },
    {
     "name": "stdout",
     "output_type": "stream",
     "text": [
      "Architecture [amira_vgg] was created\n",
      "***Defined hyperparameters:***\n",
      "\"arch\":                {'name': 'amira_vgg', 'args': {'num_channels': 1, 'num_classes': 3}}\n",
      "\"checkpoint_path\":     None\n",
      "\"class_weights\":       tensor([1.2466, 0.6500, 1.5167], device='cuda:0')\n",
      "\"hp_metrics\":          ['loss/train', 'loss/val', 'Accuracy/val', 'AUROC/val', 'Precision/val', 'Recall/val', 'Specificity/val']\n",
      "\"loss\":                {'type': 'CrossEntropyLoss', 'args': {'weight': True}}\n",
      "\"optimizer\":           {'type': 'Adam', 'args': {'lr': 0.02, 'weight_decay': 0, 'amsgrad': False}}\n",
      "\"roi_hparams\":         {'enable': False, 'output_shape': [3, 3, 3], 'boundary_boxes': []}\n",
      "\"weight_distribution\": None\n",
      "Enabled callbacks:  ['LitProgressBar', 'EarlyStopping']\n",
      "Dataloader fold: 4\n",
      "Epoch 1 [35/35] {'loss': '2.7e+03'}}\r"
     ]
    },
    {
     "name": "stderr",
     "output_type": "stream",
     "text": [
      "Metric loss/val improved. New best score: 8975.145\n"
     ]
    },
    {
     "name": "stdout",
     "output_type": "stream",
     "text": [
      "Epoch 2 [35/35] {'loss': '355'}'}3'}\r"
     ]
    },
    {
     "name": "stderr",
     "output_type": "stream",
     "text": [
      "Metric loss/val improved by 1532.937 >= min_delta = 0.0001. New best score: 7442.208\n"
     ]
    },
    {
     "name": "stdout",
     "output_type": "stream",
     "text": [
      "Epoch 3 [35/35] {'loss': '74.7'}\r"
     ]
    },
    {
     "name": "stderr",
     "output_type": "stream",
     "text": [
      "Metric loss/val improved by 7415.262 >= min_delta = 0.0001. New best score: 26.946\n"
     ]
    },
    {
     "name": "stdout",
     "output_type": "stream",
     "text": [
      "Epoch 6 [35/35] {'loss': '8.61'}\r"
     ]
    },
    {
     "name": "stderr",
     "output_type": "stream",
     "text": [
      "Metric loss/val improved by 25.839 >= min_delta = 0.0001. New best score: 1.107\n"
     ]
    },
    {
     "name": "stdout",
     "output_type": "stream",
     "text": [
      "Epoch 7 [35/35] {'loss': '1.32'}\r"
     ]
    },
    {
     "name": "stderr",
     "output_type": "stream",
     "text": [
      "Metric loss/val improved by 0.041 >= min_delta = 0.0001. New best score: 1.066\n"
     ]
    },
    {
     "name": "stdout",
     "output_type": "stream",
     "text": [
      "Epoch 8 [35/35] {'loss': '1.9'}}\r"
     ]
    },
    {
     "name": "stderr",
     "output_type": "stream",
     "text": [
      "Metric loss/val improved by 0.011 >= min_delta = 0.0001. New best score: 1.055\n"
     ]
    },
    {
     "name": "stdout",
     "output_type": "stream",
     "text": [
      "Epoch 9 [35/35] {'loss': '1.61'}\r"
     ]
    },
    {
     "name": "stderr",
     "output_type": "stream",
     "text": [
      "Metric loss/val improved by 0.010 >= min_delta = 0.0001. New best score: 1.045\n"
     ]
    },
    {
     "name": "stdout",
     "output_type": "stream",
     "text": [
      "Epoch 19 [35/35] {'loss': '1.1'}}\r"
     ]
    },
    {
     "name": "stderr",
     "output_type": "stream",
     "text": [
      "Monitored metric loss/val did not improve in the last 10 records. Best score: 1.045. Signaling Trainer to stop.\n",
      "GPU available: True, used: True\n",
      "TPU available: False, using: 0 TPU cores\n",
      "LOCAL_RANK: 0 - CUDA_VISIBLE_DEVICES: [0]\n",
      "\n",
      "  | Name               | Type             | Params\n",
      "--------------------------------------------------------\n",
      "0 | model              | amira_vgg        | 37.0 M\n",
      "1 | criteria           | CrossEntropyLoss | 0     \n",
      "2 | train_metrics      | MetricCollection | 0     \n",
      "3 | valid_metrics      | MetricCollection | 0     \n",
      "4 | valid_dummy_metric | AUROC            | 0     \n",
      "--------------------------------------------------------\n",
      "37.0 M    Trainable params\n",
      "0         Non-trainable params\n",
      "37.0 M    Total params\n",
      "148.174   Total estimated model params size (MB)\n"
     ]
    },
    {
     "name": "stdout",
     "output_type": "stream",
     "text": [
      "Architecture [amira_vgg] was created\n",
      "***Defined hyperparameters:***\n",
      "\"arch\":                {'name': 'amira_vgg', 'args': {'num_channels': 1, 'num_classes': 3}}\n",
      "\"checkpoint_path\":     None\n",
      "\"class_weights\":       tensor([1.2466, 0.6500, 1.5167], device='cuda:0')\n",
      "\"hp_metrics\":          ['loss/train', 'loss/val', 'Accuracy/val', 'AUROC/val', 'Precision/val', 'Recall/val', 'Specificity/val']\n",
      "\"loss\":                {'type': 'CrossEntropyLoss', 'args': {'weight': True}}\n",
      "\"optimizer\":           {'type': 'Adam', 'args': {'lr': 0.02, 'weight_decay': 0, 'amsgrad': False}}\n",
      "\"roi_hparams\":         {'enable': False, 'output_shape': [3, 3, 3], 'boundary_boxes': []}\n",
      "\"weight_distribution\": None\n",
      "Enabled callbacks:  ['LitProgressBar', 'EarlyStopping']\n",
      "Dataloader fold: 5\n",
      "Epoch 1 [35/35] {'loss': '289'}+03'}\r"
     ]
    },
    {
     "name": "stderr",
     "output_type": "stream",
     "text": [
      "Metric loss/val improved. New best score: 522.955\n"
     ]
    },
    {
     "name": "stdout",
     "output_type": "stream",
     "text": [
      "Epoch 3 [35/35] {'loss': '179'}\r"
     ]
    },
    {
     "name": "stderr",
     "output_type": "stream",
     "text": [
      "Metric loss/val improved by 232.563 >= min_delta = 0.0001. New best score: 290.393\n"
     ]
    },
    {
     "name": "stdout",
     "output_type": "stream",
     "text": [
      "Epoch 4 [35/35] {'loss': '90.7'}\r"
     ]
    },
    {
     "name": "stderr",
     "output_type": "stream",
     "text": [
      "Metric loss/val improved by 221.986 >= min_delta = 0.0001. New best score: 68.407\n"
     ]
    },
    {
     "name": "stdout",
     "output_type": "stream",
     "text": [
      "Epoch 5 [35/35] {'loss': '26.1'}\r"
     ]
    },
    {
     "name": "stderr",
     "output_type": "stream",
     "text": [
      "Metric loss/val improved by 36.623 >= min_delta = 0.0001. New best score: 31.784\n"
     ]
    },
    {
     "name": "stdout",
     "output_type": "stream",
     "text": [
      "Epoch 6 [35/35] {'loss': '8.32'}\r"
     ]
    },
    {
     "name": "stderr",
     "output_type": "stream",
     "text": [
      "Metric loss/val improved by 29.175 >= min_delta = 0.0001. New best score: 2.609\n"
     ]
    },
    {
     "name": "stdout",
     "output_type": "stream",
     "text": [
      "Epoch 7 [35/35] {'loss': '5.63'}\r"
     ]
    },
    {
     "name": "stderr",
     "output_type": "stream",
     "text": [
      "Metric loss/val improved by 1.122 >= min_delta = 0.0001. New best score: 1.487\n"
     ]
    },
    {
     "name": "stdout",
     "output_type": "stream",
     "text": [
      "Epoch 8 [35/35] {'loss': '1.48'}\r"
     ]
    },
    {
     "name": "stderr",
     "output_type": "stream",
     "text": [
      "Metric loss/val improved by 0.466 >= min_delta = 0.0001. New best score: 1.021\n"
     ]
    },
    {
     "name": "stdout",
     "output_type": "stream",
     "text": [
      "Epoch 18 [35/35] {'loss': '1.12'}\r"
     ]
    },
    {
     "name": "stderr",
     "output_type": "stream",
     "text": [
      "Monitored metric loss/val did not improve in the last 10 records. Best score: 1.021. Signaling Trainer to stop.\n",
      "GPU available: True, used: True\n",
      "TPU available: False, using: 0 TPU cores\n",
      "LOCAL_RANK: 0 - CUDA_VISIBLE_DEVICES: [0]\n",
      "\n",
      "  | Name               | Type             | Params\n",
      "--------------------------------------------------------\n",
      "0 | model              | amira_vgg        | 37.0 M\n",
      "1 | criteria           | CrossEntropyLoss | 0     \n",
      "2 | train_metrics      | MetricCollection | 0     \n",
      "3 | valid_metrics      | MetricCollection | 0     \n",
      "4 | valid_dummy_metric | AUROC            | 0     \n",
      "--------------------------------------------------------\n",
      "37.0 M    Trainable params\n",
      "0         Non-trainable params\n",
      "37.0 M    Total params\n",
      "148.174   Total estimated model params size (MB)\n"
     ]
    },
    {
     "name": "stdout",
     "output_type": "stream",
     "text": [
      "Architecture [amira_vgg] was created\n",
      "***Defined hyperparameters:***\n",
      "\"arch\":                {'name': 'amira_vgg', 'args': {'num_channels': 1, 'num_classes': 3}}\n",
      "\"checkpoint_path\":     None\n",
      "\"class_weights\":       tensor([1.2466, 0.6500, 1.5167], device='cuda:0')\n",
      "\"hp_metrics\":          ['loss/train', 'loss/val', 'Accuracy/val', 'AUROC/val', 'Precision/val', 'Recall/val', 'Specificity/val']\n",
      "\"loss\":                {'type': 'CrossEntropyLoss', 'args': {'weight': True}}\n",
      "\"optimizer\":           {'type': 'Adam', 'args': {'lr': 0.02, 'weight_decay': 0, 'amsgrad': False}}\n",
      "\"roi_hparams\":         {'enable': False, 'output_shape': [3, 3, 3], 'boundary_boxes': []}\n",
      "\"weight_distribution\": None\n",
      "Enabled callbacks:  ['LitProgressBar', 'EarlyStopping']\n",
      "Dataloader fold: 6\n",
      "Epoch 1 [35/35] {'loss': '336'}+03'}\r"
     ]
    },
    {
     "name": "stderr",
     "output_type": "stream",
     "text": [
      "Metric loss/val improved. New best score: 24257.855\n"
     ]
    },
    {
     "name": "stdout",
     "output_type": "stream",
     "text": [
      "Epoch 2 [35/35] {'loss': '91.3'}\r"
     ]
    },
    {
     "name": "stderr",
     "output_type": "stream",
     "text": [
      "Metric loss/val improved by 23926.855 >= min_delta = 0.0001. New best score: 331.001\n"
     ]
    },
    {
     "name": "stdout",
     "output_type": "stream",
     "text": [
      "Epoch 3 [35/35] {'loss': '26.6'}\r"
     ]
    },
    {
     "name": "stderr",
     "output_type": "stream",
     "text": [
      "Metric loss/val improved by 136.162 >= min_delta = 0.0001. New best score: 194.839\n"
     ]
    },
    {
     "name": "stdout",
     "output_type": "stream",
     "text": [
      "Epoch 4 [35/35] {'loss': '15.1'}\r"
     ]
    },
    {
     "name": "stderr",
     "output_type": "stream",
     "text": [
      "Metric loss/val improved by 29.520 >= min_delta = 0.0001. New best score: 165.319\n"
     ]
    },
    {
     "name": "stdout",
     "output_type": "stream",
     "text": [
      "Epoch 7 [35/35] {'loss': '4.83'}\r"
     ]
    },
    {
     "name": "stderr",
     "output_type": "stream",
     "text": [
      "Metric loss/val improved by 17.296 >= min_delta = 0.0001. New best score: 148.024\n"
     ]
    },
    {
     "name": "stdout",
     "output_type": "stream",
     "text": [
      "Epoch 8 [35/35] {'loss': '2.17'}\r"
     ]
    },
    {
     "name": "stderr",
     "output_type": "stream",
     "text": [
      "Metric loss/val improved by 44.449 >= min_delta = 0.0001. New best score: 103.574\n"
     ]
    },
    {
     "name": "stdout",
     "output_type": "stream",
     "text": [
      "Epoch 12 [35/35] {'loss': '1.11'}\r"
     ]
    },
    {
     "name": "stderr",
     "output_type": "stream",
     "text": [
      "Metric loss/val improved by 1.610 >= min_delta = 0.0001. New best score: 101.965\n"
     ]
    },
    {
     "name": "stdout",
     "output_type": "stream",
     "text": [
      "Epoch 17 [35/35] {'loss': '2.96'}\r"
     ]
    },
    {
     "name": "stderr",
     "output_type": "stream",
     "text": [
      "Metric loss/val improved by 4.815 >= min_delta = 0.0001. New best score: 97.150\n"
     ]
    },
    {
     "name": "stdout",
     "output_type": "stream",
     "text": [
      "Epoch 21 [35/35] {'loss': '1.14'}\r"
     ]
    },
    {
     "name": "stderr",
     "output_type": "stream",
     "text": [
      "Metric loss/val improved by 6.384 >= min_delta = 0.0001. New best score: 90.766\n"
     ]
    },
    {
     "name": "stdout",
     "output_type": "stream",
     "text": [
      "Epoch 31 [35/35] {'loss': '2.04'}\r"
     ]
    },
    {
     "name": "stderr",
     "output_type": "stream",
     "text": [
      "Monitored metric loss/val did not improve in the last 10 records. Best score: 90.766. Signaling Trainer to stop.\n",
      "GPU available: True, used: True\n",
      "TPU available: False, using: 0 TPU cores\n",
      "LOCAL_RANK: 0 - CUDA_VISIBLE_DEVICES: [0]\n",
      "\n",
      "  | Name               | Type             | Params\n",
      "--------------------------------------------------------\n",
      "0 | model              | amira_vgg        | 37.0 M\n",
      "1 | criteria           | CrossEntropyLoss | 0     \n",
      "2 | train_metrics      | MetricCollection | 0     \n",
      "3 | valid_metrics      | MetricCollection | 0     \n",
      "4 | valid_dummy_metric | AUROC            | 0     \n",
      "--------------------------------------------------------\n",
      "37.0 M    Trainable params\n",
      "0         Non-trainable params\n",
      "37.0 M    Total params\n",
      "148.174   Total estimated model params size (MB)\n"
     ]
    },
    {
     "name": "stdout",
     "output_type": "stream",
     "text": [
      "Architecture [amira_vgg] was created\n",
      "***Defined hyperparameters:***\n",
      "\"arch\":                {'name': 'amira_vgg', 'args': {'num_channels': 1, 'num_classes': 3}}\n",
      "\"checkpoint_path\":     None\n",
      "\"class_weights\":       tensor([1.2466, 0.6500, 1.5167], device='cuda:0')\n",
      "\"hp_metrics\":          ['loss/train', 'loss/val', 'Accuracy/val', 'AUROC/val', 'Precision/val', 'Recall/val', 'Specificity/val']\n",
      "\"loss\":                {'type': 'CrossEntropyLoss', 'args': {'weight': True}}\n",
      "\"optimizer\":           {'type': 'Adam', 'args': {'lr': 0.02, 'weight_decay': 0, 'amsgrad': False}}\n",
      "\"roi_hparams\":         {'enable': False, 'output_shape': [3, 3, 3], 'boundary_boxes': []}\n",
      "\"weight_distribution\": None\n",
      "Enabled callbacks:  ['LitProgressBar', 'EarlyStopping']\n",
      "Dataloader fold: 7\n",
      "Epoch 1 [35/35] {'loss': '340'}+03'}\r"
     ]
    },
    {
     "name": "stderr",
     "output_type": "stream",
     "text": [
      "Metric loss/val improved. New best score: 105.628\n"
     ]
    },
    {
     "name": "stdout",
     "output_type": "stream",
     "text": [
      "Epoch 5 [35/35] {'loss': '63.3'}\r"
     ]
    },
    {
     "name": "stderr",
     "output_type": "stream",
     "text": [
      "Metric loss/val improved by 61.289 >= min_delta = 0.0001. New best score: 44.339\n"
     ]
    },
    {
     "name": "stdout",
     "output_type": "stream",
     "text": [
      "Epoch 6 [35/35] {'loss': '23.7'}\r"
     ]
    },
    {
     "name": "stderr",
     "output_type": "stream",
     "text": [
      "Metric loss/val improved by 26.892 >= min_delta = 0.0001. New best score: 17.446\n"
     ]
    },
    {
     "name": "stdout",
     "output_type": "stream",
     "text": [
      "Epoch 7 [35/35] {'loss': '6.51'}\r"
     ]
    },
    {
     "name": "stderr",
     "output_type": "stream",
     "text": [
      "Metric loss/val improved by 16.384 >= min_delta = 0.0001. New best score: 1.062\n"
     ]
    },
    {
     "name": "stdout",
     "output_type": "stream",
     "text": [
      "Epoch 17 [35/35] {'loss': '1.2'}}\r"
     ]
    },
    {
     "name": "stderr",
     "output_type": "stream",
     "text": [
      "Monitored metric loss/val did not improve in the last 10 records. Best score: 1.062. Signaling Trainer to stop.\n",
      "GPU available: True, used: True\n",
      "TPU available: False, using: 0 TPU cores\n",
      "LOCAL_RANK: 0 - CUDA_VISIBLE_DEVICES: [0]\n",
      "\n",
      "  | Name               | Type             | Params\n",
      "--------------------------------------------------------\n",
      "0 | model              | amira_vgg        | 37.0 M\n",
      "1 | criteria           | CrossEntropyLoss | 0     \n",
      "2 | train_metrics      | MetricCollection | 0     \n",
      "3 | valid_metrics      | MetricCollection | 0     \n",
      "4 | valid_dummy_metric | AUROC            | 0     \n",
      "--------------------------------------------------------\n",
      "37.0 M    Trainable params\n",
      "0         Non-trainable params\n",
      "37.0 M    Total params\n",
      "148.174   Total estimated model params size (MB)\n"
     ]
    },
    {
     "name": "stdout",
     "output_type": "stream",
     "text": [
      "Architecture [amira_vgg] was created\n",
      "***Defined hyperparameters:***\n",
      "\"arch\":                {'name': 'amira_vgg', 'args': {'num_channels': 1, 'num_classes': 3}}\n",
      "\"checkpoint_path\":     None\n",
      "\"class_weights\":       tensor([1.2466, 0.6500, 1.5167], device='cuda:0')\n",
      "\"hp_metrics\":          ['loss/train', 'loss/val', 'Accuracy/val', 'AUROC/val', 'Precision/val', 'Recall/val', 'Specificity/val']\n",
      "\"loss\":                {'type': 'CrossEntropyLoss', 'args': {'weight': True}}\n",
      "\"optimizer\":           {'type': 'Adam', 'args': {'lr': 0.02, 'weight_decay': 0, 'amsgrad': False}}\n",
      "\"roi_hparams\":         {'enable': False, 'output_shape': [3, 3, 3], 'boundary_boxes': []}\n",
      "\"weight_distribution\": None\n",
      "Enabled callbacks:  ['LitProgressBar', 'EarlyStopping']\n",
      "Dataloader fold: 8\n",
      "Epoch 1 [35/35] {'loss': '388'}+03'}\r"
     ]
    },
    {
     "name": "stderr",
     "output_type": "stream",
     "text": [
      "Metric loss/val improved. New best score: 618.454\n"
     ]
    },
    {
     "name": "stdout",
     "output_type": "stream",
     "text": [
      "Epoch 2 [35/35] {'loss': '148'}\r"
     ]
    },
    {
     "name": "stderr",
     "output_type": "stream",
     "text": [
      "Metric loss/val improved by 415.459 >= min_delta = 0.0001. New best score: 202.995\n"
     ]
    },
    {
     "name": "stdout",
     "output_type": "stream",
     "text": [
      "Epoch 3 [35/35] {'loss': '95.7'}\r"
     ]
    },
    {
     "name": "stderr",
     "output_type": "stream",
     "text": [
      "Metric loss/val improved by 173.704 >= min_delta = 0.0001. New best score: 29.291\n"
     ]
    },
    {
     "name": "stdout",
     "output_type": "stream",
     "text": [
      "Epoch 5 [35/35] {'loss': '30'}'}\r"
     ]
    },
    {
     "name": "stderr",
     "output_type": "stream",
     "text": [
      "Metric loss/val improved by 28.043 >= min_delta = 0.0001. New best score: 1.248\n"
     ]
    },
    {
     "name": "stdout",
     "output_type": "stream",
     "text": [
      "Epoch 11 [35/35] {'loss': '2.89'}\r"
     ]
    },
    {
     "name": "stderr",
     "output_type": "stream",
     "text": [
      "Metric loss/val improved by 0.179 >= min_delta = 0.0001. New best score: 1.069\n"
     ]
    },
    {
     "name": "stdout",
     "output_type": "stream",
     "text": [
      "Epoch 15 [35/35] {'loss': '2.81'}\r"
     ]
    },
    {
     "name": "stderr",
     "output_type": "stream",
     "text": [
      "Metric loss/val improved by 0.023 >= min_delta = 0.0001. New best score: 1.046\n"
     ]
    },
    {
     "name": "stdout",
     "output_type": "stream",
     "text": [
      "Epoch 21 [35/35] {'loss': '2.52'}\r"
     ]
    },
    {
     "name": "stderr",
     "output_type": "stream",
     "text": [
      "Metric loss/val improved by 0.057 >= min_delta = 0.0001. New best score: 0.989\n"
     ]
    },
    {
     "name": "stdout",
     "output_type": "stream",
     "text": [
      "Epoch 31 [35/35] {'loss': '24'}'}\r"
     ]
    },
    {
     "name": "stderr",
     "output_type": "stream",
     "text": [
      "Monitored metric loss/val did not improve in the last 10 records. Best score: 0.989. Signaling Trainer to stop.\n",
      "GPU available: True, used: True\n",
      "TPU available: False, using: 0 TPU cores\n",
      "LOCAL_RANK: 0 - CUDA_VISIBLE_DEVICES: [0]\n",
      "\n",
      "  | Name               | Type             | Params\n",
      "--------------------------------------------------------\n",
      "0 | model              | amira_vgg        | 37.0 M\n",
      "1 | criteria           | CrossEntropyLoss | 0     \n",
      "2 | train_metrics      | MetricCollection | 0     \n",
      "3 | valid_metrics      | MetricCollection | 0     \n",
      "4 | valid_dummy_metric | AUROC            | 0     \n",
      "--------------------------------------------------------\n",
      "37.0 M    Trainable params\n",
      "0         Non-trainable params\n",
      "37.0 M    Total params\n",
      "148.174   Total estimated model params size (MB)\n"
     ]
    },
    {
     "name": "stdout",
     "output_type": "stream",
     "text": [
      "Architecture [amira_vgg] was created\n",
      "***Defined hyperparameters:***\n",
      "\"arch\":                {'name': 'amira_vgg', 'args': {'num_channels': 1, 'num_classes': 3}}\n",
      "\"checkpoint_path\":     None\n",
      "\"class_weights\":       tensor([1.2466, 0.6500, 1.5167], device='cuda:0')\n",
      "\"hp_metrics\":          ['loss/train', 'loss/val', 'Accuracy/val', 'AUROC/val', 'Precision/val', 'Recall/val', 'Specificity/val']\n",
      "\"loss\":                {'type': 'CrossEntropyLoss', 'args': {'weight': True}}\n",
      "\"optimizer\":           {'type': 'Adam', 'args': {'lr': 0.02, 'weight_decay': 0, 'amsgrad': False}}\n",
      "\"roi_hparams\":         {'enable': False, 'output_shape': [3, 3, 3], 'boundary_boxes': []}\n",
      "\"weight_distribution\": None\n",
      "Enabled callbacks:  ['LitProgressBar', 'EarlyStopping']\n",
      "Dataloader fold: 9\n",
      "Epoch 1 [35/35] {'loss': '1.72e+03'}\r"
     ]
    },
    {
     "name": "stderr",
     "output_type": "stream",
     "text": [
      "Metric loss/val improved. New best score: 117.156\n"
     ]
    },
    {
     "name": "stdout",
     "output_type": "stream",
     "text": [
      "Epoch 3 [35/35] {'loss': '244'}03'}\r"
     ]
    },
    {
     "name": "stderr",
     "output_type": "stream",
     "text": [
      "Metric loss/val improved by 58.506 >= min_delta = 0.0001. New best score: 58.650\n"
     ]
    },
    {
     "name": "stdout",
     "output_type": "stream",
     "text": [
      "Epoch 5 [35/35] {'loss': '84.6'}\r"
     ]
    },
    {
     "name": "stderr",
     "output_type": "stream",
     "text": [
      "Metric loss/val improved by 57.699 >= min_delta = 0.0001. New best score: 0.951\n"
     ]
    },
    {
     "name": "stdout",
     "output_type": "stream",
     "text": [
      "Epoch 11 [35/35] {'loss': '1.45'}\r"
     ]
    },
    {
     "name": "stderr",
     "output_type": "stream",
     "text": [
      "Metric loss/val improved by 0.030 >= min_delta = 0.0001. New best score: 0.921\n"
     ]
    },
    {
     "name": "stdout",
     "output_type": "stream",
     "text": [
      "Epoch 21 [35/35] {'loss': '1.1'}}\r"
     ]
    },
    {
     "name": "stderr",
     "output_type": "stream",
     "text": [
      "Monitored metric loss/val did not improve in the last 10 records. Best score: 0.921. Signaling Trainer to stop.\n",
      "GPU available: True, used: True\n",
      "TPU available: False, using: 0 TPU cores\n",
      "LOCAL_RANK: 0 - CUDA_VISIBLE_DEVICES: [0]\n",
      "\n",
      "  | Name               | Type             | Params\n",
      "--------------------------------------------------------\n",
      "0 | model              | amira_vgg        | 37.0 M\n",
      "1 | criteria           | CrossEntropyLoss | 0     \n",
      "2 | train_metrics      | MetricCollection | 0     \n",
      "3 | valid_metrics      | MetricCollection | 0     \n",
      "4 | valid_dummy_metric | AUROC            | 0     \n",
      "--------------------------------------------------------\n",
      "37.0 M    Trainable params\n",
      "0         Non-trainable params\n",
      "37.0 M    Total params\n",
      "148.174   Total estimated model params size (MB)\n"
     ]
    },
    {
     "name": "stdout",
     "output_type": "stream",
     "text": [
      "Architecture [amira_vgg] was created\n",
      "***Defined hyperparameters:***\n",
      "\"arch\":                {'name': 'amira_vgg', 'args': {'num_channels': 1, 'num_classes': 3}}\n",
      "\"checkpoint_path\":     None\n",
      "\"class_weights\":       tensor([1.2466, 0.6500, 1.5167], device='cuda:0')\n",
      "\"hp_metrics\":          ['loss/train', 'loss/val', 'Accuracy/val', 'AUROC/val', 'Precision/val', 'Recall/val', 'Specificity/val']\n",
      "\"loss\":                {'type': 'CrossEntropyLoss', 'args': {'weight': True}}\n",
      "\"optimizer\":           {'type': 'Adam', 'args': {'lr': 0.02, 'weight_decay': 0, 'amsgrad': False}}\n",
      "\"roi_hparams\":         {'enable': False, 'output_shape': [3, 3, 3], 'boundary_boxes': []}\n",
      "\"weight_distribution\": None\n",
      "Enabled callbacks:  ['LitProgressBar', 'EarlyStopping']\n",
      "Dataloader fold: 10\n",
      "Epoch 1 [35/35] {'loss': '140'}+03'}\r"
     ]
    },
    {
     "name": "stderr",
     "output_type": "stream",
     "text": [
      "Metric loss/val improved. New best score: 68.163\n"
     ]
    },
    {
     "name": "stdout",
     "output_type": "stream",
     "text": [
      "Epoch 5 [35/35] {'loss': '54.6'}\r"
     ]
    },
    {
     "name": "stderr",
     "output_type": "stream",
     "text": [
      "Metric loss/val improved by 49.793 >= min_delta = 0.0001. New best score: 18.370\n"
     ]
    },
    {
     "name": "stdout",
     "output_type": "stream",
     "text": [
      "Epoch 6 [35/35] {'loss': '36'}'}\r"
     ]
    },
    {
     "name": "stderr",
     "output_type": "stream",
     "text": [
      "Metric loss/val improved by 15.822 >= min_delta = 0.0001. New best score: 2.548\n"
     ]
    },
    {
     "name": "stdout",
     "output_type": "stream",
     "text": [
      "Epoch 7 [35/35] {'loss': '9.74'}\r"
     ]
    },
    {
     "name": "stderr",
     "output_type": "stream",
     "text": [
      "Metric loss/val improved by 1.506 >= min_delta = 0.0001. New best score: 1.042\n"
     ]
    },
    {
     "name": "stdout",
     "output_type": "stream",
     "text": [
      "Epoch 9 [35/35] {'loss': '12.8'}\r"
     ]
    },
    {
     "name": "stderr",
     "output_type": "stream",
     "text": [
      "Metric loss/val improved by 0.021 >= min_delta = 0.0001. New best score: 1.021\n"
     ]
    },
    {
     "name": "stdout",
     "output_type": "stream",
     "text": [
      "Epoch 19 [35/35] {'loss': '1.11'}\r"
     ]
    },
    {
     "name": "stderr",
     "output_type": "stream",
     "text": [
      "Monitored metric loss/val did not improve in the last 10 records. Best score: 1.021. Signaling Trainer to stop.\n"
     ]
    },
    {
     "name": "stdout",
     "output_type": "stream",
     "text": [
      "***Defined dataloader:***\n",
      "Data directory: data/SPM_categorised/ADNI1/\n",
      "Dataset sizes - Training: 273 Validation: 31\n",
      "Seed: 420\n",
      "Augmentation: Enabled\n",
      "KFold: Enabled - Fold: 1/10\n",
      "\n"
     ]
    },
    {
     "name": "stderr",
     "output_type": "stream",
     "text": [
      "/home/stud/f/fremar16/miniconda3/envs/Master-thesis/lib/python3.9/site-packages/torchmetrics/utilities/prints.py:36: UserWarning: Metric `AUROC` will save all targets and predictions in buffer. For large datasets this may lead to large memory footprint.\n",
      "  warnings.warn(*args, **kwargs)\n",
      "GPU available: True, used: True\n",
      "TPU available: False, using: 0 TPU cores\n",
      "Missing logger folder: /var/metrics/codetests/logs/tb/vgg11_brew/20210520205515\n",
      "LOCAL_RANK: 0 - CUDA_VISIBLE_DEVICES: [0]\n",
      "\n",
      "  | Name               | Type             | Params\n",
      "--------------------------------------------------------\n",
      "0 | model              | VGG              | 103 M \n",
      "1 | criteria           | CrossEntropyLoss | 0     \n",
      "2 | train_metrics      | MetricCollection | 0     \n",
      "3 | valid_metrics      | MetricCollection | 0     \n",
      "4 | valid_dummy_metric | AUROC            | 0     \n",
      "--------------------------------------------------------\n",
      "103 M     Trainable params\n",
      "0         Non-trainable params\n",
      "103 M     Total params\n",
      "414.175   Total estimated model params size (MB)\n"
     ]
    },
    {
     "name": "stdout",
     "output_type": "stream",
     "text": [
      "Architecture [VGG] was created\n",
      "***Defined hyperparameters:***\n",
      "\"arch\":                {'name': 'vgg11_brew', 'args': {'num_channels': 1, 'num_classes': 3}}\n",
      "\"checkpoint_path\":     None\n",
      "\"class_weights\":       tensor([1.2466, 0.6500, 1.5167], device='cuda:0')\n",
      "\"hp_metrics\":          ['loss/train', 'loss/val', 'Accuracy/val', 'AUROC/val', 'Precision/val', 'Recall/val', 'Specificity/val']\n",
      "\"loss\":                {'type': 'CrossEntropyLoss', 'args': {'weight': True}}\n",
      "\"optimizer\":           {'type': 'Adam', 'args': {'lr': 0.02, 'weight_decay': 0, 'amsgrad': False}}\n",
      "\"roi_hparams\":         {'enable': False, 'output_shape': [3, 3, 3], 'boundary_boxes': []}\n",
      "\"weight_distribution\": None\n",
      "Enabled callbacks:  ['LitProgressBar', 'EarlyStopping']\n",
      "Dataloader fold: 1\n",
      "Epoch 1 [35/35] {'loss': '1.43e+03'}\r"
     ]
    },
    {
     "name": "stderr",
     "output_type": "stream",
     "text": [
      "Metric loss/val improved. New best score: 11.009\n"
     ]
    },
    {
     "name": "stdout",
     "output_type": "stream",
     "text": [
      "Epoch 2 [35/35] {'loss': '41.8'}\r"
     ]
    },
    {
     "name": "stderr",
     "output_type": "stream",
     "text": [
      "Metric loss/val improved by 9.859 >= min_delta = 0.0001. New best score: 1.151\n"
     ]
    },
    {
     "name": "stdout",
     "output_type": "stream",
     "text": [
      "Epoch 3 [35/35] {'loss': '1.1'}}\r"
     ]
    },
    {
     "name": "stderr",
     "output_type": "stream",
     "text": [
      "Metric loss/val improved by 0.051 >= min_delta = 0.0001. New best score: 1.100\n"
     ]
    },
    {
     "name": "stdout",
     "output_type": "stream",
     "text": [
      "Epoch 4 [35/35] {'loss': '1.11'}\r"
     ]
    },
    {
     "name": "stderr",
     "output_type": "stream",
     "text": [
      "Metric loss/val improved by 0.025 >= min_delta = 0.0001. New best score: 1.075\n"
     ]
    },
    {
     "name": "stdout",
     "output_type": "stream",
     "text": [
      "Epoch 12 [35/35] {'loss': '1.08'}\r"
     ]
    },
    {
     "name": "stderr",
     "output_type": "stream",
     "text": [
      "Metric loss/val improved by 0.002 >= min_delta = 0.0001. New best score: 1.073\n"
     ]
    },
    {
     "name": "stdout",
     "output_type": "stream",
     "text": [
      "Epoch 22 [35/35] {'loss': '1.1'}}\r"
     ]
    },
    {
     "name": "stderr",
     "output_type": "stream",
     "text": [
      "Monitored metric loss/val did not improve in the last 10 records. Best score: 1.073. Signaling Trainer to stop.\n",
      "GPU available: True, used: True\n",
      "TPU available: False, using: 0 TPU cores\n",
      "LOCAL_RANK: 0 - CUDA_VISIBLE_DEVICES: [0]\n",
      "\n",
      "  | Name               | Type             | Params\n",
      "--------------------------------------------------------\n",
      "0 | model              | VGG              | 103 M \n",
      "1 | criteria           | CrossEntropyLoss | 0     \n",
      "2 | train_metrics      | MetricCollection | 0     \n",
      "3 | valid_metrics      | MetricCollection | 0     \n",
      "4 | valid_dummy_metric | AUROC            | 0     \n",
      "--------------------------------------------------------\n",
      "103 M     Trainable params\n",
      "0         Non-trainable params\n",
      "103 M     Total params\n",
      "414.175   Total estimated model params size (MB)\n"
     ]
    },
    {
     "name": "stdout",
     "output_type": "stream",
     "text": [
      "Architecture [VGG] was created\n",
      "***Defined hyperparameters:***\n",
      "\"arch\":                {'name': 'vgg11_brew', 'args': {'num_channels': 1, 'num_classes': 3}}\n",
      "\"checkpoint_path\":     None\n",
      "\"class_weights\":       tensor([1.2466, 0.6500, 1.5167], device='cuda:0')\n",
      "\"hp_metrics\":          ['loss/train', 'loss/val', 'Accuracy/val', 'AUROC/val', 'Precision/val', 'Recall/val', 'Specificity/val']\n",
      "\"loss\":                {'type': 'CrossEntropyLoss', 'args': {'weight': True}}\n",
      "\"optimizer\":           {'type': 'Adam', 'args': {'lr': 0.02, 'weight_decay': 0, 'amsgrad': False}}\n",
      "\"roi_hparams\":         {'enable': False, 'output_shape': [3, 3, 3], 'boundary_boxes': []}\n",
      "\"weight_distribution\": None\n",
      "Enabled callbacks:  ['LitProgressBar', 'EarlyStopping']\n",
      "Dataloader fold: 2\n",
      "Epoch 1 [35/35] {'loss': '14.2'}03'}\r"
     ]
    },
    {
     "name": "stderr",
     "output_type": "stream",
     "text": [
      "Metric loss/val improved. New best score: 1.084\n"
     ]
    },
    {
     "name": "stdout",
     "output_type": "stream",
     "text": [
      "Epoch 5 [35/35] {'loss': '1.12'}\r"
     ]
    },
    {
     "name": "stderr",
     "output_type": "stream",
     "text": [
      "Metric loss/val improved by 0.002 >= min_delta = 0.0001. New best score: 1.083\n"
     ]
    },
    {
     "name": "stdout",
     "output_type": "stream",
     "text": [
      "Epoch 9 [35/35] {'loss': '1.09'}\r"
     ]
    },
    {
     "name": "stderr",
     "output_type": "stream",
     "text": [
      "Metric loss/val improved by 0.001 >= min_delta = 0.0001. New best score: 1.082\n"
     ]
    },
    {
     "name": "stdout",
     "output_type": "stream",
     "text": [
      "Epoch 10 [35/35] {'loss': '1.14'}\r"
     ]
    },
    {
     "name": "stderr",
     "output_type": "stream",
     "text": [
      "Metric loss/val improved by 0.004 >= min_delta = 0.0001. New best score: 1.078\n"
     ]
    },
    {
     "name": "stdout",
     "output_type": "stream",
     "text": [
      "Epoch 20 [35/35] {'loss': '1.1'}}\r"
     ]
    },
    {
     "name": "stderr",
     "output_type": "stream",
     "text": [
      "Metric loss/val improved by 0.000 >= min_delta = 0.0001. New best score: 1.078\n"
     ]
    },
    {
     "name": "stdout",
     "output_type": "stream",
     "text": [
      "Epoch 27 [35/35] {'loss': '1.1'}}\r"
     ]
    },
    {
     "name": "stderr",
     "output_type": "stream",
     "text": [
      "Metric loss/val improved by 0.001 >= min_delta = 0.0001. New best score: 1.077\n"
     ]
    },
    {
     "name": "stdout",
     "output_type": "stream",
     "text": [
      "Epoch 31 [35/35] {'loss': '1.09'}\r"
     ]
    },
    {
     "name": "stderr",
     "output_type": "stream",
     "text": [
      "Metric loss/val improved by 0.001 >= min_delta = 0.0001. New best score: 1.076\n"
     ]
    },
    {
     "name": "stdout",
     "output_type": "stream",
     "text": [
      "Epoch 41 [35/35] {'loss': '1.1'}}\r"
     ]
    },
    {
     "name": "stderr",
     "output_type": "stream",
     "text": [
      "Monitored metric loss/val did not improve in the last 10 records. Best score: 1.076. Signaling Trainer to stop.\n",
      "GPU available: True, used: True\n",
      "TPU available: False, using: 0 TPU cores\n",
      "LOCAL_RANK: 0 - CUDA_VISIBLE_DEVICES: [0]\n",
      "\n",
      "  | Name               | Type             | Params\n",
      "--------------------------------------------------------\n",
      "0 | model              | VGG              | 103 M \n",
      "1 | criteria           | CrossEntropyLoss | 0     \n",
      "2 | train_metrics      | MetricCollection | 0     \n",
      "3 | valid_metrics      | MetricCollection | 0     \n",
      "4 | valid_dummy_metric | AUROC            | 0     \n",
      "--------------------------------------------------------\n",
      "103 M     Trainable params\n",
      "0         Non-trainable params\n",
      "103 M     Total params\n",
      "414.175   Total estimated model params size (MB)\n"
     ]
    },
    {
     "name": "stdout",
     "output_type": "stream",
     "text": [
      "Architecture [VGG] was created\n",
      "***Defined hyperparameters:***\n",
      "\"arch\":                {'name': 'vgg11_brew', 'args': {'num_channels': 1, 'num_classes': 3}}\n",
      "\"checkpoint_path\":     None\n",
      "\"class_weights\":       tensor([1.2466, 0.6500, 1.5167], device='cuda:0')\n",
      "\"hp_metrics\":          ['loss/train', 'loss/val', 'Accuracy/val', 'AUROC/val', 'Precision/val', 'Recall/val', 'Specificity/val']\n",
      "\"loss\":                {'type': 'CrossEntropyLoss', 'args': {'weight': True}}\n",
      "\"optimizer\":           {'type': 'Adam', 'args': {'lr': 0.02, 'weight_decay': 0, 'amsgrad': False}}\n",
      "\"roi_hparams\":         {'enable': False, 'output_shape': [3, 3, 3], 'boundary_boxes': []}\n",
      "\"weight_distribution\": None\n",
      "Enabled callbacks:  ['LitProgressBar', 'EarlyStopping']\n",
      "Dataloader fold: 3\n",
      "Epoch 1 [35/35] {'loss': '22.3'}08'}\r"
     ]
    },
    {
     "name": "stderr",
     "output_type": "stream",
     "text": [
      "Metric loss/val improved. New best score: 6.251\n"
     ]
    },
    {
     "name": "stdout",
     "output_type": "stream",
     "text": [
      "Epoch 2 [35/35] {'loss': '4.53'}\r"
     ]
    },
    {
     "name": "stderr",
     "output_type": "stream",
     "text": [
      "Metric loss/val improved by 5.178 >= min_delta = 0.0001. New best score: 1.072\n"
     ]
    },
    {
     "name": "stdout",
     "output_type": "stream",
     "text": [
      "Epoch 3 [35/35] {'loss': '1.3'}}\r"
     ]
    },
    {
     "name": "stderr",
     "output_type": "stream",
     "text": [
      "Metric loss/val improved by 0.001 >= min_delta = 0.0001. New best score: 1.071\n"
     ]
    },
    {
     "name": "stdout",
     "output_type": "stream",
     "text": [
      "Epoch 6 [35/35] {'loss': '1.15'}\r"
     ]
    },
    {
     "name": "stderr",
     "output_type": "stream",
     "text": [
      "Metric loss/val improved by 0.006 >= min_delta = 0.0001. New best score: 1.065\n"
     ]
    },
    {
     "name": "stdout",
     "output_type": "stream",
     "text": [
      "Epoch 16 [35/35] {'loss': '1.11'}\r"
     ]
    },
    {
     "name": "stderr",
     "output_type": "stream",
     "text": [
      "Monitored metric loss/val did not improve in the last 10 records. Best score: 1.065. Signaling Trainer to stop.\n",
      "GPU available: True, used: True\n",
      "TPU available: False, using: 0 TPU cores\n",
      "LOCAL_RANK: 0 - CUDA_VISIBLE_DEVICES: [0]\n",
      "\n",
      "  | Name               | Type             | Params\n",
      "--------------------------------------------------------\n",
      "0 | model              | VGG              | 103 M \n",
      "1 | criteria           | CrossEntropyLoss | 0     \n",
      "2 | train_metrics      | MetricCollection | 0     \n",
      "3 | valid_metrics      | MetricCollection | 0     \n",
      "4 | valid_dummy_metric | AUROC            | 0     \n",
      "--------------------------------------------------------\n",
      "103 M     Trainable params\n",
      "0         Non-trainable params\n",
      "103 M     Total params\n",
      "414.175   Total estimated model params size (MB)\n"
     ]
    },
    {
     "name": "stdout",
     "output_type": "stream",
     "text": [
      "Architecture [VGG] was created\n",
      "***Defined hyperparameters:***\n",
      "\"arch\":                {'name': 'vgg11_brew', 'args': {'num_channels': 1, 'num_classes': 3}}\n",
      "\"checkpoint_path\":     None\n",
      "\"class_weights\":       tensor([1.2466, 0.6500, 1.5167], device='cuda:0')\n",
      "\"hp_metrics\":          ['loss/train', 'loss/val', 'Accuracy/val', 'AUROC/val', 'Precision/val', 'Recall/val', 'Specificity/val']\n",
      "\"loss\":                {'type': 'CrossEntropyLoss', 'args': {'weight': True}}\n",
      "\"optimizer\":           {'type': 'Adam', 'args': {'lr': 0.02, 'weight_decay': 0, 'amsgrad': False}}\n",
      "\"roi_hparams\":         {'enable': False, 'output_shape': [3, 3, 3], 'boundary_boxes': []}\n",
      "\"weight_distribution\": None\n",
      "Enabled callbacks:  ['LitProgressBar', 'EarlyStopping']\n",
      "Dataloader fold: 4\n",
      "Epoch 1 [35/35] {'loss': '7.86'}03'}\r"
     ]
    },
    {
     "name": "stderr",
     "output_type": "stream",
     "text": [
      "Metric loss/val improved. New best score: 1.064\n"
     ]
    },
    {
     "name": "stdout",
     "output_type": "stream",
     "text": [
      "Epoch 11 [35/35] {'loss': '1.1'}}\r"
     ]
    },
    {
     "name": "stderr",
     "output_type": "stream",
     "text": [
      "Monitored metric loss/val did not improve in the last 10 records. Best score: 1.064. Signaling Trainer to stop.\n",
      "GPU available: True, used: True\n",
      "TPU available: False, using: 0 TPU cores\n",
      "LOCAL_RANK: 0 - CUDA_VISIBLE_DEVICES: [0]\n",
      "\n",
      "  | Name               | Type             | Params\n",
      "--------------------------------------------------------\n",
      "0 | model              | VGG              | 103 M \n",
      "1 | criteria           | CrossEntropyLoss | 0     \n",
      "2 | train_metrics      | MetricCollection | 0     \n",
      "3 | valid_metrics      | MetricCollection | 0     \n",
      "4 | valid_dummy_metric | AUROC            | 0     \n",
      "--------------------------------------------------------\n",
      "103 M     Trainable params\n",
      "0         Non-trainable params\n",
      "103 M     Total params\n",
      "414.175   Total estimated model params size (MB)\n"
     ]
    },
    {
     "name": "stdout",
     "output_type": "stream",
     "text": [
      "Architecture [VGG] was created\n",
      "***Defined hyperparameters:***\n",
      "\"arch\":                {'name': 'vgg11_brew', 'args': {'num_channels': 1, 'num_classes': 3}}\n",
      "\"checkpoint_path\":     None\n",
      "\"class_weights\":       tensor([1.2466, 0.6500, 1.5167], device='cuda:0')\n",
      "\"hp_metrics\":          ['loss/train', 'loss/val', 'Accuracy/val', 'AUROC/val', 'Precision/val', 'Recall/val', 'Specificity/val']\n",
      "\"loss\":                {'type': 'CrossEntropyLoss', 'args': {'weight': True}}\n",
      "\"optimizer\":           {'type': 'Adam', 'args': {'lr': 0.02, 'weight_decay': 0, 'amsgrad': False}}\n",
      "\"roi_hparams\":         {'enable': False, 'output_shape': [3, 3, 3], 'boundary_boxes': []}\n",
      "\"weight_distribution\": None\n",
      "Enabled callbacks:  ['LitProgressBar', 'EarlyStopping']\n",
      "Dataloader fold: 5\n",
      "Epoch 1 [35/35] {'loss': '10.2'}04'}\r"
     ]
    },
    {
     "name": "stderr",
     "output_type": "stream",
     "text": [
      "Metric loss/val improved. New best score: 1.074\n"
     ]
    },
    {
     "name": "stdout",
     "output_type": "stream",
     "text": [
      "Epoch 11 [35/35] {'loss': '1.11'}\r"
     ]
    },
    {
     "name": "stderr",
     "output_type": "stream",
     "text": [
      "Monitored metric loss/val did not improve in the last 10 records. Best score: 1.074. Signaling Trainer to stop.\n",
      "GPU available: True, used: True\n",
      "TPU available: False, using: 0 TPU cores\n",
      "LOCAL_RANK: 0 - CUDA_VISIBLE_DEVICES: [0]\n",
      "\n",
      "  | Name               | Type             | Params\n",
      "--------------------------------------------------------\n",
      "0 | model              | VGG              | 103 M \n",
      "1 | criteria           | CrossEntropyLoss | 0     \n",
      "2 | train_metrics      | MetricCollection | 0     \n",
      "3 | valid_metrics      | MetricCollection | 0     \n",
      "4 | valid_dummy_metric | AUROC            | 0     \n",
      "--------------------------------------------------------\n",
      "103 M     Trainable params\n",
      "0         Non-trainable params\n",
      "103 M     Total params\n",
      "414.175   Total estimated model params size (MB)\n"
     ]
    },
    {
     "name": "stdout",
     "output_type": "stream",
     "text": [
      "Architecture [VGG] was created\n",
      "***Defined hyperparameters:***\n",
      "\"arch\":                {'name': 'vgg11_brew', 'args': {'num_channels': 1, 'num_classes': 3}}\n",
      "\"checkpoint_path\":     None\n",
      "\"class_weights\":       tensor([1.2466, 0.6500, 1.5167], device='cuda:0')\n",
      "\"hp_metrics\":          ['loss/train', 'loss/val', 'Accuracy/val', 'AUROC/val', 'Precision/val', 'Recall/val', 'Specificity/val']\n",
      "\"loss\":                {'type': 'CrossEntropyLoss', 'args': {'weight': True}}\n",
      "\"optimizer\":           {'type': 'Adam', 'args': {'lr': 0.02, 'weight_decay': 0, 'amsgrad': False}}\n",
      "\"roi_hparams\":         {'enable': False, 'output_shape': [3, 3, 3], 'boundary_boxes': []}\n",
      "\"weight_distribution\": None\n",
      "Enabled callbacks:  ['LitProgressBar', 'EarlyStopping']\n",
      "Dataloader fold: 6\n",
      "Epoch 1 [35/35] {'loss': '33.4'}09'}\r"
     ]
    },
    {
     "name": "stderr",
     "output_type": "stream",
     "text": [
      "Metric loss/val improved. New best score: 1.068\n"
     ]
    },
    {
     "name": "stdout",
     "output_type": "stream",
     "text": [
      "Epoch 11 [35/35] {'loss': '1.1'}}\r"
     ]
    },
    {
     "name": "stderr",
     "output_type": "stream",
     "text": [
      "Monitored metric loss/val did not improve in the last 10 records. Best score: 1.068. Signaling Trainer to stop.\n",
      "GPU available: True, used: True\n",
      "TPU available: False, using: 0 TPU cores\n",
      "LOCAL_RANK: 0 - CUDA_VISIBLE_DEVICES: [0]\n",
      "\n",
      "  | Name               | Type             | Params\n",
      "--------------------------------------------------------\n",
      "0 | model              | VGG              | 103 M \n",
      "1 | criteria           | CrossEntropyLoss | 0     \n",
      "2 | train_metrics      | MetricCollection | 0     \n",
      "3 | valid_metrics      | MetricCollection | 0     \n",
      "4 | valid_dummy_metric | AUROC            | 0     \n",
      "--------------------------------------------------------\n",
      "103 M     Trainable params\n",
      "0         Non-trainable params\n",
      "103 M     Total params\n",
      "414.175   Total estimated model params size (MB)\n"
     ]
    },
    {
     "name": "stdout",
     "output_type": "stream",
     "text": [
      "Architecture [VGG] was created\n",
      "***Defined hyperparameters:***\n",
      "\"arch\":                {'name': 'vgg11_brew', 'args': {'num_channels': 1, 'num_classes': 3}}\n",
      "\"checkpoint_path\":     None\n",
      "\"class_weights\":       tensor([1.2466, 0.6500, 1.5167], device='cuda:0')\n",
      "\"hp_metrics\":          ['loss/train', 'loss/val', 'Accuracy/val', 'AUROC/val', 'Precision/val', 'Recall/val', 'Specificity/val']\n",
      "\"loss\":                {'type': 'CrossEntropyLoss', 'args': {'weight': True}}\n",
      "\"optimizer\":           {'type': 'Adam', 'args': {'lr': 0.02, 'weight_decay': 0, 'amsgrad': False}}\n",
      "\"roi_hparams\":         {'enable': False, 'output_shape': [3, 3, 3], 'boundary_boxes': []}\n",
      "\"weight_distribution\": None\n",
      "Enabled callbacks:  ['LitProgressBar', 'EarlyStopping']\n",
      "Dataloader fold: 7\n",
      "Epoch 1 [35/35] {'loss': '31.6'}07'}\r"
     ]
    },
    {
     "name": "stderr",
     "output_type": "stream",
     "text": [
      "Metric loss/val improved. New best score: 1.061\n"
     ]
    },
    {
     "name": "stdout",
     "output_type": "stream",
     "text": [
      "Epoch 2 [35/35] {'loss': '1.49'}\r"
     ]
    },
    {
     "name": "stderr",
     "output_type": "stream",
     "text": [
      "Metric loss/val improved by 0.003 >= min_delta = 0.0001. New best score: 1.058\n"
     ]
    },
    {
     "name": "stdout",
     "output_type": "stream",
     "text": [
      "Epoch 12 [35/35] {'loss': '1.11'}\r"
     ]
    },
    {
     "name": "stderr",
     "output_type": "stream",
     "text": [
      "Monitored metric loss/val did not improve in the last 10 records. Best score: 1.058. Signaling Trainer to stop.\n",
      "GPU available: True, used: True\n",
      "TPU available: False, using: 0 TPU cores\n",
      "LOCAL_RANK: 0 - CUDA_VISIBLE_DEVICES: [0]\n",
      "\n",
      "  | Name               | Type             | Params\n",
      "--------------------------------------------------------\n",
      "0 | model              | VGG              | 103 M \n",
      "1 | criteria           | CrossEntropyLoss | 0     \n",
      "2 | train_metrics      | MetricCollection | 0     \n",
      "3 | valid_metrics      | MetricCollection | 0     \n",
      "4 | valid_dummy_metric | AUROC            | 0     \n",
      "--------------------------------------------------------\n",
      "103 M     Trainable params\n",
      "0         Non-trainable params\n",
      "103 M     Total params\n",
      "414.175   Total estimated model params size (MB)\n"
     ]
    },
    {
     "name": "stdout",
     "output_type": "stream",
     "text": [
      "Architecture [VGG] was created\n",
      "***Defined hyperparameters:***\n",
      "\"arch\":                {'name': 'vgg11_brew', 'args': {'num_channels': 1, 'num_classes': 3}}\n",
      "\"checkpoint_path\":     None\n",
      "\"class_weights\":       tensor([1.2466, 0.6500, 1.5167], device='cuda:0')\n",
      "\"hp_metrics\":          ['loss/train', 'loss/val', 'Accuracy/val', 'AUROC/val', 'Precision/val', 'Recall/val', 'Specificity/val']\n",
      "\"loss\":                {'type': 'CrossEntropyLoss', 'args': {'weight': True}}\n",
      "\"optimizer\":           {'type': 'Adam', 'args': {'lr': 0.02, 'weight_decay': 0, 'amsgrad': False}}\n",
      "\"roi_hparams\":         {'enable': False, 'output_shape': [3, 3, 3], 'boundary_boxes': []}\n",
      "\"weight_distribution\": None\n",
      "Enabled callbacks:  ['LitProgressBar', 'EarlyStopping']\n",
      "Dataloader fold: 8\n",
      "Epoch 1 [35/35] {'loss': '9.09'}03'}\r"
     ]
    },
    {
     "name": "stderr",
     "output_type": "stream",
     "text": [
      "Metric loss/val improved. New best score: 1.093\n"
     ]
    },
    {
     "name": "stdout",
     "output_type": "stream",
     "text": [
      "Epoch 3 [35/35] {'loss': '1.13'}\r"
     ]
    },
    {
     "name": "stderr",
     "output_type": "stream",
     "text": [
      "Metric loss/val improved by 0.003 >= min_delta = 0.0001. New best score: 1.089\n"
     ]
    },
    {
     "name": "stdout",
     "output_type": "stream",
     "text": [
      "Epoch 4 [35/35] {'loss': '1.12'}\r"
     ]
    },
    {
     "name": "stderr",
     "output_type": "stream",
     "text": [
      "Metric loss/val improved by 0.003 >= min_delta = 0.0001. New best score: 1.087\n"
     ]
    },
    {
     "name": "stdout",
     "output_type": "stream",
     "text": [
      "Epoch 6 [35/35] {'loss': '1.1'}}\r"
     ]
    },
    {
     "name": "stderr",
     "output_type": "stream",
     "text": [
      "Metric loss/val improved by 0.002 >= min_delta = 0.0001. New best score: 1.085\n"
     ]
    },
    {
     "name": "stdout",
     "output_type": "stream",
     "text": [
      "Epoch 7 [35/35] {'loss': '1.12'}\r"
     ]
    },
    {
     "name": "stderr",
     "output_type": "stream",
     "text": [
      "Metric loss/val improved by 0.003 >= min_delta = 0.0001. New best score: 1.081\n"
     ]
    },
    {
     "name": "stdout",
     "output_type": "stream",
     "text": [
      "Epoch 15 [35/35] {'loss': '1.09'}\r"
     ]
    },
    {
     "name": "stderr",
     "output_type": "stream",
     "text": [
      "Metric loss/val improved by 0.000 >= min_delta = 0.0001. New best score: 1.081\n"
     ]
    },
    {
     "name": "stdout",
     "output_type": "stream",
     "text": [
      "Epoch 17 [35/35] {'loss': '1.1'}}\r"
     ]
    },
    {
     "name": "stderr",
     "output_type": "stream",
     "text": [
      "Metric loss/val improved by 0.000 >= min_delta = 0.0001. New best score: 1.081\n"
     ]
    },
    {
     "name": "stdout",
     "output_type": "stream",
     "text": [
      "Epoch 18 [35/35] {'loss': '1.1'}}\r"
     ]
    },
    {
     "name": "stderr",
     "output_type": "stream",
     "text": [
      "Metric loss/val improved by 0.001 >= min_delta = 0.0001. New best score: 1.080\n"
     ]
    },
    {
     "name": "stdout",
     "output_type": "stream",
     "text": [
      "Epoch 19 [35/35] {'loss': '1.1'}}\r"
     ]
    },
    {
     "name": "stderr",
     "output_type": "stream",
     "text": [
      "Metric loss/val improved by 0.003 >= min_delta = 0.0001. New best score: 1.076\n"
     ]
    },
    {
     "name": "stdout",
     "output_type": "stream",
     "text": [
      "Epoch 29 [35/35] {'loss': '1.1'}}\r"
     ]
    },
    {
     "name": "stderr",
     "output_type": "stream",
     "text": [
      "Monitored metric loss/val did not improve in the last 10 records. Best score: 1.076. Signaling Trainer to stop.\n",
      "GPU available: True, used: True\n",
      "TPU available: False, using: 0 TPU cores\n",
      "LOCAL_RANK: 0 - CUDA_VISIBLE_DEVICES: [0]\n",
      "\n",
      "  | Name               | Type             | Params\n",
      "--------------------------------------------------------\n",
      "0 | model              | VGG              | 103 M \n",
      "1 | criteria           | CrossEntropyLoss | 0     \n",
      "2 | train_metrics      | MetricCollection | 0     \n",
      "3 | valid_metrics      | MetricCollection | 0     \n",
      "4 | valid_dummy_metric | AUROC            | 0     \n",
      "--------------------------------------------------------\n",
      "103 M     Trainable params\n",
      "0         Non-trainable params\n",
      "103 M     Total params\n",
      "414.175   Total estimated model params size (MB)\n"
     ]
    },
    {
     "name": "stdout",
     "output_type": "stream",
     "text": [
      "Architecture [VGG] was created\n",
      "***Defined hyperparameters:***\n",
      "\"arch\":                {'name': 'vgg11_brew', 'args': {'num_channels': 1, 'num_classes': 3}}\n",
      "\"checkpoint_path\":     None\n",
      "\"class_weights\":       tensor([1.2466, 0.6500, 1.5167], device='cuda:0')\n",
      "\"hp_metrics\":          ['loss/train', 'loss/val', 'Accuracy/val', 'AUROC/val', 'Precision/val', 'Recall/val', 'Specificity/val']\n",
      "\"loss\":                {'type': 'CrossEntropyLoss', 'args': {'weight': True}}\n",
      "\"optimizer\":           {'type': 'Adam', 'args': {'lr': 0.02, 'weight_decay': 0, 'amsgrad': False}}\n",
      "\"roi_hparams\":         {'enable': False, 'output_shape': [3, 3, 3], 'boundary_boxes': []}\n",
      "\"weight_distribution\": None\n",
      "Enabled callbacks:  ['LitProgressBar', 'EarlyStopping']\n",
      "Dataloader fold: 9\n",
      "Epoch 1 [35/35] {'loss': '2.78'}03'}\r"
     ]
    },
    {
     "name": "stderr",
     "output_type": "stream",
     "text": [
      "Metric loss/val improved. New best score: 1.095\n"
     ]
    },
    {
     "name": "stdout",
     "output_type": "stream",
     "text": [
      "Epoch 2 [35/35] {'loss': '1.11'}\r"
     ]
    },
    {
     "name": "stderr",
     "output_type": "stream",
     "text": [
      "Metric loss/val improved by 0.005 >= min_delta = 0.0001. New best score: 1.091\n"
     ]
    },
    {
     "name": "stdout",
     "output_type": "stream",
     "text": [
      "Epoch 3 [35/35] {'loss': '1.11'}\r"
     ]
    },
    {
     "name": "stderr",
     "output_type": "stream",
     "text": [
      "Metric loss/val improved by 0.009 >= min_delta = 0.0001. New best score: 1.082\n"
     ]
    },
    {
     "name": "stdout",
     "output_type": "stream",
     "text": [
      "Epoch 13 [35/35] {'loss': '1.11'}\r"
     ]
    },
    {
     "name": "stderr",
     "output_type": "stream",
     "text": [
      "Monitored metric loss/val did not improve in the last 10 records. Best score: 1.082. Signaling Trainer to stop.\n",
      "GPU available: True, used: True\n",
      "TPU available: False, using: 0 TPU cores\n",
      "LOCAL_RANK: 0 - CUDA_VISIBLE_DEVICES: [0]\n",
      "\n",
      "  | Name               | Type             | Params\n",
      "--------------------------------------------------------\n",
      "0 | model              | VGG              | 103 M \n",
      "1 | criteria           | CrossEntropyLoss | 0     \n",
      "2 | train_metrics      | MetricCollection | 0     \n",
      "3 | valid_metrics      | MetricCollection | 0     \n",
      "4 | valid_dummy_metric | AUROC            | 0     \n",
      "--------------------------------------------------------\n",
      "103 M     Trainable params\n",
      "0         Non-trainable params\n",
      "103 M     Total params\n",
      "414.175   Total estimated model params size (MB)\n"
     ]
    },
    {
     "name": "stdout",
     "output_type": "stream",
     "text": [
      "Architecture [VGG] was created\n",
      "***Defined hyperparameters:***\n",
      "\"arch\":                {'name': 'vgg11_brew', 'args': {'num_channels': 1, 'num_classes': 3}}\n",
      "\"checkpoint_path\":     None\n",
      "\"class_weights\":       tensor([1.2466, 0.6500, 1.5167], device='cuda:0')\n",
      "\"hp_metrics\":          ['loss/train', 'loss/val', 'Accuracy/val', 'AUROC/val', 'Precision/val', 'Recall/val', 'Specificity/val']\n",
      "\"loss\":                {'type': 'CrossEntropyLoss', 'args': {'weight': True}}\n",
      "\"optimizer\":           {'type': 'Adam', 'args': {'lr': 0.02, 'weight_decay': 0, 'amsgrad': False}}\n",
      "\"roi_hparams\":         {'enable': False, 'output_shape': [3, 3, 3], 'boundary_boxes': []}\n",
      "\"weight_distribution\": None\n",
      "Enabled callbacks:  ['LitProgressBar', 'EarlyStopping']\n",
      "Dataloader fold: 10\n",
      "Epoch 1 [35/35] {'loss': '1.13'}08'}\r"
     ]
    },
    {
     "name": "stderr",
     "output_type": "stream",
     "text": [
      "Metric loss/val improved. New best score: 1.065\n"
     ]
    },
    {
     "name": "stdout",
     "output_type": "stream",
     "text": [
      "Epoch 11 [35/35] {'loss': '1.1'}}'}\r"
     ]
    },
    {
     "name": "stderr",
     "output_type": "stream",
     "text": [
      "Monitored metric loss/val did not improve in the last 10 records. Best score: 1.065. Signaling Trainer to stop.\n"
     ]
    },
    {
     "name": "stdout",
     "output_type": "stream",
     "text": [
      "***Defined dataloader:***\n",
      "Data directory: data/SPM_categorised/ADNI1/\n",
      "Dataset sizes - Training: 273 Validation: 31\n",
      "Seed: 420\n",
      "Augmentation: Enabled\n",
      "KFold: Enabled - Fold: 1/10\n",
      "\n"
     ]
    },
    {
     "name": "stderr",
     "output_type": "stream",
     "text": [
      "/home/stud/f/fremar16/miniconda3/envs/Master-thesis/lib/python3.9/site-packages/torchmetrics/utilities/prints.py:36: UserWarning: Metric `AUROC` will save all targets and predictions in buffer. For large datasets this may lead to large memory footprint.\n",
      "  warnings.warn(*args, **kwargs)\n",
      "GPU available: True, used: True\n",
      "TPU available: False, using: 0 TPU cores\n",
      "Missing logger folder: /var/metrics/codetests/logs/tb/vgg16/20210520215041\n",
      "LOCAL_RANK: 0 - CUDA_VISIBLE_DEVICES: [0]\n",
      "\n",
      "  | Name               | Type             | Params\n",
      "--------------------------------------------------------\n",
      "0 | model              | VGG              | 65.1 M\n",
      "1 | criteria           | CrossEntropyLoss | 0     \n",
      "2 | train_metrics      | MetricCollection | 0     \n",
      "3 | valid_metrics      | MetricCollection | 0     \n",
      "4 | valid_dummy_metric | AUROC            | 0     \n",
      "--------------------------------------------------------\n",
      "65.1 M    Trainable params\n",
      "0         Non-trainable params\n",
      "65.1 M    Total params\n",
      "260.447   Total estimated model params size (MB)\n"
     ]
    },
    {
     "name": "stdout",
     "output_type": "stream",
     "text": [
      "Architecture [VGG] was created\n",
      "***Defined hyperparameters:***\n",
      "\"arch\":                {'name': 'vgg16', 'args': {'num_channels': 1, 'num_classes': 3}}\n",
      "\"checkpoint_path\":     None\n",
      "\"class_weights\":       tensor([1.2466, 0.6500, 1.5167], device='cuda:0')\n",
      "\"hp_metrics\":          ['loss/train', 'loss/val', 'Accuracy/val', 'AUROC/val', 'Precision/val', 'Recall/val', 'Specificity/val']\n",
      "\"loss\":                {'type': 'CrossEntropyLoss', 'args': {'weight': True}}\n",
      "\"optimizer\":           {'type': 'Adam', 'args': {'lr': 0.02, 'weight_decay': 0, 'amsgrad': False}}\n",
      "\"roi_hparams\":         {'enable': False, 'output_shape': [3, 3, 3], 'boundary_boxes': []}\n",
      "\"weight_distribution\": None\n",
      "Enabled callbacks:  ['LitProgressBar', 'EarlyStopping']\n",
      "Dataloader fold: 1\n",
      "torch.Size([8, 512, 2, 2, 2])\n",
      "torch.Size([8, 512, 2, 2, 2])}\n",
      "torch.Size([8, 512, 2, 2, 2])e+19'}\n",
      "torch.Size([8, 512, 2, 2, 2])e+19'}\n",
      "torch.Size([8, 512, 2, 2, 2])e+19'}\n",
      "torch.Size([8, 512, 2, 2, 2])e+18'}\n",
      "torch.Size([8, 512, 2, 2, 2])e+18'}\n",
      "torch.Size([8, 512, 2, 2, 2])+18'}\n",
      "torch.Size([8, 512, 2, 2, 2])e+18'}\n",
      "torch.Size([8, 512, 2, 2, 2])e+18'}\n",
      "torch.Size([8, 512, 2, 2, 2])4e+18'}\n",
      "torch.Size([8, 512, 2, 2, 2])5e+18'}\n",
      "torch.Size([8, 512, 2, 2, 2])2e+18'}\n",
      "torch.Size([8, 512, 2, 2, 2])4e+18'}\n",
      "torch.Size([8, 512, 2, 2, 2])e+18'}\n",
      "torch.Size([8, 512, 2, 2, 2])9e+18'}\n",
      "torch.Size([8, 512, 2, 2, 2])1e+18'}\n",
      "torch.Size([8, 512, 2, 2, 2])5e+18'}\n",
      "torch.Size([8, 512, 2, 2, 2])1e+18'}\n",
      "torch.Size([8, 512, 2, 2, 2])8e+18'}\n",
      "torch.Size([8, 512, 2, 2, 2])7e+18'}\n",
      "torch.Size([8, 512, 2, 2, 2])7e+18'}\n",
      "torch.Size([8, 512, 2, 2, 2])2e+09'}\n",
      "torch.Size([8, 512, 2, 2, 2])2e+09'}\n",
      "torch.Size([8, 512, 2, 2, 2])1e+08'}\n",
      "torch.Size([8, 512, 2, 2, 2])1e+08'}\n",
      "torch.Size([8, 512, 2, 2, 2])3e+08'}\n",
      "torch.Size([8, 512, 2, 2, 2])8e+08'}\n",
      "torch.Size([8, 512, 2, 2, 2])8e+08'}\n",
      "torch.Size([8, 512, 2, 2, 2])8e+08'}\n",
      "torch.Size([8, 512, 2, 2, 2])8e+08'}\n",
      "torch.Size([8, 512, 2, 2, 2])6e+08'}\n",
      "torch.Size([8, 512, 2, 2, 2])6e+08'}\n",
      "torch.Size([8, 512, 2, 2, 2])3e+08'}\n",
      "torch.Size([1, 512, 2, 2, 2])3e+08'}\n",
      "torch.Size([8, 512, 2, 2, 2])2e+08'}\n",
      "torch.Size([8, 512, 2, 2, 2])\n",
      "torch.Size([8, 512, 2, 2, 2])\n",
      "torch.Size([7, 512, 2, 2, 2])\n"
     ]
    },
    {
     "name": "stderr",
     "output_type": "stream",
     "text": [
      "Metric loss/val improved. New best score: 2.195\n"
     ]
    },
    {
     "name": "stdout",
     "output_type": "stream",
     "text": [
      "torch.Size([8, 512, 2, 2, 2])\n",
      "torch.Size([8, 512, 2, 2, 2])+08'}\n",
      "torch.Size([8, 512, 2, 2, 2])e+08'}\n",
      "torch.Size([8, 512, 2, 2, 2])e+08'}\n",
      "torch.Size([8, 512, 2, 2, 2])e+08'}\n",
      "torch.Size([8, 512, 2, 2, 2])e+08'}\n",
      "torch.Size([8, 512, 2, 2, 2])e+08'}\n",
      "torch.Size([8, 512, 2, 2, 2])e+06'}\n",
      "torch.Size([8, 512, 2, 2, 2])e+06'}\n",
      "torch.Size([8, 512, 2, 2, 2])e+06'}\n",
      "torch.Size([8, 512, 2, 2, 2])7e+06'}\n",
      "torch.Size([8, 512, 2, 2, 2])1e+06'}\n",
      "torch.Size([8, 512, 2, 2, 2])6e+06'}\n",
      "torch.Size([8, 512, 2, 2, 2])6e+06'}\n",
      "torch.Size([8, 512, 2, 2, 2])6e+06'}\n",
      "torch.Size([8, 512, 2, 2, 2])6e+06'}\n",
      "torch.Size([8, 512, 2, 2, 2])e+06'}\n",
      "torch.Size([8, 512, 2, 2, 2])e+06'}\n",
      "torch.Size([8, 512, 2, 2, 2])e+06'}\n",
      "torch.Size([8, 512, 2, 2, 2])e+06'}\n",
      "torch.Size([8, 512, 2, 2, 2])e+06'}\n",
      "torch.Size([8, 512, 2, 2, 2])e+06'}\n",
      "torch.Size([8, 512, 2, 2, 2])8e+06'}\n",
      "torch.Size([8, 512, 2, 2, 2])8e+06'}\n",
      "torch.Size([8, 512, 2, 2, 2])8e+06'}\n",
      "torch.Size([8, 512, 2, 2, 2])8e+06'}\n",
      "torch.Size([8, 512, 2, 2, 2])8e+06'}\n",
      "torch.Size([8, 512, 2, 2, 2])8e+06'}\n",
      "torch.Size([8, 512, 2, 2, 2])3e+06'}\n",
      "torch.Size([8, 512, 2, 2, 2])1'}\n",
      "torch.Size([8, 512, 2, 2, 2])3'}\n",
      "torch.Size([8, 512, 2, 2, 2])3'}\n",
      "torch.Size([8, 512, 2, 2, 2])5'}\n",
      "torch.Size([8, 512, 2, 2, 2])3'}\n",
      "torch.Size([1, 512, 2, 2, 2])7'}\n",
      "torch.Size([8, 512, 2, 2, 2])8'}\n",
      "torch.Size([8, 512, 2, 2, 2])\n",
      "torch.Size([8, 512, 2, 2, 2])\n",
      "torch.Size([7, 512, 2, 2, 2])\n"
     ]
    },
    {
     "name": "stderr",
     "output_type": "stream",
     "text": [
      "Metric loss/val improved by 0.215 >= min_delta = 0.0001. New best score: 1.981\n"
     ]
    },
    {
     "name": "stdout",
     "output_type": "stream",
     "text": [
      "torch.Size([8, 512, 2, 2, 2])\n",
      "torch.Size([8, 512, 2, 2, 2])'}\n",
      "torch.Size([8, 512, 2, 2, 2])'}\n",
      "torch.Size([8, 512, 2, 2, 2])'}\n",
      "torch.Size([8, 512, 2, 2, 2])'}\n",
      "torch.Size([8, 512, 2, 2, 2])'}\n",
      "torch.Size([8, 512, 2, 2, 2])'}\n",
      "torch.Size([8, 512, 2, 2, 2])'}\n",
      "torch.Size([8, 512, 2, 2, 2])'}\n",
      "torch.Size([8, 512, 2, 2, 2])'}\n",
      "torch.Size([8, 512, 2, 2, 2])'}\n",
      "torch.Size([8, 512, 2, 2, 2])7'}\n",
      "torch.Size([8, 512, 2, 2, 2])8'}\n",
      "torch.Size([8, 512, 2, 2, 2])3'}\n",
      "torch.Size([8, 512, 2, 2, 2])4'}\n",
      "torch.Size([8, 512, 2, 2, 2])7'}\n",
      "torch.Size([8, 512, 2, 2, 2])7'}\n",
      "torch.Size([8, 512, 2, 2, 2])3'}\n",
      "torch.Size([8, 512, 2, 2, 2])6'}\n",
      "torch.Size([8, 512, 2, 2, 2])6'}\n",
      "torch.Size([8, 512, 2, 2, 2])1'}\n",
      "torch.Size([8, 512, 2, 2, 2])8'}\n",
      "torch.Size([8, 512, 2, 2, 2])3'}\n",
      "torch.Size([8, 512, 2, 2, 2])2'}\n",
      "torch.Size([8, 512, 2, 2, 2])6'}\n",
      "torch.Size([8, 512, 2, 2, 2])1'}\n",
      "torch.Size([8, 512, 2, 2, 2])6'}\n",
      "torch.Size([8, 512, 2, 2, 2])1'}\n",
      "torch.Size([8, 512, 2, 2, 2])8'}\n",
      "torch.Size([8, 512, 2, 2, 2])5'}\n",
      "torch.Size([8, 512, 2, 2, 2])2'}\n",
      "torch.Size([8, 512, 2, 2, 2])9'}\n",
      "torch.Size([8, 512, 2, 2, 2])7'}\n",
      "torch.Size([8, 512, 2, 2, 2])2'}\n",
      "torch.Size([1, 512, 2, 2, 2])7'}\n",
      "torch.Size([8, 512, 2, 2, 2])6'}\n",
      "torch.Size([8, 512, 2, 2, 2])\n",
      "torch.Size([8, 512, 2, 2, 2])\n",
      "torch.Size([7, 512, 2, 2, 2])\n"
     ]
    },
    {
     "name": "stderr",
     "output_type": "stream",
     "text": [
      "Metric loss/val improved by 0.738 >= min_delta = 0.0001. New best score: 1.243\n"
     ]
    },
    {
     "name": "stdout",
     "output_type": "stream",
     "text": [
      "torch.Size([8, 512, 2, 2, 2])\n",
      "torch.Size([8, 512, 2, 2, 2])'}\n",
      "torch.Size([8, 512, 2, 2, 2])'}\n",
      "torch.Size([8, 512, 2, 2, 2])'}\n",
      "torch.Size([8, 512, 2, 2, 2])'}\n",
      "torch.Size([8, 512, 2, 2, 2])'}\n",
      "torch.Size([8, 512, 2, 2, 2])'}\n",
      "torch.Size([8, 512, 2, 2, 2])}\n",
      "torch.Size([8, 512, 2, 2, 2])'}\n",
      "torch.Size([8, 512, 2, 2, 2])}\n",
      "torch.Size([8, 512, 2, 2, 2])8'}\n",
      "torch.Size([8, 512, 2, 2, 2])1'}\n",
      "torch.Size([8, 512, 2, 2, 2])2'}\n",
      "torch.Size([8, 512, 2, 2, 2])6'}\n",
      "torch.Size([8, 512, 2, 2, 2])'}\n",
      "torch.Size([8, 512, 2, 2, 2])9'}\n",
      "torch.Size([8, 512, 2, 2, 2])8'}\n",
      "torch.Size([8, 512, 2, 2, 2])1'}\n",
      "torch.Size([8, 512, 2, 2, 2])1'}\n",
      "torch.Size([8, 512, 2, 2, 2])2'}\n",
      "torch.Size([8, 512, 2, 2, 2])4'}\n",
      "torch.Size([8, 512, 2, 2, 2])3'}\n",
      "torch.Size([8, 512, 2, 2, 2])3'}\n",
      "torch.Size([8, 512, 2, 2, 2])3'}\n",
      "torch.Size([8, 512, 2, 2, 2])5'}\n",
      "torch.Size([8, 512, 2, 2, 2])6'}\n",
      "torch.Size([8, 512, 2, 2, 2])6'}\n",
      "torch.Size([8, 512, 2, 2, 2])5'}\n",
      "torch.Size([8, 512, 2, 2, 2])4'}\n",
      "torch.Size([8, 512, 2, 2, 2])4'}\n",
      "torch.Size([8, 512, 2, 2, 2])6'}\n",
      "torch.Size([8, 512, 2, 2, 2])9'}\n",
      "torch.Size([8, 512, 2, 2, 2])9'}\n",
      "torch.Size([8, 512, 2, 2, 2])7'}\n",
      "torch.Size([1, 512, 2, 2, 2])5'}\n",
      "torch.Size([8, 512, 2, 2, 2])5'}\n",
      "torch.Size([8, 512, 2, 2, 2])\n",
      "torch.Size([8, 512, 2, 2, 2])\n",
      "torch.Size([7, 512, 2, 2, 2])\n"
     ]
    },
    {
     "name": "stderr",
     "output_type": "stream",
     "text": [
      "Metric loss/val improved by 0.061 >= min_delta = 0.0001. New best score: 1.182\n"
     ]
    },
    {
     "name": "stdout",
     "output_type": "stream",
     "text": [
      "torch.Size([8, 512, 2, 2, 2])\n",
      "torch.Size([8, 512, 2, 2, 2])'}\n",
      "torch.Size([8, 512, 2, 2, 2])'}\n",
      "torch.Size([8, 512, 2, 2, 2])}\n",
      "torch.Size([8, 512, 2, 2, 2])}\n",
      "torch.Size([8, 512, 2, 2, 2])'}\n",
      "torch.Size([8, 512, 2, 2, 2])'}\n",
      "torch.Size([8, 512, 2, 2, 2])'}\n",
      "torch.Size([8, 512, 2, 2, 2])'}\n",
      "torch.Size([8, 512, 2, 2, 2])'}\n",
      "torch.Size([8, 512, 2, 2, 2])9'}\n",
      "torch.Size([8, 512, 2, 2, 2])9'}\n",
      "torch.Size([8, 512, 2, 2, 2])8'}\n",
      "torch.Size([8, 512, 2, 2, 2])8'}\n",
      "torch.Size([8, 512, 2, 2, 2])7'}\n",
      "torch.Size([8, 512, 2, 2, 2])6'}\n",
      "torch.Size([8, 512, 2, 2, 2])5'}\n",
      "torch.Size([8, 512, 2, 2, 2])5'}\n",
      "torch.Size([8, 512, 2, 2, 2])6'}\n",
      "torch.Size([8, 512, 2, 2, 2])7'}\n",
      "torch.Size([8, 512, 2, 2, 2])6'}\n",
      "torch.Size([8, 512, 2, 2, 2])7'}\n",
      "torch.Size([8, 512, 2, 2, 2])8'}\n",
      "torch.Size([8, 512, 2, 2, 2])9'}\n",
      "torch.Size([8, 512, 2, 2, 2])8'}\n",
      "torch.Size([8, 512, 2, 2, 2])6'}\n",
      "torch.Size([8, 512, 2, 2, 2])6'}\n",
      "torch.Size([8, 512, 2, 2, 2])4'}\n",
      "torch.Size([8, 512, 2, 2, 2])3'}\n",
      "torch.Size([8, 512, 2, 2, 2])5'}\n",
      "torch.Size([8, 512, 2, 2, 2])5'}\n",
      "torch.Size([8, 512, 2, 2, 2])4'}\n",
      "torch.Size([8, 512, 2, 2, 2])5'}\n",
      "torch.Size([8, 512, 2, 2, 2])4'}\n",
      "torch.Size([1, 512, 2, 2, 2])5'}\n",
      "torch.Size([8, 512, 2, 2, 2])6'}\n",
      "torch.Size([8, 512, 2, 2, 2])\n",
      "torch.Size([8, 512, 2, 2, 2])\n",
      "torch.Size([7, 512, 2, 2, 2])\n"
     ]
    },
    {
     "name": "stderr",
     "output_type": "stream",
     "text": [
      "Metric loss/val improved by 0.070 >= min_delta = 0.0001. New best score: 1.112\n"
     ]
    },
    {
     "name": "stdout",
     "output_type": "stream",
     "text": [
      "torch.Size([8, 512, 2, 2, 2])\n",
      "torch.Size([8, 512, 2, 2, 2])'}\n",
      "torch.Size([8, 512, 2, 2, 2])'}\n",
      "torch.Size([8, 512, 2, 2, 2])'}\n",
      "torch.Size([8, 512, 2, 2, 2])'}\n",
      "torch.Size([8, 512, 2, 2, 2])'}\n",
      "torch.Size([8, 512, 2, 2, 2])'}\n",
      "torch.Size([8, 512, 2, 2, 2])'}\n",
      "torch.Size([8, 512, 2, 2, 2])'}\n",
      "torch.Size([8, 512, 2, 2, 2])'}\n",
      "torch.Size([8, 512, 2, 2, 2])3'}\n",
      "torch.Size([8, 512, 2, 2, 2])2'}\n",
      "torch.Size([8, 512, 2, 2, 2])2'}\n",
      "torch.Size([8, 512, 2, 2, 2])2'}\n",
      "torch.Size([8, 512, 2, 2, 2])2'}\n",
      "torch.Size([8, 512, 2, 2, 2])2'}\n",
      "torch.Size([8, 512, 2, 2, 2])2'}\n",
      "torch.Size([8, 512, 2, 2, 2])1'}\n",
      "torch.Size([8, 512, 2, 2, 2])2'}\n",
      "torch.Size([8, 512, 2, 2, 2])2'}\n",
      "torch.Size([8, 512, 2, 2, 2])1'}\n",
      "torch.Size([8, 512, 2, 2, 2])2'}\n",
      "torch.Size([8, 512, 2, 2, 2])2'}\n",
      "torch.Size([8, 512, 2, 2, 2])2'}\n",
      "torch.Size([8, 512, 2, 2, 2])2'}\n",
      "torch.Size([8, 512, 2, 2, 2])1'}\n",
      "torch.Size([8, 512, 2, 2, 2])1'}\n",
      "torch.Size([8, 512, 2, 2, 2])1'}\n",
      "torch.Size([8, 512, 2, 2, 2])2'}\n",
      "torch.Size([8, 512, 2, 2, 2])2'}\n",
      "torch.Size([8, 512, 2, 2, 2])2'}\n",
      "torch.Size([8, 512, 2, 2, 2])3'}\n",
      "torch.Size([8, 512, 2, 2, 2])3'}\n",
      "torch.Size([8, 512, 2, 2, 2])4'}\n",
      "torch.Size([1, 512, 2, 2, 2])4'}\n",
      "torch.Size([8, 512, 2, 2, 2])4'}\n",
      "torch.Size([8, 512, 2, 2, 2])\n",
      "torch.Size([8, 512, 2, 2, 2])\n",
      "torch.Size([7, 512, 2, 2, 2])\n"
     ]
    },
    {
     "name": "stderr",
     "output_type": "stream",
     "text": [
      "Metric loss/val improved by 0.045 >= min_delta = 0.0001. New best score: 1.067\n"
     ]
    },
    {
     "name": "stdout",
     "output_type": "stream",
     "text": [
      "torch.Size([8, 512, 2, 2, 2])\n",
      "torch.Size([8, 512, 2, 2, 2])'}\n",
      "torch.Size([8, 512, 2, 2, 2])'}\n",
      "torch.Size([8, 512, 2, 2, 2])'}\n",
      "torch.Size([8, 512, 2, 2, 2])'}\n",
      "torch.Size([8, 512, 2, 2, 2])'}\n",
      "torch.Size([8, 512, 2, 2, 2])'}\n",
      "torch.Size([8, 512, 2, 2, 2])'}\n",
      "torch.Size([8, 512, 2, 2, 2])}\n",
      "torch.Size([8, 512, 2, 2, 2])}\n",
      "torch.Size([8, 512, 2, 2, 2])1'}\n",
      "torch.Size([8, 512, 2, 2, 2])1'}\n",
      "torch.Size([8, 512, 2, 2, 2])9'}\n",
      "torch.Size([8, 512, 2, 2, 2])9'}\n",
      "torch.Size([8, 512, 2, 2, 2])9'}\n",
      "torch.Size([8, 512, 2, 2, 2])8'}\n",
      "torch.Size([8, 512, 2, 2, 2])9'}\n",
      "torch.Size([8, 512, 2, 2, 2])8'}\n",
      "torch.Size([8, 512, 2, 2, 2])8'}\n",
      "torch.Size([8, 512, 2, 2, 2])9'}\n",
      "torch.Size([8, 512, 2, 2, 2])9'}\n",
      "torch.Size([8, 512, 2, 2, 2])1'}\n",
      "torch.Size([8, 512, 2, 2, 2])2'}\n",
      "torch.Size([8, 512, 2, 2, 2])3'}\n",
      "torch.Size([8, 512, 2, 2, 2])3'}\n",
      "torch.Size([8, 512, 2, 2, 2])3'}\n",
      "torch.Size([8, 512, 2, 2, 2])4'}\n",
      "torch.Size([8, 512, 2, 2, 2])4'}\n",
      "torch.Size([8, 512, 2, 2, 2])5'}\n",
      "torch.Size([8, 512, 2, 2, 2])4'}\n",
      "torch.Size([8, 512, 2, 2, 2])3'}\n",
      "torch.Size([8, 512, 2, 2, 2])4'}\n",
      "torch.Size([8, 512, 2, 2, 2])6'}\n",
      "torch.Size([8, 512, 2, 2, 2])5'}\n",
      "torch.Size([1, 512, 2, 2, 2])6'}\n",
      "torch.Size([8, 512, 2, 2, 2])6'}\n",
      "torch.Size([8, 512, 2, 2, 2])\n",
      "torch.Size([8, 512, 2, 2, 2])\n",
      "torch.Size([7, 512, 2, 2, 2])\n",
      "torch.Size([8, 512, 2, 2, 2])\n",
      "torch.Size([8, 512, 2, 2, 2])'}\n",
      "torch.Size([8, 512, 2, 2, 2])'}\n",
      "torch.Size([8, 512, 2, 2, 2])'}\n",
      "torch.Size([8, 512, 2, 2, 2])'}\n",
      "torch.Size([8, 512, 2, 2, 2])'}\n",
      "torch.Size([8, 512, 2, 2, 2])'}\n",
      "torch.Size([8, 512, 2, 2, 2])'}\n",
      "torch.Size([8, 512, 2, 2, 2])'}\n",
      "torch.Size([8, 512, 2, 2, 2])'}\n",
      "torch.Size([8, 512, 2, 2, 2])1'}\n",
      "torch.Size([8, 512, 2, 2, 2])1'}\n",
      "torch.Size([8, 512, 2, 2, 2])1'}\n",
      "torch.Size([8, 512, 2, 2, 2])1'}\n",
      "torch.Size([8, 512, 2, 2, 2])2'}\n",
      "torch.Size([8, 512, 2, 2, 2])2'}\n",
      "torch.Size([8, 512, 2, 2, 2])2'}\n",
      "torch.Size([8, 512, 2, 2, 2])2'}\n",
      "torch.Size([8, 512, 2, 2, 2])2'}\n",
      "torch.Size([8, 512, 2, 2, 2])2'}\n",
      "torch.Size([8, 512, 2, 2, 2])2'}\n",
      "torch.Size([8, 512, 2, 2, 2])2'}\n",
      "torch.Size([8, 512, 2, 2, 2])3'}\n",
      "torch.Size([8, 512, 2, 2, 2])3'}\n",
      "torch.Size([8, 512, 2, 2, 2])3'}\n",
      "torch.Size([8, 512, 2, 2, 2])2'}\n",
      "torch.Size([8, 512, 2, 2, 2])3'}\n",
      "torch.Size([8, 512, 2, 2, 2])2'}\n",
      "torch.Size([8, 512, 2, 2, 2])2'}\n",
      "torch.Size([8, 512, 2, 2, 2])2'}\n",
      "torch.Size([8, 512, 2, 2, 2])2'}\n",
      "torch.Size([8, 512, 2, 2, 2])2'}\n",
      "torch.Size([8, 512, 2, 2, 2])2'}\n",
      "torch.Size([8, 512, 2, 2, 2])2'}\n",
      "torch.Size([1, 512, 2, 2, 2])1'}\n",
      "torch.Size([8, 512, 2, 2, 2])1'}\n",
      "torch.Size([8, 512, 2, 2, 2])\n",
      "torch.Size([8, 512, 2, 2, 2])\n",
      "torch.Size([7, 512, 2, 2, 2])\n",
      "torch.Size([8, 512, 2, 2, 2])\n",
      "torch.Size([8, 512, 2, 2, 2])'}\n",
      "torch.Size([8, 512, 2, 2, 2])}\n",
      "torch.Size([8, 512, 2, 2, 2])'}\n",
      "torch.Size([8, 512, 2, 2, 2])'}\n",
      "torch.Size([8, 512, 2, 2, 2])}\n",
      "torch.Size([8, 512, 2, 2, 2])}\n",
      "torch.Size([8, 512, 2, 2, 2])'}\n",
      "torch.Size([8, 512, 2, 2, 2])'}\n",
      "torch.Size([8, 512, 2, 2, 2])'}\n",
      "torch.Size([8, 512, 2, 2, 2])'}\n",
      "torch.Size([8, 512, 2, 2, 2])9'}\n",
      "torch.Size([8, 512, 2, 2, 2])'}\n",
      "torch.Size([8, 512, 2, 2, 2])1'}\n",
      "torch.Size([8, 512, 2, 2, 2])'}\n",
      "torch.Size([8, 512, 2, 2, 2])'}\n",
      "torch.Size([8, 512, 2, 2, 2])'}\n",
      "torch.Size([8, 512, 2, 2, 2])'}\n",
      "torch.Size([8, 512, 2, 2, 2])'}\n",
      "torch.Size([8, 512, 2, 2, 2])'}\n",
      "torch.Size([8, 512, 2, 2, 2])1'}\n",
      "torch.Size([8, 512, 2, 2, 2])1'}\n",
      "torch.Size([8, 512, 2, 2, 2])'}\n",
      "torch.Size([8, 512, 2, 2, 2])'}\n",
      "torch.Size([8, 512, 2, 2, 2])1'}\n",
      "torch.Size([8, 512, 2, 2, 2])1'}\n",
      "torch.Size([8, 512, 2, 2, 2])1'}\n",
      "torch.Size([8, 512, 2, 2, 2])2'}\n",
      "torch.Size([8, 512, 2, 2, 2])2'}\n",
      "torch.Size([8, 512, 2, 2, 2])1'}\n",
      "torch.Size([8, 512, 2, 2, 2])1'}\n",
      "torch.Size([8, 512, 2, 2, 2])1'}\n",
      "torch.Size([8, 512, 2, 2, 2])1'}\n",
      "torch.Size([8, 512, 2, 2, 2])'}\n",
      "torch.Size([1, 512, 2, 2, 2])1'}\n",
      "torch.Size([8, 512, 2, 2, 2])1'}\n",
      "torch.Size([8, 512, 2, 2, 2])\n",
      "torch.Size([8, 512, 2, 2, 2])\n",
      "torch.Size([7, 512, 2, 2, 2])\n",
      "torch.Size([8, 512, 2, 2, 2])\n",
      "torch.Size([8, 512, 2, 2, 2])1'}\n",
      "torch.Size([8, 512, 2, 2, 2])'}\n",
      "torch.Size([8, 512, 2, 2, 2])1'}\n",
      "torch.Size([8, 512, 2, 2, 2])1'}\n",
      "torch.Size([8, 512, 2, 2, 2])1'}\n",
      "torch.Size([8, 512, 2, 2, 2])2'}\n",
      "torch.Size([8, 512, 2, 2, 2])1'}\n",
      "torch.Size([8, 512, 2, 2, 2])1'}\n",
      "torch.Size([8, 512, 2, 2, 2])'}\n",
      "torch.Size([8, 512, 2, 2, 2])1'}\n",
      "torch.Size([8, 512, 2, 2, 2])09'}\n",
      "torch.Size([8, 512, 2, 2, 2])1'}\n",
      "torch.Size([8, 512, 2, 2, 2])1'}\n",
      "torch.Size([8, 512, 2, 2, 2])1'}\n",
      "torch.Size([8, 512, 2, 2, 2])1'}\n",
      "torch.Size([8, 512, 2, 2, 2])1'}\n",
      "torch.Size([8, 512, 2, 2, 2])1'}\n",
      "torch.Size([8, 512, 2, 2, 2])09'}\n",
      "torch.Size([8, 512, 2, 2, 2])09'}\n",
      "torch.Size([8, 512, 2, 2, 2])1'}\n",
      "torch.Size([8, 512, 2, 2, 2])09'}\n",
      "torch.Size([8, 512, 2, 2, 2])1'}\n",
      "torch.Size([8, 512, 2, 2, 2])09'}\n",
      "torch.Size([8, 512, 2, 2, 2])1'}\n",
      "torch.Size([8, 512, 2, 2, 2])1'}\n",
      "torch.Size([8, 512, 2, 2, 2])1'}\n",
      "torch.Size([8, 512, 2, 2, 2])1'}\n",
      "torch.Size([8, 512, 2, 2, 2])1'}\n",
      "torch.Size([8, 512, 2, 2, 2])1'}\n",
      "torch.Size([8, 512, 2, 2, 2])11'}\n",
      "torch.Size([8, 512, 2, 2, 2])12'}\n",
      "torch.Size([8, 512, 2, 2, 2])11'}\n",
      "torch.Size([8, 512, 2, 2, 2])11'}\n",
      "torch.Size([1, 512, 2, 2, 2])12'}\n",
      "torch.Size([8, 512, 2, 2, 2])11'}\n",
      "torch.Size([8, 512, 2, 2, 2])\n",
      "torch.Size([8, 512, 2, 2, 2])\n",
      "torch.Size([7, 512, 2, 2, 2])\n",
      "torch.Size([8, 512, 2, 2, 2])\n",
      "torch.Size([8, 512, 2, 2, 2])1'}\n",
      "torch.Size([8, 512, 2, 2, 2])1'}\n",
      "torch.Size([8, 512, 2, 2, 2])1'}\n",
      "torch.Size([8, 512, 2, 2, 2])'}\n",
      "torch.Size([8, 512, 2, 2, 2])9'}\n",
      "torch.Size([8, 512, 2, 2, 2])'}\n",
      "torch.Size([8, 512, 2, 2, 2])9'}\n",
      "torch.Size([8, 512, 2, 2, 2])'}\n",
      "torch.Size([8, 512, 2, 2, 2])'}\n",
      "torch.Size([8, 512, 2, 2, 2])09'}\n",
      "torch.Size([8, 512, 2, 2, 2])1'}\n",
      "torch.Size([8, 512, 2, 2, 2])09'}\n",
      "torch.Size([8, 512, 2, 2, 2])1'}\n",
      "torch.Size([8, 512, 2, 2, 2])11'}\n",
      "torch.Size([8, 512, 2, 2, 2])1'}\n",
      "torch.Size([8, 512, 2, 2, 2])11'}\n",
      "torch.Size([8, 512, 2, 2, 2])11'}\n",
      "torch.Size([8, 512, 2, 2, 2])11'}\n",
      "torch.Size([8, 512, 2, 2, 2])12'}\n",
      "torch.Size([8, 512, 2, 2, 2])12'}\n",
      "torch.Size([8, 512, 2, 2, 2])12'}\n",
      "torch.Size([8, 512, 2, 2, 2])13'}\n",
      "torch.Size([8, 512, 2, 2, 2])13'}\n",
      "torch.Size([8, 512, 2, 2, 2])14'}\n",
      "torch.Size([8, 512, 2, 2, 2])15'}\n",
      "torch.Size([8, 512, 2, 2, 2])16'}\n",
      "torch.Size([8, 512, 2, 2, 2])16'}\n",
      "torch.Size([8, 512, 2, 2, 2])16'}\n",
      "torch.Size([8, 512, 2, 2, 2])16'}\n",
      "torch.Size([8, 512, 2, 2, 2])17'}\n",
      "torch.Size([8, 512, 2, 2, 2])16'}\n",
      "torch.Size([8, 512, 2, 2, 2])16'}\n",
      "torch.Size([8, 512, 2, 2, 2])16'}\n",
      "torch.Size([1, 512, 2, 2, 2])16'}\n",
      "torch.Size([8, 512, 2, 2, 2])16'}\n",
      "torch.Size([8, 512, 2, 2, 2])\n",
      "torch.Size([8, 512, 2, 2, 2])\n",
      "torch.Size([7, 512, 2, 2, 2])\n",
      "torch.Size([8, 512, 2, 2, 2])\n",
      "torch.Size([8, 512, 2, 2, 2])5'}\n",
      "torch.Size([8, 512, 2, 2, 2])5'}\n",
      "torch.Size([8, 512, 2, 2, 2])5'}\n",
      "torch.Size([8, 512, 2, 2, 2])4'}\n",
      "torch.Size([8, 512, 2, 2, 2])4'}\n",
      "torch.Size([8, 512, 2, 2, 2])4'}\n",
      "torch.Size([8, 512, 2, 2, 2])4'}\n",
      "torch.Size([8, 512, 2, 2, 2])3'}\n",
      "torch.Size([8, 512, 2, 2, 2])3'}\n",
      "torch.Size([8, 512, 2, 2, 2])12'}\n",
      "torch.Size([8, 512, 2, 2, 2])12'}\n",
      "torch.Size([8, 512, 2, 2, 2])12'}\n",
      "torch.Size([8, 512, 2, 2, 2])12'}\n",
      "torch.Size([8, 512, 2, 2, 2])11'}\n",
      "torch.Size([8, 512, 2, 2, 2])11'}\n",
      "torch.Size([8, 512, 2, 2, 2])11'}\n",
      "torch.Size([8, 512, 2, 2, 2])12'}\n",
      "torch.Size([8, 512, 2, 2, 2])11'}\n",
      "torch.Size([8, 512, 2, 2, 2])11'}\n",
      "torch.Size([8, 512, 2, 2, 2])11'}\n",
      "torch.Size([8, 512, 2, 2, 2])11'}\n",
      "torch.Size([8, 512, 2, 2, 2])11'}\n",
      "torch.Size([8, 512, 2, 2, 2])11'}\n",
      "torch.Size([8, 512, 2, 2, 2])11'}\n",
      "torch.Size([8, 512, 2, 2, 2])11'}\n",
      "torch.Size([8, 512, 2, 2, 2])11'}\n",
      "torch.Size([8, 512, 2, 2, 2])11'}\n",
      "torch.Size([8, 512, 2, 2, 2])11'}\n",
      "torch.Size([8, 512, 2, 2, 2])12'}\n",
      "torch.Size([8, 512, 2, 2, 2])12'}\n",
      "torch.Size([8, 512, 2, 2, 2])12'}\n",
      "torch.Size([8, 512, 2, 2, 2])11'}\n",
      "torch.Size([8, 512, 2, 2, 2])12'}\n",
      "torch.Size([1, 512, 2, 2, 2])12'}\n",
      "torch.Size([8, 512, 2, 2, 2])11'}\n",
      "torch.Size([8, 512, 2, 2, 2])\n",
      "torch.Size([8, 512, 2, 2, 2])\n",
      "torch.Size([7, 512, 2, 2, 2])\n",
      "torch.Size([8, 512, 2, 2, 2])\n",
      "torch.Size([8, 512, 2, 2, 2])1'}\n",
      "torch.Size([8, 512, 2, 2, 2])1'}\n",
      "torch.Size([8, 512, 2, 2, 2])1'}\n",
      "torch.Size([8, 512, 2, 2, 2])1'}\n",
      "torch.Size([8, 512, 2, 2, 2])1'}\n",
      "torch.Size([8, 512, 2, 2, 2])1'}\n",
      "torch.Size([8, 512, 2, 2, 2])1'}\n",
      "torch.Size([8, 512, 2, 2, 2])2'}\n",
      "torch.Size([8, 512, 2, 2, 2])2'}\n",
      "torch.Size([8, 512, 2, 2, 2])11'}\n",
      "torch.Size([8, 512, 2, 2, 2])11'}\n",
      "torch.Size([8, 512, 2, 2, 2])1'}\n",
      "torch.Size([8, 512, 2, 2, 2])1'}\n",
      "torch.Size([8, 512, 2, 2, 2])1'}\n",
      "torch.Size([8, 512, 2, 2, 2])09'}\n",
      "torch.Size([8, 512, 2, 2, 2])09'}\n",
      "torch.Size([8, 512, 2, 2, 2])09'}\n",
      "torch.Size([8, 512, 2, 2, 2])09'}\n",
      "torch.Size([8, 512, 2, 2, 2])1'}\n",
      "torch.Size([8, 512, 2, 2, 2])1'}\n",
      "torch.Size([8, 512, 2, 2, 2])1'}\n",
      "torch.Size([8, 512, 2, 2, 2])11'}\n",
      "torch.Size([8, 512, 2, 2, 2])1'}\n",
      "torch.Size([8, 512, 2, 2, 2])11'}\n",
      "torch.Size([8, 512, 2, 2, 2])1'}\n",
      "torch.Size([8, 512, 2, 2, 2])1'}\n",
      "torch.Size([8, 512, 2, 2, 2])1'}\n",
      "torch.Size([8, 512, 2, 2, 2])1'}\n",
      "torch.Size([8, 512, 2, 2, 2])1'}\n",
      "torch.Size([8, 512, 2, 2, 2])1'}\n",
      "torch.Size([8, 512, 2, 2, 2])11'}\n",
      "torch.Size([8, 512, 2, 2, 2])11'}\n",
      "torch.Size([8, 512, 2, 2, 2])11'}\n",
      "torch.Size([1, 512, 2, 2, 2])12'}\n",
      "torch.Size([8, 512, 2, 2, 2])11'}\n",
      "torch.Size([8, 512, 2, 2, 2])\n",
      "torch.Size([8, 512, 2, 2, 2])\n",
      "torch.Size([7, 512, 2, 2, 2])\n",
      "torch.Size([8, 512, 2, 2, 2])\n",
      "torch.Size([8, 512, 2, 2, 2])2'}\n",
      "torch.Size([8, 512, 2, 2, 2])2'}\n",
      "torch.Size([8, 512, 2, 2, 2])1'}\n",
      "torch.Size([8, 512, 2, 2, 2])1'}\n",
      "torch.Size([8, 512, 2, 2, 2])1'}\n",
      "torch.Size([8, 512, 2, 2, 2])'}\n",
      "torch.Size([8, 512, 2, 2, 2])'}\n",
      "torch.Size([8, 512, 2, 2, 2])1'}\n",
      "torch.Size([8, 512, 2, 2, 2])1'}\n",
      "torch.Size([8, 512, 2, 2, 2])11'}\n",
      "torch.Size([8, 512, 2, 2, 2])12'}\n",
      "torch.Size([8, 512, 2, 2, 2])12'}\n",
      "torch.Size([8, 512, 2, 2, 2])12'}\n",
      "torch.Size([8, 512, 2, 2, 2])11'}\n",
      "torch.Size([8, 512, 2, 2, 2])11'}\n",
      "torch.Size([8, 512, 2, 2, 2])11'}\n",
      "torch.Size([8, 512, 2, 2, 2])11'}\n",
      "torch.Size([8, 512, 2, 2, 2])1'}\n",
      "torch.Size([8, 512, 2, 2, 2])1'}\n",
      "torch.Size([8, 512, 2, 2, 2])11'}\n",
      "torch.Size([8, 512, 2, 2, 2])11'}\n",
      "torch.Size([8, 512, 2, 2, 2])11'}\n",
      "torch.Size([8, 512, 2, 2, 2])12'}\n",
      "torch.Size([8, 512, 2, 2, 2])11'}\n",
      "torch.Size([8, 512, 2, 2, 2])12'}\n",
      "torch.Size([8, 512, 2, 2, 2])12'}\n",
      "torch.Size([8, 512, 2, 2, 2])12'}\n",
      "torch.Size([8, 512, 2, 2, 2])11'}\n",
      "torch.Size([8, 512, 2, 2, 2])11'}\n",
      "torch.Size([8, 512, 2, 2, 2])11'}\n",
      "torch.Size([8, 512, 2, 2, 2])11'}\n",
      "torch.Size([8, 512, 2, 2, 2])11'}\n",
      "torch.Size([8, 512, 2, 2, 2])11'}\n",
      "torch.Size([1, 512, 2, 2, 2])11'}\n",
      "torch.Size([8, 512, 2, 2, 2])11'}\n",
      "torch.Size([8, 512, 2, 2, 2])\n",
      "torch.Size([8, 512, 2, 2, 2])\n",
      "torch.Size([7, 512, 2, 2, 2])\n",
      "torch.Size([8, 512, 2, 2, 2])\n",
      "torch.Size([8, 512, 2, 2, 2])1'}\n",
      "torch.Size([8, 512, 2, 2, 2])1'}\n",
      "torch.Size([8, 512, 2, 2, 2])1'}\n",
      "torch.Size([8, 512, 2, 2, 2])1'}\n",
      "torch.Size([8, 512, 2, 2, 2])'}\n",
      "torch.Size([8, 512, 2, 2, 2])'}\n",
      "torch.Size([8, 512, 2, 2, 2])'}\n",
      "torch.Size([8, 512, 2, 2, 2])9'}\n",
      "torch.Size([8, 512, 2, 2, 2])9'}\n",
      "torch.Size([8, 512, 2, 2, 2])09'}\n",
      "torch.Size([8, 512, 2, 2, 2])08'}\n",
      "torch.Size([8, 512, 2, 2, 2])08'}\n",
      "torch.Size([8, 512, 2, 2, 2])08'}\n",
      "torch.Size([8, 512, 2, 2, 2])08'}\n",
      "torch.Size([8, 512, 2, 2, 2])08'}\n",
      "torch.Size([8, 512, 2, 2, 2])09'}\n",
      "torch.Size([8, 512, 2, 2, 2])09'}\n",
      "torch.Size([8, 512, 2, 2, 2])09'}\n",
      "torch.Size([8, 512, 2, 2, 2])08'}\n",
      "torch.Size([8, 512, 2, 2, 2])08'}\n",
      "torch.Size([8, 512, 2, 2, 2])09'}\n",
      "torch.Size([8, 512, 2, 2, 2])09'}\n",
      "torch.Size([8, 512, 2, 2, 2])1'}\n",
      "torch.Size([8, 512, 2, 2, 2])1'}\n",
      "torch.Size([8, 512, 2, 2, 2])11'}\n",
      "torch.Size([8, 512, 2, 2, 2])12'}\n",
      "torch.Size([8, 512, 2, 2, 2])12'}\n",
      "torch.Size([8, 512, 2, 2, 2])13'}\n",
      "torch.Size([8, 512, 2, 2, 2])13'}\n",
      "torch.Size([8, 512, 2, 2, 2])13'}\n",
      "torch.Size([8, 512, 2, 2, 2])14'}\n",
      "torch.Size([8, 512, 2, 2, 2])13'}\n",
      "torch.Size([8, 512, 2, 2, 2])13'}\n",
      "torch.Size([1, 512, 2, 2, 2])13'}\n",
      "torch.Size([8, 512, 2, 2, 2])14'}\n",
      "torch.Size([8, 512, 2, 2, 2])\n",
      "torch.Size([8, 512, 2, 2, 2])\n",
      "torch.Size([7, 512, 2, 2, 2])\n",
      "torch.Size([8, 512, 2, 2, 2])\n",
      "torch.Size([8, 512, 2, 2, 2])3'}\n",
      "torch.Size([8, 512, 2, 2, 2])3'}\n",
      "torch.Size([8, 512, 2, 2, 2])4'}\n",
      "torch.Size([8, 512, 2, 2, 2])3'}\n",
      "torch.Size([8, 512, 2, 2, 2])4'}\n",
      "torch.Size([8, 512, 2, 2, 2])3'}\n",
      "torch.Size([8, 512, 2, 2, 2])3'}\n",
      "torch.Size([8, 512, 2, 2, 2])2'}\n",
      "torch.Size([8, 512, 2, 2, 2])2'}\n",
      "torch.Size([8, 512, 2, 2, 2])12'}\n",
      "torch.Size([8, 512, 2, 2, 2])12'}\n",
      "torch.Size([8, 512, 2, 2, 2])11'}\n",
      "torch.Size([8, 512, 2, 2, 2])12'}\n",
      "torch.Size([8, 512, 2, 2, 2])12'}\n",
      "torch.Size([8, 512, 2, 2, 2])11'}\n",
      "torch.Size([8, 512, 2, 2, 2])11'}\n",
      "torch.Size([8, 512, 2, 2, 2])11'}\n",
      "torch.Size([8, 512, 2, 2, 2])11'}\n",
      "torch.Size([8, 512, 2, 2, 2])11'}\n",
      "torch.Size([8, 512, 2, 2, 2])1'}\n",
      "torch.Size([8, 512, 2, 2, 2])1'}\n",
      "torch.Size([8, 512, 2, 2, 2])1'}\n",
      "torch.Size([8, 512, 2, 2, 2])1'}\n",
      "torch.Size([8, 512, 2, 2, 2])11'}\n",
      "torch.Size([8, 512, 2, 2, 2])1'}\n",
      "torch.Size([8, 512, 2, 2, 2])1'}\n",
      "torch.Size([8, 512, 2, 2, 2])1'}\n",
      "torch.Size([8, 512, 2, 2, 2])1'}\n",
      "torch.Size([8, 512, 2, 2, 2])1'}\n",
      "torch.Size([8, 512, 2, 2, 2])1'}\n",
      "torch.Size([8, 512, 2, 2, 2])1'}\n",
      "torch.Size([8, 512, 2, 2, 2])1'}\n",
      "torch.Size([8, 512, 2, 2, 2])1'}\n",
      "torch.Size([1, 512, 2, 2, 2])1'}\n",
      "torch.Size([8, 512, 2, 2, 2])1'}\n",
      "torch.Size([8, 512, 2, 2, 2])\n",
      "torch.Size([8, 512, 2, 2, 2])\n",
      "torch.Size([7, 512, 2, 2, 2])\n"
     ]
    },
    {
     "name": "stderr",
     "output_type": "stream",
     "text": [
      "Monitored metric loss/val did not improve in the last 10 records. Best score: 1.067. Signaling Trainer to stop.\n",
      "GPU available: True, used: True\n",
      "TPU available: False, using: 0 TPU cores\n",
      "LOCAL_RANK: 0 - CUDA_VISIBLE_DEVICES: [0]\n",
      "\n",
      "  | Name               | Type             | Params\n",
      "--------------------------------------------------------\n",
      "0 | model              | VGG              | 65.1 M\n",
      "1 | criteria           | CrossEntropyLoss | 0     \n",
      "2 | train_metrics      | MetricCollection | 0     \n",
      "3 | valid_metrics      | MetricCollection | 0     \n",
      "4 | valid_dummy_metric | AUROC            | 0     \n",
      "--------------------------------------------------------\n",
      "65.1 M    Trainable params\n",
      "0         Non-trainable params\n",
      "65.1 M    Total params\n",
      "260.447   Total estimated model params size (MB)\n"
     ]
    },
    {
     "name": "stdout",
     "output_type": "stream",
     "text": [
      "Architecture [VGG] was created\n",
      "***Defined hyperparameters:***\n",
      "\"arch\":                {'name': 'vgg16', 'args': {'num_channels': 1, 'num_classes': 3}}\n",
      "\"checkpoint_path\":     None\n",
      "\"class_weights\":       tensor([1.2466, 0.6500, 1.5167], device='cuda:0')\n",
      "\"hp_metrics\":          ['loss/train', 'loss/val', 'Accuracy/val', 'AUROC/val', 'Precision/val', 'Recall/val', 'Specificity/val']\n",
      "\"loss\":                {'type': 'CrossEntropyLoss', 'args': {'weight': True}}\n",
      "\"optimizer\":           {'type': 'Adam', 'args': {'lr': 0.02, 'weight_decay': 0, 'amsgrad': False}}\n",
      "\"roi_hparams\":         {'enable': False, 'output_shape': [3, 3, 3], 'boundary_boxes': []}\n",
      "\"weight_distribution\": None\n",
      "Enabled callbacks:  ['LitProgressBar', 'EarlyStopping']\n",
      "Dataloader fold: 2\n",
      "torch.Size([8, 512, 2, 2, 2])\n",
      "torch.Size([8, 512, 2, 2, 2])}\n",
      "torch.Size([8, 512, 2, 2, 2])e+19'}\n",
      "torch.Size([8, 512, 2, 2, 2])e+19'}\n",
      "torch.Size([8, 512, 2, 2, 2])e+19'}\n",
      "torch.Size([8, 512, 2, 2, 2])e+19'}\n",
      "torch.Size([8, 512, 2, 2, 2])e+18'}\n",
      "torch.Size([8, 512, 2, 2, 2])e+18'}\n",
      "torch.Size([8, 512, 2, 2, 2])e+18'}\n",
      "torch.Size([8, 512, 2, 2, 2])e+18'}\n",
      "torch.Size([8, 512, 2, 2, 2])7e+18'}\n",
      "torch.Size([8, 512, 2, 2, 2])5e+18'}\n",
      "torch.Size([8, 512, 2, 2, 2])1e+18'}\n",
      "torch.Size([8, 512, 2, 2, 2])4e+18'}\n",
      "torch.Size([8, 512, 2, 2, 2])2e+18'}\n",
      "torch.Size([8, 512, 2, 2, 2])5e+18'}\n",
      "torch.Size([8, 512, 2, 2, 2])1e+18'}\n",
      "torch.Size([8, 512, 2, 2, 2])e+18'}\n",
      "torch.Size([8, 512, 2, 2, 2])1e+18'}\n",
      "torch.Size([8, 512, 2, 2, 2])4e+18'}\n",
      "torch.Size([8, 512, 2, 2, 2])9e+18'}\n",
      "torch.Size([8, 512, 2, 2, 2])9e+18'}\n",
      "torch.Size([8, 512, 2, 2, 2])9e+09'}\n",
      "torch.Size([8, 512, 2, 2, 2])4e+09'}\n",
      "torch.Size([8, 512, 2, 2, 2])5e+09'}\n",
      "torch.Size([8, 512, 2, 2, 2])2e+09'}\n",
      "torch.Size([8, 512, 2, 2, 2])3e+09'}\n",
      "torch.Size([8, 512, 2, 2, 2])7e+09'}\n",
      "torch.Size([8, 512, 2, 2, 2])5e+09'}\n",
      "torch.Size([8, 512, 2, 2, 2])9e+09'}\n",
      "torch.Size([8, 512, 2, 2, 2])7e+09'}\n",
      "torch.Size([8, 512, 2, 2, 2])3e+09'}\n",
      "torch.Size([8, 512, 2, 2, 2])5e+09'}\n",
      "torch.Size([8, 512, 2, 2, 2])8e+09'}\n",
      "torch.Size([1, 512, 2, 2, 2])1e+09'}\n",
      "torch.Size([8, 512, 2, 2, 2])8e+09'}\n",
      "torch.Size([8, 512, 2, 2, 2])\n",
      "torch.Size([8, 512, 2, 2, 2])\n",
      "torch.Size([7, 512, 2, 2, 2])\n"
     ]
    },
    {
     "name": "stderr",
     "output_type": "stream",
     "text": [
      "Metric loss/val improved. New best score: 2057210752.000\n"
     ]
    },
    {
     "name": "stdout",
     "output_type": "stream",
     "text": [
      "torch.Size([8, 512, 2, 2, 2])\n",
      "torch.Size([8, 512, 2, 2, 2])e+09'}\n",
      "torch.Size([8, 512, 2, 2, 2])e+09'}\n",
      "torch.Size([8, 512, 2, 2, 2])e+09'}\n",
      "torch.Size([8, 512, 2, 2, 2])e+09'}\n",
      "torch.Size([8, 512, 2, 2, 2])e+09'}\n",
      "torch.Size([8, 512, 2, 2, 2])e+09'}\n",
      "torch.Size([8, 512, 2, 2, 2])e+09'}\n",
      "torch.Size([8, 512, 2, 2, 2])e+09'}\n",
      "torch.Size([8, 512, 2, 2, 2])+09'}\n",
      "torch.Size([8, 512, 2, 2, 2])2e+09'}\n",
      "torch.Size([8, 512, 2, 2, 2])2e+09'}\n",
      "torch.Size([8, 512, 2, 2, 2])2e+09'}\n",
      "torch.Size([8, 512, 2, 2, 2])8e+09'}\n",
      "torch.Size([8, 512, 2, 2, 2])4e+09'}\n",
      "torch.Size([8, 512, 2, 2, 2])e+08'}\n",
      "torch.Size([8, 512, 2, 2, 2])4e+08'}\n",
      "torch.Size([8, 512, 2, 2, 2])6e+08'}\n",
      "torch.Size([8, 512, 2, 2, 2])2e+08'}\n",
      "torch.Size([8, 512, 2, 2, 2])2e+08'}\n",
      "torch.Size([8, 512, 2, 2, 2])2e+08'}\n",
      "torch.Size([8, 512, 2, 2, 2])e+08'}\n",
      "torch.Size([8, 512, 2, 2, 2])e+08'}\n",
      "torch.Size([8, 512, 2, 2, 2])6e+08'}\n",
      "torch.Size([8, 512, 2, 2, 2])9e+08'}\n",
      "torch.Size([8, 512, 2, 2, 2])9e+08'}\n",
      "torch.Size([8, 512, 2, 2, 2])9e+08'}\n",
      "torch.Size([8, 512, 2, 2, 2])9e+08'}\n",
      "torch.Size([8, 512, 2, 2, 2])9e+08'}\n",
      "torch.Size([8, 512, 2, 2, 2])e+08'}\n",
      "torch.Size([8, 512, 2, 2, 2])1e+08'}\n",
      "torch.Size([8, 512, 2, 2, 2])1e+08'}\n",
      "torch.Size([8, 512, 2, 2, 2])1e+08'}\n",
      "torch.Size([8, 512, 2, 2, 2])6e+07'}\n",
      "torch.Size([1, 512, 2, 2, 2])6'}\n",
      "torch.Size([8, 512, 2, 2, 2])3'}\n",
      "torch.Size([8, 512, 2, 2, 2])\n",
      "torch.Size([8, 512, 2, 2, 2])\n",
      "torch.Size([7, 512, 2, 2, 2])\n"
     ]
    },
    {
     "name": "stderr",
     "output_type": "stream",
     "text": [
      "Metric loss/val improved by 2057210752.000 >= min_delta = 0.0001. New best score: 1.776\n"
     ]
    },
    {
     "name": "stdout",
     "output_type": "stream",
     "text": [
      "torch.Size([8, 512, 2, 2, 2])\n",
      "torch.Size([8, 512, 2, 2, 2])'}\n",
      "torch.Size([8, 512, 2, 2, 2])'}\n",
      "torch.Size([8, 512, 2, 2, 2])'}\n",
      "torch.Size([8, 512, 2, 2, 2])'}\n",
      "torch.Size([8, 512, 2, 2, 2])'}\n",
      "torch.Size([8, 512, 2, 2, 2])'}\n",
      "torch.Size([8, 512, 2, 2, 2])'}\n",
      "torch.Size([8, 512, 2, 2, 2])'}\n",
      "torch.Size([8, 512, 2, 2, 2])'}\n",
      "torch.Size([8, 512, 2, 2, 2])8'}\n",
      "torch.Size([8, 512, 2, 2, 2])2'}\n",
      "torch.Size([8, 512, 2, 2, 2])3'}\n",
      "torch.Size([8, 512, 2, 2, 2])2'}\n",
      "torch.Size([8, 512, 2, 2, 2])4'}\n",
      "torch.Size([8, 512, 2, 2, 2])7'}\n",
      "torch.Size([8, 512, 2, 2, 2])2'}\n",
      "torch.Size([8, 512, 2, 2, 2])5'}\n",
      "torch.Size([8, 512, 2, 2, 2])3'}\n",
      "torch.Size([8, 512, 2, 2, 2])'}\n",
      "torch.Size([8, 512, 2, 2, 2])1'}\n",
      "torch.Size([8, 512, 2, 2, 2])1'}\n",
      "torch.Size([8, 512, 2, 2, 2])6'}\n",
      "torch.Size([8, 512, 2, 2, 2])7'}\n",
      "torch.Size([8, 512, 2, 2, 2])8'}\n",
      "torch.Size([8, 512, 2, 2, 2])6'}\n",
      "torch.Size([8, 512, 2, 2, 2])2'}\n",
      "torch.Size([8, 512, 2, 2, 2])9'}\n",
      "torch.Size([8, 512, 2, 2, 2])2'}\n",
      "torch.Size([8, 512, 2, 2, 2])6'}\n",
      "torch.Size([8, 512, 2, 2, 2])2'}\n",
      "torch.Size([8, 512, 2, 2, 2])6'}\n",
      "torch.Size([8, 512, 2, 2, 2])8'}\n",
      "torch.Size([8, 512, 2, 2, 2])5'}\n",
      "torch.Size([1, 512, 2, 2, 2])8'}\n",
      "torch.Size([8, 512, 2, 2, 2])9'}\n",
      "torch.Size([8, 512, 2, 2, 2])\n",
      "torch.Size([8, 512, 2, 2, 2])\n",
      "torch.Size([7, 512, 2, 2, 2])\n"
     ]
    },
    {
     "name": "stderr",
     "output_type": "stream",
     "text": [
      "Metric loss/val improved by 0.709 >= min_delta = 0.0001. New best score: 1.067\n"
     ]
    },
    {
     "name": "stdout",
     "output_type": "stream",
     "text": [
      "torch.Size([8, 512, 2, 2, 2])\n",
      "torch.Size([8, 512, 2, 2, 2])'}\n",
      "torch.Size([8, 512, 2, 2, 2])'}\n",
      "torch.Size([8, 512, 2, 2, 2])'}\n",
      "torch.Size([8, 512, 2, 2, 2])'}\n",
      "torch.Size([8, 512, 2, 2, 2])}\n",
      "torch.Size([8, 512, 2, 2, 2])'}\n",
      "torch.Size([8, 512, 2, 2, 2])'}\n",
      "torch.Size([8, 512, 2, 2, 2])'}\n",
      "torch.Size([8, 512, 2, 2, 2])}\n",
      "torch.Size([8, 512, 2, 2, 2])8'}\n",
      "torch.Size([8, 512, 2, 2, 2])'}\n",
      "torch.Size([8, 512, 2, 2, 2])9'}\n",
      "torch.Size([8, 512, 2, 2, 2])9'}\n",
      "torch.Size([8, 512, 2, 2, 2])5'}\n",
      "torch.Size([8, 512, 2, 2, 2])4'}\n",
      "torch.Size([8, 512, 2, 2, 2])5'}\n",
      "torch.Size([8, 512, 2, 2, 2])3'}\n",
      "torch.Size([8, 512, 2, 2, 2])5'}\n",
      "torch.Size([8, 512, 2, 2, 2])4'}\n",
      "torch.Size([8, 512, 2, 2, 2])3'}\n",
      "torch.Size([8, 512, 2, 2, 2])5'}\n",
      "torch.Size([8, 512, 2, 2, 2])7'}\n",
      "torch.Size([8, 512, 2, 2, 2])6'}\n",
      "torch.Size([8, 512, 2, 2, 2])6'}\n",
      "torch.Size([8, 512, 2, 2, 2])5'}\n",
      "torch.Size([8, 512, 2, 2, 2])6'}\n",
      "torch.Size([8, 512, 2, 2, 2])4'}\n",
      "torch.Size([8, 512, 2, 2, 2])5'}\n",
      "torch.Size([8, 512, 2, 2, 2])4'}\n",
      "torch.Size([8, 512, 2, 2, 2])2'}\n",
      "torch.Size([8, 512, 2, 2, 2])'}\n",
      "torch.Size([8, 512, 2, 2, 2])7'}\n",
      "torch.Size([8, 512, 2, 2, 2])7'}\n",
      "torch.Size([1, 512, 2, 2, 2])4'}\n",
      "torch.Size([8, 512, 2, 2, 2])5'}\n",
      "torch.Size([8, 512, 2, 2, 2])\n",
      "torch.Size([8, 512, 2, 2, 2])\n",
      "torch.Size([7, 512, 2, 2, 2])\n"
     ]
    },
    {
     "name": "stderr",
     "output_type": "stream",
     "text": [
      "Metric loss/val improved by 0.009 >= min_delta = 0.0001. New best score: 1.058\n"
     ]
    },
    {
     "name": "stdout",
     "output_type": "stream",
     "text": [
      "torch.Size([8, 512, 2, 2, 2])\n",
      "torch.Size([8, 512, 2, 2, 2])'}\n",
      "torch.Size([8, 512, 2, 2, 2])'}\n",
      "torch.Size([8, 512, 2, 2, 2])'}\n",
      "torch.Size([8, 512, 2, 2, 2])'}\n",
      "torch.Size([8, 512, 2, 2, 2])'}\n",
      "torch.Size([8, 512, 2, 2, 2])'}\n",
      "torch.Size([8, 512, 2, 2, 2])'}\n",
      "torch.Size([8, 512, 2, 2, 2])'}\n",
      "torch.Size([8, 512, 2, 2, 2])'}\n",
      "torch.Size([8, 512, 2, 2, 2])2'}\n",
      "torch.Size([8, 512, 2, 2, 2])1'}\n",
      "torch.Size([8, 512, 2, 2, 2])1'}\n",
      "torch.Size([8, 512, 2, 2, 2])2'}\n",
      "torch.Size([8, 512, 2, 2, 2])1'}\n",
      "torch.Size([8, 512, 2, 2, 2])5'}\n",
      "torch.Size([8, 512, 2, 2, 2])4'}\n",
      "torch.Size([8, 512, 2, 2, 2])4'}\n",
      "torch.Size([8, 512, 2, 2, 2])5'}\n",
      "torch.Size([8, 512, 2, 2, 2])4'}\n",
      "torch.Size([8, 512, 2, 2, 2])3'}\n",
      "torch.Size([8, 512, 2, 2, 2])4'}\n",
      "torch.Size([8, 512, 2, 2, 2])5'}\n",
      "torch.Size([8, 512, 2, 2, 2])5'}\n",
      "torch.Size([8, 512, 2, 2, 2])5'}\n",
      "torch.Size([8, 512, 2, 2, 2])6'}\n",
      "torch.Size([8, 512, 2, 2, 2])5'}\n",
      "torch.Size([8, 512, 2, 2, 2])6'}\n",
      "torch.Size([8, 512, 2, 2, 2])5'}\n",
      "torch.Size([8, 512, 2, 2, 2])6'}\n",
      "torch.Size([8, 512, 2, 2, 2])5'}\n",
      "torch.Size([8, 512, 2, 2, 2])5'}\n",
      "torch.Size([8, 512, 2, 2, 2])5'}\n",
      "torch.Size([8, 512, 2, 2, 2])5'}\n",
      "torch.Size([1, 512, 2, 2, 2])4'}\n",
      "torch.Size([8, 512, 2, 2, 2])8'}\n",
      "torch.Size([8, 512, 2, 2, 2])\n",
      "torch.Size([8, 512, 2, 2, 2])\n",
      "torch.Size([7, 512, 2, 2, 2])\n",
      "torch.Size([8, 512, 2, 2, 2])\n",
      "torch.Size([8, 512, 2, 2, 2])'}\n",
      "torch.Size([8, 512, 2, 2, 2])'}\n",
      "torch.Size([8, 512, 2, 2, 2])'}\n",
      "torch.Size([8, 512, 2, 2, 2])'}\n",
      "torch.Size([8, 512, 2, 2, 2])'}\n",
      "torch.Size([8, 512, 2, 2, 2])'}\n",
      "torch.Size([8, 512, 2, 2, 2])'}\n",
      "torch.Size([8, 512, 2, 2, 2])'}\n",
      "torch.Size([8, 512, 2, 2, 2])'}\n",
      "torch.Size([8, 512, 2, 2, 2])3'}\n",
      "torch.Size([8, 512, 2, 2, 2])3'}\n",
      "torch.Size([8, 512, 2, 2, 2])4'}\n",
      "torch.Size([8, 512, 2, 2, 2])5'}\n",
      "torch.Size([8, 512, 2, 2, 2])4'}\n",
      "torch.Size([8, 512, 2, 2, 2])3'}\n",
      "torch.Size([8, 512, 2, 2, 2])2'}\n",
      "torch.Size([8, 512, 2, 2, 2])2'}\n",
      "torch.Size([8, 512, 2, 2, 2])3'}\n",
      "torch.Size([8, 512, 2, 2, 2])3'}\n",
      "torch.Size([8, 512, 2, 2, 2])6'}\n",
      "torch.Size([8, 512, 2, 2, 2])5'}\n",
      "torch.Size([8, 512, 2, 2, 2])5'}\n",
      "torch.Size([8, 512, 2, 2, 2])5'}\n",
      "torch.Size([8, 512, 2, 2, 2])5'}\n",
      "torch.Size([8, 512, 2, 2, 2])5'}\n",
      "torch.Size([8, 512, 2, 2, 2])7'}\n",
      "torch.Size([8, 512, 2, 2, 2])7'}\n",
      "torch.Size([8, 512, 2, 2, 2])7'}\n",
      "torch.Size([8, 512, 2, 2, 2])6'}\n",
      "torch.Size([8, 512, 2, 2, 2])7'}\n",
      "torch.Size([8, 512, 2, 2, 2])7'}\n",
      "torch.Size([8, 512, 2, 2, 2])5'}\n",
      "torch.Size([8, 512, 2, 2, 2])4'}\n",
      "torch.Size([1, 512, 2, 2, 2])4'}\n",
      "torch.Size([8, 512, 2, 2, 2])4'}\n",
      "torch.Size([8, 512, 2, 2, 2])\n",
      "torch.Size([8, 512, 2, 2, 2])\n",
      "torch.Size([7, 512, 2, 2, 2])\n",
      "torch.Size([8, 512, 2, 2, 2])\n",
      "torch.Size([8, 512, 2, 2, 2])'}\n",
      "torch.Size([8, 512, 2, 2, 2])'}\n",
      "torch.Size([8, 512, 2, 2, 2])'}\n",
      "torch.Size([8, 512, 2, 2, 2])'}\n",
      "torch.Size([8, 512, 2, 2, 2])'}\n",
      "torch.Size([8, 512, 2, 2, 2])'}\n",
      "torch.Size([8, 512, 2, 2, 2])'}\n",
      "torch.Size([8, 512, 2, 2, 2])'}\n",
      "torch.Size([8, 512, 2, 2, 2])'}\n",
      "torch.Size([8, 512, 2, 2, 2])2'}\n",
      "torch.Size([8, 512, 2, 2, 2])2'}\n",
      "torch.Size([8, 512, 2, 2, 2])2'}\n",
      "torch.Size([8, 512, 2, 2, 2])2'}\n",
      "torch.Size([8, 512, 2, 2, 2])2'}\n",
      "torch.Size([8, 512, 2, 2, 2])1'}\n",
      "torch.Size([8, 512, 2, 2, 2])1'}\n",
      "torch.Size([8, 512, 2, 2, 2])1'}\n",
      "torch.Size([8, 512, 2, 2, 2])2'}\n",
      "torch.Size([8, 512, 2, 2, 2])2'}\n",
      "torch.Size([8, 512, 2, 2, 2])2'}\n",
      "torch.Size([8, 512, 2, 2, 2])2'}\n",
      "torch.Size([8, 512, 2, 2, 2])2'}\n",
      "torch.Size([8, 512, 2, 2, 2])1'}\n",
      "torch.Size([8, 512, 2, 2, 2])1'}\n",
      "torch.Size([8, 512, 2, 2, 2])1'}\n",
      "torch.Size([8, 512, 2, 2, 2])1'}\n",
      "torch.Size([8, 512, 2, 2, 2])2'}\n",
      "torch.Size([8, 512, 2, 2, 2])2'}\n",
      "torch.Size([8, 512, 2, 2, 2])1'}\n",
      "torch.Size([8, 512, 2, 2, 2])2'}\n",
      "torch.Size([8, 512, 2, 2, 2])2'}\n",
      "torch.Size([8, 512, 2, 2, 2])2'}\n",
      "torch.Size([8, 512, 2, 2, 2])2'}\n",
      "torch.Size([1, 512, 2, 2, 2])2'}\n",
      "torch.Size([8, 512, 2, 2, 2])2'}\n",
      "torch.Size([8, 512, 2, 2, 2])\n",
      "torch.Size([8, 512, 2, 2, 2])\n",
      "torch.Size([7, 512, 2, 2, 2])\n",
      "torch.Size([8, 512, 2, 2, 2])\n",
      "torch.Size([8, 512, 2, 2, 2])'}\n",
      "torch.Size([8, 512, 2, 2, 2])'}\n",
      "torch.Size([8, 512, 2, 2, 2])'}\n",
      "torch.Size([8, 512, 2, 2, 2])'}\n",
      "torch.Size([8, 512, 2, 2, 2])'}\n",
      "torch.Size([8, 512, 2, 2, 2])'}\n",
      "torch.Size([8, 512, 2, 2, 2])'}\n",
      "torch.Size([8, 512, 2, 2, 2])'}\n",
      "torch.Size([8, 512, 2, 2, 2])'}\n",
      "torch.Size([8, 512, 2, 2, 2])4'}\n",
      "torch.Size([8, 512, 2, 2, 2])4'}\n",
      "torch.Size([8, 512, 2, 2, 2])3'}\n",
      "torch.Size([8, 512, 2, 2, 2])3'}\n",
      "torch.Size([8, 512, 2, 2, 2])4'}\n",
      "torch.Size([8, 512, 2, 2, 2])3'}\n",
      "torch.Size([8, 512, 2, 2, 2])2'}\n",
      "torch.Size([8, 512, 2, 2, 2])2'}\n",
      "torch.Size([8, 512, 2, 2, 2])2'}\n",
      "torch.Size([8, 512, 2, 2, 2])2'}\n",
      "torch.Size([8, 512, 2, 2, 2])2'}\n",
      "torch.Size([8, 512, 2, 2, 2])1'}\n",
      "torch.Size([8, 512, 2, 2, 2])1'}\n",
      "torch.Size([8, 512, 2, 2, 2])1'}\n",
      "torch.Size([8, 512, 2, 2, 2])'}\n",
      "torch.Size([8, 512, 2, 2, 2])'}\n",
      "torch.Size([8, 512, 2, 2, 2])'}\n",
      "torch.Size([8, 512, 2, 2, 2])'}\n",
      "torch.Size([8, 512, 2, 2, 2])9'}\n",
      "torch.Size([8, 512, 2, 2, 2])8'}\n",
      "torch.Size([8, 512, 2, 2, 2])9'}\n",
      "torch.Size([8, 512, 2, 2, 2])8'}\n",
      "torch.Size([8, 512, 2, 2, 2])8'}\n",
      "torch.Size([8, 512, 2, 2, 2])8'}\n",
      "torch.Size([1, 512, 2, 2, 2])9'}\n",
      "torch.Size([8, 512, 2, 2, 2])'}\n",
      "torch.Size([8, 512, 2, 2, 2])\n",
      "torch.Size([8, 512, 2, 2, 2])\n",
      "torch.Size([7, 512, 2, 2, 2])\n",
      "torch.Size([8, 512, 2, 2, 2])\n",
      "torch.Size([8, 512, 2, 2, 2])'}\n",
      "torch.Size([8, 512, 2, 2, 2])}\n",
      "torch.Size([8, 512, 2, 2, 2])}\n",
      "torch.Size([8, 512, 2, 2, 2])}\n",
      "torch.Size([8, 512, 2, 2, 2])}\n",
      "torch.Size([8, 512, 2, 2, 2])}\n",
      "torch.Size([8, 512, 2, 2, 2])}\n",
      "torch.Size([8, 512, 2, 2, 2])}\n",
      "torch.Size([8, 512, 2, 2, 2])'}\n",
      "torch.Size([8, 512, 2, 2, 2])'}\n",
      "torch.Size([8, 512, 2, 2, 2])'}\n",
      "torch.Size([8, 512, 2, 2, 2])9'}\n",
      "torch.Size([8, 512, 2, 2, 2])'}\n",
      "torch.Size([8, 512, 2, 2, 2])1'}\n",
      "torch.Size([8, 512, 2, 2, 2])1'}\n",
      "torch.Size([8, 512, 2, 2, 2])2'}\n",
      "torch.Size([8, 512, 2, 2, 2])2'}\n",
      "torch.Size([8, 512, 2, 2, 2])2'}\n",
      "torch.Size([8, 512, 2, 2, 2])'}\n",
      "torch.Size([8, 512, 2, 2, 2])'}\n",
      "torch.Size([8, 512, 2, 2, 2])1'}\n",
      "torch.Size([8, 512, 2, 2, 2])1'}\n",
      "torch.Size([8, 512, 2, 2, 2])1'}\n",
      "torch.Size([8, 512, 2, 2, 2])1'}\n",
      "torch.Size([8, 512, 2, 2, 2])1'}\n",
      "torch.Size([8, 512, 2, 2, 2])2'}\n",
      "torch.Size([8, 512, 2, 2, 2])2'}\n",
      "torch.Size([8, 512, 2, 2, 2])1'}\n",
      "torch.Size([8, 512, 2, 2, 2])3'}\n",
      "torch.Size([8, 512, 2, 2, 2])2'}\n",
      "torch.Size([8, 512, 2, 2, 2])2'}\n",
      "torch.Size([8, 512, 2, 2, 2])4'}\n",
      "torch.Size([8, 512, 2, 2, 2])3'}\n",
      "torch.Size([1, 512, 2, 2, 2])3'}\n",
      "torch.Size([8, 512, 2, 2, 2])3'}\n",
      "torch.Size([8, 512, 2, 2, 2])\n",
      "torch.Size([8, 512, 2, 2, 2])\n",
      "torch.Size([7, 512, 2, 2, 2])\n",
      "torch.Size([8, 512, 2, 2, 2])\n",
      "torch.Size([8, 512, 2, 2, 2])3'}\n",
      "torch.Size([8, 512, 2, 2, 2])2'}\n",
      "torch.Size([8, 512, 2, 2, 2])2'}\n",
      "torch.Size([8, 512, 2, 2, 2])2'}\n",
      "torch.Size([8, 512, 2, 2, 2])2'}\n",
      "torch.Size([8, 512, 2, 2, 2])2'}\n",
      "torch.Size([8, 512, 2, 2, 2])2'}\n",
      "torch.Size([8, 512, 2, 2, 2])2'}\n",
      "torch.Size([8, 512, 2, 2, 2])2'}\n",
      "torch.Size([8, 512, 2, 2, 2])12'}\n",
      "torch.Size([8, 512, 2, 2, 2])11'}\n",
      "torch.Size([8, 512, 2, 2, 2])11'}\n",
      "torch.Size([8, 512, 2, 2, 2])11'}\n",
      "torch.Size([8, 512, 2, 2, 2])1'}\n",
      "torch.Size([8, 512, 2, 2, 2])1'}\n",
      "torch.Size([8, 512, 2, 2, 2])1'}\n",
      "torch.Size([8, 512, 2, 2, 2])1'}\n",
      "torch.Size([8, 512, 2, 2, 2])1'}\n",
      "torch.Size([8, 512, 2, 2, 2])1'}\n",
      "torch.Size([8, 512, 2, 2, 2])1'}\n",
      "torch.Size([8, 512, 2, 2, 2])11'}\n",
      "torch.Size([8, 512, 2, 2, 2])11'}\n",
      "torch.Size([8, 512, 2, 2, 2])12'}\n",
      "torch.Size([8, 512, 2, 2, 2])12'}\n",
      "torch.Size([8, 512, 2, 2, 2])13'}\n",
      "torch.Size([8, 512, 2, 2, 2])13'}\n",
      "torch.Size([8, 512, 2, 2, 2])13'}\n",
      "torch.Size([8, 512, 2, 2, 2])13'}\n",
      "torch.Size([8, 512, 2, 2, 2])13'}\n",
      "torch.Size([8, 512, 2, 2, 2])14'}\n",
      "torch.Size([8, 512, 2, 2, 2])13'}\n",
      "torch.Size([8, 512, 2, 2, 2])14'}\n",
      "torch.Size([8, 512, 2, 2, 2])14'}\n",
      "torch.Size([1, 512, 2, 2, 2])14'}\n",
      "torch.Size([8, 512, 2, 2, 2])15'}\n",
      "torch.Size([8, 512, 2, 2, 2])\n",
      "torch.Size([8, 512, 2, 2, 2])\n",
      "torch.Size([7, 512, 2, 2, 2])\n",
      "torch.Size([8, 512, 2, 2, 2])\n",
      "torch.Size([8, 512, 2, 2, 2])5'}\n",
      "torch.Size([8, 512, 2, 2, 2])5'}\n",
      "torch.Size([8, 512, 2, 2, 2])4'}\n",
      "torch.Size([8, 512, 2, 2, 2])4'}\n",
      "torch.Size([8, 512, 2, 2, 2])3'}\n",
      "torch.Size([8, 512, 2, 2, 2])3'}\n",
      "torch.Size([8, 512, 2, 2, 2])4'}\n",
      "torch.Size([8, 512, 2, 2, 2])3'}\n",
      "torch.Size([8, 512, 2, 2, 2])3'}\n",
      "torch.Size([8, 512, 2, 2, 2])12'}\n",
      "torch.Size([8, 512, 2, 2, 2])12'}\n",
      "torch.Size([8, 512, 2, 2, 2])11'}\n",
      "torch.Size([8, 512, 2, 2, 2])11'}\n",
      "torch.Size([8, 512, 2, 2, 2])12'}\n",
      "torch.Size([8, 512, 2, 2, 2])11'}\n",
      "torch.Size([8, 512, 2, 2, 2])11'}\n",
      "torch.Size([8, 512, 2, 2, 2])11'}\n",
      "torch.Size([8, 512, 2, 2, 2])1'}\n",
      "torch.Size([8, 512, 2, 2, 2])1'}\n",
      "torch.Size([8, 512, 2, 2, 2])1'}\n",
      "torch.Size([8, 512, 2, 2, 2])1'}\n",
      "torch.Size([8, 512, 2, 2, 2])1'}\n",
      "torch.Size([8, 512, 2, 2, 2])1'}\n",
      "torch.Size([8, 512, 2, 2, 2])1'}\n",
      "torch.Size([8, 512, 2, 2, 2])1'}\n",
      "torch.Size([8, 512, 2, 2, 2])1'}\n",
      "torch.Size([8, 512, 2, 2, 2])09'}\n",
      "torch.Size([8, 512, 2, 2, 2])1'}\n",
      "torch.Size([8, 512, 2, 2, 2])1'}\n",
      "torch.Size([8, 512, 2, 2, 2])1'}\n",
      "torch.Size([8, 512, 2, 2, 2])1'}\n",
      "torch.Size([8, 512, 2, 2, 2])1'}\n",
      "torch.Size([8, 512, 2, 2, 2])1'}\n",
      "torch.Size([1, 512, 2, 2, 2])1'}\n",
      "torch.Size([8, 512, 2, 2, 2])1'}\n",
      "torch.Size([8, 512, 2, 2, 2])\n",
      "torch.Size([8, 512, 2, 2, 2])\n",
      "torch.Size([7, 512, 2, 2, 2])\n",
      "torch.Size([8, 512, 2, 2, 2])\n",
      "torch.Size([8, 512, 2, 2, 2])1'}\n",
      "torch.Size([8, 512, 2, 2, 2])1'}\n",
      "torch.Size([8, 512, 2, 2, 2])1'}\n",
      "torch.Size([8, 512, 2, 2, 2])1'}\n",
      "torch.Size([8, 512, 2, 2, 2])1'}\n",
      "torch.Size([8, 512, 2, 2, 2])1'}\n",
      "torch.Size([8, 512, 2, 2, 2])'}\n",
      "torch.Size([8, 512, 2, 2, 2])'}\n",
      "torch.Size([8, 512, 2, 2, 2])1'}\n",
      "torch.Size([8, 512, 2, 2, 2])11'}\n",
      "torch.Size([8, 512, 2, 2, 2])11'}\n",
      "torch.Size([8, 512, 2, 2, 2])11'}\n",
      "torch.Size([8, 512, 2, 2, 2])11'}\n",
      "torch.Size([8, 512, 2, 2, 2])11'}\n",
      "torch.Size([8, 512, 2, 2, 2])11'}\n",
      "torch.Size([8, 512, 2, 2, 2])11'}\n",
      "torch.Size([8, 512, 2, 2, 2])12'}\n",
      "torch.Size([8, 512, 2, 2, 2])12'}\n",
      "torch.Size([8, 512, 2, 2, 2])12'}\n",
      "torch.Size([8, 512, 2, 2, 2])12'}\n",
      "torch.Size([8, 512, 2, 2, 2])12'}\n",
      "torch.Size([8, 512, 2, 2, 2])12'}\n",
      "torch.Size([8, 512, 2, 2, 2])12'}\n",
      "torch.Size([8, 512, 2, 2, 2])12'}\n",
      "torch.Size([8, 512, 2, 2, 2])12'}\n",
      "torch.Size([8, 512, 2, 2, 2])12'}\n",
      "torch.Size([8, 512, 2, 2, 2])12'}\n",
      "torch.Size([8, 512, 2, 2, 2])12'}\n",
      "torch.Size([8, 512, 2, 2, 2])12'}\n",
      "torch.Size([8, 512, 2, 2, 2])12'}\n",
      "torch.Size([8, 512, 2, 2, 2])12'}\n",
      "torch.Size([8, 512, 2, 2, 2])12'}\n",
      "torch.Size([8, 512, 2, 2, 2])12'}\n",
      "torch.Size([1, 512, 2, 2, 2])12'}\n",
      "torch.Size([8, 512, 2, 2, 2])12'}\n",
      "torch.Size([8, 512, 2, 2, 2])\n",
      "torch.Size([8, 512, 2, 2, 2])\n",
      "torch.Size([7, 512, 2, 2, 2])\n",
      "torch.Size([8, 512, 2, 2, 2])\n",
      "torch.Size([8, 512, 2, 2, 2])2'}\n",
      "torch.Size([8, 512, 2, 2, 2])1'}\n",
      "torch.Size([8, 512, 2, 2, 2])1'}\n",
      "torch.Size([8, 512, 2, 2, 2])2'}\n",
      "torch.Size([8, 512, 2, 2, 2])1'}\n",
      "torch.Size([8, 512, 2, 2, 2])1'}\n",
      "torch.Size([8, 512, 2, 2, 2])1'}\n",
      "torch.Size([8, 512, 2, 2, 2])1'}\n",
      "torch.Size([8, 512, 2, 2, 2])1'}\n",
      "torch.Size([8, 512, 2, 2, 2])11'}\n",
      "torch.Size([8, 512, 2, 2, 2])11'}\n",
      "torch.Size([8, 512, 2, 2, 2])11'}\n",
      "torch.Size([8, 512, 2, 2, 2])12'}\n",
      "torch.Size([8, 512, 2, 2, 2])12'}\n",
      "torch.Size([8, 512, 2, 2, 2])12'}\n",
      "torch.Size([8, 512, 2, 2, 2])12'}\n",
      "torch.Size([8, 512, 2, 2, 2])12'}\n",
      "torch.Size([8, 512, 2, 2, 2])12'}\n",
      "torch.Size([8, 512, 2, 2, 2])12'}\n",
      "torch.Size([8, 512, 2, 2, 2])12'}\n",
      "torch.Size([8, 512, 2, 2, 2])12'}\n",
      "torch.Size([8, 512, 2, 2, 2])12'}\n",
      "torch.Size([8, 512, 2, 2, 2])12'}\n",
      "torch.Size([8, 512, 2, 2, 2])11'}\n",
      "torch.Size([8, 512, 2, 2, 2])12'}\n",
      "torch.Size([8, 512, 2, 2, 2])11'}\n",
      "torch.Size([8, 512, 2, 2, 2])11'}\n",
      "torch.Size([8, 512, 2, 2, 2])11'}\n",
      "torch.Size([8, 512, 2, 2, 2])11'}\n",
      "torch.Size([8, 512, 2, 2, 2])11'}\n",
      "torch.Size([8, 512, 2, 2, 2])11'}\n",
      "torch.Size([8, 512, 2, 2, 2])11'}\n",
      "torch.Size([8, 512, 2, 2, 2])11'}\n",
      "torch.Size([1, 512, 2, 2, 2])1'}\n",
      "torch.Size([8, 512, 2, 2, 2])1'}\n",
      "torch.Size([8, 512, 2, 2, 2])\n",
      "torch.Size([8, 512, 2, 2, 2])\n",
      "torch.Size([7, 512, 2, 2, 2])\n",
      "torch.Size([8, 512, 2, 2, 2])\n",
      "torch.Size([8, 512, 2, 2, 2])'}\n",
      "torch.Size([8, 512, 2, 2, 2])1'}\n",
      "torch.Size([8, 512, 2, 2, 2])1'}\n",
      "torch.Size([8, 512, 2, 2, 2])1'}\n",
      "torch.Size([8, 512, 2, 2, 2])1'}\n",
      "torch.Size([8, 512, 2, 2, 2])1'}\n",
      "torch.Size([8, 512, 2, 2, 2])2'}\n",
      "torch.Size([8, 512, 2, 2, 2])2'}\n",
      "torch.Size([8, 512, 2, 2, 2])2'}\n",
      "torch.Size([8, 512, 2, 2, 2])12'}\n",
      "torch.Size([8, 512, 2, 2, 2])12'}\n",
      "torch.Size([8, 512, 2, 2, 2])12'}\n",
      "torch.Size([8, 512, 2, 2, 2])12'}\n",
      "torch.Size([8, 512, 2, 2, 2])12'}\n",
      "torch.Size([8, 512, 2, 2, 2])12'}\n",
      "torch.Size([8, 512, 2, 2, 2])12'}\n",
      "torch.Size([8, 512, 2, 2, 2])12'}\n",
      "torch.Size([8, 512, 2, 2, 2])12'}\n",
      "torch.Size([8, 512, 2, 2, 2])12'}\n",
      "torch.Size([8, 512, 2, 2, 2])12'}\n",
      "torch.Size([8, 512, 2, 2, 2])12'}\n",
      "torch.Size([8, 512, 2, 2, 2])12'}\n",
      "torch.Size([8, 512, 2, 2, 2])11'}\n",
      "torch.Size([8, 512, 2, 2, 2])11'}\n",
      "torch.Size([8, 512, 2, 2, 2])11'}\n",
      "torch.Size([8, 512, 2, 2, 2])11'}\n",
      "torch.Size([8, 512, 2, 2, 2])11'}\n",
      "torch.Size([8, 512, 2, 2, 2])11'}\n",
      "torch.Size([8, 512, 2, 2, 2])11'}\n",
      "torch.Size([8, 512, 2, 2, 2])11'}\n",
      "torch.Size([8, 512, 2, 2, 2])11'}\n",
      "torch.Size([8, 512, 2, 2, 2])11'}\n",
      "torch.Size([8, 512, 2, 2, 2])12'}\n",
      "torch.Size([1, 512, 2, 2, 2])13'}\n",
      "torch.Size([8, 512, 2, 2, 2])13'}\n",
      "torch.Size([8, 512, 2, 2, 2])\n",
      "torch.Size([8, 512, 2, 2, 2])\n",
      "torch.Size([7, 512, 2, 2, 2])\n"
     ]
    },
    {
     "name": "stderr",
     "output_type": "stream",
     "text": [
      "Monitored metric loss/val did not improve in the last 10 records. Best score: 1.058. Signaling Trainer to stop.\n",
      "GPU available: True, used: True\n",
      "TPU available: False, using: 0 TPU cores\n",
      "LOCAL_RANK: 0 - CUDA_VISIBLE_DEVICES: [0]\n",
      "\n",
      "  | Name               | Type             | Params\n",
      "--------------------------------------------------------\n",
      "0 | model              | VGG              | 65.1 M\n",
      "1 | criteria           | CrossEntropyLoss | 0     \n",
      "2 | train_metrics      | MetricCollection | 0     \n",
      "3 | valid_metrics      | MetricCollection | 0     \n",
      "4 | valid_dummy_metric | AUROC            | 0     \n",
      "--------------------------------------------------------\n",
      "65.1 M    Trainable params\n",
      "0         Non-trainable params\n",
      "65.1 M    Total params\n",
      "260.447   Total estimated model params size (MB)\n"
     ]
    },
    {
     "name": "stdout",
     "output_type": "stream",
     "text": [
      "Architecture [VGG] was created\n",
      "***Defined hyperparameters:***\n",
      "\"arch\":                {'name': 'vgg16', 'args': {'num_channels': 1, 'num_classes': 3}}\n",
      "\"checkpoint_path\":     None\n",
      "\"class_weights\":       tensor([1.2466, 0.6500, 1.5167], device='cuda:0')\n",
      "\"hp_metrics\":          ['loss/train', 'loss/val', 'Accuracy/val', 'AUROC/val', 'Precision/val', 'Recall/val', 'Specificity/val']\n",
      "\"loss\":                {'type': 'CrossEntropyLoss', 'args': {'weight': True}}\n",
      "\"optimizer\":           {'type': 'Adam', 'args': {'lr': 0.02, 'weight_decay': 0, 'amsgrad': False}}\n",
      "\"roi_hparams\":         {'enable': False, 'output_shape': [3, 3, 3], 'boundary_boxes': []}\n",
      "\"weight_distribution\": None\n",
      "Enabled callbacks:  ['LitProgressBar', 'EarlyStopping']\n",
      "Dataloader fold: 3\n",
      "torch.Size([8, 512, 2, 2, 2])\n",
      "torch.Size([8, 512, 2, 2, 2])}\n",
      "torch.Size([8, 512, 2, 2, 2])e+19'}\n",
      "torch.Size([8, 512, 2, 2, 2])e+19'}\n",
      "torch.Size([8, 512, 2, 2, 2])e+19'}\n",
      "torch.Size([8, 512, 2, 2, 2])e+19'}\n",
      "torch.Size([8, 512, 2, 2, 2])e+19'}\n",
      "torch.Size([8, 512, 2, 2, 2])e+19'}\n",
      "torch.Size([8, 512, 2, 2, 2])e+19'}\n",
      "torch.Size([8, 512, 2, 2, 2])e+19'}\n",
      "torch.Size([8, 512, 2, 2, 2])2e+19'}\n",
      "torch.Size([8, 512, 2, 2, 2])1e+19'}\n",
      "torch.Size([8, 512, 2, 2, 2])2e+19'}\n",
      "torch.Size([8, 512, 2, 2, 2])8e+18'}\n",
      "torch.Size([8, 512, 2, 2, 2])1e+18'}\n",
      "torch.Size([8, 512, 2, 2, 2])3e+18'}\n",
      "torch.Size([8, 512, 2, 2, 2])2e+18'}\n",
      "torch.Size([8, 512, 2, 2, 2])7e+18'}\n",
      "torch.Size([8, 512, 2, 2, 2])7e+18'}\n",
      "torch.Size([8, 512, 2, 2, 2])2e+18'}\n",
      "torch.Size([8, 512, 2, 2, 2])9e+18'}\n",
      "torch.Size([8, 512, 2, 2, 2])9e+18'}\n",
      "torch.Size([8, 512, 2, 2, 2])3e+10'}\n",
      "torch.Size([8, 512, 2, 2, 2])3e+10'}\n",
      "torch.Size([8, 512, 2, 2, 2])3e+10'}\n",
      "torch.Size([8, 512, 2, 2, 2])2e+09'}\n",
      "torch.Size([8, 512, 2, 2, 2])9e+09'}\n",
      "torch.Size([8, 512, 2, 2, 2])1e+09'}\n",
      "torch.Size([8, 512, 2, 2, 2])3e+09'}\n",
      "torch.Size([8, 512, 2, 2, 2])5e+09'}\n",
      "torch.Size([8, 512, 2, 2, 2])e+09'}\n",
      "torch.Size([8, 512, 2, 2, 2])3e+09'}\n",
      "torch.Size([8, 512, 2, 2, 2])8e+09'}\n",
      "torch.Size([8, 512, 2, 2, 2])9e+09'}\n",
      "torch.Size([1, 512, 2, 2, 2])2e+09'}\n",
      "torch.Size([8, 512, 2, 2, 2])2e+09'}\n",
      "torch.Size([8, 512, 2, 2, 2])\n",
      "torch.Size([8, 512, 2, 2, 2])\n",
      "torch.Size([7, 512, 2, 2, 2])\n"
     ]
    },
    {
     "name": "stderr",
     "output_type": "stream",
     "text": [
      "Metric loss/val improved. New best score: 508812224.000\n"
     ]
    },
    {
     "name": "stdout",
     "output_type": "stream",
     "text": [
      "torch.Size([8, 512, 2, 2, 2])\n",
      "torch.Size([8, 512, 2, 2, 2])e+09'}\n",
      "torch.Size([8, 512, 2, 2, 2])e+09'}\n",
      "torch.Size([8, 512, 2, 2, 2])e+09'}\n",
      "torch.Size([8, 512, 2, 2, 2])e+12'}\n",
      "torch.Size([8, 512, 2, 2, 2])e+12'}\n",
      "torch.Size([8, 512, 2, 2, 2])e+12'}\n",
      "torch.Size([8, 512, 2, 2, 2])e+12'}\n",
      "torch.Size([8, 512, 2, 2, 2])e+12'}\n",
      "torch.Size([8, 512, 2, 2, 2])e+12'}\n",
      "torch.Size([8, 512, 2, 2, 2])1e+12'}\n",
      "torch.Size([8, 512, 2, 2, 2])1e+12'}\n",
      "torch.Size([8, 512, 2, 2, 2])2e+12'}\n",
      "torch.Size([8, 512, 2, 2, 2])2e+12'}\n",
      "torch.Size([8, 512, 2, 2, 2])2e+12'}\n",
      "torch.Size([8, 512, 2, 2, 2])2e+12'}\n",
      "torch.Size([8, 512, 2, 2, 2])2e+12'}\n",
      "torch.Size([8, 512, 2, 2, 2])2e+12'}\n",
      "torch.Size([8, 512, 2, 2, 2])2e+12'}\n",
      "torch.Size([8, 512, 2, 2, 2])2e+12'}\n",
      "torch.Size([8, 512, 2, 2, 2])2e+12'}\n",
      "torch.Size([8, 512, 2, 2, 2])2e+12'}\n",
      "torch.Size([8, 512, 2, 2, 2])2e+12'}\n",
      "torch.Size([8, 512, 2, 2, 2])2e+12'}\n",
      "torch.Size([8, 512, 2, 2, 2])5e+09'}\n",
      "torch.Size([8, 512, 2, 2, 2])5e+09'}\n",
      "torch.Size([8, 512, 2, 2, 2])9e+09'}\n",
      "torch.Size([8, 512, 2, 2, 2])5e+09'}\n",
      "torch.Size([8, 512, 2, 2, 2])1e+09'}\n",
      "torch.Size([8, 512, 2, 2, 2])6e+09'}\n",
      "torch.Size([8, 512, 2, 2, 2])2e+09'}\n",
      "torch.Size([8, 512, 2, 2, 2])9e+09'}\n",
      "torch.Size([8, 512, 2, 2, 2])1e+09'}\n",
      "torch.Size([8, 512, 2, 2, 2])3e+09'}\n",
      "torch.Size([1, 512, 2, 2, 2])3e+09'}\n",
      "torch.Size([8, 512, 2, 2, 2])6e+09'}\n",
      "torch.Size([8, 512, 2, 2, 2])\n",
      "torch.Size([8, 512, 2, 2, 2])\n",
      "torch.Size([7, 512, 2, 2, 2])\n",
      "torch.Size([8, 512, 2, 2, 2])\n",
      "torch.Size([8, 512, 2, 2, 2])e+09'}\n",
      "torch.Size([8, 512, 2, 2, 2])e+09'}\n",
      "torch.Size([8, 512, 2, 2, 2])e+09'}\n",
      "torch.Size([8, 512, 2, 2, 2])e+09'}\n",
      "torch.Size([8, 512, 2, 2, 2])e+09'}\n",
      "torch.Size([8, 512, 2, 2, 2])e+09'}\n",
      "torch.Size([8, 512, 2, 2, 2])e+09'}\n",
      "torch.Size([8, 512, 2, 2, 2])e+09'}\n",
      "torch.Size([8, 512, 2, 2, 2])e+09'}\n",
      "torch.Size([8, 512, 2, 2, 2])3e+09'}\n",
      "torch.Size([8, 512, 2, 2, 2])3e+09'}\n",
      "torch.Size([8, 512, 2, 2, 2])3e+09'}\n",
      "torch.Size([8, 512, 2, 2, 2])3e+09'}\n",
      "torch.Size([8, 512, 2, 2, 2])3e+09'}\n",
      "torch.Size([8, 512, 2, 2, 2])7e+09'}\n",
      "torch.Size([8, 512, 2, 2, 2])7e+09'}\n",
      "torch.Size([8, 512, 2, 2, 2])7e+09'}\n",
      "torch.Size([8, 512, 2, 2, 2])5e+09'}\n",
      "torch.Size([8, 512, 2, 2, 2])5e+09'}\n",
      "torch.Size([8, 512, 2, 2, 2])5e+09'}\n",
      "torch.Size([8, 512, 2, 2, 2])8e+07'}\n",
      "torch.Size([8, 512, 2, 2, 2])7'}\n",
      "torch.Size([8, 512, 2, 2, 2])2'}\n",
      "torch.Size([8, 512, 2, 2, 2])}\n",
      "torch.Size([8, 512, 2, 2, 2])7'}\n",
      "torch.Size([8, 512, 2, 2, 2])5'}\n",
      "torch.Size([8, 512, 2, 2, 2])5'}\n",
      "torch.Size([8, 512, 2, 2, 2])4'}\n",
      "torch.Size([8, 512, 2, 2, 2])8'}\n",
      "torch.Size([8, 512, 2, 2, 2])1'}\n",
      "torch.Size([8, 512, 2, 2, 2])2'}\n",
      "torch.Size([8, 512, 2, 2, 2])}\n",
      "torch.Size([8, 512, 2, 2, 2])6'}\n",
      "torch.Size([1, 512, 2, 2, 2])6'}\n",
      "torch.Size([8, 512, 2, 2, 2])2'}\n",
      "torch.Size([8, 512, 2, 2, 2])\n",
      "torch.Size([8, 512, 2, 2, 2])\n",
      "torch.Size([7, 512, 2, 2, 2])\n"
     ]
    },
    {
     "name": "stderr",
     "output_type": "stream",
     "text": [
      "Metric loss/val improved by 508812224.000 >= min_delta = 0.0001. New best score: 1.469\n"
     ]
    },
    {
     "name": "stdout",
     "output_type": "stream",
     "text": [
      "torch.Size([8, 512, 2, 2, 2])\n",
      "torch.Size([8, 512, 2, 2, 2])'}\n",
      "torch.Size([8, 512, 2, 2, 2])'}\n",
      "torch.Size([8, 512, 2, 2, 2])'}\n",
      "torch.Size([8, 512, 2, 2, 2])\n",
      "torch.Size([8, 512, 2, 2, 2])'}\n",
      "torch.Size([8, 512, 2, 2, 2])'}\n",
      "torch.Size([8, 512, 2, 2, 2])'}\n",
      "torch.Size([8, 512, 2, 2, 2])'}\n",
      "torch.Size([8, 512, 2, 2, 2])'}\n",
      "torch.Size([8, 512, 2, 2, 2])1'}\n",
      "torch.Size([8, 512, 2, 2, 2])8'}\n",
      "torch.Size([8, 512, 2, 2, 2])6'}\n",
      "torch.Size([8, 512, 2, 2, 2])1'}\n",
      "torch.Size([8, 512, 2, 2, 2])8'}\n",
      "torch.Size([8, 512, 2, 2, 2])1'}\n",
      "torch.Size([8, 512, 2, 2, 2])1'}\n",
      "torch.Size([8, 512, 2, 2, 2])6'}\n",
      "torch.Size([8, 512, 2, 2, 2])'}\n",
      "torch.Size([8, 512, 2, 2, 2])4'}\n",
      "torch.Size([8, 512, 2, 2, 2])'}\n",
      "torch.Size([8, 512, 2, 2, 2])4'}\n",
      "torch.Size([8, 512, 2, 2, 2])6'}\n",
      "torch.Size([8, 512, 2, 2, 2])3'}\n",
      "torch.Size([8, 512, 2, 2, 2])2'}\n",
      "torch.Size([8, 512, 2, 2, 2])8'}\n",
      "torch.Size([8, 512, 2, 2, 2])2'}\n",
      "torch.Size([8, 512, 2, 2, 2])'}\n",
      "torch.Size([8, 512, 2, 2, 2])9'}\n",
      "torch.Size([8, 512, 2, 2, 2])6'}\n",
      "torch.Size([8, 512, 2, 2, 2])8'}\n",
      "torch.Size([8, 512, 2, 2, 2])1'}\n",
      "torch.Size([8, 512, 2, 2, 2])1'}\n",
      "torch.Size([8, 512, 2, 2, 2])9'}\n",
      "torch.Size([1, 512, 2, 2, 2])1'}\n",
      "torch.Size([8, 512, 2, 2, 2])5'}\n",
      "torch.Size([8, 512, 2, 2, 2])\n",
      "torch.Size([8, 512, 2, 2, 2])\n",
      "torch.Size([7, 512, 2, 2, 2])\n"
     ]
    },
    {
     "name": "stderr",
     "output_type": "stream",
     "text": [
      "Metric loss/val improved by 0.135 >= min_delta = 0.0001. New best score: 1.334\n"
     ]
    },
    {
     "name": "stdout",
     "output_type": "stream",
     "text": [
      "torch.Size([8, 512, 2, 2, 2])\n",
      "torch.Size([8, 512, 2, 2, 2])'}\n",
      "torch.Size([8, 512, 2, 2, 2])'}\n",
      "torch.Size([8, 512, 2, 2, 2])'}\n",
      "torch.Size([8, 512, 2, 2, 2])'}\n",
      "torch.Size([8, 512, 2, 2, 2])'}\n",
      "torch.Size([8, 512, 2, 2, 2])'}\n",
      "torch.Size([8, 512, 2, 2, 2])'}\n",
      "torch.Size([8, 512, 2, 2, 2])}\n",
      "torch.Size([8, 512, 2, 2, 2])'}\n",
      "torch.Size([8, 512, 2, 2, 2])9'}\n",
      "torch.Size([8, 512, 2, 2, 2])\n",
      "torch.Size([8, 512, 2, 2, 2])7'}\n",
      "torch.Size([8, 512, 2, 2, 2])9'}\n",
      "torch.Size([8, 512, 2, 2, 2])4'}\n",
      "torch.Size([8, 512, 2, 2, 2])6'}\n",
      "torch.Size([8, 512, 2, 2, 2])6'}\n",
      "torch.Size([8, 512, 2, 2, 2])7'}\n",
      "torch.Size([8, 512, 2, 2, 2])8'}\n",
      "torch.Size([8, 512, 2, 2, 2])4'}\n",
      "torch.Size([8, 512, 2, 2, 2])6'}\n",
      "torch.Size([8, 512, 2, 2, 2])3'}\n",
      "torch.Size([8, 512, 2, 2, 2])3'}\n",
      "torch.Size([8, 512, 2, 2, 2])8'}\n",
      "torch.Size([8, 512, 2, 2, 2])4'}\n",
      "torch.Size([8, 512, 2, 2, 2])6'}\n",
      "torch.Size([8, 512, 2, 2, 2])8'}\n",
      "torch.Size([8, 512, 2, 2, 2])2'}\n",
      "torch.Size([8, 512, 2, 2, 2])5'}\n",
      "torch.Size([8, 512, 2, 2, 2])7'}\n",
      "torch.Size([8, 512, 2, 2, 2])9'}\n",
      "torch.Size([8, 512, 2, 2, 2])3'}\n",
      "torch.Size([8, 512, 2, 2, 2])8'}\n",
      "torch.Size([8, 512, 2, 2, 2])7'}\n",
      "torch.Size([1, 512, 2, 2, 2])8'}\n",
      "torch.Size([8, 512, 2, 2, 2])5'}\n",
      "torch.Size([8, 512, 2, 2, 2])\n",
      "torch.Size([8, 512, 2, 2, 2])\n",
      "torch.Size([7, 512, 2, 2, 2])\n"
     ]
    },
    {
     "name": "stderr",
     "output_type": "stream",
     "text": [
      "Metric loss/val improved by 0.253 >= min_delta = 0.0001. New best score: 1.080\n"
     ]
    },
    {
     "name": "stdout",
     "output_type": "stream",
     "text": [
      "torch.Size([8, 512, 2, 2, 2])\n",
      "torch.Size([8, 512, 2, 2, 2])'}\n",
      "torch.Size([8, 512, 2, 2, 2])}\n",
      "torch.Size([8, 512, 2, 2, 2])'}\n",
      "torch.Size([8, 512, 2, 2, 2])'}\n",
      "torch.Size([8, 512, 2, 2, 2])'}\n",
      "torch.Size([8, 512, 2, 2, 2])'}\n",
      "torch.Size([8, 512, 2, 2, 2])'}\n",
      "torch.Size([8, 512, 2, 2, 2])'}\n",
      "torch.Size([8, 512, 2, 2, 2])}\n",
      "torch.Size([8, 512, 2, 2, 2])4'}\n",
      "torch.Size([8, 512, 2, 2, 2])6'}\n",
      "torch.Size([8, 512, 2, 2, 2])2'}\n",
      "torch.Size([8, 512, 2, 2, 2])1'}\n",
      "torch.Size([8, 512, 2, 2, 2])7'}\n",
      "torch.Size([8, 512, 2, 2, 2])6'}\n",
      "torch.Size([8, 512, 2, 2, 2])6'}\n",
      "torch.Size([8, 512, 2, 2, 2])8'}\n",
      "torch.Size([8, 512, 2, 2, 2])8'}\n",
      "torch.Size([8, 512, 2, 2, 2])6'}\n",
      "torch.Size([8, 512, 2, 2, 2])3'}\n",
      "torch.Size([8, 512, 2, 2, 2])8'}\n",
      "torch.Size([8, 512, 2, 2, 2])8'}\n",
      "torch.Size([8, 512, 2, 2, 2])1'}\n",
      "torch.Size([8, 512, 2, 2, 2])1'}\n",
      "torch.Size([8, 512, 2, 2, 2])6'}\n",
      "torch.Size([8, 512, 2, 2, 2])9'}\n",
      "torch.Size([8, 512, 2, 2, 2])1'}\n",
      "torch.Size([8, 512, 2, 2, 2])2'}\n",
      "torch.Size([8, 512, 2, 2, 2])'}\n",
      "torch.Size([8, 512, 2, 2, 2])2'}\n",
      "torch.Size([8, 512, 2, 2, 2])9'}\n",
      "torch.Size([8, 512, 2, 2, 2])6'}\n",
      "torch.Size([8, 512, 2, 2, 2])4'}\n",
      "torch.Size([1, 512, 2, 2, 2])6'}\n",
      "torch.Size([8, 512, 2, 2, 2])1'}\n",
      "torch.Size([8, 512, 2, 2, 2])\n",
      "torch.Size([8, 512, 2, 2, 2])\n",
      "torch.Size([7, 512, 2, 2, 2])\n",
      "torch.Size([8, 512, 2, 2, 2])\n",
      "torch.Size([8, 512, 2, 2, 2])}\n",
      "torch.Size([8, 512, 2, 2, 2])'}\n",
      "torch.Size([8, 512, 2, 2, 2])'}\n",
      "torch.Size([8, 512, 2, 2, 2])'}\n",
      "torch.Size([8, 512, 2, 2, 2])'}\n",
      "torch.Size([8, 512, 2, 2, 2])'}\n",
      "torch.Size([8, 512, 2, 2, 2])'}\n",
      "torch.Size([8, 512, 2, 2, 2])'}\n",
      "torch.Size([8, 512, 2, 2, 2])'}\n",
      "torch.Size([8, 512, 2, 2, 2])8'}\n",
      "torch.Size([8, 512, 2, 2, 2])6'}\n",
      "torch.Size([8, 512, 2, 2, 2])3'}\n",
      "torch.Size([8, 512, 2, 2, 2])'}\n",
      "torch.Size([8, 512, 2, 2, 2])2'}\n",
      "torch.Size([8, 512, 2, 2, 2])2'}\n",
      "torch.Size([8, 512, 2, 2, 2])3'}\n",
      "torch.Size([8, 512, 2, 2, 2])7'}\n",
      "torch.Size([8, 512, 2, 2, 2])6'}\n",
      "torch.Size([8, 512, 2, 2, 2])6'}\n",
      "torch.Size([8, 512, 2, 2, 2])9'}\n",
      "torch.Size([8, 512, 2, 2, 2])9'}\n",
      "torch.Size([8, 512, 2, 2, 2])9'}\n",
      "torch.Size([8, 512, 2, 2, 2])'}\n",
      "torch.Size([8, 512, 2, 2, 2])1'}\n",
      "torch.Size([8, 512, 2, 2, 2])9'}\n",
      "torch.Size([8, 512, 2, 2, 2])9'}\n",
      "torch.Size([8, 512, 2, 2, 2])8'}\n",
      "torch.Size([8, 512, 2, 2, 2])5'}\n",
      "torch.Size([8, 512, 2, 2, 2])6'}\n",
      "torch.Size([8, 512, 2, 2, 2])5'}\n",
      "torch.Size([8, 512, 2, 2, 2])5'}\n",
      "torch.Size([8, 512, 2, 2, 2])6'}\n",
      "torch.Size([8, 512, 2, 2, 2])5'}\n",
      "torch.Size([1, 512, 2, 2, 2])3'}\n",
      "torch.Size([8, 512, 2, 2, 2])2'}\n",
      "torch.Size([8, 512, 2, 2, 2])\n",
      "torch.Size([8, 512, 2, 2, 2])\n",
      "torch.Size([7, 512, 2, 2, 2])\n",
      "torch.Size([8, 512, 2, 2, 2])\n",
      "torch.Size([8, 512, 2, 2, 2])'}\n",
      "torch.Size([8, 512, 2, 2, 2])'}\n",
      "torch.Size([8, 512, 2, 2, 2])'}\n",
      "torch.Size([8, 512, 2, 2, 2])'}\n",
      "torch.Size([8, 512, 2, 2, 2])'}\n",
      "torch.Size([8, 512, 2, 2, 2])'}\n",
      "torch.Size([8, 512, 2, 2, 2])'}\n",
      "torch.Size([8, 512, 2, 2, 2])'}\n",
      "torch.Size([8, 512, 2, 2, 2])'}\n",
      "torch.Size([8, 512, 2, 2, 2])4'}\n",
      "torch.Size([8, 512, 2, 2, 2])4'}\n",
      "torch.Size([8, 512, 2, 2, 2])5'}\n",
      "torch.Size([8, 512, 2, 2, 2])5'}\n",
      "torch.Size([8, 512, 2, 2, 2])3'}\n",
      "torch.Size([8, 512, 2, 2, 2])4'}\n",
      "torch.Size([8, 512, 2, 2, 2])5'}\n",
      "torch.Size([8, 512, 2, 2, 2])5'}\n",
      "torch.Size([8, 512, 2, 2, 2])6'}\n",
      "torch.Size([8, 512, 2, 2, 2])7'}\n",
      "torch.Size([8, 512, 2, 2, 2])9'}\n",
      "torch.Size([8, 512, 2, 2, 2])8'}\n",
      "torch.Size([8, 512, 2, 2, 2])8'}\n",
      "torch.Size([8, 512, 2, 2, 2])7'}\n",
      "torch.Size([8, 512, 2, 2, 2])6'}\n",
      "torch.Size([8, 512, 2, 2, 2])5'}\n",
      "torch.Size([8, 512, 2, 2, 2])5'}\n",
      "torch.Size([8, 512, 2, 2, 2])4'}\n",
      "torch.Size([8, 512, 2, 2, 2])3'}\n",
      "torch.Size([8, 512, 2, 2, 2])3'}\n",
      "torch.Size([8, 512, 2, 2, 2])4'}\n",
      "torch.Size([8, 512, 2, 2, 2])4'}\n",
      "torch.Size([8, 512, 2, 2, 2])4'}\n",
      "torch.Size([8, 512, 2, 2, 2])3'}\n",
      "torch.Size([1, 512, 2, 2, 2])4'}\n",
      "torch.Size([8, 512, 2, 2, 2])5'}\n",
      "torch.Size([8, 512, 2, 2, 2])\n",
      "torch.Size([8, 512, 2, 2, 2])\n",
      "torch.Size([7, 512, 2, 2, 2])\n"
     ]
    },
    {
     "name": "stderr",
     "output_type": "stream",
     "text": [
      "Metric loss/val improved by 0.010 >= min_delta = 0.0001. New best score: 1.071\n"
     ]
    },
    {
     "name": "stdout",
     "output_type": "stream",
     "text": [
      "torch.Size([8, 512, 2, 2, 2])\n",
      "torch.Size([8, 512, 2, 2, 2])'}\n",
      "torch.Size([8, 512, 2, 2, 2])'}\n",
      "torch.Size([8, 512, 2, 2, 2])'}\n",
      "torch.Size([8, 512, 2, 2, 2])'}\n",
      "torch.Size([8, 512, 2, 2, 2])'}\n",
      "torch.Size([8, 512, 2, 2, 2])'}\n",
      "torch.Size([8, 512, 2, 2, 2])'}\n",
      "torch.Size([8, 512, 2, 2, 2])'}\n",
      "torch.Size([8, 512, 2, 2, 2])'}\n",
      "torch.Size([8, 512, 2, 2, 2])3'}\n",
      "torch.Size([8, 512, 2, 2, 2])3'}\n",
      "torch.Size([8, 512, 2, 2, 2])4'}\n",
      "torch.Size([8, 512, 2, 2, 2])4'}\n",
      "torch.Size([8, 512, 2, 2, 2])4'}\n",
      "torch.Size([8, 512, 2, 2, 2])4'}\n",
      "torch.Size([8, 512, 2, 2, 2])3'}\n",
      "torch.Size([8, 512, 2, 2, 2])3'}\n",
      "torch.Size([8, 512, 2, 2, 2])4'}\n",
      "torch.Size([8, 512, 2, 2, 2])3'}\n",
      "torch.Size([8, 512, 2, 2, 2])2'}\n",
      "torch.Size([8, 512, 2, 2, 2])2'}\n",
      "torch.Size([8, 512, 2, 2, 2])2'}\n",
      "torch.Size([8, 512, 2, 2, 2])3'}\n",
      "torch.Size([8, 512, 2, 2, 2])3'}\n",
      "torch.Size([8, 512, 2, 2, 2])3'}\n",
      "torch.Size([8, 512, 2, 2, 2])3'}\n",
      "torch.Size([8, 512, 2, 2, 2])3'}\n",
      "torch.Size([8, 512, 2, 2, 2])3'}\n",
      "torch.Size([8, 512, 2, 2, 2])1'}\n",
      "torch.Size([8, 512, 2, 2, 2])1'}\n",
      "torch.Size([8, 512, 2, 2, 2])2'}\n",
      "torch.Size([8, 512, 2, 2, 2])2'}\n",
      "torch.Size([8, 512, 2, 2, 2])3'}\n",
      "torch.Size([1, 512, 2, 2, 2])3'}\n",
      "torch.Size([8, 512, 2, 2, 2])4'}\n",
      "torch.Size([8, 512, 2, 2, 2])\n",
      "torch.Size([8, 512, 2, 2, 2])\n",
      "torch.Size([7, 512, 2, 2, 2])\n",
      "torch.Size([8, 512, 2, 2, 2])\n",
      "torch.Size([8, 512, 2, 2, 2])3'}\n",
      "torch.Size([8, 512, 2, 2, 2])4'}\n",
      "torch.Size([8, 512, 2, 2, 2])4'}\n",
      "torch.Size([8, 512, 2, 2, 2])3'}\n",
      "torch.Size([8, 512, 2, 2, 2])3'}\n",
      "torch.Size([8, 512, 2, 2, 2])3'}\n",
      "torch.Size([8, 512, 2, 2, 2])5'}\n",
      "torch.Size([8, 512, 2, 2, 2])4'}\n",
      "torch.Size([8, 512, 2, 2, 2])4'}\n",
      "torch.Size([8, 512, 2, 2, 2])14'}\n",
      "torch.Size([8, 512, 2, 2, 2])14'}\n",
      "torch.Size([8, 512, 2, 2, 2])13'}\n",
      "torch.Size([8, 512, 2, 2, 2])15'}\n",
      "torch.Size([8, 512, 2, 2, 2])15'}\n",
      "torch.Size([8, 512, 2, 2, 2])16'}\n",
      "torch.Size([8, 512, 2, 2, 2])15'}\n",
      "torch.Size([8, 512, 2, 2, 2])14'}\n",
      "torch.Size([8, 512, 2, 2, 2])14'}\n",
      "torch.Size([8, 512, 2, 2, 2])13'}\n",
      "torch.Size([8, 512, 2, 2, 2])12'}\n",
      "torch.Size([8, 512, 2, 2, 2])12'}\n",
      "torch.Size([8, 512, 2, 2, 2])13'}\n",
      "torch.Size([8, 512, 2, 2, 2])12'}\n",
      "torch.Size([8, 512, 2, 2, 2])12'}\n",
      "torch.Size([8, 512, 2, 2, 2])12'}\n",
      "torch.Size([8, 512, 2, 2, 2])11'}\n",
      "torch.Size([8, 512, 2, 2, 2])1'}\n",
      "torch.Size([8, 512, 2, 2, 2])1'}\n",
      "torch.Size([8, 512, 2, 2, 2])11'}\n",
      "torch.Size([8, 512, 2, 2, 2])11'}\n",
      "torch.Size([8, 512, 2, 2, 2])11'}\n",
      "torch.Size([8, 512, 2, 2, 2])12'}\n",
      "torch.Size([8, 512, 2, 2, 2])12'}\n",
      "torch.Size([1, 512, 2, 2, 2])13'}\n",
      "torch.Size([8, 512, 2, 2, 2])12'}\n",
      "torch.Size([8, 512, 2, 2, 2])\n",
      "torch.Size([8, 512, 2, 2, 2])\n",
      "torch.Size([7, 512, 2, 2, 2])\n",
      "torch.Size([8, 512, 2, 2, 2])\n",
      "torch.Size([8, 512, 2, 2, 2])3'}\n",
      "torch.Size([8, 512, 2, 2, 2])3'}\n",
      "torch.Size([8, 512, 2, 2, 2])3'}\n",
      "torch.Size([8, 512, 2, 2, 2])3'}\n",
      "torch.Size([8, 512, 2, 2, 2])3'}\n",
      "torch.Size([8, 512, 2, 2, 2])4'}\n",
      "torch.Size([8, 512, 2, 2, 2])2'}\n",
      "torch.Size([8, 512, 2, 2, 2])2'}\n",
      "torch.Size([8, 512, 2, 2, 2])3'}\n",
      "torch.Size([8, 512, 2, 2, 2])14'}\n",
      "torch.Size([8, 512, 2, 2, 2])14'}\n",
      "torch.Size([8, 512, 2, 2, 2])14'}\n",
      "torch.Size([8, 512, 2, 2, 2])14'}\n",
      "torch.Size([8, 512, 2, 2, 2])14'}\n",
      "torch.Size([8, 512, 2, 2, 2])14'}\n",
      "torch.Size([8, 512, 2, 2, 2])14'}\n",
      "torch.Size([8, 512, 2, 2, 2])13'}\n",
      "torch.Size([8, 512, 2, 2, 2])13'}\n",
      "torch.Size([8, 512, 2, 2, 2])12'}\n",
      "torch.Size([8, 512, 2, 2, 2])12'}\n",
      "torch.Size([8, 512, 2, 2, 2])12'}\n",
      "torch.Size([8, 512, 2, 2, 2])12'}\n",
      "torch.Size([8, 512, 2, 2, 2])12'}\n",
      "torch.Size([8, 512, 2, 2, 2])12'}\n",
      "torch.Size([8, 512, 2, 2, 2])13'}\n",
      "torch.Size([8, 512, 2, 2, 2])12'}\n",
      "torch.Size([8, 512, 2, 2, 2])13'}\n",
      "torch.Size([8, 512, 2, 2, 2])13'}\n",
      "torch.Size([8, 512, 2, 2, 2])12'}\n",
      "torch.Size([8, 512, 2, 2, 2])12'}\n",
      "torch.Size([8, 512, 2, 2, 2])12'}\n",
      "torch.Size([8, 512, 2, 2, 2])13'}\n",
      "torch.Size([8, 512, 2, 2, 2])13'}\n",
      "torch.Size([1, 512, 2, 2, 2])13'}\n",
      "torch.Size([8, 512, 2, 2, 2])13'}\n",
      "torch.Size([8, 512, 2, 2, 2])\n",
      "torch.Size([8, 512, 2, 2, 2])\n",
      "torch.Size([7, 512, 2, 2, 2])\n",
      "torch.Size([8, 512, 2, 2, 2])\n",
      "torch.Size([8, 512, 2, 2, 2])3'}\n",
      "torch.Size([8, 512, 2, 2, 2])3'}\n",
      "torch.Size([8, 512, 2, 2, 2])2'}\n",
      "torch.Size([8, 512, 2, 2, 2])2'}\n",
      "torch.Size([8, 512, 2, 2, 2])2'}\n",
      "torch.Size([8, 512, 2, 2, 2])1'}\n",
      "torch.Size([8, 512, 2, 2, 2])2'}\n",
      "torch.Size([8, 512, 2, 2, 2])2'}\n",
      "torch.Size([8, 512, 2, 2, 2])1'}\n",
      "torch.Size([8, 512, 2, 2, 2])12'}\n",
      "torch.Size([8, 512, 2, 2, 2])12'}\n",
      "torch.Size([8, 512, 2, 2, 2])12'}\n",
      "torch.Size([8, 512, 2, 2, 2])13'}\n",
      "torch.Size([8, 512, 2, 2, 2])13'}\n",
      "torch.Size([8, 512, 2, 2, 2])12'}\n",
      "torch.Size([8, 512, 2, 2, 2])12'}\n",
      "torch.Size([8, 512, 2, 2, 2])12'}\n",
      "torch.Size([8, 512, 2, 2, 2])11'}\n",
      "torch.Size([8, 512, 2, 2, 2])11'}\n",
      "torch.Size([8, 512, 2, 2, 2])1'}\n",
      "torch.Size([8, 512, 2, 2, 2])1'}\n",
      "torch.Size([8, 512, 2, 2, 2])1'}\n",
      "torch.Size([8, 512, 2, 2, 2])1'}\n",
      "torch.Size([8, 512, 2, 2, 2])11'}\n",
      "torch.Size([8, 512, 2, 2, 2])11'}\n",
      "torch.Size([8, 512, 2, 2, 2])11'}\n",
      "torch.Size([8, 512, 2, 2, 2])11'}\n",
      "torch.Size([8, 512, 2, 2, 2])11'}\n",
      "torch.Size([8, 512, 2, 2, 2])11'}\n",
      "torch.Size([8, 512, 2, 2, 2])11'}\n",
      "torch.Size([8, 512, 2, 2, 2])11'}\n",
      "torch.Size([8, 512, 2, 2, 2])1'}\n",
      "torch.Size([8, 512, 2, 2, 2])1'}\n",
      "torch.Size([1, 512, 2, 2, 2])1'}\n",
      "torch.Size([8, 512, 2, 2, 2])1'}\n",
      "torch.Size([8, 512, 2, 2, 2])\n",
      "torch.Size([8, 512, 2, 2, 2])\n",
      "torch.Size([7, 512, 2, 2, 2])\n",
      "torch.Size([8, 512, 2, 2, 2])\n",
      "torch.Size([8, 512, 2, 2, 2])1'}\n",
      "torch.Size([8, 512, 2, 2, 2])'}\n",
      "torch.Size([8, 512, 2, 2, 2])1'}\n",
      "torch.Size([8, 512, 2, 2, 2])'}\n",
      "torch.Size([8, 512, 2, 2, 2])'}\n",
      "torch.Size([8, 512, 2, 2, 2])1'}\n",
      "torch.Size([8, 512, 2, 2, 2])1'}\n",
      "torch.Size([8, 512, 2, 2, 2])1'}\n",
      "torch.Size([8, 512, 2, 2, 2])'}\n",
      "torch.Size([8, 512, 2, 2, 2])11'}\n",
      "torch.Size([8, 512, 2, 2, 2])1'}\n",
      "torch.Size([8, 512, 2, 2, 2])1'}\n",
      "torch.Size([8, 512, 2, 2, 2])11'}\n",
      "torch.Size([8, 512, 2, 2, 2])11'}\n",
      "torch.Size([8, 512, 2, 2, 2])11'}\n",
      "torch.Size([8, 512, 2, 2, 2])11'}\n",
      "torch.Size([8, 512, 2, 2, 2])1'}\n",
      "torch.Size([8, 512, 2, 2, 2])1'}\n",
      "torch.Size([8, 512, 2, 2, 2])11'}\n",
      "torch.Size([8, 512, 2, 2, 2])11'}\n",
      "torch.Size([8, 512, 2, 2, 2])11'}\n",
      "torch.Size([8, 512, 2, 2, 2])11'}\n",
      "torch.Size([8, 512, 2, 2, 2])11'}\n",
      "torch.Size([8, 512, 2, 2, 2])11'}\n",
      "torch.Size([8, 512, 2, 2, 2])12'}\n",
      "torch.Size([8, 512, 2, 2, 2])12'}\n",
      "torch.Size([8, 512, 2, 2, 2])11'}\n",
      "torch.Size([8, 512, 2, 2, 2])12'}\n",
      "torch.Size([8, 512, 2, 2, 2])13'}\n",
      "torch.Size([8, 512, 2, 2, 2])12'}\n",
      "torch.Size([8, 512, 2, 2, 2])12'}\n",
      "torch.Size([8, 512, 2, 2, 2])12'}\n",
      "torch.Size([8, 512, 2, 2, 2])12'}\n",
      "torch.Size([1, 512, 2, 2, 2])11'}\n",
      "torch.Size([8, 512, 2, 2, 2])12'}\n",
      "torch.Size([8, 512, 2, 2, 2])\n",
      "torch.Size([8, 512, 2, 2, 2])\n",
      "torch.Size([7, 512, 2, 2, 2])\n",
      "torch.Size([8, 512, 2, 2, 2])\n",
      "torch.Size([8, 512, 2, 2, 2])1'}\n",
      "torch.Size([8, 512, 2, 2, 2])1'}\n",
      "torch.Size([8, 512, 2, 2, 2])1'}\n",
      "torch.Size([8, 512, 2, 2, 2])1'}\n",
      "torch.Size([8, 512, 2, 2, 2])1'}\n",
      "torch.Size([8, 512, 2, 2, 2])1'}\n",
      "torch.Size([8, 512, 2, 2, 2])2'}\n",
      "torch.Size([8, 512, 2, 2, 2])1'}\n",
      "torch.Size([8, 512, 2, 2, 2])2'}\n",
      "torch.Size([8, 512, 2, 2, 2])12'}\n",
      "torch.Size([8, 512, 2, 2, 2])12'}\n",
      "torch.Size([8, 512, 2, 2, 2])12'}\n",
      "torch.Size([8, 512, 2, 2, 2])11'}\n",
      "torch.Size([8, 512, 2, 2, 2])11'}\n",
      "torch.Size([8, 512, 2, 2, 2])11'}\n",
      "torch.Size([8, 512, 2, 2, 2])11'}\n",
      "torch.Size([8, 512, 2, 2, 2])11'}\n",
      "torch.Size([8, 512, 2, 2, 2])11'}\n",
      "torch.Size([8, 512, 2, 2, 2])11'}\n",
      "torch.Size([8, 512, 2, 2, 2])11'}\n",
      "torch.Size([8, 512, 2, 2, 2])12'}\n",
      "torch.Size([8, 512, 2, 2, 2])12'}\n",
      "torch.Size([8, 512, 2, 2, 2])12'}\n",
      "torch.Size([8, 512, 2, 2, 2])12'}\n",
      "torch.Size([8, 512, 2, 2, 2])12'}\n",
      "torch.Size([8, 512, 2, 2, 2])12'}\n",
      "torch.Size([8, 512, 2, 2, 2])12'}\n",
      "torch.Size([8, 512, 2, 2, 2])11'}\n",
      "torch.Size([8, 512, 2, 2, 2])11'}\n",
      "torch.Size([8, 512, 2, 2, 2])11'}\n",
      "torch.Size([8, 512, 2, 2, 2])11'}\n",
      "torch.Size([8, 512, 2, 2, 2])11'}\n",
      "torch.Size([8, 512, 2, 2, 2])11'}\n",
      "torch.Size([1, 512, 2, 2, 2])11'}\n",
      "torch.Size([8, 512, 2, 2, 2])11'}\n",
      "torch.Size([8, 512, 2, 2, 2])\n",
      "torch.Size([8, 512, 2, 2, 2])\n",
      "torch.Size([7, 512, 2, 2, 2])\n",
      "torch.Size([8, 512, 2, 2, 2])\n",
      "torch.Size([8, 512, 2, 2, 2])'}\n",
      "torch.Size([8, 512, 2, 2, 2])'}\n",
      "torch.Size([8, 512, 2, 2, 2])1'}\n",
      "torch.Size([8, 512, 2, 2, 2])'}\n",
      "torch.Size([8, 512, 2, 2, 2])1'}\n",
      "torch.Size([8, 512, 2, 2, 2])1'}\n",
      "torch.Size([8, 512, 2, 2, 2])1'}\n",
      "torch.Size([8, 512, 2, 2, 2])1'}\n",
      "torch.Size([8, 512, 2, 2, 2])1'}\n",
      "torch.Size([8, 512, 2, 2, 2])11'}\n",
      "torch.Size([8, 512, 2, 2, 2])11'}\n",
      "torch.Size([8, 512, 2, 2, 2])11'}\n",
      "torch.Size([8, 512, 2, 2, 2])11'}\n",
      "torch.Size([8, 512, 2, 2, 2])11'}\n",
      "torch.Size([8, 512, 2, 2, 2])11'}\n",
      "torch.Size([8, 512, 2, 2, 2])11'}\n",
      "torch.Size([8, 512, 2, 2, 2])12'}\n",
      "torch.Size([8, 512, 2, 2, 2])12'}\n",
      "torch.Size([8, 512, 2, 2, 2])11'}\n",
      "torch.Size([8, 512, 2, 2, 2])11'}\n",
      "torch.Size([8, 512, 2, 2, 2])12'}\n",
      "torch.Size([8, 512, 2, 2, 2])12'}\n",
      "torch.Size([8, 512, 2, 2, 2])12'}\n",
      "torch.Size([8, 512, 2, 2, 2])12'}\n",
      "torch.Size([8, 512, 2, 2, 2])11'}\n",
      "torch.Size([8, 512, 2, 2, 2])11'}\n",
      "torch.Size([8, 512, 2, 2, 2])11'}\n",
      "torch.Size([8, 512, 2, 2, 2])11'}\n",
      "torch.Size([8, 512, 2, 2, 2])11'}\n",
      "torch.Size([8, 512, 2, 2, 2])1'}\n",
      "torch.Size([8, 512, 2, 2, 2])1'}\n",
      "torch.Size([8, 512, 2, 2, 2])1'}\n",
      "torch.Size([8, 512, 2, 2, 2])1'}\n",
      "torch.Size([1, 512, 2, 2, 2])11'}\n",
      "torch.Size([8, 512, 2, 2, 2])1'}\n",
      "torch.Size([8, 512, 2, 2, 2])\n",
      "torch.Size([8, 512, 2, 2, 2])\n",
      "torch.Size([7, 512, 2, 2, 2])\n",
      "torch.Size([8, 512, 2, 2, 2])\n",
      "torch.Size([8, 512, 2, 2, 2])9'}\n",
      "torch.Size([8, 512, 2, 2, 2])'}\n",
      "torch.Size([8, 512, 2, 2, 2])'}\n",
      "torch.Size([8, 512, 2, 2, 2])'}\n",
      "torch.Size([8, 512, 2, 2, 2])'}\n",
      "torch.Size([8, 512, 2, 2, 2])'}\n",
      "torch.Size([8, 512, 2, 2, 2])'}\n",
      "torch.Size([8, 512, 2, 2, 2])'}\n",
      "torch.Size([8, 512, 2, 2, 2])'}\n",
      "torch.Size([8, 512, 2, 2, 2])1'}\n",
      "torch.Size([8, 512, 2, 2, 2])11'}\n",
      "torch.Size([8, 512, 2, 2, 2])11'}\n",
      "torch.Size([8, 512, 2, 2, 2])1'}\n",
      "torch.Size([8, 512, 2, 2, 2])1'}\n",
      "torch.Size([8, 512, 2, 2, 2])1'}\n",
      "torch.Size([8, 512, 2, 2, 2])1'}\n",
      "torch.Size([8, 512, 2, 2, 2])1'}\n",
      "torch.Size([8, 512, 2, 2, 2])1'}\n",
      "torch.Size([8, 512, 2, 2, 2])1'}\n",
      "torch.Size([8, 512, 2, 2, 2])11'}\n",
      "torch.Size([8, 512, 2, 2, 2])11'}\n",
      "torch.Size([8, 512, 2, 2, 2])11'}\n",
      "torch.Size([8, 512, 2, 2, 2])11'}\n",
      "torch.Size([8, 512, 2, 2, 2])11'}\n",
      "torch.Size([8, 512, 2, 2, 2])11'}\n",
      "torch.Size([8, 512, 2, 2, 2])11'}\n",
      "torch.Size([8, 512, 2, 2, 2])11'}\n",
      "torch.Size([8, 512, 2, 2, 2])1'}\n",
      "torch.Size([8, 512, 2, 2, 2])1'}\n",
      "torch.Size([8, 512, 2, 2, 2])11'}\n",
      "torch.Size([8, 512, 2, 2, 2])1'}\n",
      "torch.Size([8, 512, 2, 2, 2])1'}\n",
      "torch.Size([8, 512, 2, 2, 2])11'}\n",
      "torch.Size([1, 512, 2, 2, 2])11'}\n",
      "torch.Size([8, 512, 2, 2, 2])11'}\n",
      "torch.Size([8, 512, 2, 2, 2])\n",
      "torch.Size([8, 512, 2, 2, 2])\n",
      "torch.Size([7, 512, 2, 2, 2])\n",
      "torch.Size([8, 512, 2, 2, 2])\n",
      "torch.Size([8, 512, 2, 2, 2])'}\n",
      "torch.Size([8, 512, 2, 2, 2])'}\n",
      "torch.Size([8, 512, 2, 2, 2])'}\n",
      "torch.Size([8, 512, 2, 2, 2])'}\n",
      "torch.Size([8, 512, 2, 2, 2])'}\n",
      "torch.Size([8, 512, 2, 2, 2])9'}\n",
      "torch.Size([8, 512, 2, 2, 2])9'}\n",
      "torch.Size([8, 512, 2, 2, 2])9'}\n",
      "torch.Size([8, 512, 2, 2, 2])9'}\n",
      "torch.Size([8, 512, 2, 2, 2])09'}\n",
      "torch.Size([8, 512, 2, 2, 2])09'}\n",
      "torch.Size([8, 512, 2, 2, 2])09'}\n",
      "torch.Size([8, 512, 2, 2, 2])1'}\n",
      "torch.Size([8, 512, 2, 2, 2])1'}\n",
      "torch.Size([8, 512, 2, 2, 2])1'}\n",
      "torch.Size([8, 512, 2, 2, 2])1'}\n",
      "torch.Size([8, 512, 2, 2, 2])1'}\n",
      "torch.Size([8, 512, 2, 2, 2])1'}\n",
      "torch.Size([8, 512, 2, 2, 2])1'}\n",
      "torch.Size([8, 512, 2, 2, 2])11'}\n",
      "torch.Size([8, 512, 2, 2, 2])11'}\n",
      "torch.Size([8, 512, 2, 2, 2])11'}\n",
      "torch.Size([8, 512, 2, 2, 2])11'}\n",
      "torch.Size([8, 512, 2, 2, 2])11'}\n",
      "torch.Size([8, 512, 2, 2, 2])11'}\n",
      "torch.Size([8, 512, 2, 2, 2])12'}\n",
      "torch.Size([8, 512, 2, 2, 2])11'}\n",
      "torch.Size([8, 512, 2, 2, 2])11'}\n",
      "torch.Size([8, 512, 2, 2, 2])12'}\n",
      "torch.Size([8, 512, 2, 2, 2])12'}\n",
      "torch.Size([8, 512, 2, 2, 2])12'}\n",
      "torch.Size([8, 512, 2, 2, 2])12'}\n",
      "torch.Size([8, 512, 2, 2, 2])12'}\n",
      "torch.Size([1, 512, 2, 2, 2])12'}\n",
      "torch.Size([8, 512, 2, 2, 2])11'}\n",
      "torch.Size([8, 512, 2, 2, 2])\n",
      "torch.Size([8, 512, 2, 2, 2])\n",
      "torch.Size([7, 512, 2, 2, 2])\n",
      "torch.Size([8, 512, 2, 2, 2])\n",
      "torch.Size([8, 512, 2, 2, 2])1'}\n",
      "torch.Size([8, 512, 2, 2, 2])1'}\n",
      "torch.Size([8, 512, 2, 2, 2])1'}\n",
      "torch.Size([8, 512, 2, 2, 2])'}\n",
      "torch.Size([8, 512, 2, 2, 2])'}\n",
      "torch.Size([8, 512, 2, 2, 2])'}\n",
      "torch.Size([8, 512, 2, 2, 2])1'}\n",
      "torch.Size([8, 512, 2, 2, 2])'}\n",
      "torch.Size([8, 512, 2, 2, 2])'}\n",
      "torch.Size([8, 512, 2, 2, 2])11'}\n",
      "torch.Size([8, 512, 2, 2, 2])1'}\n",
      "torch.Size([8, 512, 2, 2, 2])11'}\n",
      "torch.Size([8, 512, 2, 2, 2])1'}\n",
      "torch.Size([8, 512, 2, 2, 2])1'}\n",
      "torch.Size([8, 512, 2, 2, 2])1'}\n",
      "torch.Size([8, 512, 2, 2, 2])1'}\n",
      "torch.Size([8, 512, 2, 2, 2])1'}\n",
      "torch.Size([8, 512, 2, 2, 2])09'}\n",
      "torch.Size([8, 512, 2, 2, 2])09'}\n",
      "torch.Size([8, 512, 2, 2, 2])09'}\n",
      "torch.Size([8, 512, 2, 2, 2])1'}\n",
      "torch.Size([8, 512, 2, 2, 2])1'}\n",
      "torch.Size([8, 512, 2, 2, 2])1'}\n",
      "torch.Size([8, 512, 2, 2, 2])1'}\n",
      "torch.Size([8, 512, 2, 2, 2])11'}\n",
      "torch.Size([8, 512, 2, 2, 2])11'}\n",
      "torch.Size([8, 512, 2, 2, 2])1'}\n",
      "torch.Size([8, 512, 2, 2, 2])1'}\n",
      "torch.Size([8, 512, 2, 2, 2])11'}\n",
      "torch.Size([8, 512, 2, 2, 2])1'}\n",
      "torch.Size([8, 512, 2, 2, 2])1'}\n",
      "torch.Size([8, 512, 2, 2, 2])1'}\n",
      "torch.Size([8, 512, 2, 2, 2])1'}\n",
      "torch.Size([1, 512, 2, 2, 2])1'}\n",
      "torch.Size([8, 512, 2, 2, 2])1'}\n",
      "torch.Size([8, 512, 2, 2, 2])\n",
      "torch.Size([8, 512, 2, 2, 2])\n",
      "torch.Size([7, 512, 2, 2, 2])\n"
     ]
    },
    {
     "name": "stderr",
     "output_type": "stream",
     "text": [
      "Monitored metric loss/val did not improve in the last 10 records. Best score: 1.071. Signaling Trainer to stop.\n",
      "GPU available: True, used: True\n",
      "TPU available: False, using: 0 TPU cores\n",
      "LOCAL_RANK: 0 - CUDA_VISIBLE_DEVICES: [0]\n",
      "\n",
      "  | Name               | Type             | Params\n",
      "--------------------------------------------------------\n",
      "0 | model              | VGG              | 65.1 M\n",
      "1 | criteria           | CrossEntropyLoss | 0     \n",
      "2 | train_metrics      | MetricCollection | 0     \n",
      "3 | valid_metrics      | MetricCollection | 0     \n",
      "4 | valid_dummy_metric | AUROC            | 0     \n",
      "--------------------------------------------------------\n",
      "65.1 M    Trainable params\n",
      "0         Non-trainable params\n",
      "65.1 M    Total params\n",
      "260.447   Total estimated model params size (MB)\n"
     ]
    },
    {
     "name": "stdout",
     "output_type": "stream",
     "text": [
      "Architecture [VGG] was created\n",
      "***Defined hyperparameters:***\n",
      "\"arch\":                {'name': 'vgg16', 'args': {'num_channels': 1, 'num_classes': 3}}\n",
      "\"checkpoint_path\":     None\n",
      "\"class_weights\":       tensor([1.2466, 0.6500, 1.5167], device='cuda:0')\n",
      "\"hp_metrics\":          ['loss/train', 'loss/val', 'Accuracy/val', 'AUROC/val', 'Precision/val', 'Recall/val', 'Specificity/val']\n",
      "\"loss\":                {'type': 'CrossEntropyLoss', 'args': {'weight': True}}\n",
      "\"optimizer\":           {'type': 'Adam', 'args': {'lr': 0.02, 'weight_decay': 0, 'amsgrad': False}}\n",
      "\"roi_hparams\":         {'enable': False, 'output_shape': [3, 3, 3], 'boundary_boxes': []}\n",
      "\"weight_distribution\": None\n",
      "Enabled callbacks:  ['LitProgressBar', 'EarlyStopping']\n",
      "Dataloader fold: 4\n",
      "torch.Size([8, 512, 2, 2, 2])\n",
      "torch.Size([8, 512, 2, 2, 2])}\n",
      "torch.Size([8, 512, 2, 2, 2])e+18'}\n",
      "torch.Size([8, 512, 2, 2, 2])e+18'}\n",
      "torch.Size([8, 512, 2, 2, 2])e+18'}\n",
      "torch.Size([8, 512, 2, 2, 2])e+18'}\n",
      "torch.Size([8, 512, 2, 2, 2])e+18'}\n",
      "torch.Size([8, 512, 2, 2, 2])e+18'}\n",
      "torch.Size([8, 512, 2, 2, 2])e+18'}\n",
      "torch.Size([8, 512, 2, 2, 2])e+18'}\n",
      "torch.Size([8, 512, 2, 2, 2])6e+17'}\n",
      "torch.Size([8, 512, 2, 2, 2])9e+17'}\n",
      "torch.Size([8, 512, 2, 2, 2])5e+17'}\n",
      "torch.Size([8, 512, 2, 2, 2])3e+17'}\n",
      "torch.Size([8, 512, 2, 2, 2])e+17'}\n",
      "torch.Size([8, 512, 2, 2, 2])4e+17'}\n",
      "torch.Size([8, 512, 2, 2, 2])4e+17'}\n",
      "torch.Size([8, 512, 2, 2, 2])8e+17'}\n",
      "torch.Size([8, 512, 2, 2, 2])7e+17'}\n",
      "torch.Size([8, 512, 2, 2, 2])9e+17'}\n",
      "torch.Size([8, 512, 2, 2, 2])3e+17'}\n",
      "torch.Size([8, 512, 2, 2, 2])3e+17'}\n",
      "torch.Size([8, 512, 2, 2, 2])e+10'}\n",
      "torch.Size([8, 512, 2, 2, 2])e+10'}\n",
      "torch.Size([8, 512, 2, 2, 2])e+10'}\n",
      "torch.Size([8, 512, 2, 2, 2])8e+10'}\n",
      "torch.Size([8, 512, 2, 2, 2])2e+10'}\n",
      "torch.Size([8, 512, 2, 2, 2])1e+10'}\n",
      "torch.Size([8, 512, 2, 2, 2])1e+09'}\n",
      "torch.Size([8, 512, 2, 2, 2])6e+09'}\n",
      "torch.Size([8, 512, 2, 2, 2])e+09'}\n",
      "torch.Size([8, 512, 2, 2, 2])8e+09'}\n",
      "torch.Size([8, 512, 2, 2, 2])8e+09'}\n",
      "torch.Size([8, 512, 2, 2, 2])8e+09'}\n",
      "torch.Size([1, 512, 2, 2, 2])6e+09'}\n",
      "torch.Size([8, 512, 2, 2, 2])5e+08'}\n",
      "torch.Size([8, 512, 2, 2, 2])\n",
      "torch.Size([8, 512, 2, 2, 2])\n",
      "torch.Size([7, 512, 2, 2, 2])\n"
     ]
    },
    {
     "name": "stderr",
     "output_type": "stream",
     "text": [
      "Metric loss/val improved. New best score: 893375040.000\n"
     ]
    },
    {
     "name": "stdout",
     "output_type": "stream",
     "text": [
      "torch.Size([8, 512, 2, 2, 2])\n",
      "torch.Size([8, 512, 2, 2, 2])e+08'}\n",
      "torch.Size([8, 512, 2, 2, 2])e+09'}\n",
      "torch.Size([8, 512, 2, 2, 2])e+09'}\n",
      "torch.Size([8, 512, 2, 2, 2])e+09'}\n",
      "torch.Size([8, 512, 2, 2, 2])e+09'}\n",
      "torch.Size([8, 512, 2, 2, 2])+09'}\n",
      "torch.Size([8, 512, 2, 2, 2])+09'}\n",
      "torch.Size([8, 512, 2, 2, 2])e+09'}\n",
      "torch.Size([8, 512, 2, 2, 2])+09'}\n",
      "torch.Size([8, 512, 2, 2, 2])9e+09'}\n",
      "torch.Size([8, 512, 2, 2, 2])2e+09'}\n",
      "torch.Size([8, 512, 2, 2, 2])e+09'}\n",
      "torch.Size([8, 512, 2, 2, 2])e+09'}\n",
      "torch.Size([8, 512, 2, 2, 2])e+09'}\n",
      "torch.Size([8, 512, 2, 2, 2])6e+09'}\n",
      "torch.Size([8, 512, 2, 2, 2])8e+09'}\n",
      "torch.Size([8, 512, 2, 2, 2])1e+09'}\n",
      "torch.Size([8, 512, 2, 2, 2])1e+09'}\n",
      "torch.Size([8, 512, 2, 2, 2])1e+09'}\n",
      "torch.Size([8, 512, 2, 2, 2])e+09'}\n",
      "torch.Size([8, 512, 2, 2, 2])4e+09'}\n",
      "torch.Size([8, 512, 2, 2, 2])6e+09'}\n",
      "torch.Size([8, 512, 2, 2, 2])6e+09'}\n",
      "torch.Size([8, 512, 2, 2, 2])4e+09'}\n",
      "torch.Size([8, 512, 2, 2, 2])1e+09'}\n",
      "torch.Size([8, 512, 2, 2, 2])9e+09'}\n",
      "torch.Size([8, 512, 2, 2, 2])6e+09'}\n",
      "torch.Size([8, 512, 2, 2, 2])4e+09'}\n",
      "torch.Size([8, 512, 2, 2, 2])9e+09'}\n",
      "torch.Size([8, 512, 2, 2, 2])9e+09'}\n",
      "torch.Size([8, 512, 2, 2, 2])7e+09'}\n",
      "torch.Size([8, 512, 2, 2, 2])1e+09'}\n",
      "torch.Size([8, 512, 2, 2, 2])e+09'}\n",
      "torch.Size([1, 512, 2, 2, 2])e+09'}\n",
      "torch.Size([8, 512, 2, 2, 2])e+09'}\n",
      "torch.Size([8, 512, 2, 2, 2])\n",
      "torch.Size([8, 512, 2, 2, 2])\n",
      "torch.Size([7, 512, 2, 2, 2])\n"
     ]
    },
    {
     "name": "stderr",
     "output_type": "stream",
     "text": [
      "Metric loss/val improved by 893375040.000 >= min_delta = 0.0001. New best score: 7.127\n"
     ]
    },
    {
     "name": "stdout",
     "output_type": "stream",
     "text": [
      "torch.Size([8, 512, 2, 2, 2])\n",
      "torch.Size([8, 512, 2, 2, 2])e+09'}\n",
      "torch.Size([8, 512, 2, 2, 2])e+08'}\n",
      "torch.Size([8, 512, 2, 2, 2])e+09'}\n",
      "torch.Size([8, 512, 2, 2, 2])e+09'}\n",
      "torch.Size([8, 512, 2, 2, 2])e+09'}\n",
      "torch.Size([8, 512, 2, 2, 2])e+09'}\n",
      "torch.Size([8, 512, 2, 2, 2])e+09'}\n",
      "torch.Size([8, 512, 2, 2, 2])e+09'}\n",
      "torch.Size([8, 512, 2, 2, 2])e+09'}\n",
      "torch.Size([8, 512, 2, 2, 2])e+10'}\n",
      "torch.Size([8, 512, 2, 2, 2])e+10'}\n",
      "torch.Size([8, 512, 2, 2, 2])e+10'}\n",
      "torch.Size([8, 512, 2, 2, 2])e+10'}\n",
      "torch.Size([8, 512, 2, 2, 2])9e+10'}\n",
      "torch.Size([8, 512, 2, 2, 2])9e+10'}\n",
      "torch.Size([8, 512, 2, 2, 2])9e+10'}\n",
      "torch.Size([8, 512, 2, 2, 2])9e+10'}\n",
      "torch.Size([8, 512, 2, 2, 2])9e+10'}\n",
      "torch.Size([8, 512, 2, 2, 2])9e+10'}\n",
      "torch.Size([8, 512, 2, 2, 2])9e+10'}\n",
      "torch.Size([8, 512, 2, 2, 2])9e+10'}\n",
      "torch.Size([8, 512, 2, 2, 2])9e+10'}\n",
      "torch.Size([8, 512, 2, 2, 2])2e+10'}\n",
      "torch.Size([8, 512, 2, 2, 2])2e+10'}\n",
      "torch.Size([8, 512, 2, 2, 2])2e+10'}\n",
      "torch.Size([8, 512, 2, 2, 2])2e+10'}\n",
      "torch.Size([8, 512, 2, 2, 2])2e+10'}\n",
      "torch.Size([8, 512, 2, 2, 2])2e+10'}\n",
      "torch.Size([8, 512, 2, 2, 2])2e+10'}\n",
      "torch.Size([8, 512, 2, 2, 2])4'}\n",
      "torch.Size([8, 512, 2, 2, 2])3'}\n",
      "torch.Size([8, 512, 2, 2, 2])2'}\n",
      "torch.Size([8, 512, 2, 2, 2])3'}\n",
      "torch.Size([1, 512, 2, 2, 2])9'}\n",
      "torch.Size([8, 512, 2, 2, 2])3'}\n",
      "torch.Size([8, 512, 2, 2, 2])\n",
      "torch.Size([8, 512, 2, 2, 2])\n",
      "torch.Size([7, 512, 2, 2, 2])\n"
     ]
    },
    {
     "name": "stderr",
     "output_type": "stream",
     "text": [
      "Metric loss/val improved by 4.795 >= min_delta = 0.0001. New best score: 2.331\n"
     ]
    },
    {
     "name": "stdout",
     "output_type": "stream",
     "text": [
      "torch.Size([8, 512, 2, 2, 2])\n",
      "torch.Size([8, 512, 2, 2, 2])'}\n",
      "torch.Size([8, 512, 2, 2, 2])'}\n",
      "torch.Size([8, 512, 2, 2, 2])'}\n",
      "torch.Size([8, 512, 2, 2, 2])'}\n",
      "torch.Size([8, 512, 2, 2, 2])'}\n",
      "torch.Size([8, 512, 2, 2, 2])'}\n",
      "torch.Size([8, 512, 2, 2, 2])'}\n",
      "torch.Size([8, 512, 2, 2, 2])'}\n",
      "torch.Size([8, 512, 2, 2, 2])'}\n",
      "torch.Size([8, 512, 2, 2, 2])9'}\n",
      "torch.Size([8, 512, 2, 2, 2])}\n",
      "torch.Size([8, 512, 2, 2, 2])}\n",
      "torch.Size([8, 512, 2, 2, 2])9'}\n",
      "torch.Size([8, 512, 2, 2, 2])1'}\n",
      "torch.Size([8, 512, 2, 2, 2])3'}\n",
      "torch.Size([8, 512, 2, 2, 2])\n",
      "torch.Size([8, 512, 2, 2, 2])5'}\n",
      "torch.Size([8, 512, 2, 2, 2])9'}\n",
      "torch.Size([8, 512, 2, 2, 2])6'}\n",
      "torch.Size([8, 512, 2, 2, 2])6'}\n",
      "torch.Size([8, 512, 2, 2, 2])9'}\n",
      "torch.Size([8, 512, 2, 2, 2])6'}\n",
      "torch.Size([8, 512, 2, 2, 2])'}\n",
      "torch.Size([8, 512, 2, 2, 2])5'}\n",
      "torch.Size([8, 512, 2, 2, 2])'}\n",
      "torch.Size([8, 512, 2, 2, 2])7'}\n",
      "torch.Size([8, 512, 2, 2, 2])2'}\n",
      "torch.Size([8, 512, 2, 2, 2])3'}\n",
      "torch.Size([8, 512, 2, 2, 2])3'}\n",
      "torch.Size([8, 512, 2, 2, 2])5'}\n",
      "torch.Size([8, 512, 2, 2, 2])9'}\n",
      "torch.Size([8, 512, 2, 2, 2])5'}\n",
      "torch.Size([8, 512, 2, 2, 2])2'}\n",
      "torch.Size([1, 512, 2, 2, 2])'}\n",
      "torch.Size([8, 512, 2, 2, 2])4'}\n",
      "torch.Size([8, 512, 2, 2, 2])\n",
      "torch.Size([8, 512, 2, 2, 2])\n",
      "torch.Size([7, 512, 2, 2, 2])\n"
     ]
    },
    {
     "name": "stderr",
     "output_type": "stream",
     "text": [
      "Metric loss/val improved by 0.998 >= min_delta = 0.0001. New best score: 1.334\n"
     ]
    },
    {
     "name": "stdout",
     "output_type": "stream",
     "text": [
      "torch.Size([8, 512, 2, 2, 2])\n",
      "torch.Size([8, 512, 2, 2, 2])'}\n",
      "torch.Size([8, 512, 2, 2, 2])'}\n",
      "torch.Size([8, 512, 2, 2, 2])'}\n",
      "torch.Size([8, 512, 2, 2, 2])'}\n",
      "torch.Size([8, 512, 2, 2, 2])'}\n",
      "torch.Size([8, 512, 2, 2, 2])'}\n",
      "torch.Size([8, 512, 2, 2, 2])'}\n",
      "torch.Size([8, 512, 2, 2, 2])'}\n",
      "torch.Size([8, 512, 2, 2, 2])'}\n",
      "torch.Size([8, 512, 2, 2, 2])7'}\n",
      "torch.Size([8, 512, 2, 2, 2])3'}\n",
      "torch.Size([8, 512, 2, 2, 2])'}\n",
      "torch.Size([8, 512, 2, 2, 2])5'}\n",
      "torch.Size([8, 512, 2, 2, 2])8'}\n",
      "torch.Size([8, 512, 2, 2, 2])1'}\n",
      "torch.Size([8, 512, 2, 2, 2])8'}\n",
      "torch.Size([8, 512, 2, 2, 2])9'}\n",
      "torch.Size([8, 512, 2, 2, 2])'}\n",
      "torch.Size([8, 512, 2, 2, 2])6'}\n",
      "torch.Size([8, 512, 2, 2, 2])7'}\n",
      "torch.Size([8, 512, 2, 2, 2])7'}\n",
      "torch.Size([8, 512, 2, 2, 2])6'}\n",
      "torch.Size([8, 512, 2, 2, 2])3'}\n",
      "torch.Size([8, 512, 2, 2, 2])5'}\n",
      "torch.Size([8, 512, 2, 2, 2])'}\n",
      "torch.Size([8, 512, 2, 2, 2])8'}\n",
      "torch.Size([8, 512, 2, 2, 2])9'}\n",
      "torch.Size([8, 512, 2, 2, 2])6'}\n",
      "torch.Size([8, 512, 2, 2, 2])2'}\n",
      "torch.Size([8, 512, 2, 2, 2])8'}\n",
      "torch.Size([8, 512, 2, 2, 2])'}\n",
      "torch.Size([8, 512, 2, 2, 2])6'}\n",
      "torch.Size([8, 512, 2, 2, 2])5'}\n",
      "torch.Size([1, 512, 2, 2, 2])4'}\n",
      "torch.Size([8, 512, 2, 2, 2])'}\n",
      "torch.Size([8, 512, 2, 2, 2])\n",
      "torch.Size([8, 512, 2, 2, 2])\n",
      "torch.Size([7, 512, 2, 2, 2])\n"
     ]
    },
    {
     "name": "stderr",
     "output_type": "stream",
     "text": [
      "Metric loss/val improved by 0.267 >= min_delta = 0.0001. New best score: 1.066\n"
     ]
    },
    {
     "name": "stdout",
     "output_type": "stream",
     "text": [
      "torch.Size([8, 512, 2, 2, 2])\n",
      "torch.Size([8, 512, 2, 2, 2])'}\n",
      "torch.Size([8, 512, 2, 2, 2])'}\n",
      "torch.Size([8, 512, 2, 2, 2])'}\n",
      "torch.Size([8, 512, 2, 2, 2])'}\n",
      "torch.Size([8, 512, 2, 2, 2])\n",
      "torch.Size([8, 512, 2, 2, 2])'}\n",
      "torch.Size([8, 512, 2, 2, 2])'}\n",
      "torch.Size([8, 512, 2, 2, 2])'}\n",
      "torch.Size([8, 512, 2, 2, 2])'}\n",
      "torch.Size([8, 512, 2, 2, 2])1'}\n",
      "torch.Size([8, 512, 2, 2, 2])1'}\n",
      "torch.Size([8, 512, 2, 2, 2])3'}\n",
      "torch.Size([8, 512, 2, 2, 2])'}\n",
      "torch.Size([8, 512, 2, 2, 2])6'}\n",
      "torch.Size([8, 512, 2, 2, 2])6'}\n",
      "torch.Size([8, 512, 2, 2, 2])7'}\n",
      "torch.Size([8, 512, 2, 2, 2])7'}\n",
      "torch.Size([8, 512, 2, 2, 2])6'}\n",
      "torch.Size([8, 512, 2, 2, 2])3'}\n",
      "torch.Size([8, 512, 2, 2, 2])3'}\n",
      "torch.Size([8, 512, 2, 2, 2])9'}\n",
      "torch.Size([8, 512, 2, 2, 2])\n",
      "torch.Size([8, 512, 2, 2, 2])9'}\n",
      "torch.Size([8, 512, 2, 2, 2])6'}\n",
      "torch.Size([8, 512, 2, 2, 2])7'}\n",
      "torch.Size([8, 512, 2, 2, 2])7'}\n",
      "torch.Size([8, 512, 2, 2, 2])5'}\n",
      "torch.Size([8, 512, 2, 2, 2])4'}\n",
      "torch.Size([8, 512, 2, 2, 2])8'}\n",
      "torch.Size([8, 512, 2, 2, 2])4'}\n",
      "torch.Size([8, 512, 2, 2, 2])6'}\n",
      "torch.Size([8, 512, 2, 2, 2])3'}\n",
      "torch.Size([8, 512, 2, 2, 2])2'}\n",
      "torch.Size([1, 512, 2, 2, 2])2'}\n",
      "torch.Size([8, 512, 2, 2, 2])9'}\n",
      "torch.Size([8, 512, 2, 2, 2])\n",
      "torch.Size([8, 512, 2, 2, 2])\n",
      "torch.Size([7, 512, 2, 2, 2])\n",
      "torch.Size([8, 512, 2, 2, 2])\n",
      "torch.Size([8, 512, 2, 2, 2])'}\n",
      "torch.Size([8, 512, 2, 2, 2])'}\n",
      "torch.Size([8, 512, 2, 2, 2])}\n",
      "torch.Size([8, 512, 2, 2, 2])'}\n",
      "torch.Size([8, 512, 2, 2, 2])'}\n",
      "torch.Size([8, 512, 2, 2, 2])'}\n",
      "torch.Size([8, 512, 2, 2, 2])'}\n",
      "torch.Size([8, 512, 2, 2, 2])'}\n",
      "torch.Size([8, 512, 2, 2, 2])}\n",
      "torch.Size([8, 512, 2, 2, 2])6'}\n",
      "torch.Size([8, 512, 2, 2, 2])2'}\n",
      "torch.Size([8, 512, 2, 2, 2])6'}\n",
      "torch.Size([8, 512, 2, 2, 2])6'}\n",
      "torch.Size([8, 512, 2, 2, 2])4'}\n",
      "torch.Size([8, 512, 2, 2, 2])5'}\n",
      "torch.Size([8, 512, 2, 2, 2])1'}\n",
      "torch.Size([8, 512, 2, 2, 2])1'}\n",
      "torch.Size([8, 512, 2, 2, 2])1'}\n",
      "torch.Size([8, 512, 2, 2, 2])5'}\n",
      "torch.Size([8, 512, 2, 2, 2])8'}\n",
      "torch.Size([8, 512, 2, 2, 2])9'}\n",
      "torch.Size([8, 512, 2, 2, 2])9'}\n",
      "torch.Size([8, 512, 2, 2, 2])2'}\n",
      "torch.Size([8, 512, 2, 2, 2])2'}\n",
      "torch.Size([8, 512, 2, 2, 2])2'}\n",
      "torch.Size([8, 512, 2, 2, 2])8'}\n",
      "torch.Size([8, 512, 2, 2, 2])8'}\n",
      "torch.Size([8, 512, 2, 2, 2])3'}\n",
      "torch.Size([8, 512, 2, 2, 2])'}\n",
      "torch.Size([8, 512, 2, 2, 2])8'}\n",
      "torch.Size([8, 512, 2, 2, 2])9'}\n",
      "torch.Size([8, 512, 2, 2, 2])7'}\n",
      "torch.Size([8, 512, 2, 2, 2])5'}\n",
      "torch.Size([1, 512, 2, 2, 2])3'}\n",
      "torch.Size([8, 512, 2, 2, 2])9'}\n",
      "torch.Size([8, 512, 2, 2, 2])\n",
      "torch.Size([8, 512, 2, 2, 2])\n",
      "torch.Size([7, 512, 2, 2, 2])\n",
      "torch.Size([8, 512, 2, 2, 2])\n",
      "torch.Size([8, 512, 2, 2, 2])'}\n",
      "torch.Size([8, 512, 2, 2, 2])'}\n",
      "torch.Size([8, 512, 2, 2, 2])'}\n",
      "torch.Size([8, 512, 2, 2, 2])'}\n",
      "torch.Size([8, 512, 2, 2, 2])'}\n",
      "torch.Size([8, 512, 2, 2, 2])'}\n",
      "torch.Size([8, 512, 2, 2, 2])'}\n",
      "torch.Size([8, 512, 2, 2, 2])'}\n",
      "torch.Size([8, 512, 2, 2, 2])'}\n",
      "torch.Size([8, 512, 2, 2, 2])8'}\n",
      "torch.Size([8, 512, 2, 2, 2])7'}\n",
      "torch.Size([8, 512, 2, 2, 2])8'}\n",
      "torch.Size([8, 512, 2, 2, 2])3'}\n",
      "torch.Size([8, 512, 2, 2, 2])6'}\n",
      "torch.Size([8, 512, 2, 2, 2])7'}\n",
      "torch.Size([8, 512, 2, 2, 2])7'}\n",
      "torch.Size([8, 512, 2, 2, 2])6'}\n",
      "torch.Size([8, 512, 2, 2, 2])7'}\n",
      "torch.Size([8, 512, 2, 2, 2])8'}\n",
      "torch.Size([8, 512, 2, 2, 2])9'}\n",
      "torch.Size([8, 512, 2, 2, 2])8'}\n",
      "torch.Size([8, 512, 2, 2, 2])2'}\n",
      "torch.Size([8, 512, 2, 2, 2])2'}\n",
      "torch.Size([8, 512, 2, 2, 2])2'}\n",
      "torch.Size([8, 512, 2, 2, 2])3'}\n",
      "torch.Size([8, 512, 2, 2, 2])2'}\n",
      "torch.Size([8, 512, 2, 2, 2])'}\n",
      "torch.Size([8, 512, 2, 2, 2])5'}\n",
      "torch.Size([8, 512, 2, 2, 2])4'}\n",
      "torch.Size([8, 512, 2, 2, 2])8'}\n",
      "torch.Size([8, 512, 2, 2, 2])6'}\n",
      "torch.Size([8, 512, 2, 2, 2])6'}\n",
      "torch.Size([8, 512, 2, 2, 2])8'}\n",
      "torch.Size([1, 512, 2, 2, 2])4'}\n",
      "torch.Size([8, 512, 2, 2, 2])4'}\n",
      "torch.Size([8, 512, 2, 2, 2])\n",
      "torch.Size([8, 512, 2, 2, 2])\n",
      "torch.Size([7, 512, 2, 2, 2])\n",
      "torch.Size([8, 512, 2, 2, 2])\n",
      "torch.Size([8, 512, 2, 2, 2])'}\n",
      "torch.Size([8, 512, 2, 2, 2])'}\n",
      "torch.Size([8, 512, 2, 2, 2])'}\n",
      "torch.Size([8, 512, 2, 2, 2])'}\n",
      "torch.Size([8, 512, 2, 2, 2])'}\n",
      "torch.Size([8, 512, 2, 2, 2])'}\n",
      "torch.Size([8, 512, 2, 2, 2])'}\n",
      "torch.Size([8, 512, 2, 2, 2])'}\n",
      "torch.Size([8, 512, 2, 2, 2])'}\n",
      "torch.Size([8, 512, 2, 2, 2])6'}\n",
      "torch.Size([8, 512, 2, 2, 2])5'}\n",
      "torch.Size([8, 512, 2, 2, 2])5'}\n",
      "torch.Size([8, 512, 2, 2, 2])6'}\n",
      "torch.Size([8, 512, 2, 2, 2])6'}\n",
      "torch.Size([8, 512, 2, 2, 2])1'}\n",
      "torch.Size([8, 512, 2, 2, 2])9'}\n",
      "torch.Size([8, 512, 2, 2, 2])9'}\n",
      "torch.Size([8, 512, 2, 2, 2])7'}\n",
      "torch.Size([8, 512, 2, 2, 2])8'}\n",
      "torch.Size([8, 512, 2, 2, 2])'}\n",
      "torch.Size([8, 512, 2, 2, 2])1'}\n",
      "torch.Size([8, 512, 2, 2, 2])8'}\n",
      "torch.Size([8, 512, 2, 2, 2])7'}\n",
      "torch.Size([8, 512, 2, 2, 2])5'}\n",
      "torch.Size([8, 512, 2, 2, 2])9'}\n",
      "torch.Size([8, 512, 2, 2, 2])7'}\n",
      "torch.Size([8, 512, 2, 2, 2])4'}\n",
      "torch.Size([8, 512, 2, 2, 2])4'}\n",
      "torch.Size([8, 512, 2, 2, 2])6'}\n",
      "torch.Size([8, 512, 2, 2, 2])9'}\n",
      "torch.Size([8, 512, 2, 2, 2])1'}\n",
      "torch.Size([8, 512, 2, 2, 2])'}\n",
      "torch.Size([8, 512, 2, 2, 2])'}\n",
      "torch.Size([1, 512, 2, 2, 2])'}\n",
      "torch.Size([8, 512, 2, 2, 2])9'}\n",
      "torch.Size([8, 512, 2, 2, 2])\n",
      "torch.Size([8, 512, 2, 2, 2])\n",
      "torch.Size([7, 512, 2, 2, 2])\n",
      "torch.Size([8, 512, 2, 2, 2])\n",
      "torch.Size([8, 512, 2, 2, 2])9'}\n",
      "torch.Size([8, 512, 2, 2, 2])8'}\n",
      "torch.Size([8, 512, 2, 2, 2])9'}\n",
      "torch.Size([8, 512, 2, 2, 2])9'}\n",
      "torch.Size([8, 512, 2, 2, 2])9'}\n",
      "torch.Size([8, 512, 2, 2, 2])8'}\n",
      "torch.Size([8, 512, 2, 2, 2])1'}\n",
      "torch.Size([8, 512, 2, 2, 2])4'}\n",
      "torch.Size([8, 512, 2, 2, 2])5'}\n",
      "torch.Size([8, 512, 2, 2, 2])35'}\n",
      "torch.Size([8, 512, 2, 2, 2])39'}\n",
      "torch.Size([8, 512, 2, 2, 2])4'}\n",
      "torch.Size([8, 512, 2, 2, 2])41'}\n",
      "torch.Size([8, 512, 2, 2, 2])39'}\n",
      "torch.Size([8, 512, 2, 2, 2])4'}\n",
      "torch.Size([8, 512, 2, 2, 2])39'}\n",
      "torch.Size([8, 512, 2, 2, 2])38'}\n",
      "torch.Size([8, 512, 2, 2, 2])38'}\n",
      "torch.Size([8, 512, 2, 2, 2])39'}\n",
      "torch.Size([8, 512, 2, 2, 2])31'}\n",
      "torch.Size([8, 512, 2, 2, 2])32'}\n",
      "torch.Size([8, 512, 2, 2, 2])32'}\n",
      "torch.Size([8, 512, 2, 2, 2])31'}\n",
      "torch.Size([8, 512, 2, 2, 2])34'}\n",
      "torch.Size([8, 512, 2, 2, 2])31'}\n",
      "torch.Size([8, 512, 2, 2, 2])32'}\n",
      "torch.Size([8, 512, 2, 2, 2])32'}\n",
      "torch.Size([8, 512, 2, 2, 2])28'}\n",
      "torch.Size([8, 512, 2, 2, 2])26'}\n",
      "torch.Size([8, 512, 2, 2, 2])27'}\n",
      "torch.Size([8, 512, 2, 2, 2])22'}\n",
      "torch.Size([8, 512, 2, 2, 2])22'}\n",
      "torch.Size([8, 512, 2, 2, 2])2'}\n",
      "torch.Size([1, 512, 2, 2, 2])21'}\n",
      "torch.Size([8, 512, 2, 2, 2])19'}\n",
      "torch.Size([8, 512, 2, 2, 2])\n",
      "torch.Size([8, 512, 2, 2, 2])\n",
      "torch.Size([7, 512, 2, 2, 2])\n",
      "torch.Size([8, 512, 2, 2, 2])\n",
      "torch.Size([8, 512, 2, 2, 2])8'}\n",
      "torch.Size([8, 512, 2, 2, 2])8'}\n",
      "torch.Size([8, 512, 2, 2, 2])9'}\n",
      "torch.Size([8, 512, 2, 2, 2])2'}\n",
      "torch.Size([8, 512, 2, 2, 2])2'}\n",
      "torch.Size([8, 512, 2, 2, 2])1'}\n",
      "torch.Size([8, 512, 2, 2, 2])2'}\n",
      "torch.Size([8, 512, 2, 2, 2])2'}\n",
      "torch.Size([8, 512, 2, 2, 2])'}\n",
      "torch.Size([8, 512, 2, 2, 2])2'}\n",
      "torch.Size([8, 512, 2, 2, 2])18'}\n",
      "torch.Size([8, 512, 2, 2, 2])16'}\n",
      "torch.Size([8, 512, 2, 2, 2])17'}\n",
      "torch.Size([8, 512, 2, 2, 2])18'}\n",
      "torch.Size([8, 512, 2, 2, 2])2'}\n",
      "torch.Size([8, 512, 2, 2, 2])2'}\n",
      "torch.Size([8, 512, 2, 2, 2])18'}\n",
      "torch.Size([8, 512, 2, 2, 2])18'}\n",
      "torch.Size([8, 512, 2, 2, 2])16'}\n",
      "torch.Size([8, 512, 2, 2, 2])16'}\n",
      "torch.Size([8, 512, 2, 2, 2])17'}\n",
      "torch.Size([8, 512, 2, 2, 2])18'}\n",
      "torch.Size([8, 512, 2, 2, 2])18'}\n",
      "torch.Size([8, 512, 2, 2, 2])14'}\n",
      "torch.Size([8, 512, 2, 2, 2])14'}\n",
      "torch.Size([8, 512, 2, 2, 2])13'}\n",
      "torch.Size([8, 512, 2, 2, 2])14'}\n",
      "torch.Size([8, 512, 2, 2, 2])14'}\n",
      "torch.Size([8, 512, 2, 2, 2])15'}\n",
      "torch.Size([8, 512, 2, 2, 2])16'}\n",
      "torch.Size([8, 512, 2, 2, 2])16'}\n",
      "torch.Size([8, 512, 2, 2, 2])16'}\n",
      "torch.Size([8, 512, 2, 2, 2])18'}\n",
      "torch.Size([1, 512, 2, 2, 2])19'}\n",
      "torch.Size([8, 512, 2, 2, 2])17'}\n",
      "torch.Size([8, 512, 2, 2, 2])\n",
      "torch.Size([8, 512, 2, 2, 2])\n",
      "torch.Size([7, 512, 2, 2, 2])\n",
      "torch.Size([8, 512, 2, 2, 2])\n",
      "torch.Size([8, 512, 2, 2, 2])7'}\n",
      "torch.Size([8, 512, 2, 2, 2])8'}\n",
      "torch.Size([8, 512, 2, 2, 2])7'}\n",
      "torch.Size([8, 512, 2, 2, 2])8'}\n",
      "torch.Size([8, 512, 2, 2, 2])8'}\n",
      "torch.Size([8, 512, 2, 2, 2])8'}\n",
      "torch.Size([8, 512, 2, 2, 2])8'}\n",
      "torch.Size([8, 512, 2, 2, 2])9'}\n",
      "torch.Size([8, 512, 2, 2, 2])8'}\n",
      "torch.Size([8, 512, 2, 2, 2])19'}\n",
      "torch.Size([8, 512, 2, 2, 2])19'}\n",
      "torch.Size([8, 512, 2, 2, 2])17'}\n",
      "torch.Size([8, 512, 2, 2, 2])17'}\n",
      "torch.Size([8, 512, 2, 2, 2])17'}\n",
      "torch.Size([8, 512, 2, 2, 2])17'}\n",
      "torch.Size([8, 512, 2, 2, 2])16'}\n",
      "torch.Size([8, 512, 2, 2, 2])16'}\n",
      "torch.Size([8, 512, 2, 2, 2])15'}\n",
      "torch.Size([8, 512, 2, 2, 2])14'}\n",
      "torch.Size([8, 512, 2, 2, 2])13'}\n",
      "torch.Size([8, 512, 2, 2, 2])14'}\n",
      "torch.Size([8, 512, 2, 2, 2])14'}\n",
      "torch.Size([8, 512, 2, 2, 2])14'}\n",
      "torch.Size([8, 512, 2, 2, 2])15'}\n",
      "torch.Size([8, 512, 2, 2, 2])14'}\n",
      "torch.Size([8, 512, 2, 2, 2])15'}\n",
      "torch.Size([8, 512, 2, 2, 2])14'}\n",
      "torch.Size([8, 512, 2, 2, 2])14'}\n",
      "torch.Size([8, 512, 2, 2, 2])14'}\n",
      "torch.Size([8, 512, 2, 2, 2])14'}\n",
      "torch.Size([8, 512, 2, 2, 2])14'}\n",
      "torch.Size([8, 512, 2, 2, 2])15'}\n",
      "torch.Size([8, 512, 2, 2, 2])15'}\n",
      "torch.Size([1, 512, 2, 2, 2])14'}\n",
      "torch.Size([8, 512, 2, 2, 2])15'}\n",
      "torch.Size([8, 512, 2, 2, 2])\n",
      "torch.Size([8, 512, 2, 2, 2])\n",
      "torch.Size([7, 512, 2, 2, 2])\n",
      "torch.Size([8, 512, 2, 2, 2])\n",
      "torch.Size([8, 512, 2, 2, 2])5'}\n",
      "torch.Size([8, 512, 2, 2, 2])5'}\n",
      "torch.Size([8, 512, 2, 2, 2])6'}\n",
      "torch.Size([8, 512, 2, 2, 2])6'}\n",
      "torch.Size([8, 512, 2, 2, 2])6'}\n",
      "torch.Size([8, 512, 2, 2, 2])5'}\n",
      "torch.Size([8, 512, 2, 2, 2])6'}\n",
      "torch.Size([8, 512, 2, 2, 2])6'}\n",
      "torch.Size([8, 512, 2, 2, 2])5'}\n",
      "torch.Size([8, 512, 2, 2, 2])16'}\n",
      "torch.Size([8, 512, 2, 2, 2])14'}\n",
      "torch.Size([8, 512, 2, 2, 2])14'}\n",
      "torch.Size([8, 512, 2, 2, 2])14'}\n",
      "torch.Size([8, 512, 2, 2, 2])14'}\n",
      "torch.Size([8, 512, 2, 2, 2])13'}\n",
      "torch.Size([8, 512, 2, 2, 2])13'}\n",
      "torch.Size([8, 512, 2, 2, 2])13'}\n",
      "torch.Size([8, 512, 2, 2, 2])13'}\n",
      "torch.Size([8, 512, 2, 2, 2])14'}\n",
      "torch.Size([8, 512, 2, 2, 2])13'}\n",
      "torch.Size([8, 512, 2, 2, 2])13'}\n",
      "torch.Size([8, 512, 2, 2, 2])13'}\n",
      "torch.Size([8, 512, 2, 2, 2])12'}\n",
      "torch.Size([8, 512, 2, 2, 2])11'}\n",
      "torch.Size([8, 512, 2, 2, 2])11'}\n",
      "torch.Size([8, 512, 2, 2, 2])11'}\n",
      "torch.Size([8, 512, 2, 2, 2])11'}\n",
      "torch.Size([8, 512, 2, 2, 2])11'}\n",
      "torch.Size([8, 512, 2, 2, 2])12'}\n",
      "torch.Size([8, 512, 2, 2, 2])12'}\n",
      "torch.Size([8, 512, 2, 2, 2])13'}\n",
      "torch.Size([8, 512, 2, 2, 2])12'}\n",
      "torch.Size([8, 512, 2, 2, 2])13'}\n",
      "torch.Size([1, 512, 2, 2, 2])13'}\n",
      "torch.Size([8, 512, 2, 2, 2])14'}\n",
      "torch.Size([8, 512, 2, 2, 2])\n",
      "torch.Size([8, 512, 2, 2, 2])\n",
      "torch.Size([7, 512, 2, 2, 2])\n",
      "torch.Size([8, 512, 2, 2, 2])\n",
      "torch.Size([8, 512, 2, 2, 2])4'}\n",
      "torch.Size([8, 512, 2, 2, 2])4'}\n",
      "torch.Size([8, 512, 2, 2, 2])3'}\n",
      "torch.Size([8, 512, 2, 2, 2])3'}\n",
      "torch.Size([8, 512, 2, 2, 2])4'}\n",
      "torch.Size([8, 512, 2, 2, 2])4'}\n",
      "torch.Size([8, 512, 2, 2, 2])4'}\n",
      "torch.Size([8, 512, 2, 2, 2])4'}\n",
      "torch.Size([8, 512, 2, 2, 2])5'}\n",
      "torch.Size([8, 512, 2, 2, 2])15'}\n",
      "torch.Size([8, 512, 2, 2, 2])14'}\n",
      "torch.Size([8, 512, 2, 2, 2])14'}\n",
      "torch.Size([8, 512, 2, 2, 2])13'}\n",
      "torch.Size([8, 512, 2, 2, 2])13'}\n",
      "torch.Size([8, 512, 2, 2, 2])13'}\n",
      "torch.Size([8, 512, 2, 2, 2])12'}\n",
      "torch.Size([8, 512, 2, 2, 2])13'}\n",
      "torch.Size([8, 512, 2, 2, 2])12'}\n",
      "torch.Size([8, 512, 2, 2, 2])11'}\n",
      "torch.Size([8, 512, 2, 2, 2])11'}\n",
      "torch.Size([8, 512, 2, 2, 2])1'}\n",
      "torch.Size([8, 512, 2, 2, 2])1'}\n",
      "torch.Size([8, 512, 2, 2, 2])11'}\n",
      "torch.Size([8, 512, 2, 2, 2])11'}\n",
      "torch.Size([8, 512, 2, 2, 2])09'}\n",
      "torch.Size([8, 512, 2, 2, 2])1'}\n",
      "torch.Size([8, 512, 2, 2, 2])1'}\n",
      "torch.Size([8, 512, 2, 2, 2])1'}\n",
      "torch.Size([8, 512, 2, 2, 2])11'}\n",
      "torch.Size([8, 512, 2, 2, 2])11'}\n",
      "torch.Size([8, 512, 2, 2, 2])11'}\n",
      "torch.Size([8, 512, 2, 2, 2])11'}\n",
      "torch.Size([8, 512, 2, 2, 2])12'}\n",
      "torch.Size([1, 512, 2, 2, 2])12'}\n",
      "torch.Size([8, 512, 2, 2, 2])12'}\n",
      "torch.Size([8, 512, 2, 2, 2])\n",
      "torch.Size([8, 512, 2, 2, 2])\n",
      "torch.Size([7, 512, 2, 2, 2])\n",
      "torch.Size([8, 512, 2, 2, 2])\n",
      "torch.Size([8, 512, 2, 2, 2])2'}\n",
      "torch.Size([8, 512, 2, 2, 2])2'}\n",
      "torch.Size([8, 512, 2, 2, 2])2'}\n",
      "torch.Size([8, 512, 2, 2, 2])3'}\n",
      "torch.Size([8, 512, 2, 2, 2])3'}\n",
      "torch.Size([8, 512, 2, 2, 2])4'}\n",
      "torch.Size([8, 512, 2, 2, 2])4'}\n",
      "torch.Size([8, 512, 2, 2, 2])4'}\n",
      "torch.Size([8, 512, 2, 2, 2])5'}\n",
      "torch.Size([8, 512, 2, 2, 2])15'}\n",
      "torch.Size([8, 512, 2, 2, 2])14'}\n",
      "torch.Size([8, 512, 2, 2, 2])14'}\n",
      "torch.Size([8, 512, 2, 2, 2])14'}\n",
      "torch.Size([8, 512, 2, 2, 2])13'}\n",
      "torch.Size([8, 512, 2, 2, 2])12'}\n",
      "torch.Size([8, 512, 2, 2, 2])13'}\n",
      "torch.Size([8, 512, 2, 2, 2])13'}\n",
      "torch.Size([8, 512, 2, 2, 2])13'}\n",
      "torch.Size([8, 512, 2, 2, 2])13'}\n",
      "torch.Size([8, 512, 2, 2, 2])12'}\n",
      "torch.Size([8, 512, 2, 2, 2])13'}\n",
      "torch.Size([8, 512, 2, 2, 2])12'}\n",
      "torch.Size([8, 512, 2, 2, 2])13'}\n",
      "torch.Size([8, 512, 2, 2, 2])13'}\n",
      "torch.Size([8, 512, 2, 2, 2])13'}\n",
      "torch.Size([8, 512, 2, 2, 2])13'}\n",
      "torch.Size([8, 512, 2, 2, 2])13'}\n",
      "torch.Size([8, 512, 2, 2, 2])13'}\n",
      "torch.Size([8, 512, 2, 2, 2])12'}\n",
      "torch.Size([8, 512, 2, 2, 2])12'}\n",
      "torch.Size([8, 512, 2, 2, 2])12'}\n",
      "torch.Size([8, 512, 2, 2, 2])12'}\n",
      "torch.Size([8, 512, 2, 2, 2])11'}\n",
      "torch.Size([1, 512, 2, 2, 2])11'}\n",
      "torch.Size([8, 512, 2, 2, 2])12'}\n",
      "torch.Size([8, 512, 2, 2, 2])\n",
      "torch.Size([8, 512, 2, 2, 2])\n",
      "torch.Size([7, 512, 2, 2, 2])\n"
     ]
    },
    {
     "name": "stderr",
     "output_type": "stream",
     "text": [
      "Monitored metric loss/val did not improve in the last 10 records. Best score: 1.066. Signaling Trainer to stop.\n",
      "GPU available: True, used: True\n",
      "TPU available: False, using: 0 TPU cores\n",
      "LOCAL_RANK: 0 - CUDA_VISIBLE_DEVICES: [0]\n",
      "\n",
      "  | Name               | Type             | Params\n",
      "--------------------------------------------------------\n",
      "0 | model              | VGG              | 65.1 M\n",
      "1 | criteria           | CrossEntropyLoss | 0     \n",
      "2 | train_metrics      | MetricCollection | 0     \n",
      "3 | valid_metrics      | MetricCollection | 0     \n",
      "4 | valid_dummy_metric | AUROC            | 0     \n",
      "--------------------------------------------------------\n",
      "65.1 M    Trainable params\n",
      "0         Non-trainable params\n",
      "65.1 M    Total params\n",
      "260.447   Total estimated model params size (MB)\n"
     ]
    },
    {
     "name": "stdout",
     "output_type": "stream",
     "text": [
      "Architecture [VGG] was created\n",
      "***Defined hyperparameters:***\n",
      "\"arch\":                {'name': 'vgg16', 'args': {'num_channels': 1, 'num_classes': 3}}\n",
      "\"checkpoint_path\":     None\n",
      "\"class_weights\":       tensor([1.2466, 0.6500, 1.5167], device='cuda:0')\n",
      "\"hp_metrics\":          ['loss/train', 'loss/val', 'Accuracy/val', 'AUROC/val', 'Precision/val', 'Recall/val', 'Specificity/val']\n",
      "\"loss\":                {'type': 'CrossEntropyLoss', 'args': {'weight': True}}\n",
      "\"optimizer\":           {'type': 'Adam', 'args': {'lr': 0.02, 'weight_decay': 0, 'amsgrad': False}}\n",
      "\"roi_hparams\":         {'enable': False, 'output_shape': [3, 3, 3], 'boundary_boxes': []}\n",
      "\"weight_distribution\": None\n",
      "Enabled callbacks:  ['LitProgressBar', 'EarlyStopping']\n",
      "Dataloader fold: 5\n",
      "torch.Size([8, 512, 2, 2, 2])\n",
      "torch.Size([8, 512, 2, 2, 2])}\n",
      "torch.Size([8, 512, 2, 2, 2])+19'}\n",
      "torch.Size([8, 512, 2, 2, 2])e+19'}\n",
      "torch.Size([8, 512, 2, 2, 2])e+19'}\n",
      "torch.Size([8, 512, 2, 2, 2])9'}\n",
      "torch.Size([8, 512, 2, 2, 2])e+18'}\n",
      "torch.Size([8, 512, 2, 2, 2])e+18'}\n",
      "torch.Size([8, 512, 2, 2, 2])e+18'}\n",
      "torch.Size([8, 512, 2, 2, 2])e+18'}\n",
      "torch.Size([8, 512, 2, 2, 2])1e+18'}\n",
      "torch.Size([8, 512, 2, 2, 2])5e+18'}\n",
      "torch.Size([8, 512, 2, 2, 2])7e+18'}\n",
      "torch.Size([8, 512, 2, 2, 2])5e+18'}\n",
      "torch.Size([8, 512, 2, 2, 2])8e+18'}\n",
      "torch.Size([8, 512, 2, 2, 2])4e+18'}\n",
      "torch.Size([8, 512, 2, 2, 2])3e+18'}\n",
      "torch.Size([8, 512, 2, 2, 2])5e+18'}\n",
      "torch.Size([8, 512, 2, 2, 2])8e+18'}\n",
      "torch.Size([8, 512, 2, 2, 2])4e+18'}\n",
      "torch.Size([8, 512, 2, 2, 2])e+18'}\n",
      "torch.Size([8, 512, 2, 2, 2])e+18'}\n",
      "torch.Size([8, 512, 2, 2, 2])2e+11'}\n",
      "torch.Size([8, 512, 2, 2, 2])2e+11'}\n",
      "torch.Size([8, 512, 2, 2, 2])2e+10'}\n",
      "torch.Size([8, 512, 2, 2, 2])3e+10'}\n",
      "torch.Size([8, 512, 2, 2, 2])7e+09'}\n",
      "torch.Size([8, 512, 2, 2, 2])7e+09'}\n",
      "torch.Size([8, 512, 2, 2, 2])4e+09'}\n",
      "torch.Size([8, 512, 2, 2, 2])4e+09'}\n",
      "torch.Size([8, 512, 2, 2, 2])4e+09'}\n",
      "torch.Size([8, 512, 2, 2, 2])4e+09'}\n",
      "torch.Size([8, 512, 2, 2, 2])4e+09'}\n",
      "torch.Size([8, 512, 2, 2, 2])4e+09'}\n",
      "torch.Size([1, 512, 2, 2, 2])4e+09'}\n",
      "torch.Size([8, 512, 2, 2, 2])4e+09'}\n",
      "torch.Size([8, 512, 2, 2, 2])\n",
      "torch.Size([8, 512, 2, 2, 2])\n",
      "torch.Size([7, 512, 2, 2, 2])\n"
     ]
    },
    {
     "name": "stderr",
     "output_type": "stream",
     "text": [
      "Metric loss/val improved. New best score: 895584.000\n"
     ]
    },
    {
     "name": "stdout",
     "output_type": "stream",
     "text": [
      "torch.Size([8, 512, 2, 2, 2])\n",
      "torch.Size([8, 512, 2, 2, 2])e+09'}\n",
      "torch.Size([8, 512, 2, 2, 2])e+09'}\n",
      "torch.Size([8, 512, 2, 2, 2])e+09'}\n",
      "torch.Size([8, 512, 2, 2, 2])e+09'}\n",
      "torch.Size([8, 512, 2, 2, 2])e+09'}\n",
      "torch.Size([8, 512, 2, 2, 2])e+08'}\n",
      "torch.Size([8, 512, 2, 2, 2])e+08'}\n",
      "torch.Size([8, 512, 2, 2, 2])e+08'}\n",
      "torch.Size([8, 512, 2, 2, 2])e+07'}\n",
      "torch.Size([8, 512, 2, 2, 2])1e+06'}\n",
      "torch.Size([8, 512, 2, 2, 2])4e+06'}\n",
      "torch.Size([8, 512, 2, 2, 2])e+06'}\n",
      "torch.Size([8, 512, 2, 2, 2])8e+06'}\n",
      "torch.Size([8, 512, 2, 2, 2])4e+06'}\n",
      "torch.Size([8, 512, 2, 2, 2])4e+06'}\n",
      "torch.Size([8, 512, 2, 2, 2])1e+06'}\n",
      "torch.Size([8, 512, 2, 2, 2])3e+06'}\n",
      "torch.Size([8, 512, 2, 2, 2])e+06'}\n",
      "torch.Size([8, 512, 2, 2, 2])7e+05'}\n",
      "torch.Size([8, 512, 2, 2, 2])2e+05'}\n",
      "torch.Size([8, 512, 2, 2, 2])9e+05'}\n",
      "torch.Size([8, 512, 2, 2, 2])2e+05'}\n",
      "torch.Size([8, 512, 2, 2, 2])9e+06'}\n",
      "torch.Size([8, 512, 2, 2, 2])9e+06'}\n",
      "torch.Size([8, 512, 2, 2, 2])4e+06'}\n",
      "torch.Size([8, 512, 2, 2, 2])3e+06'}\n",
      "torch.Size([8, 512, 2, 2, 2])e+05'}\n",
      "torch.Size([8, 512, 2, 2, 2])1e+05'}\n",
      "torch.Size([8, 512, 2, 2, 2])4e+05'}\n",
      "torch.Size([8, 512, 2, 2, 2])05'}\n",
      "torch.Size([8, 512, 2, 2, 2])5e+05'}\n",
      "torch.Size([8, 512, 2, 2, 2])6e+05'}\n",
      "torch.Size([8, 512, 2, 2, 2])5e+05'}\n",
      "torch.Size([1, 512, 2, 2, 2])5e+05'}\n",
      "torch.Size([8, 512, 2, 2, 2])6e+05'}\n",
      "torch.Size([8, 512, 2, 2, 2])\n",
      "torch.Size([8, 512, 2, 2, 2])\n",
      "torch.Size([7, 512, 2, 2, 2])\n",
      "torch.Size([8, 512, 2, 2, 2])\n",
      "torch.Size([8, 512, 2, 2, 2])e+05'}\n",
      "torch.Size([8, 512, 2, 2, 2])+05'}\n",
      "torch.Size([8, 512, 2, 2, 2])e+05'}\n",
      "torch.Size([8, 512, 2, 2, 2])+05'}\n",
      "torch.Size([8, 512, 2, 2, 2])e+05'}\n",
      "torch.Size([8, 512, 2, 2, 2])e+05'}\n",
      "torch.Size([8, 512, 2, 2, 2])e+05'}\n",
      "torch.Size([8, 512, 2, 2, 2])e+05'}\n",
      "torch.Size([8, 512, 2, 2, 2])e+05'}\n",
      "torch.Size([8, 512, 2, 2, 2])5e+05'}\n",
      "torch.Size([8, 512, 2, 2, 2])3e+05'}\n",
      "torch.Size([8, 512, 2, 2, 2])2e+05'}\n",
      "torch.Size([8, 512, 2, 2, 2])1e+05'}\n",
      "torch.Size([8, 512, 2, 2, 2])8e+05'}\n",
      "torch.Size([8, 512, 2, 2, 2])4e+05'}\n",
      "torch.Size([8, 512, 2, 2, 2])9e+05'}\n",
      "torch.Size([8, 512, 2, 2, 2])7e+05'}\n",
      "torch.Size([8, 512, 2, 2, 2])1e+05'}\n",
      "torch.Size([8, 512, 2, 2, 2])05'}\n",
      "torch.Size([8, 512, 2, 2, 2])05'}\n",
      "torch.Size([8, 512, 2, 2, 2])6e+05'}\n",
      "torch.Size([8, 512, 2, 2, 2])9e+05'}\n",
      "torch.Size([8, 512, 2, 2, 2])2e+05'}\n",
      "torch.Size([8, 512, 2, 2, 2])9e+05'}\n",
      "torch.Size([8, 512, 2, 2, 2])8e+04'}\n",
      "torch.Size([8, 512, 2, 2, 2])6e+04'}\n",
      "torch.Size([8, 512, 2, 2, 2])4e+04'}\n",
      "torch.Size([8, 512, 2, 2, 2])3'}\n",
      "torch.Size([8, 512, 2, 2, 2])'}\n",
      "torch.Size([8, 512, 2, 2, 2])'}\n",
      "torch.Size([8, 512, 2, 2, 2])7'}\n",
      "torch.Size([8, 512, 2, 2, 2])'}\n",
      "torch.Size([8, 512, 2, 2, 2])9'}\n",
      "torch.Size([1, 512, 2, 2, 2])7'}\n",
      "torch.Size([8, 512, 2, 2, 2])8'}\n",
      "torch.Size([8, 512, 2, 2, 2])\n",
      "torch.Size([8, 512, 2, 2, 2])\n",
      "torch.Size([7, 512, 2, 2, 2])\n"
     ]
    },
    {
     "name": "stderr",
     "output_type": "stream",
     "text": [
      "Metric loss/val improved by 895580.688 >= min_delta = 0.0001. New best score: 3.327\n"
     ]
    },
    {
     "name": "stdout",
     "output_type": "stream",
     "text": [
      "torch.Size([8, 512, 2, 2, 2])\n",
      "torch.Size([8, 512, 2, 2, 2])'}\n",
      "torch.Size([8, 512, 2, 2, 2])}\n",
      "torch.Size([8, 512, 2, 2, 2])'}\n",
      "torch.Size([8, 512, 2, 2, 2])'}\n",
      "torch.Size([8, 512, 2, 2, 2])}\n",
      "torch.Size([8, 512, 2, 2, 2])'}\n",
      "torch.Size([8, 512, 2, 2, 2])'}\n",
      "torch.Size([8, 512, 2, 2, 2])}\n",
      "torch.Size([8, 512, 2, 2, 2])'}\n",
      "torch.Size([8, 512, 2, 2, 2])3'}\n",
      "torch.Size([8, 512, 2, 2, 2])5'}\n",
      "torch.Size([8, 512, 2, 2, 2])1'}\n",
      "torch.Size([8, 512, 2, 2, 2])8'}\n",
      "torch.Size([8, 512, 2, 2, 2])'}\n",
      "torch.Size([8, 512, 2, 2, 2])6'}\n",
      "torch.Size([8, 512, 2, 2, 2])3'}\n",
      "torch.Size([8, 512, 2, 2, 2])1'}\n",
      "torch.Size([8, 512, 2, 2, 2])1'}\n",
      "torch.Size([8, 512, 2, 2, 2])1'}\n",
      "torch.Size([8, 512, 2, 2, 2])2'}\n",
      "torch.Size([8, 512, 2, 2, 2])3'}\n",
      "torch.Size([8, 512, 2, 2, 2])'}\n",
      "torch.Size([8, 512, 2, 2, 2])'}\n",
      "torch.Size([8, 512, 2, 2, 2])3'}\n",
      "torch.Size([8, 512, 2, 2, 2])'}\n",
      "torch.Size([8, 512, 2, 2, 2])6'}\n",
      "torch.Size([8, 512, 2, 2, 2])7'}\n",
      "torch.Size([8, 512, 2, 2, 2])4'}\n",
      "torch.Size([8, 512, 2, 2, 2])3'}\n",
      "torch.Size([8, 512, 2, 2, 2])7'}\n",
      "torch.Size([8, 512, 2, 2, 2])4'}\n",
      "torch.Size([8, 512, 2, 2, 2])7'}\n",
      "torch.Size([8, 512, 2, 2, 2])9'}\n",
      "torch.Size([1, 512, 2, 2, 2])9'}\n",
      "torch.Size([8, 512, 2, 2, 2])7'}\n",
      "torch.Size([8, 512, 2, 2, 2])\n",
      "torch.Size([8, 512, 2, 2, 2])\n",
      "torch.Size([7, 512, 2, 2, 2])\n"
     ]
    },
    {
     "name": "stderr",
     "output_type": "stream",
     "text": [
      "Metric loss/val improved by 2.082 >= min_delta = 0.0001. New best score: 1.245\n"
     ]
    },
    {
     "name": "stdout",
     "output_type": "stream",
     "text": [
      "torch.Size([8, 512, 2, 2, 2])\n",
      "torch.Size([8, 512, 2, 2, 2])'}\n",
      "torch.Size([8, 512, 2, 2, 2])'}\n",
      "torch.Size([8, 512, 2, 2, 2])'}\n",
      "torch.Size([8, 512, 2, 2, 2])'}\n",
      "torch.Size([8, 512, 2, 2, 2])'}\n",
      "torch.Size([8, 512, 2, 2, 2])'}\n",
      "torch.Size([8, 512, 2, 2, 2])'}\n",
      "torch.Size([8, 512, 2, 2, 2])'}\n",
      "torch.Size([8, 512, 2, 2, 2])'}\n",
      "torch.Size([8, 512, 2, 2, 2])4'}\n",
      "torch.Size([8, 512, 2, 2, 2])8'}\n",
      "torch.Size([8, 512, 2, 2, 2])1'}\n",
      "torch.Size([8, 512, 2, 2, 2])7'}\n",
      "torch.Size([8, 512, 2, 2, 2])7'}\n",
      "torch.Size([8, 512, 2, 2, 2])8'}\n",
      "torch.Size([8, 512, 2, 2, 2])3'}\n",
      "torch.Size([8, 512, 2, 2, 2])'}\n",
      "torch.Size([8, 512, 2, 2, 2])2'}\n",
      "torch.Size([8, 512, 2, 2, 2])5'}\n",
      "torch.Size([8, 512, 2, 2, 2])9'}\n",
      "torch.Size([8, 512, 2, 2, 2])8'}\n",
      "torch.Size([8, 512, 2, 2, 2])2'}\n",
      "torch.Size([8, 512, 2, 2, 2])7'}\n",
      "torch.Size([8, 512, 2, 2, 2])1'}\n",
      "torch.Size([8, 512, 2, 2, 2])2'}\n",
      "torch.Size([8, 512, 2, 2, 2])1'}\n",
      "torch.Size([8, 512, 2, 2, 2])9'}\n",
      "torch.Size([8, 512, 2, 2, 2])2'}\n",
      "torch.Size([8, 512, 2, 2, 2])3'}\n",
      "torch.Size([8, 512, 2, 2, 2])'}\n",
      "torch.Size([8, 512, 2, 2, 2])1'}\n",
      "torch.Size([8, 512, 2, 2, 2])9'}\n",
      "torch.Size([8, 512, 2, 2, 2])2'}\n",
      "torch.Size([1, 512, 2, 2, 2])2'}\n",
      "torch.Size([8, 512, 2, 2, 2])5'}\n",
      "torch.Size([8, 512, 2, 2, 2])\n",
      "torch.Size([8, 512, 2, 2, 2])\n",
      "torch.Size([7, 512, 2, 2, 2])\n"
     ]
    },
    {
     "name": "stderr",
     "output_type": "stream",
     "text": [
      "Metric loss/val improved by 0.113 >= min_delta = 0.0001. New best score: 1.132\n"
     ]
    },
    {
     "name": "stdout",
     "output_type": "stream",
     "text": [
      "torch.Size([8, 512, 2, 2, 2])\n",
      "torch.Size([8, 512, 2, 2, 2])'}\n",
      "torch.Size([8, 512, 2, 2, 2])'}\n",
      "torch.Size([8, 512, 2, 2, 2])'}\n",
      "torch.Size([8, 512, 2, 2, 2])'}\n",
      "torch.Size([8, 512, 2, 2, 2])'}\n",
      "torch.Size([8, 512, 2, 2, 2])'}\n",
      "torch.Size([8, 512, 2, 2, 2])'}\n",
      "torch.Size([8, 512, 2, 2, 2])'}\n",
      "torch.Size([8, 512, 2, 2, 2])'}\n",
      "torch.Size([8, 512, 2, 2, 2])9'}\n",
      "torch.Size([8, 512, 2, 2, 2])8'}\n",
      "torch.Size([8, 512, 2, 2, 2])8'}\n",
      "torch.Size([8, 512, 2, 2, 2])7'}\n",
      "torch.Size([8, 512, 2, 2, 2])6'}\n",
      "torch.Size([8, 512, 2, 2, 2])4'}\n",
      "torch.Size([8, 512, 2, 2, 2])3'}\n",
      "torch.Size([8, 512, 2, 2, 2])5'}\n",
      "torch.Size([8, 512, 2, 2, 2])2'}\n",
      "torch.Size([8, 512, 2, 2, 2])4'}\n",
      "torch.Size([8, 512, 2, 2, 2])6'}\n",
      "torch.Size([8, 512, 2, 2, 2])5'}\n",
      "torch.Size([8, 512, 2, 2, 2])5'}\n",
      "torch.Size([8, 512, 2, 2, 2])4'}\n",
      "torch.Size([8, 512, 2, 2, 2])6'}\n",
      "torch.Size([8, 512, 2, 2, 2])7'}\n",
      "torch.Size([8, 512, 2, 2, 2])8'}\n",
      "torch.Size([8, 512, 2, 2, 2])6'}\n",
      "torch.Size([8, 512, 2, 2, 2])7'}\n",
      "torch.Size([8, 512, 2, 2, 2])7'}\n",
      "torch.Size([8, 512, 2, 2, 2])7'}\n",
      "torch.Size([8, 512, 2, 2, 2])9'}\n",
      "torch.Size([8, 512, 2, 2, 2])7'}\n",
      "torch.Size([8, 512, 2, 2, 2])7'}\n",
      "torch.Size([1, 512, 2, 2, 2])8'}\n",
      "torch.Size([8, 512, 2, 2, 2])3'}\n",
      "torch.Size([8, 512, 2, 2, 2])\n",
      "torch.Size([8, 512, 2, 2, 2])\n",
      "torch.Size([7, 512, 2, 2, 2])\n"
     ]
    },
    {
     "name": "stderr",
     "output_type": "stream",
     "text": [
      "Metric loss/val improved by 0.024 >= min_delta = 0.0001. New best score: 1.108\n"
     ]
    },
    {
     "name": "stdout",
     "output_type": "stream",
     "text": [
      "torch.Size([8, 512, 2, 2, 2])\n",
      "torch.Size([8, 512, 2, 2, 2])'}\n",
      "torch.Size([8, 512, 2, 2, 2])}\n",
      "torch.Size([8, 512, 2, 2, 2])}\n",
      "torch.Size([8, 512, 2, 2, 2])'}\n",
      "torch.Size([8, 512, 2, 2, 2])'}\n",
      "torch.Size([8, 512, 2, 2, 2])'}\n",
      "torch.Size([8, 512, 2, 2, 2])'}\n",
      "torch.Size([8, 512, 2, 2, 2])'}\n",
      "torch.Size([8, 512, 2, 2, 2])'}\n",
      "torch.Size([8, 512, 2, 2, 2])3'}\n",
      "torch.Size([8, 512, 2, 2, 2])3'}\n",
      "torch.Size([8, 512, 2, 2, 2])2'}\n",
      "torch.Size([8, 512, 2, 2, 2])9'}\n",
      "torch.Size([8, 512, 2, 2, 2])2'}\n",
      "torch.Size([8, 512, 2, 2, 2])5'}\n",
      "torch.Size([8, 512, 2, 2, 2])4'}\n",
      "torch.Size([8, 512, 2, 2, 2])3'}\n",
      "torch.Size([8, 512, 2, 2, 2])3'}\n",
      "torch.Size([8, 512, 2, 2, 2])2'}\n",
      "torch.Size([8, 512, 2, 2, 2])8'}\n",
      "torch.Size([8, 512, 2, 2, 2])8'}\n",
      "torch.Size([8, 512, 2, 2, 2])'}\n",
      "torch.Size([8, 512, 2, 2, 2])'}\n",
      "torch.Size([8, 512, 2, 2, 2])'}\n",
      "torch.Size([8, 512, 2, 2, 2])'}\n",
      "torch.Size([8, 512, 2, 2, 2])1'}\n",
      "torch.Size([8, 512, 2, 2, 2])1'}\n",
      "torch.Size([8, 512, 2, 2, 2])3'}\n",
      "torch.Size([8, 512, 2, 2, 2])2'}\n",
      "torch.Size([8, 512, 2, 2, 2])3'}\n",
      "torch.Size([8, 512, 2, 2, 2])3'}\n",
      "torch.Size([8, 512, 2, 2, 2])5'}\n",
      "torch.Size([8, 512, 2, 2, 2])7'}\n",
      "torch.Size([1, 512, 2, 2, 2])3'}\n",
      "torch.Size([8, 512, 2, 2, 2])'}\n",
      "torch.Size([8, 512, 2, 2, 2])\n",
      "torch.Size([8, 512, 2, 2, 2])\n",
      "torch.Size([7, 512, 2, 2, 2])\n"
     ]
    },
    {
     "name": "stderr",
     "output_type": "stream",
     "text": [
      "Metric loss/val improved by 0.032 >= min_delta = 0.0001. New best score: 1.076\n"
     ]
    },
    {
     "name": "stdout",
     "output_type": "stream",
     "text": [
      "torch.Size([8, 512, 2, 2, 2])\n",
      "torch.Size([8, 512, 2, 2, 2])}\n",
      "torch.Size([8, 512, 2, 2, 2])'}\n",
      "torch.Size([8, 512, 2, 2, 2])'}\n",
      "torch.Size([8, 512, 2, 2, 2])'}\n",
      "torch.Size([8, 512, 2, 2, 2])'}\n",
      "torch.Size([8, 512, 2, 2, 2])'}\n",
      "torch.Size([8, 512, 2, 2, 2])'}\n",
      "torch.Size([8, 512, 2, 2, 2])'}\n",
      "torch.Size([8, 512, 2, 2, 2])'}\n",
      "torch.Size([8, 512, 2, 2, 2])2'}\n",
      "torch.Size([8, 512, 2, 2, 2])1'}\n",
      "torch.Size([8, 512, 2, 2, 2])1'}\n",
      "torch.Size([8, 512, 2, 2, 2])9'}\n",
      "torch.Size([8, 512, 2, 2, 2])9'}\n",
      "torch.Size([8, 512, 2, 2, 2])7'}\n",
      "torch.Size([8, 512, 2, 2, 2])9'}\n",
      "torch.Size([8, 512, 2, 2, 2])8'}\n",
      "torch.Size([8, 512, 2, 2, 2])7'}\n",
      "torch.Size([8, 512, 2, 2, 2])8'}\n",
      "torch.Size([8, 512, 2, 2, 2])9'}\n",
      "torch.Size([8, 512, 2, 2, 2])9'}\n",
      "torch.Size([8, 512, 2, 2, 2])7'}\n",
      "torch.Size([8, 512, 2, 2, 2])8'}\n",
      "torch.Size([8, 512, 2, 2, 2])7'}\n",
      "torch.Size([8, 512, 2, 2, 2])7'}\n",
      "torch.Size([8, 512, 2, 2, 2])8'}\n",
      "torch.Size([8, 512, 2, 2, 2])8'}\n",
      "torch.Size([8, 512, 2, 2, 2])7'}\n",
      "torch.Size([8, 512, 2, 2, 2])6'}\n",
      "torch.Size([8, 512, 2, 2, 2])6'}\n",
      "torch.Size([8, 512, 2, 2, 2])6'}\n",
      "torch.Size([8, 512, 2, 2, 2])6'}\n",
      "torch.Size([8, 512, 2, 2, 2])6'}\n",
      "torch.Size([1, 512, 2, 2, 2])7'}\n",
      "torch.Size([8, 512, 2, 2, 2])6'}\n",
      "torch.Size([8, 512, 2, 2, 2])\n",
      "torch.Size([8, 512, 2, 2, 2])\n",
      "torch.Size([7, 512, 2, 2, 2])\n",
      "torch.Size([8, 512, 2, 2, 2])\n",
      "torch.Size([8, 512, 2, 2, 2])'}\n",
      "torch.Size([8, 512, 2, 2, 2])'}\n",
      "torch.Size([8, 512, 2, 2, 2])'}\n",
      "torch.Size([8, 512, 2, 2, 2])'}\n",
      "torch.Size([8, 512, 2, 2, 2])'}\n",
      "torch.Size([8, 512, 2, 2, 2])'}\n",
      "torch.Size([8, 512, 2, 2, 2])'}\n",
      "torch.Size([8, 512, 2, 2, 2])'}\n",
      "torch.Size([8, 512, 2, 2, 2])'}\n",
      "torch.Size([8, 512, 2, 2, 2])2'}\n",
      "torch.Size([8, 512, 2, 2, 2])'}\n",
      "torch.Size([8, 512, 2, 2, 2])'}\n",
      "torch.Size([8, 512, 2, 2, 2])1'}\n",
      "torch.Size([8, 512, 2, 2, 2])'}\n",
      "torch.Size([8, 512, 2, 2, 2])1'}\n",
      "torch.Size([8, 512, 2, 2, 2])1'}\n",
      "torch.Size([8, 512, 2, 2, 2])'}\n",
      "torch.Size([8, 512, 2, 2, 2])1'}\n",
      "torch.Size([8, 512, 2, 2, 2])'}\n",
      "torch.Size([8, 512, 2, 2, 2])1'}\n",
      "torch.Size([8, 512, 2, 2, 2])2'}\n",
      "torch.Size([8, 512, 2, 2, 2])3'}\n",
      "torch.Size([8, 512, 2, 2, 2])2'}\n",
      "torch.Size([8, 512, 2, 2, 2])2'}\n",
      "torch.Size([8, 512, 2, 2, 2])2'}\n",
      "torch.Size([8, 512, 2, 2, 2])3'}\n",
      "torch.Size([8, 512, 2, 2, 2])3'}\n",
      "torch.Size([8, 512, 2, 2, 2])4'}\n",
      "torch.Size([8, 512, 2, 2, 2])4'}\n",
      "torch.Size([8, 512, 2, 2, 2])4'}\n",
      "torch.Size([8, 512, 2, 2, 2])3'}\n",
      "torch.Size([8, 512, 2, 2, 2])3'}\n",
      "torch.Size([8, 512, 2, 2, 2])3'}\n",
      "torch.Size([1, 512, 2, 2, 2])5'}\n",
      "torch.Size([8, 512, 2, 2, 2])2'}\n",
      "torch.Size([8, 512, 2, 2, 2])\n",
      "torch.Size([8, 512, 2, 2, 2])\n",
      "torch.Size([7, 512, 2, 2, 2])\n"
     ]
    },
    {
     "name": "stderr",
     "output_type": "stream",
     "text": [
      "Metric loss/val improved by 0.012 >= min_delta = 0.0001. New best score: 1.064\n"
     ]
    },
    {
     "name": "stdout",
     "output_type": "stream",
     "text": [
      "torch.Size([8, 512, 2, 2, 2])\n",
      "torch.Size([8, 512, 2, 2, 2])3'}\n",
      "torch.Size([8, 512, 2, 2, 2])2'}\n",
      "torch.Size([8, 512, 2, 2, 2])'}\n",
      "torch.Size([8, 512, 2, 2, 2])1'}\n",
      "torch.Size([8, 512, 2, 2, 2])'}\n",
      "torch.Size([8, 512, 2, 2, 2])9'}\n",
      "torch.Size([8, 512, 2, 2, 2])8'}\n",
      "torch.Size([8, 512, 2, 2, 2])7'}\n",
      "torch.Size([8, 512, 2, 2, 2])8'}\n",
      "torch.Size([8, 512, 2, 2, 2])08'}\n",
      "torch.Size([8, 512, 2, 2, 2])08'}\n",
      "torch.Size([8, 512, 2, 2, 2])08'}\n",
      "torch.Size([8, 512, 2, 2, 2])07'}\n",
      "torch.Size([8, 512, 2, 2, 2])08'}\n",
      "torch.Size([8, 512, 2, 2, 2])08'}\n",
      "torch.Size([8, 512, 2, 2, 2])09'}\n",
      "torch.Size([8, 512, 2, 2, 2])08'}\n",
      "torch.Size([8, 512, 2, 2, 2])09'}\n",
      "torch.Size([8, 512, 2, 2, 2])09'}\n",
      "torch.Size([8, 512, 2, 2, 2])11'}\n",
      "torch.Size([8, 512, 2, 2, 2])11'}\n",
      "torch.Size([8, 512, 2, 2, 2])12'}\n",
      "torch.Size([8, 512, 2, 2, 2])13'}\n",
      "torch.Size([8, 512, 2, 2, 2])13'}\n",
      "torch.Size([8, 512, 2, 2, 2])14'}\n",
      "torch.Size([8, 512, 2, 2, 2])15'}\n",
      "torch.Size([8, 512, 2, 2, 2])15'}\n",
      "torch.Size([8, 512, 2, 2, 2])15'}\n",
      "torch.Size([8, 512, 2, 2, 2])16'}\n",
      "torch.Size([8, 512, 2, 2, 2])15'}\n",
      "torch.Size([8, 512, 2, 2, 2])16'}\n",
      "torch.Size([8, 512, 2, 2, 2])16'}\n",
      "torch.Size([8, 512, 2, 2, 2])16'}\n",
      "torch.Size([1, 512, 2, 2, 2])15'}\n",
      "torch.Size([8, 512, 2, 2, 2])15'}\n",
      "torch.Size([8, 512, 2, 2, 2])\n",
      "torch.Size([8, 512, 2, 2, 2])\n",
      "torch.Size([7, 512, 2, 2, 2])\n",
      "torch.Size([8, 512, 2, 2, 2])\n",
      "torch.Size([8, 512, 2, 2, 2])5'}\n",
      "torch.Size([8, 512, 2, 2, 2])6'}\n",
      "torch.Size([8, 512, 2, 2, 2])5'}\n",
      "torch.Size([8, 512, 2, 2, 2])5'}\n",
      "torch.Size([8, 512, 2, 2, 2])4'}\n",
      "torch.Size([8, 512, 2, 2, 2])4'}\n",
      "torch.Size([8, 512, 2, 2, 2])4'}\n",
      "torch.Size([8, 512, 2, 2, 2])5'}\n",
      "torch.Size([8, 512, 2, 2, 2])4'}\n",
      "torch.Size([8, 512, 2, 2, 2])13'}\n",
      "torch.Size([8, 512, 2, 2, 2])12'}\n",
      "torch.Size([8, 512, 2, 2, 2])11'}\n",
      "torch.Size([8, 512, 2, 2, 2])12'}\n",
      "torch.Size([8, 512, 2, 2, 2])12'}\n",
      "torch.Size([8, 512, 2, 2, 2])12'}\n",
      "torch.Size([8, 512, 2, 2, 2])12'}\n",
      "torch.Size([8, 512, 2, 2, 2])11'}\n",
      "torch.Size([8, 512, 2, 2, 2])11'}\n",
      "torch.Size([8, 512, 2, 2, 2])11'}\n",
      "torch.Size([8, 512, 2, 2, 2])12'}\n",
      "torch.Size([8, 512, 2, 2, 2])11'}\n",
      "torch.Size([8, 512, 2, 2, 2])11'}\n",
      "torch.Size([8, 512, 2, 2, 2])11'}\n",
      "torch.Size([8, 512, 2, 2, 2])11'}\n",
      "torch.Size([8, 512, 2, 2, 2])12'}\n",
      "torch.Size([8, 512, 2, 2, 2])12'}\n",
      "torch.Size([8, 512, 2, 2, 2])11'}\n",
      "torch.Size([8, 512, 2, 2, 2])11'}\n",
      "torch.Size([8, 512, 2, 2, 2])1'}\n",
      "torch.Size([8, 512, 2, 2, 2])11'}\n",
      "torch.Size([8, 512, 2, 2, 2])11'}\n",
      "torch.Size([8, 512, 2, 2, 2])12'}\n",
      "torch.Size([8, 512, 2, 2, 2])12'}\n",
      "torch.Size([1, 512, 2, 2, 2])12'}\n",
      "torch.Size([8, 512, 2, 2, 2])14'}\n",
      "torch.Size([8, 512, 2, 2, 2])\n",
      "torch.Size([8, 512, 2, 2, 2])\n",
      "torch.Size([7, 512, 2, 2, 2])\n",
      "torch.Size([8, 512, 2, 2, 2])\n",
      "torch.Size([8, 512, 2, 2, 2])5'}\n",
      "torch.Size([8, 512, 2, 2, 2])4'}\n",
      "torch.Size([8, 512, 2, 2, 2])4'}\n",
      "torch.Size([8, 512, 2, 2, 2])4'}\n",
      "torch.Size([8, 512, 2, 2, 2])3'}\n",
      "torch.Size([8, 512, 2, 2, 2])3'}\n",
      "torch.Size([8, 512, 2, 2, 2])2'}\n",
      "torch.Size([8, 512, 2, 2, 2])2'}\n",
      "torch.Size([8, 512, 2, 2, 2])2'}\n",
      "torch.Size([8, 512, 2, 2, 2])12'}\n",
      "torch.Size([8, 512, 2, 2, 2])12'}\n",
      "torch.Size([8, 512, 2, 2, 2])11'}\n",
      "torch.Size([8, 512, 2, 2, 2])12'}\n",
      "torch.Size([8, 512, 2, 2, 2])13'}\n",
      "torch.Size([8, 512, 2, 2, 2])13'}\n",
      "torch.Size([8, 512, 2, 2, 2])13'}\n",
      "torch.Size([8, 512, 2, 2, 2])13'}\n",
      "torch.Size([8, 512, 2, 2, 2])12'}\n",
      "torch.Size([8, 512, 2, 2, 2])12'}\n",
      "torch.Size([8, 512, 2, 2, 2])1'}\n",
      "torch.Size([8, 512, 2, 2, 2])1'}\n",
      "torch.Size([8, 512, 2, 2, 2])1'}\n",
      "torch.Size([8, 512, 2, 2, 2])11'}\n",
      "torch.Size([8, 512, 2, 2, 2])11'}\n",
      "torch.Size([8, 512, 2, 2, 2])12'}\n",
      "torch.Size([8, 512, 2, 2, 2])12'}\n",
      "torch.Size([8, 512, 2, 2, 2])13'}\n",
      "torch.Size([8, 512, 2, 2, 2])14'}\n",
      "torch.Size([8, 512, 2, 2, 2])13'}\n",
      "torch.Size([8, 512, 2, 2, 2])13'}\n",
      "torch.Size([8, 512, 2, 2, 2])13'}\n",
      "torch.Size([8, 512, 2, 2, 2])13'}\n",
      "torch.Size([8, 512, 2, 2, 2])13'}\n",
      "torch.Size([1, 512, 2, 2, 2])13'}\n",
      "torch.Size([8, 512, 2, 2, 2])14'}\n",
      "torch.Size([8, 512, 2, 2, 2])\n",
      "torch.Size([8, 512, 2, 2, 2])\n",
      "torch.Size([7, 512, 2, 2, 2])\n",
      "torch.Size([8, 512, 2, 2, 2])\n",
      "torch.Size([8, 512, 2, 2, 2])5'}\n",
      "torch.Size([8, 512, 2, 2, 2])5'}\n",
      "torch.Size([8, 512, 2, 2, 2])5'}\n",
      "torch.Size([8, 512, 2, 2, 2])5'}\n",
      "torch.Size([8, 512, 2, 2, 2])5'}\n",
      "torch.Size([8, 512, 2, 2, 2])5'}\n",
      "torch.Size([8, 512, 2, 2, 2])4'}\n",
      "torch.Size([8, 512, 2, 2, 2])3'}\n",
      "torch.Size([8, 512, 2, 2, 2])3'}\n",
      "torch.Size([8, 512, 2, 2, 2])13'}\n",
      "torch.Size([8, 512, 2, 2, 2])13'}\n",
      "torch.Size([8, 512, 2, 2, 2])13'}\n",
      "torch.Size([8, 512, 2, 2, 2])13'}\n",
      "torch.Size([8, 512, 2, 2, 2])13'}\n",
      "torch.Size([8, 512, 2, 2, 2])13'}\n",
      "torch.Size([8, 512, 2, 2, 2])12'}\n",
      "torch.Size([8, 512, 2, 2, 2])12'}\n",
      "torch.Size([8, 512, 2, 2, 2])12'}\n",
      "torch.Size([8, 512, 2, 2, 2])12'}\n",
      "torch.Size([8, 512, 2, 2, 2])11'}\n",
      "torch.Size([8, 512, 2, 2, 2])1'}\n",
      "torch.Size([8, 512, 2, 2, 2])1'}\n",
      "torch.Size([8, 512, 2, 2, 2])11'}\n",
      "torch.Size([8, 512, 2, 2, 2])1'}\n",
      "torch.Size([8, 512, 2, 2, 2])1'}\n",
      "torch.Size([8, 512, 2, 2, 2])1'}\n",
      "torch.Size([8, 512, 2, 2, 2])11'}\n",
      "torch.Size([8, 512, 2, 2, 2])11'}\n",
      "torch.Size([8, 512, 2, 2, 2])11'}\n",
      "torch.Size([8, 512, 2, 2, 2])11'}\n",
      "torch.Size([8, 512, 2, 2, 2])11'}\n",
      "torch.Size([8, 512, 2, 2, 2])12'}\n",
      "torch.Size([8, 512, 2, 2, 2])11'}\n",
      "torch.Size([1, 512, 2, 2, 2])11'}\n",
      "torch.Size([8, 512, 2, 2, 2])11'}\n",
      "torch.Size([8, 512, 2, 2, 2])\n",
      "torch.Size([8, 512, 2, 2, 2])\n",
      "torch.Size([7, 512, 2, 2, 2])\n",
      "torch.Size([8, 512, 2, 2, 2])\n",
      "torch.Size([8, 512, 2, 2, 2])1'}\n",
      "torch.Size([8, 512, 2, 2, 2])2'}\n",
      "torch.Size([8, 512, 2, 2, 2])2'}\n",
      "torch.Size([8, 512, 2, 2, 2])1'}\n",
      "torch.Size([8, 512, 2, 2, 2])1'}\n",
      "torch.Size([8, 512, 2, 2, 2])1'}\n",
      "torch.Size([8, 512, 2, 2, 2])'}\n",
      "torch.Size([8, 512, 2, 2, 2])1'}\n",
      "torch.Size([8, 512, 2, 2, 2])1'}\n",
      "torch.Size([8, 512, 2, 2, 2])11'}\n",
      "torch.Size([8, 512, 2, 2, 2])11'}\n",
      "torch.Size([8, 512, 2, 2, 2])11'}\n",
      "torch.Size([8, 512, 2, 2, 2])1'}\n",
      "torch.Size([8, 512, 2, 2, 2])1'}\n",
      "torch.Size([8, 512, 2, 2, 2])1'}\n",
      "torch.Size([8, 512, 2, 2, 2])11'}\n",
      "torch.Size([8, 512, 2, 2, 2])11'}\n",
      "torch.Size([8, 512, 2, 2, 2])11'}\n",
      "torch.Size([8, 512, 2, 2, 2])11'}\n",
      "torch.Size([8, 512, 2, 2, 2])11'}\n",
      "torch.Size([8, 512, 2, 2, 2])1'}\n",
      "torch.Size([8, 512, 2, 2, 2])11'}\n",
      "torch.Size([8, 512, 2, 2, 2])11'}\n",
      "torch.Size([8, 512, 2, 2, 2])11'}\n",
      "torch.Size([8, 512, 2, 2, 2])11'}\n",
      "torch.Size([8, 512, 2, 2, 2])12'}\n",
      "torch.Size([8, 512, 2, 2, 2])12'}\n",
      "torch.Size([8, 512, 2, 2, 2])12'}\n",
      "torch.Size([8, 512, 2, 2, 2])13'}\n",
      "torch.Size([8, 512, 2, 2, 2])13'}\n",
      "torch.Size([8, 512, 2, 2, 2])14'}\n",
      "torch.Size([8, 512, 2, 2, 2])13'}\n",
      "torch.Size([8, 512, 2, 2, 2])13'}\n",
      "torch.Size([1, 512, 2, 2, 2])13'}\n",
      "torch.Size([8, 512, 2, 2, 2])14'}\n",
      "torch.Size([8, 512, 2, 2, 2])\n",
      "torch.Size([8, 512, 2, 2, 2])\n",
      "torch.Size([7, 512, 2, 2, 2])\n",
      "torch.Size([8, 512, 2, 2, 2])\n",
      "torch.Size([8, 512, 2, 2, 2])4'}\n",
      "torch.Size([8, 512, 2, 2, 2])3'}\n",
      "torch.Size([8, 512, 2, 2, 2])4'}\n",
      "torch.Size([8, 512, 2, 2, 2])4'}\n",
      "torch.Size([8, 512, 2, 2, 2])3'}\n",
      "torch.Size([8, 512, 2, 2, 2])4'}\n",
      "torch.Size([8, 512, 2, 2, 2])3'}\n",
      "torch.Size([8, 512, 2, 2, 2])3'}\n",
      "torch.Size([8, 512, 2, 2, 2])3'}\n",
      "torch.Size([8, 512, 2, 2, 2])13'}\n",
      "torch.Size([8, 512, 2, 2, 2])12'}\n",
      "torch.Size([8, 512, 2, 2, 2])13'}\n",
      "torch.Size([8, 512, 2, 2, 2])12'}\n",
      "torch.Size([8, 512, 2, 2, 2])12'}\n",
      "torch.Size([8, 512, 2, 2, 2])12'}\n",
      "torch.Size([8, 512, 2, 2, 2])11'}\n",
      "torch.Size([8, 512, 2, 2, 2])11'}\n",
      "torch.Size([8, 512, 2, 2, 2])11'}\n",
      "torch.Size([8, 512, 2, 2, 2])11'}\n",
      "torch.Size([8, 512, 2, 2, 2])1'}\n",
      "torch.Size([8, 512, 2, 2, 2])1'}\n",
      "torch.Size([8, 512, 2, 2, 2])1'}\n",
      "torch.Size([8, 512, 2, 2, 2])1'}\n",
      "torch.Size([8, 512, 2, 2, 2])1'}\n",
      "torch.Size([8, 512, 2, 2, 2])1'}\n",
      "torch.Size([8, 512, 2, 2, 2])1'}\n",
      "torch.Size([8, 512, 2, 2, 2])1'}\n",
      "torch.Size([8, 512, 2, 2, 2])1'}\n",
      "torch.Size([8, 512, 2, 2, 2])11'}\n",
      "torch.Size([8, 512, 2, 2, 2])11'}\n",
      "torch.Size([8, 512, 2, 2, 2])11'}\n",
      "torch.Size([8, 512, 2, 2, 2])11'}\n",
      "torch.Size([8, 512, 2, 2, 2])11'}\n",
      "torch.Size([1, 512, 2, 2, 2])11'}\n",
      "torch.Size([8, 512, 2, 2, 2])12'}\n",
      "torch.Size([8, 512, 2, 2, 2])\n",
      "torch.Size([8, 512, 2, 2, 2])\n",
      "torch.Size([7, 512, 2, 2, 2])\n",
      "torch.Size([8, 512, 2, 2, 2])\n",
      "torch.Size([8, 512, 2, 2, 2])2'}\n",
      "torch.Size([8, 512, 2, 2, 2])2'}\n",
      "torch.Size([8, 512, 2, 2, 2])2'}\n",
      "torch.Size([8, 512, 2, 2, 2])3'}\n",
      "torch.Size([8, 512, 2, 2, 2])2'}\n",
      "torch.Size([8, 512, 2, 2, 2])3'}\n",
      "torch.Size([8, 512, 2, 2, 2])3'}\n",
      "torch.Size([8, 512, 2, 2, 2])2'}\n",
      "torch.Size([8, 512, 2, 2, 2])2'}\n",
      "torch.Size([8, 512, 2, 2, 2])12'}\n",
      "torch.Size([8, 512, 2, 2, 2])12'}\n",
      "torch.Size([8, 512, 2, 2, 2])12'}\n",
      "torch.Size([8, 512, 2, 2, 2])11'}\n",
      "torch.Size([8, 512, 2, 2, 2])12'}\n",
      "torch.Size([8, 512, 2, 2, 2])11'}\n",
      "torch.Size([8, 512, 2, 2, 2])11'}\n",
      "torch.Size([8, 512, 2, 2, 2])11'}\n",
      "torch.Size([8, 512, 2, 2, 2])11'}\n",
      "torch.Size([8, 512, 2, 2, 2])11'}\n",
      "torch.Size([8, 512, 2, 2, 2])1'}\n",
      "torch.Size([8, 512, 2, 2, 2])1'}\n",
      "torch.Size([8, 512, 2, 2, 2])1'}\n",
      "torch.Size([8, 512, 2, 2, 2])1'}\n",
      "torch.Size([8, 512, 2, 2, 2])1'}\n",
      "torch.Size([8, 512, 2, 2, 2])1'}\n",
      "torch.Size([8, 512, 2, 2, 2])1'}\n",
      "torch.Size([8, 512, 2, 2, 2])1'}\n",
      "torch.Size([8, 512, 2, 2, 2])1'}\n",
      "torch.Size([8, 512, 2, 2, 2])1'}\n",
      "torch.Size([8, 512, 2, 2, 2])11'}\n",
      "torch.Size([8, 512, 2, 2, 2])11'}\n",
      "torch.Size([8, 512, 2, 2, 2])1'}\n",
      "torch.Size([8, 512, 2, 2, 2])11'}\n",
      "torch.Size([1, 512, 2, 2, 2])1'}\n",
      "torch.Size([8, 512, 2, 2, 2])11'}\n",
      "torch.Size([8, 512, 2, 2, 2])\n",
      "torch.Size([8, 512, 2, 2, 2])\n",
      "torch.Size([7, 512, 2, 2, 2])\n",
      "torch.Size([8, 512, 2, 2, 2])\n",
      "torch.Size([8, 512, 2, 2, 2])'}\n",
      "torch.Size([8, 512, 2, 2, 2])1'}\n",
      "torch.Size([8, 512, 2, 2, 2])1'}\n",
      "torch.Size([8, 512, 2, 2, 2])1'}\n",
      "torch.Size([8, 512, 2, 2, 2])'}\n",
      "torch.Size([8, 512, 2, 2, 2])1'}\n",
      "torch.Size([8, 512, 2, 2, 2])1'}\n",
      "torch.Size([8, 512, 2, 2, 2])2'}\n",
      "torch.Size([8, 512, 2, 2, 2])1'}\n",
      "torch.Size([8, 512, 2, 2, 2])11'}\n",
      "torch.Size([8, 512, 2, 2, 2])11'}\n",
      "torch.Size([8, 512, 2, 2, 2])11'}\n",
      "torch.Size([8, 512, 2, 2, 2])11'}\n",
      "torch.Size([8, 512, 2, 2, 2])11'}\n",
      "torch.Size([8, 512, 2, 2, 2])11'}\n",
      "torch.Size([8, 512, 2, 2, 2])11'}\n",
      "torch.Size([8, 512, 2, 2, 2])11'}\n",
      "torch.Size([8, 512, 2, 2, 2])11'}\n",
      "torch.Size([8, 512, 2, 2, 2])11'}\n",
      "torch.Size([8, 512, 2, 2, 2])12'}\n",
      "torch.Size([8, 512, 2, 2, 2])12'}\n",
      "torch.Size([8, 512, 2, 2, 2])12'}\n",
      "torch.Size([8, 512, 2, 2, 2])12'}\n",
      "torch.Size([8, 512, 2, 2, 2])12'}\n",
      "torch.Size([8, 512, 2, 2, 2])11'}\n",
      "torch.Size([8, 512, 2, 2, 2])11'}\n",
      "torch.Size([8, 512, 2, 2, 2])11'}\n",
      "torch.Size([8, 512, 2, 2, 2])1'}\n",
      "torch.Size([8, 512, 2, 2, 2])11'}\n",
      "torch.Size([8, 512, 2, 2, 2])11'}\n",
      "torch.Size([8, 512, 2, 2, 2])11'}\n",
      "torch.Size([8, 512, 2, 2, 2])11'}\n",
      "torch.Size([8, 512, 2, 2, 2])11'}\n",
      "torch.Size([1, 512, 2, 2, 2])11'}\n",
      "torch.Size([8, 512, 2, 2, 2])1'}\n",
      "torch.Size([8, 512, 2, 2, 2])\n",
      "torch.Size([8, 512, 2, 2, 2])\n",
      "torch.Size([7, 512, 2, 2, 2])\n",
      "torch.Size([8, 512, 2, 2, 2])\n",
      "torch.Size([8, 512, 2, 2, 2])1'}\n",
      "torch.Size([8, 512, 2, 2, 2])1'}\n",
      "torch.Size([8, 512, 2, 2, 2])1'}\n",
      "torch.Size([8, 512, 2, 2, 2])'}\n",
      "torch.Size([8, 512, 2, 2, 2])'}\n",
      "torch.Size([8, 512, 2, 2, 2])'}\n",
      "torch.Size([8, 512, 2, 2, 2])'}\n",
      "torch.Size([8, 512, 2, 2, 2])'}\n",
      "torch.Size([8, 512, 2, 2, 2])'}\n",
      "torch.Size([8, 512, 2, 2, 2])1'}\n",
      "torch.Size([8, 512, 2, 2, 2])1'}\n",
      "torch.Size([8, 512, 2, 2, 2])1'}\n",
      "torch.Size([8, 512, 2, 2, 2])1'}\n",
      "torch.Size([8, 512, 2, 2, 2])1'}\n",
      "torch.Size([8, 512, 2, 2, 2])1'}\n",
      "torch.Size([8, 512, 2, 2, 2])1'}\n",
      "torch.Size([8, 512, 2, 2, 2])1'}\n",
      "torch.Size([8, 512, 2, 2, 2])1'}\n",
      "torch.Size([8, 512, 2, 2, 2])11'}\n",
      "torch.Size([8, 512, 2, 2, 2])11'}\n",
      "torch.Size([8, 512, 2, 2, 2])11'}\n",
      "torch.Size([8, 512, 2, 2, 2])11'}\n",
      "torch.Size([8, 512, 2, 2, 2])11'}\n",
      "torch.Size([8, 512, 2, 2, 2])11'}\n",
      "torch.Size([8, 512, 2, 2, 2])1'}\n",
      "torch.Size([8, 512, 2, 2, 2])11'}\n",
      "torch.Size([8, 512, 2, 2, 2])11'}\n",
      "torch.Size([8, 512, 2, 2, 2])11'}\n",
      "torch.Size([8, 512, 2, 2, 2])11'}\n",
      "torch.Size([8, 512, 2, 2, 2])11'}\n",
      "torch.Size([8, 512, 2, 2, 2])11'}\n",
      "torch.Size([8, 512, 2, 2, 2])11'}\n",
      "torch.Size([8, 512, 2, 2, 2])11'}\n",
      "torch.Size([1, 512, 2, 2, 2])11'}\n",
      "torch.Size([8, 512, 2, 2, 2])11'}\n",
      "torch.Size([8, 512, 2, 2, 2])\n",
      "torch.Size([8, 512, 2, 2, 2])\n",
      "torch.Size([7, 512, 2, 2, 2])\n",
      "torch.Size([8, 512, 2, 2, 2])\n",
      "torch.Size([8, 512, 2, 2, 2])1'}\n",
      "torch.Size([8, 512, 2, 2, 2])1'}\n",
      "torch.Size([8, 512, 2, 2, 2])1'}\n",
      "torch.Size([8, 512, 2, 2, 2])'}\n",
      "torch.Size([8, 512, 2, 2, 2])'}\n",
      "torch.Size([8, 512, 2, 2, 2])'}\n",
      "torch.Size([8, 512, 2, 2, 2])'}\n",
      "torch.Size([8, 512, 2, 2, 2])'}\n",
      "torch.Size([8, 512, 2, 2, 2])'}\n",
      "torch.Size([8, 512, 2, 2, 2])1'}\n",
      "torch.Size([8, 512, 2, 2, 2])1'}\n",
      "torch.Size([8, 512, 2, 2, 2])11'}\n",
      "torch.Size([8, 512, 2, 2, 2])1'}\n",
      "torch.Size([8, 512, 2, 2, 2])1'}\n",
      "torch.Size([8, 512, 2, 2, 2])1'}\n",
      "torch.Size([8, 512, 2, 2, 2])1'}\n",
      "torch.Size([8, 512, 2, 2, 2])1'}\n",
      "torch.Size([8, 512, 2, 2, 2])1'}\n",
      "torch.Size([8, 512, 2, 2, 2])11'}\n",
      "torch.Size([8, 512, 2, 2, 2])1'}\n",
      "torch.Size([8, 512, 2, 2, 2])1'}\n",
      "torch.Size([8, 512, 2, 2, 2])11'}\n",
      "torch.Size([8, 512, 2, 2, 2])11'}\n",
      "torch.Size([8, 512, 2, 2, 2])11'}\n",
      "torch.Size([8, 512, 2, 2, 2])11'}\n",
      "torch.Size([8, 512, 2, 2, 2])11'}\n",
      "torch.Size([8, 512, 2, 2, 2])11'}\n",
      "torch.Size([8, 512, 2, 2, 2])11'}\n",
      "torch.Size([8, 512, 2, 2, 2])11'}\n",
      "torch.Size([8, 512, 2, 2, 2])11'}\n",
      "torch.Size([8, 512, 2, 2, 2])11'}\n",
      "torch.Size([8, 512, 2, 2, 2])11'}\n",
      "torch.Size([8, 512, 2, 2, 2])11'}\n",
      "torch.Size([1, 512, 2, 2, 2])11'}\n",
      "torch.Size([8, 512, 2, 2, 2])11'}\n",
      "torch.Size([8, 512, 2, 2, 2])\n",
      "torch.Size([8, 512, 2, 2, 2])\n",
      "torch.Size([7, 512, 2, 2, 2])\n"
     ]
    },
    {
     "name": "stderr",
     "output_type": "stream",
     "text": [
      "Monitored metric loss/val did not improve in the last 10 records. Best score: 1.064. Signaling Trainer to stop.\n",
      "GPU available: True, used: True\n",
      "TPU available: False, using: 0 TPU cores\n",
      "LOCAL_RANK: 0 - CUDA_VISIBLE_DEVICES: [0]\n",
      "\n",
      "  | Name               | Type             | Params\n",
      "--------------------------------------------------------\n",
      "0 | model              | VGG              | 65.1 M\n",
      "1 | criteria           | CrossEntropyLoss | 0     \n",
      "2 | train_metrics      | MetricCollection | 0     \n",
      "3 | valid_metrics      | MetricCollection | 0     \n",
      "4 | valid_dummy_metric | AUROC            | 0     \n",
      "--------------------------------------------------------\n",
      "65.1 M    Trainable params\n",
      "0         Non-trainable params\n",
      "65.1 M    Total params\n",
      "260.447   Total estimated model params size (MB)\n"
     ]
    },
    {
     "name": "stdout",
     "output_type": "stream",
     "text": [
      "Architecture [VGG] was created\n",
      "***Defined hyperparameters:***\n",
      "\"arch\":                {'name': 'vgg16', 'args': {'num_channels': 1, 'num_classes': 3}}\n",
      "\"checkpoint_path\":     None\n",
      "\"class_weights\":       tensor([1.2466, 0.6500, 1.5167], device='cuda:0')\n",
      "\"hp_metrics\":          ['loss/train', 'loss/val', 'Accuracy/val', 'AUROC/val', 'Precision/val', 'Recall/val', 'Specificity/val']\n",
      "\"loss\":                {'type': 'CrossEntropyLoss', 'args': {'weight': True}}\n",
      "\"optimizer\":           {'type': 'Adam', 'args': {'lr': 0.02, 'weight_decay': 0, 'amsgrad': False}}\n",
      "\"roi_hparams\":         {'enable': False, 'output_shape': [3, 3, 3], 'boundary_boxes': []}\n",
      "\"weight_distribution\": None\n",
      "Enabled callbacks:  ['LitProgressBar', 'EarlyStopping']\n",
      "Dataloader fold: 6\n",
      "torch.Size([8, 512, 2, 2, 2])\n",
      "torch.Size([8, 512, 2, 2, 2])}\n",
      "torch.Size([8, 512, 2, 2, 2])e+17'}\n",
      "torch.Size([8, 512, 2, 2, 2])e+17'}\n",
      "torch.Size([8, 512, 2, 2, 2])e+17'}\n",
      "torch.Size([8, 512, 2, 2, 2])e+17'}\n",
      "torch.Size([8, 512, 2, 2, 2])e+17'}\n",
      "torch.Size([8, 512, 2, 2, 2])e+17'}\n",
      "torch.Size([8, 512, 2, 2, 2])e+17'}\n",
      "torch.Size([8, 512, 2, 2, 2])e+17'}\n",
      "torch.Size([8, 512, 2, 2, 2])5e+17'}\n",
      "torch.Size([8, 512, 2, 2, 2])3e+17'}\n",
      "torch.Size([8, 512, 2, 2, 2])4e+17'}\n",
      "torch.Size([8, 512, 2, 2, 2])9e+16'}\n",
      "torch.Size([8, 512, 2, 2, 2])e+16'}\n",
      "torch.Size([8, 512, 2, 2, 2])1e+16'}\n",
      "torch.Size([8, 512, 2, 2, 2])9e+16'}\n",
      "torch.Size([8, 512, 2, 2, 2])3e+16'}\n",
      "torch.Size([8, 512, 2, 2, 2])2e+16'}\n",
      "torch.Size([8, 512, 2, 2, 2])6e+16'}\n",
      "torch.Size([8, 512, 2, 2, 2])3e+16'}\n",
      "torch.Size([8, 512, 2, 2, 2])3e+16'}\n",
      "torch.Size([8, 512, 2, 2, 2])2e+08'}\n",
      "torch.Size([8, 512, 2, 2, 2])2e+08'}\n",
      "torch.Size([8, 512, 2, 2, 2])4e+07'}\n",
      "torch.Size([8, 512, 2, 2, 2])8e+07'}\n",
      "torch.Size([8, 512, 2, 2, 2])5e+07'}\n",
      "torch.Size([8, 512, 2, 2, 2])2e+07'}\n",
      "torch.Size([8, 512, 2, 2, 2])2e+07'}\n",
      "torch.Size([8, 512, 2, 2, 2])1e+07'}\n",
      "torch.Size([8, 512, 2, 2, 2])9e+07'}\n",
      "torch.Size([8, 512, 2, 2, 2])8e+07'}\n",
      "torch.Size([8, 512, 2, 2, 2])4e+07'}\n",
      "torch.Size([8, 512, 2, 2, 2])1e+06'}\n",
      "torch.Size([1, 512, 2, 2, 2])7e+06'}\n",
      "torch.Size([8, 512, 2, 2, 2])6e+06'}\n",
      "torch.Size([8, 512, 2, 2, 2])\n",
      "torch.Size([8, 512, 2, 2, 2])\n",
      "torch.Size([7, 512, 2, 2, 2])\n"
     ]
    },
    {
     "name": "stderr",
     "output_type": "stream",
     "text": [
      "Metric loss/val improved. New best score: 5.387\n"
     ]
    },
    {
     "name": "stdout",
     "output_type": "stream",
     "text": [
      "torch.Size([8, 512, 2, 2, 2])\n",
      "torch.Size([8, 512, 2, 2, 2])e+06'}\n",
      "torch.Size([8, 512, 2, 2, 2])e+06'}\n",
      "torch.Size([8, 512, 2, 2, 2])e+05'}\n",
      "torch.Size([8, 512, 2, 2, 2])+05'}\n",
      "torch.Size([8, 512, 2, 2, 2])e+05'}\n",
      "torch.Size([8, 512, 2, 2, 2])e+05'}\n",
      "torch.Size([8, 512, 2, 2, 2])'}\n",
      "torch.Size([8, 512, 2, 2, 2])'}\n",
      "torch.Size([8, 512, 2, 2, 2])}\n",
      "torch.Size([8, 512, 2, 2, 2])6'}\n",
      "torch.Size([8, 512, 2, 2, 2])4'}\n",
      "torch.Size([8, 512, 2, 2, 2])3'}\n",
      "torch.Size([8, 512, 2, 2, 2])8'}\n",
      "torch.Size([8, 512, 2, 2, 2])1'}\n",
      "torch.Size([8, 512, 2, 2, 2])8'}\n",
      "torch.Size([8, 512, 2, 2, 2])6'}\n",
      "torch.Size([8, 512, 2, 2, 2])4'}\n",
      "torch.Size([8, 512, 2, 2, 2])6'}\n",
      "torch.Size([8, 512, 2, 2, 2])5'}\n",
      "torch.Size([8, 512, 2, 2, 2])9'}\n",
      "torch.Size([8, 512, 2, 2, 2])6'}\n",
      "torch.Size([8, 512, 2, 2, 2])3'}\n",
      "torch.Size([8, 512, 2, 2, 2])9'}\n",
      "torch.Size([8, 512, 2, 2, 2])7'}\n",
      "torch.Size([8, 512, 2, 2, 2])9'}\n",
      "torch.Size([8, 512, 2, 2, 2])2'}\n",
      "torch.Size([8, 512, 2, 2, 2])4'}\n",
      "torch.Size([8, 512, 2, 2, 2])9'}\n",
      "torch.Size([8, 512, 2, 2, 2])5'}\n",
      "torch.Size([8, 512, 2, 2, 2])1'}\n",
      "torch.Size([8, 512, 2, 2, 2])9'}\n",
      "torch.Size([8, 512, 2, 2, 2])4'}\n",
      "torch.Size([8, 512, 2, 2, 2])6'}\n",
      "torch.Size([1, 512, 2, 2, 2])6'}\n",
      "torch.Size([8, 512, 2, 2, 2])5'}\n",
      "torch.Size([8, 512, 2, 2, 2])\n",
      "torch.Size([8, 512, 2, 2, 2])\n",
      "torch.Size([7, 512, 2, 2, 2])\n"
     ]
    },
    {
     "name": "stderr",
     "output_type": "stream",
     "text": [
      "Metric loss/val improved by 3.907 >= min_delta = 0.0001. New best score: 1.480\n"
     ]
    },
    {
     "name": "stdout",
     "output_type": "stream",
     "text": [
      "torch.Size([8, 512, 2, 2, 2])\n",
      "torch.Size([8, 512, 2, 2, 2])'}\n",
      "torch.Size([8, 512, 2, 2, 2])'}\n",
      "torch.Size([8, 512, 2, 2, 2])'}\n",
      "torch.Size([8, 512, 2, 2, 2])}\n",
      "torch.Size([8, 512, 2, 2, 2])'}\n",
      "torch.Size([8, 512, 2, 2, 2])'}\n",
      "torch.Size([8, 512, 2, 2, 2])'}\n",
      "torch.Size([8, 512, 2, 2, 2])'}\n",
      "torch.Size([8, 512, 2, 2, 2])'}\n",
      "torch.Size([8, 512, 2, 2, 2])5'}\n",
      "torch.Size([8, 512, 2, 2, 2])9'}\n",
      "torch.Size([8, 512, 2, 2, 2])2'}\n",
      "torch.Size([8, 512, 2, 2, 2])7'}\n",
      "torch.Size([8, 512, 2, 2, 2])1'}\n",
      "torch.Size([8, 512, 2, 2, 2])6'}\n",
      "torch.Size([8, 512, 2, 2, 2])7'}\n",
      "torch.Size([8, 512, 2, 2, 2])8'}\n",
      "torch.Size([8, 512, 2, 2, 2])6'}\n",
      "torch.Size([8, 512, 2, 2, 2])1'}\n",
      "torch.Size([8, 512, 2, 2, 2])5'}\n",
      "torch.Size([8, 512, 2, 2, 2])6'}\n",
      "torch.Size([8, 512, 2, 2, 2])7'}\n",
      "torch.Size([8, 512, 2, 2, 2])7'}\n",
      "torch.Size([8, 512, 2, 2, 2])7'}\n",
      "torch.Size([8, 512, 2, 2, 2])4'}\n",
      "torch.Size([8, 512, 2, 2, 2])4'}\n",
      "torch.Size([8, 512, 2, 2, 2])3'}\n",
      "torch.Size([8, 512, 2, 2, 2])8'}\n",
      "torch.Size([8, 512, 2, 2, 2])2'}\n",
      "torch.Size([8, 512, 2, 2, 2])3'}\n",
      "torch.Size([8, 512, 2, 2, 2])9'}\n",
      "torch.Size([8, 512, 2, 2, 2])'}\n",
      "torch.Size([8, 512, 2, 2, 2])6'}\n",
      "torch.Size([1, 512, 2, 2, 2])6'}\n",
      "torch.Size([8, 512, 2, 2, 2])7'}\n",
      "torch.Size([8, 512, 2, 2, 2])\n",
      "torch.Size([8, 512, 2, 2, 2])\n",
      "torch.Size([7, 512, 2, 2, 2])\n"
     ]
    },
    {
     "name": "stderr",
     "output_type": "stream",
     "text": [
      "Metric loss/val improved by 0.379 >= min_delta = 0.0001. New best score: 1.101\n"
     ]
    },
    {
     "name": "stdout",
     "output_type": "stream",
     "text": [
      "torch.Size([8, 512, 2, 2, 2])\n",
      "torch.Size([8, 512, 2, 2, 2])'}\n",
      "torch.Size([8, 512, 2, 2, 2])'}\n",
      "torch.Size([8, 512, 2, 2, 2])'}\n",
      "torch.Size([8, 512, 2, 2, 2])'}\n",
      "torch.Size([8, 512, 2, 2, 2])'}\n",
      "torch.Size([8, 512, 2, 2, 2])}\n",
      "torch.Size([8, 512, 2, 2, 2])'}\n",
      "torch.Size([8, 512, 2, 2, 2])'}\n",
      "torch.Size([8, 512, 2, 2, 2])'}\n",
      "torch.Size([8, 512, 2, 2, 2])5'}\n",
      "torch.Size([8, 512, 2, 2, 2])2'}\n",
      "torch.Size([8, 512, 2, 2, 2])'}\n",
      "torch.Size([8, 512, 2, 2, 2])4'}\n",
      "torch.Size([8, 512, 2, 2, 2])8'}\n",
      "torch.Size([8, 512, 2, 2, 2])1'}\n",
      "torch.Size([8, 512, 2, 2, 2])3'}\n",
      "torch.Size([8, 512, 2, 2, 2])4'}\n",
      "torch.Size([8, 512, 2, 2, 2])3'}\n",
      "torch.Size([8, 512, 2, 2, 2])2'}\n",
      "torch.Size([8, 512, 2, 2, 2])5'}\n",
      "torch.Size([8, 512, 2, 2, 2])'}\n",
      "torch.Size([8, 512, 2, 2, 2])1'}\n",
      "torch.Size([8, 512, 2, 2, 2])9'}\n",
      "torch.Size([8, 512, 2, 2, 2])'}\n",
      "torch.Size([8, 512, 2, 2, 2])'}\n",
      "torch.Size([8, 512, 2, 2, 2])9'}\n",
      "torch.Size([8, 512, 2, 2, 2])7'}\n",
      "torch.Size([8, 512, 2, 2, 2])6'}\n",
      "torch.Size([8, 512, 2, 2, 2])5'}\n",
      "torch.Size([8, 512, 2, 2, 2])1'}\n",
      "torch.Size([8, 512, 2, 2, 2])3'}\n",
      "torch.Size([8, 512, 2, 2, 2])3'}\n",
      "torch.Size([8, 512, 2, 2, 2])1'}\n",
      "torch.Size([1, 512, 2, 2, 2])4'}\n",
      "torch.Size([8, 512, 2, 2, 2])5'}\n",
      "torch.Size([8, 512, 2, 2, 2])\n",
      "torch.Size([8, 512, 2, 2, 2])\n",
      "torch.Size([7, 512, 2, 2, 2])\n"
     ]
    },
    {
     "name": "stderr",
     "output_type": "stream",
     "text": [
      "Metric loss/val improved by 0.009 >= min_delta = 0.0001. New best score: 1.092\n"
     ]
    },
    {
     "name": "stdout",
     "output_type": "stream",
     "text": [
      "torch.Size([8, 512, 2, 2, 2])\n",
      "torch.Size([8, 512, 2, 2, 2])'}\n",
      "torch.Size([8, 512, 2, 2, 2])'}\n",
      "torch.Size([8, 512, 2, 2, 2])'}\n",
      "torch.Size([8, 512, 2, 2, 2])'}\n",
      "torch.Size([8, 512, 2, 2, 2])'}\n",
      "torch.Size([8, 512, 2, 2, 2])'}\n",
      "torch.Size([8, 512, 2, 2, 2])'}\n",
      "torch.Size([8, 512, 2, 2, 2])'}\n",
      "torch.Size([8, 512, 2, 2, 2])'}\n",
      "torch.Size([8, 512, 2, 2, 2])4'}\n",
      "torch.Size([8, 512, 2, 2, 2])5'}\n",
      "torch.Size([8, 512, 2, 2, 2])4'}\n",
      "torch.Size([8, 512, 2, 2, 2])4'}\n",
      "torch.Size([8, 512, 2, 2, 2])3'}\n",
      "torch.Size([8, 512, 2, 2, 2])2'}\n",
      "torch.Size([8, 512, 2, 2, 2])1'}\n",
      "torch.Size([8, 512, 2, 2, 2])8'}\n",
      "torch.Size([8, 512, 2, 2, 2])6'}\n",
      "torch.Size([8, 512, 2, 2, 2])6'}\n",
      "torch.Size([8, 512, 2, 2, 2])9'}\n",
      "torch.Size([8, 512, 2, 2, 2])8'}\n",
      "torch.Size([8, 512, 2, 2, 2])'}\n",
      "torch.Size([8, 512, 2, 2, 2])'}\n",
      "torch.Size([8, 512, 2, 2, 2])6'}\n",
      "torch.Size([8, 512, 2, 2, 2])4'}\n",
      "torch.Size([8, 512, 2, 2, 2])4'}\n",
      "torch.Size([8, 512, 2, 2, 2])1'}\n",
      "torch.Size([8, 512, 2, 2, 2])2'}\n",
      "torch.Size([8, 512, 2, 2, 2])5'}\n",
      "torch.Size([8, 512, 2, 2, 2])9'}\n",
      "torch.Size([8, 512, 2, 2, 2])3'}\n",
      "torch.Size([8, 512, 2, 2, 2])4'}\n",
      "torch.Size([8, 512, 2, 2, 2])2'}\n",
      "torch.Size([1, 512, 2, 2, 2])4'}\n",
      "torch.Size([8, 512, 2, 2, 2])3'}\n",
      "torch.Size([8, 512, 2, 2, 2])\n",
      "torch.Size([8, 512, 2, 2, 2])\n",
      "torch.Size([7, 512, 2, 2, 2])\n"
     ]
    },
    {
     "name": "stderr",
     "output_type": "stream",
     "text": [
      "Metric loss/val improved by 0.021 >= min_delta = 0.0001. New best score: 1.071\n"
     ]
    },
    {
     "name": "stdout",
     "output_type": "stream",
     "text": [
      "torch.Size([8, 512, 2, 2, 2])\n",
      "torch.Size([8, 512, 2, 2, 2])'}\n",
      "torch.Size([8, 512, 2, 2, 2])'}\n",
      "torch.Size([8, 512, 2, 2, 2])'}\n",
      "torch.Size([8, 512, 2, 2, 2])'}\n",
      "torch.Size([8, 512, 2, 2, 2])'}\n",
      "torch.Size([8, 512, 2, 2, 2])'}\n",
      "torch.Size([8, 512, 2, 2, 2])'}\n",
      "torch.Size([8, 512, 2, 2, 2])'}\n",
      "torch.Size([8, 512, 2, 2, 2])'}\n",
      "torch.Size([8, 512, 2, 2, 2])3'}\n",
      "torch.Size([8, 512, 2, 2, 2])2'}\n",
      "torch.Size([8, 512, 2, 2, 2])3'}\n",
      "torch.Size([8, 512, 2, 2, 2])1'}\n",
      "torch.Size([8, 512, 2, 2, 2])8'}\n",
      "torch.Size([8, 512, 2, 2, 2])6'}\n",
      "torch.Size([8, 512, 2, 2, 2])3'}\n",
      "torch.Size([8, 512, 2, 2, 2])2'}\n",
      "torch.Size([8, 512, 2, 2, 2])3'}\n",
      "torch.Size([8, 512, 2, 2, 2])2'}\n",
      "torch.Size([8, 512, 2, 2, 2])3'}\n",
      "torch.Size([8, 512, 2, 2, 2])2'}\n",
      "torch.Size([8, 512, 2, 2, 2])2'}\n",
      "torch.Size([8, 512, 2, 2, 2])2'}\n",
      "torch.Size([8, 512, 2, 2, 2])2'}\n",
      "torch.Size([8, 512, 2, 2, 2])1'}\n",
      "torch.Size([8, 512, 2, 2, 2])3'}\n",
      "torch.Size([8, 512, 2, 2, 2])2'}\n",
      "torch.Size([8, 512, 2, 2, 2])2'}\n",
      "torch.Size([8, 512, 2, 2, 2])2'}\n",
      "torch.Size([8, 512, 2, 2, 2])1'}\n",
      "torch.Size([8, 512, 2, 2, 2])2'}\n",
      "torch.Size([8, 512, 2, 2, 2])3'}\n",
      "torch.Size([8, 512, 2, 2, 2])3'}\n",
      "torch.Size([1, 512, 2, 2, 2])2'}\n",
      "torch.Size([8, 512, 2, 2, 2])1'}\n",
      "torch.Size([8, 512, 2, 2, 2])\n",
      "torch.Size([8, 512, 2, 2, 2])\n",
      "torch.Size([7, 512, 2, 2, 2])\n",
      "torch.Size([8, 512, 2, 2, 2])\n",
      "torch.Size([8, 512, 2, 2, 2])}\n",
      "torch.Size([8, 512, 2, 2, 2])}\n",
      "torch.Size([8, 512, 2, 2, 2])'}\n",
      "torch.Size([8, 512, 2, 2, 2])}\n",
      "torch.Size([8, 512, 2, 2, 2])}\n",
      "torch.Size([8, 512, 2, 2, 2])}\n",
      "torch.Size([8, 512, 2, 2, 2])}\n",
      "torch.Size([8, 512, 2, 2, 2])}\n",
      "torch.Size([8, 512, 2, 2, 2])}\n",
      "torch.Size([8, 512, 2, 2, 2])1'}\n",
      "torch.Size([8, 512, 2, 2, 2])'}\n",
      "torch.Size([8, 512, 2, 2, 2])1'}\n",
      "torch.Size([8, 512, 2, 2, 2])2'}\n",
      "torch.Size([8, 512, 2, 2, 2])2'}\n",
      "torch.Size([8, 512, 2, 2, 2])2'}\n",
      "torch.Size([8, 512, 2, 2, 2])2'}\n",
      "torch.Size([8, 512, 2, 2, 2])2'}\n",
      "torch.Size([8, 512, 2, 2, 2])2'}\n",
      "torch.Size([8, 512, 2, 2, 2])3'}\n",
      "torch.Size([8, 512, 2, 2, 2])2'}\n",
      "torch.Size([8, 512, 2, 2, 2])3'}\n",
      "torch.Size([8, 512, 2, 2, 2])4'}\n",
      "torch.Size([8, 512, 2, 2, 2])3'}\n",
      "torch.Size([8, 512, 2, 2, 2])4'}\n",
      "torch.Size([8, 512, 2, 2, 2])4'}\n",
      "torch.Size([8, 512, 2, 2, 2])4'}\n",
      "torch.Size([8, 512, 2, 2, 2])3'}\n",
      "torch.Size([8, 512, 2, 2, 2])3'}\n",
      "torch.Size([8, 512, 2, 2, 2])4'}\n",
      "torch.Size([8, 512, 2, 2, 2])4'}\n",
      "torch.Size([8, 512, 2, 2, 2])4'}\n",
      "torch.Size([8, 512, 2, 2, 2])3'}\n",
      "torch.Size([8, 512, 2, 2, 2])3'}\n",
      "torch.Size([1, 512, 2, 2, 2])4'}\n",
      "torch.Size([8, 512, 2, 2, 2])3'}\n",
      "torch.Size([8, 512, 2, 2, 2])\n",
      "torch.Size([8, 512, 2, 2, 2])\n",
      "torch.Size([7, 512, 2, 2, 2])\n",
      "torch.Size([8, 512, 2, 2, 2])\n",
      "torch.Size([8, 512, 2, 2, 2])'}\n",
      "torch.Size([8, 512, 2, 2, 2])'}\n",
      "torch.Size([8, 512, 2, 2, 2])'}\n",
      "torch.Size([8, 512, 2, 2, 2])'}\n",
      "torch.Size([8, 512, 2, 2, 2])'}\n",
      "torch.Size([8, 512, 2, 2, 2])'}\n",
      "torch.Size([8, 512, 2, 2, 2])'}\n",
      "torch.Size([8, 512, 2, 2, 2])'}\n",
      "torch.Size([8, 512, 2, 2, 2])'}\n",
      "torch.Size([8, 512, 2, 2, 2])4'}\n",
      "torch.Size([8, 512, 2, 2, 2])4'}\n",
      "torch.Size([8, 512, 2, 2, 2])5'}\n",
      "torch.Size([8, 512, 2, 2, 2])5'}\n",
      "torch.Size([8, 512, 2, 2, 2])5'}\n",
      "torch.Size([8, 512, 2, 2, 2])5'}\n",
      "torch.Size([8, 512, 2, 2, 2])5'}\n",
      "torch.Size([8, 512, 2, 2, 2])5'}\n",
      "torch.Size([8, 512, 2, 2, 2])5'}\n",
      "torch.Size([8, 512, 2, 2, 2])5'}\n",
      "torch.Size([8, 512, 2, 2, 2])6'}\n",
      "torch.Size([8, 512, 2, 2, 2])6'}\n",
      "torch.Size([8, 512, 2, 2, 2])6'}\n",
      "torch.Size([8, 512, 2, 2, 2])4'}\n",
      "torch.Size([8, 512, 2, 2, 2])4'}\n",
      "torch.Size([8, 512, 2, 2, 2])3'}\n",
      "torch.Size([8, 512, 2, 2, 2])4'}\n",
      "torch.Size([8, 512, 2, 2, 2])4'}\n",
      "torch.Size([8, 512, 2, 2, 2])3'}\n",
      "torch.Size([8, 512, 2, 2, 2])2'}\n",
      "torch.Size([8, 512, 2, 2, 2])2'}\n",
      "torch.Size([8, 512, 2, 2, 2])3'}\n",
      "torch.Size([8, 512, 2, 2, 2])2'}\n",
      "torch.Size([8, 512, 2, 2, 2])2'}\n",
      "torch.Size([1, 512, 2, 2, 2])1'}\n",
      "torch.Size([8, 512, 2, 2, 2])1'}\n",
      "torch.Size([8, 512, 2, 2, 2])\n",
      "torch.Size([8, 512, 2, 2, 2])\n",
      "torch.Size([7, 512, 2, 2, 2])\n",
      "torch.Size([8, 512, 2, 2, 2])\n",
      "torch.Size([8, 512, 2, 2, 2])'}\n",
      "torch.Size([8, 512, 2, 2, 2])'}\n",
      "torch.Size([8, 512, 2, 2, 2])'}\n",
      "torch.Size([8, 512, 2, 2, 2])}\n",
      "torch.Size([8, 512, 2, 2, 2])}\n",
      "torch.Size([8, 512, 2, 2, 2])'}\n",
      "torch.Size([8, 512, 2, 2, 2])'}\n",
      "torch.Size([8, 512, 2, 2, 2])}\n",
      "torch.Size([8, 512, 2, 2, 2])}\n",
      "torch.Size([8, 512, 2, 2, 2])'}\n",
      "torch.Size([8, 512, 2, 2, 2])1'}\n",
      "torch.Size([8, 512, 2, 2, 2])'}\n",
      "torch.Size([8, 512, 2, 2, 2])'}\n",
      "torch.Size([8, 512, 2, 2, 2])'}\n",
      "torch.Size([8, 512, 2, 2, 2])'}\n",
      "torch.Size([8, 512, 2, 2, 2])'}\n",
      "torch.Size([8, 512, 2, 2, 2])1'}\n",
      "torch.Size([8, 512, 2, 2, 2])1'}\n",
      "torch.Size([8, 512, 2, 2, 2])1'}\n",
      "torch.Size([8, 512, 2, 2, 2])1'}\n",
      "torch.Size([8, 512, 2, 2, 2])'}\n",
      "torch.Size([8, 512, 2, 2, 2])1'}\n",
      "torch.Size([8, 512, 2, 2, 2])1'}\n",
      "torch.Size([8, 512, 2, 2, 2])1'}\n",
      "torch.Size([8, 512, 2, 2, 2])'}\n",
      "torch.Size([8, 512, 2, 2, 2])1'}\n",
      "torch.Size([8, 512, 2, 2, 2])1'}\n",
      "torch.Size([8, 512, 2, 2, 2])'}\n",
      "torch.Size([8, 512, 2, 2, 2])'}\n",
      "torch.Size([8, 512, 2, 2, 2])'}\n",
      "torch.Size([8, 512, 2, 2, 2])'}\n",
      "torch.Size([8, 512, 2, 2, 2])'}\n",
      "torch.Size([8, 512, 2, 2, 2])1'}\n",
      "torch.Size([1, 512, 2, 2, 2])'}\n",
      "torch.Size([8, 512, 2, 2, 2])1'}\n",
      "torch.Size([8, 512, 2, 2, 2])\n",
      "torch.Size([8, 512, 2, 2, 2])\n",
      "torch.Size([7, 512, 2, 2, 2])\n",
      "torch.Size([8, 512, 2, 2, 2])\n",
      "torch.Size([8, 512, 2, 2, 2])'}\n",
      "torch.Size([8, 512, 2, 2, 2])'}\n",
      "torch.Size([8, 512, 2, 2, 2])'}\n",
      "torch.Size([8, 512, 2, 2, 2])1'}\n",
      "torch.Size([8, 512, 2, 2, 2])1'}\n",
      "torch.Size([8, 512, 2, 2, 2])'}\n",
      "torch.Size([8, 512, 2, 2, 2])9'}\n",
      "torch.Size([8, 512, 2, 2, 2])1'}\n",
      "torch.Size([8, 512, 2, 2, 2])1'}\n",
      "torch.Size([8, 512, 2, 2, 2])1'}\n",
      "torch.Size([8, 512, 2, 2, 2])1'}\n",
      "torch.Size([8, 512, 2, 2, 2])09'}\n",
      "torch.Size([8, 512, 2, 2, 2])09'}\n",
      "torch.Size([8, 512, 2, 2, 2])09'}\n",
      "torch.Size([8, 512, 2, 2, 2])09'}\n",
      "torch.Size([8, 512, 2, 2, 2])11'}\n",
      "torch.Size([8, 512, 2, 2, 2])11'}\n",
      "torch.Size([8, 512, 2, 2, 2])13'}\n",
      "torch.Size([8, 512, 2, 2, 2])14'}\n",
      "torch.Size([8, 512, 2, 2, 2])14'}\n",
      "torch.Size([8, 512, 2, 2, 2])15'}\n",
      "torch.Size([8, 512, 2, 2, 2])15'}\n",
      "torch.Size([8, 512, 2, 2, 2])15'}\n",
      "torch.Size([8, 512, 2, 2, 2])15'}\n",
      "torch.Size([8, 512, 2, 2, 2])15'}\n",
      "torch.Size([8, 512, 2, 2, 2])16'}\n",
      "torch.Size([8, 512, 2, 2, 2])16'}\n",
      "torch.Size([8, 512, 2, 2, 2])15'}\n",
      "torch.Size([8, 512, 2, 2, 2])15'}\n",
      "torch.Size([8, 512, 2, 2, 2])16'}\n",
      "torch.Size([8, 512, 2, 2, 2])16'}\n",
      "torch.Size([8, 512, 2, 2, 2])17'}\n",
      "torch.Size([8, 512, 2, 2, 2])17'}\n",
      "torch.Size([1, 512, 2, 2, 2])16'}\n",
      "torch.Size([8, 512, 2, 2, 2])18'}\n",
      "torch.Size([8, 512, 2, 2, 2])\n",
      "torch.Size([8, 512, 2, 2, 2])\n",
      "torch.Size([7, 512, 2, 2, 2])\n",
      "torch.Size([8, 512, 2, 2, 2])\n",
      "torch.Size([8, 512, 2, 2, 2])6'}\n",
      "torch.Size([8, 512, 2, 2, 2])6'}\n",
      "torch.Size([8, 512, 2, 2, 2])4'}\n",
      "torch.Size([8, 512, 2, 2, 2])2'}\n",
      "torch.Size([8, 512, 2, 2, 2])2'}\n",
      "torch.Size([8, 512, 2, 2, 2])2'}\n",
      "torch.Size([8, 512, 2, 2, 2])2'}\n",
      "torch.Size([8, 512, 2, 2, 2])2'}\n",
      "torch.Size([8, 512, 2, 2, 2])1'}\n",
      "torch.Size([8, 512, 2, 2, 2])11'}\n",
      "torch.Size([8, 512, 2, 2, 2])11'}\n",
      "torch.Size([8, 512, 2, 2, 2])11'}\n",
      "torch.Size([8, 512, 2, 2, 2])11'}\n",
      "torch.Size([8, 512, 2, 2, 2])11'}\n",
      "torch.Size([8, 512, 2, 2, 2])11'}\n",
      "torch.Size([8, 512, 2, 2, 2])11'}\n",
      "torch.Size([8, 512, 2, 2, 2])11'}\n",
      "torch.Size([8, 512, 2, 2, 2])11'}\n",
      "torch.Size([8, 512, 2, 2, 2])11'}\n",
      "torch.Size([8, 512, 2, 2, 2])1'}\n",
      "torch.Size([8, 512, 2, 2, 2])1'}\n",
      "torch.Size([8, 512, 2, 2, 2])1'}\n",
      "torch.Size([8, 512, 2, 2, 2])11'}\n",
      "torch.Size([8, 512, 2, 2, 2])11'}\n",
      "torch.Size([8, 512, 2, 2, 2])11'}\n",
      "torch.Size([8, 512, 2, 2, 2])11'}\n",
      "torch.Size([8, 512, 2, 2, 2])11'}\n",
      "torch.Size([8, 512, 2, 2, 2])11'}\n",
      "torch.Size([8, 512, 2, 2, 2])11'}\n",
      "torch.Size([8, 512, 2, 2, 2])11'}\n",
      "torch.Size([8, 512, 2, 2, 2])1'}\n",
      "torch.Size([8, 512, 2, 2, 2])1'}\n",
      "torch.Size([8, 512, 2, 2, 2])1'}\n",
      "torch.Size([1, 512, 2, 2, 2])1'}\n",
      "torch.Size([8, 512, 2, 2, 2])11'}\n",
      "torch.Size([8, 512, 2, 2, 2])\n",
      "torch.Size([8, 512, 2, 2, 2])\n",
      "torch.Size([7, 512, 2, 2, 2])\n",
      "torch.Size([8, 512, 2, 2, 2])\n",
      "torch.Size([8, 512, 2, 2, 2])1'}\n",
      "torch.Size([8, 512, 2, 2, 2])1'}\n",
      "torch.Size([8, 512, 2, 2, 2])1'}\n",
      "torch.Size([8, 512, 2, 2, 2])'}\n",
      "torch.Size([8, 512, 2, 2, 2])'}\n",
      "torch.Size([8, 512, 2, 2, 2])'}\n",
      "torch.Size([8, 512, 2, 2, 2])'}\n",
      "torch.Size([8, 512, 2, 2, 2])9'}\n",
      "torch.Size([8, 512, 2, 2, 2])9'}\n",
      "torch.Size([8, 512, 2, 2, 2])09'}\n",
      "torch.Size([8, 512, 2, 2, 2])09'}\n",
      "torch.Size([8, 512, 2, 2, 2])1'}\n",
      "torch.Size([8, 512, 2, 2, 2])1'}\n",
      "torch.Size([8, 512, 2, 2, 2])11'}\n",
      "torch.Size([8, 512, 2, 2, 2])1'}\n",
      "torch.Size([8, 512, 2, 2, 2])1'}\n",
      "torch.Size([8, 512, 2, 2, 2])1'}\n",
      "torch.Size([8, 512, 2, 2, 2])1'}\n",
      "torch.Size([8, 512, 2, 2, 2])11'}\n",
      "torch.Size([8, 512, 2, 2, 2])11'}\n",
      "torch.Size([8, 512, 2, 2, 2])12'}\n",
      "torch.Size([8, 512, 2, 2, 2])11'}\n",
      "torch.Size([8, 512, 2, 2, 2])11'}\n",
      "torch.Size([8, 512, 2, 2, 2])11'}\n",
      "torch.Size([8, 512, 2, 2, 2])11'}\n",
      "torch.Size([8, 512, 2, 2, 2])11'}\n",
      "torch.Size([8, 512, 2, 2, 2])11'}\n",
      "torch.Size([8, 512, 2, 2, 2])11'}\n",
      "torch.Size([8, 512, 2, 2, 2])11'}\n",
      "torch.Size([8, 512, 2, 2, 2])11'}\n",
      "torch.Size([8, 512, 2, 2, 2])11'}\n",
      "torch.Size([8, 512, 2, 2, 2])11'}\n",
      "torch.Size([8, 512, 2, 2, 2])1'}\n",
      "torch.Size([1, 512, 2, 2, 2])1'}\n",
      "torch.Size([8, 512, 2, 2, 2])1'}\n",
      "torch.Size([8, 512, 2, 2, 2])\n",
      "torch.Size([8, 512, 2, 2, 2])\n",
      "torch.Size([7, 512, 2, 2, 2])\n",
      "torch.Size([8, 512, 2, 2, 2])\n",
      "torch.Size([8, 512, 2, 2, 2])'}\n",
      "torch.Size([8, 512, 2, 2, 2])'}\n",
      "torch.Size([8, 512, 2, 2, 2])1'}\n",
      "torch.Size([8, 512, 2, 2, 2])'}\n",
      "torch.Size([8, 512, 2, 2, 2])9'}\n",
      "torch.Size([8, 512, 2, 2, 2])8'}\n",
      "torch.Size([8, 512, 2, 2, 2])8'}\n",
      "torch.Size([8, 512, 2, 2, 2])9'}\n",
      "torch.Size([8, 512, 2, 2, 2])9'}\n",
      "torch.Size([8, 512, 2, 2, 2])1'}\n",
      "torch.Size([8, 512, 2, 2, 2])1'}\n",
      "torch.Size([8, 512, 2, 2, 2])1'}\n",
      "torch.Size([8, 512, 2, 2, 2])1'}\n",
      "torch.Size([8, 512, 2, 2, 2])09'}\n",
      "torch.Size([8, 512, 2, 2, 2])09'}\n",
      "torch.Size([8, 512, 2, 2, 2])09'}\n",
      "torch.Size([8, 512, 2, 2, 2])09'}\n",
      "torch.Size([8, 512, 2, 2, 2])09'}\n",
      "torch.Size([8, 512, 2, 2, 2])09'}\n",
      "torch.Size([8, 512, 2, 2, 2])1'}\n",
      "torch.Size([8, 512, 2, 2, 2])1'}\n",
      "torch.Size([8, 512, 2, 2, 2])1'}\n",
      "torch.Size([8, 512, 2, 2, 2])09'}\n",
      "torch.Size([8, 512, 2, 2, 2])09'}\n",
      "torch.Size([8, 512, 2, 2, 2])09'}\n",
      "torch.Size([8, 512, 2, 2, 2])09'}\n",
      "torch.Size([8, 512, 2, 2, 2])1'}\n",
      "torch.Size([8, 512, 2, 2, 2])1'}\n",
      "torch.Size([8, 512, 2, 2, 2])1'}\n",
      "torch.Size([8, 512, 2, 2, 2])1'}\n",
      "torch.Size([8, 512, 2, 2, 2])1'}\n",
      "torch.Size([8, 512, 2, 2, 2])1'}\n",
      "torch.Size([8, 512, 2, 2, 2])1'}\n",
      "torch.Size([1, 512, 2, 2, 2])1'}\n",
      "torch.Size([8, 512, 2, 2, 2])1'}\n",
      "torch.Size([8, 512, 2, 2, 2])\n",
      "torch.Size([8, 512, 2, 2, 2])\n",
      "torch.Size([7, 512, 2, 2, 2])\n",
      "torch.Size([8, 512, 2, 2, 2])\n",
      "torch.Size([8, 512, 2, 2, 2])'}\n",
      "torch.Size([8, 512, 2, 2, 2])'}\n",
      "torch.Size([8, 512, 2, 2, 2])'}\n",
      "torch.Size([8, 512, 2, 2, 2])9'}\n",
      "torch.Size([8, 512, 2, 2, 2])9'}\n",
      "torch.Size([8, 512, 2, 2, 2])'}\n",
      "torch.Size([8, 512, 2, 2, 2])'}\n",
      "torch.Size([8, 512, 2, 2, 2])'}\n",
      "torch.Size([8, 512, 2, 2, 2])'}\n",
      "torch.Size([8, 512, 2, 2, 2])1'}\n",
      "torch.Size([8, 512, 2, 2, 2])1'}\n",
      "torch.Size([8, 512, 2, 2, 2])1'}\n",
      "torch.Size([8, 512, 2, 2, 2])1'}\n",
      "torch.Size([8, 512, 2, 2, 2])1'}\n",
      "torch.Size([8, 512, 2, 2, 2])1'}\n",
      "torch.Size([8, 512, 2, 2, 2])1'}\n",
      "torch.Size([8, 512, 2, 2, 2])1'}\n",
      "torch.Size([8, 512, 2, 2, 2])1'}\n",
      "torch.Size([8, 512, 2, 2, 2])11'}\n",
      "torch.Size([8, 512, 2, 2, 2])11'}\n",
      "torch.Size([8, 512, 2, 2, 2])12'}\n",
      "torch.Size([8, 512, 2, 2, 2])12'}\n",
      "torch.Size([8, 512, 2, 2, 2])12'}\n",
      "torch.Size([8, 512, 2, 2, 2])12'}\n",
      "torch.Size([8, 512, 2, 2, 2])12'}\n",
      "torch.Size([8, 512, 2, 2, 2])12'}\n",
      "torch.Size([8, 512, 2, 2, 2])12'}\n",
      "torch.Size([8, 512, 2, 2, 2])12'}\n",
      "torch.Size([8, 512, 2, 2, 2])12'}\n",
      "torch.Size([8, 512, 2, 2, 2])12'}\n",
      "torch.Size([8, 512, 2, 2, 2])12'}\n",
      "torch.Size([8, 512, 2, 2, 2])12'}\n",
      "torch.Size([8, 512, 2, 2, 2])12'}\n",
      "torch.Size([1, 512, 2, 2, 2])12'}\n",
      "torch.Size([8, 512, 2, 2, 2])12'}\n",
      "torch.Size([8, 512, 2, 2, 2])\n",
      "torch.Size([8, 512, 2, 2, 2])\n",
      "torch.Size([7, 512, 2, 2, 2])\n",
      "torch.Size([8, 512, 2, 2, 2])\n",
      "torch.Size([8, 512, 2, 2, 2])2'}\n",
      "torch.Size([8, 512, 2, 2, 2])2'}\n",
      "torch.Size([8, 512, 2, 2, 2])2'}\n",
      "torch.Size([8, 512, 2, 2, 2])1'}\n",
      "torch.Size([8, 512, 2, 2, 2])1'}\n",
      "torch.Size([8, 512, 2, 2, 2])1'}\n",
      "torch.Size([8, 512, 2, 2, 2])1'}\n",
      "torch.Size([8, 512, 2, 2, 2])1'}\n",
      "torch.Size([8, 512, 2, 2, 2])1'}\n",
      "torch.Size([8, 512, 2, 2, 2])1'}\n",
      "torch.Size([8, 512, 2, 2, 2])1'}\n",
      "torch.Size([8, 512, 2, 2, 2])1'}\n",
      "torch.Size([8, 512, 2, 2, 2])1'}\n",
      "torch.Size([8, 512, 2, 2, 2])1'}\n",
      "torch.Size([8, 512, 2, 2, 2])1'}\n",
      "torch.Size([8, 512, 2, 2, 2])1'}\n",
      "torch.Size([8, 512, 2, 2, 2])1'}\n",
      "torch.Size([8, 512, 2, 2, 2])1'}\n",
      "torch.Size([8, 512, 2, 2, 2])1'}\n",
      "torch.Size([8, 512, 2, 2, 2])1'}\n",
      "torch.Size([8, 512, 2, 2, 2])1'}\n",
      "torch.Size([8, 512, 2, 2, 2])1'}\n",
      "torch.Size([8, 512, 2, 2, 2])1'}\n",
      "torch.Size([8, 512, 2, 2, 2])1'}\n",
      "torch.Size([8, 512, 2, 2, 2])1'}\n",
      "torch.Size([8, 512, 2, 2, 2])1'}\n",
      "torch.Size([8, 512, 2, 2, 2])1'}\n",
      "torch.Size([8, 512, 2, 2, 2])09'}\n",
      "torch.Size([8, 512, 2, 2, 2])09'}\n",
      "torch.Size([8, 512, 2, 2, 2])09'}\n",
      "torch.Size([8, 512, 2, 2, 2])09'}\n",
      "torch.Size([8, 512, 2, 2, 2])09'}\n",
      "torch.Size([8, 512, 2, 2, 2])09'}\n",
      "torch.Size([1, 512, 2, 2, 2])09'}\n",
      "torch.Size([8, 512, 2, 2, 2])08'}\n",
      "torch.Size([8, 512, 2, 2, 2])\n",
      "torch.Size([8, 512, 2, 2, 2])\n",
      "torch.Size([7, 512, 2, 2, 2])\n"
     ]
    },
    {
     "name": "stderr",
     "output_type": "stream",
     "text": [
      "Monitored metric loss/val did not improve in the last 10 records. Best score: 1.071. Signaling Trainer to stop.\n",
      "GPU available: True, used: True\n",
      "TPU available: False, using: 0 TPU cores\n",
      "LOCAL_RANK: 0 - CUDA_VISIBLE_DEVICES: [0]\n",
      "\n",
      "  | Name               | Type             | Params\n",
      "--------------------------------------------------------\n",
      "0 | model              | VGG              | 65.1 M\n",
      "1 | criteria           | CrossEntropyLoss | 0     \n",
      "2 | train_metrics      | MetricCollection | 0     \n",
      "3 | valid_metrics      | MetricCollection | 0     \n",
      "4 | valid_dummy_metric | AUROC            | 0     \n",
      "--------------------------------------------------------\n",
      "65.1 M    Trainable params\n",
      "0         Non-trainable params\n",
      "65.1 M    Total params\n",
      "260.447   Total estimated model params size (MB)\n"
     ]
    },
    {
     "name": "stdout",
     "output_type": "stream",
     "text": [
      "Architecture [VGG] was created\n",
      "***Defined hyperparameters:***\n",
      "\"arch\":                {'name': 'vgg16', 'args': {'num_channels': 1, 'num_classes': 3}}\n",
      "\"checkpoint_path\":     None\n",
      "\"class_weights\":       tensor([1.2466, 0.6500, 1.5167], device='cuda:0')\n",
      "\"hp_metrics\":          ['loss/train', 'loss/val', 'Accuracy/val', 'AUROC/val', 'Precision/val', 'Recall/val', 'Specificity/val']\n",
      "\"loss\":                {'type': 'CrossEntropyLoss', 'args': {'weight': True}}\n",
      "\"optimizer\":           {'type': 'Adam', 'args': {'lr': 0.02, 'weight_decay': 0, 'amsgrad': False}}\n",
      "\"roi_hparams\":         {'enable': False, 'output_shape': [3, 3, 3], 'boundary_boxes': []}\n",
      "\"weight_distribution\": None\n",
      "Enabled callbacks:  ['LitProgressBar', 'EarlyStopping']\n",
      "Dataloader fold: 7\n",
      "torch.Size([8, 512, 2, 2, 2])\n",
      "torch.Size([8, 512, 2, 2, 2])}\n",
      "torch.Size([8, 512, 2, 2, 2])e+19'}\n",
      "torch.Size([8, 512, 2, 2, 2])e+19'}\n",
      "torch.Size([8, 512, 2, 2, 2])e+19'}\n",
      "torch.Size([8, 512, 2, 2, 2])e+19'}\n",
      "torch.Size([8, 512, 2, 2, 2])e+19'}\n",
      "torch.Size([8, 512, 2, 2, 2])e+19'}\n",
      "torch.Size([8, 512, 2, 2, 2])+19'}\n",
      "torch.Size([8, 512, 2, 2, 2])e+19'}\n",
      "torch.Size([8, 512, 2, 2, 2])2e+19'}\n",
      "torch.Size([8, 512, 2, 2, 2])1e+19'}\n",
      "torch.Size([8, 512, 2, 2, 2])e+18'}\n",
      "torch.Size([8, 512, 2, 2, 2])9e+18'}\n",
      "torch.Size([8, 512, 2, 2, 2])7e+18'}\n",
      "torch.Size([8, 512, 2, 2, 2])4e+18'}\n",
      "torch.Size([8, 512, 2, 2, 2])8e+18'}\n",
      "torch.Size([8, 512, 2, 2, 2])7e+18'}\n",
      "torch.Size([8, 512, 2, 2, 2])e+18'}\n",
      "torch.Size([8, 512, 2, 2, 2])8e+18'}\n",
      "torch.Size([8, 512, 2, 2, 2])8e+18'}\n",
      "torch.Size([8, 512, 2, 2, 2])8e+18'}\n",
      "torch.Size([8, 512, 2, 2, 2])9e+10'}\n",
      "torch.Size([8, 512, 2, 2, 2])9e+10'}\n",
      "torch.Size([8, 512, 2, 2, 2])9e+10'}\n",
      "torch.Size([8, 512, 2, 2, 2])7e+10'}\n",
      "torch.Size([8, 512, 2, 2, 2])4e+10'}\n",
      "torch.Size([8, 512, 2, 2, 2])1e+10'}\n",
      "torch.Size([8, 512, 2, 2, 2])1e+10'}\n",
      "torch.Size([8, 512, 2, 2, 2])8e+10'}\n",
      "torch.Size([8, 512, 2, 2, 2])8e+10'}\n",
      "torch.Size([8, 512, 2, 2, 2])8e+10'}\n",
      "torch.Size([8, 512, 2, 2, 2])8e+10'}\n",
      "torch.Size([8, 512, 2, 2, 2])8e+10'}\n",
      "torch.Size([1, 512, 2, 2, 2])8e+10'}\n",
      "torch.Size([8, 512, 2, 2, 2])3'}\n",
      "torch.Size([8, 512, 2, 2, 2])\n",
      "torch.Size([8, 512, 2, 2, 2])\n",
      "torch.Size([7, 512, 2, 2, 2])\n"
     ]
    },
    {
     "name": "stderr",
     "output_type": "stream",
     "text": [
      "Metric loss/val improved. New best score: 1.601\n"
     ]
    },
    {
     "name": "stdout",
     "output_type": "stream",
     "text": [
      "torch.Size([8, 512, 2, 2, 2])\n",
      "torch.Size([8, 512, 2, 2, 2])'}\n",
      "torch.Size([8, 512, 2, 2, 2])\n",
      "torch.Size([8, 512, 2, 2, 2])'}\n",
      "torch.Size([8, 512, 2, 2, 2])'}\n",
      "torch.Size([8, 512, 2, 2, 2])'}\n",
      "torch.Size([8, 512, 2, 2, 2])}\n",
      "torch.Size([8, 512, 2, 2, 2])'}\n",
      "torch.Size([8, 512, 2, 2, 2])'}\n",
      "torch.Size([8, 512, 2, 2, 2])'}\n",
      "torch.Size([8, 512, 2, 2, 2])3'}\n",
      "torch.Size([8, 512, 2, 2, 2])7'}\n",
      "torch.Size([8, 512, 2, 2, 2])9'}\n",
      "torch.Size([8, 512, 2, 2, 2])5'}\n",
      "torch.Size([8, 512, 2, 2, 2])1'}\n",
      "torch.Size([8, 512, 2, 2, 2])1'}\n",
      "torch.Size([8, 512, 2, 2, 2])8'}\n",
      "torch.Size([8, 512, 2, 2, 2])4'}\n",
      "torch.Size([8, 512, 2, 2, 2])2'}\n",
      "torch.Size([8, 512, 2, 2, 2])7'}\n",
      "torch.Size([8, 512, 2, 2, 2])6'}\n",
      "torch.Size([8, 512, 2, 2, 2])1'}\n",
      "torch.Size([8, 512, 2, 2, 2])4'}\n",
      "torch.Size([8, 512, 2, 2, 2])5'}\n",
      "torch.Size([8, 512, 2, 2, 2])9'}\n",
      "torch.Size([8, 512, 2, 2, 2])5'}\n",
      "torch.Size([8, 512, 2, 2, 2])6'}\n",
      "torch.Size([8, 512, 2, 2, 2])4'}\n",
      "torch.Size([8, 512, 2, 2, 2])3'}\n",
      "torch.Size([8, 512, 2, 2, 2])2'}\n",
      "torch.Size([8, 512, 2, 2, 2])'}\n",
      "torch.Size([8, 512, 2, 2, 2])9'}\n",
      "torch.Size([8, 512, 2, 2, 2])9'}\n",
      "torch.Size([8, 512, 2, 2, 2])8'}\n",
      "torch.Size([1, 512, 2, 2, 2])8'}\n",
      "torch.Size([8, 512, 2, 2, 2])8'}\n",
      "torch.Size([8, 512, 2, 2, 2])\n",
      "torch.Size([8, 512, 2, 2, 2])\n",
      "torch.Size([7, 512, 2, 2, 2])\n"
     ]
    },
    {
     "name": "stderr",
     "output_type": "stream",
     "text": [
      "Metric loss/val improved by 0.538 >= min_delta = 0.0001. New best score: 1.064\n"
     ]
    },
    {
     "name": "stdout",
     "output_type": "stream",
     "text": [
      "torch.Size([8, 512, 2, 2, 2])\n",
      "torch.Size([8, 512, 2, 2, 2])'}\n",
      "torch.Size([8, 512, 2, 2, 2])'}\n",
      "torch.Size([8, 512, 2, 2, 2])'}\n",
      "torch.Size([8, 512, 2, 2, 2])'}\n",
      "torch.Size([8, 512, 2, 2, 2])'}\n",
      "torch.Size([8, 512, 2, 2, 2])'}\n",
      "torch.Size([8, 512, 2, 2, 2])'}\n",
      "torch.Size([8, 512, 2, 2, 2])'}\n",
      "torch.Size([8, 512, 2, 2, 2])'}\n",
      "torch.Size([8, 512, 2, 2, 2])7'}\n",
      "torch.Size([8, 512, 2, 2, 2])6'}\n",
      "torch.Size([8, 512, 2, 2, 2])5'}\n",
      "torch.Size([8, 512, 2, 2, 2])4'}\n",
      "torch.Size([8, 512, 2, 2, 2])5'}\n",
      "torch.Size([8, 512, 2, 2, 2])5'}\n",
      "torch.Size([8, 512, 2, 2, 2])6'}\n",
      "torch.Size([8, 512, 2, 2, 2])4'}\n",
      "torch.Size([8, 512, 2, 2, 2])5'}\n",
      "torch.Size([8, 512, 2, 2, 2])5'}\n",
      "torch.Size([8, 512, 2, 2, 2])3'}\n",
      "torch.Size([8, 512, 2, 2, 2])2'}\n",
      "torch.Size([8, 512, 2, 2, 2])3'}\n",
      "torch.Size([8, 512, 2, 2, 2])4'}\n",
      "torch.Size([8, 512, 2, 2, 2])3'}\n",
      "torch.Size([8, 512, 2, 2, 2])3'}\n",
      "torch.Size([8, 512, 2, 2, 2])4'}\n",
      "torch.Size([8, 512, 2, 2, 2])3'}\n",
      "torch.Size([8, 512, 2, 2, 2])4'}\n",
      "torch.Size([8, 512, 2, 2, 2])4'}\n",
      "torch.Size([8, 512, 2, 2, 2])3'}\n",
      "torch.Size([8, 512, 2, 2, 2])3'}\n",
      "torch.Size([8, 512, 2, 2, 2])3'}\n",
      "torch.Size([8, 512, 2, 2, 2])3'}\n",
      "torch.Size([1, 512, 2, 2, 2])3'}\n",
      "torch.Size([8, 512, 2, 2, 2])3'}\n",
      "torch.Size([8, 512, 2, 2, 2])\n",
      "torch.Size([8, 512, 2, 2, 2])\n",
      "torch.Size([7, 512, 2, 2, 2])\n",
      "torch.Size([8, 512, 2, 2, 2])\n",
      "torch.Size([8, 512, 2, 2, 2])'}\n",
      "torch.Size([8, 512, 2, 2, 2])'}\n",
      "torch.Size([8, 512, 2, 2, 2])'}\n",
      "torch.Size([8, 512, 2, 2, 2])'}\n",
      "torch.Size([8, 512, 2, 2, 2])'}\n",
      "torch.Size([8, 512, 2, 2, 2])'}\n",
      "torch.Size([8, 512, 2, 2, 2])'}\n",
      "torch.Size([8, 512, 2, 2, 2])'}\n",
      "torch.Size([8, 512, 2, 2, 2])'}\n",
      "torch.Size([8, 512, 2, 2, 2])3'}\n",
      "torch.Size([8, 512, 2, 2, 2])2'}\n",
      "torch.Size([8, 512, 2, 2, 2])2'}\n",
      "torch.Size([8, 512, 2, 2, 2])2'}\n",
      "torch.Size([8, 512, 2, 2, 2])2'}\n",
      "torch.Size([8, 512, 2, 2, 2])2'}\n",
      "torch.Size([8, 512, 2, 2, 2])2'}\n",
      "torch.Size([8, 512, 2, 2, 2])2'}\n",
      "torch.Size([8, 512, 2, 2, 2])1'}\n",
      "torch.Size([8, 512, 2, 2, 2])1'}\n",
      "torch.Size([8, 512, 2, 2, 2])1'}\n",
      "torch.Size([8, 512, 2, 2, 2])1'}\n",
      "torch.Size([8, 512, 2, 2, 2])2'}\n",
      "torch.Size([8, 512, 2, 2, 2])1'}\n",
      "torch.Size([8, 512, 2, 2, 2])1'}\n",
      "torch.Size([8, 512, 2, 2, 2])'}\n",
      "torch.Size([8, 512, 2, 2, 2])'}\n",
      "torch.Size([8, 512, 2, 2, 2])'}\n",
      "torch.Size([8, 512, 2, 2, 2])9'}\n",
      "torch.Size([8, 512, 2, 2, 2])'}\n",
      "torch.Size([8, 512, 2, 2, 2])9'}\n",
      "torch.Size([8, 512, 2, 2, 2])'}\n",
      "torch.Size([8, 512, 2, 2, 2])9'}\n",
      "torch.Size([8, 512, 2, 2, 2])9'}\n",
      "torch.Size([1, 512, 2, 2, 2])8'}\n",
      "torch.Size([8, 512, 2, 2, 2])'}\n",
      "torch.Size([8, 512, 2, 2, 2])\n",
      "torch.Size([8, 512, 2, 2, 2])\n",
      "torch.Size([7, 512, 2, 2, 2])\n",
      "torch.Size([8, 512, 2, 2, 2])\n",
      "torch.Size([8, 512, 2, 2, 2])}\n",
      "torch.Size([8, 512, 2, 2, 2])}\n",
      "torch.Size([8, 512, 2, 2, 2])'}\n",
      "torch.Size([8, 512, 2, 2, 2])'}\n",
      "torch.Size([8, 512, 2, 2, 2])'}\n",
      "torch.Size([8, 512, 2, 2, 2])'}\n",
      "torch.Size([8, 512, 2, 2, 2])'}\n",
      "torch.Size([8, 512, 2, 2, 2])'}\n",
      "torch.Size([8, 512, 2, 2, 2])'}\n",
      "torch.Size([8, 512, 2, 2, 2])1'}\n",
      "torch.Size([8, 512, 2, 2, 2])'}\n",
      "torch.Size([8, 512, 2, 2, 2])'}\n",
      "torch.Size([8, 512, 2, 2, 2])1'}\n",
      "torch.Size([8, 512, 2, 2, 2])1'}\n",
      "torch.Size([8, 512, 2, 2, 2])2'}\n",
      "torch.Size([8, 512, 2, 2, 2])2'}\n",
      "torch.Size([8, 512, 2, 2, 2])2'}\n",
      "torch.Size([8, 512, 2, 2, 2])3'}\n",
      "torch.Size([8, 512, 2, 2, 2])3'}\n",
      "torch.Size([8, 512, 2, 2, 2])2'}\n",
      "torch.Size([8, 512, 2, 2, 2])2'}\n",
      "torch.Size([8, 512, 2, 2, 2])2'}\n",
      "torch.Size([8, 512, 2, 2, 2])1'}\n",
      "torch.Size([8, 512, 2, 2, 2])1'}\n",
      "torch.Size([8, 512, 2, 2, 2])1'}\n",
      "torch.Size([8, 512, 2, 2, 2])1'}\n",
      "torch.Size([8, 512, 2, 2, 2])1'}\n",
      "torch.Size([8, 512, 2, 2, 2])1'}\n",
      "torch.Size([8, 512, 2, 2, 2])1'}\n",
      "torch.Size([8, 512, 2, 2, 2])1'}\n",
      "torch.Size([8, 512, 2, 2, 2])3'}\n",
      "torch.Size([8, 512, 2, 2, 2])2'}\n",
      "torch.Size([8, 512, 2, 2, 2])1'}\n",
      "torch.Size([1, 512, 2, 2, 2])1'}\n",
      "torch.Size([8, 512, 2, 2, 2])'}\n",
      "torch.Size([8, 512, 2, 2, 2])\n",
      "torch.Size([8, 512, 2, 2, 2])\n",
      "torch.Size([7, 512, 2, 2, 2])\n",
      "torch.Size([8, 512, 2, 2, 2])\n",
      "torch.Size([8, 512, 2, 2, 2])'}\n",
      "torch.Size([8, 512, 2, 2, 2])'}\n",
      "torch.Size([8, 512, 2, 2, 2])}\n",
      "torch.Size([8, 512, 2, 2, 2])}\n",
      "torch.Size([8, 512, 2, 2, 2])}\n",
      "torch.Size([8, 512, 2, 2, 2])'}\n",
      "torch.Size([8, 512, 2, 2, 2])'}\n",
      "torch.Size([8, 512, 2, 2, 2])'}\n",
      "torch.Size([8, 512, 2, 2, 2])'}\n",
      "torch.Size([8, 512, 2, 2, 2])8'}\n",
      "torch.Size([8, 512, 2, 2, 2])8'}\n",
      "torch.Size([8, 512, 2, 2, 2])9'}\n",
      "torch.Size([8, 512, 2, 2, 2])'}\n",
      "torch.Size([8, 512, 2, 2, 2])9'}\n",
      "torch.Size([8, 512, 2, 2, 2])9'}\n",
      "torch.Size([8, 512, 2, 2, 2])8'}\n",
      "torch.Size([8, 512, 2, 2, 2])8'}\n",
      "torch.Size([8, 512, 2, 2, 2])8'}\n",
      "torch.Size([8, 512, 2, 2, 2])9'}\n",
      "torch.Size([8, 512, 2, 2, 2])9'}\n",
      "torch.Size([8, 512, 2, 2, 2])9'}\n",
      "torch.Size([8, 512, 2, 2, 2])9'}\n",
      "torch.Size([8, 512, 2, 2, 2])9'}\n",
      "torch.Size([8, 512, 2, 2, 2])9'}\n",
      "torch.Size([8, 512, 2, 2, 2])9'}\n",
      "torch.Size([8, 512, 2, 2, 2])9'}\n",
      "torch.Size([8, 512, 2, 2, 2])'}\n",
      "torch.Size([8, 512, 2, 2, 2])1'}\n",
      "torch.Size([8, 512, 2, 2, 2])1'}\n",
      "torch.Size([8, 512, 2, 2, 2])1'}\n",
      "torch.Size([8, 512, 2, 2, 2])2'}\n",
      "torch.Size([8, 512, 2, 2, 2])2'}\n",
      "torch.Size([8, 512, 2, 2, 2])1'}\n",
      "torch.Size([1, 512, 2, 2, 2])2'}\n",
      "torch.Size([8, 512, 2, 2, 2])2'}\n",
      "torch.Size([8, 512, 2, 2, 2])\n",
      "torch.Size([8, 512, 2, 2, 2])\n",
      "torch.Size([7, 512, 2, 2, 2])\n",
      "torch.Size([8, 512, 2, 2, 2])\n",
      "torch.Size([8, 512, 2, 2, 2])'}\n",
      "torch.Size([8, 512, 2, 2, 2])'}\n",
      "torch.Size([8, 512, 2, 2, 2])'}\n",
      "torch.Size([8, 512, 2, 2, 2])'}\n",
      "torch.Size([8, 512, 2, 2, 2])'}\n",
      "torch.Size([8, 512, 2, 2, 2])'}\n",
      "torch.Size([8, 512, 2, 2, 2])'}\n",
      "torch.Size([8, 512, 2, 2, 2])'}\n",
      "torch.Size([8, 512, 2, 2, 2])'}\n",
      "torch.Size([8, 512, 2, 2, 2])3'}\n",
      "torch.Size([8, 512, 2, 2, 2])4'}\n",
      "torch.Size([8, 512, 2, 2, 2])3'}\n",
      "torch.Size([8, 512, 2, 2, 2])3'}\n",
      "torch.Size([8, 512, 2, 2, 2])3'}\n",
      "torch.Size([8, 512, 2, 2, 2])2'}\n",
      "torch.Size([8, 512, 2, 2, 2])2'}\n",
      "torch.Size([8, 512, 2, 2, 2])2'}\n",
      "torch.Size([8, 512, 2, 2, 2])2'}\n",
      "torch.Size([8, 512, 2, 2, 2])2'}\n",
      "torch.Size([8, 512, 2, 2, 2])2'}\n",
      "torch.Size([8, 512, 2, 2, 2])2'}\n",
      "torch.Size([8, 512, 2, 2, 2])2'}\n",
      "torch.Size([8, 512, 2, 2, 2])2'}\n",
      "torch.Size([8, 512, 2, 2, 2])2'}\n",
      "torch.Size([8, 512, 2, 2, 2])2'}\n",
      "torch.Size([8, 512, 2, 2, 2])2'}\n",
      "torch.Size([8, 512, 2, 2, 2])2'}\n",
      "torch.Size([8, 512, 2, 2, 2])2'}\n",
      "torch.Size([8, 512, 2, 2, 2])2'}\n",
      "torch.Size([8, 512, 2, 2, 2])1'}\n",
      "torch.Size([8, 512, 2, 2, 2])1'}\n",
      "torch.Size([8, 512, 2, 2, 2])1'}\n",
      "torch.Size([8, 512, 2, 2, 2])1'}\n",
      "torch.Size([1, 512, 2, 2, 2])1'}\n",
      "torch.Size([8, 512, 2, 2, 2])1'}\n",
      "torch.Size([8, 512, 2, 2, 2])\n",
      "torch.Size([8, 512, 2, 2, 2])\n",
      "torch.Size([7, 512, 2, 2, 2])\n",
      "torch.Size([8, 512, 2, 2, 2])\n",
      "torch.Size([8, 512, 2, 2, 2])'}\n",
      "torch.Size([8, 512, 2, 2, 2])'}\n",
      "torch.Size([8, 512, 2, 2, 2])'}\n",
      "torch.Size([8, 512, 2, 2, 2])}\n",
      "torch.Size([8, 512, 2, 2, 2])}\n",
      "torch.Size([8, 512, 2, 2, 2])}\n",
      "torch.Size([8, 512, 2, 2, 2])}\n",
      "torch.Size([8, 512, 2, 2, 2])'}\n",
      "torch.Size([8, 512, 2, 2, 2])}\n",
      "torch.Size([8, 512, 2, 2, 2])'}\n",
      "torch.Size([8, 512, 2, 2, 2])9'}\n",
      "torch.Size([8, 512, 2, 2, 2])'}\n",
      "torch.Size([8, 512, 2, 2, 2])'}\n",
      "torch.Size([8, 512, 2, 2, 2])'}\n",
      "torch.Size([8, 512, 2, 2, 2])'}\n",
      "torch.Size([8, 512, 2, 2, 2])'}\n",
      "torch.Size([8, 512, 2, 2, 2])1'}\n",
      "torch.Size([8, 512, 2, 2, 2])1'}\n",
      "torch.Size([8, 512, 2, 2, 2])2'}\n",
      "torch.Size([8, 512, 2, 2, 2])2'}\n",
      "torch.Size([8, 512, 2, 2, 2])2'}\n",
      "torch.Size([8, 512, 2, 2, 2])3'}\n",
      "torch.Size([8, 512, 2, 2, 2])4'}\n",
      "torch.Size([8, 512, 2, 2, 2])4'}\n",
      "torch.Size([8, 512, 2, 2, 2])4'}\n",
      "torch.Size([8, 512, 2, 2, 2])5'}\n",
      "torch.Size([8, 512, 2, 2, 2])5'}\n",
      "torch.Size([8, 512, 2, 2, 2])5'}\n",
      "torch.Size([8, 512, 2, 2, 2])5'}\n",
      "torch.Size([8, 512, 2, 2, 2])5'}\n",
      "torch.Size([8, 512, 2, 2, 2])5'}\n",
      "torch.Size([8, 512, 2, 2, 2])5'}\n",
      "torch.Size([8, 512, 2, 2, 2])5'}\n",
      "torch.Size([1, 512, 2, 2, 2])5'}\n",
      "torch.Size([8, 512, 2, 2, 2])6'}\n",
      "torch.Size([8, 512, 2, 2, 2])\n",
      "torch.Size([8, 512, 2, 2, 2])\n",
      "torch.Size([7, 512, 2, 2, 2])\n"
     ]
    },
    {
     "name": "stderr",
     "output_type": "stream",
     "text": [
      "Metric loss/val improved by 0.003 >= min_delta = 0.0001. New best score: 1.061\n"
     ]
    },
    {
     "name": "stdout",
     "output_type": "stream",
     "text": [
      "torch.Size([8, 512, 2, 2, 2])\n",
      "torch.Size([8, 512, 2, 2, 2])'}\n",
      "torch.Size([8, 512, 2, 2, 2])'}\n",
      "torch.Size([8, 512, 2, 2, 2])'}\n",
      "torch.Size([8, 512, 2, 2, 2])'}\n",
      "torch.Size([8, 512, 2, 2, 2])'}\n",
      "torch.Size([8, 512, 2, 2, 2])'}\n",
      "torch.Size([8, 512, 2, 2, 2])'}\n",
      "torch.Size([8, 512, 2, 2, 2])'}\n",
      "torch.Size([8, 512, 2, 2, 2])'}\n",
      "torch.Size([8, 512, 2, 2, 2])2'}\n",
      "torch.Size([8, 512, 2, 2, 2])3'}\n",
      "torch.Size([8, 512, 2, 2, 2])2'}\n",
      "torch.Size([8, 512, 2, 2, 2])2'}\n",
      "torch.Size([8, 512, 2, 2, 2])2'}\n",
      "torch.Size([8, 512, 2, 2, 2])2'}\n",
      "torch.Size([8, 512, 2, 2, 2])2'}\n",
      "torch.Size([8, 512, 2, 2, 2])2'}\n",
      "torch.Size([8, 512, 2, 2, 2])2'}\n",
      "torch.Size([8, 512, 2, 2, 2])2'}\n",
      "torch.Size([8, 512, 2, 2, 2])2'}\n",
      "torch.Size([8, 512, 2, 2, 2])3'}\n",
      "torch.Size([8, 512, 2, 2, 2])3'}\n",
      "torch.Size([8, 512, 2, 2, 2])3'}\n",
      "torch.Size([8, 512, 2, 2, 2])4'}\n",
      "torch.Size([8, 512, 2, 2, 2])4'}\n",
      "torch.Size([8, 512, 2, 2, 2])3'}\n",
      "torch.Size([8, 512, 2, 2, 2])4'}\n",
      "torch.Size([8, 512, 2, 2, 2])3'}\n",
      "torch.Size([8, 512, 2, 2, 2])3'}\n",
      "torch.Size([8, 512, 2, 2, 2])2'}\n",
      "torch.Size([8, 512, 2, 2, 2])2'}\n",
      "torch.Size([8, 512, 2, 2, 2])2'}\n",
      "torch.Size([8, 512, 2, 2, 2])2'}\n"
     ]
    },
    {
     "name": "stderr",
     "output_type": "stream",
     "text": [
      "IOPub message rate exceeded.\n",
      "The Jupyter server will temporarily stop sending output\n",
      "to the client in order to avoid crashing it.\n",
      "To change this limit, set the config variable\n",
      "`--ServerApp.iopub_msg_rate_limit`.\n",
      "\n",
      "Current values:\n",
      "ServerApp.iopub_msg_rate_limit=1000.0 (msgs/sec)\n",
      "ServerApp.rate_limit_window=3.0 (secs)\n",
      "\n"
     ]
    }
   ],
   "source": [
    "models = ['resnet50','resnet18_brew2','amira_vgg','vgg11_brew','vgg16']\n",
    "for name in models:\n",
    "    run_me(name, base_config='base',i_limit=-1)"
   ]
  },
  {
   "cell_type": "code",
   "execution_count": 4,
   "id": "editorial-ebony",
   "metadata": {
    "collapsed": true,
    "jupyter": {
     "outputs_hidden": true
    },
    "tags": []
   },
   "outputs": [
    {
     "name": "stdout",
     "output_type": "stream",
     "text": [
      "***Defined dataloader:***\n",
      "Data directory: data/SPM_categorised/ADNI1/\n",
      "Dataset sizes - Training: 273 Validation: 31\n",
      "Seed: 0\n",
      "Augmentation: Enabled\n",
      "KFold: Enabled - Fold: 1/10\n",
      "\n"
     ]
    },
    {
     "name": "stderr",
     "output_type": "stream",
     "text": [
      "/home/stud/f/fremar16/miniconda3/envs/Master-thesis/lib/python3.9/site-packages/torchmetrics/utilities/prints.py:36: UserWarning: Metric `AUROC` will save all targets and predictions in buffer. For large datasets this may lead to large memory footprint.\n",
      "  warnings.warn(*args, **kwargs)\n",
      "GPU available: True, used: True\n",
      "TPU available: False, using: 0 TPU cores\n",
      "Missing logger folder: /var/metrics/codetests/logs/tb/resnet18_brew2/20210521193407\n",
      "LOCAL_RANK: 0 - CUDA_VISIBLE_DEVICES: [0]\n",
      "\n",
      "  | Name               | Type             | Params\n",
      "--------------------------------------------------------\n",
      "0 | model              | ResNet           | 8.3 M \n",
      "1 | criteria           | CrossEntropyLoss | 0     \n",
      "2 | valid_metrics      | MetricCollection | 0     \n",
      "3 | valid_dummy_metric | AUROC            | 0     \n",
      "--------------------------------------------------------\n",
      "8.3 M     Trainable params\n",
      "0         Non-trainable params\n",
      "8.3 M     Total params\n",
      "33.154    Total estimated model params size (MB)\n"
     ]
    },
    {
     "name": "stdout",
     "output_type": "stream",
     "text": [
      "Architecture [ResNet] was created\n",
      "***Defined hyperparameters:***\n",
      "\"arch\":                {'name': 'resnet18_brew2', 'args': {'num_channels': 1, 'num_classes': 3}}\n",
      "\"checkpoint_path\":     None\n",
      "\"class_weights\":       tensor([1.2466, 0.6500, 1.5167], device='cuda:0')\n",
      "\"hp_metrics\":          ['loss/train', 'loss/val', 'Accuracy/val', 'AUROC/val', 'Precision/val', 'Recall/val', 'Specificity/val']\n",
      "\"loss\":                {'type': 'CrossEntropyLoss', 'args': {'weight': True}}\n",
      "\"optimizer\":           {'type': 'Adam', 'args': {'lr': 0.0001, 'weight_decay': 0, 'amsgrad': False}}\n",
      "\"roi_hparams\":         {'enable': False, 'output_shape': [3, 3, 3], 'boundary_boxes': []}\n",
      "\"weight_distribution\": None\n",
      "Enabled callbacks:  ['LitProgressBar', 'EarlyStopping']\n",
      "Dataloader fold: 1\n",
      "Epoch 1 [35/35] {'loss': '1.13'}\r"
     ]
    },
    {
     "name": "stderr",
     "output_type": "stream",
     "text": [
      "Metric loss/val improved. New best score: 1.101\n"
     ]
    },
    {
     "name": "stdout",
     "output_type": "stream",
     "text": [
      "Epoch 5 [35/35] {'loss': '1.14'}\r"
     ]
    },
    {
     "name": "stderr",
     "output_type": "stream",
     "text": [
      "Metric loss/val improved by 0.055 >= min_delta = 0.0001. New best score: 1.046\n"
     ]
    },
    {
     "name": "stdout",
     "output_type": "stream",
     "text": [
      "Epoch 8 [35/35] {'loss': '0.982'}\r"
     ]
    },
    {
     "name": "stderr",
     "output_type": "stream",
     "text": [
      "Metric loss/val improved by 0.084 >= min_delta = 0.0001. New best score: 0.961\n"
     ]
    },
    {
     "name": "stdout",
     "output_type": "stream",
     "text": [
      "Epoch 12 [35/35] {'loss': '0.871'}\r"
     ]
    },
    {
     "name": "stderr",
     "output_type": "stream",
     "text": [
      "Metric loss/val improved by 0.081 >= min_delta = 0.0001. New best score: 0.880\n"
     ]
    },
    {
     "name": "stdout",
     "output_type": "stream",
     "text": [
      "Epoch 26 [35/35] {'loss': '0.761'}\r"
     ]
    },
    {
     "name": "stderr",
     "output_type": "stream",
     "text": [
      "Metric loss/val improved by 0.020 >= min_delta = 0.0001. New best score: 0.860\n"
     ]
    },
    {
     "name": "stdout",
     "output_type": "stream",
     "text": [
      "Epoch 27 [35/35] {'loss': '0.674'}\r"
     ]
    },
    {
     "name": "stderr",
     "output_type": "stream",
     "text": [
      "Metric loss/val improved by 0.047 >= min_delta = 0.0001. New best score: 0.814\n"
     ]
    },
    {
     "name": "stdout",
     "output_type": "stream",
     "text": [
      "Epoch 35 [35/35] {'loss': '0.627'}\r"
     ]
    },
    {
     "name": "stderr",
     "output_type": "stream",
     "text": [
      "Metric loss/val improved by 0.017 >= min_delta = 0.0001. New best score: 0.797\n"
     ]
    },
    {
     "name": "stdout",
     "output_type": "stream",
     "text": [
      "Epoch 50 [35/35] {'loss': '0.518'}\r"
     ]
    },
    {
     "name": "stderr",
     "output_type": "stream",
     "text": [
      "GPU available: True, used: True\n",
      "TPU available: False, using: 0 TPU cores\n",
      "LOCAL_RANK: 0 - CUDA_VISIBLE_DEVICES: [0]\n",
      "\n",
      "  | Name               | Type             | Params\n",
      "--------------------------------------------------------\n",
      "0 | model              | ResNet           | 8.3 M \n",
      "1 | criteria           | CrossEntropyLoss | 0     \n",
      "2 | valid_metrics      | MetricCollection | 0     \n",
      "3 | valid_dummy_metric | AUROC            | 0     \n",
      "--------------------------------------------------------\n",
      "8.3 M     Trainable params\n",
      "0         Non-trainable params\n",
      "8.3 M     Total params\n",
      "33.154    Total estimated model params size (MB)\n"
     ]
    },
    {
     "name": "stdout",
     "output_type": "stream",
     "text": [
      "Architecture [ResNet] was created\n",
      "***Defined hyperparameters:***\n",
      "\"arch\":                {'name': 'resnet18_brew2', 'args': {'num_channels': 1, 'num_classes': 3}}\n",
      "\"checkpoint_path\":     None\n",
      "\"class_weights\":       tensor([1.2466, 0.6500, 1.5167], device='cuda:0')\n",
      "\"hp_metrics\":          ['loss/train', 'loss/val', 'Accuracy/val', 'AUROC/val', 'Precision/val', 'Recall/val', 'Specificity/val']\n",
      "\"loss\":                {'type': 'CrossEntropyLoss', 'args': {'weight': True}}\n",
      "\"optimizer\":           {'type': 'Adam', 'args': {'lr': 0.0001, 'weight_decay': 0, 'amsgrad': False}}\n",
      "\"roi_hparams\":         {'enable': False, 'output_shape': [3, 3, 3], 'boundary_boxes': []}\n",
      "\"weight_distribution\": None\n",
      "Enabled callbacks:  ['LitProgressBar', 'EarlyStopping']\n",
      "Dataloader fold: 2\n",
      "Epoch 1 [35/35] {'loss': '1.1'}}\r"
     ]
    },
    {
     "name": "stderr",
     "output_type": "stream",
     "text": [
      "Metric loss/val improved. New best score: 1.338\n"
     ]
    },
    {
     "name": "stdout",
     "output_type": "stream",
     "text": [
      "Epoch 3 [35/35] {'loss': '1.09'}\r"
     ]
    },
    {
     "name": "stderr",
     "output_type": "stream",
     "text": [
      "Metric loss/val improved by 0.271 >= min_delta = 0.0001. New best score: 1.066\n"
     ]
    },
    {
     "name": "stdout",
     "output_type": "stream",
     "text": [
      "Epoch 4 [35/35] {'loss': '1.08'}\r"
     ]
    },
    {
     "name": "stderr",
     "output_type": "stream",
     "text": [
      "Metric loss/val improved by 0.013 >= min_delta = 0.0001. New best score: 1.053\n"
     ]
    },
    {
     "name": "stdout",
     "output_type": "stream",
     "text": [
      "Epoch 6 [35/35] {'loss': '1.11'}\r"
     ]
    },
    {
     "name": "stderr",
     "output_type": "stream",
     "text": [
      "Metric loss/val improved by 0.028 >= min_delta = 0.0001. New best score: 1.025\n"
     ]
    },
    {
     "name": "stdout",
     "output_type": "stream",
     "text": [
      "Epoch 7 [35/35] {'loss': '1.02'}\r"
     ]
    },
    {
     "name": "stderr",
     "output_type": "stream",
     "text": [
      "Metric loss/val improved by 0.061 >= min_delta = 0.0001. New best score: 0.964\n"
     ]
    },
    {
     "name": "stdout",
     "output_type": "stream",
     "text": [
      "Epoch 15 [35/35] {'loss': '0.806'}\r"
     ]
    },
    {
     "name": "stderr",
     "output_type": "stream",
     "text": [
      "Metric loss/val improved by 0.033 >= min_delta = 0.0001. New best score: 0.930\n"
     ]
    },
    {
     "name": "stdout",
     "output_type": "stream",
     "text": [
      "Epoch 35 [35/35] {'loss': '0.646'}\r"
     ]
    },
    {
     "name": "stderr",
     "output_type": "stream",
     "text": [
      "Monitored metric loss/val did not improve in the last 20 records. Best score: 0.930. Signaling Trainer to stop.\n",
      "GPU available: True, used: True\n",
      "TPU available: False, using: 0 TPU cores\n",
      "LOCAL_RANK: 0 - CUDA_VISIBLE_DEVICES: [0]\n",
      "\n",
      "  | Name               | Type             | Params\n",
      "--------------------------------------------------------\n",
      "0 | model              | ResNet           | 8.3 M \n",
      "1 | criteria           | CrossEntropyLoss | 0     \n",
      "2 | valid_metrics      | MetricCollection | 0     \n",
      "3 | valid_dummy_metric | AUROC            | 0     \n",
      "--------------------------------------------------------\n",
      "8.3 M     Trainable params\n",
      "0         Non-trainable params\n",
      "8.3 M     Total params\n",
      "33.154    Total estimated model params size (MB)\n"
     ]
    },
    {
     "name": "stdout",
     "output_type": "stream",
     "text": [
      "Architecture [ResNet] was created\n",
      "***Defined hyperparameters:***\n",
      "\"arch\":                {'name': 'resnet18_brew2', 'args': {'num_channels': 1, 'num_classes': 3}}\n",
      "\"checkpoint_path\":     None\n",
      "\"class_weights\":       tensor([1.2466, 0.6500, 1.5167], device='cuda:0')\n",
      "\"hp_metrics\":          ['loss/train', 'loss/val', 'Accuracy/val', 'AUROC/val', 'Precision/val', 'Recall/val', 'Specificity/val']\n",
      "\"loss\":                {'type': 'CrossEntropyLoss', 'args': {'weight': True}}\n",
      "\"optimizer\":           {'type': 'Adam', 'args': {'lr': 0.0001, 'weight_decay': 0, 'amsgrad': False}}\n",
      "\"roi_hparams\":         {'enable': False, 'output_shape': [3, 3, 3], 'boundary_boxes': []}\n",
      "\"weight_distribution\": None\n",
      "Enabled callbacks:  ['LitProgressBar', 'EarlyStopping']\n",
      "Dataloader fold: 3\n",
      "Epoch 1 [35/35] {'loss': '1.15'}\r"
     ]
    },
    {
     "name": "stderr",
     "output_type": "stream",
     "text": [
      "Metric loss/val improved. New best score: 1.180\n"
     ]
    },
    {
     "name": "stdout",
     "output_type": "stream",
     "text": [
      "Epoch 3 [35/35] {'loss': '1.09'}\r"
     ]
    },
    {
     "name": "stderr",
     "output_type": "stream",
     "text": [
      "Metric loss/val improved by 0.093 >= min_delta = 0.0001. New best score: 1.087\n"
     ]
    },
    {
     "name": "stdout",
     "output_type": "stream",
     "text": [
      "Epoch 4 [35/35] {'loss': '1.1'}}\r"
     ]
    },
    {
     "name": "stderr",
     "output_type": "stream",
     "text": [
      "Metric loss/val improved by 0.045 >= min_delta = 0.0001. New best score: 1.041\n"
     ]
    },
    {
     "name": "stdout",
     "output_type": "stream",
     "text": [
      "Epoch 6 [35/35] {'loss': '1.03'}\r"
     ]
    },
    {
     "name": "stderr",
     "output_type": "stream",
     "text": [
      "Metric loss/val improved by 0.083 >= min_delta = 0.0001. New best score: 0.958\n"
     ]
    },
    {
     "name": "stdout",
     "output_type": "stream",
     "text": [
      "Epoch 8 [35/35] {'loss': '0.964'}\r"
     ]
    },
    {
     "name": "stderr",
     "output_type": "stream",
     "text": [
      "Metric loss/val improved by 0.006 >= min_delta = 0.0001. New best score: 0.952\n"
     ]
    },
    {
     "name": "stdout",
     "output_type": "stream",
     "text": [
      "Epoch 15 [35/35] {'loss': '0.874'}\r"
     ]
    },
    {
     "name": "stderr",
     "output_type": "stream",
     "text": [
      "Metric loss/val improved by 0.078 >= min_delta = 0.0001. New best score: 0.873\n"
     ]
    },
    {
     "name": "stdout",
     "output_type": "stream",
     "text": [
      "Epoch 35 [35/35] {'loss': '0.607'}\r"
     ]
    },
    {
     "name": "stderr",
     "output_type": "stream",
     "text": [
      "Monitored metric loss/val did not improve in the last 20 records. Best score: 0.873. Signaling Trainer to stop.\n",
      "GPU available: True, used: True\n",
      "TPU available: False, using: 0 TPU cores\n",
      "LOCAL_RANK: 0 - CUDA_VISIBLE_DEVICES: [0]\n",
      "\n",
      "  | Name               | Type             | Params\n",
      "--------------------------------------------------------\n",
      "0 | model              | ResNet           | 8.3 M \n",
      "1 | criteria           | CrossEntropyLoss | 0     \n",
      "2 | valid_metrics      | MetricCollection | 0     \n",
      "3 | valid_dummy_metric | AUROC            | 0     \n",
      "--------------------------------------------------------\n",
      "8.3 M     Trainable params\n",
      "0         Non-trainable params\n",
      "8.3 M     Total params\n",
      "33.154    Total estimated model params size (MB)\n"
     ]
    },
    {
     "name": "stdout",
     "output_type": "stream",
     "text": [
      "Architecture [ResNet] was created\n",
      "***Defined hyperparameters:***\n",
      "\"arch\":                {'name': 'resnet18_brew2', 'args': {'num_channels': 1, 'num_classes': 3}}\n",
      "\"checkpoint_path\":     None\n",
      "\"class_weights\":       tensor([1.2466, 0.6500, 1.5167], device='cuda:0')\n",
      "\"hp_metrics\":          ['loss/train', 'loss/val', 'Accuracy/val', 'AUROC/val', 'Precision/val', 'Recall/val', 'Specificity/val']\n",
      "\"loss\":                {'type': 'CrossEntropyLoss', 'args': {'weight': True}}\n",
      "\"optimizer\":           {'type': 'Adam', 'args': {'lr': 0.0001, 'weight_decay': 0, 'amsgrad': False}}\n",
      "\"roi_hparams\":         {'enable': False, 'output_shape': [3, 3, 3], 'boundary_boxes': []}\n",
      "\"weight_distribution\": None\n",
      "Enabled callbacks:  ['LitProgressBar', 'EarlyStopping']\n",
      "Dataloader fold: 4\n",
      "Epoch 1 [35/35] {'loss': '1.12'}\r"
     ]
    },
    {
     "name": "stderr",
     "output_type": "stream",
     "text": [
      "Metric loss/val improved. New best score: 1.655\n"
     ]
    },
    {
     "name": "stdout",
     "output_type": "stream",
     "text": [
      "Epoch 2 [35/35] {'loss': '1.13'}\r"
     ]
    },
    {
     "name": "stderr",
     "output_type": "stream",
     "text": [
      "Metric loss/val improved by 0.458 >= min_delta = 0.0001. New best score: 1.197\n"
     ]
    },
    {
     "name": "stdout",
     "output_type": "stream",
     "text": [
      "Epoch 4 [35/35] {'loss': '1.08'}\r"
     ]
    },
    {
     "name": "stderr",
     "output_type": "stream",
     "text": [
      "Metric loss/val improved by 0.097 >= min_delta = 0.0001. New best score: 1.099\n"
     ]
    },
    {
     "name": "stdout",
     "output_type": "stream",
     "text": [
      "Epoch 5 [35/35] {'loss': '1.11'}\r"
     ]
    },
    {
     "name": "stderr",
     "output_type": "stream",
     "text": [
      "Metric loss/val improved by 0.005 >= min_delta = 0.0001. New best score: 1.094\n"
     ]
    },
    {
     "name": "stdout",
     "output_type": "stream",
     "text": [
      "Epoch 6 [35/35] {'loss': '1.1'}}\r"
     ]
    },
    {
     "name": "stderr",
     "output_type": "stream",
     "text": [
      "Metric loss/val improved by 0.049 >= min_delta = 0.0001. New best score: 1.045\n"
     ]
    },
    {
     "name": "stdout",
     "output_type": "stream",
     "text": [
      "Epoch 8 [35/35] {'loss': '0.948'}\r"
     ]
    },
    {
     "name": "stderr",
     "output_type": "stream",
     "text": [
      "Metric loss/val improved by 0.005 >= min_delta = 0.0001. New best score: 1.040\n"
     ]
    },
    {
     "name": "stdout",
     "output_type": "stream",
     "text": [
      "Epoch 10 [35/35] {'loss': '0.951'}\r"
     ]
    },
    {
     "name": "stderr",
     "output_type": "stream",
     "text": [
      "Metric loss/val improved by 0.118 >= min_delta = 0.0001. New best score: 0.922\n"
     ]
    },
    {
     "name": "stdout",
     "output_type": "stream",
     "text": [
      "Epoch 30 [35/35] {'loss': '0.681'}\r"
     ]
    },
    {
     "name": "stderr",
     "output_type": "stream",
     "text": [
      "Monitored metric loss/val did not improve in the last 20 records. Best score: 0.922. Signaling Trainer to stop.\n",
      "GPU available: True, used: True\n",
      "TPU available: False, using: 0 TPU cores\n",
      "LOCAL_RANK: 0 - CUDA_VISIBLE_DEVICES: [0]\n",
      "\n",
      "  | Name               | Type             | Params\n",
      "--------------------------------------------------------\n",
      "0 | model              | ResNet           | 8.3 M \n",
      "1 | criteria           | CrossEntropyLoss | 0     \n",
      "2 | valid_metrics      | MetricCollection | 0     \n",
      "3 | valid_dummy_metric | AUROC            | 0     \n",
      "--------------------------------------------------------\n",
      "8.3 M     Trainable params\n",
      "0         Non-trainable params\n",
      "8.3 M     Total params\n",
      "33.154    Total estimated model params size (MB)\n"
     ]
    },
    {
     "name": "stdout",
     "output_type": "stream",
     "text": [
      "Architecture [ResNet] was created\n",
      "***Defined hyperparameters:***\n",
      "\"arch\":                {'name': 'resnet18_brew2', 'args': {'num_channels': 1, 'num_classes': 3}}\n",
      "\"checkpoint_path\":     None\n",
      "\"class_weights\":       tensor([1.2466, 0.6500, 1.5167], device='cuda:0')\n",
      "\"hp_metrics\":          ['loss/train', 'loss/val', 'Accuracy/val', 'AUROC/val', 'Precision/val', 'Recall/val', 'Specificity/val']\n",
      "\"loss\":                {'type': 'CrossEntropyLoss', 'args': {'weight': True}}\n",
      "\"optimizer\":           {'type': 'Adam', 'args': {'lr': 0.0001, 'weight_decay': 0, 'amsgrad': False}}\n",
      "\"roi_hparams\":         {'enable': False, 'output_shape': [3, 3, 3], 'boundary_boxes': []}\n",
      "\"weight_distribution\": None\n",
      "Enabled callbacks:  ['LitProgressBar', 'EarlyStopping']\n",
      "Dataloader fold: 5\n",
      "Epoch 1 [35/35] {'loss': '1.12'}\r"
     ]
    },
    {
     "name": "stderr",
     "output_type": "stream",
     "text": [
      "Metric loss/val improved. New best score: 1.613\n"
     ]
    },
    {
     "name": "stdout",
     "output_type": "stream",
     "text": [
      "Epoch 2 [35/35] {'loss': '1.14'}\r"
     ]
    },
    {
     "name": "stderr",
     "output_type": "stream",
     "text": [
      "Metric loss/val improved by 0.384 >= min_delta = 0.0001. New best score: 1.229\n"
     ]
    },
    {
     "name": "stdout",
     "output_type": "stream",
     "text": [
      "Epoch 4 [35/35] {'loss': '1.14'}\r"
     ]
    },
    {
     "name": "stderr",
     "output_type": "stream",
     "text": [
      "Metric loss/val improved by 0.006 >= min_delta = 0.0001. New best score: 1.223\n"
     ]
    },
    {
     "name": "stdout",
     "output_type": "stream",
     "text": [
      "Epoch 7 [35/35] {'loss': '1.08'}\r"
     ]
    },
    {
     "name": "stderr",
     "output_type": "stream",
     "text": [
      "Metric loss/val improved by 0.133 >= min_delta = 0.0001. New best score: 1.090\n"
     ]
    },
    {
     "name": "stdout",
     "output_type": "stream",
     "text": [
      "Epoch 9 [35/35] {'loss': '1.1'}}\r"
     ]
    },
    {
     "name": "stderr",
     "output_type": "stream",
     "text": [
      "Metric loss/val improved by 0.007 >= min_delta = 0.0001. New best score: 1.083\n"
     ]
    },
    {
     "name": "stdout",
     "output_type": "stream",
     "text": [
      "Epoch 13 [35/35] {'loss': '1.01'}}\r"
     ]
    },
    {
     "name": "stderr",
     "output_type": "stream",
     "text": [
      "Metric loss/val improved by 0.049 >= min_delta = 0.0001. New best score: 1.034\n"
     ]
    },
    {
     "name": "stdout",
     "output_type": "stream",
     "text": [
      "Epoch 17 [35/35] {'loss': '0.965'}\r"
     ]
    },
    {
     "name": "stderr",
     "output_type": "stream",
     "text": [
      "Metric loss/val improved by 0.085 >= min_delta = 0.0001. New best score: 0.948\n"
     ]
    },
    {
     "name": "stdout",
     "output_type": "stream",
     "text": [
      "Epoch 22 [35/35] {'loss': '0.808'}\r"
     ]
    },
    {
     "name": "stderr",
     "output_type": "stream",
     "text": [
      "Metric loss/val improved by 0.029 >= min_delta = 0.0001. New best score: 0.920\n"
     ]
    },
    {
     "name": "stdout",
     "output_type": "stream",
     "text": [
      "Epoch 23 [35/35] {'loss': '0.794'}\r"
     ]
    },
    {
     "name": "stderr",
     "output_type": "stream",
     "text": [
      "Metric loss/val improved by 0.005 >= min_delta = 0.0001. New best score: 0.915\n"
     ]
    },
    {
     "name": "stdout",
     "output_type": "stream",
     "text": [
      "Epoch 25 [35/35] {'loss': '0.804'}\r"
     ]
    },
    {
     "name": "stderr",
     "output_type": "stream",
     "text": [
      "Metric loss/val improved by 0.033 >= min_delta = 0.0001. New best score: 0.882\n"
     ]
    },
    {
     "name": "stdout",
     "output_type": "stream",
     "text": [
      "Epoch 45 [35/35] {'loss': '0.647'}\r"
     ]
    },
    {
     "name": "stderr",
     "output_type": "stream",
     "text": [
      "Monitored metric loss/val did not improve in the last 20 records. Best score: 0.882. Signaling Trainer to stop.\n",
      "GPU available: True, used: True\n",
      "TPU available: False, using: 0 TPU cores\n",
      "LOCAL_RANK: 0 - CUDA_VISIBLE_DEVICES: [0]\n",
      "\n",
      "  | Name               | Type             | Params\n",
      "--------------------------------------------------------\n",
      "0 | model              | ResNet           | 8.3 M \n",
      "1 | criteria           | CrossEntropyLoss | 0     \n",
      "2 | valid_metrics      | MetricCollection | 0     \n",
      "3 | valid_dummy_metric | AUROC            | 0     \n",
      "--------------------------------------------------------\n",
      "8.3 M     Trainable params\n",
      "0         Non-trainable params\n",
      "8.3 M     Total params\n",
      "33.154    Total estimated model params size (MB)\n"
     ]
    },
    {
     "name": "stdout",
     "output_type": "stream",
     "text": [
      "Architecture [ResNet] was created\n",
      "***Defined hyperparameters:***\n",
      "\"arch\":                {'name': 'resnet18_brew2', 'args': {'num_channels': 1, 'num_classes': 3}}\n",
      "\"checkpoint_path\":     None\n",
      "\"class_weights\":       tensor([1.2466, 0.6500, 1.5167], device='cuda:0')\n",
      "\"hp_metrics\":          ['loss/train', 'loss/val', 'Accuracy/val', 'AUROC/val', 'Precision/val', 'Recall/val', 'Specificity/val']\n",
      "\"loss\":                {'type': 'CrossEntropyLoss', 'args': {'weight': True}}\n",
      "\"optimizer\":           {'type': 'Adam', 'args': {'lr': 0.0001, 'weight_decay': 0, 'amsgrad': False}}\n",
      "\"roi_hparams\":         {'enable': False, 'output_shape': [3, 3, 3], 'boundary_boxes': []}\n",
      "\"weight_distribution\": None\n",
      "Enabled callbacks:  ['LitProgressBar', 'EarlyStopping']\n",
      "Dataloader fold: 6\n",
      "Epoch 1 [35/35] {'loss': '1.14'}\r"
     ]
    },
    {
     "name": "stderr",
     "output_type": "stream",
     "text": [
      "Metric loss/val improved. New best score: 1.898\n"
     ]
    },
    {
     "name": "stdout",
     "output_type": "stream",
     "text": [
      "Epoch 2 [35/35] {'loss': '1.1'}}\r"
     ]
    },
    {
     "name": "stderr",
     "output_type": "stream",
     "text": [
      "Metric loss/val improved by 0.775 >= min_delta = 0.0001. New best score: 1.123\n"
     ]
    },
    {
     "name": "stdout",
     "output_type": "stream",
     "text": [
      "Epoch 3 [35/35] {'loss': '1.08'}\r"
     ]
    },
    {
     "name": "stderr",
     "output_type": "stream",
     "text": [
      "Metric loss/val improved by 0.061 >= min_delta = 0.0001. New best score: 1.062\n"
     ]
    },
    {
     "name": "stdout",
     "output_type": "stream",
     "text": [
      "Epoch 8 [35/35] {'loss': '0.994'}\r"
     ]
    },
    {
     "name": "stderr",
     "output_type": "stream",
     "text": [
      "Metric loss/val improved by 0.135 >= min_delta = 0.0001. New best score: 0.927\n"
     ]
    },
    {
     "name": "stdout",
     "output_type": "stream",
     "text": [
      "Epoch 11 [35/35] {'loss': '0.919'}\r"
     ]
    },
    {
     "name": "stderr",
     "output_type": "stream",
     "text": [
      "Metric loss/val improved by 0.034 >= min_delta = 0.0001. New best score: 0.893\n"
     ]
    },
    {
     "name": "stdout",
     "output_type": "stream",
     "text": [
      "Epoch 31 [35/35] {'loss': '0.765'}\r"
     ]
    },
    {
     "name": "stderr",
     "output_type": "stream",
     "text": [
      "Monitored metric loss/val did not improve in the last 20 records. Best score: 0.893. Signaling Trainer to stop.\n"
     ]
    },
    {
     "name": "stdout",
     "output_type": "stream",
     "text": [
      "resnet18_brew2: [{'epoch': tensor(49.), 'loss/train': tensor(0.4628, device='cuda:0'), 'loss/val': tensor(1.8231), 'Accuracy/val': tensor(0.2903), 'Precision/val': tensor(0.2903), 'Recall/val': tensor(0.2903), 'AUROC/val': tensor(0.6263), 'Specificity/val': tensor(0.6452)}, {'epoch': tensor(34.), 'loss/train': tensor(0.6437, device='cuda:0'), 'loss/val': tensor(1.5126), 'Accuracy/val': tensor(0.4839), 'Precision/val': tensor(0.4839), 'Recall/val': tensor(0.4839), 'AUROC/val': tensor(0.7176), 'Specificity/val': tensor(0.7419)}, {'epoch': tensor(34.), 'loss/train': tensor(0.6728, device='cuda:0'), 'loss/val': tensor(1.7548), 'Accuracy/val': tensor(0.3226), 'Precision/val': tensor(0.3226), 'Recall/val': tensor(0.3226), 'AUROC/val': tensor(0.7431), 'Specificity/val': tensor(0.6613)}, {'epoch': tensor(29.), 'loss/train': tensor(0.6434, device='cuda:0'), 'loss/val': tensor(1.4787), 'Accuracy/val': tensor(0.3871), 'Precision/val': tensor(0.3871), 'Recall/val': tensor(0.3871), 'AUROC/val': tensor(0.7486), 'Specificity/val': tensor(0.6935)}, {'epoch': tensor(44.), 'loss/train': tensor(0.6591, device='cuda:0'), 'loss/val': tensor(1.1773), 'Accuracy/val': tensor(0.4194), 'Precision/val': tensor(0.4194), 'Recall/val': tensor(0.4194), 'AUROC/val': tensor(0.6932), 'Specificity/val': tensor(0.7097)}, {'epoch': tensor(30.), 'loss/train': tensor(0.7177, device='cuda:0'), 'loss/val': tensor(0.9097), 'Accuracy/val': tensor(0.5161), 'Precision/val': tensor(0.5161), 'Recall/val': tensor(0.5161), 'AUROC/val': tensor(0.7187), 'Specificity/val': tensor(0.7581)}]\n",
      "***Defined dataloader:***\n",
      "Data directory: data/SPM_categorised/ADNI1/\n",
      "Dataset sizes - Training: 273 Validation: 31\n",
      "Seed: 0\n",
      "Augmentation: Disabled\n",
      "KFold: Enabled - Fold: 1/10\n",
      "\n"
     ]
    },
    {
     "name": "stderr",
     "output_type": "stream",
     "text": [
      "/home/stud/f/fremar16/miniconda3/envs/Master-thesis/lib/python3.9/site-packages/torchmetrics/utilities/prints.py:36: UserWarning: Metric `AUROC` will save all targets and predictions in buffer. For large datasets this may lead to large memory footprint.\n",
      "  warnings.warn(*args, **kwargs)\n",
      "GPU available: True, used: True\n",
      "TPU available: False, using: 0 TPU cores\n",
      "Missing logger folder: /var/metrics/codetests/logs/tb/resnet50/20210521201904\n",
      "LOCAL_RANK: 0 - CUDA_VISIBLE_DEVICES: [0]\n",
      "\n",
      "  | Name               | Type             | Params\n",
      "--------------------------------------------------------\n",
      "0 | model              | ResNet           | 46.2 M\n",
      "1 | criteria           | CrossEntropyLoss | 0     \n",
      "2 | valid_metrics      | MetricCollection | 0     \n",
      "3 | valid_dummy_metric | AUROC            | 0     \n",
      "--------------------------------------------------------\n",
      "46.2 M    Trainable params\n",
      "0         Non-trainable params\n",
      "46.2 M    Total params\n",
      "184.645   Total estimated model params size (MB)\n"
     ]
    },
    {
     "name": "stdout",
     "output_type": "stream",
     "text": [
      "Architecture [ResNet] was created\n",
      "***Defined hyperparameters:***\n",
      "\"arch\":                {'name': 'resnet50', 'args': {'num_channels': 1, 'num_classes': 3}}\n",
      "\"checkpoint_path\":     None\n",
      "\"class_weights\":       tensor([1.2466, 0.6500, 1.5167], device='cuda:0')\n",
      "\"hp_metrics\":          ['loss/train', 'loss/val', 'Accuracy/val', 'AUROC/val', 'Precision/val', 'Recall/val', 'Specificity/val']\n",
      "\"loss\":                {'type': 'CrossEntropyLoss', 'args': {'weight': True}}\n",
      "\"optimizer\":           {'type': 'Adam', 'args': {'lr': 0.0001, 'weight_decay': 0, 'amsgrad': False}}\n",
      "\"roi_hparams\":         {'enable': False, 'output_shape': [3, 3, 3], 'boundary_boxes': []}\n",
      "\"weight_distribution\": None\n",
      "Enabled callbacks:  ['LitProgressBar', 'EarlyStopping']\n",
      "Dataloader fold: 1\n",
      "Epoch 1 [35/35] {'loss': '1.15'}\r"
     ]
    },
    {
     "name": "stderr",
     "output_type": "stream",
     "text": [
      "Metric loss/val improved. New best score: 1.105\n"
     ]
    },
    {
     "name": "stdout",
     "output_type": "stream",
     "text": [
      "Epoch 10 [35/35] {'loss': '0.891'}\r"
     ]
    },
    {
     "name": "stderr",
     "output_type": "stream",
     "text": [
      "Metric loss/val improved by 0.011 >= min_delta = 0.0001. New best score: 1.094\n"
     ]
    },
    {
     "name": "stdout",
     "output_type": "stream",
     "text": [
      "Epoch 12 [35/35] {'loss': '0.722'}\r"
     ]
    },
    {
     "name": "stderr",
     "output_type": "stream",
     "text": [
      "Metric loss/val improved by 0.069 >= min_delta = 0.0001. New best score: 1.025\n"
     ]
    },
    {
     "name": "stdout",
     "output_type": "stream",
     "text": [
      "Epoch 14 [35/35] {'loss': '0.744'}\r"
     ]
    },
    {
     "name": "stderr",
     "output_type": "stream",
     "text": [
      "Metric loss/val improved by 0.024 >= min_delta = 0.0001. New best score: 1.001\n"
     ]
    },
    {
     "name": "stdout",
     "output_type": "stream",
     "text": [
      "Epoch 34 [35/35] {'loss': '0.458'}\r"
     ]
    },
    {
     "name": "stderr",
     "output_type": "stream",
     "text": [
      "Monitored metric loss/val did not improve in the last 20 records. Best score: 1.001. Signaling Trainer to stop.\n",
      "GPU available: True, used: True\n",
      "TPU available: False, using: 0 TPU cores\n",
      "LOCAL_RANK: 0 - CUDA_VISIBLE_DEVICES: [0]\n",
      "\n",
      "  | Name               | Type             | Params\n",
      "--------------------------------------------------------\n",
      "0 | model              | ResNet           | 46.2 M\n",
      "1 | criteria           | CrossEntropyLoss | 0     \n",
      "2 | valid_metrics      | MetricCollection | 0     \n",
      "3 | valid_dummy_metric | AUROC            | 0     \n",
      "--------------------------------------------------------\n",
      "46.2 M    Trainable params\n",
      "0         Non-trainable params\n",
      "46.2 M    Total params\n",
      "184.645   Total estimated model params size (MB)\n"
     ]
    },
    {
     "name": "stdout",
     "output_type": "stream",
     "text": [
      "Architecture [ResNet] was created\n",
      "***Defined hyperparameters:***\n",
      "\"arch\":                {'name': 'resnet50', 'args': {'num_channels': 1, 'num_classes': 3}}\n",
      "\"checkpoint_path\":     None\n",
      "\"class_weights\":       tensor([1.2466, 0.6500, 1.5167], device='cuda:0')\n",
      "\"hp_metrics\":          ['loss/train', 'loss/val', 'Accuracy/val', 'AUROC/val', 'Precision/val', 'Recall/val', 'Specificity/val']\n",
      "\"loss\":                {'type': 'CrossEntropyLoss', 'args': {'weight': True}}\n",
      "\"optimizer\":           {'type': 'Adam', 'args': {'lr': 0.0001, 'weight_decay': 0, 'amsgrad': False}}\n",
      "\"roi_hparams\":         {'enable': False, 'output_shape': [3, 3, 3], 'boundary_boxes': []}\n",
      "\"weight_distribution\": None\n",
      "Enabled callbacks:  ['LitProgressBar', 'EarlyStopping']\n",
      "Dataloader fold: 2\n",
      "Epoch 1 [35/35] {'loss': '1.17'}\r"
     ]
    },
    {
     "name": "stderr",
     "output_type": "stream",
     "text": [
      "Metric loss/val improved. New best score: 1.223\n"
     ]
    },
    {
     "name": "stdout",
     "output_type": "stream",
     "text": [
      "Epoch 8 [35/35] {'loss': '1.07'}}\r"
     ]
    },
    {
     "name": "stderr",
     "output_type": "stream",
     "text": [
      "Metric loss/val improved by 0.048 >= min_delta = 0.0001. New best score: 1.175\n"
     ]
    },
    {
     "name": "stdout",
     "output_type": "stream",
     "text": [
      "Epoch 10 [35/35] {'loss': '0.985'}\r"
     ]
    },
    {
     "name": "stderr",
     "output_type": "stream",
     "text": [
      "Metric loss/val improved by 0.091 >= min_delta = 0.0001. New best score: 1.084\n"
     ]
    },
    {
     "name": "stdout",
     "output_type": "stream",
     "text": [
      "Epoch 12 [35/35] {'loss': '0.808'}\r"
     ]
    },
    {
     "name": "stderr",
     "output_type": "stream",
     "text": [
      "Metric loss/val improved by 0.163 >= min_delta = 0.0001. New best score: 0.921\n"
     ]
    },
    {
     "name": "stdout",
     "output_type": "stream",
     "text": [
      "Epoch 32 [35/35] {'loss': '0.176'}\r"
     ]
    },
    {
     "name": "stderr",
     "output_type": "stream",
     "text": [
      "Monitored metric loss/val did not improve in the last 20 records. Best score: 0.921. Signaling Trainer to stop.\n",
      "GPU available: True, used: True\n",
      "TPU available: False, using: 0 TPU cores\n",
      "LOCAL_RANK: 0 - CUDA_VISIBLE_DEVICES: [0]\n",
      "\n",
      "  | Name               | Type             | Params\n",
      "--------------------------------------------------------\n",
      "0 | model              | ResNet           | 46.2 M\n",
      "1 | criteria           | CrossEntropyLoss | 0     \n",
      "2 | valid_metrics      | MetricCollection | 0     \n",
      "3 | valid_dummy_metric | AUROC            | 0     \n",
      "--------------------------------------------------------\n",
      "46.2 M    Trainable params\n",
      "0         Non-trainable params\n",
      "46.2 M    Total params\n",
      "184.645   Total estimated model params size (MB)\n"
     ]
    },
    {
     "name": "stdout",
     "output_type": "stream",
     "text": [
      "Architecture [ResNet] was created\n",
      "***Defined hyperparameters:***\n",
      "\"arch\":                {'name': 'resnet50', 'args': {'num_channels': 1, 'num_classes': 3}}\n",
      "\"checkpoint_path\":     None\n",
      "\"class_weights\":       tensor([1.2466, 0.6500, 1.5167], device='cuda:0')\n",
      "\"hp_metrics\":          ['loss/train', 'loss/val', 'Accuracy/val', 'AUROC/val', 'Precision/val', 'Recall/val', 'Specificity/val']\n",
      "\"loss\":                {'type': 'CrossEntropyLoss', 'args': {'weight': True}}\n",
      "\"optimizer\":           {'type': 'Adam', 'args': {'lr': 0.0001, 'weight_decay': 0, 'amsgrad': False}}\n",
      "\"roi_hparams\":         {'enable': False, 'output_shape': [3, 3, 3], 'boundary_boxes': []}\n",
      "\"weight_distribution\": None\n",
      "Enabled callbacks:  ['LitProgressBar', 'EarlyStopping']\n",
      "Dataloader fold: 3\n",
      "Epoch 1 [35/35] {'loss': '1.22'}\r"
     ]
    },
    {
     "name": "stderr",
     "output_type": "stream",
     "text": [
      "Metric loss/val improved. New best score: 1.046\n"
     ]
    },
    {
     "name": "stdout",
     "output_type": "stream",
     "text": [
      "Epoch 8 [35/35] {'loss': '0.95'}}\r"
     ]
    },
    {
     "name": "stderr",
     "output_type": "stream",
     "text": [
      "Metric loss/val improved by 0.001 >= min_delta = 0.0001. New best score: 1.046\n"
     ]
    },
    {
     "name": "stdout",
     "output_type": "stream",
     "text": [
      "Epoch 10 [35/35] {'loss': '0.933'}\r"
     ]
    },
    {
     "name": "stderr",
     "output_type": "stream",
     "text": [
      "Metric loss/val improved by 0.140 >= min_delta = 0.0001. New best score: 0.906\n"
     ]
    },
    {
     "name": "stdout",
     "output_type": "stream",
     "text": [
      "Epoch 30 [35/35] {'loss': '0.284'}\r"
     ]
    },
    {
     "name": "stderr",
     "output_type": "stream",
     "text": [
      "Monitored metric loss/val did not improve in the last 20 records. Best score: 0.906. Signaling Trainer to stop.\n",
      "GPU available: True, used: True\n",
      "TPU available: False, using: 0 TPU cores\n",
      "LOCAL_RANK: 0 - CUDA_VISIBLE_DEVICES: [0]\n",
      "\n",
      "  | Name               | Type             | Params\n",
      "--------------------------------------------------------\n",
      "0 | model              | ResNet           | 46.2 M\n",
      "1 | criteria           | CrossEntropyLoss | 0     \n",
      "2 | valid_metrics      | MetricCollection | 0     \n",
      "3 | valid_dummy_metric | AUROC            | 0     \n",
      "--------------------------------------------------------\n",
      "46.2 M    Trainable params\n",
      "0         Non-trainable params\n",
      "46.2 M    Total params\n",
      "184.645   Total estimated model params size (MB)\n"
     ]
    },
    {
     "name": "stdout",
     "output_type": "stream",
     "text": [
      "Architecture [ResNet] was created\n",
      "***Defined hyperparameters:***\n",
      "\"arch\":                {'name': 'resnet50', 'args': {'num_channels': 1, 'num_classes': 3}}\n",
      "\"checkpoint_path\":     None\n",
      "\"class_weights\":       tensor([1.2466, 0.6500, 1.5167], device='cuda:0')\n",
      "\"hp_metrics\":          ['loss/train', 'loss/val', 'Accuracy/val', 'AUROC/val', 'Precision/val', 'Recall/val', 'Specificity/val']\n",
      "\"loss\":                {'type': 'CrossEntropyLoss', 'args': {'weight': True}}\n",
      "\"optimizer\":           {'type': 'Adam', 'args': {'lr': 0.0001, 'weight_decay': 0, 'amsgrad': False}}\n",
      "\"roi_hparams\":         {'enable': False, 'output_shape': [3, 3, 3], 'boundary_boxes': []}\n",
      "\"weight_distribution\": None\n",
      "Enabled callbacks:  ['LitProgressBar', 'EarlyStopping']\n",
      "Dataloader fold: 4\n",
      "Epoch 1 [35/35] {'loss': '1.21'}\r"
     ]
    },
    {
     "name": "stderr",
     "output_type": "stream",
     "text": [
      "Metric loss/val improved. New best score: 1.188\n"
     ]
    },
    {
     "name": "stdout",
     "output_type": "stream",
     "text": [
      "Epoch 2 [35/35] {'loss': '1.2'}}\r"
     ]
    },
    {
     "name": "stderr",
     "output_type": "stream",
     "text": [
      "Metric loss/val improved by 0.035 >= min_delta = 0.0001. New best score: 1.153\n"
     ]
    },
    {
     "name": "stdout",
     "output_type": "stream",
     "text": [
      "Epoch 4 [35/35] {'loss': '1.13'}\r"
     ]
    },
    {
     "name": "stderr",
     "output_type": "stream",
     "text": [
      "Metric loss/val improved by 0.106 >= min_delta = 0.0001. New best score: 1.047\n"
     ]
    },
    {
     "name": "stdout",
     "output_type": "stream",
     "text": [
      "Epoch 12 [35/35] {'loss': '0.75'}}\r"
     ]
    },
    {
     "name": "stderr",
     "output_type": "stream",
     "text": [
      "Metric loss/val improved by 0.179 >= min_delta = 0.0001. New best score: 0.868\n"
     ]
    },
    {
     "name": "stdout",
     "output_type": "stream",
     "text": [
      "Epoch 32 [35/35] {'loss': '0.358'}\r"
     ]
    },
    {
     "name": "stderr",
     "output_type": "stream",
     "text": [
      "Monitored metric loss/val did not improve in the last 20 records. Best score: 0.868. Signaling Trainer to stop.\n",
      "GPU available: True, used: True\n",
      "TPU available: False, using: 0 TPU cores\n",
      "LOCAL_RANK: 0 - CUDA_VISIBLE_DEVICES: [0]\n",
      "\n",
      "  | Name               | Type             | Params\n",
      "--------------------------------------------------------\n",
      "0 | model              | ResNet           | 46.2 M\n",
      "1 | criteria           | CrossEntropyLoss | 0     \n",
      "2 | valid_metrics      | MetricCollection | 0     \n",
      "3 | valid_dummy_metric | AUROC            | 0     \n",
      "--------------------------------------------------------\n",
      "46.2 M    Trainable params\n",
      "0         Non-trainable params\n",
      "46.2 M    Total params\n",
      "184.645   Total estimated model params size (MB)\n"
     ]
    },
    {
     "name": "stdout",
     "output_type": "stream",
     "text": [
      "Architecture [ResNet] was created\n",
      "***Defined hyperparameters:***\n",
      "\"arch\":                {'name': 'resnet50', 'args': {'num_channels': 1, 'num_classes': 3}}\n",
      "\"checkpoint_path\":     None\n",
      "\"class_weights\":       tensor([1.2466, 0.6500, 1.5167], device='cuda:0')\n",
      "\"hp_metrics\":          ['loss/train', 'loss/val', 'Accuracy/val', 'AUROC/val', 'Precision/val', 'Recall/val', 'Specificity/val']\n",
      "\"loss\":                {'type': 'CrossEntropyLoss', 'args': {'weight': True}}\n",
      "\"optimizer\":           {'type': 'Adam', 'args': {'lr': 0.0001, 'weight_decay': 0, 'amsgrad': False}}\n",
      "\"roi_hparams\":         {'enable': False, 'output_shape': [3, 3, 3], 'boundary_boxes': []}\n",
      "\"weight_distribution\": None\n",
      "Enabled callbacks:  ['LitProgressBar', 'EarlyStopping']\n",
      "Dataloader fold: 5\n",
      "Epoch 1 [35/35] {'loss': '1.09'}\r"
     ]
    },
    {
     "name": "stderr",
     "output_type": "stream",
     "text": [
      "Metric loss/val improved. New best score: 1.227\n"
     ]
    },
    {
     "name": "stdout",
     "output_type": "stream",
     "text": [
      "Epoch 7 [35/35] {'loss': '0.901'}\r"
     ]
    },
    {
     "name": "stderr",
     "output_type": "stream",
     "text": [
      "Metric loss/val improved by 0.306 >= min_delta = 0.0001. New best score: 0.921\n"
     ]
    },
    {
     "name": "stdout",
     "output_type": "stream",
     "text": [
      "Epoch 27 [35/35] {'loss': '0.487'}\r"
     ]
    },
    {
     "name": "stderr",
     "output_type": "stream",
     "text": [
      "Monitored metric loss/val did not improve in the last 20 records. Best score: 0.921. Signaling Trainer to stop.\n",
      "GPU available: True, used: True\n",
      "TPU available: False, using: 0 TPU cores\n",
      "LOCAL_RANK: 0 - CUDA_VISIBLE_DEVICES: [0]\n",
      "\n",
      "  | Name               | Type             | Params\n",
      "--------------------------------------------------------\n",
      "0 | model              | ResNet           | 46.2 M\n",
      "1 | criteria           | CrossEntropyLoss | 0     \n",
      "2 | valid_metrics      | MetricCollection | 0     \n",
      "3 | valid_dummy_metric | AUROC            | 0     \n",
      "--------------------------------------------------------\n",
      "46.2 M    Trainable params\n",
      "0         Non-trainable params\n",
      "46.2 M    Total params\n",
      "184.645   Total estimated model params size (MB)\n"
     ]
    },
    {
     "name": "stdout",
     "output_type": "stream",
     "text": [
      "Architecture [ResNet] was created\n",
      "***Defined hyperparameters:***\n",
      "\"arch\":                {'name': 'resnet50', 'args': {'num_channels': 1, 'num_classes': 3}}\n",
      "\"checkpoint_path\":     None\n",
      "\"class_weights\":       tensor([1.2466, 0.6500, 1.5167], device='cuda:0')\n",
      "\"hp_metrics\":          ['loss/train', 'loss/val', 'Accuracy/val', 'AUROC/val', 'Precision/val', 'Recall/val', 'Specificity/val']\n",
      "\"loss\":                {'type': 'CrossEntropyLoss', 'args': {'weight': True}}\n",
      "\"optimizer\":           {'type': 'Adam', 'args': {'lr': 0.0001, 'weight_decay': 0, 'amsgrad': False}}\n",
      "\"roi_hparams\":         {'enable': False, 'output_shape': [3, 3, 3], 'boundary_boxes': []}\n",
      "\"weight_distribution\": None\n",
      "Enabled callbacks:  ['LitProgressBar', 'EarlyStopping']\n",
      "Dataloader fold: 6\n",
      "Epoch 1 [35/35] {'loss': '1.16'}\r"
     ]
    },
    {
     "name": "stderr",
     "output_type": "stream",
     "text": [
      "Metric loss/val improved. New best score: 1.102\n"
     ]
    },
    {
     "name": "stdout",
     "output_type": "stream",
     "text": [
      "Epoch 2 [35/35] {'loss': '1.16'}\r"
     ]
    },
    {
     "name": "stderr",
     "output_type": "stream",
     "text": [
      "Metric loss/val improved by 0.025 >= min_delta = 0.0001. New best score: 1.077\n"
     ]
    },
    {
     "name": "stdout",
     "output_type": "stream",
     "text": [
      "Epoch 11 [35/35] {'loss': '0.967'}\r"
     ]
    },
    {
     "name": "stderr",
     "output_type": "stream",
     "text": [
      "Metric loss/val improved by 0.097 >= min_delta = 0.0001. New best score: 0.980\n"
     ]
    },
    {
     "name": "stdout",
     "output_type": "stream",
     "text": [
      "Epoch 12 [35/35] {'loss': '0.862'}\r"
     ]
    },
    {
     "name": "stderr",
     "output_type": "stream",
     "text": [
      "Metric loss/val improved by 0.020 >= min_delta = 0.0001. New best score: 0.961\n"
     ]
    },
    {
     "name": "stdout",
     "output_type": "stream",
     "text": [
      "Epoch 32 [35/35] {'loss': '0.353'}\r"
     ]
    },
    {
     "name": "stderr",
     "output_type": "stream",
     "text": [
      "Monitored metric loss/val did not improve in the last 20 records. Best score: 0.961. Signaling Trainer to stop.\n"
     ]
    },
    {
     "name": "stdout",
     "output_type": "stream",
     "text": [
      "resnet50: [{'epoch': tensor(33.), 'loss/train': tensor(0.3777, device='cuda:0'), 'loss/val': tensor(3.0700), 'Accuracy/val': tensor(0.4516), 'Precision/val': tensor(0.4516), 'Recall/val': tensor(0.4516), 'AUROC/val': tensor(0.7245), 'Specificity/val': tensor(0.7258)}, {'epoch': tensor(31.), 'loss/train': tensor(0.1620, device='cuda:0'), 'loss/val': tensor(2.2303), 'Accuracy/val': tensor(0.3871), 'Precision/val': tensor(0.3871), 'Recall/val': tensor(0.3871), 'AUROC/val': tensor(0.6465), 'Specificity/val': tensor(0.6935)}, {'epoch': tensor(29.), 'loss/train': tensor(0.2463, device='cuda:0'), 'loss/val': tensor(1.2151), 'Accuracy/val': tensor(0.5484), 'Precision/val': tensor(0.5484), 'Recall/val': tensor(0.5484), 'AUROC/val': tensor(0.7646), 'Specificity/val': tensor(0.7742)}, {'epoch': tensor(31.), 'loss/train': tensor(0.3946, device='cuda:0'), 'loss/val': tensor(2.1171), 'Accuracy/val': tensor(0.2581), 'Precision/val': tensor(0.2581), 'Recall/val': tensor(0.2581), 'AUROC/val': tensor(0.5857), 'Specificity/val': tensor(0.6290)}, {'epoch': tensor(26.), 'loss/train': tensor(0.4272, device='cuda:0'), 'loss/val': tensor(1.2765), 'Accuracy/val': tensor(0.5161), 'Precision/val': tensor(0.5161), 'Recall/val': tensor(0.5161), 'AUROC/val': tensor(0.6311), 'Specificity/val': tensor(0.7581)}, {'epoch': tensor(31.), 'loss/train': tensor(0.3636, device='cuda:0'), 'loss/val': tensor(1.6590), 'Accuracy/val': tensor(0.5806), 'Precision/val': tensor(0.5806), 'Recall/val': tensor(0.5806), 'AUROC/val': tensor(0.7170), 'Specificity/val': tensor(0.7903)}]\n",
      "***Defined dataloader:***\n",
      "Data directory: data/SPM_categorised/ADNI1/\n",
      "Dataset sizes - Training: 273 Validation: 31\n",
      "Seed: 0\n",
      "Augmentation: Enabled\n",
      "KFold: Enabled - Fold: 1/10\n",
      "\n"
     ]
    },
    {
     "name": "stderr",
     "output_type": "stream",
     "text": [
      "/home/stud/f/fremar16/miniconda3/envs/Master-thesis/lib/python3.9/site-packages/torchmetrics/utilities/prints.py:36: UserWarning: Metric `AUROC` will save all targets and predictions in buffer. For large datasets this may lead to large memory footprint.\n",
      "  warnings.warn(*args, **kwargs)\n",
      "GPU available: True, used: True\n",
      "TPU available: False, using: 0 TPU cores\n",
      "Missing logger folder: /var/metrics/codetests/logs/tb/vgg11_brew/20210521204901\n",
      "LOCAL_RANK: 0 - CUDA_VISIBLE_DEVICES: [0]\n",
      "\n",
      "  | Name               | Type             | Params\n",
      "--------------------------------------------------------\n",
      "0 | model              | VGG              | 103 M \n",
      "1 | criteria           | CrossEntropyLoss | 0     \n",
      "2 | valid_metrics      | MetricCollection | 0     \n",
      "3 | valid_dummy_metric | AUROC            | 0     \n",
      "--------------------------------------------------------\n",
      "103 M     Trainable params\n",
      "0         Non-trainable params\n",
      "103 M     Total params\n",
      "414.175   Total estimated model params size (MB)\n"
     ]
    },
    {
     "name": "stdout",
     "output_type": "stream",
     "text": [
      "Architecture [VGG] was created\n",
      "***Defined hyperparameters:***\n",
      "\"arch\":                {'name': 'vgg11_brew', 'args': {'num_channels': 1, 'num_classes': 3}}\n",
      "\"checkpoint_path\":     None\n",
      "\"class_weights\":       tensor([1.2466, 0.6500, 1.5167], device='cuda:0')\n",
      "\"hp_metrics\":          ['loss/train', 'loss/val', 'Accuracy/val', 'AUROC/val', 'Precision/val', 'Recall/val', 'Specificity/val']\n",
      "\"loss\":                {'type': 'CrossEntropyLoss', 'args': {'weight': True}}\n",
      "\"optimizer\":           {'type': 'Adam', 'args': {'lr': 0.0001, 'weight_decay': 0, 'amsgrad': False}}\n",
      "\"roi_hparams\":         {'enable': False, 'output_shape': [3, 3, 3], 'boundary_boxes': []}\n",
      "\"weight_distribution\": None\n",
      "Enabled callbacks:  ['LitProgressBar', 'EarlyStopping']\n",
      "Dataloader fold: 1\n",
      "Epoch 1 [35/35] {'loss': '1.1'}}\r"
     ]
    },
    {
     "name": "stderr",
     "output_type": "stream",
     "text": [
      "Metric loss/val improved. New best score: 1.098\n"
     ]
    },
    {
     "name": "stdout",
     "output_type": "stream",
     "text": [
      "Epoch 2 [35/35] {'loss': '1.1'}\r"
     ]
    },
    {
     "name": "stderr",
     "output_type": "stream",
     "text": [
      "Metric loss/val improved by 0.003 >= min_delta = 0.0001. New best score: 1.095\n"
     ]
    },
    {
     "name": "stdout",
     "output_type": "stream",
     "text": [
      "Epoch 12 [35/35] {'loss': '1.1'}}\r"
     ]
    },
    {
     "name": "stderr",
     "output_type": "stream",
     "text": [
      "Metric loss/val improved by 0.001 >= min_delta = 0.0001. New best score: 1.094\n"
     ]
    },
    {
     "name": "stdout",
     "output_type": "stream",
     "text": [
      "Epoch 14 [35/35] {'loss': '1.1'}}\r"
     ]
    },
    {
     "name": "stderr",
     "output_type": "stream",
     "text": [
      "Metric loss/val improved by 0.001 >= min_delta = 0.0001. New best score: 1.094\n"
     ]
    },
    {
     "name": "stdout",
     "output_type": "stream",
     "text": [
      "Epoch 15 [35/35] {'loss': '1.1'}\r"
     ]
    },
    {
     "name": "stderr",
     "output_type": "stream",
     "text": [
      "Metric loss/val improved by 0.002 >= min_delta = 0.0001. New best score: 1.092\n"
     ]
    },
    {
     "name": "stdout",
     "output_type": "stream",
     "text": [
      "Epoch 18 [35/35] {'loss': '1.1'}}\r"
     ]
    },
    {
     "name": "stderr",
     "output_type": "stream",
     "text": [
      "Metric loss/val improved by 0.000 >= min_delta = 0.0001. New best score: 1.092\n"
     ]
    },
    {
     "name": "stdout",
     "output_type": "stream",
     "text": [
      "Epoch 19 [35/35] {'loss': '1.09'}\r"
     ]
    },
    {
     "name": "stderr",
     "output_type": "stream",
     "text": [
      "Metric loss/val improved by 0.002 >= min_delta = 0.0001. New best score: 1.090\n"
     ]
    },
    {
     "name": "stdout",
     "output_type": "stream",
     "text": [
      "Epoch 21 [35/35] {'loss': '1.1'}}\r"
     ]
    },
    {
     "name": "stderr",
     "output_type": "stream",
     "text": [
      "Metric loss/val improved by 0.002 >= min_delta = 0.0001. New best score: 1.088\n"
     ]
    },
    {
     "name": "stdout",
     "output_type": "stream",
     "text": [
      "Epoch 23 [35/35] {'loss': '1.1'}}\r"
     ]
    },
    {
     "name": "stderr",
     "output_type": "stream",
     "text": [
      "Metric loss/val improved by 0.002 >= min_delta = 0.0001. New best score: 1.086\n"
     ]
    },
    {
     "name": "stdout",
     "output_type": "stream",
     "text": [
      "Epoch 26 [35/35] {'loss': '1.1'}}\r"
     ]
    },
    {
     "name": "stderr",
     "output_type": "stream",
     "text": [
      "Metric loss/val improved by 0.002 >= min_delta = 0.0001. New best score: 1.085\n"
     ]
    },
    {
     "name": "stdout",
     "output_type": "stream",
     "text": [
      "Epoch 46 [35/35] {'loss': '1.1'}}\r"
     ]
    },
    {
     "name": "stderr",
     "output_type": "stream",
     "text": [
      "Monitored metric loss/val did not improve in the last 20 records. Best score: 1.085. Signaling Trainer to stop.\n",
      "GPU available: True, used: True\n",
      "TPU available: False, using: 0 TPU cores\n",
      "LOCAL_RANK: 0 - CUDA_VISIBLE_DEVICES: [0]\n",
      "\n",
      "  | Name               | Type             | Params\n",
      "--------------------------------------------------------\n",
      "0 | model              | VGG              | 103 M \n",
      "1 | criteria           | CrossEntropyLoss | 0     \n",
      "2 | valid_metrics      | MetricCollection | 0     \n",
      "3 | valid_dummy_metric | AUROC            | 0     \n",
      "--------------------------------------------------------\n",
      "103 M     Trainable params\n",
      "0         Non-trainable params\n",
      "103 M     Total params\n",
      "414.175   Total estimated model params size (MB)\n"
     ]
    },
    {
     "name": "stdout",
     "output_type": "stream",
     "text": [
      "Architecture [VGG] was created\n",
      "***Defined hyperparameters:***\n",
      "\"arch\":                {'name': 'vgg11_brew', 'args': {'num_channels': 1, 'num_classes': 3}}\n",
      "\"checkpoint_path\":     None\n",
      "\"class_weights\":       tensor([1.2466, 0.6500, 1.5167], device='cuda:0')\n",
      "\"hp_metrics\":          ['loss/train', 'loss/val', 'Accuracy/val', 'AUROC/val', 'Precision/val', 'Recall/val', 'Specificity/val']\n",
      "\"loss\":                {'type': 'CrossEntropyLoss', 'args': {'weight': True}}\n",
      "\"optimizer\":           {'type': 'Adam', 'args': {'lr': 0.0001, 'weight_decay': 0, 'amsgrad': False}}\n",
      "\"roi_hparams\":         {'enable': False, 'output_shape': [3, 3, 3], 'boundary_boxes': []}\n",
      "\"weight_distribution\": None\n",
      "Enabled callbacks:  ['LitProgressBar', 'EarlyStopping']\n",
      "Dataloader fold: 2\n",
      "Epoch 1 [35/35] {'loss': '1.1'}\r"
     ]
    },
    {
     "name": "stderr",
     "output_type": "stream",
     "text": [
      "Metric loss/val improved. New best score: 1.096\n"
     ]
    },
    {
     "name": "stdout",
     "output_type": "stream",
     "text": [
      "Epoch 2 [35/35] {'loss': '1.1'}\r"
     ]
    },
    {
     "name": "stderr",
     "output_type": "stream",
     "text": [
      "Metric loss/val improved by 0.001 >= min_delta = 0.0001. New best score: 1.095\n"
     ]
    },
    {
     "name": "stdout",
     "output_type": "stream",
     "text": [
      "Epoch 17 [35/35] {'loss': '1.1'}}\r"
     ]
    },
    {
     "name": "stderr",
     "output_type": "stream",
     "text": [
      "Metric loss/val improved by 0.000 >= min_delta = 0.0001. New best score: 1.095\n"
     ]
    },
    {
     "name": "stdout",
     "output_type": "stream",
     "text": [
      "Epoch 19 [35/35] {'loss': '1.1'}\r"
     ]
    },
    {
     "name": "stderr",
     "output_type": "stream",
     "text": [
      "Metric loss/val improved by 0.000 >= min_delta = 0.0001. New best score: 1.095\n"
     ]
    },
    {
     "name": "stdout",
     "output_type": "stream",
     "text": [
      "Epoch 20 [35/35] {'loss': '1.1'}\r"
     ]
    },
    {
     "name": "stderr",
     "output_type": "stream",
     "text": [
      "Metric loss/val improved by 0.000 >= min_delta = 0.0001. New best score: 1.095\n"
     ]
    },
    {
     "name": "stdout",
     "output_type": "stream",
     "text": [
      "Epoch 21 [35/35] {'loss': '1.1'}\r"
     ]
    },
    {
     "name": "stderr",
     "output_type": "stream",
     "text": [
      "Metric loss/val improved by 0.000 >= min_delta = 0.0001. New best score: 1.094\n"
     ]
    },
    {
     "name": "stdout",
     "output_type": "stream",
     "text": [
      "Epoch 22 [35/35] {'loss': '1.1'}\r"
     ]
    },
    {
     "name": "stderr",
     "output_type": "stream",
     "text": [
      "Metric loss/val improved by 0.001 >= min_delta = 0.0001. New best score: 1.093\n"
     ]
    },
    {
     "name": "stdout",
     "output_type": "stream",
     "text": [
      "Epoch 23 [35/35] {'loss': '1.1'}\r"
     ]
    },
    {
     "name": "stderr",
     "output_type": "stream",
     "text": [
      "Metric loss/val improved by 0.002 >= min_delta = 0.0001. New best score: 1.091\n"
     ]
    },
    {
     "name": "stdout",
     "output_type": "stream",
     "text": [
      "Epoch 24 [35/35] {'loss': '1.1'}\r"
     ]
    },
    {
     "name": "stderr",
     "output_type": "stream",
     "text": [
      "Metric loss/val improved by 0.002 >= min_delta = 0.0001. New best score: 1.090\n"
     ]
    },
    {
     "name": "stdout",
     "output_type": "stream",
     "text": [
      "Epoch 25 [35/35] {'loss': '1.1'}\r"
     ]
    },
    {
     "name": "stderr",
     "output_type": "stream",
     "text": [
      "Metric loss/val improved by 0.001 >= min_delta = 0.0001. New best score: 1.089\n"
     ]
    },
    {
     "name": "stdout",
     "output_type": "stream",
     "text": [
      "Epoch 26 [35/35] {'loss': '1.1'}}\r"
     ]
    },
    {
     "name": "stderr",
     "output_type": "stream",
     "text": [
      "Metric loss/val improved by 0.001 >= min_delta = 0.0001. New best score: 1.088\n"
     ]
    },
    {
     "name": "stdout",
     "output_type": "stream",
     "text": [
      "Epoch 27 [35/35] {'loss': '1.1'}}\r"
     ]
    },
    {
     "name": "stderr",
     "output_type": "stream",
     "text": [
      "Metric loss/val improved by 0.000 >= min_delta = 0.0001. New best score: 1.088\n"
     ]
    },
    {
     "name": "stdout",
     "output_type": "stream",
     "text": [
      "Epoch 28 [35/35] {'loss': '1.1'}}\r"
     ]
    },
    {
     "name": "stderr",
     "output_type": "stream",
     "text": [
      "Metric loss/val improved by 0.001 >= min_delta = 0.0001. New best score: 1.087\n"
     ]
    },
    {
     "name": "stdout",
     "output_type": "stream",
     "text": [
      "Epoch 32 [35/35] {'loss': '1.1'}}\r"
     ]
    },
    {
     "name": "stderr",
     "output_type": "stream",
     "text": [
      "Metric loss/val improved by 0.001 >= min_delta = 0.0001. New best score: 1.086\n"
     ]
    },
    {
     "name": "stdout",
     "output_type": "stream",
     "text": [
      "Epoch 33 [35/35] {'loss': '1.1'}}\r"
     ]
    },
    {
     "name": "stderr",
     "output_type": "stream",
     "text": [
      "Metric loss/val improved by 0.001 >= min_delta = 0.0001. New best score: 1.085\n"
     ]
    },
    {
     "name": "stdout",
     "output_type": "stream",
     "text": [
      "Epoch 45 [35/35] {'loss': '1.1'}}\r"
     ]
    },
    {
     "name": "stderr",
     "output_type": "stream",
     "text": [
      "Metric loss/val improved by 0.003 >= min_delta = 0.0001. New best score: 1.082\n"
     ]
    },
    {
     "name": "stdout",
     "output_type": "stream",
     "text": [
      "Epoch 48 [35/35] {'loss': '1.1'}}\r"
     ]
    },
    {
     "name": "stderr",
     "output_type": "stream",
     "text": [
      "Metric loss/val improved by 0.000 >= min_delta = 0.0001. New best score: 1.082\n"
     ]
    },
    {
     "name": "stdout",
     "output_type": "stream",
     "text": [
      "Epoch 64 [35/35] {'loss': '1.09'}\r"
     ]
    },
    {
     "name": "stderr",
     "output_type": "stream",
     "text": [
      "Metric loss/val improved by 0.007 >= min_delta = 0.0001. New best score: 1.075\n"
     ]
    },
    {
     "name": "stdout",
     "output_type": "stream",
     "text": [
      "Epoch 65 [35/35] {'loss': '1.06'}\r"
     ]
    },
    {
     "name": "stderr",
     "output_type": "stream",
     "text": [
      "Metric loss/val improved by 0.015 >= min_delta = 0.0001. New best score: 1.060\n"
     ]
    },
    {
     "name": "stdout",
     "output_type": "stream",
     "text": [
      "Epoch 85 [35/35] {'loss': '0.961'}\r"
     ]
    },
    {
     "name": "stderr",
     "output_type": "stream",
     "text": [
      "Monitored metric loss/val did not improve in the last 20 records. Best score: 1.060. Signaling Trainer to stop.\n",
      "GPU available: True, used: True\n",
      "TPU available: False, using: 0 TPU cores\n",
      "LOCAL_RANK: 0 - CUDA_VISIBLE_DEVICES: [0]\n",
      "\n",
      "  | Name               | Type             | Params\n",
      "--------------------------------------------------------\n",
      "0 | model              | VGG              | 103 M \n",
      "1 | criteria           | CrossEntropyLoss | 0     \n",
      "2 | valid_metrics      | MetricCollection | 0     \n",
      "3 | valid_dummy_metric | AUROC            | 0     \n",
      "--------------------------------------------------------\n",
      "103 M     Trainable params\n",
      "0         Non-trainable params\n",
      "103 M     Total params\n",
      "414.175   Total estimated model params size (MB)\n"
     ]
    },
    {
     "name": "stdout",
     "output_type": "stream",
     "text": [
      "Architecture [VGG] was created\n",
      "***Defined hyperparameters:***\n",
      "\"arch\":                {'name': 'vgg11_brew', 'args': {'num_channels': 1, 'num_classes': 3}}\n",
      "\"checkpoint_path\":     None\n",
      "\"class_weights\":       tensor([1.2466, 0.6500, 1.5167], device='cuda:0')\n",
      "\"hp_metrics\":          ['loss/train', 'loss/val', 'Accuracy/val', 'AUROC/val', 'Precision/val', 'Recall/val', 'Specificity/val']\n",
      "\"loss\":                {'type': 'CrossEntropyLoss', 'args': {'weight': True}}\n",
      "\"optimizer\":           {'type': 'Adam', 'args': {'lr': 0.0001, 'weight_decay': 0, 'amsgrad': False}}\n",
      "\"roi_hparams\":         {'enable': False, 'output_shape': [3, 3, 3], 'boundary_boxes': []}\n",
      "\"weight_distribution\": None\n",
      "Enabled callbacks:  ['LitProgressBar', 'EarlyStopping']\n",
      "Dataloader fold: 3\n",
      "Epoch 1 [35/35] {'loss': '1.1'}}\r"
     ]
    },
    {
     "name": "stderr",
     "output_type": "stream",
     "text": [
      "Metric loss/val improved. New best score: 1.098\n"
     ]
    },
    {
     "name": "stdout",
     "output_type": "stream",
     "text": [
      "Epoch 2 [35/35] {'loss': '1.1'}\r"
     ]
    },
    {
     "name": "stderr",
     "output_type": "stream",
     "text": [
      "Metric loss/val improved by 0.000 >= min_delta = 0.0001. New best score: 1.097\n"
     ]
    },
    {
     "name": "stdout",
     "output_type": "stream",
     "text": [
      "Epoch 7 [35/35] {'loss': '1.1'}\r"
     ]
    },
    {
     "name": "stderr",
     "output_type": "stream",
     "text": [
      "Metric loss/val improved by 0.001 >= min_delta = 0.0001. New best score: 1.096\n"
     ]
    },
    {
     "name": "stdout",
     "output_type": "stream",
     "text": [
      "Epoch 8 [35/35] {'loss': '1.1'}\r"
     ]
    },
    {
     "name": "stderr",
     "output_type": "stream",
     "text": [
      "Metric loss/val improved by 0.000 >= min_delta = 0.0001. New best score: 1.096\n"
     ]
    },
    {
     "name": "stdout",
     "output_type": "stream",
     "text": [
      "Epoch 9 [35/35] {'loss': '1.1'}\r"
     ]
    },
    {
     "name": "stderr",
     "output_type": "stream",
     "text": [
      "Metric loss/val improved by 0.001 >= min_delta = 0.0001. New best score: 1.095\n"
     ]
    },
    {
     "name": "stdout",
     "output_type": "stream",
     "text": [
      "Epoch 14 [35/35] {'loss': '1.1'}}\r"
     ]
    },
    {
     "name": "stderr",
     "output_type": "stream",
     "text": [
      "Metric loss/val improved by 0.001 >= min_delta = 0.0001. New best score: 1.094\n"
     ]
    },
    {
     "name": "stdout",
     "output_type": "stream",
     "text": [
      "Epoch 16 [35/35] {'loss': '1.1'}\r"
     ]
    },
    {
     "name": "stderr",
     "output_type": "stream",
     "text": [
      "Metric loss/val improved by 0.000 >= min_delta = 0.0001. New best score: 1.093\n"
     ]
    },
    {
     "name": "stdout",
     "output_type": "stream",
     "text": [
      "Epoch 17 [35/35] {'loss': '1.1'}}\r"
     ]
    },
    {
     "name": "stderr",
     "output_type": "stream",
     "text": [
      "Metric loss/val improved by 0.000 >= min_delta = 0.0001. New best score: 1.093\n"
     ]
    },
    {
     "name": "stdout",
     "output_type": "stream",
     "text": [
      "Epoch 18 [35/35] {'loss': '1.1'}\r"
     ]
    },
    {
     "name": "stderr",
     "output_type": "stream",
     "text": [
      "Metric loss/val improved by 0.000 >= min_delta = 0.0001. New best score: 1.093\n"
     ]
    },
    {
     "name": "stdout",
     "output_type": "stream",
     "text": [
      "Epoch 27 [35/35] {'loss': '1.1'}}\r"
     ]
    },
    {
     "name": "stderr",
     "output_type": "stream",
     "text": [
      "Metric loss/val improved by 0.001 >= min_delta = 0.0001. New best score: 1.092\n"
     ]
    },
    {
     "name": "stdout",
     "output_type": "stream",
     "text": [
      "Epoch 28 [35/35] {'loss': '1.1'}\r"
     ]
    },
    {
     "name": "stderr",
     "output_type": "stream",
     "text": [
      "Metric loss/val improved by 0.002 >= min_delta = 0.0001. New best score: 1.090\n"
     ]
    },
    {
     "name": "stdout",
     "output_type": "stream",
     "text": [
      "Epoch 29 [35/35] {'loss': '1.1'}}\r"
     ]
    },
    {
     "name": "stderr",
     "output_type": "stream",
     "text": [
      "Metric loss/val improved by 0.002 >= min_delta = 0.0001. New best score: 1.088\n"
     ]
    },
    {
     "name": "stdout",
     "output_type": "stream",
     "text": [
      "Epoch 37 [35/35] {'loss': '1.1'}}\r"
     ]
    },
    {
     "name": "stderr",
     "output_type": "stream",
     "text": [
      "Metric loss/val improved by 0.002 >= min_delta = 0.0001. New best score: 1.086\n"
     ]
    },
    {
     "name": "stdout",
     "output_type": "stream",
     "text": [
      "Epoch 57 [35/35] {'loss': '1.09'}\r"
     ]
    },
    {
     "name": "stderr",
     "output_type": "stream",
     "text": [
      "Monitored metric loss/val did not improve in the last 20 records. Best score: 1.086. Signaling Trainer to stop.\n",
      "GPU available: True, used: True\n",
      "TPU available: False, using: 0 TPU cores\n",
      "LOCAL_RANK: 0 - CUDA_VISIBLE_DEVICES: [0]\n",
      "\n",
      "  | Name               | Type             | Params\n",
      "--------------------------------------------------------\n",
      "0 | model              | VGG              | 103 M \n",
      "1 | criteria           | CrossEntropyLoss | 0     \n",
      "2 | valid_metrics      | MetricCollection | 0     \n",
      "3 | valid_dummy_metric | AUROC            | 0     \n",
      "--------------------------------------------------------\n",
      "103 M     Trainable params\n",
      "0         Non-trainable params\n",
      "103 M     Total params\n",
      "414.175   Total estimated model params size (MB)\n"
     ]
    },
    {
     "name": "stdout",
     "output_type": "stream",
     "text": [
      "Architecture [VGG] was created\n",
      "***Defined hyperparameters:***\n",
      "\"arch\":                {'name': 'vgg11_brew', 'args': {'num_channels': 1, 'num_classes': 3}}\n",
      "\"checkpoint_path\":     None\n",
      "\"class_weights\":       tensor([1.2466, 0.6500, 1.5167], device='cuda:0')\n",
      "\"hp_metrics\":          ['loss/train', 'loss/val', 'Accuracy/val', 'AUROC/val', 'Precision/val', 'Recall/val', 'Specificity/val']\n",
      "\"loss\":                {'type': 'CrossEntropyLoss', 'args': {'weight': True}}\n",
      "\"optimizer\":           {'type': 'Adam', 'args': {'lr': 0.0001, 'weight_decay': 0, 'amsgrad': False}}\n",
      "\"roi_hparams\":         {'enable': False, 'output_shape': [3, 3, 3], 'boundary_boxes': []}\n",
      "\"weight_distribution\": None\n",
      "Enabled callbacks:  ['LitProgressBar', 'EarlyStopping']\n",
      "Dataloader fold: 4\n",
      "Epoch 1 [35/35] {'loss': '1.1'}}\r"
     ]
    },
    {
     "name": "stderr",
     "output_type": "stream",
     "text": [
      "Metric loss/val improved. New best score: 1.098\n"
     ]
    },
    {
     "name": "stdout",
     "output_type": "stream",
     "text": [
      "Epoch 3 [35/35] {'loss': '1.1'}\r"
     ]
    },
    {
     "name": "stderr",
     "output_type": "stream",
     "text": [
      "Metric loss/val improved by 0.001 >= min_delta = 0.0001. New best score: 1.096\n"
     ]
    },
    {
     "name": "stdout",
     "output_type": "stream",
     "text": [
      "Epoch 6 [35/35] {'loss': '1.1'}\r"
     ]
    },
    {
     "name": "stderr",
     "output_type": "stream",
     "text": [
      "Metric loss/val improved by 0.001 >= min_delta = 0.0001. New best score: 1.096\n"
     ]
    },
    {
     "name": "stdout",
     "output_type": "stream",
     "text": [
      "Epoch 8 [35/35] {'loss': '1.09'}\r"
     ]
    },
    {
     "name": "stderr",
     "output_type": "stream",
     "text": [
      "Metric loss/val improved by 0.023 >= min_delta = 0.0001. New best score: 1.072\n"
     ]
    },
    {
     "name": "stdout",
     "output_type": "stream",
     "text": [
      "Epoch 28 [35/35] {'loss': '1.1'}}\r"
     ]
    },
    {
     "name": "stderr",
     "output_type": "stream",
     "text": [
      "Monitored metric loss/val did not improve in the last 20 records. Best score: 1.072. Signaling Trainer to stop.\n",
      "GPU available: True, used: True\n",
      "TPU available: False, using: 0 TPU cores\n",
      "LOCAL_RANK: 0 - CUDA_VISIBLE_DEVICES: [0]\n",
      "\n",
      "  | Name               | Type             | Params\n",
      "--------------------------------------------------------\n",
      "0 | model              | VGG              | 103 M \n",
      "1 | criteria           | CrossEntropyLoss | 0     \n",
      "2 | valid_metrics      | MetricCollection | 0     \n",
      "3 | valid_dummy_metric | AUROC            | 0     \n",
      "--------------------------------------------------------\n",
      "103 M     Trainable params\n",
      "0         Non-trainable params\n",
      "103 M     Total params\n",
      "414.175   Total estimated model params size (MB)\n"
     ]
    },
    {
     "name": "stdout",
     "output_type": "stream",
     "text": [
      "Architecture [VGG] was created\n",
      "***Defined hyperparameters:***\n",
      "\"arch\":                {'name': 'vgg11_brew', 'args': {'num_channels': 1, 'num_classes': 3}}\n",
      "\"checkpoint_path\":     None\n",
      "\"class_weights\":       tensor([1.2466, 0.6500, 1.5167], device='cuda:0')\n",
      "\"hp_metrics\":          ['loss/train', 'loss/val', 'Accuracy/val', 'AUROC/val', 'Precision/val', 'Recall/val', 'Specificity/val']\n",
      "\"loss\":                {'type': 'CrossEntropyLoss', 'args': {'weight': True}}\n",
      "\"optimizer\":           {'type': 'Adam', 'args': {'lr': 0.0001, 'weight_decay': 0, 'amsgrad': False}}\n",
      "\"roi_hparams\":         {'enable': False, 'output_shape': [3, 3, 3], 'boundary_boxes': []}\n",
      "\"weight_distribution\": None\n",
      "Enabled callbacks:  ['LitProgressBar', 'EarlyStopping']\n",
      "Dataloader fold: 5\n",
      "Epoch 1 [35/35] {'loss': '1.1'}\r"
     ]
    },
    {
     "name": "stderr",
     "output_type": "stream",
     "text": [
      "Metric loss/val improved. New best score: 1.098\n"
     ]
    },
    {
     "name": "stdout",
     "output_type": "stream",
     "text": [
      "Epoch 3 [35/35] {'loss': '1.1'}\r"
     ]
    },
    {
     "name": "stderr",
     "output_type": "stream",
     "text": [
      "Metric loss/val improved by 0.000 >= min_delta = 0.0001. New best score: 1.098\n"
     ]
    },
    {
     "name": "stdout",
     "output_type": "stream",
     "text": [
      "Epoch 5 [35/35] {'loss': '1.1'}\r"
     ]
    },
    {
     "name": "stderr",
     "output_type": "stream",
     "text": [
      "Metric loss/val improved by 0.000 >= min_delta = 0.0001. New best score: 1.098\n"
     ]
    },
    {
     "name": "stdout",
     "output_type": "stream",
     "text": [
      "Epoch 6 [35/35] {'loss': '1.1'}\r"
     ]
    },
    {
     "name": "stderr",
     "output_type": "stream",
     "text": [
      "Metric loss/val improved by 0.001 >= min_delta = 0.0001. New best score: 1.097\n"
     ]
    },
    {
     "name": "stdout",
     "output_type": "stream",
     "text": [
      "Epoch 8 [35/35] {'loss': '1.1'}\r"
     ]
    },
    {
     "name": "stderr",
     "output_type": "stream",
     "text": [
      "Metric loss/val improved by 0.000 >= min_delta = 0.0001. New best score: 1.097\n"
     ]
    },
    {
     "name": "stdout",
     "output_type": "stream",
     "text": [
      "Epoch 9 [35/35] {'loss': '1.1'}\r"
     ]
    },
    {
     "name": "stderr",
     "output_type": "stream",
     "text": [
      "Metric loss/val improved by 0.000 >= min_delta = 0.0001. New best score: 1.097\n"
     ]
    },
    {
     "name": "stdout",
     "output_type": "stream",
     "text": [
      "Epoch 10 [35/35] {'loss': '1.1'}\r"
     ]
    },
    {
     "name": "stderr",
     "output_type": "stream",
     "text": [
      "Metric loss/val improved by 0.000 >= min_delta = 0.0001. New best score: 1.096\n"
     ]
    },
    {
     "name": "stdout",
     "output_type": "stream",
     "text": [
      "Epoch 11 [35/35] {'loss': '1.1'}\r"
     ]
    },
    {
     "name": "stderr",
     "output_type": "stream",
     "text": [
      "Metric loss/val improved by 0.001 >= min_delta = 0.0001. New best score: 1.095\n"
     ]
    },
    {
     "name": "stdout",
     "output_type": "stream",
     "text": [
      "Epoch 13 [35/35] {'loss': '1.1'}\r"
     ]
    },
    {
     "name": "stderr",
     "output_type": "stream",
     "text": [
      "Metric loss/val improved by 0.004 >= min_delta = 0.0001. New best score: 1.092\n"
     ]
    },
    {
     "name": "stdout",
     "output_type": "stream",
     "text": [
      "Epoch 18 [35/35] {'loss': '1.1'}\r"
     ]
    },
    {
     "name": "stderr",
     "output_type": "stream",
     "text": [
      "Metric loss/val improved by 0.001 >= min_delta = 0.0001. New best score: 1.091\n"
     ]
    },
    {
     "name": "stdout",
     "output_type": "stream",
     "text": [
      "Epoch 19 [35/35] {'loss': '1.1'}\r"
     ]
    },
    {
     "name": "stderr",
     "output_type": "stream",
     "text": [
      "Metric loss/val improved by 0.001 >= min_delta = 0.0001. New best score: 1.090\n"
     ]
    },
    {
     "name": "stdout",
     "output_type": "stream",
     "text": [
      "Epoch 21 [35/35] {'loss': '1.1'}}\r"
     ]
    },
    {
     "name": "stderr",
     "output_type": "stream",
     "text": [
      "Metric loss/val improved by 0.001 >= min_delta = 0.0001. New best score: 1.089\n"
     ]
    },
    {
     "name": "stdout",
     "output_type": "stream",
     "text": [
      "Epoch 27 [35/35] {'loss': '1.09'}\r"
     ]
    },
    {
     "name": "stderr",
     "output_type": "stream",
     "text": [
      "Metric loss/val improved by 0.003 >= min_delta = 0.0001. New best score: 1.086\n"
     ]
    },
    {
     "name": "stdout",
     "output_type": "stream",
     "text": [
      "Epoch 28 [35/35] {'loss': '1.1'}}\r"
     ]
    },
    {
     "name": "stderr",
     "output_type": "stream",
     "text": [
      "Metric loss/val improved by 0.002 >= min_delta = 0.0001. New best score: 1.084\n"
     ]
    },
    {
     "name": "stdout",
     "output_type": "stream",
     "text": [
      "Epoch 29 [35/35] {'loss': '1.1'}}\r"
     ]
    },
    {
     "name": "stderr",
     "output_type": "stream",
     "text": [
      "Metric loss/val improved by 0.001 >= min_delta = 0.0001. New best score: 1.083\n"
     ]
    },
    {
     "name": "stdout",
     "output_type": "stream",
     "text": [
      "Epoch 47 [35/35] {'loss': '1.1'}}\r"
     ]
    },
    {
     "name": "stderr",
     "output_type": "stream",
     "text": [
      "Metric loss/val improved by 0.000 >= min_delta = 0.0001. New best score: 1.083\n"
     ]
    },
    {
     "name": "stdout",
     "output_type": "stream",
     "text": [
      "Epoch 65 [35/35] {'loss': '1.1'}}\r"
     ]
    },
    {
     "name": "stderr",
     "output_type": "stream",
     "text": [
      "Metric loss/val improved by 0.001 >= min_delta = 0.0001. New best score: 1.082\n"
     ]
    },
    {
     "name": "stdout",
     "output_type": "stream",
     "text": [
      "Epoch 85 [35/35] {'loss': '1.09'}\r"
     ]
    },
    {
     "name": "stderr",
     "output_type": "stream",
     "text": [
      "Monitored metric loss/val did not improve in the last 20 records. Best score: 1.082. Signaling Trainer to stop.\n",
      "GPU available: True, used: True\n",
      "TPU available: False, using: 0 TPU cores\n",
      "LOCAL_RANK: 0 - CUDA_VISIBLE_DEVICES: [0]\n",
      "\n",
      "  | Name               | Type             | Params\n",
      "--------------------------------------------------------\n",
      "0 | model              | VGG              | 103 M \n",
      "1 | criteria           | CrossEntropyLoss | 0     \n",
      "2 | valid_metrics      | MetricCollection | 0     \n",
      "3 | valid_dummy_metric | AUROC            | 0     \n",
      "--------------------------------------------------------\n",
      "103 M     Trainable params\n",
      "0         Non-trainable params\n",
      "103 M     Total params\n",
      "414.175   Total estimated model params size (MB)\n"
     ]
    },
    {
     "name": "stdout",
     "output_type": "stream",
     "text": [
      "Architecture [VGG] was created\n",
      "***Defined hyperparameters:***\n",
      "\"arch\":                {'name': 'vgg11_brew', 'args': {'num_channels': 1, 'num_classes': 3}}\n",
      "\"checkpoint_path\":     None\n",
      "\"class_weights\":       tensor([1.2466, 0.6500, 1.5167], device='cuda:0')\n",
      "\"hp_metrics\":          ['loss/train', 'loss/val', 'Accuracy/val', 'AUROC/val', 'Precision/val', 'Recall/val', 'Specificity/val']\n",
      "\"loss\":                {'type': 'CrossEntropyLoss', 'args': {'weight': True}}\n",
      "\"optimizer\":           {'type': 'Adam', 'args': {'lr': 0.0001, 'weight_decay': 0, 'amsgrad': False}}\n",
      "\"roi_hparams\":         {'enable': False, 'output_shape': [3, 3, 3], 'boundary_boxes': []}\n",
      "\"weight_distribution\": None\n",
      "Enabled callbacks:  ['LitProgressBar', 'EarlyStopping']\n",
      "Dataloader fold: 6\n",
      "Epoch 1 [35/35] {'loss': '1.1'}}\r"
     ]
    },
    {
     "name": "stderr",
     "output_type": "stream",
     "text": [
      "Metric loss/val improved. New best score: 1.097\n"
     ]
    },
    {
     "name": "stdout",
     "output_type": "stream",
     "text": [
      "Epoch 6 [35/35] {'loss': '1.1'}\r"
     ]
    },
    {
     "name": "stderr",
     "output_type": "stream",
     "text": [
      "Metric loss/val improved by 0.001 >= min_delta = 0.0001. New best score: 1.096\n"
     ]
    },
    {
     "name": "stdout",
     "output_type": "stream",
     "text": [
      "Epoch 9 [35/35] {'loss': '1.1'}\r"
     ]
    },
    {
     "name": "stderr",
     "output_type": "stream",
     "text": [
      "Metric loss/val improved by 0.007 >= min_delta = 0.0001. New best score: 1.089\n"
     ]
    },
    {
     "name": "stdout",
     "output_type": "stream",
     "text": [
      "Epoch 15 [35/35] {'loss': '1.1'}}\r"
     ]
    },
    {
     "name": "stderr",
     "output_type": "stream",
     "text": [
      "Metric loss/val improved by 0.004 >= min_delta = 0.0001. New best score: 1.085\n"
     ]
    },
    {
     "name": "stdout",
     "output_type": "stream",
     "text": [
      "Epoch 35 [35/35] {'loss': '1.1'}}\r"
     ]
    },
    {
     "name": "stderr",
     "output_type": "stream",
     "text": [
      "Monitored metric loss/val did not improve in the last 20 records. Best score: 1.085. Signaling Trainer to stop.\n"
     ]
    },
    {
     "name": "stdout",
     "output_type": "stream",
     "text": [
      "vgg11_brew: [{'epoch': tensor(45.), 'loss/train': tensor(1.0980, device='cuda:0'), 'loss/val': tensor(1.0919), 'Accuracy/val': tensor(0.5161), 'Precision/val': tensor(0.5161), 'Recall/val': tensor(0.5161), 'AUROC/val': tensor(0.4200), 'Specificity/val': tensor(0.7581)}, {'epoch': tensor(84.), 'loss/train': tensor(0.9806, device='cuda:0'), 'loss/val': tensor(1.0972), 'Accuracy/val': tensor(0.4839), 'Precision/val': tensor(0.4839), 'Recall/val': tensor(0.4839), 'AUROC/val': tensor(0.5426), 'Specificity/val': tensor(0.7419)}, {'epoch': tensor(56.), 'loss/train': tensor(1.0949, device='cuda:0'), 'loss/val': tensor(1.0865), 'Accuracy/val': tensor(0.5161), 'Precision/val': tensor(0.5161), 'Recall/val': tensor(0.5161), 'AUROC/val': tensor(0.4280), 'Specificity/val': tensor(0.7581)}, {'epoch': tensor(27.), 'loss/train': tensor(1.0990, device='cuda:0'), 'loss/val': tensor(1.0865), 'Accuracy/val': tensor(0.5161), 'Precision/val': tensor(0.5161), 'Recall/val': tensor(0.5161), 'AUROC/val': tensor(0.4154), 'Specificity/val': tensor(0.7581)}, {'epoch': tensor(84.), 'loss/train': tensor(1.0963, device='cuda:0'), 'loss/val': tensor(1.0859), 'Accuracy/val': tensor(0.5161), 'Precision/val': tensor(0.5161), 'Recall/val': tensor(0.5161), 'AUROC/val': tensor(0.4959), 'Specificity/val': tensor(0.7581)}, {'epoch': tensor(34.), 'loss/train': tensor(1.0982, device='cuda:0'), 'loss/val': tensor(1.0870), 'Accuracy/val': tensor(0.5161), 'Precision/val': tensor(0.5161), 'Recall/val': tensor(0.5161), 'AUROC/val': tensor(0.4152), 'Specificity/val': tensor(0.7581)}]\n",
      "***Defined dataloader:***\n",
      "Data directory: data/SPM_categorised/ADNI1/\n",
      "Dataset sizes - Training: 273 Validation: 31\n",
      "Seed: 0\n",
      "Augmentation: Disabled\n",
      "KFold: Enabled - Fold: 1/10\n",
      "\n"
     ]
    },
    {
     "name": "stderr",
     "output_type": "stream",
     "text": [
      "/home/stud/f/fremar16/miniconda3/envs/Master-thesis/lib/python3.9/site-packages/torchmetrics/utilities/prints.py:36: UserWarning: Metric `AUROC` will save all targets and predictions in buffer. For large datasets this may lead to large memory footprint.\n",
      "  warnings.warn(*args, **kwargs)\n",
      "GPU available: True, used: True\n",
      "TPU available: False, using: 0 TPU cores\n",
      "Missing logger folder: /var/metrics/codetests/logs/tb/vgg16/20210521222855\n",
      "LOCAL_RANK: 0 - CUDA_VISIBLE_DEVICES: [0]\n",
      "\n",
      "  | Name               | Type             | Params\n",
      "--------------------------------------------------------\n",
      "0 | model              | VGG              | 65.1 M\n",
      "1 | criteria           | CrossEntropyLoss | 0     \n",
      "2 | valid_metrics      | MetricCollection | 0     \n",
      "3 | valid_dummy_metric | AUROC            | 0     \n",
      "--------------------------------------------------------\n",
      "65.1 M    Trainable params\n",
      "0         Non-trainable params\n",
      "65.1 M    Total params\n",
      "260.447   Total estimated model params size (MB)\n"
     ]
    },
    {
     "name": "stdout",
     "output_type": "stream",
     "text": [
      "Architecture [VGG] was created\n",
      "***Defined hyperparameters:***\n",
      "\"arch\":                {'name': 'vgg16', 'args': {'num_channels': 1, 'num_classes': 3}}\n",
      "\"checkpoint_path\":     None\n",
      "\"class_weights\":       tensor([1.2466, 0.6500, 1.5167], device='cuda:0')\n",
      "\"hp_metrics\":          ['loss/train', 'loss/val', 'Accuracy/val', 'AUROC/val', 'Precision/val', 'Recall/val', 'Specificity/val']\n",
      "\"loss\":                {'type': 'CrossEntropyLoss', 'args': {'weight': True}}\n",
      "\"optimizer\":           {'type': 'Adam', 'args': {'lr': 0.0001, 'weight_decay': 0, 'amsgrad': False}}\n",
      "\"roi_hparams\":         {'enable': False, 'output_shape': [3, 3, 3], 'boundary_boxes': []}\n",
      "\"weight_distribution\": None\n",
      "Enabled callbacks:  ['LitProgressBar', 'EarlyStopping']\n",
      "Dataloader fold: 1\n",
      "torch.Size([8, 512, 2, 2, 2])\n",
      "torch.Size([8, 512, 2, 2, 2])}\n",
      "torch.Size([8, 512, 2, 2, 2])}\n",
      "torch.Size([8, 512, 2, 2, 2])}\n",
      "torch.Size([8, 512, 2, 2, 2])}\n",
      "torch.Size([8, 512, 2, 2, 2])}\n",
      "torch.Size([8, 512, 2, 2, 2])}\n",
      "torch.Size([8, 512, 2, 2, 2])}\n",
      "torch.Size([8, 512, 2, 2, 2])}\n",
      "torch.Size([8, 512, 2, 2, 2])}\n",
      "torch.Size([8, 512, 2, 2, 2])'}\n",
      "torch.Size([8, 512, 2, 2, 2])'}\n",
      "torch.Size([8, 512, 2, 2, 2])'}\n",
      "torch.Size([8, 512, 2, 2, 2])'}\n",
      "torch.Size([8, 512, 2, 2, 2])'}\n",
      "torch.Size([8, 512, 2, 2, 2])'}\n",
      "torch.Size([8, 512, 2, 2, 2])'}\n",
      "torch.Size([8, 512, 2, 2, 2])'}\n",
      "torch.Size([8, 512, 2, 2, 2])'}\n",
      "torch.Size([8, 512, 2, 2, 2])'}\n",
      "torch.Size([8, 512, 2, 2, 2])'}\n",
      "torch.Size([8, 512, 2, 2, 2])'}\n",
      "torch.Size([8, 512, 2, 2, 2])'}\n",
      "torch.Size([8, 512, 2, 2, 2])'}\n",
      "torch.Size([8, 512, 2, 2, 2])'}\n",
      "torch.Size([8, 512, 2, 2, 2])'}\n",
      "torch.Size([8, 512, 2, 2, 2])'}\n",
      "torch.Size([8, 512, 2, 2, 2])'}\n",
      "torch.Size([8, 512, 2, 2, 2])'}\n",
      "torch.Size([8, 512, 2, 2, 2])'}\n",
      "torch.Size([8, 512, 2, 2, 2])'}\n",
      "torch.Size([8, 512, 2, 2, 2])'}\n",
      "torch.Size([8, 512, 2, 2, 2])'}\n",
      "torch.Size([8, 512, 2, 2, 2])'}\n",
      "torch.Size([1, 512, 2, 2, 2])'}\n",
      "torch.Size([8, 512, 2, 2, 2])'}\n",
      "torch.Size([8, 512, 2, 2, 2])\n",
      "torch.Size([8, 512, 2, 2, 2])\n",
      "torch.Size([7, 512, 2, 2, 2])\n"
     ]
    },
    {
     "name": "stderr",
     "output_type": "stream",
     "text": [
      "Metric loss/val improved. New best score: 1.098\n"
     ]
    },
    {
     "name": "stdout",
     "output_type": "stream",
     "text": [
      "torch.Size([8, 512, 2, 2, 2])\n",
      "torch.Size([8, 512, 2, 2, 2])}\n",
      "torch.Size([8, 512, 2, 2, 2])}\n",
      "torch.Size([8, 512, 2, 2, 2])}\n",
      "torch.Size([8, 512, 2, 2, 2])}\n",
      "torch.Size([8, 512, 2, 2, 2])}\n",
      "torch.Size([8, 512, 2, 2, 2])}\n",
      "torch.Size([8, 512, 2, 2, 2])}\n",
      "torch.Size([8, 512, 2, 2, 2])}\n",
      "torch.Size([8, 512, 2, 2, 2])}\n",
      "torch.Size([8, 512, 2, 2, 2])'}\n",
      "torch.Size([8, 512, 2, 2, 2])'}\n",
      "torch.Size([8, 512, 2, 2, 2])'}\n",
      "torch.Size([8, 512, 2, 2, 2])'}\n",
      "torch.Size([8, 512, 2, 2, 2])'}\n",
      "torch.Size([8, 512, 2, 2, 2])'}\n",
      "torch.Size([8, 512, 2, 2, 2])'}\n",
      "torch.Size([8, 512, 2, 2, 2])'}\n",
      "torch.Size([8, 512, 2, 2, 2])'}\n",
      "torch.Size([8, 512, 2, 2, 2])'}\n",
      "torch.Size([8, 512, 2, 2, 2])'}\n",
      "torch.Size([8, 512, 2, 2, 2])'}\n",
      "torch.Size([8, 512, 2, 2, 2])'}\n",
      "torch.Size([8, 512, 2, 2, 2])'}\n",
      "torch.Size([8, 512, 2, 2, 2])'}\n",
      "torch.Size([8, 512, 2, 2, 2])'}\n",
      "torch.Size([8, 512, 2, 2, 2])'}\n",
      "torch.Size([8, 512, 2, 2, 2])'}\n",
      "torch.Size([8, 512, 2, 2, 2])'}\n",
      "torch.Size([8, 512, 2, 2, 2])'}\n",
      "torch.Size([8, 512, 2, 2, 2])'}\n",
      "torch.Size([8, 512, 2, 2, 2])'}\n",
      "torch.Size([8, 512, 2, 2, 2])'}\n",
      "torch.Size([8, 512, 2, 2, 2])'}\n",
      "torch.Size([1, 512, 2, 2, 2])'}\n",
      "torch.Size([8, 512, 2, 2, 2])'}\n",
      "torch.Size([8, 512, 2, 2, 2])\n",
      "torch.Size([8, 512, 2, 2, 2])\n",
      "torch.Size([7, 512, 2, 2, 2])\n"
     ]
    },
    {
     "name": "stderr",
     "output_type": "stream",
     "text": [
      "Metric loss/val improved by 0.001 >= min_delta = 0.0001. New best score: 1.098\n"
     ]
    },
    {
     "name": "stdout",
     "output_type": "stream",
     "text": [
      "torch.Size([8, 512, 2, 2, 2])\n",
      "torch.Size([8, 512, 2, 2, 2])}\n",
      "torch.Size([8, 512, 2, 2, 2])}\n",
      "torch.Size([8, 512, 2, 2, 2])}\n",
      "torch.Size([8, 512, 2, 2, 2])}\n",
      "torch.Size([8, 512, 2, 2, 2])}\n",
      "torch.Size([8, 512, 2, 2, 2])}\n",
      "torch.Size([8, 512, 2, 2, 2])}\n",
      "torch.Size([8, 512, 2, 2, 2])}\n",
      "torch.Size([8, 512, 2, 2, 2])}\n",
      "torch.Size([8, 512, 2, 2, 2])'}\n",
      "torch.Size([8, 512, 2, 2, 2])'}\n",
      "torch.Size([8, 512, 2, 2, 2])'}\n",
      "torch.Size([8, 512, 2, 2, 2])'}\n",
      "torch.Size([8, 512, 2, 2, 2])'}\n",
      "torch.Size([8, 512, 2, 2, 2])'}\n",
      "torch.Size([8, 512, 2, 2, 2])'}\n",
      "torch.Size([8, 512, 2, 2, 2])'}\n",
      "torch.Size([8, 512, 2, 2, 2])'}\n",
      "torch.Size([8, 512, 2, 2, 2])'}\n",
      "torch.Size([8, 512, 2, 2, 2])'}\n",
      "torch.Size([8, 512, 2, 2, 2])'}\n",
      "torch.Size([8, 512, 2, 2, 2])'}\n",
      "torch.Size([8, 512, 2, 2, 2])'}\n",
      "torch.Size([8, 512, 2, 2, 2])'}\n",
      "torch.Size([8, 512, 2, 2, 2])'}\n",
      "torch.Size([8, 512, 2, 2, 2])'}\n",
      "torch.Size([8, 512, 2, 2, 2])'}\n",
      "torch.Size([8, 512, 2, 2, 2])'}\n",
      "torch.Size([8, 512, 2, 2, 2])'}\n",
      "torch.Size([8, 512, 2, 2, 2])'}\n",
      "torch.Size([8, 512, 2, 2, 2])'}\n",
      "torch.Size([8, 512, 2, 2, 2])'}\n",
      "torch.Size([8, 512, 2, 2, 2])'}\n",
      "torch.Size([1, 512, 2, 2, 2])'}\n",
      "torch.Size([8, 512, 2, 2, 2])'}\n",
      "torch.Size([8, 512, 2, 2, 2])\n",
      "torch.Size([8, 512, 2, 2, 2])\n",
      "torch.Size([7, 512, 2, 2, 2])\n",
      "torch.Size([8, 512, 2, 2, 2])\n",
      "torch.Size([8, 512, 2, 2, 2])}\n",
      "torch.Size([8, 512, 2, 2, 2])}\n",
      "torch.Size([8, 512, 2, 2, 2])}\n",
      "torch.Size([8, 512, 2, 2, 2])}\n",
      "torch.Size([8, 512, 2, 2, 2])}\n",
      "torch.Size([8, 512, 2, 2, 2])}\n",
      "torch.Size([8, 512, 2, 2, 2])}\n",
      "torch.Size([8, 512, 2, 2, 2])}\n",
      "torch.Size([8, 512, 2, 2, 2])}\n",
      "torch.Size([8, 512, 2, 2, 2])'}\n",
      "torch.Size([8, 512, 2, 2, 2])'}\n",
      "torch.Size([8, 512, 2, 2, 2])'}\n",
      "torch.Size([8, 512, 2, 2, 2])'}\n",
      "torch.Size([8, 512, 2, 2, 2])'}\n",
      "torch.Size([8, 512, 2, 2, 2])'}\n",
      "torch.Size([8, 512, 2, 2, 2])'}\n",
      "torch.Size([8, 512, 2, 2, 2])'}\n",
      "torch.Size([8, 512, 2, 2, 2])'}\n",
      "torch.Size([8, 512, 2, 2, 2])'}\n",
      "torch.Size([8, 512, 2, 2, 2])'}\n",
      "torch.Size([8, 512, 2, 2, 2])'}\n",
      "torch.Size([8, 512, 2, 2, 2])'}\n",
      "torch.Size([8, 512, 2, 2, 2])'}\n",
      "torch.Size([8, 512, 2, 2, 2])'}\n",
      "torch.Size([8, 512, 2, 2, 2])'}\n",
      "torch.Size([8, 512, 2, 2, 2])'}\n",
      "torch.Size([8, 512, 2, 2, 2])'}\n",
      "torch.Size([8, 512, 2, 2, 2])'}\n",
      "torch.Size([8, 512, 2, 2, 2])'}\n",
      "torch.Size([8, 512, 2, 2, 2])'}\n",
      "torch.Size([8, 512, 2, 2, 2])'}\n",
      "torch.Size([8, 512, 2, 2, 2])'}\n",
      "torch.Size([8, 512, 2, 2, 2])'}\n",
      "torch.Size([1, 512, 2, 2, 2])'}\n",
      "torch.Size([8, 512, 2, 2, 2])'}\n",
      "torch.Size([8, 512, 2, 2, 2])\n",
      "torch.Size([8, 512, 2, 2, 2])\n",
      "torch.Size([7, 512, 2, 2, 2])\n"
     ]
    },
    {
     "name": "stderr",
     "output_type": "stream",
     "text": [
      "Metric loss/val improved by 0.000 >= min_delta = 0.0001. New best score: 1.097\n"
     ]
    },
    {
     "name": "stdout",
     "output_type": "stream",
     "text": [
      "torch.Size([8, 512, 2, 2, 2])\n",
      "torch.Size([8, 512, 2, 2, 2])}\n",
      "torch.Size([8, 512, 2, 2, 2])}\n",
      "torch.Size([8, 512, 2, 2, 2])}\n",
      "torch.Size([8, 512, 2, 2, 2])}\n",
      "torch.Size([8, 512, 2, 2, 2])}\n",
      "torch.Size([8, 512, 2, 2, 2])}\n",
      "torch.Size([8, 512, 2, 2, 2])}\n",
      "torch.Size([8, 512, 2, 2, 2])}\n",
      "torch.Size([8, 512, 2, 2, 2])}\n",
      "torch.Size([8, 512, 2, 2, 2])'}\n",
      "torch.Size([8, 512, 2, 2, 2])'}\n",
      "torch.Size([8, 512, 2, 2, 2])'}\n",
      "torch.Size([8, 512, 2, 2, 2])'}\n",
      "torch.Size([8, 512, 2, 2, 2])'}\n",
      "torch.Size([8, 512, 2, 2, 2])'}\n",
      "torch.Size([8, 512, 2, 2, 2])'}\n",
      "torch.Size([8, 512, 2, 2, 2])'}\n",
      "torch.Size([8, 512, 2, 2, 2])'}\n",
      "torch.Size([8, 512, 2, 2, 2])'}\n",
      "torch.Size([8, 512, 2, 2, 2])'}\n",
      "torch.Size([8, 512, 2, 2, 2])'}\n",
      "torch.Size([8, 512, 2, 2, 2])'}\n",
      "torch.Size([8, 512, 2, 2, 2])'}\n",
      "torch.Size([8, 512, 2, 2, 2])'}\n",
      "torch.Size([8, 512, 2, 2, 2])'}\n",
      "torch.Size([8, 512, 2, 2, 2])'}\n",
      "torch.Size([8, 512, 2, 2, 2])'}\n",
      "torch.Size([8, 512, 2, 2, 2])'}\n",
      "torch.Size([8, 512, 2, 2, 2])'}\n",
      "torch.Size([8, 512, 2, 2, 2])'}\n",
      "torch.Size([8, 512, 2, 2, 2])'}\n",
      "torch.Size([8, 512, 2, 2, 2])'}\n",
      "torch.Size([8, 512, 2, 2, 2])'}\n",
      "torch.Size([1, 512, 2, 2, 2])'}\n",
      "torch.Size([8, 512, 2, 2, 2])'}\n",
      "torch.Size([8, 512, 2, 2, 2])\n",
      "torch.Size([8, 512, 2, 2, 2])\n",
      "torch.Size([7, 512, 2, 2, 2])\n"
     ]
    },
    {
     "name": "stderr",
     "output_type": "stream",
     "text": [
      "Metric loss/val improved by 0.001 >= min_delta = 0.0001. New best score: 1.096\n"
     ]
    },
    {
     "name": "stdout",
     "output_type": "stream",
     "text": [
      "torch.Size([8, 512, 2, 2, 2])\n",
      "torch.Size([8, 512, 2, 2, 2])}\n",
      "torch.Size([8, 512, 2, 2, 2])}\n",
      "torch.Size([8, 512, 2, 2, 2])}\n",
      "torch.Size([8, 512, 2, 2, 2])}\n",
      "torch.Size([8, 512, 2, 2, 2])}\n",
      "torch.Size([8, 512, 2, 2, 2])}\n",
      "torch.Size([8, 512, 2, 2, 2])}\n",
      "torch.Size([8, 512, 2, 2, 2])}\n",
      "torch.Size([8, 512, 2, 2, 2])}\n",
      "torch.Size([8, 512, 2, 2, 2])'}\n",
      "torch.Size([8, 512, 2, 2, 2])'}\n",
      "torch.Size([8, 512, 2, 2, 2])'}\n",
      "torch.Size([8, 512, 2, 2, 2])'}\n",
      "torch.Size([8, 512, 2, 2, 2])'}\n",
      "torch.Size([8, 512, 2, 2, 2])'}\n",
      "torch.Size([8, 512, 2, 2, 2])'}\n",
      "torch.Size([8, 512, 2, 2, 2])'}\n",
      "torch.Size([8, 512, 2, 2, 2])'}\n",
      "torch.Size([8, 512, 2, 2, 2])'}\n",
      "torch.Size([8, 512, 2, 2, 2])'}\n",
      "torch.Size([8, 512, 2, 2, 2])'}\n",
      "torch.Size([8, 512, 2, 2, 2])'}\n",
      "torch.Size([8, 512, 2, 2, 2])'}\n",
      "torch.Size([8, 512, 2, 2, 2])'}\n",
      "torch.Size([8, 512, 2, 2, 2])'}\n",
      "torch.Size([8, 512, 2, 2, 2])'}\n",
      "torch.Size([8, 512, 2, 2, 2])'}\n",
      "torch.Size([8, 512, 2, 2, 2])'}\n",
      "torch.Size([8, 512, 2, 2, 2])'}\n",
      "torch.Size([8, 512, 2, 2, 2])'}\n",
      "torch.Size([8, 512, 2, 2, 2])'}\n",
      "torch.Size([8, 512, 2, 2, 2])'}\n",
      "torch.Size([8, 512, 2, 2, 2])'}\n",
      "torch.Size([1, 512, 2, 2, 2])'}\n",
      "torch.Size([8, 512, 2, 2, 2])'}\n",
      "torch.Size([8, 512, 2, 2, 2])\n",
      "torch.Size([8, 512, 2, 2, 2])\n",
      "torch.Size([7, 512, 2, 2, 2])\n"
     ]
    },
    {
     "name": "stderr",
     "output_type": "stream",
     "text": [
      "Metric loss/val improved by 0.004 >= min_delta = 0.0001. New best score: 1.092\n"
     ]
    },
    {
     "name": "stdout",
     "output_type": "stream",
     "text": [
      "torch.Size([8, 512, 2, 2, 2])\n",
      "torch.Size([8, 512, 2, 2, 2])}\n",
      "torch.Size([8, 512, 2, 2, 2])}\n",
      "torch.Size([8, 512, 2, 2, 2])}\n",
      "torch.Size([8, 512, 2, 2, 2])}\n",
      "torch.Size([8, 512, 2, 2, 2])}\n",
      "torch.Size([8, 512, 2, 2, 2])}\n",
      "torch.Size([8, 512, 2, 2, 2])}\n",
      "torch.Size([8, 512, 2, 2, 2])}\n",
      "torch.Size([8, 512, 2, 2, 2])}\n",
      "torch.Size([8, 512, 2, 2, 2])'}\n",
      "torch.Size([8, 512, 2, 2, 2])'}\n",
      "torch.Size([8, 512, 2, 2, 2])'}\n",
      "torch.Size([8, 512, 2, 2, 2])'}\n",
      "torch.Size([8, 512, 2, 2, 2])'}\n",
      "torch.Size([8, 512, 2, 2, 2])'}\n",
      "torch.Size([8, 512, 2, 2, 2])'}\n",
      "torch.Size([8, 512, 2, 2, 2])'}\n",
      "torch.Size([8, 512, 2, 2, 2])'}\n",
      "torch.Size([8, 512, 2, 2, 2])'}\n",
      "torch.Size([8, 512, 2, 2, 2])'}\n",
      "torch.Size([8, 512, 2, 2, 2])'}\n",
      "torch.Size([8, 512, 2, 2, 2])'}\n",
      "torch.Size([8, 512, 2, 2, 2])'}\n",
      "torch.Size([8, 512, 2, 2, 2])'}\n",
      "torch.Size([8, 512, 2, 2, 2])'}\n",
      "torch.Size([8, 512, 2, 2, 2])'}\n",
      "torch.Size([8, 512, 2, 2, 2])'}\n",
      "torch.Size([8, 512, 2, 2, 2])'}\n",
      "torch.Size([8, 512, 2, 2, 2])'}\n",
      "torch.Size([8, 512, 2, 2, 2])'}\n",
      "torch.Size([8, 512, 2, 2, 2])'}\n",
      "torch.Size([8, 512, 2, 2, 2])'}\n",
      "torch.Size([8, 512, 2, 2, 2])'}\n",
      "torch.Size([1, 512, 2, 2, 2])'}\n",
      "torch.Size([8, 512, 2, 2, 2])'}\n",
      "torch.Size([8, 512, 2, 2, 2])\n",
      "torch.Size([8, 512, 2, 2, 2])\n",
      "torch.Size([7, 512, 2, 2, 2])\n",
      "torch.Size([8, 512, 2, 2, 2])\n",
      "torch.Size([8, 512, 2, 2, 2])}\n",
      "torch.Size([8, 512, 2, 2, 2])}\n",
      "torch.Size([8, 512, 2, 2, 2])}\n",
      "torch.Size([8, 512, 2, 2, 2])}\n",
      "torch.Size([8, 512, 2, 2, 2])}\n",
      "torch.Size([8, 512, 2, 2, 2])}\n",
      "torch.Size([8, 512, 2, 2, 2])}\n",
      "torch.Size([8, 512, 2, 2, 2])}\n",
      "torch.Size([8, 512, 2, 2, 2])}\n",
      "torch.Size([8, 512, 2, 2, 2])'}\n",
      "torch.Size([8, 512, 2, 2, 2])'}\n",
      "torch.Size([8, 512, 2, 2, 2])'}\n",
      "torch.Size([8, 512, 2, 2, 2])'}\n",
      "torch.Size([8, 512, 2, 2, 2])'}\n",
      "torch.Size([8, 512, 2, 2, 2])'}\n",
      "torch.Size([8, 512, 2, 2, 2])'}\n",
      "torch.Size([8, 512, 2, 2, 2])'}\n",
      "torch.Size([8, 512, 2, 2, 2])'}\n",
      "torch.Size([8, 512, 2, 2, 2])'}\n",
      "torch.Size([8, 512, 2, 2, 2])'}\n",
      "torch.Size([8, 512, 2, 2, 2])'}\n",
      "torch.Size([8, 512, 2, 2, 2])'}\n",
      "torch.Size([8, 512, 2, 2, 2])'}\n",
      "torch.Size([8, 512, 2, 2, 2])'}\n",
      "torch.Size([8, 512, 2, 2, 2])'}\n",
      "torch.Size([8, 512, 2, 2, 2])'}\n",
      "torch.Size([8, 512, 2, 2, 2])'}\n",
      "torch.Size([8, 512, 2, 2, 2])'}\n",
      "torch.Size([8, 512, 2, 2, 2])'}\n",
      "torch.Size([8, 512, 2, 2, 2])'}\n",
      "torch.Size([8, 512, 2, 2, 2])'}\n",
      "torch.Size([8, 512, 2, 2, 2])'}\n",
      "torch.Size([8, 512, 2, 2, 2])'}\n",
      "torch.Size([1, 512, 2, 2, 2])'}\n",
      "torch.Size([8, 512, 2, 2, 2])'}\n",
      "torch.Size([8, 512, 2, 2, 2])\n",
      "torch.Size([8, 512, 2, 2, 2])\n",
      "torch.Size([7, 512, 2, 2, 2])\n",
      "torch.Size([8, 512, 2, 2, 2])\n",
      "torch.Size([8, 512, 2, 2, 2])}\n",
      "torch.Size([8, 512, 2, 2, 2])}\n",
      "torch.Size([8, 512, 2, 2, 2])}\n",
      "torch.Size([8, 512, 2, 2, 2])}\n",
      "torch.Size([8, 512, 2, 2, 2])}\n",
      "torch.Size([8, 512, 2, 2, 2])'}\n",
      "torch.Size([8, 512, 2, 2, 2])'}\n",
      "torch.Size([8, 512, 2, 2, 2])'}\n",
      "torch.Size([8, 512, 2, 2, 2])'}\n",
      "torch.Size([8, 512, 2, 2, 2])9'}\n",
      "torch.Size([8, 512, 2, 2, 2])'}\n",
      "torch.Size([8, 512, 2, 2, 2])'}\n",
      "torch.Size([8, 512, 2, 2, 2])'}\n",
      "torch.Size([8, 512, 2, 2, 2])'}\n",
      "torch.Size([8, 512, 2, 2, 2])'}\n",
      "torch.Size([8, 512, 2, 2, 2])'}\n",
      "torch.Size([8, 512, 2, 2, 2])'}\n",
      "torch.Size([8, 512, 2, 2, 2])'}\n",
      "torch.Size([8, 512, 2, 2, 2])'}\n",
      "torch.Size([8, 512, 2, 2, 2])'}\n",
      "torch.Size([8, 512, 2, 2, 2])'}\n",
      "torch.Size([8, 512, 2, 2, 2])'}\n",
      "torch.Size([8, 512, 2, 2, 2])'}\n",
      "torch.Size([8, 512, 2, 2, 2])'}\n",
      "torch.Size([8, 512, 2, 2, 2])'}\n",
      "torch.Size([8, 512, 2, 2, 2])'}\n",
      "torch.Size([8, 512, 2, 2, 2])'}\n",
      "torch.Size([8, 512, 2, 2, 2])'}\n",
      "torch.Size([8, 512, 2, 2, 2])'}\n",
      "torch.Size([8, 512, 2, 2, 2])'}\n",
      "torch.Size([8, 512, 2, 2, 2])'}\n",
      "torch.Size([8, 512, 2, 2, 2])'}\n",
      "torch.Size([8, 512, 2, 2, 2])'}\n",
      "torch.Size([1, 512, 2, 2, 2])'}\n",
      "torch.Size([8, 512, 2, 2, 2])'}\n",
      "torch.Size([8, 512, 2, 2, 2])\n",
      "torch.Size([8, 512, 2, 2, 2])\n",
      "torch.Size([7, 512, 2, 2, 2])\n"
     ]
    },
    {
     "name": "stderr",
     "output_type": "stream",
     "text": [
      "Metric loss/val improved by 0.003 >= min_delta = 0.0001. New best score: 1.090\n"
     ]
    },
    {
     "name": "stdout",
     "output_type": "stream",
     "text": [
      "torch.Size([8, 512, 2, 2, 2])\n",
      "torch.Size([8, 512, 2, 2, 2])'}\n",
      "torch.Size([8, 512, 2, 2, 2])'}\n",
      "torch.Size([8, 512, 2, 2, 2])9'}\n",
      "torch.Size([8, 512, 2, 2, 2])'}\n",
      "torch.Size([8, 512, 2, 2, 2])9'}\n",
      "torch.Size([8, 512, 2, 2, 2])'}\n",
      "torch.Size([8, 512, 2, 2, 2])'}\n",
      "torch.Size([8, 512, 2, 2, 2])'}\n",
      "torch.Size([8, 512, 2, 2, 2])'}\n",
      "torch.Size([8, 512, 2, 2, 2])1'}\n",
      "torch.Size([8, 512, 2, 2, 2])1'}\n",
      "torch.Size([8, 512, 2, 2, 2])1'}\n",
      "torch.Size([8, 512, 2, 2, 2])1'}\n",
      "torch.Size([8, 512, 2, 2, 2])1'}\n",
      "torch.Size([8, 512, 2, 2, 2])1'}\n",
      "torch.Size([8, 512, 2, 2, 2])1'}\n",
      "torch.Size([8, 512, 2, 2, 2])1'}\n",
      "torch.Size([8, 512, 2, 2, 2])1'}\n",
      "torch.Size([8, 512, 2, 2, 2])1'}\n",
      "torch.Size([8, 512, 2, 2, 2])1'}\n",
      "torch.Size([8, 512, 2, 2, 2])1'}\n",
      "torch.Size([8, 512, 2, 2, 2])1'}\n",
      "torch.Size([8, 512, 2, 2, 2])1'}\n",
      "torch.Size([8, 512, 2, 2, 2])1'}\n",
      "torch.Size([8, 512, 2, 2, 2])1'}\n",
      "torch.Size([8, 512, 2, 2, 2])1'}\n",
      "torch.Size([8, 512, 2, 2, 2])1'}\n",
      "torch.Size([8, 512, 2, 2, 2])1'}\n",
      "torch.Size([8, 512, 2, 2, 2])1'}\n",
      "torch.Size([8, 512, 2, 2, 2])1'}\n",
      "torch.Size([8, 512, 2, 2, 2])1'}\n",
      "torch.Size([8, 512, 2, 2, 2])1'}\n",
      "torch.Size([8, 512, 2, 2, 2])1'}\n",
      "torch.Size([1, 512, 2, 2, 2])1'}\n",
      "torch.Size([8, 512, 2, 2, 2])1'}\n",
      "torch.Size([8, 512, 2, 2, 2])\n",
      "torch.Size([8, 512, 2, 2, 2])\n",
      "torch.Size([7, 512, 2, 2, 2])\n"
     ]
    },
    {
     "name": "stderr",
     "output_type": "stream",
     "text": [
      "Metric loss/val improved by 0.001 >= min_delta = 0.0001. New best score: 1.088\n"
     ]
    },
    {
     "name": "stdout",
     "output_type": "stream",
     "text": [
      "torch.Size([8, 512, 2, 2, 2])\n",
      "torch.Size([8, 512, 2, 2, 2])'}\n",
      "torch.Size([8, 512, 2, 2, 2])'}\n",
      "torch.Size([8, 512, 2, 2, 2])'}\n",
      "torch.Size([8, 512, 2, 2, 2])'}\n",
      "torch.Size([8, 512, 2, 2, 2])'}\n",
      "torch.Size([8, 512, 2, 2, 2])'}\n",
      "torch.Size([8, 512, 2, 2, 2])'}\n",
      "torch.Size([8, 512, 2, 2, 2])'}\n",
      "torch.Size([8, 512, 2, 2, 2])'}\n",
      "torch.Size([8, 512, 2, 2, 2])1'}\n",
      "torch.Size([8, 512, 2, 2, 2])1'}\n",
      "torch.Size([8, 512, 2, 2, 2])1'}\n",
      "torch.Size([8, 512, 2, 2, 2])1'}\n",
      "torch.Size([8, 512, 2, 2, 2])1'}\n",
      "torch.Size([8, 512, 2, 2, 2])1'}\n",
      "torch.Size([8, 512, 2, 2, 2])1'}\n",
      "torch.Size([8, 512, 2, 2, 2])1'}\n",
      "torch.Size([8, 512, 2, 2, 2])1'}\n",
      "torch.Size([8, 512, 2, 2, 2])1'}\n",
      "torch.Size([8, 512, 2, 2, 2])09'}\n",
      "torch.Size([8, 512, 2, 2, 2])1'}\n",
      "torch.Size([8, 512, 2, 2, 2])1'}\n",
      "torch.Size([8, 512, 2, 2, 2])1'}\n",
      "torch.Size([8, 512, 2, 2, 2])1'}\n",
      "torch.Size([8, 512, 2, 2, 2])1'}\n",
      "torch.Size([8, 512, 2, 2, 2])1'}\n",
      "torch.Size([8, 512, 2, 2, 2])1'}\n",
      "torch.Size([8, 512, 2, 2, 2])1'}\n",
      "torch.Size([8, 512, 2, 2, 2])1'}\n",
      "torch.Size([8, 512, 2, 2, 2])1'}\n",
      "torch.Size([8, 512, 2, 2, 2])1'}\n",
      "torch.Size([8, 512, 2, 2, 2])1'}\n",
      "torch.Size([8, 512, 2, 2, 2])1'}\n",
      "torch.Size([1, 512, 2, 2, 2])1'}\n",
      "torch.Size([8, 512, 2, 2, 2])1'}\n",
      "torch.Size([8, 512, 2, 2, 2])\n",
      "torch.Size([8, 512, 2, 2, 2])\n",
      "torch.Size([7, 512, 2, 2, 2])\n",
      "torch.Size([8, 512, 2, 2, 2])\n",
      "torch.Size([8, 512, 2, 2, 2])'}\n",
      "torch.Size([8, 512, 2, 2, 2])'}\n",
      "torch.Size([8, 512, 2, 2, 2])'}\n",
      "torch.Size([8, 512, 2, 2, 2])'}\n",
      "torch.Size([8, 512, 2, 2, 2])'}\n",
      "torch.Size([8, 512, 2, 2, 2])'}\n",
      "torch.Size([8, 512, 2, 2, 2])'}\n",
      "torch.Size([8, 512, 2, 2, 2])'}\n",
      "torch.Size([8, 512, 2, 2, 2])'}\n",
      "torch.Size([8, 512, 2, 2, 2])1'}\n",
      "torch.Size([8, 512, 2, 2, 2])1'}\n",
      "torch.Size([8, 512, 2, 2, 2])1'}\n",
      "torch.Size([8, 512, 2, 2, 2])1'}\n",
      "torch.Size([8, 512, 2, 2, 2])1'}\n",
      "torch.Size([8, 512, 2, 2, 2])1'}\n",
      "torch.Size([8, 512, 2, 2, 2])1'}\n",
      "torch.Size([8, 512, 2, 2, 2])1'}\n",
      "torch.Size([8, 512, 2, 2, 2])1'}\n",
      "torch.Size([8, 512, 2, 2, 2])1'}\n",
      "torch.Size([8, 512, 2, 2, 2])1'}\n",
      "torch.Size([8, 512, 2, 2, 2])1'}\n",
      "torch.Size([8, 512, 2, 2, 2])1'}\n",
      "torch.Size([8, 512, 2, 2, 2])1'}\n",
      "torch.Size([8, 512, 2, 2, 2])1'}\n",
      "torch.Size([8, 512, 2, 2, 2])1'}\n",
      "torch.Size([8, 512, 2, 2, 2])1'}\n",
      "torch.Size([8, 512, 2, 2, 2])1'}\n",
      "torch.Size([8, 512, 2, 2, 2])1'}\n",
      "torch.Size([8, 512, 2, 2, 2])1'}\n",
      "torch.Size([8, 512, 2, 2, 2])1'}\n",
      "torch.Size([8, 512, 2, 2, 2])1'}\n",
      "torch.Size([8, 512, 2, 2, 2])1'}\n",
      "torch.Size([8, 512, 2, 2, 2])1'}\n",
      "torch.Size([1, 512, 2, 2, 2])1'}\n",
      "torch.Size([8, 512, 2, 2, 2])1'}\n",
      "torch.Size([8, 512, 2, 2, 2])\n",
      "torch.Size([8, 512, 2, 2, 2])\n",
      "torch.Size([7, 512, 2, 2, 2])\n",
      "torch.Size([8, 512, 2, 2, 2])\n",
      "torch.Size([8, 512, 2, 2, 2])'}\n",
      "torch.Size([8, 512, 2, 2, 2])'}\n",
      "torch.Size([8, 512, 2, 2, 2])'}\n",
      "torch.Size([8, 512, 2, 2, 2])'}\n",
      "torch.Size([8, 512, 2, 2, 2])'}\n",
      "torch.Size([8, 512, 2, 2, 2])9'}\n",
      "torch.Size([8, 512, 2, 2, 2])9'}\n",
      "torch.Size([8, 512, 2, 2, 2])9'}\n",
      "torch.Size([8, 512, 2, 2, 2])9'}\n",
      "torch.Size([8, 512, 2, 2, 2])09'}\n",
      "torch.Size([8, 512, 2, 2, 2])09'}\n",
      "torch.Size([8, 512, 2, 2, 2])09'}\n",
      "torch.Size([8, 512, 2, 2, 2])09'}\n",
      "torch.Size([8, 512, 2, 2, 2])09'}\n",
      "torch.Size([8, 512, 2, 2, 2])09'}\n",
      "torch.Size([8, 512, 2, 2, 2])09'}\n",
      "torch.Size([8, 512, 2, 2, 2])09'}\n",
      "torch.Size([8, 512, 2, 2, 2])1'}\n",
      "torch.Size([8, 512, 2, 2, 2])1'}\n",
      "torch.Size([8, 512, 2, 2, 2])1'}\n",
      "torch.Size([8, 512, 2, 2, 2])1'}\n",
      "torch.Size([8, 512, 2, 2, 2])1'}\n",
      "torch.Size([8, 512, 2, 2, 2])1'}\n",
      "torch.Size([8, 512, 2, 2, 2])1'}\n",
      "torch.Size([8, 512, 2, 2, 2])1'}\n",
      "torch.Size([8, 512, 2, 2, 2])1'}\n",
      "torch.Size([8, 512, 2, 2, 2])1'}\n",
      "torch.Size([8, 512, 2, 2, 2])1'}\n",
      "torch.Size([8, 512, 2, 2, 2])1'}\n",
      "torch.Size([8, 512, 2, 2, 2])1'}\n",
      "torch.Size([8, 512, 2, 2, 2])1'}\n",
      "torch.Size([8, 512, 2, 2, 2])1'}\n",
      "torch.Size([8, 512, 2, 2, 2])1'}\n",
      "torch.Size([1, 512, 2, 2, 2])1'}\n",
      "torch.Size([8, 512, 2, 2, 2])1'}\n",
      "torch.Size([8, 512, 2, 2, 2])\n",
      "torch.Size([8, 512, 2, 2, 2])\n",
      "torch.Size([7, 512, 2, 2, 2])\n"
     ]
    },
    {
     "name": "stderr",
     "output_type": "stream",
     "text": [
      "Metric loss/val improved by 0.001 >= min_delta = 0.0001. New best score: 1.087\n"
     ]
    },
    {
     "name": "stdout",
     "output_type": "stream",
     "text": [
      "torch.Size([8, 512, 2, 2, 2])\n",
      "torch.Size([8, 512, 2, 2, 2])'}\n",
      "torch.Size([8, 512, 2, 2, 2])'}\n",
      "torch.Size([8, 512, 2, 2, 2])'}\n",
      "torch.Size([8, 512, 2, 2, 2])'}\n",
      "torch.Size([8, 512, 2, 2, 2])'}\n",
      "torch.Size([8, 512, 2, 2, 2])'}\n",
      "torch.Size([8, 512, 2, 2, 2])'}\n",
      "torch.Size([8, 512, 2, 2, 2])'}\n",
      "torch.Size([8, 512, 2, 2, 2])'}\n",
      "torch.Size([8, 512, 2, 2, 2])1'}\n",
      "torch.Size([8, 512, 2, 2, 2])1'}\n",
      "torch.Size([8, 512, 2, 2, 2])09'}\n",
      "torch.Size([8, 512, 2, 2, 2])1'}\n",
      "torch.Size([8, 512, 2, 2, 2])1'}\n",
      "torch.Size([8, 512, 2, 2, 2])1'}\n",
      "torch.Size([8, 512, 2, 2, 2])1'}\n",
      "torch.Size([8, 512, 2, 2, 2])1'}\n",
      "torch.Size([8, 512, 2, 2, 2])09'}\n",
      "torch.Size([8, 512, 2, 2, 2])09'}\n",
      "torch.Size([8, 512, 2, 2, 2])1'}\n",
      "torch.Size([8, 512, 2, 2, 2])1'}\n",
      "torch.Size([8, 512, 2, 2, 2])1'}\n",
      "torch.Size([8, 512, 2, 2, 2])1'}\n",
      "torch.Size([8, 512, 2, 2, 2])1'}\n",
      "torch.Size([8, 512, 2, 2, 2])1'}\n",
      "torch.Size([8, 512, 2, 2, 2])1'}\n",
      "torch.Size([8, 512, 2, 2, 2])1'}\n",
      "torch.Size([8, 512, 2, 2, 2])1'}\n",
      "torch.Size([8, 512, 2, 2, 2])1'}\n",
      "torch.Size([8, 512, 2, 2, 2])1'}\n",
      "torch.Size([8, 512, 2, 2, 2])1'}\n",
      "torch.Size([8, 512, 2, 2, 2])1'}\n",
      "torch.Size([8, 512, 2, 2, 2])1'}\n",
      "torch.Size([1, 512, 2, 2, 2])1'}\n",
      "torch.Size([8, 512, 2, 2, 2])1'}\n",
      "torch.Size([8, 512, 2, 2, 2])\n",
      "torch.Size([8, 512, 2, 2, 2])\n",
      "torch.Size([7, 512, 2, 2, 2])\n"
     ]
    },
    {
     "name": "stderr",
     "output_type": "stream",
     "text": [
      "Metric loss/val improved by 0.000 >= min_delta = 0.0001. New best score: 1.087\n"
     ]
    },
    {
     "name": "stdout",
     "output_type": "stream",
     "text": [
      "torch.Size([8, 512, 2, 2, 2])\n",
      "torch.Size([8, 512, 2, 2, 2])'}\n",
      "torch.Size([8, 512, 2, 2, 2])'}\n",
      "torch.Size([8, 512, 2, 2, 2])'}\n",
      "torch.Size([8, 512, 2, 2, 2])'}\n",
      "torch.Size([8, 512, 2, 2, 2])'}\n",
      "torch.Size([8, 512, 2, 2, 2])'}\n",
      "torch.Size([8, 512, 2, 2, 2])'}\n",
      "torch.Size([8, 512, 2, 2, 2])9'}\n",
      "torch.Size([8, 512, 2, 2, 2])9'}\n",
      "torch.Size([8, 512, 2, 2, 2])09'}\n",
      "torch.Size([8, 512, 2, 2, 2])09'}\n",
      "torch.Size([8, 512, 2, 2, 2])09'}\n",
      "torch.Size([8, 512, 2, 2, 2])09'}\n",
      "torch.Size([8, 512, 2, 2, 2])09'}\n",
      "torch.Size([8, 512, 2, 2, 2])1'}\n",
      "torch.Size([8, 512, 2, 2, 2])1'}\n",
      "torch.Size([8, 512, 2, 2, 2])1'}\n",
      "torch.Size([8, 512, 2, 2, 2])1'}\n",
      "torch.Size([8, 512, 2, 2, 2])1'}\n",
      "torch.Size([8, 512, 2, 2, 2])1'}\n",
      "torch.Size([8, 512, 2, 2, 2])1'}\n",
      "torch.Size([8, 512, 2, 2, 2])1'}\n",
      "torch.Size([8, 512, 2, 2, 2])1'}\n",
      "torch.Size([8, 512, 2, 2, 2])1'}\n",
      "torch.Size([8, 512, 2, 2, 2])1'}\n",
      "torch.Size([8, 512, 2, 2, 2])1'}\n",
      "torch.Size([8, 512, 2, 2, 2])1'}\n",
      "torch.Size([8, 512, 2, 2, 2])1'}\n",
      "torch.Size([8, 512, 2, 2, 2])1'}\n",
      "torch.Size([8, 512, 2, 2, 2])1'}\n",
      "torch.Size([8, 512, 2, 2, 2])1'}\n",
      "torch.Size([8, 512, 2, 2, 2])1'}\n",
      "torch.Size([8, 512, 2, 2, 2])1'}\n",
      "torch.Size([1, 512, 2, 2, 2])1'}\n",
      "torch.Size([8, 512, 2, 2, 2])1'}\n",
      "torch.Size([8, 512, 2, 2, 2])\n",
      "torch.Size([8, 512, 2, 2, 2])\n",
      "torch.Size([7, 512, 2, 2, 2])\n"
     ]
    },
    {
     "name": "stderr",
     "output_type": "stream",
     "text": [
      "Metric loss/val improved by 0.003 >= min_delta = 0.0001. New best score: 1.084\n"
     ]
    },
    {
     "name": "stdout",
     "output_type": "stream",
     "text": [
      "torch.Size([8, 512, 2, 2, 2])\n",
      "torch.Size([8, 512, 2, 2, 2])'}\n",
      "torch.Size([8, 512, 2, 2, 2])'}\n",
      "torch.Size([8, 512, 2, 2, 2])'}\n",
      "torch.Size([8, 512, 2, 2, 2])'}\n",
      "torch.Size([8, 512, 2, 2, 2])'}\n",
      "torch.Size([8, 512, 2, 2, 2])'}\n",
      "torch.Size([8, 512, 2, 2, 2])'}\n",
      "torch.Size([8, 512, 2, 2, 2])'}\n",
      "torch.Size([8, 512, 2, 2, 2])'}\n",
      "torch.Size([8, 512, 2, 2, 2])11'}\n",
      "torch.Size([8, 512, 2, 2, 2])11'}\n",
      "torch.Size([8, 512, 2, 2, 2])11'}\n",
      "torch.Size([8, 512, 2, 2, 2])11'}\n",
      "torch.Size([8, 512, 2, 2, 2])11'}\n",
      "torch.Size([8, 512, 2, 2, 2])1'}\n",
      "torch.Size([8, 512, 2, 2, 2])1'}\n",
      "torch.Size([8, 512, 2, 2, 2])1'}\n",
      "torch.Size([8, 512, 2, 2, 2])1'}\n",
      "torch.Size([8, 512, 2, 2, 2])1'}\n",
      "torch.Size([8, 512, 2, 2, 2])1'}\n",
      "torch.Size([8, 512, 2, 2, 2])1'}\n",
      "torch.Size([8, 512, 2, 2, 2])1'}\n",
      "torch.Size([8, 512, 2, 2, 2])1'}\n",
      "torch.Size([8, 512, 2, 2, 2])1'}\n",
      "torch.Size([8, 512, 2, 2, 2])1'}\n",
      "torch.Size([8, 512, 2, 2, 2])1'}\n",
      "torch.Size([8, 512, 2, 2, 2])1'}\n",
      "torch.Size([8, 512, 2, 2, 2])1'}\n",
      "torch.Size([8, 512, 2, 2, 2])1'}\n",
      "torch.Size([8, 512, 2, 2, 2])1'}\n",
      "torch.Size([8, 512, 2, 2, 2])1'}\n",
      "torch.Size([8, 512, 2, 2, 2])1'}\n",
      "torch.Size([8, 512, 2, 2, 2])1'}\n",
      "torch.Size([1, 512, 2, 2, 2])1'}\n",
      "torch.Size([8, 512, 2, 2, 2])1'}\n",
      "torch.Size([8, 512, 2, 2, 2])\n",
      "torch.Size([8, 512, 2, 2, 2])\n",
      "torch.Size([7, 512, 2, 2, 2])\n",
      "torch.Size([8, 512, 2, 2, 2])\n",
      "torch.Size([8, 512, 2, 2, 2])'}\n",
      "torch.Size([8, 512, 2, 2, 2])'}\n",
      "torch.Size([8, 512, 2, 2, 2])'}\n",
      "torch.Size([8, 512, 2, 2, 2])'}\n",
      "torch.Size([8, 512, 2, 2, 2])'}\n",
      "torch.Size([8, 512, 2, 2, 2])'}\n",
      "torch.Size([8, 512, 2, 2, 2])'}\n",
      "torch.Size([8, 512, 2, 2, 2])'}\n",
      "torch.Size([8, 512, 2, 2, 2])'}\n",
      "torch.Size([8, 512, 2, 2, 2])1'}\n",
      "torch.Size([8, 512, 2, 2, 2])1'}\n",
      "torch.Size([8, 512, 2, 2, 2])1'}\n",
      "torch.Size([8, 512, 2, 2, 2])1'}\n",
      "torch.Size([8, 512, 2, 2, 2])1'}\n",
      "torch.Size([8, 512, 2, 2, 2])1'}\n",
      "torch.Size([8, 512, 2, 2, 2])1'}\n",
      "torch.Size([8, 512, 2, 2, 2])1'}\n",
      "torch.Size([8, 512, 2, 2, 2])1'}\n",
      "torch.Size([8, 512, 2, 2, 2])1'}\n",
      "torch.Size([8, 512, 2, 2, 2])1'}\n",
      "torch.Size([8, 512, 2, 2, 2])1'}\n",
      "torch.Size([8, 512, 2, 2, 2])1'}\n",
      "torch.Size([8, 512, 2, 2, 2])1'}\n",
      "torch.Size([8, 512, 2, 2, 2])1'}\n",
      "torch.Size([8, 512, 2, 2, 2])1'}\n",
      "torch.Size([8, 512, 2, 2, 2])1'}\n",
      "torch.Size([8, 512, 2, 2, 2])1'}\n",
      "torch.Size([8, 512, 2, 2, 2])1'}\n",
      "torch.Size([8, 512, 2, 2, 2])1'}\n",
      "torch.Size([8, 512, 2, 2, 2])1'}\n",
      "torch.Size([8, 512, 2, 2, 2])1'}\n",
      "torch.Size([8, 512, 2, 2, 2])1'}\n",
      "torch.Size([8, 512, 2, 2, 2])1'}\n",
      "torch.Size([1, 512, 2, 2, 2])1'}\n",
      "torch.Size([8, 512, 2, 2, 2])09'}\n",
      "torch.Size([8, 512, 2, 2, 2])\n",
      "torch.Size([8, 512, 2, 2, 2])\n",
      "torch.Size([7, 512, 2, 2, 2])\n",
      "torch.Size([8, 512, 2, 2, 2])\n",
      "torch.Size([8, 512, 2, 2, 2])9'}\n",
      "torch.Size([8, 512, 2, 2, 2])9'}\n",
      "torch.Size([8, 512, 2, 2, 2])9'}\n",
      "torch.Size([8, 512, 2, 2, 2])9'}\n",
      "torch.Size([8, 512, 2, 2, 2])9'}\n",
      "torch.Size([8, 512, 2, 2, 2])9'}\n",
      "torch.Size([8, 512, 2, 2, 2])9'}\n",
      "torch.Size([8, 512, 2, 2, 2])9'}\n",
      "torch.Size([8, 512, 2, 2, 2])9'}\n",
      "torch.Size([8, 512, 2, 2, 2])09'}\n",
      "torch.Size([8, 512, 2, 2, 2])09'}\n",
      "torch.Size([8, 512, 2, 2, 2])09'}\n",
      "torch.Size([8, 512, 2, 2, 2])1'}\n",
      "torch.Size([8, 512, 2, 2, 2])1'}\n",
      "torch.Size([8, 512, 2, 2, 2])1'}\n",
      "torch.Size([8, 512, 2, 2, 2])1'}\n",
      "torch.Size([8, 512, 2, 2, 2])1'}\n",
      "torch.Size([8, 512, 2, 2, 2])1'}\n",
      "torch.Size([8, 512, 2, 2, 2])1'}\n",
      "torch.Size([8, 512, 2, 2, 2])1'}\n",
      "torch.Size([8, 512, 2, 2, 2])1'}\n",
      "torch.Size([8, 512, 2, 2, 2])1'}\n",
      "torch.Size([8, 512, 2, 2, 2])1'}\n",
      "torch.Size([8, 512, 2, 2, 2])1'}\n",
      "torch.Size([8, 512, 2, 2, 2])1'}\n",
      "torch.Size([8, 512, 2, 2, 2])1'}\n",
      "torch.Size([8, 512, 2, 2, 2])1'}\n",
      "torch.Size([8, 512, 2, 2, 2])1'}\n",
      "torch.Size([8, 512, 2, 2, 2])1'}\n",
      "torch.Size([8, 512, 2, 2, 2])1'}\n",
      "torch.Size([8, 512, 2, 2, 2])1'}\n",
      "torch.Size([8, 512, 2, 2, 2])1'}\n",
      "torch.Size([8, 512, 2, 2, 2])1'}\n",
      "torch.Size([1, 512, 2, 2, 2])1'}\n",
      "torch.Size([8, 512, 2, 2, 2])1'}\n",
      "torch.Size([8, 512, 2, 2, 2])\n",
      "torch.Size([8, 512, 2, 2, 2])\n",
      "torch.Size([7, 512, 2, 2, 2])\n",
      "torch.Size([8, 512, 2, 2, 2])\n",
      "torch.Size([8, 512, 2, 2, 2])'}\n",
      "torch.Size([8, 512, 2, 2, 2])'}\n",
      "torch.Size([8, 512, 2, 2, 2])'}\n",
      "torch.Size([8, 512, 2, 2, 2])'}\n",
      "torch.Size([8, 512, 2, 2, 2])'}\n",
      "torch.Size([8, 512, 2, 2, 2])'}\n",
      "torch.Size([8, 512, 2, 2, 2])'}\n",
      "torch.Size([8, 512, 2, 2, 2])'}\n",
      "torch.Size([8, 512, 2, 2, 2])'}\n",
      "torch.Size([8, 512, 2, 2, 2])1'}\n",
      "torch.Size([8, 512, 2, 2, 2])1'}\n",
      "torch.Size([8, 512, 2, 2, 2])1'}\n",
      "torch.Size([8, 512, 2, 2, 2])09'}\n",
      "torch.Size([8, 512, 2, 2, 2])09'}\n",
      "torch.Size([8, 512, 2, 2, 2])09'}\n",
      "torch.Size([8, 512, 2, 2, 2])09'}\n",
      "torch.Size([8, 512, 2, 2, 2])09'}\n",
      "torch.Size([8, 512, 2, 2, 2])09'}\n",
      "torch.Size([8, 512, 2, 2, 2])09'}\n",
      "torch.Size([8, 512, 2, 2, 2])1'}\n",
      "torch.Size([8, 512, 2, 2, 2])1'}\n",
      "torch.Size([8, 512, 2, 2, 2])1'}\n",
      "torch.Size([8, 512, 2, 2, 2])1'}\n",
      "torch.Size([8, 512, 2, 2, 2])1'}\n",
      "torch.Size([8, 512, 2, 2, 2])1'}\n",
      "torch.Size([8, 512, 2, 2, 2])1'}\n",
      "torch.Size([8, 512, 2, 2, 2])1'}\n",
      "torch.Size([8, 512, 2, 2, 2])1'}\n",
      "torch.Size([8, 512, 2, 2, 2])1'}\n",
      "torch.Size([8, 512, 2, 2, 2])1'}\n",
      "torch.Size([8, 512, 2, 2, 2])1'}\n",
      "torch.Size([8, 512, 2, 2, 2])1'}\n",
      "torch.Size([8, 512, 2, 2, 2])1'}\n",
      "torch.Size([1, 512, 2, 2, 2])1'}\n",
      "torch.Size([8, 512, 2, 2, 2])1'}\n",
      "torch.Size([8, 512, 2, 2, 2])\n",
      "torch.Size([8, 512, 2, 2, 2])\n",
      "torch.Size([7, 512, 2, 2, 2])\n",
      "torch.Size([8, 512, 2, 2, 2])\n",
      "torch.Size([8, 512, 2, 2, 2])'}\n",
      "torch.Size([8, 512, 2, 2, 2])'}\n",
      "torch.Size([8, 512, 2, 2, 2])'}\n",
      "torch.Size([8, 512, 2, 2, 2])'}\n",
      "torch.Size([8, 512, 2, 2, 2])'}\n",
      "torch.Size([8, 512, 2, 2, 2])'}\n",
      "torch.Size([8, 512, 2, 2, 2])'}\n",
      "torch.Size([8, 512, 2, 2, 2])'}\n",
      "torch.Size([8, 512, 2, 2, 2])'}\n",
      "torch.Size([8, 512, 2, 2, 2])1'}\n",
      "torch.Size([8, 512, 2, 2, 2])1'}\n",
      "torch.Size([8, 512, 2, 2, 2])1'}\n",
      "torch.Size([8, 512, 2, 2, 2])1'}\n",
      "torch.Size([8, 512, 2, 2, 2])1'}\n",
      "torch.Size([8, 512, 2, 2, 2])1'}\n",
      "torch.Size([8, 512, 2, 2, 2])1'}\n",
      "torch.Size([8, 512, 2, 2, 2])1'}\n",
      "torch.Size([8, 512, 2, 2, 2])1'}\n",
      "torch.Size([8, 512, 2, 2, 2])1'}\n",
      "torch.Size([8, 512, 2, 2, 2])1'}\n",
      "torch.Size([8, 512, 2, 2, 2])1'}\n",
      "torch.Size([8, 512, 2, 2, 2])1'}\n",
      "torch.Size([8, 512, 2, 2, 2])1'}\n",
      "torch.Size([8, 512, 2, 2, 2])1'}\n",
      "torch.Size([8, 512, 2, 2, 2])1'}\n",
      "torch.Size([8, 512, 2, 2, 2])1'}\n",
      "torch.Size([8, 512, 2, 2, 2])1'}\n",
      "torch.Size([8, 512, 2, 2, 2])1'}\n",
      "torch.Size([8, 512, 2, 2, 2])1'}\n",
      "torch.Size([8, 512, 2, 2, 2])1'}\n",
      "torch.Size([8, 512, 2, 2, 2])1'}\n",
      "torch.Size([8, 512, 2, 2, 2])1'}\n",
      "torch.Size([8, 512, 2, 2, 2])09'}\n",
      "torch.Size([1, 512, 2, 2, 2])09'}\n",
      "torch.Size([8, 512, 2, 2, 2])09'}\n",
      "torch.Size([8, 512, 2, 2, 2])\n",
      "torch.Size([8, 512, 2, 2, 2])\n",
      "torch.Size([7, 512, 2, 2, 2])\n",
      "torch.Size([8, 512, 2, 2, 2])\n",
      "torch.Size([8, 512, 2, 2, 2])9'}\n",
      "torch.Size([8, 512, 2, 2, 2])9'}\n",
      "torch.Size([8, 512, 2, 2, 2])9'}\n",
      "torch.Size([8, 512, 2, 2, 2])9'}\n",
      "torch.Size([8, 512, 2, 2, 2])9'}\n",
      "torch.Size([8, 512, 2, 2, 2])9'}\n",
      "torch.Size([8, 512, 2, 2, 2])9'}\n",
      "torch.Size([8, 512, 2, 2, 2])9'}\n",
      "torch.Size([8, 512, 2, 2, 2])9'}\n",
      "torch.Size([8, 512, 2, 2, 2])09'}\n",
      "torch.Size([8, 512, 2, 2, 2])09'}\n",
      "torch.Size([8, 512, 2, 2, 2])09'}\n",
      "torch.Size([8, 512, 2, 2, 2])09'}\n",
      "torch.Size([8, 512, 2, 2, 2])09'}\n",
      "torch.Size([8, 512, 2, 2, 2])09'}\n",
      "torch.Size([8, 512, 2, 2, 2])09'}\n",
      "torch.Size([8, 512, 2, 2, 2])1'}\n",
      "torch.Size([8, 512, 2, 2, 2])1'}\n",
      "torch.Size([8, 512, 2, 2, 2])1'}\n",
      "torch.Size([8, 512, 2, 2, 2])1'}\n",
      "torch.Size([8, 512, 2, 2, 2])1'}\n",
      "torch.Size([8, 512, 2, 2, 2])1'}\n",
      "torch.Size([8, 512, 2, 2, 2])1'}\n",
      "torch.Size([8, 512, 2, 2, 2])1'}\n",
      "torch.Size([8, 512, 2, 2, 2])09'}\n",
      "torch.Size([8, 512, 2, 2, 2])1'}\n",
      "torch.Size([8, 512, 2, 2, 2])1'}\n",
      "torch.Size([8, 512, 2, 2, 2])09'}\n",
      "torch.Size([8, 512, 2, 2, 2])09'}\n",
      "torch.Size([8, 512, 2, 2, 2])09'}\n",
      "torch.Size([8, 512, 2, 2, 2])09'}\n",
      "torch.Size([8, 512, 2, 2, 2])09'}\n",
      "torch.Size([8, 512, 2, 2, 2])09'}\n",
      "torch.Size([1, 512, 2, 2, 2])1'}\n",
      "torch.Size([8, 512, 2, 2, 2])1'}\n",
      "torch.Size([8, 512, 2, 2, 2])\n",
      "torch.Size([8, 512, 2, 2, 2])\n",
      "torch.Size([7, 512, 2, 2, 2])\n"
     ]
    },
    {
     "name": "stderr",
     "output_type": "stream",
     "text": [
      "Metric loss/val improved by 0.003 >= min_delta = 0.0001. New best score: 1.081\n"
     ]
    },
    {
     "name": "stdout",
     "output_type": "stream",
     "text": [
      "torch.Size([8, 512, 2, 2, 2])\n",
      "torch.Size([8, 512, 2, 2, 2])'}\n",
      "torch.Size([8, 512, 2, 2, 2])'}\n",
      "torch.Size([8, 512, 2, 2, 2])9'}\n",
      "torch.Size([8, 512, 2, 2, 2])'}\n",
      "torch.Size([8, 512, 2, 2, 2])'}\n",
      "torch.Size([8, 512, 2, 2, 2])'}\n",
      "torch.Size([8, 512, 2, 2, 2])'}\n",
      "torch.Size([8, 512, 2, 2, 2])'}\n",
      "torch.Size([8, 512, 2, 2, 2])1'}\n",
      "torch.Size([8, 512, 2, 2, 2])1'}\n",
      "torch.Size([8, 512, 2, 2, 2])1'}\n",
      "torch.Size([8, 512, 2, 2, 2])1'}\n",
      "torch.Size([8, 512, 2, 2, 2])1'}\n",
      "torch.Size([8, 512, 2, 2, 2])1'}\n",
      "torch.Size([8, 512, 2, 2, 2])1'}\n",
      "torch.Size([8, 512, 2, 2, 2])1'}\n",
      "torch.Size([8, 512, 2, 2, 2])1'}\n",
      "torch.Size([8, 512, 2, 2, 2])1'}\n",
      "torch.Size([8, 512, 2, 2, 2])1'}\n",
      "torch.Size([8, 512, 2, 2, 2])1'}\n",
      "torch.Size([8, 512, 2, 2, 2])1'}\n",
      "torch.Size([8, 512, 2, 2, 2])1'}\n",
      "torch.Size([8, 512, 2, 2, 2])1'}\n",
      "torch.Size([8, 512, 2, 2, 2])1'}\n",
      "torch.Size([8, 512, 2, 2, 2])09'}\n",
      "torch.Size([8, 512, 2, 2, 2])09'}\n",
      "torch.Size([8, 512, 2, 2, 2])09'}\n",
      "torch.Size([8, 512, 2, 2, 2])09'}\n",
      "torch.Size([8, 512, 2, 2, 2])09'}\n",
      "torch.Size([8, 512, 2, 2, 2])09'}\n",
      "torch.Size([8, 512, 2, 2, 2])1'}\n",
      "torch.Size([8, 512, 2, 2, 2])1'}\n",
      "torch.Size([8, 512, 2, 2, 2])1'}\n",
      "torch.Size([1, 512, 2, 2, 2])1'}\n",
      "torch.Size([8, 512, 2, 2, 2])1'}\n",
      "torch.Size([8, 512, 2, 2, 2])\n",
      "torch.Size([8, 512, 2, 2, 2])\n",
      "torch.Size([7, 512, 2, 2, 2])\n",
      "torch.Size([8, 512, 2, 2, 2])\n",
      "torch.Size([8, 512, 2, 2, 2])'}\n",
      "torch.Size([8, 512, 2, 2, 2])'}\n",
      "torch.Size([8, 512, 2, 2, 2])'}\n",
      "torch.Size([8, 512, 2, 2, 2])'}\n",
      "torch.Size([8, 512, 2, 2, 2])'}\n",
      "torch.Size([8, 512, 2, 2, 2])'}\n",
      "torch.Size([8, 512, 2, 2, 2])'}\n",
      "torch.Size([8, 512, 2, 2, 2])'}\n",
      "torch.Size([8, 512, 2, 2, 2])'}\n",
      "torch.Size([8, 512, 2, 2, 2])1'}\n",
      "torch.Size([8, 512, 2, 2, 2])09'}\n",
      "torch.Size([8, 512, 2, 2, 2])1'}\n",
      "torch.Size([8, 512, 2, 2, 2])09'}\n",
      "torch.Size([8, 512, 2, 2, 2])1'}\n",
      "torch.Size([8, 512, 2, 2, 2])1'}\n",
      "torch.Size([8, 512, 2, 2, 2])1'}\n",
      "torch.Size([8, 512, 2, 2, 2])1'}\n",
      "torch.Size([8, 512, 2, 2, 2])1'}\n",
      "torch.Size([8, 512, 2, 2, 2])1'}\n",
      "torch.Size([8, 512, 2, 2, 2])1'}\n",
      "torch.Size([8, 512, 2, 2, 2])1'}\n",
      "torch.Size([8, 512, 2, 2, 2])1'}\n",
      "torch.Size([8, 512, 2, 2, 2])1'}\n",
      "torch.Size([8, 512, 2, 2, 2])1'}\n",
      "torch.Size([8, 512, 2, 2, 2])1'}\n",
      "torch.Size([8, 512, 2, 2, 2])1'}\n",
      "torch.Size([8, 512, 2, 2, 2])1'}\n",
      "torch.Size([8, 512, 2, 2, 2])1'}\n",
      "torch.Size([8, 512, 2, 2, 2])1'}\n",
      "torch.Size([8, 512, 2, 2, 2])1'}\n",
      "torch.Size([8, 512, 2, 2, 2])1'}\n",
      "torch.Size([8, 512, 2, 2, 2])1'}\n",
      "torch.Size([8, 512, 2, 2, 2])1'}\n",
      "torch.Size([1, 512, 2, 2, 2])1'}\n",
      "torch.Size([8, 512, 2, 2, 2])1'}\n",
      "torch.Size([8, 512, 2, 2, 2])\n",
      "torch.Size([8, 512, 2, 2, 2])\n",
      "torch.Size([7, 512, 2, 2, 2])\n",
      "torch.Size([8, 512, 2, 2, 2])\n",
      "torch.Size([8, 512, 2, 2, 2])'}\n",
      "torch.Size([8, 512, 2, 2, 2])'}\n",
      "torch.Size([8, 512, 2, 2, 2])'}\n",
      "torch.Size([8, 512, 2, 2, 2])'}\n",
      "torch.Size([8, 512, 2, 2, 2])'}\n",
      "torch.Size([8, 512, 2, 2, 2])'}\n",
      "torch.Size([8, 512, 2, 2, 2])'}\n",
      "torch.Size([8, 512, 2, 2, 2])'}\n",
      "torch.Size([8, 512, 2, 2, 2])'}\n",
      "torch.Size([8, 512, 2, 2, 2])1'}\n",
      "torch.Size([8, 512, 2, 2, 2])1'}\n",
      "torch.Size([8, 512, 2, 2, 2])1'}\n",
      "torch.Size([8, 512, 2, 2, 2])1'}\n",
      "torch.Size([8, 512, 2, 2, 2])1'}\n",
      "torch.Size([8, 512, 2, 2, 2])1'}\n",
      "torch.Size([8, 512, 2, 2, 2])1'}\n",
      "torch.Size([8, 512, 2, 2, 2])1'}\n",
      "torch.Size([8, 512, 2, 2, 2])1'}\n",
      "torch.Size([8, 512, 2, 2, 2])1'}\n",
      "torch.Size([8, 512, 2, 2, 2])1'}\n",
      "torch.Size([8, 512, 2, 2, 2])1'}\n",
      "torch.Size([8, 512, 2, 2, 2])1'}\n",
      "torch.Size([8, 512, 2, 2, 2])1'}\n",
      "torch.Size([8, 512, 2, 2, 2])1'}\n",
      "torch.Size([8, 512, 2, 2, 2])1'}\n",
      "torch.Size([8, 512, 2, 2, 2])1'}\n",
      "torch.Size([8, 512, 2, 2, 2])1'}\n",
      "torch.Size([8, 512, 2, 2, 2])1'}\n",
      "torch.Size([8, 512, 2, 2, 2])1'}\n",
      "torch.Size([8, 512, 2, 2, 2])1'}\n",
      "torch.Size([8, 512, 2, 2, 2])1'}\n",
      "torch.Size([8, 512, 2, 2, 2])1'}\n",
      "torch.Size([8, 512, 2, 2, 2])1'}\n",
      "torch.Size([1, 512, 2, 2, 2])1'}\n",
      "torch.Size([8, 512, 2, 2, 2])1'}\n",
      "torch.Size([8, 512, 2, 2, 2])\n",
      "torch.Size([8, 512, 2, 2, 2])\n",
      "torch.Size([7, 512, 2, 2, 2])\n",
      "torch.Size([8, 512, 2, 2, 2])\n",
      "torch.Size([8, 512, 2, 2, 2])'}\n",
      "torch.Size([8, 512, 2, 2, 2])'}\n",
      "torch.Size([8, 512, 2, 2, 2])'}\n",
      "torch.Size([8, 512, 2, 2, 2])'}\n",
      "torch.Size([8, 512, 2, 2, 2])'}\n",
      "torch.Size([8, 512, 2, 2, 2])'}\n",
      "torch.Size([8, 512, 2, 2, 2])'}\n",
      "torch.Size([8, 512, 2, 2, 2])'}\n",
      "torch.Size([8, 512, 2, 2, 2])'}\n",
      "torch.Size([8, 512, 2, 2, 2])1'}\n",
      "torch.Size([8, 512, 2, 2, 2])1'}\n",
      "torch.Size([8, 512, 2, 2, 2])1'}\n",
      "torch.Size([8, 512, 2, 2, 2])1'}\n",
      "torch.Size([8, 512, 2, 2, 2])1'}\n",
      "torch.Size([8, 512, 2, 2, 2])1'}\n",
      "torch.Size([8, 512, 2, 2, 2])1'}\n",
      "torch.Size([8, 512, 2, 2, 2])1'}\n",
      "torch.Size([8, 512, 2, 2, 2])1'}\n",
      "torch.Size([8, 512, 2, 2, 2])1'}\n",
      "torch.Size([8, 512, 2, 2, 2])1'}\n",
      "torch.Size([8, 512, 2, 2, 2])1'}\n",
      "torch.Size([8, 512, 2, 2, 2])1'}\n",
      "torch.Size([8, 512, 2, 2, 2])1'}\n",
      "torch.Size([8, 512, 2, 2, 2])1'}\n",
      "torch.Size([8, 512, 2, 2, 2])09'}\n",
      "torch.Size([8, 512, 2, 2, 2])1'}\n",
      "torch.Size([8, 512, 2, 2, 2])1'}\n",
      "torch.Size([8, 512, 2, 2, 2])1'}\n",
      "torch.Size([8, 512, 2, 2, 2])1'}\n",
      "torch.Size([8, 512, 2, 2, 2])1'}\n",
      "torch.Size([8, 512, 2, 2, 2])1'}\n",
      "torch.Size([8, 512, 2, 2, 2])1'}\n",
      "torch.Size([8, 512, 2, 2, 2])1'}\n",
      "torch.Size([1, 512, 2, 2, 2])1'}\n",
      "torch.Size([8, 512, 2, 2, 2])1'}\n",
      "torch.Size([8, 512, 2, 2, 2])\n",
      "torch.Size([8, 512, 2, 2, 2])\n",
      "torch.Size([7, 512, 2, 2, 2])\n",
      "torch.Size([8, 512, 2, 2, 2])\n",
      "torch.Size([8, 512, 2, 2, 2])'}\n",
      "torch.Size([8, 512, 2, 2, 2])'}\n",
      "torch.Size([8, 512, 2, 2, 2])'}\n",
      "torch.Size([8, 512, 2, 2, 2])'}\n",
      "torch.Size([8, 512, 2, 2, 2])'}\n",
      "torch.Size([8, 512, 2, 2, 2])'}\n",
      "torch.Size([8, 512, 2, 2, 2])'}\n",
      "torch.Size([8, 512, 2, 2, 2])'}\n",
      "torch.Size([8, 512, 2, 2, 2])'}\n",
      "torch.Size([8, 512, 2, 2, 2])1'}\n",
      "torch.Size([8, 512, 2, 2, 2])1'}\n",
      "torch.Size([8, 512, 2, 2, 2])1'}\n",
      "torch.Size([8, 512, 2, 2, 2])1'}\n",
      "torch.Size([8, 512, 2, 2, 2])1'}\n",
      "torch.Size([8, 512, 2, 2, 2])1'}\n",
      "torch.Size([8, 512, 2, 2, 2])1'}\n",
      "torch.Size([8, 512, 2, 2, 2])09'}\n",
      "torch.Size([8, 512, 2, 2, 2])09'}\n",
      "torch.Size([8, 512, 2, 2, 2])1'}\n",
      "torch.Size([8, 512, 2, 2, 2])09'}\n",
      "torch.Size([8, 512, 2, 2, 2])1'}\n",
      "torch.Size([8, 512, 2, 2, 2])1'}\n",
      "torch.Size([8, 512, 2, 2, 2])1'}\n",
      "torch.Size([8, 512, 2, 2, 2])1'}\n",
      "torch.Size([8, 512, 2, 2, 2])1'}\n",
      "torch.Size([8, 512, 2, 2, 2])1'}\n",
      "torch.Size([8, 512, 2, 2, 2])1'}\n",
      "torch.Size([8, 512, 2, 2, 2])1'}\n",
      "torch.Size([8, 512, 2, 2, 2])1'}\n",
      "torch.Size([8, 512, 2, 2, 2])1'}\n",
      "torch.Size([8, 512, 2, 2, 2])1'}\n",
      "torch.Size([8, 512, 2, 2, 2])1'}\n",
      "torch.Size([8, 512, 2, 2, 2])1'}\n",
      "torch.Size([1, 512, 2, 2, 2])1'}\n",
      "torch.Size([8, 512, 2, 2, 2])1'}\n",
      "torch.Size([8, 512, 2, 2, 2])\n",
      "torch.Size([8, 512, 2, 2, 2])\n",
      "torch.Size([7, 512, 2, 2, 2])\n",
      "torch.Size([8, 512, 2, 2, 2])\n",
      "torch.Size([8, 512, 2, 2, 2])'}\n",
      "torch.Size([8, 512, 2, 2, 2])'}\n",
      "torch.Size([8, 512, 2, 2, 2])'}\n",
      "torch.Size([8, 512, 2, 2, 2])'}\n",
      "torch.Size([8, 512, 2, 2, 2])'}\n",
      "torch.Size([8, 512, 2, 2, 2])'}\n",
      "torch.Size([8, 512, 2, 2, 2])'}\n",
      "torch.Size([8, 512, 2, 2, 2])'}\n",
      "torch.Size([8, 512, 2, 2, 2])'}\n",
      "torch.Size([8, 512, 2, 2, 2])1'}\n",
      "torch.Size([8, 512, 2, 2, 2])1'}\n",
      "torch.Size([8, 512, 2, 2, 2])1'}\n",
      "torch.Size([8, 512, 2, 2, 2])1'}\n",
      "torch.Size([8, 512, 2, 2, 2])1'}\n",
      "torch.Size([8, 512, 2, 2, 2])1'}\n",
      "torch.Size([8, 512, 2, 2, 2])1'}\n",
      "torch.Size([8, 512, 2, 2, 2])1'}\n",
      "torch.Size([8, 512, 2, 2, 2])1'}\n",
      "torch.Size([8, 512, 2, 2, 2])1'}\n",
      "torch.Size([8, 512, 2, 2, 2])1'}\n",
      "torch.Size([8, 512, 2, 2, 2])1'}\n",
      "torch.Size([8, 512, 2, 2, 2])1'}\n",
      "torch.Size([8, 512, 2, 2, 2])1'}\n",
      "torch.Size([8, 512, 2, 2, 2])1'}\n",
      "torch.Size([8, 512, 2, 2, 2])1'}\n",
      "torch.Size([8, 512, 2, 2, 2])1'}\n",
      "torch.Size([8, 512, 2, 2, 2])1'}\n",
      "torch.Size([8, 512, 2, 2, 2])1'}\n",
      "torch.Size([8, 512, 2, 2, 2])1'}\n",
      "torch.Size([8, 512, 2, 2, 2])1'}\n",
      "torch.Size([8, 512, 2, 2, 2])1'}\n",
      "torch.Size([8, 512, 2, 2, 2])1'}\n",
      "torch.Size([8, 512, 2, 2, 2])1'}\n",
      "torch.Size([1, 512, 2, 2, 2])1'}\n",
      "torch.Size([8, 512, 2, 2, 2])1'}\n",
      "torch.Size([8, 512, 2, 2, 2])\n",
      "torch.Size([8, 512, 2, 2, 2])\n",
      "torch.Size([7, 512, 2, 2, 2])\n",
      "torch.Size([8, 512, 2, 2, 2])\n",
      "torch.Size([8, 512, 2, 2, 2])'}\n",
      "torch.Size([8, 512, 2, 2, 2])'}\n",
      "torch.Size([8, 512, 2, 2, 2])'}\n",
      "torch.Size([8, 512, 2, 2, 2])'}\n",
      "torch.Size([8, 512, 2, 2, 2])'}\n",
      "torch.Size([8, 512, 2, 2, 2])'}\n",
      "torch.Size([8, 512, 2, 2, 2])'}\n",
      "torch.Size([8, 512, 2, 2, 2])'}\n",
      "torch.Size([8, 512, 2, 2, 2])'}\n",
      "torch.Size([8, 512, 2, 2, 2])1'}\n",
      "torch.Size([8, 512, 2, 2, 2])1'}\n",
      "torch.Size([8, 512, 2, 2, 2])1'}\n",
      "torch.Size([8, 512, 2, 2, 2])1'}\n",
      "torch.Size([8, 512, 2, 2, 2])1'}\n",
      "torch.Size([8, 512, 2, 2, 2])09'}\n",
      "torch.Size([8, 512, 2, 2, 2])09'}\n",
      "torch.Size([8, 512, 2, 2, 2])1'}\n",
      "torch.Size([8, 512, 2, 2, 2])1'}\n",
      "torch.Size([8, 512, 2, 2, 2])1'}\n",
      "torch.Size([8, 512, 2, 2, 2])1'}\n",
      "torch.Size([8, 512, 2, 2, 2])1'}\n",
      "torch.Size([8, 512, 2, 2, 2])1'}\n",
      "torch.Size([8, 512, 2, 2, 2])1'}\n",
      "torch.Size([8, 512, 2, 2, 2])1'}\n",
      "torch.Size([8, 512, 2, 2, 2])1'}\n",
      "torch.Size([8, 512, 2, 2, 2])1'}\n",
      "torch.Size([8, 512, 2, 2, 2])1'}\n",
      "torch.Size([8, 512, 2, 2, 2])1'}\n",
      "torch.Size([8, 512, 2, 2, 2])1'}\n",
      "torch.Size([8, 512, 2, 2, 2])1'}\n",
      "torch.Size([8, 512, 2, 2, 2])1'}\n",
      "torch.Size([8, 512, 2, 2, 2])1'}\n",
      "torch.Size([8, 512, 2, 2, 2])1'}\n",
      "torch.Size([1, 512, 2, 2, 2])1'}\n",
      "torch.Size([8, 512, 2, 2, 2])1'}\n",
      "torch.Size([8, 512, 2, 2, 2])\n",
      "torch.Size([8, 512, 2, 2, 2])\n",
      "torch.Size([7, 512, 2, 2, 2])\n",
      "torch.Size([8, 512, 2, 2, 2])\n",
      "torch.Size([8, 512, 2, 2, 2])'}\n",
      "torch.Size([8, 512, 2, 2, 2])'}\n",
      "torch.Size([8, 512, 2, 2, 2])'}\n",
      "torch.Size([8, 512, 2, 2, 2])'}\n",
      "torch.Size([8, 512, 2, 2, 2])'}\n",
      "torch.Size([8, 512, 2, 2, 2])'}\n",
      "torch.Size([8, 512, 2, 2, 2])'}\n",
      "torch.Size([8, 512, 2, 2, 2])9'}\n",
      "torch.Size([8, 512, 2, 2, 2])9'}\n",
      "torch.Size([8, 512, 2, 2, 2])1'}\n",
      "torch.Size([8, 512, 2, 2, 2])09'}\n",
      "torch.Size([8, 512, 2, 2, 2])09'}\n",
      "torch.Size([8, 512, 2, 2, 2])09'}\n",
      "torch.Size([8, 512, 2, 2, 2])09'}\n",
      "torch.Size([8, 512, 2, 2, 2])09'}\n",
      "torch.Size([8, 512, 2, 2, 2])09'}\n",
      "torch.Size([8, 512, 2, 2, 2])09'}\n",
      "torch.Size([8, 512, 2, 2, 2])09'}\n",
      "torch.Size([8, 512, 2, 2, 2])09'}\n",
      "torch.Size([8, 512, 2, 2, 2])1'}\n",
      "torch.Size([8, 512, 2, 2, 2])1'}\n",
      "torch.Size([8, 512, 2, 2, 2])1'}\n",
      "torch.Size([8, 512, 2, 2, 2])1'}\n",
      "torch.Size([8, 512, 2, 2, 2])09'}\n",
      "torch.Size([8, 512, 2, 2, 2])1'}\n",
      "torch.Size([8, 512, 2, 2, 2])1'}\n",
      "torch.Size([8, 512, 2, 2, 2])1'}\n",
      "torch.Size([8, 512, 2, 2, 2])1'}\n",
      "torch.Size([8, 512, 2, 2, 2])1'}\n",
      "torch.Size([8, 512, 2, 2, 2])1'}\n",
      "torch.Size([8, 512, 2, 2, 2])1'}\n",
      "torch.Size([8, 512, 2, 2, 2])1'}\n",
      "torch.Size([8, 512, 2, 2, 2])1'}\n",
      "torch.Size([1, 512, 2, 2, 2])1'}\n",
      "torch.Size([8, 512, 2, 2, 2])1'}\n",
      "torch.Size([8, 512, 2, 2, 2])\n",
      "torch.Size([8, 512, 2, 2, 2])\n",
      "torch.Size([7, 512, 2, 2, 2])\n",
      "torch.Size([8, 512, 2, 2, 2])\n",
      "torch.Size([8, 512, 2, 2, 2])'}\n",
      "torch.Size([8, 512, 2, 2, 2])'}\n",
      "torch.Size([8, 512, 2, 2, 2])'}\n",
      "torch.Size([8, 512, 2, 2, 2])'}\n",
      "torch.Size([8, 512, 2, 2, 2])'}\n",
      "torch.Size([8, 512, 2, 2, 2])'}\n",
      "torch.Size([8, 512, 2, 2, 2])'}\n",
      "torch.Size([8, 512, 2, 2, 2])'}\n",
      "torch.Size([8, 512, 2, 2, 2])'}\n",
      "torch.Size([8, 512, 2, 2, 2])1'}\n",
      "torch.Size([8, 512, 2, 2, 2])1'}\n",
      "torch.Size([8, 512, 2, 2, 2])1'}\n",
      "torch.Size([8, 512, 2, 2, 2])1'}\n",
      "torch.Size([8, 512, 2, 2, 2])1'}\n",
      "torch.Size([8, 512, 2, 2, 2])1'}\n",
      "torch.Size([8, 512, 2, 2, 2])1'}\n",
      "torch.Size([8, 512, 2, 2, 2])1'}\n",
      "torch.Size([8, 512, 2, 2, 2])1'}\n",
      "torch.Size([8, 512, 2, 2, 2])1'}\n",
      "torch.Size([8, 512, 2, 2, 2])1'}\n",
      "torch.Size([8, 512, 2, 2, 2])1'}\n",
      "torch.Size([8, 512, 2, 2, 2])1'}\n",
      "torch.Size([8, 512, 2, 2, 2])1'}\n",
      "torch.Size([8, 512, 2, 2, 2])1'}\n",
      "torch.Size([8, 512, 2, 2, 2])1'}\n",
      "torch.Size([8, 512, 2, 2, 2])1'}\n",
      "torch.Size([8, 512, 2, 2, 2])1'}\n",
      "torch.Size([8, 512, 2, 2, 2])1'}\n",
      "torch.Size([8, 512, 2, 2, 2])1'}\n",
      "torch.Size([8, 512, 2, 2, 2])1'}\n",
      "torch.Size([8, 512, 2, 2, 2])1'}\n",
      "torch.Size([8, 512, 2, 2, 2])1'}\n",
      "torch.Size([8, 512, 2, 2, 2])1'}\n",
      "torch.Size([1, 512, 2, 2, 2])1'}\n",
      "torch.Size([8, 512, 2, 2, 2])1'}\n",
      "torch.Size([8, 512, 2, 2, 2])\n",
      "torch.Size([8, 512, 2, 2, 2])\n",
      "torch.Size([7, 512, 2, 2, 2])\n",
      "torch.Size([8, 512, 2, 2, 2])\n",
      "torch.Size([8, 512, 2, 2, 2])'}\n",
      "torch.Size([8, 512, 2, 2, 2])'}\n",
      "torch.Size([8, 512, 2, 2, 2])'}\n",
      "torch.Size([8, 512, 2, 2, 2])'}\n",
      "torch.Size([8, 512, 2, 2, 2])'}\n",
      "torch.Size([8, 512, 2, 2, 2])9'}\n",
      "torch.Size([8, 512, 2, 2, 2])9'}\n",
      "torch.Size([8, 512, 2, 2, 2])9'}\n",
      "torch.Size([8, 512, 2, 2, 2])'}\n",
      "torch.Size([8, 512, 2, 2, 2])1'}\n",
      "torch.Size([8, 512, 2, 2, 2])1'}\n",
      "torch.Size([8, 512, 2, 2, 2])1'}\n",
      "torch.Size([8, 512, 2, 2, 2])1'}\n",
      "torch.Size([8, 512, 2, 2, 2])1'}\n",
      "torch.Size([8, 512, 2, 2, 2])1'}\n",
      "torch.Size([8, 512, 2, 2, 2])1'}\n",
      "torch.Size([8, 512, 2, 2, 2])1'}\n",
      "torch.Size([8, 512, 2, 2, 2])1'}\n",
      "torch.Size([8, 512, 2, 2, 2])1'}\n",
      "torch.Size([8, 512, 2, 2, 2])1'}\n",
      "torch.Size([8, 512, 2, 2, 2])1'}\n",
      "torch.Size([8, 512, 2, 2, 2])1'}\n",
      "torch.Size([8, 512, 2, 2, 2])1'}\n",
      "torch.Size([8, 512, 2, 2, 2])1'}\n",
      "torch.Size([8, 512, 2, 2, 2])1'}\n",
      "torch.Size([8, 512, 2, 2, 2])1'}\n",
      "torch.Size([8, 512, 2, 2, 2])1'}\n",
      "torch.Size([8, 512, 2, 2, 2])1'}\n",
      "torch.Size([8, 512, 2, 2, 2])1'}\n",
      "torch.Size([8, 512, 2, 2, 2])1'}\n",
      "torch.Size([8, 512, 2, 2, 2])1'}\n",
      "torch.Size([8, 512, 2, 2, 2])1'}\n",
      "torch.Size([8, 512, 2, 2, 2])1'}\n",
      "torch.Size([1, 512, 2, 2, 2])1'}\n",
      "torch.Size([8, 512, 2, 2, 2])1'}\n",
      "torch.Size([8, 512, 2, 2, 2])\n",
      "torch.Size([8, 512, 2, 2, 2])\n",
      "torch.Size([7, 512, 2, 2, 2])\n",
      "torch.Size([8, 512, 2, 2, 2])\n",
      "torch.Size([8, 512, 2, 2, 2])'}\n",
      "torch.Size([8, 512, 2, 2, 2])'}\n",
      "torch.Size([8, 512, 2, 2, 2])'}\n",
      "torch.Size([8, 512, 2, 2, 2])'}\n",
      "torch.Size([8, 512, 2, 2, 2])'}\n",
      "torch.Size([8, 512, 2, 2, 2])'}\n",
      "torch.Size([8, 512, 2, 2, 2])'}\n",
      "torch.Size([8, 512, 2, 2, 2])'}\n",
      "torch.Size([8, 512, 2, 2, 2])'}\n",
      "torch.Size([8, 512, 2, 2, 2])1'}\n",
      "torch.Size([8, 512, 2, 2, 2])1'}\n",
      "torch.Size([8, 512, 2, 2, 2])1'}\n",
      "torch.Size([8, 512, 2, 2, 2])1'}\n",
      "torch.Size([8, 512, 2, 2, 2])1'}\n",
      "torch.Size([8, 512, 2, 2, 2])1'}\n",
      "torch.Size([8, 512, 2, 2, 2])1'}\n",
      "torch.Size([8, 512, 2, 2, 2])1'}\n",
      "torch.Size([8, 512, 2, 2, 2])1'}\n",
      "torch.Size([8, 512, 2, 2, 2])1'}\n",
      "torch.Size([8, 512, 2, 2, 2])1'}\n",
      "torch.Size([8, 512, 2, 2, 2])1'}\n",
      "torch.Size([8, 512, 2, 2, 2])1'}\n",
      "torch.Size([8, 512, 2, 2, 2])1'}\n",
      "torch.Size([8, 512, 2, 2, 2])1'}\n",
      "torch.Size([8, 512, 2, 2, 2])1'}\n",
      "torch.Size([8, 512, 2, 2, 2])1'}\n",
      "torch.Size([8, 512, 2, 2, 2])1'}\n",
      "torch.Size([8, 512, 2, 2, 2])1'}\n",
      "torch.Size([8, 512, 2, 2, 2])1'}\n",
      "torch.Size([8, 512, 2, 2, 2])1'}\n",
      "torch.Size([8, 512, 2, 2, 2])1'}\n",
      "torch.Size([8, 512, 2, 2, 2])09'}\n",
      "torch.Size([8, 512, 2, 2, 2])1'}\n",
      "torch.Size([1, 512, 2, 2, 2])1'}\n",
      "torch.Size([8, 512, 2, 2, 2])09'}\n",
      "torch.Size([8, 512, 2, 2, 2])\n",
      "torch.Size([8, 512, 2, 2, 2])\n",
      "torch.Size([7, 512, 2, 2, 2])\n",
      "torch.Size([8, 512, 2, 2, 2])\n",
      "torch.Size([8, 512, 2, 2, 2])9'}\n",
      "torch.Size([8, 512, 2, 2, 2])'}\n",
      "torch.Size([8, 512, 2, 2, 2])'}\n",
      "torch.Size([8, 512, 2, 2, 2])'}\n",
      "torch.Size([8, 512, 2, 2, 2])'}\n",
      "torch.Size([8, 512, 2, 2, 2])'}\n",
      "torch.Size([8, 512, 2, 2, 2])'}\n",
      "torch.Size([8, 512, 2, 2, 2])'}\n",
      "torch.Size([8, 512, 2, 2, 2])'}\n",
      "torch.Size([8, 512, 2, 2, 2])1'}\n",
      "torch.Size([8, 512, 2, 2, 2])09'}\n",
      "torch.Size([8, 512, 2, 2, 2])09'}\n",
      "torch.Size([8, 512, 2, 2, 2])1'}\n",
      "torch.Size([8, 512, 2, 2, 2])1'}\n",
      "torch.Size([8, 512, 2, 2, 2])1'}\n",
      "torch.Size([8, 512, 2, 2, 2])1'}\n",
      "torch.Size([8, 512, 2, 2, 2])1'}\n",
      "torch.Size([8, 512, 2, 2, 2])1'}\n",
      "torch.Size([8, 512, 2, 2, 2])09'}\n",
      "torch.Size([8, 512, 2, 2, 2])1'}\n",
      "torch.Size([8, 512, 2, 2, 2])1'}\n",
      "torch.Size([8, 512, 2, 2, 2])09'}\n",
      "torch.Size([8, 512, 2, 2, 2])09'}\n",
      "torch.Size([8, 512, 2, 2, 2])09'}\n",
      "torch.Size([8, 512, 2, 2, 2])09'}\n",
      "torch.Size([8, 512, 2, 2, 2])09'}\n",
      "torch.Size([8, 512, 2, 2, 2])09'}\n",
      "torch.Size([8, 512, 2, 2, 2])09'}\n",
      "torch.Size([8, 512, 2, 2, 2])09'}\n",
      "torch.Size([8, 512, 2, 2, 2])1'}\n",
      "torch.Size([8, 512, 2, 2, 2])1'}\n",
      "torch.Size([8, 512, 2, 2, 2])1'}\n",
      "torch.Size([8, 512, 2, 2, 2])09'}\n",
      "torch.Size([1, 512, 2, 2, 2])09'}\n",
      "torch.Size([8, 512, 2, 2, 2])1'}\n",
      "torch.Size([8, 512, 2, 2, 2])\n",
      "torch.Size([8, 512, 2, 2, 2])\n",
      "torch.Size([7, 512, 2, 2, 2])\n",
      "torch.Size([8, 512, 2, 2, 2])\n",
      "torch.Size([8, 512, 2, 2, 2])'}\n",
      "torch.Size([8, 512, 2, 2, 2])'}\n",
      "torch.Size([8, 512, 2, 2, 2])'}\n",
      "torch.Size([8, 512, 2, 2, 2])'}\n",
      "torch.Size([8, 512, 2, 2, 2])'}\n",
      "torch.Size([8, 512, 2, 2, 2])'}\n",
      "torch.Size([8, 512, 2, 2, 2])'}\n",
      "torch.Size([8, 512, 2, 2, 2])'}\n",
      "torch.Size([8, 512, 2, 2, 2])'}\n",
      "torch.Size([8, 512, 2, 2, 2])1'}\n",
      "torch.Size([8, 512, 2, 2, 2])1'}\n",
      "torch.Size([8, 512, 2, 2, 2])1'}\n",
      "torch.Size([8, 512, 2, 2, 2])1'}\n",
      "torch.Size([8, 512, 2, 2, 2])1'}\n",
      "torch.Size([8, 512, 2, 2, 2])1'}\n",
      "torch.Size([8, 512, 2, 2, 2])1'}\n",
      "torch.Size([8, 512, 2, 2, 2])1'}\n",
      "torch.Size([8, 512, 2, 2, 2])1'}\n",
      "torch.Size([8, 512, 2, 2, 2])1'}\n",
      "torch.Size([8, 512, 2, 2, 2])1'}\n",
      "torch.Size([8, 512, 2, 2, 2])1'}\n",
      "torch.Size([8, 512, 2, 2, 2])1'}\n",
      "torch.Size([8, 512, 2, 2, 2])1'}\n",
      "torch.Size([8, 512, 2, 2, 2])1'}\n",
      "torch.Size([8, 512, 2, 2, 2])1'}\n",
      "torch.Size([8, 512, 2, 2, 2])1'}\n",
      "torch.Size([8, 512, 2, 2, 2])1'}\n",
      "torch.Size([8, 512, 2, 2, 2])1'}\n",
      "torch.Size([8, 512, 2, 2, 2])1'}\n",
      "torch.Size([8, 512, 2, 2, 2])1'}\n",
      "torch.Size([8, 512, 2, 2, 2])1'}\n",
      "torch.Size([8, 512, 2, 2, 2])1'}\n",
      "torch.Size([8, 512, 2, 2, 2])1'}\n",
      "torch.Size([1, 512, 2, 2, 2])1'}\n",
      "torch.Size([8, 512, 2, 2, 2])1'}\n",
      "torch.Size([8, 512, 2, 2, 2])\n",
      "torch.Size([8, 512, 2, 2, 2])\n",
      "torch.Size([7, 512, 2, 2, 2])\n",
      "torch.Size([8, 512, 2, 2, 2])\n",
      "torch.Size([8, 512, 2, 2, 2])'}\n",
      "torch.Size([8, 512, 2, 2, 2])'}\n",
      "torch.Size([8, 512, 2, 2, 2])'}\n",
      "torch.Size([8, 512, 2, 2, 2])'}\n",
      "torch.Size([8, 512, 2, 2, 2])'}\n",
      "torch.Size([8, 512, 2, 2, 2])'}\n",
      "torch.Size([8, 512, 2, 2, 2])'}\n",
      "torch.Size([8, 512, 2, 2, 2])'}\n",
      "torch.Size([8, 512, 2, 2, 2])'}\n",
      "torch.Size([8, 512, 2, 2, 2])1'}\n",
      "torch.Size([8, 512, 2, 2, 2])1'}\n",
      "torch.Size([8, 512, 2, 2, 2])1'}\n",
      "torch.Size([8, 512, 2, 2, 2])1'}\n",
      "torch.Size([8, 512, 2, 2, 2])1'}\n",
      "torch.Size([8, 512, 2, 2, 2])1'}\n",
      "torch.Size([8, 512, 2, 2, 2])1'}\n",
      "torch.Size([8, 512, 2, 2, 2])1'}\n",
      "torch.Size([8, 512, 2, 2, 2])1'}\n",
      "torch.Size([8, 512, 2, 2, 2])1'}\n",
      "torch.Size([8, 512, 2, 2, 2])09'}\n",
      "torch.Size([8, 512, 2, 2, 2])1'}\n",
      "torch.Size([8, 512, 2, 2, 2])1'}\n",
      "torch.Size([8, 512, 2, 2, 2])1'}\n",
      "torch.Size([8, 512, 2, 2, 2])1'}\n",
      "torch.Size([8, 512, 2, 2, 2])1'}\n",
      "torch.Size([8, 512, 2, 2, 2])1'}\n",
      "torch.Size([8, 512, 2, 2, 2])1'}\n",
      "torch.Size([8, 512, 2, 2, 2])1'}\n",
      "torch.Size([8, 512, 2, 2, 2])1'}\n",
      "torch.Size([8, 512, 2, 2, 2])1'}\n",
      "torch.Size([8, 512, 2, 2, 2])1'}\n",
      "torch.Size([8, 512, 2, 2, 2])1'}\n",
      "torch.Size([8, 512, 2, 2, 2])1'}\n",
      "torch.Size([1, 512, 2, 2, 2])1'}\n",
      "torch.Size([8, 512, 2, 2, 2])1'}\n",
      "torch.Size([8, 512, 2, 2, 2])\n",
      "torch.Size([8, 512, 2, 2, 2])\n",
      "torch.Size([7, 512, 2, 2, 2])\n",
      "torch.Size([8, 512, 2, 2, 2])\n",
      "torch.Size([8, 512, 2, 2, 2])'}\n",
      "torch.Size([8, 512, 2, 2, 2])'}\n",
      "torch.Size([8, 512, 2, 2, 2])'}\n",
      "torch.Size([8, 512, 2, 2, 2])'}\n",
      "torch.Size([8, 512, 2, 2, 2])'}\n",
      "torch.Size([8, 512, 2, 2, 2])'}\n",
      "torch.Size([8, 512, 2, 2, 2])'}\n",
      "torch.Size([8, 512, 2, 2, 2])'}\n",
      "torch.Size([8, 512, 2, 2, 2])'}\n",
      "torch.Size([8, 512, 2, 2, 2])1'}\n",
      "torch.Size([8, 512, 2, 2, 2])1'}\n",
      "torch.Size([8, 512, 2, 2, 2])1'}\n",
      "torch.Size([8, 512, 2, 2, 2])1'}\n",
      "torch.Size([8, 512, 2, 2, 2])1'}\n",
      "torch.Size([8, 512, 2, 2, 2])1'}\n",
      "torch.Size([8, 512, 2, 2, 2])1'}\n",
      "torch.Size([8, 512, 2, 2, 2])1'}\n",
      "torch.Size([8, 512, 2, 2, 2])1'}\n",
      "torch.Size([8, 512, 2, 2, 2])1'}\n",
      "torch.Size([8, 512, 2, 2, 2])1'}\n",
      "torch.Size([8, 512, 2, 2, 2])1'}\n",
      "torch.Size([8, 512, 2, 2, 2])1'}\n",
      "torch.Size([8, 512, 2, 2, 2])1'}\n",
      "torch.Size([8, 512, 2, 2, 2])1'}\n",
      "torch.Size([8, 512, 2, 2, 2])1'}\n",
      "torch.Size([8, 512, 2, 2, 2])1'}\n",
      "torch.Size([8, 512, 2, 2, 2])1'}\n",
      "torch.Size([8, 512, 2, 2, 2])1'}\n",
      "torch.Size([8, 512, 2, 2, 2])1'}\n",
      "torch.Size([8, 512, 2, 2, 2])09'}\n",
      "torch.Size([8, 512, 2, 2, 2])1'}\n",
      "torch.Size([8, 512, 2, 2, 2])1'}\n",
      "torch.Size([8, 512, 2, 2, 2])09'}\n",
      "torch.Size([1, 512, 2, 2, 2])09'}\n",
      "torch.Size([8, 512, 2, 2, 2])1'}\n",
      "torch.Size([8, 512, 2, 2, 2])\n",
      "torch.Size([8, 512, 2, 2, 2])\n",
      "torch.Size([7, 512, 2, 2, 2])\n",
      "torch.Size([8, 512, 2, 2, 2])\n",
      "torch.Size([8, 512, 2, 2, 2])'}\n",
      "torch.Size([8, 512, 2, 2, 2])9'}\n",
      "torch.Size([8, 512, 2, 2, 2])9'}\n",
      "torch.Size([8, 512, 2, 2, 2])9'}\n",
      "torch.Size([8, 512, 2, 2, 2])9'}\n",
      "torch.Size([8, 512, 2, 2, 2])9'}\n",
      "torch.Size([8, 512, 2, 2, 2])9'}\n",
      "torch.Size([8, 512, 2, 2, 2])9'}\n",
      "torch.Size([8, 512, 2, 2, 2])9'}\n",
      "torch.Size([8, 512, 2, 2, 2])09'}\n",
      "torch.Size([8, 512, 2, 2, 2])09'}\n",
      "torch.Size([8, 512, 2, 2, 2])09'}\n",
      "torch.Size([8, 512, 2, 2, 2])09'}\n",
      "torch.Size([8, 512, 2, 2, 2])09'}\n",
      "torch.Size([8, 512, 2, 2, 2])09'}\n",
      "torch.Size([8, 512, 2, 2, 2])09'}\n",
      "torch.Size([8, 512, 2, 2, 2])09'}\n",
      "torch.Size([8, 512, 2, 2, 2])09'}\n",
      "torch.Size([8, 512, 2, 2, 2])1'}\n",
      "torch.Size([8, 512, 2, 2, 2])09'}\n",
      "torch.Size([8, 512, 2, 2, 2])1'}\n",
      "torch.Size([8, 512, 2, 2, 2])1'}\n",
      "torch.Size([8, 512, 2, 2, 2])1'}\n",
      "torch.Size([8, 512, 2, 2, 2])1'}\n",
      "torch.Size([8, 512, 2, 2, 2])1'}\n",
      "torch.Size([8, 512, 2, 2, 2])1'}\n",
      "torch.Size([8, 512, 2, 2, 2])1'}\n",
      "torch.Size([8, 512, 2, 2, 2])1'}\n",
      "torch.Size([8, 512, 2, 2, 2])1'}\n",
      "torch.Size([8, 512, 2, 2, 2])1'}\n",
      "torch.Size([8, 512, 2, 2, 2])1'}\n",
      "torch.Size([8, 512, 2, 2, 2])1'}\n",
      "torch.Size([8, 512, 2, 2, 2])1'}\n",
      "torch.Size([1, 512, 2, 2, 2])11'}\n",
      "torch.Size([8, 512, 2, 2, 2])1'}\n",
      "torch.Size([8, 512, 2, 2, 2])\n",
      "torch.Size([8, 512, 2, 2, 2])\n",
      "torch.Size([7, 512, 2, 2, 2])\n",
      "torch.Size([8, 512, 2, 2, 2])\n",
      "torch.Size([8, 512, 2, 2, 2])'}\n",
      "torch.Size([8, 512, 2, 2, 2])'}\n",
      "torch.Size([8, 512, 2, 2, 2])1'}\n",
      "torch.Size([8, 512, 2, 2, 2])'}\n",
      "torch.Size([8, 512, 2, 2, 2])'}\n",
      "torch.Size([8, 512, 2, 2, 2])'}\n",
      "torch.Size([8, 512, 2, 2, 2])'}\n",
      "torch.Size([8, 512, 2, 2, 2])'}\n",
      "torch.Size([8, 512, 2, 2, 2])'}\n",
      "torch.Size([8, 512, 2, 2, 2])1'}\n",
      "torch.Size([8, 512, 2, 2, 2])1'}\n",
      "torch.Size([8, 512, 2, 2, 2])1'}\n",
      "torch.Size([8, 512, 2, 2, 2])1'}\n",
      "torch.Size([8, 512, 2, 2, 2])1'}\n",
      "torch.Size([8, 512, 2, 2, 2])1'}\n",
      "torch.Size([8, 512, 2, 2, 2])1'}\n",
      "torch.Size([8, 512, 2, 2, 2])1'}\n",
      "torch.Size([8, 512, 2, 2, 2])1'}\n",
      "torch.Size([8, 512, 2, 2, 2])1'}\n",
      "torch.Size([8, 512, 2, 2, 2])1'}\n",
      "torch.Size([8, 512, 2, 2, 2])1'}\n",
      "torch.Size([8, 512, 2, 2, 2])1'}\n",
      "torch.Size([8, 512, 2, 2, 2])1'}\n",
      "torch.Size([8, 512, 2, 2, 2])09'}\n",
      "torch.Size([8, 512, 2, 2, 2])09'}\n",
      "torch.Size([8, 512, 2, 2, 2])09'}\n",
      "torch.Size([8, 512, 2, 2, 2])1'}\n",
      "torch.Size([8, 512, 2, 2, 2])1'}\n",
      "torch.Size([8, 512, 2, 2, 2])1'}\n",
      "torch.Size([8, 512, 2, 2, 2])1'}\n",
      "torch.Size([8, 512, 2, 2, 2])1'}\n",
      "torch.Size([8, 512, 2, 2, 2])1'}\n",
      "torch.Size([8, 512, 2, 2, 2])1'}\n",
      "torch.Size([1, 512, 2, 2, 2])1'}\n",
      "torch.Size([8, 512, 2, 2, 2])1'}\n",
      "torch.Size([8, 512, 2, 2, 2])\n",
      "torch.Size([8, 512, 2, 2, 2])\n",
      "torch.Size([7, 512, 2, 2, 2])\n",
      "torch.Size([8, 512, 2, 2, 2])\n",
      "torch.Size([8, 512, 2, 2, 2])'}\n",
      "torch.Size([8, 512, 2, 2, 2])'}\n",
      "torch.Size([8, 512, 2, 2, 2])'}\n",
      "torch.Size([8, 512, 2, 2, 2])'}\n",
      "torch.Size([8, 512, 2, 2, 2])'}\n",
      "torch.Size([8, 512, 2, 2, 2])'}\n",
      "torch.Size([8, 512, 2, 2, 2])'}\n",
      "torch.Size([8, 512, 2, 2, 2])'}\n",
      "torch.Size([8, 512, 2, 2, 2])'}\n",
      "torch.Size([8, 512, 2, 2, 2])1'}\n",
      "torch.Size([8, 512, 2, 2, 2])1'}\n",
      "torch.Size([8, 512, 2, 2, 2])1'}\n",
      "torch.Size([8, 512, 2, 2, 2])1'}\n",
      "torch.Size([8, 512, 2, 2, 2])1'}\n",
      "torch.Size([8, 512, 2, 2, 2])1'}\n",
      "torch.Size([8, 512, 2, 2, 2])1'}\n",
      "torch.Size([8, 512, 2, 2, 2])1'}\n",
      "torch.Size([8, 512, 2, 2, 2])1'}\n",
      "torch.Size([8, 512, 2, 2, 2])09'}\n",
      "torch.Size([8, 512, 2, 2, 2])1'}\n",
      "torch.Size([8, 512, 2, 2, 2])1'}\n",
      "torch.Size([8, 512, 2, 2, 2])1'}\n",
      "torch.Size([8, 512, 2, 2, 2])1'}\n",
      "torch.Size([8, 512, 2, 2, 2])1'}\n",
      "torch.Size([8, 512, 2, 2, 2])1'}\n",
      "torch.Size([8, 512, 2, 2, 2])1'}\n",
      "torch.Size([8, 512, 2, 2, 2])1'}\n",
      "torch.Size([8, 512, 2, 2, 2])1'}\n",
      "torch.Size([8, 512, 2, 2, 2])1'}\n",
      "torch.Size([8, 512, 2, 2, 2])1'}\n",
      "torch.Size([8, 512, 2, 2, 2])1'}\n",
      "torch.Size([8, 512, 2, 2, 2])1'}\n",
      "torch.Size([8, 512, 2, 2, 2])1'}\n",
      "torch.Size([1, 512, 2, 2, 2])1'}\n",
      "torch.Size([8, 512, 2, 2, 2])1'}\n",
      "torch.Size([8, 512, 2, 2, 2])\n",
      "torch.Size([8, 512, 2, 2, 2])\n",
      "torch.Size([7, 512, 2, 2, 2])\n",
      "torch.Size([8, 512, 2, 2, 2])\n",
      "torch.Size([8, 512, 2, 2, 2])'}\n",
      "torch.Size([8, 512, 2, 2, 2])'}\n",
      "torch.Size([8, 512, 2, 2, 2])'}\n",
      "torch.Size([8, 512, 2, 2, 2])'}\n",
      "torch.Size([8, 512, 2, 2, 2])'}\n",
      "torch.Size([8, 512, 2, 2, 2])'}\n",
      "torch.Size([8, 512, 2, 2, 2])'}\n",
      "torch.Size([8, 512, 2, 2, 2])'}\n",
      "torch.Size([8, 512, 2, 2, 2])'}\n",
      "torch.Size([8, 512, 2, 2, 2])1'}\n",
      "torch.Size([8, 512, 2, 2, 2])1'}\n",
      "torch.Size([8, 512, 2, 2, 2])1'}\n",
      "torch.Size([8, 512, 2, 2, 2])1'}\n",
      "torch.Size([8, 512, 2, 2, 2])1'}\n",
      "torch.Size([8, 512, 2, 2, 2])1'}\n",
      "torch.Size([8, 512, 2, 2, 2])1'}\n",
      "torch.Size([8, 512, 2, 2, 2])1'}\n",
      "torch.Size([8, 512, 2, 2, 2])1'}\n",
      "torch.Size([8, 512, 2, 2, 2])1'}\n",
      "torch.Size([8, 512, 2, 2, 2])1'}\n",
      "torch.Size([8, 512, 2, 2, 2])1'}\n",
      "torch.Size([8, 512, 2, 2, 2])1'}\n",
      "torch.Size([8, 512, 2, 2, 2])1'}\n",
      "torch.Size([8, 512, 2, 2, 2])1'}\n",
      "torch.Size([8, 512, 2, 2, 2])1'}\n",
      "torch.Size([8, 512, 2, 2, 2])1'}\n",
      "torch.Size([8, 512, 2, 2, 2])1'}\n",
      "torch.Size([8, 512, 2, 2, 2])1'}\n",
      "torch.Size([8, 512, 2, 2, 2])1'}\n",
      "torch.Size([8, 512, 2, 2, 2])1'}\n",
      "torch.Size([8, 512, 2, 2, 2])1'}\n",
      "torch.Size([8, 512, 2, 2, 2])1'}\n",
      "torch.Size([8, 512, 2, 2, 2])1'}\n",
      "torch.Size([1, 512, 2, 2, 2])1'}\n",
      "torch.Size([8, 512, 2, 2, 2])09'}\n",
      "torch.Size([8, 512, 2, 2, 2])\n",
      "torch.Size([8, 512, 2, 2, 2])\n",
      "torch.Size([7, 512, 2, 2, 2])\n",
      "torch.Size([8, 512, 2, 2, 2])\n",
      "torch.Size([8, 512, 2, 2, 2])9'}\n",
      "torch.Size([8, 512, 2, 2, 2])9'}\n",
      "torch.Size([8, 512, 2, 2, 2])'}\n",
      "torch.Size([8, 512, 2, 2, 2])9'}\n",
      "torch.Size([8, 512, 2, 2, 2])9'}\n",
      "torch.Size([8, 512, 2, 2, 2])9'}\n",
      "torch.Size([8, 512, 2, 2, 2])9'}\n",
      "torch.Size([8, 512, 2, 2, 2])9'}\n",
      "torch.Size([8, 512, 2, 2, 2])9'}\n",
      "torch.Size([8, 512, 2, 2, 2])09'}\n",
      "torch.Size([8, 512, 2, 2, 2])09'}\n",
      "torch.Size([8, 512, 2, 2, 2])09'}\n",
      "torch.Size([8, 512, 2, 2, 2])09'}\n",
      "torch.Size([8, 512, 2, 2, 2])09'}\n",
      "torch.Size([8, 512, 2, 2, 2])09'}\n",
      "torch.Size([8, 512, 2, 2, 2])09'}\n",
      "torch.Size([8, 512, 2, 2, 2])09'}\n",
      "torch.Size([8, 512, 2, 2, 2])09'}\n",
      "torch.Size([8, 512, 2, 2, 2])09'}\n",
      "torch.Size([8, 512, 2, 2, 2])1'}\n",
      "torch.Size([8, 512, 2, 2, 2])1'}\n",
      "torch.Size([8, 512, 2, 2, 2])1'}\n",
      "torch.Size([8, 512, 2, 2, 2])1'}\n",
      "torch.Size([8, 512, 2, 2, 2])1'}\n",
      "torch.Size([8, 512, 2, 2, 2])1'}\n",
      "torch.Size([8, 512, 2, 2, 2])1'}\n",
      "torch.Size([8, 512, 2, 2, 2])1'}\n",
      "torch.Size([8, 512, 2, 2, 2])1'}\n",
      "torch.Size([8, 512, 2, 2, 2])1'}\n",
      "torch.Size([8, 512, 2, 2, 2])1'}\n",
      "torch.Size([8, 512, 2, 2, 2])1'}\n",
      "torch.Size([8, 512, 2, 2, 2])1'}\n",
      "torch.Size([8, 512, 2, 2, 2])1'}\n",
      "torch.Size([1, 512, 2, 2, 2])1'}\n",
      "torch.Size([8, 512, 2, 2, 2])1'}\n",
      "torch.Size([8, 512, 2, 2, 2])\n",
      "torch.Size([8, 512, 2, 2, 2])\n",
      "torch.Size([7, 512, 2, 2, 2])\n"
     ]
    },
    {
     "name": "stderr",
     "output_type": "stream",
     "text": [
      "Monitored metric loss/val did not improve in the last 20 records. Best score: 1.081. Signaling Trainer to stop.\n",
      "GPU available: True, used: True\n",
      "TPU available: False, using: 0 TPU cores\n",
      "LOCAL_RANK: 0 - CUDA_VISIBLE_DEVICES: [0]\n",
      "\n",
      "  | Name               | Type             | Params\n",
      "--------------------------------------------------------\n",
      "0 | model              | VGG              | 65.1 M\n",
      "1 | criteria           | CrossEntropyLoss | 0     \n",
      "2 | valid_metrics      | MetricCollection | 0     \n",
      "3 | valid_dummy_metric | AUROC            | 0     \n",
      "--------------------------------------------------------\n",
      "65.1 M    Trainable params\n",
      "0         Non-trainable params\n",
      "65.1 M    Total params\n",
      "260.447   Total estimated model params size (MB)\n"
     ]
    },
    {
     "name": "stdout",
     "output_type": "stream",
     "text": [
      "Architecture [VGG] was created\n",
      "***Defined hyperparameters:***\n",
      "\"arch\":                {'name': 'vgg16', 'args': {'num_channels': 1, 'num_classes': 3}}\n",
      "\"checkpoint_path\":     None\n",
      "\"class_weights\":       tensor([1.2466, 0.6500, 1.5167], device='cuda:0')\n",
      "\"hp_metrics\":          ['loss/train', 'loss/val', 'Accuracy/val', 'AUROC/val', 'Precision/val', 'Recall/val', 'Specificity/val']\n",
      "\"loss\":                {'type': 'CrossEntropyLoss', 'args': {'weight': True}}\n",
      "\"optimizer\":           {'type': 'Adam', 'args': {'lr': 0.0001, 'weight_decay': 0, 'amsgrad': False}}\n",
      "\"roi_hparams\":         {'enable': False, 'output_shape': [3, 3, 3], 'boundary_boxes': []}\n",
      "\"weight_distribution\": None\n",
      "Enabled callbacks:  ['LitProgressBar', 'EarlyStopping']\n",
      "Dataloader fold: 2\n",
      "torch.Size([8, 512, 2, 2, 2])\n",
      "torch.Size([8, 512, 2, 2, 2])}\n",
      "torch.Size([8, 512, 2, 2, 2])}\n",
      "torch.Size([8, 512, 2, 2, 2])}\n",
      "torch.Size([8, 512, 2, 2, 2])}\n",
      "torch.Size([8, 512, 2, 2, 2])}\n",
      "torch.Size([8, 512, 2, 2, 2])'}\n",
      "torch.Size([8, 512, 2, 2, 2])}\n",
      "torch.Size([8, 512, 2, 2, 2])}\n",
      "torch.Size([8, 512, 2, 2, 2])}\n",
      "torch.Size([8, 512, 2, 2, 2])1'}\n",
      "torch.Size([8, 512, 2, 2, 2])'}\n",
      "torch.Size([8, 512, 2, 2, 2])'}\n",
      "torch.Size([8, 512, 2, 2, 2])'}\n",
      "torch.Size([8, 512, 2, 2, 2])'}\n",
      "torch.Size([8, 512, 2, 2, 2])'}\n",
      "torch.Size([8, 512, 2, 2, 2])'}\n",
      "torch.Size([8, 512, 2, 2, 2])'}\n",
      "torch.Size([8, 512, 2, 2, 2])'}\n",
      "torch.Size([8, 512, 2, 2, 2])'}\n",
      "torch.Size([8, 512, 2, 2, 2])'}\n",
      "torch.Size([8, 512, 2, 2, 2])'}\n",
      "torch.Size([8, 512, 2, 2, 2])'}\n",
      "torch.Size([8, 512, 2, 2, 2])'}\n",
      "torch.Size([8, 512, 2, 2, 2])'}\n",
      "torch.Size([8, 512, 2, 2, 2])'}\n",
      "torch.Size([8, 512, 2, 2, 2])'}\n",
      "torch.Size([8, 512, 2, 2, 2])'}\n",
      "torch.Size([8, 512, 2, 2, 2])'}\n",
      "torch.Size([8, 512, 2, 2, 2])'}\n",
      "torch.Size([8, 512, 2, 2, 2])'}\n",
      "torch.Size([8, 512, 2, 2, 2])'}\n",
      "torch.Size([8, 512, 2, 2, 2])'}\n",
      "torch.Size([8, 512, 2, 2, 2])'}\n",
      "torch.Size([1, 512, 2, 2, 2])'}\n",
      "torch.Size([8, 512, 2, 2, 2])'}\n",
      "torch.Size([8, 512, 2, 2, 2])\n",
      "torch.Size([8, 512, 2, 2, 2])\n",
      "torch.Size([7, 512, 2, 2, 2])\n"
     ]
    },
    {
     "name": "stderr",
     "output_type": "stream",
     "text": [
      "Metric loss/val improved. New best score: 1.098\n"
     ]
    },
    {
     "name": "stdout",
     "output_type": "stream",
     "text": [
      "torch.Size([8, 512, 2, 2, 2])\n",
      "torch.Size([8, 512, 2, 2, 2])}\n",
      "torch.Size([8, 512, 2, 2, 2])}\n",
      "torch.Size([8, 512, 2, 2, 2])}\n",
      "torch.Size([8, 512, 2, 2, 2])}\n",
      "torch.Size([8, 512, 2, 2, 2])}\n",
      "torch.Size([8, 512, 2, 2, 2])}\n",
      "torch.Size([8, 512, 2, 2, 2])}\n",
      "torch.Size([8, 512, 2, 2, 2])}\n",
      "torch.Size([8, 512, 2, 2, 2])}\n",
      "torch.Size([8, 512, 2, 2, 2])'}\n",
      "torch.Size([8, 512, 2, 2, 2])'}\n",
      "torch.Size([8, 512, 2, 2, 2])'}\n",
      "torch.Size([8, 512, 2, 2, 2])'}\n",
      "torch.Size([8, 512, 2, 2, 2])'}\n",
      "torch.Size([8, 512, 2, 2, 2])'}\n",
      "torch.Size([8, 512, 2, 2, 2])'}\n",
      "torch.Size([8, 512, 2, 2, 2])'}\n",
      "torch.Size([8, 512, 2, 2, 2])'}\n",
      "torch.Size([8, 512, 2, 2, 2])'}\n",
      "torch.Size([8, 512, 2, 2, 2])'}\n",
      "torch.Size([8, 512, 2, 2, 2])'}\n",
      "torch.Size([8, 512, 2, 2, 2])'}\n",
      "torch.Size([8, 512, 2, 2, 2])'}\n",
      "torch.Size([8, 512, 2, 2, 2])'}\n",
      "torch.Size([8, 512, 2, 2, 2])'}\n",
      "torch.Size([8, 512, 2, 2, 2])'}\n",
      "torch.Size([8, 512, 2, 2, 2])'}\n",
      "torch.Size([8, 512, 2, 2, 2])'}\n",
      "torch.Size([8, 512, 2, 2, 2])'}\n",
      "torch.Size([8, 512, 2, 2, 2])'}\n",
      "torch.Size([8, 512, 2, 2, 2])'}\n",
      "torch.Size([8, 512, 2, 2, 2])'}\n",
      "torch.Size([8, 512, 2, 2, 2])'}\n",
      "torch.Size([1, 512, 2, 2, 2])'}\n",
      "torch.Size([8, 512, 2, 2, 2])'}\n",
      "torch.Size([8, 512, 2, 2, 2])\n",
      "torch.Size([8, 512, 2, 2, 2])\n",
      "torch.Size([7, 512, 2, 2, 2])\n"
     ]
    },
    {
     "name": "stderr",
     "output_type": "stream",
     "text": [
      "Metric loss/val improved by 0.000 >= min_delta = 0.0001. New best score: 1.098\n"
     ]
    },
    {
     "name": "stdout",
     "output_type": "stream",
     "text": [
      "torch.Size([8, 512, 2, 2, 2])\n",
      "torch.Size([8, 512, 2, 2, 2])}\n",
      "torch.Size([8, 512, 2, 2, 2])}\n",
      "torch.Size([8, 512, 2, 2, 2])}\n",
      "torch.Size([8, 512, 2, 2, 2])}\n",
      "torch.Size([8, 512, 2, 2, 2])}\n",
      "torch.Size([8, 512, 2, 2, 2])}\n",
      "torch.Size([8, 512, 2, 2, 2])}\n",
      "torch.Size([8, 512, 2, 2, 2])}\n",
      "torch.Size([8, 512, 2, 2, 2])}\n",
      "torch.Size([8, 512, 2, 2, 2])'}\n",
      "torch.Size([8, 512, 2, 2, 2])'}\n",
      "torch.Size([8, 512, 2, 2, 2])'}\n",
      "torch.Size([8, 512, 2, 2, 2])'}\n",
      "torch.Size([8, 512, 2, 2, 2])'}\n",
      "torch.Size([8, 512, 2, 2, 2])'}\n",
      "torch.Size([8, 512, 2, 2, 2])'}\n",
      "torch.Size([8, 512, 2, 2, 2])'}\n",
      "torch.Size([8, 512, 2, 2, 2])'}\n",
      "torch.Size([8, 512, 2, 2, 2])'}\n",
      "torch.Size([8, 512, 2, 2, 2])'}\n",
      "torch.Size([8, 512, 2, 2, 2])'}\n",
      "torch.Size([8, 512, 2, 2, 2])'}\n",
      "torch.Size([8, 512, 2, 2, 2])'}\n",
      "torch.Size([8, 512, 2, 2, 2])'}\n",
      "torch.Size([8, 512, 2, 2, 2])'}\n",
      "torch.Size([8, 512, 2, 2, 2])'}\n",
      "torch.Size([8, 512, 2, 2, 2])'}\n",
      "torch.Size([8, 512, 2, 2, 2])'}\n",
      "torch.Size([8, 512, 2, 2, 2])'}\n",
      "torch.Size([8, 512, 2, 2, 2])'}\n",
      "torch.Size([8, 512, 2, 2, 2])'}\n",
      "torch.Size([8, 512, 2, 2, 2])'}\n",
      "torch.Size([8, 512, 2, 2, 2])'}\n",
      "torch.Size([1, 512, 2, 2, 2])'}\n",
      "torch.Size([8, 512, 2, 2, 2])'}\n",
      "torch.Size([8, 512, 2, 2, 2])\n",
      "torch.Size([8, 512, 2, 2, 2])\n",
      "torch.Size([7, 512, 2, 2, 2])\n",
      "torch.Size([8, 512, 2, 2, 2])\n",
      "torch.Size([8, 512, 2, 2, 2])}\n",
      "torch.Size([8, 512, 2, 2, 2])}\n",
      "torch.Size([8, 512, 2, 2, 2])}\n",
      "torch.Size([8, 512, 2, 2, 2])}\n",
      "torch.Size([8, 512, 2, 2, 2])}\n",
      "torch.Size([8, 512, 2, 2, 2])}\n",
      "torch.Size([8, 512, 2, 2, 2])}\n",
      "torch.Size([8, 512, 2, 2, 2])}\n",
      "torch.Size([8, 512, 2, 2, 2])}\n",
      "torch.Size([8, 512, 2, 2, 2])'}\n",
      "torch.Size([8, 512, 2, 2, 2])'}\n",
      "torch.Size([8, 512, 2, 2, 2])'}\n",
      "torch.Size([8, 512, 2, 2, 2])'}\n",
      "torch.Size([8, 512, 2, 2, 2])'}\n",
      "torch.Size([8, 512, 2, 2, 2])'}\n",
      "torch.Size([8, 512, 2, 2, 2])'}\n",
      "torch.Size([8, 512, 2, 2, 2])'}\n",
      "torch.Size([8, 512, 2, 2, 2])'}\n",
      "torch.Size([8, 512, 2, 2, 2])'}\n",
      "torch.Size([8, 512, 2, 2, 2])'}\n",
      "torch.Size([8, 512, 2, 2, 2])'}\n",
      "torch.Size([8, 512, 2, 2, 2])'}\n",
      "torch.Size([8, 512, 2, 2, 2])'}\n",
      "torch.Size([8, 512, 2, 2, 2])'}\n",
      "torch.Size([8, 512, 2, 2, 2])'}\n",
      "torch.Size([8, 512, 2, 2, 2])'}\n",
      "torch.Size([8, 512, 2, 2, 2])'}\n",
      "torch.Size([8, 512, 2, 2, 2])'}\n",
      "torch.Size([8, 512, 2, 2, 2])'}\n",
      "torch.Size([8, 512, 2, 2, 2])'}\n",
      "torch.Size([8, 512, 2, 2, 2])'}\n",
      "torch.Size([8, 512, 2, 2, 2])'}\n",
      "torch.Size([8, 512, 2, 2, 2])'}\n",
      "torch.Size([1, 512, 2, 2, 2])'}\n",
      "torch.Size([8, 512, 2, 2, 2])'}\n",
      "torch.Size([8, 512, 2, 2, 2])\n",
      "torch.Size([8, 512, 2, 2, 2])\n",
      "torch.Size([7, 512, 2, 2, 2])\n"
     ]
    },
    {
     "name": "stderr",
     "output_type": "stream",
     "text": [
      "Metric loss/val improved by 0.001 >= min_delta = 0.0001. New best score: 1.097\n"
     ]
    },
    {
     "name": "stdout",
     "output_type": "stream",
     "text": [
      "torch.Size([8, 512, 2, 2, 2])\n",
      "torch.Size([8, 512, 2, 2, 2])}\n",
      "torch.Size([8, 512, 2, 2, 2])}\n",
      "torch.Size([8, 512, 2, 2, 2])}\n",
      "torch.Size([8, 512, 2, 2, 2])}\n",
      "torch.Size([8, 512, 2, 2, 2])}\n",
      "torch.Size([8, 512, 2, 2, 2])}\n",
      "torch.Size([8, 512, 2, 2, 2])}\n",
      "torch.Size([8, 512, 2, 2, 2])}\n",
      "torch.Size([8, 512, 2, 2, 2])}\n",
      "torch.Size([8, 512, 2, 2, 2])'}\n",
      "torch.Size([8, 512, 2, 2, 2])'}\n",
      "torch.Size([8, 512, 2, 2, 2])'}\n",
      "torch.Size([8, 512, 2, 2, 2])'}\n",
      "torch.Size([8, 512, 2, 2, 2])'}\n",
      "torch.Size([8, 512, 2, 2, 2])'}\n",
      "torch.Size([8, 512, 2, 2, 2])'}\n",
      "torch.Size([8, 512, 2, 2, 2])'}\n",
      "torch.Size([8, 512, 2, 2, 2])'}\n",
      "torch.Size([8, 512, 2, 2, 2])'}\n",
      "torch.Size([8, 512, 2, 2, 2])'}\n",
      "torch.Size([8, 512, 2, 2, 2])'}\n",
      "torch.Size([8, 512, 2, 2, 2])'}\n",
      "torch.Size([8, 512, 2, 2, 2])'}\n",
      "torch.Size([8, 512, 2, 2, 2])'}\n",
      "torch.Size([8, 512, 2, 2, 2])'}\n",
      "torch.Size([8, 512, 2, 2, 2])'}\n",
      "torch.Size([8, 512, 2, 2, 2])'}\n",
      "torch.Size([8, 512, 2, 2, 2])'}\n",
      "torch.Size([8, 512, 2, 2, 2])'}\n",
      "torch.Size([8, 512, 2, 2, 2])'}\n",
      "torch.Size([8, 512, 2, 2, 2])'}\n",
      "torch.Size([8, 512, 2, 2, 2])'}\n",
      "torch.Size([8, 512, 2, 2, 2])'}\n",
      "torch.Size([1, 512, 2, 2, 2])'}\n",
      "torch.Size([8, 512, 2, 2, 2])'}\n",
      "torch.Size([8, 512, 2, 2, 2])\n",
      "torch.Size([8, 512, 2, 2, 2])\n",
      "torch.Size([7, 512, 2, 2, 2])\n"
     ]
    },
    {
     "name": "stderr",
     "output_type": "stream",
     "text": [
      "Metric loss/val improved by 0.001 >= min_delta = 0.0001. New best score: 1.096\n"
     ]
    },
    {
     "name": "stdout",
     "output_type": "stream",
     "text": [
      "torch.Size([8, 512, 2, 2, 2])\n",
      "torch.Size([8, 512, 2, 2, 2])}\n",
      "torch.Size([8, 512, 2, 2, 2])}\n",
      "torch.Size([8, 512, 2, 2, 2])}\n",
      "torch.Size([8, 512, 2, 2, 2])}\n",
      "torch.Size([8, 512, 2, 2, 2])}\n",
      "torch.Size([8, 512, 2, 2, 2])}\n",
      "torch.Size([8, 512, 2, 2, 2])}\n",
      "torch.Size([8, 512, 2, 2, 2])}\n",
      "torch.Size([8, 512, 2, 2, 2])}\n",
      "torch.Size([8, 512, 2, 2, 2])'}\n",
      "torch.Size([8, 512, 2, 2, 2])'}\n",
      "torch.Size([8, 512, 2, 2, 2])'}\n",
      "torch.Size([8, 512, 2, 2, 2])'}\n",
      "torch.Size([8, 512, 2, 2, 2])'}\n",
      "torch.Size([8, 512, 2, 2, 2])'}\n",
      "torch.Size([8, 512, 2, 2, 2])'}\n",
      "torch.Size([8, 512, 2, 2, 2])'}\n",
      "torch.Size([8, 512, 2, 2, 2])'}\n",
      "torch.Size([8, 512, 2, 2, 2])'}\n",
      "torch.Size([8, 512, 2, 2, 2])'}\n",
      "torch.Size([8, 512, 2, 2, 2])'}\n",
      "torch.Size([8, 512, 2, 2, 2])'}\n",
      "torch.Size([8, 512, 2, 2, 2])'}\n",
      "torch.Size([8, 512, 2, 2, 2])'}\n",
      "torch.Size([8, 512, 2, 2, 2])'}\n",
      "torch.Size([8, 512, 2, 2, 2])'}\n",
      "torch.Size([8, 512, 2, 2, 2])'}\n",
      "torch.Size([8, 512, 2, 2, 2])'}\n",
      "torch.Size([8, 512, 2, 2, 2])'}\n",
      "torch.Size([8, 512, 2, 2, 2])'}\n",
      "torch.Size([8, 512, 2, 2, 2])'}\n",
      "torch.Size([8, 512, 2, 2, 2])'}\n",
      "torch.Size([8, 512, 2, 2, 2])'}\n",
      "torch.Size([1, 512, 2, 2, 2])'}\n",
      "torch.Size([8, 512, 2, 2, 2])'}\n",
      "torch.Size([8, 512, 2, 2, 2])\n",
      "torch.Size([8, 512, 2, 2, 2])\n",
      "torch.Size([7, 512, 2, 2, 2])\n"
     ]
    },
    {
     "name": "stderr",
     "output_type": "stream",
     "text": [
      "Metric loss/val improved by 0.001 >= min_delta = 0.0001. New best score: 1.095\n"
     ]
    },
    {
     "name": "stdout",
     "output_type": "stream",
     "text": [
      "torch.Size([8, 512, 2, 2, 2])\n",
      "torch.Size([8, 512, 2, 2, 2])}\n",
      "torch.Size([8, 512, 2, 2, 2])}\n",
      "torch.Size([8, 512, 2, 2, 2])}\n",
      "torch.Size([8, 512, 2, 2, 2])}\n",
      "torch.Size([8, 512, 2, 2, 2])}\n",
      "torch.Size([8, 512, 2, 2, 2])}\n",
      "torch.Size([8, 512, 2, 2, 2])}\n",
      "torch.Size([8, 512, 2, 2, 2])}\n",
      "torch.Size([8, 512, 2, 2, 2])}\n",
      "torch.Size([8, 512, 2, 2, 2])'}\n",
      "torch.Size([8, 512, 2, 2, 2])'}\n",
      "torch.Size([8, 512, 2, 2, 2])'}\n",
      "torch.Size([8, 512, 2, 2, 2])'}\n",
      "torch.Size([8, 512, 2, 2, 2])'}\n",
      "torch.Size([8, 512, 2, 2, 2])'}\n",
      "torch.Size([8, 512, 2, 2, 2])'}\n",
      "torch.Size([8, 512, 2, 2, 2])'}\n",
      "torch.Size([8, 512, 2, 2, 2])'}\n",
      "torch.Size([8, 512, 2, 2, 2])'}\n",
      "torch.Size([8, 512, 2, 2, 2])'}\n",
      "torch.Size([8, 512, 2, 2, 2])'}\n",
      "torch.Size([8, 512, 2, 2, 2])'}\n",
      "torch.Size([8, 512, 2, 2, 2])'}\n",
      "torch.Size([8, 512, 2, 2, 2])'}\n",
      "torch.Size([8, 512, 2, 2, 2])'}\n",
      "torch.Size([8, 512, 2, 2, 2])'}\n",
      "torch.Size([8, 512, 2, 2, 2])'}\n",
      "torch.Size([8, 512, 2, 2, 2])'}\n",
      "torch.Size([8, 512, 2, 2, 2])'}\n",
      "torch.Size([8, 512, 2, 2, 2])'}\n",
      "torch.Size([8, 512, 2, 2, 2])'}\n",
      "torch.Size([8, 512, 2, 2, 2])'}\n",
      "torch.Size([8, 512, 2, 2, 2])'}\n",
      "torch.Size([1, 512, 2, 2, 2])'}\n",
      "torch.Size([8, 512, 2, 2, 2])'}\n",
      "torch.Size([8, 512, 2, 2, 2])\n",
      "torch.Size([8, 512, 2, 2, 2])\n",
      "torch.Size([7, 512, 2, 2, 2])\n"
     ]
    },
    {
     "name": "stderr",
     "output_type": "stream",
     "text": [
      "Metric loss/val improved by 0.002 >= min_delta = 0.0001. New best score: 1.093\n"
     ]
    },
    {
     "name": "stdout",
     "output_type": "stream",
     "text": [
      "torch.Size([8, 512, 2, 2, 2])\n",
      "torch.Size([8, 512, 2, 2, 2])}\n",
      "torch.Size([8, 512, 2, 2, 2])}\n",
      "torch.Size([8, 512, 2, 2, 2])}\n",
      "torch.Size([8, 512, 2, 2, 2])}\n",
      "torch.Size([8, 512, 2, 2, 2])}\n",
      "torch.Size([8, 512, 2, 2, 2])}\n",
      "torch.Size([8, 512, 2, 2, 2])}\n",
      "torch.Size([8, 512, 2, 2, 2])}\n",
      "torch.Size([8, 512, 2, 2, 2])}\n",
      "torch.Size([8, 512, 2, 2, 2])'}\n",
      "torch.Size([8, 512, 2, 2, 2])'}\n",
      "torch.Size([8, 512, 2, 2, 2])'}\n",
      "torch.Size([8, 512, 2, 2, 2])'}\n",
      "torch.Size([8, 512, 2, 2, 2])'}\n",
      "torch.Size([8, 512, 2, 2, 2])'}\n",
      "torch.Size([8, 512, 2, 2, 2])'}\n",
      "torch.Size([8, 512, 2, 2, 2])'}\n",
      "torch.Size([8, 512, 2, 2, 2])'}\n",
      "torch.Size([8, 512, 2, 2, 2])'}\n",
      "torch.Size([8, 512, 2, 2, 2])'}\n",
      "torch.Size([8, 512, 2, 2, 2])'}\n",
      "torch.Size([8, 512, 2, 2, 2])'}\n",
      "torch.Size([8, 512, 2, 2, 2])'}\n",
      "torch.Size([8, 512, 2, 2, 2])'}\n",
      "torch.Size([8, 512, 2, 2, 2])'}\n",
      "torch.Size([8, 512, 2, 2, 2])'}\n",
      "torch.Size([8, 512, 2, 2, 2])'}\n",
      "torch.Size([8, 512, 2, 2, 2])'}\n",
      "torch.Size([8, 512, 2, 2, 2])'}\n",
      "torch.Size([8, 512, 2, 2, 2])'}\n",
      "torch.Size([8, 512, 2, 2, 2])'}\n",
      "torch.Size([8, 512, 2, 2, 2])'}\n",
      "torch.Size([8, 512, 2, 2, 2])'}\n",
      "torch.Size([1, 512, 2, 2, 2])'}\n",
      "torch.Size([8, 512, 2, 2, 2])'}\n",
      "torch.Size([8, 512, 2, 2, 2])\n",
      "torch.Size([8, 512, 2, 2, 2])\n",
      "torch.Size([7, 512, 2, 2, 2])\n",
      "torch.Size([8, 512, 2, 2, 2])\n",
      "torch.Size([8, 512, 2, 2, 2])}\n",
      "torch.Size([8, 512, 2, 2, 2])}\n",
      "torch.Size([8, 512, 2, 2, 2])}\n",
      "torch.Size([8, 512, 2, 2, 2])}\n",
      "torch.Size([8, 512, 2, 2, 2])}\n",
      "torch.Size([8, 512, 2, 2, 2])}\n",
      "torch.Size([8, 512, 2, 2, 2])}\n",
      "torch.Size([8, 512, 2, 2, 2])}\n",
      "torch.Size([8, 512, 2, 2, 2])}\n",
      "torch.Size([8, 512, 2, 2, 2])'}\n",
      "torch.Size([8, 512, 2, 2, 2])'}\n",
      "torch.Size([8, 512, 2, 2, 2])'}\n",
      "torch.Size([8, 512, 2, 2, 2])'}\n",
      "torch.Size([8, 512, 2, 2, 2])'}\n",
      "torch.Size([8, 512, 2, 2, 2])'}\n",
      "torch.Size([8, 512, 2, 2, 2])'}\n",
      "torch.Size([8, 512, 2, 2, 2])'}\n",
      "torch.Size([8, 512, 2, 2, 2])'}\n",
      "torch.Size([8, 512, 2, 2, 2])'}\n",
      "torch.Size([8, 512, 2, 2, 2])'}\n",
      "torch.Size([8, 512, 2, 2, 2])'}\n",
      "torch.Size([8, 512, 2, 2, 2])'}\n",
      "torch.Size([8, 512, 2, 2, 2])'}\n",
      "torch.Size([8, 512, 2, 2, 2])'}\n",
      "torch.Size([8, 512, 2, 2, 2])'}\n",
      "torch.Size([8, 512, 2, 2, 2])'}\n",
      "torch.Size([8, 512, 2, 2, 2])'}\n",
      "torch.Size([8, 512, 2, 2, 2])'}\n",
      "torch.Size([8, 512, 2, 2, 2])'}\n",
      "torch.Size([8, 512, 2, 2, 2])'}\n",
      "torch.Size([8, 512, 2, 2, 2])'}\n",
      "torch.Size([8, 512, 2, 2, 2])'}\n",
      "torch.Size([8, 512, 2, 2, 2])'}\n",
      "torch.Size([1, 512, 2, 2, 2])'}\n",
      "torch.Size([8, 512, 2, 2, 2])'}\n",
      "torch.Size([8, 512, 2, 2, 2])\n",
      "torch.Size([8, 512, 2, 2, 2])\n",
      "torch.Size([7, 512, 2, 2, 2])\n"
     ]
    },
    {
     "name": "stderr",
     "output_type": "stream",
     "text": [
      "Metric loss/val improved by 0.007 >= min_delta = 0.0001. New best score: 1.086\n"
     ]
    },
    {
     "name": "stdout",
     "output_type": "stream",
     "text": [
      "torch.Size([8, 512, 2, 2, 2])\n",
      "torch.Size([8, 512, 2, 2, 2])'}\n",
      "torch.Size([8, 512, 2, 2, 2])'}\n",
      "torch.Size([8, 512, 2, 2, 2])'}\n",
      "torch.Size([8, 512, 2, 2, 2])'}\n",
      "torch.Size([8, 512, 2, 2, 2])'}\n",
      "torch.Size([8, 512, 2, 2, 2])'}\n",
      "torch.Size([8, 512, 2, 2, 2])'}\n",
      "torch.Size([8, 512, 2, 2, 2])'}\n",
      "torch.Size([8, 512, 2, 2, 2])'}\n",
      "torch.Size([8, 512, 2, 2, 2])1'}\n",
      "torch.Size([8, 512, 2, 2, 2])09'}\n",
      "torch.Size([8, 512, 2, 2, 2])09'}\n",
      "torch.Size([8, 512, 2, 2, 2])1'}\n",
      "torch.Size([8, 512, 2, 2, 2])1'}\n",
      "torch.Size([8, 512, 2, 2, 2])1'}\n",
      "torch.Size([8, 512, 2, 2, 2])1'}\n",
      "torch.Size([8, 512, 2, 2, 2])1'}\n",
      "torch.Size([8, 512, 2, 2, 2])1'}\n",
      "torch.Size([8, 512, 2, 2, 2])1'}\n",
      "torch.Size([8, 512, 2, 2, 2])1'}\n",
      "torch.Size([8, 512, 2, 2, 2])1'}\n",
      "torch.Size([8, 512, 2, 2, 2])1'}\n",
      "torch.Size([8, 512, 2, 2, 2])1'}\n",
      "torch.Size([8, 512, 2, 2, 2])1'}\n",
      "torch.Size([8, 512, 2, 2, 2])1'}\n",
      "torch.Size([8, 512, 2, 2, 2])1'}\n",
      "torch.Size([8, 512, 2, 2, 2])1'}\n",
      "torch.Size([8, 512, 2, 2, 2])1'}\n",
      "torch.Size([8, 512, 2, 2, 2])1'}\n",
      "torch.Size([8, 512, 2, 2, 2])1'}\n",
      "torch.Size([8, 512, 2, 2, 2])1'}\n",
      "torch.Size([8, 512, 2, 2, 2])1'}\n",
      "torch.Size([8, 512, 2, 2, 2])1'}\n",
      "torch.Size([1, 512, 2, 2, 2])1'}\n",
      "torch.Size([8, 512, 2, 2, 2])1'}\n",
      "torch.Size([8, 512, 2, 2, 2])\n",
      "torch.Size([8, 512, 2, 2, 2])\n",
      "torch.Size([7, 512, 2, 2, 2])\n",
      "torch.Size([8, 512, 2, 2, 2])\n",
      "torch.Size([8, 512, 2, 2, 2])'}\n",
      "torch.Size([8, 512, 2, 2, 2])'}\n",
      "torch.Size([8, 512, 2, 2, 2])'}\n",
      "torch.Size([8, 512, 2, 2, 2])'}\n",
      "torch.Size([8, 512, 2, 2, 2])'}\n",
      "torch.Size([8, 512, 2, 2, 2])'}\n",
      "torch.Size([8, 512, 2, 2, 2])'}\n",
      "torch.Size([8, 512, 2, 2, 2])'}\n",
      "torch.Size([8, 512, 2, 2, 2])'}\n",
      "torch.Size([8, 512, 2, 2, 2])1'}\n",
      "torch.Size([8, 512, 2, 2, 2])1'}\n",
      "torch.Size([8, 512, 2, 2, 2])1'}\n",
      "torch.Size([8, 512, 2, 2, 2])1'}\n",
      "torch.Size([8, 512, 2, 2, 2])1'}\n",
      "torch.Size([8, 512, 2, 2, 2])1'}\n",
      "torch.Size([8, 512, 2, 2, 2])1'}\n",
      "torch.Size([8, 512, 2, 2, 2])1'}\n",
      "torch.Size([8, 512, 2, 2, 2])1'}\n",
      "torch.Size([8, 512, 2, 2, 2])1'}\n",
      "torch.Size([8, 512, 2, 2, 2])1'}\n",
      "torch.Size([8, 512, 2, 2, 2])1'}\n",
      "torch.Size([8, 512, 2, 2, 2])1'}\n",
      "torch.Size([8, 512, 2, 2, 2])1'}\n",
      "torch.Size([8, 512, 2, 2, 2])1'}\n",
      "torch.Size([8, 512, 2, 2, 2])1'}\n",
      "torch.Size([8, 512, 2, 2, 2])1'}\n",
      "torch.Size([8, 512, 2, 2, 2])1'}\n",
      "torch.Size([8, 512, 2, 2, 2])1'}\n",
      "torch.Size([8, 512, 2, 2, 2])1'}\n",
      "torch.Size([8, 512, 2, 2, 2])1'}\n",
      "torch.Size([8, 512, 2, 2, 2])1'}\n",
      "torch.Size([8, 512, 2, 2, 2])1'}\n",
      "torch.Size([8, 512, 2, 2, 2])1'}\n",
      "torch.Size([1, 512, 2, 2, 2])1'}\n",
      "torch.Size([8, 512, 2, 2, 2])1'}\n",
      "torch.Size([8, 512, 2, 2, 2])\n",
      "torch.Size([8, 512, 2, 2, 2])\n",
      "torch.Size([7, 512, 2, 2, 2])\n",
      "torch.Size([8, 512, 2, 2, 2])\n",
      "torch.Size([8, 512, 2, 2, 2])9'}\n",
      "torch.Size([8, 512, 2, 2, 2])'}\n",
      "torch.Size([8, 512, 2, 2, 2])'}\n",
      "torch.Size([8, 512, 2, 2, 2])'}\n",
      "torch.Size([8, 512, 2, 2, 2])'}\n",
      "torch.Size([8, 512, 2, 2, 2])'}\n",
      "torch.Size([8, 512, 2, 2, 2])9'}\n",
      "torch.Size([8, 512, 2, 2, 2])9'}\n",
      "torch.Size([8, 512, 2, 2, 2])9'}\n",
      "torch.Size([8, 512, 2, 2, 2])09'}\n",
      "torch.Size([8, 512, 2, 2, 2])09'}\n",
      "torch.Size([8, 512, 2, 2, 2])09'}\n",
      "torch.Size([8, 512, 2, 2, 2])09'}\n",
      "torch.Size([8, 512, 2, 2, 2])09'}\n",
      "torch.Size([8, 512, 2, 2, 2])1'}\n",
      "torch.Size([8, 512, 2, 2, 2])09'}\n",
      "torch.Size([8, 512, 2, 2, 2])09'}\n",
      "torch.Size([8, 512, 2, 2, 2])1'}\n",
      "torch.Size([8, 512, 2, 2, 2])09'}\n",
      "torch.Size([8, 512, 2, 2, 2])1'}\n",
      "torch.Size([8, 512, 2, 2, 2])1'}\n",
      "torch.Size([8, 512, 2, 2, 2])1'}\n",
      "torch.Size([8, 512, 2, 2, 2])1'}\n",
      "torch.Size([8, 512, 2, 2, 2])1'}\n",
      "torch.Size([8, 512, 2, 2, 2])1'}\n",
      "torch.Size([8, 512, 2, 2, 2])1'}\n",
      "torch.Size([8, 512, 2, 2, 2])1'}\n",
      "torch.Size([8, 512, 2, 2, 2])1'}\n",
      "torch.Size([8, 512, 2, 2, 2])1'}\n",
      "torch.Size([8, 512, 2, 2, 2])1'}\n",
      "torch.Size([8, 512, 2, 2, 2])1'}\n",
      "torch.Size([8, 512, 2, 2, 2])1'}\n",
      "torch.Size([8, 512, 2, 2, 2])1'}\n",
      "torch.Size([1, 512, 2, 2, 2])1'}\n",
      "torch.Size([8, 512, 2, 2, 2])1'}\n",
      "torch.Size([8, 512, 2, 2, 2])\n",
      "torch.Size([8, 512, 2, 2, 2])\n",
      "torch.Size([7, 512, 2, 2, 2])\n"
     ]
    },
    {
     "name": "stderr",
     "output_type": "stream",
     "text": [
      "Metric loss/val improved by 0.001 >= min_delta = 0.0001. New best score: 1.086\n"
     ]
    },
    {
     "name": "stdout",
     "output_type": "stream",
     "text": [
      "torch.Size([8, 512, 2, 2, 2])\n",
      "torch.Size([8, 512, 2, 2, 2])'}\n",
      "torch.Size([8, 512, 2, 2, 2])'}\n",
      "torch.Size([8, 512, 2, 2, 2])'}\n",
      "torch.Size([8, 512, 2, 2, 2])'}\n",
      "torch.Size([8, 512, 2, 2, 2])'}\n",
      "torch.Size([8, 512, 2, 2, 2])'}\n",
      "torch.Size([8, 512, 2, 2, 2])'}\n",
      "torch.Size([8, 512, 2, 2, 2])'}\n",
      "torch.Size([8, 512, 2, 2, 2])'}\n",
      "torch.Size([8, 512, 2, 2, 2])1'}\n",
      "torch.Size([8, 512, 2, 2, 2])1'}\n",
      "torch.Size([8, 512, 2, 2, 2])1'}\n",
      "torch.Size([8, 512, 2, 2, 2])1'}\n",
      "torch.Size([8, 512, 2, 2, 2])1'}\n",
      "torch.Size([8, 512, 2, 2, 2])1'}\n",
      "torch.Size([8, 512, 2, 2, 2])09'}\n",
      "torch.Size([8, 512, 2, 2, 2])1'}\n",
      "torch.Size([8, 512, 2, 2, 2])1'}\n",
      "torch.Size([8, 512, 2, 2, 2])1'}\n",
      "torch.Size([8, 512, 2, 2, 2])1'}\n",
      "torch.Size([8, 512, 2, 2, 2])1'}\n",
      "torch.Size([8, 512, 2, 2, 2])1'}\n",
      "torch.Size([8, 512, 2, 2, 2])1'}\n",
      "torch.Size([8, 512, 2, 2, 2])1'}\n",
      "torch.Size([8, 512, 2, 2, 2])1'}\n",
      "torch.Size([8, 512, 2, 2, 2])1'}\n",
      "torch.Size([8, 512, 2, 2, 2])1'}\n",
      "torch.Size([8, 512, 2, 2, 2])1'}\n",
      "torch.Size([8, 512, 2, 2, 2])1'}\n",
      "torch.Size([8, 512, 2, 2, 2])1'}\n",
      "torch.Size([8, 512, 2, 2, 2])1'}\n",
      "torch.Size([8, 512, 2, 2, 2])1'}\n",
      "torch.Size([8, 512, 2, 2, 2])1'}\n",
      "torch.Size([1, 512, 2, 2, 2])1'}\n",
      "torch.Size([8, 512, 2, 2, 2])1'}\n",
      "torch.Size([8, 512, 2, 2, 2])\n",
      "torch.Size([8, 512, 2, 2, 2])\n",
      "torch.Size([7, 512, 2, 2, 2])\n"
     ]
    },
    {
     "name": "stderr",
     "output_type": "stream",
     "text": [
      "Metric loss/val improved by 0.000 >= min_delta = 0.0001. New best score: 1.085\n"
     ]
    },
    {
     "name": "stdout",
     "output_type": "stream",
     "text": [
      "torch.Size([8, 512, 2, 2, 2])\n",
      "torch.Size([8, 512, 2, 2, 2])'}\n",
      "torch.Size([8, 512, 2, 2, 2])'}\n",
      "torch.Size([8, 512, 2, 2, 2])'}\n",
      "torch.Size([8, 512, 2, 2, 2])'}\n",
      "torch.Size([8, 512, 2, 2, 2])'}\n",
      "torch.Size([8, 512, 2, 2, 2])'}\n",
      "torch.Size([8, 512, 2, 2, 2])'}\n",
      "torch.Size([8, 512, 2, 2, 2])'}\n",
      "torch.Size([8, 512, 2, 2, 2])9'}\n",
      "torch.Size([8, 512, 2, 2, 2])09'}\n",
      "torch.Size([8, 512, 2, 2, 2])09'}\n",
      "torch.Size([8, 512, 2, 2, 2])09'}\n",
      "torch.Size([8, 512, 2, 2, 2])09'}\n",
      "torch.Size([8, 512, 2, 2, 2])09'}\n",
      "torch.Size([8, 512, 2, 2, 2])09'}\n",
      "torch.Size([8, 512, 2, 2, 2])1'}\n",
      "torch.Size([8, 512, 2, 2, 2])1'}\n",
      "torch.Size([8, 512, 2, 2, 2])1'}\n",
      "torch.Size([8, 512, 2, 2, 2])1'}\n",
      "torch.Size([8, 512, 2, 2, 2])1'}\n",
      "torch.Size([8, 512, 2, 2, 2])1'}\n",
      "torch.Size([8, 512, 2, 2, 2])1'}\n",
      "torch.Size([8, 512, 2, 2, 2])1'}\n",
      "torch.Size([8, 512, 2, 2, 2])1'}\n",
      "torch.Size([8, 512, 2, 2, 2])1'}\n",
      "torch.Size([8, 512, 2, 2, 2])1'}\n",
      "torch.Size([8, 512, 2, 2, 2])1'}\n",
      "torch.Size([8, 512, 2, 2, 2])09'}\n",
      "torch.Size([8, 512, 2, 2, 2])1'}\n",
      "torch.Size([8, 512, 2, 2, 2])1'}\n",
      "torch.Size([8, 512, 2, 2, 2])1'}\n",
      "torch.Size([8, 512, 2, 2, 2])1'}\n",
      "torch.Size([8, 512, 2, 2, 2])1'}\n",
      "torch.Size([1, 512, 2, 2, 2])1'}\n",
      "torch.Size([8, 512, 2, 2, 2])09'}\n",
      "torch.Size([8, 512, 2, 2, 2])\n",
      "torch.Size([8, 512, 2, 2, 2])\n",
      "torch.Size([7, 512, 2, 2, 2])\n"
     ]
    },
    {
     "name": "stderr",
     "output_type": "stream",
     "text": [
      "Metric loss/val improved by 0.005 >= min_delta = 0.0001. New best score: 1.081\n"
     ]
    },
    {
     "name": "stdout",
     "output_type": "stream",
     "text": [
      "torch.Size([8, 512, 2, 2, 2])\n",
      "torch.Size([8, 512, 2, 2, 2])9'}\n",
      "torch.Size([8, 512, 2, 2, 2])9'}\n",
      "torch.Size([8, 512, 2, 2, 2])9'}\n",
      "torch.Size([8, 512, 2, 2, 2])9'}\n",
      "torch.Size([8, 512, 2, 2, 2])9'}\n",
      "torch.Size([8, 512, 2, 2, 2])9'}\n",
      "torch.Size([8, 512, 2, 2, 2])9'}\n",
      "torch.Size([8, 512, 2, 2, 2])9'}\n",
      "torch.Size([8, 512, 2, 2, 2])9'}\n",
      "torch.Size([8, 512, 2, 2, 2])09'}\n",
      "torch.Size([8, 512, 2, 2, 2])09'}\n",
      "torch.Size([8, 512, 2, 2, 2])1'}\n",
      "torch.Size([8, 512, 2, 2, 2])1'}\n",
      "torch.Size([8, 512, 2, 2, 2])1'}\n",
      "torch.Size([8, 512, 2, 2, 2])1'}\n",
      "torch.Size([8, 512, 2, 2, 2])1'}\n",
      "torch.Size([8, 512, 2, 2, 2])1'}\n",
      "torch.Size([8, 512, 2, 2, 2])1'}\n",
      "torch.Size([8, 512, 2, 2, 2])09'}\n",
      "torch.Size([8, 512, 2, 2, 2])1'}\n",
      "torch.Size([8, 512, 2, 2, 2])1'}\n",
      "torch.Size([8, 512, 2, 2, 2])1'}\n",
      "torch.Size([8, 512, 2, 2, 2])11'}\n",
      "torch.Size([8, 512, 2, 2, 2])1'}\n",
      "torch.Size([8, 512, 2, 2, 2])1'}\n",
      "torch.Size([8, 512, 2, 2, 2])11'}\n",
      "torch.Size([8, 512, 2, 2, 2])1'}\n",
      "torch.Size([8, 512, 2, 2, 2])1'}\n",
      "torch.Size([8, 512, 2, 2, 2])1'}\n",
      "torch.Size([8, 512, 2, 2, 2])1'}\n",
      "torch.Size([8, 512, 2, 2, 2])1'}\n",
      "torch.Size([8, 512, 2, 2, 2])1'}\n",
      "torch.Size([8, 512, 2, 2, 2])1'}\n",
      "torch.Size([1, 512, 2, 2, 2])1'}\n",
      "torch.Size([8, 512, 2, 2, 2])1'}\n",
      "torch.Size([8, 512, 2, 2, 2])\n",
      "torch.Size([8, 512, 2, 2, 2])\n",
      "torch.Size([7, 512, 2, 2, 2])\n",
      "torch.Size([8, 512, 2, 2, 2])\n",
      "torch.Size([8, 512, 2, 2, 2])'}\n",
      "torch.Size([8, 512, 2, 2, 2])'}\n",
      "torch.Size([8, 512, 2, 2, 2])'}\n",
      "torch.Size([8, 512, 2, 2, 2])'}\n",
      "torch.Size([8, 512, 2, 2, 2])'}\n",
      "torch.Size([8, 512, 2, 2, 2])'}\n",
      "torch.Size([8, 512, 2, 2, 2])'}\n",
      "torch.Size([8, 512, 2, 2, 2])'}\n",
      "torch.Size([8, 512, 2, 2, 2])'}\n",
      "torch.Size([8, 512, 2, 2, 2])1'}\n",
      "torch.Size([8, 512, 2, 2, 2])1'}\n",
      "torch.Size([8, 512, 2, 2, 2])1'}\n",
      "torch.Size([8, 512, 2, 2, 2])1'}\n",
      "torch.Size([8, 512, 2, 2, 2])1'}\n",
      "torch.Size([8, 512, 2, 2, 2])1'}\n",
      "torch.Size([8, 512, 2, 2, 2])1'}\n",
      "torch.Size([8, 512, 2, 2, 2])1'}\n",
      "torch.Size([8, 512, 2, 2, 2])1'}\n",
      "torch.Size([8, 512, 2, 2, 2])1'}\n",
      "torch.Size([8, 512, 2, 2, 2])1'}\n",
      "torch.Size([8, 512, 2, 2, 2])1'}\n",
      "torch.Size([8, 512, 2, 2, 2])1'}\n",
      "torch.Size([8, 512, 2, 2, 2])1'}\n",
      "torch.Size([8, 512, 2, 2, 2])1'}\n",
      "torch.Size([8, 512, 2, 2, 2])1'}\n",
      "torch.Size([8, 512, 2, 2, 2])1'}\n",
      "torch.Size([8, 512, 2, 2, 2])1'}\n",
      "torch.Size([8, 512, 2, 2, 2])1'}\n",
      "torch.Size([8, 512, 2, 2, 2])1'}\n",
      "torch.Size([8, 512, 2, 2, 2])1'}\n",
      "torch.Size([8, 512, 2, 2, 2])1'}\n",
      "torch.Size([8, 512, 2, 2, 2])1'}\n",
      "torch.Size([8, 512, 2, 2, 2])1'}\n",
      "torch.Size([1, 512, 2, 2, 2])1'}\n",
      "torch.Size([8, 512, 2, 2, 2])1'}\n",
      "torch.Size([8, 512, 2, 2, 2])\n",
      "torch.Size([8, 512, 2, 2, 2])\n",
      "torch.Size([7, 512, 2, 2, 2])\n",
      "torch.Size([8, 512, 2, 2, 2])\n",
      "torch.Size([8, 512, 2, 2, 2])'}\n",
      "torch.Size([8, 512, 2, 2, 2])'}\n",
      "torch.Size([8, 512, 2, 2, 2])'}\n",
      "torch.Size([8, 512, 2, 2, 2])'}\n",
      "torch.Size([8, 512, 2, 2, 2])'}\n",
      "torch.Size([8, 512, 2, 2, 2])'}\n",
      "torch.Size([8, 512, 2, 2, 2])'}\n",
      "torch.Size([8, 512, 2, 2, 2])'}\n",
      "torch.Size([8, 512, 2, 2, 2])'}\n",
      "torch.Size([8, 512, 2, 2, 2])1'}\n",
      "torch.Size([8, 512, 2, 2, 2])1'}\n",
      "torch.Size([8, 512, 2, 2, 2])1'}\n",
      "torch.Size([8, 512, 2, 2, 2])1'}\n",
      "torch.Size([8, 512, 2, 2, 2])1'}\n",
      "torch.Size([8, 512, 2, 2, 2])1'}\n",
      "torch.Size([8, 512, 2, 2, 2])1'}\n",
      "torch.Size([8, 512, 2, 2, 2])1'}\n",
      "torch.Size([8, 512, 2, 2, 2])1'}\n",
      "torch.Size([8, 512, 2, 2, 2])1'}\n",
      "torch.Size([8, 512, 2, 2, 2])1'}\n",
      "torch.Size([8, 512, 2, 2, 2])1'}\n",
      "torch.Size([8, 512, 2, 2, 2])1'}\n",
      "torch.Size([8, 512, 2, 2, 2])1'}\n",
      "torch.Size([8, 512, 2, 2, 2])1'}\n",
      "torch.Size([8, 512, 2, 2, 2])1'}\n",
      "torch.Size([8, 512, 2, 2, 2])1'}\n",
      "torch.Size([8, 512, 2, 2, 2])1'}\n",
      "torch.Size([8, 512, 2, 2, 2])1'}\n",
      "torch.Size([8, 512, 2, 2, 2])1'}\n",
      "torch.Size([8, 512, 2, 2, 2])1'}\n",
      "torch.Size([8, 512, 2, 2, 2])1'}\n",
      "torch.Size([8, 512, 2, 2, 2])1'}\n",
      "torch.Size([8, 512, 2, 2, 2])1'}\n",
      "torch.Size([1, 512, 2, 2, 2])1'}\n",
      "torch.Size([8, 512, 2, 2, 2])1'}\n",
      "torch.Size([8, 512, 2, 2, 2])\n",
      "torch.Size([8, 512, 2, 2, 2])\n",
      "torch.Size([7, 512, 2, 2, 2])\n",
      "torch.Size([8, 512, 2, 2, 2])\n",
      "torch.Size([8, 512, 2, 2, 2])'}\n",
      "torch.Size([8, 512, 2, 2, 2])'}\n",
      "torch.Size([8, 512, 2, 2, 2])'}\n",
      "torch.Size([8, 512, 2, 2, 2])'}\n",
      "torch.Size([8, 512, 2, 2, 2])'}\n",
      "torch.Size([8, 512, 2, 2, 2])'}\n",
      "torch.Size([8, 512, 2, 2, 2])'}\n",
      "torch.Size([8, 512, 2, 2, 2])'}\n",
      "torch.Size([8, 512, 2, 2, 2])'}\n",
      "torch.Size([8, 512, 2, 2, 2])1'}\n",
      "torch.Size([8, 512, 2, 2, 2])1'}\n",
      "torch.Size([8, 512, 2, 2, 2])1'}\n",
      "torch.Size([8, 512, 2, 2, 2])1'}\n",
      "torch.Size([8, 512, 2, 2, 2])1'}\n",
      "torch.Size([8, 512, 2, 2, 2])1'}\n",
      "torch.Size([8, 512, 2, 2, 2])1'}\n",
      "torch.Size([8, 512, 2, 2, 2])1'}\n",
      "torch.Size([8, 512, 2, 2, 2])1'}\n",
      "torch.Size([8, 512, 2, 2, 2])1'}\n",
      "torch.Size([8, 512, 2, 2, 2])1'}\n",
      "torch.Size([8, 512, 2, 2, 2])1'}\n",
      "torch.Size([8, 512, 2, 2, 2])1'}\n",
      "torch.Size([8, 512, 2, 2, 2])1'}\n",
      "torch.Size([8, 512, 2, 2, 2])1'}\n",
      "torch.Size([8, 512, 2, 2, 2])1'}\n",
      "torch.Size([8, 512, 2, 2, 2])1'}\n",
      "torch.Size([8, 512, 2, 2, 2])1'}\n",
      "torch.Size([8, 512, 2, 2, 2])1'}\n",
      "torch.Size([8, 512, 2, 2, 2])1'}\n",
      "torch.Size([8, 512, 2, 2, 2])1'}\n",
      "torch.Size([8, 512, 2, 2, 2])1'}\n",
      "torch.Size([8, 512, 2, 2, 2])1'}\n",
      "torch.Size([8, 512, 2, 2, 2])1'}\n",
      "torch.Size([1, 512, 2, 2, 2])1'}\n",
      "torch.Size([8, 512, 2, 2, 2])1'}\n",
      "torch.Size([8, 512, 2, 2, 2])\n",
      "torch.Size([8, 512, 2, 2, 2])\n",
      "torch.Size([7, 512, 2, 2, 2])\n",
      "torch.Size([8, 512, 2, 2, 2])\n",
      "torch.Size([8, 512, 2, 2, 2])'}\n",
      "torch.Size([8, 512, 2, 2, 2])'}\n",
      "torch.Size([8, 512, 2, 2, 2])'}\n",
      "torch.Size([8, 512, 2, 2, 2])'}\n",
      "torch.Size([8, 512, 2, 2, 2])'}\n",
      "torch.Size([8, 512, 2, 2, 2])'}\n",
      "torch.Size([8, 512, 2, 2, 2])'}\n",
      "torch.Size([8, 512, 2, 2, 2])'}\n",
      "torch.Size([8, 512, 2, 2, 2])'}\n",
      "torch.Size([8, 512, 2, 2, 2])1'}\n",
      "torch.Size([8, 512, 2, 2, 2])1'}\n",
      "torch.Size([8, 512, 2, 2, 2])1'}\n",
      "torch.Size([8, 512, 2, 2, 2])1'}\n",
      "torch.Size([8, 512, 2, 2, 2])1'}\n",
      "torch.Size([8, 512, 2, 2, 2])1'}\n",
      "torch.Size([8, 512, 2, 2, 2])1'}\n",
      "torch.Size([8, 512, 2, 2, 2])1'}\n",
      "torch.Size([8, 512, 2, 2, 2])1'}\n",
      "torch.Size([8, 512, 2, 2, 2])1'}\n",
      "torch.Size([8, 512, 2, 2, 2])1'}\n",
      "torch.Size([8, 512, 2, 2, 2])1'}\n",
      "torch.Size([8, 512, 2, 2, 2])1'}\n",
      "torch.Size([8, 512, 2, 2, 2])1'}\n",
      "torch.Size([8, 512, 2, 2, 2])1'}\n",
      "torch.Size([8, 512, 2, 2, 2])1'}\n",
      "torch.Size([8, 512, 2, 2, 2])1'}\n",
      "torch.Size([8, 512, 2, 2, 2])1'}\n",
      "torch.Size([8, 512, 2, 2, 2])1'}\n",
      "torch.Size([8, 512, 2, 2, 2])1'}\n",
      "torch.Size([8, 512, 2, 2, 2])1'}\n",
      "torch.Size([8, 512, 2, 2, 2])1'}\n",
      "torch.Size([8, 512, 2, 2, 2])1'}\n",
      "torch.Size([8, 512, 2, 2, 2])1'}\n",
      "torch.Size([1, 512, 2, 2, 2])1'}\n",
      "torch.Size([8, 512, 2, 2, 2])1'}\n",
      "torch.Size([8, 512, 2, 2, 2])\n",
      "torch.Size([8, 512, 2, 2, 2])\n",
      "torch.Size([7, 512, 2, 2, 2])\n",
      "torch.Size([8, 512, 2, 2, 2])\n",
      "torch.Size([8, 512, 2, 2, 2])9'}\n",
      "torch.Size([8, 512, 2, 2, 2])'}\n",
      "torch.Size([8, 512, 2, 2, 2])'}\n",
      "torch.Size([8, 512, 2, 2, 2])'}\n",
      "torch.Size([8, 512, 2, 2, 2])'}\n",
      "torch.Size([8, 512, 2, 2, 2])'}\n",
      "torch.Size([8, 512, 2, 2, 2])'}\n",
      "torch.Size([8, 512, 2, 2, 2])'}\n",
      "torch.Size([8, 512, 2, 2, 2])'}\n",
      "torch.Size([8, 512, 2, 2, 2])1'}\n",
      "torch.Size([8, 512, 2, 2, 2])09'}\n",
      "torch.Size([8, 512, 2, 2, 2])09'}\n",
      "torch.Size([8, 512, 2, 2, 2])1'}\n",
      "torch.Size([8, 512, 2, 2, 2])09'}\n",
      "torch.Size([8, 512, 2, 2, 2])09'}\n",
      "torch.Size([8, 512, 2, 2, 2])09'}\n",
      "torch.Size([8, 512, 2, 2, 2])09'}\n",
      "torch.Size([8, 512, 2, 2, 2])09'}\n",
      "torch.Size([8, 512, 2, 2, 2])09'}\n",
      "torch.Size([8, 512, 2, 2, 2])09'}\n",
      "torch.Size([8, 512, 2, 2, 2])09'}\n",
      "torch.Size([8, 512, 2, 2, 2])1'}\n",
      "torch.Size([8, 512, 2, 2, 2])1'}\n",
      "torch.Size([8, 512, 2, 2, 2])1'}\n",
      "torch.Size([8, 512, 2, 2, 2])1'}\n",
      "torch.Size([8, 512, 2, 2, 2])1'}\n",
      "torch.Size([8, 512, 2, 2, 2])09'}\n",
      "torch.Size([8, 512, 2, 2, 2])1'}\n",
      "torch.Size([8, 512, 2, 2, 2])1'}\n",
      "torch.Size([8, 512, 2, 2, 2])1'}\n",
      "torch.Size([8, 512, 2, 2, 2])1'}\n",
      "torch.Size([8, 512, 2, 2, 2])1'}\n",
      "torch.Size([8, 512, 2, 2, 2])1'}\n",
      "torch.Size([1, 512, 2, 2, 2])1'}\n",
      "torch.Size([8, 512, 2, 2, 2])1'}\n",
      "torch.Size([8, 512, 2, 2, 2])\n",
      "torch.Size([8, 512, 2, 2, 2])\n",
      "torch.Size([7, 512, 2, 2, 2])\n",
      "torch.Size([8, 512, 2, 2, 2])\n",
      "Epoch 21 [1/35] {'loss': '1.1'}\r"
     ]
    },
    {
     "name": "stderr",
     "output_type": "stream",
     "text": [
      "IOPub message rate exceeded.\n",
      "The Jupyter server will temporarily stop sending output\n",
      "to the client in order to avoid crashing it.\n",
      "To change this limit, set the config variable\n",
      "`--ServerApp.iopub_msg_rate_limit`.\n",
      "\n",
      "Current values:\n",
      "ServerApp.iopub_msg_rate_limit=1000.0 (msgs/sec)\n",
      "ServerApp.rate_limit_window=3.0 (secs)\n",
      "\n"
     ]
    },
    {
     "name": "stdout",
     "output_type": "stream",
     "text": [
      "Epoch 25 [35/35] {'loss': '0.186'}}\r"
     ]
    },
    {
     "name": "stderr",
     "output_type": "stream",
     "text": [
      "Monitored metric loss/val did not improve in the last 20 records. Best score: 0.968. Signaling Trainer to stop.\n",
      "GPU available: True, used: True\n",
      "TPU available: False, using: 0 TPU cores\n",
      "LOCAL_RANK: 0 - CUDA_VISIBLE_DEVICES: [0]\n",
      "\n",
      "  | Name               | Type             | Params\n",
      "--------------------------------------------------------\n",
      "0 | model              | ResNet           | 33.2 M\n",
      "1 | criteria           | CrossEntropyLoss | 0     \n",
      "2 | valid_metrics      | MetricCollection | 0     \n",
      "3 | valid_dummy_metric | AUROC            | 0     \n",
      "--------------------------------------------------------\n",
      "33.2 M    Trainable params\n",
      "0         Non-trainable params\n",
      "33.2 M    Total params\n",
      "132.646   Total estimated model params size (MB)\n"
     ]
    },
    {
     "name": "stdout",
     "output_type": "stream",
     "text": [
      "Architecture [ResNet] was created\n",
      "***Defined hyperparameters:***\n",
      "\"arch\":                {'name': 'resnet18', 'args': {'num_channels': 1, 'num_classes': 3}}\n",
      "\"checkpoint_path\":     None\n",
      "\"class_weights\":       tensor([1.2466, 0.6500, 1.5167], device='cuda:0')\n",
      "\"hp_metrics\":          ['loss/train', 'loss/val', 'Accuracy/val', 'AUROC/val', 'Precision/val', 'Recall/val', 'Specificity/val']\n",
      "\"loss\":                {'type': 'CrossEntropyLoss', 'args': {'weight': True}}\n",
      "\"optimizer\":           {'type': 'Adam', 'args': {'lr': 0.0001, 'weight_decay': 0, 'amsgrad': False}}\n",
      "\"roi_hparams\":         {'enable': False, 'output_shape': [3, 3, 3], 'boundary_boxes': []}\n",
      "\"weight_distribution\": None\n",
      "Enabled callbacks:  ['LitProgressBar', 'EarlyStopping']\n",
      "Dataloader fold: 2\n",
      "Epoch 1 [35/35] {'loss': '1.04'}\r"
     ]
    },
    {
     "name": "stderr",
     "output_type": "stream",
     "text": [
      "Metric loss/val improved. New best score: 1.454\n"
     ]
    },
    {
     "name": "stdout",
     "output_type": "stream",
     "text": [
      "Epoch 2 [35/35] {'loss': '0.856'}\r"
     ]
    },
    {
     "name": "stderr",
     "output_type": "stream",
     "text": [
      "Metric loss/val improved by 0.110 >= min_delta = 0.0001. New best score: 1.343\n"
     ]
    },
    {
     "name": "stdout",
     "output_type": "stream",
     "text": [
      "Epoch 4 [35/35] {'loss': '0.838'}\r"
     ]
    },
    {
     "name": "stderr",
     "output_type": "stream",
     "text": [
      "Metric loss/val improved by 0.362 >= min_delta = 0.0001. New best score: 0.981\n"
     ]
    },
    {
     "name": "stdout",
     "output_type": "stream",
     "text": [
      "Epoch 24 [35/35] {'loss': '0.194'}}\r"
     ]
    },
    {
     "name": "stderr",
     "output_type": "stream",
     "text": [
      "Monitored metric loss/val did not improve in the last 20 records. Best score: 0.981. Signaling Trainer to stop.\n",
      "GPU available: True, used: True\n",
      "TPU available: False, using: 0 TPU cores\n",
      "LOCAL_RANK: 0 - CUDA_VISIBLE_DEVICES: [0]\n",
      "\n",
      "  | Name               | Type             | Params\n",
      "--------------------------------------------------------\n",
      "0 | model              | ResNet           | 33.2 M\n",
      "1 | criteria           | CrossEntropyLoss | 0     \n",
      "2 | valid_metrics      | MetricCollection | 0     \n",
      "3 | valid_dummy_metric | AUROC            | 0     \n",
      "--------------------------------------------------------\n",
      "33.2 M    Trainable params\n",
      "0         Non-trainable params\n",
      "33.2 M    Total params\n",
      "132.646   Total estimated model params size (MB)\n"
     ]
    },
    {
     "name": "stdout",
     "output_type": "stream",
     "text": [
      "Architecture [ResNet] was created\n",
      "***Defined hyperparameters:***\n",
      "\"arch\":                {'name': 'resnet18', 'args': {'num_channels': 1, 'num_classes': 3}}\n",
      "\"checkpoint_path\":     None\n",
      "\"class_weights\":       tensor([1.2466, 0.6500, 1.5167], device='cuda:0')\n",
      "\"hp_metrics\":          ['loss/train', 'loss/val', 'Accuracy/val', 'AUROC/val', 'Precision/val', 'Recall/val', 'Specificity/val']\n",
      "\"loss\":                {'type': 'CrossEntropyLoss', 'args': {'weight': True}}\n",
      "\"optimizer\":           {'type': 'Adam', 'args': {'lr': 0.0001, 'weight_decay': 0, 'amsgrad': False}}\n",
      "\"roi_hparams\":         {'enable': False, 'output_shape': [3, 3, 3], 'boundary_boxes': []}\n",
      "\"weight_distribution\": None\n",
      "Enabled callbacks:  ['LitProgressBar', 'EarlyStopping']\n",
      "Dataloader fold: 3\n",
      "Epoch 1 [35/35] {'loss': '1.08'}\r"
     ]
    },
    {
     "name": "stderr",
     "output_type": "stream",
     "text": [
      "Metric loss/val improved. New best score: 1.333\n"
     ]
    },
    {
     "name": "stdout",
     "output_type": "stream",
     "text": [
      "Epoch 3 [35/35] {'loss': '0.882'}\r"
     ]
    },
    {
     "name": "stderr",
     "output_type": "stream",
     "text": [
      "Metric loss/val improved by 0.325 >= min_delta = 0.0001. New best score: 1.009\n"
     ]
    },
    {
     "name": "stdout",
     "output_type": "stream",
     "text": [
      "Epoch 6 [35/35] {'loss': '0.555'}\r"
     ]
    },
    {
     "name": "stderr",
     "output_type": "stream",
     "text": [
      "Metric loss/val improved by 0.003 >= min_delta = 0.0001. New best score: 1.006\n"
     ]
    },
    {
     "name": "stdout",
     "output_type": "stream",
     "text": [
      "Epoch 26 [35/35] {'loss': '0.164'}}\r"
     ]
    },
    {
     "name": "stderr",
     "output_type": "stream",
     "text": [
      "Monitored metric loss/val did not improve in the last 20 records. Best score: 1.006. Signaling Trainer to stop.\n",
      "GPU available: True, used: True\n",
      "TPU available: False, using: 0 TPU cores\n",
      "LOCAL_RANK: 0 - CUDA_VISIBLE_DEVICES: [0]\n",
      "\n",
      "  | Name               | Type             | Params\n",
      "--------------------------------------------------------\n",
      "0 | model              | ResNet           | 33.2 M\n",
      "1 | criteria           | CrossEntropyLoss | 0     \n",
      "2 | valid_metrics      | MetricCollection | 0     \n",
      "3 | valid_dummy_metric | AUROC            | 0     \n",
      "--------------------------------------------------------\n",
      "33.2 M    Trainable params\n",
      "0         Non-trainable params\n",
      "33.2 M    Total params\n",
      "132.646   Total estimated model params size (MB)\n"
     ]
    },
    {
     "name": "stdout",
     "output_type": "stream",
     "text": [
      "Architecture [ResNet] was created\n",
      "***Defined hyperparameters:***\n",
      "\"arch\":                {'name': 'resnet18', 'args': {'num_channels': 1, 'num_classes': 3}}\n",
      "\"checkpoint_path\":     None\n",
      "\"class_weights\":       tensor([1.2466, 0.6500, 1.5167], device='cuda:0')\n",
      "\"hp_metrics\":          ['loss/train', 'loss/val', 'Accuracy/val', 'AUROC/val', 'Precision/val', 'Recall/val', 'Specificity/val']\n",
      "\"loss\":                {'type': 'CrossEntropyLoss', 'args': {'weight': True}}\n",
      "\"optimizer\":           {'type': 'Adam', 'args': {'lr': 0.0001, 'weight_decay': 0, 'amsgrad': False}}\n",
      "\"roi_hparams\":         {'enable': False, 'output_shape': [3, 3, 3], 'boundary_boxes': []}\n",
      "\"weight_distribution\": None\n",
      "Enabled callbacks:  ['LitProgressBar', 'EarlyStopping']\n",
      "Dataloader fold: 4\n",
      "Epoch 1 [35/35] {'loss': '1.03'}\r"
     ]
    },
    {
     "name": "stderr",
     "output_type": "stream",
     "text": [
      "Metric loss/val improved. New best score: 1.670\n"
     ]
    },
    {
     "name": "stdout",
     "output_type": "stream",
     "text": [
      "Epoch 2 [35/35] {'loss': '0.818'}\r"
     ]
    },
    {
     "name": "stderr",
     "output_type": "stream",
     "text": [
      "Metric loss/val improved by 0.691 >= min_delta = 0.0001. New best score: 0.979\n"
     ]
    },
    {
     "name": "stdout",
     "output_type": "stream",
     "text": [
      "Epoch 21 [13/35] {'loss': '0.125'}}\r"
     ]
    },
    {
     "name": "stderr",
     "output_type": "stream",
     "text": [
      "IOPub message rate exceeded.\n",
      "The Jupyter server will temporarily stop sending output\n",
      "to the client in order to avoid crashing it.\n",
      "To change this limit, set the config variable\n",
      "`--ServerApp.iopub_msg_rate_limit`.\n",
      "\n",
      "Current values:\n",
      "ServerApp.iopub_msg_rate_limit=1000.0 (msgs/sec)\n",
      "ServerApp.rate_limit_window=3.0 (secs)\n",
      "\n"
     ]
    }
   ],
   "source": [
    "models = ['resnet18_brew2','resnet50','vgg11_brew','vgg16','resnet18','amira_vgg']\n",
    "for name in models:\n",
    "    run_me(name, base_config='base',i_limit=6)"
   ]
  },
  {
   "cell_type": "code",
   "execution_count": null,
   "id": "unusual-newark",
   "metadata": {
    "collapsed": true,
    "jupyter": {
     "outputs_hidden": true
    },
    "tags": []
   },
   "outputs": [
    {
     "name": "stdout",
     "output_type": "stream",
     "text": [
      "***Defined dataloader:***\n",
      "Data directory: data/SPM_categorised/Amira/\n",
      "Dataset sizes - Training: 500 Validation: 56\n",
      "Seed: 420\n",
      "Augmentation: Enabled\n",
      "KFold: Enabled - Fold: 1/10\n",
      "\n",
      "Architecture [amira_vgg] was created\n",
      "***Defined hyperparameters:***\n",
      "\"arch\":                {'name': 'amira_vgg', 'args': {'num_channels': 1, 'num_classes': 3}}\n",
      "\"checkpoint_path\":     None\n",
      "\"class_weights\":       tensor([1.1905, 0.9259, 0.9259], device='cuda:0')\n",
      "\"hp_metrics\":          ['loss/train', 'loss/val', 'Accuracy/val', 'AUROC/val', 'Precision/val', 'Recall/val', 'Specificity/val']\n",
      "\"loss\":                {'type': 'CrossEntropyLoss', 'args': {'weight': True}}\n",
      "\"optimizer\":           {'type': 'Adam', 'args': {'lr': 0.0001, 'weight_decay': 0, 'amsgrad': True}}\n",
      "\"roi_hparams\":         {'enable': False, 'output_shape': [3, 3, 3], 'boundary_boxes': []}\n",
      "\"weight_distribution\": normal\n"
     ]
    },
    {
     "name": "stderr",
     "output_type": "stream",
     "text": [
      "/home/stud/f/fremar16/miniconda3/envs/Master-thesis/lib/python3.9/site-packages/torchmetrics/utilities/prints.py:36: UserWarning: Metric `AUROC` will save all targets and predictions in buffer. For large datasets this may lead to large memory footprint.\n",
      "  warnings.warn(*args, **kwargs)\n",
      "GPU available: True, used: True\n",
      "TPU available: False, using: 0 TPU cores\n",
      "Missing logger folder: /var/metrics/codetests/logs/tb/amira_vgg/20210518170258\n",
      "LOCAL_RANK: 0 - CUDA_VISIBLE_DEVICES: [0]\n",
      "\n",
      "  | Name               | Type             | Params\n",
      "--------------------------------------------------------\n",
      "0 | model              | amira_vgg        | 37.0 M\n",
      "1 | criteria           | CrossEntropyLoss | 0     \n",
      "2 | train_metrics      | MetricCollection | 0     \n",
      "3 | valid_metrics      | MetricCollection | 0     \n",
      "4 | valid_dummy_metric | AUROC            | 0     \n",
      "--------------------------------------------------------\n",
      "37.0 M    Trainable params\n",
      "0         Non-trainable params\n",
      "37.0 M    Total params\n",
      "148.174   Total estimated model params size (MB)\n"
     ]
    },
    {
     "name": "stdout",
     "output_type": "stream",
     "text": [
      "Enabled callbacks:  ['LitProgressBar']\n",
      "Dataloader fold: 1\n",
      "Architecture [amira_vgg] was created\n",
      "***Defined hyperparameters:***\n",
      "\"arch\":                {'name': 'amira_vgg', 'args': {'num_channels': 1, 'num_classes': 3}}\n",
      "\"checkpoint_path\":     None\n",
      "\"class_weights\":       tensor([1.1905, 0.9259, 0.9259], device='cuda:0')\n",
      "\"hp_metrics\":          ['loss/train', 'loss/val', 'Accuracy/val', 'AUROC/val', 'Precision/val', 'Recall/val', 'Specificity/val']\n",
      "\"loss\":                {'type': 'CrossEntropyLoss', 'args': {'weight': True}}\n",
      "\"optimizer\":           {'type': 'Adam', 'args': {'lr': 0.0001, 'weight_decay': 0, 'amsgrad': True}}\n",
      "\"roi_hparams\":         {'enable': False, 'output_shape': [3, 3, 3], 'boundary_boxes': []}\n",
      "\"weight_distribution\": normal\n"
     ]
    },
    {
     "name": "stderr",
     "output_type": "stream",
     "text": [
      "GPU available: True, used: True\n",
      "TPU available: False, using: 0 TPU cores\n",
      "LOCAL_RANK: 0 - CUDA_VISIBLE_DEVICES: [0]\n",
      "\n",
      "  | Name               | Type             | Params\n",
      "--------------------------------------------------------\n",
      "0 | model              | amira_vgg        | 37.0 M\n",
      "1 | criteria           | CrossEntropyLoss | 0     \n",
      "2 | train_metrics      | MetricCollection | 0     \n",
      "3 | valid_metrics      | MetricCollection | 0     \n",
      "4 | valid_dummy_metric | AUROC            | 0     \n",
      "--------------------------------------------------------\n",
      "37.0 M    Trainable params\n",
      "0         Non-trainable params\n",
      "37.0 M    Total params\n",
      "148.174   Total estimated model params size (MB)\n"
     ]
    },
    {
     "name": "stdout",
     "output_type": "stream",
     "text": [
      "Enabled callbacks:  ['LitProgressBar']\n",
      "Dataloader fold: 2\n",
      "Architecture [amira_vgg] was created\n",
      "***Defined hyperparameters:***\n",
      "\"arch\":                {'name': 'amira_vgg', 'args': {'num_channels': 1, 'num_classes': 3}}\n",
      "\"checkpoint_path\":     None\n",
      "\"class_weights\":       tensor([1.1905, 0.9259, 0.9259], device='cuda:0')\n",
      "\"hp_metrics\":          ['loss/train', 'loss/val', 'Accuracy/val', 'AUROC/val', 'Precision/val', 'Recall/val', 'Specificity/val']\n",
      "\"loss\":                {'type': 'CrossEntropyLoss', 'args': {'weight': True}}\n",
      "\"optimizer\":           {'type': 'Adam', 'args': {'lr': 0.0001, 'weight_decay': 0, 'amsgrad': True}}\n",
      "\"roi_hparams\":         {'enable': False, 'output_shape': [3, 3, 3], 'boundary_boxes': []}\n",
      "\"weight_distribution\": normal\n"
     ]
    },
    {
     "name": "stderr",
     "output_type": "stream",
     "text": [
      "GPU available: True, used: True\n",
      "TPU available: False, using: 0 TPU cores\n",
      "LOCAL_RANK: 0 - CUDA_VISIBLE_DEVICES: [0]\n",
      "\n",
      "  | Name               | Type             | Params\n",
      "--------------------------------------------------------\n",
      "0 | model              | amira_vgg        | 37.0 M\n",
      "1 | criteria           | CrossEntropyLoss | 0     \n",
      "2 | train_metrics      | MetricCollection | 0     \n",
      "3 | valid_metrics      | MetricCollection | 0     \n",
      "4 | valid_dummy_metric | AUROC            | 0     \n",
      "--------------------------------------------------------\n",
      "37.0 M    Trainable params\n",
      "0         Non-trainable params\n",
      "37.0 M    Total params\n",
      "148.174   Total estimated model params size (MB)\n"
     ]
    },
    {
     "name": "stdout",
     "output_type": "stream",
     "text": [
      "Enabled callbacks:  ['LitProgressBar']\n",
      "Dataloader fold: 3\n",
      "Architecture [amira_vgg] was created\n",
      "***Defined hyperparameters:***\n",
      "\"arch\":                {'name': 'amira_vgg', 'args': {'num_channels': 1, 'num_classes': 3}}\n",
      "\"checkpoint_path\":     None\n",
      "\"class_weights\":       tensor([1.1905, 0.9259, 0.9259], device='cuda:0')\n",
      "\"hp_metrics\":          ['loss/train', 'loss/val', 'Accuracy/val', 'AUROC/val', 'Precision/val', 'Recall/val', 'Specificity/val']\n",
      "\"loss\":                {'type': 'CrossEntropyLoss', 'args': {'weight': True}}\n",
      "\"optimizer\":           {'type': 'Adam', 'args': {'lr': 0.0001, 'weight_decay': 0, 'amsgrad': True}}\n",
      "\"roi_hparams\":         {'enable': False, 'output_shape': [3, 3, 3], 'boundary_boxes': []}\n",
      "\"weight_distribution\": normal\n"
     ]
    },
    {
     "name": "stderr",
     "output_type": "stream",
     "text": [
      "GPU available: True, used: True\n",
      "TPU available: False, using: 0 TPU cores\n",
      "LOCAL_RANK: 0 - CUDA_VISIBLE_DEVICES: [0]\n",
      "\n",
      "  | Name               | Type             | Params\n",
      "--------------------------------------------------------\n",
      "0 | model              | amira_vgg        | 37.0 M\n",
      "1 | criteria           | CrossEntropyLoss | 0     \n",
      "2 | train_metrics      | MetricCollection | 0     \n",
      "3 | valid_metrics      | MetricCollection | 0     \n",
      "4 | valid_dummy_metric | AUROC            | 0     \n",
      "--------------------------------------------------------\n",
      "37.0 M    Trainable params\n",
      "0         Non-trainable params\n",
      "37.0 M    Total params\n",
      "148.174   Total estimated model params size (MB)\n"
     ]
    },
    {
     "name": "stdout",
     "output_type": "stream",
     "text": [
      "Enabled callbacks:  ['LitProgressBar']\n",
      "Dataloader fold: 4\n",
      "Architecture [amira_vgg] was created\n",
      "***Defined hyperparameters:***\n",
      "\"arch\":                {'name': 'amira_vgg', 'args': {'num_channels': 1, 'num_classes': 3}}\n",
      "\"checkpoint_path\":     None\n",
      "\"class_weights\":       tensor([1.1905, 0.9259, 0.9259], device='cuda:0')\n",
      "\"hp_metrics\":          ['loss/train', 'loss/val', 'Accuracy/val', 'AUROC/val', 'Precision/val', 'Recall/val', 'Specificity/val']\n",
      "\"loss\":                {'type': 'CrossEntropyLoss', 'args': {'weight': True}}\n",
      "\"optimizer\":           {'type': 'Adam', 'args': {'lr': 0.0001, 'weight_decay': 0, 'amsgrad': True}}\n",
      "\"roi_hparams\":         {'enable': False, 'output_shape': [3, 3, 3], 'boundary_boxes': []}\n",
      "\"weight_distribution\": normal\n"
     ]
    },
    {
     "name": "stderr",
     "output_type": "stream",
     "text": [
      "GPU available: True, used: True\n",
      "TPU available: False, using: 0 TPU cores\n",
      "LOCAL_RANK: 0 - CUDA_VISIBLE_DEVICES: [0]\n",
      "\n",
      "  | Name               | Type             | Params\n",
      "--------------------------------------------------------\n",
      "0 | model              | amira_vgg        | 37.0 M\n",
      "1 | criteria           | CrossEntropyLoss | 0     \n",
      "2 | train_metrics      | MetricCollection | 0     \n",
      "3 | valid_metrics      | MetricCollection | 0     \n",
      "4 | valid_dummy_metric | AUROC            | 0     \n",
      "--------------------------------------------------------\n",
      "37.0 M    Trainable params\n",
      "0         Non-trainable params\n",
      "37.0 M    Total params\n",
      "148.174   Total estimated model params size (MB)\n"
     ]
    },
    {
     "name": "stdout",
     "output_type": "stream",
     "text": [
      "Enabled callbacks:  ['LitProgressBar']\n",
      "Dataloader fold: 5\n",
      "Epoch 22 [14/84] {'loss': '1.04'}}\r"
     ]
    }
   ],
   "source": [
    "models = ['amira_vgg']\n",
    "for name in models:\n",
    "    run_me(name, base_config='base',i_limit=6)"
   ]
  },
  {
   "cell_type": "code",
   "execution_count": null,
   "id": "steady-forest",
   "metadata": {},
   "outputs": [],
   "source": []
  }
 ],
 "metadata": {
  "kernelspec": {
   "display_name": "Master-thesis",
   "language": "python",
   "name": "master-thesis"
  },
  "language_info": {
   "codemirror_mode": {
    "name": "ipython",
    "version": 3
   },
   "file_extension": ".py",
   "mimetype": "text/x-python",
   "name": "python",
   "nbconvert_exporter": "python",
   "pygments_lexer": "ipython3",
   "version": "3.9.2"
  },
  "widgets": {
   "application/vnd.jupyter.widget-state+json": {
    "state": {},
    "version_major": 2,
    "version_minor": 0
   }
  }
 },
 "nbformat": 4,
 "nbformat_minor": 5
}
